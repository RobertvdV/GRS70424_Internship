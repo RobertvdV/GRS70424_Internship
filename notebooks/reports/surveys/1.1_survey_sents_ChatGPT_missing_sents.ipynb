{
 "cells": [
  {
   "cell_type": "code",
   "execution_count": 1,
   "metadata": {},
   "outputs": [],
   "source": [
    "import pandas as pd\n",
    "import numpy as np\n",
    "import seaborn as sns\n",
    "import matplotlib.pyplot as plt\n",
    "import matplotlib as mpl\n",
    "import glob\n",
    "import json\n",
    "import csv\n",
    "import collections"
   ]
  },
  {
   "cell_type": "code",
   "execution_count": 2,
   "metadata": {},
   "outputs": [],
   "source": [
    "def create_clean_paragraphs(input_dict):\n",
    "\n",
    "    # Create a new dictionary to store the cleaned-up values\n",
    "    output_dict = {}\n",
    "    \n",
    "    # Loop through the keys and values of the input dictionary\n",
    "    for key, value in input_dict.items():\n",
    "        # Convert the list of values to a set to remove duplicates\n",
    "        unique_values = set(value)\n",
    "        \n",
    "        # Join the sentences together into a single string\n",
    "        combined_string = ' '.join(unique_values)\n",
    "        \n",
    "        # Add the cleaned-up string to the output dictionary\n",
    "        output_dict[key] = combined_string\n",
    "    \n",
    "    # Return the cleaned-up dictionary\n",
    "    return output_dict"
   ]
  },
  {
   "cell_type": "code",
   "execution_count": 3,
   "metadata": {},
   "outputs": [],
   "source": [
    "folder_survey = \"../../../data/surveys/\"\n",
    "file = \"df_survey_result.csv\"\n",
    "df = pd.read_csv(F\"{folder_survey}{file}\")\n",
    "df = df.set_index(\"Species\")"
   ]
  },
  {
   "attachments": {},
   "cell_type": "markdown",
   "metadata": {},
   "source": [
    "### Caribbean"
   ]
  },
  {
   "cell_type": "code",
   "execution_count": 4,
   "metadata": {},
   "outputs": [],
   "source": [
    "paragraph_folder = \"../../../data/OpenAI/DescriptionSnippets/Paragraphs/\"\n",
    "sentence_folder = \"../../../data/OpenAI/DescriptionSnippets/Sentences/\"\n",
    "\n",
    "caribbean_jsons_paras = glob.glob(F\"{paragraph_folder}c*\")\n",
    "caribbean_jsons_sents = glob.glob(F\"{sentence_folder}c*\")\n",
    "\n",
    "caribbean_jsons_paras.sort()\n",
    "caribbean_jsons_sents.sort()"
   ]
  },
  {
   "cell_type": "code",
   "execution_count": 5,
   "metadata": {},
   "outputs": [],
   "source": [
    "caribbean_species_text_dict = collections.defaultdict(list)\n",
    "\n",
    "for json_file in caribbean_jsons_paras:\n",
    "    with open(json_file, 'r') as f:\n",
    "        caribbean_species_paragraph = json.load(f)\n",
    "\n",
    "        try:\n",
    "            species = list(caribbean_species_paragraph.keys())[0]\n",
    "            text = \" \".join(caribbean_species_paragraph[species])\n",
    "            caribbean_species_text_dict[species] = text\n",
    "        except:\n",
    "            continue"
   ]
  },
  {
   "cell_type": "code",
   "execution_count": 6,
   "metadata": {},
   "outputs": [],
   "source": [
    "folder_prompt_results = \"../../../data/OpenAI/PromptsAnalysesData/OriginalData/\"\n",
    "\n",
    "df_Andrei_ChatGPT = pd.read_csv(F\"{folder_prompt_results}caribbean_df_orig_ChatGPT.csv\",\n",
    "                                header=[0, 1],\n",
    "                                index_col=0)\n",
    "df_Andrei_GT = pd.read_csv(F\"{folder_prompt_results}caribbean_df_orig_GT.csv\",\n",
    "                           header=[0, 1],\n",
    "                           index_col=0)"
   ]
  },
  {
   "cell_type": "code",
   "execution_count": 7,
   "metadata": {},
   "outputs": [],
   "source": [
    "missing_traits_dict = {}\n",
    "\n",
    "# Loop over each row in the DataFrame\n",
    "for index, row in df_Andrei_ChatGPT.iterrows():\n",
    "    # Get the column names where the row contains a NaN value\n",
    "    nan_columns = row.index[row.isna()]\n",
    "    # Add the index and nan_columns to the result dictionary\n",
    "    missing_traits_dict[index] = nan_columns.get_level_values(0).unique().tolist()"
   ]
  },
  {
   "cell_type": "code",
   "execution_count": 8,
   "metadata": {},
   "outputs": [],
   "source": [
    "survey_result = []\n",
    "\n",
    "for species, traits in missing_traits_dict.items():\n",
    "    for trait in traits:\n",
    "        res = df[(df.index == species) &\n",
    "                 (df[\"Main Trait\"] == trait)][[\"Sentence\",'Result']].values\n",
    "        if res.any():\n",
    "            for r in res:\n",
    "                survey_result.append((species, trait, *r))\n",
    "\n",
    "df_missing = pd.DataFrame(survey_result, columns=['Species', 'Trait', 'Sentence', 'Result'])        "
   ]
  },
  {
   "cell_type": "code",
   "execution_count": 12,
   "metadata": {},
   "outputs": [
    {
     "data": {
      "text/plain": [
       "array(['Can infer correct Entity', 'None of the above',\n",
       "       'Can infer correct Value', 'Can infer correct Quality'],\n",
       "      dtype=object)"
      ]
     },
     "execution_count": 12,
     "metadata": {},
     "output_type": "execute_result"
    }
   ],
   "source": [
    "df['Result'].unique()"
   ]
  },
  {
   "cell_type": "code",
   "execution_count": 9,
   "metadata": {},
   "outputs": [
    {
     "data": {
      "text/html": [
       "<div>\n",
       "<style scoped>\n",
       "    .dataframe tbody tr th:only-of-type {\n",
       "        vertical-align: middle;\n",
       "    }\n",
       "\n",
       "    .dataframe tbody tr th {\n",
       "        vertical-align: top;\n",
       "    }\n",
       "\n",
       "    .dataframe thead th {\n",
       "        text-align: right;\n",
       "    }\n",
       "</style>\n",
       "<table border=\"1\" class=\"dataframe\">\n",
       "  <thead>\n",
       "    <tr style=\"text-align: right;\">\n",
       "      <th></th>\n",
       "      <th>Species</th>\n",
       "      <th>Trait</th>\n",
       "      <th>Sentence</th>\n",
       "      <th>Result</th>\n",
       "    </tr>\n",
       "  </thead>\n",
       "  <tbody>\n",
       "    <tr>\n",
       "      <th>0</th>\n",
       "      <td>Bourreria succulenta</td>\n",
       "      <td>Leaf glands</td>\n",
       "      <td>Leaf blades 5-15 x 4-8 cm, elliptic, oblong, o...</td>\n",
       "      <td>Can infer correct Value</td>\n",
       "    </tr>\n",
       "    <tr>\n",
       "      <th>1</th>\n",
       "      <td>Bourreria succulenta</td>\n",
       "      <td>Leaf glands</td>\n",
       "      <td>Leaf stems are yellow-green.</td>\n",
       "      <td>None of the above</td>\n",
       "    </tr>\n",
       "  </tbody>\n",
       "</table>\n",
       "</div>"
      ],
      "text/plain": [
       "                Species        Trait  \\\n",
       "0  Bourreria succulenta  Leaf glands   \n",
       "1  Bourreria succulenta  Leaf glands   \n",
       "\n",
       "                                            Sentence                   Result  \n",
       "0  Leaf blades 5-15 x 4-8 cm, elliptic, oblong, o...  Can infer correct Value  \n",
       "1                       Leaf stems are yellow-green.        None of the above  "
      ]
     },
     "execution_count": 9,
     "metadata": {},
     "output_type": "execute_result"
    }
   ],
   "source": [
    "df_missing"
   ]
  },
  {
   "cell_type": "code",
   "execution_count": 10,
   "metadata": {},
   "outputs": [
    {
     "data": {
      "text/html": [
       "<div>\n",
       "<style scoped>\n",
       "    .dataframe tbody tr th:only-of-type {\n",
       "        vertical-align: middle;\n",
       "    }\n",
       "\n",
       "    .dataframe tbody tr th {\n",
       "        vertical-align: top;\n",
       "    }\n",
       "\n",
       "    .dataframe thead th {\n",
       "        text-align: right;\n",
       "    }\n",
       "</style>\n",
       "<table border=\"1\" class=\"dataframe\">\n",
       "  <thead>\n",
       "    <tr style=\"text-align: right;\">\n",
       "      <th></th>\n",
       "      <th></th>\n",
       "      <th></th>\n",
       "      <th>Sentence</th>\n",
       "    </tr>\n",
       "    <tr>\n",
       "      <th>Species</th>\n",
       "      <th>Trait</th>\n",
       "      <th>Result</th>\n",
       "      <th></th>\n",
       "    </tr>\n",
       "  </thead>\n",
       "  <tbody>\n",
       "    <tr>\n",
       "      <th rowspan=\"2\" valign=\"top\">Bourreria succulenta</th>\n",
       "      <th rowspan=\"2\" valign=\"top\">Leaf glands</th>\n",
       "      <th>Can infer correct Value</th>\n",
       "      <td>1</td>\n",
       "    </tr>\n",
       "    <tr>\n",
       "      <th>None of the above</th>\n",
       "      <td>1</td>\n",
       "    </tr>\n",
       "  </tbody>\n",
       "</table>\n",
       "</div>"
      ],
      "text/plain": [
       "                                                          Sentence\n",
       "Species              Trait       Result                           \n",
       "Bourreria succulenta Leaf glands Can infer correct Value         1\n",
       "                                 None of the above               1"
      ]
     },
     "execution_count": 10,
     "metadata": {},
     "output_type": "execute_result"
    }
   ],
   "source": [
    "df_missing.groupby(['Species', 'Trait', 'Result']).count()"
   ]
  }
 ],
 "metadata": {
  "kernelspec": {
   "display_name": "venv",
   "language": "python",
   "name": "python3"
  },
  "language_info": {
   "codemirror_mode": {
    "name": "ipython",
    "version": 3
   },
   "file_extension": ".py",
   "mimetype": "text/x-python",
   "name": "python",
   "nbconvert_exporter": "python",
   "pygments_lexer": "ipython3",
   "version": "3.9.16"
  },
  "orig_nbformat": 4
 },
 "nbformat": 4,
 "nbformat_minor": 2
}
