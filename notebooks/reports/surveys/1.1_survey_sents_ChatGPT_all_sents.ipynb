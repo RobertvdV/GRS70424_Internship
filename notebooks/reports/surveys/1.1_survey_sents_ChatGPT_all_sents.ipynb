{
 "cells": [
  {
   "cell_type": "code",
   "execution_count": 1,
   "metadata": {},
   "outputs": [],
   "source": [
    "import pandas as pd\n",
    "import openai\n",
    "import pandas as pd\n",
    "import numpy as np\n",
    "import glob\n",
    "from tqdm import tqdm\n",
    "import json\n",
    "import os\n",
    "from dotenv import load_dotenv\n",
    "import time"
   ]
  },
  {
   "cell_type": "code",
   "execution_count": 2,
   "metadata": {},
   "outputs": [],
   "source": [
    "load_dotenv()\n",
    "openai.api_key = os.environ['OPENAI_API']"
   ]
  },
  {
   "cell_type": "code",
   "execution_count": 3,
   "metadata": {},
   "outputs": [],
   "source": [
    "def create_clean_paragraphs(input_dict):\n",
    "\n",
    "    # Create a new dictionary to store the cleaned-up values\n",
    "    output_dict = {}\n",
    "    \n",
    "    # Loop through the keys and values of the input dictionary\n",
    "    for key, value in input_dict.items():\n",
    "        # Convert the list of values to a set to remove duplicates\n",
    "        unique_values = set(value)\n",
    "        \n",
    "        # Join the sentences together into a single string\n",
    "        combined_string = ' '.join(unique_values)\n",
    "        \n",
    "        # Add the cleaned-up string to the output dictionary\n",
    "        output_dict[key] = combined_string\n",
    "    \n",
    "    # Return the cleaned-up dictionary\n",
    "    return output_dict"
   ]
  },
  {
   "cell_type": "code",
   "execution_count": 4,
   "metadata": {},
   "outputs": [],
   "source": [
    "folder_survey = \"../../../data/surveys/\"\n",
    "file = \"df_survey_result.csv\"\n",
    "df = pd.read_csv(F\"{folder_survey}{file}\")\n",
    "# df = df.set_index(\"Species\")\n",
    "df = df.iloc[: , 1:]\n",
    "# df = df.reset_index()"
   ]
  },
  {
   "attachments": {},
   "cell_type": "markdown",
   "metadata": {},
   "source": [
    "### Caribbean"
   ]
  },
  {
   "cell_type": "code",
   "execution_count": 5,
   "metadata": {},
   "outputs": [
    {
     "data": {
      "text/html": [
       "<div>\n",
       "<style scoped>\n",
       "    .dataframe tbody tr th:only-of-type {\n",
       "        vertical-align: middle;\n",
       "    }\n",
       "\n",
       "    .dataframe tbody tr th {\n",
       "        vertical-align: top;\n",
       "    }\n",
       "\n",
       "    .dataframe thead th {\n",
       "        text-align: right;\n",
       "    }\n",
       "</style>\n",
       "<table border=\"1\" class=\"dataframe\">\n",
       "  <thead>\n",
       "    <tr style=\"text-align: right;\">\n",
       "      <th></th>\n",
       "      <th>Species</th>\n",
       "      <th>Main Trait</th>\n",
       "      <th>SIM</th>\n",
       "      <th>Dataset</th>\n",
       "      <th>Sentence</th>\n",
       "      <th>Result</th>\n",
       "    </tr>\n",
       "  </thead>\n",
       "  <tbody>\n",
       "    <tr>\n",
       "      <th>396</th>\n",
       "      <td>Bursera simaruba</td>\n",
       "      <td>Leaf glands</td>\n",
       "      <td>Jacc</td>\n",
       "      <td>Caribbean</td>\n",
       "      <td>Leaf venation: brachidodrome, pinnate.</td>\n",
       "      <td>Can infer correct Entity</td>\n",
       "    </tr>\n",
       "    <tr>\n",
       "      <th>397</th>\n",
       "      <td>Bursera simaruba</td>\n",
       "      <td>Leaf rachis</td>\n",
       "      <td>Jacc</td>\n",
       "      <td>Caribbean</td>\n",
       "      <td>Leaf venation: brachidodrome, pinnate.</td>\n",
       "      <td>Can infer correct Entity</td>\n",
       "    </tr>\n",
       "    <tr>\n",
       "      <th>398</th>\n",
       "      <td>Crossopetalum rhacoma</td>\n",
       "      <td>Fruit type</td>\n",
       "      <td>Jacc</td>\n",
       "      <td>Caribbean</td>\n",
       "      <td>Fruit a drupe, seed exarillate.</td>\n",
       "      <td>Can infer correct Quality</td>\n",
       "    </tr>\n",
       "    <tr>\n",
       "      <th>399</th>\n",
       "      <td>Randia aculeata</td>\n",
       "      <td>Leaf margin</td>\n",
       "      <td>Bert</td>\n",
       "      <td>Caribbean</td>\n",
       "      <td>Leaf margin: entire.</td>\n",
       "      <td>Can infer correct Value</td>\n",
       "    </tr>\n",
       "    <tr>\n",
       "      <th>400</th>\n",
       "      <td>Vachellia tortuosa</td>\n",
       "      <td>Leaf upper side</td>\n",
       "      <td>Jacc</td>\n",
       "      <td>Caribbean</td>\n",
       "      <td>Glands are usually present on the rachis and t...</td>\n",
       "      <td>None of the above</td>\n",
       "    </tr>\n",
       "    <tr>\n",
       "      <th>401</th>\n",
       "      <td>Pithecellobium unguis-cati</td>\n",
       "      <td>Leaf position</td>\n",
       "      <td>Jacc</td>\n",
       "      <td>Caribbean</td>\n",
       "      <td>Alternate hairless leaves have petioles 2 to 5...</td>\n",
       "      <td>Can infer correct Value</td>\n",
       "    </tr>\n",
       "    <tr>\n",
       "      <th>402</th>\n",
       "      <td>Libidibia coriaria</td>\n",
       "      <td>Leaf rachis</td>\n",
       "      <td>Jacc</td>\n",
       "      <td>Caribbean</td>\n",
       "      <td>Perennial, Not climbing, Shrub/Tree.</td>\n",
       "      <td>None of the above</td>\n",
       "    </tr>\n",
       "    <tr>\n",
       "      <th>403</th>\n",
       "      <td>Guaiacum officinale</td>\n",
       "      <td>Fruit colour</td>\n",
       "      <td>Bert</td>\n",
       "      <td>Caribbean</td>\n",
       "      <td>Mature: Light Green to Medium Bright Green.</td>\n",
       "      <td>None of the above</td>\n",
       "    </tr>\n",
       "    <tr>\n",
       "      <th>404</th>\n",
       "      <td>Avicennia germinans</td>\n",
       "      <td>Seed colour</td>\n",
       "      <td>Jacc</td>\n",
       "      <td>Caribbean</td>\n",
       "      <td>Seed 1, large, flattened, often germinating on...</td>\n",
       "      <td>Can infer correct Entity</td>\n",
       "    </tr>\n",
       "    <tr>\n",
       "      <th>405</th>\n",
       "      <td>Schoepfia schreberi</td>\n",
       "      <td>Fruit shape</td>\n",
       "      <td>Bert</td>\n",
       "      <td>Caribbean</td>\n",
       "      <td>Spurious fruit ellipsoid, 10-13 mm.</td>\n",
       "      <td>Can infer correct Quality</td>\n",
       "    </tr>\n",
       "  </tbody>\n",
       "</table>\n",
       "</div>"
      ],
      "text/plain": [
       "                        Species       Main Trait   SIM    Dataset  \\\n",
       "396            Bursera simaruba      Leaf glands  Jacc  Caribbean   \n",
       "397            Bursera simaruba      Leaf rachis  Jacc  Caribbean   \n",
       "398       Crossopetalum rhacoma       Fruit type  Jacc  Caribbean   \n",
       "399             Randia aculeata      Leaf margin  Bert  Caribbean   \n",
       "400          Vachellia tortuosa  Leaf upper side  Jacc  Caribbean   \n",
       "401  Pithecellobium unguis-cati    Leaf position  Jacc  Caribbean   \n",
       "402          Libidibia coriaria      Leaf rachis  Jacc  Caribbean   \n",
       "403         Guaiacum officinale     Fruit colour  Bert  Caribbean   \n",
       "404         Avicennia germinans      Seed colour  Jacc  Caribbean   \n",
       "405         Schoepfia schreberi      Fruit shape  Bert  Caribbean   \n",
       "\n",
       "                                              Sentence  \\\n",
       "396             Leaf venation: brachidodrome, pinnate.   \n",
       "397             Leaf venation: brachidodrome, pinnate.   \n",
       "398                    Fruit a drupe, seed exarillate.   \n",
       "399                               Leaf margin: entire.   \n",
       "400  Glands are usually present on the rachis and t...   \n",
       "401  Alternate hairless leaves have petioles 2 to 5...   \n",
       "402               Perennial, Not climbing, Shrub/Tree.   \n",
       "403        Mature: Light Green to Medium Bright Green.   \n",
       "404  Seed 1, large, flattened, often germinating on...   \n",
       "405                Spurious fruit ellipsoid, 10-13 mm.   \n",
       "\n",
       "                        Result  \n",
       "396   Can infer correct Entity  \n",
       "397   Can infer correct Entity  \n",
       "398  Can infer correct Quality  \n",
       "399    Can infer correct Value  \n",
       "400          None of the above  \n",
       "401    Can infer correct Value  \n",
       "402          None of the above  \n",
       "403          None of the above  \n",
       "404   Can infer correct Entity  \n",
       "405  Can infer correct Quality  "
      ]
     },
     "execution_count": 5,
     "metadata": {},
     "output_type": "execute_result"
    }
   ],
   "source": [
    "df_car = df[df['Dataset'] == 'Caribbean']\n",
    "df_car.head(10)"
   ]
  },
  {
   "cell_type": "code",
   "execution_count": 6,
   "metadata": {},
   "outputs": [
    {
     "name": "stderr",
     "output_type": "stream",
     "text": [
      "100%|██████████| 1/1 [00:04<00:00,  4.50s/it]\n"
     ]
    }
   ],
   "source": [
    "# Define the path to the directory where the prompts and results will be saved\n",
    "folder_prompts = \"../../../data/surveys/PromptResultsSentences/\"\n",
    "\n",
    "# Loop over species\n",
    "\n",
    "\n",
    "for idx in tqdm(range(0, df_car.index.shape[0])):\n",
    "\n",
    "    if idx > 1:\n",
    "        continue\n",
    "\n",
    "    species = df_car.iloc[idx, 0]\n",
    "    trait = df_car.iloc[idx, 1]\n",
    "    dataset = df_car.iloc[idx, 3]\n",
    "    sentence = df_car.iloc[idx, 4]\n",
    "    \n",
    "    # Replace spaces in the species name with underscores\n",
    "    folder_species = species.replace(' ', '_')\n",
    "\n",
    "    # Create the question and options for the ChatGPT prompt\n",
    "    user_content = F\"\"\"Can you help me determining of the sentence tells you anything about the '{trait}'?\"\"\"\n",
    "\n",
    "    # Combine the words in the trait name with capital letters and use this as the file name\n",
    "    file_name = F\"{idx}_{dataset}_{folder_species}\"\n",
    "    \n",
    "    # Check if file is already there (OpenAI Outage)\n",
    "    if os.path.exists(F\"{folder_prompts}{file_name}.json\"):\n",
    "        continue\n",
    "\n",
    "    # Create the messages to send to the ChatGPT API\n",
    "    messages = [\n",
    "        {\"role\": \"user\", \"content\": sentence},\n",
    "        {\"role\": \"user\", \"content\": user_content}\n",
    "        ]\n",
    "    # Call the ChatGPT API to generate a completion for the prompt\n",
    "    completion = openai.ChatCompletion.create(\n",
    "        model = \"gpt-3.5-turbo\",\n",
    "        messages = messages,\n",
    "    )\n",
    "\n",
    "    # Lower pressure on API?\n",
    "    time.sleep(2)\n",
    "\n",
    "    # Save the completion to a JSON file with the file name in the directory\n",
    "    with open(F\"{folder_prompts}{file_name}.json\", 'w') as fp:\n",
    "        json.dump(completion, fp)"
   ]
  },
  {
   "cell_type": "code",
   "execution_count": 12,
   "metadata": {},
   "outputs": [
    {
     "data": {
      "text/plain": [
       "434"
      ]
     },
     "execution_count": 12,
     "metadata": {},
     "output_type": "execute_result"
    }
   ],
   "source": [
    "df_car.index.shape[0]"
   ]
  },
  {
   "cell_type": "code",
   "execution_count": null,
   "metadata": {},
   "outputs": [],
   "source": [
    "idx = 81\n",
    "\n",
    "print(df_car.iloc[idx, 1])\n",
    "print(df_car.iloc[idx, 4])\n",
    "print(df_car.iloc[idx, 5])"
   ]
  },
  {
   "cell_type": "code",
   "execution_count": null,
   "metadata": {},
   "outputs": [],
   "source": [
    "sentence = df_car.iloc[idx, 4]\n",
    "trait = df_car.iloc[idx, 1]\n",
    "\n",
    "user_content = F\"\"\"Can you help me determining of the sentence tells you anything about the '{trait}'?\"\"\""
   ]
  },
  {
   "cell_type": "code",
   "execution_count": null,
   "metadata": {},
   "outputs": [],
   "source": [
    "print(user_content)"
   ]
  },
  {
   "cell_type": "code",
   "execution_count": null,
   "metadata": {},
   "outputs": [],
   "source": [
    "messages = [\n",
    "    {\"role\": \"user\", \"content\": sentence},\n",
    "    {\"role\": \"user\", \"content\": user_content}\n",
    "    ]\n",
    "# Call the ChatGPT API to generate a completion for the prompt\n",
    "completion = openai.ChatCompletion.create(\n",
    "    model = \"gpt-3.5-turbo\",\n",
    "    messages = messages,\n",
    ")"
   ]
  },
  {
   "cell_type": "code",
   "execution_count": null,
   "metadata": {},
   "outputs": [],
   "source": [
    "completion"
   ]
  },
  {
   "cell_type": "code",
   "execution_count": null,
   "metadata": {},
   "outputs": [],
   "source": []
  },
  {
   "cell_type": "code",
   "execution_count": null,
   "metadata": {},
   "outputs": [],
   "source": [
    "sentence = df_car.loc[111, 'Sentence']\n",
    "trait = df_car.loc[111, 'Main Trait']\n",
    "\n",
    "user_content = F\"\"\"\n",
    "Can you help us with determining if, using only the provided text, it would be possible to infer the entity, quality or value from the sentence for the trait: '{trait}'?\n",
    "\n",
    " There are four options:\n",
    "\t- Can infer correct Entity\n",
    "\t- Can infer correct Quality\n",
    "\t- Can infer correct Value\n",
    "\t- None of the above\n",
    "\n",
    "For each choice we have a small example:\n",
    "\t- Correct Entity: e.g. crown, flower or fruit.\n",
    "\t- Correct Quality: e.g. forest layer, number of petals or colour.\n",
    "\t- Correct Value: e.g. canopy, 5 or red.\n",
    "\"\"\""
   ]
  },
  {
   "cell_type": "code",
   "execution_count": null,
   "metadata": {},
   "outputs": [],
   "source": [
    "print(sentence)\n",
    "print(user_content)"
   ]
  },
  {
   "cell_type": "code",
   "execution_count": null,
   "metadata": {},
   "outputs": [],
   "source": [
    "messages = [\n",
    "    {\"role\": \"user\", \"content\": sentence},\n",
    "    {\"role\": \"user\", \"content\": user_content}\n",
    "    ]\n",
    "# Call the ChatGPT API to generate a completion for the prompt\n",
    "completion = openai.ChatCompletion.create(\n",
    "    model = \"gpt-3.5-turbo\",\n",
    "    messages = messages,\n",
    ")"
   ]
  },
  {
   "cell_type": "code",
   "execution_count": null,
   "metadata": {},
   "outputs": [],
   "source": [
    "completion"
   ]
  },
  {
   "cell_type": "code",
   "execution_count": null,
   "metadata": {},
   "outputs": [],
   "source": [
    "# Define the path to the directory where the prompts and results will be saved\n",
    "folder_prompts = \"../../../data/OpenAI/PromptsResults/ZeroShot/\"\n",
    "\n",
    "species_lst = df_Andrei.index\n",
    "trait_dict = create_trait_dict(df_Andrei)\n",
    "traits = list(trait_dict.keys())\n",
    "\n",
    "# Loop over species\n",
    "for idx, species in enumerate(species_lst[0:]):\n",
    "   \n",
    "    # Replace spaces in the species name with underscores\n",
    "    folder_species = species.replace(' ', '_')\n",
    "\n",
    "    # Try to create a directory for the prompts for the species\n",
    "    try:\n",
    "        os.makedirs(F\"{folder_prompts}{folder_species}\")\n",
    "    except FileExistsError:\n",
    "        pass\n",
    "\n",
    "    for trait in (pbar := tqdm(traits[0:], leave=False, position=0)):\n",
    "        pbar.set_description(f\"{idx}: {species}\")\n",
    "\n",
    "        # Get the options for the trait\n",
    "        options = trait_dict[trait]\n",
    "\n",
    "        # Create the question and options for the ChatGPT prompt\n",
    "        question = F\"For the species '{species}' which of the following options is applicable for the trait '{trait}'\" \n",
    "        text_helper = F\"Return 'NaN' if none of the options are applicable. Please return your answer as a Python list.\"\n",
    "        user_content = F\"{question}\\n{options}\\n{text_helper}\"\n",
    "\n",
    "        # Combine the words in the trait name with capital letters and use this as the file name\n",
    "        file_name = combine_words_with_capital(trait)\n",
    "        \n",
    "        # Check if file is already there (OpenAI Outage)\n",
    "        if os.path.exists(F\"{folder_prompts}{folder_species}/{file_name}.json\"):\n",
    "            continue\n",
    "\n",
    "        # # Create the messages to send to the ChatGPT API\n",
    "        messages = [\n",
    "            {\"role\": \"user\", \"content\": sentence},\n",
    "            {\"role\": \"user\", \"content\": user_content}\n",
    "            ]\n",
    "        # Call the ChatGPT API to generate a completion for the prompt\n",
    "        completion = openai.ChatCompletion.create(\n",
    "            model = \"gpt-3.5-turbo\",\n",
    "            messages = messages,\n",
    "        )\n",
    "\n",
    "        # Lower pressure on API?\n",
    "        time.sleep(2)\n",
    "\n",
    "        # Save the completion to a JSON file with the file name in the directory\n",
    "        with open(F\"{folder_prompts}{folder_species}/{file_name}.json\", 'w') as fp:\n",
    "            json.dump(completion, fp)\n",
    "            "
   ]
  }
 ],
 "metadata": {
  "kernelspec": {
   "display_name": "deeplearning",
   "language": "python",
   "name": "deeplearning"
  },
  "language_info": {
   "codemirror_mode": {
    "name": "ipython",
    "version": 3
   },
   "file_extension": ".py",
   "mimetype": "text/x-python",
   "name": "python",
   "nbconvert_exporter": "python",
   "pygments_lexer": "ipython3",
   "version": "3.10.4"
  },
  "orig_nbformat": 4
 },
 "nbformat": 4,
 "nbformat_minor": 2
}
