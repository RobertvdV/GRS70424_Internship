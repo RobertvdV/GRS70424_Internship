{
 "cells": [
  {
   "cell_type": "code",
   "execution_count": 1,
   "id": "88eee1f5",
   "metadata": {},
   "outputs": [],
   "source": [
    "import pandas as pd\n",
    "import numpy as np\n",
    "import seaborn as sns\n",
    "import matplotlib.pyplot as plt\n",
    "import matplotlib as mpl\n",
    "import glob\n",
    "import csv"
   ]
  },
  {
   "attachments": {},
   "cell_type": "markdown",
   "id": "c78c472e",
   "metadata": {},
   "source": [
    "# Read Data"
   ]
  },
  {
   "cell_type": "code",
   "execution_count": 2,
   "id": "9234b3d5",
   "metadata": {},
   "outputs": [],
   "source": [
    "# Collect Survey csv files\n",
    "folder = \"../../../data/surveys/responses/\"\n",
    "response_list = glob.glob(F\"{folder}*\")\n",
    "folder = \"../../../data/surveys/surveys/\"\n",
    "survey_list = [F\"{folder}{lst[59:]}\" for lst in response_list]"
   ]
  },
  {
   "cell_type": "code",
   "execution_count": 3,
   "id": "5eb9b1cb",
   "metadata": {},
   "outputs": [],
   "source": [
    "# Surveys\n",
    "df_surveys = pd.concat((pd.read_csv(f, sep='\\t') for f in survey_list), ignore_index=True)\n",
    "df_surveys.rename(columns={ df_surveys.columns[0]: \"Index\" }, inplace = True)\n",
    "\n",
    "# Response\n",
    "df_responses = pd.concat((pd.read_csv(f, header=None).iloc[: , 1:].T for f in response_list))\n",
    "df_responses.rename(columns={ df_responses.columns[0]: \"Sentence\", \n",
    "                            df_responses.columns[1]: \"Result\" }, \n",
    "                            inplace = True)"
   ]
  },
  {
   "attachments": {},
   "cell_type": "markdown",
   "id": "477e5bfa",
   "metadata": {},
   "source": [
    "## Testing"
   ]
  },
  {
   "cell_type": "code",
   "execution_count": 41,
   "id": "0eb77df3",
   "metadata": {},
   "outputs": [],
   "source": [
    "for survey, response in zip(survey_list, response_list):\n",
    "\n",
    "    # Survey\n",
    "    df_survey = pd.read_csv(survey, sep='\\t') \n",
    "\n",
    "    # Response\n",
    "    df_response = pd.read_csv(response, header=None).iloc[: , 1:].T\n",
    "    df_response.columns = ['Sentence', 'Result']\n",
    "\n",
    "    df_survey = pd.melt(df_survey, \n",
    "                        id_vars=[\"Species\", \"Main Trait\", \"SIM\", \"Dataset\"],\n",
    "                        value_vars=[\"1\", \"2\", \"3\", \"4\", \"5\",],\n",
    "                        value_name=\"Sentence\")\\\n",
    "                    .dropna()\\\n",
    "                    .drop(columns=[\"variable\"])\n",
    "    \n",
    "    df_merged = df_survey.merge(df_response, on='Sentence')\n",
    "    try:\n",
    "        df = pd.concat([df, df_merged], ignore_index=True, sort=False)\n",
    "    except:\n",
    "        df = df_merged"
   ]
  },
  {
   "cell_type": "code",
   "execution_count": 45,
   "id": "fc88edb9",
   "metadata": {},
   "outputs": [],
   "source": [
    "folder = \"../../../data/surveys/\"\n",
    "df.to_csv(F\"{folder}df_survey_result.csv\")"
   ]
  },
  {
   "cell_type": "code",
   "execution_count": null,
   "id": "517409af",
   "metadata": {},
   "outputs": [],
   "source": []
  },
  {
   "cell_type": "code",
   "execution_count": null,
   "id": "1b0a0dd3",
   "metadata": {},
   "outputs": [],
   "source": []
  },
  {
   "cell_type": "code",
   "execution_count": null,
   "id": "d805cf9e",
   "metadata": {},
   "outputs": [],
   "source": []
  },
  {
   "cell_type": "code",
   "execution_count": null,
   "id": "181510dd",
   "metadata": {},
   "outputs": [],
   "source": []
  },
  {
   "cell_type": "code",
   "execution_count": null,
   "id": "84a1007c",
   "metadata": {},
   "outputs": [],
   "source": []
  },
  {
   "attachments": {},
   "cell_type": "markdown",
   "id": "3a1d5d46",
   "metadata": {},
   "source": [
    "## Before"
   ]
  },
  {
   "cell_type": "code",
   "execution_count": 4,
   "id": "1ac98b18",
   "metadata": {},
   "outputs": [],
   "source": [
    "# Melt\n",
    "df_surveys = pd.melt(df_surveys, id_vars=[\"Species\",\n",
    "                                       \"Main Trait\",\n",
    "                                       \"SIM\",\n",
    "                                       \"Dataset\"],\n",
    "                             value_vars=[\"1\", \"2\", \"3\", \"4\", \"5\",],\n",
    "                             value_name=\"Sentence\"\n",
    "                )\\\n",
    "                .dropna()\\\n",
    "                .drop(columns=[\"variable\"])"
   ]
  },
  {
   "cell_type": "code",
   "execution_count": 5,
   "id": "2389ddf9",
   "metadata": {},
   "outputs": [],
   "source": [
    "# Merge the dataframes based on the 'Sentence' column\n",
    "# df = pd.merge(df_surveys, df_responses, \n",
    "#               on='Sentence', \n",
    "#               how='inner'\n",
    "#               )\n",
    "\n",
    "df = df_surveys.sort_values(by=['Sentence'])\n",
    "df[\"Result\"] = df_responses.sort_values(by=['Sentence'])[\"Result\"].values\n"
   ]
  },
  {
   "cell_type": "code",
   "execution_count": 12,
   "id": "377226b9",
   "metadata": {},
   "outputs": [],
   "source": [
    "df = df.drop_duplicates()"
   ]
  },
  {
   "cell_type": "code",
   "execution_count": 13,
   "id": "4c3c4846",
   "metadata": {},
   "outputs": [],
   "source": [
    "folder = \"../../../data/surveys/\"\n",
    "df.to_csv(F\"{folder}df_survey_result.csv\")"
   ]
  }
 ],
 "metadata": {
  "kernelspec": {
   "display_name": "venv",
   "language": "python",
   "name": "python3"
  },
  "language_info": {
   "codemirror_mode": {
    "name": "ipython",
    "version": 3
   },
   "file_extension": ".py",
   "mimetype": "text/x-python",
   "name": "python",
   "nbconvert_exporter": "python",
   "pygments_lexer": "ipython3",
   "version": "3.9.16"
  }
 },
 "nbformat": 4,
 "nbformat_minor": 5
}
