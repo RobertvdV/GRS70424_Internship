{
 "cells": [
  {
   "cell_type": "code",
   "execution_count": 1,
   "id": "88eee1f5",
   "metadata": {},
   "outputs": [],
   "source": [
    "import pandas as pd\n",
    "import numpy as np\n",
    "import seaborn as sns\n",
    "import matplotlib.pyplot as plt\n",
    "import matplotlib as mpl\n",
    "import glob\n",
    "import csv\n",
    "import plotly.express as px\n",
    "import plotly.graph_objs as go\n",
    "import plotly.subplots as sp\n",
    "from plotly.subplots import make_subplots\n"
   ]
  },
  {
   "cell_type": "code",
   "execution_count": 2,
   "id": "f017ab39",
   "metadata": {},
   "outputs": [],
   "source": [
    "folder = \"../../../data/surveys/responses/\"\n",
    "response_list = glob.glob(F\"{folder}*\")\n",
    "\n",
    "folder = \"../../../data/surveys/surveys/\"\n",
    "survey_list = [F\"{folder}{lst[59:]}\" for lst in response_list]\n",
    "\n",
    "# df = pd.concat((pd.read_csv(f) for f in respons_list), ignore_index=True)"
   ]
  },
  {
   "cell_type": "code",
   "execution_count": 3,
   "id": "6ea650e9",
   "metadata": {},
   "outputs": [],
   "source": [
    "df_survey = pd.read_csv(survey_list[0], sep='\\t')\n",
    "df_survey.rename(columns={ df_survey.columns[0]: \"Index\" }, inplace = True)\n",
    "df_response = pd.read_csv(response_list[0], header=None).iloc[: , 1:].T\n",
    "df_response.rename(columns={ df_response.columns[0]: \"Sentence\", \n",
    "                            df_response.columns[1]: \"Result\" }, \n",
    "                            inplace = True)\n",
    "\n"
   ]
  },
  {
   "cell_type": "code",
   "execution_count": 4,
   "id": "d4e1c6c6",
   "metadata": {},
   "outputs": [],
   "source": [
    "# Surveys\n",
    "df_surveys = pd.concat((pd.read_csv(f, sep='\\t') for f in survey_list), ignore_index=True)\n",
    "df_surveys.rename(columns={ df_surveys.columns[0]: \"Index\" }, inplace = True)\n",
    "\n",
    "# Response\n",
    "df_responses = pd.concat((pd.read_csv(f, header=None).iloc[: , 1:].T for f in response_list))\n",
    "df_responses.rename(columns={ df_responses.columns[0]: \"Sentence\", \n",
    "                            df_responses.columns[1]: \"Result\" }, \n",
    "                            inplace = True)\n",
    "\n",
    "# Merge\n",
    "df = df_surveys\n",
    "sentences = [\"1\", \"2\", \"3\", \"4\", \"5\"]\n",
    "for number in sentences:\n",
    "    df_merged = df.merge(\n",
    "        df_responses.add_suffix(F\"_{number}\"), left_on=number, right_on=F\"Sentence_{number}\",\n",
    "        # suffixes=(F\"_{number}\", F\"_{number}\")\n",
    "    )\n",
    "\n",
    "# Drop columns\n",
    "df = df_merged.drop(columns=sentences)\n",
    "\n",
    "# Total count\n",
    "for choices in df_response[\"Result\"].unique():\n",
    "    df[choices] = df.apply(lambda x: x.str.contains(choices).sum(), axis=1)"
   ]
  },
  {
   "attachments": {},
   "cell_type": "markdown",
   "id": "d330af50",
   "metadata": {},
   "source": [
    "### Viz"
   ]
  },
  {
   "cell_type": "code",
   "execution_count": 5,
   "id": "06ccd251",
   "metadata": {},
   "outputs": [],
   "source": [
    "mpl.rcParams['text.color'] = 'white'\n",
    "mpl.rcParams['axes.labelcolor'] = 'black'\n",
    "\n"
   ]
  },
  {
   "cell_type": "code",
   "execution_count": 6,
   "id": "7306c85d",
   "metadata": {},
   "outputs": [
    {
     "data": {
      "text/plain": [
       "Index(['Index', 'Species', 'Main Trait', 'GT Main Trait', 'GT Sub Traits',\n",
       "       'GoogleSentence', 'Sim Sum', 'SIM', 'Jaccard Sum', 'Dataset',\n",
       "       'Sentence_5', 'Result_5', 'Can infer correct Value',\n",
       "       'None of the above', 'Can infer correct Entity',\n",
       "       'Can infer correct Quality'],\n",
       "      dtype='object')"
      ]
     },
     "execution_count": 6,
     "metadata": {},
     "output_type": "execute_result"
    }
   ],
   "source": [
    "df.columns"
   ]
  },
  {
   "cell_type": "code",
   "execution_count": 7,
   "id": "255d8a0c",
   "metadata": {},
   "outputs": [],
   "source": [
    "df_plot = df[[\"Species\",\n",
    "              \"Main Trait\",\n",
    "              \"SIM\",\n",
    "              \"Dataset\",\n",
    "              \"Can infer correct Value\", \"None of the above\",\n",
    "              \"Can infer correct Entity\", \"Can infer correct Quality\"]]"
   ]
  },
  {
   "cell_type": "code",
   "execution_count": 8,
   "id": "88a5d424",
   "metadata": {},
   "outputs": [],
   "source": [
    "def pie_chart(group, figsize=(14, 6), layout=(1, 2), darkmode=True,\n",
    "              *args, **kwargs):\n",
    "    \n",
    "    # if group not in [\"Species\", \"Main Trait\", \"SIM\", \"Dataset\",]:\n",
    "    #     raise ValueError\n",
    "    \n",
    "    if darkmode:\n",
    "        text_color = 'white'\n",
    "\n",
    "    if group == \"\":\n",
    "        axes = df_plot.sum().to_frame().iloc[4:].plot(\n",
    "            kind='pie',\n",
    "            y=0,\n",
    "            figsize=figsize,\n",
    "            subplots=True, \n",
    "            legend=None,\n",
    "            autopct='%1.1f%%',\n",
    "            wedgeprops={'linewidth': 1.0, \n",
    "                        'edgecolor': text_color},\n",
    "            textprops={'size': 'large'}\n",
    "        )\n",
    "        for ax in axes:\n",
    "            ax.set_aspect('equal')\n",
    "            ax.yaxis.labelpad = 20\n",
    "            ax.set_ylabel(\"All Data\")\n",
    "            ax.yaxis.set_label_coords(0.5, 1.1)\n",
    "            ax.yaxis.label.set_color(text_color)\n",
    "            ax.yaxis.label.set_rotation(0)\n",
    "            ax.yaxis.label.set_fontsize(25)\n",
    "    else:\n",
    "        axes = df_plot.groupby(group).sum().T.plot(\n",
    "                    figsize=figsize,\n",
    "                    kind='pie',\n",
    "                    subplots=True, \n",
    "                    layout=layout,\n",
    "                    legend=None,\n",
    "                    autopct='%1.1f%%',\n",
    "                    wedgeprops={'linewidth': 1.0, \n",
    "                                'edgecolor': text_color},\n",
    "                    textprops={'size': 'large'}\n",
    "                )\n",
    "\n",
    "        for subaxes in axes:\n",
    "            for ax in subaxes:\n",
    "                ax.set_aspect('equal')\n",
    "                ax.yaxis.labelpad = 20\n",
    "                ax.yaxis.set_label_coords(0.5, 1.1)\n",
    "                ax.yaxis.label.set_color(text_color)\n",
    "                ax.yaxis.label.set_rotation(0)\n",
    "                ax.yaxis.label.set_fontsize(25)"
   ]
  },
  {
   "cell_type": "code",
   "execution_count": 9,
   "id": "2a41ed72",
   "metadata": {},
   "outputs": [
    {
     "data": {
      "image/png": "[encoded data removed]",
      "text/plain": [
       "<Figure size 1008x432 with 1 Axes>"
      ]
     },
     "metadata": {},
     "output_type": "display_data"
    }
   ],
   "source": [
    "pie_chart(\"\")"
   ]
  },
  {
   "cell_type": "code",
   "execution_count": 10,
   "id": "bec6722f",
   "metadata": {},
   "outputs": [
    {
     "data": {
      "image/png": "[encoded data removed]",
      "text/plain": [
       "<Figure size 1008x432 with 3 Axes>"
      ]
     },
     "metadata": {},
     "output_type": "display_data"
    }
   ],
   "source": [
    "pie_chart(\"Dataset\", layout=(1, 3))"
   ]
  },
  {
   "cell_type": "code",
   "execution_count": 11,
   "id": "2a4976c4",
   "metadata": {},
   "outputs": [
    {
     "data": {
      "image/png": "[encoded data removed]",
      "text/plain": [
       "<Figure size 1008x432 with 2 Axes>"
      ]
     },
     "metadata": {},
     "output_type": "display_data"
    }
   ],
   "source": [
    "pie_chart(\"SIM\")"
   ]
  },
  {
   "cell_type": "code",
   "execution_count": 12,
   "id": "a3861572",
   "metadata": {},
   "outputs": [
    {
     "data": {
      "image/png": "[encoded data removed]",
      "text/plain": [
       "<Figure size 864x864 with 6 Axes>"
      ]
     },
     "metadata": {},
     "output_type": "display_data"
    }
   ],
   "source": [
    "pie_chart([\"Dataset\", \"SIM\"],\n",
    "          figsize=(12, 12),\n",
    "          layout=(3, 2))"
   ]
  },
  {
   "cell_type": "code",
   "execution_count": 13,
   "id": "c6babd12",
   "metadata": {},
   "outputs": [
    {
     "data": {
      "text/html": [
       "<div>\n",
       "<style scoped>\n",
       "    .dataframe tbody tr th:only-of-type {\n",
       "        vertical-align: middle;\n",
       "    }\n",
       "\n",
       "    .dataframe tbody tr th {\n",
       "        vertical-align: top;\n",
       "    }\n",
       "\n",
       "    .dataframe thead th {\n",
       "        text-align: right;\n",
       "    }\n",
       "</style>\n",
       "<table border=\"1\" class=\"dataframe\">\n",
       "  <thead>\n",
       "    <tr style=\"text-align: right;\">\n",
       "      <th></th>\n",
       "      <th>Species</th>\n",
       "      <th>Main Trait</th>\n",
       "      <th>SIM</th>\n",
       "      <th>Dataset</th>\n",
       "      <th>Can infer correct Value</th>\n",
       "      <th>None of the above</th>\n",
       "      <th>Can infer correct Entity</th>\n",
       "      <th>Can infer correct Quality</th>\n",
       "    </tr>\n",
       "  </thead>\n",
       "  <tbody>\n",
       "    <tr>\n",
       "      <th>0</th>\n",
       "      <td>Lannea fruticosa</td>\n",
       "      <td>leaf apex</td>\n",
       "      <td>Bert</td>\n",
       "      <td>PlantNet</td>\n",
       "      <td>0</td>\n",
       "      <td>1</td>\n",
       "      <td>0</td>\n",
       "      <td>0</td>\n",
       "    </tr>\n",
       "    <tr>\n",
       "      <th>1</th>\n",
       "      <td>Strychnos spinosa</td>\n",
       "      <td>petiole</td>\n",
       "      <td>Bert</td>\n",
       "      <td>PlantNet</td>\n",
       "      <td>0</td>\n",
       "      <td>1</td>\n",
       "      <td>0</td>\n",
       "      <td>0</td>\n",
       "    </tr>\n",
       "    <tr>\n",
       "      <th>2</th>\n",
       "      <td>Keetia venosa</td>\n",
       "      <td>vein</td>\n",
       "      <td>Bert</td>\n",
       "      <td>PlantNet</td>\n",
       "      <td>0</td>\n",
       "      <td>1</td>\n",
       "      <td>0</td>\n",
       "      <td>0</td>\n",
       "    </tr>\n",
       "    <tr>\n",
       "      <th>3</th>\n",
       "      <td>Crescentia cujete</td>\n",
       "      <td>inflorescences</td>\n",
       "      <td>Bert</td>\n",
       "      <td>PlantNet</td>\n",
       "      <td>0</td>\n",
       "      <td>1</td>\n",
       "      <td>0</td>\n",
       "      <td>0</td>\n",
       "    </tr>\n",
       "    <tr>\n",
       "      <th>4</th>\n",
       "      <td>Crescentia cujete</td>\n",
       "      <td>inflorescences</td>\n",
       "      <td>Bert</td>\n",
       "      <td>PlantNet</td>\n",
       "      <td>0</td>\n",
       "      <td>1</td>\n",
       "      <td>0</td>\n",
       "      <td>0</td>\n",
       "    </tr>\n",
       "    <tr>\n",
       "      <th>...</th>\n",
       "      <td>...</td>\n",
       "      <td>...</td>\n",
       "      <td>...</td>\n",
       "      <td>...</td>\n",
       "      <td>...</td>\n",
       "      <td>...</td>\n",
       "      <td>...</td>\n",
       "      <td>...</td>\n",
       "    </tr>\n",
       "    <tr>\n",
       "      <th>291</th>\n",
       "      <td>Eucalyptus tereticornis</td>\n",
       "      <td>leaf blade</td>\n",
       "      <td>Bert</td>\n",
       "      <td>PlantNet</td>\n",
       "      <td>1</td>\n",
       "      <td>0</td>\n",
       "      <td>0</td>\n",
       "      <td>0</td>\n",
       "    </tr>\n",
       "    <tr>\n",
       "      <th>292</th>\n",
       "      <td>Maerua angolensis</td>\n",
       "      <td>plant type</td>\n",
       "      <td>Jacc</td>\n",
       "      <td>PlantNet</td>\n",
       "      <td>1</td>\n",
       "      <td>0</td>\n",
       "      <td>0</td>\n",
       "      <td>0</td>\n",
       "    </tr>\n",
       "    <tr>\n",
       "      <th>293</th>\n",
       "      <td>Cordia africana</td>\n",
       "      <td>vein</td>\n",
       "      <td>Bert</td>\n",
       "      <td>PlantNet</td>\n",
       "      <td>0</td>\n",
       "      <td>0</td>\n",
       "      <td>1</td>\n",
       "      <td>0</td>\n",
       "    </tr>\n",
       "    <tr>\n",
       "      <th>294</th>\n",
       "      <td>Aphania senegalensis</td>\n",
       "      <td>leaf apex</td>\n",
       "      <td>Bert</td>\n",
       "      <td>PlantNet</td>\n",
       "      <td>0</td>\n",
       "      <td>1</td>\n",
       "      <td>0</td>\n",
       "      <td>0</td>\n",
       "    </tr>\n",
       "    <tr>\n",
       "      <th>295</th>\n",
       "      <td>Khaya senegalensis</td>\n",
       "      <td>leaf base</td>\n",
       "      <td>Bert</td>\n",
       "      <td>PlantNet</td>\n",
       "      <td>0</td>\n",
       "      <td>1</td>\n",
       "      <td>0</td>\n",
       "      <td>0</td>\n",
       "    </tr>\n",
       "  </tbody>\n",
       "</table>\n",
       "<p>296 rows × 8 columns</p>\n",
       "</div>"
      ],
      "text/plain": [
       "                     Species      Main Trait   SIM   Dataset  \\\n",
       "0           Lannea fruticosa       leaf apex  Bert  PlantNet   \n",
       "1          Strychnos spinosa         petiole  Bert  PlantNet   \n",
       "2              Keetia venosa            vein  Bert  PlantNet   \n",
       "3          Crescentia cujete  inflorescences  Bert  PlantNet   \n",
       "4          Crescentia cujete  inflorescences  Bert  PlantNet   \n",
       "..                       ...             ...   ...       ...   \n",
       "291  Eucalyptus tereticornis      leaf blade  Bert  PlantNet   \n",
       "292        Maerua angolensis      plant type  Jacc  PlantNet   \n",
       "293          Cordia africana            vein  Bert  PlantNet   \n",
       "294     Aphania senegalensis       leaf apex  Bert  PlantNet   \n",
       "295       Khaya senegalensis       leaf base  Bert  PlantNet   \n",
       "\n",
       "     Can infer correct Value  None of the above  Can infer correct Entity  \\\n",
       "0                          0                  1                         0   \n",
       "1                          0                  1                         0   \n",
       "2                          0                  1                         0   \n",
       "3                          0                  1                         0   \n",
       "4                          0                  1                         0   \n",
       "..                       ...                ...                       ...   \n",
       "291                        1                  0                         0   \n",
       "292                        1                  0                         0   \n",
       "293                        0                  0                         1   \n",
       "294                        0                  1                         0   \n",
       "295                        0                  1                         0   \n",
       "\n",
       "     Can infer correct Quality  \n",
       "0                            0  \n",
       "1                            0  \n",
       "2                            0  \n",
       "3                            0  \n",
       "4                            0  \n",
       "..                         ...  \n",
       "291                          0  \n",
       "292                          0  \n",
       "293                          0  \n",
       "294                          0  \n",
       "295                          0  \n",
       "\n",
       "[296 rows x 8 columns]"
      ]
     },
     "execution_count": 13,
     "metadata": {},
     "output_type": "execute_result"
    }
   ],
   "source": [
    "df_plot"
   ]
  },
  {
   "attachments": {},
   "cell_type": "markdown",
   "id": "7ed45d0e",
   "metadata": {},
   "source": [
    "### Plotly"
   ]
  },
  {
   "cell_type": "code",
   "execution_count": 14,
   "id": "f4b037f7",
   "metadata": {},
   "outputs": [
    {
     "data": {
      "text/html": [
       "<div>\n",
       "<style scoped>\n",
       "    .dataframe tbody tr th:only-of-type {\n",
       "        vertical-align: middle;\n",
       "    }\n",
       "\n",
       "    .dataframe tbody tr th {\n",
       "        vertical-align: top;\n",
       "    }\n",
       "\n",
       "    .dataframe thead th {\n",
       "        text-align: right;\n",
       "    }\n",
       "</style>\n",
       "<table border=\"1\" class=\"dataframe\">\n",
       "  <thead>\n",
       "    <tr style=\"text-align: right;\">\n",
       "      <th></th>\n",
       "      <th>Can infer correct Value</th>\n",
       "      <th>None of the above</th>\n",
       "      <th>Can infer correct Entity</th>\n",
       "      <th>Can infer correct Quality</th>\n",
       "    </tr>\n",
       "    <tr>\n",
       "      <th>SIM</th>\n",
       "      <th></th>\n",
       "      <th></th>\n",
       "      <th></th>\n",
       "      <th></th>\n",
       "    </tr>\n",
       "  </thead>\n",
       "  <tbody>\n",
       "    <tr>\n",
       "      <th>Bert</th>\n",
       "      <td>26</td>\n",
       "      <td>96</td>\n",
       "      <td>48</td>\n",
       "      <td>14</td>\n",
       "    </tr>\n",
       "    <tr>\n",
       "      <th>Jacc</th>\n",
       "      <td>22</td>\n",
       "      <td>34</td>\n",
       "      <td>53</td>\n",
       "      <td>3</td>\n",
       "    </tr>\n",
       "  </tbody>\n",
       "</table>\n",
       "</div>"
      ],
      "text/plain": [
       "      Can infer correct Value  None of the above  Can infer correct Entity  \\\n",
       "SIM                                                                          \n",
       "Bert                       26                 96                        48   \n",
       "Jacc                       22                 34                        53   \n",
       "\n",
       "      Can infer correct Quality  \n",
       "SIM                              \n",
       "Bert                         14  \n",
       "Jacc                          3  "
      ]
     },
     "execution_count": 14,
     "metadata": {},
     "output_type": "execute_result"
    }
   ],
   "source": [
    "df_plot.groupby([\"SIM\"]).sum()[['Can infer correct Value', 'None of the above', 'Can infer correct Entity', 'Can infer correct Quality']]"
   ]
  },
  {
   "cell_type": "code",
   "execution_count": 15,
   "id": "c44c2d81",
   "metadata": {},
   "outputs": [
    {
     "data": {
      "application/vnd.plotly.v1+json": {
       "config": {
        "plotlyServerURL": "https://plot.ly"
       },
       "data": [
        {
         "domain": {
          "x": [
           0,
           0.45
          ],
          "y": [
           0,
           1
          ]
         },
         "hole": 0.6,
         "hoverinfo": "label+percent+name",
         "labels": [
          "None of the above",
          "Can infer correct Entity",
          "Can infer correct Quality",
          "Can infer correct Value"
         ],
         "marker": {
          "colors": [
           "rgb(146, 123, 21)",
           "rgb(177, 180, 34)",
           "rgb(206, 206, 40)",
           "rgb(175, 51, 21)",
           "rgb(35, 36, 21)"
          ]
         },
         "name": "Bert Similarity",
         "type": "pie",
         "values": [
          96,
          48,
          14,
          26
         ]
        },
        {
         "domain": {
          "x": [
           0.55,
           1
          ],
          "y": [
           0,
           1
          ]
         },
         "hole": 0.6,
         "hoverinfo": "label+percent+name",
         "labels": [
          "None of the above",
          "Can infer correct Entity",
          "Can infer correct Quality",
          "Can infer correct Value"
         ],
         "marker": {
          "colors": [
           "rgb(146, 123, 21)",
           "rgb(177, 180, 34)",
           "rgb(206, 206, 40)",
           "rgb(175, 51, 21)",
           "rgb(35, 36, 21)"
          ]
         },
         "name": "Jaccard Similarity",
         "type": "pie",
         "values": [
          34,
          53,
          3,
          22
         ]
        }
       ],
       "layout": {
        "annotations": [
         {
          "font": {
           "size": 20
          },
          "showarrow": false,
          "text": "BERT",
          "x": 0.2,
          "y": 0.5
         },
         {
          "font": {
           "size": 20
          },
          "showarrow": false,
          "text": "JACC",
          "x": 0.8,
          "y": 0.5
         }
        ],
        "template": {
         "data": {
          "bar": [
           {
            "error_x": {
             "color": "#2a3f5f"
            },
            "error_y": {
             "color": "#2a3f5f"
            },
            "marker": {
             "line": {
              "color": "#E5ECF6",
              "width": 0.5
             },
             "pattern": {
              "fillmode": "overlay",
              "size": 10,
              "solidity": 0.2
             }
            },
            "type": "bar"
           }
          ],
          "barpolar": [
           {
            "marker": {
             "line": {
              "color": "#E5ECF6",
              "width": 0.5
             },
             "pattern": {
              "fillmode": "overlay",
              "size": 10,
              "solidity": 0.2
             }
            },
            "type": "barpolar"
           }
          ],
          "carpet": [
           {
            "aaxis": {
             "endlinecolor": "#2a3f5f",
             "gridcolor": "white",
             "linecolor": "white",
             "minorgridcolor": "white",
             "startlinecolor": "#2a3f5f"
            },
            "baxis": {
             "endlinecolor": "#2a3f5f",
             "gridcolor": "white",
             "linecolor": "white",
             "minorgridcolor": "white",
             "startlinecolor": "#2a3f5f"
            },
            "type": "carpet"
           }
          ],
          "choropleth": [
           {
            "colorbar": {
             "outlinewidth": 0,
             "ticks": ""
            },
            "type": "choropleth"
           }
          ],
          "contour": [
           {
            "colorbar": {
             "outlinewidth": 0,
             "ticks": ""
            },
            "colorscale": [
             [
              0,
              "#0d0887"
             ],
             [
              0.1111111111111111,
              "#46039f"
             ],
             [
              0.2222222222222222,
              "#7201a8"
             ],
             [
              0.3333333333333333,
              "#9c179e"
             ],
             [
              0.4444444444444444,
              "#bd3786"
             ],
             [
              0.5555555555555556,
              "#d8576b"
             ],
             [
              0.6666666666666666,
              "#ed7953"
             ],
             [
              0.7777777777777778,
              "#fb9f3a"
             ],
             [
              0.8888888888888888,
              "#fdca26"
             ],
             [
              1,
              "#f0f921"
             ]
            ],
            "type": "contour"
           }
          ],
          "contourcarpet": [
           {
            "colorbar": {
             "outlinewidth": 0,
             "ticks": ""
            },
            "type": "contourcarpet"
           }
          ],
          "heatmap": [
           {
            "colorbar": {
             "outlinewidth": 0,
             "ticks": ""
            },
            "colorscale": [
             [
              0,
              "#0d0887"
             ],
             [
              0.1111111111111111,
              "#46039f"
             ],
             [
              0.2222222222222222,
              "#7201a8"
             ],
             [
              0.3333333333333333,
              "#9c179e"
             ],
             [
              0.4444444444444444,
              "#bd3786"
             ],
             [
              0.5555555555555556,
              "#d8576b"
             ],
             [
              0.6666666666666666,
              "#ed7953"
             ],
             [
              0.7777777777777778,
              "#fb9f3a"
             ],
             [
              0.8888888888888888,
              "#fdca26"
             ],
             [
              1,
              "#f0f921"
             ]
            ],
            "type": "heatmap"
           }
          ],
          "heatmapgl": [
           {
            "colorbar": {
             "outlinewidth": 0,
             "ticks": ""
            },
            "colorscale": [
             [
              0,
              "#0d0887"
             ],
             [
              0.1111111111111111,
              "#46039f"
             ],
             [
              0.2222222222222222,
              "#7201a8"
             ],
             [
              0.3333333333333333,
              "#9c179e"
             ],
             [
              0.4444444444444444,
              "#bd3786"
             ],
             [
              0.5555555555555556,
              "#d8576b"
             ],
             [
              0.6666666666666666,
              "#ed7953"
             ],
             [
              0.7777777777777778,
              "#fb9f3a"
             ],
             [
              0.8888888888888888,
              "#fdca26"
             ],
             [
              1,
              "#f0f921"
             ]
            ],
            "type": "heatmapgl"
           }
          ],
          "histogram": [
           {
            "marker": {
             "pattern": {
              "fillmode": "overlay",
              "size": 10,
              "solidity": 0.2
             }
            },
            "type": "histogram"
           }
          ],
          "histogram2d": [
           {
            "colorbar": {
             "outlinewidth": 0,
             "ticks": ""
            },
            "colorscale": [
             [
              0,
              "#0d0887"
             ],
             [
              0.1111111111111111,
              "#46039f"
             ],
             [
              0.2222222222222222,
              "#7201a8"
             ],
             [
              0.3333333333333333,
              "#9c179e"
             ],
             [
              0.4444444444444444,
              "#bd3786"
             ],
             [
              0.5555555555555556,
              "#d8576b"
             ],
             [
              0.6666666666666666,
              "#ed7953"
             ],
             [
              0.7777777777777778,
              "#fb9f3a"
             ],
             [
              0.8888888888888888,
              "#fdca26"
             ],
             [
              1,
              "#f0f921"
             ]
            ],
            "type": "histogram2d"
           }
          ],
          "histogram2dcontour": [
           {
            "colorbar": {
             "outlinewidth": 0,
             "ticks": ""
            },
            "colorscale": [
             [
              0,
              "#0d0887"
             ],
             [
              0.1111111111111111,
              "#46039f"
             ],
             [
              0.2222222222222222,
              "#7201a8"
             ],
             [
              0.3333333333333333,
              "#9c179e"
             ],
             [
              0.4444444444444444,
              "#bd3786"
             ],
             [
              0.5555555555555556,
              "#d8576b"
             ],
             [
              0.6666666666666666,
              "#ed7953"
             ],
             [
              0.7777777777777778,
              "#fb9f3a"
             ],
             [
              0.8888888888888888,
              "#fdca26"
             ],
             [
              1,
              "#f0f921"
             ]
            ],
            "type": "histogram2dcontour"
           }
          ],
          "mesh3d": [
           {
            "colorbar": {
             "outlinewidth": 0,
             "ticks": ""
            },
            "type": "mesh3d"
           }
          ],
          "parcoords": [
           {
            "line": {
             "colorbar": {
              "outlinewidth": 0,
              "ticks": ""
             }
            },
            "type": "parcoords"
           }
          ],
          "pie": [
           {
            "automargin": true,
            "type": "pie"
           }
          ],
          "scatter": [
           {
            "fillpattern": {
             "fillmode": "overlay",
             "size": 10,
             "solidity": 0.2
            },
            "type": "scatter"
           }
          ],
          "scatter3d": [
           {
            "line": {
             "colorbar": {
              "outlinewidth": 0,
              "ticks": ""
             }
            },
            "marker": {
             "colorbar": {
              "outlinewidth": 0,
              "ticks": ""
             }
            },
            "type": "scatter3d"
           }
          ],
          "scattercarpet": [
           {
            "marker": {
             "colorbar": {
              "outlinewidth": 0,
              "ticks": ""
             }
            },
            "type": "scattercarpet"
           }
          ],
          "scattergeo": [
           {
            "marker": {
             "colorbar": {
              "outlinewidth": 0,
              "ticks": ""
             }
            },
            "type": "scattergeo"
           }
          ],
          "scattergl": [
           {
            "marker": {
             "colorbar": {
              "outlinewidth": 0,
              "ticks": ""
             }
            },
            "type": "scattergl"
           }
          ],
          "scattermapbox": [
           {
            "marker": {
             "colorbar": {
              "outlinewidth": 0,
              "ticks": ""
             }
            },
            "type": "scattermapbox"
           }
          ],
          "scatterpolar": [
           {
            "marker": {
             "colorbar": {
              "outlinewidth": 0,
              "ticks": ""
             }
            },
            "type": "scatterpolar"
           }
          ],
          "scatterpolargl": [
           {
            "marker": {
             "colorbar": {
              "outlinewidth": 0,
              "ticks": ""
             }
            },
            "type": "scatterpolargl"
           }
          ],
          "scatterternary": [
           {
            "marker": {
             "colorbar": {
              "outlinewidth": 0,
              "ticks": ""
             }
            },
            "type": "scatterternary"
           }
          ],
          "surface": [
           {
            "colorbar": {
             "outlinewidth": 0,
             "ticks": ""
            },
            "colorscale": [
             [
              0,
              "#0d0887"
             ],
             [
              0.1111111111111111,
              "#46039f"
             ],
             [
              0.2222222222222222,
              "#7201a8"
             ],
             [
              0.3333333333333333,
              "#9c179e"
             ],
             [
              0.4444444444444444,
              "#bd3786"
             ],
             [
              0.5555555555555556,
              "#d8576b"
             ],
             [
              0.6666666666666666,
              "#ed7953"
             ],
             [
              0.7777777777777778,
              "#fb9f3a"
             ],
             [
              0.8888888888888888,
              "#fdca26"
             ],
             [
              1,
              "#f0f921"
             ]
            ],
            "type": "surface"
           }
          ],
          "table": [
           {
            "cells": {
             "fill": {
              "color": "#EBF0F8"
             },
             "line": {
              "color": "white"
             }
            },
            "header": {
             "fill": {
              "color": "#C8D4E3"
             },
             "line": {
              "color": "white"
             }
            },
            "type": "table"
           }
          ]
         },
         "layout": {
          "annotationdefaults": {
           "arrowcolor": "#2a3f5f",
           "arrowhead": 0,
           "arrowwidth": 1
          },
          "autotypenumbers": "strict",
          "coloraxis": {
           "colorbar": {
            "outlinewidth": 0,
            "ticks": ""
           }
          },
          "colorscale": {
           "diverging": [
            [
             0,
             "#8e0152"
            ],
            [
             0.1,
             "#c51b7d"
            ],
            [
             0.2,
             "#de77ae"
            ],
            [
             0.3,
             "#f1b6da"
            ],
            [
             0.4,
             "#fde0ef"
            ],
            [
             0.5,
             "#f7f7f7"
            ],
            [
             0.6,
             "#e6f5d0"
            ],
            [
             0.7,
             "#b8e186"
            ],
            [
             0.8,
             "#7fbc41"
            ],
            [
             0.9,
             "#4d9221"
            ],
            [
             1,
             "#276419"
            ]
           ],
           "sequential": [
            [
             0,
             "#0d0887"
            ],
            [
             0.1111111111111111,
             "#46039f"
            ],
            [
             0.2222222222222222,
             "#7201a8"
            ],
            [
             0.3333333333333333,
             "#9c179e"
            ],
            [
             0.4444444444444444,
             "#bd3786"
            ],
            [
             0.5555555555555556,
             "#d8576b"
            ],
            [
             0.6666666666666666,
             "#ed7953"
            ],
            [
             0.7777777777777778,
             "#fb9f3a"
            ],
            [
             0.8888888888888888,
             "#fdca26"
            ],
            [
             1,
             "#f0f921"
            ]
           ],
           "sequentialminus": [
            [
             0,
             "#0d0887"
            ],
            [
             0.1111111111111111,
             "#46039f"
            ],
            [
             0.2222222222222222,
             "#7201a8"
            ],
            [
             0.3333333333333333,
             "#9c179e"
            ],
            [
             0.4444444444444444,
             "#bd3786"
            ],
            [
             0.5555555555555556,
             "#d8576b"
            ],
            [
             0.6666666666666666,
             "#ed7953"
            ],
            [
             0.7777777777777778,
             "#fb9f3a"
            ],
            [
             0.8888888888888888,
             "#fdca26"
            ],
            [
             1,
             "#f0f921"
            ]
           ]
          },
          "colorway": [
           "#636efa",
           "#EF553B",
           "#00cc96",
           "#ab63fa",
           "#FFA15A",
           "#19d3f3",
           "#FF6692",
           "#B6E880",
           "#FF97FF",
           "#FECB52"
          ],
          "font": {
           "color": "#2a3f5f"
          },
          "geo": {
           "bgcolor": "white",
           "lakecolor": "white",
           "landcolor": "#E5ECF6",
           "showlakes": true,
           "showland": true,
           "subunitcolor": "white"
          },
          "hoverlabel": {
           "align": "left"
          },
          "hovermode": "closest",
          "mapbox": {
           "style": "light"
          },
          "paper_bgcolor": "white",
          "plot_bgcolor": "#E5ECF6",
          "polar": {
           "angularaxis": {
            "gridcolor": "white",
            "linecolor": "white",
            "ticks": ""
           },
           "bgcolor": "#E5ECF6",
           "radialaxis": {
            "gridcolor": "white",
            "linecolor": "white",
            "ticks": ""
           }
          },
          "scene": {
           "xaxis": {
            "backgroundcolor": "#E5ECF6",
            "gridcolor": "white",
            "gridwidth": 2,
            "linecolor": "white",
            "showbackground": true,
            "ticks": "",
            "zerolinecolor": "white"
           },
           "yaxis": {
            "backgroundcolor": "#E5ECF6",
            "gridcolor": "white",
            "gridwidth": 2,
            "linecolor": "white",
            "showbackground": true,
            "ticks": "",
            "zerolinecolor": "white"
           },
           "zaxis": {
            "backgroundcolor": "#E5ECF6",
            "gridcolor": "white",
            "gridwidth": 2,
            "linecolor": "white",
            "showbackground": true,
            "ticks": "",
            "zerolinecolor": "white"
           }
          },
          "shapedefaults": {
           "line": {
            "color": "#2a3f5f"
           }
          },
          "ternary": {
           "aaxis": {
            "gridcolor": "white",
            "linecolor": "white",
            "ticks": ""
           },
           "baxis": {
            "gridcolor": "white",
            "linecolor": "white",
            "ticks": ""
           },
           "bgcolor": "#E5ECF6",
           "caxis": {
            "gridcolor": "white",
            "linecolor": "white",
            "ticks": ""
           }
          },
          "title": {
           "x": 0.05
          },
          "xaxis": {
           "automargin": true,
           "gridcolor": "white",
           "linecolor": "white",
           "ticks": "",
           "title": {
            "standoff": 15
           },
           "zerolinecolor": "white",
           "zerolinewidth": 2
          },
          "yaxis": {
           "automargin": true,
           "gridcolor": "white",
           "linecolor": "white",
           "ticks": "",
           "title": {
            "standoff": 15
           },
           "zerolinecolor": "white",
           "zerolinewidth": 2
          }
         }
        },
        "title": {
         "text": "Trait Annotation"
        }
       }
      }
     },
     "metadata": {},
     "output_type": "display_data"
    }
   ],
   "source": [
    "labels = ['None of the above', 'Can infer correct Entity', 'Can infer correct Quality', 'Can infer correct Value']\n",
    "\n",
    "cafe_colors =  ['rgb(146, 123, 21)', 'rgb(177, 180, 34)', 'rgb(206, 206, 40)',\n",
    "                'rgb(175, 51, 21)', 'rgb(35, 36, 21)']\n",
    "\n",
    "# Create subplots: use 'domain' type for Pie subplot\n",
    "fig = make_subplots(rows=1, cols=2, specs=[[{'type':'domain'}, {'type':'domain'}]])\n",
    "fig.add_trace(go.Pie(labels=labels, \n",
    "                     values=df_plot.groupby([\"SIM\"]).sum()[labels].iloc[0].values,\n",
    "                     name=\"Bert Similarity\",\n",
    "                     marker_colors=cafe_colors),\n",
    "              1, 1)\n",
    "fig.add_trace(go.Pie(labels=labels, \n",
    "                     values=df_plot.groupby([\"SIM\"]).sum()[labels].iloc[1].values,\n",
    "                     name=\"Jaccard Similarity\",\n",
    "                     marker_colors=cafe_colors),\n",
    "              1, 2)\n",
    "\n",
    "# Use `hole` to create a donut-like pie chart\n",
    "fig.update_traces(hole=.6, hoverinfo=\"label+percent+name\")\n",
    "\n",
    "fig.update_layout(\n",
    "    title_text=\"Trait Annotation\",\n",
    "    # Add annotations in the center of the donut pies.\n",
    "    annotations=[dict(text='BERT', x=0.2, y=0.5, font_size=20, showarrow=False),\n",
    "                 dict(text='JACC', x=0.8, y=0.5, font_size=20, showarrow=False)])\n",
    "fig.show()"
   ]
  },
  {
   "cell_type": "code",
   "execution_count": 16,
   "id": "f7563511",
   "metadata": {},
   "outputs": [
    {
     "data": {
      "application/vnd.plotly.v1+json": {
       "config": {
        "plotlyServerURL": "https://plot.ly"
       },
       "data": [
        {
         "domain": {
          "x": [
           0,
           0.2888888888888889
          ],
          "y": [
           0.575,
           1
          ]
         },
         "hole": 0.4,
         "hoverinfo": "label+percent+name",
         "labels": [
          "None of the above",
          "Can infer correct Entity",
          "Can infer correct Quality",
          "Can infer correct Value"
         ],
         "marker": {
          "colors": [
           "rgb(33, 75, 99)",
           "rgb(79, 129, 102)",
           "rgb(151, 179, 100)",
           "rgb(175, 49, 35)",
           "rgb(36, 73, 147)"
          ]
         },
         "name": "Bert PlantNet",
         "sort": false,
         "type": "pie",
         "values": [
          47,
          18,
          7,
          7
         ]
        },
        {
         "domain": {
          "x": [
           0.35555555555555557,
           0.6444444444444445
          ],
          "y": [
           0.575,
           1
          ]
         },
         "hole": 0.4,
         "hoverinfo": "label+percent+name",
         "labels": [
          "None of the above",
          "Can infer correct Entity",
          "Can infer correct Quality",
          "Can infer correct Value"
         ],
         "marker": {
          "colors": [
           "rgb(33, 75, 99)",
           "rgb(79, 129, 102)",
           "rgb(151, 179, 100)",
           "rgb(175, 49, 35)",
           "rgb(36, 73, 147)"
          ]
         },
         "name": "Bert Palm",
         "sort": false,
         "type": "pie",
         "values": [
          17,
          7,
          0,
          4
         ]
        },
        {
         "domain": {
          "x": [
           0.7111111111111111,
           1
          ],
          "y": [
           0.575,
           1
          ]
         },
         "hole": 0.4,
         "hoverinfo": "label+percent+name",
         "labels": [
          "None of the above",
          "Can infer correct Entity",
          "Can infer correct Quality",
          "Can infer correct Value"
         ],
         "marker": {
          "colors": [
           "rgb(33, 75, 99)",
           "rgb(79, 129, 102)",
           "rgb(151, 179, 100)",
           "rgb(175, 49, 35)",
           "rgb(36, 73, 147)"
          ]
         },
         "name": "Bert Caribbean",
         "sort": false,
         "type": "pie",
         "values": [
          32,
          23,
          7,
          15
         ]
        },
        {
         "domain": {
          "x": [
           0,
           0.2888888888888889
          ],
          "y": [
           0,
           0.425
          ]
         },
         "hole": 0.4,
         "hoverinfo": "label+percent+name",
         "labels": [
          "None of the above",
          "Can infer correct Entity",
          "Can infer correct Quality",
          "Can infer correct Value"
         ],
         "marker": {
          "colors": [
           "rgb(33, 75, 99)",
           "rgb(79, 129, 102)",
           "rgb(151, 179, 100)",
           "rgb(175, 49, 35)",
           "rgb(36, 73, 147)"
          ]
         },
         "name": "Jacc PlantNet",
         "sort": false,
         "type": "pie",
         "values": [
          12,
          2,
          1,
          5
         ]
        },
        {
         "domain": {
          "x": [
           0.35555555555555557,
           0.6444444444444445
          ],
          "y": [
           0,
           0.425
          ]
         },
         "hole": 0.4,
         "hoverinfo": "label+percent+name",
         "labels": [
          "None of the above",
          "Can infer correct Entity",
          "Can infer correct Quality",
          "Can infer correct Value"
         ],
         "marker": {
          "colors": [
           "rgb(33, 75, 99)",
           "rgb(79, 129, 102)",
           "rgb(151, 179, 100)",
           "rgb(175, 49, 35)",
           "rgb(36, 73, 147)"
          ]
         },
         "name": "Jacc Palm",
         "sort": false,
         "type": "pie",
         "values": [
          10,
          17,
          2,
          4
         ]
        },
        {
         "domain": {
          "x": [
           0.7111111111111111,
           1
          ],
          "y": [
           0,
           0.425
          ]
         },
         "hole": 0.4,
         "hoverinfo": "label+percent+name",
         "labels": [
          "None of the above",
          "Can infer correct Entity",
          "Can infer correct Quality",
          "Can infer correct Value"
         ],
         "marker": {
          "colors": [
           "rgb(33, 75, 99)",
           "rgb(79, 129, 102)",
           "rgb(151, 179, 100)",
           "rgb(175, 49, 35)",
           "rgb(36, 73, 147)"
          ]
         },
         "name": "Jacc Caribbean",
         "sort": false,
         "type": "pie",
         "values": [
          12,
          34,
          0,
          13
         ]
        }
       ],
       "layout": {
        "annotations": [
         {
          "font": {
           "size": 15
          },
          "showarrow": false,
          "text": "PlantNet Dataset Bert",
          "x": 0.05,
          "y": 1.1
         },
         {
          "font": {
           "size": 15
          },
          "showarrow": false,
          "text": "Palm Dataset Bert",
          "x": 0.5,
          "y": 1.1
         },
         {
          "font": {
           "size": 15
          },
          "showarrow": false,
          "text": "Caribbean Dataset Bert",
          "x": 0.95,
          "y": 1.1
         },
         {
          "font": {
           "size": 15
          },
          "showarrow": false,
          "text": "PlantNet Dataset Jacc",
          "x": 0.05,
          "y": -0.12
         },
         {
          "font": {
           "size": 15
          },
          "showarrow": false,
          "text": "Palm Dataset Jacc",
          "x": 0.5,
          "y": -0.12
         },
         {
          "font": {
           "size": 15
          },
          "showarrow": false,
          "text": "Caribbean Dataset Jacc",
          "x": 0.95,
          "y": -0.12
         }
        ],
        "template": {
         "data": {
          "bar": [
           {
            "error_x": {
             "color": "#2a3f5f"
            },
            "error_y": {
             "color": "#2a3f5f"
            },
            "marker": {
             "line": {
              "color": "#E5ECF6",
              "width": 0.5
             },
             "pattern": {
              "fillmode": "overlay",
              "size": 10,
              "solidity": 0.2
             }
            },
            "type": "bar"
           }
          ],
          "barpolar": [
           {
            "marker": {
             "line": {
              "color": "#E5ECF6",
              "width": 0.5
             },
             "pattern": {
              "fillmode": "overlay",
              "size": 10,
              "solidity": 0.2
             }
            },
            "type": "barpolar"
           }
          ],
          "carpet": [
           {
            "aaxis": {
             "endlinecolor": "#2a3f5f",
             "gridcolor": "white",
             "linecolor": "white",
             "minorgridcolor": "white",
             "startlinecolor": "#2a3f5f"
            },
            "baxis": {
             "endlinecolor": "#2a3f5f",
             "gridcolor": "white",
             "linecolor": "white",
             "minorgridcolor": "white",
             "startlinecolor": "#2a3f5f"
            },
            "type": "carpet"
           }
          ],
          "choropleth": [
           {
            "colorbar": {
             "outlinewidth": 0,
             "ticks": ""
            },
            "type": "choropleth"
           }
          ],
          "contour": [
           {
            "colorbar": {
             "outlinewidth": 0,
             "ticks": ""
            },
            "colorscale": [
             [
              0,
              "#0d0887"
             ],
             [
              0.1111111111111111,
              "#46039f"
             ],
             [
              0.2222222222222222,
              "#7201a8"
             ],
             [
              0.3333333333333333,
              "#9c179e"
             ],
             [
              0.4444444444444444,
              "#bd3786"
             ],
             [
              0.5555555555555556,
              "#d8576b"
             ],
             [
              0.6666666666666666,
              "#ed7953"
             ],
             [
              0.7777777777777778,
              "#fb9f3a"
             ],
             [
              0.8888888888888888,
              "#fdca26"
             ],
             [
              1,
              "#f0f921"
             ]
            ],
            "type": "contour"
           }
          ],
          "contourcarpet": [
           {
            "colorbar": {
             "outlinewidth": 0,
             "ticks": ""
            },
            "type": "contourcarpet"
           }
          ],
          "heatmap": [
           {
            "colorbar": {
             "outlinewidth": 0,
             "ticks": ""
            },
            "colorscale": [
             [
              0,
              "#0d0887"
             ],
             [
              0.1111111111111111,
              "#46039f"
             ],
             [
              0.2222222222222222,
              "#7201a8"
             ],
             [
              0.3333333333333333,
              "#9c179e"
             ],
             [
              0.4444444444444444,
              "#bd3786"
             ],
             [
              0.5555555555555556,
              "#d8576b"
             ],
             [
              0.6666666666666666,
              "#ed7953"
             ],
             [
              0.7777777777777778,
              "#fb9f3a"
             ],
             [
              0.8888888888888888,
              "#fdca26"
             ],
             [
              1,
              "#f0f921"
             ]
            ],
            "type": "heatmap"
           }
          ],
          "heatmapgl": [
           {
            "colorbar": {
             "outlinewidth": 0,
             "ticks": ""
            },
            "colorscale": [
             [
              0,
              "#0d0887"
             ],
             [
              0.1111111111111111,
              "#46039f"
             ],
             [
              0.2222222222222222,
              "#7201a8"
             ],
             [
              0.3333333333333333,
              "#9c179e"
             ],
             [
              0.4444444444444444,
              "#bd3786"
             ],
             [
              0.5555555555555556,
              "#d8576b"
             ],
             [
              0.6666666666666666,
              "#ed7953"
             ],
             [
              0.7777777777777778,
              "#fb9f3a"
             ],
             [
              0.8888888888888888,
              "#fdca26"
             ],
             [
              1,
              "#f0f921"
             ]
            ],
            "type": "heatmapgl"
           }
          ],
          "histogram": [
           {
            "marker": {
             "pattern": {
              "fillmode": "overlay",
              "size": 10,
              "solidity": 0.2
             }
            },
            "type": "histogram"
           }
          ],
          "histogram2d": [
           {
            "colorbar": {
             "outlinewidth": 0,
             "ticks": ""
            },
            "colorscale": [
             [
              0,
              "#0d0887"
             ],
             [
              0.1111111111111111,
              "#46039f"
             ],
             [
              0.2222222222222222,
              "#7201a8"
             ],
             [
              0.3333333333333333,
              "#9c179e"
             ],
             [
              0.4444444444444444,
              "#bd3786"
             ],
             [
              0.5555555555555556,
              "#d8576b"
             ],
             [
              0.6666666666666666,
              "#ed7953"
             ],
             [
              0.7777777777777778,
              "#fb9f3a"
             ],
             [
              0.8888888888888888,
              "#fdca26"
             ],
             [
              1,
              "#f0f921"
             ]
            ],
            "type": "histogram2d"
           }
          ],
          "histogram2dcontour": [
           {
            "colorbar": {
             "outlinewidth": 0,
             "ticks": ""
            },
            "colorscale": [
             [
              0,
              "#0d0887"
             ],
             [
              0.1111111111111111,
              "#46039f"
             ],
             [
              0.2222222222222222,
              "#7201a8"
             ],
             [
              0.3333333333333333,
              "#9c179e"
             ],
             [
              0.4444444444444444,
              "#bd3786"
             ],
             [
              0.5555555555555556,
              "#d8576b"
             ],
             [
              0.6666666666666666,
              "#ed7953"
             ],
             [
              0.7777777777777778,
              "#fb9f3a"
             ],
             [
              0.8888888888888888,
              "#fdca26"
             ],
             [
              1,
              "#f0f921"
             ]
            ],
            "type": "histogram2dcontour"
           }
          ],
          "mesh3d": [
           {
            "colorbar": {
             "outlinewidth": 0,
             "ticks": ""
            },
            "type": "mesh3d"
           }
          ],
          "parcoords": [
           {
            "line": {
             "colorbar": {
              "outlinewidth": 0,
              "ticks": ""
             }
            },
            "type": "parcoords"
           }
          ],
          "pie": [
           {
            "automargin": true,
            "type": "pie"
           }
          ],
          "scatter": [
           {
            "fillpattern": {
             "fillmode": "overlay",
             "size": 10,
             "solidity": 0.2
            },
            "type": "scatter"
           }
          ],
          "scatter3d": [
           {
            "line": {
             "colorbar": {
              "outlinewidth": 0,
              "ticks": ""
             }
            },
            "marker": {
             "colorbar": {
              "outlinewidth": 0,
              "ticks": ""
             }
            },
            "type": "scatter3d"
           }
          ],
          "scattercarpet": [
           {
            "marker": {
             "colorbar": {
              "outlinewidth": 0,
              "ticks": ""
             }
            },
            "type": "scattercarpet"
           }
          ],
          "scattergeo": [
           {
            "marker": {
             "colorbar": {
              "outlinewidth": 0,
              "ticks": ""
             }
            },
            "type": "scattergeo"
           }
          ],
          "scattergl": [
           {
            "marker": {
             "colorbar": {
              "outlinewidth": 0,
              "ticks": ""
             }
            },
            "type": "scattergl"
           }
          ],
          "scattermapbox": [
           {
            "marker": {
             "colorbar": {
              "outlinewidth": 0,
              "ticks": ""
             }
            },
            "type": "scattermapbox"
           }
          ],
          "scatterpolar": [
           {
            "marker": {
             "colorbar": {
              "outlinewidth": 0,
              "ticks": ""
             }
            },
            "type": "scatterpolar"
           }
          ],
          "scatterpolargl": [
           {
            "marker": {
             "colorbar": {
              "outlinewidth": 0,
              "ticks": ""
             }
            },
            "type": "scatterpolargl"
           }
          ],
          "scatterternary": [
           {
            "marker": {
             "colorbar": {
              "outlinewidth": 0,
              "ticks": ""
             }
            },
            "type": "scatterternary"
           }
          ],
          "surface": [
           {
            "colorbar": {
             "outlinewidth": 0,
             "ticks": ""
            },
            "colorscale": [
             [
              0,
              "#0d0887"
             ],
             [
              0.1111111111111111,
              "#46039f"
             ],
             [
              0.2222222222222222,
              "#7201a8"
             ],
             [
              0.3333333333333333,
              "#9c179e"
             ],
             [
              0.4444444444444444,
              "#bd3786"
             ],
             [
              0.5555555555555556,
              "#d8576b"
             ],
             [
              0.6666666666666666,
              "#ed7953"
             ],
             [
              0.7777777777777778,
              "#fb9f3a"
             ],
             [
              0.8888888888888888,
              "#fdca26"
             ],
             [
              1,
              "#f0f921"
             ]
            ],
            "type": "surface"
           }
          ],
          "table": [
           {
            "cells": {
             "fill": {
              "color": "#EBF0F8"
             },
             "line": {
              "color": "white"
             }
            },
            "header": {
             "fill": {
              "color": "#C8D4E3"
             },
             "line": {
              "color": "white"
             }
            },
            "type": "table"
           }
          ]
         },
         "layout": {
          "annotationdefaults": {
           "arrowcolor": "#2a3f5f",
           "arrowhead": 0,
           "arrowwidth": 1
          },
          "autotypenumbers": "strict",
          "coloraxis": {
           "colorbar": {
            "outlinewidth": 0,
            "ticks": ""
           }
          },
          "colorscale": {
           "diverging": [
            [
             0,
             "#8e0152"
            ],
            [
             0.1,
             "#c51b7d"
            ],
            [
             0.2,
             "#de77ae"
            ],
            [
             0.3,
             "#f1b6da"
            ],
            [
             0.4,
             "#fde0ef"
            ],
            [
             0.5,
             "#f7f7f7"
            ],
            [
             0.6,
             "#e6f5d0"
            ],
            [
             0.7,
             "#b8e186"
            ],
            [
             0.8,
             "#7fbc41"
            ],
            [
             0.9,
             "#4d9221"
            ],
            [
             1,
             "#276419"
            ]
           ],
           "sequential": [
            [
             0,
             "#0d0887"
            ],
            [
             0.1111111111111111,
             "#46039f"
            ],
            [
             0.2222222222222222,
             "#7201a8"
            ],
            [
             0.3333333333333333,
             "#9c179e"
            ],
            [
             0.4444444444444444,
             "#bd3786"
            ],
            [
             0.5555555555555556,
             "#d8576b"
            ],
            [
             0.6666666666666666,
             "#ed7953"
            ],
            [
             0.7777777777777778,
             "#fb9f3a"
            ],
            [
             0.8888888888888888,
             "#fdca26"
            ],
            [
             1,
             "#f0f921"
            ]
           ],
           "sequentialminus": [
            [
             0,
             "#0d0887"
            ],
            [
             0.1111111111111111,
             "#46039f"
            ],
            [
             0.2222222222222222,
             "#7201a8"
            ],
            [
             0.3333333333333333,
             "#9c179e"
            ],
            [
             0.4444444444444444,
             "#bd3786"
            ],
            [
             0.5555555555555556,
             "#d8576b"
            ],
            [
             0.6666666666666666,
             "#ed7953"
            ],
            [
             0.7777777777777778,
             "#fb9f3a"
            ],
            [
             0.8888888888888888,
             "#fdca26"
            ],
            [
             1,
             "#f0f921"
            ]
           ]
          },
          "colorway": [
           "#636efa",
           "#EF553B",
           "#00cc96",
           "#ab63fa",
           "#FFA15A",
           "#19d3f3",
           "#FF6692",
           "#B6E880",
           "#FF97FF",
           "#FECB52"
          ],
          "font": {
           "color": "#2a3f5f"
          },
          "geo": {
           "bgcolor": "white",
           "lakecolor": "white",
           "landcolor": "#E5ECF6",
           "showlakes": true,
           "showland": true,
           "subunitcolor": "white"
          },
          "hoverlabel": {
           "align": "left"
          },
          "hovermode": "closest",
          "mapbox": {
           "style": "light"
          },
          "paper_bgcolor": "white",
          "plot_bgcolor": "#E5ECF6",
          "polar": {
           "angularaxis": {
            "gridcolor": "white",
            "linecolor": "white",
            "ticks": ""
           },
           "bgcolor": "#E5ECF6",
           "radialaxis": {
            "gridcolor": "white",
            "linecolor": "white",
            "ticks": ""
           }
          },
          "scene": {
           "xaxis": {
            "backgroundcolor": "#E5ECF6",
            "gridcolor": "white",
            "gridwidth": 2,
            "linecolor": "white",
            "showbackground": true,
            "ticks": "",
            "zerolinecolor": "white"
           },
           "yaxis": {
            "backgroundcolor": "#E5ECF6",
            "gridcolor": "white",
            "gridwidth": 2,
            "linecolor": "white",
            "showbackground": true,
            "ticks": "",
            "zerolinecolor": "white"
           },
           "zaxis": {
            "backgroundcolor": "#E5ECF6",
            "gridcolor": "white",
            "gridwidth": 2,
            "linecolor": "white",
            "showbackground": true,
            "ticks": "",
            "zerolinecolor": "white"
           }
          },
          "shapedefaults": {
           "line": {
            "color": "#2a3f5f"
           }
          },
          "ternary": {
           "aaxis": {
            "gridcolor": "white",
            "linecolor": "white",
            "ticks": ""
           },
           "baxis": {
            "gridcolor": "white",
            "linecolor": "white",
            "ticks": ""
           },
           "bgcolor": "#E5ECF6",
           "caxis": {
            "gridcolor": "white",
            "linecolor": "white",
            "ticks": ""
           }
          },
          "title": {
           "x": 0.05
          },
          "xaxis": {
           "automargin": true,
           "gridcolor": "white",
           "linecolor": "white",
           "ticks": "",
           "title": {
            "standoff": 15
           },
           "zerolinecolor": "white",
           "zerolinewidth": 2
          },
          "yaxis": {
           "automargin": true,
           "gridcolor": "white",
           "linecolor": "white",
           "ticks": "",
           "title": {
            "standoff": 15
           },
           "zerolinecolor": "white",
           "zerolinewidth": 2
          }
         }
        },
        "title": {
         "text": "Trait Annotation"
        }
       }
      }
     },
     "metadata": {},
     "output_type": "display_data"
    }
   ],
   "source": [
    "\n",
    "cafe_colors =  ['rgb(146, 123, 21)', 'rgb(177, 180, 34)', 'rgb(206, 206, 40)',\n",
    "                'rgb(175, 51, 21)', 'rgb(35, 36, 21)']\n",
    "\n",
    "irises_colors = ['rgb(33, 75, 99)', 'rgb(79, 129, 102)', 'rgb(151, 179, 100)',\n",
    "                 'rgb(175, 49, 35)', 'rgb(36, 73, 147)']\n",
    "\n",
    "# Create subplots: use 'domain' type for Pie subplot\n",
    "fig = make_subplots(rows=2, cols=3, specs=[[{'type':'domain'}, {'type':'domain'}, {'type':'domain'}],\n",
    "                                           [{'type':'domain'}, {'type':'domain'}, {'type':'domain'}]])\n",
    "\n",
    "# Add pie charts to each subplot\n",
    "for i, sim in enumerate(df_plot[\"SIM\"].unique()):\n",
    "    for j, dataset in enumerate(df_plot[\"Dataset\"].unique()):\n",
    "        df_sub = df_plot[(df_plot[\"SIM\"] == sim) & (df_plot[\"Dataset\"] == dataset)]\n",
    "        fig.add_trace(go.Pie(labels=labels, \n",
    "                             values=df_sub.groupby([\"SIM\", \"Dataset\"]).sum()[labels].iloc[0].values,\n",
    "                             name=sim + ' ' + dataset,\n",
    "                             sort=False,\n",
    "                             marker_colors=irises_colors),\n",
    "                      i+1, j+1)\n",
    "\n",
    "# Use `hole` to create a donut-like pie chart\n",
    "fig.update_traces(hole=.4, hoverinfo=\"label+percent+name\")\n",
    "\n",
    "fig.update_layout(\n",
    "    title_text=\"Trait Annotation\",\n",
    "    # Add annotations in the center of the donut pies.\n",
    "    annotations=[dict(text='PlantNet Dataset Bert',  x=0.050, y=1.1, font_size=15, showarrow=False),\n",
    "                 dict(text='Palm Dataset Bert',      x=0.500, y=1.1, font_size=15, showarrow=False),\n",
    "                 dict(text='Caribbean Dataset Bert', x=0.950, y=1.1, font_size=15, showarrow=False),\n",
    "                 dict(text='PlantNet Dataset Jacc',  x=0.050, y=-0.12, font_size=15, showarrow=False),\n",
    "                 dict(text='Palm Dataset Jacc',      x=0.500, y=-0.12, font_size=15, showarrow=False),\n",
    "                 dict(text='Caribbean Dataset Jacc', x=0.950, y=-0.12, font_size=15, showarrow=False)]\n",
    ")\n",
    "\n",
    "fig.show()"
   ]
  },
  {
   "cell_type": "code",
   "execution_count": 17,
   "id": "ba8ed6bb",
   "metadata": {},
   "outputs": [
    {
     "data": {
      "text/html": [
       "<div>\n",
       "<style scoped>\n",
       "    .dataframe tbody tr th:only-of-type {\n",
       "        vertical-align: middle;\n",
       "    }\n",
       "\n",
       "    .dataframe tbody tr th {\n",
       "        vertical-align: top;\n",
       "    }\n",
       "\n",
       "    .dataframe thead th {\n",
       "        text-align: right;\n",
       "    }\n",
       "</style>\n",
       "<table border=\"1\" class=\"dataframe\">\n",
       "  <thead>\n",
       "    <tr style=\"text-align: right;\">\n",
       "      <th></th>\n",
       "      <th>Species</th>\n",
       "      <th>Main Trait</th>\n",
       "      <th>SIM</th>\n",
       "      <th>Dataset</th>\n",
       "      <th>None</th>\n",
       "      <th>value</th>\n",
       "    </tr>\n",
       "  </thead>\n",
       "  <tbody>\n",
       "    <tr>\n",
       "      <th>0</th>\n",
       "      <td>Lannea fruticosa</td>\n",
       "      <td>leaf apex</td>\n",
       "      <td>Bert</td>\n",
       "      <td>PlantNet</td>\n",
       "      <td>Can infer correct Value</td>\n",
       "      <td>0</td>\n",
       "    </tr>\n",
       "    <tr>\n",
       "      <th>1</th>\n",
       "      <td>Strychnos spinosa</td>\n",
       "      <td>petiole</td>\n",
       "      <td>Bert</td>\n",
       "      <td>PlantNet</td>\n",
       "      <td>Can infer correct Value</td>\n",
       "      <td>0</td>\n",
       "    </tr>\n",
       "    <tr>\n",
       "      <th>2</th>\n",
       "      <td>Keetia venosa</td>\n",
       "      <td>vein</td>\n",
       "      <td>Bert</td>\n",
       "      <td>PlantNet</td>\n",
       "      <td>Can infer correct Value</td>\n",
       "      <td>0</td>\n",
       "    </tr>\n",
       "    <tr>\n",
       "      <th>3</th>\n",
       "      <td>Crescentia cujete</td>\n",
       "      <td>inflorescences</td>\n",
       "      <td>Bert</td>\n",
       "      <td>PlantNet</td>\n",
       "      <td>Can infer correct Value</td>\n",
       "      <td>0</td>\n",
       "    </tr>\n",
       "    <tr>\n",
       "      <th>4</th>\n",
       "      <td>Crescentia cujete</td>\n",
       "      <td>inflorescences</td>\n",
       "      <td>Bert</td>\n",
       "      <td>PlantNet</td>\n",
       "      <td>Can infer correct Value</td>\n",
       "      <td>0</td>\n",
       "    </tr>\n",
       "    <tr>\n",
       "      <th>...</th>\n",
       "      <td>...</td>\n",
       "      <td>...</td>\n",
       "      <td>...</td>\n",
       "      <td>...</td>\n",
       "      <td>...</td>\n",
       "      <td>...</td>\n",
       "    </tr>\n",
       "    <tr>\n",
       "      <th>1179</th>\n",
       "      <td>Eucalyptus tereticornis</td>\n",
       "      <td>leaf blade</td>\n",
       "      <td>Bert</td>\n",
       "      <td>PlantNet</td>\n",
       "      <td>Can infer correct Quality</td>\n",
       "      <td>0</td>\n",
       "    </tr>\n",
       "    <tr>\n",
       "      <th>1180</th>\n",
       "      <td>Maerua angolensis</td>\n",
       "      <td>plant type</td>\n",
       "      <td>Jacc</td>\n",
       "      <td>PlantNet</td>\n",
       "      <td>Can infer correct Quality</td>\n",
       "      <td>0</td>\n",
       "    </tr>\n",
       "    <tr>\n",
       "      <th>1181</th>\n",
       "      <td>Cordia africana</td>\n",
       "      <td>vein</td>\n",
       "      <td>Bert</td>\n",
       "      <td>PlantNet</td>\n",
       "      <td>Can infer correct Quality</td>\n",
       "      <td>0</td>\n",
       "    </tr>\n",
       "    <tr>\n",
       "      <th>1182</th>\n",
       "      <td>Aphania senegalensis</td>\n",
       "      <td>leaf apex</td>\n",
       "      <td>Bert</td>\n",
       "      <td>PlantNet</td>\n",
       "      <td>Can infer correct Quality</td>\n",
       "      <td>0</td>\n",
       "    </tr>\n",
       "    <tr>\n",
       "      <th>1183</th>\n",
       "      <td>Khaya senegalensis</td>\n",
       "      <td>leaf base</td>\n",
       "      <td>Bert</td>\n",
       "      <td>PlantNet</td>\n",
       "      <td>Can infer correct Quality</td>\n",
       "      <td>0</td>\n",
       "    </tr>\n",
       "  </tbody>\n",
       "</table>\n",
       "<p>1184 rows × 6 columns</p>\n",
       "</div>"
      ],
      "text/plain": [
       "                      Species      Main Trait   SIM   Dataset  \\\n",
       "0            Lannea fruticosa       leaf apex  Bert  PlantNet   \n",
       "1           Strychnos spinosa         petiole  Bert  PlantNet   \n",
       "2               Keetia venosa            vein  Bert  PlantNet   \n",
       "3           Crescentia cujete  inflorescences  Bert  PlantNet   \n",
       "4           Crescentia cujete  inflorescences  Bert  PlantNet   \n",
       "...                       ...             ...   ...       ...   \n",
       "1179  Eucalyptus tereticornis      leaf blade  Bert  PlantNet   \n",
       "1180        Maerua angolensis      plant type  Jacc  PlantNet   \n",
       "1181          Cordia africana            vein  Bert  PlantNet   \n",
       "1182     Aphania senegalensis       leaf apex  Bert  PlantNet   \n",
       "1183       Khaya senegalensis       leaf base  Bert  PlantNet   \n",
       "\n",
       "                           None  value  \n",
       "0       Can infer correct Value      0  \n",
       "1       Can infer correct Value      0  \n",
       "2       Can infer correct Value      0  \n",
       "3       Can infer correct Value      0  \n",
       "4       Can infer correct Value      0  \n",
       "...                         ...    ...  \n",
       "1179  Can infer correct Quality      0  \n",
       "1180  Can infer correct Quality      0  \n",
       "1181  Can infer correct Quality      0  \n",
       "1182  Can infer correct Quality      0  \n",
       "1183  Can infer correct Quality      0  \n",
       "\n",
       "[1184 rows x 6 columns]"
      ]
     },
     "execution_count": 17,
     "metadata": {},
     "output_type": "execute_result"
    }
   ],
   "source": [
    "# df_melt = pd.melt(df_plot, id_vars=[\"Species\", \"Main Trait\", \"SIM\", \"Dataset\"], \n",
    "#         value_vars=['Can infer correct Value', 'None of the above', 'Can infer correct Entity', 'Can infer correct Quality'],\n",
    "#         var_name='None', value_name='value', col_level=None, ignore_index=True)\n",
    "\n",
    "df_melt = pd.melt(df_plot, id_vars=[\"Species\", \"Main Trait\", \"SIM\", \"Dataset\"], \n",
    "        value_vars=['Can infer correct Value', 'None of the above', 'Can infer correct Entity', 'Can infer correct Quality'],\n",
    "        var_name='None', value_name='value', col_level=None, ignore_index=True)\n",
    "\n",
    "df_melt"
   ]
  },
  {
   "cell_type": "code",
   "execution_count": 24,
   "id": "673f7afe",
   "metadata": {},
   "outputs": [
    {
     "data": {
      "application/vnd.plotly.v1+json": {
       "config": {
        "plotlyServerURL": "https://plot.ly"
       },
       "data": [
        {
         "direction": "clockwise",
         "domain": {
          "x": [
           0,
           0.2888888888888889
          ],
          "y": [
           0,
           1
          ]
         },
         "hole": 0.6,
         "hoverinfo": "label+percent+value",
         "labels": [
          "None of the above",
          "Can infer correct Entity",
          "Can infer correct Quality",
          "Can infer correct Value"
         ],
         "marker": {
          "colors": [
           "rgb(175, 49, 35)",
           "rgb(151, 179, 100)",
           "rgb(33, 75, 99)",
           "rgb(79, 129, 102)"
          ]
         },
         "name": "PlantNet",
         "sort": false,
         "type": "pie",
         "values": [
          59,
          20,
          8,
          12
         ]
        },
        {
         "direction": "clockwise",
         "domain": {
          "x": [
           0.35555555555555557,
           0.6444444444444445
          ],
          "y": [
           0,
           1
          ]
         },
         "hole": 0.6,
         "hoverinfo": "label+percent+value",
         "labels": [
          "None of the above",
          "Can infer correct Entity",
          "Can infer correct Quality",
          "Can infer correct Value"
         ],
         "marker": {
          "colors": [
           "rgb(175, 49, 35)",
           "rgb(151, 179, 100)",
           "rgb(33, 75, 99)",
           "rgb(79, 129, 102)"
          ]
         },
         "name": "Palm",
         "sort": false,
         "type": "pie",
         "values": [
          27,
          24,
          2,
          8
         ]
        },
        {
         "direction": "clockwise",
         "domain": {
          "x": [
           0.7111111111111111,
           1
          ],
          "y": [
           0,
           1
          ]
         },
         "hole": 0.6,
         "hoverinfo": "label+percent+value",
         "labels": [
          "None of the above",
          "Can infer correct Entity",
          "Can infer correct Quality",
          "Can infer correct Value"
         ],
         "marker": {
          "colors": [
           "rgb(175, 49, 35)",
           "rgb(151, 179, 100)",
           "rgb(33, 75, 99)",
           "rgb(79, 129, 102)"
          ]
         },
         "name": "Caribbean",
         "sort": false,
         "type": "pie",
         "values": [
          44,
          57,
          7,
          28
         ]
        }
       ],
       "layout": {
        "annotations": [
         {
          "font": {
           "size": 15
          },
          "showarrow": false,
          "text": "PlantNet Dataset",
          "x": 0.09,
          "y": 0.5
         },
         {
          "font": {
           "size": 15
          },
          "showarrow": false,
          "text": "Palm Dataset",
          "x": 0.5,
          "y": 0.5
         },
         {
          "font": {
           "size": 15
          },
          "showarrow": false,
          "text": "Caribbean Dataset",
          "x": 0.915,
          "y": 0.5
         }
        ],
        "template": {
         "data": {
          "bar": [
           {
            "error_x": {
             "color": "#2a3f5f"
            },
            "error_y": {
             "color": "#2a3f5f"
            },
            "marker": {
             "line": {
              "color": "#E5ECF6",
              "width": 0.5
             },
             "pattern": {
              "fillmode": "overlay",
              "size": 10,
              "solidity": 0.2
             }
            },
            "type": "bar"
           }
          ],
          "barpolar": [
           {
            "marker": {
             "line": {
              "color": "#E5ECF6",
              "width": 0.5
             },
             "pattern": {
              "fillmode": "overlay",
              "size": 10,
              "solidity": 0.2
             }
            },
            "type": "barpolar"
           }
          ],
          "carpet": [
           {
            "aaxis": {
             "endlinecolor": "#2a3f5f",
             "gridcolor": "white",
             "linecolor": "white",
             "minorgridcolor": "white",
             "startlinecolor": "#2a3f5f"
            },
            "baxis": {
             "endlinecolor": "#2a3f5f",
             "gridcolor": "white",
             "linecolor": "white",
             "minorgridcolor": "white",
             "startlinecolor": "#2a3f5f"
            },
            "type": "carpet"
           }
          ],
          "choropleth": [
           {
            "colorbar": {
             "outlinewidth": 0,
             "ticks": ""
            },
            "type": "choropleth"
           }
          ],
          "contour": [
           {
            "colorbar": {
             "outlinewidth": 0,
             "ticks": ""
            },
            "colorscale": [
             [
              0,
              "#0d0887"
             ],
             [
              0.1111111111111111,
              "#46039f"
             ],
             [
              0.2222222222222222,
              "#7201a8"
             ],
             [
              0.3333333333333333,
              "#9c179e"
             ],
             [
              0.4444444444444444,
              "#bd3786"
             ],
             [
              0.5555555555555556,
              "#d8576b"
             ],
             [
              0.6666666666666666,
              "#ed7953"
             ],
             [
              0.7777777777777778,
              "#fb9f3a"
             ],
             [
              0.8888888888888888,
              "#fdca26"
             ],
             [
              1,
              "#f0f921"
             ]
            ],
            "type": "contour"
           }
          ],
          "contourcarpet": [
           {
            "colorbar": {
             "outlinewidth": 0,
             "ticks": ""
            },
            "type": "contourcarpet"
           }
          ],
          "heatmap": [
           {
            "colorbar": {
             "outlinewidth": 0,
             "ticks": ""
            },
            "colorscale": [
             [
              0,
              "#0d0887"
             ],
             [
              0.1111111111111111,
              "#46039f"
             ],
             [
              0.2222222222222222,
              "#7201a8"
             ],
             [
              0.3333333333333333,
              "#9c179e"
             ],
             [
              0.4444444444444444,
              "#bd3786"
             ],
             [
              0.5555555555555556,
              "#d8576b"
             ],
             [
              0.6666666666666666,
              "#ed7953"
             ],
             [
              0.7777777777777778,
              "#fb9f3a"
             ],
             [
              0.8888888888888888,
              "#fdca26"
             ],
             [
              1,
              "#f0f921"
             ]
            ],
            "type": "heatmap"
           }
          ],
          "heatmapgl": [
           {
            "colorbar": {
             "outlinewidth": 0,
             "ticks": ""
            },
            "colorscale": [
             [
              0,
              "#0d0887"
             ],
             [
              0.1111111111111111,
              "#46039f"
             ],
             [
              0.2222222222222222,
              "#7201a8"
             ],
             [
              0.3333333333333333,
              "#9c179e"
             ],
             [
              0.4444444444444444,
              "#bd3786"
             ],
             [
              0.5555555555555556,
              "#d8576b"
             ],
             [
              0.6666666666666666,
              "#ed7953"
             ],
             [
              0.7777777777777778,
              "#fb9f3a"
             ],
             [
              0.8888888888888888,
              "#fdca26"
             ],
             [
              1,
              "#f0f921"
             ]
            ],
            "type": "heatmapgl"
           }
          ],
          "histogram": [
           {
            "marker": {
             "pattern": {
              "fillmode": "overlay",
              "size": 10,
              "solidity": 0.2
             }
            },
            "type": "histogram"
           }
          ],
          "histogram2d": [
           {
            "colorbar": {
             "outlinewidth": 0,
             "ticks": ""
            },
            "colorscale": [
             [
              0,
              "#0d0887"
             ],
             [
              0.1111111111111111,
              "#46039f"
             ],
             [
              0.2222222222222222,
              "#7201a8"
             ],
             [
              0.3333333333333333,
              "#9c179e"
             ],
             [
              0.4444444444444444,
              "#bd3786"
             ],
             [
              0.5555555555555556,
              "#d8576b"
             ],
             [
              0.6666666666666666,
              "#ed7953"
             ],
             [
              0.7777777777777778,
              "#fb9f3a"
             ],
             [
              0.8888888888888888,
              "#fdca26"
             ],
             [
              1,
              "#f0f921"
             ]
            ],
            "type": "histogram2d"
           }
          ],
          "histogram2dcontour": [
           {
            "colorbar": {
             "outlinewidth": 0,
             "ticks": ""
            },
            "colorscale": [
             [
              0,
              "#0d0887"
             ],
             [
              0.1111111111111111,
              "#46039f"
             ],
             [
              0.2222222222222222,
              "#7201a8"
             ],
             [
              0.3333333333333333,
              "#9c179e"
             ],
             [
              0.4444444444444444,
              "#bd3786"
             ],
             [
              0.5555555555555556,
              "#d8576b"
             ],
             [
              0.6666666666666666,
              "#ed7953"
             ],
             [
              0.7777777777777778,
              "#fb9f3a"
             ],
             [
              0.8888888888888888,
              "#fdca26"
             ],
             [
              1,
              "#f0f921"
             ]
            ],
            "type": "histogram2dcontour"
           }
          ],
          "mesh3d": [
           {
            "colorbar": {
             "outlinewidth": 0,
             "ticks": ""
            },
            "type": "mesh3d"
           }
          ],
          "parcoords": [
           {
            "line": {
             "colorbar": {
              "outlinewidth": 0,
              "ticks": ""
             }
            },
            "type": "parcoords"
           }
          ],
          "pie": [
           {
            "automargin": true,
            "type": "pie"
           }
          ],
          "scatter": [
           {
            "fillpattern": {
             "fillmode": "overlay",
             "size": 10,
             "solidity": 0.2
            },
            "type": "scatter"
           }
          ],
          "scatter3d": [
           {
            "line": {
             "colorbar": {
              "outlinewidth": 0,
              "ticks": ""
             }
            },
            "marker": {
             "colorbar": {
              "outlinewidth": 0,
              "ticks": ""
             }
            },
            "type": "scatter3d"
           }
          ],
          "scattercarpet": [
           {
            "marker": {
             "colorbar": {
              "outlinewidth": 0,
              "ticks": ""
             }
            },
            "type": "scattercarpet"
           }
          ],
          "scattergeo": [
           {
            "marker": {
             "colorbar": {
              "outlinewidth": 0,
              "ticks": ""
             }
            },
            "type": "scattergeo"
           }
          ],
          "scattergl": [
           {
            "marker": {
             "colorbar": {
              "outlinewidth": 0,
              "ticks": ""
             }
            },
            "type": "scattergl"
           }
          ],
          "scattermapbox": [
           {
            "marker": {
             "colorbar": {
              "outlinewidth": 0,
              "ticks": ""
             }
            },
            "type": "scattermapbox"
           }
          ],
          "scatterpolar": [
           {
            "marker": {
             "colorbar": {
              "outlinewidth": 0,
              "ticks": ""
             }
            },
            "type": "scatterpolar"
           }
          ],
          "scatterpolargl": [
           {
            "marker": {
             "colorbar": {
              "outlinewidth": 0,
              "ticks": ""
             }
            },
            "type": "scatterpolargl"
           }
          ],
          "scatterternary": [
           {
            "marker": {
             "colorbar": {
              "outlinewidth": 0,
              "ticks": ""
             }
            },
            "type": "scatterternary"
           }
          ],
          "surface": [
           {
            "colorbar": {
             "outlinewidth": 0,
             "ticks": ""
            },
            "colorscale": [
             [
              0,
              "#0d0887"
             ],
             [
              0.1111111111111111,
              "#46039f"
             ],
             [
              0.2222222222222222,
              "#7201a8"
             ],
             [
              0.3333333333333333,
              "#9c179e"
             ],
             [
              0.4444444444444444,
              "#bd3786"
             ],
             [
              0.5555555555555556,
              "#d8576b"
             ],
             [
              0.6666666666666666,
              "#ed7953"
             ],
             [
              0.7777777777777778,
              "#fb9f3a"
             ],
             [
              0.8888888888888888,
              "#fdca26"
             ],
             [
              1,
              "#f0f921"
             ]
            ],
            "type": "surface"
           }
          ],
          "table": [
           {
            "cells": {
             "fill": {
              "color": "#EBF0F8"
             },
             "line": {
              "color": "white"
             }
            },
            "header": {
             "fill": {
              "color": "#C8D4E3"
             },
             "line": {
              "color": "white"
             }
            },
            "type": "table"
           }
          ]
         },
         "layout": {
          "annotationdefaults": {
           "arrowcolor": "#2a3f5f",
           "arrowhead": 0,
           "arrowwidth": 1
          },
          "autotypenumbers": "strict",
          "coloraxis": {
           "colorbar": {
            "outlinewidth": 0,
            "ticks": ""
           }
          },
          "colorscale": {
           "diverging": [
            [
             0,
             "#8e0152"
            ],
            [
             0.1,
             "#c51b7d"
            ],
            [
             0.2,
             "#de77ae"
            ],
            [
             0.3,
             "#f1b6da"
            ],
            [
             0.4,
             "#fde0ef"
            ],
            [
             0.5,
             "#f7f7f7"
            ],
            [
             0.6,
             "#e6f5d0"
            ],
            [
             0.7,
             "#b8e186"
            ],
            [
             0.8,
             "#7fbc41"
            ],
            [
             0.9,
             "#4d9221"
            ],
            [
             1,
             "#276419"
            ]
           ],
           "sequential": [
            [
             0,
             "#0d0887"
            ],
            [
             0.1111111111111111,
             "#46039f"
            ],
            [
             0.2222222222222222,
             "#7201a8"
            ],
            [
             0.3333333333333333,
             "#9c179e"
            ],
            [
             0.4444444444444444,
             "#bd3786"
            ],
            [
             0.5555555555555556,
             "#d8576b"
            ],
            [
             0.6666666666666666,
             "#ed7953"
            ],
            [
             0.7777777777777778,
             "#fb9f3a"
            ],
            [
             0.8888888888888888,
             "#fdca26"
            ],
            [
             1,
             "#f0f921"
            ]
           ],
           "sequentialminus": [
            [
             0,
             "#0d0887"
            ],
            [
             0.1111111111111111,
             "#46039f"
            ],
            [
             0.2222222222222222,
             "#7201a8"
            ],
            [
             0.3333333333333333,
             "#9c179e"
            ],
            [
             0.4444444444444444,
             "#bd3786"
            ],
            [
             0.5555555555555556,
             "#d8576b"
            ],
            [
             0.6666666666666666,
             "#ed7953"
            ],
            [
             0.7777777777777778,
             "#fb9f3a"
            ],
            [
             0.8888888888888888,
             "#fdca26"
            ],
            [
             1,
             "#f0f921"
            ]
           ]
          },
          "colorway": [
           "#636efa",
           "#EF553B",
           "#00cc96",
           "#ab63fa",
           "#FFA15A",
           "#19d3f3",
           "#FF6692",
           "#B6E880",
           "#FF97FF",
           "#FECB52"
          ],
          "font": {
           "color": "#2a3f5f"
          },
          "geo": {
           "bgcolor": "white",
           "lakecolor": "white",
           "landcolor": "#E5ECF6",
           "showlakes": true,
           "showland": true,
           "subunitcolor": "white"
          },
          "hoverlabel": {
           "align": "left"
          },
          "hovermode": "closest",
          "mapbox": {
           "style": "light"
          },
          "paper_bgcolor": "white",
          "plot_bgcolor": "#E5ECF6",
          "polar": {
           "angularaxis": {
            "gridcolor": "white",
            "linecolor": "white",
            "ticks": ""
           },
           "bgcolor": "#E5ECF6",
           "radialaxis": {
            "gridcolor": "white",
            "linecolor": "white",
            "ticks": ""
           }
          },
          "scene": {
           "xaxis": {
            "backgroundcolor": "#E5ECF6",
            "gridcolor": "white",
            "gridwidth": 2,
            "linecolor": "white",
            "showbackground": true,
            "ticks": "",
            "zerolinecolor": "white"
           },
           "yaxis": {
            "backgroundcolor": "#E5ECF6",
            "gridcolor": "white",
            "gridwidth": 2,
            "linecolor": "white",
            "showbackground": true,
            "ticks": "",
            "zerolinecolor": "white"
           },
           "zaxis": {
            "backgroundcolor": "#E5ECF6",
            "gridcolor": "white",
            "gridwidth": 2,
            "linecolor": "white",
            "showbackground": true,
            "ticks": "",
            "zerolinecolor": "white"
           }
          },
          "shapedefaults": {
           "line": {
            "color": "#2a3f5f"
           }
          },
          "ternary": {
           "aaxis": {
            "gridcolor": "white",
            "linecolor": "white",
            "ticks": ""
           },
           "baxis": {
            "gridcolor": "white",
            "linecolor": "white",
            "ticks": ""
           },
           "bgcolor": "#E5ECF6",
           "caxis": {
            "gridcolor": "white",
            "linecolor": "white",
            "ticks": ""
           }
          },
          "title": {
           "x": 0.05
          },
          "xaxis": {
           "automargin": true,
           "gridcolor": "white",
           "linecolor": "white",
           "ticks": "",
           "title": {
            "standoff": 15
           },
           "zerolinecolor": "white",
           "zerolinewidth": 2
          },
          "yaxis": {
           "automargin": true,
           "gridcolor": "white",
           "linecolor": "white",
           "ticks": "",
           "title": {
            "standoff": 15
           },
           "zerolinecolor": "white",
           "zerolinewidth": 2
          }
         }
        }
       }
      }
     },
     "metadata": {},
     "output_type": "display_data"
    }
   ],
   "source": [
    "labels = ['None of the above', 'Can infer correct Entity', 'Can infer correct Quality', 'Can infer correct Value']\n",
    "\n",
    "irises_colors = ['rgb(33, 75, 99)', 'rgb(79, 129, 102)', 'rgb(151, 179, 100)',\n",
    "                 'rgb(175, 49, 35)', 'rgb(36, 73, 147)']\n",
    "\n",
    "colors = [\n",
    "    'rgb(175, 49, 35)', \n",
    "    'rgb(151, 179, 100)',\n",
    "    'rgb(33, 75, 99)',\n",
    "    'rgb(79, 129, 102)',\n",
    "      ]\n",
    "\n",
    "# Create subplots: use 'domain' type for Pie subplot\n",
    "fig = make_subplots(rows=1, cols=3, specs=[[{'type':'domain'}, {'type':'domain'}, {'type':'domain'}]])\n",
    "\n",
    "# Add pie charts to each subplot\n",
    "for i, dataset in enumerate(df_plot[\"Dataset\"].unique()):\n",
    "    df_sub = df_plot[df_plot[\"Dataset\"] == dataset]\n",
    "    fig.add_trace(go.Pie(labels=labels, \n",
    "                            values=df_sub.groupby([\"Dataset\"]).sum()[labels].iloc[0].values,\n",
    "                            name=dataset,\n",
    "                            direction ='clockwise',\n",
    "                            sort=False,\n",
    "                            marker_colors=colors),                   \n",
    "                    col=i+1, row=1,)\n",
    "\n",
    "# Use `hole` to create a donut-like pie chart\n",
    "fig.update_traces(hole=.6, hoverinfo=\"label+percent+value\")\n",
    "\n",
    "fig.update_layout(\n",
    "    # Add annotations in the center of the donut pies.\n",
    "    annotations=[dict(text='PlantNet Dataset',  x=0.09, y=0.5, font_size=15, showarrow=False),\n",
    "                 dict(text='Palm Dataset',      x=0.500, y=0.5, font_size=15, showarrow=False),\n",
    "                 dict(text='Caribbean Dataset', x=0.915, y=0.5, font_size=15, showarrow=False)]\n",
    "                 )\n",
    "\n",
    "fig.show()\n",
    "\n",
    "folder_figures = \"../../../reports/figures/\"\n",
    "file_name = \"PxPlot_HTML_SurveysPerDataset.html\"\n",
    "fig.write_html(F\"{folder_figures}{file_name}\")\n",
    "file_name = \"PxPlot_PDF_SurveysPerDataset.pdf\"\n",
    "fig.write_image(F\"{folder_figures}{file_name}\")\n",
    "\n"
   ]
  },
  {
   "cell_type": "code",
   "execution_count": 19,
   "id": "77dcce23",
   "metadata": {},
   "outputs": [
    {
     "data": {
      "text/html": [
       "<div>\n",
       "<style scoped>\n",
       "    .dataframe tbody tr th:only-of-type {\n",
       "        vertical-align: middle;\n",
       "    }\n",
       "\n",
       "    .dataframe tbody tr th {\n",
       "        vertical-align: top;\n",
       "    }\n",
       "\n",
       "    .dataframe thead th {\n",
       "        text-align: right;\n",
       "    }\n",
       "</style>\n",
       "<table border=\"1\" class=\"dataframe\">\n",
       "  <thead>\n",
       "    <tr style=\"text-align: right;\">\n",
       "      <th></th>\n",
       "      <th>Species</th>\n",
       "      <th>Main Trait</th>\n",
       "      <th>SIM</th>\n",
       "      <th>Dataset</th>\n",
       "      <th>Can infer correct Value</th>\n",
       "      <th>None of the above</th>\n",
       "      <th>Can infer correct Entity</th>\n",
       "      <th>Can infer correct Quality</th>\n",
       "    </tr>\n",
       "  </thead>\n",
       "  <tbody>\n",
       "    <tr>\n",
       "      <th>0</th>\n",
       "      <td>Lannea fruticosa</td>\n",
       "      <td>leaf apex</td>\n",
       "      <td>Bert</td>\n",
       "      <td>PlantNet</td>\n",
       "      <td>0</td>\n",
       "      <td>1</td>\n",
       "      <td>0</td>\n",
       "      <td>0</td>\n",
       "    </tr>\n",
       "    <tr>\n",
       "      <th>1</th>\n",
       "      <td>Strychnos spinosa</td>\n",
       "      <td>petiole</td>\n",
       "      <td>Bert</td>\n",
       "      <td>PlantNet</td>\n",
       "      <td>0</td>\n",
       "      <td>1</td>\n",
       "      <td>0</td>\n",
       "      <td>0</td>\n",
       "    </tr>\n",
       "    <tr>\n",
       "      <th>2</th>\n",
       "      <td>Keetia venosa</td>\n",
       "      <td>vein</td>\n",
       "      <td>Bert</td>\n",
       "      <td>PlantNet</td>\n",
       "      <td>0</td>\n",
       "      <td>1</td>\n",
       "      <td>0</td>\n",
       "      <td>0</td>\n",
       "    </tr>\n",
       "    <tr>\n",
       "      <th>3</th>\n",
       "      <td>Crescentia cujete</td>\n",
       "      <td>inflorescences</td>\n",
       "      <td>Bert</td>\n",
       "      <td>PlantNet</td>\n",
       "      <td>0</td>\n",
       "      <td>1</td>\n",
       "      <td>0</td>\n",
       "      <td>0</td>\n",
       "    </tr>\n",
       "    <tr>\n",
       "      <th>4</th>\n",
       "      <td>Crescentia cujete</td>\n",
       "      <td>inflorescences</td>\n",
       "      <td>Bert</td>\n",
       "      <td>PlantNet</td>\n",
       "      <td>0</td>\n",
       "      <td>1</td>\n",
       "      <td>0</td>\n",
       "      <td>0</td>\n",
       "    </tr>\n",
       "    <tr>\n",
       "      <th>...</th>\n",
       "      <td>...</td>\n",
       "      <td>...</td>\n",
       "      <td>...</td>\n",
       "      <td>...</td>\n",
       "      <td>...</td>\n",
       "      <td>...</td>\n",
       "      <td>...</td>\n",
       "      <td>...</td>\n",
       "    </tr>\n",
       "    <tr>\n",
       "      <th>291</th>\n",
       "      <td>Eucalyptus tereticornis</td>\n",
       "      <td>leaf blade</td>\n",
       "      <td>Bert</td>\n",
       "      <td>PlantNet</td>\n",
       "      <td>1</td>\n",
       "      <td>0</td>\n",
       "      <td>0</td>\n",
       "      <td>0</td>\n",
       "    </tr>\n",
       "    <tr>\n",
       "      <th>292</th>\n",
       "      <td>Maerua angolensis</td>\n",
       "      <td>plant type</td>\n",
       "      <td>Jacc</td>\n",
       "      <td>PlantNet</td>\n",
       "      <td>1</td>\n",
       "      <td>0</td>\n",
       "      <td>0</td>\n",
       "      <td>0</td>\n",
       "    </tr>\n",
       "    <tr>\n",
       "      <th>293</th>\n",
       "      <td>Cordia africana</td>\n",
       "      <td>vein</td>\n",
       "      <td>Bert</td>\n",
       "      <td>PlantNet</td>\n",
       "      <td>0</td>\n",
       "      <td>0</td>\n",
       "      <td>1</td>\n",
       "      <td>0</td>\n",
       "    </tr>\n",
       "    <tr>\n",
       "      <th>294</th>\n",
       "      <td>Aphania senegalensis</td>\n",
       "      <td>leaf apex</td>\n",
       "      <td>Bert</td>\n",
       "      <td>PlantNet</td>\n",
       "      <td>0</td>\n",
       "      <td>1</td>\n",
       "      <td>0</td>\n",
       "      <td>0</td>\n",
       "    </tr>\n",
       "    <tr>\n",
       "      <th>295</th>\n",
       "      <td>Khaya senegalensis</td>\n",
       "      <td>leaf base</td>\n",
       "      <td>Bert</td>\n",
       "      <td>PlantNet</td>\n",
       "      <td>0</td>\n",
       "      <td>1</td>\n",
       "      <td>0</td>\n",
       "      <td>0</td>\n",
       "    </tr>\n",
       "  </tbody>\n",
       "</table>\n",
       "<p>296 rows × 8 columns</p>\n",
       "</div>"
      ],
      "text/plain": [
       "                     Species      Main Trait   SIM   Dataset  \\\n",
       "0           Lannea fruticosa       leaf apex  Bert  PlantNet   \n",
       "1          Strychnos spinosa         petiole  Bert  PlantNet   \n",
       "2              Keetia venosa            vein  Bert  PlantNet   \n",
       "3          Crescentia cujete  inflorescences  Bert  PlantNet   \n",
       "4          Crescentia cujete  inflorescences  Bert  PlantNet   \n",
       "..                       ...             ...   ...       ...   \n",
       "291  Eucalyptus tereticornis      leaf blade  Bert  PlantNet   \n",
       "292        Maerua angolensis      plant type  Jacc  PlantNet   \n",
       "293          Cordia africana            vein  Bert  PlantNet   \n",
       "294     Aphania senegalensis       leaf apex  Bert  PlantNet   \n",
       "295       Khaya senegalensis       leaf base  Bert  PlantNet   \n",
       "\n",
       "     Can infer correct Value  None of the above  Can infer correct Entity  \\\n",
       "0                          0                  1                         0   \n",
       "1                          0                  1                         0   \n",
       "2                          0                  1                         0   \n",
       "3                          0                  1                         0   \n",
       "4                          0                  1                         0   \n",
       "..                       ...                ...                       ...   \n",
       "291                        1                  0                         0   \n",
       "292                        1                  0                         0   \n",
       "293                        0                  0                         1   \n",
       "294                        0                  1                         0   \n",
       "295                        0                  1                         0   \n",
       "\n",
       "     Can infer correct Quality  \n",
       "0                            0  \n",
       "1                            0  \n",
       "2                            0  \n",
       "3                            0  \n",
       "4                            0  \n",
       "..                         ...  \n",
       "291                          0  \n",
       "292                          0  \n",
       "293                          0  \n",
       "294                          0  \n",
       "295                          0  \n",
       "\n",
       "[296 rows x 8 columns]"
      ]
     },
     "execution_count": 19,
     "metadata": {},
     "output_type": "execute_result"
    }
   ],
   "source": [
    "df_plot"
   ]
  },
  {
   "cell_type": "code",
   "execution_count": 92,
   "id": "e34cf969",
   "metadata": {},
   "outputs": [],
   "source": [
    "labels = ['None of the above', 'Can infer correct Entity', 'Can infer correct Quality', 'Can infer correct Value']\n",
    "df_melt = pd.melt(df_plot,\n",
    "                  id_vars=['Main Trait', 'Dataset'],\n",
    "                #   value_name='Choice',\n",
    "                  value_vars=labels)\n",
    "\n",
    "df_melt[\"Percentage\"] = df_melt['value'] / df_melt.groupby(['Main Trait'])['value'].transform('sum')\n",
    "df_melt['Total'] = 'Total'"
   ]
  },
  {
   "cell_type": "code",
   "execution_count": 134,
   "id": "7e3eb788",
   "metadata": {},
   "outputs": [
    {
     "data": {
      "text/html": [
       "<div>\n",
       "<style scoped>\n",
       "    .dataframe tbody tr th:only-of-type {\n",
       "        vertical-align: middle;\n",
       "    }\n",
       "\n",
       "    .dataframe tbody tr th {\n",
       "        vertical-align: top;\n",
       "    }\n",
       "\n",
       "    .dataframe thead th {\n",
       "        text-align: right;\n",
       "    }\n",
       "</style>\n",
       "<table border=\"1\" class=\"dataframe\">\n",
       "  <thead>\n",
       "    <tr style=\"text-align: right;\">\n",
       "      <th></th>\n",
       "      <th>Main Trait</th>\n",
       "      <th>Dataset</th>\n",
       "      <th>variable</th>\n",
       "      <th>value</th>\n",
       "      <th>Percentage</th>\n",
       "      <th>Total</th>\n",
       "    </tr>\n",
       "  </thead>\n",
       "  <tbody>\n",
       "    <tr>\n",
       "      <th>0</th>\n",
       "      <td>leaf apex</td>\n",
       "      <td>PlantNet</td>\n",
       "      <td>None of the above</td>\n",
       "      <td>1</td>\n",
       "      <td>0.058824</td>\n",
       "      <td>Total</td>\n",
       "    </tr>\n",
       "    <tr>\n",
       "      <th>1</th>\n",
       "      <td>petiole</td>\n",
       "      <td>PlantNet</td>\n",
       "      <td>None of the above</td>\n",
       "      <td>1</td>\n",
       "      <td>0.333333</td>\n",
       "      <td>Total</td>\n",
       "    </tr>\n",
       "    <tr>\n",
       "      <th>2</th>\n",
       "      <td>vein</td>\n",
       "      <td>PlantNet</td>\n",
       "      <td>None of the above</td>\n",
       "      <td>1</td>\n",
       "      <td>0.142857</td>\n",
       "      <td>Total</td>\n",
       "    </tr>\n",
       "    <tr>\n",
       "      <th>3</th>\n",
       "      <td>inflorescences</td>\n",
       "      <td>PlantNet</td>\n",
       "      <td>None of the above</td>\n",
       "      <td>1</td>\n",
       "      <td>0.100000</td>\n",
       "      <td>Total</td>\n",
       "    </tr>\n",
       "    <tr>\n",
       "      <th>4</th>\n",
       "      <td>inflorescences</td>\n",
       "      <td>PlantNet</td>\n",
       "      <td>None of the above</td>\n",
       "      <td>1</td>\n",
       "      <td>0.100000</td>\n",
       "      <td>Total</td>\n",
       "    </tr>\n",
       "    <tr>\n",
       "      <th>...</th>\n",
       "      <td>...</td>\n",
       "      <td>...</td>\n",
       "      <td>...</td>\n",
       "      <td>...</td>\n",
       "      <td>...</td>\n",
       "      <td>...</td>\n",
       "    </tr>\n",
       "    <tr>\n",
       "      <th>1179</th>\n",
       "      <td>leaf blade</td>\n",
       "      <td>PlantNet</td>\n",
       "      <td>Can infer correct Value</td>\n",
       "      <td>1</td>\n",
       "      <td>0.333333</td>\n",
       "      <td>Total</td>\n",
       "    </tr>\n",
       "    <tr>\n",
       "      <th>1180</th>\n",
       "      <td>plant type</td>\n",
       "      <td>PlantNet</td>\n",
       "      <td>Can infer correct Value</td>\n",
       "      <td>1</td>\n",
       "      <td>0.500000</td>\n",
       "      <td>Total</td>\n",
       "    </tr>\n",
       "    <tr>\n",
       "      <th>1181</th>\n",
       "      <td>vein</td>\n",
       "      <td>PlantNet</td>\n",
       "      <td>Can infer correct Value</td>\n",
       "      <td>0</td>\n",
       "      <td>0.000000</td>\n",
       "      <td>Total</td>\n",
       "    </tr>\n",
       "    <tr>\n",
       "      <th>1182</th>\n",
       "      <td>leaf apex</td>\n",
       "      <td>PlantNet</td>\n",
       "      <td>Can infer correct Value</td>\n",
       "      <td>0</td>\n",
       "      <td>0.000000</td>\n",
       "      <td>Total</td>\n",
       "    </tr>\n",
       "    <tr>\n",
       "      <th>1183</th>\n",
       "      <td>leaf base</td>\n",
       "      <td>PlantNet</td>\n",
       "      <td>Can infer correct Value</td>\n",
       "      <td>0</td>\n",
       "      <td>0.000000</td>\n",
       "      <td>Total</td>\n",
       "    </tr>\n",
       "  </tbody>\n",
       "</table>\n",
       "<p>1184 rows × 6 columns</p>\n",
       "</div>"
      ],
      "text/plain": [
       "          Main Trait   Dataset                 variable  value  Percentage  \\\n",
       "0          leaf apex  PlantNet        None of the above      1    0.058824   \n",
       "1            petiole  PlantNet        None of the above      1    0.333333   \n",
       "2               vein  PlantNet        None of the above      1    0.142857   \n",
       "3     inflorescences  PlantNet        None of the above      1    0.100000   \n",
       "4     inflorescences  PlantNet        None of the above      1    0.100000   \n",
       "...              ...       ...                      ...    ...         ...   \n",
       "1179      leaf blade  PlantNet  Can infer correct Value      1    0.333333   \n",
       "1180      plant type  PlantNet  Can infer correct Value      1    0.500000   \n",
       "1181            vein  PlantNet  Can infer correct Value      0    0.000000   \n",
       "1182       leaf apex  PlantNet  Can infer correct Value      0    0.000000   \n",
       "1183       leaf base  PlantNet  Can infer correct Value      0    0.000000   \n",
       "\n",
       "      Total  \n",
       "0     Total  \n",
       "1     Total  \n",
       "2     Total  \n",
       "3     Total  \n",
       "4     Total  \n",
       "...     ...  \n",
       "1179  Total  \n",
       "1180  Total  \n",
       "1181  Total  \n",
       "1182  Total  \n",
       "1183  Total  \n",
       "\n",
       "[1184 rows x 6 columns]"
      ]
     },
     "execution_count": 134,
     "metadata": {},
     "output_type": "execute_result"
    }
   ],
   "source": [
    "df_melt"
   ]
  },
  {
   "attachments": {},
   "cell_type": "markdown",
   "id": "04c0d0a5",
   "metadata": {},
   "source": [
    "#### Percentage"
   ]
  },
  {
   "cell_type": "code",
   "execution_count": 87,
   "id": "cdd9151e",
   "metadata": {},
   "outputs": [
    {
     "data": {
      "application/vnd.plotly.v1+json": {
       "config": {
        "plotlyServerURL": "https://plot.ly"
       },
       "data": [
        {
         "branchvalues": "total",
         "customdata": [
          [
           "Can infer correct Entity"
          ],
          [
           "None of the above"
          ],
          [
           "None of the above"
          ],
          [
           "None of the above"
          ],
          [
           "None of the above"
          ],
          [
           "None of the above"
          ],
          [
           "None of the above"
          ],
          [
           "None of the above"
          ],
          [
           "None of the above"
          ],
          [
           "None of the above"
          ],
          [
           "None of the above"
          ],
          [
           "None of the above"
          ],
          [
           "None of the above"
          ],
          [
           "None of the above"
          ],
          [
           "None of the above"
          ],
          [
           "None of the above"
          ],
          [
           "None of the above"
          ],
          [
           "None of the above"
          ],
          [
           "None of the above"
          ],
          [
           "None of the above"
          ],
          [
           "None of the above"
          ],
          [
           "None of the above"
          ],
          [
           "None of the above"
          ],
          [
           "None of the above"
          ],
          [
           "None of the above"
          ],
          [
           "None of the above"
          ],
          [
           "Can infer correct Value"
          ],
          [
           "Can infer correct Value"
          ],
          [
           "Can infer correct Value"
          ],
          [
           "Can infer correct Value"
          ],
          [
           "Can infer correct Value"
          ],
          [
           "Can infer correct Value"
          ],
          [
           "Can infer correct Value"
          ],
          [
           "Can infer correct Value"
          ],
          [
           "Can infer correct Value"
          ],
          [
           "Can infer correct Value"
          ],
          [
           "Can infer correct Value"
          ],
          [
           "Can infer correct Value"
          ],
          [
           "Can infer correct Value"
          ],
          [
           "Can infer correct Value"
          ],
          [
           "Can infer correct Value"
          ],
          [
           "Can infer correct Value"
          ],
          [
           "Can infer correct Value"
          ],
          [
           "Can infer correct Value"
          ],
          [
           "None of the above"
          ],
          [
           "None of the above"
          ],
          [
           "None of the above"
          ],
          [
           "None of the above"
          ],
          [
           "Can infer correct Value"
          ],
          [
           "None of the above"
          ],
          [
           "None of the above"
          ],
          [
           "(?)"
          ],
          [
           "(?)"
          ],
          [
           "(?)"
          ],
          [
           "(?)"
          ],
          [
           "(?)"
          ],
          [
           "(?)"
          ],
          [
           "(?)"
          ],
          [
           "(?)"
          ],
          [
           "(?)"
          ],
          [
           "(?)"
          ],
          [
           "(?)"
          ],
          [
           "(?)"
          ],
          [
           "(?)"
          ],
          [
           "(?)"
          ],
          [
           "(?)"
          ],
          [
           "(?)"
          ],
          [
           "(?)"
          ],
          [
           "(?)"
          ],
          [
           "(?)"
          ],
          [
           "(?)"
          ],
          [
           "(?)"
          ],
          [
           "(?)"
          ],
          [
           "None of the above"
          ],
          [
           "(?)"
          ],
          [
           "(?)"
          ],
          [
           "None of the above"
          ],
          [
           "None of the above"
          ],
          [
           "None of the above"
          ],
          [
           "None of the above"
          ],
          [
           "None of the above"
          ],
          [
           "None of the above"
          ],
          [
           "None of the above"
          ],
          [
           "None of the above"
          ],
          [
           "(?)"
          ],
          [
           "(?)"
          ],
          [
           "(?)"
          ],
          [
           "(?)"
          ],
          [
           "(?)"
          ],
          [
           "(?)"
          ],
          [
           "(?)"
          ],
          [
           "(?)"
          ],
          [
           "(?)"
          ],
          [
           "(?)"
          ],
          [
           "(?)"
          ],
          [
           "(?)"
          ],
          [
           "(?)"
          ],
          [
           "(?)"
          ],
          [
           "Can infer correct Value"
          ],
          [
           "Can infer correct Value"
          ],
          [
           "Can infer correct Value"
          ],
          [
           "Can infer correct Entity"
          ],
          [
           "Can infer correct Entity"
          ],
          [
           "Can infer correct Entity"
          ],
          [
           "Can infer correct Entity"
          ],
          [
           "Can infer correct Entity"
          ],
          [
           "Can infer correct Entity"
          ],
          [
           "Can infer correct Entity"
          ],
          [
           "Can infer correct Entity"
          ],
          [
           "Can infer correct Entity"
          ],
          [
           "Can infer correct Entity"
          ],
          [
           "Can infer correct Entity"
          ],
          [
           "Can infer correct Entity"
          ],
          [
           "Can infer correct Entity"
          ],
          [
           "Can infer correct Entity"
          ],
          [
           "Can infer correct Quality"
          ],
          [
           "Can infer correct Quality"
          ],
          [
           "Can infer correct Quality"
          ],
          [
           "Can infer correct Quality"
          ],
          [
           "Can infer correct Quality"
          ],
          [
           "Can infer correct Quality"
          ],
          [
           "Can infer correct Quality"
          ],
          [
           "Can infer correct Entity"
          ],
          [
           "Can infer correct Quality"
          ],
          [
           "Can infer correct Entity"
          ],
          [
           "Can infer correct Entity"
          ],
          [
           "Can infer correct Entity"
          ],
          [
           "Can infer correct Entity"
          ],
          [
           "Can infer correct Entity"
          ],
          [
           "Can infer correct Entity"
          ],
          [
           "Can infer correct Entity"
          ],
          [
           "Can infer correct Entity"
          ],
          [
           "Can infer correct Entity"
          ],
          [
           "Can infer correct Entity"
          ],
          [
           "Can infer correct Entity"
          ],
          [
           "Can infer correct Entity"
          ],
          [
           "Can infer correct Entity"
          ],
          [
           "Can infer correct Entity"
          ],
          [
           "Can infer correct Entity"
          ],
          [
           "Can infer correct Entity"
          ],
          [
           "Can infer correct Entity"
          ],
          [
           "Can infer correct Entity"
          ],
          [
           "Can infer correct Entity"
          ],
          [
           "Can infer correct Entity"
          ],
          [
           "Can infer correct Entity"
          ],
          [
           "Can infer correct Entity"
          ],
          [
           "Can infer correct Entity"
          ],
          [
           "Can infer correct Entity"
          ],
          [
           "Can infer correct Quality"
          ],
          [
           "Can infer correct Quality"
          ],
          [
           "Can infer correct Quality"
          ],
          [
           "Can infer correct Quality"
          ],
          [
           "Can infer correct Quality"
          ],
          [
           "Can infer correct Quality"
          ],
          [
           "Can infer correct Value"
          ],
          [
           "Can infer correct Value"
          ],
          [
           "Can infer correct Value"
          ],
          [
           "Can infer correct Value"
          ],
          [
           "Can infer correct Value"
          ],
          [
           "Can infer correct Value"
          ],
          [
           "Can infer correct Value"
          ],
          [
           "Can infer correct Value"
          ],
          [
           "Can infer correct Value"
          ],
          [
           "Can infer correct Value"
          ],
          [
           "Can infer correct Value"
          ],
          [
           "Can infer correct Value"
          ],
          [
           "Can infer correct Value"
          ],
          [
           "Can infer correct Value"
          ],
          [
           "Can infer correct Value"
          ],
          [
           "Can infer correct Value"
          ],
          [
           "Can infer correct Value"
          ],
          [
           "Can infer correct Value"
          ],
          [
           "Can infer correct Quality"
          ],
          [
           "Can infer correct Quality"
          ],
          [
           "Can infer correct Quality"
          ],
          [
           "Can infer correct Quality"
          ],
          [
           "Can infer correct Quality"
          ],
          [
           "Can infer correct Quality"
          ],
          [
           "Can infer correct Quality"
          ],
          [
           "Can infer correct Quality"
          ],
          [
           "Can infer correct Quality"
          ],
          [
           "Can infer correct Quality"
          ],
          [
           "Can infer correct Quality"
          ],
          [
           "Can infer correct Quality"
          ],
          [
           "Can infer correct Quality"
          ],
          [
           "Can infer correct Quality"
          ],
          [
           "(?)"
          ],
          [
           "Can infer correct Quality"
          ],
          [
           "Can infer correct Quality"
          ],
          [
           "Can infer correct Quality"
          ],
          [
           "Can infer correct Quality"
          ],
          [
           "Can infer correct Quality"
          ],
          [
           "Can infer correct Quality"
          ],
          [
           "Can infer correct Quality"
          ],
          [
           "Can infer correct Quality"
          ],
          [
           "Can infer correct Quality"
          ],
          [
           "Can infer correct Quality"
          ],
          [
           "Can infer correct Quality"
          ],
          [
           "Can infer correct Quality"
          ],
          [
           "(?)"
          ]
         ],
         "domain": {
          "x": [
           0,
           1
          ],
          "y": [
           0,
           1
          ]
         },
         "hovertemplate": "labels=%{label}<br>Percentage=%{value}<br>parent=%{parent}<br>id=%{id}<br>variable=%{customdata[0]}<extra></extra>",
         "ids": [
          "Fruit Colour Description/Can infer correct Entity",
          "Leaf composition/None of the above",
          "Leaf glands/None of the above",
          "Leaf lower side/None of the above",
          "Leaf margin/None of the above",
          "Leaf rachis/None of the above",
          "Leaf shape/None of the above",
          "Leaf upper side/None of the above",
          "Life form/None of the above",
          "Measurement/None of the above",
          "Petals / corolla colour/None of the above",
          "Petals / corolla number/None of the above",
          "Petals / corolla shape/None of the above",
          "Seed colour/None of the above",
          "Sepals / calyx shape/None of the above",
          "Stamen number/None of the above",
          "Stamen shape/None of the above",
          "bark/None of the above",
          "crown/None of the above",
          "flower color/None of the above",
          "flower shape/None of the above",
          "fruit/None of the above",
          "Inflorescence type/None of the above",
          "inflorescences/None of the above",
          "Fruit type/None of the above",
          "Fruit colour/None of the above",
          "Stamen shape/Can infer correct Value",
          "bark/Can infer correct Value",
          "crown/Can infer correct Value",
          "flower color/Can infer correct Value",
          "flower shape/Can infer correct Value",
          "fruit/Can infer correct Value",
          "inflorescences/Can infer correct Value",
          "leaf apex/Can infer correct Value",
          "leaf base/Can infer correct Value",
          "leaf blade/Can infer correct Value",
          "leaf margin/Can infer correct Value",
          "leaf shape/Can infer correct Value",
          "petiole/Can infer correct Value",
          "phyllotaxis/Can infer correct Value",
          "plant type/Can infer correct Value",
          "tendril/Can infer correct Value",
          "trunk and root/Can infer correct Value",
          "vein/Can infer correct Value",
          "Fruit Colour Description/None of the above",
          "Fruit Shape/None of the above",
          "Fruit Size/None of the above",
          "Fruit shape/None of the above",
          "Stamen number/Can infer correct Value",
          "leaf apex/None of the above",
          "leaf blade/None of the above",
          "Petals / corolla number",
          "Petals / corolla shape",
          "Seed colour",
          "Sepals / calyx shape",
          "Stamen number",
          "Stamen shape",
          "bark",
          "crown",
          "flower color",
          "flower shape",
          "fruit",
          "inflorescences",
          "leaf apex",
          "leaf base",
          "leaf blade",
          "leaf margin",
          "leaf shape",
          "petiole",
          "phyllotaxis",
          "plant type",
          "tendril",
          "Petals / corolla colour",
          "leaf base/None of the above",
          "Measurement",
          "Leaf upper side",
          "leaf margin/None of the above",
          "leaf shape/None of the above",
          "petiole/None of the above",
          "phyllotaxis/None of the above",
          "plant type/None of the above",
          "tendril/None of the above",
          "trunk and root/None of the above",
          "vein/None of the above",
          "Fruit Colour Description",
          "Fruit Shape",
          "Fruit Size",
          "Fruit colour",
          "Fruit shape",
          "Fruit type",
          "Inflorescence type",
          "Leaf composition",
          "Leaf glands",
          "Leaf lower side",
          "Leaf margin",
          "Leaf rachis",
          "Leaf shape",
          "Life form",
          "Sepals / calyx shape/Can infer correct Value",
          "Seed colour/Can infer correct Value",
          "Petals / corolla shape/Can infer correct Value",
          "flower shape/Can infer correct Entity",
          "fruit/Can infer correct Entity",
          "inflorescences/Can infer correct Entity",
          "leaf apex/Can infer correct Entity",
          "leaf base/Can infer correct Entity",
          "leaf blade/Can infer correct Entity",
          "leaf margin/Can infer correct Entity",
          "leaf shape/Can infer correct Entity",
          "petiole/Can infer correct Entity",
          "phyllotaxis/Can infer correct Entity",
          "plant type/Can infer correct Entity",
          "tendril/Can infer correct Entity",
          "trunk and root/Can infer correct Entity",
          "vein/Can infer correct Entity",
          "Fruit Colour Description/Can infer correct Quality",
          "Fruit Shape/Can infer correct Quality",
          "Fruit Size/Can infer correct Quality",
          "Fruit colour/Can infer correct Quality",
          "Fruit shape/Can infer correct Quality",
          "Fruit type/Can infer correct Quality",
          "Inflorescence type/Can infer correct Quality",
          "flower color/Can infer correct Entity",
          "Leaf composition/Can infer correct Quality",
          "crown/Can infer correct Entity",
          "Stamen shape/Can infer correct Entity",
          "Fruit Shape/Can infer correct Entity",
          "Fruit Size/Can infer correct Entity",
          "Fruit colour/Can infer correct Entity",
          "Fruit shape/Can infer correct Entity",
          "Fruit type/Can infer correct Entity",
          "Inflorescence type/Can infer correct Entity",
          "Leaf composition/Can infer correct Entity",
          "Leaf glands/Can infer correct Entity",
          "Leaf lower side/Can infer correct Entity",
          "Leaf margin/Can infer correct Entity",
          "Leaf rachis/Can infer correct Entity",
          "Leaf shape/Can infer correct Entity",
          "Leaf upper side/Can infer correct Entity",
          "Life form/Can infer correct Entity",
          "Measurement/Can infer correct Entity",
          "Petals / corolla colour/Can infer correct Entity",
          "Petals / corolla number/Can infer correct Entity",
          "Petals / corolla shape/Can infer correct Entity",
          "Seed colour/Can infer correct Entity",
          "Sepals / calyx shape/Can infer correct Entity",
          "Stamen number/Can infer correct Entity",
          "bark/Can infer correct Entity",
          "Leaf glands/Can infer correct Quality",
          "Leaf lower side/Can infer correct Quality",
          "Leaf margin/Can infer correct Quality",
          "tendril/Can infer correct Quality",
          "trunk and root/Can infer correct Quality",
          "vein/Can infer correct Quality",
          "Fruit Colour Description/Can infer correct Value",
          "Fruit Shape/Can infer correct Value",
          "Fruit Size/Can infer correct Value",
          "Fruit colour/Can infer correct Value",
          "Fruit shape/Can infer correct Value",
          "Fruit type/Can infer correct Value",
          "Inflorescence type/Can infer correct Value",
          "Leaf composition/Can infer correct Value",
          "Leaf glands/Can infer correct Value",
          "Leaf lower side/Can infer correct Value",
          "Leaf margin/Can infer correct Value",
          "Leaf rachis/Can infer correct Value",
          "Leaf shape/Can infer correct Value",
          "Leaf upper side/Can infer correct Value",
          "Life form/Can infer correct Value",
          "Measurement/Can infer correct Value",
          "Petals / corolla colour/Can infer correct Value",
          "Petals / corolla number/Can infer correct Value",
          "plant type/Can infer correct Quality",
          "phyllotaxis/Can infer correct Quality",
          "petiole/Can infer correct Quality",
          "leaf shape/Can infer correct Quality",
          "Leaf rachis/Can infer correct Quality",
          "Leaf shape/Can infer correct Quality",
          "Leaf upper side/Can infer correct Quality",
          "Life form/Can infer correct Quality",
          "Measurement/Can infer correct Quality",
          "Petals / corolla colour/Can infer correct Quality",
          "Petals / corolla number/Can infer correct Quality",
          "Petals / corolla shape/Can infer correct Quality",
          "Seed colour/Can infer correct Quality",
          "Sepals / calyx shape/Can infer correct Quality",
          "trunk and root",
          "Stamen number/Can infer correct Quality",
          "bark/Can infer correct Quality",
          "crown/Can infer correct Quality",
          "flower color/Can infer correct Quality",
          "flower shape/Can infer correct Quality",
          "fruit/Can infer correct Quality",
          "inflorescences/Can infer correct Quality",
          "leaf apex/Can infer correct Quality",
          "leaf base/Can infer correct Quality",
          "leaf blade/Can infer correct Quality",
          "leaf margin/Can infer correct Quality",
          "Stamen shape/Can infer correct Quality",
          "vein"
         ],
         "labels": [
          "Can infer correct Entity",
          "None of the above",
          "None of the above",
          "None of the above",
          "None of the above",
          "None of the above",
          "None of the above",
          "None of the above",
          "None of the above",
          "None of the above",
          "None of the above",
          "None of the above",
          "None of the above",
          "None of the above",
          "None of the above",
          "None of the above",
          "None of the above",
          "None of the above",
          "None of the above",
          "None of the above",
          "None of the above",
          "None of the above",
          "None of the above",
          "None of the above",
          "None of the above",
          "None of the above",
          "Can infer correct Value",
          "Can infer correct Value",
          "Can infer correct Value",
          "Can infer correct Value",
          "Can infer correct Value",
          "Can infer correct Value",
          "Can infer correct Value",
          "Can infer correct Value",
          "Can infer correct Value",
          "Can infer correct Value",
          "Can infer correct Value",
          "Can infer correct Value",
          "Can infer correct Value",
          "Can infer correct Value",
          "Can infer correct Value",
          "Can infer correct Value",
          "Can infer correct Value",
          "Can infer correct Value",
          "None of the above",
          "None of the above",
          "None of the above",
          "None of the above",
          "Can infer correct Value",
          "None of the above",
          "None of the above",
          "Petals / corolla number",
          "Petals / corolla shape",
          "Seed colour",
          "Sepals / calyx shape",
          "Stamen number",
          "Stamen shape",
          "bark",
          "crown",
          "flower color",
          "flower shape",
          "fruit",
          "inflorescences",
          "leaf apex",
          "leaf base",
          "leaf blade",
          "leaf margin",
          "leaf shape",
          "petiole",
          "phyllotaxis",
          "plant type",
          "tendril",
          "Petals / corolla colour",
          "None of the above",
          "Measurement",
          "Leaf upper side",
          "None of the above",
          "None of the above",
          "None of the above",
          "None of the above",
          "None of the above",
          "None of the above",
          "None of the above",
          "None of the above",
          "Fruit Colour Description",
          "Fruit Shape",
          "Fruit Size",
          "Fruit colour",
          "Fruit shape",
          "Fruit type",
          "Inflorescence type",
          "Leaf composition",
          "Leaf glands",
          "Leaf lower side",
          "Leaf margin",
          "Leaf rachis",
          "Leaf shape",
          "Life form",
          "Can infer correct Value",
          "Can infer correct Value",
          "Can infer correct Value",
          "Can infer correct Entity",
          "Can infer correct Entity",
          "Can infer correct Entity",
          "Can infer correct Entity",
          "Can infer correct Entity",
          "Can infer correct Entity",
          "Can infer correct Entity",
          "Can infer correct Entity",
          "Can infer correct Entity",
          "Can infer correct Entity",
          "Can infer correct Entity",
          "Can infer correct Entity",
          "Can infer correct Entity",
          "Can infer correct Entity",
          "Can infer correct Quality",
          "Can infer correct Quality",
          "Can infer correct Quality",
          "Can infer correct Quality",
          "Can infer correct Quality",
          "Can infer correct Quality",
          "Can infer correct Quality",
          "Can infer correct Entity",
          "Can infer correct Quality",
          "Can infer correct Entity",
          "Can infer correct Entity",
          "Can infer correct Entity",
          "Can infer correct Entity",
          "Can infer correct Entity",
          "Can infer correct Entity",
          "Can infer correct Entity",
          "Can infer correct Entity",
          "Can infer correct Entity",
          "Can infer correct Entity",
          "Can infer correct Entity",
          "Can infer correct Entity",
          "Can infer correct Entity",
          "Can infer correct Entity",
          "Can infer correct Entity",
          "Can infer correct Entity",
          "Can infer correct Entity",
          "Can infer correct Entity",
          "Can infer correct Entity",
          "Can infer correct Entity",
          "Can infer correct Entity",
          "Can infer correct Entity",
          "Can infer correct Entity",
          "Can infer correct Entity",
          "Can infer correct Quality",
          "Can infer correct Quality",
          "Can infer correct Quality",
          "Can infer correct Quality",
          "Can infer correct Quality",
          "Can infer correct Quality",
          "Can infer correct Value",
          "Can infer correct Value",
          "Can infer correct Value",
          "Can infer correct Value",
          "Can infer correct Value",
          "Can infer correct Value",
          "Can infer correct Value",
          "Can infer correct Value",
          "Can infer correct Value",
          "Can infer correct Value",
          "Can infer correct Value",
          "Can infer correct Value",
          "Can infer correct Value",
          "Can infer correct Value",
          "Can infer correct Value",
          "Can infer correct Value",
          "Can infer correct Value",
          "Can infer correct Value",
          "Can infer correct Quality",
          "Can infer correct Quality",
          "Can infer correct Quality",
          "Can infer correct Quality",
          "Can infer correct Quality",
          "Can infer correct Quality",
          "Can infer correct Quality",
          "Can infer correct Quality",
          "Can infer correct Quality",
          "Can infer correct Quality",
          "Can infer correct Quality",
          "Can infer correct Quality",
          "Can infer correct Quality",
          "Can infer correct Quality",
          "trunk and root",
          "Can infer correct Quality",
          "Can infer correct Quality",
          "Can infer correct Quality",
          "Can infer correct Quality",
          "Can infer correct Quality",
          "Can infer correct Quality",
          "Can infer correct Quality",
          "Can infer correct Quality",
          "Can infer correct Quality",
          "Can infer correct Quality",
          "Can infer correct Quality",
          "Can infer correct Quality",
          "vein"
         ],
         "marker": {
          "colors": [
           "rgb(151, 179, 100)",
           "rgb(175, 49, 35)",
           "rgb(175, 49, 35)",
           "rgb(175, 49, 35)",
           "rgb(175, 49, 35)",
           "rgb(175, 49, 35)",
           "rgb(175, 49, 35)",
           "rgb(175, 49, 35)",
           "rgb(175, 49, 35)",
           "rgb(175, 49, 35)",
           "rgb(175, 49, 35)",
           "rgb(175, 49, 35)",
           "rgb(175, 49, 35)",
           "rgb(175, 49, 35)",
           "rgb(175, 49, 35)",
           "rgb(175, 49, 35)",
           "rgb(175, 49, 35)",
           "rgb(175, 49, 35)",
           "rgb(175, 49, 35)",
           "rgb(175, 49, 35)",
           "rgb(175, 49, 35)",
           "rgb(175, 49, 35)",
           "rgb(175, 49, 35)",
           "rgb(175, 49, 35)",
           "rgb(175, 49, 35)",
           "rgb(175, 49, 35)",
           "rgb(79, 129, 102)",
           "rgb(79, 129, 102)",
           "rgb(79, 129, 102)",
           "rgb(79, 129, 102)",
           "rgb(79, 129, 102)",
           "rgb(79, 129, 102)",
           "rgb(79, 129, 102)",
           "rgb(79, 129, 102)",
           "rgb(79, 129, 102)",
           "rgb(79, 129, 102)",
           "rgb(79, 129, 102)",
           "rgb(79, 129, 102)",
           "rgb(79, 129, 102)",
           "rgb(79, 129, 102)",
           "rgb(79, 129, 102)",
           "rgb(79, 129, 102)",
           "rgb(79, 129, 102)",
           "rgb(79, 129, 102)",
           "rgb(175, 49, 35)",
           "rgb(175, 49, 35)",
           "rgb(175, 49, 35)",
           "rgb(175, 49, 35)",
           "rgb(79, 129, 102)",
           "rgb(175, 49, 35)",
           "rgb(175, 49, 35)",
           "black",
           "black",
           "black",
           "black",
           "black",
           "black",
           "black",
           "black",
           "black",
           "black",
           "black",
           "black",
           "black",
           "black",
           "black",
           "black",
           "black",
           "black",
           "black",
           "black",
           "black",
           "black",
           "rgb(175, 49, 35)",
           "black",
           "black",
           "rgb(175, 49, 35)",
           "rgb(175, 49, 35)",
           "rgb(175, 49, 35)",
           "rgb(175, 49, 35)",
           "rgb(175, 49, 35)",
           "rgb(175, 49, 35)",
           "rgb(175, 49, 35)",
           "rgb(175, 49, 35)",
           "black",
           "black",
           "black",
           "black",
           "black",
           "black",
           "black",
           "black",
           "black",
           "black",
           "black",
           "black",
           "black",
           "black",
           "rgb(79, 129, 102)",
           "rgb(79, 129, 102)",
           "rgb(79, 129, 102)",
           "rgb(151, 179, 100)",
           "rgb(151, 179, 100)",
           "rgb(151, 179, 100)",
           "rgb(151, 179, 100)",
           "rgb(151, 179, 100)",
           "rgb(151, 179, 100)",
           "rgb(151, 179, 100)",
           "rgb(151, 179, 100)",
           "rgb(151, 179, 100)",
           "rgb(151, 179, 100)",
           "rgb(151, 179, 100)",
           "rgb(151, 179, 100)",
           "rgb(151, 179, 100)",
           "rgb(151, 179, 100)",
           "rgb(33, 75, 99)",
           "rgb(33, 75, 99)",
           "rgb(33, 75, 99)",
           "rgb(33, 75, 99)",
           "rgb(33, 75, 99)",
           "rgb(33, 75, 99)",
           "rgb(33, 75, 99)",
           "rgb(151, 179, 100)",
           "rgb(33, 75, 99)",
           "rgb(151, 179, 100)",
           "rgb(151, 179, 100)",
           "rgb(151, 179, 100)",
           "rgb(151, 179, 100)",
           "rgb(151, 179, 100)",
           "rgb(151, 179, 100)",
           "rgb(151, 179, 100)",
           "rgb(151, 179, 100)",
           "rgb(151, 179, 100)",
           "rgb(151, 179, 100)",
           "rgb(151, 179, 100)",
           "rgb(151, 179, 100)",
           "rgb(151, 179, 100)",
           "rgb(151, 179, 100)",
           "rgb(151, 179, 100)",
           "rgb(151, 179, 100)",
           "rgb(151, 179, 100)",
           "rgb(151, 179, 100)",
           "rgb(151, 179, 100)",
           "rgb(151, 179, 100)",
           "rgb(151, 179, 100)",
           "rgb(151, 179, 100)",
           "rgb(151, 179, 100)",
           "rgb(151, 179, 100)",
           "rgb(33, 75, 99)",
           "rgb(33, 75, 99)",
           "rgb(33, 75, 99)",
           "rgb(33, 75, 99)",
           "rgb(33, 75, 99)",
           "rgb(33, 75, 99)",
           "rgb(79, 129, 102)",
           "rgb(79, 129, 102)",
           "rgb(79, 129, 102)",
           "rgb(79, 129, 102)",
           "rgb(79, 129, 102)",
           "rgb(79, 129, 102)",
           "rgb(79, 129, 102)",
           "rgb(79, 129, 102)",
           "rgb(79, 129, 102)",
           "rgb(79, 129, 102)",
           "rgb(79, 129, 102)",
           "rgb(79, 129, 102)",
           "rgb(79, 129, 102)",
           "rgb(79, 129, 102)",
           "rgb(79, 129, 102)",
           "rgb(79, 129, 102)",
           "rgb(79, 129, 102)",
           "rgb(79, 129, 102)",
           "rgb(33, 75, 99)",
           "rgb(33, 75, 99)",
           "rgb(33, 75, 99)",
           "rgb(33, 75, 99)",
           "rgb(33, 75, 99)",
           "rgb(33, 75, 99)",
           "rgb(33, 75, 99)",
           "rgb(33, 75, 99)",
           "rgb(33, 75, 99)",
           "rgb(33, 75, 99)",
           "rgb(33, 75, 99)",
           "rgb(33, 75, 99)",
           "rgb(33, 75, 99)",
           "rgb(33, 75, 99)",
           "black",
           "rgb(33, 75, 99)",
           "rgb(33, 75, 99)",
           "rgb(33, 75, 99)",
           "rgb(33, 75, 99)",
           "rgb(33, 75, 99)",
           "rgb(33, 75, 99)",
           "rgb(33, 75, 99)",
           "rgb(33, 75, 99)",
           "rgb(33, 75, 99)",
           "rgb(33, 75, 99)",
           "rgb(33, 75, 99)",
           "rgb(33, 75, 99)",
           "black"
          ]
         },
         "name": "",
         "parents": [
          "Fruit Colour Description",
          "Leaf composition",
          "Leaf glands",
          "Leaf lower side",
          "Leaf margin",
          "Leaf rachis",
          "Leaf shape",
          "Leaf upper side",
          "Life form",
          "Measurement",
          "Petals / corolla colour",
          "Petals / corolla number",
          "Petals / corolla shape",
          "Seed colour",
          "Sepals / calyx shape",
          "Stamen number",
          "Stamen shape",
          "bark",
          "crown",
          "flower color",
          "flower shape",
          "fruit",
          "Inflorescence type",
          "inflorescences",
          "Fruit type",
          "Fruit colour",
          "Stamen shape",
          "bark",
          "crown",
          "flower color",
          "flower shape",
          "fruit",
          "inflorescences",
          "leaf apex",
          "leaf base",
          "leaf blade",
          "leaf margin",
          "leaf shape",
          "petiole",
          "phyllotaxis",
          "plant type",
          "tendril",
          "trunk and root",
          "vein",
          "Fruit Colour Description",
          "Fruit Shape",
          "Fruit Size",
          "Fruit shape",
          "Stamen number",
          "leaf apex",
          "leaf blade",
          "",
          "",
          "",
          "",
          "",
          "",
          "",
          "",
          "",
          "",
          "",
          "",
          "",
          "",
          "",
          "",
          "",
          "",
          "",
          "",
          "",
          "",
          "leaf base",
          "",
          "",
          "leaf margin",
          "leaf shape",
          "petiole",
          "phyllotaxis",
          "plant type",
          "tendril",
          "trunk and root",
          "vein",
          "",
          "",
          "",
          "",
          "",
          "",
          "",
          "",
          "",
          "",
          "",
          "",
          "",
          "",
          "Sepals / calyx shape",
          "Seed colour",
          "Petals / corolla shape",
          "flower shape",
          "fruit",
          "inflorescences",
          "leaf apex",
          "leaf base",
          "leaf blade",
          "leaf margin",
          "leaf shape",
          "petiole",
          "phyllotaxis",
          "plant type",
          "tendril",
          "trunk and root",
          "vein",
          "Fruit Colour Description",
          "Fruit Shape",
          "Fruit Size",
          "Fruit colour",
          "Fruit shape",
          "Fruit type",
          "Inflorescence type",
          "flower color",
          "Leaf composition",
          "crown",
          "Stamen shape",
          "Fruit Shape",
          "Fruit Size",
          "Fruit colour",
          "Fruit shape",
          "Fruit type",
          "Inflorescence type",
          "Leaf composition",
          "Leaf glands",
          "Leaf lower side",
          "Leaf margin",
          "Leaf rachis",
          "Leaf shape",
          "Leaf upper side",
          "Life form",
          "Measurement",
          "Petals / corolla colour",
          "Petals / corolla number",
          "Petals / corolla shape",
          "Seed colour",
          "Sepals / calyx shape",
          "Stamen number",
          "bark",
          "Leaf glands",
          "Leaf lower side",
          "Leaf margin",
          "tendril",
          "trunk and root",
          "vein",
          "Fruit Colour Description",
          "Fruit Shape",
          "Fruit Size",
          "Fruit colour",
          "Fruit shape",
          "Fruit type",
          "Inflorescence type",
          "Leaf composition",
          "Leaf glands",
          "Leaf lower side",
          "Leaf margin",
          "Leaf rachis",
          "Leaf shape",
          "Leaf upper side",
          "Life form",
          "Measurement",
          "Petals / corolla colour",
          "Petals / corolla number",
          "plant type",
          "phyllotaxis",
          "petiole",
          "leaf shape",
          "Leaf rachis",
          "Leaf shape",
          "Leaf upper side",
          "Life form",
          "Measurement",
          "Petals / corolla colour",
          "Petals / corolla number",
          "Petals / corolla shape",
          "Seed colour",
          "Sepals / calyx shape",
          "",
          "Stamen number",
          "bark",
          "crown",
          "flower color",
          "flower shape",
          "fruit",
          "inflorescences",
          "leaf apex",
          "leaf base",
          "leaf blade",
          "leaf margin",
          "Stamen shape",
          ""
         ],
         "type": "sunburst",
         "values": [
          0.25,
          0,
          0,
          0.25,
          0.25,
          0.25,
          0.42857142857142855,
          0.14285714285714285,
          0.09090909090909091,
          0.4583333333333333,
          0.30000000000000004,
          0.5,
          1,
          0,
          0.3333333333333333,
          1,
          0.4,
          1,
          1,
          0,
          0.6000000000000001,
          1,
          0,
          0.7000000000000001,
          0.6666666666666666,
          0.625,
          0.6000000000000001,
          0,
          0,
          1,
          0,
          0,
          0.2,
          0.11764705882352941,
          0.1,
          0.3333333333333333,
          0,
          0.08333333333333333,
          0.3333333333333333,
          0,
          1,
          0.5,
          0,
          0,
          0.25,
          0.5714285714285714,
          0,
          0.16666666666666666,
          0,
          0.7647058823529411,
          0,
          1,
          1,
          1,
          1,
          1,
          1,
          1,
          1,
          1,
          1,
          1,
          1,
          1,
          1,
          1,
          1,
          1,
          1,
          1,
          1,
          1,
          1,
          0.5,
          1,
          1,
          0.5454545454545454,
          0.3333333333333333,
          0.6666666666666666,
          1,
          0,
          0.5,
          0.5,
          0.7142857142857142,
          1,
          1,
          1,
          1,
          1,
          1,
          1,
          1,
          1,
          1,
          1,
          1,
          1,
          1,
          0,
          0.5,
          0,
          0.30000000000000004,
          0,
          0.1,
          0.058823529411764705,
          0.2,
          0.6666666666666666,
          0.2727272727272727,
          0.41666666666666663,
          0,
          0,
          0,
          0,
          0.5,
          0.2857142857142857,
          0,
          0,
          0,
          0.0625,
          0.16666666666666666,
          0,
          0,
          0,
          0.8,
          0,
          0,
          0.2857142857142857,
          1,
          0.1875,
          0.6666666666666666,
          0,
          0.5,
          0,
          1,
          0.625,
          0.75,
          0.75,
          0.2857142857142857,
          0.7857142857142857,
          0,
          0.3958333333333333,
          0.4,
          0.5,
          0,
          0.5,
          0.6666666666666666,
          0,
          0,
          0,
          0,
          0,
          0,
          0,
          0,
          0.5,
          0.14285714285714285,
          0,
          0.125,
          0,
          0.3333333333333333,
          0.5,
          0.2,
          0,
          0.125,
          0,
          0,
          0.2857142857142857,
          0.07142857142857142,
          0.9090909090909092,
          0.10416666666666666,
          0.2,
          0,
          0,
          0,
          0,
          0.16666666666666666,
          0,
          0,
          0,
          0,
          0.041666666666666664,
          0.1,
          0,
          0,
          0,
          0,
          1,
          0,
          0,
          0,
          0,
          0.1,
          0,
          0,
          0.058823529411764705,
          0.2,
          0,
          0.18181818181818182,
          0,
          1
         ]
        }
       ],
       "layout": {
        "legend": {
         "tracegroupgap": 0
        },
        "margin": {
         "b": 0,
         "l": 0,
         "r": 0,
         "t": 0
        },
        "template": {
         "data": {
          "bar": [
           {
            "error_x": {
             "color": "#2a3f5f"
            },
            "error_y": {
             "color": "#2a3f5f"
            },
            "marker": {
             "line": {
              "color": "#E5ECF6",
              "width": 0.5
             },
             "pattern": {
              "fillmode": "overlay",
              "size": 10,
              "solidity": 0.2
             }
            },
            "type": "bar"
           }
          ],
          "barpolar": [
           {
            "marker": {
             "line": {
              "color": "#E5ECF6",
              "width": 0.5
             },
             "pattern": {
              "fillmode": "overlay",
              "size": 10,
              "solidity": 0.2
             }
            },
            "type": "barpolar"
           }
          ],
          "carpet": [
           {
            "aaxis": {
             "endlinecolor": "#2a3f5f",
             "gridcolor": "white",
             "linecolor": "white",
             "minorgridcolor": "white",
             "startlinecolor": "#2a3f5f"
            },
            "baxis": {
             "endlinecolor": "#2a3f5f",
             "gridcolor": "white",
             "linecolor": "white",
             "minorgridcolor": "white",
             "startlinecolor": "#2a3f5f"
            },
            "type": "carpet"
           }
          ],
          "choropleth": [
           {
            "colorbar": {
             "outlinewidth": 0,
             "ticks": ""
            },
            "type": "choropleth"
           }
          ],
          "contour": [
           {
            "colorbar": {
             "outlinewidth": 0,
             "ticks": ""
            },
            "colorscale": [
             [
              0,
              "#0d0887"
             ],
             [
              0.1111111111111111,
              "#46039f"
             ],
             [
              0.2222222222222222,
              "#7201a8"
             ],
             [
              0.3333333333333333,
              "#9c179e"
             ],
             [
              0.4444444444444444,
              "#bd3786"
             ],
             [
              0.5555555555555556,
              "#d8576b"
             ],
             [
              0.6666666666666666,
              "#ed7953"
             ],
             [
              0.7777777777777778,
              "#fb9f3a"
             ],
             [
              0.8888888888888888,
              "#fdca26"
             ],
             [
              1,
              "#f0f921"
             ]
            ],
            "type": "contour"
           }
          ],
          "contourcarpet": [
           {
            "colorbar": {
             "outlinewidth": 0,
             "ticks": ""
            },
            "type": "contourcarpet"
           }
          ],
          "heatmap": [
           {
            "colorbar": {
             "outlinewidth": 0,
             "ticks": ""
            },
            "colorscale": [
             [
              0,
              "#0d0887"
             ],
             [
              0.1111111111111111,
              "#46039f"
             ],
             [
              0.2222222222222222,
              "#7201a8"
             ],
             [
              0.3333333333333333,
              "#9c179e"
             ],
             [
              0.4444444444444444,
              "#bd3786"
             ],
             [
              0.5555555555555556,
              "#d8576b"
             ],
             [
              0.6666666666666666,
              "#ed7953"
             ],
             [
              0.7777777777777778,
              "#fb9f3a"
             ],
             [
              0.8888888888888888,
              "#fdca26"
             ],
             [
              1,
              "#f0f921"
             ]
            ],
            "type": "heatmap"
           }
          ],
          "heatmapgl": [
           {
            "colorbar": {
             "outlinewidth": 0,
             "ticks": ""
            },
            "colorscale": [
             [
              0,
              "#0d0887"
             ],
             [
              0.1111111111111111,
              "#46039f"
             ],
             [
              0.2222222222222222,
              "#7201a8"
             ],
             [
              0.3333333333333333,
              "#9c179e"
             ],
             [
              0.4444444444444444,
              "#bd3786"
             ],
             [
              0.5555555555555556,
              "#d8576b"
             ],
             [
              0.6666666666666666,
              "#ed7953"
             ],
             [
              0.7777777777777778,
              "#fb9f3a"
             ],
             [
              0.8888888888888888,
              "#fdca26"
             ],
             [
              1,
              "#f0f921"
             ]
            ],
            "type": "heatmapgl"
           }
          ],
          "histogram": [
           {
            "marker": {
             "pattern": {
              "fillmode": "overlay",
              "size": 10,
              "solidity": 0.2
             }
            },
            "type": "histogram"
           }
          ],
          "histogram2d": [
           {
            "colorbar": {
             "outlinewidth": 0,
             "ticks": ""
            },
            "colorscale": [
             [
              0,
              "#0d0887"
             ],
             [
              0.1111111111111111,
              "#46039f"
             ],
             [
              0.2222222222222222,
              "#7201a8"
             ],
             [
              0.3333333333333333,
              "#9c179e"
             ],
             [
              0.4444444444444444,
              "#bd3786"
             ],
             [
              0.5555555555555556,
              "#d8576b"
             ],
             [
              0.6666666666666666,
              "#ed7953"
             ],
             [
              0.7777777777777778,
              "#fb9f3a"
             ],
             [
              0.8888888888888888,
              "#fdca26"
             ],
             [
              1,
              "#f0f921"
             ]
            ],
            "type": "histogram2d"
           }
          ],
          "histogram2dcontour": [
           {
            "colorbar": {
             "outlinewidth": 0,
             "ticks": ""
            },
            "colorscale": [
             [
              0,
              "#0d0887"
             ],
             [
              0.1111111111111111,
              "#46039f"
             ],
             [
              0.2222222222222222,
              "#7201a8"
             ],
             [
              0.3333333333333333,
              "#9c179e"
             ],
             [
              0.4444444444444444,
              "#bd3786"
             ],
             [
              0.5555555555555556,
              "#d8576b"
             ],
             [
              0.6666666666666666,
              "#ed7953"
             ],
             [
              0.7777777777777778,
              "#fb9f3a"
             ],
             [
              0.8888888888888888,
              "#fdca26"
             ],
             [
              1,
              "#f0f921"
             ]
            ],
            "type": "histogram2dcontour"
           }
          ],
          "mesh3d": [
           {
            "colorbar": {
             "outlinewidth": 0,
             "ticks": ""
            },
            "type": "mesh3d"
           }
          ],
          "parcoords": [
           {
            "line": {
             "colorbar": {
              "outlinewidth": 0,
              "ticks": ""
             }
            },
            "type": "parcoords"
           }
          ],
          "pie": [
           {
            "automargin": true,
            "type": "pie"
           }
          ],
          "scatter": [
           {
            "fillpattern": {
             "fillmode": "overlay",
             "size": 10,
             "solidity": 0.2
            },
            "type": "scatter"
           }
          ],
          "scatter3d": [
           {
            "line": {
             "colorbar": {
              "outlinewidth": 0,
              "ticks": ""
             }
            },
            "marker": {
             "colorbar": {
              "outlinewidth": 0,
              "ticks": ""
             }
            },
            "type": "scatter3d"
           }
          ],
          "scattercarpet": [
           {
            "marker": {
             "colorbar": {
              "outlinewidth": 0,
              "ticks": ""
             }
            },
            "type": "scattercarpet"
           }
          ],
          "scattergeo": [
           {
            "marker": {
             "colorbar": {
              "outlinewidth": 0,
              "ticks": ""
             }
            },
            "type": "scattergeo"
           }
          ],
          "scattergl": [
           {
            "marker": {
             "colorbar": {
              "outlinewidth": 0,
              "ticks": ""
             }
            },
            "type": "scattergl"
           }
          ],
          "scattermapbox": [
           {
            "marker": {
             "colorbar": {
              "outlinewidth": 0,
              "ticks": ""
             }
            },
            "type": "scattermapbox"
           }
          ],
          "scatterpolar": [
           {
            "marker": {
             "colorbar": {
              "outlinewidth": 0,
              "ticks": ""
             }
            },
            "type": "scatterpolar"
           }
          ],
          "scatterpolargl": [
           {
            "marker": {
             "colorbar": {
              "outlinewidth": 0,
              "ticks": ""
             }
            },
            "type": "scatterpolargl"
           }
          ],
          "scatterternary": [
           {
            "marker": {
             "colorbar": {
              "outlinewidth": 0,
              "ticks": ""
             }
            },
            "type": "scatterternary"
           }
          ],
          "surface": [
           {
            "colorbar": {
             "outlinewidth": 0,
             "ticks": ""
            },
            "colorscale": [
             [
              0,
              "#0d0887"
             ],
             [
              0.1111111111111111,
              "#46039f"
             ],
             [
              0.2222222222222222,
              "#7201a8"
             ],
             [
              0.3333333333333333,
              "#9c179e"
             ],
             [
              0.4444444444444444,
              "#bd3786"
             ],
             [
              0.5555555555555556,
              "#d8576b"
             ],
             [
              0.6666666666666666,
              "#ed7953"
             ],
             [
              0.7777777777777778,
              "#fb9f3a"
             ],
             [
              0.8888888888888888,
              "#fdca26"
             ],
             [
              1,
              "#f0f921"
             ]
            ],
            "type": "surface"
           }
          ],
          "table": [
           {
            "cells": {
             "fill": {
              "color": "#EBF0F8"
             },
             "line": {
              "color": "white"
             }
            },
            "header": {
             "fill": {
              "color": "#C8D4E3"
             },
             "line": {
              "color": "white"
             }
            },
            "type": "table"
           }
          ]
         },
         "layout": {
          "annotationdefaults": {
           "arrowcolor": "#2a3f5f",
           "arrowhead": 0,
           "arrowwidth": 1
          },
          "autotypenumbers": "strict",
          "coloraxis": {
           "colorbar": {
            "outlinewidth": 0,
            "ticks": ""
           }
          },
          "colorscale": {
           "diverging": [
            [
             0,
             "#8e0152"
            ],
            [
             0.1,
             "#c51b7d"
            ],
            [
             0.2,
             "#de77ae"
            ],
            [
             0.3,
             "#f1b6da"
            ],
            [
             0.4,
             "#fde0ef"
            ],
            [
             0.5,
             "#f7f7f7"
            ],
            [
             0.6,
             "#e6f5d0"
            ],
            [
             0.7,
             "#b8e186"
            ],
            [
             0.8,
             "#7fbc41"
            ],
            [
             0.9,
             "#4d9221"
            ],
            [
             1,
             "#276419"
            ]
           ],
           "sequential": [
            [
             0,
             "#0d0887"
            ],
            [
             0.1111111111111111,
             "#46039f"
            ],
            [
             0.2222222222222222,
             "#7201a8"
            ],
            [
             0.3333333333333333,
             "#9c179e"
            ],
            [
             0.4444444444444444,
             "#bd3786"
            ],
            [
             0.5555555555555556,
             "#d8576b"
            ],
            [
             0.6666666666666666,
             "#ed7953"
            ],
            [
             0.7777777777777778,
             "#fb9f3a"
            ],
            [
             0.8888888888888888,
             "#fdca26"
            ],
            [
             1,
             "#f0f921"
            ]
           ],
           "sequentialminus": [
            [
             0,
             "#0d0887"
            ],
            [
             0.1111111111111111,
             "#46039f"
            ],
            [
             0.2222222222222222,
             "#7201a8"
            ],
            [
             0.3333333333333333,
             "#9c179e"
            ],
            [
             0.4444444444444444,
             "#bd3786"
            ],
            [
             0.5555555555555556,
             "#d8576b"
            ],
            [
             0.6666666666666666,
             "#ed7953"
            ],
            [
             0.7777777777777778,
             "#fb9f3a"
            ],
            [
             0.8888888888888888,
             "#fdca26"
            ],
            [
             1,
             "#f0f921"
            ]
           ]
          },
          "colorway": [
           "#636efa",
           "#EF553B",
           "#00cc96",
           "#ab63fa",
           "#FFA15A",
           "#19d3f3",
           "#FF6692",
           "#B6E880",
           "#FF97FF",
           "#FECB52"
          ],
          "font": {
           "color": "#2a3f5f"
          },
          "geo": {
           "bgcolor": "white",
           "lakecolor": "white",
           "landcolor": "#E5ECF6",
           "showlakes": true,
           "showland": true,
           "subunitcolor": "white"
          },
          "hoverlabel": {
           "align": "left"
          },
          "hovermode": "closest",
          "mapbox": {
           "style": "light"
          },
          "paper_bgcolor": "white",
          "plot_bgcolor": "#E5ECF6",
          "polar": {
           "angularaxis": {
            "gridcolor": "white",
            "linecolor": "white",
            "ticks": ""
           },
           "bgcolor": "#E5ECF6",
           "radialaxis": {
            "gridcolor": "white",
            "linecolor": "white",
            "ticks": ""
           }
          },
          "scene": {
           "xaxis": {
            "backgroundcolor": "#E5ECF6",
            "gridcolor": "white",
            "gridwidth": 2,
            "linecolor": "white",
            "showbackground": true,
            "ticks": "",
            "zerolinecolor": "white"
           },
           "yaxis": {
            "backgroundcolor": "#E5ECF6",
            "gridcolor": "white",
            "gridwidth": 2,
            "linecolor": "white",
            "showbackground": true,
            "ticks": "",
            "zerolinecolor": "white"
           },
           "zaxis": {
            "backgroundcolor": "#E5ECF6",
            "gridcolor": "white",
            "gridwidth": 2,
            "linecolor": "white",
            "showbackground": true,
            "ticks": "",
            "zerolinecolor": "white"
           }
          },
          "shapedefaults": {
           "line": {
            "color": "#2a3f5f"
           }
          },
          "ternary": {
           "aaxis": {
            "gridcolor": "white",
            "linecolor": "white",
            "ticks": ""
           },
           "baxis": {
            "gridcolor": "white",
            "linecolor": "white",
            "ticks": ""
           },
           "bgcolor": "#E5ECF6",
           "caxis": {
            "gridcolor": "white",
            "linecolor": "white",
            "ticks": ""
           }
          },
          "title": {
           "x": 0.05
          },
          "xaxis": {
           "automargin": true,
           "gridcolor": "white",
           "linecolor": "white",
           "ticks": "",
           "title": {
            "standoff": 15
           },
           "zerolinecolor": "white",
           "zerolinewidth": 2
          },
          "yaxis": {
           "automargin": true,
           "gridcolor": "white",
           "linecolor": "white",
           "ticks": "",
           "title": {
            "standoff": 15
           },
           "zerolinecolor": "white",
           "zerolinewidth": 2
          }
         }
        },
        "uniformtext": {
         "minsize": 8,
         "mode": "hide"
        }
       }
      }
     },
     "metadata": {},
     "output_type": "display_data"
    }
   ],
   "source": [
    "labels = ['None of the above', 'Can infer correct Entity', 'Can infer correct Quality', 'Can infer correct Value']\n",
    "\n",
    "colors = [\n",
    "    'rgb(175, 49, 35)', \n",
    "    'rgb(151, 179, 100)',\n",
    "    'rgb(33, 75, 99)',\n",
    "    'rgb(79, 129, 102)',\n",
    "      ]\n",
    "\n",
    "color_dict = {label: color for color, label in zip(colors, labels)}\n",
    "color_dict['(?)'] = 'black'\n",
    "\n",
    "fig = px.sunburst(df_melt, \n",
    "                  path=['Main Trait', 'variable'], \n",
    "                  values='Percentage', \n",
    "                  color='variable',\n",
    "                  color_discrete_map=color_dict)\n",
    "\n",
    "fig.update_layout(\n",
    "    margin = dict(t=0, l=0, r=0, b=0),\n",
    "    uniformtext=dict(minsize=8, mode='hide')\n",
    ")\n",
    "\n",
    "fig.show()\n",
    "\n",
    "folder_figures = \"../../../reports/figures/\"\n",
    "file_name = \"PxPlot_HTML_SurveysPerTrait_Percentage.html\"\n",
    "fig.write_html(F\"{folder_figures}{file_name}\")\n",
    "file_name = \"PxPlot_PDF_SurveysPerTrait_Percentage.pdf\"\n",
    "fig.write_image(F\"{folder_figures}{file_name}\")"
   ]
  },
  {
   "attachments": {},
   "cell_type": "markdown",
   "id": "743fae9e",
   "metadata": {},
   "source": [
    "#### Normal"
   ]
  },
  {
   "cell_type": "code",
   "execution_count": 90,
   "id": "a5a478d8",
   "metadata": {},
   "outputs": [
    {
     "data": {
      "application/vnd.plotly.v1+json": {
       "config": {
        "plotlyServerURL": "https://plot.ly"
       },
       "data": [
        {
         "branchvalues": "total",
         "customdata": [
          [
           "Can infer correct Entity"
          ],
          [
           "None of the above"
          ],
          [
           "None of the above"
          ],
          [
           "None of the above"
          ],
          [
           "None of the above"
          ],
          [
           "None of the above"
          ],
          [
           "None of the above"
          ],
          [
           "None of the above"
          ],
          [
           "None of the above"
          ],
          [
           "None of the above"
          ],
          [
           "None of the above"
          ],
          [
           "None of the above"
          ],
          [
           "None of the above"
          ],
          [
           "None of the above"
          ],
          [
           "None of the above"
          ],
          [
           "None of the above"
          ],
          [
           "None of the above"
          ],
          [
           "None of the above"
          ],
          [
           "None of the above"
          ],
          [
           "None of the above"
          ],
          [
           "None of the above"
          ],
          [
           "None of the above"
          ],
          [
           "None of the above"
          ],
          [
           "None of the above"
          ],
          [
           "None of the above"
          ],
          [
           "None of the above"
          ],
          [
           "Can infer correct Value"
          ],
          [
           "Can infer correct Value"
          ],
          [
           "Can infer correct Value"
          ],
          [
           "Can infer correct Value"
          ],
          [
           "Can infer correct Value"
          ],
          [
           "Can infer correct Value"
          ],
          [
           "Can infer correct Value"
          ],
          [
           "Can infer correct Value"
          ],
          [
           "Can infer correct Value"
          ],
          [
           "Can infer correct Value"
          ],
          [
           "Can infer correct Value"
          ],
          [
           "Can infer correct Value"
          ],
          [
           "Can infer correct Value"
          ],
          [
           "Can infer correct Value"
          ],
          [
           "Can infer correct Value"
          ],
          [
           "Can infer correct Value"
          ],
          [
           "Can infer correct Value"
          ],
          [
           "Can infer correct Value"
          ],
          [
           "None of the above"
          ],
          [
           "None of the above"
          ],
          [
           "None of the above"
          ],
          [
           "None of the above"
          ],
          [
           "Can infer correct Value"
          ],
          [
           "None of the above"
          ],
          [
           "None of the above"
          ],
          [
           "(?)"
          ],
          [
           "(?)"
          ],
          [
           "(?)"
          ],
          [
           "(?)"
          ],
          [
           "(?)"
          ],
          [
           "(?)"
          ],
          [
           "(?)"
          ],
          [
           "(?)"
          ],
          [
           "(?)"
          ],
          [
           "(?)"
          ],
          [
           "(?)"
          ],
          [
           "(?)"
          ],
          [
           "(?)"
          ],
          [
           "(?)"
          ],
          [
           "(?)"
          ],
          [
           "(?)"
          ],
          [
           "(?)"
          ],
          [
           "(?)"
          ],
          [
           "(?)"
          ],
          [
           "(?)"
          ],
          [
           "(?)"
          ],
          [
           "(?)"
          ],
          [
           "None of the above"
          ],
          [
           "(?)"
          ],
          [
           "(?)"
          ],
          [
           "None of the above"
          ],
          [
           "None of the above"
          ],
          [
           "None of the above"
          ],
          [
           "None of the above"
          ],
          [
           "None of the above"
          ],
          [
           "None of the above"
          ],
          [
           "None of the above"
          ],
          [
           "None of the above"
          ],
          [
           "(?)"
          ],
          [
           "(?)"
          ],
          [
           "(?)"
          ],
          [
           "(?)"
          ],
          [
           "(?)"
          ],
          [
           "(?)"
          ],
          [
           "(?)"
          ],
          [
           "(?)"
          ],
          [
           "(?)"
          ],
          [
           "(?)"
          ],
          [
           "(?)"
          ],
          [
           "(?)"
          ],
          [
           "(?)"
          ],
          [
           "(?)"
          ],
          [
           "Can infer correct Value"
          ],
          [
           "Can infer correct Value"
          ],
          [
           "Can infer correct Value"
          ],
          [
           "Can infer correct Entity"
          ],
          [
           "Can infer correct Entity"
          ],
          [
           "Can infer correct Entity"
          ],
          [
           "Can infer correct Entity"
          ],
          [
           "Can infer correct Entity"
          ],
          [
           "Can infer correct Entity"
          ],
          [
           "Can infer correct Entity"
          ],
          [
           "Can infer correct Entity"
          ],
          [
           "Can infer correct Entity"
          ],
          [
           "Can infer correct Entity"
          ],
          [
           "Can infer correct Entity"
          ],
          [
           "Can infer correct Entity"
          ],
          [
           "Can infer correct Entity"
          ],
          [
           "Can infer correct Entity"
          ],
          [
           "Can infer correct Quality"
          ],
          [
           "Can infer correct Quality"
          ],
          [
           "Can infer correct Quality"
          ],
          [
           "Can infer correct Quality"
          ],
          [
           "Can infer correct Quality"
          ],
          [
           "Can infer correct Quality"
          ],
          [
           "Can infer correct Quality"
          ],
          [
           "Can infer correct Entity"
          ],
          [
           "Can infer correct Quality"
          ],
          [
           "Can infer correct Entity"
          ],
          [
           "Can infer correct Entity"
          ],
          [
           "Can infer correct Entity"
          ],
          [
           "Can infer correct Entity"
          ],
          [
           "Can infer correct Entity"
          ],
          [
           "Can infer correct Entity"
          ],
          [
           "Can infer correct Entity"
          ],
          [
           "Can infer correct Entity"
          ],
          [
           "Can infer correct Entity"
          ],
          [
           "Can infer correct Entity"
          ],
          [
           "Can infer correct Entity"
          ],
          [
           "Can infer correct Entity"
          ],
          [
           "Can infer correct Entity"
          ],
          [
           "Can infer correct Entity"
          ],
          [
           "Can infer correct Entity"
          ],
          [
           "Can infer correct Entity"
          ],
          [
           "Can infer correct Entity"
          ],
          [
           "Can infer correct Entity"
          ],
          [
           "Can infer correct Entity"
          ],
          [
           "Can infer correct Entity"
          ],
          [
           "Can infer correct Entity"
          ],
          [
           "Can infer correct Entity"
          ],
          [
           "Can infer correct Entity"
          ],
          [
           "Can infer correct Entity"
          ],
          [
           "Can infer correct Quality"
          ],
          [
           "Can infer correct Quality"
          ],
          [
           "Can infer correct Quality"
          ],
          [
           "Can infer correct Quality"
          ],
          [
           "Can infer correct Quality"
          ],
          [
           "Can infer correct Quality"
          ],
          [
           "Can infer correct Value"
          ],
          [
           "Can infer correct Value"
          ],
          [
           "Can infer correct Value"
          ],
          [
           "Can infer correct Value"
          ],
          [
           "Can infer correct Value"
          ],
          [
           "Can infer correct Value"
          ],
          [
           "Can infer correct Value"
          ],
          [
           "Can infer correct Value"
          ],
          [
           "Can infer correct Value"
          ],
          [
           "Can infer correct Value"
          ],
          [
           "Can infer correct Value"
          ],
          [
           "Can infer correct Value"
          ],
          [
           "Can infer correct Value"
          ],
          [
           "Can infer correct Value"
          ],
          [
           "Can infer correct Value"
          ],
          [
           "Can infer correct Value"
          ],
          [
           "Can infer correct Value"
          ],
          [
           "Can infer correct Value"
          ],
          [
           "Can infer correct Quality"
          ],
          [
           "Can infer correct Quality"
          ],
          [
           "Can infer correct Quality"
          ],
          [
           "Can infer correct Quality"
          ],
          [
           "Can infer correct Quality"
          ],
          [
           "Can infer correct Quality"
          ],
          [
           "Can infer correct Quality"
          ],
          [
           "Can infer correct Quality"
          ],
          [
           "Can infer correct Quality"
          ],
          [
           "Can infer correct Quality"
          ],
          [
           "Can infer correct Quality"
          ],
          [
           "Can infer correct Quality"
          ],
          [
           "Can infer correct Quality"
          ],
          [
           "Can infer correct Quality"
          ],
          [
           "(?)"
          ],
          [
           "Can infer correct Quality"
          ],
          [
           "Can infer correct Quality"
          ],
          [
           "Can infer correct Quality"
          ],
          [
           "Can infer correct Quality"
          ],
          [
           "Can infer correct Quality"
          ],
          [
           "Can infer correct Quality"
          ],
          [
           "Can infer correct Quality"
          ],
          [
           "Can infer correct Quality"
          ],
          [
           "Can infer correct Quality"
          ],
          [
           "Can infer correct Quality"
          ],
          [
           "Can infer correct Quality"
          ],
          [
           "Can infer correct Quality"
          ],
          [
           "(?)"
          ]
         ],
         "domain": {
          "x": [
           0,
           1
          ],
          "y": [
           0,
           1
          ]
         },
         "hovertemplate": "labels=%{label}<br>value=%{value}<br>parent=%{parent}<br>id=%{id}<br>variable=%{customdata[0]}<extra></extra>",
         "ids": [
          "Fruit Colour Description/Can infer correct Entity",
          "Leaf composition/None of the above",
          "Leaf glands/None of the above",
          "Leaf lower side/None of the above",
          "Leaf margin/None of the above",
          "Leaf rachis/None of the above",
          "Leaf shape/None of the above",
          "Leaf upper side/None of the above",
          "Life form/None of the above",
          "Measurement/None of the above",
          "Petals / corolla colour/None of the above",
          "Petals / corolla number/None of the above",
          "Petals / corolla shape/None of the above",
          "Seed colour/None of the above",
          "Sepals / calyx shape/None of the above",
          "Stamen number/None of the above",
          "Stamen shape/None of the above",
          "bark/None of the above",
          "crown/None of the above",
          "flower color/None of the above",
          "flower shape/None of the above",
          "fruit/None of the above",
          "Inflorescence type/None of the above",
          "inflorescences/None of the above",
          "Fruit type/None of the above",
          "Fruit colour/None of the above",
          "Stamen shape/Can infer correct Value",
          "bark/Can infer correct Value",
          "crown/Can infer correct Value",
          "flower color/Can infer correct Value",
          "flower shape/Can infer correct Value",
          "fruit/Can infer correct Value",
          "inflorescences/Can infer correct Value",
          "leaf apex/Can infer correct Value",
          "leaf base/Can infer correct Value",
          "leaf blade/Can infer correct Value",
          "leaf margin/Can infer correct Value",
          "leaf shape/Can infer correct Value",
          "petiole/Can infer correct Value",
          "phyllotaxis/Can infer correct Value",
          "plant type/Can infer correct Value",
          "tendril/Can infer correct Value",
          "trunk and root/Can infer correct Value",
          "vein/Can infer correct Value",
          "Fruit Colour Description/None of the above",
          "Fruit Shape/None of the above",
          "Fruit Size/None of the above",
          "Fruit shape/None of the above",
          "Stamen number/Can infer correct Value",
          "leaf apex/None of the above",
          "leaf blade/None of the above",
          "Petals / corolla number",
          "Petals / corolla shape",
          "Seed colour",
          "Sepals / calyx shape",
          "Stamen number",
          "Stamen shape",
          "bark",
          "crown",
          "flower color",
          "flower shape",
          "fruit",
          "inflorescences",
          "leaf apex",
          "leaf base",
          "leaf blade",
          "leaf margin",
          "leaf shape",
          "petiole",
          "phyllotaxis",
          "plant type",
          "tendril",
          "Petals / corolla colour",
          "leaf base/None of the above",
          "Measurement",
          "Leaf upper side",
          "leaf margin/None of the above",
          "leaf shape/None of the above",
          "petiole/None of the above",
          "phyllotaxis/None of the above",
          "plant type/None of the above",
          "tendril/None of the above",
          "trunk and root/None of the above",
          "vein/None of the above",
          "Fruit Colour Description",
          "Fruit Shape",
          "Fruit Size",
          "Fruit colour",
          "Fruit shape",
          "Fruit type",
          "Inflorescence type",
          "Leaf composition",
          "Leaf glands",
          "Leaf lower side",
          "Leaf margin",
          "Leaf rachis",
          "Leaf shape",
          "Life form",
          "Sepals / calyx shape/Can infer correct Value",
          "Seed colour/Can infer correct Value",
          "Petals / corolla shape/Can infer correct Value",
          "flower shape/Can infer correct Entity",
          "fruit/Can infer correct Entity",
          "inflorescences/Can infer correct Entity",
          "leaf apex/Can infer correct Entity",
          "leaf base/Can infer correct Entity",
          "leaf blade/Can infer correct Entity",
          "leaf margin/Can infer correct Entity",
          "leaf shape/Can infer correct Entity",
          "petiole/Can infer correct Entity",
          "phyllotaxis/Can infer correct Entity",
          "plant type/Can infer correct Entity",
          "tendril/Can infer correct Entity",
          "trunk and root/Can infer correct Entity",
          "vein/Can infer correct Entity",
          "Fruit Colour Description/Can infer correct Quality",
          "Fruit Shape/Can infer correct Quality",
          "Fruit Size/Can infer correct Quality",
          "Fruit colour/Can infer correct Quality",
          "Fruit shape/Can infer correct Quality",
          "Fruit type/Can infer correct Quality",
          "Inflorescence type/Can infer correct Quality",
          "flower color/Can infer correct Entity",
          "Leaf composition/Can infer correct Quality",
          "crown/Can infer correct Entity",
          "Stamen shape/Can infer correct Entity",
          "Fruit Shape/Can infer correct Entity",
          "Fruit Size/Can infer correct Entity",
          "Fruit colour/Can infer correct Entity",
          "Fruit shape/Can infer correct Entity",
          "Fruit type/Can infer correct Entity",
          "Inflorescence type/Can infer correct Entity",
          "Leaf composition/Can infer correct Entity",
          "Leaf glands/Can infer correct Entity",
          "Leaf lower side/Can infer correct Entity",
          "Leaf margin/Can infer correct Entity",
          "Leaf rachis/Can infer correct Entity",
          "Leaf shape/Can infer correct Entity",
          "Leaf upper side/Can infer correct Entity",
          "Life form/Can infer correct Entity",
          "Measurement/Can infer correct Entity",
          "Petals / corolla colour/Can infer correct Entity",
          "Petals / corolla number/Can infer correct Entity",
          "Petals / corolla shape/Can infer correct Entity",
          "Seed colour/Can infer correct Entity",
          "Sepals / calyx shape/Can infer correct Entity",
          "Stamen number/Can infer correct Entity",
          "bark/Can infer correct Entity",
          "Leaf glands/Can infer correct Quality",
          "Leaf lower side/Can infer correct Quality",
          "Leaf margin/Can infer correct Quality",
          "tendril/Can infer correct Quality",
          "trunk and root/Can infer correct Quality",
          "vein/Can infer correct Quality",
          "Fruit Colour Description/Can infer correct Value",
          "Fruit Shape/Can infer correct Value",
          "Fruit Size/Can infer correct Value",
          "Fruit colour/Can infer correct Value",
          "Fruit shape/Can infer correct Value",
          "Fruit type/Can infer correct Value",
          "Inflorescence type/Can infer correct Value",
          "Leaf composition/Can infer correct Value",
          "Leaf glands/Can infer correct Value",
          "Leaf lower side/Can infer correct Value",
          "Leaf margin/Can infer correct Value",
          "Leaf rachis/Can infer correct Value",
          "Leaf shape/Can infer correct Value",
          "Leaf upper side/Can infer correct Value",
          "Life form/Can infer correct Value",
          "Measurement/Can infer correct Value",
          "Petals / corolla colour/Can infer correct Value",
          "Petals / corolla number/Can infer correct Value",
          "plant type/Can infer correct Quality",
          "phyllotaxis/Can infer correct Quality",
          "petiole/Can infer correct Quality",
          "leaf shape/Can infer correct Quality",
          "Leaf rachis/Can infer correct Quality",
          "Leaf shape/Can infer correct Quality",
          "Leaf upper side/Can infer correct Quality",
          "Life form/Can infer correct Quality",
          "Measurement/Can infer correct Quality",
          "Petals / corolla colour/Can infer correct Quality",
          "Petals / corolla number/Can infer correct Quality",
          "Petals / corolla shape/Can infer correct Quality",
          "Seed colour/Can infer correct Quality",
          "Sepals / calyx shape/Can infer correct Quality",
          "trunk and root",
          "Stamen number/Can infer correct Quality",
          "bark/Can infer correct Quality",
          "crown/Can infer correct Quality",
          "flower color/Can infer correct Quality",
          "flower shape/Can infer correct Quality",
          "fruit/Can infer correct Quality",
          "inflorescences/Can infer correct Quality",
          "leaf apex/Can infer correct Quality",
          "leaf base/Can infer correct Quality",
          "leaf blade/Can infer correct Quality",
          "leaf margin/Can infer correct Quality",
          "Stamen shape/Can infer correct Quality",
          "vein"
         ],
         "labels": [
          "Can infer correct Entity",
          "None of the above",
          "None of the above",
          "None of the above",
          "None of the above",
          "None of the above",
          "None of the above",
          "None of the above",
          "None of the above",
          "None of the above",
          "None of the above",
          "None of the above",
          "None of the above",
          "None of the above",
          "None of the above",
          "None of the above",
          "None of the above",
          "None of the above",
          "None of the above",
          "None of the above",
          "None of the above",
          "None of the above",
          "None of the above",
          "None of the above",
          "None of the above",
          "None of the above",
          "Can infer correct Value",
          "Can infer correct Value",
          "Can infer correct Value",
          "Can infer correct Value",
          "Can infer correct Value",
          "Can infer correct Value",
          "Can infer correct Value",
          "Can infer correct Value",
          "Can infer correct Value",
          "Can infer correct Value",
          "Can infer correct Value",
          "Can infer correct Value",
          "Can infer correct Value",
          "Can infer correct Value",
          "Can infer correct Value",
          "Can infer correct Value",
          "Can infer correct Value",
          "Can infer correct Value",
          "None of the above",
          "None of the above",
          "None of the above",
          "None of the above",
          "Can infer correct Value",
          "None of the above",
          "None of the above",
          "Petals / corolla number",
          "Petals / corolla shape",
          "Seed colour",
          "Sepals / calyx shape",
          "Stamen number",
          "Stamen shape",
          "bark",
          "crown",
          "flower color",
          "flower shape",
          "fruit",
          "inflorescences",
          "leaf apex",
          "leaf base",
          "leaf blade",
          "leaf margin",
          "leaf shape",
          "petiole",
          "phyllotaxis",
          "plant type",
          "tendril",
          "Petals / corolla colour",
          "None of the above",
          "Measurement",
          "Leaf upper side",
          "None of the above",
          "None of the above",
          "None of the above",
          "None of the above",
          "None of the above",
          "None of the above",
          "None of the above",
          "None of the above",
          "Fruit Colour Description",
          "Fruit Shape",
          "Fruit Size",
          "Fruit colour",
          "Fruit shape",
          "Fruit type",
          "Inflorescence type",
          "Leaf composition",
          "Leaf glands",
          "Leaf lower side",
          "Leaf margin",
          "Leaf rachis",
          "Leaf shape",
          "Life form",
          "Can infer correct Value",
          "Can infer correct Value",
          "Can infer correct Value",
          "Can infer correct Entity",
          "Can infer correct Entity",
          "Can infer correct Entity",
          "Can infer correct Entity",
          "Can infer correct Entity",
          "Can infer correct Entity",
          "Can infer correct Entity",
          "Can infer correct Entity",
          "Can infer correct Entity",
          "Can infer correct Entity",
          "Can infer correct Entity",
          "Can infer correct Entity",
          "Can infer correct Entity",
          "Can infer correct Entity",
          "Can infer correct Quality",
          "Can infer correct Quality",
          "Can infer correct Quality",
          "Can infer correct Quality",
          "Can infer correct Quality",
          "Can infer correct Quality",
          "Can infer correct Quality",
          "Can infer correct Entity",
          "Can infer correct Quality",
          "Can infer correct Entity",
          "Can infer correct Entity",
          "Can infer correct Entity",
          "Can infer correct Entity",
          "Can infer correct Entity",
          "Can infer correct Entity",
          "Can infer correct Entity",
          "Can infer correct Entity",
          "Can infer correct Entity",
          "Can infer correct Entity",
          "Can infer correct Entity",
          "Can infer correct Entity",
          "Can infer correct Entity",
          "Can infer correct Entity",
          "Can infer correct Entity",
          "Can infer correct Entity",
          "Can infer correct Entity",
          "Can infer correct Entity",
          "Can infer correct Entity",
          "Can infer correct Entity",
          "Can infer correct Entity",
          "Can infer correct Entity",
          "Can infer correct Entity",
          "Can infer correct Entity",
          "Can infer correct Quality",
          "Can infer correct Quality",
          "Can infer correct Quality",
          "Can infer correct Quality",
          "Can infer correct Quality",
          "Can infer correct Quality",
          "Can infer correct Value",
          "Can infer correct Value",
          "Can infer correct Value",
          "Can infer correct Value",
          "Can infer correct Value",
          "Can infer correct Value",
          "Can infer correct Value",
          "Can infer correct Value",
          "Can infer correct Value",
          "Can infer correct Value",
          "Can infer correct Value",
          "Can infer correct Value",
          "Can infer correct Value",
          "Can infer correct Value",
          "Can infer correct Value",
          "Can infer correct Value",
          "Can infer correct Value",
          "Can infer correct Value",
          "Can infer correct Quality",
          "Can infer correct Quality",
          "Can infer correct Quality",
          "Can infer correct Quality",
          "Can infer correct Quality",
          "Can infer correct Quality",
          "Can infer correct Quality",
          "Can infer correct Quality",
          "Can infer correct Quality",
          "Can infer correct Quality",
          "Can infer correct Quality",
          "Can infer correct Quality",
          "Can infer correct Quality",
          "Can infer correct Quality",
          "trunk and root",
          "Can infer correct Quality",
          "Can infer correct Quality",
          "Can infer correct Quality",
          "Can infer correct Quality",
          "Can infer correct Quality",
          "Can infer correct Quality",
          "Can infer correct Quality",
          "Can infer correct Quality",
          "Can infer correct Quality",
          "Can infer correct Quality",
          "Can infer correct Quality",
          "Can infer correct Quality",
          "vein"
         ],
         "marker": {
          "colors": [
           "rgb(151, 179, 100)",
           "rgb(175, 49, 35)",
           "rgb(175, 49, 35)",
           "rgb(175, 49, 35)",
           "rgb(175, 49, 35)",
           "rgb(175, 49, 35)",
           "rgb(175, 49, 35)",
           "rgb(175, 49, 35)",
           "rgb(175, 49, 35)",
           "rgb(175, 49, 35)",
           "rgb(175, 49, 35)",
           "rgb(175, 49, 35)",
           "rgb(175, 49, 35)",
           "rgb(175, 49, 35)",
           "rgb(175, 49, 35)",
           "rgb(175, 49, 35)",
           "rgb(175, 49, 35)",
           "rgb(175, 49, 35)",
           "rgb(175, 49, 35)",
           "rgb(175, 49, 35)",
           "rgb(175, 49, 35)",
           "rgb(175, 49, 35)",
           "rgb(175, 49, 35)",
           "rgb(175, 49, 35)",
           "rgb(175, 49, 35)",
           "rgb(175, 49, 35)",
           "rgb(79, 129, 102)",
           "rgb(79, 129, 102)",
           "rgb(79, 129, 102)",
           "rgb(79, 129, 102)",
           "rgb(79, 129, 102)",
           "rgb(79, 129, 102)",
           "rgb(79, 129, 102)",
           "rgb(79, 129, 102)",
           "rgb(79, 129, 102)",
           "rgb(79, 129, 102)",
           "rgb(79, 129, 102)",
           "rgb(79, 129, 102)",
           "rgb(79, 129, 102)",
           "rgb(79, 129, 102)",
           "rgb(79, 129, 102)",
           "rgb(79, 129, 102)",
           "rgb(79, 129, 102)",
           "rgb(79, 129, 102)",
           "rgb(175, 49, 35)",
           "rgb(175, 49, 35)",
           "rgb(175, 49, 35)",
           "rgb(175, 49, 35)",
           "rgb(79, 129, 102)",
           "rgb(175, 49, 35)",
           "rgb(175, 49, 35)",
           "black",
           "black",
           "black",
           "black",
           "black",
           "black",
           "black",
           "black",
           "black",
           "black",
           "black",
           "black",
           "black",
           "black",
           "black",
           "black",
           "black",
           "black",
           "black",
           "black",
           "black",
           "black",
           "rgb(175, 49, 35)",
           "black",
           "black",
           "rgb(175, 49, 35)",
           "rgb(175, 49, 35)",
           "rgb(175, 49, 35)",
           "rgb(175, 49, 35)",
           "rgb(175, 49, 35)",
           "rgb(175, 49, 35)",
           "rgb(175, 49, 35)",
           "rgb(175, 49, 35)",
           "black",
           "black",
           "black",
           "black",
           "black",
           "black",
           "black",
           "black",
           "black",
           "black",
           "black",
           "black",
           "black",
           "black",
           "rgb(79, 129, 102)",
           "rgb(79, 129, 102)",
           "rgb(79, 129, 102)",
           "rgb(151, 179, 100)",
           "rgb(151, 179, 100)",
           "rgb(151, 179, 100)",
           "rgb(151, 179, 100)",
           "rgb(151, 179, 100)",
           "rgb(151, 179, 100)",
           "rgb(151, 179, 100)",
           "rgb(151, 179, 100)",
           "rgb(151, 179, 100)",
           "rgb(151, 179, 100)",
           "rgb(151, 179, 100)",
           "rgb(151, 179, 100)",
           "rgb(151, 179, 100)",
           "rgb(151, 179, 100)",
           "rgb(33, 75, 99)",
           "rgb(33, 75, 99)",
           "rgb(33, 75, 99)",
           "rgb(33, 75, 99)",
           "rgb(33, 75, 99)",
           "rgb(33, 75, 99)",
           "rgb(33, 75, 99)",
           "rgb(151, 179, 100)",
           "rgb(33, 75, 99)",
           "rgb(151, 179, 100)",
           "rgb(151, 179, 100)",
           "rgb(151, 179, 100)",
           "rgb(151, 179, 100)",
           "rgb(151, 179, 100)",
           "rgb(151, 179, 100)",
           "rgb(151, 179, 100)",
           "rgb(151, 179, 100)",
           "rgb(151, 179, 100)",
           "rgb(151, 179, 100)",
           "rgb(151, 179, 100)",
           "rgb(151, 179, 100)",
           "rgb(151, 179, 100)",
           "rgb(151, 179, 100)",
           "rgb(151, 179, 100)",
           "rgb(151, 179, 100)",
           "rgb(151, 179, 100)",
           "rgb(151, 179, 100)",
           "rgb(151, 179, 100)",
           "rgb(151, 179, 100)",
           "rgb(151, 179, 100)",
           "rgb(151, 179, 100)",
           "rgb(151, 179, 100)",
           "rgb(151, 179, 100)",
           "rgb(33, 75, 99)",
           "rgb(33, 75, 99)",
           "rgb(33, 75, 99)",
           "rgb(33, 75, 99)",
           "rgb(33, 75, 99)",
           "rgb(33, 75, 99)",
           "rgb(79, 129, 102)",
           "rgb(79, 129, 102)",
           "rgb(79, 129, 102)",
           "rgb(79, 129, 102)",
           "rgb(79, 129, 102)",
           "rgb(79, 129, 102)",
           "rgb(79, 129, 102)",
           "rgb(79, 129, 102)",
           "rgb(79, 129, 102)",
           "rgb(79, 129, 102)",
           "rgb(79, 129, 102)",
           "rgb(79, 129, 102)",
           "rgb(79, 129, 102)",
           "rgb(79, 129, 102)",
           "rgb(79, 129, 102)",
           "rgb(79, 129, 102)",
           "rgb(79, 129, 102)",
           "rgb(79, 129, 102)",
           "rgb(33, 75, 99)",
           "rgb(33, 75, 99)",
           "rgb(33, 75, 99)",
           "rgb(33, 75, 99)",
           "rgb(33, 75, 99)",
           "rgb(33, 75, 99)",
           "rgb(33, 75, 99)",
           "rgb(33, 75, 99)",
           "rgb(33, 75, 99)",
           "rgb(33, 75, 99)",
           "rgb(33, 75, 99)",
           "rgb(33, 75, 99)",
           "rgb(33, 75, 99)",
           "rgb(33, 75, 99)",
           "black",
           "rgb(33, 75, 99)",
           "rgb(33, 75, 99)",
           "rgb(33, 75, 99)",
           "rgb(33, 75, 99)",
           "rgb(33, 75, 99)",
           "rgb(33, 75, 99)",
           "rgb(33, 75, 99)",
           "rgb(33, 75, 99)",
           "rgb(33, 75, 99)",
           "rgb(33, 75, 99)",
           "rgb(33, 75, 99)",
           "rgb(33, 75, 99)",
           "black"
          ]
         },
         "name": "",
         "parents": [
          "Fruit Colour Description",
          "Leaf composition",
          "Leaf glands",
          "Leaf lower side",
          "Leaf margin",
          "Leaf rachis",
          "Leaf shape",
          "Leaf upper side",
          "Life form",
          "Measurement",
          "Petals / corolla colour",
          "Petals / corolla number",
          "Petals / corolla shape",
          "Seed colour",
          "Sepals / calyx shape",
          "Stamen number",
          "Stamen shape",
          "bark",
          "crown",
          "flower color",
          "flower shape",
          "fruit",
          "Inflorescence type",
          "inflorescences",
          "Fruit type",
          "Fruit colour",
          "Stamen shape",
          "bark",
          "crown",
          "flower color",
          "flower shape",
          "fruit",
          "inflorescences",
          "leaf apex",
          "leaf base",
          "leaf blade",
          "leaf margin",
          "leaf shape",
          "petiole",
          "phyllotaxis",
          "plant type",
          "tendril",
          "trunk and root",
          "vein",
          "Fruit Colour Description",
          "Fruit Shape",
          "Fruit Size",
          "Fruit shape",
          "Stamen number",
          "leaf apex",
          "leaf blade",
          "",
          "",
          "",
          "",
          "",
          "",
          "",
          "",
          "",
          "",
          "",
          "",
          "",
          "",
          "",
          "",
          "",
          "",
          "",
          "",
          "",
          "",
          "leaf base",
          "",
          "",
          "leaf margin",
          "leaf shape",
          "petiole",
          "phyllotaxis",
          "plant type",
          "tendril",
          "trunk and root",
          "vein",
          "",
          "",
          "",
          "",
          "",
          "",
          "",
          "",
          "",
          "",
          "",
          "",
          "",
          "",
          "Sepals / calyx shape",
          "Seed colour",
          "Petals / corolla shape",
          "flower shape",
          "fruit",
          "inflorescences",
          "leaf apex",
          "leaf base",
          "leaf blade",
          "leaf margin",
          "leaf shape",
          "petiole",
          "phyllotaxis",
          "plant type",
          "tendril",
          "trunk and root",
          "vein",
          "Fruit Colour Description",
          "Fruit Shape",
          "Fruit Size",
          "Fruit colour",
          "Fruit shape",
          "Fruit type",
          "Inflorescence type",
          "flower color",
          "Leaf composition",
          "crown",
          "Stamen shape",
          "Fruit Shape",
          "Fruit Size",
          "Fruit colour",
          "Fruit shape",
          "Fruit type",
          "Inflorescence type",
          "Leaf composition",
          "Leaf glands",
          "Leaf lower side",
          "Leaf margin",
          "Leaf rachis",
          "Leaf shape",
          "Leaf upper side",
          "Life form",
          "Measurement",
          "Petals / corolla colour",
          "Petals / corolla number",
          "Petals / corolla shape",
          "Seed colour",
          "Sepals / calyx shape",
          "Stamen number",
          "bark",
          "Leaf glands",
          "Leaf lower side",
          "Leaf margin",
          "tendril",
          "trunk and root",
          "vein",
          "Fruit Colour Description",
          "Fruit Shape",
          "Fruit Size",
          "Fruit colour",
          "Fruit shape",
          "Fruit type",
          "Inflorescence type",
          "Leaf composition",
          "Leaf glands",
          "Leaf lower side",
          "Leaf margin",
          "Leaf rachis",
          "Leaf shape",
          "Leaf upper side",
          "Life form",
          "Measurement",
          "Petals / corolla colour",
          "Petals / corolla number",
          "plant type",
          "phyllotaxis",
          "petiole",
          "leaf shape",
          "Leaf rachis",
          "Leaf shape",
          "Leaf upper side",
          "Life form",
          "Measurement",
          "Petals / corolla colour",
          "Petals / corolla number",
          "Petals / corolla shape",
          "Seed colour",
          "Sepals / calyx shape",
          "",
          "Stamen number",
          "bark",
          "crown",
          "flower color",
          "flower shape",
          "fruit",
          "inflorescences",
          "leaf apex",
          "leaf base",
          "leaf blade",
          "leaf margin",
          "Stamen shape",
          ""
         ],
         "type": "sunburst",
         "values": [
          1,
          0,
          0,
          4,
          2,
          1,
          6,
          2,
          1,
          22,
          3,
          1,
          4,
          0,
          2,
          3,
          2,
          1,
          3,
          0,
          6,
          4,
          0,
          7,
          2,
          10,
          3,
          0,
          0,
          1,
          0,
          0,
          2,
          2,
          1,
          1,
          0,
          1,
          1,
          0,
          2,
          1,
          0,
          0,
          1,
          4,
          0,
          1,
          0,
          13,
          0,
          2,
          4,
          2,
          6,
          3,
          5,
          1,
          3,
          1,
          10,
          4,
          10,
          17,
          10,
          3,
          11,
          12,
          3,
          1,
          2,
          2,
          10,
          5,
          48,
          14,
          6,
          4,
          2,
          1,
          0,
          1,
          1,
          5,
          4,
          7,
          2,
          16,
          6,
          3,
          2,
          5,
          5,
          16,
          8,
          4,
          14,
          11,
          0,
          1,
          0,
          3,
          0,
          1,
          1,
          2,
          2,
          3,
          5,
          0,
          0,
          0,
          0,
          1,
          2,
          0,
          0,
          0,
          1,
          1,
          0,
          0,
          0,
          4,
          0,
          0,
          2,
          2,
          3,
          4,
          0,
          1,
          0,
          5,
          10,
          6,
          3,
          4,
          11,
          0,
          19,
          4,
          1,
          0,
          1,
          4,
          0,
          0,
          0,
          0,
          0,
          0,
          0,
          0,
          2,
          1,
          0,
          2,
          0,
          1,
          1,
          1,
          0,
          2,
          0,
          0,
          4,
          1,
          10,
          5,
          2,
          0,
          0,
          0,
          0,
          2,
          0,
          0,
          0,
          0,
          2,
          1,
          0,
          0,
          0,
          0,
          2,
          0,
          0,
          0,
          0,
          1,
          0,
          0,
          1,
          2,
          0,
          2,
          0,
          7
         ]
        }
       ],
       "layout": {
        "legend": {
         "tracegroupgap": 0
        },
        "margin": {
         "b": 0,
         "l": 0,
         "r": 0,
         "t": 0
        },
        "template": {
         "data": {
          "bar": [
           {
            "error_x": {
             "color": "#2a3f5f"
            },
            "error_y": {
             "color": "#2a3f5f"
            },
            "marker": {
             "line": {
              "color": "#E5ECF6",
              "width": 0.5
             },
             "pattern": {
              "fillmode": "overlay",
              "size": 10,
              "solidity": 0.2
             }
            },
            "type": "bar"
           }
          ],
          "barpolar": [
           {
            "marker": {
             "line": {
              "color": "#E5ECF6",
              "width": 0.5
             },
             "pattern": {
              "fillmode": "overlay",
              "size": 10,
              "solidity": 0.2
             }
            },
            "type": "barpolar"
           }
          ],
          "carpet": [
           {
            "aaxis": {
             "endlinecolor": "#2a3f5f",
             "gridcolor": "white",
             "linecolor": "white",
             "minorgridcolor": "white",
             "startlinecolor": "#2a3f5f"
            },
            "baxis": {
             "endlinecolor": "#2a3f5f",
             "gridcolor": "white",
             "linecolor": "white",
             "minorgridcolor": "white",
             "startlinecolor": "#2a3f5f"
            },
            "type": "carpet"
           }
          ],
          "choropleth": [
           {
            "colorbar": {
             "outlinewidth": 0,
             "ticks": ""
            },
            "type": "choropleth"
           }
          ],
          "contour": [
           {
            "colorbar": {
             "outlinewidth": 0,
             "ticks": ""
            },
            "colorscale": [
             [
              0,
              "#0d0887"
             ],
             [
              0.1111111111111111,
              "#46039f"
             ],
             [
              0.2222222222222222,
              "#7201a8"
             ],
             [
              0.3333333333333333,
              "#9c179e"
             ],
             [
              0.4444444444444444,
              "#bd3786"
             ],
             [
              0.5555555555555556,
              "#d8576b"
             ],
             [
              0.6666666666666666,
              "#ed7953"
             ],
             [
              0.7777777777777778,
              "#fb9f3a"
             ],
             [
              0.8888888888888888,
              "#fdca26"
             ],
             [
              1,
              "#f0f921"
             ]
            ],
            "type": "contour"
           }
          ],
          "contourcarpet": [
           {
            "colorbar": {
             "outlinewidth": 0,
             "ticks": ""
            },
            "type": "contourcarpet"
           }
          ],
          "heatmap": [
           {
            "colorbar": {
             "outlinewidth": 0,
             "ticks": ""
            },
            "colorscale": [
             [
              0,
              "#0d0887"
             ],
             [
              0.1111111111111111,
              "#46039f"
             ],
             [
              0.2222222222222222,
              "#7201a8"
             ],
             [
              0.3333333333333333,
              "#9c179e"
             ],
             [
              0.4444444444444444,
              "#bd3786"
             ],
             [
              0.5555555555555556,
              "#d8576b"
             ],
             [
              0.6666666666666666,
              "#ed7953"
             ],
             [
              0.7777777777777778,
              "#fb9f3a"
             ],
             [
              0.8888888888888888,
              "#fdca26"
             ],
             [
              1,
              "#f0f921"
             ]
            ],
            "type": "heatmap"
           }
          ],
          "heatmapgl": [
           {
            "colorbar": {
             "outlinewidth": 0,
             "ticks": ""
            },
            "colorscale": [
             [
              0,
              "#0d0887"
             ],
             [
              0.1111111111111111,
              "#46039f"
             ],
             [
              0.2222222222222222,
              "#7201a8"
             ],
             [
              0.3333333333333333,
              "#9c179e"
             ],
             [
              0.4444444444444444,
              "#bd3786"
             ],
             [
              0.5555555555555556,
              "#d8576b"
             ],
             [
              0.6666666666666666,
              "#ed7953"
             ],
             [
              0.7777777777777778,
              "#fb9f3a"
             ],
             [
              0.8888888888888888,
              "#fdca26"
             ],
             [
              1,
              "#f0f921"
             ]
            ],
            "type": "heatmapgl"
           }
          ],
          "histogram": [
           {
            "marker": {
             "pattern": {
              "fillmode": "overlay",
              "size": 10,
              "solidity": 0.2
             }
            },
            "type": "histogram"
           }
          ],
          "histogram2d": [
           {
            "colorbar": {
             "outlinewidth": 0,
             "ticks": ""
            },
            "colorscale": [
             [
              0,
              "#0d0887"
             ],
             [
              0.1111111111111111,
              "#46039f"
             ],
             [
              0.2222222222222222,
              "#7201a8"
             ],
             [
              0.3333333333333333,
              "#9c179e"
             ],
             [
              0.4444444444444444,
              "#bd3786"
             ],
             [
              0.5555555555555556,
              "#d8576b"
             ],
             [
              0.6666666666666666,
              "#ed7953"
             ],
             [
              0.7777777777777778,
              "#fb9f3a"
             ],
             [
              0.8888888888888888,
              "#fdca26"
             ],
             [
              1,
              "#f0f921"
             ]
            ],
            "type": "histogram2d"
           }
          ],
          "histogram2dcontour": [
           {
            "colorbar": {
             "outlinewidth": 0,
             "ticks": ""
            },
            "colorscale": [
             [
              0,
              "#0d0887"
             ],
             [
              0.1111111111111111,
              "#46039f"
             ],
             [
              0.2222222222222222,
              "#7201a8"
             ],
             [
              0.3333333333333333,
              "#9c179e"
             ],
             [
              0.4444444444444444,
              "#bd3786"
             ],
             [
              0.5555555555555556,
              "#d8576b"
             ],
             [
              0.6666666666666666,
              "#ed7953"
             ],
             [
              0.7777777777777778,
              "#fb9f3a"
             ],
             [
              0.8888888888888888,
              "#fdca26"
             ],
             [
              1,
              "#f0f921"
             ]
            ],
            "type": "histogram2dcontour"
           }
          ],
          "mesh3d": [
           {
            "colorbar": {
             "outlinewidth": 0,
             "ticks": ""
            },
            "type": "mesh3d"
           }
          ],
          "parcoords": [
           {
            "line": {
             "colorbar": {
              "outlinewidth": 0,
              "ticks": ""
             }
            },
            "type": "parcoords"
           }
          ],
          "pie": [
           {
            "automargin": true,
            "type": "pie"
           }
          ],
          "scatter": [
           {
            "fillpattern": {
             "fillmode": "overlay",
             "size": 10,
             "solidity": 0.2
            },
            "type": "scatter"
           }
          ],
          "scatter3d": [
           {
            "line": {
             "colorbar": {
              "outlinewidth": 0,
              "ticks": ""
             }
            },
            "marker": {
             "colorbar": {
              "outlinewidth": 0,
              "ticks": ""
             }
            },
            "type": "scatter3d"
           }
          ],
          "scattercarpet": [
           {
            "marker": {
             "colorbar": {
              "outlinewidth": 0,
              "ticks": ""
             }
            },
            "type": "scattercarpet"
           }
          ],
          "scattergeo": [
           {
            "marker": {
             "colorbar": {
              "outlinewidth": 0,
              "ticks": ""
             }
            },
            "type": "scattergeo"
           }
          ],
          "scattergl": [
           {
            "marker": {
             "colorbar": {
              "outlinewidth": 0,
              "ticks": ""
             }
            },
            "type": "scattergl"
           }
          ],
          "scattermapbox": [
           {
            "marker": {
             "colorbar": {
              "outlinewidth": 0,
              "ticks": ""
             }
            },
            "type": "scattermapbox"
           }
          ],
          "scatterpolar": [
           {
            "marker": {
             "colorbar": {
              "outlinewidth": 0,
              "ticks": ""
             }
            },
            "type": "scatterpolar"
           }
          ],
          "scatterpolargl": [
           {
            "marker": {
             "colorbar": {
              "outlinewidth": 0,
              "ticks": ""
             }
            },
            "type": "scatterpolargl"
           }
          ],
          "scatterternary": [
           {
            "marker": {
             "colorbar": {
              "outlinewidth": 0,
              "ticks": ""
             }
            },
            "type": "scatterternary"
           }
          ],
          "surface": [
           {
            "colorbar": {
             "outlinewidth": 0,
             "ticks": ""
            },
            "colorscale": [
             [
              0,
              "#0d0887"
             ],
             [
              0.1111111111111111,
              "#46039f"
             ],
             [
              0.2222222222222222,
              "#7201a8"
             ],
             [
              0.3333333333333333,
              "#9c179e"
             ],
             [
              0.4444444444444444,
              "#bd3786"
             ],
             [
              0.5555555555555556,
              "#d8576b"
             ],
             [
              0.6666666666666666,
              "#ed7953"
             ],
             [
              0.7777777777777778,
              "#fb9f3a"
             ],
             [
              0.8888888888888888,
              "#fdca26"
             ],
             [
              1,
              "#f0f921"
             ]
            ],
            "type": "surface"
           }
          ],
          "table": [
           {
            "cells": {
             "fill": {
              "color": "#EBF0F8"
             },
             "line": {
              "color": "white"
             }
            },
            "header": {
             "fill": {
              "color": "#C8D4E3"
             },
             "line": {
              "color": "white"
             }
            },
            "type": "table"
           }
          ]
         },
         "layout": {
          "annotationdefaults": {
           "arrowcolor": "#2a3f5f",
           "arrowhead": 0,
           "arrowwidth": 1
          },
          "autotypenumbers": "strict",
          "coloraxis": {
           "colorbar": {
            "outlinewidth": 0,
            "ticks": ""
           }
          },
          "colorscale": {
           "diverging": [
            [
             0,
             "#8e0152"
            ],
            [
             0.1,
             "#c51b7d"
            ],
            [
             0.2,
             "#de77ae"
            ],
            [
             0.3,
             "#f1b6da"
            ],
            [
             0.4,
             "#fde0ef"
            ],
            [
             0.5,
             "#f7f7f7"
            ],
            [
             0.6,
             "#e6f5d0"
            ],
            [
             0.7,
             "#b8e186"
            ],
            [
             0.8,
             "#7fbc41"
            ],
            [
             0.9,
             "#4d9221"
            ],
            [
             1,
             "#276419"
            ]
           ],
           "sequential": [
            [
             0,
             "#0d0887"
            ],
            [
             0.1111111111111111,
             "#46039f"
            ],
            [
             0.2222222222222222,
             "#7201a8"
            ],
            [
             0.3333333333333333,
             "#9c179e"
            ],
            [
             0.4444444444444444,
             "#bd3786"
            ],
            [
             0.5555555555555556,
             "#d8576b"
            ],
            [
             0.6666666666666666,
             "#ed7953"
            ],
            [
             0.7777777777777778,
             "#fb9f3a"
            ],
            [
             0.8888888888888888,
             "#fdca26"
            ],
            [
             1,
             "#f0f921"
            ]
           ],
           "sequentialminus": [
            [
             0,
             "#0d0887"
            ],
            [
             0.1111111111111111,
             "#46039f"
            ],
            [
             0.2222222222222222,
             "#7201a8"
            ],
            [
             0.3333333333333333,
             "#9c179e"
            ],
            [
             0.4444444444444444,
             "#bd3786"
            ],
            [
             0.5555555555555556,
             "#d8576b"
            ],
            [
             0.6666666666666666,
             "#ed7953"
            ],
            [
             0.7777777777777778,
             "#fb9f3a"
            ],
            [
             0.8888888888888888,
             "#fdca26"
            ],
            [
             1,
             "#f0f921"
            ]
           ]
          },
          "colorway": [
           "#636efa",
           "#EF553B",
           "#00cc96",
           "#ab63fa",
           "#FFA15A",
           "#19d3f3",
           "#FF6692",
           "#B6E880",
           "#FF97FF",
           "#FECB52"
          ],
          "font": {
           "color": "#2a3f5f"
          },
          "geo": {
           "bgcolor": "white",
           "lakecolor": "white",
           "landcolor": "#E5ECF6",
           "showlakes": true,
           "showland": true,
           "subunitcolor": "white"
          },
          "hoverlabel": {
           "align": "left"
          },
          "hovermode": "closest",
          "mapbox": {
           "style": "light"
          },
          "paper_bgcolor": "white",
          "plot_bgcolor": "#E5ECF6",
          "polar": {
           "angularaxis": {
            "gridcolor": "white",
            "linecolor": "white",
            "ticks": ""
           },
           "bgcolor": "#E5ECF6",
           "radialaxis": {
            "gridcolor": "white",
            "linecolor": "white",
            "ticks": ""
           }
          },
          "scene": {
           "xaxis": {
            "backgroundcolor": "#E5ECF6",
            "gridcolor": "white",
            "gridwidth": 2,
            "linecolor": "white",
            "showbackground": true,
            "ticks": "",
            "zerolinecolor": "white"
           },
           "yaxis": {
            "backgroundcolor": "#E5ECF6",
            "gridcolor": "white",
            "gridwidth": 2,
            "linecolor": "white",
            "showbackground": true,
            "ticks": "",
            "zerolinecolor": "white"
           },
           "zaxis": {
            "backgroundcolor": "#E5ECF6",
            "gridcolor": "white",
            "gridwidth": 2,
            "linecolor": "white",
            "showbackground": true,
            "ticks": "",
            "zerolinecolor": "white"
           }
          },
          "shapedefaults": {
           "line": {
            "color": "#2a3f5f"
           }
          },
          "ternary": {
           "aaxis": {
            "gridcolor": "white",
            "linecolor": "white",
            "ticks": ""
           },
           "baxis": {
            "gridcolor": "white",
            "linecolor": "white",
            "ticks": ""
           },
           "bgcolor": "#E5ECF6",
           "caxis": {
            "gridcolor": "white",
            "linecolor": "white",
            "ticks": ""
           }
          },
          "title": {
           "x": 0.05
          },
          "xaxis": {
           "automargin": true,
           "gridcolor": "white",
           "linecolor": "white",
           "ticks": "",
           "title": {
            "standoff": 15
           },
           "zerolinecolor": "white",
           "zerolinewidth": 2
          },
          "yaxis": {
           "automargin": true,
           "gridcolor": "white",
           "linecolor": "white",
           "ticks": "",
           "title": {
            "standoff": 15
           },
           "zerolinecolor": "white",
           "zerolinewidth": 2
          }
         }
        },
        "uniformtext": {
         "minsize": 8,
         "mode": "hide"
        }
       }
      }
     },
     "metadata": {},
     "output_type": "display_data"
    }
   ],
   "source": [
    "labels = ['None of the above', 'Can infer correct Entity', 'Can infer correct Quality', 'Can infer correct Value']\n",
    "\n",
    "colors = [\n",
    "    'rgb(175, 49, 35)', \n",
    "    'rgb(151, 179, 100)',\n",
    "    'rgb(33, 75, 99)',\n",
    "    'rgb(79, 129, 102)',\n",
    "      ]\n",
    "\n",
    "color_dict = {label: color for color, label in zip(colors, labels)}\n",
    "color_dict['(?)'] = 'black'\n",
    "\n",
    "fig = px.sunburst(df_melt, \n",
    "                  path=['Main Trait', 'variable'], \n",
    "                  values='value', \n",
    "                  color='variable',\n",
    "                  color_discrete_map=color_dict)\n",
    "\n",
    "fig.update_layout(\n",
    "    margin = dict(t=0, l=0, r=0, b=0),\n",
    "    uniformtext=dict(minsize=8, mode='hide')\n",
    ")\n",
    "\n",
    "fig.show()\n",
    "\n",
    "folder_figures = \"../../../reports/figures/\"\n",
    "file_name = \"PxPlot_HTML_SurveysPerTrait_Grouped.html\"\n",
    "fig.write_html(F\"{folder_figures}{file_name}\")\n",
    "file_name = \"PxPlot_PDF_SurveysPerTrait_Grouped.pdf\"\n",
    "fig.write_image(F\"{folder_figures}{file_name}\")"
   ]
  },
  {
   "attachments": {},
   "cell_type": "markdown",
   "id": "cdd160f8",
   "metadata": {},
   "source": [
    "#### Dataset/Group"
   ]
  },
  {
   "cell_type": "code",
   "execution_count": 133,
   "id": "b4fe199a",
   "metadata": {},
   "outputs": [
    {
     "data": {
      "application/vnd.plotly.v1+json": {
       "config": {
        "plotlyServerURL": "https://plot.ly"
       },
       "data": [
        {
         "branchvalues": "total",
         "customdata": [
          [
           "Can infer correct Entity"
          ],
          [
           "None of the above"
          ],
          [
           "None of the above"
          ],
          [
           "None of the above"
          ],
          [
           "None of the above"
          ],
          [
           "None of the above"
          ],
          [
           "None of the above"
          ],
          [
           "None of the above"
          ],
          [
           "None of the above"
          ],
          [
           "None of the above"
          ],
          [
           "None of the above"
          ],
          [
           "None of the above"
          ],
          [
           "None of the above"
          ],
          [
           "None of the above"
          ],
          [
           "None of the above"
          ],
          [
           "None of the above"
          ],
          [
           "None of the above"
          ],
          [
           "None of the above"
          ],
          [
           "None of the above"
          ],
          [
           "None of the above"
          ],
          [
           "None of the above"
          ],
          [
           "None of the above"
          ],
          [
           "None of the above"
          ],
          [
           "None of the above"
          ],
          [
           "None of the above"
          ],
          [
           "None of the above"
          ],
          [
           "Can infer correct Value"
          ],
          [
           "Can infer correct Value"
          ],
          [
           "Can infer correct Value"
          ],
          [
           "Can infer correct Value"
          ],
          [
           "Can infer correct Value"
          ],
          [
           "Can infer correct Value"
          ],
          [
           "Can infer correct Value"
          ],
          [
           "Can infer correct Value"
          ],
          [
           "Can infer correct Value"
          ],
          [
           "Can infer correct Value"
          ],
          [
           "None of the above"
          ],
          [
           "Can infer correct Value"
          ],
          [
           "Can infer correct Value"
          ],
          [
           "Can infer correct Value"
          ],
          [
           "Can infer correct Value"
          ],
          [
           "Can infer correct Value"
          ],
          [
           "Can infer correct Value"
          ],
          [
           "None of the above"
          ],
          [
           "None of the above"
          ],
          [
           "None of the above"
          ],
          [
           "None of the above"
          ],
          [
           "None of the above"
          ],
          [
           "Can infer correct Value"
          ],
          [
           "Can infer correct Value"
          ],
          [
           "None of the above"
          ],
          [
           "None of the above"
          ],
          [
           "(?)"
          ],
          [
           "(?)"
          ],
          [
           "(?)"
          ],
          [
           "(?)"
          ],
          [
           "(?)"
          ],
          [
           "(?)"
          ],
          [
           "(?)"
          ],
          [
           "(?)"
          ],
          [
           "(?)"
          ],
          [
           "(?)"
          ],
          [
           "(?)"
          ],
          [
           "(?)"
          ],
          [
           "(?)"
          ],
          [
           "(?)"
          ],
          [
           "(?)"
          ],
          [
           "(?)"
          ],
          [
           "(?)"
          ],
          [
           "(?)"
          ],
          [
           "(?)"
          ],
          [
           "(?)"
          ],
          [
           "(?)"
          ],
          [
           "(?)"
          ],
          [
           "(?)"
          ],
          [
           "(?)"
          ],
          [
           "(?)"
          ],
          [
           "None of the above"
          ],
          [
           "None of the above"
          ],
          [
           "None of the above"
          ],
          [
           "None of the above"
          ],
          [
           "None of the above"
          ],
          [
           "None of the above"
          ],
          [
           "(?)"
          ],
          [
           "(?)"
          ],
          [
           "(?)"
          ],
          [
           "(?)"
          ],
          [
           "None of the above"
          ],
          [
           "(?)"
          ],
          [
           "(?)"
          ],
          [
           "(?)"
          ],
          [
           "(?)"
          ],
          [
           "(?)"
          ],
          [
           "(?)"
          ],
          [
           "(?)"
          ],
          [
           "(?)"
          ],
          [
           "(?)"
          ],
          [
           "(?)"
          ],
          [
           "(?)"
          ],
          [
           "(?)"
          ],
          [
           "(?)"
          ],
          [
           "Can infer correct Value"
          ],
          [
           "Can infer correct Value"
          ],
          [
           "Can infer correct Entity"
          ],
          [
           "Can infer correct Entity"
          ],
          [
           "Can infer correct Entity"
          ],
          [
           "Can infer correct Entity"
          ],
          [
           "Can infer correct Entity"
          ],
          [
           "Can infer correct Entity"
          ],
          [
           "Can infer correct Entity"
          ],
          [
           "Can infer correct Entity"
          ],
          [
           "Can infer correct Entity"
          ],
          [
           "Can infer correct Entity"
          ],
          [
           "Can infer correct Entity"
          ],
          [
           "Can infer correct Entity"
          ],
          [
           "Can infer correct Entity"
          ],
          [
           "Can infer correct Quality"
          ],
          [
           "Can infer correct Quality"
          ],
          [
           "Can infer correct Quality"
          ],
          [
           "Can infer correct Quality"
          ],
          [
           "Can infer correct Quality"
          ],
          [
           "Can infer correct Quality"
          ],
          [
           "Can infer correct Quality"
          ],
          [
           "Can infer correct Quality"
          ],
          [
           "Can infer correct Entity"
          ],
          [
           "Can infer correct Entity"
          ],
          [
           "Can infer correct Entity"
          ],
          [
           "Can infer correct Entity"
          ],
          [
           "Can infer correct Entity"
          ],
          [
           "Can infer correct Entity"
          ],
          [
           "Can infer correct Entity"
          ],
          [
           "Can infer correct Entity"
          ],
          [
           "Can infer correct Entity"
          ],
          [
           "Can infer correct Entity"
          ],
          [
           "Can infer correct Entity"
          ],
          [
           "Can infer correct Entity"
          ],
          [
           "Can infer correct Entity"
          ],
          [
           "Can infer correct Entity"
          ],
          [
           "Can infer correct Quality"
          ],
          [
           "Can infer correct Entity"
          ],
          [
           "Can infer correct Entity"
          ],
          [
           "Can infer correct Entity"
          ],
          [
           "Can infer correct Entity"
          ],
          [
           "Can infer correct Entity"
          ],
          [
           "Can infer correct Entity"
          ],
          [
           "Can infer correct Entity"
          ],
          [
           "Can infer correct Entity"
          ],
          [
           "Can infer correct Entity"
          ],
          [
           "Can infer correct Entity"
          ],
          [
           "Can infer correct Entity"
          ],
          [
           "Can infer correct Entity"
          ],
          [
           "Can infer correct Value"
          ],
          [
           "Can infer correct Quality"
          ],
          [
           "Can infer correct Quality"
          ],
          [
           "Can infer correct Quality"
          ],
          [
           "Can infer correct Quality"
          ],
          [
           "Can infer correct Value"
          ],
          [
           "Can infer correct Value"
          ],
          [
           "Can infer correct Value"
          ],
          [
           "Can infer correct Value"
          ],
          [
           "Can infer correct Value"
          ],
          [
           "Can infer correct Value"
          ],
          [
           "Can infer correct Value"
          ],
          [
           "Can infer correct Value"
          ],
          [
           "Can infer correct Value"
          ],
          [
           "Can infer correct Value"
          ],
          [
           "Can infer correct Value"
          ],
          [
           "Can infer correct Value"
          ],
          [
           "Can infer correct Value"
          ],
          [
           "Can infer correct Value"
          ],
          [
           "Can infer correct Value"
          ],
          [
           "Can infer correct Value"
          ],
          [
           "Can infer correct Value"
          ],
          [
           "Can infer correct Value"
          ],
          [
           "Can infer correct Value"
          ],
          [
           "Can infer correct Quality"
          ],
          [
           "Can infer correct Quality"
          ],
          [
           "Can infer correct Quality"
          ],
          [
           "Can infer correct Quality"
          ],
          [
           "Can infer correct Quality"
          ],
          [
           "Can infer correct Quality"
          ],
          [
           "Can infer correct Quality"
          ],
          [
           "Can infer correct Quality"
          ],
          [
           "Can infer correct Quality"
          ],
          [
           "Can infer correct Quality"
          ],
          [
           "Can infer correct Quality"
          ],
          [
           "Can infer correct Quality"
          ],
          [
           "Can infer correct Quality"
          ],
          [
           "Can infer correct Quality"
          ],
          [
           "Can infer correct Quality"
          ],
          [
           "Can infer correct Quality"
          ],
          [
           "Can infer correct Quality"
          ],
          [
           "Can infer correct Quality"
          ],
          [
           "Can infer correct Quality"
          ],
          [
           "Can infer correct Quality"
          ],
          [
           "Can infer correct Quality"
          ],
          [
           "Can infer correct Quality"
          ],
          [
           "Can infer correct Quality"
          ],
          [
           "Can infer correct Quality"
          ],
          [
           "Can infer correct Quality"
          ],
          [
           "Can infer correct Quality"
          ],
          [
           "Can infer correct Quality"
          ],
          [
           "(?)"
          ]
         ],
         "domain": {
          "x": [
           0,
           1
          ],
          "y": [
           0,
           1
          ]
         },
         "hovertemplate": "labels=%{label}<br>value=%{value}<br>parent=%{parent}<br>id=%{id}<br>variable=%{customdata[0]}<extra></extra>",
         "ids": [
          "Palm/Fruit Colour Description/Can infer correct Entity",
          "Caribbean/Leaf lower side/None of the above",
          "Caribbean/Leaf margin/None of the above",
          "Caribbean/Leaf rachis/None of the above",
          "Caribbean/Leaf shape/None of the above",
          "Caribbean/Leaf upper side/None of the above",
          "Caribbean/Life form/None of the above",
          "Palm/Measurement/None of the above",
          "Caribbean/Petals / corolla colour/None of the above",
          "Caribbean/Petals / corolla number/None of the above",
          "Caribbean/Petals / corolla shape/None of the above",
          "Caribbean/Seed colour/None of the above",
          "Caribbean/Sepals / calyx shape/None of the above",
          "Caribbean/Stamen number/None of the above",
          "Caribbean/Stamen shape/None of the above",
          "PlantNet/bark/None of the above",
          "PlantNet/crown/None of the above",
          "PlantNet/flower color/None of the above",
          "PlantNet/flower shape/None of the above",
          "PlantNet/fruit/None of the above",
          "PlantNet/inflorescences/None of the above",
          "PlantNet/leaf apex/None of the above",
          "Caribbean/Leaf glands/None of the above",
          "Caribbean/Leaf composition/None of the above",
          "Caribbean/Inflorescence type/None of the above",
          "Caribbean/Fruit type/None of the above",
          "PlantNet/bark/Can infer correct Value",
          "PlantNet/crown/Can infer correct Value",
          "PlantNet/flower color/Can infer correct Value",
          "PlantNet/flower shape/Can infer correct Value",
          "PlantNet/fruit/Can infer correct Value",
          "PlantNet/inflorescences/Can infer correct Value",
          "PlantNet/leaf apex/Can infer correct Value",
          "PlantNet/leaf base/Can infer correct Value",
          "PlantNet/leaf blade/Can infer correct Value",
          "PlantNet/leaf margin/Can infer correct Value",
          "PlantNet/leaf base/None of the above",
          "PlantNet/leaf shape/Can infer correct Value",
          "PlantNet/phyllotaxis/Can infer correct Value",
          "PlantNet/plant type/Can infer correct Value",
          "PlantNet/tendril/Can infer correct Value",
          "PlantNet/trunk and root/Can infer correct Value",
          "PlantNet/vein/Can infer correct Value",
          "Palm/Fruit Colour Description/None of the above",
          "Palm/Fruit Shape/None of the above",
          "Palm/Fruit Size/None of the above",
          "Caribbean/Fruit colour/None of the above",
          "Caribbean/Fruit shape/None of the above",
          "PlantNet/petiole/Can infer correct Value",
          "Caribbean/Stamen shape/Can infer correct Value",
          "PlantNet/leaf blade/None of the above",
          "PlantNet/leaf shape/None of the above",
          "Caribbean/Sepals / calyx shape",
          "Caribbean/Stamen number",
          "Caribbean/Stamen shape",
          "PlantNet/bark",
          "PlantNet/crown",
          "PlantNet/flower color",
          "PlantNet/flower shape",
          "PlantNet/fruit",
          "PlantNet/inflorescences",
          "PlantNet/leaf apex",
          "PlantNet/leaf base",
          "PlantNet/leaf blade",
          "PlantNet/leaf margin",
          "PlantNet/leaf shape",
          "PlantNet/petiole",
          "PlantNet/phyllotaxis",
          "PlantNet/plant type",
          "PlantNet/tendril",
          "PlantNet/trunk and root",
          "PlantNet/vein",
          "Caribbean",
          "Caribbean/Seed colour",
          "Caribbean/Petals / corolla shape",
          "Caribbean/Petals / corolla number",
          "Caribbean/Petals / corolla colour",
          "PlantNet/petiole/None of the above",
          "PlantNet/phyllotaxis/None of the above",
          "PlantNet/plant type/None of the above",
          "PlantNet/tendril/None of the above",
          "PlantNet/trunk and root/None of the above",
          "PlantNet/vein/None of the above",
          "Palm/Fruit Colour Description",
          "Palm/Fruit Shape",
          "Palm/Fruit Size",
          "Caribbean/Fruit colour",
          "PlantNet/leaf margin/None of the above",
          "Caribbean/Fruit shape",
          "Caribbean/Inflorescence type",
          "Caribbean/Leaf composition",
          "Caribbean/Leaf glands",
          "Caribbean/Leaf lower side",
          "Caribbean/Leaf margin",
          "Caribbean/Leaf rachis",
          "Caribbean/Leaf shape",
          "Caribbean/Leaf upper side",
          "Caribbean/Life form",
          "Palm/Measurement",
          "Caribbean/Fruit type",
          "Palm",
          "Caribbean/Stamen number/Can infer correct Value",
          "Caribbean/Seed colour/Can infer correct Value",
          "PlantNet/fruit/Can infer correct Entity",
          "PlantNet/inflorescences/Can infer correct Entity",
          "PlantNet/leaf apex/Can infer correct Entity",
          "PlantNet/leaf base/Can infer correct Entity",
          "PlantNet/leaf blade/Can infer correct Entity",
          "PlantNet/leaf margin/Can infer correct Entity",
          "PlantNet/leaf shape/Can infer correct Entity",
          "PlantNet/petiole/Can infer correct Entity",
          "PlantNet/phyllotaxis/Can infer correct Entity",
          "PlantNet/plant type/Can infer correct Entity",
          "PlantNet/tendril/Can infer correct Entity",
          "PlantNet/trunk and root/Can infer correct Entity",
          "PlantNet/vein/Can infer correct Entity",
          "Palm/Fruit Colour Description/Can infer correct Quality",
          "Palm/Fruit Shape/Can infer correct Quality",
          "Palm/Fruit Size/Can infer correct Quality",
          "Caribbean/Fruit colour/Can infer correct Quality",
          "Caribbean/Fruit shape/Can infer correct Quality",
          "Caribbean/Fruit type/Can infer correct Quality",
          "Caribbean/Inflorescence type/Can infer correct Quality",
          "Caribbean/Leaf composition/Can infer correct Quality",
          "PlantNet/flower shape/Can infer correct Entity",
          "PlantNet/flower color/Can infer correct Entity",
          "PlantNet/crown/Can infer correct Entity",
          "PlantNet/bark/Can infer correct Entity",
          "Palm/Fruit Shape/Can infer correct Entity",
          "Palm/Fruit Size/Can infer correct Entity",
          "Caribbean/Fruit colour/Can infer correct Entity",
          "Caribbean/Fruit shape/Can infer correct Entity",
          "Caribbean/Fruit type/Can infer correct Entity",
          "Caribbean/Inflorescence type/Can infer correct Entity",
          "Caribbean/Leaf composition/Can infer correct Entity",
          "Caribbean/Leaf glands/Can infer correct Entity",
          "Caribbean/Leaf lower side/Can infer correct Entity",
          "Caribbean/Leaf margin/Can infer correct Entity",
          "Caribbean/Leaf glands/Can infer correct Quality",
          "Caribbean/Leaf rachis/Can infer correct Entity",
          "Caribbean/Leaf upper side/Can infer correct Entity",
          "Caribbean/Life form/Can infer correct Entity",
          "Palm/Measurement/Can infer correct Entity",
          "Caribbean/Petals / corolla colour/Can infer correct Entity",
          "Caribbean/Petals / corolla number/Can infer correct Entity",
          "Caribbean/Petals / corolla shape/Can infer correct Entity",
          "Caribbean/Seed colour/Can infer correct Entity",
          "Caribbean/Sepals / calyx shape/Can infer correct Entity",
          "Caribbean/Stamen number/Can infer correct Entity",
          "Caribbean/Stamen shape/Can infer correct Entity",
          "Caribbean/Leaf shape/Can infer correct Entity",
          "Caribbean/Sepals / calyx shape/Can infer correct Value",
          "Caribbean/Leaf lower side/Can infer correct Quality",
          "Caribbean/Leaf rachis/Can infer correct Quality",
          "PlantNet/trunk and root/Can infer correct Quality",
          "PlantNet/vein/Can infer correct Quality",
          "Palm/Fruit Colour Description/Can infer correct Value",
          "Palm/Fruit Shape/Can infer correct Value",
          "Palm/Fruit Size/Can infer correct Value",
          "Caribbean/Fruit colour/Can infer correct Value",
          "Caribbean/Fruit shape/Can infer correct Value",
          "Caribbean/Fruit type/Can infer correct Value",
          "Caribbean/Inflorescence type/Can infer correct Value",
          "Caribbean/Leaf composition/Can infer correct Value",
          "Caribbean/Leaf glands/Can infer correct Value",
          "Caribbean/Leaf lower side/Can infer correct Value",
          "Caribbean/Leaf margin/Can infer correct Value",
          "Caribbean/Leaf rachis/Can infer correct Value",
          "Caribbean/Leaf shape/Can infer correct Value",
          "Caribbean/Leaf upper side/Can infer correct Value",
          "Caribbean/Life form/Can infer correct Value",
          "Palm/Measurement/Can infer correct Value",
          "Caribbean/Petals / corolla colour/Can infer correct Value",
          "Caribbean/Petals / corolla number/Can infer correct Value",
          "Caribbean/Petals / corolla shape/Can infer correct Value",
          "PlantNet/tendril/Can infer correct Quality",
          "PlantNet/plant type/Can infer correct Quality",
          "PlantNet/phyllotaxis/Can infer correct Quality",
          "PlantNet/petiole/Can infer correct Quality",
          "Caribbean/Leaf shape/Can infer correct Quality",
          "Caribbean/Leaf upper side/Can infer correct Quality",
          "Caribbean/Life form/Can infer correct Quality",
          "Palm/Measurement/Can infer correct Quality",
          "Caribbean/Petals / corolla colour/Can infer correct Quality",
          "Caribbean/Petals / corolla number/Can infer correct Quality",
          "Caribbean/Petals / corolla shape/Can infer correct Quality",
          "Caribbean/Seed colour/Can infer correct Quality",
          "Caribbean/Sepals / calyx shape/Can infer correct Quality",
          "Caribbean/Stamen number/Can infer correct Quality",
          "Caribbean/Leaf margin/Can infer correct Quality",
          "Caribbean/Stamen shape/Can infer correct Quality",
          "PlantNet/crown/Can infer correct Quality",
          "PlantNet/flower color/Can infer correct Quality",
          "PlantNet/flower shape/Can infer correct Quality",
          "PlantNet/fruit/Can infer correct Quality",
          "PlantNet/inflorescences/Can infer correct Quality",
          "PlantNet/leaf apex/Can infer correct Quality",
          "PlantNet/leaf base/Can infer correct Quality",
          "PlantNet/leaf blade/Can infer correct Quality",
          "PlantNet/leaf margin/Can infer correct Quality",
          "PlantNet/leaf shape/Can infer correct Quality",
          "PlantNet/bark/Can infer correct Quality",
          "PlantNet"
         ],
         "labels": [
          "Can infer correct Entity",
          "None of the above",
          "None of the above",
          "None of the above",
          "None of the above",
          "None of the above",
          "None of the above",
          "None of the above",
          "None of the above",
          "None of the above",
          "None of the above",
          "None of the above",
          "None of the above",
          "None of the above",
          "None of the above",
          "None of the above",
          "None of the above",
          "None of the above",
          "None of the above",
          "None of the above",
          "None of the above",
          "None of the above",
          "None of the above",
          "None of the above",
          "None of the above",
          "None of the above",
          "Can infer correct Value",
          "Can infer correct Value",
          "Can infer correct Value",
          "Can infer correct Value",
          "Can infer correct Value",
          "Can infer correct Value",
          "Can infer correct Value",
          "Can infer correct Value",
          "Can infer correct Value",
          "Can infer correct Value",
          "None of the above",
          "Can infer correct Value",
          "Can infer correct Value",
          "Can infer correct Value",
          "Can infer correct Value",
          "Can infer correct Value",
          "Can infer correct Value",
          "None of the above",
          "None of the above",
          "None of the above",
          "None of the above",
          "None of the above",
          "Can infer correct Value",
          "Can infer correct Value",
          "None of the above",
          "None of the above",
          "Sepals / calyx shape",
          "Stamen number",
          "Stamen shape",
          "bark",
          "crown",
          "flower color",
          "flower shape",
          "fruit",
          "inflorescences",
          "leaf apex",
          "leaf base",
          "leaf blade",
          "leaf margin",
          "leaf shape",
          "petiole",
          "phyllotaxis",
          "plant type",
          "tendril",
          "trunk and root",
          "vein",
          "Caribbean",
          "Seed colour",
          "Petals / corolla shape",
          "Petals / corolla number",
          "Petals / corolla colour",
          "None of the above",
          "None of the above",
          "None of the above",
          "None of the above",
          "None of the above",
          "None of the above",
          "Fruit Colour Description",
          "Fruit Shape",
          "Fruit Size",
          "Fruit colour",
          "None of the above",
          "Fruit shape",
          "Inflorescence type",
          "Leaf composition",
          "Leaf glands",
          "Leaf lower side",
          "Leaf margin",
          "Leaf rachis",
          "Leaf shape",
          "Leaf upper side",
          "Life form",
          "Measurement",
          "Fruit type",
          "Palm",
          "Can infer correct Value",
          "Can infer correct Value",
          "Can infer correct Entity",
          "Can infer correct Entity",
          "Can infer correct Entity",
          "Can infer correct Entity",
          "Can infer correct Entity",
          "Can infer correct Entity",
          "Can infer correct Entity",
          "Can infer correct Entity",
          "Can infer correct Entity",
          "Can infer correct Entity",
          "Can infer correct Entity",
          "Can infer correct Entity",
          "Can infer correct Entity",
          "Can infer correct Quality",
          "Can infer correct Quality",
          "Can infer correct Quality",
          "Can infer correct Quality",
          "Can infer correct Quality",
          "Can infer correct Quality",
          "Can infer correct Quality",
          "Can infer correct Quality",
          "Can infer correct Entity",
          "Can infer correct Entity",
          "Can infer correct Entity",
          "Can infer correct Entity",
          "Can infer correct Entity",
          "Can infer correct Entity",
          "Can infer correct Entity",
          "Can infer correct Entity",
          "Can infer correct Entity",
          "Can infer correct Entity",
          "Can infer correct Entity",
          "Can infer correct Entity",
          "Can infer correct Entity",
          "Can infer correct Entity",
          "Can infer correct Quality",
          "Can infer correct Entity",
          "Can infer correct Entity",
          "Can infer correct Entity",
          "Can infer correct Entity",
          "Can infer correct Entity",
          "Can infer correct Entity",
          "Can infer correct Entity",
          "Can infer correct Entity",
          "Can infer correct Entity",
          "Can infer correct Entity",
          "Can infer correct Entity",
          "Can infer correct Entity",
          "Can infer correct Value",
          "Can infer correct Quality",
          "Can infer correct Quality",
          "Can infer correct Quality",
          "Can infer correct Quality",
          "Can infer correct Value",
          "Can infer correct Value",
          "Can infer correct Value",
          "Can infer correct Value",
          "Can infer correct Value",
          "Can infer correct Value",
          "Can infer correct Value",
          "Can infer correct Value",
          "Can infer correct Value",
          "Can infer correct Value",
          "Can infer correct Value",
          "Can infer correct Value",
          "Can infer correct Value",
          "Can infer correct Value",
          "Can infer correct Value",
          "Can infer correct Value",
          "Can infer correct Value",
          "Can infer correct Value",
          "Can infer correct Value",
          "Can infer correct Quality",
          "Can infer correct Quality",
          "Can infer correct Quality",
          "Can infer correct Quality",
          "Can infer correct Quality",
          "Can infer correct Quality",
          "Can infer correct Quality",
          "Can infer correct Quality",
          "Can infer correct Quality",
          "Can infer correct Quality",
          "Can infer correct Quality",
          "Can infer correct Quality",
          "Can infer correct Quality",
          "Can infer correct Quality",
          "Can infer correct Quality",
          "Can infer correct Quality",
          "Can infer correct Quality",
          "Can infer correct Quality",
          "Can infer correct Quality",
          "Can infer correct Quality",
          "Can infer correct Quality",
          "Can infer correct Quality",
          "Can infer correct Quality",
          "Can infer correct Quality",
          "Can infer correct Quality",
          "Can infer correct Quality",
          "Can infer correct Quality",
          "PlantNet"
         ],
         "marker": {
          "colors": [
           "rgb(151, 179, 100)",
           "rgb(175, 49, 35)",
           "rgb(175, 49, 35)",
           "rgb(175, 49, 35)",
           "rgb(175, 49, 35)",
           "rgb(175, 49, 35)",
           "rgb(175, 49, 35)",
           "rgb(175, 49, 35)",
           "rgb(175, 49, 35)",
           "rgb(175, 49, 35)",
           "rgb(175, 49, 35)",
           "rgb(175, 49, 35)",
           "rgb(175, 49, 35)",
           "rgb(175, 49, 35)",
           "rgb(175, 49, 35)",
           "rgb(175, 49, 35)",
           "rgb(175, 49, 35)",
           "rgb(175, 49, 35)",
           "rgb(175, 49, 35)",
           "rgb(175, 49, 35)",
           "rgb(175, 49, 35)",
           "rgb(175, 49, 35)",
           "rgb(175, 49, 35)",
           "rgb(175, 49, 35)",
           "rgb(175, 49, 35)",
           "rgb(175, 49, 35)",
           "rgb(79, 129, 102)",
           "rgb(79, 129, 102)",
           "rgb(79, 129, 102)",
           "rgb(79, 129, 102)",
           "rgb(79, 129, 102)",
           "rgb(79, 129, 102)",
           "rgb(79, 129, 102)",
           "rgb(79, 129, 102)",
           "rgb(79, 129, 102)",
           "rgb(79, 129, 102)",
           "rgb(175, 49, 35)",
           "rgb(79, 129, 102)",
           "rgb(79, 129, 102)",
           "rgb(79, 129, 102)",
           "rgb(79, 129, 102)",
           "rgb(79, 129, 102)",
           "rgb(79, 129, 102)",
           "rgb(175, 49, 35)",
           "rgb(175, 49, 35)",
           "rgb(175, 49, 35)",
           "rgb(175, 49, 35)",
           "rgb(175, 49, 35)",
           "rgb(79, 129, 102)",
           "rgb(79, 129, 102)",
           "rgb(175, 49, 35)",
           "rgb(175, 49, 35)",
           "black",
           "black",
           "black",
           "black",
           "black",
           "black",
           "black",
           "black",
           "black",
           "black",
           "black",
           "black",
           "black",
           "black",
           "black",
           "black",
           "black",
           "black",
           "black",
           "black",
           "black",
           "black",
           "black",
           "black",
           "black",
           "rgb(175, 49, 35)",
           "rgb(175, 49, 35)",
           "rgb(175, 49, 35)",
           "rgb(175, 49, 35)",
           "rgb(175, 49, 35)",
           "rgb(175, 49, 35)",
           "black",
           "black",
           "black",
           "black",
           "rgb(175, 49, 35)",
           "black",
           "black",
           "black",
           "black",
           "black",
           "black",
           "black",
           "black",
           "black",
           "black",
           "black",
           "black",
           "black",
           "rgb(79, 129, 102)",
           "rgb(79, 129, 102)",
           "rgb(151, 179, 100)",
           "rgb(151, 179, 100)",
           "rgb(151, 179, 100)",
           "rgb(151, 179, 100)",
           "rgb(151, 179, 100)",
           "rgb(151, 179, 100)",
           "rgb(151, 179, 100)",
           "rgb(151, 179, 100)",
           "rgb(151, 179, 100)",
           "rgb(151, 179, 100)",
           "rgb(151, 179, 100)",
           "rgb(151, 179, 100)",
           "rgb(151, 179, 100)",
           "rgb(33, 75, 99)",
           "rgb(33, 75, 99)",
           "rgb(33, 75, 99)",
           "rgb(33, 75, 99)",
           "rgb(33, 75, 99)",
           "rgb(33, 75, 99)",
           "rgb(33, 75, 99)",
           "rgb(33, 75, 99)",
           "rgb(151, 179, 100)",
           "rgb(151, 179, 100)",
           "rgb(151, 179, 100)",
           "rgb(151, 179, 100)",
           "rgb(151, 179, 100)",
           "rgb(151, 179, 100)",
           "rgb(151, 179, 100)",
           "rgb(151, 179, 100)",
           "rgb(151, 179, 100)",
           "rgb(151, 179, 100)",
           "rgb(151, 179, 100)",
           "rgb(151, 179, 100)",
           "rgb(151, 179, 100)",
           "rgb(151, 179, 100)",
           "rgb(33, 75, 99)",
           "rgb(151, 179, 100)",
           "rgb(151, 179, 100)",
           "rgb(151, 179, 100)",
           "rgb(151, 179, 100)",
           "rgb(151, 179, 100)",
           "rgb(151, 179, 100)",
           "rgb(151, 179, 100)",
           "rgb(151, 179, 100)",
           "rgb(151, 179, 100)",
           "rgb(151, 179, 100)",
           "rgb(151, 179, 100)",
           "rgb(151, 179, 100)",
           "rgb(79, 129, 102)",
           "rgb(33, 75, 99)",
           "rgb(33, 75, 99)",
           "rgb(33, 75, 99)",
           "rgb(33, 75, 99)",
           "rgb(79, 129, 102)",
           "rgb(79, 129, 102)",
           "rgb(79, 129, 102)",
           "rgb(79, 129, 102)",
           "rgb(79, 129, 102)",
           "rgb(79, 129, 102)",
           "rgb(79, 129, 102)",
           "rgb(79, 129, 102)",
           "rgb(79, 129, 102)",
           "rgb(79, 129, 102)",
           "rgb(79, 129, 102)",
           "rgb(79, 129, 102)",
           "rgb(79, 129, 102)",
           "rgb(79, 129, 102)",
           "rgb(79, 129, 102)",
           "rgb(79, 129, 102)",
           "rgb(79, 129, 102)",
           "rgb(79, 129, 102)",
           "rgb(79, 129, 102)",
           "rgb(33, 75, 99)",
           "rgb(33, 75, 99)",
           "rgb(33, 75, 99)",
           "rgb(33, 75, 99)",
           "rgb(33, 75, 99)",
           "rgb(33, 75, 99)",
           "rgb(33, 75, 99)",
           "rgb(33, 75, 99)",
           "rgb(33, 75, 99)",
           "rgb(33, 75, 99)",
           "rgb(33, 75, 99)",
           "rgb(33, 75, 99)",
           "rgb(33, 75, 99)",
           "rgb(33, 75, 99)",
           "rgb(33, 75, 99)",
           "rgb(33, 75, 99)",
           "rgb(33, 75, 99)",
           "rgb(33, 75, 99)",
           "rgb(33, 75, 99)",
           "rgb(33, 75, 99)",
           "rgb(33, 75, 99)",
           "rgb(33, 75, 99)",
           "rgb(33, 75, 99)",
           "rgb(33, 75, 99)",
           "rgb(33, 75, 99)",
           "rgb(33, 75, 99)",
           "rgb(33, 75, 99)",
           "black"
          ]
         },
         "name": "",
         "parents": [
          "Palm/Fruit Colour Description",
          "Caribbean/Leaf lower side",
          "Caribbean/Leaf margin",
          "Caribbean/Leaf rachis",
          "Caribbean/Leaf shape",
          "Caribbean/Leaf upper side",
          "Caribbean/Life form",
          "Palm/Measurement",
          "Caribbean/Petals / corolla colour",
          "Caribbean/Petals / corolla number",
          "Caribbean/Petals / corolla shape",
          "Caribbean/Seed colour",
          "Caribbean/Sepals / calyx shape",
          "Caribbean/Stamen number",
          "Caribbean/Stamen shape",
          "PlantNet/bark",
          "PlantNet/crown",
          "PlantNet/flower color",
          "PlantNet/flower shape",
          "PlantNet/fruit",
          "PlantNet/inflorescences",
          "PlantNet/leaf apex",
          "Caribbean/Leaf glands",
          "Caribbean/Leaf composition",
          "Caribbean/Inflorescence type",
          "Caribbean/Fruit type",
          "PlantNet/bark",
          "PlantNet/crown",
          "PlantNet/flower color",
          "PlantNet/flower shape",
          "PlantNet/fruit",
          "PlantNet/inflorescences",
          "PlantNet/leaf apex",
          "PlantNet/leaf base",
          "PlantNet/leaf blade",
          "PlantNet/leaf margin",
          "PlantNet/leaf base",
          "PlantNet/leaf shape",
          "PlantNet/phyllotaxis",
          "PlantNet/plant type",
          "PlantNet/tendril",
          "PlantNet/trunk and root",
          "PlantNet/vein",
          "Palm/Fruit Colour Description",
          "Palm/Fruit Shape",
          "Palm/Fruit Size",
          "Caribbean/Fruit colour",
          "Caribbean/Fruit shape",
          "PlantNet/petiole",
          "Caribbean/Stamen shape",
          "PlantNet/leaf blade",
          "PlantNet/leaf shape",
          "Caribbean",
          "Caribbean",
          "Caribbean",
          "PlantNet",
          "PlantNet",
          "PlantNet",
          "PlantNet",
          "PlantNet",
          "PlantNet",
          "PlantNet",
          "PlantNet",
          "PlantNet",
          "PlantNet",
          "PlantNet",
          "PlantNet",
          "PlantNet",
          "PlantNet",
          "PlantNet",
          "PlantNet",
          "PlantNet",
          "",
          "Caribbean",
          "Caribbean",
          "Caribbean",
          "Caribbean",
          "PlantNet/petiole",
          "PlantNet/phyllotaxis",
          "PlantNet/plant type",
          "PlantNet/tendril",
          "PlantNet/trunk and root",
          "PlantNet/vein",
          "Palm",
          "Palm",
          "Palm",
          "Caribbean",
          "PlantNet/leaf margin",
          "Caribbean",
          "Caribbean",
          "Caribbean",
          "Caribbean",
          "Caribbean",
          "Caribbean",
          "Caribbean",
          "Caribbean",
          "Caribbean",
          "Caribbean",
          "Palm",
          "Caribbean",
          "",
          "Caribbean/Stamen number",
          "Caribbean/Seed colour",
          "PlantNet/fruit",
          "PlantNet/inflorescences",
          "PlantNet/leaf apex",
          "PlantNet/leaf base",
          "PlantNet/leaf blade",
          "PlantNet/leaf margin",
          "PlantNet/leaf shape",
          "PlantNet/petiole",
          "PlantNet/phyllotaxis",
          "PlantNet/plant type",
          "PlantNet/tendril",
          "PlantNet/trunk and root",
          "PlantNet/vein",
          "Palm/Fruit Colour Description",
          "Palm/Fruit Shape",
          "Palm/Fruit Size",
          "Caribbean/Fruit colour",
          "Caribbean/Fruit shape",
          "Caribbean/Fruit type",
          "Caribbean/Inflorescence type",
          "Caribbean/Leaf composition",
          "PlantNet/flower shape",
          "PlantNet/flower color",
          "PlantNet/crown",
          "PlantNet/bark",
          "Palm/Fruit Shape",
          "Palm/Fruit Size",
          "Caribbean/Fruit colour",
          "Caribbean/Fruit shape",
          "Caribbean/Fruit type",
          "Caribbean/Inflorescence type",
          "Caribbean/Leaf composition",
          "Caribbean/Leaf glands",
          "Caribbean/Leaf lower side",
          "Caribbean/Leaf margin",
          "Caribbean/Leaf glands",
          "Caribbean/Leaf rachis",
          "Caribbean/Leaf upper side",
          "Caribbean/Life form",
          "Palm/Measurement",
          "Caribbean/Petals / corolla colour",
          "Caribbean/Petals / corolla number",
          "Caribbean/Petals / corolla shape",
          "Caribbean/Seed colour",
          "Caribbean/Sepals / calyx shape",
          "Caribbean/Stamen number",
          "Caribbean/Stamen shape",
          "Caribbean/Leaf shape",
          "Caribbean/Sepals / calyx shape",
          "Caribbean/Leaf lower side",
          "Caribbean/Leaf rachis",
          "PlantNet/trunk and root",
          "PlantNet/vein",
          "Palm/Fruit Colour Description",
          "Palm/Fruit Shape",
          "Palm/Fruit Size",
          "Caribbean/Fruit colour",
          "Caribbean/Fruit shape",
          "Caribbean/Fruit type",
          "Caribbean/Inflorescence type",
          "Caribbean/Leaf composition",
          "Caribbean/Leaf glands",
          "Caribbean/Leaf lower side",
          "Caribbean/Leaf margin",
          "Caribbean/Leaf rachis",
          "Caribbean/Leaf shape",
          "Caribbean/Leaf upper side",
          "Caribbean/Life form",
          "Palm/Measurement",
          "Caribbean/Petals / corolla colour",
          "Caribbean/Petals / corolla number",
          "Caribbean/Petals / corolla shape",
          "PlantNet/tendril",
          "PlantNet/plant type",
          "PlantNet/phyllotaxis",
          "PlantNet/petiole",
          "Caribbean/Leaf shape",
          "Caribbean/Leaf upper side",
          "Caribbean/Life form",
          "Palm/Measurement",
          "Caribbean/Petals / corolla colour",
          "Caribbean/Petals / corolla number",
          "Caribbean/Petals / corolla shape",
          "Caribbean/Seed colour",
          "Caribbean/Sepals / calyx shape",
          "Caribbean/Stamen number",
          "Caribbean/Leaf margin",
          "Caribbean/Stamen shape",
          "PlantNet/crown",
          "PlantNet/flower color",
          "PlantNet/flower shape",
          "PlantNet/fruit",
          "PlantNet/inflorescences",
          "PlantNet/leaf apex",
          "PlantNet/leaf base",
          "PlantNet/leaf blade",
          "PlantNet/leaf margin",
          "PlantNet/leaf shape",
          "PlantNet/bark",
          ""
         ],
         "type": "sunburst",
         "values": [
          1,
          4,
          2,
          1,
          6,
          2,
          1,
          22,
          3,
          1,
          4,
          0,
          2,
          3,
          2,
          1,
          3,
          0,
          6,
          4,
          7,
          13,
          0,
          0,
          0,
          2,
          0,
          0,
          1,
          0,
          0,
          2,
          2,
          1,
          1,
          0,
          5,
          1,
          0,
          2,
          1,
          0,
          0,
          1,
          4,
          0,
          10,
          1,
          1,
          3,
          0,
          4,
          6,
          3,
          5,
          1,
          3,
          1,
          10,
          4,
          10,
          17,
          10,
          3,
          11,
          12,
          3,
          1,
          2,
          2,
          2,
          7,
          136,
          2,
          4,
          2,
          10,
          2,
          1,
          0,
          1,
          1,
          5,
          4,
          7,
          2,
          16,
          6,
          6,
          2,
          5,
          5,
          16,
          8,
          4,
          14,
          14,
          11,
          48,
          3,
          61,
          0,
          1,
          0,
          1,
          1,
          2,
          2,
          3,
          5,
          0,
          0,
          0,
          0,
          1,
          2,
          0,
          0,
          0,
          1,
          1,
          0,
          0,
          4,
          3,
          0,
          0,
          0,
          2,
          2,
          3,
          4,
          0,
          1,
          0,
          5,
          10,
          6,
          0,
          3,
          11,
          0,
          19,
          4,
          1,
          0,
          1,
          4,
          0,
          0,
          4,
          0,
          0,
          0,
          0,
          0,
          2,
          1,
          0,
          2,
          0,
          1,
          1,
          1,
          0,
          2,
          0,
          0,
          4,
          1,
          10,
          5,
          2,
          0,
          0,
          0,
          0,
          0,
          0,
          0,
          0,
          0,
          2,
          1,
          0,
          0,
          0,
          0,
          0,
          0,
          0,
          0,
          0,
          1,
          0,
          0,
          1,
          2,
          0,
          2,
          2,
          0,
          99
         ]
        }
       ],
       "layout": {
        "legend": {
         "tracegroupgap": 0
        },
        "margin": {
         "b": 0,
         "l": 0,
         "r": 0,
         "t": 0
        },
        "template": {
         "data": {
          "bar": [
           {
            "error_x": {
             "color": "#2a3f5f"
            },
            "error_y": {
             "color": "#2a3f5f"
            },
            "marker": {
             "line": {
              "color": "#E5ECF6",
              "width": 0.5
             },
             "pattern": {
              "fillmode": "overlay",
              "size": 10,
              "solidity": 0.2
             }
            },
            "type": "bar"
           }
          ],
          "barpolar": [
           {
            "marker": {
             "line": {
              "color": "#E5ECF6",
              "width": 0.5
             },
             "pattern": {
              "fillmode": "overlay",
              "size": 10,
              "solidity": 0.2
             }
            },
            "type": "barpolar"
           }
          ],
          "carpet": [
           {
            "aaxis": {
             "endlinecolor": "#2a3f5f",
             "gridcolor": "white",
             "linecolor": "white",
             "minorgridcolor": "white",
             "startlinecolor": "#2a3f5f"
            },
            "baxis": {
             "endlinecolor": "#2a3f5f",
             "gridcolor": "white",
             "linecolor": "white",
             "minorgridcolor": "white",
             "startlinecolor": "#2a3f5f"
            },
            "type": "carpet"
           }
          ],
          "choropleth": [
           {
            "colorbar": {
             "outlinewidth": 0,
             "ticks": ""
            },
            "type": "choropleth"
           }
          ],
          "contour": [
           {
            "colorbar": {
             "outlinewidth": 0,
             "ticks": ""
            },
            "colorscale": [
             [
              0,
              "#0d0887"
             ],
             [
              0.1111111111111111,
              "#46039f"
             ],
             [
              0.2222222222222222,
              "#7201a8"
             ],
             [
              0.3333333333333333,
              "#9c179e"
             ],
             [
              0.4444444444444444,
              "#bd3786"
             ],
             [
              0.5555555555555556,
              "#d8576b"
             ],
             [
              0.6666666666666666,
              "#ed7953"
             ],
             [
              0.7777777777777778,
              "#fb9f3a"
             ],
             [
              0.8888888888888888,
              "#fdca26"
             ],
             [
              1,
              "#f0f921"
             ]
            ],
            "type": "contour"
           }
          ],
          "contourcarpet": [
           {
            "colorbar": {
             "outlinewidth": 0,
             "ticks": ""
            },
            "type": "contourcarpet"
           }
          ],
          "heatmap": [
           {
            "colorbar": {
             "outlinewidth": 0,
             "ticks": ""
            },
            "colorscale": [
             [
              0,
              "#0d0887"
             ],
             [
              0.1111111111111111,
              "#46039f"
             ],
             [
              0.2222222222222222,
              "#7201a8"
             ],
             [
              0.3333333333333333,
              "#9c179e"
             ],
             [
              0.4444444444444444,
              "#bd3786"
             ],
             [
              0.5555555555555556,
              "#d8576b"
             ],
             [
              0.6666666666666666,
              "#ed7953"
             ],
             [
              0.7777777777777778,
              "#fb9f3a"
             ],
             [
              0.8888888888888888,
              "#fdca26"
             ],
             [
              1,
              "#f0f921"
             ]
            ],
            "type": "heatmap"
           }
          ],
          "heatmapgl": [
           {
            "colorbar": {
             "outlinewidth": 0,
             "ticks": ""
            },
            "colorscale": [
             [
              0,
              "#0d0887"
             ],
             [
              0.1111111111111111,
              "#46039f"
             ],
             [
              0.2222222222222222,
              "#7201a8"
             ],
             [
              0.3333333333333333,
              "#9c179e"
             ],
             [
              0.4444444444444444,
              "#bd3786"
             ],
             [
              0.5555555555555556,
              "#d8576b"
             ],
             [
              0.6666666666666666,
              "#ed7953"
             ],
             [
              0.7777777777777778,
              "#fb9f3a"
             ],
             [
              0.8888888888888888,
              "#fdca26"
             ],
             [
              1,
              "#f0f921"
             ]
            ],
            "type": "heatmapgl"
           }
          ],
          "histogram": [
           {
            "marker": {
             "pattern": {
              "fillmode": "overlay",
              "size": 10,
              "solidity": 0.2
             }
            },
            "type": "histogram"
           }
          ],
          "histogram2d": [
           {
            "colorbar": {
             "outlinewidth": 0,
             "ticks": ""
            },
            "colorscale": [
             [
              0,
              "#0d0887"
             ],
             [
              0.1111111111111111,
              "#46039f"
             ],
             [
              0.2222222222222222,
              "#7201a8"
             ],
             [
              0.3333333333333333,
              "#9c179e"
             ],
             [
              0.4444444444444444,
              "#bd3786"
             ],
             [
              0.5555555555555556,
              "#d8576b"
             ],
             [
              0.6666666666666666,
              "#ed7953"
             ],
             [
              0.7777777777777778,
              "#fb9f3a"
             ],
             [
              0.8888888888888888,
              "#fdca26"
             ],
             [
              1,
              "#f0f921"
             ]
            ],
            "type": "histogram2d"
           }
          ],
          "histogram2dcontour": [
           {
            "colorbar": {
             "outlinewidth": 0,
             "ticks": ""
            },
            "colorscale": [
             [
              0,
              "#0d0887"
             ],
             [
              0.1111111111111111,
              "#46039f"
             ],
             [
              0.2222222222222222,
              "#7201a8"
             ],
             [
              0.3333333333333333,
              "#9c179e"
             ],
             [
              0.4444444444444444,
              "#bd3786"
             ],
             [
              0.5555555555555556,
              "#d8576b"
             ],
             [
              0.6666666666666666,
              "#ed7953"
             ],
             [
              0.7777777777777778,
              "#fb9f3a"
             ],
             [
              0.8888888888888888,
              "#fdca26"
             ],
             [
              1,
              "#f0f921"
             ]
            ],
            "type": "histogram2dcontour"
           }
          ],
          "mesh3d": [
           {
            "colorbar": {
             "outlinewidth": 0,
             "ticks": ""
            },
            "type": "mesh3d"
           }
          ],
          "parcoords": [
           {
            "line": {
             "colorbar": {
              "outlinewidth": 0,
              "ticks": ""
             }
            },
            "type": "parcoords"
           }
          ],
          "pie": [
           {
            "automargin": true,
            "type": "pie"
           }
          ],
          "scatter": [
           {
            "fillpattern": {
             "fillmode": "overlay",
             "size": 10,
             "solidity": 0.2
            },
            "type": "scatter"
           }
          ],
          "scatter3d": [
           {
            "line": {
             "colorbar": {
              "outlinewidth": 0,
              "ticks": ""
             }
            },
            "marker": {
             "colorbar": {
              "outlinewidth": 0,
              "ticks": ""
             }
            },
            "type": "scatter3d"
           }
          ],
          "scattercarpet": [
           {
            "marker": {
             "colorbar": {
              "outlinewidth": 0,
              "ticks": ""
             }
            },
            "type": "scattercarpet"
           }
          ],
          "scattergeo": [
           {
            "marker": {
             "colorbar": {
              "outlinewidth": 0,
              "ticks": ""
             }
            },
            "type": "scattergeo"
           }
          ],
          "scattergl": [
           {
            "marker": {
             "colorbar": {
              "outlinewidth": 0,
              "ticks": ""
             }
            },
            "type": "scattergl"
           }
          ],
          "scattermapbox": [
           {
            "marker": {
             "colorbar": {
              "outlinewidth": 0,
              "ticks": ""
             }
            },
            "type": "scattermapbox"
           }
          ],
          "scatterpolar": [
           {
            "marker": {
             "colorbar": {
              "outlinewidth": 0,
              "ticks": ""
             }
            },
            "type": "scatterpolar"
           }
          ],
          "scatterpolargl": [
           {
            "marker": {
             "colorbar": {
              "outlinewidth": 0,
              "ticks": ""
             }
            },
            "type": "scatterpolargl"
           }
          ],
          "scatterternary": [
           {
            "marker": {
             "colorbar": {
              "outlinewidth": 0,
              "ticks": ""
             }
            },
            "type": "scatterternary"
           }
          ],
          "surface": [
           {
            "colorbar": {
             "outlinewidth": 0,
             "ticks": ""
            },
            "colorscale": [
             [
              0,
              "#0d0887"
             ],
             [
              0.1111111111111111,
              "#46039f"
             ],
             [
              0.2222222222222222,
              "#7201a8"
             ],
             [
              0.3333333333333333,
              "#9c179e"
             ],
             [
              0.4444444444444444,
              "#bd3786"
             ],
             [
              0.5555555555555556,
              "#d8576b"
             ],
             [
              0.6666666666666666,
              "#ed7953"
             ],
             [
              0.7777777777777778,
              "#fb9f3a"
             ],
             [
              0.8888888888888888,
              "#fdca26"
             ],
             [
              1,
              "#f0f921"
             ]
            ],
            "type": "surface"
           }
          ],
          "table": [
           {
            "cells": {
             "fill": {
              "color": "#EBF0F8"
             },
             "line": {
              "color": "white"
             }
            },
            "header": {
             "fill": {
              "color": "#C8D4E3"
             },
             "line": {
              "color": "white"
             }
            },
            "type": "table"
           }
          ]
         },
         "layout": {
          "annotationdefaults": {
           "arrowcolor": "#2a3f5f",
           "arrowhead": 0,
           "arrowwidth": 1
          },
          "autotypenumbers": "strict",
          "coloraxis": {
           "colorbar": {
            "outlinewidth": 0,
            "ticks": ""
           }
          },
          "colorscale": {
           "diverging": [
            [
             0,
             "#8e0152"
            ],
            [
             0.1,
             "#c51b7d"
            ],
            [
             0.2,
             "#de77ae"
            ],
            [
             0.3,
             "#f1b6da"
            ],
            [
             0.4,
             "#fde0ef"
            ],
            [
             0.5,
             "#f7f7f7"
            ],
            [
             0.6,
             "#e6f5d0"
            ],
            [
             0.7,
             "#b8e186"
            ],
            [
             0.8,
             "#7fbc41"
            ],
            [
             0.9,
             "#4d9221"
            ],
            [
             1,
             "#276419"
            ]
           ],
           "sequential": [
            [
             0,
             "#0d0887"
            ],
            [
             0.1111111111111111,
             "#46039f"
            ],
            [
             0.2222222222222222,
             "#7201a8"
            ],
            [
             0.3333333333333333,
             "#9c179e"
            ],
            [
             0.4444444444444444,
             "#bd3786"
            ],
            [
             0.5555555555555556,
             "#d8576b"
            ],
            [
             0.6666666666666666,
             "#ed7953"
            ],
            [
             0.7777777777777778,
             "#fb9f3a"
            ],
            [
             0.8888888888888888,
             "#fdca26"
            ],
            [
             1,
             "#f0f921"
            ]
           ],
           "sequentialminus": [
            [
             0,
             "#0d0887"
            ],
            [
             0.1111111111111111,
             "#46039f"
            ],
            [
             0.2222222222222222,
             "#7201a8"
            ],
            [
             0.3333333333333333,
             "#9c179e"
            ],
            [
             0.4444444444444444,
             "#bd3786"
            ],
            [
             0.5555555555555556,
             "#d8576b"
            ],
            [
             0.6666666666666666,
             "#ed7953"
            ],
            [
             0.7777777777777778,
             "#fb9f3a"
            ],
            [
             0.8888888888888888,
             "#fdca26"
            ],
            [
             1,
             "#f0f921"
            ]
           ]
          },
          "colorway": [
           "#636efa",
           "#EF553B",
           "#00cc96",
           "#ab63fa",
           "#FFA15A",
           "#19d3f3",
           "#FF6692",
           "#B6E880",
           "#FF97FF",
           "#FECB52"
          ],
          "font": {
           "color": "#2a3f5f"
          },
          "geo": {
           "bgcolor": "white",
           "lakecolor": "white",
           "landcolor": "#E5ECF6",
           "showlakes": true,
           "showland": true,
           "subunitcolor": "white"
          },
          "hoverlabel": {
           "align": "left"
          },
          "hovermode": "closest",
          "mapbox": {
           "style": "light"
          },
          "paper_bgcolor": "white",
          "plot_bgcolor": "#E5ECF6",
          "polar": {
           "angularaxis": {
            "gridcolor": "white",
            "linecolor": "white",
            "ticks": ""
           },
           "bgcolor": "#E5ECF6",
           "radialaxis": {
            "gridcolor": "white",
            "linecolor": "white",
            "ticks": ""
           }
          },
          "scene": {
           "xaxis": {
            "backgroundcolor": "#E5ECF6",
            "gridcolor": "white",
            "gridwidth": 2,
            "linecolor": "white",
            "showbackground": true,
            "ticks": "",
            "zerolinecolor": "white"
           },
           "yaxis": {
            "backgroundcolor": "#E5ECF6",
            "gridcolor": "white",
            "gridwidth": 2,
            "linecolor": "white",
            "showbackground": true,
            "ticks": "",
            "zerolinecolor": "white"
           },
           "zaxis": {
            "backgroundcolor": "#E5ECF6",
            "gridcolor": "white",
            "gridwidth": 2,
            "linecolor": "white",
            "showbackground": true,
            "ticks": "",
            "zerolinecolor": "white"
           }
          },
          "shapedefaults": {
           "line": {
            "color": "#2a3f5f"
           }
          },
          "ternary": {
           "aaxis": {
            "gridcolor": "white",
            "linecolor": "white",
            "ticks": ""
           },
           "baxis": {
            "gridcolor": "white",
            "linecolor": "white",
            "ticks": ""
           },
           "bgcolor": "#E5ECF6",
           "caxis": {
            "gridcolor": "white",
            "linecolor": "white",
            "ticks": ""
           }
          },
          "title": {
           "x": 0.05
          },
          "xaxis": {
           "automargin": true,
           "gridcolor": "white",
           "linecolor": "white",
           "ticks": "",
           "title": {
            "standoff": 15
           },
           "zerolinecolor": "white",
           "zerolinewidth": 2
          },
          "yaxis": {
           "automargin": true,
           "gridcolor": "white",
           "linecolor": "white",
           "ticks": "",
           "title": {
            "standoff": 15
           },
           "zerolinecolor": "white",
           "zerolinewidth": 2
          }
         }
        }
       }
      }
     },
     "metadata": {},
     "output_type": "display_data"
    }
   ],
   "source": [
    "labels = ['None of the above', 'Can infer correct Entity', 'Can infer correct Quality', 'Can infer correct Value']\n",
    "\n",
    "colors = [\n",
    "    'rgb(175, 49, 35)', \n",
    "    'rgb(151, 179, 100)',\n",
    "    'rgb(33, 75, 99)',\n",
    "    'rgb(79, 129, 102)',\n",
    "      ]\n",
    "\n",
    "color_dict = {label: color for color, label in zip(colors, labels)}\n",
    "color_dict['(?)'] = 'black'\n",
    "color_dict['Total'] = 'blue'\n",
    "\n",
    "fig = px.sunburst(df_melt, \n",
    "                  path=['Dataset', 'Main Trait', 'variable'], \n",
    "                  values='value', \n",
    "                  color='variable',\n",
    "                  color_discrete_map=color_dict,\n",
    "                  # branchvalues='remainder',\n",
    "                  # maxdepth=-1,\n",
    "                  # hover_data=['Dataset', 'Main Trait', 'variable'],\n",
    "                  # hover_name=['Dataset', 'Main Trait', 'variable'],\n",
    "                  )\n",
    "\n",
    "fig.update_layout(\n",
    "    margin = dict(t=0, l=0, r=0, b=0),\n",
    "    # uniformtext=dict(minsize=4, mode='hide', )\n",
    ")\n",
    "\n",
    "fig.show()\n",
    "\n",
    "# folder_figures = \"../../../reports/figures/\"\n",
    "# file_name = \"PxPlot_HTML_SurveysPerDataset_PerTrait_Grouped.html\"\n",
    "# fig.write_html(F\"{folder_figures}{file_name}\")\n",
    "# file_name = \"PxPlot_PDF_SurveysPerTrait_PerTrait_Grouped.pdf\"\n",
    "# fig.write_image(F\"{folder_figures}{file_name}\")"
   ]
  }
 ],
 "metadata": {
  "kernelspec": {
   "display_name": "deeplearning",
   "language": "python",
   "name": "deeplearning"
  },
  "language_info": {
   "codemirror_mode": {
    "name": "ipython",
    "version": 3
   },
   "file_extension": ".py",
   "mimetype": "text/x-python",
   "name": "python",
   "nbconvert_exporter": "python",
   "pygments_lexer": "ipython3",
   "version": "3.10.4"
  },
  "vscode": {
   "interpreter": {
    "hash": "51432b8e5767c06330d9b51dfad63f9db0ea39868e37d921b9c2e277373f8d11"
   }
  }
 },
 "nbformat": 4,
 "nbformat_minor": 5
}
