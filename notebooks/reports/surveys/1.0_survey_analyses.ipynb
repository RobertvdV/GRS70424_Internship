{
 "cells": [
  {
   "cell_type": "code",
   "execution_count": 1,
   "id": "88eee1f5",
   "metadata": {},
   "outputs": [],
   "source": [
    "import pandas as pd\n",
    "import numpy as np\n",
    "import seaborn as sns\n",
    "import matplotlib.pyplot as plt\n",
    "import matplotlib as mpl\n",
    "import glob\n",
    "import csv\n",
    "import plotly.express as px\n",
    "import plotly.graph_objs as go\n",
    "import plotly.subplots as sp\n",
    "from plotly.subplots import make_subplots\n"
   ]
  },
  {
   "cell_type": "code",
   "execution_count": 2,
   "id": "b887c9a0",
   "metadata": {},
   "outputs": [],
   "source": [
    "folder = \"../../../data/surveys/responses/\"\n",
    "response_list = glob.glob(F\"{folder}*\")\n",
    "\n",
    "folder = \"../../../data/surveys/surveys/\"\n",
    "survey_list = [F\"{folder}{lst[59:]}\" for lst in response_list]\n",
    "\n",
    "df_survey = pd.read_csv(survey_list[0], sep='\\t')\n",
    "df_survey.rename(columns={ df_survey.columns[0]: \"Index\" }, inplace = True)\n",
    "df_response = pd.read_csv(response_list[0], header=None).iloc[: , 1:].T\n",
    "df_response.rename(columns={ df_response.columns[0]: \"Sentence\", \n",
    "                            df_response.columns[1]: \"Result\" }, \n",
    "                            inplace = True)\n",
    "\n",
    "\n",
    "# Surveys\n",
    "df_surveys = pd.concat((pd.read_csv(f, sep='\\t') for f in survey_list), ignore_index=True)\n",
    "df_surveys.rename(columns={ df_surveys.columns[0]: \"Index\" }, inplace = True)\n",
    "\n",
    "# Response\n",
    "df_responses = pd.concat((pd.read_csv(f, header=None).iloc[: , 1:].T for f in response_list))\n",
    "df_responses.rename(columns={ df_responses.columns[0]: \"Sentence\", \n",
    "                            df_responses.columns[1]: \"Result\" }, \n",
    "                            inplace = True)\n",
    "# Melt\n",
    "df_melt = pd.melt(df_surveys, id_vars=[\"Species\",\n",
    "                                       \"Main Trait\",\n",
    "                                       \"SIM\",\n",
    "                                       \"Dataset\"],\n",
    "                             value_vars=[\"1\", \"2\", \"3\", \"4\", \"5\",],\n",
    "                             value_name=\"Sentence\"\n",
    "                \n",
    ")\n",
    "\n",
    "df_melt = df_melt.dropna()\n",
    "\n",
    "# Drop duplicates in each dataframe\n",
    "df_responses = df_responses.drop_duplicates()\n",
    "df_melt = df_melt.drop_duplicates()\n",
    "\n",
    "# Merge the dataframes based on the 'Sentence' column\n",
    "df = pd.merge(df_melt, df_responses, on='Sentence')\n",
    "df = df.drop(columns=[\"variable\"])"
   ]
  },
  {
   "attachments": {},
   "cell_type": "markdown",
   "id": "7ed45d0e",
   "metadata": {},
   "source": [
    "### Plotly"
   ]
  },
  {
   "cell_type": "code",
   "execution_count": 3,
   "id": "86c30780",
   "metadata": {},
   "outputs": [
    {
     "data": {
      "application/vnd.plotly.v1+json": {
       "config": {
        "plotlyServerURL": "https://plot.ly"
       },
       "data": [
        {
         "domain": {
          "x": [
           0,
           0.45
          ],
          "y": [
           0,
           1
          ]
         },
         "hole": 0.6,
         "hoverinfo": "label+percent+name",
         "labels": [
          "None of the above",
          "Can infer correct Entity",
          "Can infer correct Quality",
          "Can infer correct Value"
         ],
         "marker": {
          "colors": [
           "#d62728",
           "#1f77b4",
           "goldenrod",
           "#2ca02c"
          ]
         },
         "name": "Bert Similarity",
         "sort": false,
         "type": "pie",
         "values": [
          327,
          199,
          64,
          161
         ]
        },
        {
         "domain": {
          "x": [
           0.55,
           1
          ],
          "y": [
           0,
           1
          ]
         },
         "hole": 0.6,
         "hoverinfo": "label+percent+name",
         "labels": [
          "None of the above",
          "Can infer correct Entity",
          "Can infer correct Quality",
          "Can infer correct Value"
         ],
         "marker": {
          "colors": [
           "#d62728",
           "#1f77b4",
           "goldenrod",
           "#2ca02c"
          ]
         },
         "name": "Jaccard Similarity",
         "sort": false,
         "type": "pie",
         "values": [
          166,
          214,
          57,
          191
         ]
        }
       ],
       "layout": {
        "annotations": [
         {
          "font": {
           "size": 20
          },
          "showarrow": false,
          "text": "BERT",
          "x": 0.2,
          "y": 0.5
         },
         {
          "font": {
           "size": 20
          },
          "showarrow": false,
          "text": "JACC",
          "x": 0.8,
          "y": 0.5
         }
        ],
        "template": {
         "data": {
          "bar": [
           {
            "error_x": {
             "color": "#2a3f5f"
            },
            "error_y": {
             "color": "#2a3f5f"
            },
            "marker": {
             "line": {
              "color": "#E5ECF6",
              "width": 0.5
             },
             "pattern": {
              "fillmode": "overlay",
              "size": 10,
              "solidity": 0.2
             }
            },
            "type": "bar"
           }
          ],
          "barpolar": [
           {
            "marker": {
             "line": {
              "color": "#E5ECF6",
              "width": 0.5
             },
             "pattern": {
              "fillmode": "overlay",
              "size": 10,
              "solidity": 0.2
             }
            },
            "type": "barpolar"
           }
          ],
          "carpet": [
           {
            "aaxis": {
             "endlinecolor": "#2a3f5f",
             "gridcolor": "white",
             "linecolor": "white",
             "minorgridcolor": "white",
             "startlinecolor": "#2a3f5f"
            },
            "baxis": {
             "endlinecolor": "#2a3f5f",
             "gridcolor": "white",
             "linecolor": "white",
             "minorgridcolor": "white",
             "startlinecolor": "#2a3f5f"
            },
            "type": "carpet"
           }
          ],
          "choropleth": [
           {
            "colorbar": {
             "outlinewidth": 0,
             "ticks": ""
            },
            "type": "choropleth"
           }
          ],
          "contour": [
           {
            "colorbar": {
             "outlinewidth": 0,
             "ticks": ""
            },
            "colorscale": [
             [
              0,
              "#0d0887"
             ],
             [
              0.1111111111111111,
              "#46039f"
             ],
             [
              0.2222222222222222,
              "#7201a8"
             ],
             [
              0.3333333333333333,
              "#9c179e"
             ],
             [
              0.4444444444444444,
              "#bd3786"
             ],
             [
              0.5555555555555556,
              "#d8576b"
             ],
             [
              0.6666666666666666,
              "#ed7953"
             ],
             [
              0.7777777777777778,
              "#fb9f3a"
             ],
             [
              0.8888888888888888,
              "#fdca26"
             ],
             [
              1,
              "#f0f921"
             ]
            ],
            "type": "contour"
           }
          ],
          "contourcarpet": [
           {
            "colorbar": {
             "outlinewidth": 0,
             "ticks": ""
            },
            "type": "contourcarpet"
           }
          ],
          "heatmap": [
           {
            "colorbar": {
             "outlinewidth": 0,
             "ticks": ""
            },
            "colorscale": [
             [
              0,
              "#0d0887"
             ],
             [
              0.1111111111111111,
              "#46039f"
             ],
             [
              0.2222222222222222,
              "#7201a8"
             ],
             [
              0.3333333333333333,
              "#9c179e"
             ],
             [
              0.4444444444444444,
              "#bd3786"
             ],
             [
              0.5555555555555556,
              "#d8576b"
             ],
             [
              0.6666666666666666,
              "#ed7953"
             ],
             [
              0.7777777777777778,
              "#fb9f3a"
             ],
             [
              0.8888888888888888,
              "#fdca26"
             ],
             [
              1,
              "#f0f921"
             ]
            ],
            "type": "heatmap"
           }
          ],
          "heatmapgl": [
           {
            "colorbar": {
             "outlinewidth": 0,
             "ticks": ""
            },
            "colorscale": [
             [
              0,
              "#0d0887"
             ],
             [
              0.1111111111111111,
              "#46039f"
             ],
             [
              0.2222222222222222,
              "#7201a8"
             ],
             [
              0.3333333333333333,
              "#9c179e"
             ],
             [
              0.4444444444444444,
              "#bd3786"
             ],
             [
              0.5555555555555556,
              "#d8576b"
             ],
             [
              0.6666666666666666,
              "#ed7953"
             ],
             [
              0.7777777777777778,
              "#fb9f3a"
             ],
             [
              0.8888888888888888,
              "#fdca26"
             ],
             [
              1,
              "#f0f921"
             ]
            ],
            "type": "heatmapgl"
           }
          ],
          "histogram": [
           {
            "marker": {
             "pattern": {
              "fillmode": "overlay",
              "size": 10,
              "solidity": 0.2
             }
            },
            "type": "histogram"
           }
          ],
          "histogram2d": [
           {
            "colorbar": {
             "outlinewidth": 0,
             "ticks": ""
            },
            "colorscale": [
             [
              0,
              "#0d0887"
             ],
             [
              0.1111111111111111,
              "#46039f"
             ],
             [
              0.2222222222222222,
              "#7201a8"
             ],
             [
              0.3333333333333333,
              "#9c179e"
             ],
             [
              0.4444444444444444,
              "#bd3786"
             ],
             [
              0.5555555555555556,
              "#d8576b"
             ],
             [
              0.6666666666666666,
              "#ed7953"
             ],
             [
              0.7777777777777778,
              "#fb9f3a"
             ],
             [
              0.8888888888888888,
              "#fdca26"
             ],
             [
              1,
              "#f0f921"
             ]
            ],
            "type": "histogram2d"
           }
          ],
          "histogram2dcontour": [
           {
            "colorbar": {
             "outlinewidth": 0,
             "ticks": ""
            },
            "colorscale": [
             [
              0,
              "#0d0887"
             ],
             [
              0.1111111111111111,
              "#46039f"
             ],
             [
              0.2222222222222222,
              "#7201a8"
             ],
             [
              0.3333333333333333,
              "#9c179e"
             ],
             [
              0.4444444444444444,
              "#bd3786"
             ],
             [
              0.5555555555555556,
              "#d8576b"
             ],
             [
              0.6666666666666666,
              "#ed7953"
             ],
             [
              0.7777777777777778,
              "#fb9f3a"
             ],
             [
              0.8888888888888888,
              "#fdca26"
             ],
             [
              1,
              "#f0f921"
             ]
            ],
            "type": "histogram2dcontour"
           }
          ],
          "mesh3d": [
           {
            "colorbar": {
             "outlinewidth": 0,
             "ticks": ""
            },
            "type": "mesh3d"
           }
          ],
          "parcoords": [
           {
            "line": {
             "colorbar": {
              "outlinewidth": 0,
              "ticks": ""
             }
            },
            "type": "parcoords"
           }
          ],
          "pie": [
           {
            "automargin": true,
            "type": "pie"
           }
          ],
          "scatter": [
           {
            "fillpattern": {
             "fillmode": "overlay",
             "size": 10,
             "solidity": 0.2
            },
            "type": "scatter"
           }
          ],
          "scatter3d": [
           {
            "line": {
             "colorbar": {
              "outlinewidth": 0,
              "ticks": ""
             }
            },
            "marker": {
             "colorbar": {
              "outlinewidth": 0,
              "ticks": ""
             }
            },
            "type": "scatter3d"
           }
          ],
          "scattercarpet": [
           {
            "marker": {
             "colorbar": {
              "outlinewidth": 0,
              "ticks": ""
             }
            },
            "type": "scattercarpet"
           }
          ],
          "scattergeo": [
           {
            "marker": {
             "colorbar": {
              "outlinewidth": 0,
              "ticks": ""
             }
            },
            "type": "scattergeo"
           }
          ],
          "scattergl": [
           {
            "marker": {
             "colorbar": {
              "outlinewidth": 0,
              "ticks": ""
             }
            },
            "type": "scattergl"
           }
          ],
          "scattermapbox": [
           {
            "marker": {
             "colorbar": {
              "outlinewidth": 0,
              "ticks": ""
             }
            },
            "type": "scattermapbox"
           }
          ],
          "scatterpolar": [
           {
            "marker": {
             "colorbar": {
              "outlinewidth": 0,
              "ticks": ""
             }
            },
            "type": "scatterpolar"
           }
          ],
          "scatterpolargl": [
           {
            "marker": {
             "colorbar": {
              "outlinewidth": 0,
              "ticks": ""
             }
            },
            "type": "scatterpolargl"
           }
          ],
          "scatterternary": [
           {
            "marker": {
             "colorbar": {
              "outlinewidth": 0,
              "ticks": ""
             }
            },
            "type": "scatterternary"
           }
          ],
          "surface": [
           {
            "colorbar": {
             "outlinewidth": 0,
             "ticks": ""
            },
            "colorscale": [
             [
              0,
              "#0d0887"
             ],
             [
              0.1111111111111111,
              "#46039f"
             ],
             [
              0.2222222222222222,
              "#7201a8"
             ],
             [
              0.3333333333333333,
              "#9c179e"
             ],
             [
              0.4444444444444444,
              "#bd3786"
             ],
             [
              0.5555555555555556,
              "#d8576b"
             ],
             [
              0.6666666666666666,
              "#ed7953"
             ],
             [
              0.7777777777777778,
              "#fb9f3a"
             ],
             [
              0.8888888888888888,
              "#fdca26"
             ],
             [
              1,
              "#f0f921"
             ]
            ],
            "type": "surface"
           }
          ],
          "table": [
           {
            "cells": {
             "fill": {
              "color": "#EBF0F8"
             },
             "line": {
              "color": "white"
             }
            },
            "header": {
             "fill": {
              "color": "#C8D4E3"
             },
             "line": {
              "color": "white"
             }
            },
            "type": "table"
           }
          ]
         },
         "layout": {
          "annotationdefaults": {
           "arrowcolor": "#2a3f5f",
           "arrowhead": 0,
           "arrowwidth": 1
          },
          "autotypenumbers": "strict",
          "coloraxis": {
           "colorbar": {
            "outlinewidth": 0,
            "ticks": ""
           }
          },
          "colorscale": {
           "diverging": [
            [
             0,
             "#8e0152"
            ],
            [
             0.1,
             "#c51b7d"
            ],
            [
             0.2,
             "#de77ae"
            ],
            [
             0.3,
             "#f1b6da"
            ],
            [
             0.4,
             "#fde0ef"
            ],
            [
             0.5,
             "#f7f7f7"
            ],
            [
             0.6,
             "#e6f5d0"
            ],
            [
             0.7,
             "#b8e186"
            ],
            [
             0.8,
             "#7fbc41"
            ],
            [
             0.9,
             "#4d9221"
            ],
            [
             1,
             "#276419"
            ]
           ],
           "sequential": [
            [
             0,
             "#0d0887"
            ],
            [
             0.1111111111111111,
             "#46039f"
            ],
            [
             0.2222222222222222,
             "#7201a8"
            ],
            [
             0.3333333333333333,
             "#9c179e"
            ],
            [
             0.4444444444444444,
             "#bd3786"
            ],
            [
             0.5555555555555556,
             "#d8576b"
            ],
            [
             0.6666666666666666,
             "#ed7953"
            ],
            [
             0.7777777777777778,
             "#fb9f3a"
            ],
            [
             0.8888888888888888,
             "#fdca26"
            ],
            [
             1,
             "#f0f921"
            ]
           ],
           "sequentialminus": [
            [
             0,
             "#0d0887"
            ],
            [
             0.1111111111111111,
             "#46039f"
            ],
            [
             0.2222222222222222,
             "#7201a8"
            ],
            [
             0.3333333333333333,
             "#9c179e"
            ],
            [
             0.4444444444444444,
             "#bd3786"
            ],
            [
             0.5555555555555556,
             "#d8576b"
            ],
            [
             0.6666666666666666,
             "#ed7953"
            ],
            [
             0.7777777777777778,
             "#fb9f3a"
            ],
            [
             0.8888888888888888,
             "#fdca26"
            ],
            [
             1,
             "#f0f921"
            ]
           ]
          },
          "colorway": [
           "#636efa",
           "#EF553B",
           "#00cc96",
           "#ab63fa",
           "#FFA15A",
           "#19d3f3",
           "#FF6692",
           "#B6E880",
           "#FF97FF",
           "#FECB52"
          ],
          "font": {
           "color": "#2a3f5f"
          },
          "geo": {
           "bgcolor": "white",
           "lakecolor": "white",
           "landcolor": "#E5ECF6",
           "showlakes": true,
           "showland": true,
           "subunitcolor": "white"
          },
          "hoverlabel": {
           "align": "left"
          },
          "hovermode": "closest",
          "mapbox": {
           "style": "light"
          },
          "paper_bgcolor": "white",
          "plot_bgcolor": "#E5ECF6",
          "polar": {
           "angularaxis": {
            "gridcolor": "white",
            "linecolor": "white",
            "ticks": ""
           },
           "bgcolor": "#E5ECF6",
           "radialaxis": {
            "gridcolor": "white",
            "linecolor": "white",
            "ticks": ""
           }
          },
          "scene": {
           "xaxis": {
            "backgroundcolor": "#E5ECF6",
            "gridcolor": "white",
            "gridwidth": 2,
            "linecolor": "white",
            "showbackground": true,
            "ticks": "",
            "zerolinecolor": "white"
           },
           "yaxis": {
            "backgroundcolor": "#E5ECF6",
            "gridcolor": "white",
            "gridwidth": 2,
            "linecolor": "white",
            "showbackground": true,
            "ticks": "",
            "zerolinecolor": "white"
           },
           "zaxis": {
            "backgroundcolor": "#E5ECF6",
            "gridcolor": "white",
            "gridwidth": 2,
            "linecolor": "white",
            "showbackground": true,
            "ticks": "",
            "zerolinecolor": "white"
           }
          },
          "shapedefaults": {
           "line": {
            "color": "#2a3f5f"
           }
          },
          "ternary": {
           "aaxis": {
            "gridcolor": "white",
            "linecolor": "white",
            "ticks": ""
           },
           "baxis": {
            "gridcolor": "white",
            "linecolor": "white",
            "ticks": ""
           },
           "bgcolor": "#E5ECF6",
           "caxis": {
            "gridcolor": "white",
            "linecolor": "white",
            "ticks": ""
           }
          },
          "title": {
           "x": 0.05
          },
          "xaxis": {
           "automargin": true,
           "gridcolor": "white",
           "linecolor": "white",
           "ticks": "",
           "title": {
            "standoff": 15
           },
           "zerolinecolor": "white",
           "zerolinewidth": 2
          },
          "yaxis": {
           "automargin": true,
           "gridcolor": "white",
           "linecolor": "white",
           "ticks": "",
           "title": {
            "standoff": 15
           },
           "zerolinecolor": "white",
           "zerolinewidth": 2
          }
         }
        },
        "title": {
         "text": "Trait Annotations Results Per Smililarity",
         "x": 0.33
        }
       }
      }
     },
     "metadata": {},
     "output_type": "display_data"
    }
   ],
   "source": [
    "df_plot = df.groupby([\"SIM\", \"Result\"]).count()[\"Species\"]\n",
    "df_plot.name = \"Data\"\n",
    "df_plot\n",
    "\n",
    "labels = ['None of the above', 'Can infer correct Entity', 'Can infer correct Quality', 'Can infer correct Value']\n",
    "colors = [\n",
    "     '#d62728', \n",
    "     '#1f77b4',\n",
    "     'goldenrod',\n",
    "     '#2ca02c', \n",
    "     ]\n",
    "\n",
    "# Create subplots: use 'domain' type for Pie subplot\n",
    "fig = make_subplots(rows=1, cols=2, specs=[[{'type':'domain'}, {'type':'domain'}]])\n",
    "fig.add_trace(go.Pie(labels=labels, \n",
    "                     values=df_plot.loc[\"Bert\", labels].values,\n",
    "                     name=\"Bert Similarity\",\n",
    "                     sort=False,\n",
    "                     marker_colors=colors),\n",
    "              1, 1)\n",
    "fig.add_trace(go.Pie(labels=labels, \n",
    "                     values=df_plot.loc[\"Jacc\", labels].values,\n",
    "                     name=\"Jaccard Similarity\",\n",
    "                     sort=False,\n",
    "                     marker_colors=colors),\n",
    "              1, 2)\n",
    "\n",
    "# Use `hole` to create a donut-like pie chart\n",
    "fig.update_traces(hole=.6, hoverinfo=\"label+percent+name\",)\n",
    "\n",
    "fig.update_layout(\n",
    "    title_text=\"Trait Annotations Results Per Smililarity\", title_x=0.33,\n",
    "    # Add annotations in the center of the donut pies.\n",
    "    annotations=[dict(text='BERT', x=0.2, y=0.5, font_size=20, showarrow=False),\n",
    "                 dict(text='JACC', x=0.8, y=0.5, font_size=20, showarrow=False)],\n",
    "               #   legend={'traceorder':'normal'}\n",
    "                 )\n",
    "fig.show()\n",
    "\n",
    "\n",
    "folder_figures = \"../../../reports/figures/\"\n",
    "file_name = \"PxPlot_HTML_SurveysPerSimilarity.html\"\n",
    "fig.write_html(F\"{folder_figures}{file_name}\")\n",
    "file_name = \"PxPlot_PDF_SurveysPerSimilarity.pdf\"\n",
    "fig.write_image(F\"{folder_figures}{file_name}\")"
   ]
  },
  {
   "cell_type": "code",
   "execution_count": 4,
   "id": "d01fec20",
   "metadata": {},
   "outputs": [
    {
     "data": {
      "application/vnd.plotly.v1+json": {
       "config": {
        "plotlyServerURL": "https://plot.ly"
       },
       "data": [
        {
         "domain": {
          "x": [
           0,
           0.2888888888888889
          ],
          "y": [
           0.575,
           1
          ]
         },
         "hole": 0.4,
         "hoverinfo": "label+percent+name",
         "labels": [
          "None of the above",
          "Can infer correct Entity",
          "Can infer correct Quality",
          "Can infer correct Value"
         ],
         "marker": {
          "colors": [
           "#d62728",
           "#1f77b4",
           "goldenrod",
           "#2ca02c"
          ]
         },
         "name": "Jacc PlantNet",
         "sort": false,
         "type": "pie",
         "values": [
          80,
          46,
          11,
          77
         ]
        },
        {
         "domain": {
          "x": [
           0.35555555555555557,
           0.6444444444444445
          ],
          "y": [
           0.575,
           1
          ]
         },
         "hole": 0.4,
         "hoverinfo": "label+percent+name",
         "labels": [
          "None of the above",
          "Can infer correct Entity",
          "Can infer correct Quality",
          "Can infer correct Value"
         ],
         "marker": {
          "colors": [
           "#d62728",
           "#1f77b4",
           "goldenrod",
           "#2ca02c"
          ]
         },
         "name": "Jacc Caribbean",
         "sort": false,
         "type": "pie",
         "values": [
          53,
          113,
          23,
          77
         ]
        },
        {
         "domain": {
          "x": [
           0.7111111111111111,
           1
          ],
          "y": [
           0.575,
           1
          ]
         },
         "hole": 0.4,
         "hoverinfo": "label+percent+name",
         "labels": [
          "None of the above",
          "Can infer correct Entity",
          "Can infer correct Quality",
          "Can infer correct Value"
         ],
         "marker": {
          "colors": [
           "#d62728",
           "#1f77b4",
           "goldenrod",
           "#2ca02c"
          ]
         },
         "name": "Jacc Palm",
         "sort": false,
         "type": "pie",
         "values": [
          33,
          55,
          23,
          37
         ]
        },
        {
         "domain": {
          "x": [
           0,
           0.2888888888888889
          ],
          "y": [
           0,
           0.425
          ]
         },
         "hole": 0.4,
         "hoverinfo": "label+percent+name",
         "labels": [
          "None of the above",
          "Can infer correct Entity",
          "Can infer correct Quality",
          "Can infer correct Value"
         ],
         "marker": {
          "colors": [
           "#d62728",
           "#1f77b4",
           "goldenrod",
           "#2ca02c"
          ]
         },
         "name": "Bert PlantNet",
         "sort": false,
         "type": "pie",
         "values": [
          166,
          78,
          31,
          58
         ]
        },
        {
         "domain": {
          "x": [
           0.35555555555555557,
           0.6444444444444445
          ],
          "y": [
           0,
           0.425
          ]
         },
         "hole": 0.4,
         "hoverinfo": "label+percent+name",
         "labels": [
          "None of the above",
          "Can infer correct Entity",
          "Can infer correct Quality",
          "Can infer correct Value"
         ],
         "marker": {
          "colors": [
           "#d62728",
           "#1f77b4",
           "goldenrod",
           "#2ca02c"
          ]
         },
         "name": "Bert Caribbean",
         "sort": false,
         "type": "pie",
         "values": [
          113,
          84,
          21,
          65
         ]
        },
        {
         "domain": {
          "x": [
           0.7111111111111111,
           1
          ],
          "y": [
           0,
           0.425
          ]
         },
         "hole": 0.4,
         "hoverinfo": "label+percent+name",
         "labels": [
          "None of the above",
          "Can infer correct Entity",
          "Can infer correct Quality",
          "Can infer correct Value"
         ],
         "marker": {
          "colors": [
           "#d62728",
           "#1f77b4",
           "goldenrod",
           "#2ca02c"
          ]
         },
         "name": "Bert Palm",
         "sort": false,
         "type": "pie",
         "values": [
          48,
          37,
          12,
          38
         ]
        }
       ],
       "layout": {
        "annotations": [
         {
          "font": {
           "size": 15
          },
          "showarrow": false,
          "text": "PlantNet Dataset Bert",
          "x": 0.05,
          "y": 1.1
         },
         {
          "font": {
           "size": 15
          },
          "showarrow": false,
          "text": "Palm Dataset Bert",
          "x": 0.5,
          "y": 1.1
         },
         {
          "font": {
           "size": 15
          },
          "showarrow": false,
          "text": "Caribbean Dataset Bert",
          "x": 0.95,
          "y": 1.1
         },
         {
          "font": {
           "size": 15
          },
          "showarrow": false,
          "text": "PlantNet Dataset Jacc",
          "x": 0.05,
          "y": -0.12
         },
         {
          "font": {
           "size": 15
          },
          "showarrow": false,
          "text": "Palm Dataset Jacc",
          "x": 0.5,
          "y": -0.12
         },
         {
          "font": {
           "size": 15
          },
          "showarrow": false,
          "text": "Caribbean Dataset Jacc",
          "x": 0.95,
          "y": -0.12
         }
        ],
        "template": {
         "data": {
          "bar": [
           {
            "error_x": {
             "color": "#2a3f5f"
            },
            "error_y": {
             "color": "#2a3f5f"
            },
            "marker": {
             "line": {
              "color": "#E5ECF6",
              "width": 0.5
             },
             "pattern": {
              "fillmode": "overlay",
              "size": 10,
              "solidity": 0.2
             }
            },
            "type": "bar"
           }
          ],
          "barpolar": [
           {
            "marker": {
             "line": {
              "color": "#E5ECF6",
              "width": 0.5
             },
             "pattern": {
              "fillmode": "overlay",
              "size": 10,
              "solidity": 0.2
             }
            },
            "type": "barpolar"
           }
          ],
          "carpet": [
           {
            "aaxis": {
             "endlinecolor": "#2a3f5f",
             "gridcolor": "white",
             "linecolor": "white",
             "minorgridcolor": "white",
             "startlinecolor": "#2a3f5f"
            },
            "baxis": {
             "endlinecolor": "#2a3f5f",
             "gridcolor": "white",
             "linecolor": "white",
             "minorgridcolor": "white",
             "startlinecolor": "#2a3f5f"
            },
            "type": "carpet"
           }
          ],
          "choropleth": [
           {
            "colorbar": {
             "outlinewidth": 0,
             "ticks": ""
            },
            "type": "choropleth"
           }
          ],
          "contour": [
           {
            "colorbar": {
             "outlinewidth": 0,
             "ticks": ""
            },
            "colorscale": [
             [
              0,
              "#0d0887"
             ],
             [
              0.1111111111111111,
              "#46039f"
             ],
             [
              0.2222222222222222,
              "#7201a8"
             ],
             [
              0.3333333333333333,
              "#9c179e"
             ],
             [
              0.4444444444444444,
              "#bd3786"
             ],
             [
              0.5555555555555556,
              "#d8576b"
             ],
             [
              0.6666666666666666,
              "#ed7953"
             ],
             [
              0.7777777777777778,
              "#fb9f3a"
             ],
             [
              0.8888888888888888,
              "#fdca26"
             ],
             [
              1,
              "#f0f921"
             ]
            ],
            "type": "contour"
           }
          ],
          "contourcarpet": [
           {
            "colorbar": {
             "outlinewidth": 0,
             "ticks": ""
            },
            "type": "contourcarpet"
           }
          ],
          "heatmap": [
           {
            "colorbar": {
             "outlinewidth": 0,
             "ticks": ""
            },
            "colorscale": [
             [
              0,
              "#0d0887"
             ],
             [
              0.1111111111111111,
              "#46039f"
             ],
             [
              0.2222222222222222,
              "#7201a8"
             ],
             [
              0.3333333333333333,
              "#9c179e"
             ],
             [
              0.4444444444444444,
              "#bd3786"
             ],
             [
              0.5555555555555556,
              "#d8576b"
             ],
             [
              0.6666666666666666,
              "#ed7953"
             ],
             [
              0.7777777777777778,
              "#fb9f3a"
             ],
             [
              0.8888888888888888,
              "#fdca26"
             ],
             [
              1,
              "#f0f921"
             ]
            ],
            "type": "heatmap"
           }
          ],
          "heatmapgl": [
           {
            "colorbar": {
             "outlinewidth": 0,
             "ticks": ""
            },
            "colorscale": [
             [
              0,
              "#0d0887"
             ],
             [
              0.1111111111111111,
              "#46039f"
             ],
             [
              0.2222222222222222,
              "#7201a8"
             ],
             [
              0.3333333333333333,
              "#9c179e"
             ],
             [
              0.4444444444444444,
              "#bd3786"
             ],
             [
              0.5555555555555556,
              "#d8576b"
             ],
             [
              0.6666666666666666,
              "#ed7953"
             ],
             [
              0.7777777777777778,
              "#fb9f3a"
             ],
             [
              0.8888888888888888,
              "#fdca26"
             ],
             [
              1,
              "#f0f921"
             ]
            ],
            "type": "heatmapgl"
           }
          ],
          "histogram": [
           {
            "marker": {
             "pattern": {
              "fillmode": "overlay",
              "size": 10,
              "solidity": 0.2
             }
            },
            "type": "histogram"
           }
          ],
          "histogram2d": [
           {
            "colorbar": {
             "outlinewidth": 0,
             "ticks": ""
            },
            "colorscale": [
             [
              0,
              "#0d0887"
             ],
             [
              0.1111111111111111,
              "#46039f"
             ],
             [
              0.2222222222222222,
              "#7201a8"
             ],
             [
              0.3333333333333333,
              "#9c179e"
             ],
             [
              0.4444444444444444,
              "#bd3786"
             ],
             [
              0.5555555555555556,
              "#d8576b"
             ],
             [
              0.6666666666666666,
              "#ed7953"
             ],
             [
              0.7777777777777778,
              "#fb9f3a"
             ],
             [
              0.8888888888888888,
              "#fdca26"
             ],
             [
              1,
              "#f0f921"
             ]
            ],
            "type": "histogram2d"
           }
          ],
          "histogram2dcontour": [
           {
            "colorbar": {
             "outlinewidth": 0,
             "ticks": ""
            },
            "colorscale": [
             [
              0,
              "#0d0887"
             ],
             [
              0.1111111111111111,
              "#46039f"
             ],
             [
              0.2222222222222222,
              "#7201a8"
             ],
             [
              0.3333333333333333,
              "#9c179e"
             ],
             [
              0.4444444444444444,
              "#bd3786"
             ],
             [
              0.5555555555555556,
              "#d8576b"
             ],
             [
              0.6666666666666666,
              "#ed7953"
             ],
             [
              0.7777777777777778,
              "#fb9f3a"
             ],
             [
              0.8888888888888888,
              "#fdca26"
             ],
             [
              1,
              "#f0f921"
             ]
            ],
            "type": "histogram2dcontour"
           }
          ],
          "mesh3d": [
           {
            "colorbar": {
             "outlinewidth": 0,
             "ticks": ""
            },
            "type": "mesh3d"
           }
          ],
          "parcoords": [
           {
            "line": {
             "colorbar": {
              "outlinewidth": 0,
              "ticks": ""
             }
            },
            "type": "parcoords"
           }
          ],
          "pie": [
           {
            "automargin": true,
            "type": "pie"
           }
          ],
          "scatter": [
           {
            "fillpattern": {
             "fillmode": "overlay",
             "size": 10,
             "solidity": 0.2
            },
            "type": "scatter"
           }
          ],
          "scatter3d": [
           {
            "line": {
             "colorbar": {
              "outlinewidth": 0,
              "ticks": ""
             }
            },
            "marker": {
             "colorbar": {
              "outlinewidth": 0,
              "ticks": ""
             }
            },
            "type": "scatter3d"
           }
          ],
          "scattercarpet": [
           {
            "marker": {
             "colorbar": {
              "outlinewidth": 0,
              "ticks": ""
             }
            },
            "type": "scattercarpet"
           }
          ],
          "scattergeo": [
           {
            "marker": {
             "colorbar": {
              "outlinewidth": 0,
              "ticks": ""
             }
            },
            "type": "scattergeo"
           }
          ],
          "scattergl": [
           {
            "marker": {
             "colorbar": {
              "outlinewidth": 0,
              "ticks": ""
             }
            },
            "type": "scattergl"
           }
          ],
          "scattermapbox": [
           {
            "marker": {
             "colorbar": {
              "outlinewidth": 0,
              "ticks": ""
             }
            },
            "type": "scattermapbox"
           }
          ],
          "scatterpolar": [
           {
            "marker": {
             "colorbar": {
              "outlinewidth": 0,
              "ticks": ""
             }
            },
            "type": "scatterpolar"
           }
          ],
          "scatterpolargl": [
           {
            "marker": {
             "colorbar": {
              "outlinewidth": 0,
              "ticks": ""
             }
            },
            "type": "scatterpolargl"
           }
          ],
          "scatterternary": [
           {
            "marker": {
             "colorbar": {
              "outlinewidth": 0,
              "ticks": ""
             }
            },
            "type": "scatterternary"
           }
          ],
          "surface": [
           {
            "colorbar": {
             "outlinewidth": 0,
             "ticks": ""
            },
            "colorscale": [
             [
              0,
              "#0d0887"
             ],
             [
              0.1111111111111111,
              "#46039f"
             ],
             [
              0.2222222222222222,
              "#7201a8"
             ],
             [
              0.3333333333333333,
              "#9c179e"
             ],
             [
              0.4444444444444444,
              "#bd3786"
             ],
             [
              0.5555555555555556,
              "#d8576b"
             ],
             [
              0.6666666666666666,
              "#ed7953"
             ],
             [
              0.7777777777777778,
              "#fb9f3a"
             ],
             [
              0.8888888888888888,
              "#fdca26"
             ],
             [
              1,
              "#f0f921"
             ]
            ],
            "type": "surface"
           }
          ],
          "table": [
           {
            "cells": {
             "fill": {
              "color": "#EBF0F8"
             },
             "line": {
              "color": "white"
             }
            },
            "header": {
             "fill": {
              "color": "#C8D4E3"
             },
             "line": {
              "color": "white"
             }
            },
            "type": "table"
           }
          ]
         },
         "layout": {
          "annotationdefaults": {
           "arrowcolor": "#2a3f5f",
           "arrowhead": 0,
           "arrowwidth": 1
          },
          "autotypenumbers": "strict",
          "coloraxis": {
           "colorbar": {
            "outlinewidth": 0,
            "ticks": ""
           }
          },
          "colorscale": {
           "diverging": [
            [
             0,
             "#8e0152"
            ],
            [
             0.1,
             "#c51b7d"
            ],
            [
             0.2,
             "#de77ae"
            ],
            [
             0.3,
             "#f1b6da"
            ],
            [
             0.4,
             "#fde0ef"
            ],
            [
             0.5,
             "#f7f7f7"
            ],
            [
             0.6,
             "#e6f5d0"
            ],
            [
             0.7,
             "#b8e186"
            ],
            [
             0.8,
             "#7fbc41"
            ],
            [
             0.9,
             "#4d9221"
            ],
            [
             1,
             "#276419"
            ]
           ],
           "sequential": [
            [
             0,
             "#0d0887"
            ],
            [
             0.1111111111111111,
             "#46039f"
            ],
            [
             0.2222222222222222,
             "#7201a8"
            ],
            [
             0.3333333333333333,
             "#9c179e"
            ],
            [
             0.4444444444444444,
             "#bd3786"
            ],
            [
             0.5555555555555556,
             "#d8576b"
            ],
            [
             0.6666666666666666,
             "#ed7953"
            ],
            [
             0.7777777777777778,
             "#fb9f3a"
            ],
            [
             0.8888888888888888,
             "#fdca26"
            ],
            [
             1,
             "#f0f921"
            ]
           ],
           "sequentialminus": [
            [
             0,
             "#0d0887"
            ],
            [
             0.1111111111111111,
             "#46039f"
            ],
            [
             0.2222222222222222,
             "#7201a8"
            ],
            [
             0.3333333333333333,
             "#9c179e"
            ],
            [
             0.4444444444444444,
             "#bd3786"
            ],
            [
             0.5555555555555556,
             "#d8576b"
            ],
            [
             0.6666666666666666,
             "#ed7953"
            ],
            [
             0.7777777777777778,
             "#fb9f3a"
            ],
            [
             0.8888888888888888,
             "#fdca26"
            ],
            [
             1,
             "#f0f921"
            ]
           ]
          },
          "colorway": [
           "#636efa",
           "#EF553B",
           "#00cc96",
           "#ab63fa",
           "#FFA15A",
           "#19d3f3",
           "#FF6692",
           "#B6E880",
           "#FF97FF",
           "#FECB52"
          ],
          "font": {
           "color": "#2a3f5f"
          },
          "geo": {
           "bgcolor": "white",
           "lakecolor": "white",
           "landcolor": "#E5ECF6",
           "showlakes": true,
           "showland": true,
           "subunitcolor": "white"
          },
          "hoverlabel": {
           "align": "left"
          },
          "hovermode": "closest",
          "mapbox": {
           "style": "light"
          },
          "paper_bgcolor": "white",
          "plot_bgcolor": "#E5ECF6",
          "polar": {
           "angularaxis": {
            "gridcolor": "white",
            "linecolor": "white",
            "ticks": ""
           },
           "bgcolor": "#E5ECF6",
           "radialaxis": {
            "gridcolor": "white",
            "linecolor": "white",
            "ticks": ""
           }
          },
          "scene": {
           "xaxis": {
            "backgroundcolor": "#E5ECF6",
            "gridcolor": "white",
            "gridwidth": 2,
            "linecolor": "white",
            "showbackground": true,
            "ticks": "",
            "zerolinecolor": "white"
           },
           "yaxis": {
            "backgroundcolor": "#E5ECF6",
            "gridcolor": "white",
            "gridwidth": 2,
            "linecolor": "white",
            "showbackground": true,
            "ticks": "",
            "zerolinecolor": "white"
           },
           "zaxis": {
            "backgroundcolor": "#E5ECF6",
            "gridcolor": "white",
            "gridwidth": 2,
            "linecolor": "white",
            "showbackground": true,
            "ticks": "",
            "zerolinecolor": "white"
           }
          },
          "shapedefaults": {
           "line": {
            "color": "#2a3f5f"
           }
          },
          "ternary": {
           "aaxis": {
            "gridcolor": "white",
            "linecolor": "white",
            "ticks": ""
           },
           "baxis": {
            "gridcolor": "white",
            "linecolor": "white",
            "ticks": ""
           },
           "bgcolor": "#E5ECF6",
           "caxis": {
            "gridcolor": "white",
            "linecolor": "white",
            "ticks": ""
           }
          },
          "title": {
           "x": 0.05
          },
          "xaxis": {
           "automargin": true,
           "gridcolor": "white",
           "linecolor": "white",
           "ticks": "",
           "title": {
            "standoff": 15
           },
           "zerolinecolor": "white",
           "zerolinewidth": 2
          },
          "yaxis": {
           "automargin": true,
           "gridcolor": "white",
           "linecolor": "white",
           "ticks": "",
           "title": {
            "standoff": 15
           },
           "zerolinecolor": "white",
           "zerolinewidth": 2
          }
         }
        }
       }
      }
     },
     "metadata": {},
     "output_type": "display_data"
    }
   ],
   "source": [
    "\n",
    "# Create subplots: use 'domain' type for Pie subplot\n",
    "fig = make_subplots(rows=2, cols=3, specs=[[{'type':'domain'}, {'type':'domain'}, {'type':'domain'}],\n",
    "                                           [{'type':'domain'}, {'type':'domain'}, {'type':'domain'}]])\n",
    "\n",
    "# Add pie charts to each subplot\n",
    "for i, sim in enumerate(df[\"SIM\"].unique()):\n",
    "    for j, dataset in enumerate(df[\"Dataset\"].unique()):\n",
    "        df_sub = df[(df[\"SIM\"] == sim) & (df[\"Dataset\"] == dataset)]\n",
    "        fig.add_trace(go.Pie(labels=labels, \n",
    "                             values=df_sub.groupby(\"Result\").count().loc[labels, 'Species'].values,\n",
    "                             name=sim + ' ' + dataset,\n",
    "                             sort=False,\n",
    "                             marker_colors=colors),\n",
    "                      i+1, j+1)\n",
    "\n",
    "# Use `hole` to create a donut-like pie chart\n",
    "fig.update_traces(hole=.4, hoverinfo=\"label+percent+name\")\n",
    "\n",
    "fig.update_layout(\n",
    "    # title_text=\"Trait Annotation\",\n",
    "    # Add annotations in the center of the donut pies.\n",
    "    annotations=[dict(text='PlantNet Dataset Bert',  x=0.050, y=1.1, font_size=15, showarrow=False),\n",
    "                 dict(text='Palm Dataset Bert',      x=0.500, y=1.1, font_size=15, showarrow=False),\n",
    "                 dict(text='Caribbean Dataset Bert', x=0.950, y=1.1, font_size=15, showarrow=False),\n",
    "                 dict(text='PlantNet Dataset Jacc',  x=0.050, y=-0.12, font_size=15, showarrow=False),\n",
    "                 dict(text='Palm Dataset Jacc',      x=0.500, y=-0.12, font_size=15, showarrow=False),\n",
    "                 dict(text='Caribbean Dataset Jacc', x=0.950, y=-0.12, font_size=15, showarrow=False)]\n",
    ")\n",
    "\n",
    "fig.show()\n",
    "\n",
    "folder_figures = \"../../../reports/figures/\"\n",
    "file_name = \"PxPlot_HTML_SurveysPerDatasetPerSimilarity.html\"\n",
    "fig.write_html(F\"{folder_figures}{file_name}\")\n",
    "file_name = \"PxPlot_PDF_SurveysPerDatasetPerSimilarity.pdf\"\n",
    "fig.write_image(F\"{folder_figures}{file_name}\")"
   ]
  },
  {
   "cell_type": "code",
   "execution_count": 5,
   "id": "e6b47461",
   "metadata": {},
   "outputs": [
    {
     "data": {
      "application/vnd.plotly.v1+json": {
       "config": {
        "plotlyServerURL": "https://plot.ly"
       },
       "data": [
        {
         "direction": "clockwise",
         "domain": {
          "x": [
           0,
           0.2888888888888889
          ],
          "y": [
           0,
           1
          ]
         },
         "hole": 0.6,
         "hoverinfo": "label+percent+value",
         "labels": [
          "None of the above",
          "Can infer correct Entity",
          "Can infer correct Quality",
          "Can infer correct Value"
         ],
         "marker": {
          "colors": [
           "#d62728",
           "#1f77b4",
           "goldenrod",
           "#2ca02c"
          ]
         },
         "name": "PlantNet",
         "sort": false,
         "type": "pie",
         "values": [
          246,
          124,
          42,
          135
         ]
        },
        {
         "direction": "clockwise",
         "domain": {
          "x": [
           0.35555555555555557,
           0.6444444444444445
          ],
          "y": [
           0,
           1
          ]
         },
         "hole": 0.6,
         "hoverinfo": "label+percent+value",
         "labels": [
          "None of the above",
          "Can infer correct Entity",
          "Can infer correct Quality",
          "Can infer correct Value"
         ],
         "marker": {
          "colors": [
           "#d62728",
           "#1f77b4",
           "goldenrod",
           "#2ca02c"
          ]
         },
         "name": "Caribbean",
         "sort": false,
         "type": "pie",
         "values": [
          166,
          197,
          44,
          142
         ]
        },
        {
         "direction": "clockwise",
         "domain": {
          "x": [
           0.7111111111111111,
           1
          ],
          "y": [
           0,
           1
          ]
         },
         "hole": 0.6,
         "hoverinfo": "label+percent+value",
         "labels": [
          "None of the above",
          "Can infer correct Entity",
          "Can infer correct Quality",
          "Can infer correct Value"
         ],
         "marker": {
          "colors": [
           "#d62728",
           "#1f77b4",
           "goldenrod",
           "#2ca02c"
          ]
         },
         "name": "Palm",
         "sort": false,
         "type": "pie",
         "values": [
          81,
          92,
          35,
          75
         ]
        }
       ],
       "layout": {
        "annotations": [
         {
          "font": {
           "size": 15
          },
          "showarrow": false,
          "text": "PlantNet Dataset",
          "x": 0.09,
          "y": 0.5
         },
         {
          "font": {
           "size": 15
          },
          "showarrow": false,
          "text": "Palm Dataset",
          "x": 0.5,
          "y": 0.5
         },
         {
          "font": {
           "size": 15
          },
          "showarrow": false,
          "text": "Caribbean Dataset",
          "x": 0.915,
          "y": 0.5
         }
        ],
        "template": {
         "data": {
          "bar": [
           {
            "error_x": {
             "color": "#2a3f5f"
            },
            "error_y": {
             "color": "#2a3f5f"
            },
            "marker": {
             "line": {
              "color": "#E5ECF6",
              "width": 0.5
             },
             "pattern": {
              "fillmode": "overlay",
              "size": 10,
              "solidity": 0.2
             }
            },
            "type": "bar"
           }
          ],
          "barpolar": [
           {
            "marker": {
             "line": {
              "color": "#E5ECF6",
              "width": 0.5
             },
             "pattern": {
              "fillmode": "overlay",
              "size": 10,
              "solidity": 0.2
             }
            },
            "type": "barpolar"
           }
          ],
          "carpet": [
           {
            "aaxis": {
             "endlinecolor": "#2a3f5f",
             "gridcolor": "white",
             "linecolor": "white",
             "minorgridcolor": "white",
             "startlinecolor": "#2a3f5f"
            },
            "baxis": {
             "endlinecolor": "#2a3f5f",
             "gridcolor": "white",
             "linecolor": "white",
             "minorgridcolor": "white",
             "startlinecolor": "#2a3f5f"
            },
            "type": "carpet"
           }
          ],
          "choropleth": [
           {
            "colorbar": {
             "outlinewidth": 0,
             "ticks": ""
            },
            "type": "choropleth"
           }
          ],
          "contour": [
           {
            "colorbar": {
             "outlinewidth": 0,
             "ticks": ""
            },
            "colorscale": [
             [
              0,
              "#0d0887"
             ],
             [
              0.1111111111111111,
              "#46039f"
             ],
             [
              0.2222222222222222,
              "#7201a8"
             ],
             [
              0.3333333333333333,
              "#9c179e"
             ],
             [
              0.4444444444444444,
              "#bd3786"
             ],
             [
              0.5555555555555556,
              "#d8576b"
             ],
             [
              0.6666666666666666,
              "#ed7953"
             ],
             [
              0.7777777777777778,
              "#fb9f3a"
             ],
             [
              0.8888888888888888,
              "#fdca26"
             ],
             [
              1,
              "#f0f921"
             ]
            ],
            "type": "contour"
           }
          ],
          "contourcarpet": [
           {
            "colorbar": {
             "outlinewidth": 0,
             "ticks": ""
            },
            "type": "contourcarpet"
           }
          ],
          "heatmap": [
           {
            "colorbar": {
             "outlinewidth": 0,
             "ticks": ""
            },
            "colorscale": [
             [
              0,
              "#0d0887"
             ],
             [
              0.1111111111111111,
              "#46039f"
             ],
             [
              0.2222222222222222,
              "#7201a8"
             ],
             [
              0.3333333333333333,
              "#9c179e"
             ],
             [
              0.4444444444444444,
              "#bd3786"
             ],
             [
              0.5555555555555556,
              "#d8576b"
             ],
             [
              0.6666666666666666,
              "#ed7953"
             ],
             [
              0.7777777777777778,
              "#fb9f3a"
             ],
             [
              0.8888888888888888,
              "#fdca26"
             ],
             [
              1,
              "#f0f921"
             ]
            ],
            "type": "heatmap"
           }
          ],
          "heatmapgl": [
           {
            "colorbar": {
             "outlinewidth": 0,
             "ticks": ""
            },
            "colorscale": [
             [
              0,
              "#0d0887"
             ],
             [
              0.1111111111111111,
              "#46039f"
             ],
             [
              0.2222222222222222,
              "#7201a8"
             ],
             [
              0.3333333333333333,
              "#9c179e"
             ],
             [
              0.4444444444444444,
              "#bd3786"
             ],
             [
              0.5555555555555556,
              "#d8576b"
             ],
             [
              0.6666666666666666,
              "#ed7953"
             ],
             [
              0.7777777777777778,
              "#fb9f3a"
             ],
             [
              0.8888888888888888,
              "#fdca26"
             ],
             [
              1,
              "#f0f921"
             ]
            ],
            "type": "heatmapgl"
           }
          ],
          "histogram": [
           {
            "marker": {
             "pattern": {
              "fillmode": "overlay",
              "size": 10,
              "solidity": 0.2
             }
            },
            "type": "histogram"
           }
          ],
          "histogram2d": [
           {
            "colorbar": {
             "outlinewidth": 0,
             "ticks": ""
            },
            "colorscale": [
             [
              0,
              "#0d0887"
             ],
             [
              0.1111111111111111,
              "#46039f"
             ],
             [
              0.2222222222222222,
              "#7201a8"
             ],
             [
              0.3333333333333333,
              "#9c179e"
             ],
             [
              0.4444444444444444,
              "#bd3786"
             ],
             [
              0.5555555555555556,
              "#d8576b"
             ],
             [
              0.6666666666666666,
              "#ed7953"
             ],
             [
              0.7777777777777778,
              "#fb9f3a"
             ],
             [
              0.8888888888888888,
              "#fdca26"
             ],
             [
              1,
              "#f0f921"
             ]
            ],
            "type": "histogram2d"
           }
          ],
          "histogram2dcontour": [
           {
            "colorbar": {
             "outlinewidth": 0,
             "ticks": ""
            },
            "colorscale": [
             [
              0,
              "#0d0887"
             ],
             [
              0.1111111111111111,
              "#46039f"
             ],
             [
              0.2222222222222222,
              "#7201a8"
             ],
             [
              0.3333333333333333,
              "#9c179e"
             ],
             [
              0.4444444444444444,
              "#bd3786"
             ],
             [
              0.5555555555555556,
              "#d8576b"
             ],
             [
              0.6666666666666666,
              "#ed7953"
             ],
             [
              0.7777777777777778,
              "#fb9f3a"
             ],
             [
              0.8888888888888888,
              "#fdca26"
             ],
             [
              1,
              "#f0f921"
             ]
            ],
            "type": "histogram2dcontour"
           }
          ],
          "mesh3d": [
           {
            "colorbar": {
             "outlinewidth": 0,
             "ticks": ""
            },
            "type": "mesh3d"
           }
          ],
          "parcoords": [
           {
            "line": {
             "colorbar": {
              "outlinewidth": 0,
              "ticks": ""
             }
            },
            "type": "parcoords"
           }
          ],
          "pie": [
           {
            "automargin": true,
            "type": "pie"
           }
          ],
          "scatter": [
           {
            "fillpattern": {
             "fillmode": "overlay",
             "size": 10,
             "solidity": 0.2
            },
            "type": "scatter"
           }
          ],
          "scatter3d": [
           {
            "line": {
             "colorbar": {
              "outlinewidth": 0,
              "ticks": ""
             }
            },
            "marker": {
             "colorbar": {
              "outlinewidth": 0,
              "ticks": ""
             }
            },
            "type": "scatter3d"
           }
          ],
          "scattercarpet": [
           {
            "marker": {
             "colorbar": {
              "outlinewidth": 0,
              "ticks": ""
             }
            },
            "type": "scattercarpet"
           }
          ],
          "scattergeo": [
           {
            "marker": {
             "colorbar": {
              "outlinewidth": 0,
              "ticks": ""
             }
            },
            "type": "scattergeo"
           }
          ],
          "scattergl": [
           {
            "marker": {
             "colorbar": {
              "outlinewidth": 0,
              "ticks": ""
             }
            },
            "type": "scattergl"
           }
          ],
          "scattermapbox": [
           {
            "marker": {
             "colorbar": {
              "outlinewidth": 0,
              "ticks": ""
             }
            },
            "type": "scattermapbox"
           }
          ],
          "scatterpolar": [
           {
            "marker": {
             "colorbar": {
              "outlinewidth": 0,
              "ticks": ""
             }
            },
            "type": "scatterpolar"
           }
          ],
          "scatterpolargl": [
           {
            "marker": {
             "colorbar": {
              "outlinewidth": 0,
              "ticks": ""
             }
            },
            "type": "scatterpolargl"
           }
          ],
          "scatterternary": [
           {
            "marker": {
             "colorbar": {
              "outlinewidth": 0,
              "ticks": ""
             }
            },
            "type": "scatterternary"
           }
          ],
          "surface": [
           {
            "colorbar": {
             "outlinewidth": 0,
             "ticks": ""
            },
            "colorscale": [
             [
              0,
              "#0d0887"
             ],
             [
              0.1111111111111111,
              "#46039f"
             ],
             [
              0.2222222222222222,
              "#7201a8"
             ],
             [
              0.3333333333333333,
              "#9c179e"
             ],
             [
              0.4444444444444444,
              "#bd3786"
             ],
             [
              0.5555555555555556,
              "#d8576b"
             ],
             [
              0.6666666666666666,
              "#ed7953"
             ],
             [
              0.7777777777777778,
              "#fb9f3a"
             ],
             [
              0.8888888888888888,
              "#fdca26"
             ],
             [
              1,
              "#f0f921"
             ]
            ],
            "type": "surface"
           }
          ],
          "table": [
           {
            "cells": {
             "fill": {
              "color": "#EBF0F8"
             },
             "line": {
              "color": "white"
             }
            },
            "header": {
             "fill": {
              "color": "#C8D4E3"
             },
             "line": {
              "color": "white"
             }
            },
            "type": "table"
           }
          ]
         },
         "layout": {
          "annotationdefaults": {
           "arrowcolor": "#2a3f5f",
           "arrowhead": 0,
           "arrowwidth": 1
          },
          "autotypenumbers": "strict",
          "coloraxis": {
           "colorbar": {
            "outlinewidth": 0,
            "ticks": ""
           }
          },
          "colorscale": {
           "diverging": [
            [
             0,
             "#8e0152"
            ],
            [
             0.1,
             "#c51b7d"
            ],
            [
             0.2,
             "#de77ae"
            ],
            [
             0.3,
             "#f1b6da"
            ],
            [
             0.4,
             "#fde0ef"
            ],
            [
             0.5,
             "#f7f7f7"
            ],
            [
             0.6,
             "#e6f5d0"
            ],
            [
             0.7,
             "#b8e186"
            ],
            [
             0.8,
             "#7fbc41"
            ],
            [
             0.9,
             "#4d9221"
            ],
            [
             1,
             "#276419"
            ]
           ],
           "sequential": [
            [
             0,
             "#0d0887"
            ],
            [
             0.1111111111111111,
             "#46039f"
            ],
            [
             0.2222222222222222,
             "#7201a8"
            ],
            [
             0.3333333333333333,
             "#9c179e"
            ],
            [
             0.4444444444444444,
             "#bd3786"
            ],
            [
             0.5555555555555556,
             "#d8576b"
            ],
            [
             0.6666666666666666,
             "#ed7953"
            ],
            [
             0.7777777777777778,
             "#fb9f3a"
            ],
            [
             0.8888888888888888,
             "#fdca26"
            ],
            [
             1,
             "#f0f921"
            ]
           ],
           "sequentialminus": [
            [
             0,
             "#0d0887"
            ],
            [
             0.1111111111111111,
             "#46039f"
            ],
            [
             0.2222222222222222,
             "#7201a8"
            ],
            [
             0.3333333333333333,
             "#9c179e"
            ],
            [
             0.4444444444444444,
             "#bd3786"
            ],
            [
             0.5555555555555556,
             "#d8576b"
            ],
            [
             0.6666666666666666,
             "#ed7953"
            ],
            [
             0.7777777777777778,
             "#fb9f3a"
            ],
            [
             0.8888888888888888,
             "#fdca26"
            ],
            [
             1,
             "#f0f921"
            ]
           ]
          },
          "colorway": [
           "#636efa",
           "#EF553B",
           "#00cc96",
           "#ab63fa",
           "#FFA15A",
           "#19d3f3",
           "#FF6692",
           "#B6E880",
           "#FF97FF",
           "#FECB52"
          ],
          "font": {
           "color": "#2a3f5f"
          },
          "geo": {
           "bgcolor": "white",
           "lakecolor": "white",
           "landcolor": "#E5ECF6",
           "showlakes": true,
           "showland": true,
           "subunitcolor": "white"
          },
          "hoverlabel": {
           "align": "left"
          },
          "hovermode": "closest",
          "mapbox": {
           "style": "light"
          },
          "paper_bgcolor": "white",
          "plot_bgcolor": "#E5ECF6",
          "polar": {
           "angularaxis": {
            "gridcolor": "white",
            "linecolor": "white",
            "ticks": ""
           },
           "bgcolor": "#E5ECF6",
           "radialaxis": {
            "gridcolor": "white",
            "linecolor": "white",
            "ticks": ""
           }
          },
          "scene": {
           "xaxis": {
            "backgroundcolor": "#E5ECF6",
            "gridcolor": "white",
            "gridwidth": 2,
            "linecolor": "white",
            "showbackground": true,
            "ticks": "",
            "zerolinecolor": "white"
           },
           "yaxis": {
            "backgroundcolor": "#E5ECF6",
            "gridcolor": "white",
            "gridwidth": 2,
            "linecolor": "white",
            "showbackground": true,
            "ticks": "",
            "zerolinecolor": "white"
           },
           "zaxis": {
            "backgroundcolor": "#E5ECF6",
            "gridcolor": "white",
            "gridwidth": 2,
            "linecolor": "white",
            "showbackground": true,
            "ticks": "",
            "zerolinecolor": "white"
           }
          },
          "shapedefaults": {
           "line": {
            "color": "#2a3f5f"
           }
          },
          "ternary": {
           "aaxis": {
            "gridcolor": "white",
            "linecolor": "white",
            "ticks": ""
           },
           "baxis": {
            "gridcolor": "white",
            "linecolor": "white",
            "ticks": ""
           },
           "bgcolor": "#E5ECF6",
           "caxis": {
            "gridcolor": "white",
            "linecolor": "white",
            "ticks": ""
           }
          },
          "title": {
           "x": 0.05
          },
          "xaxis": {
           "automargin": true,
           "gridcolor": "white",
           "linecolor": "white",
           "ticks": "",
           "title": {
            "standoff": 15
           },
           "zerolinecolor": "white",
           "zerolinewidth": 2
          },
          "yaxis": {
           "automargin": true,
           "gridcolor": "white",
           "linecolor": "white",
           "ticks": "",
           "title": {
            "standoff": 15
           },
           "zerolinecolor": "white",
           "zerolinewidth": 2
          }
         }
        }
       }
      }
     },
     "metadata": {},
     "output_type": "display_data"
    }
   ],
   "source": [
    "# Create subplots: use 'domain' type for Pie subplot\n",
    "fig = make_subplots(rows=1, cols=3, specs=[[{'type':'domain'}, {'type':'domain'}, {'type':'domain'}]])\n",
    "\n",
    "# Add pie charts to each subplot\n",
    "for i, dataset in enumerate(df[\"Dataset\"].unique()):\n",
    "    df_sub = df[df[\"Dataset\"] == dataset]\n",
    "    fig.add_trace(go.Pie(labels=labels, \n",
    "                            values=df_sub.groupby(\"Result\").count().loc[labels, 'Species'].values,\n",
    "                            name=dataset,\n",
    "                            direction ='clockwise',\n",
    "                            sort=False,\n",
    "                            marker_colors=colors),                   \n",
    "                    col=i+1, row=1,)\n",
    "\n",
    "# Use `hole` to create a donut-like pie chart\n",
    "fig.update_traces(hole=.6, hoverinfo=\"label+percent+value\")\n",
    "\n",
    "fig.update_layout(\n",
    "    # Add annotations in the center of the donut pies.\n",
    "    annotations=[dict(text='PlantNet Dataset',  x=0.09, y=0.5, font_size=15, showarrow=False),\n",
    "                 dict(text='Palm Dataset',      x=0.500, y=0.5, font_size=15, showarrow=False),\n",
    "                 dict(text='Caribbean Dataset', x=0.915, y=0.5, font_size=15, showarrow=False)]\n",
    "                 )\n",
    "\n",
    "fig.show()\n",
    "\n",
    "folder_figures = \"../../../reports/figures/\"\n",
    "file_name = \"PxPlot_HTML_SurveysPerDataset.html\"\n",
    "fig.write_html(F\"{folder_figures}{file_name}\")\n",
    "file_name = \"PxPlot_PDF_SurveysPerDataset.pdf\"\n",
    "fig.write_image(F\"{folder_figures}{file_name}\")"
   ]
  },
  {
   "attachments": {},
   "cell_type": "markdown",
   "id": "04c0d0a5",
   "metadata": {},
   "source": [
    "#### Percentage"
   ]
  },
  {
   "cell_type": "code",
   "execution_count": 52,
   "id": "b00f3cb3",
   "metadata": {},
   "outputs": [
    {
     "data": {
      "text/plain": [
       "{'None of the above': '#d62728',\n",
       " 'Can infer correct Entity': '#1f77b4',\n",
       " 'Can infer correct Quality': 'goldenrod',\n",
       " 'Can infer correct Value': '#2ca02c',\n",
       " 'Caribbean': 'darkblue',\n",
       " 'Palm': 'darkblue',\n",
       " 'PlantNet': 'darkblue'}"
      ]
     },
     "execution_count": 52,
     "metadata": {},
     "output_type": "execute_result"
    }
   ],
   "source": [
    "color_dict"
   ]
  },
  {
   "cell_type": "code",
   "execution_count": 125,
   "id": "cdd9151e",
   "metadata": {},
   "outputs": [
    {
     "data": {
      "application/vnd.plotly.v1+json": {
       "config": {
        "plotlyServerURL": "https://plot.ly"
       },
       "data": [
        {
         "branchvalues": "total",
         "customdata": [
          [
           "Can infer correct Entity"
          ],
          [
           "None of the above"
          ],
          [
           "Can infer correct Entity"
          ],
          [
           "Can infer correct Value"
          ],
          [
           "None of the above"
          ],
          [
           "Can infer correct Entity"
          ],
          [
           "Can infer correct Entity"
          ],
          [
           "Can infer correct Quality"
          ],
          [
           "Can infer correct Value"
          ],
          [
           "None of the above"
          ],
          [
           "Can infer correct Quality"
          ],
          [
           "Can infer correct Quality"
          ],
          [
           "Can infer correct Entity"
          ],
          [
           "Can infer correct Value"
          ],
          [
           "Can infer correct Quality"
          ],
          [
           "Can infer correct Quality"
          ],
          [
           "Can infer correct Value"
          ],
          [
           "Can infer correct Quality"
          ],
          [
           "None of the above"
          ],
          [
           "Can infer correct Quality"
          ],
          [
           "None of the above"
          ],
          [
           "Can infer correct Value"
          ],
          [
           "Can infer correct Value"
          ],
          [
           "Can infer correct Value"
          ],
          [
           "Can infer correct Value"
          ],
          [
           "Can infer correct Value"
          ],
          [
           "None of the above"
          ],
          [
           "Can infer correct Value"
          ],
          [
           "Can infer correct Entity"
          ],
          [
           "None of the above"
          ],
          [
           "Can infer correct Entity"
          ],
          [
           "None of the above"
          ],
          [
           "None of the above"
          ],
          [
           "Can infer correct Entity"
          ],
          [
           "None of the above"
          ],
          [
           "Can infer correct Entity"
          ],
          [
           "None of the above"
          ],
          [
           "Can infer correct Entity"
          ],
          [
           "Can infer correct Value"
          ],
          [
           "Can infer correct Entity"
          ],
          [
           "Can infer correct Value"
          ],
          [
           "Can infer correct Entity"
          ],
          [
           "Can infer correct Value"
          ],
          [
           "None of the above"
          ],
          [
           "Can infer correct Entity"
          ],
          [
           "Can infer correct Entity"
          ],
          [
           "None of the above"
          ],
          [
           "Can infer correct Value"
          ],
          [
           "Can infer correct Quality"
          ],
          [
           "Can infer correct Value"
          ],
          [
           "Can infer correct Entity"
          ],
          [
           "Can infer correct Quality"
          ],
          [
           "Can infer correct Value"
          ],
          [
           "Can infer correct Value"
          ],
          [
           "None of the above"
          ],
          [
           "Can infer correct Value"
          ],
          [
           "None of the above"
          ],
          [
           "Can infer correct Quality"
          ],
          [
           "Can infer correct Value"
          ],
          [
           "Can infer correct Value"
          ],
          [
           "None of the above"
          ],
          [
           "Can infer correct Quality"
          ],
          [
           "None of the above"
          ],
          [
           "Can infer correct Entity"
          ],
          [
           "Can infer correct Entity"
          ],
          [
           "Can infer correct Entity"
          ],
          [
           "Can infer correct Quality"
          ],
          [
           "Can infer correct Value"
          ],
          [
           "None of the above"
          ],
          [
           "Can infer correct Value"
          ],
          [
           "Can infer correct Entity"
          ],
          [
           "Can infer correct Quality"
          ],
          [
           "Can infer correct Value"
          ],
          [
           "Can infer correct Value"
          ],
          [
           "Can infer correct Value"
          ],
          [
           "Can infer correct Value"
          ],
          [
           "None of the above"
          ],
          [
           "Can infer correct Value"
          ],
          [
           "Can infer correct Value"
          ],
          [
           "None of the above"
          ],
          [
           "Can infer correct Value"
          ],
          [
           "Can infer correct Value"
          ],
          [
           "None of the above"
          ],
          [
           "None of the above"
          ],
          [
           "Can infer correct Quality"
          ],
          [
           "Can infer correct Value"
          ],
          [
           "None of the above"
          ],
          [
           "Can infer correct Entity"
          ],
          [
           "Can infer correct Entity"
          ],
          [
           "Can infer correct Entity"
          ],
          [
           "Can infer correct Entity"
          ],
          [
           "None of the above"
          ],
          [
           "None of the above"
          ],
          [
           "Can infer correct Entity"
          ],
          [
           "Can infer correct Entity"
          ],
          [
           "None of the above"
          ],
          [
           "Can infer correct Entity"
          ],
          [
           "Can infer correct Entity"
          ],
          [
           "Can infer correct Entity"
          ],
          [
           "Can infer correct Entity"
          ],
          [
           "Can infer correct Entity"
          ],
          [
           "Can infer correct Quality"
          ],
          [
           "Can infer correct Entity"
          ],
          [
           "Can infer correct Quality"
          ],
          [
           "None of the above"
          ],
          [
           "Can infer correct Value"
          ],
          [
           "Can infer correct Value"
          ],
          [
           "Can infer correct Value"
          ],
          [
           "Can infer correct Quality"
          ],
          [
           "Can infer correct Quality"
          ],
          [
           "None of the above"
          ],
          [
           "None of the above"
          ],
          [
           "None of the above"
          ],
          [
           "Can infer correct Quality"
          ],
          [
           "Can infer correct Quality"
          ],
          [
           "Can infer correct Quality"
          ],
          [
           "None of the above"
          ],
          [
           "None of the above"
          ],
          [
           "None of the above"
          ],
          [
           "None of the above"
          ],
          [
           "None of the above"
          ],
          [
           "None of the above"
          ],
          [
           "None of the above"
          ],
          [
           "None of the above"
          ],
          [
           "None of the above"
          ],
          [
           "None of the above"
          ],
          [
           "Can infer correct Value"
          ],
          [
           "None of the above"
          ],
          [
           "Can infer correct Entity"
          ],
          [
           "Can infer correct Entity"
          ],
          [
           "Can infer correct Entity"
          ],
          [
           "Can infer correct Entity"
          ],
          [
           "Can infer correct Entity"
          ],
          [
           "Can infer correct Entity"
          ],
          [
           "Can infer correct Entity"
          ],
          [
           "Can infer correct Entity"
          ],
          [
           "Can infer correct Entity"
          ],
          [
           "Can infer correct Entity"
          ],
          [
           "Can infer correct Entity"
          ],
          [
           "Can infer correct Quality"
          ],
          [
           "Can infer correct Quality"
          ],
          [
           "Can infer correct Quality"
          ],
          [
           "Can infer correct Quality"
          ],
          [
           "Can infer correct Quality"
          ],
          [
           "Can infer correct Quality"
          ],
          [
           "None of the above"
          ],
          [
           "Can infer correct Value"
          ],
          [
           "Can infer correct Value"
          ],
          [
           "Can infer correct Value"
          ],
          [
           "Can infer correct Value"
          ],
          [
           "Can infer correct Value"
          ],
          [
           "None of the above"
          ],
          [
           "Can infer correct Value"
          ],
          [
           "Can infer correct Value"
          ],
          [
           "Can infer correct Value"
          ],
          [
           "Can infer correct Value"
          ],
          [
           "Can infer correct Quality"
          ],
          [
           "Can infer correct Quality"
          ],
          [
           "Can infer correct Quality"
          ],
          [
           "Can infer correct Value"
          ],
          [
           "None of the above"
          ],
          [
           "(?)"
          ],
          [
           "(?)"
          ],
          [
           "(?)"
          ],
          [
           "(?)"
          ],
          [
           "(?)"
          ],
          [
           "(?)"
          ],
          [
           "(?)"
          ],
          [
           "(?)"
          ],
          [
           "(?)"
          ],
          [
           "(?)"
          ],
          [
           "(?)"
          ],
          [
           "(?)"
          ],
          [
           "(?)"
          ],
          [
           "(?)"
          ],
          [
           "(?)"
          ],
          [
           "(?)"
          ],
          [
           "(?)"
          ],
          [
           "(?)"
          ],
          [
           "(?)"
          ],
          [
           "(?)"
          ],
          [
           "(?)"
          ],
          [
           "(?)"
          ],
          [
           "(?)"
          ],
          [
           "(?)"
          ],
          [
           "(?)"
          ],
          [
           "(?)"
          ],
          [
           "(?)"
          ],
          [
           "Can infer correct Entity"
          ],
          [
           "(?)"
          ],
          [
           "(?)"
          ],
          [
           "(?)"
          ],
          [
           "(?)"
          ],
          [
           "(?)"
          ],
          [
           "(?)"
          ],
          [
           "(?)"
          ],
          [
           "(?)"
          ],
          [
           "(?)"
          ],
          [
           "(?)"
          ],
          [
           "(?)"
          ],
          [
           "(?)"
          ],
          [
           "(?)"
          ],
          [
           "(?)"
          ],
          [
           "Can infer correct Value"
          ],
          [
           "None of the above"
          ],
          [
           "Can infer correct Entity"
          ],
          [
           "(?)"
          ],
          [
           "(?)"
          ],
          [
           "(?)"
          ],
          [
           "(?)"
          ],
          [
           "(?)"
          ],
          [
           "(?)"
          ],
          [
           "(?)"
          ]
         ],
         "domain": {
          "x": [
           0,
           1
          ],
          "y": [
           0,
           1
          ]
         },
         "hovertemplate": "labels=%{label}<br>Percentage=%{value}<br>parent=%{parent}<br>id=%{id}<br>Result=%{customdata[0]}<extra></extra>",
         "ids": [
          "Total/Palm/Fruit Colour/Can infer correct Entity",
          "Total/PlantNet/leaf base/None of the above",
          "Total/PlantNet/leaf base/Can infer correct Entity",
          "Total/PlantNet/leaf shape/Can infer correct Value",
          "Total/Caribbean/Leaf shape/None of the above",
          "Total/PlantNet/leaf shape/Can infer correct Entity",
          "Total/PlantNet/tendril/Can infer correct Entity",
          "Total/Palm/Fruit Shape/Can infer correct Quality",
          "Total/PlantNet/flower shape/Can infer correct Value",
          "Total/PlantNet/flower shape/None of the above",
          "Total/Caribbean/Fruit type/Can infer correct Quality",
          "Total/Caribbean/Leaf shape/Can infer correct Quality",
          "Total/PlantNet/fruit/Can infer correct Entity",
          "Total/PlantNet/bark/Can infer correct Value",
          "Total/Caribbean/Petals / corolla shape/Can infer correct Quality",
          "Total/PlantNet/bark/Can infer correct Quality",
          "Total/Caribbean/Petals / corolla shape/Can infer correct Value",
          "Total/PlantNet/inflorescences/Can infer correct Quality",
          "Total/Caribbean/Petals / corolla colour/None of the above",
          "Total/PlantNet/leaf blade/Can infer correct Quality",
          "Total/Caribbean/Sepals / calyx shape/None of the above",
          "Total/Caribbean/Life form/Can infer correct Value",
          "Total/Palm/Fruit Colour Description/Can infer correct Value",
          "Total/Caribbean/Fruit colour/Can infer correct Value",
          "Total/Caribbean/Leaf composition/Can infer correct Value",
          "Total/Caribbean/Stamen shape/Can infer correct Value",
          "Total/PlantNet/leaf blade/None of the above",
          "Total/PlantNet/leaf apex/Can infer correct Value",
          "Total/PlantNet/crown/Can infer correct Entity",
          "Total/Caribbean/Fruit type/None of the above",
          "Total/Caribbean/Fruit colour/Can infer correct Entity",
          "Total/Caribbean/Leaf lower side/None of the above",
          "Total/PlantNet/spine/None of the above",
          "Total/Caribbean/Leaf composition/Can infer correct Entity",
          "Total/Palm/Fruit Shape/None of the above",
          "Total/Palm/Measurement/Can infer correct Entity",
          "Total/PlantNet/petiole/None of the above",
          "Total/Caribbean/Leaf position/Can infer correct Entity",
          "Total/Caribbean/Leaf position/Can infer correct Value",
          "Total/Caribbean/Stamen shape/Can infer correct Entity",
          "Total/PlantNet/sexuality/Can infer correct Value",
          "Total/Caribbean/Seed colour/Can infer correct Entity",
          "Total/Caribbean/Leaf rachis/Can infer correct Value",
          "Total/Caribbean/Inflorescence type/None of the above",
          "Total/Caribbean/Leaf glands/Can infer correct Entity",
          "Total/Palm/Fruit Colour Description/Can infer correct Entity",
          "Total/Caribbean/Stamen number/None of the above",
          "Total/PlantNet/tendril/Can infer correct Value",
          "Total/PlantNet/leaf margin/Can infer correct Quality",
          "Total/Caribbean/Fruit shape/Can infer correct Value",
          "Total/Caribbean/Fruit shape/Can infer correct Entity",
          "Total/PlantNet/flower color/Can infer correct Quality",
          "Total/Palm/Measurement/Can infer correct Value",
          "Total/PlantNet/petiole/Can infer correct Value",
          "Total/PlantNet/tendril/None of the above",
          "Total/Palm/Fruit Shape/Can infer correct Value",
          "Total/Caribbean/Petals / corolla number/None of the above",
          "Total/PlantNet/vein/Can infer correct Quality",
          "Total/Caribbean/Seed colour/Can infer correct Value",
          "Total/PlantNet/leaf base/Can infer correct Value",
          "Total/Caribbean/Leaf margin/None of the above",
          "Total/Caribbean/Seed colour/Can infer correct Quality",
          "Total/Palm/Fruit Size/None of the above",
          "Total/PlantNet/petiole/Can infer correct Entity",
          "Total/PlantNet/trunk and root/Can infer correct Entity",
          "Total/Caribbean/Leaf rachis/Can infer correct Entity",
          "Total/Caribbean/Leaf upper side/Can infer correct Quality",
          "Total/Caribbean/Leaf glands/Can infer correct Value",
          "Total/Caribbean/Leaf upper side/None of the above",
          "Total/PlantNet/fruit/Can infer correct Value",
          "Total/Caribbean/Petals / corolla colour/Can infer correct Entity",
          "Total/Palm/Fruit Size/Can infer correct Quality",
          "Total/Caribbean/Leaf shape/Can infer correct Value",
          "Total/PlantNet/inflorescences/Can infer correct Value",
          "Total/PlantNet/leaf blade/Can infer correct Value",
          "Total/Caribbean/Sepals / calyx shape/Can infer correct Value",
          "Total/Caribbean/Life form/None of the above",
          "Total/Caribbean/Petals / corolla colour/Can infer correct Value",
          "Total/PlantNet/crown/Can infer correct Value",
          "Total/Caribbean/Leaf position/None of the above",
          "Total/PlantNet/trunk and root/Can infer correct Value",
          "Total/PlantNet/phyllotaxis/Can infer correct Value",
          "Total/Palm/Crown/None of the above",
          "Total/Caribbean/Fruit colour/None of the above",
          "Total/PlantNet/flower shape/Can infer correct Quality",
          "Total/Caribbean/Leaf lower side/Can infer correct Value",
          "Total/PlantNet/latex/None of the above",
          "Total/PlantNet/plant type/Can infer correct Entity",
          "Total/PlantNet/leaf blade/Can infer correct Entity",
          "Total/PlantNet/inflorescences/Can infer correct Entity",
          "Total/PlantNet/flower color/Can infer correct Entity",
          "Total/PlantNet/leaf margin/None of the above",
          "Total/Caribbean/Petals / corolla shape/None of the above",
          "Total/PlantNet/bark/Can infer correct Entity",
          "Total/Caribbean/Petals / corolla number/Can infer correct Entity",
          "Total/PlantNet/phyllotaxis/None of the above",
          "Total/Caribbean/Leaf shape/Can infer correct Entity",
          "Total/Caribbean/Leaf lower side/Can infer correct Entity",
          "Total/Caribbean/Fruit type/Can infer correct Entity",
          "Total/Palm/Fruit Shape/Can infer correct Entity",
          "Total/Caribbean/Sepals / calyx shape/Can infer correct Entity",
          "Total/Palm/Fruit Colour/Can infer correct Quality",
          "Total/PlantNet/vein/Can infer correct Entity",
          "Total/Caribbean/Fruit colour/Can infer correct Quality",
          "Total/PlantNet/trunk and root/None of the above",
          "Total/Caribbean/Fruit type/Can infer correct Value",
          "Total/Palm/Fruit Size/Can infer correct Value",
          "Total/Palm/Crown/Can infer correct Value",
          "Total/PlantNet/leaf shape/Can infer correct Quality",
          "Total/PlantNet/leaf apex/Can infer correct Quality",
          "Total/PlantNet/fruit/None of the above",
          "Total/Caribbean/Stamen shape/None of the above",
          "Total/PlantNet/crown/None of the above",
          "Total/Palm/Measurement/Can infer correct Quality",
          "Total/Caribbean/Inflorescence type/Can infer correct Quality",
          "Total/Caribbean/Sepals / calyx shape/Can infer correct Quality",
          "Total/Caribbean/Leaf composition/None of the above",
          "Total/Caribbean/Leaf rachis/None of the above",
          "Total/PlantNet/bark/None of the above",
          "Total/Palm/Measurement/None of the above",
          "Total/PlantNet/leaf shape/None of the above",
          "Total/PlantNet/leaf apex/None of the above",
          "Total/Caribbean/Seed colour/None of the above",
          "Total/PlantNet/plant type/None of the above",
          "Total/PlantNet/flower color/None of the above",
          "Total/PlantNet/inflorescences/None of the above",
          "Total/Caribbean/Inflorescence type/Can infer correct Value",
          "Total/Caribbean/Fruit shape/None of the above",
          "Total/Palm/Fruit Size/Can infer correct Entity",
          "Total/Caribbean/Inflorescence type/Can infer correct Entity",
          "Total/Caribbean/Leaf margin/Can infer correct Entity",
          "Total/Caribbean/Leaf upper side/Can infer correct Entity",
          "Total/Caribbean/Petals / corolla shape/Can infer correct Entity",
          "Total/Caribbean/Stamen number/Can infer correct Entity",
          "Total/PlantNet/blade color/Can infer correct Entity",
          "Total/PlantNet/flower shape/Can infer correct Entity",
          "Total/PlantNet/leaf apex/Can infer correct Entity",
          "Total/PlantNet/leaf margin/Can infer correct Entity",
          "Total/PlantNet/stem shape/Can infer correct Entity",
          "Total/Palm/Crown/Can infer correct Quality",
          "Total/Palm/Fruit Colour Description/Can infer correct Quality",
          "Total/Caribbean/Fruit shape/Can infer correct Quality",
          "Total/Caribbean/Leaf composition/Can infer correct Quality",
          "Total/Caribbean/Petals / corolla colour/Can infer correct Quality",
          "Total/Caribbean/Stamen shape/Can infer correct Quality",
          "Total/Palm/Fruit Colour Description/None of the above",
          "Total/PlantNet/vein/Can infer correct Value",
          "Total/PlantNet/plant type/Can infer correct Value",
          "Total/PlantNet/leaf margin/Can infer correct Value",
          "Total/PlantNet/latex/Can infer correct Value",
          "Total/PlantNet/flower color/Can infer correct Value",
          "Total/Caribbean/Leaf glands/None of the above",
          "Total/Caribbean/Stamen number/Can infer correct Value",
          "Total/Caribbean/Leaf upper side/Can infer correct Value",
          "Total/Caribbean/Leaf margin/Can infer correct Value",
          "Total/Palm/Fruit Colour/Can infer correct Value",
          "Total/PlantNet/petiole/Can infer correct Quality",
          "Total/PlantNet/leaf base/Can infer correct Quality",
          "Total/PlantNet/fruit/Can infer correct Quality",
          "Total/Caribbean/Petals / corolla number/Can infer correct Value",
          "Total/PlantNet/vein/None of the above",
          "Total/Palm/Crown",
          "Total/Palm/Fruit Colour",
          "Total/Palm/Fruit Colour Description",
          "Total/Palm/Fruit Shape",
          "Total/Palm/Fruit Size",
          "Total/Caribbean/Fruit colour",
          "Total/Caribbean/Fruit shape",
          "Total/Caribbean/Fruit type",
          "Total/Caribbean/Inflorescence type",
          "Total/Caribbean/Leaf composition",
          "Total/Caribbean/Leaf glands",
          "Total/Caribbean/Leaf lower side",
          "Total/Caribbean/Leaf margin",
          "Total/Caribbean/Leaf position",
          "Total/Caribbean/Leaf rachis",
          "Total/Caribbean/Leaf shape",
          "Total/Caribbean/Leaf upper side",
          "Total/Caribbean/Life form",
          "Total/Palm/Measurement",
          "Total/Caribbean/Petals / corolla colour",
          "Total/Caribbean/Petals / corolla number",
          "Total/Caribbean/Petals / corolla shape",
          "Total/Caribbean/Seed colour",
          "Total/Caribbean/Sepals / calyx shape",
          "Total/Caribbean/Stamen number",
          "Total/Caribbean/Stamen shape",
          "Total/PlantNet/bark",
          "Total/PlantNet/blade color",
          "Total/PlantNet/crown",
          "Total/PlantNet/flower color",
          "Total/PlantNet/flower shape",
          "Total/PlantNet/fruit",
          "Total/PlantNet/inflorescences",
          "Total/PlantNet/latex",
          "Total/PlantNet/leaf apex",
          "Total/PlantNet/leaf base",
          "Total/PlantNet/leaf blade",
          "Total/PlantNet/leaf margin",
          "Total/PlantNet/leaf shape",
          "Total/PlantNet/petiole",
          "Total/PlantNet/phyllotaxis",
          "Total/PlantNet/plant type",
          "Total/PlantNet/sexuality",
          "Total/PlantNet/spine",
          "Total/PlantNet/stem shape",
          "Total/PlantNet/tendril",
          "Total/PlantNet/trunk and root",
          "Total/PlantNet/vein",
          "Total/Caribbean",
          "Total/Palm",
          "Total/PlantNet",
          "Total"
         ],
         "labels": [
          "Can infer correct Entity",
          "None of the above",
          "Can infer correct Entity",
          "Can infer correct Value",
          "None of the above",
          "Can infer correct Entity",
          "Can infer correct Entity",
          "Can infer correct Quality",
          "Can infer correct Value",
          "None of the above",
          "Can infer correct Quality",
          "Can infer correct Quality",
          "Can infer correct Entity",
          "Can infer correct Value",
          "Can infer correct Quality",
          "Can infer correct Quality",
          "Can infer correct Value",
          "Can infer correct Quality",
          "None of the above",
          "Can infer correct Quality",
          "None of the above",
          "Can infer correct Value",
          "Can infer correct Value",
          "Can infer correct Value",
          "Can infer correct Value",
          "Can infer correct Value",
          "None of the above",
          "Can infer correct Value",
          "Can infer correct Entity",
          "None of the above",
          "Can infer correct Entity",
          "None of the above",
          "None of the above",
          "Can infer correct Entity",
          "None of the above",
          "Can infer correct Entity",
          "None of the above",
          "Can infer correct Entity",
          "Can infer correct Value",
          "Can infer correct Entity",
          "Can infer correct Value",
          "Can infer correct Entity",
          "Can infer correct Value",
          "None of the above",
          "Can infer correct Entity",
          "Can infer correct Entity",
          "None of the above",
          "Can infer correct Value",
          "Can infer correct Quality",
          "Can infer correct Value",
          "Can infer correct Entity",
          "Can infer correct Quality",
          "Can infer correct Value",
          "Can infer correct Value",
          "None of the above",
          "Can infer correct Value",
          "None of the above",
          "Can infer correct Quality",
          "Can infer correct Value",
          "Can infer correct Value",
          "None of the above",
          "Can infer correct Quality",
          "None of the above",
          "Can infer correct Entity",
          "Can infer correct Entity",
          "Can infer correct Entity",
          "Can infer correct Quality",
          "Can infer correct Value",
          "None of the above",
          "Can infer correct Value",
          "Can infer correct Entity",
          "Can infer correct Quality",
          "Can infer correct Value",
          "Can infer correct Value",
          "Can infer correct Value",
          "Can infer correct Value",
          "None of the above",
          "Can infer correct Value",
          "Can infer correct Value",
          "None of the above",
          "Can infer correct Value",
          "Can infer correct Value",
          "None of the above",
          "None of the above",
          "Can infer correct Quality",
          "Can infer correct Value",
          "None of the above",
          "Can infer correct Entity",
          "Can infer correct Entity",
          "Can infer correct Entity",
          "Can infer correct Entity",
          "None of the above",
          "None of the above",
          "Can infer correct Entity",
          "Can infer correct Entity",
          "None of the above",
          "Can infer correct Entity",
          "Can infer correct Entity",
          "Can infer correct Entity",
          "Can infer correct Entity",
          "Can infer correct Entity",
          "Can infer correct Quality",
          "Can infer correct Entity",
          "Can infer correct Quality",
          "None of the above",
          "Can infer correct Value",
          "Can infer correct Value",
          "Can infer correct Value",
          "Can infer correct Quality",
          "Can infer correct Quality",
          "None of the above",
          "None of the above",
          "None of the above",
          "Can infer correct Quality",
          "Can infer correct Quality",
          "Can infer correct Quality",
          "None of the above",
          "None of the above",
          "None of the above",
          "None of the above",
          "None of the above",
          "None of the above",
          "None of the above",
          "None of the above",
          "None of the above",
          "None of the above",
          "Can infer correct Value",
          "None of the above",
          "Can infer correct Entity",
          "Can infer correct Entity",
          "Can infer correct Entity",
          "Can infer correct Entity",
          "Can infer correct Entity",
          "Can infer correct Entity",
          "Can infer correct Entity",
          "Can infer correct Entity",
          "Can infer correct Entity",
          "Can infer correct Entity",
          "Can infer correct Entity",
          "Can infer correct Quality",
          "Can infer correct Quality",
          "Can infer correct Quality",
          "Can infer correct Quality",
          "Can infer correct Quality",
          "Can infer correct Quality",
          "None of the above",
          "Can infer correct Value",
          "Can infer correct Value",
          "Can infer correct Value",
          "Can infer correct Value",
          "Can infer correct Value",
          "None of the above",
          "Can infer correct Value",
          "Can infer correct Value",
          "Can infer correct Value",
          "Can infer correct Value",
          "Can infer correct Quality",
          "Can infer correct Quality",
          "Can infer correct Quality",
          "Can infer correct Value",
          "None of the above",
          "Crown",
          "Fruit Colour",
          "Fruit Colour Description",
          "Fruit Shape",
          "Fruit Size",
          "Fruit colour",
          "Fruit shape",
          "Fruit type",
          "Inflorescence type",
          "Leaf composition",
          "Leaf glands",
          "Leaf lower side",
          "Leaf margin",
          "Leaf position",
          "Leaf rachis",
          "Leaf shape",
          "Leaf upper side",
          "Life form",
          "Measurement",
          "Petals / corolla colour",
          "Petals / corolla number",
          "Petals / corolla shape",
          "Seed colour",
          "Sepals / calyx shape",
          "Stamen number",
          "Stamen shape",
          "bark",
          "blade color",
          "crown",
          "flower color",
          "flower shape",
          "fruit",
          "inflorescences",
          "latex",
          "leaf apex",
          "leaf base",
          "leaf blade",
          "leaf margin",
          "leaf shape",
          "petiole",
          "phyllotaxis",
          "plant type",
          "sexuality",
          "spine",
          "stem shape",
          "tendril",
          "trunk and root",
          "vein",
          "Caribbean",
          "Palm",
          "PlantNet",
          "Total"
         ],
         "marker": {
          "colors": [
           "#1f77b4",
           "#d62728",
           "#1f77b4",
           "#2ca02c",
           "#d62728",
           "#1f77b4",
           "#1f77b4",
           "goldenrod",
           "#2ca02c",
           "#d62728",
           "goldenrod",
           "goldenrod",
           "#1f77b4",
           "#2ca02c",
           "goldenrod",
           "goldenrod",
           "#2ca02c",
           "goldenrod",
           "#d62728",
           "goldenrod",
           "#d62728",
           "#2ca02c",
           "#2ca02c",
           "#2ca02c",
           "#2ca02c",
           "#2ca02c",
           "#d62728",
           "#2ca02c",
           "#1f77b4",
           "#d62728",
           "#1f77b4",
           "#d62728",
           "#d62728",
           "#1f77b4",
           "#d62728",
           "#1f77b4",
           "#d62728",
           "#1f77b4",
           "#2ca02c",
           "#1f77b4",
           "#2ca02c",
           "#1f77b4",
           "#2ca02c",
           "#d62728",
           "#1f77b4",
           "#1f77b4",
           "#d62728",
           "#2ca02c",
           "goldenrod",
           "#2ca02c",
           "#1f77b4",
           "goldenrod",
           "#2ca02c",
           "#2ca02c",
           "#d62728",
           "#2ca02c",
           "#d62728",
           "goldenrod",
           "#2ca02c",
           "#2ca02c",
           "#d62728",
           "goldenrod",
           "#d62728",
           "#1f77b4",
           "#1f77b4",
           "#1f77b4",
           "goldenrod",
           "#2ca02c",
           "#d62728",
           "#2ca02c",
           "#1f77b4",
           "goldenrod",
           "#2ca02c",
           "#2ca02c",
           "#2ca02c",
           "#2ca02c",
           "#d62728",
           "#2ca02c",
           "#2ca02c",
           "#d62728",
           "#2ca02c",
           "#2ca02c",
           "#d62728",
           "#d62728",
           "goldenrod",
           "#2ca02c",
           "#d62728",
           "#1f77b4",
           "#1f77b4",
           "#1f77b4",
           "#1f77b4",
           "#d62728",
           "#d62728",
           "#1f77b4",
           "#1f77b4",
           "#d62728",
           "#1f77b4",
           "#1f77b4",
           "#1f77b4",
           "#1f77b4",
           "#1f77b4",
           "goldenrod",
           "#1f77b4",
           "goldenrod",
           "#d62728",
           "#2ca02c",
           "#2ca02c",
           "#2ca02c",
           "goldenrod",
           "goldenrod",
           "#d62728",
           "#d62728",
           "#d62728",
           "goldenrod",
           "goldenrod",
           "goldenrod",
           "#d62728",
           "#d62728",
           "#d62728",
           "#d62728",
           "#d62728",
           "#d62728",
           "#d62728",
           "#d62728",
           "#d62728",
           "#d62728",
           "#2ca02c",
           "#d62728",
           "#1f77b4",
           "#1f77b4",
           "#1f77b4",
           "#1f77b4",
           "#1f77b4",
           "#1f77b4",
           "#1f77b4",
           "#1f77b4",
           "#1f77b4",
           "#1f77b4",
           "#1f77b4",
           "goldenrod",
           "goldenrod",
           "goldenrod",
           "goldenrod",
           "goldenrod",
           "goldenrod",
           "#d62728",
           "#2ca02c",
           "#2ca02c",
           "#2ca02c",
           "#2ca02c",
           "#2ca02c",
           "#d62728",
           "#2ca02c",
           "#2ca02c",
           "#2ca02c",
           "#2ca02c",
           "goldenrod",
           "goldenrod",
           "goldenrod",
           "#2ca02c",
           "#d62728",
           "#FF97FF",
           "#FF97FF",
           "#FF97FF",
           "#FF97FF",
           "#FF97FF",
           "#FF97FF",
           "#FF97FF",
           "#FF97FF",
           "#FF97FF",
           "#FF97FF",
           "#FF97FF",
           "#FF97FF",
           "#FF97FF",
           "#FF97FF",
           "#FF97FF",
           "#FF97FF",
           "#FF97FF",
           "#FF97FF",
           "#FF97FF",
           "#FF97FF",
           "#FF97FF",
           "#FF97FF",
           "#FF97FF",
           "#FF97FF",
           "#FF97FF",
           "#FF97FF",
           "#FF97FF",
           "#1f77b4",
           "#FF97FF",
           "#FF97FF",
           "#FF97FF",
           "#FF97FF",
           "#FF97FF",
           "#FF97FF",
           "#FF97FF",
           "#FF97FF",
           "#FF97FF",
           "#FF97FF",
           "#FF97FF",
           "#FF97FF",
           "#FF97FF",
           "#FF97FF",
           "#2ca02c",
           "#d62728",
           "#1f77b4",
           "#FF97FF",
           "#FF97FF",
           "#FF97FF",
           "#FF97FF",
           "#FF97FF",
           "#FF97FF",
           "#FF97FF"
          ]
         },
         "name": "",
         "parents": [
          "Total/Palm/Fruit Colour",
          "Total/PlantNet/leaf base",
          "Total/PlantNet/leaf base",
          "Total/PlantNet/leaf shape",
          "Total/Caribbean/Leaf shape",
          "Total/PlantNet/leaf shape",
          "Total/PlantNet/tendril",
          "Total/Palm/Fruit Shape",
          "Total/PlantNet/flower shape",
          "Total/PlantNet/flower shape",
          "Total/Caribbean/Fruit type",
          "Total/Caribbean/Leaf shape",
          "Total/PlantNet/fruit",
          "Total/PlantNet/bark",
          "Total/Caribbean/Petals / corolla shape",
          "Total/PlantNet/bark",
          "Total/Caribbean/Petals / corolla shape",
          "Total/PlantNet/inflorescences",
          "Total/Caribbean/Petals / corolla colour",
          "Total/PlantNet/leaf blade",
          "Total/Caribbean/Sepals / calyx shape",
          "Total/Caribbean/Life form",
          "Total/Palm/Fruit Colour Description",
          "Total/Caribbean/Fruit colour",
          "Total/Caribbean/Leaf composition",
          "Total/Caribbean/Stamen shape",
          "Total/PlantNet/leaf blade",
          "Total/PlantNet/leaf apex",
          "Total/PlantNet/crown",
          "Total/Caribbean/Fruit type",
          "Total/Caribbean/Fruit colour",
          "Total/Caribbean/Leaf lower side",
          "Total/PlantNet/spine",
          "Total/Caribbean/Leaf composition",
          "Total/Palm/Fruit Shape",
          "Total/Palm/Measurement",
          "Total/PlantNet/petiole",
          "Total/Caribbean/Leaf position",
          "Total/Caribbean/Leaf position",
          "Total/Caribbean/Stamen shape",
          "Total/PlantNet/sexuality",
          "Total/Caribbean/Seed colour",
          "Total/Caribbean/Leaf rachis",
          "Total/Caribbean/Inflorescence type",
          "Total/Caribbean/Leaf glands",
          "Total/Palm/Fruit Colour Description",
          "Total/Caribbean/Stamen number",
          "Total/PlantNet/tendril",
          "Total/PlantNet/leaf margin",
          "Total/Caribbean/Fruit shape",
          "Total/Caribbean/Fruit shape",
          "Total/PlantNet/flower color",
          "Total/Palm/Measurement",
          "Total/PlantNet/petiole",
          "Total/PlantNet/tendril",
          "Total/Palm/Fruit Shape",
          "Total/Caribbean/Petals / corolla number",
          "Total/PlantNet/vein",
          "Total/Caribbean/Seed colour",
          "Total/PlantNet/leaf base",
          "Total/Caribbean/Leaf margin",
          "Total/Caribbean/Seed colour",
          "Total/Palm/Fruit Size",
          "Total/PlantNet/petiole",
          "Total/PlantNet/trunk and root",
          "Total/Caribbean/Leaf rachis",
          "Total/Caribbean/Leaf upper side",
          "Total/Caribbean/Leaf glands",
          "Total/Caribbean/Leaf upper side",
          "Total/PlantNet/fruit",
          "Total/Caribbean/Petals / corolla colour",
          "Total/Palm/Fruit Size",
          "Total/Caribbean/Leaf shape",
          "Total/PlantNet/inflorescences",
          "Total/PlantNet/leaf blade",
          "Total/Caribbean/Sepals / calyx shape",
          "Total/Caribbean/Life form",
          "Total/Caribbean/Petals / corolla colour",
          "Total/PlantNet/crown",
          "Total/Caribbean/Leaf position",
          "Total/PlantNet/trunk and root",
          "Total/PlantNet/phyllotaxis",
          "Total/Palm/Crown",
          "Total/Caribbean/Fruit colour",
          "Total/PlantNet/flower shape",
          "Total/Caribbean/Leaf lower side",
          "Total/PlantNet/latex",
          "Total/PlantNet/plant type",
          "Total/PlantNet/leaf blade",
          "Total/PlantNet/inflorescences",
          "Total/PlantNet/flower color",
          "Total/PlantNet/leaf margin",
          "Total/Caribbean/Petals / corolla shape",
          "Total/PlantNet/bark",
          "Total/Caribbean/Petals / corolla number",
          "Total/PlantNet/phyllotaxis",
          "Total/Caribbean/Leaf shape",
          "Total/Caribbean/Leaf lower side",
          "Total/Caribbean/Fruit type",
          "Total/Palm/Fruit Shape",
          "Total/Caribbean/Sepals / calyx shape",
          "Total/Palm/Fruit Colour",
          "Total/PlantNet/vein",
          "Total/Caribbean/Fruit colour",
          "Total/PlantNet/trunk and root",
          "Total/Caribbean/Fruit type",
          "Total/Palm/Fruit Size",
          "Total/Palm/Crown",
          "Total/PlantNet/leaf shape",
          "Total/PlantNet/leaf apex",
          "Total/PlantNet/fruit",
          "Total/Caribbean/Stamen shape",
          "Total/PlantNet/crown",
          "Total/Palm/Measurement",
          "Total/Caribbean/Inflorescence type",
          "Total/Caribbean/Sepals / calyx shape",
          "Total/Caribbean/Leaf composition",
          "Total/Caribbean/Leaf rachis",
          "Total/PlantNet/bark",
          "Total/Palm/Measurement",
          "Total/PlantNet/leaf shape",
          "Total/PlantNet/leaf apex",
          "Total/Caribbean/Seed colour",
          "Total/PlantNet/plant type",
          "Total/PlantNet/flower color",
          "Total/PlantNet/inflorescences",
          "Total/Caribbean/Inflorescence type",
          "Total/Caribbean/Fruit shape",
          "Total/Palm/Fruit Size",
          "Total/Caribbean/Inflorescence type",
          "Total/Caribbean/Leaf margin",
          "Total/Caribbean/Leaf upper side",
          "Total/Caribbean/Petals / corolla shape",
          "Total/Caribbean/Stamen number",
          "Total/PlantNet/blade color",
          "Total/PlantNet/flower shape",
          "Total/PlantNet/leaf apex",
          "Total/PlantNet/leaf margin",
          "Total/PlantNet/stem shape",
          "Total/Palm/Crown",
          "Total/Palm/Fruit Colour Description",
          "Total/Caribbean/Fruit shape",
          "Total/Caribbean/Leaf composition",
          "Total/Caribbean/Petals / corolla colour",
          "Total/Caribbean/Stamen shape",
          "Total/Palm/Fruit Colour Description",
          "Total/PlantNet/vein",
          "Total/PlantNet/plant type",
          "Total/PlantNet/leaf margin",
          "Total/PlantNet/latex",
          "Total/PlantNet/flower color",
          "Total/Caribbean/Leaf glands",
          "Total/Caribbean/Stamen number",
          "Total/Caribbean/Leaf upper side",
          "Total/Caribbean/Leaf margin",
          "Total/Palm/Fruit Colour",
          "Total/PlantNet/petiole",
          "Total/PlantNet/leaf base",
          "Total/PlantNet/fruit",
          "Total/Caribbean/Petals / corolla number",
          "Total/PlantNet/vein",
          "Total/Palm",
          "Total/Palm",
          "Total/Palm",
          "Total/Palm",
          "Total/Palm",
          "Total/Caribbean",
          "Total/Caribbean",
          "Total/Caribbean",
          "Total/Caribbean",
          "Total/Caribbean",
          "Total/Caribbean",
          "Total/Caribbean",
          "Total/Caribbean",
          "Total/Caribbean",
          "Total/Caribbean",
          "Total/Caribbean",
          "Total/Caribbean",
          "Total/Caribbean",
          "Total/Palm",
          "Total/Caribbean",
          "Total/Caribbean",
          "Total/Caribbean",
          "Total/Caribbean",
          "Total/Caribbean",
          "Total/Caribbean",
          "Total/Caribbean",
          "Total/PlantNet",
          "Total/PlantNet",
          "Total/PlantNet",
          "Total/PlantNet",
          "Total/PlantNet",
          "Total/PlantNet",
          "Total/PlantNet",
          "Total/PlantNet",
          "Total/PlantNet",
          "Total/PlantNet",
          "Total/PlantNet",
          "Total/PlantNet",
          "Total/PlantNet",
          "Total/PlantNet",
          "Total/PlantNet",
          "Total/PlantNet",
          "Total/PlantNet",
          "Total/PlantNet",
          "Total/PlantNet",
          "Total/PlantNet",
          "Total/PlantNet",
          "Total/PlantNet",
          "Total",
          "Total",
          "Total",
          ""
         ],
         "type": "sunburst",
         "values": [
          12.5,
          49.06,
          16.98,
          16.33,
          37.7,
          28.57,
          6.67,
          5.13,
          9.62,
          38.46,
          26.67,
          3.28,
          25,
          22.22,
          10,
          33.33,
          10,
          7.89,
          35.9,
          3.57,
          42.42,
          82.35,
          40,
          27.63,
          25,
          28.57,
          32.14,
          7.69,
          6.67,
          6.67,
          35.53,
          36.36,
          100,
          16.67,
          38.46,
          34.09,
          34.48,
          36.36,
          36.36,
          23.81,
          100,
          27.27,
          10,
          20,
          60,
          36,
          33.33,
          6.67,
          4.76,
          28.57,
          33.93,
          8.33,
          23.86,
          37.93,
          86.67,
          25.64,
          20,
          13.16,
          18.18,
          20.75,
          34.48,
          9.09,
          25,
          20.69,
          50,
          40,
          2.38,
          15,
          38.1,
          33.33,
          33.33,
          16.67,
          27.87,
          34.21,
          35.71,
          6.06,
          17.65,
          28.21,
          6.67,
          27.27,
          10,
          37.5,
          27.27,
          22.37,
          7.69,
          15.15,
          66.67,
          6.67,
          28.57,
          21.05,
          8.33,
          52.38,
          50,
          11.11,
          40,
          62.5,
          31.15,
          48.48,
          36.67,
          30.77,
          45.45,
          25,
          21.05,
          14.47,
          40,
          30,
          16.67,
          36.36,
          14.29,
          9.23,
          38.89,
          42.86,
          86.67,
          11.93,
          10,
          6.06,
          41.67,
          50,
          33.33,
          30.11,
          40.82,
          64.62,
          45.45,
          13.33,
          8.33,
          36.84,
          60,
          14.29,
          41.67,
          10,
          48.28,
          45.24,
          30,
          33.33,
          100,
          44.23,
          18.46,
          30.95,
          100,
          36.36,
          8,
          23.21,
          16.67,
          2.56,
          4.76,
          16,
          10.53,
          80,
          11.9,
          33.33,
          75,
          25,
          33.33,
          14.29,
          17.24,
          62.5,
          6.9,
          13.21,
          2.78,
          40,
          55.26,
          99.99,
          100,
          100,
          100,
          100.01,
          100,
          100,
          100.01,
          100,
          100.01,
          100,
          99.99,
          100,
          99.99,
          100,
          100,
          100.01,
          100,
          99.99000000000001,
          100,
          100,
          100,
          99.99000000000001,
          99.99000000000001,
          99.99,
          100,
          99.99,
          100,
          100.01,
          99.99,
          100,
          100,
          99.99000000000001,
          100,
          100,
          100,
          99.99000000000001,
          99.99000000000001,
          100.00999999999999,
          100,
          100,
          100,
          100,
          100,
          100,
          100.01,
          100,
          100,
          1999.98,
          599.99,
          2199.98,
          4799.95
         ]
        }
       ],
       "layout": {
        "legend": {
         "tracegroupgap": 0
        },
        "margin": {
         "b": 0,
         "l": 0,
         "r": 0,
         "t": 0
        },
        "template": {
         "data": {
          "bar": [
           {
            "error_x": {
             "color": "#2a3f5f"
            },
            "error_y": {
             "color": "#2a3f5f"
            },
            "marker": {
             "line": {
              "color": "#E5ECF6",
              "width": 0.5
             },
             "pattern": {
              "fillmode": "overlay",
              "size": 10,
              "solidity": 0.2
             }
            },
            "type": "bar"
           }
          ],
          "barpolar": [
           {
            "marker": {
             "line": {
              "color": "#E5ECF6",
              "width": 0.5
             },
             "pattern": {
              "fillmode": "overlay",
              "size": 10,
              "solidity": 0.2
             }
            },
            "type": "barpolar"
           }
          ],
          "carpet": [
           {
            "aaxis": {
             "endlinecolor": "#2a3f5f",
             "gridcolor": "white",
             "linecolor": "white",
             "minorgridcolor": "white",
             "startlinecolor": "#2a3f5f"
            },
            "baxis": {
             "endlinecolor": "#2a3f5f",
             "gridcolor": "white",
             "linecolor": "white",
             "minorgridcolor": "white",
             "startlinecolor": "#2a3f5f"
            },
            "type": "carpet"
           }
          ],
          "choropleth": [
           {
            "colorbar": {
             "outlinewidth": 0,
             "ticks": ""
            },
            "type": "choropleth"
           }
          ],
          "contour": [
           {
            "colorbar": {
             "outlinewidth": 0,
             "ticks": ""
            },
            "colorscale": [
             [
              0,
              "#0d0887"
             ],
             [
              0.1111111111111111,
              "#46039f"
             ],
             [
              0.2222222222222222,
              "#7201a8"
             ],
             [
              0.3333333333333333,
              "#9c179e"
             ],
             [
              0.4444444444444444,
              "#bd3786"
             ],
             [
              0.5555555555555556,
              "#d8576b"
             ],
             [
              0.6666666666666666,
              "#ed7953"
             ],
             [
              0.7777777777777778,
              "#fb9f3a"
             ],
             [
              0.8888888888888888,
              "#fdca26"
             ],
             [
              1,
              "#f0f921"
             ]
            ],
            "type": "contour"
           }
          ],
          "contourcarpet": [
           {
            "colorbar": {
             "outlinewidth": 0,
             "ticks": ""
            },
            "type": "contourcarpet"
           }
          ],
          "heatmap": [
           {
            "colorbar": {
             "outlinewidth": 0,
             "ticks": ""
            },
            "colorscale": [
             [
              0,
              "#0d0887"
             ],
             [
              0.1111111111111111,
              "#46039f"
             ],
             [
              0.2222222222222222,
              "#7201a8"
             ],
             [
              0.3333333333333333,
              "#9c179e"
             ],
             [
              0.4444444444444444,
              "#bd3786"
             ],
             [
              0.5555555555555556,
              "#d8576b"
             ],
             [
              0.6666666666666666,
              "#ed7953"
             ],
             [
              0.7777777777777778,
              "#fb9f3a"
             ],
             [
              0.8888888888888888,
              "#fdca26"
             ],
             [
              1,
              "#f0f921"
             ]
            ],
            "type": "heatmap"
           }
          ],
          "heatmapgl": [
           {
            "colorbar": {
             "outlinewidth": 0,
             "ticks": ""
            },
            "colorscale": [
             [
              0,
              "#0d0887"
             ],
             [
              0.1111111111111111,
              "#46039f"
             ],
             [
              0.2222222222222222,
              "#7201a8"
             ],
             [
              0.3333333333333333,
              "#9c179e"
             ],
             [
              0.4444444444444444,
              "#bd3786"
             ],
             [
              0.5555555555555556,
              "#d8576b"
             ],
             [
              0.6666666666666666,
              "#ed7953"
             ],
             [
              0.7777777777777778,
              "#fb9f3a"
             ],
             [
              0.8888888888888888,
              "#fdca26"
             ],
             [
              1,
              "#f0f921"
             ]
            ],
            "type": "heatmapgl"
           }
          ],
          "histogram": [
           {
            "marker": {
             "pattern": {
              "fillmode": "overlay",
              "size": 10,
              "solidity": 0.2
             }
            },
            "type": "histogram"
           }
          ],
          "histogram2d": [
           {
            "colorbar": {
             "outlinewidth": 0,
             "ticks": ""
            },
            "colorscale": [
             [
              0,
              "#0d0887"
             ],
             [
              0.1111111111111111,
              "#46039f"
             ],
             [
              0.2222222222222222,
              "#7201a8"
             ],
             [
              0.3333333333333333,
              "#9c179e"
             ],
             [
              0.4444444444444444,
              "#bd3786"
             ],
             [
              0.5555555555555556,
              "#d8576b"
             ],
             [
              0.6666666666666666,
              "#ed7953"
             ],
             [
              0.7777777777777778,
              "#fb9f3a"
             ],
             [
              0.8888888888888888,
              "#fdca26"
             ],
             [
              1,
              "#f0f921"
             ]
            ],
            "type": "histogram2d"
           }
          ],
          "histogram2dcontour": [
           {
            "colorbar": {
             "outlinewidth": 0,
             "ticks": ""
            },
            "colorscale": [
             [
              0,
              "#0d0887"
             ],
             [
              0.1111111111111111,
              "#46039f"
             ],
             [
              0.2222222222222222,
              "#7201a8"
             ],
             [
              0.3333333333333333,
              "#9c179e"
             ],
             [
              0.4444444444444444,
              "#bd3786"
             ],
             [
              0.5555555555555556,
              "#d8576b"
             ],
             [
              0.6666666666666666,
              "#ed7953"
             ],
             [
              0.7777777777777778,
              "#fb9f3a"
             ],
             [
              0.8888888888888888,
              "#fdca26"
             ],
             [
              1,
              "#f0f921"
             ]
            ],
            "type": "histogram2dcontour"
           }
          ],
          "mesh3d": [
           {
            "colorbar": {
             "outlinewidth": 0,
             "ticks": ""
            },
            "type": "mesh3d"
           }
          ],
          "parcoords": [
           {
            "line": {
             "colorbar": {
              "outlinewidth": 0,
              "ticks": ""
             }
            },
            "type": "parcoords"
           }
          ],
          "pie": [
           {
            "automargin": true,
            "type": "pie"
           }
          ],
          "scatter": [
           {
            "fillpattern": {
             "fillmode": "overlay",
             "size": 10,
             "solidity": 0.2
            },
            "type": "scatter"
           }
          ],
          "scatter3d": [
           {
            "line": {
             "colorbar": {
              "outlinewidth": 0,
              "ticks": ""
             }
            },
            "marker": {
             "colorbar": {
              "outlinewidth": 0,
              "ticks": ""
             }
            },
            "type": "scatter3d"
           }
          ],
          "scattercarpet": [
           {
            "marker": {
             "colorbar": {
              "outlinewidth": 0,
              "ticks": ""
             }
            },
            "type": "scattercarpet"
           }
          ],
          "scattergeo": [
           {
            "marker": {
             "colorbar": {
              "outlinewidth": 0,
              "ticks": ""
             }
            },
            "type": "scattergeo"
           }
          ],
          "scattergl": [
           {
            "marker": {
             "colorbar": {
              "outlinewidth": 0,
              "ticks": ""
             }
            },
            "type": "scattergl"
           }
          ],
          "scattermapbox": [
           {
            "marker": {
             "colorbar": {
              "outlinewidth": 0,
              "ticks": ""
             }
            },
            "type": "scattermapbox"
           }
          ],
          "scatterpolar": [
           {
            "marker": {
             "colorbar": {
              "outlinewidth": 0,
              "ticks": ""
             }
            },
            "type": "scatterpolar"
           }
          ],
          "scatterpolargl": [
           {
            "marker": {
             "colorbar": {
              "outlinewidth": 0,
              "ticks": ""
             }
            },
            "type": "scatterpolargl"
           }
          ],
          "scatterternary": [
           {
            "marker": {
             "colorbar": {
              "outlinewidth": 0,
              "ticks": ""
             }
            },
            "type": "scatterternary"
           }
          ],
          "surface": [
           {
            "colorbar": {
             "outlinewidth": 0,
             "ticks": ""
            },
            "colorscale": [
             [
              0,
              "#0d0887"
             ],
             [
              0.1111111111111111,
              "#46039f"
             ],
             [
              0.2222222222222222,
              "#7201a8"
             ],
             [
              0.3333333333333333,
              "#9c179e"
             ],
             [
              0.4444444444444444,
              "#bd3786"
             ],
             [
              0.5555555555555556,
              "#d8576b"
             ],
             [
              0.6666666666666666,
              "#ed7953"
             ],
             [
              0.7777777777777778,
              "#fb9f3a"
             ],
             [
              0.8888888888888888,
              "#fdca26"
             ],
             [
              1,
              "#f0f921"
             ]
            ],
            "type": "surface"
           }
          ],
          "table": [
           {
            "cells": {
             "fill": {
              "color": "#EBF0F8"
             },
             "line": {
              "color": "white"
             }
            },
            "header": {
             "fill": {
              "color": "#C8D4E3"
             },
             "line": {
              "color": "white"
             }
            },
            "type": "table"
           }
          ]
         },
         "layout": {
          "annotationdefaults": {
           "arrowcolor": "#2a3f5f",
           "arrowhead": 0,
           "arrowwidth": 1
          },
          "autotypenumbers": "strict",
          "coloraxis": {
           "colorbar": {
            "outlinewidth": 0,
            "ticks": ""
           }
          },
          "colorscale": {
           "diverging": [
            [
             0,
             "#8e0152"
            ],
            [
             0.1,
             "#c51b7d"
            ],
            [
             0.2,
             "#de77ae"
            ],
            [
             0.3,
             "#f1b6da"
            ],
            [
             0.4,
             "#fde0ef"
            ],
            [
             0.5,
             "#f7f7f7"
            ],
            [
             0.6,
             "#e6f5d0"
            ],
            [
             0.7,
             "#b8e186"
            ],
            [
             0.8,
             "#7fbc41"
            ],
            [
             0.9,
             "#4d9221"
            ],
            [
             1,
             "#276419"
            ]
           ],
           "sequential": [
            [
             0,
             "#0d0887"
            ],
            [
             0.1111111111111111,
             "#46039f"
            ],
            [
             0.2222222222222222,
             "#7201a8"
            ],
            [
             0.3333333333333333,
             "#9c179e"
            ],
            [
             0.4444444444444444,
             "#bd3786"
            ],
            [
             0.5555555555555556,
             "#d8576b"
            ],
            [
             0.6666666666666666,
             "#ed7953"
            ],
            [
             0.7777777777777778,
             "#fb9f3a"
            ],
            [
             0.8888888888888888,
             "#fdca26"
            ],
            [
             1,
             "#f0f921"
            ]
           ],
           "sequentialminus": [
            [
             0,
             "#0d0887"
            ],
            [
             0.1111111111111111,
             "#46039f"
            ],
            [
             0.2222222222222222,
             "#7201a8"
            ],
            [
             0.3333333333333333,
             "#9c179e"
            ],
            [
             0.4444444444444444,
             "#bd3786"
            ],
            [
             0.5555555555555556,
             "#d8576b"
            ],
            [
             0.6666666666666666,
             "#ed7953"
            ],
            [
             0.7777777777777778,
             "#fb9f3a"
            ],
            [
             0.8888888888888888,
             "#fdca26"
            ],
            [
             1,
             "#f0f921"
            ]
           ]
          },
          "colorway": [
           "#636efa",
           "#EF553B",
           "#00cc96",
           "#ab63fa",
           "#FFA15A",
           "#19d3f3",
           "#FF6692",
           "#B6E880",
           "#FF97FF",
           "#FECB52"
          ],
          "font": {
           "color": "#2a3f5f"
          },
          "geo": {
           "bgcolor": "white",
           "lakecolor": "white",
           "landcolor": "#E5ECF6",
           "showlakes": true,
           "showland": true,
           "subunitcolor": "white"
          },
          "hoverlabel": {
           "align": "left"
          },
          "hovermode": "closest",
          "mapbox": {
           "style": "light"
          },
          "paper_bgcolor": "white",
          "plot_bgcolor": "#E5ECF6",
          "polar": {
           "angularaxis": {
            "gridcolor": "white",
            "linecolor": "white",
            "ticks": ""
           },
           "bgcolor": "#E5ECF6",
           "radialaxis": {
            "gridcolor": "white",
            "linecolor": "white",
            "ticks": ""
           }
          },
          "scene": {
           "xaxis": {
            "backgroundcolor": "#E5ECF6",
            "gridcolor": "white",
            "gridwidth": 2,
            "linecolor": "white",
            "showbackground": true,
            "ticks": "",
            "zerolinecolor": "white"
           },
           "yaxis": {
            "backgroundcolor": "#E5ECF6",
            "gridcolor": "white",
            "gridwidth": 2,
            "linecolor": "white",
            "showbackground": true,
            "ticks": "",
            "zerolinecolor": "white"
           },
           "zaxis": {
            "backgroundcolor": "#E5ECF6",
            "gridcolor": "white",
            "gridwidth": 2,
            "linecolor": "white",
            "showbackground": true,
            "ticks": "",
            "zerolinecolor": "white"
           }
          },
          "shapedefaults": {
           "line": {
            "color": "#2a3f5f"
           }
          },
          "ternary": {
           "aaxis": {
            "gridcolor": "white",
            "linecolor": "white",
            "ticks": ""
           },
           "baxis": {
            "gridcolor": "white",
            "linecolor": "white",
            "ticks": ""
           },
           "bgcolor": "#E5ECF6",
           "caxis": {
            "gridcolor": "white",
            "linecolor": "white",
            "ticks": ""
           }
          },
          "title": {
           "x": 0.05
          },
          "xaxis": {
           "automargin": true,
           "gridcolor": "white",
           "linecolor": "white",
           "ticks": "",
           "title": {
            "standoff": 15
           },
           "zerolinecolor": "white",
           "zerolinewidth": 2
          },
          "yaxis": {
           "automargin": true,
           "gridcolor": "white",
           "linecolor": "white",
           "ticks": "",
           "title": {
            "standoff": 15
           },
           "zerolinecolor": "white",
           "zerolinewidth": 2
          }
         }
        },
        "uniformtext": {
         "minsize": 8,
         "mode": "hide"
        }
       }
      }
     },
     "metadata": {},
     "output_type": "display_data"
    }
   ],
   "source": [
    "df[\"Total\"] = \"Total\"\n",
    "df_percentage = round(df.groupby([\"Total\", \"Dataset\", \"Main Trait\", \"Result\"])[\"Species\"].count() / df.groupby([\"Main Trait\"])[\"Species\"].count() * 100, 2).to_frame()\n",
    "df_percentage = df_percentage\\\n",
    "    .rename(columns={\"Species\": \"Percentage\"})\\\n",
    "    .reset_index()\n",
    "\n",
    "\n",
    "color_dict = {label: color for color, label in zip(colors, labels)}\n",
    "color_dict.update({dataset: 'darkblue' for dataset in df_percentage[\"Dataset\"].unique()})\n",
    "color_dict[\"Total\"] = 'red'\n",
    "\n",
    "\n",
    "# color_dict['(?)'] = 'black'\n",
    "\n",
    "fig = px.sunburst(df_percentage, \n",
    "                  path=['Total', 'Dataset', 'Main Trait', 'Result'], \n",
    "                  values='Percentage', \n",
    "                  color='Result',\n",
    "                  branchvalues=\"total\",\n",
    "                  color_discrete_map=color_dict,\n",
    "                  )\n",
    "\n",
    "fig.update_layout(\n",
    "    margin = dict(t=0, l=0, r=0, b=0),\n",
    "    uniformtext=dict(minsize=8, mode='hide')\n",
    ")\n",
    "\n",
    "# Manual edites\n",
    "# fig['data'][0]['values'][-4:] = 4000\n",
    "\n",
    "fig.show()\n",
    "\n",
    "# print(fig)\n",
    "\n",
    "\n",
    "# folder_figures = \"../../../reports/figures/\"\n",
    "# file_name = \"PxPlot_HTML_SurveysPerTrait_Percentage.html\"\n",
    "# fig.write_html(F\"{folder_figures}{file_name}\")\n",
    "# file_name = \"PxPlot_PDF_SurveysPerTrait_Percentage.pdf\"\n",
    "# fig.write_image(F\"{folder_figures}{file_name}\")"
   ]
  },
  {
   "cell_type": "code",
   "execution_count": 115,
   "id": "2ef0084d",
   "metadata": {},
   "outputs": [],
   "source": [
    "fig['data'][0]['values'][-4:] = 103"
   ]
  },
  {
   "cell_type": "code",
   "execution_count": 120,
   "id": "c3c753f7",
   "metadata": {},
   "outputs": [
    {
     "data": {
      "text/plain": [
       "Layout({\n",
       "    'legend': {'tracegroupgap': 0},\n",
       "    'margin': {'b': 0, 'l': 0, 'r': 0, 't': 0},\n",
       "    'template': '...',\n",
       "    'uniformtext': {'minsize': 8, 'mode': 'hide'}\n",
       "})"
      ]
     },
     "execution_count": 120,
     "metadata": {},
     "output_type": "execute_result"
    }
   ],
   "source": [
    "fig['layout']"
   ]
  },
  {
   "attachments": {},
   "cell_type": "markdown",
   "id": "743fae9e",
   "metadata": {},
   "source": [
    "#### Normal"
   ]
  },
  {
   "cell_type": "code",
   "execution_count": null,
   "id": "a5a478d8",
   "metadata": {},
   "outputs": [],
   "source": [
    "# labels = ['None of the above', 'Can infer correct Entity', 'Can infer correct Quality', 'Can infer correct Value']\n",
    "\n",
    "# colors = [\n",
    "#     'rgb(175, 49, 35)', \n",
    "#     'rgb(151, 179, 100)',\n",
    "#     'rgb(33, 75, 99)',\n",
    "#     'rgb(79, 129, 102)',\n",
    "#       ]\n",
    "\n",
    "# color_dict = {label: color for color, label in zip(colors, labels)}\n",
    "# color_dict['(?)'] = 'black'\n",
    "\n",
    "# fig = px.sunburst(df_melt, \n",
    "#                   path=['Main Trait', 'variable'], \n",
    "#                   values='value', \n",
    "#                   color='variable',\n",
    "#                   color_discrete_map=color_dict)\n",
    "\n",
    "# fig.update_layout(\n",
    "#     margin = dict(t=0, l=0, r=0, b=0),\n",
    "#     uniformtext=dict(minsize=8, mode='hide')\n",
    "# )\n",
    "\n",
    "# fig.show()\n",
    "\n",
    "# folder_figures = \"../../../reports/figures/\"\n",
    "# file_name = \"PxPlot_HTML_SurveysPerTrait_Grouped.html\"\n",
    "# fig.write_html(F\"{folder_figures}{file_name}\")\n",
    "# file_name = \"PxPlot_PDF_SurveysPerTrait_Grouped.pdf\"\n",
    "# fig.write_image(F\"{folder_figures}{file_name}\")"
   ]
  },
  {
   "attachments": {},
   "cell_type": "markdown",
   "id": "cdd160f8",
   "metadata": {},
   "source": [
    "#### Dataset/Group"
   ]
  },
  {
   "cell_type": "code",
   "execution_count": null,
   "id": "b4fe199a",
   "metadata": {},
   "outputs": [],
   "source": [
    "labels = ['None of the above', 'Can infer correct Entity', 'Can infer correct Quality', 'Can infer correct Value']\n",
    "\n",
    "colors = [\n",
    "    'rgb(175, 49, 35)', \n",
    "    'rgb(151, 179, 100)',\n",
    "    'rgb(33, 75, 99)',\n",
    "    'rgb(79, 129, 102)',\n",
    "      ]\n",
    "\n",
    "color_dict = {label: color for color, label in zip(colors, labels)}\n",
    "color_dict['(?)'] = 'black'\n",
    "color_dict['Total'] = 'blue'\n",
    "\n",
    "fig = px.sunburst(df_melt, \n",
    "                  path=['Dataset', 'Main Trait', 'variable'], \n",
    "                  values='value', \n",
    "                  color='variable',\n",
    "                  color_discrete_map=color_dict,\n",
    "                  # branchvalues='remainder',\n",
    "                  # maxdepth=-1,\n",
    "                  # hover_data=['Dataset', 'Main Trait', 'variable'],\n",
    "                  # hover_name=['Dataset', 'Main Trait', 'variable'],\n",
    "                  )\n",
    "\n",
    "fig.update_layout(\n",
    "    margin = dict(t=0, l=0, r=0, b=0),\n",
    "    # uniformtext=dict(minsize=4, mode='hide', )\n",
    ")\n",
    "\n",
    "fig.show()\n",
    "\n",
    "folder_figures = \"../../../reports/figures/\"\n",
    "file_name = \"PxPlot_HTML_SurveysPerDataset_PerTrait_Grouped.html\"\n",
    "fig.write_html(F\"{folder_figures}{file_name}\")\n",
    "file_name = \"PxPlot_PDF_SurveysPerTrait_PerTrait_Grouped.pdf\"\n",
    "fig.write_image(F\"{folder_figures}{file_name}\")"
   ]
  }
 ],
 "metadata": {
  "kernelspec": {
   "display_name": "deeplearning",
   "language": "python",
   "name": "deeplearning"
  },
  "language_info": {
   "codemirror_mode": {
    "name": "ipython",
    "version": 3
   },
   "file_extension": ".py",
   "mimetype": "text/x-python",
   "name": "python",
   "nbconvert_exporter": "python",
   "pygments_lexer": "ipython3",
   "version": "3.10.4"
  },
  "vscode": {
   "interpreter": {
    "hash": "51432b8e5767c06330d9b51dfad63f9db0ea39868e37d921b9c2e277373f8d11"
   }
  }
 },
 "nbformat": 4,
 "nbformat_minor": 5
}
