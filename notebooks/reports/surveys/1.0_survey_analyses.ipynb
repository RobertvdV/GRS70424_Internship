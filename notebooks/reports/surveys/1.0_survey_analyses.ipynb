{
 "cells": [
  {
   "cell_type": "code",
   "execution_count": 23,
   "id": "88eee1f5",
   "metadata": {},
   "outputs": [],
   "source": [
    "import pandas as pd\n",
    "import numpy as np\n",
    "import seaborn as sns\n",
    "import matplotlib.pyplot as plt\n",
    "import matplotlib as mpl\n",
    "import glob\n",
    "import csv\n",
    "import plotly.express as px\n",
    "import plotly.graph_objs as go\n",
    "import plotly.subplots as sp\n",
    "from plotly.subplots import make_subplots\n"
   ]
  },
  {
   "cell_type": "code",
   "execution_count": 11,
   "id": "b887c9a0",
   "metadata": {},
   "outputs": [],
   "source": [
    "folder = \"../../../data/surveys/responses/\"\n",
    "response_list = glob.glob(F\"{folder}*\")\n",
    "\n",
    "folder = \"../../../data/surveys/surveys/\"\n",
    "survey_list = [F\"{folder}{lst[59:]}\" for lst in response_list]\n",
    "\n",
    "df_survey = pd.read_csv(survey_list[0], sep='\\t')\n",
    "df_survey.rename(columns={ df_survey.columns[0]: \"Index\" }, inplace = True)\n",
    "df_response = pd.read_csv(response_list[0], header=None).iloc[: , 1:].T\n",
    "df_response.rename(columns={ df_response.columns[0]: \"Sentence\", \n",
    "                            df_response.columns[1]: \"Result\" }, \n",
    "                            inplace = True)\n",
    "\n",
    "\n",
    "# Surveys\n",
    "df_surveys = pd.concat((pd.read_csv(f, sep='\\t') for f in survey_list), ignore_index=True)\n",
    "df_surveys.rename(columns={ df_surveys.columns[0]: \"Index\" }, inplace = True)\n",
    "\n",
    "# Response\n",
    "df_responses = pd.concat((pd.read_csv(f, header=None).iloc[: , 1:].T for f in response_list))\n",
    "df_responses.rename(columns={ df_responses.columns[0]: \"Sentence\", \n",
    "                            df_responses.columns[1]: \"Result\" }, \n",
    "                            inplace = True)\n",
    "# Melt\n",
    "df_melt = pd.melt(df_surveys, id_vars=[\"Species\",\n",
    "                                       \"Main Trait\",\n",
    "                                       \"SIM\",\n",
    "                                       \"Dataset\"],\n",
    "                             value_vars=[\"1\", \"2\", \"3\", \"4\", \"5\",],\n",
    "                             value_name=\"Sentence\"\n",
    "                \n",
    ")\n",
    "\n",
    "df_melt = df_melt.dropna()\n",
    "\n",
    "# Drop duplicates in each dataframe\n",
    "df_responses = df_responses.drop_duplicates()\n",
    "df_melt = df_melt.drop_duplicates()\n",
    "\n",
    "# Merge the dataframes based on the 'Sentence' column\n",
    "df = pd.merge(df_melt, df_responses, on='Sentence')\n",
    "df = df.drop(columns=[\"variable\"])"
   ]
  },
  {
   "attachments": {},
   "cell_type": "markdown",
   "id": "7ed45d0e",
   "metadata": {},
   "source": [
    "### Plotly"
   ]
  },
  {
   "cell_type": "code",
   "execution_count": 61,
   "id": "86c30780",
   "metadata": {},
   "outputs": [
    {
     "data": {
      "application/vnd.plotly.v1+json": {
       "config": {
        "plotlyServerURL": "https://plot.ly"
       },
       "data": [
        {
         "domain": {
          "x": [
           0,
           0.45
          ],
          "y": [
           0,
           1
          ]
         },
         "hole": 0.6,
         "hoverinfo": "label+percent+name",
         "labels": [
          "None of the above",
          "Can infer correct Entity",
          "Can infer correct Quality",
          "Can infer correct Value"
         ],
         "marker": {
          "colors": [
           "#d62728",
           "#1f77b4",
           "goldenrod",
           "#2ca02c"
          ]
         },
         "name": "Bert Similarity",
         "type": "pie",
         "values": [
          327,
          199,
          64,
          161
         ]
        },
        {
         "domain": {
          "x": [
           0.55,
           1
          ],
          "y": [
           0,
           1
          ]
         },
         "hole": 0.6,
         "hoverinfo": "label+percent+name",
         "labels": [
          "None of the above",
          "Can infer correct Entity",
          "Can infer correct Quality",
          "Can infer correct Value"
         ],
         "marker": {
          "colors": [
           "#d62728",
           "#1f77b4",
           "goldenrod",
           "#2ca02c"
          ]
         },
         "name": "Jaccard Similarity",
         "type": "pie",
         "values": [
          166,
          214,
          57,
          191
         ]
        }
       ],
       "layout": {
        "annotations": [
         {
          "font": {
           "size": 20
          },
          "showarrow": false,
          "text": "BERT",
          "x": 0.2,
          "y": 0.5
         },
         {
          "font": {
           "size": 20
          },
          "showarrow": false,
          "text": "JACC",
          "x": 0.8,
          "y": 0.5
         }
        ],
        "legend": {
         "traceorder": "normal"
        },
        "template": {
         "data": {
          "bar": [
           {
            "error_x": {
             "color": "#2a3f5f"
            },
            "error_y": {
             "color": "#2a3f5f"
            },
            "marker": {
             "line": {
              "color": "#E5ECF6",
              "width": 0.5
             },
             "pattern": {
              "fillmode": "overlay",
              "size": 10,
              "solidity": 0.2
             }
            },
            "type": "bar"
           }
          ],
          "barpolar": [
           {
            "marker": {
             "line": {
              "color": "#E5ECF6",
              "width": 0.5
             },
             "pattern": {
              "fillmode": "overlay",
              "size": 10,
              "solidity": 0.2
             }
            },
            "type": "barpolar"
           }
          ],
          "carpet": [
           {
            "aaxis": {
             "endlinecolor": "#2a3f5f",
             "gridcolor": "white",
             "linecolor": "white",
             "minorgridcolor": "white",
             "startlinecolor": "#2a3f5f"
            },
            "baxis": {
             "endlinecolor": "#2a3f5f",
             "gridcolor": "white",
             "linecolor": "white",
             "minorgridcolor": "white",
             "startlinecolor": "#2a3f5f"
            },
            "type": "carpet"
           }
          ],
          "choropleth": [
           {
            "colorbar": {
             "outlinewidth": 0,
             "ticks": ""
            },
            "type": "choropleth"
           }
          ],
          "contour": [
           {
            "colorbar": {
             "outlinewidth": 0,
             "ticks": ""
            },
            "colorscale": [
             [
              0,
              "#0d0887"
             ],
             [
              0.1111111111111111,
              "#46039f"
             ],
             [
              0.2222222222222222,
              "#7201a8"
             ],
             [
              0.3333333333333333,
              "#9c179e"
             ],
             [
              0.4444444444444444,
              "#bd3786"
             ],
             [
              0.5555555555555556,
              "#d8576b"
             ],
             [
              0.6666666666666666,
              "#ed7953"
             ],
             [
              0.7777777777777778,
              "#fb9f3a"
             ],
             [
              0.8888888888888888,
              "#fdca26"
             ],
             [
              1,
              "#f0f921"
             ]
            ],
            "type": "contour"
           }
          ],
          "contourcarpet": [
           {
            "colorbar": {
             "outlinewidth": 0,
             "ticks": ""
            },
            "type": "contourcarpet"
           }
          ],
          "heatmap": [
           {
            "colorbar": {
             "outlinewidth": 0,
             "ticks": ""
            },
            "colorscale": [
             [
              0,
              "#0d0887"
             ],
             [
              0.1111111111111111,
              "#46039f"
             ],
             [
              0.2222222222222222,
              "#7201a8"
             ],
             [
              0.3333333333333333,
              "#9c179e"
             ],
             [
              0.4444444444444444,
              "#bd3786"
             ],
             [
              0.5555555555555556,
              "#d8576b"
             ],
             [
              0.6666666666666666,
              "#ed7953"
             ],
             [
              0.7777777777777778,
              "#fb9f3a"
             ],
             [
              0.8888888888888888,
              "#fdca26"
             ],
             [
              1,
              "#f0f921"
             ]
            ],
            "type": "heatmap"
           }
          ],
          "heatmapgl": [
           {
            "colorbar": {
             "outlinewidth": 0,
             "ticks": ""
            },
            "colorscale": [
             [
              0,
              "#0d0887"
             ],
             [
              0.1111111111111111,
              "#46039f"
             ],
             [
              0.2222222222222222,
              "#7201a8"
             ],
             [
              0.3333333333333333,
              "#9c179e"
             ],
             [
              0.4444444444444444,
              "#bd3786"
             ],
             [
              0.5555555555555556,
              "#d8576b"
             ],
             [
              0.6666666666666666,
              "#ed7953"
             ],
             [
              0.7777777777777778,
              "#fb9f3a"
             ],
             [
              0.8888888888888888,
              "#fdca26"
             ],
             [
              1,
              "#f0f921"
             ]
            ],
            "type": "heatmapgl"
           }
          ],
          "histogram": [
           {
            "marker": {
             "pattern": {
              "fillmode": "overlay",
              "size": 10,
              "solidity": 0.2
             }
            },
            "type": "histogram"
           }
          ],
          "histogram2d": [
           {
            "colorbar": {
             "outlinewidth": 0,
             "ticks": ""
            },
            "colorscale": [
             [
              0,
              "#0d0887"
             ],
             [
              0.1111111111111111,
              "#46039f"
             ],
             [
              0.2222222222222222,
              "#7201a8"
             ],
             [
              0.3333333333333333,
              "#9c179e"
             ],
             [
              0.4444444444444444,
              "#bd3786"
             ],
             [
              0.5555555555555556,
              "#d8576b"
             ],
             [
              0.6666666666666666,
              "#ed7953"
             ],
             [
              0.7777777777777778,
              "#fb9f3a"
             ],
             [
              0.8888888888888888,
              "#fdca26"
             ],
             [
              1,
              "#f0f921"
             ]
            ],
            "type": "histogram2d"
           }
          ],
          "histogram2dcontour": [
           {
            "colorbar": {
             "outlinewidth": 0,
             "ticks": ""
            },
            "colorscale": [
             [
              0,
              "#0d0887"
             ],
             [
              0.1111111111111111,
              "#46039f"
             ],
             [
              0.2222222222222222,
              "#7201a8"
             ],
             [
              0.3333333333333333,
              "#9c179e"
             ],
             [
              0.4444444444444444,
              "#bd3786"
             ],
             [
              0.5555555555555556,
              "#d8576b"
             ],
             [
              0.6666666666666666,
              "#ed7953"
             ],
             [
              0.7777777777777778,
              "#fb9f3a"
             ],
             [
              0.8888888888888888,
              "#fdca26"
             ],
             [
              1,
              "#f0f921"
             ]
            ],
            "type": "histogram2dcontour"
           }
          ],
          "mesh3d": [
           {
            "colorbar": {
             "outlinewidth": 0,
             "ticks": ""
            },
            "type": "mesh3d"
           }
          ],
          "parcoords": [
           {
            "line": {
             "colorbar": {
              "outlinewidth": 0,
              "ticks": ""
             }
            },
            "type": "parcoords"
           }
          ],
          "pie": [
           {
            "automargin": true,
            "type": "pie"
           }
          ],
          "scatter": [
           {
            "fillpattern": {
             "fillmode": "overlay",
             "size": 10,
             "solidity": 0.2
            },
            "type": "scatter"
           }
          ],
          "scatter3d": [
           {
            "line": {
             "colorbar": {
              "outlinewidth": 0,
              "ticks": ""
             }
            },
            "marker": {
             "colorbar": {
              "outlinewidth": 0,
              "ticks": ""
             }
            },
            "type": "scatter3d"
           }
          ],
          "scattercarpet": [
           {
            "marker": {
             "colorbar": {
              "outlinewidth": 0,
              "ticks": ""
             }
            },
            "type": "scattercarpet"
           }
          ],
          "scattergeo": [
           {
            "marker": {
             "colorbar": {
              "outlinewidth": 0,
              "ticks": ""
             }
            },
            "type": "scattergeo"
           }
          ],
          "scattergl": [
           {
            "marker": {
             "colorbar": {
              "outlinewidth": 0,
              "ticks": ""
             }
            },
            "type": "scattergl"
           }
          ],
          "scattermapbox": [
           {
            "marker": {
             "colorbar": {
              "outlinewidth": 0,
              "ticks": ""
             }
            },
            "type": "scattermapbox"
           }
          ],
          "scatterpolar": [
           {
            "marker": {
             "colorbar": {
              "outlinewidth": 0,
              "ticks": ""
             }
            },
            "type": "scatterpolar"
           }
          ],
          "scatterpolargl": [
           {
            "marker": {
             "colorbar": {
              "outlinewidth": 0,
              "ticks": ""
             }
            },
            "type": "scatterpolargl"
           }
          ],
          "scatterternary": [
           {
            "marker": {
             "colorbar": {
              "outlinewidth": 0,
              "ticks": ""
             }
            },
            "type": "scatterternary"
           }
          ],
          "surface": [
           {
            "colorbar": {
             "outlinewidth": 0,
             "ticks": ""
            },
            "colorscale": [
             [
              0,
              "#0d0887"
             ],
             [
              0.1111111111111111,
              "#46039f"
             ],
             [
              0.2222222222222222,
              "#7201a8"
             ],
             [
              0.3333333333333333,
              "#9c179e"
             ],
             [
              0.4444444444444444,
              "#bd3786"
             ],
             [
              0.5555555555555556,
              "#d8576b"
             ],
             [
              0.6666666666666666,
              "#ed7953"
             ],
             [
              0.7777777777777778,
              "#fb9f3a"
             ],
             [
              0.8888888888888888,
              "#fdca26"
             ],
             [
              1,
              "#f0f921"
             ]
            ],
            "type": "surface"
           }
          ],
          "table": [
           {
            "cells": {
             "fill": {
              "color": "#EBF0F8"
             },
             "line": {
              "color": "white"
             }
            },
            "header": {
             "fill": {
              "color": "#C8D4E3"
             },
             "line": {
              "color": "white"
             }
            },
            "type": "table"
           }
          ]
         },
         "layout": {
          "annotationdefaults": {
           "arrowcolor": "#2a3f5f",
           "arrowhead": 0,
           "arrowwidth": 1
          },
          "autotypenumbers": "strict",
          "coloraxis": {
           "colorbar": {
            "outlinewidth": 0,
            "ticks": ""
           }
          },
          "colorscale": {
           "diverging": [
            [
             0,
             "#8e0152"
            ],
            [
             0.1,
             "#c51b7d"
            ],
            [
             0.2,
             "#de77ae"
            ],
            [
             0.3,
             "#f1b6da"
            ],
            [
             0.4,
             "#fde0ef"
            ],
            [
             0.5,
             "#f7f7f7"
            ],
            [
             0.6,
             "#e6f5d0"
            ],
            [
             0.7,
             "#b8e186"
            ],
            [
             0.8,
             "#7fbc41"
            ],
            [
             0.9,
             "#4d9221"
            ],
            [
             1,
             "#276419"
            ]
           ],
           "sequential": [
            [
             0,
             "#0d0887"
            ],
            [
             0.1111111111111111,
             "#46039f"
            ],
            [
             0.2222222222222222,
             "#7201a8"
            ],
            [
             0.3333333333333333,
             "#9c179e"
            ],
            [
             0.4444444444444444,
             "#bd3786"
            ],
            [
             0.5555555555555556,
             "#d8576b"
            ],
            [
             0.6666666666666666,
             "#ed7953"
            ],
            [
             0.7777777777777778,
             "#fb9f3a"
            ],
            [
             0.8888888888888888,
             "#fdca26"
            ],
            [
             1,
             "#f0f921"
            ]
           ],
           "sequentialminus": [
            [
             0,
             "#0d0887"
            ],
            [
             0.1111111111111111,
             "#46039f"
            ],
            [
             0.2222222222222222,
             "#7201a8"
            ],
            [
             0.3333333333333333,
             "#9c179e"
            ],
            [
             0.4444444444444444,
             "#bd3786"
            ],
            [
             0.5555555555555556,
             "#d8576b"
            ],
            [
             0.6666666666666666,
             "#ed7953"
            ],
            [
             0.7777777777777778,
             "#fb9f3a"
            ],
            [
             0.8888888888888888,
             "#fdca26"
            ],
            [
             1,
             "#f0f921"
            ]
           ]
          },
          "colorway": [
           "#636efa",
           "#EF553B",
           "#00cc96",
           "#ab63fa",
           "#FFA15A",
           "#19d3f3",
           "#FF6692",
           "#B6E880",
           "#FF97FF",
           "#FECB52"
          ],
          "font": {
           "color": "#2a3f5f"
          },
          "geo": {
           "bgcolor": "white",
           "lakecolor": "white",
           "landcolor": "#E5ECF6",
           "showlakes": true,
           "showland": true,
           "subunitcolor": "white"
          },
          "hoverlabel": {
           "align": "left"
          },
          "hovermode": "closest",
          "mapbox": {
           "style": "light"
          },
          "paper_bgcolor": "white",
          "plot_bgcolor": "#E5ECF6",
          "polar": {
           "angularaxis": {
            "gridcolor": "white",
            "linecolor": "white",
            "ticks": ""
           },
           "bgcolor": "#E5ECF6",
           "radialaxis": {
            "gridcolor": "white",
            "linecolor": "white",
            "ticks": ""
           }
          },
          "scene": {
           "xaxis": {
            "backgroundcolor": "#E5ECF6",
            "gridcolor": "white",
            "gridwidth": 2,
            "linecolor": "white",
            "showbackground": true,
            "ticks": "",
            "zerolinecolor": "white"
           },
           "yaxis": {
            "backgroundcolor": "#E5ECF6",
            "gridcolor": "white",
            "gridwidth": 2,
            "linecolor": "white",
            "showbackground": true,
            "ticks": "",
            "zerolinecolor": "white"
           },
           "zaxis": {
            "backgroundcolor": "#E5ECF6",
            "gridcolor": "white",
            "gridwidth": 2,
            "linecolor": "white",
            "showbackground": true,
            "ticks": "",
            "zerolinecolor": "white"
           }
          },
          "shapedefaults": {
           "line": {
            "color": "#2a3f5f"
           }
          },
          "ternary": {
           "aaxis": {
            "gridcolor": "white",
            "linecolor": "white",
            "ticks": ""
           },
           "baxis": {
            "gridcolor": "white",
            "linecolor": "white",
            "ticks": ""
           },
           "bgcolor": "#E5ECF6",
           "caxis": {
            "gridcolor": "white",
            "linecolor": "white",
            "ticks": ""
           }
          },
          "title": {
           "x": 0.05
          },
          "xaxis": {
           "automargin": true,
           "gridcolor": "white",
           "linecolor": "white",
           "ticks": "",
           "title": {
            "standoff": 15
           },
           "zerolinecolor": "white",
           "zerolinewidth": 2
          },
          "yaxis": {
           "automargin": true,
           "gridcolor": "white",
           "linecolor": "white",
           "ticks": "",
           "title": {
            "standoff": 15
           },
           "zerolinecolor": "white",
           "zerolinewidth": 2
          }
         }
        },
        "title": {
         "text": "Trait Annotation"
        }
       }
      }
     },
     "metadata": {},
     "output_type": "display_data"
    }
   ],
   "source": [
    "df_plot = df.groupby([\"SIM\", \"Result\"]).count()[\"Species\"]\n",
    "df_plot.name = \"Data\"\n",
    "df_plot\n",
    "\n",
    "labels = ['None of the above', 'Can infer correct Entity', 'Can infer correct Quality', 'Can infer correct Value']\n",
    "colors = [\n",
    "     '#d62728', \n",
    "     '#1f77b4',\n",
    "     'goldenrod',\n",
    "     '#2ca02c', \n",
    "     ]\n",
    "\n",
    "# Create subplots: use 'domain' type for Pie subplot\n",
    "fig = make_subplots(rows=1, cols=2, specs=[[{'type':'domain'}, {'type':'domain'}]])\n",
    "fig.add_trace(go.Pie(labels=labels, \n",
    "                     values=df_plot.loc[\"Bert\", labels].values,\n",
    "                     name=\"Bert Similarity\",\n",
    "                     marker_colors=colors),\n",
    "              1, 1)\n",
    "fig.add_trace(go.Pie(labels=labels, \n",
    "                     values=df_plot.loc[\"Jacc\", labels].values,\n",
    "                     name=\"Jaccard Similarity\",\n",
    "                     marker_colors=colors),\n",
    "              1, 2)\n",
    "\n",
    "# Use `hole` to create a donut-like pie chart\n",
    "fig.update_traces(hole=.6, hoverinfo=\"label+percent+name\",)\n",
    "\n",
    "fig.update_layout(\n",
    "    title_text=\"Trait Annotation\",\n",
    "    # Add annotations in the center of the donut pies.\n",
    "    annotations=[dict(text='BERT', x=0.2, y=0.5, font_size=20, showarrow=False),\n",
    "                 dict(text='JACC', x=0.8, y=0.5, font_size=20, showarrow=False)],\n",
    "                 legend={'traceorder':'normal'})\n",
    "fig.show()\n"
   ]
  },
  {
   "cell_type": "code",
   "execution_count": 73,
   "id": "28d449ff",
   "metadata": {},
   "outputs": [
    {
     "data": {
      "text/plain": [
       "array([80, 46, 11, 77])"
      ]
     },
     "execution_count": 73,
     "metadata": {},
     "output_type": "execute_result"
    }
   ],
   "source": [
    "df_sub.groupby(\"Result\").count().loc[labels, 'Species'].values"
   ]
  },
  {
   "cell_type": "code",
   "execution_count": 75,
   "id": "d01fec20",
   "metadata": {},
   "outputs": [
    {
     "data": {
      "application/vnd.plotly.v1+json": {
       "config": {
        "plotlyServerURL": "https://plot.ly"
       },
       "data": [
        {
         "domain": {
          "x": [
           0,
           0.2888888888888889
          ],
          "y": [
           0.575,
           1
          ]
         },
         "hole": 0.4,
         "hoverinfo": "label+percent+name",
         "labels": [
          "None of the above",
          "Can infer correct Entity",
          "Can infer correct Quality",
          "Can infer correct Value"
         ],
         "marker": {
          "colors": [
           "#d62728",
           "#1f77b4",
           "goldenrod",
           "#2ca02c"
          ]
         },
         "name": "Jacc PlantNet",
         "sort": false,
         "type": "pie",
         "values": [
          80,
          46,
          11,
          77
         ]
        },
        {
         "domain": {
          "x": [
           0.35555555555555557,
           0.6444444444444445
          ],
          "y": [
           0.575,
           1
          ]
         },
         "hole": 0.4,
         "hoverinfo": "label+percent+name",
         "labels": [
          "None of the above",
          "Can infer correct Entity",
          "Can infer correct Quality",
          "Can infer correct Value"
         ],
         "marker": {
          "colors": [
           "#d62728",
           "#1f77b4",
           "goldenrod",
           "#2ca02c"
          ]
         },
         "name": "Jacc Caribbean",
         "sort": false,
         "type": "pie",
         "values": [
          53,
          113,
          23,
          77
         ]
        },
        {
         "domain": {
          "x": [
           0.7111111111111111,
           1
          ],
          "y": [
           0.575,
           1
          ]
         },
         "hole": 0.4,
         "hoverinfo": "label+percent+name",
         "labels": [
          "None of the above",
          "Can infer correct Entity",
          "Can infer correct Quality",
          "Can infer correct Value"
         ],
         "marker": {
          "colors": [
           "#d62728",
           "#1f77b4",
           "goldenrod",
           "#2ca02c"
          ]
         },
         "name": "Jacc Palm",
         "sort": false,
         "type": "pie",
         "values": [
          33,
          55,
          23,
          37
         ]
        },
        {
         "domain": {
          "x": [
           0,
           0.2888888888888889
          ],
          "y": [
           0,
           0.425
          ]
         },
         "hole": 0.4,
         "hoverinfo": "label+percent+name",
         "labels": [
          "None of the above",
          "Can infer correct Entity",
          "Can infer correct Quality",
          "Can infer correct Value"
         ],
         "marker": {
          "colors": [
           "#d62728",
           "#1f77b4",
           "goldenrod",
           "#2ca02c"
          ]
         },
         "name": "Bert PlantNet",
         "sort": false,
         "type": "pie",
         "values": [
          166,
          78,
          31,
          58
         ]
        },
        {
         "domain": {
          "x": [
           0.35555555555555557,
           0.6444444444444445
          ],
          "y": [
           0,
           0.425
          ]
         },
         "hole": 0.4,
         "hoverinfo": "label+percent+name",
         "labels": [
          "None of the above",
          "Can infer correct Entity",
          "Can infer correct Quality",
          "Can infer correct Value"
         ],
         "marker": {
          "colors": [
           "#d62728",
           "#1f77b4",
           "goldenrod",
           "#2ca02c"
          ]
         },
         "name": "Bert Caribbean",
         "sort": false,
         "type": "pie",
         "values": [
          113,
          84,
          21,
          65
         ]
        },
        {
         "domain": {
          "x": [
           0.7111111111111111,
           1
          ],
          "y": [
           0,
           0.425
          ]
         },
         "hole": 0.4,
         "hoverinfo": "label+percent+name",
         "labels": [
          "None of the above",
          "Can infer correct Entity",
          "Can infer correct Quality",
          "Can infer correct Value"
         ],
         "marker": {
          "colors": [
           "#d62728",
           "#1f77b4",
           "goldenrod",
           "#2ca02c"
          ]
         },
         "name": "Bert Palm",
         "sort": false,
         "type": "pie",
         "values": [
          48,
          37,
          12,
          38
         ]
        }
       ],
       "layout": {
        "annotations": [
         {
          "font": {
           "size": 15
          },
          "showarrow": false,
          "text": "PlantNet Dataset Bert",
          "x": 0.05,
          "y": 1.1
         },
         {
          "font": {
           "size": 15
          },
          "showarrow": false,
          "text": "Palm Dataset Bert",
          "x": 0.5,
          "y": 1.1
         },
         {
          "font": {
           "size": 15
          },
          "showarrow": false,
          "text": "Caribbean Dataset Bert",
          "x": 0.95,
          "y": 1.1
         },
         {
          "font": {
           "size": 15
          },
          "showarrow": false,
          "text": "PlantNet Dataset Jacc",
          "x": 0.05,
          "y": -0.12
         },
         {
          "font": {
           "size": 15
          },
          "showarrow": false,
          "text": "Palm Dataset Jacc",
          "x": 0.5,
          "y": -0.12
         },
         {
          "font": {
           "size": 15
          },
          "showarrow": false,
          "text": "Caribbean Dataset Jacc",
          "x": 0.95,
          "y": -0.12
         }
        ],
        "template": {
         "data": {
          "bar": [
           {
            "error_x": {
             "color": "#2a3f5f"
            },
            "error_y": {
             "color": "#2a3f5f"
            },
            "marker": {
             "line": {
              "color": "#E5ECF6",
              "width": 0.5
             },
             "pattern": {
              "fillmode": "overlay",
              "size": 10,
              "solidity": 0.2
             }
            },
            "type": "bar"
           }
          ],
          "barpolar": [
           {
            "marker": {
             "line": {
              "color": "#E5ECF6",
              "width": 0.5
             },
             "pattern": {
              "fillmode": "overlay",
              "size": 10,
              "solidity": 0.2
             }
            },
            "type": "barpolar"
           }
          ],
          "carpet": [
           {
            "aaxis": {
             "endlinecolor": "#2a3f5f",
             "gridcolor": "white",
             "linecolor": "white",
             "minorgridcolor": "white",
             "startlinecolor": "#2a3f5f"
            },
            "baxis": {
             "endlinecolor": "#2a3f5f",
             "gridcolor": "white",
             "linecolor": "white",
             "minorgridcolor": "white",
             "startlinecolor": "#2a3f5f"
            },
            "type": "carpet"
           }
          ],
          "choropleth": [
           {
            "colorbar": {
             "outlinewidth": 0,
             "ticks": ""
            },
            "type": "choropleth"
           }
          ],
          "contour": [
           {
            "colorbar": {
             "outlinewidth": 0,
             "ticks": ""
            },
            "colorscale": [
             [
              0,
              "#0d0887"
             ],
             [
              0.1111111111111111,
              "#46039f"
             ],
             [
              0.2222222222222222,
              "#7201a8"
             ],
             [
              0.3333333333333333,
              "#9c179e"
             ],
             [
              0.4444444444444444,
              "#bd3786"
             ],
             [
              0.5555555555555556,
              "#d8576b"
             ],
             [
              0.6666666666666666,
              "#ed7953"
             ],
             [
              0.7777777777777778,
              "#fb9f3a"
             ],
             [
              0.8888888888888888,
              "#fdca26"
             ],
             [
              1,
              "#f0f921"
             ]
            ],
            "type": "contour"
           }
          ],
          "contourcarpet": [
           {
            "colorbar": {
             "outlinewidth": 0,
             "ticks": ""
            },
            "type": "contourcarpet"
           }
          ],
          "heatmap": [
           {
            "colorbar": {
             "outlinewidth": 0,
             "ticks": ""
            },
            "colorscale": [
             [
              0,
              "#0d0887"
             ],
             [
              0.1111111111111111,
              "#46039f"
             ],
             [
              0.2222222222222222,
              "#7201a8"
             ],
             [
              0.3333333333333333,
              "#9c179e"
             ],
             [
              0.4444444444444444,
              "#bd3786"
             ],
             [
              0.5555555555555556,
              "#d8576b"
             ],
             [
              0.6666666666666666,
              "#ed7953"
             ],
             [
              0.7777777777777778,
              "#fb9f3a"
             ],
             [
              0.8888888888888888,
              "#fdca26"
             ],
             [
              1,
              "#f0f921"
             ]
            ],
            "type": "heatmap"
           }
          ],
          "heatmapgl": [
           {
            "colorbar": {
             "outlinewidth": 0,
             "ticks": ""
            },
            "colorscale": [
             [
              0,
              "#0d0887"
             ],
             [
              0.1111111111111111,
              "#46039f"
             ],
             [
              0.2222222222222222,
              "#7201a8"
             ],
             [
              0.3333333333333333,
              "#9c179e"
             ],
             [
              0.4444444444444444,
              "#bd3786"
             ],
             [
              0.5555555555555556,
              "#d8576b"
             ],
             [
              0.6666666666666666,
              "#ed7953"
             ],
             [
              0.7777777777777778,
              "#fb9f3a"
             ],
             [
              0.8888888888888888,
              "#fdca26"
             ],
             [
              1,
              "#f0f921"
             ]
            ],
            "type": "heatmapgl"
           }
          ],
          "histogram": [
           {
            "marker": {
             "pattern": {
              "fillmode": "overlay",
              "size": 10,
              "solidity": 0.2
             }
            },
            "type": "histogram"
           }
          ],
          "histogram2d": [
           {
            "colorbar": {
             "outlinewidth": 0,
             "ticks": ""
            },
            "colorscale": [
             [
              0,
              "#0d0887"
             ],
             [
              0.1111111111111111,
              "#46039f"
             ],
             [
              0.2222222222222222,
              "#7201a8"
             ],
             [
              0.3333333333333333,
              "#9c179e"
             ],
             [
              0.4444444444444444,
              "#bd3786"
             ],
             [
              0.5555555555555556,
              "#d8576b"
             ],
             [
              0.6666666666666666,
              "#ed7953"
             ],
             [
              0.7777777777777778,
              "#fb9f3a"
             ],
             [
              0.8888888888888888,
              "#fdca26"
             ],
             [
              1,
              "#f0f921"
             ]
            ],
            "type": "histogram2d"
           }
          ],
          "histogram2dcontour": [
           {
            "colorbar": {
             "outlinewidth": 0,
             "ticks": ""
            },
            "colorscale": [
             [
              0,
              "#0d0887"
             ],
             [
              0.1111111111111111,
              "#46039f"
             ],
             [
              0.2222222222222222,
              "#7201a8"
             ],
             [
              0.3333333333333333,
              "#9c179e"
             ],
             [
              0.4444444444444444,
              "#bd3786"
             ],
             [
              0.5555555555555556,
              "#d8576b"
             ],
             [
              0.6666666666666666,
              "#ed7953"
             ],
             [
              0.7777777777777778,
              "#fb9f3a"
             ],
             [
              0.8888888888888888,
              "#fdca26"
             ],
             [
              1,
              "#f0f921"
             ]
            ],
            "type": "histogram2dcontour"
           }
          ],
          "mesh3d": [
           {
            "colorbar": {
             "outlinewidth": 0,
             "ticks": ""
            },
            "type": "mesh3d"
           }
          ],
          "parcoords": [
           {
            "line": {
             "colorbar": {
              "outlinewidth": 0,
              "ticks": ""
             }
            },
            "type": "parcoords"
           }
          ],
          "pie": [
           {
            "automargin": true,
            "type": "pie"
           }
          ],
          "scatter": [
           {
            "fillpattern": {
             "fillmode": "overlay",
             "size": 10,
             "solidity": 0.2
            },
            "type": "scatter"
           }
          ],
          "scatter3d": [
           {
            "line": {
             "colorbar": {
              "outlinewidth": 0,
              "ticks": ""
             }
            },
            "marker": {
             "colorbar": {
              "outlinewidth": 0,
              "ticks": ""
             }
            },
            "type": "scatter3d"
           }
          ],
          "scattercarpet": [
           {
            "marker": {
             "colorbar": {
              "outlinewidth": 0,
              "ticks": ""
             }
            },
            "type": "scattercarpet"
           }
          ],
          "scattergeo": [
           {
            "marker": {
             "colorbar": {
              "outlinewidth": 0,
              "ticks": ""
             }
            },
            "type": "scattergeo"
           }
          ],
          "scattergl": [
           {
            "marker": {
             "colorbar": {
              "outlinewidth": 0,
              "ticks": ""
             }
            },
            "type": "scattergl"
           }
          ],
          "scattermapbox": [
           {
            "marker": {
             "colorbar": {
              "outlinewidth": 0,
              "ticks": ""
             }
            },
            "type": "scattermapbox"
           }
          ],
          "scatterpolar": [
           {
            "marker": {
             "colorbar": {
              "outlinewidth": 0,
              "ticks": ""
             }
            },
            "type": "scatterpolar"
           }
          ],
          "scatterpolargl": [
           {
            "marker": {
             "colorbar": {
              "outlinewidth": 0,
              "ticks": ""
             }
            },
            "type": "scatterpolargl"
           }
          ],
          "scatterternary": [
           {
            "marker": {
             "colorbar": {
              "outlinewidth": 0,
              "ticks": ""
             }
            },
            "type": "scatterternary"
           }
          ],
          "surface": [
           {
            "colorbar": {
             "outlinewidth": 0,
             "ticks": ""
            },
            "colorscale": [
             [
              0,
              "#0d0887"
             ],
             [
              0.1111111111111111,
              "#46039f"
             ],
             [
              0.2222222222222222,
              "#7201a8"
             ],
             [
              0.3333333333333333,
              "#9c179e"
             ],
             [
              0.4444444444444444,
              "#bd3786"
             ],
             [
              0.5555555555555556,
              "#d8576b"
             ],
             [
              0.6666666666666666,
              "#ed7953"
             ],
             [
              0.7777777777777778,
              "#fb9f3a"
             ],
             [
              0.8888888888888888,
              "#fdca26"
             ],
             [
              1,
              "#f0f921"
             ]
            ],
            "type": "surface"
           }
          ],
          "table": [
           {
            "cells": {
             "fill": {
              "color": "#EBF0F8"
             },
             "line": {
              "color": "white"
             }
            },
            "header": {
             "fill": {
              "color": "#C8D4E3"
             },
             "line": {
              "color": "white"
             }
            },
            "type": "table"
           }
          ]
         },
         "layout": {
          "annotationdefaults": {
           "arrowcolor": "#2a3f5f",
           "arrowhead": 0,
           "arrowwidth": 1
          },
          "autotypenumbers": "strict",
          "coloraxis": {
           "colorbar": {
            "outlinewidth": 0,
            "ticks": ""
           }
          },
          "colorscale": {
           "diverging": [
            [
             0,
             "#8e0152"
            ],
            [
             0.1,
             "#c51b7d"
            ],
            [
             0.2,
             "#de77ae"
            ],
            [
             0.3,
             "#f1b6da"
            ],
            [
             0.4,
             "#fde0ef"
            ],
            [
             0.5,
             "#f7f7f7"
            ],
            [
             0.6,
             "#e6f5d0"
            ],
            [
             0.7,
             "#b8e186"
            ],
            [
             0.8,
             "#7fbc41"
            ],
            [
             0.9,
             "#4d9221"
            ],
            [
             1,
             "#276419"
            ]
           ],
           "sequential": [
            [
             0,
             "#0d0887"
            ],
            [
             0.1111111111111111,
             "#46039f"
            ],
            [
             0.2222222222222222,
             "#7201a8"
            ],
            [
             0.3333333333333333,
             "#9c179e"
            ],
            [
             0.4444444444444444,
             "#bd3786"
            ],
            [
             0.5555555555555556,
             "#d8576b"
            ],
            [
             0.6666666666666666,
             "#ed7953"
            ],
            [
             0.7777777777777778,
             "#fb9f3a"
            ],
            [
             0.8888888888888888,
             "#fdca26"
            ],
            [
             1,
             "#f0f921"
            ]
           ],
           "sequentialminus": [
            [
             0,
             "#0d0887"
            ],
            [
             0.1111111111111111,
             "#46039f"
            ],
            [
             0.2222222222222222,
             "#7201a8"
            ],
            [
             0.3333333333333333,
             "#9c179e"
            ],
            [
             0.4444444444444444,
             "#bd3786"
            ],
            [
             0.5555555555555556,
             "#d8576b"
            ],
            [
             0.6666666666666666,
             "#ed7953"
            ],
            [
             0.7777777777777778,
             "#fb9f3a"
            ],
            [
             0.8888888888888888,
             "#fdca26"
            ],
            [
             1,
             "#f0f921"
            ]
           ]
          },
          "colorway": [
           "#636efa",
           "#EF553B",
           "#00cc96",
           "#ab63fa",
           "#FFA15A",
           "#19d3f3",
           "#FF6692",
           "#B6E880",
           "#FF97FF",
           "#FECB52"
          ],
          "font": {
           "color": "#2a3f5f"
          },
          "geo": {
           "bgcolor": "white",
           "lakecolor": "white",
           "landcolor": "#E5ECF6",
           "showlakes": true,
           "showland": true,
           "subunitcolor": "white"
          },
          "hoverlabel": {
           "align": "left"
          },
          "hovermode": "closest",
          "mapbox": {
           "style": "light"
          },
          "paper_bgcolor": "white",
          "plot_bgcolor": "#E5ECF6",
          "polar": {
           "angularaxis": {
            "gridcolor": "white",
            "linecolor": "white",
            "ticks": ""
           },
           "bgcolor": "#E5ECF6",
           "radialaxis": {
            "gridcolor": "white",
            "linecolor": "white",
            "ticks": ""
           }
          },
          "scene": {
           "xaxis": {
            "backgroundcolor": "#E5ECF6",
            "gridcolor": "white",
            "gridwidth": 2,
            "linecolor": "white",
            "showbackground": true,
            "ticks": "",
            "zerolinecolor": "white"
           },
           "yaxis": {
            "backgroundcolor": "#E5ECF6",
            "gridcolor": "white",
            "gridwidth": 2,
            "linecolor": "white",
            "showbackground": true,
            "ticks": "",
            "zerolinecolor": "white"
           },
           "zaxis": {
            "backgroundcolor": "#E5ECF6",
            "gridcolor": "white",
            "gridwidth": 2,
            "linecolor": "white",
            "showbackground": true,
            "ticks": "",
            "zerolinecolor": "white"
           }
          },
          "shapedefaults": {
           "line": {
            "color": "#2a3f5f"
           }
          },
          "ternary": {
           "aaxis": {
            "gridcolor": "white",
            "linecolor": "white",
            "ticks": ""
           },
           "baxis": {
            "gridcolor": "white",
            "linecolor": "white",
            "ticks": ""
           },
           "bgcolor": "#E5ECF6",
           "caxis": {
            "gridcolor": "white",
            "linecolor": "white",
            "ticks": ""
           }
          },
          "title": {
           "x": 0.05
          },
          "xaxis": {
           "automargin": true,
           "gridcolor": "white",
           "linecolor": "white",
           "ticks": "",
           "title": {
            "standoff": 15
           },
           "zerolinecolor": "white",
           "zerolinewidth": 2
          },
          "yaxis": {
           "automargin": true,
           "gridcolor": "white",
           "linecolor": "white",
           "ticks": "",
           "title": {
            "standoff": 15
           },
           "zerolinecolor": "white",
           "zerolinewidth": 2
          }
         }
        },
        "title": {
         "text": "Trait Annotation"
        }
       }
      }
     },
     "metadata": {},
     "output_type": "display_data"
    }
   ],
   "source": [
    "\n",
    "# Create subplots: use 'domain' type for Pie subplot\n",
    "fig = make_subplots(rows=2, cols=3, specs=[[{'type':'domain'}, {'type':'domain'}, {'type':'domain'}],\n",
    "                                           [{'type':'domain'}, {'type':'domain'}, {'type':'domain'}]])\n",
    "\n",
    "# Add pie charts to each subplot\n",
    "for i, sim in enumerate(df[\"SIM\"].unique()):\n",
    "    for j, dataset in enumerate(df[\"Dataset\"].unique()):\n",
    "        df_sub = df[(df[\"SIM\"] == sim) & (df[\"Dataset\"] == dataset)]\n",
    "        fig.add_trace(go.Pie(labels=labels, \n",
    "                             values=df_sub.groupby(\"Result\").count().loc[labels, 'Species'].values,\n",
    "                             name=sim + ' ' + dataset,\n",
    "                             sort=False,\n",
    "                             marker_colors=colors),\n",
    "                      i+1, j+1)\n",
    "\n",
    "# Use `hole` to create a donut-like pie chart\n",
    "fig.update_traces(hole=.4, hoverinfo=\"label+percent+name\")\n",
    "\n",
    "fig.update_layout(\n",
    "    title_text=\"Trait Annotation\",\n",
    "    # Add annotations in the center of the donut pies.\n",
    "    annotations=[dict(text='PlantNet Dataset Bert',  x=0.050, y=1.1, font_size=15, showarrow=False),\n",
    "                 dict(text='Palm Dataset Bert',      x=0.500, y=1.1, font_size=15, showarrow=False),\n",
    "                 dict(text='Caribbean Dataset Bert', x=0.950, y=1.1, font_size=15, showarrow=False),\n",
    "                 dict(text='PlantNet Dataset Jacc',  x=0.050, y=-0.12, font_size=15, showarrow=False),\n",
    "                 dict(text='Palm Dataset Jacc',      x=0.500, y=-0.12, font_size=15, showarrow=False),\n",
    "                 dict(text='Caribbean Dataset Jacc', x=0.950, y=-0.12, font_size=15, showarrow=False)]\n",
    ")\n",
    "\n",
    "fig.show()"
   ]
  },
  {
   "cell_type": "code",
   "execution_count": 76,
   "id": "e6b47461",
   "metadata": {},
   "outputs": [
    {
     "data": {
      "application/vnd.plotly.v1+json": {
       "config": {
        "plotlyServerURL": "https://plot.ly"
       },
       "data": [
        {
         "direction": "clockwise",
         "domain": {
          "x": [
           0,
           0.2888888888888889
          ],
          "y": [
           0,
           1
          ]
         },
         "hole": 0.6,
         "hoverinfo": "label+percent+value",
         "labels": [
          "None of the above",
          "Can infer correct Entity",
          "Can infer correct Quality",
          "Can infer correct Value"
         ],
         "marker": {
          "colors": [
           "#d62728",
           "#1f77b4",
           "goldenrod",
           "#2ca02c"
          ]
         },
         "name": "PlantNet",
         "sort": false,
         "type": "pie",
         "values": [
          246,
          124,
          42,
          135
         ]
        },
        {
         "direction": "clockwise",
         "domain": {
          "x": [
           0.35555555555555557,
           0.6444444444444445
          ],
          "y": [
           0,
           1
          ]
         },
         "hole": 0.6,
         "hoverinfo": "label+percent+value",
         "labels": [
          "None of the above",
          "Can infer correct Entity",
          "Can infer correct Quality",
          "Can infer correct Value"
         ],
         "marker": {
          "colors": [
           "#d62728",
           "#1f77b4",
           "goldenrod",
           "#2ca02c"
          ]
         },
         "name": "Caribbean",
         "sort": false,
         "type": "pie",
         "values": [
          166,
          197,
          44,
          142
         ]
        },
        {
         "direction": "clockwise",
         "domain": {
          "x": [
           0.7111111111111111,
           1
          ],
          "y": [
           0,
           1
          ]
         },
         "hole": 0.6,
         "hoverinfo": "label+percent+value",
         "labels": [
          "None of the above",
          "Can infer correct Entity",
          "Can infer correct Quality",
          "Can infer correct Value"
         ],
         "marker": {
          "colors": [
           "#d62728",
           "#1f77b4",
           "goldenrod",
           "#2ca02c"
          ]
         },
         "name": "Palm",
         "sort": false,
         "type": "pie",
         "values": [
          81,
          92,
          35,
          75
         ]
        }
       ],
       "layout": {
        "annotations": [
         {
          "font": {
           "size": 15
          },
          "showarrow": false,
          "text": "PlantNet Dataset",
          "x": 0.09,
          "y": 0.5
         },
         {
          "font": {
           "size": 15
          },
          "showarrow": false,
          "text": "Palm Dataset",
          "x": 0.5,
          "y": 0.5
         },
         {
          "font": {
           "size": 15
          },
          "showarrow": false,
          "text": "Caribbean Dataset",
          "x": 0.915,
          "y": 0.5
         }
        ],
        "template": {
         "data": {
          "bar": [
           {
            "error_x": {
             "color": "#2a3f5f"
            },
            "error_y": {
             "color": "#2a3f5f"
            },
            "marker": {
             "line": {
              "color": "#E5ECF6",
              "width": 0.5
             },
             "pattern": {
              "fillmode": "overlay",
              "size": 10,
              "solidity": 0.2
             }
            },
            "type": "bar"
           }
          ],
          "barpolar": [
           {
            "marker": {
             "line": {
              "color": "#E5ECF6",
              "width": 0.5
             },
             "pattern": {
              "fillmode": "overlay",
              "size": 10,
              "solidity": 0.2
             }
            },
            "type": "barpolar"
           }
          ],
          "carpet": [
           {
            "aaxis": {
             "endlinecolor": "#2a3f5f",
             "gridcolor": "white",
             "linecolor": "white",
             "minorgridcolor": "white",
             "startlinecolor": "#2a3f5f"
            },
            "baxis": {
             "endlinecolor": "#2a3f5f",
             "gridcolor": "white",
             "linecolor": "white",
             "minorgridcolor": "white",
             "startlinecolor": "#2a3f5f"
            },
            "type": "carpet"
           }
          ],
          "choropleth": [
           {
            "colorbar": {
             "outlinewidth": 0,
             "ticks": ""
            },
            "type": "choropleth"
           }
          ],
          "contour": [
           {
            "colorbar": {
             "outlinewidth": 0,
             "ticks": ""
            },
            "colorscale": [
             [
              0,
              "#0d0887"
             ],
             [
              0.1111111111111111,
              "#46039f"
             ],
             [
              0.2222222222222222,
              "#7201a8"
             ],
             [
              0.3333333333333333,
              "#9c179e"
             ],
             [
              0.4444444444444444,
              "#bd3786"
             ],
             [
              0.5555555555555556,
              "#d8576b"
             ],
             [
              0.6666666666666666,
              "#ed7953"
             ],
             [
              0.7777777777777778,
              "#fb9f3a"
             ],
             [
              0.8888888888888888,
              "#fdca26"
             ],
             [
              1,
              "#f0f921"
             ]
            ],
            "type": "contour"
           }
          ],
          "contourcarpet": [
           {
            "colorbar": {
             "outlinewidth": 0,
             "ticks": ""
            },
            "type": "contourcarpet"
           }
          ],
          "heatmap": [
           {
            "colorbar": {
             "outlinewidth": 0,
             "ticks": ""
            },
            "colorscale": [
             [
              0,
              "#0d0887"
             ],
             [
              0.1111111111111111,
              "#46039f"
             ],
             [
              0.2222222222222222,
              "#7201a8"
             ],
             [
              0.3333333333333333,
              "#9c179e"
             ],
             [
              0.4444444444444444,
              "#bd3786"
             ],
             [
              0.5555555555555556,
              "#d8576b"
             ],
             [
              0.6666666666666666,
              "#ed7953"
             ],
             [
              0.7777777777777778,
              "#fb9f3a"
             ],
             [
              0.8888888888888888,
              "#fdca26"
             ],
             [
              1,
              "#f0f921"
             ]
            ],
            "type": "heatmap"
           }
          ],
          "heatmapgl": [
           {
            "colorbar": {
             "outlinewidth": 0,
             "ticks": ""
            },
            "colorscale": [
             [
              0,
              "#0d0887"
             ],
             [
              0.1111111111111111,
              "#46039f"
             ],
             [
              0.2222222222222222,
              "#7201a8"
             ],
             [
              0.3333333333333333,
              "#9c179e"
             ],
             [
              0.4444444444444444,
              "#bd3786"
             ],
             [
              0.5555555555555556,
              "#d8576b"
             ],
             [
              0.6666666666666666,
              "#ed7953"
             ],
             [
              0.7777777777777778,
              "#fb9f3a"
             ],
             [
              0.8888888888888888,
              "#fdca26"
             ],
             [
              1,
              "#f0f921"
             ]
            ],
            "type": "heatmapgl"
           }
          ],
          "histogram": [
           {
            "marker": {
             "pattern": {
              "fillmode": "overlay",
              "size": 10,
              "solidity": 0.2
             }
            },
            "type": "histogram"
           }
          ],
          "histogram2d": [
           {
            "colorbar": {
             "outlinewidth": 0,
             "ticks": ""
            },
            "colorscale": [
             [
              0,
              "#0d0887"
             ],
             [
              0.1111111111111111,
              "#46039f"
             ],
             [
              0.2222222222222222,
              "#7201a8"
             ],
             [
              0.3333333333333333,
              "#9c179e"
             ],
             [
              0.4444444444444444,
              "#bd3786"
             ],
             [
              0.5555555555555556,
              "#d8576b"
             ],
             [
              0.6666666666666666,
              "#ed7953"
             ],
             [
              0.7777777777777778,
              "#fb9f3a"
             ],
             [
              0.8888888888888888,
              "#fdca26"
             ],
             [
              1,
              "#f0f921"
             ]
            ],
            "type": "histogram2d"
           }
          ],
          "histogram2dcontour": [
           {
            "colorbar": {
             "outlinewidth": 0,
             "ticks": ""
            },
            "colorscale": [
             [
              0,
              "#0d0887"
             ],
             [
              0.1111111111111111,
              "#46039f"
             ],
             [
              0.2222222222222222,
              "#7201a8"
             ],
             [
              0.3333333333333333,
              "#9c179e"
             ],
             [
              0.4444444444444444,
              "#bd3786"
             ],
             [
              0.5555555555555556,
              "#d8576b"
             ],
             [
              0.6666666666666666,
              "#ed7953"
             ],
             [
              0.7777777777777778,
              "#fb9f3a"
             ],
             [
              0.8888888888888888,
              "#fdca26"
             ],
             [
              1,
              "#f0f921"
             ]
            ],
            "type": "histogram2dcontour"
           }
          ],
          "mesh3d": [
           {
            "colorbar": {
             "outlinewidth": 0,
             "ticks": ""
            },
            "type": "mesh3d"
           }
          ],
          "parcoords": [
           {
            "line": {
             "colorbar": {
              "outlinewidth": 0,
              "ticks": ""
             }
            },
            "type": "parcoords"
           }
          ],
          "pie": [
           {
            "automargin": true,
            "type": "pie"
           }
          ],
          "scatter": [
           {
            "fillpattern": {
             "fillmode": "overlay",
             "size": 10,
             "solidity": 0.2
            },
            "type": "scatter"
           }
          ],
          "scatter3d": [
           {
            "line": {
             "colorbar": {
              "outlinewidth": 0,
              "ticks": ""
             }
            },
            "marker": {
             "colorbar": {
              "outlinewidth": 0,
              "ticks": ""
             }
            },
            "type": "scatter3d"
           }
          ],
          "scattercarpet": [
           {
            "marker": {
             "colorbar": {
              "outlinewidth": 0,
              "ticks": ""
             }
            },
            "type": "scattercarpet"
           }
          ],
          "scattergeo": [
           {
            "marker": {
             "colorbar": {
              "outlinewidth": 0,
              "ticks": ""
             }
            },
            "type": "scattergeo"
           }
          ],
          "scattergl": [
           {
            "marker": {
             "colorbar": {
              "outlinewidth": 0,
              "ticks": ""
             }
            },
            "type": "scattergl"
           }
          ],
          "scattermapbox": [
           {
            "marker": {
             "colorbar": {
              "outlinewidth": 0,
              "ticks": ""
             }
            },
            "type": "scattermapbox"
           }
          ],
          "scatterpolar": [
           {
            "marker": {
             "colorbar": {
              "outlinewidth": 0,
              "ticks": ""
             }
            },
            "type": "scatterpolar"
           }
          ],
          "scatterpolargl": [
           {
            "marker": {
             "colorbar": {
              "outlinewidth": 0,
              "ticks": ""
             }
            },
            "type": "scatterpolargl"
           }
          ],
          "scatterternary": [
           {
            "marker": {
             "colorbar": {
              "outlinewidth": 0,
              "ticks": ""
             }
            },
            "type": "scatterternary"
           }
          ],
          "surface": [
           {
            "colorbar": {
             "outlinewidth": 0,
             "ticks": ""
            },
            "colorscale": [
             [
              0,
              "#0d0887"
             ],
             [
              0.1111111111111111,
              "#46039f"
             ],
             [
              0.2222222222222222,
              "#7201a8"
             ],
             [
              0.3333333333333333,
              "#9c179e"
             ],
             [
              0.4444444444444444,
              "#bd3786"
             ],
             [
              0.5555555555555556,
              "#d8576b"
             ],
             [
              0.6666666666666666,
              "#ed7953"
             ],
             [
              0.7777777777777778,
              "#fb9f3a"
             ],
             [
              0.8888888888888888,
              "#fdca26"
             ],
             [
              1,
              "#f0f921"
             ]
            ],
            "type": "surface"
           }
          ],
          "table": [
           {
            "cells": {
             "fill": {
              "color": "#EBF0F8"
             },
             "line": {
              "color": "white"
             }
            },
            "header": {
             "fill": {
              "color": "#C8D4E3"
             },
             "line": {
              "color": "white"
             }
            },
            "type": "table"
           }
          ]
         },
         "layout": {
          "annotationdefaults": {
           "arrowcolor": "#2a3f5f",
           "arrowhead": 0,
           "arrowwidth": 1
          },
          "autotypenumbers": "strict",
          "coloraxis": {
           "colorbar": {
            "outlinewidth": 0,
            "ticks": ""
           }
          },
          "colorscale": {
           "diverging": [
            [
             0,
             "#8e0152"
            ],
            [
             0.1,
             "#c51b7d"
            ],
            [
             0.2,
             "#de77ae"
            ],
            [
             0.3,
             "#f1b6da"
            ],
            [
             0.4,
             "#fde0ef"
            ],
            [
             0.5,
             "#f7f7f7"
            ],
            [
             0.6,
             "#e6f5d0"
            ],
            [
             0.7,
             "#b8e186"
            ],
            [
             0.8,
             "#7fbc41"
            ],
            [
             0.9,
             "#4d9221"
            ],
            [
             1,
             "#276419"
            ]
           ],
           "sequential": [
            [
             0,
             "#0d0887"
            ],
            [
             0.1111111111111111,
             "#46039f"
            ],
            [
             0.2222222222222222,
             "#7201a8"
            ],
            [
             0.3333333333333333,
             "#9c179e"
            ],
            [
             0.4444444444444444,
             "#bd3786"
            ],
            [
             0.5555555555555556,
             "#d8576b"
            ],
            [
             0.6666666666666666,
             "#ed7953"
            ],
            [
             0.7777777777777778,
             "#fb9f3a"
            ],
            [
             0.8888888888888888,
             "#fdca26"
            ],
            [
             1,
             "#f0f921"
            ]
           ],
           "sequentialminus": [
            [
             0,
             "#0d0887"
            ],
            [
             0.1111111111111111,
             "#46039f"
            ],
            [
             0.2222222222222222,
             "#7201a8"
            ],
            [
             0.3333333333333333,
             "#9c179e"
            ],
            [
             0.4444444444444444,
             "#bd3786"
            ],
            [
             0.5555555555555556,
             "#d8576b"
            ],
            [
             0.6666666666666666,
             "#ed7953"
            ],
            [
             0.7777777777777778,
             "#fb9f3a"
            ],
            [
             0.8888888888888888,
             "#fdca26"
            ],
            [
             1,
             "#f0f921"
            ]
           ]
          },
          "colorway": [
           "#636efa",
           "#EF553B",
           "#00cc96",
           "#ab63fa",
           "#FFA15A",
           "#19d3f3",
           "#FF6692",
           "#B6E880",
           "#FF97FF",
           "#FECB52"
          ],
          "font": {
           "color": "#2a3f5f"
          },
          "geo": {
           "bgcolor": "white",
           "lakecolor": "white",
           "landcolor": "#E5ECF6",
           "showlakes": true,
           "showland": true,
           "subunitcolor": "white"
          },
          "hoverlabel": {
           "align": "left"
          },
          "hovermode": "closest",
          "mapbox": {
           "style": "light"
          },
          "paper_bgcolor": "white",
          "plot_bgcolor": "#E5ECF6",
          "polar": {
           "angularaxis": {
            "gridcolor": "white",
            "linecolor": "white",
            "ticks": ""
           },
           "bgcolor": "#E5ECF6",
           "radialaxis": {
            "gridcolor": "white",
            "linecolor": "white",
            "ticks": ""
           }
          },
          "scene": {
           "xaxis": {
            "backgroundcolor": "#E5ECF6",
            "gridcolor": "white",
            "gridwidth": 2,
            "linecolor": "white",
            "showbackground": true,
            "ticks": "",
            "zerolinecolor": "white"
           },
           "yaxis": {
            "backgroundcolor": "#E5ECF6",
            "gridcolor": "white",
            "gridwidth": 2,
            "linecolor": "white",
            "showbackground": true,
            "ticks": "",
            "zerolinecolor": "white"
           },
           "zaxis": {
            "backgroundcolor": "#E5ECF6",
            "gridcolor": "white",
            "gridwidth": 2,
            "linecolor": "white",
            "showbackground": true,
            "ticks": "",
            "zerolinecolor": "white"
           }
          },
          "shapedefaults": {
           "line": {
            "color": "#2a3f5f"
           }
          },
          "ternary": {
           "aaxis": {
            "gridcolor": "white",
            "linecolor": "white",
            "ticks": ""
           },
           "baxis": {
            "gridcolor": "white",
            "linecolor": "white",
            "ticks": ""
           },
           "bgcolor": "#E5ECF6",
           "caxis": {
            "gridcolor": "white",
            "linecolor": "white",
            "ticks": ""
           }
          },
          "title": {
           "x": 0.05
          },
          "xaxis": {
           "automargin": true,
           "gridcolor": "white",
           "linecolor": "white",
           "ticks": "",
           "title": {
            "standoff": 15
           },
           "zerolinecolor": "white",
           "zerolinewidth": 2
          },
          "yaxis": {
           "automargin": true,
           "gridcolor": "white",
           "linecolor": "white",
           "ticks": "",
           "title": {
            "standoff": 15
           },
           "zerolinecolor": "white",
           "zerolinewidth": 2
          }
         }
        }
       }
      }
     },
     "metadata": {},
     "output_type": "display_data"
    }
   ],
   "source": [
    "# Create subplots: use 'domain' type for Pie subplot\n",
    "fig = make_subplots(rows=1, cols=3, specs=[[{'type':'domain'}, {'type':'domain'}, {'type':'domain'}]])\n",
    "\n",
    "# Add pie charts to each subplot\n",
    "for i, dataset in enumerate(df[\"Dataset\"].unique()):\n",
    "    df_sub = df[df[\"Dataset\"] == dataset]\n",
    "    fig.add_trace(go.Pie(labels=labels, \n",
    "                            values=df_sub.groupby(\"Result\").count().loc[labels, 'Species'].values,\n",
    "                            name=dataset,\n",
    "                            direction ='clockwise',\n",
    "                            sort=False,\n",
    "                            marker_colors=colors),                   \n",
    "                    col=i+1, row=1,)\n",
    "\n",
    "# Use `hole` to create a donut-like pie chart\n",
    "fig.update_traces(hole=.6, hoverinfo=\"label+percent+value\")\n",
    "\n",
    "fig.update_layout(\n",
    "    # Add annotations in the center of the donut pies.\n",
    "    annotations=[dict(text='PlantNet Dataset',  x=0.09, y=0.5, font_size=15, showarrow=False),\n",
    "                 dict(text='Palm Dataset',      x=0.500, y=0.5, font_size=15, showarrow=False),\n",
    "                 dict(text='Caribbean Dataset', x=0.915, y=0.5, font_size=15, showarrow=False)]\n",
    "                 )\n",
    "\n",
    "fig.show()\n",
    "\n",
    "folder_figures = \"../../../reports/figures/\"\n",
    "file_name = \"PxPlot_HTML_SurveysPerDataset.html\"\n",
    "fig.write_html(F\"{folder_figures}{file_name}\")\n",
    "file_name = \"PxPlot_PDF_SurveysPerDataset.pdf\"\n",
    "fig.write_image(F\"{folder_figures}{file_name}\")"
   ]
  },
  {
   "cell_type": "code",
   "execution_count": 96,
   "id": "f262b869",
   "metadata": {},
   "outputs": [
    {
     "data": {
      "text/plain": [
       "Main Trait      Result                   \n",
       "Crown           Can infer correct Quality     4\n",
       "                Can infer correct Value       4\n",
       "                None of the above             3\n",
       "Fruit Colour    Can infer correct Entity      1\n",
       "                Can infer correct Quality     2\n",
       "                                             ..\n",
       "trunk and root  None of the above             4\n",
       "vein            Can infer correct Entity      8\n",
       "                Can infer correct Quality     5\n",
       "                Can infer correct Value       4\n",
       "                None of the above            21\n",
       "Name: Species, Length: 161, dtype: int64"
      ]
     },
     "execution_count": 96,
     "metadata": {},
     "output_type": "execute_result"
    }
   ],
   "source": [
    "df.groupby([\"Main Trait\", \"Result\", ])[\"Species\"].count()"
   ]
  },
  {
   "cell_type": "code",
   "execution_count": 97,
   "id": "ff24ecf5",
   "metadata": {},
   "outputs": [
    {
     "ename": "KeyError",
     "evalue": "('Main Trait', 'Result')",
     "output_type": "error",
     "traceback": [
      "\u001b[0;31m---------------------------------------------------------------------------\u001b[0m",
      "\u001b[0;31mKeyError\u001b[0m                                  Traceback (most recent call last)",
      "File \u001b[0;32m/usr/local/anaconda3/envs/deeplearning/lib/python3.10/site-packages/pandas/core/indexes/base.py:3621\u001b[0m, in \u001b[0;36mIndex.get_loc\u001b[0;34m(self, key, method, tolerance)\u001b[0m\n\u001b[1;32m   3620\u001b[0m \u001b[39mtry\u001b[39;00m:\n\u001b[0;32m-> 3621\u001b[0m     \u001b[39mreturn\u001b[39;00m \u001b[39mself\u001b[39;49m\u001b[39m.\u001b[39;49m_engine\u001b[39m.\u001b[39;49mget_loc(casted_key)\n\u001b[1;32m   3622\u001b[0m \u001b[39mexcept\u001b[39;00m \u001b[39mKeyError\u001b[39;00m \u001b[39mas\u001b[39;00m err:\n",
      "File \u001b[0;32m/usr/local/anaconda3/envs/deeplearning/lib/python3.10/site-packages/pandas/_libs/index.pyx:136\u001b[0m, in \u001b[0;36mpandas._libs.index.IndexEngine.get_loc\u001b[0;34m()\u001b[0m\n",
      "File \u001b[0;32m/usr/local/anaconda3/envs/deeplearning/lib/python3.10/site-packages/pandas/_libs/index.pyx:163\u001b[0m, in \u001b[0;36mpandas._libs.index.IndexEngine.get_loc\u001b[0;34m()\u001b[0m\n",
      "File \u001b[0;32mpandas/_libs/hashtable_class_helper.pxi:5198\u001b[0m, in \u001b[0;36mpandas._libs.hashtable.PyObjectHashTable.get_item\u001b[0;34m()\u001b[0m\n",
      "File \u001b[0;32mpandas/_libs/hashtable_class_helper.pxi:5206\u001b[0m, in \u001b[0;36mpandas._libs.hashtable.PyObjectHashTable.get_item\u001b[0;34m()\u001b[0m\n",
      "\u001b[0;31mKeyError\u001b[0m: ('Main Trait', 'Result')",
      "\nThe above exception was the direct cause of the following exception:\n",
      "\u001b[0;31mKeyError\u001b[0m                                  Traceback (most recent call last)",
      "\u001b[1;32m/Users/robertvandevlasakker/Documents/Wageningen University/Period 0 - GRS 70424 Internship/notebooks/reports/surveys/1.0_survey_analyses.ipynb Cell 9\u001b[0m in \u001b[0;36m<cell line: 1>\u001b[0;34m()\u001b[0m\n\u001b[0;32m----> <a href='vscode-notebook-cell:/Users/robertvandevlasakker/Documents/Wageningen%20University/Period%200%20-%20GRS%2070424%20Internship/notebooks/reports/surveys/1.0_survey_analyses.ipynb#X64sZmlsZQ%3D%3D?line=0'>1</a>\u001b[0m \u001b[39mround\u001b[39m(df[\u001b[39m\"\u001b[39;49m\u001b[39mMain Trait\u001b[39;49m\u001b[39m\"\u001b[39;49m, \u001b[39m\"\u001b[39;49m\u001b[39mResult\u001b[39;49m\u001b[39m\"\u001b[39;49m] \u001b[39m/\u001b[39m df\u001b[39m.\u001b[39mgroupby([\u001b[39m\"\u001b[39m\u001b[39mMain Trait\u001b[39m\u001b[39m\"\u001b[39m, \u001b[39m\"\u001b[39m\u001b[39mResult\u001b[39m\u001b[39m\"\u001b[39m])[\u001b[39m'\u001b[39m\u001b[39mSpecies\u001b[39m\u001b[39m'\u001b[39m]\u001b[39m.\u001b[39mtransform(\u001b[39m'\u001b[39m\u001b[39msum\u001b[39m\u001b[39m'\u001b[39m) \u001b[39m*\u001b[39m \u001b[39m100\u001b[39m, \u001b[39m2\u001b[39m)\n",
      "File \u001b[0;32m/usr/local/anaconda3/envs/deeplearning/lib/python3.10/site-packages/pandas/core/frame.py:3505\u001b[0m, in \u001b[0;36mDataFrame.__getitem__\u001b[0;34m(self, key)\u001b[0m\n\u001b[1;32m   3503\u001b[0m \u001b[39mif\u001b[39;00m \u001b[39mself\u001b[39m\u001b[39m.\u001b[39mcolumns\u001b[39m.\u001b[39mnlevels \u001b[39m>\u001b[39m \u001b[39m1\u001b[39m:\n\u001b[1;32m   3504\u001b[0m     \u001b[39mreturn\u001b[39;00m \u001b[39mself\u001b[39m\u001b[39m.\u001b[39m_getitem_multilevel(key)\n\u001b[0;32m-> 3505\u001b[0m indexer \u001b[39m=\u001b[39m \u001b[39mself\u001b[39;49m\u001b[39m.\u001b[39;49mcolumns\u001b[39m.\u001b[39;49mget_loc(key)\n\u001b[1;32m   3506\u001b[0m \u001b[39mif\u001b[39;00m is_integer(indexer):\n\u001b[1;32m   3507\u001b[0m     indexer \u001b[39m=\u001b[39m [indexer]\n",
      "File \u001b[0;32m/usr/local/anaconda3/envs/deeplearning/lib/python3.10/site-packages/pandas/core/indexes/base.py:3623\u001b[0m, in \u001b[0;36mIndex.get_loc\u001b[0;34m(self, key, method, tolerance)\u001b[0m\n\u001b[1;32m   3621\u001b[0m     \u001b[39mreturn\u001b[39;00m \u001b[39mself\u001b[39m\u001b[39m.\u001b[39m_engine\u001b[39m.\u001b[39mget_loc(casted_key)\n\u001b[1;32m   3622\u001b[0m \u001b[39mexcept\u001b[39;00m \u001b[39mKeyError\u001b[39;00m \u001b[39mas\u001b[39;00m err:\n\u001b[0;32m-> 3623\u001b[0m     \u001b[39mraise\u001b[39;00m \u001b[39mKeyError\u001b[39;00m(key) \u001b[39mfrom\u001b[39;00m \u001b[39merr\u001b[39;00m\n\u001b[1;32m   3624\u001b[0m \u001b[39mexcept\u001b[39;00m \u001b[39mTypeError\u001b[39;00m:\n\u001b[1;32m   3625\u001b[0m     \u001b[39m# If we have a listlike key, _check_indexing_error will raise\u001b[39;00m\n\u001b[1;32m   3626\u001b[0m     \u001b[39m#  InvalidIndexError. Otherwise we fall through and re-raise\u001b[39;00m\n\u001b[1;32m   3627\u001b[0m     \u001b[39m#  the TypeError.\u001b[39;00m\n\u001b[1;32m   3628\u001b[0m     \u001b[39mself\u001b[39m\u001b[39m.\u001b[39m_check_indexing_error(key)\n",
      "\u001b[0;31mKeyError\u001b[0m: ('Main Trait', 'Result')"
     ]
    }
   ],
   "source": [
    "round(df[\"Main Trait\", \"Result\"] / df.groupby([\"Main Trait\", \"Result\"])['Species'].transform('sum') * 100, 2)"
   ]
  },
  {
   "cell_type": "code",
   "execution_count": 36,
   "id": "e34cf969",
   "metadata": {},
   "outputs": [],
   "source": [
    "labels = ['None of the above', 'Can infer correct Entity', 'Can infer correct Quality', 'Can infer correct Value']\n",
    "df_melt = pd.melt(df_plot,\n",
    "                  id_vars=['Main Trait', 'Dataset'],\n",
    "                #   value_name='Choice',\n",
    "                  value_vars=labels)\n",
    "\n",
    "df_melt[\"Percentage\"] = round(df_melt['value'] / df_melt.groupby(['Main Trait'])['value'].transform('sum') * 100, 2)\n",
    "df_melt['Total'] = 'Total'"
   ]
  },
  {
   "cell_type": "code",
   "execution_count": 37,
   "id": "7e3eb788",
   "metadata": {},
   "outputs": [
    {
     "data": {
      "text/html": [
       "<div>\n",
       "<style scoped>\n",
       "    .dataframe tbody tr th:only-of-type {\n",
       "        vertical-align: middle;\n",
       "    }\n",
       "\n",
       "    .dataframe tbody tr th {\n",
       "        vertical-align: top;\n",
       "    }\n",
       "\n",
       "    .dataframe thead th {\n",
       "        text-align: right;\n",
       "    }\n",
       "</style>\n",
       "<table border=\"1\" class=\"dataframe\">\n",
       "  <thead>\n",
       "    <tr style=\"text-align: right;\">\n",
       "      <th></th>\n",
       "      <th>Main Trait</th>\n",
       "      <th>Dataset</th>\n",
       "      <th>variable</th>\n",
       "      <th>value</th>\n",
       "      <th>Percentage</th>\n",
       "      <th>Total</th>\n",
       "    </tr>\n",
       "  </thead>\n",
       "  <tbody>\n",
       "    <tr>\n",
       "      <th>0</th>\n",
       "      <td>leaf apex</td>\n",
       "      <td>PlantNet</td>\n",
       "      <td>None of the above</td>\n",
       "      <td>1</td>\n",
       "      <td>5.88</td>\n",
       "      <td>Total</td>\n",
       "    </tr>\n",
       "    <tr>\n",
       "      <th>1</th>\n",
       "      <td>petiole</td>\n",
       "      <td>PlantNet</td>\n",
       "      <td>None of the above</td>\n",
       "      <td>1</td>\n",
       "      <td>33.33</td>\n",
       "      <td>Total</td>\n",
       "    </tr>\n",
       "    <tr>\n",
       "      <th>2</th>\n",
       "      <td>vein</td>\n",
       "      <td>PlantNet</td>\n",
       "      <td>None of the above</td>\n",
       "      <td>1</td>\n",
       "      <td>14.29</td>\n",
       "      <td>Total</td>\n",
       "    </tr>\n",
       "    <tr>\n",
       "      <th>3</th>\n",
       "      <td>inflorescences</td>\n",
       "      <td>PlantNet</td>\n",
       "      <td>None of the above</td>\n",
       "      <td>1</td>\n",
       "      <td>10.00</td>\n",
       "      <td>Total</td>\n",
       "    </tr>\n",
       "    <tr>\n",
       "      <th>4</th>\n",
       "      <td>inflorescences</td>\n",
       "      <td>PlantNet</td>\n",
       "      <td>None of the above</td>\n",
       "      <td>1</td>\n",
       "      <td>10.00</td>\n",
       "      <td>Total</td>\n",
       "    </tr>\n",
       "    <tr>\n",
       "      <th>...</th>\n",
       "      <td>...</td>\n",
       "      <td>...</td>\n",
       "      <td>...</td>\n",
       "      <td>...</td>\n",
       "      <td>...</td>\n",
       "      <td>...</td>\n",
       "    </tr>\n",
       "    <tr>\n",
       "      <th>1179</th>\n",
       "      <td>leaf blade</td>\n",
       "      <td>PlantNet</td>\n",
       "      <td>Can infer correct Value</td>\n",
       "      <td>1</td>\n",
       "      <td>33.33</td>\n",
       "      <td>Total</td>\n",
       "    </tr>\n",
       "    <tr>\n",
       "      <th>1180</th>\n",
       "      <td>plant type</td>\n",
       "      <td>PlantNet</td>\n",
       "      <td>Can infer correct Value</td>\n",
       "      <td>1</td>\n",
       "      <td>50.00</td>\n",
       "      <td>Total</td>\n",
       "    </tr>\n",
       "    <tr>\n",
       "      <th>1181</th>\n",
       "      <td>vein</td>\n",
       "      <td>PlantNet</td>\n",
       "      <td>Can infer correct Value</td>\n",
       "      <td>0</td>\n",
       "      <td>0.00</td>\n",
       "      <td>Total</td>\n",
       "    </tr>\n",
       "    <tr>\n",
       "      <th>1182</th>\n",
       "      <td>leaf apex</td>\n",
       "      <td>PlantNet</td>\n",
       "      <td>Can infer correct Value</td>\n",
       "      <td>0</td>\n",
       "      <td>0.00</td>\n",
       "      <td>Total</td>\n",
       "    </tr>\n",
       "    <tr>\n",
       "      <th>1183</th>\n",
       "      <td>leaf base</td>\n",
       "      <td>PlantNet</td>\n",
       "      <td>Can infer correct Value</td>\n",
       "      <td>0</td>\n",
       "      <td>0.00</td>\n",
       "      <td>Total</td>\n",
       "    </tr>\n",
       "  </tbody>\n",
       "</table>\n",
       "<p>1184 rows × 6 columns</p>\n",
       "</div>"
      ],
      "text/plain": [
       "          Main Trait   Dataset                 variable  value  Percentage  \\\n",
       "0          leaf apex  PlantNet        None of the above      1        5.88   \n",
       "1            petiole  PlantNet        None of the above      1       33.33   \n",
       "2               vein  PlantNet        None of the above      1       14.29   \n",
       "3     inflorescences  PlantNet        None of the above      1       10.00   \n",
       "4     inflorescences  PlantNet        None of the above      1       10.00   \n",
       "...              ...       ...                      ...    ...         ...   \n",
       "1179      leaf blade  PlantNet  Can infer correct Value      1       33.33   \n",
       "1180      plant type  PlantNet  Can infer correct Value      1       50.00   \n",
       "1181            vein  PlantNet  Can infer correct Value      0        0.00   \n",
       "1182       leaf apex  PlantNet  Can infer correct Value      0        0.00   \n",
       "1183       leaf base  PlantNet  Can infer correct Value      0        0.00   \n",
       "\n",
       "      Total  \n",
       "0     Total  \n",
       "1     Total  \n",
       "2     Total  \n",
       "3     Total  \n",
       "4     Total  \n",
       "...     ...  \n",
       "1179  Total  \n",
       "1180  Total  \n",
       "1181  Total  \n",
       "1182  Total  \n",
       "1183  Total  \n",
       "\n",
       "[1184 rows x 6 columns]"
      ]
     },
     "execution_count": 37,
     "metadata": {},
     "output_type": "execute_result"
    }
   ],
   "source": [
    "df_melt"
   ]
  },
  {
   "cell_type": "code",
   "execution_count": 42,
   "id": "eb0827d8",
   "metadata": {},
   "outputs": [
    {
     "data": {
      "text/html": [
       "<div>\n",
       "<style scoped>\n",
       "    .dataframe tbody tr th:only-of-type {\n",
       "        vertical-align: middle;\n",
       "    }\n",
       "\n",
       "    .dataframe tbody tr th {\n",
       "        vertical-align: top;\n",
       "    }\n",
       "\n",
       "    .dataframe thead th {\n",
       "        text-align: right;\n",
       "    }\n",
       "</style>\n",
       "<table border=\"1\" class=\"dataframe\">\n",
       "  <thead>\n",
       "    <tr style=\"text-align: right;\">\n",
       "      <th></th>\n",
       "      <th>total_bill</th>\n",
       "      <th>tip</th>\n",
       "      <th>sex</th>\n",
       "      <th>smoker</th>\n",
       "      <th>day</th>\n",
       "      <th>time</th>\n",
       "      <th>size</th>\n",
       "    </tr>\n",
       "  </thead>\n",
       "  <tbody>\n",
       "    <tr>\n",
       "      <th>0</th>\n",
       "      <td>16.99</td>\n",
       "      <td>1.01</td>\n",
       "      <td>Female</td>\n",
       "      <td>No</td>\n",
       "      <td>Sun</td>\n",
       "      <td>Dinner</td>\n",
       "      <td>2</td>\n",
       "    </tr>\n",
       "    <tr>\n",
       "      <th>1</th>\n",
       "      <td>10.34</td>\n",
       "      <td>1.66</td>\n",
       "      <td>Male</td>\n",
       "      <td>No</td>\n",
       "      <td>Sun</td>\n",
       "      <td>Dinner</td>\n",
       "      <td>3</td>\n",
       "    </tr>\n",
       "    <tr>\n",
       "      <th>2</th>\n",
       "      <td>21.01</td>\n",
       "      <td>3.50</td>\n",
       "      <td>Male</td>\n",
       "      <td>No</td>\n",
       "      <td>Sun</td>\n",
       "      <td>Dinner</td>\n",
       "      <td>3</td>\n",
       "    </tr>\n",
       "    <tr>\n",
       "      <th>3</th>\n",
       "      <td>23.68</td>\n",
       "      <td>3.31</td>\n",
       "      <td>Male</td>\n",
       "      <td>No</td>\n",
       "      <td>Sun</td>\n",
       "      <td>Dinner</td>\n",
       "      <td>2</td>\n",
       "    </tr>\n",
       "    <tr>\n",
       "      <th>4</th>\n",
       "      <td>24.59</td>\n",
       "      <td>3.61</td>\n",
       "      <td>Female</td>\n",
       "      <td>No</td>\n",
       "      <td>Sun</td>\n",
       "      <td>Dinner</td>\n",
       "      <td>4</td>\n",
       "    </tr>\n",
       "    <tr>\n",
       "      <th>...</th>\n",
       "      <td>...</td>\n",
       "      <td>...</td>\n",
       "      <td>...</td>\n",
       "      <td>...</td>\n",
       "      <td>...</td>\n",
       "      <td>...</td>\n",
       "      <td>...</td>\n",
       "    </tr>\n",
       "    <tr>\n",
       "      <th>239</th>\n",
       "      <td>29.03</td>\n",
       "      <td>5.92</td>\n",
       "      <td>Male</td>\n",
       "      <td>No</td>\n",
       "      <td>Sat</td>\n",
       "      <td>Dinner</td>\n",
       "      <td>3</td>\n",
       "    </tr>\n",
       "    <tr>\n",
       "      <th>240</th>\n",
       "      <td>27.18</td>\n",
       "      <td>2.00</td>\n",
       "      <td>Female</td>\n",
       "      <td>Yes</td>\n",
       "      <td>Sat</td>\n",
       "      <td>Dinner</td>\n",
       "      <td>2</td>\n",
       "    </tr>\n",
       "    <tr>\n",
       "      <th>241</th>\n",
       "      <td>22.67</td>\n",
       "      <td>2.00</td>\n",
       "      <td>Male</td>\n",
       "      <td>Yes</td>\n",
       "      <td>Sat</td>\n",
       "      <td>Dinner</td>\n",
       "      <td>2</td>\n",
       "    </tr>\n",
       "    <tr>\n",
       "      <th>242</th>\n",
       "      <td>17.82</td>\n",
       "      <td>1.75</td>\n",
       "      <td>Male</td>\n",
       "      <td>No</td>\n",
       "      <td>Sat</td>\n",
       "      <td>Dinner</td>\n",
       "      <td>2</td>\n",
       "    </tr>\n",
       "    <tr>\n",
       "      <th>243</th>\n",
       "      <td>18.78</td>\n",
       "      <td>3.00</td>\n",
       "      <td>Female</td>\n",
       "      <td>No</td>\n",
       "      <td>Thur</td>\n",
       "      <td>Dinner</td>\n",
       "      <td>2</td>\n",
       "    </tr>\n",
       "  </tbody>\n",
       "</table>\n",
       "<p>244 rows × 7 columns</p>\n",
       "</div>"
      ],
      "text/plain": [
       "     total_bill   tip     sex smoker   day    time  size\n",
       "0         16.99  1.01  Female     No   Sun  Dinner     2\n",
       "1         10.34  1.66    Male     No   Sun  Dinner     3\n",
       "2         21.01  3.50    Male     No   Sun  Dinner     3\n",
       "3         23.68  3.31    Male     No   Sun  Dinner     2\n",
       "4         24.59  3.61  Female     No   Sun  Dinner     4\n",
       "..          ...   ...     ...    ...   ...     ...   ...\n",
       "239       29.03  5.92    Male     No   Sat  Dinner     3\n",
       "240       27.18  2.00  Female    Yes   Sat  Dinner     2\n",
       "241       22.67  2.00    Male    Yes   Sat  Dinner     2\n",
       "242       17.82  1.75    Male     No   Sat  Dinner     2\n",
       "243       18.78  3.00  Female     No  Thur  Dinner     2\n",
       "\n",
       "[244 rows x 7 columns]"
      ]
     },
     "execution_count": 42,
     "metadata": {},
     "output_type": "execute_result"
    }
   ],
   "source": [
    "df1 = px.data.tips()\n",
    "df1"
   ]
  },
  {
   "cell_type": "code",
   "execution_count": 65,
   "id": "e50f7f19",
   "metadata": {},
   "outputs": [
    {
     "data": {
      "text/plain": [
       "{'None of the above': 'rgb(175, 49, 35)',\n",
       " 'Can infer correct Entity': 'rgb(151, 179, 100)',\n",
       " 'Can infer correct Quality': 'rgb(33, 75, 99)',\n",
       " 'Can infer correct Value': 'rgb(79, 129, 102)',\n",
       " '(?)': 'black'}"
      ]
     },
     "execution_count": 65,
     "metadata": {},
     "output_type": "execute_result"
    }
   ],
   "source": [
    "color_dict"
   ]
  },
  {
   "attachments": {},
   "cell_type": "markdown",
   "id": "04c0d0a5",
   "metadata": {},
   "source": [
    "#### Percentage"
   ]
  },
  {
   "cell_type": "code",
   "execution_count": 69,
   "id": "cdd9151e",
   "metadata": {},
   "outputs": [
    {
     "data": {
      "application/vnd.plotly.v1+json": {
       "config": {
        "plotlyServerURL": "https://plot.ly"
       },
       "data": [
        {
         "branchvalues": "total",
         "customdata": [
          [
           "Can infer correct Entity",
           25,
           "Can infer correct Entity"
          ],
          [
           "None of the above",
           25,
           "None of the above"
          ],
          [
           "None of the above",
           25,
           "None of the above"
          ],
          [
           "None of the above",
           42.839999999999996,
           "None of the above"
          ],
          [
           "None of the above",
           14.28,
           "None of the above"
          ],
          [
           "None of the above",
           9.09,
           "None of the above"
          ],
          [
           "None of the above",
           45.760000000000005,
           "None of the above"
          ],
          [
           "None of the above",
           30,
           "None of the above"
          ],
          [
           "None of the above",
           50,
           "None of the above"
          ],
          [
           "None of the above",
           100,
           "None of the above"
          ],
          [
           "None of the above",
           0,
           "None of the above"
          ],
          [
           "None of the above",
           33.34,
           "None of the above"
          ],
          [
           "None of the above",
           99.99,
           "None of the above"
          ],
          [
           "None of the above",
           40,
           "None of the above"
          ],
          [
           "None of the above",
           100,
           "None of the above"
          ],
          [
           "None of the above",
           99.99,
           "None of the above"
          ],
          [
           "None of the above",
           0,
           "None of the above"
          ],
          [
           "None of the above",
           60,
           "None of the above"
          ],
          [
           "None of the above",
           100,
           "None of the above"
          ],
          [
           "None of the above",
           70,
           "None of the above"
          ],
          [
           "None of the above",
           76.44,
           "None of the above"
          ],
          [
           "None of the above",
           50,
           "None of the above"
          ],
          [
           "None of the above",
           25,
           "None of the above"
          ],
          [
           "None of the above",
           0,
           "None of the above"
          ],
          [
           "None of the above",
           0,
           "None of the above"
          ],
          [
           "None of the above",
           0,
           "None of the above"
          ],
          [
           "Can infer correct Value",
           0,
           "Can infer correct Value"
          ],
          [
           "Can infer correct Value",
           100,
           "Can infer correct Value"
          ],
          [
           "Can infer correct Value",
           0,
           "Can infer correct Value"
          ],
          [
           "Can infer correct Value",
           0,
           "Can infer correct Value"
          ],
          [
           "Can infer correct Value",
           20,
           "Can infer correct Value"
          ],
          [
           "Can infer correct Value",
           11.76,
           "Can infer correct Value"
          ],
          [
           "Can infer correct Value",
           10,
           "Can infer correct Value"
          ],
          [
           "Can infer correct Value",
           33.33,
           "Can infer correct Value"
          ],
          [
           "Can infer correct Value",
           0,
           "Can infer correct Value"
          ],
          [
           "Can infer correct Value",
           8.33,
           "Can infer correct Value"
          ],
          [
           "None of the above",
           0,
           "None of the above"
          ],
          [
           "Can infer correct Value",
           33.33,
           "Can infer correct Value"
          ],
          [
           "Can infer correct Value",
           100,
           "Can infer correct Value"
          ],
          [
           "Can infer correct Value",
           50,
           "Can infer correct Value"
          ],
          [
           "Can infer correct Value",
           0,
           "Can infer correct Value"
          ],
          [
           "Can infer correct Value",
           0,
           "Can infer correct Value"
          ],
          [
           "None of the above",
           25,
           "None of the above"
          ],
          [
           "None of the above",
           57.16,
           "None of the above"
          ],
          [
           "None of the above",
           0,
           "None of the above"
          ],
          [
           "None of the above",
           62.5,
           "None of the above"
          ],
          [
           "None of the above",
           16.67,
           "None of the above"
          ],
          [
           "None of the above",
           66.66,
           "None of the above"
          ],
          [
           "Can infer correct Value",
           0,
           "Can infer correct Value"
          ],
          [
           "Can infer correct Value",
           0,
           "Can infer correct Value"
          ],
          [
           "None of the above",
           54.54,
           "None of the above"
          ],
          [
           "None of the above",
           66.66,
           "None of the above"
          ],
          [
           "(?)",
           99.99,
           "(?)"
          ],
          [
           "(?)",
           100,
           "(?)"
          ],
          [
           "(?)",
           100,
           "(?)"
          ],
          [
           "(?)",
           99.99,
           "(?)"
          ],
          [
           "(?)",
           100,
           "(?)"
          ],
          [
           "(?)",
           100,
           "(?)"
          ],
          [
           "(?)",
           100,
           "(?)"
          ],
          [
           "(?)",
           100,
           "(?)"
          ],
          [
           "(?)",
           99.96,
           "(?)"
          ],
          [
           "(?)",
           100,
           "(?)"
          ],
          [
           "(?)",
           99.99,
           "(?)"
          ],
          [
           "(?)",
           99.99,
           "(?)"
          ],
          [
           "(?)",
           99.96000000000001,
           "(?)"
          ],
          [
           "(?)",
           99.99,
           "(?)"
          ],
          [
           "(?)",
           100,
           "(?)"
          ],
          [
           "(?)",
           100,
           "(?)"
          ],
          [
           "(?)",
           100,
           "(?)"
          ],
          [
           "(?)",
           100,
           "(?)"
          ],
          [
           "(?)",
           100.03,
           "(?)"
          ],
          [
           "(?)",
           1899.93,
           "(?)"
          ],
          [
           "(?)",
           399.87,
           "(?)"
          ],
          [
           "(?)",
           100.02000000000001,
           "(?)"
          ],
          [
           "(?)",
           100,
           "(?)"
          ],
          [
           "(?)",
           100,
           "(?)"
          ],
          [
           "(?)",
           100,
           "(?)"
          ],
          [
           "None of the above",
           100,
           "None of the above"
          ],
          [
           "None of the above",
           0,
           "None of the above"
          ],
          [
           "None of the above",
           50,
           "None of the above"
          ],
          [
           "None of the above",
           50,
           "None of the above"
          ],
          [
           "None of the above",
           71.44999999999999,
           "None of the above"
          ],
          [
           "(?)",
           100,
           "(?)"
          ],
          [
           "(?)",
           100.03,
           "(?)"
          ],
          [
           "(?)",
           100,
           "(?)"
          ],
          [
           "(?)",
           100,
           "(?)"
          ],
          [
           "(?)",
           100.02000000000001,
           "(?)"
          ],
          [
           "None of the above",
           33.32,
           "None of the above"
          ],
          [
           "(?)",
           99.99,
           "(?)"
          ],
          [
           "(?)",
           100,
           "(?)"
          ],
          [
           "(?)",
           100,
           "(?)"
          ],
          [
           "(?)",
           100,
           "(?)"
          ],
          [
           "(?)",
           100,
           "(?)"
          ],
          [
           "(?)",
           100,
           "(?)"
          ],
          [
           "(?)",
           99.96,
           "(?)"
          ],
          [
           "(?)",
           99.96,
           "(?)"
          ],
          [
           "(?)",
           99.99,
           "(?)"
          ],
          [
           "(?)",
           99.84,
           "(?)"
          ],
          [
           "(?)",
           100,
           "(?)"
          ],
          [
           "(?)",
           100,
           "(?)"
          ],
          [
           "Can infer correct Value",
           60,
           "Can infer correct Value"
          ],
          [
           "Can infer correct Value",
           0,
           "Can infer correct Value"
          ],
          [
           "Can infer correct Value",
           0,
           "Can infer correct Value"
          ],
          [
           "Can infer correct Entity",
           0,
           "Can infer correct Entity"
          ],
          [
           "Can infer correct Entity",
           10,
           "Can infer correct Entity"
          ],
          [
           "Can infer correct Entity",
           5.88,
           "Can infer correct Entity"
          ],
          [
           "Can infer correct Entity",
           20,
           "Can infer correct Entity"
          ],
          [
           "Can infer correct Entity",
           66.66,
           "Can infer correct Entity"
          ],
          [
           "Can infer correct Entity",
           27.27,
           "Can infer correct Entity"
          ],
          [
           "Can infer correct Entity",
           41.65,
           "Can infer correct Entity"
          ],
          [
           "Can infer correct Entity",
           0,
           "Can infer correct Entity"
          ],
          [
           "Can infer correct Entity",
           0,
           "Can infer correct Entity"
          ],
          [
           "Can infer correct Entity",
           0,
           "Can infer correct Entity"
          ],
          [
           "Can infer correct Entity",
           0,
           "Can infer correct Entity"
          ],
          [
           "Can infer correct Entity",
           50,
           "Can infer correct Entity"
          ],
          [
           "Can infer correct Entity",
           28.58,
           "Can infer correct Entity"
          ],
          [
           "Can infer correct Quality",
           0,
           "Can infer correct Quality"
          ],
          [
           "Can infer correct Quality",
           0,
           "Can infer correct Quality"
          ],
          [
           "Can infer correct Quality",
           0,
           "Can infer correct Quality"
          ],
          [
           "Can infer correct Quality",
           6.25,
           "Can infer correct Quality"
          ],
          [
           "Can infer correct Quality",
           16.67,
           "Can infer correct Quality"
          ],
          [
           "Can infer correct Quality",
           0,
           "Can infer correct Quality"
          ],
          [
           "Can infer correct Quality",
           0,
           "Can infer correct Quality"
          ],
          [
           "Can infer correct Quality",
           80,
           "Can infer correct Quality"
          ],
          [
           "Can infer correct Entity",
           30,
           "Can infer correct Entity"
          ],
          [
           "Can infer correct Entity",
           0,
           "Can infer correct Entity"
          ],
          [
           "Can infer correct Entity",
           0,
           "Can infer correct Entity"
          ],
          [
           "Can infer correct Entity",
           0,
           "Can infer correct Entity"
          ],
          [
           "Can infer correct Entity",
           28.58,
           "Can infer correct Entity"
          ],
          [
           "Can infer correct Entity",
           100,
           "Can infer correct Entity"
          ],
          [
           "Can infer correct Entity",
           18.75,
           "Can infer correct Entity"
          ],
          [
           "Can infer correct Entity",
           66.68,
           "Can infer correct Entity"
          ],
          [
           "Can infer correct Entity",
           0,
           "Can infer correct Entity"
          ],
          [
           "Can infer correct Entity",
           50,
           "Can infer correct Entity"
          ],
          [
           "Can infer correct Entity",
           0,
           "Can infer correct Entity"
          ],
          [
           "Can infer correct Entity",
           100,
           "Can infer correct Entity"
          ],
          [
           "Can infer correct Entity",
           62.5,
           "Can infer correct Entity"
          ],
          [
           "Can infer correct Entity",
           75,
           "Can infer correct Entity"
          ],
          [
           "Can infer correct Quality",
           0,
           "Can infer correct Quality"
          ],
          [
           "Can infer correct Entity",
           75,
           "Can infer correct Entity"
          ],
          [
           "Can infer correct Entity",
           78.53999999999999,
           "Can infer correct Entity"
          ],
          [
           "Can infer correct Entity",
           0,
           "Can infer correct Entity"
          ],
          [
           "Can infer correct Entity",
           39.52,
           "Can infer correct Entity"
          ],
          [
           "Can infer correct Entity",
           40,
           "Can infer correct Entity"
          ],
          [
           "Can infer correct Entity",
           50,
           "Can infer correct Entity"
          ],
          [
           "Can infer correct Entity",
           0,
           "Can infer correct Entity"
          ],
          [
           "Can infer correct Entity",
           50,
           "Can infer correct Entity"
          ],
          [
           "Can infer correct Entity",
           66.68,
           "Can infer correct Entity"
          ],
          [
           "Can infer correct Entity",
           0,
           "Can infer correct Entity"
          ],
          [
           "Can infer correct Entity",
           0,
           "Can infer correct Entity"
          ],
          [
           "Can infer correct Entity",
           28.56,
           "Can infer correct Entity"
          ],
          [
           "Can infer correct Quality",
           0,
           "Can infer correct Quality"
          ],
          [
           "Can infer correct Quality",
           0,
           "Can infer correct Quality"
          ],
          [
           "Can infer correct Quality",
           0,
           "Can infer correct Quality"
          ],
          [
           "Can infer correct Quality",
           0,
           "Can infer correct Quality"
          ],
          [
           "Can infer correct Quality",
           0,
           "Can infer correct Quality"
          ],
          [
           "Can infer correct Value",
           50,
           "Can infer correct Value"
          ],
          [
           "Can infer correct Value",
           14.29,
           "Can infer correct Value"
          ],
          [
           "Can infer correct Value",
           0,
           "Can infer correct Value"
          ],
          [
           "Can infer correct Value",
           12.5,
           "Can infer correct Value"
          ],
          [
           "Can infer correct Value",
           0,
           "Can infer correct Value"
          ],
          [
           "Can infer correct Value",
           33.33,
           "Can infer correct Value"
          ],
          [
           "Can infer correct Value",
           50,
           "Can infer correct Value"
          ],
          [
           "Can infer correct Value",
           20,
           "Can infer correct Value"
          ],
          [
           "Can infer correct Quality",
           0,
           "Can infer correct Quality"
          ],
          [
           "Can infer correct Value",
           0,
           "Can infer correct Value"
          ],
          [
           "Can infer correct Value",
           0,
           "Can infer correct Value"
          ],
          [
           "Can infer correct Value",
           0,
           "Can infer correct Value"
          ],
          [
           "Can infer correct Value",
           28.56,
           "Can infer correct Value"
          ],
          [
           "Can infer correct Value",
           7.14,
           "Can infer correct Value"
          ],
          [
           "Can infer correct Value",
           90.9,
           "Can infer correct Value"
          ],
          [
           "Can infer correct Value",
           10.4,
           "Can infer correct Value"
          ],
          [
           "Can infer correct Value",
           20,
           "Can infer correct Value"
          ],
          [
           "Can infer correct Value",
           0,
           "Can infer correct Value"
          ],
          [
           "Can infer correct Value",
           0,
           "Can infer correct Value"
          ],
          [
           "Can infer correct Value",
           50,
           "Can infer correct Value"
          ],
          [
           "Can infer correct Value",
           12.5,
           "Can infer correct Value"
          ],
          [
           "(?)",
           1699.9099999999999,
           "(?)"
          ],
          [
           "Can infer correct Quality",
           0,
           "Can infer correct Quality"
          ],
          [
           "Can infer correct Quality",
           0,
           "Can infer correct Quality"
          ],
          [
           "Can infer correct Quality",
           0,
           "Can infer correct Quality"
          ],
          [
           "Can infer correct Quality",
           0,
           "Can infer correct Quality"
          ],
          [
           "Can infer correct Quality",
           0,
           "Can infer correct Quality"
          ],
          [
           "Can infer correct Quality",
           4.16,
           "Can infer correct Quality"
          ],
          [
           "Can infer correct Quality",
           10,
           "Can infer correct Quality"
          ],
          [
           "Can infer correct Quality",
           0,
           "Can infer correct Quality"
          ],
          [
           "Can infer correct Quality",
           0,
           "Can infer correct Quality"
          ],
          [
           "Can infer correct Quality",
           0,
           "Can infer correct Quality"
          ],
          [
           "Can infer correct Quality",
           0,
           "Can infer correct Quality"
          ],
          [
           "Can infer correct Quality",
           0,
           "Can infer correct Quality"
          ],
          [
           "Can infer correct Quality",
           0,
           "Can infer correct Quality"
          ],
          [
           "Can infer correct Quality",
           0,
           "Can infer correct Quality"
          ],
          [
           "Can infer correct Quality",
           0,
           "Can infer correct Quality"
          ],
          [
           "Can infer correct Quality",
           0,
           "Can infer correct Quality"
          ],
          [
           "Can infer correct Quality",
           10,
           "Can infer correct Quality"
          ],
          [
           "Can infer correct Quality",
           0,
           "Can infer correct Quality"
          ],
          [
           "Can infer correct Quality",
           0,
           "Can infer correct Quality"
          ],
          [
           "Can infer correct Quality",
           5.88,
           "Can infer correct Quality"
          ],
          [
           "Can infer correct Quality",
           20,
           "Can infer correct Quality"
          ],
          [
           "Can infer correct Quality",
           0,
           "Can infer correct Quality"
          ],
          [
           "Can infer correct Quality",
           18.18,
           "Can infer correct Quality"
          ],
          [
           "Can infer correct Quality",
           16.66,
           "Can infer correct Quality"
          ],
          [
           "Can infer correct Quality",
           0,
           "Can infer correct Quality"
          ],
          [
           "(?)",
           3999.71,
           "(?)"
          ]
         ],
         "domain": {
          "x": [
           0,
           1
          ],
          "y": [
           0,
           1
          ]
         },
         "hovertemplate": "labels=%{label}<br>Percentage=%{customdata[1]}<br>parent=%{parent}<br>id=%{id}<br>variable=%{customdata[2]}<extra></extra>",
         "ids": [
          "Total/Palm/Fruit Colour Description/Can infer correct Entity",
          "Total/Caribbean/Leaf margin/None of the above",
          "Total/Caribbean/Leaf rachis/None of the above",
          "Total/Caribbean/Leaf shape/None of the above",
          "Total/Caribbean/Leaf upper side/None of the above",
          "Total/Caribbean/Life form/None of the above",
          "Total/Palm/Measurement/None of the above",
          "Total/Caribbean/Petals / corolla colour/None of the above",
          "Total/Caribbean/Petals / corolla number/None of the above",
          "Total/Caribbean/Petals / corolla shape/None of the above",
          "Total/Caribbean/Seed colour/None of the above",
          "Total/Caribbean/Sepals / calyx shape/None of the above",
          "Total/Caribbean/Stamen number/None of the above",
          "Total/Caribbean/Stamen shape/None of the above",
          "Total/PlantNet/bark/None of the above",
          "Total/PlantNet/crown/None of the above",
          "Total/PlantNet/flower color/None of the above",
          "Total/PlantNet/flower shape/None of the above",
          "Total/PlantNet/fruit/None of the above",
          "Total/PlantNet/inflorescences/None of the above",
          "Total/PlantNet/leaf apex/None of the above",
          "Total/PlantNet/leaf base/None of the above",
          "Total/Caribbean/Leaf lower side/None of the above",
          "Total/Caribbean/Leaf glands/None of the above",
          "Total/Caribbean/Leaf composition/None of the above",
          "Total/Caribbean/Inflorescence type/None of the above",
          "Total/PlantNet/crown/Can infer correct Value",
          "Total/PlantNet/flower color/Can infer correct Value",
          "Total/PlantNet/flower shape/Can infer correct Value",
          "Total/PlantNet/fruit/Can infer correct Value",
          "Total/PlantNet/inflorescences/Can infer correct Value",
          "Total/PlantNet/leaf apex/Can infer correct Value",
          "Total/PlantNet/leaf base/Can infer correct Value",
          "Total/PlantNet/leaf blade/Can infer correct Value",
          "Total/PlantNet/leaf margin/Can infer correct Value",
          "Total/PlantNet/leaf shape/Can infer correct Value",
          "Total/PlantNet/leaf blade/None of the above",
          "Total/PlantNet/petiole/Can infer correct Value",
          "Total/PlantNet/plant type/Can infer correct Value",
          "Total/PlantNet/tendril/Can infer correct Value",
          "Total/PlantNet/trunk and root/Can infer correct Value",
          "Total/PlantNet/vein/Can infer correct Value",
          "Total/Palm/Fruit Colour Description/None of the above",
          "Total/Palm/Fruit Shape/None of the above",
          "Total/Palm/Fruit Size/None of the above",
          "Total/Caribbean/Fruit colour/None of the above",
          "Total/Caribbean/Fruit shape/None of the above",
          "Total/Caribbean/Fruit type/None of the above",
          "Total/PlantNet/phyllotaxis/Can infer correct Value",
          "Total/PlantNet/bark/Can infer correct Value",
          "Total/PlantNet/leaf margin/None of the above",
          "Total/PlantNet/petiole/None of the above",
          "Total/Caribbean/Stamen number",
          "Total/Caribbean/Stamen shape",
          "Total/PlantNet/bark",
          "Total/PlantNet/crown",
          "Total/PlantNet/flower color",
          "Total/PlantNet/flower shape",
          "Total/PlantNet/fruit",
          "Total/PlantNet/inflorescences",
          "Total/PlantNet/leaf apex",
          "Total/PlantNet/leaf base",
          "Total/PlantNet/leaf blade",
          "Total/PlantNet/leaf margin",
          "Total/PlantNet/leaf shape",
          "Total/PlantNet/petiole",
          "Total/PlantNet/phyllotaxis",
          "Total/PlantNet/plant type",
          "Total/PlantNet/tendril",
          "Total/PlantNet/trunk and root",
          "Total/PlantNet/vein",
          "Total/Caribbean",
          "Total/Palm",
          "Total/Caribbean/Sepals / calyx shape",
          "Total/Caribbean/Seed colour",
          "Total/Caribbean/Petals / corolla shape",
          "Total/Caribbean/Petals / corolla number",
          "Total/PlantNet/phyllotaxis/None of the above",
          "Total/PlantNet/plant type/None of the above",
          "Total/PlantNet/tendril/None of the above",
          "Total/PlantNet/trunk and root/None of the above",
          "Total/PlantNet/vein/None of the above",
          "Total/Palm/Fruit Colour Description",
          "Total/Palm/Fruit Shape",
          "Total/Palm/Fruit Size",
          "Total/Caribbean/Fruit colour",
          "Total/Caribbean/Fruit shape",
          "Total/PlantNet/leaf shape/None of the above",
          "Total/Caribbean/Fruit type",
          "Total/Caribbean/Leaf composition",
          "Total/Caribbean/Leaf glands",
          "Total/Caribbean/Leaf lower side",
          "Total/Caribbean/Leaf margin",
          "Total/Caribbean/Leaf rachis",
          "Total/Caribbean/Leaf shape",
          "Total/Caribbean/Leaf upper side",
          "Total/Caribbean/Life form",
          "Total/Palm/Measurement",
          "Total/Caribbean/Petals / corolla colour",
          "Total/Caribbean/Inflorescence type",
          "Total/Caribbean/Stamen shape/Can infer correct Value",
          "Total/Caribbean/Stamen number/Can infer correct Value",
          "Total/Caribbean/Sepals / calyx shape/Can infer correct Value",
          "Total/PlantNet/fruit/Can infer correct Entity",
          "Total/PlantNet/inflorescences/Can infer correct Entity",
          "Total/PlantNet/leaf apex/Can infer correct Entity",
          "Total/PlantNet/leaf base/Can infer correct Entity",
          "Total/PlantNet/leaf blade/Can infer correct Entity",
          "Total/PlantNet/leaf margin/Can infer correct Entity",
          "Total/PlantNet/leaf shape/Can infer correct Entity",
          "Total/PlantNet/petiole/Can infer correct Entity",
          "Total/PlantNet/phyllotaxis/Can infer correct Entity",
          "Total/PlantNet/plant type/Can infer correct Entity",
          "Total/PlantNet/tendril/Can infer correct Entity",
          "Total/PlantNet/trunk and root/Can infer correct Entity",
          "Total/PlantNet/vein/Can infer correct Entity",
          "Total/Palm/Fruit Colour Description/Can infer correct Quality",
          "Total/Palm/Fruit Shape/Can infer correct Quality",
          "Total/Palm/Fruit Size/Can infer correct Quality",
          "Total/Caribbean/Fruit colour/Can infer correct Quality",
          "Total/Caribbean/Fruit shape/Can infer correct Quality",
          "Total/Caribbean/Fruit type/Can infer correct Quality",
          "Total/Caribbean/Inflorescence type/Can infer correct Quality",
          "Total/Caribbean/Leaf composition/Can infer correct Quality",
          "Total/PlantNet/flower shape/Can infer correct Entity",
          "Total/PlantNet/flower color/Can infer correct Entity",
          "Total/PlantNet/crown/Can infer correct Entity",
          "Total/PlantNet/bark/Can infer correct Entity",
          "Total/Palm/Fruit Shape/Can infer correct Entity",
          "Total/Palm/Fruit Size/Can infer correct Entity",
          "Total/Caribbean/Fruit colour/Can infer correct Entity",
          "Total/Caribbean/Fruit shape/Can infer correct Entity",
          "Total/Caribbean/Fruit type/Can infer correct Entity",
          "Total/Caribbean/Inflorescence type/Can infer correct Entity",
          "Total/Caribbean/Leaf composition/Can infer correct Entity",
          "Total/Caribbean/Leaf glands/Can infer correct Entity",
          "Total/Caribbean/Leaf lower side/Can infer correct Entity",
          "Total/Caribbean/Leaf margin/Can infer correct Entity",
          "Total/Caribbean/Leaf glands/Can infer correct Quality",
          "Total/Caribbean/Leaf rachis/Can infer correct Entity",
          "Total/Caribbean/Leaf upper side/Can infer correct Entity",
          "Total/Caribbean/Life form/Can infer correct Entity",
          "Total/Palm/Measurement/Can infer correct Entity",
          "Total/Caribbean/Petals / corolla colour/Can infer correct Entity",
          "Total/Caribbean/Petals / corolla number/Can infer correct Entity",
          "Total/Caribbean/Petals / corolla shape/Can infer correct Entity",
          "Total/Caribbean/Seed colour/Can infer correct Entity",
          "Total/Caribbean/Sepals / calyx shape/Can infer correct Entity",
          "Total/Caribbean/Stamen number/Can infer correct Entity",
          "Total/Caribbean/Stamen shape/Can infer correct Entity",
          "Total/Caribbean/Leaf shape/Can infer correct Entity",
          "Total/Caribbean/Leaf lower side/Can infer correct Quality",
          "Total/Caribbean/Leaf margin/Can infer correct Quality",
          "Total/Caribbean/Leaf rachis/Can infer correct Quality",
          "Total/PlantNet/trunk and root/Can infer correct Quality",
          "Total/PlantNet/vein/Can infer correct Quality",
          "Total/Palm/Fruit Colour Description/Can infer correct Value",
          "Total/Palm/Fruit Shape/Can infer correct Value",
          "Total/Palm/Fruit Size/Can infer correct Value",
          "Total/Caribbean/Fruit colour/Can infer correct Value",
          "Total/Caribbean/Fruit shape/Can infer correct Value",
          "Total/Caribbean/Fruit type/Can infer correct Value",
          "Total/Caribbean/Inflorescence type/Can infer correct Value",
          "Total/Caribbean/Leaf composition/Can infer correct Value",
          "Total/PlantNet/tendril/Can infer correct Quality",
          "Total/Caribbean/Leaf glands/Can infer correct Value",
          "Total/Caribbean/Leaf margin/Can infer correct Value",
          "Total/Caribbean/Leaf rachis/Can infer correct Value",
          "Total/Caribbean/Leaf shape/Can infer correct Value",
          "Total/Caribbean/Leaf upper side/Can infer correct Value",
          "Total/Caribbean/Life form/Can infer correct Value",
          "Total/Palm/Measurement/Can infer correct Value",
          "Total/Caribbean/Petals / corolla colour/Can infer correct Value",
          "Total/Caribbean/Petals / corolla number/Can infer correct Value",
          "Total/Caribbean/Petals / corolla shape/Can infer correct Value",
          "Total/Caribbean/Seed colour/Can infer correct Value",
          "Total/Caribbean/Leaf lower side/Can infer correct Value",
          "Total/PlantNet",
          "Total/PlantNet/plant type/Can infer correct Quality",
          "Total/PlantNet/petiole/Can infer correct Quality",
          "Total/Caribbean/Leaf shape/Can infer correct Quality",
          "Total/Caribbean/Leaf upper side/Can infer correct Quality",
          "Total/Caribbean/Life form/Can infer correct Quality",
          "Total/Palm/Measurement/Can infer correct Quality",
          "Total/Caribbean/Petals / corolla colour/Can infer correct Quality",
          "Total/Caribbean/Petals / corolla number/Can infer correct Quality",
          "Total/Caribbean/Petals / corolla shape/Can infer correct Quality",
          "Total/Caribbean/Seed colour/Can infer correct Quality",
          "Total/Caribbean/Sepals / calyx shape/Can infer correct Quality",
          "Total/Caribbean/Stamen number/Can infer correct Quality",
          "Total/PlantNet/phyllotaxis/Can infer correct Quality",
          "Total/Caribbean/Stamen shape/Can infer correct Quality",
          "Total/PlantNet/crown/Can infer correct Quality",
          "Total/PlantNet/flower color/Can infer correct Quality",
          "Total/PlantNet/flower shape/Can infer correct Quality",
          "Total/PlantNet/fruit/Can infer correct Quality",
          "Total/PlantNet/inflorescences/Can infer correct Quality",
          "Total/PlantNet/leaf apex/Can infer correct Quality",
          "Total/PlantNet/leaf base/Can infer correct Quality",
          "Total/PlantNet/leaf blade/Can infer correct Quality",
          "Total/PlantNet/leaf margin/Can infer correct Quality",
          "Total/PlantNet/leaf shape/Can infer correct Quality",
          "Total/PlantNet/bark/Can infer correct Quality",
          "Total"
         ],
         "labels": [
          "Can infer correct Entity",
          "None of the above",
          "None of the above",
          "None of the above",
          "None of the above",
          "None of the above",
          "None of the above",
          "None of the above",
          "None of the above",
          "None of the above",
          "None of the above",
          "None of the above",
          "None of the above",
          "None of the above",
          "None of the above",
          "None of the above",
          "None of the above",
          "None of the above",
          "None of the above",
          "None of the above",
          "None of the above",
          "None of the above",
          "None of the above",
          "None of the above",
          "None of the above",
          "None of the above",
          "Can infer correct Value",
          "Can infer correct Value",
          "Can infer correct Value",
          "Can infer correct Value",
          "Can infer correct Value",
          "Can infer correct Value",
          "Can infer correct Value",
          "Can infer correct Value",
          "Can infer correct Value",
          "Can infer correct Value",
          "None of the above",
          "Can infer correct Value",
          "Can infer correct Value",
          "Can infer correct Value",
          "Can infer correct Value",
          "Can infer correct Value",
          "None of the above",
          "None of the above",
          "None of the above",
          "None of the above",
          "None of the above",
          "None of the above",
          "Can infer correct Value",
          "Can infer correct Value",
          "None of the above",
          "None of the above",
          "Stamen number",
          "Stamen shape",
          "bark",
          "crown",
          "flower color",
          "flower shape",
          "fruit",
          "inflorescences",
          "leaf apex",
          "leaf base",
          "leaf blade",
          "leaf margin",
          "leaf shape",
          "petiole",
          "phyllotaxis",
          "plant type",
          "tendril",
          "trunk and root",
          "vein",
          "Caribbean",
          "Palm",
          "Sepals / calyx shape",
          "Seed colour",
          "Petals / corolla shape",
          "Petals / corolla number",
          "None of the above",
          "None of the above",
          "None of the above",
          "None of the above",
          "None of the above",
          "Fruit Colour Description",
          "Fruit Shape",
          "Fruit Size",
          "Fruit colour",
          "Fruit shape",
          "None of the above",
          "Fruit type",
          "Leaf composition",
          "Leaf glands",
          "Leaf lower side",
          "Leaf margin",
          "Leaf rachis",
          "Leaf shape",
          "Leaf upper side",
          "Life form",
          "Measurement",
          "Petals / corolla colour",
          "Inflorescence type",
          "Can infer correct Value",
          "Can infer correct Value",
          "Can infer correct Value",
          "Can infer correct Entity",
          "Can infer correct Entity",
          "Can infer correct Entity",
          "Can infer correct Entity",
          "Can infer correct Entity",
          "Can infer correct Entity",
          "Can infer correct Entity",
          "Can infer correct Entity",
          "Can infer correct Entity",
          "Can infer correct Entity",
          "Can infer correct Entity",
          "Can infer correct Entity",
          "Can infer correct Entity",
          "Can infer correct Quality",
          "Can infer correct Quality",
          "Can infer correct Quality",
          "Can infer correct Quality",
          "Can infer correct Quality",
          "Can infer correct Quality",
          "Can infer correct Quality",
          "Can infer correct Quality",
          "Can infer correct Entity",
          "Can infer correct Entity",
          "Can infer correct Entity",
          "Can infer correct Entity",
          "Can infer correct Entity",
          "Can infer correct Entity",
          "Can infer correct Entity",
          "Can infer correct Entity",
          "Can infer correct Entity",
          "Can infer correct Entity",
          "Can infer correct Entity",
          "Can infer correct Entity",
          "Can infer correct Entity",
          "Can infer correct Entity",
          "Can infer correct Quality",
          "Can infer correct Entity",
          "Can infer correct Entity",
          "Can infer correct Entity",
          "Can infer correct Entity",
          "Can infer correct Entity",
          "Can infer correct Entity",
          "Can infer correct Entity",
          "Can infer correct Entity",
          "Can infer correct Entity",
          "Can infer correct Entity",
          "Can infer correct Entity",
          "Can infer correct Entity",
          "Can infer correct Quality",
          "Can infer correct Quality",
          "Can infer correct Quality",
          "Can infer correct Quality",
          "Can infer correct Quality",
          "Can infer correct Value",
          "Can infer correct Value",
          "Can infer correct Value",
          "Can infer correct Value",
          "Can infer correct Value",
          "Can infer correct Value",
          "Can infer correct Value",
          "Can infer correct Value",
          "Can infer correct Quality",
          "Can infer correct Value",
          "Can infer correct Value",
          "Can infer correct Value",
          "Can infer correct Value",
          "Can infer correct Value",
          "Can infer correct Value",
          "Can infer correct Value",
          "Can infer correct Value",
          "Can infer correct Value",
          "Can infer correct Value",
          "Can infer correct Value",
          "Can infer correct Value",
          "PlantNet",
          "Can infer correct Quality",
          "Can infer correct Quality",
          "Can infer correct Quality",
          "Can infer correct Quality",
          "Can infer correct Quality",
          "Can infer correct Quality",
          "Can infer correct Quality",
          "Can infer correct Quality",
          "Can infer correct Quality",
          "Can infer correct Quality",
          "Can infer correct Quality",
          "Can infer correct Quality",
          "Can infer correct Quality",
          "Can infer correct Quality",
          "Can infer correct Quality",
          "Can infer correct Quality",
          "Can infer correct Quality",
          "Can infer correct Quality",
          "Can infer correct Quality",
          "Can infer correct Quality",
          "Can infer correct Quality",
          "Can infer correct Quality",
          "Can infer correct Quality",
          "Can infer correct Quality",
          "Can infer correct Quality",
          "Total"
         ],
         "marker": {
          "colors": [
           "rgb(151, 179, 100)",
           "rgb(175, 49, 35)",
           "rgb(175, 49, 35)",
           "rgb(175, 49, 35)",
           "rgb(175, 49, 35)",
           "rgb(175, 49, 35)",
           "rgb(175, 49, 35)",
           "rgb(175, 49, 35)",
           "rgb(175, 49, 35)",
           "rgb(175, 49, 35)",
           "rgb(175, 49, 35)",
           "rgb(175, 49, 35)",
           "rgb(175, 49, 35)",
           "rgb(175, 49, 35)",
           "rgb(175, 49, 35)",
           "rgb(175, 49, 35)",
           "rgb(175, 49, 35)",
           "rgb(175, 49, 35)",
           "rgb(175, 49, 35)",
           "rgb(175, 49, 35)",
           "rgb(175, 49, 35)",
           "rgb(175, 49, 35)",
           "rgb(175, 49, 35)",
           "rgb(175, 49, 35)",
           "rgb(175, 49, 35)",
           "rgb(175, 49, 35)",
           "rgb(79, 129, 102)",
           "rgb(79, 129, 102)",
           "rgb(79, 129, 102)",
           "rgb(79, 129, 102)",
           "rgb(79, 129, 102)",
           "rgb(79, 129, 102)",
           "rgb(79, 129, 102)",
           "rgb(79, 129, 102)",
           "rgb(79, 129, 102)",
           "rgb(79, 129, 102)",
           "rgb(175, 49, 35)",
           "rgb(79, 129, 102)",
           "rgb(79, 129, 102)",
           "rgb(79, 129, 102)",
           "rgb(79, 129, 102)",
           "rgb(79, 129, 102)",
           "rgb(175, 49, 35)",
           "rgb(175, 49, 35)",
           "rgb(175, 49, 35)",
           "rgb(175, 49, 35)",
           "rgb(175, 49, 35)",
           "rgb(175, 49, 35)",
           "rgb(79, 129, 102)",
           "rgb(79, 129, 102)",
           "rgb(175, 49, 35)",
           "rgb(175, 49, 35)",
           "black",
           "black",
           "black",
           "black",
           "black",
           "black",
           "black",
           "black",
           "black",
           "black",
           "black",
           "black",
           "black",
           "black",
           "black",
           "black",
           "black",
           "black",
           "black",
           "black",
           "black",
           "black",
           "black",
           "black",
           "black",
           "rgb(175, 49, 35)",
           "rgb(175, 49, 35)",
           "rgb(175, 49, 35)",
           "rgb(175, 49, 35)",
           "rgb(175, 49, 35)",
           "black",
           "black",
           "black",
           "black",
           "black",
           "rgb(175, 49, 35)",
           "black",
           "black",
           "black",
           "black",
           "black",
           "black",
           "black",
           "black",
           "black",
           "black",
           "black",
           "black",
           "rgb(79, 129, 102)",
           "rgb(79, 129, 102)",
           "rgb(79, 129, 102)",
           "rgb(151, 179, 100)",
           "rgb(151, 179, 100)",
           "rgb(151, 179, 100)",
           "rgb(151, 179, 100)",
           "rgb(151, 179, 100)",
           "rgb(151, 179, 100)",
           "rgb(151, 179, 100)",
           "rgb(151, 179, 100)",
           "rgb(151, 179, 100)",
           "rgb(151, 179, 100)",
           "rgb(151, 179, 100)",
           "rgb(151, 179, 100)",
           "rgb(151, 179, 100)",
           "rgb(33, 75, 99)",
           "rgb(33, 75, 99)",
           "rgb(33, 75, 99)",
           "rgb(33, 75, 99)",
           "rgb(33, 75, 99)",
           "rgb(33, 75, 99)",
           "rgb(33, 75, 99)",
           "rgb(33, 75, 99)",
           "rgb(151, 179, 100)",
           "rgb(151, 179, 100)",
           "rgb(151, 179, 100)",
           "rgb(151, 179, 100)",
           "rgb(151, 179, 100)",
           "rgb(151, 179, 100)",
           "rgb(151, 179, 100)",
           "rgb(151, 179, 100)",
           "rgb(151, 179, 100)",
           "rgb(151, 179, 100)",
           "rgb(151, 179, 100)",
           "rgb(151, 179, 100)",
           "rgb(151, 179, 100)",
           "rgb(151, 179, 100)",
           "rgb(33, 75, 99)",
           "rgb(151, 179, 100)",
           "rgb(151, 179, 100)",
           "rgb(151, 179, 100)",
           "rgb(151, 179, 100)",
           "rgb(151, 179, 100)",
           "rgb(151, 179, 100)",
           "rgb(151, 179, 100)",
           "rgb(151, 179, 100)",
           "rgb(151, 179, 100)",
           "rgb(151, 179, 100)",
           "rgb(151, 179, 100)",
           "rgb(151, 179, 100)",
           "rgb(33, 75, 99)",
           "rgb(33, 75, 99)",
           "rgb(33, 75, 99)",
           "rgb(33, 75, 99)",
           "rgb(33, 75, 99)",
           "rgb(79, 129, 102)",
           "rgb(79, 129, 102)",
           "rgb(79, 129, 102)",
           "rgb(79, 129, 102)",
           "rgb(79, 129, 102)",
           "rgb(79, 129, 102)",
           "rgb(79, 129, 102)",
           "rgb(79, 129, 102)",
           "rgb(33, 75, 99)",
           "rgb(79, 129, 102)",
           "rgb(79, 129, 102)",
           "rgb(79, 129, 102)",
           "rgb(79, 129, 102)",
           "rgb(79, 129, 102)",
           "rgb(79, 129, 102)",
           "rgb(79, 129, 102)",
           "rgb(79, 129, 102)",
           "rgb(79, 129, 102)",
           "rgb(79, 129, 102)",
           "rgb(79, 129, 102)",
           "rgb(79, 129, 102)",
           "black",
           "rgb(33, 75, 99)",
           "rgb(33, 75, 99)",
           "rgb(33, 75, 99)",
           "rgb(33, 75, 99)",
           "rgb(33, 75, 99)",
           "rgb(33, 75, 99)",
           "rgb(33, 75, 99)",
           "rgb(33, 75, 99)",
           "rgb(33, 75, 99)",
           "rgb(33, 75, 99)",
           "rgb(33, 75, 99)",
           "rgb(33, 75, 99)",
           "rgb(33, 75, 99)",
           "rgb(33, 75, 99)",
           "rgb(33, 75, 99)",
           "rgb(33, 75, 99)",
           "rgb(33, 75, 99)",
           "rgb(33, 75, 99)",
           "rgb(33, 75, 99)",
           "rgb(33, 75, 99)",
           "rgb(33, 75, 99)",
           "rgb(33, 75, 99)",
           "rgb(33, 75, 99)",
           "rgb(33, 75, 99)",
           "rgb(33, 75, 99)",
           "black"
          ]
         },
         "name": "",
         "parents": [
          "Total/Palm/Fruit Colour Description",
          "Total/Caribbean/Leaf margin",
          "Total/Caribbean/Leaf rachis",
          "Total/Caribbean/Leaf shape",
          "Total/Caribbean/Leaf upper side",
          "Total/Caribbean/Life form",
          "Total/Palm/Measurement",
          "Total/Caribbean/Petals / corolla colour",
          "Total/Caribbean/Petals / corolla number",
          "Total/Caribbean/Petals / corolla shape",
          "Total/Caribbean/Seed colour",
          "Total/Caribbean/Sepals / calyx shape",
          "Total/Caribbean/Stamen number",
          "Total/Caribbean/Stamen shape",
          "Total/PlantNet/bark",
          "Total/PlantNet/crown",
          "Total/PlantNet/flower color",
          "Total/PlantNet/flower shape",
          "Total/PlantNet/fruit",
          "Total/PlantNet/inflorescences",
          "Total/PlantNet/leaf apex",
          "Total/PlantNet/leaf base",
          "Total/Caribbean/Leaf lower side",
          "Total/Caribbean/Leaf glands",
          "Total/Caribbean/Leaf composition",
          "Total/Caribbean/Inflorescence type",
          "Total/PlantNet/crown",
          "Total/PlantNet/flower color",
          "Total/PlantNet/flower shape",
          "Total/PlantNet/fruit",
          "Total/PlantNet/inflorescences",
          "Total/PlantNet/leaf apex",
          "Total/PlantNet/leaf base",
          "Total/PlantNet/leaf blade",
          "Total/PlantNet/leaf margin",
          "Total/PlantNet/leaf shape",
          "Total/PlantNet/leaf blade",
          "Total/PlantNet/petiole",
          "Total/PlantNet/plant type",
          "Total/PlantNet/tendril",
          "Total/PlantNet/trunk and root",
          "Total/PlantNet/vein",
          "Total/Palm/Fruit Colour Description",
          "Total/Palm/Fruit Shape",
          "Total/Palm/Fruit Size",
          "Total/Caribbean/Fruit colour",
          "Total/Caribbean/Fruit shape",
          "Total/Caribbean/Fruit type",
          "Total/PlantNet/phyllotaxis",
          "Total/PlantNet/bark",
          "Total/PlantNet/leaf margin",
          "Total/PlantNet/petiole",
          "Total/Caribbean",
          "Total/Caribbean",
          "Total/PlantNet",
          "Total/PlantNet",
          "Total/PlantNet",
          "Total/PlantNet",
          "Total/PlantNet",
          "Total/PlantNet",
          "Total/PlantNet",
          "Total/PlantNet",
          "Total/PlantNet",
          "Total/PlantNet",
          "Total/PlantNet",
          "Total/PlantNet",
          "Total/PlantNet",
          "Total/PlantNet",
          "Total/PlantNet",
          "Total/PlantNet",
          "Total/PlantNet",
          "Total",
          "Total",
          "Total/Caribbean",
          "Total/Caribbean",
          "Total/Caribbean",
          "Total/Caribbean",
          "Total/PlantNet/phyllotaxis",
          "Total/PlantNet/plant type",
          "Total/PlantNet/tendril",
          "Total/PlantNet/trunk and root",
          "Total/PlantNet/vein",
          "Total/Palm",
          "Total/Palm",
          "Total/Palm",
          "Total/Caribbean",
          "Total/Caribbean",
          "Total/PlantNet/leaf shape",
          "Total/Caribbean",
          "Total/Caribbean",
          "Total/Caribbean",
          "Total/Caribbean",
          "Total/Caribbean",
          "Total/Caribbean",
          "Total/Caribbean",
          "Total/Caribbean",
          "Total/Caribbean",
          "Total/Palm",
          "Total/Caribbean",
          "Total/Caribbean",
          "Total/Caribbean/Stamen shape",
          "Total/Caribbean/Stamen number",
          "Total/Caribbean/Sepals / calyx shape",
          "Total/PlantNet/fruit",
          "Total/PlantNet/inflorescences",
          "Total/PlantNet/leaf apex",
          "Total/PlantNet/leaf base",
          "Total/PlantNet/leaf blade",
          "Total/PlantNet/leaf margin",
          "Total/PlantNet/leaf shape",
          "Total/PlantNet/petiole",
          "Total/PlantNet/phyllotaxis",
          "Total/PlantNet/plant type",
          "Total/PlantNet/tendril",
          "Total/PlantNet/trunk and root",
          "Total/PlantNet/vein",
          "Total/Palm/Fruit Colour Description",
          "Total/Palm/Fruit Shape",
          "Total/Palm/Fruit Size",
          "Total/Caribbean/Fruit colour",
          "Total/Caribbean/Fruit shape",
          "Total/Caribbean/Fruit type",
          "Total/Caribbean/Inflorescence type",
          "Total/Caribbean/Leaf composition",
          "Total/PlantNet/flower shape",
          "Total/PlantNet/flower color",
          "Total/PlantNet/crown",
          "Total/PlantNet/bark",
          "Total/Palm/Fruit Shape",
          "Total/Palm/Fruit Size",
          "Total/Caribbean/Fruit colour",
          "Total/Caribbean/Fruit shape",
          "Total/Caribbean/Fruit type",
          "Total/Caribbean/Inflorescence type",
          "Total/Caribbean/Leaf composition",
          "Total/Caribbean/Leaf glands",
          "Total/Caribbean/Leaf lower side",
          "Total/Caribbean/Leaf margin",
          "Total/Caribbean/Leaf glands",
          "Total/Caribbean/Leaf rachis",
          "Total/Caribbean/Leaf upper side",
          "Total/Caribbean/Life form",
          "Total/Palm/Measurement",
          "Total/Caribbean/Petals / corolla colour",
          "Total/Caribbean/Petals / corolla number",
          "Total/Caribbean/Petals / corolla shape",
          "Total/Caribbean/Seed colour",
          "Total/Caribbean/Sepals / calyx shape",
          "Total/Caribbean/Stamen number",
          "Total/Caribbean/Stamen shape",
          "Total/Caribbean/Leaf shape",
          "Total/Caribbean/Leaf lower side",
          "Total/Caribbean/Leaf margin",
          "Total/Caribbean/Leaf rachis",
          "Total/PlantNet/trunk and root",
          "Total/PlantNet/vein",
          "Total/Palm/Fruit Colour Description",
          "Total/Palm/Fruit Shape",
          "Total/Palm/Fruit Size",
          "Total/Caribbean/Fruit colour",
          "Total/Caribbean/Fruit shape",
          "Total/Caribbean/Fruit type",
          "Total/Caribbean/Inflorescence type",
          "Total/Caribbean/Leaf composition",
          "Total/PlantNet/tendril",
          "Total/Caribbean/Leaf glands",
          "Total/Caribbean/Leaf margin",
          "Total/Caribbean/Leaf rachis",
          "Total/Caribbean/Leaf shape",
          "Total/Caribbean/Leaf upper side",
          "Total/Caribbean/Life form",
          "Total/Palm/Measurement",
          "Total/Caribbean/Petals / corolla colour",
          "Total/Caribbean/Petals / corolla number",
          "Total/Caribbean/Petals / corolla shape",
          "Total/Caribbean/Seed colour",
          "Total/Caribbean/Leaf lower side",
          "Total",
          "Total/PlantNet/plant type",
          "Total/PlantNet/petiole",
          "Total/Caribbean/Leaf shape",
          "Total/Caribbean/Leaf upper side",
          "Total/Caribbean/Life form",
          "Total/Palm/Measurement",
          "Total/Caribbean/Petals / corolla colour",
          "Total/Caribbean/Petals / corolla number",
          "Total/Caribbean/Petals / corolla shape",
          "Total/Caribbean/Seed colour",
          "Total/Caribbean/Sepals / calyx shape",
          "Total/Caribbean/Stamen number",
          "Total/PlantNet/phyllotaxis",
          "Total/Caribbean/Stamen shape",
          "Total/PlantNet/crown",
          "Total/PlantNet/flower color",
          "Total/PlantNet/flower shape",
          "Total/PlantNet/fruit",
          "Total/PlantNet/inflorescences",
          "Total/PlantNet/leaf apex",
          "Total/PlantNet/leaf base",
          "Total/PlantNet/leaf blade",
          "Total/PlantNet/leaf margin",
          "Total/PlantNet/leaf shape",
          "Total/PlantNet/bark",
          ""
         ],
         "type": "sunburst",
         "values": [
          25,
          25,
          25,
          42.839999999999996,
          14.28,
          9.09,
          45.760000000000005,
          30,
          50,
          100,
          0,
          33.34,
          99.99,
          40,
          100,
          99.99,
          0,
          60,
          100,
          70,
          76.44,
          50,
          25,
          0,
          0,
          0,
          0,
          100,
          0,
          0,
          20,
          11.76,
          10,
          33.33,
          0,
          8.33,
          0,
          33.33,
          100,
          50,
          0,
          0,
          25,
          57.16,
          0,
          62.5,
          16.67,
          66.66,
          0,
          0,
          54.54,
          66.66,
          99.99,
          100,
          100,
          99.99,
          100,
          100,
          100,
          100,
          99.96,
          100,
          99.99,
          99.99,
          99.96000000000001,
          99.99,
          100,
          100,
          100,
          100,
          100.03,
          1899.93,
          399.87,
          100.02000000000001,
          100,
          100,
          100,
          100,
          0,
          50,
          50,
          71.44999999999999,
          100,
          100.03,
          100,
          100,
          100.02000000000001,
          33.32,
          99.99,
          100,
          100,
          100,
          100,
          100,
          99.96,
          99.96,
          99.99,
          99.84,
          100,
          100,
          60,
          0,
          0,
          0,
          10,
          5.88,
          20,
          66.66,
          27.27,
          41.65,
          0,
          0,
          0,
          0,
          50,
          28.58,
          0,
          0,
          0,
          6.25,
          16.67,
          0,
          0,
          80,
          30,
          0,
          0,
          0,
          28.58,
          100,
          18.75,
          66.68,
          0,
          50,
          0,
          100,
          62.5,
          75,
          0,
          75,
          78.53999999999999,
          0,
          39.52,
          40,
          50,
          0,
          50,
          66.68,
          0,
          0,
          28.56,
          0,
          0,
          0,
          0,
          0,
          50,
          14.29,
          0,
          12.5,
          0,
          33.33,
          50,
          20,
          0,
          0,
          0,
          0,
          28.56,
          7.14,
          90.9,
          10.4,
          20,
          0,
          0,
          50,
          12.5,
          1699.9099999999999,
          0,
          0,
          0,
          0,
          0,
          4.16,
          10,
          0,
          0,
          0,
          0,
          0,
          0,
          0,
          0,
          0,
          10,
          0,
          0,
          5.88,
          20,
          0,
          18.18,
          16.66,
          0,
          3999.71
         ]
        }
       ],
       "layout": {
        "legend": {
         "tracegroupgap": 0
        },
        "margin": {
         "b": 0,
         "l": 0,
         "r": 0,
         "t": 0
        },
        "template": {
         "data": {
          "bar": [
           {
            "error_x": {
             "color": "#2a3f5f"
            },
            "error_y": {
             "color": "#2a3f5f"
            },
            "marker": {
             "line": {
              "color": "#E5ECF6",
              "width": 0.5
             },
             "pattern": {
              "fillmode": "overlay",
              "size": 10,
              "solidity": 0.2
             }
            },
            "type": "bar"
           }
          ],
          "barpolar": [
           {
            "marker": {
             "line": {
              "color": "#E5ECF6",
              "width": 0.5
             },
             "pattern": {
              "fillmode": "overlay",
              "size": 10,
              "solidity": 0.2
             }
            },
            "type": "barpolar"
           }
          ],
          "carpet": [
           {
            "aaxis": {
             "endlinecolor": "#2a3f5f",
             "gridcolor": "white",
             "linecolor": "white",
             "minorgridcolor": "white",
             "startlinecolor": "#2a3f5f"
            },
            "baxis": {
             "endlinecolor": "#2a3f5f",
             "gridcolor": "white",
             "linecolor": "white",
             "minorgridcolor": "white",
             "startlinecolor": "#2a3f5f"
            },
            "type": "carpet"
           }
          ],
          "choropleth": [
           {
            "colorbar": {
             "outlinewidth": 0,
             "ticks": ""
            },
            "type": "choropleth"
           }
          ],
          "contour": [
           {
            "colorbar": {
             "outlinewidth": 0,
             "ticks": ""
            },
            "colorscale": [
             [
              0,
              "#0d0887"
             ],
             [
              0.1111111111111111,
              "#46039f"
             ],
             [
              0.2222222222222222,
              "#7201a8"
             ],
             [
              0.3333333333333333,
              "#9c179e"
             ],
             [
              0.4444444444444444,
              "#bd3786"
             ],
             [
              0.5555555555555556,
              "#d8576b"
             ],
             [
              0.6666666666666666,
              "#ed7953"
             ],
             [
              0.7777777777777778,
              "#fb9f3a"
             ],
             [
              0.8888888888888888,
              "#fdca26"
             ],
             [
              1,
              "#f0f921"
             ]
            ],
            "type": "contour"
           }
          ],
          "contourcarpet": [
           {
            "colorbar": {
             "outlinewidth": 0,
             "ticks": ""
            },
            "type": "contourcarpet"
           }
          ],
          "heatmap": [
           {
            "colorbar": {
             "outlinewidth": 0,
             "ticks": ""
            },
            "colorscale": [
             [
              0,
              "#0d0887"
             ],
             [
              0.1111111111111111,
              "#46039f"
             ],
             [
              0.2222222222222222,
              "#7201a8"
             ],
             [
              0.3333333333333333,
              "#9c179e"
             ],
             [
              0.4444444444444444,
              "#bd3786"
             ],
             [
              0.5555555555555556,
              "#d8576b"
             ],
             [
              0.6666666666666666,
              "#ed7953"
             ],
             [
              0.7777777777777778,
              "#fb9f3a"
             ],
             [
              0.8888888888888888,
              "#fdca26"
             ],
             [
              1,
              "#f0f921"
             ]
            ],
            "type": "heatmap"
           }
          ],
          "heatmapgl": [
           {
            "colorbar": {
             "outlinewidth": 0,
             "ticks": ""
            },
            "colorscale": [
             [
              0,
              "#0d0887"
             ],
             [
              0.1111111111111111,
              "#46039f"
             ],
             [
              0.2222222222222222,
              "#7201a8"
             ],
             [
              0.3333333333333333,
              "#9c179e"
             ],
             [
              0.4444444444444444,
              "#bd3786"
             ],
             [
              0.5555555555555556,
              "#d8576b"
             ],
             [
              0.6666666666666666,
              "#ed7953"
             ],
             [
              0.7777777777777778,
              "#fb9f3a"
             ],
             [
              0.8888888888888888,
              "#fdca26"
             ],
             [
              1,
              "#f0f921"
             ]
            ],
            "type": "heatmapgl"
           }
          ],
          "histogram": [
           {
            "marker": {
             "pattern": {
              "fillmode": "overlay",
              "size": 10,
              "solidity": 0.2
             }
            },
            "type": "histogram"
           }
          ],
          "histogram2d": [
           {
            "colorbar": {
             "outlinewidth": 0,
             "ticks": ""
            },
            "colorscale": [
             [
              0,
              "#0d0887"
             ],
             [
              0.1111111111111111,
              "#46039f"
             ],
             [
              0.2222222222222222,
              "#7201a8"
             ],
             [
              0.3333333333333333,
              "#9c179e"
             ],
             [
              0.4444444444444444,
              "#bd3786"
             ],
             [
              0.5555555555555556,
              "#d8576b"
             ],
             [
              0.6666666666666666,
              "#ed7953"
             ],
             [
              0.7777777777777778,
              "#fb9f3a"
             ],
             [
              0.8888888888888888,
              "#fdca26"
             ],
             [
              1,
              "#f0f921"
             ]
            ],
            "type": "histogram2d"
           }
          ],
          "histogram2dcontour": [
           {
            "colorbar": {
             "outlinewidth": 0,
             "ticks": ""
            },
            "colorscale": [
             [
              0,
              "#0d0887"
             ],
             [
              0.1111111111111111,
              "#46039f"
             ],
             [
              0.2222222222222222,
              "#7201a8"
             ],
             [
              0.3333333333333333,
              "#9c179e"
             ],
             [
              0.4444444444444444,
              "#bd3786"
             ],
             [
              0.5555555555555556,
              "#d8576b"
             ],
             [
              0.6666666666666666,
              "#ed7953"
             ],
             [
              0.7777777777777778,
              "#fb9f3a"
             ],
             [
              0.8888888888888888,
              "#fdca26"
             ],
             [
              1,
              "#f0f921"
             ]
            ],
            "type": "histogram2dcontour"
           }
          ],
          "mesh3d": [
           {
            "colorbar": {
             "outlinewidth": 0,
             "ticks": ""
            },
            "type": "mesh3d"
           }
          ],
          "parcoords": [
           {
            "line": {
             "colorbar": {
              "outlinewidth": 0,
              "ticks": ""
             }
            },
            "type": "parcoords"
           }
          ],
          "pie": [
           {
            "automargin": true,
            "type": "pie"
           }
          ],
          "scatter": [
           {
            "fillpattern": {
             "fillmode": "overlay",
             "size": 10,
             "solidity": 0.2
            },
            "type": "scatter"
           }
          ],
          "scatter3d": [
           {
            "line": {
             "colorbar": {
              "outlinewidth": 0,
              "ticks": ""
             }
            },
            "marker": {
             "colorbar": {
              "outlinewidth": 0,
              "ticks": ""
             }
            },
            "type": "scatter3d"
           }
          ],
          "scattercarpet": [
           {
            "marker": {
             "colorbar": {
              "outlinewidth": 0,
              "ticks": ""
             }
            },
            "type": "scattercarpet"
           }
          ],
          "scattergeo": [
           {
            "marker": {
             "colorbar": {
              "outlinewidth": 0,
              "ticks": ""
             }
            },
            "type": "scattergeo"
           }
          ],
          "scattergl": [
           {
            "marker": {
             "colorbar": {
              "outlinewidth": 0,
              "ticks": ""
             }
            },
            "type": "scattergl"
           }
          ],
          "scattermapbox": [
           {
            "marker": {
             "colorbar": {
              "outlinewidth": 0,
              "ticks": ""
             }
            },
            "type": "scattermapbox"
           }
          ],
          "scatterpolar": [
           {
            "marker": {
             "colorbar": {
              "outlinewidth": 0,
              "ticks": ""
             }
            },
            "type": "scatterpolar"
           }
          ],
          "scatterpolargl": [
           {
            "marker": {
             "colorbar": {
              "outlinewidth": 0,
              "ticks": ""
             }
            },
            "type": "scatterpolargl"
           }
          ],
          "scatterternary": [
           {
            "marker": {
             "colorbar": {
              "outlinewidth": 0,
              "ticks": ""
             }
            },
            "type": "scatterternary"
           }
          ],
          "surface": [
           {
            "colorbar": {
             "outlinewidth": 0,
             "ticks": ""
            },
            "colorscale": [
             [
              0,
              "#0d0887"
             ],
             [
              0.1111111111111111,
              "#46039f"
             ],
             [
              0.2222222222222222,
              "#7201a8"
             ],
             [
              0.3333333333333333,
              "#9c179e"
             ],
             [
              0.4444444444444444,
              "#bd3786"
             ],
             [
              0.5555555555555556,
              "#d8576b"
             ],
             [
              0.6666666666666666,
              "#ed7953"
             ],
             [
              0.7777777777777778,
              "#fb9f3a"
             ],
             [
              0.8888888888888888,
              "#fdca26"
             ],
             [
              1,
              "#f0f921"
             ]
            ],
            "type": "surface"
           }
          ],
          "table": [
           {
            "cells": {
             "fill": {
              "color": "#EBF0F8"
             },
             "line": {
              "color": "white"
             }
            },
            "header": {
             "fill": {
              "color": "#C8D4E3"
             },
             "line": {
              "color": "white"
             }
            },
            "type": "table"
           }
          ]
         },
         "layout": {
          "annotationdefaults": {
           "arrowcolor": "#2a3f5f",
           "arrowhead": 0,
           "arrowwidth": 1
          },
          "autotypenumbers": "strict",
          "coloraxis": {
           "colorbar": {
            "outlinewidth": 0,
            "ticks": ""
           }
          },
          "colorscale": {
           "diverging": [
            [
             0,
             "#8e0152"
            ],
            [
             0.1,
             "#c51b7d"
            ],
            [
             0.2,
             "#de77ae"
            ],
            [
             0.3,
             "#f1b6da"
            ],
            [
             0.4,
             "#fde0ef"
            ],
            [
             0.5,
             "#f7f7f7"
            ],
            [
             0.6,
             "#e6f5d0"
            ],
            [
             0.7,
             "#b8e186"
            ],
            [
             0.8,
             "#7fbc41"
            ],
            [
             0.9,
             "#4d9221"
            ],
            [
             1,
             "#276419"
            ]
           ],
           "sequential": [
            [
             0,
             "#0d0887"
            ],
            [
             0.1111111111111111,
             "#46039f"
            ],
            [
             0.2222222222222222,
             "#7201a8"
            ],
            [
             0.3333333333333333,
             "#9c179e"
            ],
            [
             0.4444444444444444,
             "#bd3786"
            ],
            [
             0.5555555555555556,
             "#d8576b"
            ],
            [
             0.6666666666666666,
             "#ed7953"
            ],
            [
             0.7777777777777778,
             "#fb9f3a"
            ],
            [
             0.8888888888888888,
             "#fdca26"
            ],
            [
             1,
             "#f0f921"
            ]
           ],
           "sequentialminus": [
            [
             0,
             "#0d0887"
            ],
            [
             0.1111111111111111,
             "#46039f"
            ],
            [
             0.2222222222222222,
             "#7201a8"
            ],
            [
             0.3333333333333333,
             "#9c179e"
            ],
            [
             0.4444444444444444,
             "#bd3786"
            ],
            [
             0.5555555555555556,
             "#d8576b"
            ],
            [
             0.6666666666666666,
             "#ed7953"
            ],
            [
             0.7777777777777778,
             "#fb9f3a"
            ],
            [
             0.8888888888888888,
             "#fdca26"
            ],
            [
             1,
             "#f0f921"
            ]
           ]
          },
          "colorway": [
           "#636efa",
           "#EF553B",
           "#00cc96",
           "#ab63fa",
           "#FFA15A",
           "#19d3f3",
           "#FF6692",
           "#B6E880",
           "#FF97FF",
           "#FECB52"
          ],
          "font": {
           "color": "#2a3f5f"
          },
          "geo": {
           "bgcolor": "white",
           "lakecolor": "white",
           "landcolor": "#E5ECF6",
           "showlakes": true,
           "showland": true,
           "subunitcolor": "white"
          },
          "hoverlabel": {
           "align": "left"
          },
          "hovermode": "closest",
          "mapbox": {
           "style": "light"
          },
          "paper_bgcolor": "white",
          "plot_bgcolor": "#E5ECF6",
          "polar": {
           "angularaxis": {
            "gridcolor": "white",
            "linecolor": "white",
            "ticks": ""
           },
           "bgcolor": "#E5ECF6",
           "radialaxis": {
            "gridcolor": "white",
            "linecolor": "white",
            "ticks": ""
           }
          },
          "scene": {
           "xaxis": {
            "backgroundcolor": "#E5ECF6",
            "gridcolor": "white",
            "gridwidth": 2,
            "linecolor": "white",
            "showbackground": true,
            "ticks": "",
            "zerolinecolor": "white"
           },
           "yaxis": {
            "backgroundcolor": "#E5ECF6",
            "gridcolor": "white",
            "gridwidth": 2,
            "linecolor": "white",
            "showbackground": true,
            "ticks": "",
            "zerolinecolor": "white"
           },
           "zaxis": {
            "backgroundcolor": "#E5ECF6",
            "gridcolor": "white",
            "gridwidth": 2,
            "linecolor": "white",
            "showbackground": true,
            "ticks": "",
            "zerolinecolor": "white"
           }
          },
          "shapedefaults": {
           "line": {
            "color": "#2a3f5f"
           }
          },
          "ternary": {
           "aaxis": {
            "gridcolor": "white",
            "linecolor": "white",
            "ticks": ""
           },
           "baxis": {
            "gridcolor": "white",
            "linecolor": "white",
            "ticks": ""
           },
           "bgcolor": "#E5ECF6",
           "caxis": {
            "gridcolor": "white",
            "linecolor": "white",
            "ticks": ""
           }
          },
          "title": {
           "x": 0.05
          },
          "xaxis": {
           "automargin": true,
           "gridcolor": "white",
           "linecolor": "white",
           "ticks": "",
           "title": {
            "standoff": 15
           },
           "zerolinecolor": "white",
           "zerolinewidth": 2
          },
          "yaxis": {
           "automargin": true,
           "gridcolor": "white",
           "linecolor": "white",
           "ticks": "",
           "title": {
            "standoff": 15
           },
           "zerolinecolor": "white",
           "zerolinewidth": 2
          }
         }
        },
        "uniformtext": {
         "minsize": 8,
         "mode": "hide"
        }
       }
      }
     },
     "metadata": {},
     "output_type": "display_data"
    }
   ],
   "source": [
    "labels = ['None of the above', 'Can infer correct Entity', 'Can infer correct Quality', 'Can infer correct Value']\n",
    "\n",
    "colors = [\n",
    "    'rgb(175, 49, 35)', \n",
    "    'rgb(151, 179, 100)',\n",
    "    'rgb(33, 75, 99)',\n",
    "    'rgb(79, 129, 102)',\n",
    "      ]\n",
    "\n",
    "# colors = [\n",
    "#     'red', \n",
    "#     'yellow',\n",
    "#     'blue',\n",
    "#     'green',\n",
    "#       ]\n",
    "\n",
    "color_dict = {label: color for color, label in zip(colors, labels)}\n",
    "# color_dict.update({label: color for color, label in zip(colors, df[\"Dataset\"].unique())})\n",
    "color_dict['(?)'] = 'black'\n",
    "\n",
    "fig = px.sunburst(df_melt, \n",
    "                  path=['Total', 'Dataset', 'Main Trait', 'variable'], \n",
    "                  values='Percentage', \n",
    "                  color='variable',\n",
    "                #   color='Black',\n",
    "                  hover_data=[\"variable\", \"Percentage\"],\n",
    "                  color_discrete_map=color_dict)\n",
    "\n",
    "fig.update_layout(\n",
    "    margin = dict(t=0, l=0, r=0, b=0),\n",
    "    uniformtext=dict(minsize=8, mode='hide')\n",
    ")\n",
    "\n",
    "fig.show()\n",
    "\n",
    "# folder_figures = \"../../../reports/figures/\"\n",
    "# file_name = \"PxPlot_HTML_SurveysPerTrait_Percentage.html\"\n",
    "# fig.write_html(F\"{folder_figures}{file_name}\")\n",
    "# file_name = \"PxPlot_PDF_SurveysPerTrait_Percentage.pdf\"\n",
    "# fig.write_image(F\"{folder_figures}{file_name}\")"
   ]
  },
  {
   "attachments": {},
   "cell_type": "markdown",
   "id": "743fae9e",
   "metadata": {},
   "source": [
    "#### Normal"
   ]
  },
  {
   "cell_type": "code",
   "execution_count": 25,
   "id": "a5a478d8",
   "metadata": {},
   "outputs": [],
   "source": [
    "# labels = ['None of the above', 'Can infer correct Entity', 'Can infer correct Quality', 'Can infer correct Value']\n",
    "\n",
    "# colors = [\n",
    "#     'rgb(175, 49, 35)', \n",
    "#     'rgb(151, 179, 100)',\n",
    "#     'rgb(33, 75, 99)',\n",
    "#     'rgb(79, 129, 102)',\n",
    "#       ]\n",
    "\n",
    "# color_dict = {label: color for color, label in zip(colors, labels)}\n",
    "# color_dict['(?)'] = 'black'\n",
    "\n",
    "# fig = px.sunburst(df_melt, \n",
    "#                   path=['Main Trait', 'variable'], \n",
    "#                   values='value', \n",
    "#                   color='variable',\n",
    "#                   color_discrete_map=color_dict)\n",
    "\n",
    "# fig.update_layout(\n",
    "#     margin = dict(t=0, l=0, r=0, b=0),\n",
    "#     uniformtext=dict(minsize=8, mode='hide')\n",
    "# )\n",
    "\n",
    "# fig.show()\n",
    "\n",
    "# folder_figures = \"../../../reports/figures/\"\n",
    "# file_name = \"PxPlot_HTML_SurveysPerTrait_Grouped.html\"\n",
    "# fig.write_html(F\"{folder_figures}{file_name}\")\n",
    "# file_name = \"PxPlot_PDF_SurveysPerTrait_Grouped.pdf\"\n",
    "# fig.write_image(F\"{folder_figures}{file_name}\")"
   ]
  },
  {
   "attachments": {},
   "cell_type": "markdown",
   "id": "cdd160f8",
   "metadata": {},
   "source": [
    "#### Dataset/Group"
   ]
  },
  {
   "cell_type": "code",
   "execution_count": 24,
   "id": "b4fe199a",
   "metadata": {},
   "outputs": [
    {
     "data": {
      "application/vnd.plotly.v1+json": {
       "config": {
        "plotlyServerURL": "https://plot.ly"
       },
       "data": [
        {
         "branchvalues": "total",
         "customdata": [
          [
           "Can infer correct Entity"
          ],
          [
           "None of the above"
          ],
          [
           "None of the above"
          ],
          [
           "None of the above"
          ],
          [
           "None of the above"
          ],
          [
           "None of the above"
          ],
          [
           "None of the above"
          ],
          [
           "None of the above"
          ],
          [
           "None of the above"
          ],
          [
           "None of the above"
          ],
          [
           "None of the above"
          ],
          [
           "None of the above"
          ],
          [
           "None of the above"
          ],
          [
           "None of the above"
          ],
          [
           "None of the above"
          ],
          [
           "None of the above"
          ],
          [
           "None of the above"
          ],
          [
           "None of the above"
          ],
          [
           "None of the above"
          ],
          [
           "None of the above"
          ],
          [
           "None of the above"
          ],
          [
           "None of the above"
          ],
          [
           "None of the above"
          ],
          [
           "None of the above"
          ],
          [
           "None of the above"
          ],
          [
           "None of the above"
          ],
          [
           "Can infer correct Value"
          ],
          [
           "Can infer correct Value"
          ],
          [
           "Can infer correct Value"
          ],
          [
           "Can infer correct Value"
          ],
          [
           "Can infer correct Value"
          ],
          [
           "Can infer correct Value"
          ],
          [
           "Can infer correct Value"
          ],
          [
           "Can infer correct Value"
          ],
          [
           "Can infer correct Value"
          ],
          [
           "Can infer correct Value"
          ],
          [
           "None of the above"
          ],
          [
           "Can infer correct Value"
          ],
          [
           "Can infer correct Value"
          ],
          [
           "Can infer correct Value"
          ],
          [
           "Can infer correct Value"
          ],
          [
           "Can infer correct Value"
          ],
          [
           "Can infer correct Value"
          ],
          [
           "None of the above"
          ],
          [
           "None of the above"
          ],
          [
           "None of the above"
          ],
          [
           "None of the above"
          ],
          [
           "None of the above"
          ],
          [
           "Can infer correct Value"
          ],
          [
           "Can infer correct Value"
          ],
          [
           "None of the above"
          ],
          [
           "None of the above"
          ],
          [
           "(?)"
          ],
          [
           "(?)"
          ],
          [
           "(?)"
          ],
          [
           "(?)"
          ],
          [
           "(?)"
          ],
          [
           "(?)"
          ],
          [
           "(?)"
          ],
          [
           "(?)"
          ],
          [
           "(?)"
          ],
          [
           "(?)"
          ],
          [
           "(?)"
          ],
          [
           "(?)"
          ],
          [
           "(?)"
          ],
          [
           "(?)"
          ],
          [
           "(?)"
          ],
          [
           "(?)"
          ],
          [
           "(?)"
          ],
          [
           "(?)"
          ],
          [
           "(?)"
          ],
          [
           "(?)"
          ],
          [
           "(?)"
          ],
          [
           "(?)"
          ],
          [
           "(?)"
          ],
          [
           "(?)"
          ],
          [
           "(?)"
          ],
          [
           "None of the above"
          ],
          [
           "None of the above"
          ],
          [
           "None of the above"
          ],
          [
           "None of the above"
          ],
          [
           "None of the above"
          ],
          [
           "None of the above"
          ],
          [
           "(?)"
          ],
          [
           "(?)"
          ],
          [
           "(?)"
          ],
          [
           "(?)"
          ],
          [
           "None of the above"
          ],
          [
           "(?)"
          ],
          [
           "(?)"
          ],
          [
           "(?)"
          ],
          [
           "(?)"
          ],
          [
           "(?)"
          ],
          [
           "(?)"
          ],
          [
           "(?)"
          ],
          [
           "(?)"
          ],
          [
           "(?)"
          ],
          [
           "(?)"
          ],
          [
           "(?)"
          ],
          [
           "(?)"
          ],
          [
           "(?)"
          ],
          [
           "Can infer correct Value"
          ],
          [
           "Can infer correct Value"
          ],
          [
           "Can infer correct Entity"
          ],
          [
           "Can infer correct Entity"
          ],
          [
           "Can infer correct Entity"
          ],
          [
           "Can infer correct Entity"
          ],
          [
           "Can infer correct Entity"
          ],
          [
           "Can infer correct Entity"
          ],
          [
           "Can infer correct Entity"
          ],
          [
           "Can infer correct Entity"
          ],
          [
           "Can infer correct Entity"
          ],
          [
           "Can infer correct Entity"
          ],
          [
           "Can infer correct Entity"
          ],
          [
           "Can infer correct Entity"
          ],
          [
           "Can infer correct Entity"
          ],
          [
           "Can infer correct Quality"
          ],
          [
           "Can infer correct Quality"
          ],
          [
           "Can infer correct Quality"
          ],
          [
           "Can infer correct Quality"
          ],
          [
           "Can infer correct Quality"
          ],
          [
           "Can infer correct Quality"
          ],
          [
           "Can infer correct Quality"
          ],
          [
           "Can infer correct Quality"
          ],
          [
           "Can infer correct Entity"
          ],
          [
           "Can infer correct Entity"
          ],
          [
           "Can infer correct Entity"
          ],
          [
           "Can infer correct Entity"
          ],
          [
           "Can infer correct Entity"
          ],
          [
           "Can infer correct Entity"
          ],
          [
           "Can infer correct Entity"
          ],
          [
           "Can infer correct Entity"
          ],
          [
           "Can infer correct Entity"
          ],
          [
           "Can infer correct Entity"
          ],
          [
           "Can infer correct Entity"
          ],
          [
           "Can infer correct Entity"
          ],
          [
           "Can infer correct Entity"
          ],
          [
           "Can infer correct Entity"
          ],
          [
           "Can infer correct Quality"
          ],
          [
           "Can infer correct Entity"
          ],
          [
           "Can infer correct Entity"
          ],
          [
           "Can infer correct Entity"
          ],
          [
           "Can infer correct Entity"
          ],
          [
           "Can infer correct Entity"
          ],
          [
           "Can infer correct Entity"
          ],
          [
           "Can infer correct Entity"
          ],
          [
           "Can infer correct Entity"
          ],
          [
           "Can infer correct Entity"
          ],
          [
           "Can infer correct Entity"
          ],
          [
           "Can infer correct Entity"
          ],
          [
           "Can infer correct Entity"
          ],
          [
           "Can infer correct Value"
          ],
          [
           "Can infer correct Quality"
          ],
          [
           "Can infer correct Quality"
          ],
          [
           "Can infer correct Quality"
          ],
          [
           "Can infer correct Quality"
          ],
          [
           "Can infer correct Value"
          ],
          [
           "Can infer correct Value"
          ],
          [
           "Can infer correct Value"
          ],
          [
           "Can infer correct Value"
          ],
          [
           "Can infer correct Value"
          ],
          [
           "Can infer correct Value"
          ],
          [
           "Can infer correct Value"
          ],
          [
           "Can infer correct Value"
          ],
          [
           "Can infer correct Value"
          ],
          [
           "Can infer correct Value"
          ],
          [
           "Can infer correct Value"
          ],
          [
           "Can infer correct Value"
          ],
          [
           "Can infer correct Value"
          ],
          [
           "Can infer correct Value"
          ],
          [
           "Can infer correct Value"
          ],
          [
           "Can infer correct Value"
          ],
          [
           "Can infer correct Value"
          ],
          [
           "Can infer correct Value"
          ],
          [
           "Can infer correct Value"
          ],
          [
           "Can infer correct Quality"
          ],
          [
           "Can infer correct Quality"
          ],
          [
           "Can infer correct Quality"
          ],
          [
           "Can infer correct Quality"
          ],
          [
           "Can infer correct Quality"
          ],
          [
           "Can infer correct Quality"
          ],
          [
           "Can infer correct Quality"
          ],
          [
           "Can infer correct Quality"
          ],
          [
           "Can infer correct Quality"
          ],
          [
           "Can infer correct Quality"
          ],
          [
           "Can infer correct Quality"
          ],
          [
           "Can infer correct Quality"
          ],
          [
           "Can infer correct Quality"
          ],
          [
           "Can infer correct Quality"
          ],
          [
           "Can infer correct Quality"
          ],
          [
           "Can infer correct Quality"
          ],
          [
           "Can infer correct Quality"
          ],
          [
           "Can infer correct Quality"
          ],
          [
           "Can infer correct Quality"
          ],
          [
           "Can infer correct Quality"
          ],
          [
           "Can infer correct Quality"
          ],
          [
           "Can infer correct Quality"
          ],
          [
           "Can infer correct Quality"
          ],
          [
           "Can infer correct Quality"
          ],
          [
           "Can infer correct Quality"
          ],
          [
           "Can infer correct Quality"
          ],
          [
           "Can infer correct Quality"
          ],
          [
           "(?)"
          ]
         ],
         "domain": {
          "x": [
           0,
           1
          ],
          "y": [
           0,
           1
          ]
         },
         "hovertemplate": "labels=%{label}<br>value=%{value}<br>parent=%{parent}<br>id=%{id}<br>variable=%{customdata[0]}<extra></extra>",
         "ids": [
          "Palm/Fruit Colour Description/Can infer correct Entity",
          "Caribbean/Leaf lower side/None of the above",
          "Caribbean/Leaf margin/None of the above",
          "Caribbean/Leaf rachis/None of the above",
          "Caribbean/Leaf shape/None of the above",
          "Caribbean/Leaf upper side/None of the above",
          "Caribbean/Life form/None of the above",
          "Palm/Measurement/None of the above",
          "Caribbean/Petals / corolla colour/None of the above",
          "Caribbean/Petals / corolla number/None of the above",
          "Caribbean/Petals / corolla shape/None of the above",
          "Caribbean/Seed colour/None of the above",
          "Caribbean/Sepals / calyx shape/None of the above",
          "Caribbean/Stamen number/None of the above",
          "Caribbean/Stamen shape/None of the above",
          "PlantNet/bark/None of the above",
          "PlantNet/crown/None of the above",
          "PlantNet/flower color/None of the above",
          "PlantNet/flower shape/None of the above",
          "PlantNet/fruit/None of the above",
          "PlantNet/inflorescences/None of the above",
          "PlantNet/leaf apex/None of the above",
          "Caribbean/Leaf glands/None of the above",
          "Caribbean/Leaf composition/None of the above",
          "Caribbean/Inflorescence type/None of the above",
          "Caribbean/Fruit type/None of the above",
          "PlantNet/bark/Can infer correct Value",
          "PlantNet/crown/Can infer correct Value",
          "PlantNet/flower color/Can infer correct Value",
          "PlantNet/flower shape/Can infer correct Value",
          "PlantNet/fruit/Can infer correct Value",
          "PlantNet/inflorescences/Can infer correct Value",
          "PlantNet/leaf apex/Can infer correct Value",
          "PlantNet/leaf base/Can infer correct Value",
          "PlantNet/leaf blade/Can infer correct Value",
          "PlantNet/leaf margin/Can infer correct Value",
          "PlantNet/leaf base/None of the above",
          "PlantNet/leaf shape/Can infer correct Value",
          "PlantNet/phyllotaxis/Can infer correct Value",
          "PlantNet/plant type/Can infer correct Value",
          "PlantNet/tendril/Can infer correct Value",
          "PlantNet/trunk and root/Can infer correct Value",
          "PlantNet/vein/Can infer correct Value",
          "Palm/Fruit Colour Description/None of the above",
          "Palm/Fruit Shape/None of the above",
          "Palm/Fruit Size/None of the above",
          "Caribbean/Fruit colour/None of the above",
          "Caribbean/Fruit shape/None of the above",
          "PlantNet/petiole/Can infer correct Value",
          "Caribbean/Stamen shape/Can infer correct Value",
          "PlantNet/leaf blade/None of the above",
          "PlantNet/leaf shape/None of the above",
          "Caribbean/Sepals / calyx shape",
          "Caribbean/Stamen number",
          "Caribbean/Stamen shape",
          "PlantNet/bark",
          "PlantNet/crown",
          "PlantNet/flower color",
          "PlantNet/flower shape",
          "PlantNet/fruit",
          "PlantNet/inflorescences",
          "PlantNet/leaf apex",
          "PlantNet/leaf base",
          "PlantNet/leaf blade",
          "PlantNet/leaf margin",
          "PlantNet/leaf shape",
          "PlantNet/petiole",
          "PlantNet/phyllotaxis",
          "PlantNet/plant type",
          "PlantNet/tendril",
          "PlantNet/trunk and root",
          "PlantNet/vein",
          "Caribbean",
          "Caribbean/Seed colour",
          "Caribbean/Petals / corolla shape",
          "Caribbean/Petals / corolla number",
          "Caribbean/Petals / corolla colour",
          "PlantNet/petiole/None of the above",
          "PlantNet/phyllotaxis/None of the above",
          "PlantNet/plant type/None of the above",
          "PlantNet/tendril/None of the above",
          "PlantNet/trunk and root/None of the above",
          "PlantNet/vein/None of the above",
          "Palm/Fruit Colour Description",
          "Palm/Fruit Shape",
          "Palm/Fruit Size",
          "Caribbean/Fruit colour",
          "PlantNet/leaf margin/None of the above",
          "Caribbean/Fruit shape",
          "Caribbean/Inflorescence type",
          "Caribbean/Leaf composition",
          "Caribbean/Leaf glands",
          "Caribbean/Leaf lower side",
          "Caribbean/Leaf margin",
          "Caribbean/Leaf rachis",
          "Caribbean/Leaf shape",
          "Caribbean/Leaf upper side",
          "Caribbean/Life form",
          "Palm/Measurement",
          "Caribbean/Fruit type",
          "Palm",
          "Caribbean/Stamen number/Can infer correct Value",
          "Caribbean/Seed colour/Can infer correct Value",
          "PlantNet/fruit/Can infer correct Entity",
          "PlantNet/inflorescences/Can infer correct Entity",
          "PlantNet/leaf apex/Can infer correct Entity",
          "PlantNet/leaf base/Can infer correct Entity",
          "PlantNet/leaf blade/Can infer correct Entity",
          "PlantNet/leaf margin/Can infer correct Entity",
          "PlantNet/leaf shape/Can infer correct Entity",
          "PlantNet/petiole/Can infer correct Entity",
          "PlantNet/phyllotaxis/Can infer correct Entity",
          "PlantNet/plant type/Can infer correct Entity",
          "PlantNet/tendril/Can infer correct Entity",
          "PlantNet/trunk and root/Can infer correct Entity",
          "PlantNet/vein/Can infer correct Entity",
          "Palm/Fruit Colour Description/Can infer correct Quality",
          "Palm/Fruit Shape/Can infer correct Quality",
          "Palm/Fruit Size/Can infer correct Quality",
          "Caribbean/Fruit colour/Can infer correct Quality",
          "Caribbean/Fruit shape/Can infer correct Quality",
          "Caribbean/Fruit type/Can infer correct Quality",
          "Caribbean/Inflorescence type/Can infer correct Quality",
          "Caribbean/Leaf composition/Can infer correct Quality",
          "PlantNet/flower shape/Can infer correct Entity",
          "PlantNet/flower color/Can infer correct Entity",
          "PlantNet/crown/Can infer correct Entity",
          "PlantNet/bark/Can infer correct Entity",
          "Palm/Fruit Shape/Can infer correct Entity",
          "Palm/Fruit Size/Can infer correct Entity",
          "Caribbean/Fruit colour/Can infer correct Entity",
          "Caribbean/Fruit shape/Can infer correct Entity",
          "Caribbean/Fruit type/Can infer correct Entity",
          "Caribbean/Inflorescence type/Can infer correct Entity",
          "Caribbean/Leaf composition/Can infer correct Entity",
          "Caribbean/Leaf glands/Can infer correct Entity",
          "Caribbean/Leaf lower side/Can infer correct Entity",
          "Caribbean/Leaf margin/Can infer correct Entity",
          "Caribbean/Leaf glands/Can infer correct Quality",
          "Caribbean/Leaf rachis/Can infer correct Entity",
          "Caribbean/Leaf upper side/Can infer correct Entity",
          "Caribbean/Life form/Can infer correct Entity",
          "Palm/Measurement/Can infer correct Entity",
          "Caribbean/Petals / corolla colour/Can infer correct Entity",
          "Caribbean/Petals / corolla number/Can infer correct Entity",
          "Caribbean/Petals / corolla shape/Can infer correct Entity",
          "Caribbean/Seed colour/Can infer correct Entity",
          "Caribbean/Sepals / calyx shape/Can infer correct Entity",
          "Caribbean/Stamen number/Can infer correct Entity",
          "Caribbean/Stamen shape/Can infer correct Entity",
          "Caribbean/Leaf shape/Can infer correct Entity",
          "Caribbean/Sepals / calyx shape/Can infer correct Value",
          "Caribbean/Leaf lower side/Can infer correct Quality",
          "Caribbean/Leaf rachis/Can infer correct Quality",
          "PlantNet/trunk and root/Can infer correct Quality",
          "PlantNet/vein/Can infer correct Quality",
          "Palm/Fruit Colour Description/Can infer correct Value",
          "Palm/Fruit Shape/Can infer correct Value",
          "Palm/Fruit Size/Can infer correct Value",
          "Caribbean/Fruit colour/Can infer correct Value",
          "Caribbean/Fruit shape/Can infer correct Value",
          "Caribbean/Fruit type/Can infer correct Value",
          "Caribbean/Inflorescence type/Can infer correct Value",
          "Caribbean/Leaf composition/Can infer correct Value",
          "Caribbean/Leaf glands/Can infer correct Value",
          "Caribbean/Leaf lower side/Can infer correct Value",
          "Caribbean/Leaf margin/Can infer correct Value",
          "Caribbean/Leaf rachis/Can infer correct Value",
          "Caribbean/Leaf shape/Can infer correct Value",
          "Caribbean/Leaf upper side/Can infer correct Value",
          "Caribbean/Life form/Can infer correct Value",
          "Palm/Measurement/Can infer correct Value",
          "Caribbean/Petals / corolla colour/Can infer correct Value",
          "Caribbean/Petals / corolla number/Can infer correct Value",
          "Caribbean/Petals / corolla shape/Can infer correct Value",
          "PlantNet/tendril/Can infer correct Quality",
          "PlantNet/plant type/Can infer correct Quality",
          "PlantNet/phyllotaxis/Can infer correct Quality",
          "PlantNet/petiole/Can infer correct Quality",
          "Caribbean/Leaf shape/Can infer correct Quality",
          "Caribbean/Leaf upper side/Can infer correct Quality",
          "Caribbean/Life form/Can infer correct Quality",
          "Palm/Measurement/Can infer correct Quality",
          "Caribbean/Petals / corolla colour/Can infer correct Quality",
          "Caribbean/Petals / corolla number/Can infer correct Quality",
          "Caribbean/Petals / corolla shape/Can infer correct Quality",
          "Caribbean/Seed colour/Can infer correct Quality",
          "Caribbean/Sepals / calyx shape/Can infer correct Quality",
          "Caribbean/Stamen number/Can infer correct Quality",
          "Caribbean/Leaf margin/Can infer correct Quality",
          "Caribbean/Stamen shape/Can infer correct Quality",
          "PlantNet/crown/Can infer correct Quality",
          "PlantNet/flower color/Can infer correct Quality",
          "PlantNet/flower shape/Can infer correct Quality",
          "PlantNet/fruit/Can infer correct Quality",
          "PlantNet/inflorescences/Can infer correct Quality",
          "PlantNet/leaf apex/Can infer correct Quality",
          "PlantNet/leaf base/Can infer correct Quality",
          "PlantNet/leaf blade/Can infer correct Quality",
          "PlantNet/leaf margin/Can infer correct Quality",
          "PlantNet/leaf shape/Can infer correct Quality",
          "PlantNet/bark/Can infer correct Quality",
          "PlantNet"
         ],
         "labels": [
          "Can infer correct Entity",
          "None of the above",
          "None of the above",
          "None of the above",
          "None of the above",
          "None of the above",
          "None of the above",
          "None of the above",
          "None of the above",
          "None of the above",
          "None of the above",
          "None of the above",
          "None of the above",
          "None of the above",
          "None of the above",
          "None of the above",
          "None of the above",
          "None of the above",
          "None of the above",
          "None of the above",
          "None of the above",
          "None of the above",
          "None of the above",
          "None of the above",
          "None of the above",
          "None of the above",
          "Can infer correct Value",
          "Can infer correct Value",
          "Can infer correct Value",
          "Can infer correct Value",
          "Can infer correct Value",
          "Can infer correct Value",
          "Can infer correct Value",
          "Can infer correct Value",
          "Can infer correct Value",
          "Can infer correct Value",
          "None of the above",
          "Can infer correct Value",
          "Can infer correct Value",
          "Can infer correct Value",
          "Can infer correct Value",
          "Can infer correct Value",
          "Can infer correct Value",
          "None of the above",
          "None of the above",
          "None of the above",
          "None of the above",
          "None of the above",
          "Can infer correct Value",
          "Can infer correct Value",
          "None of the above",
          "None of the above",
          "Sepals / calyx shape",
          "Stamen number",
          "Stamen shape",
          "bark",
          "crown",
          "flower color",
          "flower shape",
          "fruit",
          "inflorescences",
          "leaf apex",
          "leaf base",
          "leaf blade",
          "leaf margin",
          "leaf shape",
          "petiole",
          "phyllotaxis",
          "plant type",
          "tendril",
          "trunk and root",
          "vein",
          "Caribbean",
          "Seed colour",
          "Petals / corolla shape",
          "Petals / corolla number",
          "Petals / corolla colour",
          "None of the above",
          "None of the above",
          "None of the above",
          "None of the above",
          "None of the above",
          "None of the above",
          "Fruit Colour Description",
          "Fruit Shape",
          "Fruit Size",
          "Fruit colour",
          "None of the above",
          "Fruit shape",
          "Inflorescence type",
          "Leaf composition",
          "Leaf glands",
          "Leaf lower side",
          "Leaf margin",
          "Leaf rachis",
          "Leaf shape",
          "Leaf upper side",
          "Life form",
          "Measurement",
          "Fruit type",
          "Palm",
          "Can infer correct Value",
          "Can infer correct Value",
          "Can infer correct Entity",
          "Can infer correct Entity",
          "Can infer correct Entity",
          "Can infer correct Entity",
          "Can infer correct Entity",
          "Can infer correct Entity",
          "Can infer correct Entity",
          "Can infer correct Entity",
          "Can infer correct Entity",
          "Can infer correct Entity",
          "Can infer correct Entity",
          "Can infer correct Entity",
          "Can infer correct Entity",
          "Can infer correct Quality",
          "Can infer correct Quality",
          "Can infer correct Quality",
          "Can infer correct Quality",
          "Can infer correct Quality",
          "Can infer correct Quality",
          "Can infer correct Quality",
          "Can infer correct Quality",
          "Can infer correct Entity",
          "Can infer correct Entity",
          "Can infer correct Entity",
          "Can infer correct Entity",
          "Can infer correct Entity",
          "Can infer correct Entity",
          "Can infer correct Entity",
          "Can infer correct Entity",
          "Can infer correct Entity",
          "Can infer correct Entity",
          "Can infer correct Entity",
          "Can infer correct Entity",
          "Can infer correct Entity",
          "Can infer correct Entity",
          "Can infer correct Quality",
          "Can infer correct Entity",
          "Can infer correct Entity",
          "Can infer correct Entity",
          "Can infer correct Entity",
          "Can infer correct Entity",
          "Can infer correct Entity",
          "Can infer correct Entity",
          "Can infer correct Entity",
          "Can infer correct Entity",
          "Can infer correct Entity",
          "Can infer correct Entity",
          "Can infer correct Entity",
          "Can infer correct Value",
          "Can infer correct Quality",
          "Can infer correct Quality",
          "Can infer correct Quality",
          "Can infer correct Quality",
          "Can infer correct Value",
          "Can infer correct Value",
          "Can infer correct Value",
          "Can infer correct Value",
          "Can infer correct Value",
          "Can infer correct Value",
          "Can infer correct Value",
          "Can infer correct Value",
          "Can infer correct Value",
          "Can infer correct Value",
          "Can infer correct Value",
          "Can infer correct Value",
          "Can infer correct Value",
          "Can infer correct Value",
          "Can infer correct Value",
          "Can infer correct Value",
          "Can infer correct Value",
          "Can infer correct Value",
          "Can infer correct Value",
          "Can infer correct Quality",
          "Can infer correct Quality",
          "Can infer correct Quality",
          "Can infer correct Quality",
          "Can infer correct Quality",
          "Can infer correct Quality",
          "Can infer correct Quality",
          "Can infer correct Quality",
          "Can infer correct Quality",
          "Can infer correct Quality",
          "Can infer correct Quality",
          "Can infer correct Quality",
          "Can infer correct Quality",
          "Can infer correct Quality",
          "Can infer correct Quality",
          "Can infer correct Quality",
          "Can infer correct Quality",
          "Can infer correct Quality",
          "Can infer correct Quality",
          "Can infer correct Quality",
          "Can infer correct Quality",
          "Can infer correct Quality",
          "Can infer correct Quality",
          "Can infer correct Quality",
          "Can infer correct Quality",
          "Can infer correct Quality",
          "Can infer correct Quality",
          "PlantNet"
         ],
         "marker": {
          "colors": [
           "rgb(151, 179, 100)",
           "rgb(175, 49, 35)",
           "rgb(175, 49, 35)",
           "rgb(175, 49, 35)",
           "rgb(175, 49, 35)",
           "rgb(175, 49, 35)",
           "rgb(175, 49, 35)",
           "rgb(175, 49, 35)",
           "rgb(175, 49, 35)",
           "rgb(175, 49, 35)",
           "rgb(175, 49, 35)",
           "rgb(175, 49, 35)",
           "rgb(175, 49, 35)",
           "rgb(175, 49, 35)",
           "rgb(175, 49, 35)",
           "rgb(175, 49, 35)",
           "rgb(175, 49, 35)",
           "rgb(175, 49, 35)",
           "rgb(175, 49, 35)",
           "rgb(175, 49, 35)",
           "rgb(175, 49, 35)",
           "rgb(175, 49, 35)",
           "rgb(175, 49, 35)",
           "rgb(175, 49, 35)",
           "rgb(175, 49, 35)",
           "rgb(175, 49, 35)",
           "rgb(79, 129, 102)",
           "rgb(79, 129, 102)",
           "rgb(79, 129, 102)",
           "rgb(79, 129, 102)",
           "rgb(79, 129, 102)",
           "rgb(79, 129, 102)",
           "rgb(79, 129, 102)",
           "rgb(79, 129, 102)",
           "rgb(79, 129, 102)",
           "rgb(79, 129, 102)",
           "rgb(175, 49, 35)",
           "rgb(79, 129, 102)",
           "rgb(79, 129, 102)",
           "rgb(79, 129, 102)",
           "rgb(79, 129, 102)",
           "rgb(79, 129, 102)",
           "rgb(79, 129, 102)",
           "rgb(175, 49, 35)",
           "rgb(175, 49, 35)",
           "rgb(175, 49, 35)",
           "rgb(175, 49, 35)",
           "rgb(175, 49, 35)",
           "rgb(79, 129, 102)",
           "rgb(79, 129, 102)",
           "rgb(175, 49, 35)",
           "rgb(175, 49, 35)",
           "black",
           "black",
           "black",
           "black",
           "black",
           "black",
           "black",
           "black",
           "black",
           "black",
           "black",
           "black",
           "black",
           "black",
           "black",
           "black",
           "black",
           "black",
           "black",
           "black",
           "black",
           "black",
           "black",
           "black",
           "black",
           "rgb(175, 49, 35)",
           "rgb(175, 49, 35)",
           "rgb(175, 49, 35)",
           "rgb(175, 49, 35)",
           "rgb(175, 49, 35)",
           "rgb(175, 49, 35)",
           "black",
           "black",
           "black",
           "black",
           "rgb(175, 49, 35)",
           "black",
           "black",
           "black",
           "black",
           "black",
           "black",
           "black",
           "black",
           "black",
           "black",
           "black",
           "black",
           "black",
           "rgb(79, 129, 102)",
           "rgb(79, 129, 102)",
           "rgb(151, 179, 100)",
           "rgb(151, 179, 100)",
           "rgb(151, 179, 100)",
           "rgb(151, 179, 100)",
           "rgb(151, 179, 100)",
           "rgb(151, 179, 100)",
           "rgb(151, 179, 100)",
           "rgb(151, 179, 100)",
           "rgb(151, 179, 100)",
           "rgb(151, 179, 100)",
           "rgb(151, 179, 100)",
           "rgb(151, 179, 100)",
           "rgb(151, 179, 100)",
           "rgb(33, 75, 99)",
           "rgb(33, 75, 99)",
           "rgb(33, 75, 99)",
           "rgb(33, 75, 99)",
           "rgb(33, 75, 99)",
           "rgb(33, 75, 99)",
           "rgb(33, 75, 99)",
           "rgb(33, 75, 99)",
           "rgb(151, 179, 100)",
           "rgb(151, 179, 100)",
           "rgb(151, 179, 100)",
           "rgb(151, 179, 100)",
           "rgb(151, 179, 100)",
           "rgb(151, 179, 100)",
           "rgb(151, 179, 100)",
           "rgb(151, 179, 100)",
           "rgb(151, 179, 100)",
           "rgb(151, 179, 100)",
           "rgb(151, 179, 100)",
           "rgb(151, 179, 100)",
           "rgb(151, 179, 100)",
           "rgb(151, 179, 100)",
           "rgb(33, 75, 99)",
           "rgb(151, 179, 100)",
           "rgb(151, 179, 100)",
           "rgb(151, 179, 100)",
           "rgb(151, 179, 100)",
           "rgb(151, 179, 100)",
           "rgb(151, 179, 100)",
           "rgb(151, 179, 100)",
           "rgb(151, 179, 100)",
           "rgb(151, 179, 100)",
           "rgb(151, 179, 100)",
           "rgb(151, 179, 100)",
           "rgb(151, 179, 100)",
           "rgb(79, 129, 102)",
           "rgb(33, 75, 99)",
           "rgb(33, 75, 99)",
           "rgb(33, 75, 99)",
           "rgb(33, 75, 99)",
           "rgb(79, 129, 102)",
           "rgb(79, 129, 102)",
           "rgb(79, 129, 102)",
           "rgb(79, 129, 102)",
           "rgb(79, 129, 102)",
           "rgb(79, 129, 102)",
           "rgb(79, 129, 102)",
           "rgb(79, 129, 102)",
           "rgb(79, 129, 102)",
           "rgb(79, 129, 102)",
           "rgb(79, 129, 102)",
           "rgb(79, 129, 102)",
           "rgb(79, 129, 102)",
           "rgb(79, 129, 102)",
           "rgb(79, 129, 102)",
           "rgb(79, 129, 102)",
           "rgb(79, 129, 102)",
           "rgb(79, 129, 102)",
           "rgb(79, 129, 102)",
           "rgb(33, 75, 99)",
           "rgb(33, 75, 99)",
           "rgb(33, 75, 99)",
           "rgb(33, 75, 99)",
           "rgb(33, 75, 99)",
           "rgb(33, 75, 99)",
           "rgb(33, 75, 99)",
           "rgb(33, 75, 99)",
           "rgb(33, 75, 99)",
           "rgb(33, 75, 99)",
           "rgb(33, 75, 99)",
           "rgb(33, 75, 99)",
           "rgb(33, 75, 99)",
           "rgb(33, 75, 99)",
           "rgb(33, 75, 99)",
           "rgb(33, 75, 99)",
           "rgb(33, 75, 99)",
           "rgb(33, 75, 99)",
           "rgb(33, 75, 99)",
           "rgb(33, 75, 99)",
           "rgb(33, 75, 99)",
           "rgb(33, 75, 99)",
           "rgb(33, 75, 99)",
           "rgb(33, 75, 99)",
           "rgb(33, 75, 99)",
           "rgb(33, 75, 99)",
           "rgb(33, 75, 99)",
           "black"
          ]
         },
         "name": "",
         "parents": [
          "Palm/Fruit Colour Description",
          "Caribbean/Leaf lower side",
          "Caribbean/Leaf margin",
          "Caribbean/Leaf rachis",
          "Caribbean/Leaf shape",
          "Caribbean/Leaf upper side",
          "Caribbean/Life form",
          "Palm/Measurement",
          "Caribbean/Petals / corolla colour",
          "Caribbean/Petals / corolla number",
          "Caribbean/Petals / corolla shape",
          "Caribbean/Seed colour",
          "Caribbean/Sepals / calyx shape",
          "Caribbean/Stamen number",
          "Caribbean/Stamen shape",
          "PlantNet/bark",
          "PlantNet/crown",
          "PlantNet/flower color",
          "PlantNet/flower shape",
          "PlantNet/fruit",
          "PlantNet/inflorescences",
          "PlantNet/leaf apex",
          "Caribbean/Leaf glands",
          "Caribbean/Leaf composition",
          "Caribbean/Inflorescence type",
          "Caribbean/Fruit type",
          "PlantNet/bark",
          "PlantNet/crown",
          "PlantNet/flower color",
          "PlantNet/flower shape",
          "PlantNet/fruit",
          "PlantNet/inflorescences",
          "PlantNet/leaf apex",
          "PlantNet/leaf base",
          "PlantNet/leaf blade",
          "PlantNet/leaf margin",
          "PlantNet/leaf base",
          "PlantNet/leaf shape",
          "PlantNet/phyllotaxis",
          "PlantNet/plant type",
          "PlantNet/tendril",
          "PlantNet/trunk and root",
          "PlantNet/vein",
          "Palm/Fruit Colour Description",
          "Palm/Fruit Shape",
          "Palm/Fruit Size",
          "Caribbean/Fruit colour",
          "Caribbean/Fruit shape",
          "PlantNet/petiole",
          "Caribbean/Stamen shape",
          "PlantNet/leaf blade",
          "PlantNet/leaf shape",
          "Caribbean",
          "Caribbean",
          "Caribbean",
          "PlantNet",
          "PlantNet",
          "PlantNet",
          "PlantNet",
          "PlantNet",
          "PlantNet",
          "PlantNet",
          "PlantNet",
          "PlantNet",
          "PlantNet",
          "PlantNet",
          "PlantNet",
          "PlantNet",
          "PlantNet",
          "PlantNet",
          "PlantNet",
          "PlantNet",
          "",
          "Caribbean",
          "Caribbean",
          "Caribbean",
          "Caribbean",
          "PlantNet/petiole",
          "PlantNet/phyllotaxis",
          "PlantNet/plant type",
          "PlantNet/tendril",
          "PlantNet/trunk and root",
          "PlantNet/vein",
          "Palm",
          "Palm",
          "Palm",
          "Caribbean",
          "PlantNet/leaf margin",
          "Caribbean",
          "Caribbean",
          "Caribbean",
          "Caribbean",
          "Caribbean",
          "Caribbean",
          "Caribbean",
          "Caribbean",
          "Caribbean",
          "Caribbean",
          "Palm",
          "Caribbean",
          "",
          "Caribbean/Stamen number",
          "Caribbean/Seed colour",
          "PlantNet/fruit",
          "PlantNet/inflorescences",
          "PlantNet/leaf apex",
          "PlantNet/leaf base",
          "PlantNet/leaf blade",
          "PlantNet/leaf margin",
          "PlantNet/leaf shape",
          "PlantNet/petiole",
          "PlantNet/phyllotaxis",
          "PlantNet/plant type",
          "PlantNet/tendril",
          "PlantNet/trunk and root",
          "PlantNet/vein",
          "Palm/Fruit Colour Description",
          "Palm/Fruit Shape",
          "Palm/Fruit Size",
          "Caribbean/Fruit colour",
          "Caribbean/Fruit shape",
          "Caribbean/Fruit type",
          "Caribbean/Inflorescence type",
          "Caribbean/Leaf composition",
          "PlantNet/flower shape",
          "PlantNet/flower color",
          "PlantNet/crown",
          "PlantNet/bark",
          "Palm/Fruit Shape",
          "Palm/Fruit Size",
          "Caribbean/Fruit colour",
          "Caribbean/Fruit shape",
          "Caribbean/Fruit type",
          "Caribbean/Inflorescence type",
          "Caribbean/Leaf composition",
          "Caribbean/Leaf glands",
          "Caribbean/Leaf lower side",
          "Caribbean/Leaf margin",
          "Caribbean/Leaf glands",
          "Caribbean/Leaf rachis",
          "Caribbean/Leaf upper side",
          "Caribbean/Life form",
          "Palm/Measurement",
          "Caribbean/Petals / corolla colour",
          "Caribbean/Petals / corolla number",
          "Caribbean/Petals / corolla shape",
          "Caribbean/Seed colour",
          "Caribbean/Sepals / calyx shape",
          "Caribbean/Stamen number",
          "Caribbean/Stamen shape",
          "Caribbean/Leaf shape",
          "Caribbean/Sepals / calyx shape",
          "Caribbean/Leaf lower side",
          "Caribbean/Leaf rachis",
          "PlantNet/trunk and root",
          "PlantNet/vein",
          "Palm/Fruit Colour Description",
          "Palm/Fruit Shape",
          "Palm/Fruit Size",
          "Caribbean/Fruit colour",
          "Caribbean/Fruit shape",
          "Caribbean/Fruit type",
          "Caribbean/Inflorescence type",
          "Caribbean/Leaf composition",
          "Caribbean/Leaf glands",
          "Caribbean/Leaf lower side",
          "Caribbean/Leaf margin",
          "Caribbean/Leaf rachis",
          "Caribbean/Leaf shape",
          "Caribbean/Leaf upper side",
          "Caribbean/Life form",
          "Palm/Measurement",
          "Caribbean/Petals / corolla colour",
          "Caribbean/Petals / corolla number",
          "Caribbean/Petals / corolla shape",
          "PlantNet/tendril",
          "PlantNet/plant type",
          "PlantNet/phyllotaxis",
          "PlantNet/petiole",
          "Caribbean/Leaf shape",
          "Caribbean/Leaf upper side",
          "Caribbean/Life form",
          "Palm/Measurement",
          "Caribbean/Petals / corolla colour",
          "Caribbean/Petals / corolla number",
          "Caribbean/Petals / corolla shape",
          "Caribbean/Seed colour",
          "Caribbean/Sepals / calyx shape",
          "Caribbean/Stamen number",
          "Caribbean/Leaf margin",
          "Caribbean/Stamen shape",
          "PlantNet/crown",
          "PlantNet/flower color",
          "PlantNet/flower shape",
          "PlantNet/fruit",
          "PlantNet/inflorescences",
          "PlantNet/leaf apex",
          "PlantNet/leaf base",
          "PlantNet/leaf blade",
          "PlantNet/leaf margin",
          "PlantNet/leaf shape",
          "PlantNet/bark",
          ""
         ],
         "type": "sunburst",
         "values": [
          1,
          4,
          2,
          1,
          6,
          2,
          1,
          22,
          3,
          1,
          4,
          0,
          2,
          3,
          2,
          1,
          3,
          0,
          6,
          4,
          7,
          13,
          0,
          0,
          0,
          2,
          0,
          0,
          1,
          0,
          0,
          2,
          2,
          1,
          1,
          0,
          5,
          1,
          0,
          2,
          1,
          0,
          0,
          1,
          4,
          0,
          10,
          1,
          1,
          3,
          0,
          4,
          6,
          3,
          5,
          1,
          3,
          1,
          10,
          4,
          10,
          17,
          10,
          3,
          11,
          12,
          3,
          1,
          2,
          2,
          2,
          7,
          136,
          2,
          4,
          2,
          10,
          2,
          1,
          0,
          1,
          1,
          5,
          4,
          7,
          2,
          16,
          6,
          6,
          2,
          5,
          5,
          16,
          8,
          4,
          14,
          14,
          11,
          48,
          3,
          61,
          0,
          1,
          0,
          1,
          1,
          2,
          2,
          3,
          5,
          0,
          0,
          0,
          0,
          1,
          2,
          0,
          0,
          0,
          1,
          1,
          0,
          0,
          4,
          3,
          0,
          0,
          0,
          2,
          2,
          3,
          4,
          0,
          1,
          0,
          5,
          10,
          6,
          0,
          3,
          11,
          0,
          19,
          4,
          1,
          0,
          1,
          4,
          0,
          0,
          4,
          0,
          0,
          0,
          0,
          0,
          2,
          1,
          0,
          2,
          0,
          1,
          1,
          1,
          0,
          2,
          0,
          0,
          4,
          1,
          10,
          5,
          2,
          0,
          0,
          0,
          0,
          0,
          0,
          0,
          0,
          0,
          2,
          1,
          0,
          0,
          0,
          0,
          0,
          0,
          0,
          0,
          0,
          1,
          0,
          0,
          1,
          2,
          0,
          2,
          2,
          0,
          99
         ]
        }
       ],
       "layout": {
        "legend": {
         "tracegroupgap": 0
        },
        "margin": {
         "b": 0,
         "l": 0,
         "r": 0,
         "t": 0
        },
        "template": {
         "data": {
          "bar": [
           {
            "error_x": {
             "color": "#2a3f5f"
            },
            "error_y": {
             "color": "#2a3f5f"
            },
            "marker": {
             "line": {
              "color": "#E5ECF6",
              "width": 0.5
             },
             "pattern": {
              "fillmode": "overlay",
              "size": 10,
              "solidity": 0.2
             }
            },
            "type": "bar"
           }
          ],
          "barpolar": [
           {
            "marker": {
             "line": {
              "color": "#E5ECF6",
              "width": 0.5
             },
             "pattern": {
              "fillmode": "overlay",
              "size": 10,
              "solidity": 0.2
             }
            },
            "type": "barpolar"
           }
          ],
          "carpet": [
           {
            "aaxis": {
             "endlinecolor": "#2a3f5f",
             "gridcolor": "white",
             "linecolor": "white",
             "minorgridcolor": "white",
             "startlinecolor": "#2a3f5f"
            },
            "baxis": {
             "endlinecolor": "#2a3f5f",
             "gridcolor": "white",
             "linecolor": "white",
             "minorgridcolor": "white",
             "startlinecolor": "#2a3f5f"
            },
            "type": "carpet"
           }
          ],
          "choropleth": [
           {
            "colorbar": {
             "outlinewidth": 0,
             "ticks": ""
            },
            "type": "choropleth"
           }
          ],
          "contour": [
           {
            "colorbar": {
             "outlinewidth": 0,
             "ticks": ""
            },
            "colorscale": [
             [
              0,
              "#0d0887"
             ],
             [
              0.1111111111111111,
              "#46039f"
             ],
             [
              0.2222222222222222,
              "#7201a8"
             ],
             [
              0.3333333333333333,
              "#9c179e"
             ],
             [
              0.4444444444444444,
              "#bd3786"
             ],
             [
              0.5555555555555556,
              "#d8576b"
             ],
             [
              0.6666666666666666,
              "#ed7953"
             ],
             [
              0.7777777777777778,
              "#fb9f3a"
             ],
             [
              0.8888888888888888,
              "#fdca26"
             ],
             [
              1,
              "#f0f921"
             ]
            ],
            "type": "contour"
           }
          ],
          "contourcarpet": [
           {
            "colorbar": {
             "outlinewidth": 0,
             "ticks": ""
            },
            "type": "contourcarpet"
           }
          ],
          "heatmap": [
           {
            "colorbar": {
             "outlinewidth": 0,
             "ticks": ""
            },
            "colorscale": [
             [
              0,
              "#0d0887"
             ],
             [
              0.1111111111111111,
              "#46039f"
             ],
             [
              0.2222222222222222,
              "#7201a8"
             ],
             [
              0.3333333333333333,
              "#9c179e"
             ],
             [
              0.4444444444444444,
              "#bd3786"
             ],
             [
              0.5555555555555556,
              "#d8576b"
             ],
             [
              0.6666666666666666,
              "#ed7953"
             ],
             [
              0.7777777777777778,
              "#fb9f3a"
             ],
             [
              0.8888888888888888,
              "#fdca26"
             ],
             [
              1,
              "#f0f921"
             ]
            ],
            "type": "heatmap"
           }
          ],
          "heatmapgl": [
           {
            "colorbar": {
             "outlinewidth": 0,
             "ticks": ""
            },
            "colorscale": [
             [
              0,
              "#0d0887"
             ],
             [
              0.1111111111111111,
              "#46039f"
             ],
             [
              0.2222222222222222,
              "#7201a8"
             ],
             [
              0.3333333333333333,
              "#9c179e"
             ],
             [
              0.4444444444444444,
              "#bd3786"
             ],
             [
              0.5555555555555556,
              "#d8576b"
             ],
             [
              0.6666666666666666,
              "#ed7953"
             ],
             [
              0.7777777777777778,
              "#fb9f3a"
             ],
             [
              0.8888888888888888,
              "#fdca26"
             ],
             [
              1,
              "#f0f921"
             ]
            ],
            "type": "heatmapgl"
           }
          ],
          "histogram": [
           {
            "marker": {
             "pattern": {
              "fillmode": "overlay",
              "size": 10,
              "solidity": 0.2
             }
            },
            "type": "histogram"
           }
          ],
          "histogram2d": [
           {
            "colorbar": {
             "outlinewidth": 0,
             "ticks": ""
            },
            "colorscale": [
             [
              0,
              "#0d0887"
             ],
             [
              0.1111111111111111,
              "#46039f"
             ],
             [
              0.2222222222222222,
              "#7201a8"
             ],
             [
              0.3333333333333333,
              "#9c179e"
             ],
             [
              0.4444444444444444,
              "#bd3786"
             ],
             [
              0.5555555555555556,
              "#d8576b"
             ],
             [
              0.6666666666666666,
              "#ed7953"
             ],
             [
              0.7777777777777778,
              "#fb9f3a"
             ],
             [
              0.8888888888888888,
              "#fdca26"
             ],
             [
              1,
              "#f0f921"
             ]
            ],
            "type": "histogram2d"
           }
          ],
          "histogram2dcontour": [
           {
            "colorbar": {
             "outlinewidth": 0,
             "ticks": ""
            },
            "colorscale": [
             [
              0,
              "#0d0887"
             ],
             [
              0.1111111111111111,
              "#46039f"
             ],
             [
              0.2222222222222222,
              "#7201a8"
             ],
             [
              0.3333333333333333,
              "#9c179e"
             ],
             [
              0.4444444444444444,
              "#bd3786"
             ],
             [
              0.5555555555555556,
              "#d8576b"
             ],
             [
              0.6666666666666666,
              "#ed7953"
             ],
             [
              0.7777777777777778,
              "#fb9f3a"
             ],
             [
              0.8888888888888888,
              "#fdca26"
             ],
             [
              1,
              "#f0f921"
             ]
            ],
            "type": "histogram2dcontour"
           }
          ],
          "mesh3d": [
           {
            "colorbar": {
             "outlinewidth": 0,
             "ticks": ""
            },
            "type": "mesh3d"
           }
          ],
          "parcoords": [
           {
            "line": {
             "colorbar": {
              "outlinewidth": 0,
              "ticks": ""
             }
            },
            "type": "parcoords"
           }
          ],
          "pie": [
           {
            "automargin": true,
            "type": "pie"
           }
          ],
          "scatter": [
           {
            "fillpattern": {
             "fillmode": "overlay",
             "size": 10,
             "solidity": 0.2
            },
            "type": "scatter"
           }
          ],
          "scatter3d": [
           {
            "line": {
             "colorbar": {
              "outlinewidth": 0,
              "ticks": ""
             }
            },
            "marker": {
             "colorbar": {
              "outlinewidth": 0,
              "ticks": ""
             }
            },
            "type": "scatter3d"
           }
          ],
          "scattercarpet": [
           {
            "marker": {
             "colorbar": {
              "outlinewidth": 0,
              "ticks": ""
             }
            },
            "type": "scattercarpet"
           }
          ],
          "scattergeo": [
           {
            "marker": {
             "colorbar": {
              "outlinewidth": 0,
              "ticks": ""
             }
            },
            "type": "scattergeo"
           }
          ],
          "scattergl": [
           {
            "marker": {
             "colorbar": {
              "outlinewidth": 0,
              "ticks": ""
             }
            },
            "type": "scattergl"
           }
          ],
          "scattermapbox": [
           {
            "marker": {
             "colorbar": {
              "outlinewidth": 0,
              "ticks": ""
             }
            },
            "type": "scattermapbox"
           }
          ],
          "scatterpolar": [
           {
            "marker": {
             "colorbar": {
              "outlinewidth": 0,
              "ticks": ""
             }
            },
            "type": "scatterpolar"
           }
          ],
          "scatterpolargl": [
           {
            "marker": {
             "colorbar": {
              "outlinewidth": 0,
              "ticks": ""
             }
            },
            "type": "scatterpolargl"
           }
          ],
          "scatterternary": [
           {
            "marker": {
             "colorbar": {
              "outlinewidth": 0,
              "ticks": ""
             }
            },
            "type": "scatterternary"
           }
          ],
          "surface": [
           {
            "colorbar": {
             "outlinewidth": 0,
             "ticks": ""
            },
            "colorscale": [
             [
              0,
              "#0d0887"
             ],
             [
              0.1111111111111111,
              "#46039f"
             ],
             [
              0.2222222222222222,
              "#7201a8"
             ],
             [
              0.3333333333333333,
              "#9c179e"
             ],
             [
              0.4444444444444444,
              "#bd3786"
             ],
             [
              0.5555555555555556,
              "#d8576b"
             ],
             [
              0.6666666666666666,
              "#ed7953"
             ],
             [
              0.7777777777777778,
              "#fb9f3a"
             ],
             [
              0.8888888888888888,
              "#fdca26"
             ],
             [
              1,
              "#f0f921"
             ]
            ],
            "type": "surface"
           }
          ],
          "table": [
           {
            "cells": {
             "fill": {
              "color": "#EBF0F8"
             },
             "line": {
              "color": "white"
             }
            },
            "header": {
             "fill": {
              "color": "#C8D4E3"
             },
             "line": {
              "color": "white"
             }
            },
            "type": "table"
           }
          ]
         },
         "layout": {
          "annotationdefaults": {
           "arrowcolor": "#2a3f5f",
           "arrowhead": 0,
           "arrowwidth": 1
          },
          "autotypenumbers": "strict",
          "coloraxis": {
           "colorbar": {
            "outlinewidth": 0,
            "ticks": ""
           }
          },
          "colorscale": {
           "diverging": [
            [
             0,
             "#8e0152"
            ],
            [
             0.1,
             "#c51b7d"
            ],
            [
             0.2,
             "#de77ae"
            ],
            [
             0.3,
             "#f1b6da"
            ],
            [
             0.4,
             "#fde0ef"
            ],
            [
             0.5,
             "#f7f7f7"
            ],
            [
             0.6,
             "#e6f5d0"
            ],
            [
             0.7,
             "#b8e186"
            ],
            [
             0.8,
             "#7fbc41"
            ],
            [
             0.9,
             "#4d9221"
            ],
            [
             1,
             "#276419"
            ]
           ],
           "sequential": [
            [
             0,
             "#0d0887"
            ],
            [
             0.1111111111111111,
             "#46039f"
            ],
            [
             0.2222222222222222,
             "#7201a8"
            ],
            [
             0.3333333333333333,
             "#9c179e"
            ],
            [
             0.4444444444444444,
             "#bd3786"
            ],
            [
             0.5555555555555556,
             "#d8576b"
            ],
            [
             0.6666666666666666,
             "#ed7953"
            ],
            [
             0.7777777777777778,
             "#fb9f3a"
            ],
            [
             0.8888888888888888,
             "#fdca26"
            ],
            [
             1,
             "#f0f921"
            ]
           ],
           "sequentialminus": [
            [
             0,
             "#0d0887"
            ],
            [
             0.1111111111111111,
             "#46039f"
            ],
            [
             0.2222222222222222,
             "#7201a8"
            ],
            [
             0.3333333333333333,
             "#9c179e"
            ],
            [
             0.4444444444444444,
             "#bd3786"
            ],
            [
             0.5555555555555556,
             "#d8576b"
            ],
            [
             0.6666666666666666,
             "#ed7953"
            ],
            [
             0.7777777777777778,
             "#fb9f3a"
            ],
            [
             0.8888888888888888,
             "#fdca26"
            ],
            [
             1,
             "#f0f921"
            ]
           ]
          },
          "colorway": [
           "#636efa",
           "#EF553B",
           "#00cc96",
           "#ab63fa",
           "#FFA15A",
           "#19d3f3",
           "#FF6692",
           "#B6E880",
           "#FF97FF",
           "#FECB52"
          ],
          "font": {
           "color": "#2a3f5f"
          },
          "geo": {
           "bgcolor": "white",
           "lakecolor": "white",
           "landcolor": "#E5ECF6",
           "showlakes": true,
           "showland": true,
           "subunitcolor": "white"
          },
          "hoverlabel": {
           "align": "left"
          },
          "hovermode": "closest",
          "mapbox": {
           "style": "light"
          },
          "paper_bgcolor": "white",
          "plot_bgcolor": "#E5ECF6",
          "polar": {
           "angularaxis": {
            "gridcolor": "white",
            "linecolor": "white",
            "ticks": ""
           },
           "bgcolor": "#E5ECF6",
           "radialaxis": {
            "gridcolor": "white",
            "linecolor": "white",
            "ticks": ""
           }
          },
          "scene": {
           "xaxis": {
            "backgroundcolor": "#E5ECF6",
            "gridcolor": "white",
            "gridwidth": 2,
            "linecolor": "white",
            "showbackground": true,
            "ticks": "",
            "zerolinecolor": "white"
           },
           "yaxis": {
            "backgroundcolor": "#E5ECF6",
            "gridcolor": "white",
            "gridwidth": 2,
            "linecolor": "white",
            "showbackground": true,
            "ticks": "",
            "zerolinecolor": "white"
           },
           "zaxis": {
            "backgroundcolor": "#E5ECF6",
            "gridcolor": "white",
            "gridwidth": 2,
            "linecolor": "white",
            "showbackground": true,
            "ticks": "",
            "zerolinecolor": "white"
           }
          },
          "shapedefaults": {
           "line": {
            "color": "#2a3f5f"
           }
          },
          "ternary": {
           "aaxis": {
            "gridcolor": "white",
            "linecolor": "white",
            "ticks": ""
           },
           "baxis": {
            "gridcolor": "white",
            "linecolor": "white",
            "ticks": ""
           },
           "bgcolor": "#E5ECF6",
           "caxis": {
            "gridcolor": "white",
            "linecolor": "white",
            "ticks": ""
           }
          },
          "title": {
           "x": 0.05
          },
          "xaxis": {
           "automargin": true,
           "gridcolor": "white",
           "linecolor": "white",
           "ticks": "",
           "title": {
            "standoff": 15
           },
           "zerolinecolor": "white",
           "zerolinewidth": 2
          },
          "yaxis": {
           "automargin": true,
           "gridcolor": "white",
           "linecolor": "white",
           "ticks": "",
           "title": {
            "standoff": 15
           },
           "zerolinecolor": "white",
           "zerolinewidth": 2
          }
         }
        }
       }
      }
     },
     "metadata": {},
     "output_type": "display_data"
    }
   ],
   "source": [
    "labels = ['None of the above', 'Can infer correct Entity', 'Can infer correct Quality', 'Can infer correct Value']\n",
    "\n",
    "colors = [\n",
    "    'rgb(175, 49, 35)', \n",
    "    'rgb(151, 179, 100)',\n",
    "    'rgb(33, 75, 99)',\n",
    "    'rgb(79, 129, 102)',\n",
    "      ]\n",
    "\n",
    "color_dict = {label: color for color, label in zip(colors, labels)}\n",
    "color_dict['(?)'] = 'black'\n",
    "color_dict['Total'] = 'blue'\n",
    "\n",
    "fig = px.sunburst(df_melt, \n",
    "                  path=['Dataset', 'Main Trait', 'variable'], \n",
    "                  values='value', \n",
    "                  color='variable',\n",
    "                  color_discrete_map=color_dict,\n",
    "                  # branchvalues='remainder',\n",
    "                  # maxdepth=-1,\n",
    "                  # hover_data=['Dataset', 'Main Trait', 'variable'],\n",
    "                  # hover_name=['Dataset', 'Main Trait', 'variable'],\n",
    "                  )\n",
    "\n",
    "fig.update_layout(\n",
    "    margin = dict(t=0, l=0, r=0, b=0),\n",
    "    # uniformtext=dict(minsize=4, mode='hide', )\n",
    ")\n",
    "\n",
    "fig.show()\n",
    "\n",
    "folder_figures = \"../../../reports/figures/\"\n",
    "file_name = \"PxPlot_HTML_SurveysPerDataset_PerTrait_Grouped.html\"\n",
    "fig.write_html(F\"{folder_figures}{file_name}\")\n",
    "file_name = \"PxPlot_PDF_SurveysPerTrait_PerTrait_Grouped.pdf\"\n",
    "fig.write_image(F\"{folder_figures}{file_name}\")"
   ]
  }
 ],
 "metadata": {
  "kernelspec": {
   "display_name": "deeplearning",
   "language": "python",
   "name": "deeplearning"
  },
  "language_info": {
   "codemirror_mode": {
    "name": "ipython",
    "version": 3
   },
   "file_extension": ".py",
   "mimetype": "text/x-python",
   "name": "python",
   "nbconvert_exporter": "python",
   "pygments_lexer": "ipython3",
   "version": "3.10.4"
  },
  "vscode": {
   "interpreter": {
    "hash": "51432b8e5767c06330d9b51dfad63f9db0ea39868e37d921b9c2e277373f8d11"
   }
  }
 },
 "nbformat": 4,
 "nbformat_minor": 5
}
