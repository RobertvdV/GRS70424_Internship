{
 "cells": [
  {
   "cell_type": "code",
   "execution_count": 1,
   "id": "88eee1f5",
   "metadata": {},
   "outputs": [],
   "source": [
    "import pandas as pd\n",
    "import numpy as np\n",
    "import seaborn as sns\n",
    "import matplotlib.pyplot as plt\n",
    "import matplotlib as mpl\n",
    "import glob\n",
    "import csv\n",
    "import plotly.express as px\n",
    "import plotly.graph_objs as go\n",
    "import plotly.subplots as sp\n",
    "from plotly.subplots import make_subplots\n"
   ]
  },
  {
   "cell_type": "code",
   "execution_count": 2,
   "id": "f017ab39",
   "metadata": {},
   "outputs": [],
   "source": [
    "folder = \"../../../data/surveys/responses/\"\n",
    "response_list = glob.glob(F\"{folder}*\")\n",
    "\n",
    "folder = \"../../../data/surveys/surveys/\"\n",
    "survey_list = [F\"{folder}{lst[59:]}\" for lst in response_list]\n",
    "\n",
    "# df = pd.concat((pd.read_csv(f) for f in respons_list), ignore_index=True)"
   ]
  },
  {
   "cell_type": "code",
   "execution_count": 3,
   "id": "6ea650e9",
   "metadata": {},
   "outputs": [],
   "source": [
    "df_survey = pd.read_csv(survey_list[0], sep='\\t')\n",
    "df_survey.rename(columns={ df_survey.columns[0]: \"Index\" }, inplace = True)\n",
    "df_response = pd.read_csv(response_list[0], header=None).iloc[: , 1:].T\n",
    "df_response.rename(columns={ df_response.columns[0]: \"Sentence\", \n",
    "                            df_response.columns[1]: \"Result\" }, \n",
    "                            inplace = True)\n",
    "\n"
   ]
  },
  {
   "cell_type": "code",
   "execution_count": 4,
   "id": "d4e1c6c6",
   "metadata": {},
   "outputs": [],
   "source": [
    "# Surveys\n",
    "df_surveys = pd.concat((pd.read_csv(f, sep='\\t') for f in survey_list), ignore_index=True)\n",
    "df_surveys.rename(columns={ df_surveys.columns[0]: \"Index\" }, inplace = True)\n",
    "\n",
    "# Response\n",
    "df_responses = pd.concat((pd.read_csv(f, header=None).iloc[: , 1:].T for f in response_list))\n",
    "df_responses.rename(columns={ df_responses.columns[0]: \"Sentence\", \n",
    "                            df_responses.columns[1]: \"Result\" }, \n",
    "                            inplace = True)\n",
    "\n",
    "# Merge\n",
    "df = df_surveys\n",
    "sentences = [\"1\", \"2\", \"3\", \"4\", \"5\"]\n",
    "for number in sentences:\n",
    "    df = df.merge(\n",
    "        df_responses.add_suffix(F\"_{number}\"), left_on=number, right_on=F\"Sentence_{number}\",\n",
    "        # suffixes=(F\"_{number}\", F\"_{number}\")\n",
    "    )\n",
    "\n",
    "# Drop columns\n",
    "df = df.drop(columns=sentences)\n",
    "\n",
    "# Total count\n",
    "for choices in df_response[\"Result\"].unique():\n",
    "    df[choices] = df.apply(lambda x: x.str.contains(choices).sum(), axis=1)"
   ]
  },
  {
   "attachments": {},
   "cell_type": "markdown",
   "id": "d330af50",
   "metadata": {},
   "source": [
    "### Viz"
   ]
  },
  {
   "cell_type": "code",
   "execution_count": 6,
   "id": "06ccd251",
   "metadata": {},
   "outputs": [],
   "source": [
    "mpl.rcParams['text.color'] = 'white'\n",
    "mpl.rcParams['axes.labelcolor'] = 'black'\n",
    "\n"
   ]
  },
  {
   "cell_type": "code",
   "execution_count": 7,
   "id": "7306c85d",
   "metadata": {},
   "outputs": [
    {
     "data": {
      "text/plain": [
       "Index(['Index', 'Species', 'Main Trait', 'GT Main Trait', 'GT Sub Traits',\n",
       "       'GoogleSentence', 'Sim Sum', 'SIM', 'Jaccard Sum', 'Dataset',\n",
       "       'Sentence_1', 'Result_1', 'Sentence_2', 'Result_2', 'Sentence_3',\n",
       "       'Result_3', 'Sentence_4', 'Result_4', 'Sentence_5', 'Result_5',\n",
       "       'Can infer correct Value', 'None of the above',\n",
       "       'Can infer correct Entity', 'Can infer correct Quality'],\n",
       "      dtype='object')"
      ]
     },
     "execution_count": 7,
     "metadata": {},
     "output_type": "execute_result"
    }
   ],
   "source": [
    "df.columns"
   ]
  },
  {
   "cell_type": "code",
   "execution_count": 8,
   "id": "255d8a0c",
   "metadata": {},
   "outputs": [],
   "source": [
    "df_plot = df[[\"Species\",\n",
    "              \"Main Trait\",\n",
    "              \"SIM\",\n",
    "              \"Dataset\",\n",
    "              \"Can infer correct Value\", \"None of the above\",\n",
    "              \"Can infer correct Entity\", \"Can infer correct Quality\"]]"
   ]
  },
  {
   "cell_type": "code",
   "execution_count": null,
   "id": "88a5d424",
   "metadata": {},
   "outputs": [],
   "source": [
    "def pie_chart(group, figsize=(14, 6), layout=(1, 2), darkmode=True,\n",
    "              *args, **kwargs):\n",
    "    \n",
    "    # if group not in [\"Species\", \"Main Trait\", \"SIM\", \"Dataset\",]:\n",
    "    #     raise ValueError\n",
    "    \n",
    "    if darkmode:\n",
    "        text_color = 'white'\n",
    "\n",
    "    if group == \"\":\n",
    "        axes = df_plot.sum().to_frame().iloc[4:].plot(\n",
    "            kind='pie',\n",
    "            y=0,\n",
    "            figsize=figsize,\n",
    "            subplots=True, \n",
    "            legend=None,\n",
    "            autopct='%1.1f%%',\n",
    "            wedgeprops={'linewidth': 1.0, \n",
    "                        'edgecolor': text_color},\n",
    "            textprops={'size': 'large'}\n",
    "        )\n",
    "        for ax in axes:\n",
    "            ax.set_aspect('equal')\n",
    "            ax.yaxis.labelpad = 20\n",
    "            ax.set_ylabel(\"All Data\")\n",
    "            ax.yaxis.set_label_coords(0.5, 1.1)\n",
    "            ax.yaxis.label.set_color(text_color)\n",
    "            ax.yaxis.label.set_rotation(0)\n",
    "            ax.yaxis.label.set_fontsize(25)\n",
    "    else:\n",
    "        axes = df_plot.groupby(group).sum().T.plot(\n",
    "                    figsize=figsize,\n",
    "                    kind='pie',\n",
    "                    subplots=True, \n",
    "                    layout=layout,\n",
    "                    legend=None,\n",
    "                    autopct='%1.1f%%',\n",
    "                    wedgeprops={'linewidth': 1.0, \n",
    "                                'edgecolor': text_color},\n",
    "                    textprops={'size': 'large'}\n",
    "                )\n",
    "\n",
    "        for subaxes in axes:\n",
    "            for ax in subaxes:\n",
    "                ax.set_aspect('equal')\n",
    "                ax.yaxis.labelpad = 20\n",
    "                ax.yaxis.set_label_coords(0.5, 1.1)\n",
    "                ax.yaxis.label.set_color(text_color)\n",
    "                ax.yaxis.label.set_rotation(0)\n",
    "                ax.yaxis.label.set_fontsize(25)"
   ]
  },
  {
   "cell_type": "code",
   "execution_count": null,
   "id": "2a41ed72",
   "metadata": {},
   "outputs": [],
   "source": [
    "pie_chart(\"\")"
   ]
  },
  {
   "cell_type": "code",
   "execution_count": null,
   "id": "bec6722f",
   "metadata": {},
   "outputs": [],
   "source": [
    "pie_chart(\"Dataset\", layout=(1, 3))"
   ]
  },
  {
   "cell_type": "code",
   "execution_count": null,
   "id": "2a4976c4",
   "metadata": {},
   "outputs": [],
   "source": [
    "pie_chart(\"SIM\")"
   ]
  },
  {
   "cell_type": "code",
   "execution_count": null,
   "id": "a3861572",
   "metadata": {},
   "outputs": [],
   "source": [
    "pie_chart([\"Dataset\", \"SIM\"],\n",
    "          figsize=(12, 12),\n",
    "          layout=(3, 2))"
   ]
  },
  {
   "cell_type": "code",
   "execution_count": null,
   "id": "c6babd12",
   "metadata": {},
   "outputs": [],
   "source": [
    "df_plot"
   ]
  },
  {
   "attachments": {},
   "cell_type": "markdown",
   "id": "7ed45d0e",
   "metadata": {},
   "source": [
    "### Plotly"
   ]
  },
  {
   "cell_type": "code",
   "execution_count": 9,
   "id": "f4b037f7",
   "metadata": {},
   "outputs": [
    {
     "data": {
      "text/html": [
       "<div>\n",
       "<style scoped>\n",
       "    .dataframe tbody tr th:only-of-type {\n",
       "        vertical-align: middle;\n",
       "    }\n",
       "\n",
       "    .dataframe tbody tr th {\n",
       "        vertical-align: top;\n",
       "    }\n",
       "\n",
       "    .dataframe thead th {\n",
       "        text-align: right;\n",
       "    }\n",
       "</style>\n",
       "<table border=\"1\" class=\"dataframe\">\n",
       "  <thead>\n",
       "    <tr style=\"text-align: right;\">\n",
       "      <th></th>\n",
       "      <th>Can infer correct Value</th>\n",
       "      <th>None of the above</th>\n",
       "      <th>Can infer correct Entity</th>\n",
       "      <th>Can infer correct Quality</th>\n",
       "    </tr>\n",
       "    <tr>\n",
       "      <th>SIM</th>\n",
       "      <th></th>\n",
       "      <th></th>\n",
       "      <th></th>\n",
       "      <th></th>\n",
       "    </tr>\n",
       "  </thead>\n",
       "  <tbody>\n",
       "    <tr>\n",
       "      <th>Bert</th>\n",
       "      <td>3525</td>\n",
       "      <td>7504</td>\n",
       "      <td>9846</td>\n",
       "      <td>925</td>\n",
       "    </tr>\n",
       "    <tr>\n",
       "      <th>Jacc</th>\n",
       "      <td>12614</td>\n",
       "      <td>5686</td>\n",
       "      <td>69431</td>\n",
       "      <td>299</td>\n",
       "    </tr>\n",
       "  </tbody>\n",
       "</table>\n",
       "</div>"
      ],
      "text/plain": [
       "      Can infer correct Value  None of the above  Can infer correct Entity  \\\n",
       "SIM                                                                          \n",
       "Bert                     3525               7504                      9846   \n",
       "Jacc                    12614               5686                     69431   \n",
       "\n",
       "      Can infer correct Quality  \n",
       "SIM                              \n",
       "Bert                        925  \n",
       "Jacc                        299  "
      ]
     },
     "execution_count": 9,
     "metadata": {},
     "output_type": "execute_result"
    }
   ],
   "source": [
    "df_plot.groupby([\"SIM\"]).sum()[['Can infer correct Value', 'None of the above', 'Can infer correct Entity', 'Can infer correct Quality']]"
   ]
  },
  {
   "cell_type": "code",
   "execution_count": null,
   "id": "c44c2d81",
   "metadata": {},
   "outputs": [],
   "source": [
    "labels = ['Can infer correct Value', 'None of the above', 'Can infer correct Entity', 'Can infer correct Quality']\n",
    "\n",
    "cafe_colors =  ['rgb(146, 123, 21)', 'rgb(177, 180, 34)', 'rgb(206, 206, 40)',\n",
    "                'rgb(175, 51, 21)', 'rgb(35, 36, 21)']\n",
    "\n",
    "# Create subplots: use 'domain' type for Pie subplot\n",
    "fig = make_subplots(rows=1, cols=2, specs=[[{'type':'domain'}, {'type':'domain'}]])\n",
    "fig.add_trace(go.Pie(labels=labels, \n",
    "                     values=df_plot.groupby([\"SIM\"]).sum()[['Can infer correct Value', 'None of the above', 'Can infer correct Entity', 'Can infer correct Quality']].iloc[0].values,\n",
    "                     name=\"Bert Similarity\",\n",
    "                     marker_colors=cafe_colors),\n",
    "              1, 1)\n",
    "fig.add_trace(go.Pie(labels=labels, \n",
    "                     values=df_plot.groupby([\"SIM\"]).sum()[['Can infer correct Value', 'None of the above', 'Can infer correct Entity', 'Can infer correct Quality']].iloc[1].values,\n",
    "                     name=\"Jaccard Similarity\",\n",
    "                     marker_colors=cafe_colors),\n",
    "              1, 2)\n",
    "\n",
    "# Use `hole` to create a donut-like pie chart\n",
    "fig.update_traces(hole=.6, hoverinfo=\"label+percent+name\")\n",
    "\n",
    "fig.update_layout(\n",
    "    title_text=\"Trait Annotation\",\n",
    "    # Add annotations in the center of the donut pies.\n",
    "    annotations=[dict(text='BERT', x=0.2, y=0.5, font_size=20, showarrow=False),\n",
    "                 dict(text='JACC', x=0.8, y=0.5, font_size=20, showarrow=False)])\n",
    "fig.show()"
   ]
  },
  {
   "cell_type": "code",
   "execution_count": null,
   "id": "f7563511",
   "metadata": {},
   "outputs": [],
   "source": [
    "labels = ['None of the above', 'Can infer correct Entity', 'Can infer correct Quality', 'Can infer correct Value']\n",
    "\n",
    "cafe_colors =  ['rgb(146, 123, 21)', 'rgb(177, 180, 34)', 'rgb(206, 206, 40)',\n",
    "                'rgb(175, 51, 21)', 'rgb(35, 36, 21)']\n",
    "\n",
    "irises_colors = ['rgb(33, 75, 99)', 'rgb(79, 129, 102)', 'rgb(151, 179, 100)',\n",
    "                 'rgb(175, 49, 35)', 'rgb(36, 73, 147)']\n",
    "\n",
    "# Create subplots: use 'domain' type for Pie subplot\n",
    "fig = make_subplots(rows=2, cols=3, specs=[[{'type':'domain'}, {'type':'domain'}, {'type':'domain'}],\n",
    "                                           [{'type':'domain'}, {'type':'domain'}, {'type':'domain'}]])\n",
    "\n",
    "# Add pie charts to each subplot\n",
    "for i, sim in enumerate(df_plot[\"SIM\"].unique()):\n",
    "    for j, dataset in enumerate(df_plot[\"Dataset\"].unique()):\n",
    "        df_sub = df_plot[(df_plot[\"SIM\"] == sim) & (df_plot[\"Dataset\"] == dataset)]\n",
    "        fig.add_trace(go.Pie(labels=labels, \n",
    "                             values=df_sub.groupby([\"SIM\", \"Dataset\"]).sum()[labels].iloc[0].values,\n",
    "                             name=sim + ' ' + dataset,\n",
    "                             marker_colors=irises_colors),\n",
    "                      i+1, j+1)\n",
    "\n",
    "# Use `hole` to create a donut-like pie chart\n",
    "fig.update_traces(hole=.4, hoverinfo=\"label+percent+name\")\n",
    "\n",
    "fig.update_layout(\n",
    "    title_text=\"Trait Annotation\",\n",
    "    # Add annotations in the center of the donut pies.\n",
    "    annotations=[dict(text='PlantNet Dataset Bert',  x=0.050, y=1.1, font_size=15, showarrow=False),\n",
    "                 dict(text='Palm Dataset Bert',      x=0.500, y=1.1, font_size=15, showarrow=False),\n",
    "                 dict(text='Caribbean Dataset Bert', x=0.950, y=1.1, font_size=15, showarrow=False),\n",
    "                 dict(text='PlantNet Dataset Jacc',  x=0.050, y=-0.12, font_size=15, showarrow=False),\n",
    "                 dict(text='Palm Dataset Jacc',      x=0.500, y=-0.12, font_size=15, showarrow=False),\n",
    "                 dict(text='Caribbean Dataset Jacc', x=0.950, y=-0.12, font_size=15, showarrow=False)]\n",
    ")\n",
    "\n",
    "fig.show()"
   ]
  },
  {
   "cell_type": "code",
   "execution_count": null,
   "id": "ba8ed6bb",
   "metadata": {},
   "outputs": [],
   "source": [
    "# df_melt = pd.melt(df_plot, id_vars=[\"Species\", \"Main Trait\", \"SIM\", \"Dataset\"], \n",
    "#         value_vars=['Can infer correct Value', 'None of the above', 'Can infer correct Entity', 'Can infer correct Quality'],\n",
    "#         var_name='None', value_name='value', col_level=None, ignore_index=True)\n",
    "\n",
    "df_melt = pd.melt(df_plot, id_vars=[\"Species\", \"Main Trait\", \"SIM\", \"Dataset\"], \n",
    "        value_vars=['Can infer correct Value', 'None of the above', 'Can infer correct Entity', 'Can infer correct Quality'],\n",
    "        var_name='None', value_name='value', col_level=None, ignore_index=True)\n",
    "\n",
    "df_melt"
   ]
  },
  {
   "cell_type": "code",
   "execution_count": 23,
   "id": "73fa6542",
   "metadata": {},
   "outputs": [
    {
     "data": {
      "application/vnd.plotly.v1+json": {
       "config": {
        "plotlyServerURL": "https://plot.ly"
       },
       "data": [
        {
         "domain": {
          "x": [
           0,
           0.2888888888888889
          ],
          "y": [
           0.575,
           1
          ]
         },
         "hole": 0.4,
         "hoverinfo": "label+percent+name",
         "labels": [
          "None of the above",
          "Can infer correct Entity",
          "Can infer correct Quality",
          "Can infer correct Value"
         ],
         "marker": {
          "colors": [
           "rgb(33, 75, 99)",
           "rgb(79, 129, 102)",
           "rgb(151, 179, 100)",
           "rgb(175, 49, 35)",
           "rgb(36, 73, 147)"
          ]
         },
         "name": "Bert PlantNet",
         "type": "pie",
         "values": [
          1013,
          516,
          225,
          301
         ]
        },
        {
         "domain": {
          "x": [
           0.35555555555555557,
           0.6444444444444445
          ],
          "y": [
           0.575,
           1
          ]
         },
         "hole": 0.4,
         "hoverinfo": "label+percent+name",
         "labels": [
          "None of the above",
          "Can infer correct Entity",
          "Can infer correct Quality",
          "Can infer correct Value"
         ],
         "marker": {
          "colors": [
           "rgb(33, 75, 99)",
           "rgb(79, 129, 102)",
           "rgb(151, 179, 100)",
           "rgb(175, 49, 35)",
           "rgb(36, 73, 147)"
          ]
         },
         "name": "Bert Palm",
         "type": "pie",
         "values": [
          1546,
          1817,
          257,
          540
         ]
        },
        {
         "domain": {
          "x": [
           0.7111111111111111,
           1
          ],
          "y": [
           0.575,
           1
          ]
         },
         "hole": 0.4,
         "hoverinfo": "label+percent+name",
         "labels": [
          "None of the above",
          "Can infer correct Entity",
          "Can infer correct Quality",
          "Can infer correct Value"
         ],
         "marker": {
          "colors": [
           "rgb(33, 75, 99)",
           "rgb(79, 129, 102)",
           "rgb(151, 179, 100)",
           "rgb(175, 49, 35)",
           "rgb(36, 73, 147)"
          ]
         },
         "name": "Bert Caribbean",
         "type": "pie",
         "values": [
          4945,
          7513,
          443,
          2684
         ]
        },
        {
         "domain": {
          "x": [
           0,
           0.2888888888888889
          ],
          "y": [
           0,
           0.425
          ]
         },
         "hole": 0.4,
         "hoverinfo": "label+percent+name",
         "labels": [
          "None of the above",
          "Can infer correct Entity",
          "Can infer correct Quality",
          "Can infer correct Value"
         ],
         "marker": {
          "colors": [
           "rgb(33, 75, 99)",
           "rgb(79, 129, 102)",
           "rgb(151, 179, 100)",
           "rgb(175, 49, 35)",
           "rgb(36, 73, 147)"
          ]
         },
         "name": "Jacc PlantNet",
         "type": "pie",
         "values": [
          58,
          21,
          1,
          30
         ]
        },
        {
         "domain": {
          "x": [
           0.35555555555555557,
           0.6444444444444445
          ],
          "y": [
           0,
           0.425
          ]
         },
         "hole": 0.4,
         "hoverinfo": "label+percent+name",
         "labels": [
          "None of the above",
          "Can infer correct Entity",
          "Can infer correct Quality",
          "Can infer correct Value"
         ],
         "marker": {
          "colors": [
           "rgb(33, 75, 99)",
           "rgb(79, 129, 102)",
           "rgb(151, 179, 100)",
           "rgb(175, 49, 35)",
           "rgb(36, 73, 147)"
          ]
         },
         "name": "Jacc Palm",
         "type": "pie",
         "values": [
          248,
          385,
          183,
          289
         ]
        },
        {
         "domain": {
          "x": [
           0.7111111111111111,
           1
          ],
          "y": [
           0,
           0.425
          ]
         },
         "hole": 0.4,
         "hoverinfo": "label+percent+name",
         "labels": [
          "None of the above",
          "Can infer correct Entity",
          "Can infer correct Quality",
          "Can infer correct Value"
         ],
         "marker": {
          "colors": [
           "rgb(33, 75, 99)",
           "rgb(79, 129, 102)",
           "rgb(151, 179, 100)",
           "rgb(175, 49, 35)",
           "rgb(36, 73, 147)"
          ]
         },
         "name": "Jacc Caribbean",
         "type": "pie",
         "values": [
          5380,
          69025,
          115,
          12295
         ]
        }
       ],
       "layout": {
        "annotations": [
         {
          "font": {
           "size": 15
          },
          "showarrow": false,
          "text": "PlantNet Dataset Bert",
          "x": 0.05,
          "y": 1.1
         },
         {
          "font": {
           "size": 15
          },
          "showarrow": false,
          "text": "Palm Dataset Bert",
          "x": 0.5,
          "y": 1.1
         },
         {
          "font": {
           "size": 15
          },
          "showarrow": false,
          "text": "Caribbean Dataset Bert",
          "x": 0.95,
          "y": 1.1
         },
         {
          "font": {
           "size": 15
          },
          "showarrow": false,
          "text": "PlantNet Dataset Jacc",
          "x": 0.05,
          "y": -0.12
         },
         {
          "font": {
           "size": 15
          },
          "showarrow": false,
          "text": "Palm Dataset Jacc",
          "x": 0.5,
          "y": -0.12
         },
         {
          "font": {
           "size": 15
          },
          "showarrow": false,
          "text": "Caribbean Dataset Jacc",
          "x": 0.95,
          "y": -0.12
         }
        ],
        "template": {
         "data": {
          "bar": [
           {
            "error_x": {
             "color": "#2a3f5f"
            },
            "error_y": {
             "color": "#2a3f5f"
            },
            "marker": {
             "line": {
              "color": "#E5ECF6",
              "width": 0.5
             },
             "pattern": {
              "fillmode": "overlay",
              "size": 10,
              "solidity": 0.2
             }
            },
            "type": "bar"
           }
          ],
          "barpolar": [
           {
            "marker": {
             "line": {
              "color": "#E5ECF6",
              "width": 0.5
             },
             "pattern": {
              "fillmode": "overlay",
              "size": 10,
              "solidity": 0.2
             }
            },
            "type": "barpolar"
           }
          ],
          "carpet": [
           {
            "aaxis": {
             "endlinecolor": "#2a3f5f",
             "gridcolor": "white",
             "linecolor": "white",
             "minorgridcolor": "white",
             "startlinecolor": "#2a3f5f"
            },
            "baxis": {
             "endlinecolor": "#2a3f5f",
             "gridcolor": "white",
             "linecolor": "white",
             "minorgridcolor": "white",
             "startlinecolor": "#2a3f5f"
            },
            "type": "carpet"
           }
          ],
          "choropleth": [
           {
            "colorbar": {
             "outlinewidth": 0,
             "ticks": ""
            },
            "type": "choropleth"
           }
          ],
          "contour": [
           {
            "colorbar": {
             "outlinewidth": 0,
             "ticks": ""
            },
            "colorscale": [
             [
              0,
              "#0d0887"
             ],
             [
              0.1111111111111111,
              "#46039f"
             ],
             [
              0.2222222222222222,
              "#7201a8"
             ],
             [
              0.3333333333333333,
              "#9c179e"
             ],
             [
              0.4444444444444444,
              "#bd3786"
             ],
             [
              0.5555555555555556,
              "#d8576b"
             ],
             [
              0.6666666666666666,
              "#ed7953"
             ],
             [
              0.7777777777777778,
              "#fb9f3a"
             ],
             [
              0.8888888888888888,
              "#fdca26"
             ],
             [
              1,
              "#f0f921"
             ]
            ],
            "type": "contour"
           }
          ],
          "contourcarpet": [
           {
            "colorbar": {
             "outlinewidth": 0,
             "ticks": ""
            },
            "type": "contourcarpet"
           }
          ],
          "heatmap": [
           {
            "colorbar": {
             "outlinewidth": 0,
             "ticks": ""
            },
            "colorscale": [
             [
              0,
              "#0d0887"
             ],
             [
              0.1111111111111111,
              "#46039f"
             ],
             [
              0.2222222222222222,
              "#7201a8"
             ],
             [
              0.3333333333333333,
              "#9c179e"
             ],
             [
              0.4444444444444444,
              "#bd3786"
             ],
             [
              0.5555555555555556,
              "#d8576b"
             ],
             [
              0.6666666666666666,
              "#ed7953"
             ],
             [
              0.7777777777777778,
              "#fb9f3a"
             ],
             [
              0.8888888888888888,
              "#fdca26"
             ],
             [
              1,
              "#f0f921"
             ]
            ],
            "type": "heatmap"
           }
          ],
          "heatmapgl": [
           {
            "colorbar": {
             "outlinewidth": 0,
             "ticks": ""
            },
            "colorscale": [
             [
              0,
              "#0d0887"
             ],
             [
              0.1111111111111111,
              "#46039f"
             ],
             [
              0.2222222222222222,
              "#7201a8"
             ],
             [
              0.3333333333333333,
              "#9c179e"
             ],
             [
              0.4444444444444444,
              "#bd3786"
             ],
             [
              0.5555555555555556,
              "#d8576b"
             ],
             [
              0.6666666666666666,
              "#ed7953"
             ],
             [
              0.7777777777777778,
              "#fb9f3a"
             ],
             [
              0.8888888888888888,
              "#fdca26"
             ],
             [
              1,
              "#f0f921"
             ]
            ],
            "type": "heatmapgl"
           }
          ],
          "histogram": [
           {
            "marker": {
             "pattern": {
              "fillmode": "overlay",
              "size": 10,
              "solidity": 0.2
             }
            },
            "type": "histogram"
           }
          ],
          "histogram2d": [
           {
            "colorbar": {
             "outlinewidth": 0,
             "ticks": ""
            },
            "colorscale": [
             [
              0,
              "#0d0887"
             ],
             [
              0.1111111111111111,
              "#46039f"
             ],
             [
              0.2222222222222222,
              "#7201a8"
             ],
             [
              0.3333333333333333,
              "#9c179e"
             ],
             [
              0.4444444444444444,
              "#bd3786"
             ],
             [
              0.5555555555555556,
              "#d8576b"
             ],
             [
              0.6666666666666666,
              "#ed7953"
             ],
             [
              0.7777777777777778,
              "#fb9f3a"
             ],
             [
              0.8888888888888888,
              "#fdca26"
             ],
             [
              1,
              "#f0f921"
             ]
            ],
            "type": "histogram2d"
           }
          ],
          "histogram2dcontour": [
           {
            "colorbar": {
             "outlinewidth": 0,
             "ticks": ""
            },
            "colorscale": [
             [
              0,
              "#0d0887"
             ],
             [
              0.1111111111111111,
              "#46039f"
             ],
             [
              0.2222222222222222,
              "#7201a8"
             ],
             [
              0.3333333333333333,
              "#9c179e"
             ],
             [
              0.4444444444444444,
              "#bd3786"
             ],
             [
              0.5555555555555556,
              "#d8576b"
             ],
             [
              0.6666666666666666,
              "#ed7953"
             ],
             [
              0.7777777777777778,
              "#fb9f3a"
             ],
             [
              0.8888888888888888,
              "#fdca26"
             ],
             [
              1,
              "#f0f921"
             ]
            ],
            "type": "histogram2dcontour"
           }
          ],
          "mesh3d": [
           {
            "colorbar": {
             "outlinewidth": 0,
             "ticks": ""
            },
            "type": "mesh3d"
           }
          ],
          "parcoords": [
           {
            "line": {
             "colorbar": {
              "outlinewidth": 0,
              "ticks": ""
             }
            },
            "type": "parcoords"
           }
          ],
          "pie": [
           {
            "automargin": true,
            "type": "pie"
           }
          ],
          "scatter": [
           {
            "fillpattern": {
             "fillmode": "overlay",
             "size": 10,
             "solidity": 0.2
            },
            "type": "scatter"
           }
          ],
          "scatter3d": [
           {
            "line": {
             "colorbar": {
              "outlinewidth": 0,
              "ticks": ""
             }
            },
            "marker": {
             "colorbar": {
              "outlinewidth": 0,
              "ticks": ""
             }
            },
            "type": "scatter3d"
           }
          ],
          "scattercarpet": [
           {
            "marker": {
             "colorbar": {
              "outlinewidth": 0,
              "ticks": ""
             }
            },
            "type": "scattercarpet"
           }
          ],
          "scattergeo": [
           {
            "marker": {
             "colorbar": {
              "outlinewidth": 0,
              "ticks": ""
             }
            },
            "type": "scattergeo"
           }
          ],
          "scattergl": [
           {
            "marker": {
             "colorbar": {
              "outlinewidth": 0,
              "ticks": ""
             }
            },
            "type": "scattergl"
           }
          ],
          "scattermapbox": [
           {
            "marker": {
             "colorbar": {
              "outlinewidth": 0,
              "ticks": ""
             }
            },
            "type": "scattermapbox"
           }
          ],
          "scatterpolar": [
           {
            "marker": {
             "colorbar": {
              "outlinewidth": 0,
              "ticks": ""
             }
            },
            "type": "scatterpolar"
           }
          ],
          "scatterpolargl": [
           {
            "marker": {
             "colorbar": {
              "outlinewidth": 0,
              "ticks": ""
             }
            },
            "type": "scatterpolargl"
           }
          ],
          "scatterternary": [
           {
            "marker": {
             "colorbar": {
              "outlinewidth": 0,
              "ticks": ""
             }
            },
            "type": "scatterternary"
           }
          ],
          "surface": [
           {
            "colorbar": {
             "outlinewidth": 0,
             "ticks": ""
            },
            "colorscale": [
             [
              0,
              "#0d0887"
             ],
             [
              0.1111111111111111,
              "#46039f"
             ],
             [
              0.2222222222222222,
              "#7201a8"
             ],
             [
              0.3333333333333333,
              "#9c179e"
             ],
             [
              0.4444444444444444,
              "#bd3786"
             ],
             [
              0.5555555555555556,
              "#d8576b"
             ],
             [
              0.6666666666666666,
              "#ed7953"
             ],
             [
              0.7777777777777778,
              "#fb9f3a"
             ],
             [
              0.8888888888888888,
              "#fdca26"
             ],
             [
              1,
              "#f0f921"
             ]
            ],
            "type": "surface"
           }
          ],
          "table": [
           {
            "cells": {
             "fill": {
              "color": "#EBF0F8"
             },
             "line": {
              "color": "white"
             }
            },
            "header": {
             "fill": {
              "color": "#C8D4E3"
             },
             "line": {
              "color": "white"
             }
            },
            "type": "table"
           }
          ]
         },
         "layout": {
          "annotationdefaults": {
           "arrowcolor": "#2a3f5f",
           "arrowhead": 0,
           "arrowwidth": 1
          },
          "autotypenumbers": "strict",
          "coloraxis": {
           "colorbar": {
            "outlinewidth": 0,
            "ticks": ""
           }
          },
          "colorscale": {
           "diverging": [
            [
             0,
             "#8e0152"
            ],
            [
             0.1,
             "#c51b7d"
            ],
            [
             0.2,
             "#de77ae"
            ],
            [
             0.3,
             "#f1b6da"
            ],
            [
             0.4,
             "#fde0ef"
            ],
            [
             0.5,
             "#f7f7f7"
            ],
            [
             0.6,
             "#e6f5d0"
            ],
            [
             0.7,
             "#b8e186"
            ],
            [
             0.8,
             "#7fbc41"
            ],
            [
             0.9,
             "#4d9221"
            ],
            [
             1,
             "#276419"
            ]
           ],
           "sequential": [
            [
             0,
             "#0d0887"
            ],
            [
             0.1111111111111111,
             "#46039f"
            ],
            [
             0.2222222222222222,
             "#7201a8"
            ],
            [
             0.3333333333333333,
             "#9c179e"
            ],
            [
             0.4444444444444444,
             "#bd3786"
            ],
            [
             0.5555555555555556,
             "#d8576b"
            ],
            [
             0.6666666666666666,
             "#ed7953"
            ],
            [
             0.7777777777777778,
             "#fb9f3a"
            ],
            [
             0.8888888888888888,
             "#fdca26"
            ],
            [
             1,
             "#f0f921"
            ]
           ],
           "sequentialminus": [
            [
             0,
             "#0d0887"
            ],
            [
             0.1111111111111111,
             "#46039f"
            ],
            [
             0.2222222222222222,
             "#7201a8"
            ],
            [
             0.3333333333333333,
             "#9c179e"
            ],
            [
             0.4444444444444444,
             "#bd3786"
            ],
            [
             0.5555555555555556,
             "#d8576b"
            ],
            [
             0.6666666666666666,
             "#ed7953"
            ],
            [
             0.7777777777777778,
             "#fb9f3a"
            ],
            [
             0.8888888888888888,
             "#fdca26"
            ],
            [
             1,
             "#f0f921"
            ]
           ]
          },
          "colorway": [
           "#636efa",
           "#EF553B",
           "#00cc96",
           "#ab63fa",
           "#FFA15A",
           "#19d3f3",
           "#FF6692",
           "#B6E880",
           "#FF97FF",
           "#FECB52"
          ],
          "font": {
           "color": "#2a3f5f"
          },
          "geo": {
           "bgcolor": "white",
           "lakecolor": "white",
           "landcolor": "#E5ECF6",
           "showlakes": true,
           "showland": true,
           "subunitcolor": "white"
          },
          "hoverlabel": {
           "align": "left"
          },
          "hovermode": "closest",
          "mapbox": {
           "style": "light"
          },
          "paper_bgcolor": "white",
          "plot_bgcolor": "#E5ECF6",
          "polar": {
           "angularaxis": {
            "gridcolor": "white",
            "linecolor": "white",
            "ticks": ""
           },
           "bgcolor": "#E5ECF6",
           "radialaxis": {
            "gridcolor": "white",
            "linecolor": "white",
            "ticks": ""
           }
          },
          "scene": {
           "xaxis": {
            "backgroundcolor": "#E5ECF6",
            "gridcolor": "white",
            "gridwidth": 2,
            "linecolor": "white",
            "showbackground": true,
            "ticks": "",
            "zerolinecolor": "white"
           },
           "yaxis": {
            "backgroundcolor": "#E5ECF6",
            "gridcolor": "white",
            "gridwidth": 2,
            "linecolor": "white",
            "showbackground": true,
            "ticks": "",
            "zerolinecolor": "white"
           },
           "zaxis": {
            "backgroundcolor": "#E5ECF6",
            "gridcolor": "white",
            "gridwidth": 2,
            "linecolor": "white",
            "showbackground": true,
            "ticks": "",
            "zerolinecolor": "white"
           }
          },
          "shapedefaults": {
           "line": {
            "color": "#2a3f5f"
           }
          },
          "ternary": {
           "aaxis": {
            "gridcolor": "white",
            "linecolor": "white",
            "ticks": ""
           },
           "baxis": {
            "gridcolor": "white",
            "linecolor": "white",
            "ticks": ""
           },
           "bgcolor": "#E5ECF6",
           "caxis": {
            "gridcolor": "white",
            "linecolor": "white",
            "ticks": ""
           }
          },
          "title": {
           "x": 0.05
          },
          "xaxis": {
           "automargin": true,
           "gridcolor": "white",
           "linecolor": "white",
           "ticks": "",
           "title": {
            "standoff": 15
           },
           "zerolinecolor": "white",
           "zerolinewidth": 2
          },
          "yaxis": {
           "automargin": true,
           "gridcolor": "white",
           "linecolor": "white",
           "ticks": "",
           "title": {
            "standoff": 15
           },
           "zerolinecolor": "white",
           "zerolinewidth": 2
          }
         }
        },
        "title": {
         "text": "Trait Annotation"
        }
       }
      }
     },
     "metadata": {},
     "output_type": "display_data"
    }
   ],
   "source": [
    "labels = ['None of the above', 'Can infer correct Entity', 'Can infer correct Quality', 'Can infer correct Value']\n",
    "\n",
    "cafe_colors =  ['rgb(146, 123, 21)', 'rgb(177, 180, 34)', 'rgb(206, 206, 40)',\n",
    "                'rgb(175, 51, 21)', 'rgb(35, 36, 21)']\n",
    "\n",
    "irises_colors = ['rgb(33, 75, 99)', 'rgb(79, 129, 102)', 'rgb(151, 179, 100)',\n",
    "                 'rgb(175, 49, 35)', 'rgb(36, 73, 147)']\n",
    "\n",
    "# Create subplots: use 'domain' type for Pie subplot\n",
    "fig = make_subplots(rows=2, cols=3, specs=[[{'type':'domain'}, {'type':'domain'}, {'type':'domain'}],\n",
    "                                           [{'type':'domain'}, {'type':'domain'}, {'type':'domain'}]])\n",
    "\n",
    "# Add pie charts to each subplot\n",
    "for i, sim in enumerate(df_plot[\"SIM\"].unique()):\n",
    "    for j, dataset in enumerate(df_plot[\"Dataset\"].unique()):\n",
    "        df_sub = df_plot[(df_plot[\"SIM\"] == sim) & (df_plot[\"Dataset\"] == dataset)]\n",
    "        fig.add_trace(go.Pie(labels=labels, \n",
    "                             values=df_sub.groupby([\"SIM\", \"Dataset\"]).sum()[labels].iloc[0].values,\n",
    "                             name=sim + ' ' + dataset,\n",
    "                             marker_colors=irises_colors),\n",
    "                      i+1, j+1)\n",
    "\n",
    "# Use `hole` to create a donut-like pie chart\n",
    "fig.update_traces(hole=.4, hoverinfo=\"label+percent+name\")\n",
    "\n",
    "fig.update_layout(\n",
    "    title_text=\"Trait Annotation\",\n",
    "    # Add annotations in the center of the donut pies.\n",
    "    annotations=[dict(text='PlantNet Dataset Bert',  x=0.050, y=1.1, font_size=15, showarrow=False),\n",
    "                 dict(text='Palm Dataset Bert',      x=0.500, y=1.1, font_size=15, showarrow=False),\n",
    "                 dict(text='Caribbean Dataset Bert', x=0.950, y=1.1, font_size=15, showarrow=False),\n",
    "                 dict(text='PlantNet Dataset Jacc',  x=0.050, y=-0.12, font_size=15, showarrow=False),\n",
    "                 dict(text='Palm Dataset Jacc',      x=0.500, y=-0.12, font_size=15, showarrow=False),\n",
    "                 dict(text='Caribbean Dataset Jacc', x=0.950, y=-0.12, font_size=15, showarrow=False)]\n",
    ")\n",
    "\n",
    "fig.show()"
   ]
  }
 ],
 "metadata": {
  "kernelspec": {
   "display_name": "deeplearning",
   "language": "python",
   "name": "deeplearning"
  },
  "language_info": {
   "codemirror_mode": {
    "name": "ipython",
    "version": 3
   },
   "file_extension": ".py",
   "mimetype": "text/x-python",
   "name": "python",
   "nbconvert_exporter": "python",
   "pygments_lexer": "ipython3",
   "version": "3.10.4"
  },
  "vscode": {
   "interpreter": {
    "hash": "51432b8e5767c06330d9b51dfad63f9db0ea39868e37d921b9c2e277373f8d11"
   }
  }
 },
 "nbformat": 4,
 "nbformat_minor": 5
}
