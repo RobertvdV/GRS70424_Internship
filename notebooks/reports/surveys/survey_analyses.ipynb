{
 "cells": [
  {
   "cell_type": "code",
   "execution_count": 1,
   "id": "88eee1f5",
   "metadata": {},
   "outputs": [],
   "source": [
    "import pandas as pd\n",
    "import numpy as np\n",
    "import seaborn as sns\n",
    "import matplotlib.pyplot as plt\n",
    "import glob\n",
    "import csv"
   ]
  },
  {
   "cell_type": "code",
   "execution_count": 2,
   "id": "f017ab39",
   "metadata": {},
   "outputs": [],
   "source": [
    "folder = \"../../../data/surveys/responses/\"\n",
    "response_list = glob.glob(F\"{folder}*\")\n",
    "\n",
    "folder = \"../../../data/surveys/surveys/\"\n",
    "survey_list = [F\"{folder}{lst[59:]}\" for lst in response_list]\n",
    "\n",
    "# df = pd.concat((pd.read_csv(f) for f in respons_list), ignore_index=True)"
   ]
  },
  {
   "cell_type": "code",
   "execution_count": 3,
   "id": "6ea650e9",
   "metadata": {},
   "outputs": [],
   "source": [
    "df_survey = pd.read_csv(survey_list[0], sep='\\t')\n",
    "df_survey.rename(columns={ df_survey.columns[0]: \"Index\" }, inplace = True)\n",
    "df_response = pd.read_csv(response_list[0], header=None).iloc[: , 1:].T\n",
    "df_response.rename(columns={ df_response.columns[0]: \"Sentence\", \n",
    "                            df_response.columns[1]: \"Result\" }, \n",
    "                            inplace = True)\n",
    "\n"
   ]
  },
  {
   "cell_type": "code",
   "execution_count": 9,
   "id": "d4e1c6c6",
   "metadata": {},
   "outputs": [],
   "source": [
    "# Surveys\n",
    "df_surveys = pd.concat((pd.read_csv(f, sep='\\t') for f in survey_list), ignore_index=True)\n",
    "df_surveys.rename(columns={ df_surveys.columns[0]: \"Index\" }, inplace = True)\n",
    "\n",
    "# Response\n",
    "df_responses = pd.concat((pd.read_csv(f, header=None).iloc[: , 1:].T for f in response_list))\n",
    "df_responses.rename(columns={ df_responses.columns[0]: \"Sentence\", \n",
    "                            df_responses.columns[1]: \"Result\" }, \n",
    "                            inplace = True)\n",
    "\n",
    "# Merge\n",
    "df = df_surveys\n",
    "sentences = [\"1\", \"2\", \"3\", \"4\", \"5\"]\n",
    "for number in sentences:\n",
    "    df = df.merge(\n",
    "        df_responses.add_suffix(F\"_{number}\"), left_on=number, right_on=F\"Sentence_{number}\",\n",
    "        # suffixes=(F\"_{number}\", F\"_{number}\")\n",
    "    )\n",
    "\n",
    "df = df.drop(columns=sentences)"
   ]
  }
 ],
 "metadata": {
  "kernelspec": {
   "display_name": "deeplearning",
   "language": "python",
   "name": "python3"
  },
  "language_info": {
   "codemirror_mode": {
    "name": "ipython",
    "version": 3
   },
   "file_extension": ".py",
   "mimetype": "text/x-python",
   "name": "python",
   "nbconvert_exporter": "python",
   "pygments_lexer": "ipython3",
   "version": "3.10.4"
  },
  "vscode": {
   "interpreter": {
    "hash": "51432b8e5767c06330d9b51dfad63f9db0ea39868e37d921b9c2e277373f8d11"
   }
  }
 },
 "nbformat": 4,
 "nbformat_minor": 5
}
