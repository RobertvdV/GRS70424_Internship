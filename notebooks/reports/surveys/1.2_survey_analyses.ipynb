{
 "cells": [
  {
   "cell_type": "code",
   "execution_count": 1,
   "id": "88eee1f5",
   "metadata": {},
   "outputs": [],
   "source": [
    "import pandas as pd\n",
    "import numpy as np\n",
    "import seaborn as sns\n",
    "import matplotlib.pyplot as plt\n",
    "import matplotlib as mpl\n",
    "import glob\n",
    "import csv\n",
    "import plotly.express as px\n",
    "import plotly.graph_objs as go\n",
    "import plotly.subplots as sp\n",
    "from plotly.subplots import make_subplots\n"
   ]
  },
  {
   "attachments": {},
   "cell_type": "markdown",
   "id": "bc99129c",
   "metadata": {},
   "source": [
    "### Functions"
   ]
  },
  {
   "cell_type": "code",
   "execution_count": 5,
   "id": "b887c9a0",
   "metadata": {},
   "outputs": [],
   "source": [
    "def build_hierarchical_dataframe(df, levels, value_column, color_columns=None):\n",
    "    \"\"\"\n",
    "    Build a hierarchy of levels for Sunburst or Treemap charts.\n",
    "\n",
    "    Levels are given starting from the bottom to the top of the hierarchy,\n",
    "    ie the last level corresponds to the root.\n",
    "    \"\"\"\n",
    "    df_all_trees = pd.DataFrame(columns=['id', 'parent', 'value', 'color'])\n",
    "    for i, level in enumerate(levels):\n",
    "        df_tree = pd.DataFrame(columns=['id', 'parent', 'value', 'color'])\n",
    "        dfg = df.groupby(levels[i:]).sum()\n",
    "        dfg = dfg.reset_index()\n",
    "        df_tree['id'] = dfg[level].copy()\n",
    "        if i < len(levels) - 1:\n",
    "            df_tree['parent'] = dfg[levels[i+1]].copy()\n",
    "        else:\n",
    "            df_tree['parent'] = 'total'\n",
    "        df_tree['value'] = dfg[value_column]\n",
    "        df_tree['color'] = dfg[color_columns[0]] / dfg[color_columns[1]]\n",
    "        df_all_trees = df_all_trees.append(df_tree, ignore_index=True)\n",
    "    total = pd.Series(dict(id='total', parent='',\n",
    "                              value=df[value_column].sum(),\n",
    "                              color=df[color_columns[0]].sum() / df[color_columns[1]].sum()))\n",
    "    df_all_trees = df_all_trees.append(total, ignore_index=True)\n",
    "    return df_all_trees"
   ]
  },
  {
   "cell_type": "code",
   "execution_count": 3,
   "id": "fae23223",
   "metadata": {},
   "outputs": [],
   "source": [
    "folder = \"../../../data/surveys/\"\n",
    "file = \"df_survey_result.csv\"\n",
    "\n",
    "df = pd.read_csv(F\"{folder}{file}\")"
   ]
  },
  {
   "cell_type": "code",
   "execution_count": 6,
   "id": "70355564",
   "metadata": {},
   "outputs": [
    {
     "name": "stderr",
     "output_type": "stream",
     "text": [
      "/var/folders/0p/7b4jnnp15d5gx16h36l4ycx00000gn/T/ipykernel_881/2588856700.py:20: FutureWarning: The frame.append method is deprecated and will be removed from pandas in a future version. Use pandas.concat instead.\n",
      "  df_all_trees = df_all_trees.append(df_tree, ignore_index=True)\n",
      "/var/folders/0p/7b4jnnp15d5gx16h36l4ycx00000gn/T/ipykernel_881/2588856700.py:20: FutureWarning: The frame.append method is deprecated and will be removed from pandas in a future version. Use pandas.concat instead.\n",
      "  df_all_trees = df_all_trees.append(df_tree, ignore_index=True)\n",
      "/var/folders/0p/7b4jnnp15d5gx16h36l4ycx00000gn/T/ipykernel_881/2588856700.py:20: FutureWarning: The frame.append method is deprecated and will be removed from pandas in a future version. Use pandas.concat instead.\n",
      "  df_all_trees = df_all_trees.append(df_tree, ignore_index=True)\n",
      "/var/folders/0p/7b4jnnp15d5gx16h36l4ycx00000gn/T/ipykernel_881/2588856700.py:24: FutureWarning: The frame.append method is deprecated and will be removed from pandas in a future version. Use pandas.concat instead.\n",
      "  df_all_trees = df_all_trees.append(total, ignore_index=True)\n"
     ]
    }
   ],
   "source": [
    "df[\"Total\"] = \"Total\"\n",
    "# round(df.groupby([\"Total\", \"Dataset\", \"Main Trait\", \"Result\"])[\"Species\"].count() / df.groupby([\"Main Trait\"])[\"Species\"].count() * 100, 2).to_frame()\n",
    "df_sun = df.groupby([\"Total\", \"Dataset\", \"Main Trait\", \"Result\"])[\"Species\"]\\\n",
    "    .count()\\\n",
    "    .to_frame()\\\n",
    "    .reset_index()\\\n",
    "    .rename(columns={\"Species\": \"Trait count\"})\n",
    "\n",
    "df_temp = df.groupby([\"Main Trait\"])[\"Species\"]\\\n",
    "    .count()\\\n",
    "    .to_frame()\\\n",
    "    .reset_index()\\\n",
    "    .rename(columns={\"Species\": \"Trait total\"})\n",
    "\n",
    "df_sun = pd.merge(df_sun, df_temp, on=\"Main Trait\")\n",
    "\n",
    "# df_sun = build_hierarchical_dataframe(df_sun, [\"Main Trait\", \"Dataset\", \"Result\"], \"Trait count\", [\"Trait count\", \"Trait total\"])\n",
    "df_all_trees = build_hierarchical_dataframe(df_sun, [\"Main Trait\", \"Dataset\", \"Result\"], \"Trait count\", [\"Trait count\", \"Trait total\"])\n",
    "average_score = df_sun['Trait count'].sum() / df_sun['Trait total'].sum()"
   ]
  },
  {
   "attachments": {},
   "cell_type": "markdown",
   "id": "7ed45d0e",
   "metadata": {},
   "source": [
    "### Plotly"
   ]
  },
  {
   "attachments": {},
   "cell_type": "markdown",
   "id": "8d7ba921",
   "metadata": {},
   "source": [
    "#### Subplots"
   ]
  },
  {
   "cell_type": "code",
   "execution_count": 8,
   "id": "7a666259",
   "metadata": {},
   "outputs": [],
   "source": [
    "df_plot = df.groupby([\"SIM\", \"Result\"]).count()[\"Species\"]\n",
    "df_plot.name = \"Data\"\n",
    "df_plot\n",
    "\n",
    "labels = ['None of the above', 'Can infer correct Entity', 'Can infer correct Quality', 'Can infer correct Value']\n",
    "colors = [\n",
    "     '#d62728', \n",
    "     '#1f77b4',\n",
    "     'goldenrod',\n",
    "     '#2ca02c', \n",
    "     ]"
   ]
  },
  {
   "cell_type": "code",
   "execution_count": 15,
   "id": "86c30780",
   "metadata": {},
   "outputs": [
    {
     "data": {
      "application/vnd.plotly.v1+json": {
       "config": {
        "plotlyServerURL": "https://plot.ly"
       },
       "data": [
        {
         "domain": {
          "x": [
           0,
           0.45
          ],
          "y": [
           0,
           1
          ]
         },
         "hole": 0.6,
         "hoverinfo": "label+percent+name",
         "labels": [
          "None of the above",
          "Can infer correct Entity",
          "Can infer correct Quality",
          "Can infer correct Value"
         ],
         "marker": {
          "colors": [
           "#d62728",
           "#1f77b4",
           "goldenrod",
           "#2ca02c"
          ]
         },
         "name": "Bert Similarity",
         "sort": false,
         "type": "pie",
         "values": [
          280,
          193,
          53,
          149
         ]
        },
        {
         "domain": {
          "x": [
           0.55,
           1
          ],
          "y": [
           0,
           1
          ]
         },
         "hole": 0.6,
         "hoverinfo": "label+percent+name",
         "labels": [
          "None of the above",
          "Can infer correct Entity",
          "Can infer correct Quality",
          "Can infer correct Value"
         ],
         "marker": {
          "colors": [
           "#d62728",
           "#1f77b4",
           "goldenrod",
           "#2ca02c"
          ]
         },
         "name": "Jaccard Similarity",
         "sort": false,
         "type": "pie",
         "values": [
          174,
          169,
          43,
          140
         ]
        }
       ],
       "layout": {
        "annotations": [
         {
          "font": {
           "size": 20
          },
          "showarrow": false,
          "text": "BERT",
          "x": 0.17,
          "y": 0.5
         },
         {
          "font": {
           "size": 20
          },
          "showarrow": false,
          "text": "JACC",
          "x": 0.83,
          "y": 0.5
         }
        ],
        "height": 400,
        "template": {
         "data": {
          "bar": [
           {
            "error_x": {
             "color": "#2a3f5f"
            },
            "error_y": {
             "color": "#2a3f5f"
            },
            "marker": {
             "line": {
              "color": "#E5ECF6",
              "width": 0.5
             },
             "pattern": {
              "fillmode": "overlay",
              "size": 10,
              "solidity": 0.2
             }
            },
            "type": "bar"
           }
          ],
          "barpolar": [
           {
            "marker": {
             "line": {
              "color": "#E5ECF6",
              "width": 0.5
             },
             "pattern": {
              "fillmode": "overlay",
              "size": 10,
              "solidity": 0.2
             }
            },
            "type": "barpolar"
           }
          ],
          "carpet": [
           {
            "aaxis": {
             "endlinecolor": "#2a3f5f",
             "gridcolor": "white",
             "linecolor": "white",
             "minorgridcolor": "white",
             "startlinecolor": "#2a3f5f"
            },
            "baxis": {
             "endlinecolor": "#2a3f5f",
             "gridcolor": "white",
             "linecolor": "white",
             "minorgridcolor": "white",
             "startlinecolor": "#2a3f5f"
            },
            "type": "carpet"
           }
          ],
          "choropleth": [
           {
            "colorbar": {
             "outlinewidth": 0,
             "ticks": ""
            },
            "type": "choropleth"
           }
          ],
          "contour": [
           {
            "colorbar": {
             "outlinewidth": 0,
             "ticks": ""
            },
            "colorscale": [
             [
              0,
              "#0d0887"
             ],
             [
              0.1111111111111111,
              "#46039f"
             ],
             [
              0.2222222222222222,
              "#7201a8"
             ],
             [
              0.3333333333333333,
              "#9c179e"
             ],
             [
              0.4444444444444444,
              "#bd3786"
             ],
             [
              0.5555555555555556,
              "#d8576b"
             ],
             [
              0.6666666666666666,
              "#ed7953"
             ],
             [
              0.7777777777777778,
              "#fb9f3a"
             ],
             [
              0.8888888888888888,
              "#fdca26"
             ],
             [
              1,
              "#f0f921"
             ]
            ],
            "type": "contour"
           }
          ],
          "contourcarpet": [
           {
            "colorbar": {
             "outlinewidth": 0,
             "ticks": ""
            },
            "type": "contourcarpet"
           }
          ],
          "heatmap": [
           {
            "colorbar": {
             "outlinewidth": 0,
             "ticks": ""
            },
            "colorscale": [
             [
              0,
              "#0d0887"
             ],
             [
              0.1111111111111111,
              "#46039f"
             ],
             [
              0.2222222222222222,
              "#7201a8"
             ],
             [
              0.3333333333333333,
              "#9c179e"
             ],
             [
              0.4444444444444444,
              "#bd3786"
             ],
             [
              0.5555555555555556,
              "#d8576b"
             ],
             [
              0.6666666666666666,
              "#ed7953"
             ],
             [
              0.7777777777777778,
              "#fb9f3a"
             ],
             [
              0.8888888888888888,
              "#fdca26"
             ],
             [
              1,
              "#f0f921"
             ]
            ],
            "type": "heatmap"
           }
          ],
          "heatmapgl": [
           {
            "colorbar": {
             "outlinewidth": 0,
             "ticks": ""
            },
            "colorscale": [
             [
              0,
              "#0d0887"
             ],
             [
              0.1111111111111111,
              "#46039f"
             ],
             [
              0.2222222222222222,
              "#7201a8"
             ],
             [
              0.3333333333333333,
              "#9c179e"
             ],
             [
              0.4444444444444444,
              "#bd3786"
             ],
             [
              0.5555555555555556,
              "#d8576b"
             ],
             [
              0.6666666666666666,
              "#ed7953"
             ],
             [
              0.7777777777777778,
              "#fb9f3a"
             ],
             [
              0.8888888888888888,
              "#fdca26"
             ],
             [
              1,
              "#f0f921"
             ]
            ],
            "type": "heatmapgl"
           }
          ],
          "histogram": [
           {
            "marker": {
             "pattern": {
              "fillmode": "overlay",
              "size": 10,
              "solidity": 0.2
             }
            },
            "type": "histogram"
           }
          ],
          "histogram2d": [
           {
            "colorbar": {
             "outlinewidth": 0,
             "ticks": ""
            },
            "colorscale": [
             [
              0,
              "#0d0887"
             ],
             [
              0.1111111111111111,
              "#46039f"
             ],
             [
              0.2222222222222222,
              "#7201a8"
             ],
             [
              0.3333333333333333,
              "#9c179e"
             ],
             [
              0.4444444444444444,
              "#bd3786"
             ],
             [
              0.5555555555555556,
              "#d8576b"
             ],
             [
              0.6666666666666666,
              "#ed7953"
             ],
             [
              0.7777777777777778,
              "#fb9f3a"
             ],
             [
              0.8888888888888888,
              "#fdca26"
             ],
             [
              1,
              "#f0f921"
             ]
            ],
            "type": "histogram2d"
           }
          ],
          "histogram2dcontour": [
           {
            "colorbar": {
             "outlinewidth": 0,
             "ticks": ""
            },
            "colorscale": [
             [
              0,
              "#0d0887"
             ],
             [
              0.1111111111111111,
              "#46039f"
             ],
             [
              0.2222222222222222,
              "#7201a8"
             ],
             [
              0.3333333333333333,
              "#9c179e"
             ],
             [
              0.4444444444444444,
              "#bd3786"
             ],
             [
              0.5555555555555556,
              "#d8576b"
             ],
             [
              0.6666666666666666,
              "#ed7953"
             ],
             [
              0.7777777777777778,
              "#fb9f3a"
             ],
             [
              0.8888888888888888,
              "#fdca26"
             ],
             [
              1,
              "#f0f921"
             ]
            ],
            "type": "histogram2dcontour"
           }
          ],
          "mesh3d": [
           {
            "colorbar": {
             "outlinewidth": 0,
             "ticks": ""
            },
            "type": "mesh3d"
           }
          ],
          "parcoords": [
           {
            "line": {
             "colorbar": {
              "outlinewidth": 0,
              "ticks": ""
             }
            },
            "type": "parcoords"
           }
          ],
          "pie": [
           {
            "automargin": true,
            "type": "pie"
           }
          ],
          "scatter": [
           {
            "fillpattern": {
             "fillmode": "overlay",
             "size": 10,
             "solidity": 0.2
            },
            "type": "scatter"
           }
          ],
          "scatter3d": [
           {
            "line": {
             "colorbar": {
              "outlinewidth": 0,
              "ticks": ""
             }
            },
            "marker": {
             "colorbar": {
              "outlinewidth": 0,
              "ticks": ""
             }
            },
            "type": "scatter3d"
           }
          ],
          "scattercarpet": [
           {
            "marker": {
             "colorbar": {
              "outlinewidth": 0,
              "ticks": ""
             }
            },
            "type": "scattercarpet"
           }
          ],
          "scattergeo": [
           {
            "marker": {
             "colorbar": {
              "outlinewidth": 0,
              "ticks": ""
             }
            },
            "type": "scattergeo"
           }
          ],
          "scattergl": [
           {
            "marker": {
             "colorbar": {
              "outlinewidth": 0,
              "ticks": ""
             }
            },
            "type": "scattergl"
           }
          ],
          "scattermapbox": [
           {
            "marker": {
             "colorbar": {
              "outlinewidth": 0,
              "ticks": ""
             }
            },
            "type": "scattermapbox"
           }
          ],
          "scatterpolar": [
           {
            "marker": {
             "colorbar": {
              "outlinewidth": 0,
              "ticks": ""
             }
            },
            "type": "scatterpolar"
           }
          ],
          "scatterpolargl": [
           {
            "marker": {
             "colorbar": {
              "outlinewidth": 0,
              "ticks": ""
             }
            },
            "type": "scatterpolargl"
           }
          ],
          "scatterternary": [
           {
            "marker": {
             "colorbar": {
              "outlinewidth": 0,
              "ticks": ""
             }
            },
            "type": "scatterternary"
           }
          ],
          "surface": [
           {
            "colorbar": {
             "outlinewidth": 0,
             "ticks": ""
            },
            "colorscale": [
             [
              0,
              "#0d0887"
             ],
             [
              0.1111111111111111,
              "#46039f"
             ],
             [
              0.2222222222222222,
              "#7201a8"
             ],
             [
              0.3333333333333333,
              "#9c179e"
             ],
             [
              0.4444444444444444,
              "#bd3786"
             ],
             [
              0.5555555555555556,
              "#d8576b"
             ],
             [
              0.6666666666666666,
              "#ed7953"
             ],
             [
              0.7777777777777778,
              "#fb9f3a"
             ],
             [
              0.8888888888888888,
              "#fdca26"
             ],
             [
              1,
              "#f0f921"
             ]
            ],
            "type": "surface"
           }
          ],
          "table": [
           {
            "cells": {
             "fill": {
              "color": "#EBF0F8"
             },
             "line": {
              "color": "white"
             }
            },
            "header": {
             "fill": {
              "color": "#C8D4E3"
             },
             "line": {
              "color": "white"
             }
            },
            "type": "table"
           }
          ]
         },
         "layout": {
          "annotationdefaults": {
           "arrowcolor": "#2a3f5f",
           "arrowhead": 0,
           "arrowwidth": 1
          },
          "autotypenumbers": "strict",
          "coloraxis": {
           "colorbar": {
            "outlinewidth": 0,
            "ticks": ""
           }
          },
          "colorscale": {
           "diverging": [
            [
             0,
             "#8e0152"
            ],
            [
             0.1,
             "#c51b7d"
            ],
            [
             0.2,
             "#de77ae"
            ],
            [
             0.3,
             "#f1b6da"
            ],
            [
             0.4,
             "#fde0ef"
            ],
            [
             0.5,
             "#f7f7f7"
            ],
            [
             0.6,
             "#e6f5d0"
            ],
            [
             0.7,
             "#b8e186"
            ],
            [
             0.8,
             "#7fbc41"
            ],
            [
             0.9,
             "#4d9221"
            ],
            [
             1,
             "#276419"
            ]
           ],
           "sequential": [
            [
             0,
             "#0d0887"
            ],
            [
             0.1111111111111111,
             "#46039f"
            ],
            [
             0.2222222222222222,
             "#7201a8"
            ],
            [
             0.3333333333333333,
             "#9c179e"
            ],
            [
             0.4444444444444444,
             "#bd3786"
            ],
            [
             0.5555555555555556,
             "#d8576b"
            ],
            [
             0.6666666666666666,
             "#ed7953"
            ],
            [
             0.7777777777777778,
             "#fb9f3a"
            ],
            [
             0.8888888888888888,
             "#fdca26"
            ],
            [
             1,
             "#f0f921"
            ]
           ],
           "sequentialminus": [
            [
             0,
             "#0d0887"
            ],
            [
             0.1111111111111111,
             "#46039f"
            ],
            [
             0.2222222222222222,
             "#7201a8"
            ],
            [
             0.3333333333333333,
             "#9c179e"
            ],
            [
             0.4444444444444444,
             "#bd3786"
            ],
            [
             0.5555555555555556,
             "#d8576b"
            ],
            [
             0.6666666666666666,
             "#ed7953"
            ],
            [
             0.7777777777777778,
             "#fb9f3a"
            ],
            [
             0.8888888888888888,
             "#fdca26"
            ],
            [
             1,
             "#f0f921"
            ]
           ]
          },
          "colorway": [
           "#636efa",
           "#EF553B",
           "#00cc96",
           "#ab63fa",
           "#FFA15A",
           "#19d3f3",
           "#FF6692",
           "#B6E880",
           "#FF97FF",
           "#FECB52"
          ],
          "font": {
           "color": "#2a3f5f"
          },
          "geo": {
           "bgcolor": "white",
           "lakecolor": "white",
           "landcolor": "#E5ECF6",
           "showlakes": true,
           "showland": true,
           "subunitcolor": "white"
          },
          "hoverlabel": {
           "align": "left"
          },
          "hovermode": "closest",
          "mapbox": {
           "style": "light"
          },
          "paper_bgcolor": "white",
          "plot_bgcolor": "#E5ECF6",
          "polar": {
           "angularaxis": {
            "gridcolor": "white",
            "linecolor": "white",
            "ticks": ""
           },
           "bgcolor": "#E5ECF6",
           "radialaxis": {
            "gridcolor": "white",
            "linecolor": "white",
            "ticks": ""
           }
          },
          "scene": {
           "xaxis": {
            "backgroundcolor": "#E5ECF6",
            "gridcolor": "white",
            "gridwidth": 2,
            "linecolor": "white",
            "showbackground": true,
            "ticks": "",
            "zerolinecolor": "white"
           },
           "yaxis": {
            "backgroundcolor": "#E5ECF6",
            "gridcolor": "white",
            "gridwidth": 2,
            "linecolor": "white",
            "showbackground": true,
            "ticks": "",
            "zerolinecolor": "white"
           },
           "zaxis": {
            "backgroundcolor": "#E5ECF6",
            "gridcolor": "white",
            "gridwidth": 2,
            "linecolor": "white",
            "showbackground": true,
            "ticks": "",
            "zerolinecolor": "white"
           }
          },
          "shapedefaults": {
           "line": {
            "color": "#2a3f5f"
           }
          },
          "ternary": {
           "aaxis": {
            "gridcolor": "white",
            "linecolor": "white",
            "ticks": ""
           },
           "baxis": {
            "gridcolor": "white",
            "linecolor": "white",
            "ticks": ""
           },
           "bgcolor": "#E5ECF6",
           "caxis": {
            "gridcolor": "white",
            "linecolor": "white",
            "ticks": ""
           }
          },
          "title": {
           "x": 0.05
          },
          "xaxis": {
           "automargin": true,
           "gridcolor": "white",
           "linecolor": "white",
           "ticks": "",
           "title": {
            "standoff": 15
           },
           "zerolinecolor": "white",
           "zerolinewidth": 2
          },
          "yaxis": {
           "automargin": true,
           "gridcolor": "white",
           "linecolor": "white",
           "ticks": "",
           "title": {
            "standoff": 15
           },
           "zerolinecolor": "white",
           "zerolinewidth": 2
          }
         }
        },
        "title": {
         "text": "Trait Annotations Results Per Smililarity",
         "x": 0.22
        },
        "width": 800
       }
      }
     },
     "metadata": {},
     "output_type": "display_data"
    }
   ],
   "source": [
    "\n",
    "\n",
    "# Create subplots: use 'domain' type for Pie subplot\n",
    "fig = make_subplots(rows=1, cols=2, specs=[[{'type':'domain'}, {'type':'domain'}]])\n",
    "fig.add_trace(go.Pie(labels=labels, \n",
    "                     values=df_plot.loc[\"Bert\", labels].values,\n",
    "                     name=\"Bert Similarity\",\n",
    "                     sort=False,\n",
    "                     marker_colors=colors),\n",
    "              1, 1)\n",
    "fig.add_trace(go.Pie(labels=labels, \n",
    "                     values=df_plot.loc[\"Jacc\", labels].values,\n",
    "                     name=\"Jaccard Similarity\",\n",
    "                     sort=False,\n",
    "                     marker_colors=colors),\n",
    "              1, 2)\n",
    "\n",
    "# Use `hole` to create a donut-like pie chart\n",
    "fig.update_traces(hole=.6, hoverinfo=\"label+percent+name\",)\n",
    "\n",
    "fig.update_layout(\n",
    "    title_text=\"Trait Annotations Results Per Smililarity\", title_x=0.22,\n",
    "    # Add annotations in the center of the donut pies.\n",
    "    annotations=[dict(text='BERT', x=0.17, y=0.5, font_size=20, showarrow=False),\n",
    "                 dict(text='JACC', x=0.83, y=0.5, font_size=20, showarrow=False)],\n",
    "               #   legend={'traceorder':'normal'}\n",
    "              #  margin = dict(t=0, l=0, r=0, b=0),\n",
    "               width=800, height=400,\n",
    "                 )\n",
    "fig.show()\n",
    "\n",
    "\n",
    "folder_figures = \"../../../reports/figures/\"\n",
    "# file_name = \"PxPlot_HTML_SurveysPerSimilarity.html\"\n",
    "# fig.write_html(F\"{folder_figures}{file_name}\")\n",
    "file_name = \"PxPlot_PDF_SurveysPerSimilarity.pdf\"\n",
    "fig.write_image(F\"{folder_figures}{file_name}\")"
   ]
  },
  {
   "cell_type": "code",
   "execution_count": 16,
   "id": "d01fec20",
   "metadata": {},
   "outputs": [
    {
     "data": {
      "application/vnd.plotly.v1+json": {
       "config": {
        "plotlyServerURL": "https://plot.ly"
       },
       "data": [
        {
         "domain": {
          "x": [
           0,
           0.2888888888888889
          ],
          "y": [
           0.575,
           1
          ]
         },
         "hole": 0.4,
         "hoverinfo": "label+percent+name",
         "labels": [
          "None of the above",
          "Can infer correct Entity",
          "Can infer correct Quality",
          "Can infer correct Value"
         ],
         "marker": {
          "colors": [
           "#d62728",
           "#1f77b4",
           "goldenrod",
           "#2ca02c"
          ]
         },
         "name": "Jacc Palm",
         "sort": false,
         "type": "pie",
         "values": [
          46,
          38,
          16,
          30
         ]
        },
        {
         "domain": {
          "x": [
           0.35555555555555557,
           0.6444444444444445
          ],
          "y": [
           0.575,
           1
          ]
         },
         "hole": 0.4,
         "hoverinfo": "label+percent+name",
         "labels": [
          "None of the above",
          "Can infer correct Entity",
          "Can infer correct Quality",
          "Can infer correct Value"
         ],
         "marker": {
          "colors": [
           "#d62728",
           "#1f77b4",
           "goldenrod",
           "#2ca02c"
          ]
         },
         "name": "Jacc PlantNet",
         "sort": false,
         "type": "pie",
         "values": [
          89,
          50,
          12,
          58
         ]
        },
        {
         "domain": {
          "x": [
           0.7111111111111111,
           1
          ],
          "y": [
           0.575,
           1
          ]
         },
         "hole": 0.4,
         "hoverinfo": "label+percent+name",
         "labels": [
          "None of the above",
          "Can infer correct Entity",
          "Can infer correct Quality",
          "Can infer correct Value"
         ],
         "marker": {
          "colors": [
           "#d62728",
           "#1f77b4",
           "goldenrod",
           "#2ca02c"
          ]
         },
         "name": "Jacc Caribbean",
         "sort": false,
         "type": "pie",
         "values": [
          39,
          81,
          15,
          52
         ]
        },
        {
         "domain": {
          "x": [
           0,
           0.2888888888888889
          ],
          "y": [
           0,
           0.425
          ]
         },
         "hole": 0.4,
         "hoverinfo": "label+percent+name",
         "labels": [
          "None of the above",
          "Can infer correct Entity",
          "Can infer correct Quality",
          "Can infer correct Value"
         ],
         "marker": {
          "colors": [
           "#d62728",
           "#1f77b4",
           "goldenrod",
           "#2ca02c"
          ]
         },
         "name": "Bert Palm",
         "sort": false,
         "type": "pie",
         "values": [
          40,
          45,
          9,
          24
         ]
        },
        {
         "domain": {
          "x": [
           0.35555555555555557,
           0.6444444444444445
          ],
          "y": [
           0,
           0.425
          ]
         },
         "hole": 0.4,
         "hoverinfo": "label+percent+name",
         "labels": [
          "None of the above",
          "Can infer correct Entity",
          "Can infer correct Quality",
          "Can infer correct Value"
         ],
         "marker": {
          "colors": [
           "#d62728",
           "#1f77b4",
           "goldenrod",
           "#2ca02c"
          ]
         },
         "name": "Bert PlantNet",
         "sort": false,
         "type": "pie",
         "values": [
          150,
          76,
          26,
          76
         ]
        },
        {
         "domain": {
          "x": [
           0.7111111111111111,
           1
          ],
          "y": [
           0,
           0.425
          ]
         },
         "hole": 0.4,
         "hoverinfo": "label+percent+name",
         "labels": [
          "None of the above",
          "Can infer correct Entity",
          "Can infer correct Quality",
          "Can infer correct Value"
         ],
         "marker": {
          "colors": [
           "#d62728",
           "#1f77b4",
           "goldenrod",
           "#2ca02c"
          ]
         },
         "name": "Bert Caribbean",
         "sort": false,
         "type": "pie",
         "values": [
          90,
          72,
          18,
          49
         ]
        }
       ],
       "layout": {
        "annotations": [
         {
          "font": {
           "size": 15
          },
          "showarrow": false,
          "text": "PlantNet Dataset Bert",
          "x": 0.05,
          "y": 1.1
         },
         {
          "font": {
           "size": 15
          },
          "showarrow": false,
          "text": "Palm Dataset Bert",
          "x": 0.5,
          "y": 1.1
         },
         {
          "font": {
           "size": 15
          },
          "showarrow": false,
          "text": "Caribbean Dataset Bert",
          "x": 0.95,
          "y": 1.1
         },
         {
          "font": {
           "size": 15
          },
          "showarrow": false,
          "text": "PlantNet Dataset Jacc",
          "x": 0.05,
          "y": -0.12
         },
         {
          "font": {
           "size": 15
          },
          "showarrow": false,
          "text": "Palm Dataset Jacc",
          "x": 0.5,
          "y": -0.12
         },
         {
          "font": {
           "size": 15
          },
          "showarrow": false,
          "text": "Caribbean Dataset Jacc",
          "x": 0.95,
          "y": -0.12
         }
        ],
        "height": 400,
        "template": {
         "data": {
          "bar": [
           {
            "error_x": {
             "color": "#2a3f5f"
            },
            "error_y": {
             "color": "#2a3f5f"
            },
            "marker": {
             "line": {
              "color": "#E5ECF6",
              "width": 0.5
             },
             "pattern": {
              "fillmode": "overlay",
              "size": 10,
              "solidity": 0.2
             }
            },
            "type": "bar"
           }
          ],
          "barpolar": [
           {
            "marker": {
             "line": {
              "color": "#E5ECF6",
              "width": 0.5
             },
             "pattern": {
              "fillmode": "overlay",
              "size": 10,
              "solidity": 0.2
             }
            },
            "type": "barpolar"
           }
          ],
          "carpet": [
           {
            "aaxis": {
             "endlinecolor": "#2a3f5f",
             "gridcolor": "white",
             "linecolor": "white",
             "minorgridcolor": "white",
             "startlinecolor": "#2a3f5f"
            },
            "baxis": {
             "endlinecolor": "#2a3f5f",
             "gridcolor": "white",
             "linecolor": "white",
             "minorgridcolor": "white",
             "startlinecolor": "#2a3f5f"
            },
            "type": "carpet"
           }
          ],
          "choropleth": [
           {
            "colorbar": {
             "outlinewidth": 0,
             "ticks": ""
            },
            "type": "choropleth"
           }
          ],
          "contour": [
           {
            "colorbar": {
             "outlinewidth": 0,
             "ticks": ""
            },
            "colorscale": [
             [
              0,
              "#0d0887"
             ],
             [
              0.1111111111111111,
              "#46039f"
             ],
             [
              0.2222222222222222,
              "#7201a8"
             ],
             [
              0.3333333333333333,
              "#9c179e"
             ],
             [
              0.4444444444444444,
              "#bd3786"
             ],
             [
              0.5555555555555556,
              "#d8576b"
             ],
             [
              0.6666666666666666,
              "#ed7953"
             ],
             [
              0.7777777777777778,
              "#fb9f3a"
             ],
             [
              0.8888888888888888,
              "#fdca26"
             ],
             [
              1,
              "#f0f921"
             ]
            ],
            "type": "contour"
           }
          ],
          "contourcarpet": [
           {
            "colorbar": {
             "outlinewidth": 0,
             "ticks": ""
            },
            "type": "contourcarpet"
           }
          ],
          "heatmap": [
           {
            "colorbar": {
             "outlinewidth": 0,
             "ticks": ""
            },
            "colorscale": [
             [
              0,
              "#0d0887"
             ],
             [
              0.1111111111111111,
              "#46039f"
             ],
             [
              0.2222222222222222,
              "#7201a8"
             ],
             [
              0.3333333333333333,
              "#9c179e"
             ],
             [
              0.4444444444444444,
              "#bd3786"
             ],
             [
              0.5555555555555556,
              "#d8576b"
             ],
             [
              0.6666666666666666,
              "#ed7953"
             ],
             [
              0.7777777777777778,
              "#fb9f3a"
             ],
             [
              0.8888888888888888,
              "#fdca26"
             ],
             [
              1,
              "#f0f921"
             ]
            ],
            "type": "heatmap"
           }
          ],
          "heatmapgl": [
           {
            "colorbar": {
             "outlinewidth": 0,
             "ticks": ""
            },
            "colorscale": [
             [
              0,
              "#0d0887"
             ],
             [
              0.1111111111111111,
              "#46039f"
             ],
             [
              0.2222222222222222,
              "#7201a8"
             ],
             [
              0.3333333333333333,
              "#9c179e"
             ],
             [
              0.4444444444444444,
              "#bd3786"
             ],
             [
              0.5555555555555556,
              "#d8576b"
             ],
             [
              0.6666666666666666,
              "#ed7953"
             ],
             [
              0.7777777777777778,
              "#fb9f3a"
             ],
             [
              0.8888888888888888,
              "#fdca26"
             ],
             [
              1,
              "#f0f921"
             ]
            ],
            "type": "heatmapgl"
           }
          ],
          "histogram": [
           {
            "marker": {
             "pattern": {
              "fillmode": "overlay",
              "size": 10,
              "solidity": 0.2
             }
            },
            "type": "histogram"
           }
          ],
          "histogram2d": [
           {
            "colorbar": {
             "outlinewidth": 0,
             "ticks": ""
            },
            "colorscale": [
             [
              0,
              "#0d0887"
             ],
             [
              0.1111111111111111,
              "#46039f"
             ],
             [
              0.2222222222222222,
              "#7201a8"
             ],
             [
              0.3333333333333333,
              "#9c179e"
             ],
             [
              0.4444444444444444,
              "#bd3786"
             ],
             [
              0.5555555555555556,
              "#d8576b"
             ],
             [
              0.6666666666666666,
              "#ed7953"
             ],
             [
              0.7777777777777778,
              "#fb9f3a"
             ],
             [
              0.8888888888888888,
              "#fdca26"
             ],
             [
              1,
              "#f0f921"
             ]
            ],
            "type": "histogram2d"
           }
          ],
          "histogram2dcontour": [
           {
            "colorbar": {
             "outlinewidth": 0,
             "ticks": ""
            },
            "colorscale": [
             [
              0,
              "#0d0887"
             ],
             [
              0.1111111111111111,
              "#46039f"
             ],
             [
              0.2222222222222222,
              "#7201a8"
             ],
             [
              0.3333333333333333,
              "#9c179e"
             ],
             [
              0.4444444444444444,
              "#bd3786"
             ],
             [
              0.5555555555555556,
              "#d8576b"
             ],
             [
              0.6666666666666666,
              "#ed7953"
             ],
             [
              0.7777777777777778,
              "#fb9f3a"
             ],
             [
              0.8888888888888888,
              "#fdca26"
             ],
             [
              1,
              "#f0f921"
             ]
            ],
            "type": "histogram2dcontour"
           }
          ],
          "mesh3d": [
           {
            "colorbar": {
             "outlinewidth": 0,
             "ticks": ""
            },
            "type": "mesh3d"
           }
          ],
          "parcoords": [
           {
            "line": {
             "colorbar": {
              "outlinewidth": 0,
              "ticks": ""
             }
            },
            "type": "parcoords"
           }
          ],
          "pie": [
           {
            "automargin": true,
            "type": "pie"
           }
          ],
          "scatter": [
           {
            "fillpattern": {
             "fillmode": "overlay",
             "size": 10,
             "solidity": 0.2
            },
            "type": "scatter"
           }
          ],
          "scatter3d": [
           {
            "line": {
             "colorbar": {
              "outlinewidth": 0,
              "ticks": ""
             }
            },
            "marker": {
             "colorbar": {
              "outlinewidth": 0,
              "ticks": ""
             }
            },
            "type": "scatter3d"
           }
          ],
          "scattercarpet": [
           {
            "marker": {
             "colorbar": {
              "outlinewidth": 0,
              "ticks": ""
             }
            },
            "type": "scattercarpet"
           }
          ],
          "scattergeo": [
           {
            "marker": {
             "colorbar": {
              "outlinewidth": 0,
              "ticks": ""
             }
            },
            "type": "scattergeo"
           }
          ],
          "scattergl": [
           {
            "marker": {
             "colorbar": {
              "outlinewidth": 0,
              "ticks": ""
             }
            },
            "type": "scattergl"
           }
          ],
          "scattermapbox": [
           {
            "marker": {
             "colorbar": {
              "outlinewidth": 0,
              "ticks": ""
             }
            },
            "type": "scattermapbox"
           }
          ],
          "scatterpolar": [
           {
            "marker": {
             "colorbar": {
              "outlinewidth": 0,
              "ticks": ""
             }
            },
            "type": "scatterpolar"
           }
          ],
          "scatterpolargl": [
           {
            "marker": {
             "colorbar": {
              "outlinewidth": 0,
              "ticks": ""
             }
            },
            "type": "scatterpolargl"
           }
          ],
          "scatterternary": [
           {
            "marker": {
             "colorbar": {
              "outlinewidth": 0,
              "ticks": ""
             }
            },
            "type": "scatterternary"
           }
          ],
          "surface": [
           {
            "colorbar": {
             "outlinewidth": 0,
             "ticks": ""
            },
            "colorscale": [
             [
              0,
              "#0d0887"
             ],
             [
              0.1111111111111111,
              "#46039f"
             ],
             [
              0.2222222222222222,
              "#7201a8"
             ],
             [
              0.3333333333333333,
              "#9c179e"
             ],
             [
              0.4444444444444444,
              "#bd3786"
             ],
             [
              0.5555555555555556,
              "#d8576b"
             ],
             [
              0.6666666666666666,
              "#ed7953"
             ],
             [
              0.7777777777777778,
              "#fb9f3a"
             ],
             [
              0.8888888888888888,
              "#fdca26"
             ],
             [
              1,
              "#f0f921"
             ]
            ],
            "type": "surface"
           }
          ],
          "table": [
           {
            "cells": {
             "fill": {
              "color": "#EBF0F8"
             },
             "line": {
              "color": "white"
             }
            },
            "header": {
             "fill": {
              "color": "#C8D4E3"
             },
             "line": {
              "color": "white"
             }
            },
            "type": "table"
           }
          ]
         },
         "layout": {
          "annotationdefaults": {
           "arrowcolor": "#2a3f5f",
           "arrowhead": 0,
           "arrowwidth": 1
          },
          "autotypenumbers": "strict",
          "coloraxis": {
           "colorbar": {
            "outlinewidth": 0,
            "ticks": ""
           }
          },
          "colorscale": {
           "diverging": [
            [
             0,
             "#8e0152"
            ],
            [
             0.1,
             "#c51b7d"
            ],
            [
             0.2,
             "#de77ae"
            ],
            [
             0.3,
             "#f1b6da"
            ],
            [
             0.4,
             "#fde0ef"
            ],
            [
             0.5,
             "#f7f7f7"
            ],
            [
             0.6,
             "#e6f5d0"
            ],
            [
             0.7,
             "#b8e186"
            ],
            [
             0.8,
             "#7fbc41"
            ],
            [
             0.9,
             "#4d9221"
            ],
            [
             1,
             "#276419"
            ]
           ],
           "sequential": [
            [
             0,
             "#0d0887"
            ],
            [
             0.1111111111111111,
             "#46039f"
            ],
            [
             0.2222222222222222,
             "#7201a8"
            ],
            [
             0.3333333333333333,
             "#9c179e"
            ],
            [
             0.4444444444444444,
             "#bd3786"
            ],
            [
             0.5555555555555556,
             "#d8576b"
            ],
            [
             0.6666666666666666,
             "#ed7953"
            ],
            [
             0.7777777777777778,
             "#fb9f3a"
            ],
            [
             0.8888888888888888,
             "#fdca26"
            ],
            [
             1,
             "#f0f921"
            ]
           ],
           "sequentialminus": [
            [
             0,
             "#0d0887"
            ],
            [
             0.1111111111111111,
             "#46039f"
            ],
            [
             0.2222222222222222,
             "#7201a8"
            ],
            [
             0.3333333333333333,
             "#9c179e"
            ],
            [
             0.4444444444444444,
             "#bd3786"
            ],
            [
             0.5555555555555556,
             "#d8576b"
            ],
            [
             0.6666666666666666,
             "#ed7953"
            ],
            [
             0.7777777777777778,
             "#fb9f3a"
            ],
            [
             0.8888888888888888,
             "#fdca26"
            ],
            [
             1,
             "#f0f921"
            ]
           ]
          },
          "colorway": [
           "#636efa",
           "#EF553B",
           "#00cc96",
           "#ab63fa",
           "#FFA15A",
           "#19d3f3",
           "#FF6692",
           "#B6E880",
           "#FF97FF",
           "#FECB52"
          ],
          "font": {
           "color": "#2a3f5f"
          },
          "geo": {
           "bgcolor": "white",
           "lakecolor": "white",
           "landcolor": "#E5ECF6",
           "showlakes": true,
           "showland": true,
           "subunitcolor": "white"
          },
          "hoverlabel": {
           "align": "left"
          },
          "hovermode": "closest",
          "mapbox": {
           "style": "light"
          },
          "paper_bgcolor": "white",
          "plot_bgcolor": "#E5ECF6",
          "polar": {
           "angularaxis": {
            "gridcolor": "white",
            "linecolor": "white",
            "ticks": ""
           },
           "bgcolor": "#E5ECF6",
           "radialaxis": {
            "gridcolor": "white",
            "linecolor": "white",
            "ticks": ""
           }
          },
          "scene": {
           "xaxis": {
            "backgroundcolor": "#E5ECF6",
            "gridcolor": "white",
            "gridwidth": 2,
            "linecolor": "white",
            "showbackground": true,
            "ticks": "",
            "zerolinecolor": "white"
           },
           "yaxis": {
            "backgroundcolor": "#E5ECF6",
            "gridcolor": "white",
            "gridwidth": 2,
            "linecolor": "white",
            "showbackground": true,
            "ticks": "",
            "zerolinecolor": "white"
           },
           "zaxis": {
            "backgroundcolor": "#E5ECF6",
            "gridcolor": "white",
            "gridwidth": 2,
            "linecolor": "white",
            "showbackground": true,
            "ticks": "",
            "zerolinecolor": "white"
           }
          },
          "shapedefaults": {
           "line": {
            "color": "#2a3f5f"
           }
          },
          "ternary": {
           "aaxis": {
            "gridcolor": "white",
            "linecolor": "white",
            "ticks": ""
           },
           "baxis": {
            "gridcolor": "white",
            "linecolor": "white",
            "ticks": ""
           },
           "bgcolor": "#E5ECF6",
           "caxis": {
            "gridcolor": "white",
            "linecolor": "white",
            "ticks": ""
           }
          },
          "title": {
           "x": 0.05
          },
          "xaxis": {
           "automargin": true,
           "gridcolor": "white",
           "linecolor": "white",
           "ticks": "",
           "title": {
            "standoff": 15
           },
           "zerolinecolor": "white",
           "zerolinewidth": 2
          },
          "yaxis": {
           "automargin": true,
           "gridcolor": "white",
           "linecolor": "white",
           "ticks": "",
           "title": {
            "standoff": 15
           },
           "zerolinecolor": "white",
           "zerolinewidth": 2
          }
         }
        },
        "width": 1200
       }
      }
     },
     "metadata": {},
     "output_type": "display_data"
    }
   ],
   "source": [
    "\n",
    "# Create subplots: use 'domain' type for Pie subplot\n",
    "fig = make_subplots(rows=2, cols=3, specs=[[{'type':'domain'}, {'type':'domain'}, {'type':'domain'}],\n",
    "                                           [{'type':'domain'}, {'type':'domain'}, {'type':'domain'}]])\n",
    "\n",
    "# Add pie charts to each subplot\n",
    "for i, sim in enumerate(df[\"SIM\"].unique()):\n",
    "    for j, dataset in enumerate(df[\"Dataset\"].unique()):\n",
    "        df_sub = df[(df[\"SIM\"] == sim) & (df[\"Dataset\"] == dataset)]\n",
    "        fig.add_trace(go.Pie(labels=labels, \n",
    "                             values=df_sub.groupby(\"Result\").count().loc[labels, 'Species'].values,\n",
    "                             name=sim + ' ' + dataset,\n",
    "                             sort=False,\n",
    "                             marker_colors=colors),\n",
    "                      i+1, j+1)\n",
    "\n",
    "# Use `hole` to create a donut-like pie chart\n",
    "fig.update_traces(hole=.4, hoverinfo=\"label+percent+name\")\n",
    "\n",
    "fig.update_layout(\n",
    "    # title_text=\"Trait Annotation\",\n",
    "    # Add annotations in the center of the donut pies.\n",
    "    annotations=[dict(text='PlantNet Dataset Bert',  x=0.050, y=1.1, font_size=15, showarrow=False),\n",
    "                 dict(text='Palm Dataset Bert',      x=0.500, y=1.1, font_size=15, showarrow=False),\n",
    "                 dict(text='Caribbean Dataset Bert', x=0.950, y=1.1, font_size=15, showarrow=False),\n",
    "                 dict(text='PlantNet Dataset Jacc',  x=0.050, y=-0.12, font_size=15, showarrow=False),\n",
    "                 dict(text='Palm Dataset Jacc',      x=0.500, y=-0.12, font_size=15, showarrow=False),\n",
    "                 dict(text='Caribbean Dataset Jacc', x=0.950, y=-0.12, font_size=15, showarrow=False)],\n",
    "            #    margin = dict(t=0, l=0, r=0, b=0),\n",
    "               width=1200, height=400,\n",
    "\n",
    ")\n",
    "\n",
    "fig.show()\n",
    "\n",
    "# folder_figures = \"../../../reports/figures/\"\n",
    "# file_name = \"PxPlot_HTML_SurveysPerDatasetPerSimilarity.html\"\n",
    "fig.write_html(F\"{folder_figures}{file_name}\")\n",
    "file_name = \"PxPlot_PDF_SurveysPerDatasetPerSimilarity.pdf\"\n",
    "fig.write_image(F\"{folder_figures}{file_name}\")"
   ]
  },
  {
   "cell_type": "code",
   "execution_count": 20,
   "id": "e6b47461",
   "metadata": {},
   "outputs": [
    {
     "data": {
      "application/vnd.plotly.v1+json": {
       "config": {
        "plotlyServerURL": "https://plot.ly"
       },
       "data": [
        {
         "direction": "clockwise",
         "domain": {
          "x": [
           0,
           0.2888888888888889
          ],
          "y": [
           0,
           1
          ]
         },
         "hole": 0.6,
         "hoverinfo": "label+percent+value",
         "labels": [
          "None of the above",
          "Can infer correct Entity",
          "Can infer correct Quality",
          "Can infer correct Value"
         ],
         "marker": {
          "colors": [
           "#d62728",
           "#1f77b4",
           "goldenrod",
           "#2ca02c"
          ]
         },
         "name": "Palm",
         "sort": false,
         "type": "pie",
         "values": [
          86,
          83,
          25,
          54
         ]
        },
        {
         "direction": "clockwise",
         "domain": {
          "x": [
           0.35555555555555557,
           0.6444444444444445
          ],
          "y": [
           0,
           1
          ]
         },
         "hole": 0.6,
         "hoverinfo": "label+percent+value",
         "labels": [
          "None of the above",
          "Can infer correct Entity",
          "Can infer correct Quality",
          "Can infer correct Value"
         ],
         "marker": {
          "colors": [
           "#d62728",
           "#1f77b4",
           "goldenrod",
           "#2ca02c"
          ]
         },
         "name": "PlantNet",
         "sort": false,
         "type": "pie",
         "values": [
          239,
          126,
          38,
          134
         ]
        },
        {
         "direction": "clockwise",
         "domain": {
          "x": [
           0.7111111111111111,
           1
          ],
          "y": [
           0,
           1
          ]
         },
         "hole": 0.6,
         "hoverinfo": "label+percent+value",
         "labels": [
          "None of the above",
          "Can infer correct Entity",
          "Can infer correct Quality",
          "Can infer correct Value"
         ],
         "marker": {
          "colors": [
           "#d62728",
           "#1f77b4",
           "goldenrod",
           "#2ca02c"
          ]
         },
         "name": "Caribbean",
         "sort": false,
         "type": "pie",
         "values": [
          129,
          153,
          33,
          101
         ]
        }
       ],
       "layout": {
        "annotations": [
         {
          "font": {
           "size": 15
          },
          "showarrow": false,
          "text": "PlantNet Dataset",
          "x": 0.07,
          "y": 0.5
         },
         {
          "font": {
           "size": 15
          },
          "showarrow": false,
          "text": "Palm Dataset",
          "x": 0.5,
          "y": 0.5
         },
         {
          "font": {
           "size": 15
          },
          "showarrow": false,
          "text": "Caribbean Dataset",
          "x": 0.935,
          "y": 0.5
         }
        ],
        "height": 400,
        "template": {
         "data": {
          "bar": [
           {
            "error_x": {
             "color": "#2a3f5f"
            },
            "error_y": {
             "color": "#2a3f5f"
            },
            "marker": {
             "line": {
              "color": "#E5ECF6",
              "width": 0.5
             },
             "pattern": {
              "fillmode": "overlay",
              "size": 10,
              "solidity": 0.2
             }
            },
            "type": "bar"
           }
          ],
          "barpolar": [
           {
            "marker": {
             "line": {
              "color": "#E5ECF6",
              "width": 0.5
             },
             "pattern": {
              "fillmode": "overlay",
              "size": 10,
              "solidity": 0.2
             }
            },
            "type": "barpolar"
           }
          ],
          "carpet": [
           {
            "aaxis": {
             "endlinecolor": "#2a3f5f",
             "gridcolor": "white",
             "linecolor": "white",
             "minorgridcolor": "white",
             "startlinecolor": "#2a3f5f"
            },
            "baxis": {
             "endlinecolor": "#2a3f5f",
             "gridcolor": "white",
             "linecolor": "white",
             "minorgridcolor": "white",
             "startlinecolor": "#2a3f5f"
            },
            "type": "carpet"
           }
          ],
          "choropleth": [
           {
            "colorbar": {
             "outlinewidth": 0,
             "ticks": ""
            },
            "type": "choropleth"
           }
          ],
          "contour": [
           {
            "colorbar": {
             "outlinewidth": 0,
             "ticks": ""
            },
            "colorscale": [
             [
              0,
              "#0d0887"
             ],
             [
              0.1111111111111111,
              "#46039f"
             ],
             [
              0.2222222222222222,
              "#7201a8"
             ],
             [
              0.3333333333333333,
              "#9c179e"
             ],
             [
              0.4444444444444444,
              "#bd3786"
             ],
             [
              0.5555555555555556,
              "#d8576b"
             ],
             [
              0.6666666666666666,
              "#ed7953"
             ],
             [
              0.7777777777777778,
              "#fb9f3a"
             ],
             [
              0.8888888888888888,
              "#fdca26"
             ],
             [
              1,
              "#f0f921"
             ]
            ],
            "type": "contour"
           }
          ],
          "contourcarpet": [
           {
            "colorbar": {
             "outlinewidth": 0,
             "ticks": ""
            },
            "type": "contourcarpet"
           }
          ],
          "heatmap": [
           {
            "colorbar": {
             "outlinewidth": 0,
             "ticks": ""
            },
            "colorscale": [
             [
              0,
              "#0d0887"
             ],
             [
              0.1111111111111111,
              "#46039f"
             ],
             [
              0.2222222222222222,
              "#7201a8"
             ],
             [
              0.3333333333333333,
              "#9c179e"
             ],
             [
              0.4444444444444444,
              "#bd3786"
             ],
             [
              0.5555555555555556,
              "#d8576b"
             ],
             [
              0.6666666666666666,
              "#ed7953"
             ],
             [
              0.7777777777777778,
              "#fb9f3a"
             ],
             [
              0.8888888888888888,
              "#fdca26"
             ],
             [
              1,
              "#f0f921"
             ]
            ],
            "type": "heatmap"
           }
          ],
          "heatmapgl": [
           {
            "colorbar": {
             "outlinewidth": 0,
             "ticks": ""
            },
            "colorscale": [
             [
              0,
              "#0d0887"
             ],
             [
              0.1111111111111111,
              "#46039f"
             ],
             [
              0.2222222222222222,
              "#7201a8"
             ],
             [
              0.3333333333333333,
              "#9c179e"
             ],
             [
              0.4444444444444444,
              "#bd3786"
             ],
             [
              0.5555555555555556,
              "#d8576b"
             ],
             [
              0.6666666666666666,
              "#ed7953"
             ],
             [
              0.7777777777777778,
              "#fb9f3a"
             ],
             [
              0.8888888888888888,
              "#fdca26"
             ],
             [
              1,
              "#f0f921"
             ]
            ],
            "type": "heatmapgl"
           }
          ],
          "histogram": [
           {
            "marker": {
             "pattern": {
              "fillmode": "overlay",
              "size": 10,
              "solidity": 0.2
             }
            },
            "type": "histogram"
           }
          ],
          "histogram2d": [
           {
            "colorbar": {
             "outlinewidth": 0,
             "ticks": ""
            },
            "colorscale": [
             [
              0,
              "#0d0887"
             ],
             [
              0.1111111111111111,
              "#46039f"
             ],
             [
              0.2222222222222222,
              "#7201a8"
             ],
             [
              0.3333333333333333,
              "#9c179e"
             ],
             [
              0.4444444444444444,
              "#bd3786"
             ],
             [
              0.5555555555555556,
              "#d8576b"
             ],
             [
              0.6666666666666666,
              "#ed7953"
             ],
             [
              0.7777777777777778,
              "#fb9f3a"
             ],
             [
              0.8888888888888888,
              "#fdca26"
             ],
             [
              1,
              "#f0f921"
             ]
            ],
            "type": "histogram2d"
           }
          ],
          "histogram2dcontour": [
           {
            "colorbar": {
             "outlinewidth": 0,
             "ticks": ""
            },
            "colorscale": [
             [
              0,
              "#0d0887"
             ],
             [
              0.1111111111111111,
              "#46039f"
             ],
             [
              0.2222222222222222,
              "#7201a8"
             ],
             [
              0.3333333333333333,
              "#9c179e"
             ],
             [
              0.4444444444444444,
              "#bd3786"
             ],
             [
              0.5555555555555556,
              "#d8576b"
             ],
             [
              0.6666666666666666,
              "#ed7953"
             ],
             [
              0.7777777777777778,
              "#fb9f3a"
             ],
             [
              0.8888888888888888,
              "#fdca26"
             ],
             [
              1,
              "#f0f921"
             ]
            ],
            "type": "histogram2dcontour"
           }
          ],
          "mesh3d": [
           {
            "colorbar": {
             "outlinewidth": 0,
             "ticks": ""
            },
            "type": "mesh3d"
           }
          ],
          "parcoords": [
           {
            "line": {
             "colorbar": {
              "outlinewidth": 0,
              "ticks": ""
             }
            },
            "type": "parcoords"
           }
          ],
          "pie": [
           {
            "automargin": true,
            "type": "pie"
           }
          ],
          "scatter": [
           {
            "fillpattern": {
             "fillmode": "overlay",
             "size": 10,
             "solidity": 0.2
            },
            "type": "scatter"
           }
          ],
          "scatter3d": [
           {
            "line": {
             "colorbar": {
              "outlinewidth": 0,
              "ticks": ""
             }
            },
            "marker": {
             "colorbar": {
              "outlinewidth": 0,
              "ticks": ""
             }
            },
            "type": "scatter3d"
           }
          ],
          "scattercarpet": [
           {
            "marker": {
             "colorbar": {
              "outlinewidth": 0,
              "ticks": ""
             }
            },
            "type": "scattercarpet"
           }
          ],
          "scattergeo": [
           {
            "marker": {
             "colorbar": {
              "outlinewidth": 0,
              "ticks": ""
             }
            },
            "type": "scattergeo"
           }
          ],
          "scattergl": [
           {
            "marker": {
             "colorbar": {
              "outlinewidth": 0,
              "ticks": ""
             }
            },
            "type": "scattergl"
           }
          ],
          "scattermapbox": [
           {
            "marker": {
             "colorbar": {
              "outlinewidth": 0,
              "ticks": ""
             }
            },
            "type": "scattermapbox"
           }
          ],
          "scatterpolar": [
           {
            "marker": {
             "colorbar": {
              "outlinewidth": 0,
              "ticks": ""
             }
            },
            "type": "scatterpolar"
           }
          ],
          "scatterpolargl": [
           {
            "marker": {
             "colorbar": {
              "outlinewidth": 0,
              "ticks": ""
             }
            },
            "type": "scatterpolargl"
           }
          ],
          "scatterternary": [
           {
            "marker": {
             "colorbar": {
              "outlinewidth": 0,
              "ticks": ""
             }
            },
            "type": "scatterternary"
           }
          ],
          "surface": [
           {
            "colorbar": {
             "outlinewidth": 0,
             "ticks": ""
            },
            "colorscale": [
             [
              0,
              "#0d0887"
             ],
             [
              0.1111111111111111,
              "#46039f"
             ],
             [
              0.2222222222222222,
              "#7201a8"
             ],
             [
              0.3333333333333333,
              "#9c179e"
             ],
             [
              0.4444444444444444,
              "#bd3786"
             ],
             [
              0.5555555555555556,
              "#d8576b"
             ],
             [
              0.6666666666666666,
              "#ed7953"
             ],
             [
              0.7777777777777778,
              "#fb9f3a"
             ],
             [
              0.8888888888888888,
              "#fdca26"
             ],
             [
              1,
              "#f0f921"
             ]
            ],
            "type": "surface"
           }
          ],
          "table": [
           {
            "cells": {
             "fill": {
              "color": "#EBF0F8"
             },
             "line": {
              "color": "white"
             }
            },
            "header": {
             "fill": {
              "color": "#C8D4E3"
             },
             "line": {
              "color": "white"
             }
            },
            "type": "table"
           }
          ]
         },
         "layout": {
          "annotationdefaults": {
           "arrowcolor": "#2a3f5f",
           "arrowhead": 0,
           "arrowwidth": 1
          },
          "autotypenumbers": "strict",
          "coloraxis": {
           "colorbar": {
            "outlinewidth": 0,
            "ticks": ""
           }
          },
          "colorscale": {
           "diverging": [
            [
             0,
             "#8e0152"
            ],
            [
             0.1,
             "#c51b7d"
            ],
            [
             0.2,
             "#de77ae"
            ],
            [
             0.3,
             "#f1b6da"
            ],
            [
             0.4,
             "#fde0ef"
            ],
            [
             0.5,
             "#f7f7f7"
            ],
            [
             0.6,
             "#e6f5d0"
            ],
            [
             0.7,
             "#b8e186"
            ],
            [
             0.8,
             "#7fbc41"
            ],
            [
             0.9,
             "#4d9221"
            ],
            [
             1,
             "#276419"
            ]
           ],
           "sequential": [
            [
             0,
             "#0d0887"
            ],
            [
             0.1111111111111111,
             "#46039f"
            ],
            [
             0.2222222222222222,
             "#7201a8"
            ],
            [
             0.3333333333333333,
             "#9c179e"
            ],
            [
             0.4444444444444444,
             "#bd3786"
            ],
            [
             0.5555555555555556,
             "#d8576b"
            ],
            [
             0.6666666666666666,
             "#ed7953"
            ],
            [
             0.7777777777777778,
             "#fb9f3a"
            ],
            [
             0.8888888888888888,
             "#fdca26"
            ],
            [
             1,
             "#f0f921"
            ]
           ],
           "sequentialminus": [
            [
             0,
             "#0d0887"
            ],
            [
             0.1111111111111111,
             "#46039f"
            ],
            [
             0.2222222222222222,
             "#7201a8"
            ],
            [
             0.3333333333333333,
             "#9c179e"
            ],
            [
             0.4444444444444444,
             "#bd3786"
            ],
            [
             0.5555555555555556,
             "#d8576b"
            ],
            [
             0.6666666666666666,
             "#ed7953"
            ],
            [
             0.7777777777777778,
             "#fb9f3a"
            ],
            [
             0.8888888888888888,
             "#fdca26"
            ],
            [
             1,
             "#f0f921"
            ]
           ]
          },
          "colorway": [
           "#636efa",
           "#EF553B",
           "#00cc96",
           "#ab63fa",
           "#FFA15A",
           "#19d3f3",
           "#FF6692",
           "#B6E880",
           "#FF97FF",
           "#FECB52"
          ],
          "font": {
           "color": "#2a3f5f"
          },
          "geo": {
           "bgcolor": "white",
           "lakecolor": "white",
           "landcolor": "#E5ECF6",
           "showlakes": true,
           "showland": true,
           "subunitcolor": "white"
          },
          "hoverlabel": {
           "align": "left"
          },
          "hovermode": "closest",
          "mapbox": {
           "style": "light"
          },
          "paper_bgcolor": "white",
          "plot_bgcolor": "#E5ECF6",
          "polar": {
           "angularaxis": {
            "gridcolor": "white",
            "linecolor": "white",
            "ticks": ""
           },
           "bgcolor": "#E5ECF6",
           "radialaxis": {
            "gridcolor": "white",
            "linecolor": "white",
            "ticks": ""
           }
          },
          "scene": {
           "xaxis": {
            "backgroundcolor": "#E5ECF6",
            "gridcolor": "white",
            "gridwidth": 2,
            "linecolor": "white",
            "showbackground": true,
            "ticks": "",
            "zerolinecolor": "white"
           },
           "yaxis": {
            "backgroundcolor": "#E5ECF6",
            "gridcolor": "white",
            "gridwidth": 2,
            "linecolor": "white",
            "showbackground": true,
            "ticks": "",
            "zerolinecolor": "white"
           },
           "zaxis": {
            "backgroundcolor": "#E5ECF6",
            "gridcolor": "white",
            "gridwidth": 2,
            "linecolor": "white",
            "showbackground": true,
            "ticks": "",
            "zerolinecolor": "white"
           }
          },
          "shapedefaults": {
           "line": {
            "color": "#2a3f5f"
           }
          },
          "ternary": {
           "aaxis": {
            "gridcolor": "white",
            "linecolor": "white",
            "ticks": ""
           },
           "baxis": {
            "gridcolor": "white",
            "linecolor": "white",
            "ticks": ""
           },
           "bgcolor": "#E5ECF6",
           "caxis": {
            "gridcolor": "white",
            "linecolor": "white",
            "ticks": ""
           }
          },
          "title": {
           "x": 0.05
          },
          "xaxis": {
           "automargin": true,
           "gridcolor": "white",
           "linecolor": "white",
           "ticks": "",
           "title": {
            "standoff": 15
           },
           "zerolinecolor": "white",
           "zerolinewidth": 2
          },
          "yaxis": {
           "automargin": true,
           "gridcolor": "white",
           "linecolor": "white",
           "ticks": "",
           "title": {
            "standoff": 15
           },
           "zerolinecolor": "white",
           "zerolinewidth": 2
          }
         }
        },
        "width": 1200
       }
      }
     },
     "metadata": {},
     "output_type": "display_data"
    }
   ],
   "source": [
    "# Create subplots: use 'domain' type for Pie subplot\n",
    "fig = make_subplots(rows=1, cols=3, specs=[[{'type':'domain'}, {'type':'domain'}, {'type':'domain'}]])\n",
    "\n",
    "# Add pie charts to each subplot\n",
    "for i, dataset in enumerate(df[\"Dataset\"].unique()):\n",
    "    df_sub = df[df[\"Dataset\"] == dataset]\n",
    "    fig.add_trace(go.Pie(labels=labels, \n",
    "                            values=df_sub.groupby(\"Result\").count().loc[labels, 'Species'].values,\n",
    "                            name=dataset,\n",
    "                            direction ='clockwise',\n",
    "                            sort=False,\n",
    "                            marker_colors=colors),                   \n",
    "                    col=i+1, row=1,)\n",
    "\n",
    "# Use `hole` to create a donut-like pie chart\n",
    "fig.update_traces(hole=.6, hoverinfo=\"label+percent+value\")\n",
    "\n",
    "fig.update_layout(\n",
    "    # Add annotations in the center of the donut pies.\n",
    "    annotations=[dict(text='PlantNet Dataset',  x=0.07, y=0.5, font_size=15, showarrow=False),\n",
    "                 dict(text='Palm Dataset',      x=0.500, y=0.5, font_size=15, showarrow=False),\n",
    "                 dict(text='Caribbean Dataset', x=0.935, y=0.5, font_size=15, showarrow=False)],\n",
    "    #  margin = dict(t=0, l=0, r=0, b=0),\n",
    "    width=1200, height=400,\n",
    "                 )\n",
    "\n",
    "fig.show()\n",
    "\n",
    "folder_figures = \"../../../reports/figures/\"\n",
    "# file_name = \"PxPlot_HTML_SurveysPerDataset.html\"\n",
    "# fig.write_html(F\"{folder_figures}{file_name}\")\n",
    "file_name = \"PxPlot_PDF_SurveysPerDataset.pdf\"\n",
    "fig.write_image(F\"{folder_figures}{file_name}\")"
   ]
  },
  {
   "attachments": {},
   "cell_type": "markdown",
   "id": "04c0d0a5",
   "metadata": {},
   "source": [
    "#### Percentage"
   ]
  },
  {
   "cell_type": "code",
   "execution_count": 16,
   "id": "9f4f983d",
   "metadata": {},
   "outputs": [],
   "source": [
    "df[\"Total\"] = \"Total\"\n",
    "df_percentage = round(df.groupby([\"Total\", \"Dataset\", \"Main Trait\", \"Result\"])[\"Species\"].count() / df.groupby([\"Main Trait\"])[\"Species\"].count() * 100, 2).to_frame()\n",
    "df_percentage = df_percentage\\\n",
    "    .rename(columns={\"Species\": \"Percentage\"})\\\n",
    "    .reset_index()\n",
    "\n",
    "df_percentage['Color'] = pd.Series(color_dict.keys())"
   ]
  },
  {
   "cell_type": "code",
   "execution_count": 17,
   "id": "5b563da2",
   "metadata": {},
   "outputs": [
    {
     "data": {
      "text/html": [
       "<div>\n",
       "<style scoped>\n",
       "    .dataframe tbody tr th:only-of-type {\n",
       "        vertical-align: middle;\n",
       "    }\n",
       "\n",
       "    .dataframe tbody tr th {\n",
       "        vertical-align: top;\n",
       "    }\n",
       "\n",
       "    .dataframe thead th {\n",
       "        text-align: right;\n",
       "    }\n",
       "</style>\n",
       "<table border=\"1\" class=\"dataframe\">\n",
       "  <thead>\n",
       "    <tr style=\"text-align: right;\">\n",
       "      <th></th>\n",
       "      <th>Total</th>\n",
       "      <th>Dataset</th>\n",
       "      <th>Main Trait</th>\n",
       "      <th>Result</th>\n",
       "      <th>Percentage</th>\n",
       "      <th>Color</th>\n",
       "    </tr>\n",
       "  </thead>\n",
       "  <tbody>\n",
       "    <tr>\n",
       "      <th>0</th>\n",
       "      <td>Total</td>\n",
       "      <td>Caribbean</td>\n",
       "      <td>Fruit colour</td>\n",
       "      <td>Can infer correct Entity</td>\n",
       "      <td>31.15</td>\n",
       "      <td>None of the above</td>\n",
       "    </tr>\n",
       "    <tr>\n",
       "      <th>1</th>\n",
       "      <td>Total</td>\n",
       "      <td>Caribbean</td>\n",
       "      <td>Fruit colour</td>\n",
       "      <td>Can infer correct Quality</td>\n",
       "      <td>13.11</td>\n",
       "      <td>Can infer correct Entity</td>\n",
       "    </tr>\n",
       "    <tr>\n",
       "      <th>2</th>\n",
       "      <td>Total</td>\n",
       "      <td>Caribbean</td>\n",
       "      <td>Fruit colour</td>\n",
       "      <td>Can infer correct Value</td>\n",
       "      <td>27.87</td>\n",
       "      <td>Can infer correct Quality</td>\n",
       "    </tr>\n",
       "    <tr>\n",
       "      <th>3</th>\n",
       "      <td>Total</td>\n",
       "      <td>Caribbean</td>\n",
       "      <td>Fruit colour</td>\n",
       "      <td>None of the above</td>\n",
       "      <td>27.87</td>\n",
       "      <td>Can infer correct Value</td>\n",
       "    </tr>\n",
       "    <tr>\n",
       "      <th>4</th>\n",
       "      <td>Total</td>\n",
       "      <td>Caribbean</td>\n",
       "      <td>Fruit shape</td>\n",
       "      <td>Can infer correct Entity</td>\n",
       "      <td>40.00</td>\n",
       "      <td>Caribbean</td>\n",
       "    </tr>\n",
       "    <tr>\n",
       "      <th>...</th>\n",
       "      <td>...</td>\n",
       "      <td>...</td>\n",
       "      <td>...</td>\n",
       "      <td>...</td>\n",
       "      <td>...</td>\n",
       "      <td>...</td>\n",
       "    </tr>\n",
       "    <tr>\n",
       "      <th>147</th>\n",
       "      <td>Total</td>\n",
       "      <td>PlantNet</td>\n",
       "      <td>trunk and root</td>\n",
       "      <td>None of the above</td>\n",
       "      <td>40.00</td>\n",
       "      <td>NaN</td>\n",
       "    </tr>\n",
       "    <tr>\n",
       "      <th>148</th>\n",
       "      <td>Total</td>\n",
       "      <td>PlantNet</td>\n",
       "      <td>vein</td>\n",
       "      <td>Can infer correct Entity</td>\n",
       "      <td>22.86</td>\n",
       "      <td>NaN</td>\n",
       "    </tr>\n",
       "    <tr>\n",
       "      <th>149</th>\n",
       "      <td>Total</td>\n",
       "      <td>PlantNet</td>\n",
       "      <td>vein</td>\n",
       "      <td>Can infer correct Quality</td>\n",
       "      <td>14.29</td>\n",
       "      <td>NaN</td>\n",
       "    </tr>\n",
       "    <tr>\n",
       "      <th>150</th>\n",
       "      <td>Total</td>\n",
       "      <td>PlantNet</td>\n",
       "      <td>vein</td>\n",
       "      <td>Can infer correct Value</td>\n",
       "      <td>2.86</td>\n",
       "      <td>NaN</td>\n",
       "    </tr>\n",
       "    <tr>\n",
       "      <th>151</th>\n",
       "      <td>Total</td>\n",
       "      <td>PlantNet</td>\n",
       "      <td>vein</td>\n",
       "      <td>None of the above</td>\n",
       "      <td>60.00</td>\n",
       "      <td>NaN</td>\n",
       "    </tr>\n",
       "  </tbody>\n",
       "</table>\n",
       "<p>152 rows × 6 columns</p>\n",
       "</div>"
      ],
      "text/plain": [
       "     Total    Dataset      Main Trait                     Result  Percentage  \\\n",
       "0    Total  Caribbean    Fruit colour   Can infer correct Entity       31.15   \n",
       "1    Total  Caribbean    Fruit colour  Can infer correct Quality       13.11   \n",
       "2    Total  Caribbean    Fruit colour    Can infer correct Value       27.87   \n",
       "3    Total  Caribbean    Fruit colour          None of the above       27.87   \n",
       "4    Total  Caribbean     Fruit shape   Can infer correct Entity       40.00   \n",
       "..     ...        ...             ...                        ...         ...   \n",
       "147  Total   PlantNet  trunk and root          None of the above       40.00   \n",
       "148  Total   PlantNet            vein   Can infer correct Entity       22.86   \n",
       "149  Total   PlantNet            vein  Can infer correct Quality       14.29   \n",
       "150  Total   PlantNet            vein    Can infer correct Value        2.86   \n",
       "151  Total   PlantNet            vein          None of the above       60.00   \n",
       "\n",
       "                         Color  \n",
       "0            None of the above  \n",
       "1     Can infer correct Entity  \n",
       "2    Can infer correct Quality  \n",
       "3      Can infer correct Value  \n",
       "4                    Caribbean  \n",
       "..                         ...  \n",
       "147                        NaN  \n",
       "148                        NaN  \n",
       "149                        NaN  \n",
       "150                        NaN  \n",
       "151                        NaN  \n",
       "\n",
       "[152 rows x 6 columns]"
      ]
     },
     "execution_count": 17,
     "metadata": {},
     "output_type": "execute_result"
    }
   ],
   "source": [
    "df_percentage"
   ]
  },
  {
   "cell_type": "code",
   "execution_count": 35,
   "id": "cdd9151e",
   "metadata": {},
   "outputs": [
    {
     "data": {
      "application/vnd.plotly.v1+json": {
       "config": {
        "plotlyServerURL": "https://plot.ly"
       },
       "data": [
        {
         "branchvalues": "total",
         "customdata": [
          [
           "Can infer correct Entity"
          ],
          [
           "Can infer correct Value"
          ],
          [
           "Can infer correct Entity"
          ],
          [
           "Can infer correct Quality"
          ],
          [
           "Can infer correct Value"
          ],
          [
           "Can infer correct Entity"
          ],
          [
           "Can infer correct Entity"
          ],
          [
           "Can infer correct Value"
          ],
          [
           "Can infer correct Value"
          ],
          [
           "Can infer correct Entity"
          ],
          [
           "Can infer correct Entity"
          ],
          [
           "Can infer correct Value"
          ],
          [
           "Can infer correct Value"
          ],
          [
           "Can infer correct Quality"
          ],
          [
           "Can infer correct Value"
          ],
          [
           "Can infer correct Value"
          ],
          [
           "Can infer correct Quality"
          ],
          [
           "Can infer correct Value"
          ],
          [
           "Can infer correct Value"
          ],
          [
           "Can infer correct Quality"
          ],
          [
           "Can infer correct Quality"
          ],
          [
           "Can infer correct Value"
          ],
          [
           "None of the above"
          ],
          [
           "Can infer correct Quality"
          ],
          [
           "Can infer correct Entity"
          ],
          [
           "None of the above"
          ],
          [
           "None of the above"
          ],
          [
           "Can infer correct Entity"
          ],
          [
           "None of the above"
          ],
          [
           "None of the above"
          ],
          [
           "None of the above"
          ],
          [
           "Can infer correct Entity"
          ],
          [
           "None of the above"
          ],
          [
           "Can infer correct Entity"
          ],
          [
           "None of the above"
          ],
          [
           "None of the above"
          ],
          [
           "None of the above"
          ],
          [
           "Can infer correct Entity"
          ],
          [
           "Can infer correct Entity"
          ],
          [
           "None of the above"
          ],
          [
           "None of the above"
          ],
          [
           "Can infer correct Quality"
          ],
          [
           "Can infer correct Quality"
          ],
          [
           "Can infer correct Value"
          ],
          [
           "Can infer correct Value"
          ],
          [
           "Can infer correct Value"
          ],
          [
           "None of the above"
          ],
          [
           "Can infer correct Value"
          ],
          [
           "Can infer correct Value"
          ],
          [
           "Can infer correct Value"
          ],
          [
           "Can infer correct Value"
          ],
          [
           "None of the above"
          ],
          [
           "Can infer correct Value"
          ],
          [
           "None of the above"
          ],
          [
           "None of the above"
          ],
          [
           "None of the above"
          ],
          [
           "Can infer correct Value"
          ],
          [
           "Can infer correct Value"
          ],
          [
           "Can infer correct Quality"
          ],
          [
           "Can infer correct Entity"
          ],
          [
           "Can infer correct Quality"
          ],
          [
           "Can infer correct Entity"
          ],
          [
           "Can infer correct Entity"
          ],
          [
           "Can infer correct Entity"
          ],
          [
           "Can infer correct Quality"
          ],
          [
           "Can infer correct Entity"
          ],
          [
           "Can infer correct Entity"
          ],
          [
           "Can infer correct Value"
          ],
          [
           "Can infer correct Entity"
          ],
          [
           "Can infer correct Entity"
          ],
          [
           "Can infer correct Value"
          ],
          [
           "None of the above"
          ],
          [
           "Can infer correct Entity"
          ],
          [
           "None of the above"
          ],
          [
           "Can infer correct Entity"
          ],
          [
           "None of the above"
          ],
          [
           "Can infer correct Value"
          ],
          [
           "Can infer correct Quality"
          ],
          [
           "Can infer correct Entity"
          ],
          [
           "Can infer correct Entity"
          ],
          [
           "None of the above"
          ],
          [
           "Can infer correct Entity"
          ],
          [
           "None of the above"
          ],
          [
           "None of the above"
          ],
          [
           "None of the above"
          ],
          [
           "None of the above"
          ],
          [
           "None of the above"
          ],
          [
           "Can infer correct Entity"
          ],
          [
           "None of the above"
          ],
          [
           "Can infer correct Entity"
          ],
          [
           "None of the above"
          ],
          [
           "Can infer correct Value"
          ],
          [
           "Can infer correct Value"
          ],
          [
           "None of the above"
          ],
          [
           "Can infer correct Quality"
          ],
          [
           "Can infer correct Value"
          ],
          [
           "Can infer correct Value"
          ],
          [
           "Can infer correct Quality"
          ],
          [
           "Can infer correct Quality"
          ],
          [
           "Can infer correct Value"
          ],
          [
           "Can infer correct Quality"
          ],
          [
           "Can infer correct Quality"
          ],
          [
           "Can infer correct Entity"
          ],
          [
           "Can infer correct Value"
          ],
          [
           "Can infer correct Value"
          ],
          [
           "Can infer correct Entity"
          ],
          [
           "Can infer correct Quality"
          ],
          [
           "Can infer correct Quality"
          ],
          [
           "Can infer correct Value"
          ],
          [
           "Can infer correct Quality"
          ],
          [
           "None of the above"
          ],
          [
           "Can infer correct Entity"
          ],
          [
           "None of the above"
          ],
          [
           "Can infer correct Value"
          ],
          [
           "Can infer correct Value"
          ],
          [
           "None of the above"
          ],
          [
           "None of the above"
          ],
          [
           "None of the above"
          ],
          [
           "Can infer correct Quality"
          ],
          [
           "None of the above"
          ],
          [
           "Can infer correct Entity"
          ],
          [
           "Can infer correct Quality"
          ],
          [
           "None of the above"
          ],
          [
           "Can infer correct Quality"
          ],
          [
           "None of the above"
          ],
          [
           "Can infer correct Entity"
          ],
          [
           "Can infer correct Value"
          ],
          [
           "None of the above"
          ],
          [
           "Can infer correct Entity"
          ],
          [
           "Can infer correct Entity"
          ],
          [
           "Can infer correct Value"
          ],
          [
           "Can infer correct Value"
          ],
          [
           "Can infer correct Entity"
          ],
          [
           "Can infer correct Value"
          ],
          [
           "Can infer correct Entity"
          ],
          [
           "Can infer correct Quality"
          ],
          [
           "Can infer correct Quality"
          ],
          [
           "Can infer correct Value"
          ],
          [
           "Can infer correct Value"
          ],
          [
           "Can infer correct Entity"
          ],
          [
           "None of the above"
          ],
          [
           "None of the above"
          ],
          [
           "Can infer correct Entity"
          ],
          [
           "Can infer correct Quality"
          ],
          [
           "Can infer correct Value"
          ],
          [
           "None of the above"
          ],
          [
           "Can infer correct Entity"
          ],
          [
           "None of the above"
          ],
          [
           "Can infer correct Quality"
          ],
          [
           "Can infer correct Entity"
          ],
          [
           "Can infer correct Value"
          ],
          [
           "None of the above"
          ],
          [
           "(?)"
          ],
          [
           "(?)"
          ],
          [
           "(?)"
          ],
          [
           "(?)"
          ],
          [
           "(?)"
          ],
          [
           "(?)"
          ],
          [
           "(?)"
          ],
          [
           "(?)"
          ],
          [
           "(?)"
          ],
          [
           "(?)"
          ],
          [
           "Can infer correct Entity"
          ],
          [
           "(?)"
          ],
          [
           "(?)"
          ],
          [
           "(?)"
          ],
          [
           "(?)"
          ],
          [
           "(?)"
          ],
          [
           "(?)"
          ],
          [
           "(?)"
          ],
          [
           "(?)"
          ],
          [
           "(?)"
          ],
          [
           "(?)"
          ],
          [
           "(?)"
          ],
          [
           "(?)"
          ],
          [
           "(?)"
          ],
          [
           "(?)"
          ],
          [
           "(?)"
          ],
          [
           "(?)"
          ],
          [
           "Can infer correct Entity"
          ],
          [
           "(?)"
          ],
          [
           "(?)"
          ],
          [
           "(?)"
          ],
          [
           "(?)"
          ],
          [
           "(?)"
          ],
          [
           "(?)"
          ],
          [
           "(?)"
          ],
          [
           "(?)"
          ],
          [
           "(?)"
          ],
          [
           "(?)"
          ],
          [
           "(?)"
          ],
          [
           "(?)"
          ],
          [
           "(?)"
          ],
          [
           "(?)"
          ],
          [
           "Can infer correct Value"
          ],
          [
           "None of the above"
          ],
          [
           "Can infer correct Entity"
          ],
          [
           "(?)"
          ],
          [
           "(?)"
          ],
          [
           "(?)"
          ],
          [
           "(?)"
          ],
          [
           "(?)"
          ],
          [
           "(?)"
          ],
          [
           "(?)"
          ]
         ],
         "domain": {
          "x": [
           0,
           1
          ],
          "y": [
           0,
           1
          ]
         },
         "hovertemplate": "labels=%{label}<br>Percentage=%{value}<br>parent=%{parent}<br>id=%{id}<br>Result=%{customdata[0]}<extra></extra>",
         "ids": [
          "Total/Palm/Fruit Colour Description/Can infer correct Entity",
          "Total/PlantNet/sexuality/Can infer correct Value",
          "Total/PlantNet/fruit/Can infer correct Entity",
          "Total/PlantNet/leaf apex/Can infer correct Quality",
          "Total/PlantNet/leaf shape/Can infer correct Value",
          "Total/PlantNet/leaf base/Can infer correct Entity",
          "Total/PlantNet/leaf margin/Can infer correct Entity",
          "Total/PlantNet/leaf apex/Can infer correct Value",
          "Total/PlantNet/flower shape/Can infer correct Value",
          "Total/PlantNet/stem shape/Can infer correct Entity",
          "Total/PlantNet/crown/Can infer correct Entity",
          "Total/PlantNet/bark/Can infer correct Value",
          "Total/Caribbean/Petals / corolla shape/Can infer correct Value",
          "Total/Palm/Fruit Colour/Can infer correct Quality",
          "Total/Caribbean/Life form/Can infer correct Value",
          "Total/Caribbean/Leaf margin/Can infer correct Value",
          "Total/Caribbean/Fruit shape/Can infer correct Quality",
          "Total/Caribbean/Fruit type/Can infer correct Value",
          "Total/Palm/Fruit Shape/Can infer correct Value",
          "Total/Caribbean/Leaf shape/Can infer correct Quality",
          "Total/Caribbean/Sepals / calyx shape/Can infer correct Quality",
          "Total/Caribbean/Stamen shape/Can infer correct Value",
          "Total/Palm/Fruit Size/None of the above",
          "Total/PlantNet/flower shape/Can infer correct Quality",
          "Total/Caribbean/Stamen shape/Can infer correct Entity",
          "Total/PlantNet/spine/None of the above",
          "Total/PlantNet/petiole/None of the above",
          "Total/Caribbean/Fruit shape/Can infer correct Entity",
          "Total/PlantNet/leaf margin/None of the above",
          "Total/PlantNet/leaf blade/None of the above",
          "Total/PlantNet/fruit/None of the above",
          "Total/Caribbean/Leaf glands/Can infer correct Entity",
          "Total/Caribbean/Petals / corolla shape/None of the above",
          "Total/Caribbean/Leaf rachis/Can infer correct Entity",
          "Total/Caribbean/Stamen shape/None of the above",
          "Total/Caribbean/Leaf position/None of the above",
          "Total/Caribbean/Life form/None of the above",
          "Total/Caribbean/Stamen number/Can infer correct Entity",
          "Total/Caribbean/Petals / corolla colour/Can infer correct Entity",
          "Total/Caribbean/Inflorescence type/None of the above",
          "Total/PlantNet/tendril/None of the above",
          "Total/PlantNet/leaf base/Can infer correct Quality",
          "Total/PlantNet/leaf shape/Can infer correct Quality",
          "Total/Palm/Fruit Colour/Can infer correct Value",
          "Total/PlantNet/trunk and root/Can infer correct Value",
          "Total/Palm/Fruit Size/Can infer correct Value",
          "Total/Palm/Measurement/None of the above",
          "Total/PlantNet/fruit/Can infer correct Value",
          "Total/Caribbean/Leaf position/Can infer correct Value",
          "Total/Palm/Measurement/Can infer correct Value",
          "Total/PlantNet/leaf base/Can infer correct Value",
          "Total/Caribbean/Fruit colour/None of the above",
          "Total/Caribbean/Seed colour/Can infer correct Value",
          "Total/Caribbean/Seed colour/None of the above",
          "Total/Caribbean/Leaf rachis/None of the above",
          "Total/Caribbean/Leaf composition/None of the above",
          "Total/PlantNet/petiole/Can infer correct Value",
          "Total/Caribbean/Inflorescence type/Can infer correct Value",
          "Total/Caribbean/Fruit type/Can infer correct Quality",
          "Total/Caribbean/Leaf lower side/Can infer correct Entity",
          "Total/Palm/Measurement/Can infer correct Quality",
          "Total/Caribbean/Leaf shape/Can infer correct Entity",
          "Total/Caribbean/Fruit type/Can infer correct Entity",
          "Total/Caribbean/Petals / corolla shape/Can infer correct Entity",
          "Total/Caribbean/Stamen shape/Can infer correct Quality",
          "Total/Palm/Fruit Shape/Can infer correct Entity",
          "Total/PlantNet/leaf shape/Can infer correct Entity",
          "Total/PlantNet/leaf blade/Can infer correct Value",
          "Total/PlantNet/inflorescences/Can infer correct Entity",
          "Total/PlantNet/flower color/Can infer correct Entity",
          "Total/PlantNet/inflorescences/Can infer correct Value",
          "Total/Palm/Fruit Colour Description/None of the above",
          "Total/PlantNet/bark/Can infer correct Entity",
          "Total/Caribbean/Fruit shape/None of the above",
          "Total/Caribbean/Seed colour/Can infer correct Entity",
          "Total/Caribbean/Leaf lower side/None of the above",
          "Total/PlantNet/vein/Can infer correct Value",
          "Total/PlantNet/bark/Can infer correct Quality",
          "Total/Caribbean/Leaf upper side/Can infer correct Entity",
          "Total/PlantNet/petiole/Can infer correct Entity",
          "Total/Caribbean/Petals / corolla colour/None of the above",
          "Total/Caribbean/Leaf margin/Can infer correct Entity",
          "Total/Caribbean/Sepals / calyx shape/None of the above",
          "Total/PlantNet/bark/None of the above",
          "Total/PlantNet/flower color/None of the above",
          "Total/PlantNet/inflorescences/None of the above",
          "Total/PlantNet/leaf apex/None of the above",
          "Total/Caribbean/Inflorescence type/Can infer correct Entity",
          "Total/PlantNet/phyllotaxis/None of the above",
          "Total/Palm/Fruit Size/Can infer correct Entity",
          "Total/Caribbean/Leaf shape/None of the above",
          "Total/PlantNet/crown/Can infer correct Value",
          "Total/PlantNet/phyllotaxis/Can infer correct Value",
          "Total/PlantNet/trunk and root/None of the above",
          "Total/Palm/Fruit Colour Description/Can infer correct Quality",
          "Total/Caribbean/Leaf composition/Can infer correct Value",
          "Total/Caribbean/Petals / corolla colour/Can infer correct Value",
          "Total/PlantNet/vein/Can infer correct Quality",
          "Total/Caribbean/Petals / corolla shape/Can infer correct Quality",
          "Total/Caribbean/Leaf shape/Can infer correct Value",
          "Total/Palm/Fruit Size/Can infer correct Quality",
          "Total/PlantNet/leaf blade/Can infer correct Quality",
          "Total/PlantNet/vein/Can infer correct Entity",
          "Total/Caribbean/Fruit colour/Can infer correct Value",
          "Total/Caribbean/Sepals / calyx shape/Can infer correct Value",
          "Total/PlantNet/tendril/Can infer correct Entity",
          "Total/PlantNet/fruit/Can infer correct Quality",
          "Total/Caribbean/Inflorescence type/Can infer correct Quality",
          "Total/Palm/Fruit Colour Description/Can infer correct Value",
          "Total/Caribbean/Leaf composition/Can infer correct Quality",
          "Total/Caribbean/Stamen number/None of the above",
          "Total/Caribbean/Leaf position/Can infer correct Entity",
          "Total/Caribbean/Petals / corolla number/None of the above",
          "Total/PlantNet/flower color/Can infer correct Value",
          "Total/Palm/Crown/Can infer correct Value",
          "Total/PlantNet/flower shape/None of the above",
          "Total/PlantNet/latex/None of the above",
          "Total/PlantNet/leaf base/None of the above",
          "Total/PlantNet/leaf margin/Can infer correct Quality",
          "Total/PlantNet/leaf shape/None of the above",
          "Total/Caribbean/Fruit colour/Can infer correct Entity",
          "Total/Caribbean/Seed colour/Can infer correct Quality",
          "Total/PlantNet/plant type/None of the above",
          "Total/PlantNet/inflorescences/Can infer correct Quality",
          "Total/PlantNet/crown/None of the above",
          "Total/Caribbean/Leaf composition/Can infer correct Entity",
          "Total/Caribbean/Leaf lower side/Can infer correct Value",
          "Total/Caribbean/Leaf upper side/None of the above",
          "Total/PlantNet/plant type/Can infer correct Entity",
          "Total/PlantNet/trunk and root/Can infer correct Entity",
          "Total/Caribbean/Stamen number/Can infer correct Value",
          "Total/PlantNet/latex/Can infer correct Value",
          "Total/PlantNet/leaf blade/Can infer correct Entity",
          "Total/PlantNet/leaf margin/Can infer correct Value",
          "Total/PlantNet/leaf apex/Can infer correct Entity",
          "Total/Palm/Crown/Can infer correct Quality",
          "Total/PlantNet/flower color/Can infer correct Quality",
          "Total/PlantNet/plant type/Can infer correct Value",
          "Total/Caribbean/Fruit shape/Can infer correct Value",
          "Total/PlantNet/flower shape/Can infer correct Entity",
          "Total/Palm/Crown/None of the above",
          "Total/Palm/Fruit Shape/None of the above",
          "Total/PlantNet/blade color/Can infer correct Entity",
          "Total/Palm/Fruit Shape/Can infer correct Quality",
          "Total/Caribbean/Leaf upper side/Can infer correct Value",
          "Total/Caribbean/Fruit type/None of the above",
          "Total/Caribbean/Sepals / calyx shape/Can infer correct Entity",
          "Total/Caribbean/Leaf margin/None of the above",
          "Total/Caribbean/Fruit colour/Can infer correct Quality",
          "Total/Palm/Measurement/Can infer correct Entity",
          "Total/Caribbean/Petals / corolla number/Can infer correct Value",
          "Total/PlantNet/vein/None of the above",
          "Total/Palm/Crown",
          "Total/Palm/Fruit Colour",
          "Total/Palm/Fruit Colour Description",
          "Total/Palm/Fruit Shape",
          "Total/Palm/Fruit Size",
          "Total/Caribbean/Fruit colour",
          "Total/Caribbean/Fruit shape",
          "Total/Caribbean/Fruit type",
          "Total/Caribbean/Inflorescence type",
          "Total/Caribbean/Leaf composition",
          "Total/Caribbean/Leaf glands",
          "Total/Caribbean/Leaf lower side",
          "Total/Caribbean/Leaf margin",
          "Total/Caribbean/Leaf position",
          "Total/Caribbean/Leaf rachis",
          "Total/Caribbean/Leaf shape",
          "Total/Caribbean/Leaf upper side",
          "Total/Caribbean/Life form",
          "Total/Palm/Measurement",
          "Total/Caribbean/Petals / corolla colour",
          "Total/Caribbean/Petals / corolla number",
          "Total/Caribbean/Petals / corolla shape",
          "Total/Caribbean/Seed colour",
          "Total/Caribbean/Sepals / calyx shape",
          "Total/Caribbean/Stamen number",
          "Total/Caribbean/Stamen shape",
          "Total/PlantNet/bark",
          "Total/PlantNet/blade color",
          "Total/PlantNet/crown",
          "Total/PlantNet/flower color",
          "Total/PlantNet/flower shape",
          "Total/PlantNet/fruit",
          "Total/PlantNet/inflorescences",
          "Total/PlantNet/latex",
          "Total/PlantNet/leaf apex",
          "Total/PlantNet/leaf base",
          "Total/PlantNet/leaf blade",
          "Total/PlantNet/leaf margin",
          "Total/PlantNet/leaf shape",
          "Total/PlantNet/petiole",
          "Total/PlantNet/phyllotaxis",
          "Total/PlantNet/plant type",
          "Total/PlantNet/sexuality",
          "Total/PlantNet/spine",
          "Total/PlantNet/stem shape",
          "Total/PlantNet/tendril",
          "Total/PlantNet/trunk and root",
          "Total/PlantNet/vein",
          "Total/Caribbean",
          "Total/Palm",
          "Total/PlantNet",
          "Total"
         ],
         "labels": [
          "Can infer correct Entity",
          "Can infer correct Value",
          "Can infer correct Entity",
          "Can infer correct Quality",
          "Can infer correct Value",
          "Can infer correct Entity",
          "Can infer correct Entity",
          "Can infer correct Value",
          "Can infer correct Value",
          "Can infer correct Entity",
          "Can infer correct Entity",
          "Can infer correct Value",
          "Can infer correct Value",
          "Can infer correct Quality",
          "Can infer correct Value",
          "Can infer correct Value",
          "Can infer correct Quality",
          "Can infer correct Value",
          "Can infer correct Value",
          "Can infer correct Quality",
          "Can infer correct Quality",
          "Can infer correct Value",
          "None of the above",
          "Can infer correct Quality",
          "Can infer correct Entity",
          "None of the above",
          "None of the above",
          "Can infer correct Entity",
          "None of the above",
          "None of the above",
          "None of the above",
          "Can infer correct Entity",
          "None of the above",
          "Can infer correct Entity",
          "None of the above",
          "None of the above",
          "None of the above",
          "Can infer correct Entity",
          "Can infer correct Entity",
          "None of the above",
          "None of the above",
          "Can infer correct Quality",
          "Can infer correct Quality",
          "Can infer correct Value",
          "Can infer correct Value",
          "Can infer correct Value",
          "None of the above",
          "Can infer correct Value",
          "Can infer correct Value",
          "Can infer correct Value",
          "Can infer correct Value",
          "None of the above",
          "Can infer correct Value",
          "None of the above",
          "None of the above",
          "None of the above",
          "Can infer correct Value",
          "Can infer correct Value",
          "Can infer correct Quality",
          "Can infer correct Entity",
          "Can infer correct Quality",
          "Can infer correct Entity",
          "Can infer correct Entity",
          "Can infer correct Entity",
          "Can infer correct Quality",
          "Can infer correct Entity",
          "Can infer correct Entity",
          "Can infer correct Value",
          "Can infer correct Entity",
          "Can infer correct Entity",
          "Can infer correct Value",
          "None of the above",
          "Can infer correct Entity",
          "None of the above",
          "Can infer correct Entity",
          "None of the above",
          "Can infer correct Value",
          "Can infer correct Quality",
          "Can infer correct Entity",
          "Can infer correct Entity",
          "None of the above",
          "Can infer correct Entity",
          "None of the above",
          "None of the above",
          "None of the above",
          "None of the above",
          "None of the above",
          "Can infer correct Entity",
          "None of the above",
          "Can infer correct Entity",
          "None of the above",
          "Can infer correct Value",
          "Can infer correct Value",
          "None of the above",
          "Can infer correct Quality",
          "Can infer correct Value",
          "Can infer correct Value",
          "Can infer correct Quality",
          "Can infer correct Quality",
          "Can infer correct Value",
          "Can infer correct Quality",
          "Can infer correct Quality",
          "Can infer correct Entity",
          "Can infer correct Value",
          "Can infer correct Value",
          "Can infer correct Entity",
          "Can infer correct Quality",
          "Can infer correct Quality",
          "Can infer correct Value",
          "Can infer correct Quality",
          "None of the above",
          "Can infer correct Entity",
          "None of the above",
          "Can infer correct Value",
          "Can infer correct Value",
          "None of the above",
          "None of the above",
          "None of the above",
          "Can infer correct Quality",
          "None of the above",
          "Can infer correct Entity",
          "Can infer correct Quality",
          "None of the above",
          "Can infer correct Quality",
          "None of the above",
          "Can infer correct Entity",
          "Can infer correct Value",
          "None of the above",
          "Can infer correct Entity",
          "Can infer correct Entity",
          "Can infer correct Value",
          "Can infer correct Value",
          "Can infer correct Entity",
          "Can infer correct Value",
          "Can infer correct Entity",
          "Can infer correct Quality",
          "Can infer correct Quality",
          "Can infer correct Value",
          "Can infer correct Value",
          "Can infer correct Entity",
          "None of the above",
          "None of the above",
          "Can infer correct Entity",
          "Can infer correct Quality",
          "Can infer correct Value",
          "None of the above",
          "Can infer correct Entity",
          "None of the above",
          "Can infer correct Quality",
          "Can infer correct Entity",
          "Can infer correct Value",
          "None of the above",
          "Crown",
          "Fruit Colour",
          "Fruit Colour Description",
          "Fruit Shape",
          "Fruit Size",
          "Fruit colour",
          "Fruit shape",
          "Fruit type",
          "Inflorescence type",
          "Leaf composition",
          "Leaf glands",
          "Leaf lower side",
          "Leaf margin",
          "Leaf position",
          "Leaf rachis",
          "Leaf shape",
          "Leaf upper side",
          "Life form",
          "Measurement",
          "Petals / corolla colour",
          "Petals / corolla number",
          "Petals / corolla shape",
          "Seed colour",
          "Sepals / calyx shape",
          "Stamen number",
          "Stamen shape",
          "bark",
          "blade color",
          "crown",
          "flower color",
          "flower shape",
          "fruit",
          "inflorescences",
          "latex",
          "leaf apex",
          "leaf base",
          "leaf blade",
          "leaf margin",
          "leaf shape",
          "petiole",
          "phyllotaxis",
          "plant type",
          "sexuality",
          "spine",
          "stem shape",
          "tendril",
          "trunk and root",
          "vein",
          "Caribbean",
          "Palm",
          "PlantNet",
          "Total"
         ],
         "marker": {
          "colors": [
           "#1f77b4",
           "#2ca02c",
           "#1f77b4",
           "goldenrod",
           "#2ca02c",
           "#1f77b4",
           "#1f77b4",
           "#2ca02c",
           "#2ca02c",
           "#1f77b4",
           "#1f77b4",
           "#2ca02c",
           "#2ca02c",
           "goldenrod",
           "#2ca02c",
           "#2ca02c",
           "goldenrod",
           "#2ca02c",
           "#2ca02c",
           "goldenrod",
           "goldenrod",
           "#2ca02c",
           "#d62728",
           "goldenrod",
           "#1f77b4",
           "#d62728",
           "#d62728",
           "#1f77b4",
           "#d62728",
           "#d62728",
           "#d62728",
           "#1f77b4",
           "#d62728",
           "#1f77b4",
           "#d62728",
           "#d62728",
           "#d62728",
           "#1f77b4",
           "#1f77b4",
           "#d62728",
           "#d62728",
           "goldenrod",
           "goldenrod",
           "#2ca02c",
           "#2ca02c",
           "#2ca02c",
           "#d62728",
           "#2ca02c",
           "#2ca02c",
           "#2ca02c",
           "#2ca02c",
           "#d62728",
           "#2ca02c",
           "#d62728",
           "#d62728",
           "#d62728",
           "#2ca02c",
           "#2ca02c",
           "goldenrod",
           "#1f77b4",
           "goldenrod",
           "#1f77b4",
           "#1f77b4",
           "#1f77b4",
           "goldenrod",
           "#1f77b4",
           "#1f77b4",
           "#2ca02c",
           "#1f77b4",
           "#1f77b4",
           "#2ca02c",
           "#d62728",
           "#1f77b4",
           "#d62728",
           "#1f77b4",
           "#d62728",
           "#2ca02c",
           "goldenrod",
           "#1f77b4",
           "#1f77b4",
           "#d62728",
           "#1f77b4",
           "#d62728",
           "#d62728",
           "#d62728",
           "#d62728",
           "#d62728",
           "#1f77b4",
           "#d62728",
           "#1f77b4",
           "#d62728",
           "#2ca02c",
           "#2ca02c",
           "#d62728",
           "goldenrod",
           "#2ca02c",
           "#2ca02c",
           "goldenrod",
           "goldenrod",
           "#2ca02c",
           "goldenrod",
           "goldenrod",
           "#1f77b4",
           "#2ca02c",
           "#2ca02c",
           "#1f77b4",
           "goldenrod",
           "goldenrod",
           "#2ca02c",
           "goldenrod",
           "#d62728",
           "#1f77b4",
           "#d62728",
           "#2ca02c",
           "#2ca02c",
           "#d62728",
           "#d62728",
           "#d62728",
           "goldenrod",
           "#d62728",
           "#1f77b4",
           "goldenrod",
           "#d62728",
           "goldenrod",
           "#d62728",
           "#1f77b4",
           "#2ca02c",
           "#d62728",
           "#1f77b4",
           "#1f77b4",
           "#2ca02c",
           "#2ca02c",
           "#1f77b4",
           "#2ca02c",
           "#1f77b4",
           "goldenrod",
           "goldenrod",
           "#2ca02c",
           "#2ca02c",
           "#1f77b4",
           "#d62728",
           "#d62728",
           "#1f77b4",
           "goldenrod",
           "#2ca02c",
           "#d62728",
           "#1f77b4",
           "#d62728",
           "goldenrod",
           "#1f77b4",
           "#2ca02c",
           "#d62728",
           "whitegray",
           "whitegray",
           "whitegray",
           "whitegray",
           "whitegray",
           "whitegray",
           "whitegray",
           "whitegray",
           "whitegray",
           "whitegray",
           "#1f77b4",
           "whitegray",
           "whitegray",
           "whitegray",
           "whitegray",
           "whitegray",
           "whitegray",
           "whitegray",
           "whitegray",
           "whitegray",
           "whitegray",
           "whitegray",
           "whitegray",
           "whitegray",
           "whitegray",
           "whitegray",
           "whitegray",
           "#1f77b4",
           "whitegray",
           "whitegray",
           "whitegray",
           "whitegray",
           "whitegray",
           "whitegray",
           "whitegray",
           "whitegray",
           "whitegray",
           "whitegray",
           "whitegray",
           "whitegray",
           "whitegray",
           "whitegray",
           "#2ca02c",
           "#d62728",
           "#1f77b4",
           "whitegray",
           "whitegray",
           "whitegray",
           "whitegray",
           "whitegray",
           "whitegray",
           "whitegray"
          ]
         },
         "name": "",
         "parents": [
          "Total/Palm/Fruit Colour Description",
          "Total/PlantNet/sexuality",
          "Total/PlantNet/fruit",
          "Total/PlantNet/leaf apex",
          "Total/PlantNet/leaf shape",
          "Total/PlantNet/leaf base",
          "Total/PlantNet/leaf margin",
          "Total/PlantNet/leaf apex",
          "Total/PlantNet/flower shape",
          "Total/PlantNet/stem shape",
          "Total/PlantNet/crown",
          "Total/PlantNet/bark",
          "Total/Caribbean/Petals / corolla shape",
          "Total/Palm/Fruit Colour",
          "Total/Caribbean/Life form",
          "Total/Caribbean/Leaf margin",
          "Total/Caribbean/Fruit shape",
          "Total/Caribbean/Fruit type",
          "Total/Palm/Fruit Shape",
          "Total/Caribbean/Leaf shape",
          "Total/Caribbean/Sepals / calyx shape",
          "Total/Caribbean/Stamen shape",
          "Total/Palm/Fruit Size",
          "Total/PlantNet/flower shape",
          "Total/Caribbean/Stamen shape",
          "Total/PlantNet/spine",
          "Total/PlantNet/petiole",
          "Total/Caribbean/Fruit shape",
          "Total/PlantNet/leaf margin",
          "Total/PlantNet/leaf blade",
          "Total/PlantNet/fruit",
          "Total/Caribbean/Leaf glands",
          "Total/Caribbean/Petals / corolla shape",
          "Total/Caribbean/Leaf rachis",
          "Total/Caribbean/Stamen shape",
          "Total/Caribbean/Leaf position",
          "Total/Caribbean/Life form",
          "Total/Caribbean/Stamen number",
          "Total/Caribbean/Petals / corolla colour",
          "Total/Caribbean/Inflorescence type",
          "Total/PlantNet/tendril",
          "Total/PlantNet/leaf base",
          "Total/PlantNet/leaf shape",
          "Total/Palm/Fruit Colour",
          "Total/PlantNet/trunk and root",
          "Total/Palm/Fruit Size",
          "Total/Palm/Measurement",
          "Total/PlantNet/fruit",
          "Total/Caribbean/Leaf position",
          "Total/Palm/Measurement",
          "Total/PlantNet/leaf base",
          "Total/Caribbean/Fruit colour",
          "Total/Caribbean/Seed colour",
          "Total/Caribbean/Seed colour",
          "Total/Caribbean/Leaf rachis",
          "Total/Caribbean/Leaf composition",
          "Total/PlantNet/petiole",
          "Total/Caribbean/Inflorescence type",
          "Total/Caribbean/Fruit type",
          "Total/Caribbean/Leaf lower side",
          "Total/Palm/Measurement",
          "Total/Caribbean/Leaf shape",
          "Total/Caribbean/Fruit type",
          "Total/Caribbean/Petals / corolla shape",
          "Total/Caribbean/Stamen shape",
          "Total/Palm/Fruit Shape",
          "Total/PlantNet/leaf shape",
          "Total/PlantNet/leaf blade",
          "Total/PlantNet/inflorescences",
          "Total/PlantNet/flower color",
          "Total/PlantNet/inflorescences",
          "Total/Palm/Fruit Colour Description",
          "Total/PlantNet/bark",
          "Total/Caribbean/Fruit shape",
          "Total/Caribbean/Seed colour",
          "Total/Caribbean/Leaf lower side",
          "Total/PlantNet/vein",
          "Total/PlantNet/bark",
          "Total/Caribbean/Leaf upper side",
          "Total/PlantNet/petiole",
          "Total/Caribbean/Petals / corolla colour",
          "Total/Caribbean/Leaf margin",
          "Total/Caribbean/Sepals / calyx shape",
          "Total/PlantNet/bark",
          "Total/PlantNet/flower color",
          "Total/PlantNet/inflorescences",
          "Total/PlantNet/leaf apex",
          "Total/Caribbean/Inflorescence type",
          "Total/PlantNet/phyllotaxis",
          "Total/Palm/Fruit Size",
          "Total/Caribbean/Leaf shape",
          "Total/PlantNet/crown",
          "Total/PlantNet/phyllotaxis",
          "Total/PlantNet/trunk and root",
          "Total/Palm/Fruit Colour Description",
          "Total/Caribbean/Leaf composition",
          "Total/Caribbean/Petals / corolla colour",
          "Total/PlantNet/vein",
          "Total/Caribbean/Petals / corolla shape",
          "Total/Caribbean/Leaf shape",
          "Total/Palm/Fruit Size",
          "Total/PlantNet/leaf blade",
          "Total/PlantNet/vein",
          "Total/Caribbean/Fruit colour",
          "Total/Caribbean/Sepals / calyx shape",
          "Total/PlantNet/tendril",
          "Total/PlantNet/fruit",
          "Total/Caribbean/Inflorescence type",
          "Total/Palm/Fruit Colour Description",
          "Total/Caribbean/Leaf composition",
          "Total/Caribbean/Stamen number",
          "Total/Caribbean/Leaf position",
          "Total/Caribbean/Petals / corolla number",
          "Total/PlantNet/flower color",
          "Total/Palm/Crown",
          "Total/PlantNet/flower shape",
          "Total/PlantNet/latex",
          "Total/PlantNet/leaf base",
          "Total/PlantNet/leaf margin",
          "Total/PlantNet/leaf shape",
          "Total/Caribbean/Fruit colour",
          "Total/Caribbean/Seed colour",
          "Total/PlantNet/plant type",
          "Total/PlantNet/inflorescences",
          "Total/PlantNet/crown",
          "Total/Caribbean/Leaf composition",
          "Total/Caribbean/Leaf lower side",
          "Total/Caribbean/Leaf upper side",
          "Total/PlantNet/plant type",
          "Total/PlantNet/trunk and root",
          "Total/Caribbean/Stamen number",
          "Total/PlantNet/latex",
          "Total/PlantNet/leaf blade",
          "Total/PlantNet/leaf margin",
          "Total/PlantNet/leaf apex",
          "Total/Palm/Crown",
          "Total/PlantNet/flower color",
          "Total/PlantNet/plant type",
          "Total/Caribbean/Fruit shape",
          "Total/PlantNet/flower shape",
          "Total/Palm/Crown",
          "Total/Palm/Fruit Shape",
          "Total/PlantNet/blade color",
          "Total/Palm/Fruit Shape",
          "Total/Caribbean/Leaf upper side",
          "Total/Caribbean/Fruit type",
          "Total/Caribbean/Sepals / calyx shape",
          "Total/Caribbean/Leaf margin",
          "Total/Caribbean/Fruit colour",
          "Total/Palm/Measurement",
          "Total/Caribbean/Petals / corolla number",
          "Total/PlantNet/vein",
          "Total/Palm",
          "Total/Palm",
          "Total/Palm",
          "Total/Palm",
          "Total/Palm",
          "Total/Caribbean",
          "Total/Caribbean",
          "Total/Caribbean",
          "Total/Caribbean",
          "Total/Caribbean",
          "Total/Caribbean",
          "Total/Caribbean",
          "Total/Caribbean",
          "Total/Caribbean",
          "Total/Caribbean",
          "Total/Caribbean",
          "Total/Caribbean",
          "Total/Caribbean",
          "Total/Palm",
          "Total/Caribbean",
          "Total/Caribbean",
          "Total/Caribbean",
          "Total/Caribbean",
          "Total/Caribbean",
          "Total/Caribbean",
          "Total/Caribbean",
          "Total/PlantNet",
          "Total/PlantNet",
          "Total/PlantNet",
          "Total/PlantNet",
          "Total/PlantNet",
          "Total/PlantNet",
          "Total/PlantNet",
          "Total/PlantNet",
          "Total/PlantNet",
          "Total/PlantNet",
          "Total/PlantNet",
          "Total/PlantNet",
          "Total/PlantNet",
          "Total/PlantNet",
          "Total/PlantNet",
          "Total/PlantNet",
          "Total/PlantNet",
          "Total/PlantNet",
          "Total/PlantNet",
          "Total/PlantNet",
          "Total/PlantNet",
          "Total/PlantNet",
          "Total",
          "Total",
          "Total",
          ""
         ],
         "type": "sunburst",
         "values": [
          37.5,
          100,
          24.24,
          9.23,
          17.39,
          16.98,
          30.95,
          7.69,
          10.42,
          100,
          6.67,
          22.22,
          10,
          33.33,
          82.35,
          21.74,
          15,
          19.05,
          27.03,
          4,
          3.45,
          13.33,
          21.05,
          4.17,
          33.33,
          100,
          40,
          40,
          52.38,
          34.62,
          42.42,
          100,
          50,
          66.67,
          46.67,
          42.86,
          17.65,
          37.5,
          35.48,
          20,
          92.86,
          13.21,
          15.22,
          66.67,
          10,
          5.26,
          29.38,
          30.3,
          28.57,
          21.25,
          20.75,
          27.87,
          18.18,
          45.45,
          33.33,
          50,
          40,
          60,
          33.33,
          59.26,
          12.5,
          26,
          38.1,
          30,
          6.67,
          29.73,
          26.09,
          34.62,
          21.62,
          8.33,
          35.14,
          16.67,
          11.11,
          17.5,
          27.27,
          33.33,
          2.86,
          33.33,
          54.55,
          20,
          32.26,
          52.17,
          44.83,
          33.33,
          8.33,
          35.14,
          64.62,
          10,
          62.5,
          52.63,
          38,
          6.67,
          37.5,
          40,
          4.17,
          20,
          32.26,
          14.29,
          10,
          32,
          21.05,
          3.85,
          22.86,
          27.87,
          6.9,
          7.14,
          3.03,
          10,
          41.67,
          20,
          25,
          28.57,
          20,
          75,
          36.36,
          39.58,
          66.67,
          49.06,
          4.76,
          41.3,
          31.15,
          9.09,
          10.34,
          8.11,
          86.67,
          10,
          7.41,
          39.39,
          6.9,
          50,
          37.5,
          33.33,
          26.92,
          11.9,
          18.46,
          36.36,
          8.33,
          82.76,
          27.5,
          45.83,
          27.27,
          40.54,
          100,
          2.7,
          6.06,
          9.52,
          44.83,
          26.09,
          13.11,
          36.88,
          80,
          60,
          99.99,
          100,
          100.01,
          100,
          99.99000000000001,
          100,
          100,
          100,
          100,
          100,
          100,
          100,
          100,
          100,
          100,
          100,
          100,
          100,
          100.01,
          100,
          100,
          100,
          99.99000000000001,
          100.00999999999999,
          100,
          100,
          99.99,
          100,
          100.01,
          99.99,
          100,
          99.99000000000001,
          100.01,
          100,
          100,
          100,
          100.00999999999999,
          99.99000000000001,
          100,
          100,
          100,
          100.00000000000001,
          100,
          100,
          100,
          100,
          100,
          100.00999999999999,
          2000,
          600,
          2200,
          4800
         ]
        }
       ],
       "layout": {
        "legend": {
         "tracegroupgap": 0
        },
        "margin": {
         "b": 0,
         "l": 0,
         "r": 0,
         "t": 0
        },
        "template": {
         "data": {
          "bar": [
           {
            "error_x": {
             "color": "#2a3f5f"
            },
            "error_y": {
             "color": "#2a3f5f"
            },
            "marker": {
             "line": {
              "color": "#E5ECF6",
              "width": 0.5
             },
             "pattern": {
              "fillmode": "overlay",
              "size": 10,
              "solidity": 0.2
             }
            },
            "type": "bar"
           }
          ],
          "barpolar": [
           {
            "marker": {
             "line": {
              "color": "#E5ECF6",
              "width": 0.5
             },
             "pattern": {
              "fillmode": "overlay",
              "size": 10,
              "solidity": 0.2
             }
            },
            "type": "barpolar"
           }
          ],
          "carpet": [
           {
            "aaxis": {
             "endlinecolor": "#2a3f5f",
             "gridcolor": "white",
             "linecolor": "white",
             "minorgridcolor": "white",
             "startlinecolor": "#2a3f5f"
            },
            "baxis": {
             "endlinecolor": "#2a3f5f",
             "gridcolor": "white",
             "linecolor": "white",
             "minorgridcolor": "white",
             "startlinecolor": "#2a3f5f"
            },
            "type": "carpet"
           }
          ],
          "choropleth": [
           {
            "colorbar": {
             "outlinewidth": 0,
             "ticks": ""
            },
            "type": "choropleth"
           }
          ],
          "contour": [
           {
            "colorbar": {
             "outlinewidth": 0,
             "ticks": ""
            },
            "colorscale": [
             [
              0,
              "#0d0887"
             ],
             [
              0.1111111111111111,
              "#46039f"
             ],
             [
              0.2222222222222222,
              "#7201a8"
             ],
             [
              0.3333333333333333,
              "#9c179e"
             ],
             [
              0.4444444444444444,
              "#bd3786"
             ],
             [
              0.5555555555555556,
              "#d8576b"
             ],
             [
              0.6666666666666666,
              "#ed7953"
             ],
             [
              0.7777777777777778,
              "#fb9f3a"
             ],
             [
              0.8888888888888888,
              "#fdca26"
             ],
             [
              1,
              "#f0f921"
             ]
            ],
            "type": "contour"
           }
          ],
          "contourcarpet": [
           {
            "colorbar": {
             "outlinewidth": 0,
             "ticks": ""
            },
            "type": "contourcarpet"
           }
          ],
          "heatmap": [
           {
            "colorbar": {
             "outlinewidth": 0,
             "ticks": ""
            },
            "colorscale": [
             [
              0,
              "#0d0887"
             ],
             [
              0.1111111111111111,
              "#46039f"
             ],
             [
              0.2222222222222222,
              "#7201a8"
             ],
             [
              0.3333333333333333,
              "#9c179e"
             ],
             [
              0.4444444444444444,
              "#bd3786"
             ],
             [
              0.5555555555555556,
              "#d8576b"
             ],
             [
              0.6666666666666666,
              "#ed7953"
             ],
             [
              0.7777777777777778,
              "#fb9f3a"
             ],
             [
              0.8888888888888888,
              "#fdca26"
             ],
             [
              1,
              "#f0f921"
             ]
            ],
            "type": "heatmap"
           }
          ],
          "heatmapgl": [
           {
            "colorbar": {
             "outlinewidth": 0,
             "ticks": ""
            },
            "colorscale": [
             [
              0,
              "#0d0887"
             ],
             [
              0.1111111111111111,
              "#46039f"
             ],
             [
              0.2222222222222222,
              "#7201a8"
             ],
             [
              0.3333333333333333,
              "#9c179e"
             ],
             [
              0.4444444444444444,
              "#bd3786"
             ],
             [
              0.5555555555555556,
              "#d8576b"
             ],
             [
              0.6666666666666666,
              "#ed7953"
             ],
             [
              0.7777777777777778,
              "#fb9f3a"
             ],
             [
              0.8888888888888888,
              "#fdca26"
             ],
             [
              1,
              "#f0f921"
             ]
            ],
            "type": "heatmapgl"
           }
          ],
          "histogram": [
           {
            "marker": {
             "pattern": {
              "fillmode": "overlay",
              "size": 10,
              "solidity": 0.2
             }
            },
            "type": "histogram"
           }
          ],
          "histogram2d": [
           {
            "colorbar": {
             "outlinewidth": 0,
             "ticks": ""
            },
            "colorscale": [
             [
              0,
              "#0d0887"
             ],
             [
              0.1111111111111111,
              "#46039f"
             ],
             [
              0.2222222222222222,
              "#7201a8"
             ],
             [
              0.3333333333333333,
              "#9c179e"
             ],
             [
              0.4444444444444444,
              "#bd3786"
             ],
             [
              0.5555555555555556,
              "#d8576b"
             ],
             [
              0.6666666666666666,
              "#ed7953"
             ],
             [
              0.7777777777777778,
              "#fb9f3a"
             ],
             [
              0.8888888888888888,
              "#fdca26"
             ],
             [
              1,
              "#f0f921"
             ]
            ],
            "type": "histogram2d"
           }
          ],
          "histogram2dcontour": [
           {
            "colorbar": {
             "outlinewidth": 0,
             "ticks": ""
            },
            "colorscale": [
             [
              0,
              "#0d0887"
             ],
             [
              0.1111111111111111,
              "#46039f"
             ],
             [
              0.2222222222222222,
              "#7201a8"
             ],
             [
              0.3333333333333333,
              "#9c179e"
             ],
             [
              0.4444444444444444,
              "#bd3786"
             ],
             [
              0.5555555555555556,
              "#d8576b"
             ],
             [
              0.6666666666666666,
              "#ed7953"
             ],
             [
              0.7777777777777778,
              "#fb9f3a"
             ],
             [
              0.8888888888888888,
              "#fdca26"
             ],
             [
              1,
              "#f0f921"
             ]
            ],
            "type": "histogram2dcontour"
           }
          ],
          "mesh3d": [
           {
            "colorbar": {
             "outlinewidth": 0,
             "ticks": ""
            },
            "type": "mesh3d"
           }
          ],
          "parcoords": [
           {
            "line": {
             "colorbar": {
              "outlinewidth": 0,
              "ticks": ""
             }
            },
            "type": "parcoords"
           }
          ],
          "pie": [
           {
            "automargin": true,
            "type": "pie"
           }
          ],
          "scatter": [
           {
            "fillpattern": {
             "fillmode": "overlay",
             "size": 10,
             "solidity": 0.2
            },
            "type": "scatter"
           }
          ],
          "scatter3d": [
           {
            "line": {
             "colorbar": {
              "outlinewidth": 0,
              "ticks": ""
             }
            },
            "marker": {
             "colorbar": {
              "outlinewidth": 0,
              "ticks": ""
             }
            },
            "type": "scatter3d"
           }
          ],
          "scattercarpet": [
           {
            "marker": {
             "colorbar": {
              "outlinewidth": 0,
              "ticks": ""
             }
            },
            "type": "scattercarpet"
           }
          ],
          "scattergeo": [
           {
            "marker": {
             "colorbar": {
              "outlinewidth": 0,
              "ticks": ""
             }
            },
            "type": "scattergeo"
           }
          ],
          "scattergl": [
           {
            "marker": {
             "colorbar": {
              "outlinewidth": 0,
              "ticks": ""
             }
            },
            "type": "scattergl"
           }
          ],
          "scattermapbox": [
           {
            "marker": {
             "colorbar": {
              "outlinewidth": 0,
              "ticks": ""
             }
            },
            "type": "scattermapbox"
           }
          ],
          "scatterpolar": [
           {
            "marker": {
             "colorbar": {
              "outlinewidth": 0,
              "ticks": ""
             }
            },
            "type": "scatterpolar"
           }
          ],
          "scatterpolargl": [
           {
            "marker": {
             "colorbar": {
              "outlinewidth": 0,
              "ticks": ""
             }
            },
            "type": "scatterpolargl"
           }
          ],
          "scatterternary": [
           {
            "marker": {
             "colorbar": {
              "outlinewidth": 0,
              "ticks": ""
             }
            },
            "type": "scatterternary"
           }
          ],
          "surface": [
           {
            "colorbar": {
             "outlinewidth": 0,
             "ticks": ""
            },
            "colorscale": [
             [
              0,
              "#0d0887"
             ],
             [
              0.1111111111111111,
              "#46039f"
             ],
             [
              0.2222222222222222,
              "#7201a8"
             ],
             [
              0.3333333333333333,
              "#9c179e"
             ],
             [
              0.4444444444444444,
              "#bd3786"
             ],
             [
              0.5555555555555556,
              "#d8576b"
             ],
             [
              0.6666666666666666,
              "#ed7953"
             ],
             [
              0.7777777777777778,
              "#fb9f3a"
             ],
             [
              0.8888888888888888,
              "#fdca26"
             ],
             [
              1,
              "#f0f921"
             ]
            ],
            "type": "surface"
           }
          ],
          "table": [
           {
            "cells": {
             "fill": {
              "color": "#EBF0F8"
             },
             "line": {
              "color": "white"
             }
            },
            "header": {
             "fill": {
              "color": "#C8D4E3"
             },
             "line": {
              "color": "white"
             }
            },
            "type": "table"
           }
          ]
         },
         "layout": {
          "annotationdefaults": {
           "arrowcolor": "#2a3f5f",
           "arrowhead": 0,
           "arrowwidth": 1
          },
          "autotypenumbers": "strict",
          "coloraxis": {
           "colorbar": {
            "outlinewidth": 0,
            "ticks": ""
           }
          },
          "colorscale": {
           "diverging": [
            [
             0,
             "#8e0152"
            ],
            [
             0.1,
             "#c51b7d"
            ],
            [
             0.2,
             "#de77ae"
            ],
            [
             0.3,
             "#f1b6da"
            ],
            [
             0.4,
             "#fde0ef"
            ],
            [
             0.5,
             "#f7f7f7"
            ],
            [
             0.6,
             "#e6f5d0"
            ],
            [
             0.7,
             "#b8e186"
            ],
            [
             0.8,
             "#7fbc41"
            ],
            [
             0.9,
             "#4d9221"
            ],
            [
             1,
             "#276419"
            ]
           ],
           "sequential": [
            [
             0,
             "#0d0887"
            ],
            [
             0.1111111111111111,
             "#46039f"
            ],
            [
             0.2222222222222222,
             "#7201a8"
            ],
            [
             0.3333333333333333,
             "#9c179e"
            ],
            [
             0.4444444444444444,
             "#bd3786"
            ],
            [
             0.5555555555555556,
             "#d8576b"
            ],
            [
             0.6666666666666666,
             "#ed7953"
            ],
            [
             0.7777777777777778,
             "#fb9f3a"
            ],
            [
             0.8888888888888888,
             "#fdca26"
            ],
            [
             1,
             "#f0f921"
            ]
           ],
           "sequentialminus": [
            [
             0,
             "#0d0887"
            ],
            [
             0.1111111111111111,
             "#46039f"
            ],
            [
             0.2222222222222222,
             "#7201a8"
            ],
            [
             0.3333333333333333,
             "#9c179e"
            ],
            [
             0.4444444444444444,
             "#bd3786"
            ],
            [
             0.5555555555555556,
             "#d8576b"
            ],
            [
             0.6666666666666666,
             "#ed7953"
            ],
            [
             0.7777777777777778,
             "#fb9f3a"
            ],
            [
             0.8888888888888888,
             "#fdca26"
            ],
            [
             1,
             "#f0f921"
            ]
           ]
          },
          "colorway": [
           "#636efa",
           "#EF553B",
           "#00cc96",
           "#ab63fa",
           "#FFA15A",
           "#19d3f3",
           "#FF6692",
           "#B6E880",
           "#FF97FF",
           "#FECB52"
          ],
          "font": {
           "color": "#2a3f5f"
          },
          "geo": {
           "bgcolor": "white",
           "lakecolor": "white",
           "landcolor": "#E5ECF6",
           "showlakes": true,
           "showland": true,
           "subunitcolor": "white"
          },
          "hoverlabel": {
           "align": "left"
          },
          "hovermode": "closest",
          "mapbox": {
           "style": "light"
          },
          "paper_bgcolor": "white",
          "plot_bgcolor": "#E5ECF6",
          "polar": {
           "angularaxis": {
            "gridcolor": "white",
            "linecolor": "white",
            "ticks": ""
           },
           "bgcolor": "#E5ECF6",
           "radialaxis": {
            "gridcolor": "white",
            "linecolor": "white",
            "ticks": ""
           }
          },
          "scene": {
           "xaxis": {
            "backgroundcolor": "#E5ECF6",
            "gridcolor": "white",
            "gridwidth": 2,
            "linecolor": "white",
            "showbackground": true,
            "ticks": "",
            "zerolinecolor": "white"
           },
           "yaxis": {
            "backgroundcolor": "#E5ECF6",
            "gridcolor": "white",
            "gridwidth": 2,
            "linecolor": "white",
            "showbackground": true,
            "ticks": "",
            "zerolinecolor": "white"
           },
           "zaxis": {
            "backgroundcolor": "#E5ECF6",
            "gridcolor": "white",
            "gridwidth": 2,
            "linecolor": "white",
            "showbackground": true,
            "ticks": "",
            "zerolinecolor": "white"
           }
          },
          "shapedefaults": {
           "line": {
            "color": "#2a3f5f"
           }
          },
          "ternary": {
           "aaxis": {
            "gridcolor": "white",
            "linecolor": "white",
            "ticks": ""
           },
           "baxis": {
            "gridcolor": "white",
            "linecolor": "white",
            "ticks": ""
           },
           "bgcolor": "#E5ECF6",
           "caxis": {
            "gridcolor": "white",
            "linecolor": "white",
            "ticks": ""
           }
          },
          "title": {
           "x": 0.05
          },
          "xaxis": {
           "automargin": true,
           "gridcolor": "white",
           "linecolor": "white",
           "ticks": "",
           "title": {
            "standoff": 15
           },
           "zerolinecolor": "white",
           "zerolinewidth": 2
          },
          "yaxis": {
           "automargin": true,
           "gridcolor": "white",
           "linecolor": "white",
           "ticks": "",
           "title": {
            "standoff": 15
           },
           "zerolinecolor": "white",
           "zerolinewidth": 2
          }
         }
        },
        "uniformtext": {
         "minsize": 8,
         "mode": "hide"
        }
       }
      }
     },
     "metadata": {},
     "output_type": "display_data"
    }
   ],
   "source": [
    "df[\"Total\"] = \"Total\"\n",
    "df_percentage = round(df.groupby([\"Total\", \"Dataset\", \"Main Trait\", \"Result\"])[\"Species\"].count() / df.groupby([\"Main Trait\"])[\"Species\"].count() * 100, 2).to_frame()\n",
    "df_percentage = df_percentage\\\n",
    "    .rename(columns={\"Species\": \"Percentage\"})\\\n",
    "    .reset_index()\n",
    "\n",
    "\n",
    "color_dict = {label: color for color, label in zip(colors, labels)}\n",
    "color_dict.update({dataset: 'darkblue' for dataset in df_percentage[\"Dataset\"].unique()})\n",
    "color_dict[\"Total\"] = 'red'\n",
    "\n",
    "\n",
    "# df_percentage[\"Color\"] = df_percentage[\"Result\"]\n",
    "# extra_colors = {\"Color\": df_percentage[\"Result\"].to_list() + list(color_dict.keys())}\n",
    "# df_percentage = df_percentage.append(pd.DataFrame(extra_colors))\n",
    "\n",
    "color_dict['(?)'] = 'whitegray'\n",
    "\n",
    "fig = px.sunburst(df_percentage, \n",
    "                  path=['Total', 'Dataset', 'Main Trait', 'Result'], \n",
    "                  values='Percentage', \n",
    "                  color='Result',\n",
    "                  branchvalues=\"total\",\n",
    "                  color_discrete_map=color_dict,\n",
    "                  )\n",
    "\n",
    "fig.update_layout(\n",
    "    margin = dict(t=0, l=0, r=0, b=0),\n",
    "    uniformtext=dict(minsize=8, mode='hide')\n",
    ")\n",
    "\n",
    "# Manual edites\n",
    "# fig['data'][0]['values'][-4:] = 4000\n",
    "\n",
    "fig.show()\n",
    "\n",
    "# print(fig)\n",
    "\n",
    "\n",
    "# folder_figures = \"../../../reports/figures/\"\n",
    "# file_name = \"PxPlot_HTML_SurveysPerTrait_Percentage.html\"\n",
    "# fig.write_html(F\"{folder_figures}{file_name}\")\n",
    "# file_name = \"PxPlot_PDF_SurveysPerTrait_Percentage.pdf\"\n",
    "# fig.write_image(F\"{folder_figures}{file_name}\")"
   ]
  },
  {
   "cell_type": "code",
   "execution_count": 30,
   "id": "b27f217e",
   "metadata": {},
   "outputs": [
    {
     "data": {
      "text/html": [
       "<div>\n",
       "<style scoped>\n",
       "    .dataframe tbody tr th:only-of-type {\n",
       "        vertical-align: middle;\n",
       "    }\n",
       "\n",
       "    .dataframe tbody tr th {\n",
       "        vertical-align: top;\n",
       "    }\n",
       "\n",
       "    .dataframe thead th {\n",
       "        text-align: right;\n",
       "    }\n",
       "</style>\n",
       "<table border=\"1\" class=\"dataframe\">\n",
       "  <thead>\n",
       "    <tr style=\"text-align: right;\">\n",
       "      <th></th>\n",
       "      <th>Total</th>\n",
       "      <th>Dataset</th>\n",
       "      <th>Main Trait</th>\n",
       "      <th>Result</th>\n",
       "      <th>Percentage</th>\n",
       "    </tr>\n",
       "  </thead>\n",
       "  <tbody>\n",
       "    <tr>\n",
       "      <th>0</th>\n",
       "      <td>Total</td>\n",
       "      <td>Caribbean</td>\n",
       "      <td>Fruit colour</td>\n",
       "      <td>Can infer correct Entity</td>\n",
       "      <td>31.15</td>\n",
       "    </tr>\n",
       "    <tr>\n",
       "      <th>1</th>\n",
       "      <td>Total</td>\n",
       "      <td>Caribbean</td>\n",
       "      <td>Fruit colour</td>\n",
       "      <td>Can infer correct Quality</td>\n",
       "      <td>13.11</td>\n",
       "    </tr>\n",
       "    <tr>\n",
       "      <th>2</th>\n",
       "      <td>Total</td>\n",
       "      <td>Caribbean</td>\n",
       "      <td>Fruit colour</td>\n",
       "      <td>Can infer correct Value</td>\n",
       "      <td>27.87</td>\n",
       "    </tr>\n",
       "    <tr>\n",
       "      <th>3</th>\n",
       "      <td>Total</td>\n",
       "      <td>Caribbean</td>\n",
       "      <td>Fruit colour</td>\n",
       "      <td>None of the above</td>\n",
       "      <td>27.87</td>\n",
       "    </tr>\n",
       "    <tr>\n",
       "      <th>4</th>\n",
       "      <td>Total</td>\n",
       "      <td>Caribbean</td>\n",
       "      <td>Fruit shape</td>\n",
       "      <td>Can infer correct Entity</td>\n",
       "      <td>40.00</td>\n",
       "    </tr>\n",
       "    <tr>\n",
       "      <th>...</th>\n",
       "      <td>...</td>\n",
       "      <td>...</td>\n",
       "      <td>...</td>\n",
       "      <td>...</td>\n",
       "      <td>...</td>\n",
       "    </tr>\n",
       "    <tr>\n",
       "      <th>155</th>\n",
       "      <td>NaN</td>\n",
       "      <td>NaN</td>\n",
       "      <td>NaN</td>\n",
       "      <td>Can infer correct Value</td>\n",
       "      <td>NaN</td>\n",
       "    </tr>\n",
       "    <tr>\n",
       "      <th>156</th>\n",
       "      <td>NaN</td>\n",
       "      <td>NaN</td>\n",
       "      <td>NaN</td>\n",
       "      <td>Caribbean</td>\n",
       "      <td>NaN</td>\n",
       "    </tr>\n",
       "    <tr>\n",
       "      <th>157</th>\n",
       "      <td>NaN</td>\n",
       "      <td>NaN</td>\n",
       "      <td>NaN</td>\n",
       "      <td>Palm</td>\n",
       "      <td>NaN</td>\n",
       "    </tr>\n",
       "    <tr>\n",
       "      <th>158</th>\n",
       "      <td>NaN</td>\n",
       "      <td>NaN</td>\n",
       "      <td>NaN</td>\n",
       "      <td>PlantNet</td>\n",
       "      <td>NaN</td>\n",
       "    </tr>\n",
       "    <tr>\n",
       "      <th>159</th>\n",
       "      <td>NaN</td>\n",
       "      <td>NaN</td>\n",
       "      <td>NaN</td>\n",
       "      <td>Total</td>\n",
       "      <td>NaN</td>\n",
       "    </tr>\n",
       "  </tbody>\n",
       "</table>\n",
       "<p>312 rows × 5 columns</p>\n",
       "</div>"
      ],
      "text/plain": [
       "     Total    Dataset    Main Trait                     Result  Percentage\n",
       "0    Total  Caribbean  Fruit colour   Can infer correct Entity       31.15\n",
       "1    Total  Caribbean  Fruit colour  Can infer correct Quality       13.11\n",
       "2    Total  Caribbean  Fruit colour    Can infer correct Value       27.87\n",
       "3    Total  Caribbean  Fruit colour          None of the above       27.87\n",
       "4    Total  Caribbean   Fruit shape   Can infer correct Entity       40.00\n",
       "..     ...        ...           ...                        ...         ...\n",
       "155    NaN        NaN           NaN    Can infer correct Value         NaN\n",
       "156    NaN        NaN           NaN                  Caribbean         NaN\n",
       "157    NaN        NaN           NaN                       Palm         NaN\n",
       "158    NaN        NaN           NaN                   PlantNet         NaN\n",
       "159    NaN        NaN           NaN                      Total         NaN\n",
       "\n",
       "[312 rows x 5 columns]"
      ]
     },
     "execution_count": 30,
     "metadata": {},
     "output_type": "execute_result"
    }
   ],
   "source": [
    "df_percentage"
   ]
  },
  {
   "cell_type": "code",
   "execution_count": 84,
   "id": "6c062ef1",
   "metadata": {},
   "outputs": [
    {
     "data": {
      "application/vnd.plotly.v1+json": {
       "config": {
        "plotlyServerURL": "https://plot.ly"
       },
       "data": [
        {
         "labels": [
          "Crown",
          "Crown",
          "Crown",
          "Crown",
          "Fruit Colour",
          "Fruit Colour",
          "Fruit Colour",
          "Fruit Colour Description",
          "Fruit Colour Description",
          "Fruit Colour Description",
          "Fruit Colour Description",
          "Fruit Shape",
          "Fruit Shape",
          "Fruit Shape",
          "Fruit Shape",
          "Fruit Size",
          "Fruit Size",
          "Fruit Size",
          "Fruit Size",
          "Fruit colour",
          "Fruit colour",
          "Fruit colour",
          "Fruit colour",
          "Fruit shape",
          "Fruit shape",
          "Fruit shape",
          "Fruit shape",
          "Fruit type",
          "Fruit type",
          "Fruit type",
          "Fruit type",
          "Inflorescence type",
          "Inflorescence type",
          "Inflorescence type",
          "Leaf composition",
          "Leaf composition",
          "Leaf composition",
          "Leaf composition",
          "Leaf glands",
          "Leaf glands",
          "Leaf glands",
          "Leaf glands",
          "Leaf lower side",
          "Leaf lower side",
          "Leaf lower side",
          "Leaf lower side",
          "Leaf margin",
          "Leaf margin",
          "Leaf margin",
          "Leaf position",
          "Leaf position",
          "Leaf position",
          "Leaf rachis",
          "Leaf rachis",
          "Leaf shape",
          "Leaf shape",
          "Leaf shape",
          "Leaf shape",
          "Leaf upper side",
          "Leaf upper side",
          "Leaf upper side",
          "Leaf upper side",
          "Life form",
          "Life form",
          "Life form",
          "Life form",
          "Measurement",
          "Measurement",
          "Measurement",
          "Measurement",
          "Petals / corolla colour",
          "Petals / corolla colour",
          "Petals / corolla colour",
          "Petals / corolla colour",
          "Petals / corolla number",
          "Petals / corolla number",
          "Petals / corolla number",
          "Petals / corolla shape",
          "Petals / corolla shape",
          "Petals / corolla shape",
          "Seed colour",
          "Seed colour",
          "Seed colour",
          "Seed colour",
          "Sepals / calyx shape",
          "Sepals / calyx shape",
          "Sepals / calyx shape",
          "Sepals / calyx shape",
          "Stamen number",
          "Stamen number",
          "Stamen number",
          "Stamen number",
          "Stamen shape",
          "Stamen shape",
          "Stamen shape",
          "bark",
          "bark",
          "bark",
          "bark",
          "blade color",
          "crown",
          "crown",
          "crown",
          "flower color",
          "flower color",
          "flower color",
          "flower shape",
          "flower shape",
          "flower shape",
          "flower shape",
          "fruit",
          "fruit",
          "fruit",
          "fruit",
          "inflorescences",
          "inflorescences",
          "inflorescences",
          "inflorescences",
          "latex",
          "leaf apex",
          "leaf apex",
          "leaf apex",
          "leaf apex",
          "leaf base",
          "leaf base",
          "leaf base",
          "leaf base",
          "leaf blade",
          "leaf blade",
          "leaf blade",
          "leaf blade",
          "leaf margin",
          "leaf margin",
          "leaf margin",
          "leaf margin",
          "leaf shape",
          "leaf shape",
          "leaf shape",
          "leaf shape",
          "petiole",
          "petiole",
          "petiole",
          "petiole",
          "phyllotaxis",
          "phyllotaxis",
          "phyllotaxis",
          "plant type",
          "plant type",
          "plant type",
          "plant type",
          "sexuality",
          "sexuality",
          "sexuality",
          "spine",
          "spine",
          "stem shape",
          "tendril",
          "tendril",
          "tendril",
          "trunk and root",
          "trunk and root",
          "trunk and root",
          "vein",
          "vein",
          "vein",
          "vein",
          "Caribbean",
          "Caribbean",
          "Caribbean",
          "Caribbean",
          "Palm",
          "Palm",
          "Palm",
          "Palm",
          "PlantNet",
          "PlantNet",
          "PlantNet",
          "PlantNet",
          "Can infer correct Entity",
          "Can infer correct Quality",
          "Can infer correct Value",
          "None of the above",
          "total"
         ],
         "parents": [
          "Palm",
          "Palm",
          "Palm",
          "Palm",
          "Palm",
          "Palm",
          "Palm",
          "Palm",
          "Palm",
          "Palm",
          "Palm",
          "Palm",
          "Palm",
          "Palm",
          "Palm",
          "Palm",
          "Palm",
          "Palm",
          "Palm",
          "Caribbean",
          "Caribbean",
          "Caribbean",
          "Caribbean",
          "Caribbean",
          "Caribbean",
          "Caribbean",
          "Caribbean",
          "Caribbean",
          "Caribbean",
          "Caribbean",
          "Caribbean",
          "Caribbean",
          "Caribbean",
          "Caribbean",
          "Caribbean",
          "Caribbean",
          "Caribbean",
          "Caribbean",
          "Caribbean",
          "Caribbean",
          "Caribbean",
          "Caribbean",
          "Caribbean",
          "Caribbean",
          "Caribbean",
          "Caribbean",
          "Caribbean",
          "Caribbean",
          "Caribbean",
          "Caribbean",
          "Caribbean",
          "Caribbean",
          "Caribbean",
          "Caribbean",
          "Caribbean",
          "Caribbean",
          "Caribbean",
          "Caribbean",
          "Caribbean",
          "Caribbean",
          "Caribbean",
          "Caribbean",
          "Caribbean",
          "Caribbean",
          "Caribbean",
          "Caribbean",
          "Palm",
          "Palm",
          "Palm",
          "Palm",
          "Caribbean",
          "Caribbean",
          "Caribbean",
          "Caribbean",
          "Caribbean",
          "Caribbean",
          "Caribbean",
          "Caribbean",
          "Caribbean",
          "Caribbean",
          "Caribbean",
          "Caribbean",
          "Caribbean",
          "Caribbean",
          "Caribbean",
          "Caribbean",
          "Caribbean",
          "Caribbean",
          "Caribbean",
          "Caribbean",
          "Caribbean",
          "Caribbean",
          "Caribbean",
          "Caribbean",
          "Caribbean",
          "PlantNet",
          "PlantNet",
          "PlantNet",
          "PlantNet",
          "PlantNet",
          "PlantNet",
          "PlantNet",
          "PlantNet",
          "PlantNet",
          "PlantNet",
          "PlantNet",
          "PlantNet",
          "PlantNet",
          "PlantNet",
          "PlantNet",
          "PlantNet",
          "PlantNet",
          "PlantNet",
          "PlantNet",
          "PlantNet",
          "PlantNet",
          "PlantNet",
          "PlantNet",
          "PlantNet",
          "PlantNet",
          "PlantNet",
          "PlantNet",
          "PlantNet",
          "PlantNet",
          "PlantNet",
          "PlantNet",
          "PlantNet",
          "PlantNet",
          "PlantNet",
          "PlantNet",
          "PlantNet",
          "PlantNet",
          "PlantNet",
          "PlantNet",
          "PlantNet",
          "PlantNet",
          "PlantNet",
          "PlantNet",
          "PlantNet",
          "PlantNet",
          "PlantNet",
          "PlantNet",
          "PlantNet",
          "PlantNet",
          "PlantNet",
          "PlantNet",
          "PlantNet",
          "PlantNet",
          "PlantNet",
          "PlantNet",
          "PlantNet",
          "PlantNet",
          "PlantNet",
          "PlantNet",
          "PlantNet",
          "PlantNet",
          "PlantNet",
          "PlantNet",
          "PlantNet",
          "PlantNet",
          "PlantNet",
          "PlantNet",
          "PlantNet",
          "PlantNet",
          "PlantNet",
          "PlantNet",
          "Can infer correct Entity",
          "Can infer correct Quality",
          "Can infer correct Value",
          "None of the above",
          "Can infer correct Entity",
          "Can infer correct Quality",
          "Can infer correct Value",
          "None of the above",
          "Can infer correct Entity",
          "Can infer correct Quality",
          "Can infer correct Value",
          "None of the above",
          "total",
          "total",
          "total",
          "total",
          ""
         ],
         "type": "sunburst",
         "values": [
          1,
          3,
          3,
          4,
          4,
          1,
          1,
          4,
          3,
          5,
          9,
          15,
          1,
          5,
          14,
          6,
          1,
          7,
          6,
          17,
          10,
          18,
          15,
          13,
          3,
          9,
          7,
          6,
          4,
          5,
          3,
          1,
          4,
          5,
          1,
          2,
          5,
          4,
          8,
          1,
          2,
          1,
          17,
          2,
          3,
          6,
          11,
          3,
          9,
          2,
          2,
          3,
          5,
          1,
          22,
          2,
          7,
          18,
          15,
          1,
          9,
          8,
          5,
          2,
          10,
          3,
          53,
          16,
          34,
          52,
          7,
          1,
          7,
          13,
          2,
          1,
          2,
          3,
          2,
          5,
          2,
          1,
          3,
          4,
          8,
          2,
          3,
          12,
          4,
          2,
          4,
          3,
          4,
          4,
          7,
          2,
          1,
          1,
          5,
          2,
          5,
          4,
          6,
          4,
          3,
          5,
          10,
          5,
          14,
          19,
          8,
          3,
          8,
          14,
          13,
          1,
          10,
          15,
          3,
          13,
          8,
          12,
          33,
          12,
          1,
          16,
          23,
          8,
          2,
          6,
          10,
          13,
          3,
          7,
          22,
          9,
          5,
          12,
          24,
          7,
          4,
          8,
          6,
          1,
          1,
          6,
          5,
          1,
          13,
          13,
          1,
          2,
          6,
          1,
          2,
          1,
          1,
          4,
          9,
          3,
          3,
          4,
          9,
          3,
          7,
          16,
          153,
          33,
          101,
          129,
          83,
          25,
          54,
          86,
          126,
          38,
          134,
          239,
          362,
          96,
          289,
          454,
          1201
         ]
        }
       ],
       "layout": {
        "template": {
         "data": {
          "bar": [
           {
            "error_x": {
             "color": "#2a3f5f"
            },
            "error_y": {
             "color": "#2a3f5f"
            },
            "marker": {
             "line": {
              "color": "#E5ECF6",
              "width": 0.5
             },
             "pattern": {
              "fillmode": "overlay",
              "size": 10,
              "solidity": 0.2
             }
            },
            "type": "bar"
           }
          ],
          "barpolar": [
           {
            "marker": {
             "line": {
              "color": "#E5ECF6",
              "width": 0.5
             },
             "pattern": {
              "fillmode": "overlay",
              "size": 10,
              "solidity": 0.2
             }
            },
            "type": "barpolar"
           }
          ],
          "carpet": [
           {
            "aaxis": {
             "endlinecolor": "#2a3f5f",
             "gridcolor": "white",
             "linecolor": "white",
             "minorgridcolor": "white",
             "startlinecolor": "#2a3f5f"
            },
            "baxis": {
             "endlinecolor": "#2a3f5f",
             "gridcolor": "white",
             "linecolor": "white",
             "minorgridcolor": "white",
             "startlinecolor": "#2a3f5f"
            },
            "type": "carpet"
           }
          ],
          "choropleth": [
           {
            "colorbar": {
             "outlinewidth": 0,
             "ticks": ""
            },
            "type": "choropleth"
           }
          ],
          "contour": [
           {
            "colorbar": {
             "outlinewidth": 0,
             "ticks": ""
            },
            "colorscale": [
             [
              0,
              "#0d0887"
             ],
             [
              0.1111111111111111,
              "#46039f"
             ],
             [
              0.2222222222222222,
              "#7201a8"
             ],
             [
              0.3333333333333333,
              "#9c179e"
             ],
             [
              0.4444444444444444,
              "#bd3786"
             ],
             [
              0.5555555555555556,
              "#d8576b"
             ],
             [
              0.6666666666666666,
              "#ed7953"
             ],
             [
              0.7777777777777778,
              "#fb9f3a"
             ],
             [
              0.8888888888888888,
              "#fdca26"
             ],
             [
              1,
              "#f0f921"
             ]
            ],
            "type": "contour"
           }
          ],
          "contourcarpet": [
           {
            "colorbar": {
             "outlinewidth": 0,
             "ticks": ""
            },
            "type": "contourcarpet"
           }
          ],
          "heatmap": [
           {
            "colorbar": {
             "outlinewidth": 0,
             "ticks": ""
            },
            "colorscale": [
             [
              0,
              "#0d0887"
             ],
             [
              0.1111111111111111,
              "#46039f"
             ],
             [
              0.2222222222222222,
              "#7201a8"
             ],
             [
              0.3333333333333333,
              "#9c179e"
             ],
             [
              0.4444444444444444,
              "#bd3786"
             ],
             [
              0.5555555555555556,
              "#d8576b"
             ],
             [
              0.6666666666666666,
              "#ed7953"
             ],
             [
              0.7777777777777778,
              "#fb9f3a"
             ],
             [
              0.8888888888888888,
              "#fdca26"
             ],
             [
              1,
              "#f0f921"
             ]
            ],
            "type": "heatmap"
           }
          ],
          "heatmapgl": [
           {
            "colorbar": {
             "outlinewidth": 0,
             "ticks": ""
            },
            "colorscale": [
             [
              0,
              "#0d0887"
             ],
             [
              0.1111111111111111,
              "#46039f"
             ],
             [
              0.2222222222222222,
              "#7201a8"
             ],
             [
              0.3333333333333333,
              "#9c179e"
             ],
             [
              0.4444444444444444,
              "#bd3786"
             ],
             [
              0.5555555555555556,
              "#d8576b"
             ],
             [
              0.6666666666666666,
              "#ed7953"
             ],
             [
              0.7777777777777778,
              "#fb9f3a"
             ],
             [
              0.8888888888888888,
              "#fdca26"
             ],
             [
              1,
              "#f0f921"
             ]
            ],
            "type": "heatmapgl"
           }
          ],
          "histogram": [
           {
            "marker": {
             "pattern": {
              "fillmode": "overlay",
              "size": 10,
              "solidity": 0.2
             }
            },
            "type": "histogram"
           }
          ],
          "histogram2d": [
           {
            "colorbar": {
             "outlinewidth": 0,
             "ticks": ""
            },
            "colorscale": [
             [
              0,
              "#0d0887"
             ],
             [
              0.1111111111111111,
              "#46039f"
             ],
             [
              0.2222222222222222,
              "#7201a8"
             ],
             [
              0.3333333333333333,
              "#9c179e"
             ],
             [
              0.4444444444444444,
              "#bd3786"
             ],
             [
              0.5555555555555556,
              "#d8576b"
             ],
             [
              0.6666666666666666,
              "#ed7953"
             ],
             [
              0.7777777777777778,
              "#fb9f3a"
             ],
             [
              0.8888888888888888,
              "#fdca26"
             ],
             [
              1,
              "#f0f921"
             ]
            ],
            "type": "histogram2d"
           }
          ],
          "histogram2dcontour": [
           {
            "colorbar": {
             "outlinewidth": 0,
             "ticks": ""
            },
            "colorscale": [
             [
              0,
              "#0d0887"
             ],
             [
              0.1111111111111111,
              "#46039f"
             ],
             [
              0.2222222222222222,
              "#7201a8"
             ],
             [
              0.3333333333333333,
              "#9c179e"
             ],
             [
              0.4444444444444444,
              "#bd3786"
             ],
             [
              0.5555555555555556,
              "#d8576b"
             ],
             [
              0.6666666666666666,
              "#ed7953"
             ],
             [
              0.7777777777777778,
              "#fb9f3a"
             ],
             [
              0.8888888888888888,
              "#fdca26"
             ],
             [
              1,
              "#f0f921"
             ]
            ],
            "type": "histogram2dcontour"
           }
          ],
          "mesh3d": [
           {
            "colorbar": {
             "outlinewidth": 0,
             "ticks": ""
            },
            "type": "mesh3d"
           }
          ],
          "parcoords": [
           {
            "line": {
             "colorbar": {
              "outlinewidth": 0,
              "ticks": ""
             }
            },
            "type": "parcoords"
           }
          ],
          "pie": [
           {
            "automargin": true,
            "type": "pie"
           }
          ],
          "scatter": [
           {
            "fillpattern": {
             "fillmode": "overlay",
             "size": 10,
             "solidity": 0.2
            },
            "type": "scatter"
           }
          ],
          "scatter3d": [
           {
            "line": {
             "colorbar": {
              "outlinewidth": 0,
              "ticks": ""
             }
            },
            "marker": {
             "colorbar": {
              "outlinewidth": 0,
              "ticks": ""
             }
            },
            "type": "scatter3d"
           }
          ],
          "scattercarpet": [
           {
            "marker": {
             "colorbar": {
              "outlinewidth": 0,
              "ticks": ""
             }
            },
            "type": "scattercarpet"
           }
          ],
          "scattergeo": [
           {
            "marker": {
             "colorbar": {
              "outlinewidth": 0,
              "ticks": ""
             }
            },
            "type": "scattergeo"
           }
          ],
          "scattergl": [
           {
            "marker": {
             "colorbar": {
              "outlinewidth": 0,
              "ticks": ""
             }
            },
            "type": "scattergl"
           }
          ],
          "scattermapbox": [
           {
            "marker": {
             "colorbar": {
              "outlinewidth": 0,
              "ticks": ""
             }
            },
            "type": "scattermapbox"
           }
          ],
          "scatterpolar": [
           {
            "marker": {
             "colorbar": {
              "outlinewidth": 0,
              "ticks": ""
             }
            },
            "type": "scatterpolar"
           }
          ],
          "scatterpolargl": [
           {
            "marker": {
             "colorbar": {
              "outlinewidth": 0,
              "ticks": ""
             }
            },
            "type": "scatterpolargl"
           }
          ],
          "scatterternary": [
           {
            "marker": {
             "colorbar": {
              "outlinewidth": 0,
              "ticks": ""
             }
            },
            "type": "scatterternary"
           }
          ],
          "surface": [
           {
            "colorbar": {
             "outlinewidth": 0,
             "ticks": ""
            },
            "colorscale": [
             [
              0,
              "#0d0887"
             ],
             [
              0.1111111111111111,
              "#46039f"
             ],
             [
              0.2222222222222222,
              "#7201a8"
             ],
             [
              0.3333333333333333,
              "#9c179e"
             ],
             [
              0.4444444444444444,
              "#bd3786"
             ],
             [
              0.5555555555555556,
              "#d8576b"
             ],
             [
              0.6666666666666666,
              "#ed7953"
             ],
             [
              0.7777777777777778,
              "#fb9f3a"
             ],
             [
              0.8888888888888888,
              "#fdca26"
             ],
             [
              1,
              "#f0f921"
             ]
            ],
            "type": "surface"
           }
          ],
          "table": [
           {
            "cells": {
             "fill": {
              "color": "#EBF0F8"
             },
             "line": {
              "color": "white"
             }
            },
            "header": {
             "fill": {
              "color": "#C8D4E3"
             },
             "line": {
              "color": "white"
             }
            },
            "type": "table"
           }
          ]
         },
         "layout": {
          "annotationdefaults": {
           "arrowcolor": "#2a3f5f",
           "arrowhead": 0,
           "arrowwidth": 1
          },
          "autotypenumbers": "strict",
          "coloraxis": {
           "colorbar": {
            "outlinewidth": 0,
            "ticks": ""
           }
          },
          "colorscale": {
           "diverging": [
            [
             0,
             "#8e0152"
            ],
            [
             0.1,
             "#c51b7d"
            ],
            [
             0.2,
             "#de77ae"
            ],
            [
             0.3,
             "#f1b6da"
            ],
            [
             0.4,
             "#fde0ef"
            ],
            [
             0.5,
             "#f7f7f7"
            ],
            [
             0.6,
             "#e6f5d0"
            ],
            [
             0.7,
             "#b8e186"
            ],
            [
             0.8,
             "#7fbc41"
            ],
            [
             0.9,
             "#4d9221"
            ],
            [
             1,
             "#276419"
            ]
           ],
           "sequential": [
            [
             0,
             "#0d0887"
            ],
            [
             0.1111111111111111,
             "#46039f"
            ],
            [
             0.2222222222222222,
             "#7201a8"
            ],
            [
             0.3333333333333333,
             "#9c179e"
            ],
            [
             0.4444444444444444,
             "#bd3786"
            ],
            [
             0.5555555555555556,
             "#d8576b"
            ],
            [
             0.6666666666666666,
             "#ed7953"
            ],
            [
             0.7777777777777778,
             "#fb9f3a"
            ],
            [
             0.8888888888888888,
             "#fdca26"
            ],
            [
             1,
             "#f0f921"
            ]
           ],
           "sequentialminus": [
            [
             0,
             "#0d0887"
            ],
            [
             0.1111111111111111,
             "#46039f"
            ],
            [
             0.2222222222222222,
             "#7201a8"
            ],
            [
             0.3333333333333333,
             "#9c179e"
            ],
            [
             0.4444444444444444,
             "#bd3786"
            ],
            [
             0.5555555555555556,
             "#d8576b"
            ],
            [
             0.6666666666666666,
             "#ed7953"
            ],
            [
             0.7777777777777778,
             "#fb9f3a"
            ],
            [
             0.8888888888888888,
             "#fdca26"
            ],
            [
             1,
             "#f0f921"
            ]
           ]
          },
          "colorway": [
           "#636efa",
           "#EF553B",
           "#00cc96",
           "#ab63fa",
           "#FFA15A",
           "#19d3f3",
           "#FF6692",
           "#B6E880",
           "#FF97FF",
           "#FECB52"
          ],
          "font": {
           "color": "#2a3f5f"
          },
          "geo": {
           "bgcolor": "white",
           "lakecolor": "white",
           "landcolor": "#E5ECF6",
           "showlakes": true,
           "showland": true,
           "subunitcolor": "white"
          },
          "hoverlabel": {
           "align": "left"
          },
          "hovermode": "closest",
          "mapbox": {
           "style": "light"
          },
          "paper_bgcolor": "white",
          "plot_bgcolor": "#E5ECF6",
          "polar": {
           "angularaxis": {
            "gridcolor": "white",
            "linecolor": "white",
            "ticks": ""
           },
           "bgcolor": "#E5ECF6",
           "radialaxis": {
            "gridcolor": "white",
            "linecolor": "white",
            "ticks": ""
           }
          },
          "scene": {
           "xaxis": {
            "backgroundcolor": "#E5ECF6",
            "gridcolor": "white",
            "gridwidth": 2,
            "linecolor": "white",
            "showbackground": true,
            "ticks": "",
            "zerolinecolor": "white"
           },
           "yaxis": {
            "backgroundcolor": "#E5ECF6",
            "gridcolor": "white",
            "gridwidth": 2,
            "linecolor": "white",
            "showbackground": true,
            "ticks": "",
            "zerolinecolor": "white"
           },
           "zaxis": {
            "backgroundcolor": "#E5ECF6",
            "gridcolor": "white",
            "gridwidth": 2,
            "linecolor": "white",
            "showbackground": true,
            "ticks": "",
            "zerolinecolor": "white"
           }
          },
          "shapedefaults": {
           "line": {
            "color": "#2a3f5f"
           }
          },
          "ternary": {
           "aaxis": {
            "gridcolor": "white",
            "linecolor": "white",
            "ticks": ""
           },
           "baxis": {
            "gridcolor": "white",
            "linecolor": "white",
            "ticks": ""
           },
           "bgcolor": "#E5ECF6",
           "caxis": {
            "gridcolor": "white",
            "linecolor": "white",
            "ticks": ""
           }
          },
          "title": {
           "x": 0.05
          },
          "xaxis": {
           "automargin": true,
           "gridcolor": "white",
           "linecolor": "white",
           "ticks": "",
           "title": {
            "standoff": 15
           },
           "zerolinecolor": "white",
           "zerolinewidth": 2
          },
          "yaxis": {
           "automargin": true,
           "gridcolor": "white",
           "linecolor": "white",
           "ticks": "",
           "title": {
            "standoff": 15
           },
           "zerolinecolor": "white",
           "zerolinewidth": 2
          }
         }
        }
       }
      }
     },
     "metadata": {},
     "output_type": "display_data"
    }
   ],
   "source": [
    "fig = go.Figure(go.Sunburst(\n",
    "    labels=df_all_trees['id'],\n",
    "    parents=df_all_trees['parent'],\n",
    "    values=df_all_trees['value'],\n",
    "#     branchvalues='total',\n",
    "#     marker=dict(\n",
    "#         colors=df_all_trees['color'],\n",
    "#         colorscale='RdBu',\n",
    "#         cmid=average_score),\n",
    "#     hovertemplate='<b>%{label} </b> <br> Sales: %{value}<br> Success rate: %{color:.2f}',\n",
    "#     name=''\n",
    "    )\n",
    ")\n",
    "fig.show()"
   ]
  },
  {
   "attachments": {},
   "cell_type": "markdown",
   "id": "743fae9e",
   "metadata": {},
   "source": [
    "#### Normal"
   ]
  },
  {
   "cell_type": "code",
   "execution_count": null,
   "id": "a5a478d8",
   "metadata": {},
   "outputs": [],
   "source": [
    "# labels = ['None of the above', 'Can infer correct Entity', 'Can infer correct Quality', 'Can infer correct Value']\n",
    "\n",
    "# colors = [\n",
    "#     'rgb(175, 49, 35)', \n",
    "#     'rgb(151, 179, 100)',\n",
    "#     'rgb(33, 75, 99)',\n",
    "#     'rgb(79, 129, 102)',\n",
    "#       ]\n",
    "\n",
    "# color_dict = {label: color for color, label in zip(colors, labels)}\n",
    "# color_dict['(?)'] = 'black'\n",
    "\n",
    "# fig = px.sunburst(df_melt, \n",
    "#                   path=['Main Trait', 'variable'], \n",
    "#                   values='value', \n",
    "#                   color='variable',\n",
    "#                   color_discrete_map=color_dict)\n",
    "\n",
    "# fig.update_layout(\n",
    "#     margin = dict(t=0, l=0, r=0, b=0),\n",
    "#     uniformtext=dict(minsize=8, mode='hide')\n",
    "# )\n",
    "\n",
    "# fig.show()\n",
    "\n",
    "# folder_figures = \"../../../reports/figures/\"\n",
    "# file_name = \"PxPlot_HTML_SurveysPerTrait_Grouped.html\"\n",
    "# fig.write_html(F\"{folder_figures}{file_name}\")\n",
    "# file_name = \"PxPlot_PDF_SurveysPerTrait_Grouped.pdf\"\n",
    "# fig.write_image(F\"{folder_figures}{file_name}\")"
   ]
  },
  {
   "attachments": {},
   "cell_type": "markdown",
   "id": "cdd160f8",
   "metadata": {},
   "source": [
    "#### Dataset/Group"
   ]
  },
  {
   "cell_type": "code",
   "execution_count": 6,
   "id": "b4fe199a",
   "metadata": {},
   "outputs": [
    {
     "ename": "NameError",
     "evalue": "name 'df_melt' is not defined",
     "output_type": "error",
     "traceback": [
      "\u001b[0;31m---------------------------------------------------------------------------\u001b[0m",
      "\u001b[0;31mNameError\u001b[0m                                 Traceback (most recent call last)",
      "\u001b[1;32m/Users/robertvandevlasakker/Documents/Wageningen University/Period 0 - GRS 70424 Internship/notebooks/reports/surveys/1.2_survey_analyses.ipynb Cell 17\u001b[0m in \u001b[0;36m<cell line: 14>\u001b[0;34m()\u001b[0m\n\u001b[1;32m     <a href='vscode-notebook-cell:/Users/robertvandevlasakker/Documents/Wageningen%20University/Period%200%20-%20GRS%2070424%20Internship/notebooks/reports/surveys/1.2_survey_analyses.ipynb#X21sZmlsZQ%3D%3D?line=10'>11</a>\u001b[0m color_dict[\u001b[39m'\u001b[39m\u001b[39m(?)\u001b[39m\u001b[39m'\u001b[39m] \u001b[39m=\u001b[39m \u001b[39m'\u001b[39m\u001b[39mblack\u001b[39m\u001b[39m'\u001b[39m\n\u001b[1;32m     <a href='vscode-notebook-cell:/Users/robertvandevlasakker/Documents/Wageningen%20University/Period%200%20-%20GRS%2070424%20Internship/notebooks/reports/surveys/1.2_survey_analyses.ipynb#X21sZmlsZQ%3D%3D?line=11'>12</a>\u001b[0m color_dict[\u001b[39m'\u001b[39m\u001b[39mTotal\u001b[39m\u001b[39m'\u001b[39m] \u001b[39m=\u001b[39m \u001b[39m'\u001b[39m\u001b[39mblue\u001b[39m\u001b[39m'\u001b[39m\n\u001b[0;32m---> <a href='vscode-notebook-cell:/Users/robertvandevlasakker/Documents/Wageningen%20University/Period%200%20-%20GRS%2070424%20Internship/notebooks/reports/surveys/1.2_survey_analyses.ipynb#X21sZmlsZQ%3D%3D?line=13'>14</a>\u001b[0m fig \u001b[39m=\u001b[39m px\u001b[39m.\u001b[39msunburst(df_melt, \n\u001b[1;32m     <a href='vscode-notebook-cell:/Users/robertvandevlasakker/Documents/Wageningen%20University/Period%200%20-%20GRS%2070424%20Internship/notebooks/reports/surveys/1.2_survey_analyses.ipynb#X21sZmlsZQ%3D%3D?line=14'>15</a>\u001b[0m                   path\u001b[39m=\u001b[39m[\u001b[39m'\u001b[39m\u001b[39mDataset\u001b[39m\u001b[39m'\u001b[39m, \u001b[39m'\u001b[39m\u001b[39mMain Trait\u001b[39m\u001b[39m'\u001b[39m, \u001b[39m'\u001b[39m\u001b[39mvariable\u001b[39m\u001b[39m'\u001b[39m], \n\u001b[1;32m     <a href='vscode-notebook-cell:/Users/robertvandevlasakker/Documents/Wageningen%20University/Period%200%20-%20GRS%2070424%20Internship/notebooks/reports/surveys/1.2_survey_analyses.ipynb#X21sZmlsZQ%3D%3D?line=15'>16</a>\u001b[0m                   values\u001b[39m=\u001b[39m\u001b[39m'\u001b[39m\u001b[39mvalue\u001b[39m\u001b[39m'\u001b[39m, \n\u001b[1;32m     <a href='vscode-notebook-cell:/Users/robertvandevlasakker/Documents/Wageningen%20University/Period%200%20-%20GRS%2070424%20Internship/notebooks/reports/surveys/1.2_survey_analyses.ipynb#X21sZmlsZQ%3D%3D?line=16'>17</a>\u001b[0m                   color\u001b[39m=\u001b[39m\u001b[39m'\u001b[39m\u001b[39mvariable\u001b[39m\u001b[39m'\u001b[39m,\n\u001b[1;32m     <a href='vscode-notebook-cell:/Users/robertvandevlasakker/Documents/Wageningen%20University/Period%200%20-%20GRS%2070424%20Internship/notebooks/reports/surveys/1.2_survey_analyses.ipynb#X21sZmlsZQ%3D%3D?line=17'>18</a>\u001b[0m                   color_discrete_map\u001b[39m=\u001b[39mcolor_dict,\n\u001b[1;32m     <a href='vscode-notebook-cell:/Users/robertvandevlasakker/Documents/Wageningen%20University/Period%200%20-%20GRS%2070424%20Internship/notebooks/reports/surveys/1.2_survey_analyses.ipynb#X21sZmlsZQ%3D%3D?line=18'>19</a>\u001b[0m                   \u001b[39m# branchvalues='remainder',\u001b[39;00m\n\u001b[1;32m     <a href='vscode-notebook-cell:/Users/robertvandevlasakker/Documents/Wageningen%20University/Period%200%20-%20GRS%2070424%20Internship/notebooks/reports/surveys/1.2_survey_analyses.ipynb#X21sZmlsZQ%3D%3D?line=19'>20</a>\u001b[0m                   \u001b[39m# maxdepth=-1,\u001b[39;00m\n\u001b[1;32m     <a href='vscode-notebook-cell:/Users/robertvandevlasakker/Documents/Wageningen%20University/Period%200%20-%20GRS%2070424%20Internship/notebooks/reports/surveys/1.2_survey_analyses.ipynb#X21sZmlsZQ%3D%3D?line=20'>21</a>\u001b[0m                   \u001b[39m# hover_data=['Dataset', 'Main Trait', 'variable'],\u001b[39;00m\n\u001b[1;32m     <a href='vscode-notebook-cell:/Users/robertvandevlasakker/Documents/Wageningen%20University/Period%200%20-%20GRS%2070424%20Internship/notebooks/reports/surveys/1.2_survey_analyses.ipynb#X21sZmlsZQ%3D%3D?line=21'>22</a>\u001b[0m                   \u001b[39m# hover_name=['Dataset', 'Main Trait', 'variable'],\u001b[39;00m\n\u001b[1;32m     <a href='vscode-notebook-cell:/Users/robertvandevlasakker/Documents/Wageningen%20University/Period%200%20-%20GRS%2070424%20Internship/notebooks/reports/surveys/1.2_survey_analyses.ipynb#X21sZmlsZQ%3D%3D?line=22'>23</a>\u001b[0m                   )\n\u001b[1;32m     <a href='vscode-notebook-cell:/Users/robertvandevlasakker/Documents/Wageningen%20University/Period%200%20-%20GRS%2070424%20Internship/notebooks/reports/surveys/1.2_survey_analyses.ipynb#X21sZmlsZQ%3D%3D?line=24'>25</a>\u001b[0m fig\u001b[39m.\u001b[39mupdate_layout(\n\u001b[1;32m     <a href='vscode-notebook-cell:/Users/robertvandevlasakker/Documents/Wageningen%20University/Period%200%20-%20GRS%2070424%20Internship/notebooks/reports/surveys/1.2_survey_analyses.ipynb#X21sZmlsZQ%3D%3D?line=25'>26</a>\u001b[0m     margin \u001b[39m=\u001b[39m \u001b[39mdict\u001b[39m(t\u001b[39m=\u001b[39m\u001b[39m0\u001b[39m, l\u001b[39m=\u001b[39m\u001b[39m0\u001b[39m, r\u001b[39m=\u001b[39m\u001b[39m0\u001b[39m, b\u001b[39m=\u001b[39m\u001b[39m0\u001b[39m),\n\u001b[1;32m     <a href='vscode-notebook-cell:/Users/robertvandevlasakker/Documents/Wageningen%20University/Period%200%20-%20GRS%2070424%20Internship/notebooks/reports/surveys/1.2_survey_analyses.ipynb#X21sZmlsZQ%3D%3D?line=26'>27</a>\u001b[0m     \u001b[39m# uniformtext=dict(minsize=4, mode='hide', )\u001b[39;00m\n\u001b[1;32m     <a href='vscode-notebook-cell:/Users/robertvandevlasakker/Documents/Wageningen%20University/Period%200%20-%20GRS%2070424%20Internship/notebooks/reports/surveys/1.2_survey_analyses.ipynb#X21sZmlsZQ%3D%3D?line=27'>28</a>\u001b[0m )\n\u001b[1;32m     <a href='vscode-notebook-cell:/Users/robertvandevlasakker/Documents/Wageningen%20University/Period%200%20-%20GRS%2070424%20Internship/notebooks/reports/surveys/1.2_survey_analyses.ipynb#X21sZmlsZQ%3D%3D?line=29'>30</a>\u001b[0m fig\u001b[39m.\u001b[39mshow()\n",
      "\u001b[0;31mNameError\u001b[0m: name 'df_melt' is not defined"
     ]
    }
   ],
   "source": [
    "labels = ['None of the above', 'Can infer correct Entity', 'Can infer correct Quality', 'Can infer correct Value']\n",
    "\n",
    "colors = [\n",
    "    'rgb(175, 49, 35)', \n",
    "    'rgb(151, 179, 100)',\n",
    "    'rgb(33, 75, 99)',\n",
    "    'rgb(79, 129, 102)',\n",
    "      ]\n",
    "\n",
    "color_dict = {label: color for color, label in zip(colors, labels)}\n",
    "color_dict['(?)'] = 'black'\n",
    "color_dict['Total'] = 'blue'\n",
    "\n",
    "fig = px.sunburst(df_melt, \n",
    "                  path=['Dataset', 'Main Trait', 'variable'], \n",
    "                  values='value', \n",
    "                  color='variable',\n",
    "                  color_discrete_map=color_dict,\n",
    "                  # branchvalues='remainder',\n",
    "                  # maxdepth=-1,\n",
    "                  # hover_data=['Dataset', 'Main Trait', 'variable'],\n",
    "                  # hover_name=['Dataset', 'Main Trait', 'variable'],\n",
    "                  )\n",
    "\n",
    "fig.update_layout(\n",
    "    margin = dict(t=0, l=0, r=0, b=0),\n",
    "    # uniformtext=dict(minsize=4, mode='hide', )\n",
    ")\n",
    "\n",
    "fig.show()\n",
    "\n",
    "# folder_figures = \"../../../reports/figures/\"\n",
    "# file_name = \"PxPlot_HTML_SurveysPerDataset_PerTrait_Grouped.html\"\n",
    "# fig.write_html(F\"{folder_figures}{file_name}\")\n",
    "# file_name = \"PxPlot_PDF_SurveysPerTrait_PerTrait_Grouped.pdf\"\n",
    "# fig.write_image(F\"{folder_figures}{file_name}\")"
   ]
  }
 ],
 "metadata": {
  "kernelspec": {
   "display_name": "deeplearning",
   "language": "python",
   "name": "deeplearning"
  },
  "language_info": {
   "codemirror_mode": {
    "name": "ipython",
    "version": 3
   },
   "file_extension": ".py",
   "mimetype": "text/x-python",
   "name": "python",
   "nbconvert_exporter": "python",
   "pygments_lexer": "ipython3",
   "version": "3.10.4"
  },
  "vscode": {
   "interpreter": {
    "hash": "51432b8e5767c06330d9b51dfad63f9db0ea39868e37d921b9c2e277373f8d11"
   }
  }
 },
 "nbformat": 4,
 "nbformat_minor": 5
}
