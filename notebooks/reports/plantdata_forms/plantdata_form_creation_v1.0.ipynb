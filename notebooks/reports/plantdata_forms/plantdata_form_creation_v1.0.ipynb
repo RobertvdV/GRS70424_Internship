{
 "cells": [
  {
   "cell_type": "code",
   "execution_count": 1,
   "metadata": {},
   "outputs": [],
   "source": [
    "import pandas as pd\n",
    "import numpy as np\n",
    "import collections\n",
    "import json\n",
    "import re\n",
    "from tqdm import tqdm\n",
    "import pickle\n",
    "\n",
    "tqdm.pandas()"
   ]
  },
  {
   "cell_type": "code",
   "execution_count": 3,
   "metadata": {},
   "outputs": [],
   "source": [
    "root = \"../../../data/interim/\"\n",
    "\n",
    "df_bert = pd.read_csv(root + \"DF_GoogleForms_BERT_AllData.csv\", \n",
    "                        index_col=0)\n",
    "df_jacc = pd.read_csv(root + \"DF_GoogleForms_Jaccard_AllData.csv\",\n",
    "                        index_col=0)\n",
    "\n",
    "df_jacc[\"SIM\"] = \"Jacc\"\n",
    "df_bert[\"SIM\"] = \"Bert\""
   ]
  },
  {
   "cell_type": "code",
   "execution_count": 4,
   "metadata": {},
   "outputs": [],
   "source": [
    "root = \"../../../data/processed/\"\n",
    "\n",
    "f = open(F\"{root}Sentences_Pierre.pkl\", 'rb')\n",
    "sentences_Pierre = pickle.load(f)\n",
    "species_Pierre =  sentences_Pierre.keys()\n",
    "\n",
    "f = open(F\"{root}Sentences_Andrei.pkl\", 'rb')\n",
    "sentences_Andrei = pickle.load(f)\n",
    "species_Andrei = sentences_Andrei.keys() \n",
    "\n",
    "f = open(F\"{root}Sentences_Kissling.pkl\", 'rb')\n",
    "sentences_Kissling = pickle.load(f)\n",
    "species_Kissling = sentences_Kissling.keys() \n"
   ]
  },
  {
   "cell_type": "code",
   "execution_count": 5,
   "metadata": {},
   "outputs": [],
   "source": [
    "def datalist(species):\n",
    "\n",
    "    name = \"\"\n",
    "    if species in species_Pierre:\n",
    "        name = \"PlantNet\"\n",
    "    elif species in species_Andrei:\n",
    "        name = \"Caribbean\"\n",
    "    elif species in species_Kissling:\n",
    "        name = \"Palm\"\n",
    "\n",
    "    return name\n",
    "\n",
    "def ascii_converter(text):\n",
    "\n",
    "    if type(text) != str:\n",
    "        return text\n",
    "\n",
    "    patterns = [\n",
    "        (r\"â\\x80\\x93\", \" to \"),\n",
    "        (r\"\\xa0\", \" \"),\n",
    "        (r\"Â\", \"\"),\n",
    "        (r\"\\s,\", \",\"),  \n",
    "        (r\"\\s+\", \" \"),\n",
    "        (r\"\\s:\", \":\"),\n",
    "        (r\"\\sÃ\\x97\", \",\"),\n",
    "        (r\"â\\x80\\x94\", \" \")\n",
    "    ]\n",
    "    for (pattern, replacement) in patterns:\n",
    "        text = re.sub(pattern, replacement, text)\n",
    "\n",
    "    text = text.lstrip(\".\")\n",
    "    \n",
    "    return text"
   ]
  },
  {
   "cell_type": "code",
   "execution_count": 10,
   "metadata": {},
   "outputs": [],
   "source": [
    "df = pd.concat(\n",
    "    [df_bert, df_jacc]\n",
    ")\n",
    "\n",
    "# Datalist species\n",
    "df[\"Dataset\"] = df[\"Species\"].apply(datalist)\n",
    "\n",
    "# Note to self: Could be done using Pandas\n",
    "columns = [\n",
    "    \"1\", \"2\", \"3\", \"4\", \"5\"\n",
    "]\n",
    "\n",
    "# Regexes\n",
    "for column in columns:\n",
    "    df.loc[:, column] = df[column].apply(ascii_converter)"
   ]
  },
  {
   "cell_type": "code",
   "execution_count": 13,
   "metadata": {},
   "outputs": [],
   "source": [
    "df_Caribbean = df[df[\"Dataset\"] == \"Caribbean\"]\n",
    "JACC_Thresh = df_Caribbean.describe().loc[\"75%\", \"Jaccard Sum\"]\n",
    "BERT_Thresh = df_Caribbean.describe().loc[\"75%\", \"Sim Sum\"]\n",
    "df_Caribbean_bert_sample = df_bert[df_bert[\"Sim Sum\"] > BERT_Thresh]\n",
    "df_Caribbean_Jacc_sample = df_jacc[df_jacc[\"Jaccard Sum\"] > JACC_Thresh]\n",
    "df_Caribbean_75 = pd.concat(\n",
    "    [df_Caribbean_bert_sample, df_Caribbean_Jacc_sample]\n",
    ")\n",
    "\n",
    "folder = \"../../../data/processed/\"\n",
    "for i in range(1, 4):\n",
    "    df_sample = df_Caribbean_75.sample(n=20, \n",
    "                            random_state=333 + i, \n",
    "                            replace=False)\n",
    "\n",
    "    df_sample.to_csv(f\"{folder}top_sents_all_AllSentencesAgainstTrait_Random20Subset_Caribbean_{i}.csv\", sep=\"\\t\")\n",
    "\n",
    "\n",
    "# df_Palm = df[df[\"Dataset\"] == \"Palm\"]\n",
    "# df_PlantNet = df[df[\"Dataset\"] == \"PlantNet\"]\n",
    "\n",
    "\n",
    "# JACC_Thresh = df_jacc.describe().loc[\"75%\", \"Jaccard Sum\"]\n",
    "# BERT_Thresh = df_bert.describe().loc[\"75%\", \"Sim Sum\"]\n",
    "\n",
    "# df_bert_sample = df_bert[df_bert[\"Sim Sum\"] > BERT_Thresh]\\\n",
    "#     # .sample(n=20, replace=False, random_state=333)\n",
    "\n",
    "# df_jacc_sample = df_jacc[df_jacc[\"Jaccard Sum\"] > JACC_Thresh]\\\n",
    "#     # .sample(n=20, replace=False, random_state=333)"
   ]
  },
  {
   "cell_type": "code",
   "execution_count": null,
   "metadata": {},
   "outputs": [],
   "source": [
    "JACC_Thresh = df_jacc.describe().loc[\"75%\", \"Jaccard Sum\"]\n",
    "BERT_Thresh = df_bert.describe().loc[\"75%\", \"Sim Sum\"]\n",
    "\n",
    "df_bert_sample = df_bert[df_bert[\"Sim Sum\"] > BERT_Thresh]\\\n",
    "    # .sample(n=20, replace=False, random_state=333)\n",
    "\n",
    "df_jacc_sample = df_jacc[df_jacc[\"Jaccard Sum\"] > JACC_Thresh]\\\n",
    "    # .sample(n=20, replace=False, random_state=333)"
   ]
  },
  {
   "cell_type": "code",
   "execution_count": null,
   "metadata": {},
   "outputs": [],
   "source": [
    "df = pd.concat(\n",
    "    [df_bert_sample, df_jacc_sample]\n",
    ")"
   ]
  },
  {
   "cell_type": "code",
   "execution_count": null,
   "metadata": {},
   "outputs": [],
   "source": [
    "folder = \"../../../data/processed/\"\n",
    "\n",
    "df.sample(n=20, random_state=123, replace=False)\\\n",
    "    .to_csv(f\"{folder}top_sents_all_AllSentencesAgainstTrait_Random20Subset_demo.csv\", sep=\"\\t\")\n",
    "\n",
    "for i in range(1, 11):\n",
    "    df_sample = df.sample(n=20, \n",
    "                        random_state=333 + i, \n",
    "                        replace=False)\n",
    "\n",
    "    df_sample.to_csv(f\"{folder}top_sents_all_AllSentencesAgainstTrait_Random20Subset_{i}.csv\", sep=\"\\t\")"
   ]
  },
  {
   "cell_type": "code",
   "execution_count": null,
   "metadata": {},
   "outputs": [],
   "source": [
    "df.sample(n=20, random_state=123, replace=False)"
   ]
  },
  {
   "cell_type": "code",
   "execution_count": null,
   "metadata": {},
   "outputs": [],
   "source": [
    "df.sample(n=20, random_state=123, replace=False)\\\n",
    "    .loc[11007, \"2\"]"
   ]
  },
  {
   "cell_type": "code",
   "execution_count": null,
   "metadata": {},
   "outputs": [],
   "source": []
  }
 ],
 "metadata": {
  "kernelspec": {
   "display_name": "venv",
   "language": "python",
   "name": "python3"
  },
  "language_info": {
   "codemirror_mode": {
    "name": "ipython",
    "version": 3
   },
   "file_extension": ".py",
   "mimetype": "text/x-python",
   "name": "python",
   "nbconvert_exporter": "python",
   "pygments_lexer": "ipython3",
   "version": "3.9.13"
  },
  "orig_nbformat": 4,
  "vscode": {
   "interpreter": {
    "hash": "020a6b5c0ed803a704c00010560cf50a059d086f11791eecdae2eedc39704b9e"
   }
  }
 },
 "nbformat": 4,
 "nbformat_minor": 2
}
