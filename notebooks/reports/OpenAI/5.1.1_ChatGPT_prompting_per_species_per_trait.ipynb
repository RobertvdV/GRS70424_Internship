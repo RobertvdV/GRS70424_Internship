{
 "cells": [
  {
   "cell_type": "code",
   "execution_count": 1,
   "metadata": {},
   "outputs": [],
   "source": [
    "import torch\n",
    "import re\n",
    "import os\n",
    "import os.path\n",
    "import json\n",
    "import pickle\n",
    "import openai\n",
    "import pandas as pd\n",
    "import numpy as np\n",
    "import glob\n",
    "from tqdm import tqdm\n",
    "from dotenv import load_dotenv"
   ]
  },
  {
   "attachments": {},
   "cell_type": "markdown",
   "metadata": {},
   "source": [
    "### Dotenv"
   ]
  },
  {
   "cell_type": "code",
   "execution_count": 2,
   "metadata": {},
   "outputs": [],
   "source": [
    "load_dotenv()\n",
    "openai.api_key = os.environ['OPENAI_API']"
   ]
  },
  {
   "attachments": {},
   "cell_type": "markdown",
   "metadata": {},
   "source": [
    "### DataFrames"
   ]
  },
  {
   "cell_type": "code",
   "execution_count": 3,
   "metadata": {},
   "outputs": [],
   "source": [
    "root = \"../../../data/OpenAI/DataFrames/\"\n",
    "\n",
    "file = \"DF_Andrei.csv\"\n",
    "df_Andrei = pd.read_csv(F\"{root}{file}\", header=[0, 1], index_col=0)\\\n",
    "    .rename_axis('Species', axis='index')\n",
    "df_Andrei_species = list(df_Andrei.index)\n",
    "\n",
    "\n",
    "file = \"DF_Daniel.csv\"\n",
    "df_Daniel = pd.read_csv(F\"{root}{file}\", header=[0, 1], index_col=0)\\\n",
    "    .rename_axis('Species', axis='index')\\\n",
    "    .dropna()\n",
    "df_Daniel_species = list(df_Daniel.index)\n",
    "\n",
    "file = \"DF_Pierre.csv\"\n",
    "df_Pierre = pd.read_csv(F\"{root}{file}\", header=[0, 1], index_col=0)\\\n",
    "    .rename_axis('Species', axis='index')\n",
    "df_Pierre_species = list(df_Pierre.index)"
   ]
  },
  {
   "attachments": {},
   "cell_type": "markdown",
   "metadata": {},
   "source": [
    "### Trait Dicts"
   ]
  },
  {
   "cell_type": "code",
   "execution_count": 4,
   "metadata": {},
   "outputs": [],
   "source": [
    "folder_traits = \"../../../data/OpenAI/Traits/\"\n",
    "\n",
    "with open(F\"{folder_traits}Andrei.json\", 'r') as f:\n",
    "  caribbean_traits_dict = json.load(f)\n",
    "\n",
    "with open(F\"{folder_traits}Andrei.json\", 'r') as f:\n",
    "  caribbean_traits_dict = json.load(f)\n",
    "\n",
    "with open(F\"{folder_traits}Andrei.json\", 'r') as f:\n",
    "  caribbean_traits_dict = json.load(f)"
   ]
  },
  {
   "attachments": {},
   "cell_type": "markdown",
   "metadata": {},
   "source": [
    "### Functions"
   ]
  },
  {
   "cell_type": "code",
   "execution_count": 15,
   "metadata": {},
   "outputs": [],
   "source": [
    "def combine_words_with_capital(string):\n",
    "    # remove non-alphanumeric characters\n",
    "    string = re.sub(r'[^\\w\\s/]', '', string)\n",
    "    # split the string on the slash (\"/\")\n",
    "    parts = string.split('/')\n",
    "    # combine words with capitalization for each part\n",
    "    parts = [''.join(word.capitalize() for word in part.split()) for part in parts]\n",
    "    # join the parts with an empty string\n",
    "    return ''.join(parts)"
   ]
  },
  {
   "attachments": {},
   "cell_type": "markdown",
   "metadata": {},
   "source": [
    "### Text Data\n",
    "#### Caribbean"
   ]
  },
  {
   "cell_type": "code",
   "execution_count": 6,
   "metadata": {},
   "outputs": [],
   "source": [
    "paragraph_folder = \"../../../data/OpenAI/DescriptionSnippets/Paragraphs/\"\n",
    "sentence_folder = \"../../../data/OpenAI/DescriptionSnippets/Sentences/\"\n",
    "\n",
    "caribbean_jsons_paras = glob.glob(F\"{paragraph_folder}c*\")\n",
    "caribbean_jsons_sents = glob.glob(F\"{sentence_folder}c*\")\n",
    "\n",
    "caribbean_jsons_paras.sort()\n",
    "caribbean_jsons_sents.sort()"
   ]
  },
  {
   "cell_type": "code",
   "execution_count": 7,
   "metadata": {},
   "outputs": [
    {
     "data": {
      "text/plain": [
       "'../../../data/OpenAI/DescriptionSnippets/Paragraphs/caribbean_Amyris_ignea_descriptions_paragraphs.json'"
      ]
     },
     "execution_count": 7,
     "metadata": {},
     "output_type": "execute_result"
    }
   ],
   "source": [
    "caribbean_jsons_paras[0]"
   ]
  },
  {
   "cell_type": "code",
   "execution_count": 16,
   "metadata": {},
   "outputs": [
    {
     "name": "stderr",
     "output_type": "stream",
     "text": [
      "                                                       "
     ]
    },
    {
     "name": "stdout",
     "output_type": "stream",
     "text": [
      "Life form\n",
      "LifeForm\n",
      "Leaf position\n",
      "LeafPosition\n",
      "Leaf composition\n",
      "LeafComposition\n",
      "Leaf shape\n",
      "LeafShape\n",
      "Leaf margin\n",
      "LeafMargin\n",
      "Leaf upper side\n",
      "LeafUpperSide\n",
      "Leaf lower side\n",
      "LeafLowerSide\n",
      "Leaf glands\n",
      "LeafGlands\n",
      "Leaf rachis\n",
      "LeafRachis\n",
      "Thorns/spines\n",
      "ThornsSpines\n",
      "Stipules\n",
      "Stipules\n",
      "Inflorescence type\n",
      "InflorescenceType\n",
      "Sepals / calyx shape\n",
      "SepalsCalyxShape\n",
      "Sepals / calyx numer\n",
      "SepalsCalyxNumer\n",
      "Petals / corolla shape\n",
      "PetalsCorollaShape\n",
      "Petals / corolla number\n",
      "PetalsCorollaNumber\n",
      "Petals / corolla colour\n",
      "PetalsCorollaColour\n",
      "Stamen shape\n",
      "StamenShape\n",
      "Stamen number\n",
      "StamenNumber\n",
      "Fruit type\n",
      "FruitType\n",
      "Fruit shape\n",
      "FruitShape\n",
      "Fruit colour\n",
      "FruitColour\n",
      "Aril colour\n",
      "ArilColour\n",
      "Seed colour\n",
      "SeedColour\n"
     ]
    },
    {
     "name": "stderr",
     "output_type": "stream",
     "text": [
      "\r"
     ]
    }
   ],
   "source": [
    "# Define the path to the directory where the prompts and results will be saved\n",
    "folder_prompts = \"../../../data/OpenAI/PromptsResults/\"\n",
    "\n",
    "# Loop over each JSON file in the list caribbean_jsons_paras\n",
    "for idx, json_file in enumerate(caribbean_jsons_paras[0:1]):\n",
    "\n",
    "    try:\n",
    "        # Try to read in the JSON file\n",
    "        with open(json_file, 'r') as f:\n",
    "            caribbean_species_paragraph = json.load(f)\n",
    "        \n",
    "        # Get the name of the species from the keys of the dictionary in the JSON file\n",
    "        species = list(caribbean_species_paragraph.keys())[0]\n",
    "    except:\n",
    "        # If the JSON file cannot be read in, get the name of the species from the file name\n",
    "        species = json_file[62:-29].replace('_', ' ')\n",
    "        continue\n",
    "    \n",
    "    # Join the paragraphs for the species into a single text string\n",
    "    text = \" \".join(caribbean_species_paragraph[species])\n",
    "\n",
    "    # Replace spaces in the species name with underscores\n",
    "    folder_species = species.replace(' ', '_')\n",
    "\n",
    "    # Try to create a directory for the prompts for the species\n",
    "    try:\n",
    "        os.makedirs(F\"{folder_prompts}{folder_species}\")\n",
    "    except FileExistsError:\n",
    "        pass\n",
    "\n",
    "    # Loop over each trait and trait options in the caribbean_traits_dict dictionary\n",
    "    for trait, trait_options in (pbar := tqdm(caribbean_traits_dict.items(), leave=False, position=0)):\n",
    "        pbar.set_description(f\"{idx}: {species}\")\n",
    "\n",
    "        # Create the question and options for the ChatGPT prompt\n",
    "        question = F\"Which of the following values correctly describe(s) the '{trait}' trait mentioned in the text? If none of the following values apply, please select 'None of the above'. If you find something not mentioned in the list, select 'Other:' and fill in your findings. Select all values you can find.\" \n",
    "        example = F\"\\nPlease return the answers as a Python list like the example I provided:\\nExample format:\\n['tree', 'Other: palm-like']\"\n",
    "\n",
    "        question = question + example\n",
    "        options = trait_options + [\"Other: description of trait not mentioned in the list.\"]\n",
    "        options = F\"\\nThe options with the '{trait}':\\n{options}.\"\n",
    "        user_content = F\"{question} {options}\"\n",
    "\n",
    "        # print(user_content)\n",
    "\n",
    "        # Combine the words in the trait name with capital letters and use this as the file name\n",
    "        file_name = combine_words_with_capital(trait)\n",
    "        # Check if file is already there (OpenAI Outage)\n",
    "        if os.path.exists(F\"{folder_prompts}{folder_species}/{file_name}.json\"):\n",
    "            continue\n",
    "\n",
    "        # Create the messages to send to the ChatGPT API\n",
    "        messages = [\n",
    "            {\"role\": \"assistant\", \"content\": text},\n",
    "            {\"role\": \"user\", \"content\": user_content}\n",
    "            ]\n",
    "        # Call the ChatGPT API to generate a completion for the prompt\n",
    "        completion = openai.ChatCompletion.create(\n",
    "            model = \"gpt-3.5-turbo\",\n",
    "            messages = messages,\n",
    "        )\n",
    "\n",
    "\n",
    "        # Save the completion to a JSON file with the file name in the species directory\n",
    "        with open(F\"{folder_prompts}{folder_species}/{file_name}.json\", 'w') as fp:\n",
    "            json.dump(completion, fp)\n",
    "            \n"
   ]
  },
  {
   "attachments": {},
   "cell_type": "markdown",
   "metadata": {},
   "source": [
    "### Testing"
   ]
  },
  {
   "cell_type": "code",
   "execution_count": 11,
   "metadata": {},
   "outputs": [
    {
     "data": {
      "text/plain": [
       "'Amyris ignea'"
      ]
     },
     "execution_count": 11,
     "metadata": {},
     "output_type": "execute_result"
    }
   ],
   "source": [
    "species"
   ]
  },
  {
   "cell_type": "code",
   "execution_count": 12,
   "metadata": {},
   "outputs": [
    {
     "data": {
      "text/plain": [
       "'Front. Microb. In small scales, some families can show distinct distribution patterns, as that found for Lecythidaceae in French Guyana [32]. Microb. Microb. Opin. Front. Hop flowers are densely covered by glandular trichomes, specialized structures that secrete secondary metabolites into epidermal outgrowths3. Mol. Cell. Microb. Front. 4 Altmetric'"
      ]
     },
     "execution_count": 12,
     "metadata": {},
     "output_type": "execute_result"
    }
   ],
   "source": [
    "text"
   ]
  },
  {
   "cell_type": "code",
   "execution_count": 22,
   "metadata": {},
   "outputs": [],
   "source": [
    "caribbean_traits_dict\n",
    "\n",
    "trait = list(caribbean_traits_dict.keys())[1]\n",
    "trait_options = caribbean_traits_dict[trait]"
   ]
  },
  {
   "cell_type": "code",
   "execution_count": 23,
   "metadata": {},
   "outputs": [
    {
     "data": {
      "text/plain": [
       "'Leaf position'"
      ]
     },
     "execution_count": 23,
     "metadata": {},
     "output_type": "execute_result"
    }
   ],
   "source": [
    "trait"
   ]
  },
  {
   "cell_type": "code",
   "execution_count": 24,
   "metadata": {},
   "outputs": [
    {
     "data": {
      "text/plain": [
       "['alternate',\n",
       " 'alternate, opposite',\n",
       " 'opposite',\n",
       " 'opposite, whorls of 3',\n",
       " 'opposite, whorls of 3, alternate']"
      ]
     },
     "execution_count": 24,
     "metadata": {},
     "output_type": "execute_result"
    }
   ],
   "source": [
    "trait_options"
   ]
  },
  {
   "cell_type": "code",
   "execution_count": 25,
   "metadata": {},
   "outputs": [],
   "source": [
    "question = F\"Which of the following values correctly describe(s) the '{trait}' trait mentioned in the text? If none of the following values apply, please select 'None of the above'. If you find something not mentioned in the list, select 'Other:' and fill in your findings. Select all values you can find.\" \n",
    "example = F\"\\nPlease return the answers as a Python list like the example I provided:\\nExample format:\\n['tree', 'Other: palm-like']\"\n",
    "\n",
    "question = question + example\n",
    "options = trait_options + [\"Other: description of trait not mentioned in the list.\"]\n",
    "options = F\"\\nThe options with the '{trait}':\\n{options}.\"\n",
    "user_content = F\"{question} {options}\""
   ]
  },
  {
   "cell_type": "code",
   "execution_count": 26,
   "metadata": {},
   "outputs": [
    {
     "name": "stdout",
     "output_type": "stream",
     "text": [
      "Front. Microb. In small scales, some families can show distinct distribution patterns, as that found for Lecythidaceae in French Guyana [32]. Microb. Microb. Opin. Front. Hop flowers are densely covered by glandular trichomes, specialized structures that secrete secondary metabolites into epidermal outgrowths3. Mol. Cell. Microb. Front. 4 Altmetric\n"
     ]
    }
   ],
   "source": [
    "print(text)"
   ]
  },
  {
   "cell_type": "code",
   "execution_count": 27,
   "metadata": {},
   "outputs": [
    {
     "name": "stdout",
     "output_type": "stream",
     "text": [
      "Which of the following values correctly describe(s) the 'Leaf position' trait mentioned in the text? If none of the following values apply, please select 'None of the above'. If you find something not mentioned in the list, select 'Other:' and fill in your findings. Select all values you can find.\n",
      "Please return the answers as a Python list like the example I provided:\n",
      "Example format:\n",
      "['tree', 'Other: palm-like'] \n",
      "The options with the 'Leaf position':\n",
      "['alternate', 'alternate, opposite', 'opposite', 'opposite, whorls of 3', 'opposite, whorls of 3, alternate', 'Other: description of trait not mentioned in the list.'].\n"
     ]
    }
   ],
   "source": [
    "print(user_content)"
   ]
  },
  {
   "cell_type": "code",
   "execution_count": 28,
   "metadata": {},
   "outputs": [],
   "source": [
    "# Create the messages to send to the ChatGPT API\n",
    "messages = [\n",
    "    {\"role\": \"assistant\", \"content\": text},\n",
    "    {\"role\": \"user\", \"content\": user_content}\n",
    "    ]\n",
    "# Call the ChatGPT API to generate a completion for the prompt\n",
    "completion = openai.ChatCompletion.create(\n",
    "    model = \"gpt-3.5-turbo\",\n",
    "    messages = messages,\n",
    ")"
   ]
  },
  {
   "cell_type": "code",
   "execution_count": 29,
   "metadata": {},
   "outputs": [
    {
     "data": {
      "text/plain": [
       "<OpenAIObject chat.completion id=chatcmpl-6w5kvpkvhYUHIAg0yqb1mwl4YNlJJ at 0x7ff2c95ac360> JSON: {\n",
       "  \"choices\": [\n",
       "    {\n",
       "      \"finish_reason\": \"stop\",\n",
       "      \"index\": 0,\n",
       "      \"message\": {\n",
       "        \"content\": \"\\n\\nNone of the above.\",\n",
       "        \"role\": \"assistant\"\n",
       "      }\n",
       "    }\n",
       "  ],\n",
       "  \"created\": 1679303169,\n",
       "  \"id\": \"chatcmpl-6w5kvpkvhYUHIAg0yqb1mwl4YNlJJ\",\n",
       "  \"model\": \"gpt-3.5-turbo-0301\",\n",
       "  \"object\": \"chat.completion\",\n",
       "  \"usage\": {\n",
       "    \"completion_tokens\": 6,\n",
       "    \"prompt_tokens\": 246,\n",
       "    \"total_tokens\": 252\n",
       "  }\n",
       "}"
      ]
     },
     "execution_count": 29,
     "metadata": {},
     "output_type": "execute_result"
    }
   ],
   "source": [
    "completion"
   ]
  }
 ],
 "metadata": {
  "kernelspec": {
   "display_name": "deeplearning",
   "language": "python",
   "name": "deeplearning"
  },
  "language_info": {
   "codemirror_mode": {
    "name": "ipython",
    "version": 3
   },
   "file_extension": ".py",
   "mimetype": "text/x-python",
   "name": "python",
   "nbconvert_exporter": "python",
   "pygments_lexer": "ipython3",
   "version": "3.10.4"
  },
  "orig_nbformat": 4,
  "vscode": {
   "interpreter": {
    "hash": "51432b8e5767c06330d9b51dfad63f9db0ea39868e37d921b9c2e277373f8d11"
   }
  }
 },
 "nbformat": 4,
 "nbformat_minor": 2
}
