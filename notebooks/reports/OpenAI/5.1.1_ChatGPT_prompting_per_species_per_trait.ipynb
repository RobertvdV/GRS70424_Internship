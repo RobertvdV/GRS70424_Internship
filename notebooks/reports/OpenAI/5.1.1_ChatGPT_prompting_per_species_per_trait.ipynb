{
 "cells": [
  {
   "cell_type": "code",
   "execution_count": 1,
   "metadata": {},
   "outputs": [],
   "source": [
    "import torch\n",
    "import re\n",
    "import os\n",
    "import json\n",
    "import pickle\n",
    "import openai\n",
    "import pandas as pd\n",
    "import numpy as np\n",
    "import glob\n",
    "from tqdm import tqdm\n",
    "from dotenv import load_dotenv"
   ]
  },
  {
   "attachments": {},
   "cell_type": "markdown",
   "metadata": {},
   "source": [
    "### Dotenv"
   ]
  },
  {
   "cell_type": "code",
   "execution_count": 2,
   "metadata": {},
   "outputs": [],
   "source": [
    "load_dotenv()\n",
    "openai.api_key = os.environ['OPENAI_API']"
   ]
  },
  {
   "attachments": {},
   "cell_type": "markdown",
   "metadata": {},
   "source": [
    "### DataFrames"
   ]
  },
  {
   "cell_type": "code",
   "execution_count": 3,
   "metadata": {},
   "outputs": [],
   "source": [
    "root = \"../../../data/OpenAI/DataFrames/\"\n",
    "\n",
    "file = \"DF_Andrei.csv\"\n",
    "df_Andrei = pd.read_csv(F\"{root}{file}\", header=[0, 1], index_col=0)\\\n",
    "    .rename_axis('Species', axis='index')\n",
    "df_Andrei_species = list(df_Andrei.index)\n",
    "\n",
    "\n",
    "file = \"DF_Daniel.csv\"\n",
    "df_Daniel = pd.read_csv(F\"{root}{file}\", header=[0, 1], index_col=0)\\\n",
    "    .rename_axis('Species', axis='index')\\\n",
    "    .dropna()\n",
    "df_Daniel_species = list(df_Daniel.index)\n",
    "\n",
    "file = \"DF_Pierre.csv\"\n",
    "df_Pierre = pd.read_csv(F\"{root}{file}\", header=[0, 1], index_col=0)\\\n",
    "    .rename_axis('Species', axis='index')\n",
    "df_Pierre_species = list(df_Pierre.index)"
   ]
  },
  {
   "attachments": {},
   "cell_type": "markdown",
   "metadata": {},
   "source": [
    "### Trait Dicts"
   ]
  },
  {
   "cell_type": "code",
   "execution_count": 4,
   "metadata": {},
   "outputs": [],
   "source": [
    "folder_traits = \"../../../data/OpenAI/Traits/\"\n",
    "\n",
    "with open(F\"{folder_traits}Andrei.json\", 'r') as f:\n",
    "  caribbean_traits_dict = json.load(f)\n",
    "\n",
    "with open(F\"{folder_traits}Andrei.json\", 'r') as f:\n",
    "  caribbean_traits_dict = json.load(f)\n",
    "\n",
    "with open(F\"{folder_traits}Andrei.json\", 'r') as f:\n",
    "  caribbean_traits_dict = json.load(f)"
   ]
  },
  {
   "attachments": {},
   "cell_type": "markdown",
   "metadata": {},
   "source": [
    "### Functions"
   ]
  },
  {
   "cell_type": "code",
   "execution_count": 5,
   "metadata": {},
   "outputs": [],
   "source": [
    "def combine_words_with_capital(string):\n",
    "    # remove non-alphanumeric characters\n",
    "    string = re.sub(r'[^\\w\\s]', '', string)  \n",
    "    # combine words with capitalization\n",
    "    string = ''.join(word.capitalize() for word in string.split())  \n",
    "    return string"
   ]
  },
  {
   "attachments": {},
   "cell_type": "markdown",
   "metadata": {},
   "source": [
    "### Text Data\n",
    "#### Caribbean"
   ]
  },
  {
   "cell_type": "code",
   "execution_count": 6,
   "metadata": {},
   "outputs": [],
   "source": [
    "paragraph_folder = \"../../../data/OpenAI/DescriptionSnippets/Paragraphs/\"\n",
    "sentence_folder = \"../../../data/OpenAI/DescriptionSnippets/Sentences/\"\n",
    "\n",
    "caribbean_jsons_paras = glob.glob(F\"{paragraph_folder}c*\")\n",
    "caribbean_jsons_sents = glob.glob(F\"{sentence_folder}c*\")\n",
    "\n",
    "caribbean_jsons_paras.sort()\n",
    "caribbean_jsons_sents.sort()"
   ]
  },
  {
   "cell_type": "code",
   "execution_count": 7,
   "metadata": {},
   "outputs": [
    {
     "data": {
      "text/plain": [
       "'../../../data/OpenAI/DescriptionSnippets/Paragraphs/caribbean_Avicennia_germinans_descriptions_paragraphs.json'"
      ]
     },
     "execution_count": 7,
     "metadata": {},
     "output_type": "execute_result"
    }
   ],
   "source": [
    "caribbean_jsons_paras[1]"
   ]
  },
  {
   "cell_type": "code",
   "execution_count": 93,
   "metadata": {},
   "outputs": [
    {
     "name": "stderr",
     "output_type": "stream",
     "text": [
      "                                                           "
     ]
    },
    {
     "name": "stdout",
     "output_type": "stream",
     "text": [
      "Which of the following values correctly describe(s) the 'Life form' trait mentioned in the text? If none of the following values apply, please select 'None of the above'. Select all values you can find.\n",
      "Please return the answers as a Python list like the example I provided:\n",
      "Example format:\n",
      "['tree', 'Other: palm-like'] \n",
      "The options with the Life form:\n",
      "['liana', 'tree', 'Other: description of trait not mentioned in the list.'].\n",
      "Which of the following values correctly describe(s) the 'Leaf position' trait mentioned in the text? If none of the following values apply, please select 'None of the above'. Select all values you can find.\n",
      "Please return the answers as a Python list like the example I provided:\n",
      "Example format:\n",
      "['tree', 'Other: palm-like'] \n",
      "The options with the Leaf position:\n",
      "['alternate', 'alternate, opposite', 'opposite', 'opposite, whorls of 3', 'opposite, whorls of 3, alternate', 'Other: description of trait not mentioned in the list.'].\n",
      "Which of the following values correctly describe(s) the 'Leaf composition' trait mentioned in the text? If none of the following values apply, please select 'None of the above'. Select all values you can find.\n",
      "Please return the answers as a Python list like the example I provided:\n",
      "Example format:\n",
      "['tree', 'Other: palm-like'] \n",
      "The options with the Leaf composition:\n",
      "['3 palmate', '3-5 palmate', '3-5 pinnate', '3-5 pinnate, entire', '5-11 pinnate', '5-9 pinnate', 'bi-pinnate, 2 leaflets per jug', 'bi-pinnate, 20-40 leaflets per jug', 'bi-pinnate, 30-32 leaflets per jug', 'entire', 'pinnate, 4-6 leaflets', 'pinnate, 6-8 leaflets', 'Other: description of trait not mentioned in the list.'].\n",
      "Which of the following values correctly describe(s) the 'Leaf shape' trait mentioned in the text? If none of the following values apply, please select 'None of the above'. Select all values you can find.\n",
      "Please return the answers as a Python list like the example I provided:\n",
      "Example format:\n",
      "['tree', 'Other: palm-like'] \n",
      "The options with the Leaf shape:\n",
      "['elliptic', 'elliptic, elongate', 'elliptic, lanceolate', 'elliptic, obovate', 'elliptic, ovate', 'elliptic, ovate, round', 'elongate', 'elongate, elliptic, obovate', 'elongate, obovate', 'kidney-shaped, circular', 'lanceolate, elliptic', 'linear', 'linear, obovate', 'obovate', 'obovate, elliptic', 'obovate, spathulate', 'ovate', 'ovate, circular', 'ovate, elliptic', 'ovate, elliptic, elongate', 'ovate, heart-shaped', 'spathulate, obovate', 'Other: description of trait not mentioned in the list.'].\n",
      "Which of the following values correctly describe(s) the 'Leaf margin' trait mentioned in the text? If none of the following values apply, please select 'None of the above'. Select all values you can find.\n",
      "Please return the answers as a Python list like the example I provided:\n",
      "Example format:\n",
      "['tree', 'Other: palm-like'] \n",
      "The options with the Leaf margin:\n",
      "['crenate', 'entire', 'entire, crenate', 'entire, serrate', 'serrate', 'Other: description of trait not mentioned in the list.'].\n",
      "Which of the following values correctly describe(s) the 'Leaf upper side' trait mentioned in the text? If none of the following values apply, please select 'None of the above'. Select all values you can find.\n",
      "Please return the answers as a Python list like the example I provided:\n",
      "Example format:\n",
      "['tree', 'Other: palm-like'] \n",
      "The options with the Leaf upper side:\n",
      "['glabrous', 'glabrous, pubescent', 'pubescent', 'pubescent, glabrous', 'salt crystals', 'scales, glabrous', 'shiny, glabrous', 'woolly, later glabrous', 'Other: description of trait not mentioned in the list.'].\n",
      "Which of the following values correctly describe(s) the 'Leaf lower side' trait mentioned in the text? If none of the following values apply, please select 'None of the above'. Select all values you can find.\n",
      "Please return the answers as a Python list like the example I provided:\n",
      "Example format:\n",
      "['tree', 'Other: palm-like'] \n",
      "The options with the Leaf lower side:\n",
      "['glabrous', 'glabrous, pubescent', 'powdery', 'pubescent', 'scales', 'woolly, later glabrous', 'Other: description of trait not mentioned in the list.'].\n",
      "Which of the following values correctly describe(s) the 'Leaf glands' trait mentioned in the text? If none of the following values apply, please select 'None of the above'. Select all values you can find.\n",
      "Please return the answers as a Python list like the example I provided:\n",
      "Example format:\n",
      "['tree', 'Other: palm-like'] \n",
      "The options with the Leaf glands:\n",
      "['absent', 'gland on the end of petiole', 'glands near basis and central vein', 'glands near basis and leaf margin', 'translucent oil cells', 'translucent points and lines', 'Other: description of trait not mentioned in the list.'].\n",
      "Which of the following values correctly describe(s) the 'Leaf rachis' trait mentioned in the text? If none of the following values apply, please select 'None of the above'. Select all values you can find.\n",
      "Please return the answers as a Python list like the example I provided:\n",
      "Example format:\n",
      "['tree', 'Other: palm-like'] \n",
      "The options with the Leaf rachis:\n",
      "['not winged', 'winged', 'Other: description of trait not mentioned in the list.'].\n",
      "Which of the following values correctly describe(s) the 'Thorns/spines' trait mentioned in the text? If none of the following values apply, please select 'None of the above'. Select all values you can find.\n",
      "Please return the answers as a Python list like the example I provided:\n",
      "Example format:\n",
      "['tree', 'Other: palm-like'] \n",
      "The options with the Thorns/spines:\n",
      "['1-2 per leaf axil', '2 per leaf axil', 'absent', 'branch thorns', 'thorns on stem', 'Other: description of trait not mentioned in the list.'].\n",
      "Which of the following values correctly describe(s) the 'Stipules' trait mentioned in the text? If none of the following values apply, please select 'None of the above'. Select all values you can find.\n",
      "Please return the answers as a Python list like the example I provided:\n",
      "Example format:\n",
      "['tree', 'Other: palm-like'] \n",
      "The options with the Stipules:\n",
      "['absent', 'connected', 'present', 'Other: description of trait not mentioned in the list.'].\n",
      "Which of the following values correctly describe(s) the 'Inflorescence type' trait mentioned in the text? If none of the following values apply, please select 'None of the above'. Select all values you can find.\n",
      "Please return the answers as a Python list like the example I provided:\n",
      "Example format:\n",
      "['tree', 'Other: palm-like'] \n",
      "The options with the Inflorescence type:\n",
      "['1-3 sessile', '1-5 sessile', 'dichasium', 'fascicle', 'globose', 'globose in panicle', 'panicle', 'raceme', 'solitary, fascicle', 'spike', 'umbel', 'Other: description of trait not mentioned in the list.'].\n",
      "Which of the following values correctly describe(s) the 'Sepals / calyx shape' trait mentioned in the text? If none of the following values apply, please select 'None of the above'. Select all values you can find.\n",
      "Please return the answers as a Python list like the example I provided:\n",
      "Example format:\n",
      "['tree', 'Other: palm-like'] \n",
      "The options with the Sepals / calyx shape:\n",
      "['connate', 'free', 'Other: description of trait not mentioned in the list.'].\n",
      "Which of the following values correctly describe(s) the 'Sepals / calyx numer' trait mentioned in the text? If none of the following values apply, please select 'None of the above'. Select all values you can find.\n",
      "Please return the answers as a Python list like the example I provided:\n",
      "Example format:\n",
      "['tree', 'Other: palm-like'] \n",
      "The options with the Sepals / calyx numer:\n",
      "['2-3', '3-5', '4', '4-5', '4-6', '5', '5-6', '6-8', '6-9', 'Other: description of trait not mentioned in the list.'].\n",
      "Which of the following values correctly describe(s) the 'Petals / corolla shape' trait mentioned in the text? If none of the following values apply, please select 'None of the above'. Select all values you can find.\n",
      "Please return the answers as a Python list like the example I provided:\n",
      "Example format:\n",
      "['tree', 'Other: palm-like'] \n",
      "The options with the Petals / corolla shape:\n",
      "['absent', 'free', 'tepals', 'tubular', 'Other: description of trait not mentioned in the list.'].\n",
      "Which of the following values correctly describe(s) the 'Petals / corolla number' trait mentioned in the text? If none of the following values apply, please select 'None of the above'. Select all values you can find.\n",
      "Please return the answers as a Python list like the example I provided:\n",
      "Example format:\n",
      "['tree', 'Other: palm-like'] \n",
      "The options with the Petals / corolla number:\n",
      "['0', '3-5', '4', '4-5', '4-6', '5', '5, 0', '5-6', '6-8', 'Other: description of trait not mentioned in the list.'].\n",
      "Which of the following values correctly describe(s) the 'Petals / corolla colour' trait mentioned in the text? If none of the following values apply, please select 'None of the above'. Select all values you can find.\n",
      "Please return the answers as a Python list like the example I provided:\n",
      "Example format:\n",
      "['tree', 'Other: palm-like'] \n",
      "The options with the Petals / corolla colour:\n",
      "['blue', 'green', 'green, red', 'green-white, yellow-white', 'greenish white', 'red', 'white', 'white, pink', 'white, pink, purple', 'white, whitish', 'white, yellow-white', 'whitish', 'yellow', 'yellow, orange', 'yellow, yellow-green', 'yellow-green', 'yellow-green, green', 'Other: description of trait not mentioned in the list.'].\n",
      "Which of the following values correctly describe(s) the 'Stamen shape' trait mentioned in the text? If none of the following values apply, please select 'None of the above'. Select all values you can find.\n",
      "Please return the answers as a Python list like the example I provided:\n",
      "Example format:\n",
      "['tree', 'Other: palm-like'] \n",
      "The options with the Stamen shape:\n",
      "['longer than corolla', 'much longer than corolla', 'multiple rows', 'short', 'shorter than corolla', 'shorter than corolla, connected', 'Other: description of trait not mentioned in the list.'].\n",
      "Which of the following values correctly describe(s) the 'Stamen number' trait mentioned in the text? If none of the following values apply, please select 'None of the above'. Select all values you can find.\n",
      "Please return the answers as a Python list like the example I provided:\n",
      "Example format:\n",
      "['tree', 'Other: palm-like'] \n",
      "The options with the Stamen number:\n",
      "['10', '15-25', '16', '2', '20', '20-28', '4', '5', '5-6', '6-10', '6-9', '8', 'many', 'Other: description of trait not mentioned in the list.'].\n",
      "Which of the following values correctly describe(s) the 'Fruit type' trait mentioned in the text? If none of the following values apply, please select 'None of the above'. Select all values you can find.\n",
      "Please return the answers as a Python list like the example I provided:\n",
      "Example format:\n",
      "['tree', 'Other: palm-like'] \n",
      "The options with the Fruit type:\n",
      "['berry', 'capsule', 'drupe', 'fleshy drupe', 'follicle', 'nutlet', 'pod', 'Other: description of trait not mentioned in the list.'].\n",
      "Which of the following values correctly describe(s) the 'Fruit shape' trait mentioned in the text? If none of the following values apply, please select 'None of the above'. Select all values you can find.\n",
      "Please return the answers as a Python list like the example I provided:\n",
      "Example format:\n",
      "['tree', 'Other: palm-like'] \n",
      "The options with the Fruit shape:\n",
      "['2-locular, flattened, globose', '3-5-locular, globose', 'elongate', 'elongate, constricted between seeds', 'elongate, slightly constricted between seeds', 'elongate, strongly constricted between seeds', 'flattened obovoid', 'flattened ovate', 'flattened, elongate, twisted', 'flattened, thick, elongate, strongly curved', 'globose', 'globose, 3-angulated', 'linear', 'not flattened, elongate, slightly curved', 'ovoid', 'pyriform, ovoid', 'slightly flattened, elongate, curved', 'Other: description of trait not mentioned in the list.'].\n",
      "Which of the following values correctly describe(s) the 'Fruit colour' trait mentioned in the text? If none of the following values apply, please select 'None of the above'. Select all values you can find.\n",
      "Please return the answers as a Python list like the example I provided:\n",
      "Example format:\n",
      "['tree', 'Other: palm-like'] \n",
      "The options with the Fruit colour:\n",
      "['black', 'brown', 'brown-black', 'green', 'green, black, whitish', 'green, orange', 'green, orange, red', 'green, red', 'green, yellow', 'greyish', 'orange', 'orange, yellow, red', 'purple, black', 'red', 'red, black', 'red, purple-brown', 'reddish purple', 'whitish green', 'yellow, orange', 'yellowish', 'Other: description of trait not mentioned in the list.'].\n",
      "Which of the following values correctly describe(s) the 'Aril colour' trait mentioned in the text? If none of the following values apply, please select 'None of the above'. Select all values you can find.\n",
      "Please return the answers as a Python list like the example I provided:\n",
      "Example format:\n",
      "['tree', 'Other: palm-like'] \n",
      "The options with the Aril colour:\n",
      "['NA?', 'orange', 'red', 'white', 'yellow-geen', 'Other: description of trait not mentioned in the list.'].\n",
      "Which of the following values correctly describe(s) the 'Seed colour' trait mentioned in the text? If none of the following values apply, please select 'None of the above'. Select all values you can find.\n",
      "Please return the answers as a Python list like the example I provided:\n",
      "Example format:\n",
      "['tree', 'Other: palm-like'] \n",
      "The options with the Seed colour:\n",
      "['black', 'brown', 'green', 'grey', 'white', 'whitish', 'Other: description of trait not mentioned in the list.'].\n"
     ]
    },
    {
     "name": "stderr",
     "output_type": "stream",
     "text": [
      "\r"
     ]
    }
   ],
   "source": [
    "# Define the path to the directory where the prompts and results will be saved\n",
    "folder_prompts = \"../../../data/OpenAI/PromptsResults/\"\n",
    "\n",
    "# Loop over each JSON file in the list caribbean_jsons_paras\n",
    "for json_file in caribbean_jsons_paras[1:2]:\n",
    "\n",
    "    try:\n",
    "        # Try to read in the JSON file\n",
    "        with open(json_file, 'r') as f:\n",
    "            caribbean_species_paragraph = json.load(f)\n",
    "        \n",
    "        # Get the name of the species from the keys of the dictionary in the JSON file\n",
    "        species = list(caribbean_species_paragraph.keys())[0]\n",
    "    except:\n",
    "        # If the JSON file cannot be read in, get the name of the species from the file name\n",
    "        species = json_file[62:-29].replace('_', ' ')\n",
    "        continue\n",
    "    \n",
    "    # Join the paragraphs for the species into a single text string\n",
    "    text = \" \".join(caribbean_species_paragraph[species])\n",
    "\n",
    "    # Replace spaces in the species name with underscores\n",
    "    folder_species = species.replace(' ', '_')\n",
    "\n",
    "    # Try to create a directory for the prompts for the species\n",
    "    try:\n",
    "        os.makedirs(F\"{folder_prompts}{folder_species}\")\n",
    "    except FileExistsError:\n",
    "        pass\n",
    "\n",
    "    # Loop over each trait and trait options in the caribbean_traits_dict dictionary\n",
    "    for trait, trait_options in (pbar := tqdm(caribbean_traits_dict.items(), leave=False, position=0)):\n",
    "        pbar.set_description(f\"{species}\")\n",
    "\n",
    "        # Create the question and options for the ChatGPT prompt\n",
    "        question = F\"Which of the following values correctly describe(s) the '{trait}' trait mentioned in the text? If none of the following values apply, please select 'None of the above'. Select all values you can find.\" \n",
    "        example = F\"\\nPlease return the answers as a Python list like the example I provided:\\nExample format:\\n['tree', 'Other: palm-like']\"\n",
    "\n",
    "        question = question + example\n",
    "        options = trait_options + [\"Other: description of trait not mentioned in the list.\"]\n",
    "        options = F\"\\nThe options with the {trait}:\\n{options}.\"\n",
    "        user_content = F\"{question} {options}\"\n",
    "\n",
    "        print(user_content)\n",
    "\n",
    "        # # Create the messages to send to the ChatGPT API\n",
    "        # messages = [\n",
    "        #     {\"role\": \"assistant\", \"content\": text},\n",
    "        #     {\"role\": \"user\", \"content\": user_content}\n",
    "        #     ]\n",
    "        # # Call the ChatGPT API to generate a completion for the prompt\n",
    "        # completion = openai.ChatCompletion.create(\n",
    "        #     model = \"gpt-3.5-turbo\",\n",
    "        #     messages = messages,\n",
    "        # )\n",
    "\n",
    "        # # Combine the words in the trait name with capital letters and use this as the file name\n",
    "        # file_name = combine_words_with_capital(trait)\n",
    "        # # Save the completion to a JSON file with the file name in the species directory\n",
    "        # with open(F\"{folder_prompts}{folder_species}/{file_name}.json\", 'w') as fp:\n",
    "        #     json.dump(completion, fp)\n",
    "            \n"
   ]
  },
  {
   "attachments": {},
   "cell_type": "markdown",
   "metadata": {},
   "source": [
    "### Testing"
   ]
  },
  {
   "cell_type": "code",
   "execution_count": 33,
   "metadata": {},
   "outputs": [
    {
     "data": {
      "text/plain": [
       "'Avicennia germinans'"
      ]
     },
     "execution_count": 33,
     "metadata": {},
     "output_type": "execute_result"
    }
   ],
   "source": [
    "species"
   ]
  },
  {
   "cell_type": "code",
   "execution_count": 34,
   "metadata": {},
   "outputs": [
    {
     "data": {
      "text/plain": [
       "'In contrast, trees in Texas and Louisiana were often less than one meter tall. The heartwood is dark-brown to black, while the sapwood is yellow-brown. The leaves often appear whitish from the salt excreted at night and on cloudy days. Leaves are simple and opposite and grow from 2 to 3 inches long. The leaf is oval and pointed, and the margins are entire. The leaves appear smooth, thick, and leathery with a dark green topside and grey to white underside. When the tree is young the bark is smooth and as it matures the bark takes on a thick and fissured texture. The flowers appear at the ends of the branches and are small, white, and fragrant with yellow centers. 9 Altmetric Avicennia germinans (Black Mangrove) is a medium-sized, evergreen shrub or tree with a rounded, densely foliated crown of spreading branches. It bears thick, elliptic, simple and opposite leaves, 2-3 in. long (5-7 cm). Smooth and leathery, they are dark green above and silver-white underneath. Blooming year-round, small white flowers with yellow centers appear in short branched spikes at the tips of the branches. The blossoms are followed by green, fleshy fruits which consist of large flattened capsules of seeds. The bark is dark gray and smooth in youth, becoming scaly on larger trunks. Tough and long-lasting, Conocarpus erectus... black mangrove Verbenaceae Avicennia germinans (L.) L. symbol: AVGE Leaf: Opposite, simple, evergreen, leathery, elliptical to obovate, 2 to 5 inches long, dark green above, silvery hairy below, may have salt deposits on their upper surfaces due to salt excretion. Flower: White, 4 petaled flowers, occurring in cone-shaped clusters, 1 to 2 inches long near branch tips. Fruit: Egg-shaped capsule 1 to 2 inches long, containing one lima bean-shaped seed. Twig: Stout, slightly angled, finely hairy, and initially green but turning grayish brown. Bark: Dark gray and finely scaly. Form: Bushy tree (50 feet tall) that forms dense thickets, trunk divides close to the ground, numerous finger like roots (pneumatophores) occur around the base of the tree. Avicennia germinans, the black mangrove,[3] is a shrub or small tree growing up to 12 meters (39 feet) in the acanthus family, Acanthaceae. Tree with lots of pneumatophores (breathing roots). Germinating seeds General InformationBlack mangrove is an evergreen shrub or small to medium-sized tree with a rounded crown of spreading branches; usually growing 3 - 12 metres tall but occasionally reaching 25 metres[299TitleProtabase - Plant Resources of Tropical Africa. The bole, which is often crooked, can be 30 - 60cm in diameter[418TitleEcocrop Properties Conservation StatusLeast Concern Edibility Rating Medicinal Rating Other Uses Rating HabitEvergreen Tree Height10.00 m Growth RateMedium PollinatorsBees, Ants Front. In contrast, the largest plants contained multiple stems and branches extending to almost 1 m from a central base (Figure 1). Front. Collapse All / Expand All Description Evergreen shrub or small tree 3–12(-25) m high; trunk 30–60 dm in diameter. Masses of small air roots 15–45 cm long sometimes hang from upper part of large trunks. Bark dark gray or brown and smooth on small trunks, becoming dark brown, fissured, scaly, and thick. Leaves opposite, lanceolate or narrowly elliptical, 5–11 cm long, 2–4 cm wide, acute or blunt at tip, entire, thick, leathery. Fine hairs giving a grayish hue to foliage; both surfaces often with scattered salt crystals and salty taste. Petiole 3–15 mm long. Spikes or panicles headlike, upright at and near ends of twigs. Flowers several, crowded, sessile, 6 mm long, 10 mm across. Calyx cup-shaped, deeply 5-lobed; corolla tubular, hairy, white but yellowish at base, with 4 slightly unequal spreading, rounded, or notched lobes, stamens 4, 5 mm long in notches of corolla tube near base; pistil with imperfectly 4-celled ovary, slender style, and 2-forked stigma. Capsule elliptical, flattened, 2.5–3 cm long, often splitting into 2 parts. Seed 1, large, flattened, often germinating on tree (Little, 1983). Harvesting Publ'"
      ]
     },
     "execution_count": 34,
     "metadata": {},
     "output_type": "execute_result"
    }
   ],
   "source": [
    "text"
   ]
  },
  {
   "cell_type": "code",
   "execution_count": 102,
   "metadata": {},
   "outputs": [],
   "source": [
    "caribbean_traits_dict\n",
    "\n",
    "trait = list(caribbean_traits_dict.keys())[5]\n",
    "trait_options = caribbean_traits_dict[trait]"
   ]
  },
  {
   "cell_type": "code",
   "execution_count": 95,
   "metadata": {},
   "outputs": [
    {
     "data": {
      "text/plain": [
       "'Leaf rachis'"
      ]
     },
     "execution_count": 95,
     "metadata": {},
     "output_type": "execute_result"
    }
   ],
   "source": [
    "trait"
   ]
  },
  {
   "cell_type": "code",
   "execution_count": 105,
   "metadata": {},
   "outputs": [
    {
     "data": {
      "text/plain": [
       "['glabrous',\n",
       " 'glabrous, pubescent',\n",
       " 'pubescent',\n",
       " 'pubescent, glabrous',\n",
       " 'salt crystals',\n",
       " 'scales, glabrous',\n",
       " 'shiny, glabrous',\n",
       " 'woolly, later glabrous']"
      ]
     },
     "execution_count": 105,
     "metadata": {},
     "output_type": "execute_result"
    }
   ],
   "source": [
    "trait_options"
   ]
  },
  {
   "cell_type": "code",
   "execution_count": 109,
   "metadata": {},
   "outputs": [],
   "source": [
    "question = F\"Which of the following values correctly describe(s) the '{trait}' trait mentioned in the text? If none of the following values apply, please select 'None of the above'. Select all values you can find.\" \n",
    "example = F\"\\nPlease return the answers as a Python list like the example I provided:\\nExample format:\\n['tree', 'Other: palm-like']\"\n",
    "\n",
    "question = question + example\n",
    "options = trait_options + [\"Other: description of trait not mentioned in the list.\"]\n",
    "options = F\"\\nThe options with the '{trait}':\\n{options}.\"\n",
    "user_content = F\"{question} {options}\""
   ]
  },
  {
   "cell_type": "code",
   "execution_count": 107,
   "metadata": {},
   "outputs": [
    {
     "name": "stdout",
     "output_type": "stream",
     "text": [
      "In contrast, trees in Texas and Louisiana were often less than one meter tall. The heartwood is dark-brown to black, while the sapwood is yellow-brown. The leaves often appear whitish from the salt excreted at night and on cloudy days. Leaves are simple and opposite and grow from 2 to 3 inches long. The leaf is oval and pointed, and the margins are entire. The leaves appear smooth, thick, and leathery with a dark green topside and grey to white underside. When the tree is young the bark is smooth and as it matures the bark takes on a thick and fissured texture. The flowers appear at the ends of the branches and are small, white, and fragrant with yellow centers. 9 Altmetric Avicennia germinans (Black Mangrove) is a medium-sized, evergreen shrub or tree with a rounded, densely foliated crown of spreading branches. It bears thick, elliptic, simple and opposite leaves, 2-3 in. long (5-7 cm). Smooth and leathery, they are dark green above and silver-white underneath. Blooming year-round, small white flowers with yellow centers appear in short branched spikes at the tips of the branches. The blossoms are followed by green, fleshy fruits which consist of large flattened capsules of seeds. The bark is dark gray and smooth in youth, becoming scaly on larger trunks. Tough and long-lasting, Conocarpus erectus... black mangrove Verbenaceae Avicennia germinans (L.) L. symbol: AVGE Leaf: Opposite, simple, evergreen, leathery, elliptical to obovate, 2 to 5 inches long, dark green above, silvery hairy below, may have salt deposits on their upper surfaces due to salt excretion. Flower: White, 4 petaled flowers, occurring in cone-shaped clusters, 1 to 2 inches long near branch tips. Fruit: Egg-shaped capsule 1 to 2 inches long, containing one lima bean-shaped seed. Twig: Stout, slightly angled, finely hairy, and initially green but turning grayish brown. Bark: Dark gray and finely scaly. Form: Bushy tree (50 feet tall) that forms dense thickets, trunk divides close to the ground, numerous finger like roots (pneumatophores) occur around the base of the tree. Avicennia germinans, the black mangrove,[3] is a shrub or small tree growing up to 12 meters (39 feet) in the acanthus family, Acanthaceae. Tree with lots of pneumatophores (breathing roots). Germinating seeds General InformationBlack mangrove is an evergreen shrub or small to medium-sized tree with a rounded crown of spreading branches; usually growing 3 - 12 metres tall but occasionally reaching 25 metres[299TitleProtabase - Plant Resources of Tropical Africa. The bole, which is often crooked, can be 30 - 60cm in diameter[418TitleEcocrop Properties Conservation StatusLeast Concern Edibility Rating Medicinal Rating Other Uses Rating HabitEvergreen Tree Height10.00 m Growth RateMedium PollinatorsBees, Ants Front. In contrast, the largest plants contained multiple stems and branches extending to almost 1 m from a central base (Figure 1). Front. Collapse All / Expand All Description Evergreen shrub or small tree 3–12(-25) m high; trunk 30–60 dm in diameter. Masses of small air roots 15–45 cm long sometimes hang from upper part of large trunks. Bark dark gray or brown and smooth on small trunks, becoming dark brown, fissured, scaly, and thick. Leaves opposite, lanceolate or narrowly elliptical, 5–11 cm long, 2–4 cm wide, acute or blunt at tip, entire, thick, leathery. Fine hairs giving a grayish hue to foliage; both surfaces often with scattered salt crystals and salty taste. Petiole 3–15 mm long. Spikes or panicles headlike, upright at and near ends of twigs. Flowers several, crowded, sessile, 6 mm long, 10 mm across. Calyx cup-shaped, deeply 5-lobed; corolla tubular, hairy, white but yellowish at base, with 4 slightly unequal spreading, rounded, or notched lobes, stamens 4, 5 mm long in notches of corolla tube near base; pistil with imperfectly 4-celled ovary, slender style, and 2-forked stigma. Capsule elliptical, flattened, 2.5–3 cm long, often splitting into 2 parts. Seed 1, large, flattened, often germinating on tree (Little, 1983). Harvesting Publ\n"
     ]
    }
   ],
   "source": [
    "print(text)"
   ]
  },
  {
   "cell_type": "code",
   "execution_count": 110,
   "metadata": {},
   "outputs": [
    {
     "name": "stdout",
     "output_type": "stream",
     "text": [
      "Which of the following values correctly describe(s) the 'Leaf upper side' trait mentioned in the text? If none of the following values apply, please select 'None of the above'. Select all values you can find.\n",
      "Please return the answers as a Python list like the example I provided:\n",
      "Example format:\n",
      "['tree', 'Other: palm-like'] \n",
      "The options with the 'Leaf upper side':\n",
      "['glabrous', 'glabrous, pubescent', 'pubescent', 'pubescent, glabrous', 'salt crystals', 'scales, glabrous', 'shiny, glabrous', 'woolly, later glabrous', 'Other: description of trait not mentioned in the list.'].\n"
     ]
    }
   ],
   "source": [
    "print(user_content)"
   ]
  },
  {
   "cell_type": "code",
   "execution_count": 111,
   "metadata": {},
   "outputs": [],
   "source": [
    "# Create the messages to send to the ChatGPT API\n",
    "messages = [\n",
    "    {\"role\": \"assistant\", \"content\": text},\n",
    "    {\"role\": \"user\", \"content\": user_content}\n",
    "    ]\n",
    "# Call the ChatGPT API to generate a completion for the prompt\n",
    "completion = openai.ChatCompletion.create(\n",
    "    model = \"gpt-3.5-turbo\",\n",
    "    messages = messages,\n",
    ")"
   ]
  },
  {
   "cell_type": "code",
   "execution_count": 112,
   "metadata": {},
   "outputs": [
    {
     "data": {
      "text/plain": [
       "<OpenAIObject chat.completion id=chatcmpl-6vqBs9CpqfGqzgAinZ24tmfgZSx53 at 0x7fb06858b470> JSON: {\n",
       "  \"choices\": [\n",
       "    {\n",
       "      \"finish_reason\": \"stop\",\n",
       "      \"index\": 0,\n",
       "      \"message\": {\n",
       "        \"content\": \"['dark green']\",\n",
       "        \"role\": \"assistant\"\n",
       "      }\n",
       "    }\n",
       "  ],\n",
       "  \"created\": 1679243336,\n",
       "  \"id\": \"chatcmpl-6vqBs9CpqfGqzgAinZ24tmfgZSx53\",\n",
       "  \"model\": \"gpt-3.5-turbo-0301\",\n",
       "  \"object\": \"chat.completion\",\n",
       "  \"usage\": {\n",
       "    \"completion_tokens\": 5,\n",
       "    \"prompt_tokens\": 1182,\n",
       "    \"total_tokens\": 1187\n",
       "  }\n",
       "}"
      ]
     },
     "execution_count": 112,
     "metadata": {},
     "output_type": "execute_result"
    }
   ],
   "source": [
    "completion"
   ]
  }
 ],
 "metadata": {
  "kernelspec": {
   "display_name": "deeplearning",
   "language": "python",
   "name": "deeplearning"
  },
  "language_info": {
   "codemirror_mode": {
    "name": "ipython",
    "version": 3
   },
   "file_extension": ".py",
   "mimetype": "text/x-python",
   "name": "python",
   "nbconvert_exporter": "python",
   "pygments_lexer": "ipython3",
   "version": "3.10.4"
  },
  "orig_nbformat": 4,
  "vscode": {
   "interpreter": {
    "hash": "51432b8e5767c06330d9b51dfad63f9db0ea39868e37d921b9c2e277373f8d11"
   }
  }
 },
 "nbformat": 4,
 "nbformat_minor": 2
}
