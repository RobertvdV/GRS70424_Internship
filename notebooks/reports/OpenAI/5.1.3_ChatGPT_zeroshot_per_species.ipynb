{
 "cells": [
  {
   "cell_type": "code",
   "execution_count": 1,
   "metadata": {},
   "outputs": [],
   "source": [
    "import torch\n",
    "import re\n",
    "import os\n",
    "import json\n",
    "import pickle\n",
    "import openai\n",
    "import pandas as pd\n",
    "import numpy as np\n",
    "import glob\n",
    "from tqdm import tqdm\n",
    "import ast\n",
    "from dotenv import load_dotenv\n",
    "import time"
   ]
  },
  {
   "cell_type": "code",
   "execution_count": 2,
   "metadata": {},
   "outputs": [],
   "source": [
    "load_dotenv()\n",
    "openai.api_key = os.environ['OPENAI_API']"
   ]
  },
  {
   "cell_type": "code",
   "execution_count": 15,
   "metadata": {},
   "outputs": [],
   "source": [
    "def extract_present_traits(species, df):\n",
    "\n",
    "    s = df.loc[species]\n",
    "    GT_traits = list(s.where(s == 1).dropna().index)\n",
    "    empty_traits = [F\"{Entity}:\" for (Entity, Value) in GT_traits]\n",
    "\n",
    "    return GT_traits, empty_traits\n",
    "\n",
    "def create_trait_dict(multi_index):\n",
    "    # Create an empty dictionary\n",
    "    result_dict = {}\n",
    "\n",
    "    # Iterate through the MultiIndex object\n",
    "    for idx in multi_index:\n",
    "        key = idx[0]\n",
    "        value = idx[1]\n",
    "        if key not in result_dict:\n",
    "            result_dict[key] = []\n",
    "        result_dict[key].append(value)\n",
    "    \n",
    "    return result_dict"
   ]
  },
  {
   "attachments": {},
   "cell_type": "markdown",
   "metadata": {},
   "source": [
    "### Trait Dicts"
   ]
  },
  {
   "cell_type": "code",
   "execution_count": 4,
   "metadata": {},
   "outputs": [],
   "source": [
    "folder_traits = \"../../../data/OpenAI/Traits/\"\n",
    "\n",
    "with open(F\"{folder_traits}Andrei.json\", 'r') as f:\n",
    "  caribbean_traits_dict = json.load(f)\n",
    "\n",
    "with open(F\"{folder_traits}Andrei.json\", 'r') as f:\n",
    "  caribbean_traits_dict = json.load(f)\n",
    "\n",
    "with open(F\"{folder_traits}Andrei.json\", 'r') as f:\n",
    "  caribbean_traits_dict = json.load(f)"
   ]
  },
  {
   "attachments": {},
   "cell_type": "markdown",
   "metadata": {},
   "source": [
    "### DataFrames"
   ]
  },
  {
   "cell_type": "code",
   "execution_count": 6,
   "metadata": {},
   "outputs": [],
   "source": [
    "root = \"../../../data/OpenAI/DataFrames/\"\n",
    "\n",
    "file = \"DF_Andrei.csv\"\n",
    "df_Andrei = pd.read_csv(F\"{root}{file}\", header=[0, 1], index_col=0)\\\n",
    "    .rename_axis('Species', axis='index')\n",
    "df_Andrei_species = list(df_Andrei.index)\n",
    "\n",
    "\n",
    "file = \"DF_Daniel.csv\"\n",
    "df_Daniel = pd.read_csv(F\"{root}{file}\", header=[0, 1], index_col=0)\\\n",
    "    .rename_axis('Species', axis='index')\\\n",
    "    .dropna()\n",
    "df_Daniel_species = list(df_Daniel.index)\n",
    "\n",
    "file = \"DF_Pierre.csv\"\n",
    "df_Pierre = pd.read_csv(F\"{root}{file}\", header=[0, 1], index_col=0)\\\n",
    "    .rename_axis('Species', axis='index')\n",
    "df_Pierre_species = list(df_Pierre.index)"
   ]
  },
  {
   "cell_type": "code",
   "execution_count": 7,
   "metadata": {},
   "outputs": [],
   "source": [
    "species_lst = df_Andrei.index\n",
    "traits = list(caribbean_traits_dict.keys())"
   ]
  },
  {
   "cell_type": "code",
   "execution_count": 7,
   "metadata": {},
   "outputs": [
    {
     "name": "stderr",
     "output_type": "stream",
     "text": [
      "                                                    \r"
     ]
    }
   ],
   "source": [
    "# Define the path to the directory where the prompts and results will be saved\n",
    "folder_prompts = \"../../../data/OpenAI/PromptsResults/ZeroShot/\"\n",
    "\n",
    "# Loop over species\n",
    "for idx, species in (pbar := tqdm(enumerate(species_lst[0:5]), leave=False, position=0)):\n",
    "    pbar.set_description(f\"{idx}: {species}\")\n",
    "   \n",
    "    # Replace spaces in the species name with underscores\n",
    "    file_name = species.replace(' ', '_')\n",
    "\n",
    "    # Create the question and options for the ChatGPT prompt\n",
    "    question = F\"Can you create semantic triples for the following traits {traits}, for the species '{species}' and return the answer as a list of of tuples for easy parsing?\"\n",
    "    user_content = F\"{question}\"\n",
    "\n",
    "    # Check if file is already there (OpenAI Outage)\n",
    "    if os.path.exists(F\"{folder_prompts}{file_name}.json\"):\n",
    "        continue\n",
    "\n",
    "    # # Create the messages to send to the ChatGPT API\n",
    "    messages = [\n",
    "        {\"role\": \"user\", \"content\": user_content}\n",
    "        ]\n",
    "    # Call the ChatGPT API to generate a completion for the prompt\n",
    "    completion = openai.ChatCompletion.create(\n",
    "        model = \"gpt-3.5-turbo\",\n",
    "        messages = messages,\n",
    "    )\n",
    "\n",
    "    # Lower pressure on API?\n",
    "    time.sleep(2)\n",
    "\n",
    "    # Save the completion to a JSON file with the file name in the directory\n",
    "    with open(F\"{folder_prompts}{file_name}.json\", 'w') as fp:\n",
    "        json.dump(completion, fp)\n",
    "            "
   ]
  },
  {
   "cell_type": "code",
   "execution_count": 9,
   "metadata": {},
   "outputs": [],
   "source": [
    "species = species_lst[0]\n",
    "\n",
    "question = F\"Can you create semantic triples for the following traits {traits}, for the species '{species}' based on the following Python dictionary and return the answer as a list of of tuples for easy parsing?\"\n",
    "user_content = F\"{question}\""
   ]
  },
  {
   "cell_type": "code",
   "execution_count": 11,
   "metadata": {},
   "outputs": [
    {
     "name": "stdout",
     "output_type": "stream",
     "text": [
      "Can you create semantic triples for the following traits ['Life form', 'Leaf position', 'Leaf composition', 'Leaf shape', 'Leaf margin', 'Leaf upper side', 'Leaf lower side', 'Leaf glands', 'Leaf rachis', 'Thorns/spines', 'Stipules', 'Inflorescence type', 'Sepals / calyx shape', 'Sepals / calyx numer', 'Petals / corolla shape', 'Petals / corolla number', 'Petals / corolla colour', 'Stamen shape', 'Stamen number', 'Fruit type', 'Fruit shape', 'Fruit colour', 'Aril colour', 'Seed colour'], for the species 'Avicennia germinans' based on the following Python dictionary and return the answer as a list of of tuples for easy parsing?\n"
     ]
    }
   ],
   "source": [
    "print(user_content)"
   ]
  },
  {
   "cell_type": "code",
   "execution_count": 12,
   "metadata": {},
   "outputs": [],
   "source": [
    "s = df_Andrei.loc[species]\n",
    "GT_traits = list(s.where(s == 1).dropna().index)\n",
    "empty_traits = [F\"{Entity}:\" for (Entity, Value) in GT_traits]"
   ]
  },
  {
   "cell_type": "code",
   "execution_count": 18,
   "metadata": {},
   "outputs": [],
   "source": [
    "trait_dict = create_trait_dict(df_Andrei)"
   ]
  },
  {
   "cell_type": "code",
   "execution_count": 73,
   "metadata": {},
   "outputs": [],
   "source": [
    "trait = list(trait_dict.keys())[20]\n",
    "options = trait_dict[trait]"
   ]
  },
  {
   "cell_type": "code",
   "execution_count": 76,
   "metadata": {},
   "outputs": [],
   "source": [
    "question = F\"\"\"For the species '{species}' which of the following options is applicable for the trait '{trait}':\n",
    "{options}\n",
    "\n",
    "Return 'NA' if none of the options are apliccable.\n",
    "Please return you answer as a Python tuple list.\n",
    "\"\"\""
   ]
  },
  {
   "cell_type": "code",
   "execution_count": 77,
   "metadata": {},
   "outputs": [
    {
     "name": "stdout",
     "output_type": "stream",
     "text": [
      "For the species 'Avicennia germinans' which of the following options is applicable for the trait 'Fruit shape':\n",
      "['2-locular, flattened, globose', '3-5-locular, globose', 'elongate', 'elongate, constricted between seeds', 'elongate, slightly constricted between seeds', 'elongate, strongly constricted between seeds', 'flattened obovoid', 'flattened ovate', 'flattened, elongate, twisted', 'flattened, thick, elongate, strongly curved', 'globose', 'globose, 3-angulated', 'linear', 'not flattened, elongate, slightly curved', 'ovoid', 'pyriform, ovoid', 'slightly flattened, elongate, curved']\n",
      "\n",
      "Return 'NA' if none of the options are apliccable.\n",
      "Please return you answer as a Python tuple list.\n",
      "\n"
     ]
    }
   ],
   "source": [
    "print(question)"
   ]
  },
  {
   "cell_type": "code",
   "execution_count": 78,
   "metadata": {},
   "outputs": [],
   "source": [
    "messages = [\n",
    "    {\"role\": \"user\", \"content\": question}\n",
    "    ]\n",
    "# Call the ChatGPT API to generate a completion for the prompt\n",
    "completion = openai.ChatCompletion.create(\n",
    "    model = \"gpt-3.5-turbo\",\n",
    "    messages = messages,\n",
    ")"
   ]
  },
  {
   "cell_type": "code",
   "execution_count": 79,
   "metadata": {},
   "outputs": [
    {
     "data": {
      "text/plain": [
       "<OpenAIObject chat.completion id=chatcmpl-6yI43eNqTZHlKNaXqo9W76xB0IvlC at 0x7fd771860090> JSON: {\n",
       "  \"choices\": [\n",
       "    {\n",
       "      \"finish_reason\": \"stop\",\n",
       "      \"index\": 0,\n",
       "      \"message\": {\n",
       "        \"content\": \"The applicable option for the trait 'Fruit shape' in the species 'Avicennia germinans' is \\\"elongate, slightly constricted between seeds\\\".\\n\\nTherefore, the Python tuple list is:\\n[('Fruit shape', 'elongate, slightly constricted between seeds')]\",\n",
       "        \"role\": \"assistant\"\n",
       "      }\n",
       "    }\n",
       "  ],\n",
       "  \"created\": 1679827139,\n",
       "  \"id\": \"chatcmpl-6yI43eNqTZHlKNaXqo9W76xB0IvlC\",\n",
       "  \"model\": \"gpt-3.5-turbo-0301\",\n",
       "  \"object\": \"chat.completion\",\n",
       "  \"usage\": {\n",
       "    \"completion_tokens\": 58,\n",
       "    \"prompt_tokens\": 203,\n",
       "    \"total_tokens\": 261\n",
       "  }\n",
       "}"
      ]
     },
     "execution_count": 79,
     "metadata": {},
     "output_type": "execute_result"
    }
   ],
   "source": [
    "completion"
   ]
  }
 ],
 "metadata": {
  "kernelspec": {
   "display_name": "deeplearning",
   "language": "python",
   "name": "deeplearning"
  },
  "language_info": {
   "codemirror_mode": {
    "name": "ipython",
    "version": 3
   },
   "file_extension": ".py",
   "mimetype": "text/x-python",
   "name": "python",
   "nbconvert_exporter": "python",
   "pygments_lexer": "ipython3",
   "version": "3.10.4"
  },
  "orig_nbformat": 4
 },
 "nbformat": 4,
 "nbformat_minor": 2
}
