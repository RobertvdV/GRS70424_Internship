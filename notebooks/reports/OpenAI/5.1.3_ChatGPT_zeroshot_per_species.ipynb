{
 "cells": [
  {
   "cell_type": "code",
   "execution_count": 43,
   "metadata": {},
   "outputs": [],
   "source": [
    "import torch\n",
    "import re\n",
    "import os\n",
    "import json\n",
    "import pickle\n",
    "import openai\n",
    "import pandas as pd\n",
    "import numpy as np\n",
    "import glob\n",
    "from tqdm import tqdm\n",
    "import ast\n",
    "from dotenv import load_dotenv"
   ]
  },
  {
   "cell_type": "code",
   "execution_count": 2,
   "metadata": {},
   "outputs": [],
   "source": [
    "load_dotenv()\n",
    "openai.api_key = os.environ['OPENAI_API']"
   ]
  },
  {
   "cell_type": "code",
   "execution_count": 27,
   "metadata": {},
   "outputs": [],
   "source": [
    "def extract_present_traits(species, df):\n",
    "\n",
    "    s = df.loc[species]\n",
    "    GT_traits = list(s.where(s == 1).dropna().index)\n",
    "    empty_traits = [F\"{Entity}:\" for (Entity, Value) in GT_traits]\n",
    "\n",
    "    return GT_traits, empty_traits"
   ]
  },
  {
   "attachments": {},
   "cell_type": "markdown",
   "metadata": {},
   "source": [
    "### Trait Dicts"
   ]
  },
  {
   "cell_type": "code",
   "execution_count": 3,
   "metadata": {},
   "outputs": [],
   "source": [
    "folder_traits = \"../../../data/OpenAI/Traits/\"\n",
    "\n",
    "with open(F\"{folder_traits}Andrei.json\", 'r') as f:\n",
    "  caribbean_traits_dict = json.load(f)\n",
    "\n",
    "with open(F\"{folder_traits}Andrei.json\", 'r') as f:\n",
    "  caribbean_traits_dict = json.load(f)\n",
    "\n",
    "with open(F\"{folder_traits}Andrei.json\", 'r') as f:\n",
    "  caribbean_traits_dict = json.load(f)"
   ]
  },
  {
   "attachments": {},
   "cell_type": "markdown",
   "metadata": {},
   "source": [
    "### DataFrames"
   ]
  },
  {
   "cell_type": "code",
   "execution_count": 4,
   "metadata": {},
   "outputs": [],
   "source": [
    "root = \"../../../data/OpenAI/DataFrames/\"\n",
    "\n",
    "file = \"DF_Andrei.csv\"\n",
    "df_Andrei = pd.read_csv(F\"{root}{file}\", header=[0, 1], index_col=0)\\\n",
    "    .rename_axis('Species', axis='index')\n",
    "df_Andrei_species = list(df_Andrei.index)\n",
    "\n",
    "\n",
    "file = \"DF_Daniel.csv\"\n",
    "df_Daniel = pd.read_csv(F\"{root}{file}\", header=[0, 1], index_col=0)\\\n",
    "    .rename_axis('Species', axis='index')\\\n",
    "    .dropna()\n",
    "df_Daniel_species = list(df_Daniel.index)\n",
    "\n",
    "file = \"DF_Pierre.csv\"\n",
    "df_Pierre = pd.read_csv(F\"{root}{file}\", header=[0, 1], index_col=0)\\\n",
    "    .rename_axis('Species', axis='index')\n",
    "df_Pierre_species = list(df_Pierre.index)"
   ]
  },
  {
   "cell_type": "code",
   "execution_count": 5,
   "metadata": {},
   "outputs": [
    {
     "data": {
      "text/plain": [
       "'Avicennia germinans'"
      ]
     },
     "execution_count": 5,
     "metadata": {},
     "output_type": "execute_result"
    }
   ],
   "source": [
    "species = df_Andrei.index[0]\n",
    "species"
   ]
  },
  {
   "cell_type": "code",
   "execution_count": 6,
   "metadata": {},
   "outputs": [
    {
     "data": {
      "text/plain": [
       "['Life form',\n",
       " 'Leaf position',\n",
       " 'Leaf composition',\n",
       " 'Leaf shape',\n",
       " 'Leaf margin',\n",
       " 'Leaf upper side',\n",
       " 'Leaf lower side',\n",
       " 'Leaf glands',\n",
       " 'Leaf rachis',\n",
       " 'Thorns/spines',\n",
       " 'Stipules',\n",
       " 'Inflorescence type',\n",
       " 'Sepals / calyx shape',\n",
       " 'Sepals / calyx numer',\n",
       " 'Petals / corolla shape',\n",
       " 'Petals / corolla number',\n",
       " 'Petals / corolla colour',\n",
       " 'Stamen shape',\n",
       " 'Stamen number',\n",
       " 'Fruit type',\n",
       " 'Fruit shape',\n",
       " 'Fruit colour',\n",
       " 'Aril colour',\n",
       " 'Seed colour']"
      ]
     },
     "execution_count": 6,
     "metadata": {},
     "output_type": "execute_result"
    }
   ],
   "source": [
    "for trait in caribbean_traits_dict.keys():\n",
    "    trait\n",
    "    # print(trait)\n",
    "\n",
    "traits = list(caribbean_traits_dict.keys())\n",
    "traits"
   ]
  },
  {
   "cell_type": "code",
   "execution_count": 21,
   "metadata": {},
   "outputs": [
    {
     "name": "stdout",
     "output_type": "stream",
     "text": [
      "Can you create semantic triples for the following traits ['Life form', 'Leaf position', 'Leaf composition', 'Leaf shape', 'Leaf margin', 'Leaf upper side', 'Leaf lower side', 'Leaf glands', 'Leaf rachis', 'Thorns/spines', 'Stipules', 'Inflorescence type', 'Sepals / calyx shape', 'Sepals / calyx numer', 'Petals / corolla shape', 'Petals / corolla number', 'Petals / corolla colour', 'Stamen shape', 'Stamen number', 'Fruit type', 'Fruit shape', 'Fruit colour', 'Aril colour', 'Seed colour'], for the species 'Avicennia germinans'? \n",
      "Can you use the example format I provided:\n",
      " ('http://dbpedia.org/resource/Avicennia_germinans', 'http://dbpedia.org/ontology/leafPosition', 'alternate')\n"
     ]
    }
   ],
   "source": [
    "question = F\"Can you create semantic triples for the following traits {traits}, for the species '{species}'? \\nCan you use the example format I provided:\\n\"\n",
    "# print(question)\n",
    "\n",
    "example = (F\"http://dbpedia.org/resource/{species.replace(' ', '_')}\", \"http://dbpedia.org/ontology/leafPosition\", \"alternate\")\n",
    "# print(example)\n",
    "\n",
    "content = F\"{question} {example}\"\n",
    "print(content)"
   ]
  },
  {
   "cell_type": "code",
   "execution_count": 22,
   "metadata": {},
   "outputs": [],
   "source": [
    "messages = [\n",
    "    # {\"role\": \"assistant\", \"content\": text},\n",
    "    {\"role\": \"user\", \"content\": content}\n",
    "    ]\n",
    "# Call the ChatGPT API to generate a completion for the prompt\n",
    "completion = openai.ChatCompletion.create(\n",
    "    model = \"gpt-3.5-turbo\",\n",
    "    messages = messages,\n",
    ")"
   ]
  },
  {
   "cell_type": "code",
   "execution_count": 23,
   "metadata": {},
   "outputs": [
    {
     "data": {
      "text/plain": [
       "<OpenAIObject chat.completion id=chatcmpl-6uzSI32T8VCvQd2Byoh0gQ6hYCeCI at 0x7fd988727bf0> JSON: {\n",
       "  \"choices\": [\n",
       "    {\n",
       "      \"finish_reason\": \"stop\",\n",
       "      \"index\": 0,\n",
       "      \"message\": {\n",
       "        \"content\": \"\\n\\n('http://dbpedia.org/resource/Avicennia_germinans', 'http://dbpedia.org/ontology/lifeForm', 'tree'),\\n('http://dbpedia.org/resource/Avicennia_germinans', 'http://dbpedia.org/ontology/leafPosition', 'alternate'),\\n('http://dbpedia.org/resource/Avicennia_germinans', 'http://dbpedia.org/ontology/leafComposition', 'simple'),\\n('http://dbpedia.org/resource/Avicennia_germinans', 'http://dbpedia.org/ontology/leafShape', 'lanceolate'),\\n('http://dbpedia.org/resource/Avicennia_germinans', 'http://dbpedia.org/ontology/leafMargin', 'entire'),\\n('http://dbpedia.org/resource/Avicennia_germinans', 'http://dbpedia.org/ontology/leafUpperSide', 'green'),\\n('http://dbpedia.org/resource/Avicennia_germinans', 'http://dbpedia.org/ontology/leafLowerSide', 'gray'),\\n('http://dbpedia.org/resource/Avicennia_germinans', 'http://dbpedia.org/ontology/leafGlands', 'absent'),\\n('http://dbpedia.org/resource/Avicennia_germinans', 'http://dbpedia.org/ontology/leafRachis', 'winged'),\\n('http://dbpedia.org/resource/Avicennia_germinans', 'http://dbpedia.org/ontology/thornsSpines', 'absent'),\\n('http://dbpedia.org/resource/Avicennia_germinans', 'http://dbpedia.org/ontology/stipules', 'absent'),\\n('http://dbpedia.org/resource/Avicennia_germinans', 'http://dbpedia.org/ontology/inflorescenceType', 'spike'),\\n('http://dbpedia.org/resource/Avicennia_germinans', 'http://dbpedia.org/ontology/sepalsCalyxShape', 'bell-shaped'),\\n('http://dbpedia.org/resource/Avicennia_germinans', 'http://dbpedia.org/ontology/sepalsCalyxNumer', '5'),\\n('http://dbpedia.org/resource/Avicennia_germinans', 'http://dbpedia.org/ontology/petalsCorollaShape', 'absent'),\\n('http://dbpedia.org/resource/Avicennia_germinans', 'http://dbpedia.org/ontology/petalsCorollaNumber', '0'),\\n('http://dbpedia.org/resource/Avicennia_germinans', 'http://dbpedia.org/ontology/petalsCorollaColour', 'NA'),\\n('http://dbpedia.org/resource/Avicennia_germinans', 'http://dbpedia.org/ontology/stamenShape', 'elongated'),\\n('http://dbpedia.org/resource/Avicennia_germinans', 'http://dbpedia.org/ontology/stamenNumber', '5 or 10'),\\n('http://dbpedia.org/resource/Avicennia_germinans', 'http://dbpedia.org/ontology/fruitType', 'berry'),\\n('http://dbpedia.org/resource/Avicennia_germinans', 'http://dbpedia.org/ontology/fruitShape', 'ovoid'),\\n('http://dbpedia.org/resource/Avicennia_germinans', 'http://dbpedia.org/ontology/fruitColour', 'green to black'),\\n('http://dbpedia.org/resource/Avicennia_germinans', 'http://dbpedia.org/ontology/arilColour', 'red'),\\n('http://dbpedia.org/resource/Avicennia_germinans', 'http://dbpedia.org/ontology/seedColour', 'brown')\",\n",
       "        \"role\": \"assistant\"\n",
       "      }\n",
       "    }\n",
       "  ],\n",
       "  \"created\": 1679040622,\n",
       "  \"id\": \"chatcmpl-6uzSI32T8VCvQd2Byoh0gQ6hYCeCI\",\n",
       "  \"model\": \"gpt-3.5-turbo-0301\",\n",
       "  \"object\": \"chat.completion\",\n",
       "  \"usage\": {\n",
       "    \"completion_tokens\": 812,\n",
       "    \"prompt_tokens\": 202,\n",
       "    \"total_tokens\": 1014\n",
       "  }\n",
       "}"
      ]
     },
     "execution_count": 23,
     "metadata": {},
     "output_type": "execute_result"
    }
   ],
   "source": [
    "completion"
   ]
  },
  {
   "cell_type": "code",
   "execution_count": 41,
   "metadata": {},
   "outputs": [
    {
     "data": {
      "text/plain": [
       "[('Life form', 'tree'),\n",
       " ('Leaf position', 'opposite'),\n",
       " ('Leaf composition', 'entire'),\n",
       " ('Leaf shape', 'lanceolate, elliptic'),\n",
       " ('Leaf margin', 'entire'),\n",
       " ('Leaf upper side', 'salt crystals'),\n",
       " ('Leaf lower side', 'powdery'),\n",
       " ('Leaf glands', 'absent'),\n",
       " ('Thorns/spines', 'absent'),\n",
       " ('Stipules', 'absent'),\n",
       " ('Inflorescence type', 'panicle'),\n",
       " ('Sepals / calyx shape', 'free'),\n",
       " ('Sepals / calyx numer', '5'),\n",
       " ('Petals / corolla shape', 'tubular'),\n",
       " ('Petals / corolla number', '4'),\n",
       " ('Petals / corolla colour', 'white'),\n",
       " ('Stamen shape', 'longer than corolla'),\n",
       " ('Stamen number', '4'),\n",
       " ('Fruit type', 'capsule'),\n",
       " ('Fruit shape', 'flattened ovate'),\n",
       " ('Fruit colour', 'green'),\n",
       " ('Seed colour', 'green')]"
      ]
     },
     "execution_count": 41,
     "metadata": {},
     "output_type": "execute_result"
    }
   ],
   "source": [
    "GT = extract_present_traits(species, df_Andrei)[0]\n",
    "GT"
   ]
  },
  {
   "cell_type": "code",
   "execution_count": 45,
   "metadata": {},
   "outputs": [],
   "source": [
    "res = completion['choices'][0]['message']['content']\n",
    "res\n",
    "\n",
    "list_of_tuples = ast.literal_eval(\"[\" + res.replace(\"\\n\", \"\") + \"]\")\n",
    "# list_of_tuples"
   ]
  },
  {
   "cell_type": "code",
   "execution_count": 49,
   "metadata": {},
   "outputs": [
    {
     "name": "stdout",
     "output_type": "stream",
     "text": [
      "GPT output: ('http://dbpedia.org/ontology/lifeForm', 'tree')\n",
      "GT Data:    ('Life form', 'tree')\n",
      "GPT output: ('http://dbpedia.org/ontology/leafPosition', 'alternate')\n",
      "GT Data:    ('Leaf position', 'opposite')\n",
      "GPT output: ('http://dbpedia.org/ontology/leafComposition', 'simple')\n",
      "GT Data:    ('Leaf composition', 'entire')\n",
      "GPT output: ('http://dbpedia.org/ontology/leafShape', 'lanceolate')\n",
      "GT Data:    ('Leaf shape', 'lanceolate, elliptic')\n",
      "GPT output: ('http://dbpedia.org/ontology/leafMargin', 'entire')\n",
      "GT Data:    ('Leaf margin', 'entire')\n",
      "GPT output: ('http://dbpedia.org/ontology/leafUpperSide', 'green')\n",
      "GT Data:    ('Leaf upper side', 'salt crystals')\n",
      "GPT output: ('http://dbpedia.org/ontology/leafLowerSide', 'gray')\n",
      "GT Data:    ('Leaf lower side', 'powdery')\n",
      "GPT output: ('http://dbpedia.org/ontology/leafGlands', 'absent')\n",
      "GT Data:    ('Leaf glands', 'absent')\n",
      "GPT output: ('http://dbpedia.org/ontology/leafRachis', 'winged')\n",
      "GT Data:    ('Thorns/spines', 'absent')\n",
      "GPT output: ('http://dbpedia.org/ontology/thornsSpines', 'absent')\n",
      "GT Data:    ('Stipules', 'absent')\n",
      "GPT output: ('http://dbpedia.org/ontology/stipules', 'absent')\n",
      "GT Data:    ('Inflorescence type', 'panicle')\n",
      "GPT output: ('http://dbpedia.org/ontology/inflorescenceType', 'spike')\n",
      "GT Data:    ('Sepals / calyx shape', 'free')\n",
      "GPT output: ('http://dbpedia.org/ontology/sepalsCalyxShape', 'bell-shaped')\n",
      "GT Data:    ('Sepals / calyx numer', '5')\n",
      "GPT output: ('http://dbpedia.org/ontology/sepalsCalyxNumer', '5')\n",
      "GT Data:    ('Petals / corolla shape', 'tubular')\n",
      "GPT output: ('http://dbpedia.org/ontology/petalsCorollaShape', 'absent')\n",
      "GT Data:    ('Petals / corolla number', '4')\n",
      "GPT output: ('http://dbpedia.org/ontology/petalsCorollaNumber', '0')\n",
      "GT Data:    ('Petals / corolla colour', 'white')\n",
      "GPT output: ('http://dbpedia.org/ontology/petalsCorollaColour', 'NA')\n",
      "GT Data:    ('Stamen shape', 'longer than corolla')\n",
      "GPT output: ('http://dbpedia.org/ontology/stamenShape', 'elongated')\n",
      "GT Data:    ('Stamen number', '4')\n",
      "GPT output: ('http://dbpedia.org/ontology/stamenNumber', '5 or 10')\n",
      "GT Data:    ('Fruit type', 'capsule')\n",
      "GPT output: ('http://dbpedia.org/ontology/fruitType', 'berry')\n",
      "GT Data:    ('Fruit shape', 'flattened ovate')\n",
      "GPT output: ('http://dbpedia.org/ontology/fruitShape', 'ovoid')\n",
      "GT Data:    ('Fruit colour', 'green')\n",
      "GPT output: ('http://dbpedia.org/ontology/fruitColour', 'green to black')\n",
      "GT Data:    ('Seed colour', 'green')\n"
     ]
    }
   ],
   "source": [
    "for r, g in zip(list_of_tuples, GT):\n",
    "    print(F\"GPT output: {r[1:]}\")\n",
    "    print(F\"GT Data:    {g}\")"
   ]
  },
  {
   "cell_type": "code",
   "execution_count": null,
   "metadata": {},
   "outputs": [],
   "source": [
    "# # Define the path to the directory where the prompts and results will be saved\n",
    "# folder_prompts = \"../../../data/OpenAI/PromptsResults/\"\n",
    "\n",
    "# # Loop over each JSON file in the list caribbean_jsons_paras\n",
    "# for json_file in caribbean_jsons_paras[1:2]:\n",
    "\n",
    "#     try:\n",
    "#         # Try to read in the JSON file\n",
    "#         with open(json_file, 'r') as f:\n",
    "#             caribbean_species_paragraph = json.load(f)\n",
    "        \n",
    "#         # Get the name of the species from the keys of the dictionary in the JSON file\n",
    "#         species = list(caribbean_species_paragraph.keys())[0]\n",
    "#     except:\n",
    "#         # If the JSON file cannot be read in, get the name of the species from the file name\n",
    "#         species = json_file[62:-29].replace('_', ' ')\n",
    "#         continue\n",
    "    \n",
    "#     # Join the paragraphs for the species into a single text string\n",
    "#     text = \" \".join(caribbean_species_paragraph[species])\n",
    "\n",
    "#     # Replace spaces in the species name with underscores\n",
    "#     folder_species = species.replace(' ', '_')\n",
    "\n",
    "#     # Try to create a directory for the prompts for the species\n",
    "#     try:\n",
    "#         os.makedirs(F\"{folder_prompts}{folder_species}\")\n",
    "#     except FileExistsError:\n",
    "#         pass\n",
    "\n",
    "#     # Loop over each trait and trait options in the caribbean_traits_dict dictionary\n",
    "#     for trait, trait_options in (pbar := tqdm(caribbean_traits_dict.items(), leave=False, position=0)):\n",
    "#         pbar.set_description(f\"{species}\")\n",
    "\n",
    "#         # Create the question and options for the ChatGPT prompt\n",
    "#         # question = F\"Which of the following values correctly describe(s) the '{trait}' trait mentioned in the text? Please select all that apply.\"\n",
    "#         # options = trait_options + [\"None of the above\", \"Someting else (please specify)\"]\n",
    "#         # user_content = F\"Question: {question}  \\n\\nValues: {options}\"\n",
    "\n",
    "#         question = F\"Which of the following values correctly describe(s) the '{trait}' trait mentioned in the text? If none of the following values apply, please select 'None of the above'. Please select all that apply:\" \n",
    "#         options = trait_options + [\"Other: description of trait not mentioned in the list.\"]\n",
    "#         options = F\"{options}.\"\n",
    "#         user_content = F\"{question} {options}\"\n",
    "\n",
    "#         # print(user_content)\n",
    "\n",
    "#         # Create the messages to send to the ChatGPT API\n",
    "#         messages = [\n",
    "#             {\"role\": \"assistant\", \"content\": text},\n",
    "#             {\"role\": \"user\", \"content\": user_content}\n",
    "#             ]\n",
    "#         # Call the ChatGPT API to generate a completion for the prompt\n",
    "#         completion = openai.ChatCompletion.create(\n",
    "#             model = \"gpt-3.5-turbo\",\n",
    "#             messages = messages,\n",
    "#         )\n",
    "\n",
    "#         # Combine the words in the trait name with capital letters and use this as the file name\n",
    "#         file_name = combine_words_with_capital(trait)\n",
    "#         # Save the completion to a JSON file with the file name in the species directory\n",
    "#         with open(F\"{folder_prompts}{folder_species}/{file_name}.json\", 'w') as fp:\n",
    "#             json.dump(completion, fp)\n",
    "            \n"
   ]
  }
 ],
 "metadata": {
  "kernelspec": {
   "display_name": "deeplearning",
   "language": "python",
   "name": "deeplearning"
  },
  "language_info": {
   "codemirror_mode": {
    "name": "ipython",
    "version": 3
   },
   "file_extension": ".py",
   "mimetype": "text/x-python",
   "name": "python",
   "nbconvert_exporter": "python",
   "pygments_lexer": "ipython3",
   "version": "3.10.4"
  },
  "orig_nbformat": 4
 },
 "nbformat": 4,
 "nbformat_minor": 2
}
