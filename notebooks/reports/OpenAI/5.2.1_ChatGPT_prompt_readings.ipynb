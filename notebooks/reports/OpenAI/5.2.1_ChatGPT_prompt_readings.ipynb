{
 "cells": [
  {
   "cell_type": "code",
   "execution_count": 1,
   "metadata": {},
   "outputs": [],
   "source": [
    "import json\n",
    "import numpy as np\n",
    "import pandas as pd\n",
    "import glob\n",
    "import re\n"
   ]
  },
  {
   "cell_type": "code",
   "execution_count": 2,
   "metadata": {},
   "outputs": [],
   "source": [
    "folder_traits = \"../../../data/OpenAI/Traits/\"\n",
    "\n",
    "with open(F\"{folder_traits}Andrei.json\", 'r') as f:\n",
    "  caribbean_traits_dict = json.load(f)"
   ]
  },
  {
   "cell_type": "code",
   "execution_count": 3,
   "metadata": {},
   "outputs": [
    {
     "data": {
      "text/plain": [
       "['../../../data/OpenAI/PromptsResults/Amyris_ignea',\n",
       " '../../../data/OpenAI/PromptsResults/Avicennia_germinans',\n",
       " '../../../data/OpenAI/PromptsResults/Bursera_tomentosa',\n",
       " '../../../data/OpenAI/PromptsResults/Bursera_simaruba',\n",
       " '../../../data/OpenAI/PromptsResults/Bourreria_succulenta']"
      ]
     },
     "execution_count": 3,
     "metadata": {},
     "output_type": "execute_result"
    }
   ],
   "source": [
    "folder_prompts = \"../../../data/OpenAI/PromptsResults/\"\n",
    "\n",
    "species_folders = glob.glob(F\"{folder_prompts}*\")\n",
    "species_folders"
   ]
  },
  {
   "cell_type": "code",
   "execution_count": 4,
   "metadata": {},
   "outputs": [
    {
     "data": {
      "text/plain": [
       "['../../../data/OpenAI/PromptsResults/Avicennia_germinans/PetalsCorollaShape.json',\n",
       " '../../../data/OpenAI/PromptsResults/Avicennia_germinans/PetalsCorollaColour.json',\n",
       " '../../../data/OpenAI/PromptsResults/Avicennia_germinans/SepalsCalyxShape.json',\n",
       " '../../../data/OpenAI/PromptsResults/Avicennia_germinans/LeafPosition.json']"
      ]
     },
     "execution_count": 4,
     "metadata": {},
     "output_type": "execute_result"
    }
   ],
   "source": [
    "avicennia_json_list = glob.glob(F\"{species_folders[1]}/*\")\n",
    "avicennia_json_list[0:4]"
   ]
  },
  {
   "cell_type": "code",
   "execution_count": 43,
   "metadata": {},
   "outputs": [],
   "source": [
    "prompt_results_dict = {}\n",
    "\n",
    "for json_file in avicennia_json_list:\n",
    "\n",
    "    # Trait name\n",
    "    trait = json_file[56:-5]\n",
    "\n",
    "    # Try to read in the JSON file\n",
    "    with open(json_file, 'r') as f:\n",
    "        prompt_result = json.load(f)\n",
    "\n",
    "    prompt_results_dict[trait] = prompt_result['choices'][0]['message']['content']"
   ]
  },
  {
   "cell_type": "code",
   "execution_count": 47,
   "metadata": {},
   "outputs": [],
   "source": [
    "def remove_newlines(d: dict) -> dict:\n",
    "    \"\"\"\n",
    "    Removes newline characters from string values in a dictionary, and converts any 'None of the above' values to a list\n",
    "    with a single element 'None of the above'. Also strips square brackets from values that are lists and splits them\n",
    "    into separate string elements.\n",
    "    Args:\n",
    "        d: The input dictionary to process.\n",
    "\n",
    "    Returns:\n",
    "        The processed dictionary with newlines removed and 'None of the above' values as lists.\n",
    "\n",
    "    \"\"\"\n",
    "    for k, v in d.items():\n",
    "        d[k] = v.replace('\\n', '').strip()\n",
    "        if d[k] == 'None of the above.':\n",
    "            d[k] = ['None of the above']\n",
    "        else:\n",
    "            d[k] = [val.strip() for val in d[k].strip('[]').split(',')]\n",
    "    return d\n",
    "\n",
    "\n",
    "def strip_quotes(d: dict) -> dict:\n",
    "    \"\"\"\n",
    "    Removes quotes around string values in a dictionary, and converts lists of quoted string values into lists of\n",
    "    unquoted string values.\n",
    "    Args:\n",
    "        d: The input dictionary to process.\n",
    "\n",
    "    Returns:\n",
    "        The processed dictionary with quotes removed from string values and lists of unquoted string values.\n",
    "    \"\"\"\n",
    "    new_dict = {}\n",
    "    for k, v in d.items():\n",
    "        if isinstance(v, list):\n",
    "            new_list = []\n",
    "            for item in v:\n",
    "                if isinstance(item, str):\n",
    "                    new_list.append(item.strip().strip(\"'\"))\n",
    "                else:\n",
    "                    new_list.append(item)\n",
    "            new_dict[k] = new_list\n",
    "        else:\n",
    "            new_dict[k] = v.strip().strip(\"'\")\n",
    "    return new_dict"
   ]
  }
 ],
 "metadata": {
  "kernelspec": {
   "display_name": "venv",
   "language": "python",
   "name": "python3"
  },
  "language_info": {
   "codemirror_mode": {
    "name": "ipython",
    "version": 3
   },
   "file_extension": ".py",
   "mimetype": "text/x-python",
   "name": "python",
   "nbconvert_exporter": "python",
   "pygments_lexer": "ipython3",
   "version": "3.9.16"
  },
  "orig_nbformat": 4
 },
 "nbformat": 4,
 "nbformat_minor": 2
}
