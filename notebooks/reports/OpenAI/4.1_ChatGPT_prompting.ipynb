{
 "cells": [
  {
   "cell_type": "code",
   "execution_count": 39,
   "metadata": {},
   "outputs": [],
   "source": [
    "import torch\n",
    "import re\n",
    "import os\n",
    "import json\n",
    "import pickle\n",
    "import openai\n",
    "import pandas as pd\n",
    "import numpy as np\n",
    "from dotenv import load_dotenv"
   ]
  },
  {
   "attachments": {},
   "cell_type": "markdown",
   "metadata": {},
   "source": [
    "### Dotenv"
   ]
  },
  {
   "cell_type": "code",
   "execution_count": 2,
   "metadata": {},
   "outputs": [],
   "source": [
    "load_dotenv()\n",
    "openai.api_key = os.environ['OPENAI_API']"
   ]
  },
  {
   "attachments": {},
   "cell_type": "markdown",
   "metadata": {},
   "source": [
    "### DataFrames"
   ]
  },
  {
   "cell_type": "code",
   "execution_count": 40,
   "metadata": {},
   "outputs": [],
   "source": [
    "root = \"../../../data/OpenAI/DataFrames/\"\n",
    "\n",
    "file = \"DF_Andrei.csv\"\n",
    "df_Andrei = pd.read_csv(F\"{root}{file}\", header=[0, 1], index_col=0)\\\n",
    "    .rename_axis('Species', axis='index')\n",
    "df_Andrei_species = list(df_Andrei.index)\n",
    "\n",
    "\n",
    "file = \"DF_Daniel.csv\"\n",
    "df_Daniel = pd.read_csv(F\"{root}{file}\", header=[0, 1], index_col=0)\\\n",
    "    .rename_axis('Species', axis='index')\\\n",
    "    .dropna()\n",
    "df_Daniel_species = list(df_Daniel.index)\n",
    "\n",
    "file = \"DF_Pierre.csv\"\n",
    "df_Pierre = pd.read_csv(F\"{root}{file}\", header=[0, 1], index_col=0)\\\n",
    "    .rename_axis('Species', axis='index')\n",
    "df_Pierre_species = list(df_Pierre.index)"
   ]
  },
  {
   "cell_type": "code",
   "execution_count": 48,
   "metadata": {},
   "outputs": [],
   "source": [
    "df_Andrei_species = list(df_Andrei.index)"
   ]
  },
  {
   "cell_type": "code",
   "execution_count": 131,
   "metadata": {},
   "outputs": [],
   "source": [
    "def extract_present_traits(species, df):\n",
    "\n",
    "    s = df.loc[species]\n",
    "    GT_traits = list(s.where(s == 1).dropna().index)\n",
    "    empty_traits = [F\"{Entity}:\" for (Entity, Value) in GT_traits]\n",
    "\n",
    "    return GT_traits, empty_traits"
   ]
  },
  {
   "attachments": {},
   "cell_type": "markdown",
   "metadata": {},
   "source": [
    "### Paragraphs"
   ]
  },
  {
   "cell_type": "code",
   "execution_count": 3,
   "metadata": {},
   "outputs": [],
   "source": [
    "folder_traits = \"../../../data/OpenAI/Traits/\"\n",
    "\n",
    "with open(F\"{folder_traits}Andrei.json\", 'r') as f:\n",
    "  caribbean_traits_dict = json.load(f)\n",
    "\n",
    "folder_descriptions = \"../../../data/OpenAI/DescriptionSnippets/\"\n",
    "\n",
    "caribbean_description_paragraph_dict = pickle.load(open(F\"{folder_descriptions}descriptions_paragraphs_caribbean.pkl\", 'rb'))\n",
    "caribbean_description_sentence_dict = pickle.load(open(F\"{folder_descriptions}descriptions_sentences_caribbean.pkl\", 'rb'))\n"
   ]
  },
  {
   "attachments": {},
   "cell_type": "markdown",
   "metadata": {},
   "source": [
    "### Prompting"
   ]
  },
  {
   "cell_type": "code",
   "execution_count": 97,
   "metadata": {},
   "outputs": [
    {
     "data": {
      "text/plain": [
       "'Avicennia germinans, the black mangrove,[3] is a shrub or small tree growing up to 12 meters (39 feet) in the acanthus family, Acanthaceae. The leaves often appear whitish from the salt excreted at night and on cloudy days. The heartwood is dark-brown to black, while the sapwood is yellow-brown. Leaves are simple and opposite and grow from 2 to 3 inches long. The leaf is oval and pointed, and the margins are entire. The leaves appear smooth, thick, and leathery with a dark green topside and grey to white underside. When the tree is young the bark is smooth and as it matures the bark takes on a thick and fissured texture. The flowers appear at the ends of the branches and are small, white, and fragrant with yellow centers.  Pneumatophores often rise 5–10 cm from the long horizontal roots.\\r\\nBark dark gray or brown and smooth on small trunks, becoming dark brown,\\r\\nfissured, scaly, and thick.  Leaves opposite, lanceolate or narrowly\\r\\nelliptical, 5–11 cm long, 2–4 cm wide, acute or blunt at tip, entire, thick,\\r\\nleathery.  Fine hairs giving a grayish hue to foliage; both surfaces often with\\r\\nscattered salt crystals and salty taste.  Petiole 3–15 mm long.  Spikes or\\r\\npanicles headlike, upright at and near ends of twigs.  Flowers several,\\r\\ncrowded, sessile, 6 mm long, 10 mm across.  Calyx cup-shaped, deeply 5-lobed;\\r\\ncorolla tubular, hairy, white but yellowish at base, with 4 slightly unequal\\r\\nspreading, rounded, or notched lobes, stamens 4, 5 mm long in notches of\\r\\ncorolla tube near base; pistil with imperfectly 4-celled ovary, slender style,\\r\\nand 2-forked stigma. Capsule elliptical, flattened, 2.5–3 cm long, often\\r\\nsplitting into 2 parts. Publ'"
      ]
     },
     "execution_count": 97,
     "metadata": {},
     "output_type": "execute_result"
    }
   ],
   "source": [
    "paragraph_all = ' '.join(caribbean_description_paragraph_dict[df_Andrei_species[0]])\n",
    "paragraph_all"
   ]
  },
  {
   "cell_type": "code",
   "execution_count": 133,
   "metadata": {},
   "outputs": [],
   "source": [
    "GT_traits, present_traits = extract_present_traits(df_Andrei_species[0], df_Andrei)\n"
   ]
  },
  {
   "cell_type": "code",
   "execution_count": 111,
   "metadata": {},
   "outputs": [
    {
     "data": {
      "text/plain": [
       "'Given this list of tuples with plant traits, which of the traits are present in the presented text?'"
      ]
     },
     "execution_count": 111,
     "metadata": {},
     "output_type": "execute_result"
    }
   ],
   "source": [
    "question = \"Given this list of tuples with plant traits, which of the traits are present in the presented text?\"\n",
    "question"
   ]
  },
  {
   "cell_type": "code",
   "execution_count": 112,
   "metadata": {},
   "outputs": [
    {
     "name": "stdout",
     "output_type": "stream",
     "text": [
      "\n",
      "Text: \n",
      "Avicennia germinans, the black mangrove,[3] is a shrub or small tree growing up to 12 meters (39 feet) in the acanthus family, Acanthaceae. The leaves often appear whitish from the salt excreted at night and on cloudy days. The heartwood is dark-brown to black, while the sapwood is yellow-brown. Leaves are simple and opposite and grow from 2 to 3 inches long. The leaf is oval and pointed, and the margins are entire. The leaves appear smooth, thick, and leathery with a dark green topside and grey to white underside. When the tree is young the bark is smooth and as it matures the bark takes on a thick and fissured texture. The flowers appear at the ends of the branches and are small, white, and fragrant with yellow centers.  Pneumatophores often rise 5–10 cm from the long horizontal roots.\n",
      "Bark dark gray or brown and smooth on small trunks, becoming dark brown,\n",
      "fissured, scaly, and thick.  Leaves opposite, lanceolate or narrowly\n",
      "elliptical, 5–11 cm long, 2–4 cm wide, acute or blunt at tip, entire, thick,\n",
      "leathery.  Fine hairs giving a grayish hue to foliage; both surfaces often with\n",
      "scattered salt crystals and salty taste.  Petiole 3–15 mm long.  Spikes or\n",
      "panicles headlike, upright at and near ends of twigs.  Flowers several,\n",
      "crowded, sessile, 6 mm long, 10 mm across.  Calyx cup-shaped, deeply 5-lobed;\n",
      "corolla tubular, hairy, white but yellowish at base, with 4 slightly unequal\n",
      "spreading, rounded, or notched lobes, stamens 4, 5 mm long in notches of\n",
      "corolla tube near base; pistil with imperfectly 4-celled ovary, slender style,\n",
      "and 2-forked stigma. Capsule elliptical, flattened, 2.5–3 cm long, often\n",
      "splitting into 2 parts. Publ\n",
      "\n",
      "List of Tuples: \n",
      "[('Life form', 'tree'), ('Leaf position', 'opposite'), ('Leaf composition', 'entire'), ('Leaf shape', 'lanceolate, elliptic'), ('Leaf margin', 'entire'), ('Leaf upper side', 'salt crystals'), ('Leaf lower side', 'powdery'), ('Leaf glands', 'absent'), ('Thorns/spines', 'absent'), ('Stipules', 'absent'), ('Inflorescence type', 'panicle'), ('Sepals / calyx shape', 'free'), ('Sepals / calyx numer', '5'), ('Petals / corolla shape', 'tubular'), ('Petals / corolla number', '4'), ('Petals / corolla colour', 'white'), ('Stamen shape', 'longer than corolla'), ('Stamen number', '4'), ('Fruit type', 'capsule'), ('Fruit shape', 'flattened ovate'), ('Fruit colour', 'green'), ('Seed colour', 'green'), 'None of them']\n",
      "\n",
      "Given this list of tuples with plant traits, which of the traits are present in the presented text?\n",
      "\n"
     ]
    }
   ],
   "source": [
    "prompt = F\"\"\"\n",
    "Text: \n",
    "{paragraph_all}\n",
    "\n",
    "List of Tuples: \n",
    "{present_traits}\n",
    "\n",
    "{question}\n",
    "\"\"\"\n",
    "print(prompt)"
   ]
  },
  {
   "cell_type": "code",
   "execution_count": 113,
   "metadata": {},
   "outputs": [],
   "source": [
    "messages = [\n",
    "    {\"role\": \"user\", \"content\": prompt}\n",
    "    ]\n",
    "\n",
    "# Generate a response\n",
    "completion = openai.ChatCompletion.create(\n",
    "  model=\"gpt-3.5-turbo\",\n",
    "  messages=messages,\n",
    ")"
   ]
  },
  {
   "cell_type": "code",
   "execution_count": 114,
   "metadata": {},
   "outputs": [
    {
     "data": {
      "text/plain": [
       "<OpenAIObject at 0x7fe47ac168e0> JSON: {\n",
       "  \"completion_tokens\": 250,\n",
       "  \"prompt_tokens\": 714,\n",
       "  \"total_tokens\": 964\n",
       "}"
      ]
     },
     "execution_count": 114,
     "metadata": {},
     "output_type": "execute_result"
    }
   ],
   "source": [
    "completion[\"usage\"]"
   ]
  },
  {
   "cell_type": "code",
   "execution_count": 115,
   "metadata": {},
   "outputs": [
    {
     "name": "stdout",
     "output_type": "stream",
     "text": [
      "\n",
      "\n",
      "- Life form: tree\n",
      "- Leaf position: opposite\n",
      "- Leaf composition: entire\n",
      "- Leaf shape: lanceolate, elliptic\n",
      "- Leaf margin: entire\n",
      "- Leaf upper side: salt crystals\n",
      "- Leaf lower side: powdery (indirectly mentioned)\n",
      "- Leaf glands: absent\n",
      "- Thorns/spines: absent\n",
      "- Stipules: absent\n",
      "- Inflorescence type: panicle\n",
      "- Sepals / calyx shape: cup-shaped\n",
      "- Sepals / calyx number: 5\n",
      "- Petals / corolla shape: tubular\n",
      "- Petals / corolla number: 4\n",
      "- Petals / corolla colour: white\n",
      "- Stamen shape: longer than corolla (indirectly mentioned)\n",
      "- Stamen number: 4\n",
      "- Fruit type: capsule\n",
      "- Fruit shape: flattened, elliptical\n",
      "- Fruit colour: not mentioned\n",
      "- Seed colour: green (assumed since no other color is mentioned)\n",
      "- Leaf glands: absent (repeated)\n",
      "- Thorns/spines: absent (repeated)\n",
      "- Stipules: absent (repeated)\n",
      "\n",
      "All of the traits mentioned in the list of tuples are present in the presented text.\n"
     ]
    }
   ],
   "source": [
    "print(completion[\"choices\"][0][\"message\"][\"content\"])"
   ]
  },
  {
   "cell_type": "code",
   "execution_count": 116,
   "metadata": {},
   "outputs": [
    {
     "data": {
      "text/plain": [
       "[('Life form', 'tree'),\n",
       " ('Leaf position', 'opposite'),\n",
       " ('Leaf composition', 'entire'),\n",
       " ('Leaf shape', 'lanceolate, elliptic'),\n",
       " ('Leaf margin', 'entire'),\n",
       " ('Leaf upper side', 'salt crystals'),\n",
       " ('Leaf lower side', 'powdery'),\n",
       " ('Leaf glands', 'absent'),\n",
       " ('Thorns/spines', 'absent'),\n",
       " ('Stipules', 'absent'),\n",
       " ('Inflorescence type', 'panicle'),\n",
       " ('Sepals / calyx shape', 'free'),\n",
       " ('Sepals / calyx numer', '5'),\n",
       " ('Petals / corolla shape', 'tubular'),\n",
       " ('Petals / corolla number', '4'),\n",
       " ('Petals / corolla colour', 'white'),\n",
       " ('Stamen shape', 'longer than corolla'),\n",
       " ('Stamen number', '4'),\n",
       " ('Fruit type', 'capsule'),\n",
       " ('Fruit shape', 'flattened ovate'),\n",
       " ('Fruit colour', 'green'),\n",
       " ('Seed colour', 'green'),\n",
       " 'None of them']"
      ]
     },
     "execution_count": 116,
     "metadata": {},
     "output_type": "execute_result"
    }
   ],
   "source": [
    "present_traits"
   ]
  },
  {
   "cell_type": "code",
   "execution_count": null,
   "metadata": {},
   "outputs": [],
   "source": []
  },
  {
   "cell_type": "code",
   "execution_count": null,
   "metadata": {},
   "outputs": [],
   "source": []
  },
  {
   "cell_type": "code",
   "execution_count": null,
   "metadata": {},
   "outputs": [],
   "source": []
  },
  {
   "cell_type": "code",
   "execution_count": null,
   "metadata": {},
   "outputs": [],
   "source": []
  },
  {
   "cell_type": "code",
   "execution_count": 5,
   "metadata": {},
   "outputs": [],
   "source": [
    "prompt_list = []\n",
    "\n",
    "for entity, quality_value in caribbean_traits_dict.items():\n",
    "    # print(entity, quality_value)\n",
    "\n",
    "    quality_value += [\"No ifnromation in the text\"]\n",
    "\n",
    "    prompt = F\"The plant property {entity}, with possible values: {quality_value}\"\n",
    "    prompt_list.append(prompt)"
   ]
  },
  {
   "cell_type": "code",
   "execution_count": 7,
   "metadata": {},
   "outputs": [
    {
     "data": {
      "text/plain": [
       "'Avicennia germinans, the black mangrove,[3] is a shrub or small tree growing up to 12 meters (39 feet) in the acanthus family, Acanthaceae. The leaves often appear whitish from the salt excreted at night and on cloudy days. The heartwood is dark-brown to black, while the sapwood is yellow-brown. Leaves are simple and opposite and grow from 2 to 3 inches long. The leaf is oval and pointed, and the margins are entire. The leaves appear smooth, thick, and leathery with a dark green topside and grey to white underside. When the tree is young the bark is smooth and as it matures the bark takes on a thick and fissured texture. The flowers appear at the ends of the branches and are small, white, and fragrant with yellow centers.  Pneumatophores often rise 5–10 cm from the long horizontal roots.\\r\\nBark dark gray or brown and smooth on small trunks, becoming dark brown,\\r\\nfissured, scaly, and thick.  Leaves opposite, lanceolate or narrowly\\r\\nelliptical, 5–11 cm long, 2–4 cm wide, acute or blunt at tip, entire, thick,\\r\\nleathery.  Fine hairs giving a grayish hue to foliage; both surfaces often with\\r\\nscattered salt crystals and salty taste.  Petiole 3–15 mm long.  Spikes or\\r\\npanicles headlike, upright at and near ends of twigs.  Flowers several,\\r\\ncrowded, sessile, 6 mm long, 10 mm across.  Calyx cup-shaped, deeply 5-lobed;\\r\\ncorolla tubular, hairy, white but yellowish at base, with 4 slightly unequal\\r\\nspreading, rounded, or notched lobes, stamens 4, 5 mm long in notches of\\r\\ncorolla tube near base; pistil with imperfectly 4-celled ovary, slender style,\\r\\nand 2-forked stigma. Capsule elliptical, flattened, 2.5–3 cm long, often\\r\\nsplitting into 2 parts. Publ'"
      ]
     },
     "execution_count": 7,
     "metadata": {},
     "output_type": "execute_result"
    }
   ],
   "source": [
    "prompt_text = ' '.join(caribbean_description_paragraph_dict['Avicennia germinans'])\n",
    "prompt_text"
   ]
  },
  {
   "cell_type": "code",
   "execution_count": 8,
   "metadata": {},
   "outputs": [
    {
     "data": {
      "text/plain": [
       "'Can you extract all the semantic triples from the text?'"
      ]
     },
     "execution_count": 8,
     "metadata": {},
     "output_type": "execute_result"
    }
   ],
   "source": [
    "prompt_question = \"Can you extract all the semantic triples from the text?\"\n",
    "prompt_question"
   ]
  },
  {
   "cell_type": "code",
   "execution_count": 9,
   "metadata": {},
   "outputs": [
    {
     "name": "stdout",
     "output_type": "stream",
     "text": [
      "\n",
      "\"Avicennia germinans, the black mangrove,[3] is a shrub or small tree growing up to 12 meters (39 feet) in the acanthus family, Acanthaceae. The leaves often appear whitish from the salt excreted at night and on cloudy days. The heartwood is dark-brown to black, while the sapwood is yellow-brown. Leaves are simple and opposite and grow from 2 to 3 inches long. The leaf is oval and pointed, and the margins are entire. The leaves appear smooth, thick, and leathery with a dark green topside and grey to white underside. When the tree is young the bark is smooth and as it matures the bark takes on a thick and fissured texture. The flowers appear at the ends of the branches and are small, white, and fragrant with yellow centers.  Pneumatophores often rise 5–10 cm from the long horizontal roots.\n",
      "Bark dark gray or brown and smooth on small trunks, becoming dark brown,\n",
      "fissured, scaly, and thick.  Leaves opposite, lanceolate or narrowly\n",
      "elliptical, 5–11 cm long, 2–4 cm wide, acute or blunt at tip, entire, thick,\n",
      "leathery.  Fine hairs giving a grayish hue to foliage; both surfaces often with\n",
      "scattered salt crystals and salty taste.  Petiole 3–15 mm long.  Spikes or\n",
      "panicles headlike, upright at and near ends of twigs.  Flowers several,\n",
      "crowded, sessile, 6 mm long, 10 mm across.  Calyx cup-shaped, deeply 5-lobed;\n",
      "corolla tubular, hairy, white but yellowish at base, with 4 slightly unequal\n",
      "spreading, rounded, or notched lobes, stamens 4, 5 mm long in notches of\n",
      "corolla tube near base; pistil with imperfectly 4-celled ovary, slender style,\n",
      "and 2-forked stigma. Capsule elliptical, flattened, 2.5–3 cm long, often\n",
      "splitting into 2 parts. Publ\"\n",
      "\n",
      "Can you extract all the semantic triples from the text?\n",
      "\n"
     ]
    }
   ],
   "source": [
    "prompt = F\"\"\"\n",
    "\"{prompt_text}\"\n",
    "\n",
    "{prompt_question}\n",
    "\"\"\"\n",
    "print(prompt)"
   ]
  },
  {
   "cell_type": "code",
   "execution_count": 23,
   "metadata": {},
   "outputs": [
    {
     "data": {
      "text/plain": [
       "[{'role': 'user',\n",
       "  'content': '\\n\"Avicennia germinans, the black mangrove,[3] is a shrub or small tree growing up to 12 meters (39 feet) in the acanthus family, Acanthaceae. The leaves often appear whitish from the salt excreted at night and on cloudy days. The heartwood is dark-brown to black, while the sapwood is yellow-brown. Leaves are simple and opposite and grow from 2 to 3 inches long. The leaf is oval and pointed, and the margins are entire. The leaves appear smooth, thick, and leathery with a dark green topside and grey to white underside. When the tree is young the bark is smooth and as it matures the bark takes on a thick and fissured texture. The flowers appear at the ends of the branches and are small, white, and fragrant with yellow centers.  Pneumatophores often rise 5–10 cm from the long horizontal roots.\\r\\nBark dark gray or brown and smooth on small trunks, becoming dark brown,\\r\\nfissured, scaly, and thick.  Leaves opposite, lanceolate or narrowly\\r\\nelliptical, 5–11 cm long, 2–4 cm wide, acute or blunt at tip, entire, thick,\\r\\nleathery.  Fine hairs giving a grayish hue to foliage; both surfaces often with\\r\\nscattered salt crystals and salty taste.  Petiole 3–15 mm long.  Spikes or\\r\\npanicles headlike, upright at and near ends of twigs.  Flowers several,\\r\\ncrowded, sessile, 6 mm long, 10 mm across.  Calyx cup-shaped, deeply 5-lobed;\\r\\ncorolla tubular, hairy, white but yellowish at base, with 4 slightly unequal\\r\\nspreading, rounded, or notched lobes, stamens 4, 5 mm long in notches of\\r\\ncorolla tube near base; pistil with imperfectly 4-celled ovary, slender style,\\r\\nand 2-forked stigma. Capsule elliptical, flattened, 2.5–3 cm long, often\\r\\nsplitting into 2 parts. Publ\"\\n\\nCan you extract all the semantic triples from the text?\\n'}]"
      ]
     },
     "execution_count": 23,
     "metadata": {},
     "output_type": "execute_result"
    }
   ],
   "source": [
    "messages = [\n",
    "    {\"role\": \"user\", \"content\": prompt}\n",
    "    ]\n",
    "\n",
    "messages"
   ]
  },
  {
   "cell_type": "code",
   "execution_count": 24,
   "metadata": {},
   "outputs": [],
   "source": [
    "# Generate a response\n",
    "completion = openai.ChatCompletion.create(\n",
    "  model=\"gpt-3.5-turbo\",\n",
    "  messages=messages,\n",
    ")"
   ]
  },
  {
   "cell_type": "code",
   "execution_count": 34,
   "metadata": {},
   "outputs": [
    {
     "data": {
      "text/plain": [
       "<OpenAIObject at 0x7fe479739d00> JSON: {\n",
       "  \"completion_tokens\": 287,\n",
       "  \"prompt_tokens\": 478,\n",
       "  \"total_tokens\": 765\n",
       "}"
      ]
     },
     "execution_count": 34,
     "metadata": {},
     "output_type": "execute_result"
    }
   ],
   "source": [
    "completion[\"usage\"]"
   ]
  },
  {
   "cell_type": "code",
   "execution_count": 32,
   "metadata": {},
   "outputs": [
    {
     "name": "stdout",
     "output_type": "stream",
     "text": [
      "\n",
      "\n",
      "1. Plant species: Avicennia germinans\n",
      "2. Family name: Acanthaceae\n",
      "3. Tree height: up to 12 meters\n",
      "4. Leaf characteristics: simple, opposite, oval, pointed, thick, leathery, dark green topside, grey to white underside\n",
      "5. Bark color and texture: dark gray or brown, smooth on small trunks, becoming dark brown, fissured, scaly and thick\n",
      "6. Flower characteristics: small, white, fragrant with yellow centers, several, crowded, sessile, tubular and hairy corolla, imperfectly 4-celled ovary, slender style, and 2-forked stigma\n",
      "7. Fruit characteristics: Elliptical, flattened, 2.5–3 cm long, often splitting into 2 parts\n",
      "8. Root characteristics: long horizontal roots with Pneumatophores often rising 5–10 cm\n",
      "9. Leaf margin: entire\n",
      "10. Leaf length: 2-3 inches\n",
      "11. Salt excretion: leaves often appear whitish from the salt excreted at night and on cloudy days\n",
      "12. Heartwood and sapwood color: dark-brown to black (heartwood), yellow-brown (sapwood)\n",
      "13. Other features: fine hairs give a grayish hue to foliage, both surfaces often with scattered salt crystals and salty taste.\n"
     ]
    }
   ],
   "source": [
    "print(completion[\"choices\"][0][\"message\"][\"content\"])"
   ]
  },
  {
   "cell_type": "code",
   "execution_count": 37,
   "metadata": {},
   "outputs": [
    {
     "data": {
      "text/plain": [
       "[\"The plant property Life form, with possible values: ['liana', 'tree', 'No ifnromation in the text']\",\n",
       " \"The plant property Leaf position, with possible values: ['alternate', 'alternate, opposite', 'opposite', 'opposite, whorls of 3', 'opposite, whorls of 3, alternate', 'No ifnromation in the text']\",\n",
       " \"The plant property Leaf composition, with possible values: ['3 palmate', '3-5 palmate', '3-5 pinnate', '3-5 pinnate, entire', '5-11 pinnate', '5-9 pinnate', 'bi-pinnate, 2 leaflets per jug', 'bi-pinnate, 20-40 leaflets per jug', 'bi-pinnate, 30-32 leaflets per jug', 'entire', 'pinnate, 4-6 leaflets', 'pinnate, 6-8 leaflets', 'No ifnromation in the text']\",\n",
       " \"The plant property Leaf shape, with possible values: ['elliptic', 'elliptic, elongate', 'elliptic, lanceolate', 'elliptic, obovate', 'elliptic, ovate', 'elliptic, ovate, round', 'elongate', 'elongate, elliptic, obovate', 'elongate, obovate', 'kidney-shaped, circular', 'lanceolate, elliptic', 'linear', 'linear, obovate', 'obovate', 'obovate, elliptic', 'obovate, spathulate', 'ovate', 'ovate, circular', 'ovate, elliptic', 'ovate, elliptic, elongate', 'ovate, heart-shaped', 'spathulate, obovate', 'No ifnromation in the text']\",\n",
       " \"The plant property Leaf margin, with possible values: ['crenate', 'entire', 'entire, crenate', 'entire, serrate', 'serrate', 'No ifnromation in the text']\",\n",
       " \"The plant property Leaf upper side, with possible values: ['glabrous', 'glabrous, pubescent', 'pubescent', 'pubescent, glabrous', 'salt crystals', 'scales, glabrous', 'shiny, glabrous', 'woolly, later glabrous', 'No ifnromation in the text']\",\n",
       " \"The plant property Leaf lower side, with possible values: ['glabrous', 'glabrous, pubescent', 'powdery', 'pubescent', 'scales', 'woolly, later glabrous', 'No ifnromation in the text']\",\n",
       " \"The plant property Leaf glands, with possible values: ['absent', 'gland on the end of petiole', 'glands near basis and central vein', 'glands near basis and leaf margin', 'translucent oil cells', 'translucent points and lines', 'No ifnromation in the text']\",\n",
       " \"The plant property Leaf rachis, with possible values: ['not winged', 'winged', 'No ifnromation in the text']\",\n",
       " \"The plant property Thorns/spines, with possible values: ['1-2 per leaf axil', '2 per leaf axil', 'absent', 'branch thorns', 'thorns on stem', 'No ifnromation in the text']\",\n",
       " \"The plant property Stipules, with possible values: ['absent', 'connected', 'present', 'No ifnromation in the text']\",\n",
       " \"The plant property Inflorescence type, with possible values: ['1-3 sessile', '1-5 sessile', 'dichasium', 'fascicle', 'globose', 'globose in panicle', 'panicle', 'raceme', 'solitary, fascicle', 'spike', 'umbel', 'No ifnromation in the text']\",\n",
       " \"The plant property Sepals / calyx shape, with possible values: ['connate', 'free', 'No ifnromation in the text']\",\n",
       " \"The plant property Sepals / calyx numer, with possible values: ['2-3', '3-5', '4', '4-5', '4-6', '5', '5-6', '6-8', '6-9', 'No ifnromation in the text']\",\n",
       " \"The plant property Petals / corolla shape, with possible values: ['absent', 'free', 'tepals', 'tubular', 'No ifnromation in the text']\",\n",
       " \"The plant property Petals / corolla number, with possible values: ['0', '3-5', '4', '4-5', '4-6', '5', '5, 0', '5-6', '6-8', 'No ifnromation in the text']\",\n",
       " \"The plant property Petals / corolla colour, with possible values: ['blue', 'green', 'green, red', 'green-white, yellow-white', 'greenish white', 'red', 'white', 'white, pink', 'white, pink, purple', 'white, whitish', 'white, yellow-white', 'whitish', 'yellow', 'yellow, orange', 'yellow, yellow-green', 'yellow-green', 'yellow-green, green', 'No ifnromation in the text']\",\n",
       " \"The plant property Stamen shape, with possible values: ['longer than corolla', 'much longer than corolla', 'multiple rows', 'short', 'shorter than corolla', 'shorter than corolla, connected', 'No ifnromation in the text']\",\n",
       " \"The plant property Stamen number, with possible values: ['10', '15-25', '16', '2', '20', '20-28', '4', '5', '5-6', '6-10', '6-9', '8', 'many', 'No ifnromation in the text']\",\n",
       " \"The plant property Fruit type, with possible values: ['berry', 'capsule', 'drupe', 'fleshy drupe', 'follicle', 'nutlet', 'pod', 'No ifnromation in the text']\",\n",
       " \"The plant property Fruit shape, with possible values: ['2-locular, flattened, globose', '3-5-locular, globose', 'elongate', 'elongate, constricted between seeds', 'elongate, slightly constricted between seeds', 'elongate, strongly constricted between seeds', 'flattened obovoid', 'flattened ovate', 'flattened, elongate, twisted', 'flattened, thick, elongate, strongly curved', 'globose', 'globose, 3-angulated', 'linear', 'not flattened, elongate, slightly curved', 'ovoid', 'pyriform, ovoid', 'slightly flattened, elongate, curved', 'No ifnromation in the text']\",\n",
       " \"The plant property Fruit colour, with possible values: ['black', 'brown', 'brown-black', 'green', 'green, black, whitish', 'green, orange', 'green, orange, red', 'green, red', 'green, yellow', 'greyish', 'orange', 'orange, yellow, red', 'purple, black', 'red', 'red, black', 'red, purple-brown', 'reddish purple', 'whitish green', 'yellow, orange', 'yellowish', 'No ifnromation in the text']\",\n",
       " \"The plant property Aril colour, with possible values: ['NA?', 'orange', 'red', 'white', 'yellow-geen', 'No ifnromation in the text']\",\n",
       " \"The plant property Seed colour, with possible values: ['black', 'brown', 'green', 'grey', 'white', 'whitish', 'No ifnromation in the text']\"]"
      ]
     },
     "execution_count": 37,
     "metadata": {},
     "output_type": "execute_result"
    }
   ],
   "source": [
    "prompt_list"
   ]
  }
 ],
 "metadata": {
  "kernelspec": {
   "display_name": "deeplearning",
   "language": "python",
   "name": "deeplearning"
  },
  "language_info": {
   "codemirror_mode": {
    "name": "ipython",
    "version": 3
   },
   "file_extension": ".py",
   "mimetype": "text/x-python",
   "name": "python",
   "nbconvert_exporter": "python",
   "pygments_lexer": "ipython3",
   "version": "3.10.4"
  },
  "orig_nbformat": 4,
  "vscode": {
   "interpreter": {
    "hash": "51432b8e5767c06330d9b51dfad63f9db0ea39868e37d921b9c2e277373f8d11"
   }
  }
 },
 "nbformat": 4,
 "nbformat_minor": 2
}
