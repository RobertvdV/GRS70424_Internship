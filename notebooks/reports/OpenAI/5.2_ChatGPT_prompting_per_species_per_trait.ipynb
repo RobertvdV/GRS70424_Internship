{
 "cells": [
  {
   "cell_type": "code",
   "execution_count": 1,
   "metadata": {},
   "outputs": [],
   "source": [
    "import torch\n",
    "import re\n",
    "import os\n",
    "import json\n",
    "import pickle\n",
    "import openai\n",
    "import pandas as pd\n",
    "import numpy as np\n",
    "import glob\n",
    "from tqdm import tqdm\n",
    "from dotenv import load_dotenv"
   ]
  },
  {
   "attachments": {},
   "cell_type": "markdown",
   "metadata": {},
   "source": [
    "### Dotenv"
   ]
  },
  {
   "cell_type": "code",
   "execution_count": 2,
   "metadata": {},
   "outputs": [],
   "source": [
    "load_dotenv()\n",
    "openai.api_key = os.environ['OPENAI_API']"
   ]
  },
  {
   "attachments": {},
   "cell_type": "markdown",
   "metadata": {},
   "source": [
    "### DataFrames"
   ]
  },
  {
   "cell_type": "code",
   "execution_count": 3,
   "metadata": {},
   "outputs": [],
   "source": [
    "root = \"../../../data/OpenAI/DataFrames/\"\n",
    "\n",
    "file = \"DF_Andrei.csv\"\n",
    "df_Andrei = pd.read_csv(F\"{root}{file}\", header=[0, 1], index_col=0)\\\n",
    "    .rename_axis('Species', axis='index')\n",
    "df_Andrei_species = list(df_Andrei.index)\n",
    "\n",
    "\n",
    "file = \"DF_Daniel.csv\"\n",
    "df_Daniel = pd.read_csv(F\"{root}{file}\", header=[0, 1], index_col=0)\\\n",
    "    .rename_axis('Species', axis='index')\\\n",
    "    .dropna()\n",
    "df_Daniel_species = list(df_Daniel.index)\n",
    "\n",
    "file = \"DF_Pierre.csv\"\n",
    "df_Pierre = pd.read_csv(F\"{root}{file}\", header=[0, 1], index_col=0)\\\n",
    "    .rename_axis('Species', axis='index')\n",
    "df_Pierre_species = list(df_Pierre.index)"
   ]
  },
  {
   "attachments": {},
   "cell_type": "markdown",
   "metadata": {},
   "source": [
    "### Trait Dicts"
   ]
  },
  {
   "cell_type": "code",
   "execution_count": 4,
   "metadata": {},
   "outputs": [],
   "source": [
    "folder_traits = \"../../../data/OpenAI/Traits/\"\n",
    "\n",
    "with open(F\"{folder_traits}Andrei.json\", 'r') as f:\n",
    "  caribbean_traits_dict = json.load(f)"
   ]
  },
  {
   "attachments": {},
   "cell_type": "markdown",
   "metadata": {},
   "source": [
    "### Text Data"
   ]
  },
  {
   "cell_type": "code",
   "execution_count": 6,
   "metadata": {},
   "outputs": [],
   "source": [
    "paragraph_folder = \"../../../data/OpenAI/DescriptionSnippets/Paragraphs/\"\n",
    "sentence_folder = \"../../../data/OpenAI/DescriptionSnippets/Sentences/\"\n",
    "\n",
    "caribbean_jsons_paras = glob.glob(F\"{paragraph_folder}c*\")\n",
    "caribbean_jsons_sents = glob.glob(F\"{sentence_folder}c*\")\n",
    "\n",
    "caribbean_jsons_paras.sort()\n",
    "caribbean_jsons_sents.sort()"
   ]
  },
  {
   "attachments": {},
   "cell_type": "markdown",
   "metadata": {},
   "source": [
    "### Single Species Testing"
   ]
  },
  {
   "cell_type": "code",
   "execution_count": 7,
   "metadata": {},
   "outputs": [],
   "source": [
    "with open(caribbean_jsons_paras[22], 'r') as f:\n",
    "  caribbean_species_para_test = json.load(f)\n",
    "\n",
    "with open(caribbean_jsons_sents[22], 'r') as f:\n",
    "  caribbean_species_sent_test = json.load(f)"
   ]
  },
  {
   "cell_type": "code",
   "execution_count": 10,
   "metadata": {},
   "outputs": [
    {
     "name": "stdout",
     "output_type": "stream",
     "text": [
      "Hippomane mancinella\n"
     ]
    }
   ],
   "source": [
    "species = list(caribbean_species_sent_test.keys())[0]\n",
    "print(species)"
   ]
  },
  {
   "cell_type": "code",
   "execution_count": 18,
   "metadata": {},
   "outputs": [
    {
     "data": {
      "text/plain": [
       "True"
      ]
     },
     "execution_count": 18,
     "metadata": {},
     "output_type": "execute_result"
    }
   ],
   "source": [
    "text_sent = ' '.join(caribbean_species_sent_test[species])\n",
    "text_paras = ' '.join(caribbean_species_para_test[species])\n",
    "\n",
    "text_paras == text_sent"
   ]
  },
  {
   "attachments": {},
   "cell_type": "markdown",
   "metadata": {},
   "source": [
    "### Prompting per Trait"
   ]
  },
  {
   "cell_type": "code",
   "execution_count": 39,
   "metadata": {},
   "outputs": [],
   "source": [
    "def create_prompt(paragraph, traits, question):\n",
    "\n",
    "    prompt = F\"\"\"\n",
    "    Text:\n",
    "    {paragraph}\n",
    "\n",
    "    Traits with possible options:\n",
    "    {traits}\n",
    "\n",
    "    {question}\n",
    "    \"\"\"\n",
    "\n",
    "    return prompt\n",
    "\n",
    "def combine_words_with_capital(string):\n",
    "    # remove non-alphanumeric characters\n",
    "    string = re.sub(r'[^\\w\\s]', '', string)  \n",
    "    # combine words with capitalization\n",
    "    string = ''.join(word.capitalize() for word in string.split())  \n",
    "    return string\n",
    "\n",
    "\n",
    "def query_ChatGPT(prompt):\n",
    "    messages = [\n",
    "    {\"role\": \"user\", \"content\": prompt}\n",
    "    ]\n",
    "\n",
    "    # Generate a response\n",
    "    completion = openai.ChatCompletion.create(\n",
    "        model=\"gpt-3.5-turbo\",\n",
    "        messages=messages,\n",
    "    )\n",
    "\n",
    "    return completion"
   ]
  },
  {
   "cell_type": "code",
   "execution_count": 40,
   "metadata": {},
   "outputs": [],
   "source": [
    "folder_prompts = \"../../../data/OpenAI/PromptsResults/\"\n",
    "folder_species = species.replace(' ', '_')\n",
    "\n",
    "\n",
    "# For spss in species:\n",
    "\n",
    "try:\n",
    "    os.makedirs(F\"{folder_prompts}{folder_species}\")\n",
    "except FileExistsError:\n",
    "    # directory already exists\n",
    "    pass\n",
    "\n",
    "question = \"Fill in the trait list, fill in 'NOT SPECIFIED' if you cannot find anything.\"\n",
    "\n",
    "for trait, trait_options in caribbean_traits_dict.items():\n",
    "\n",
    "    # Prompt\n",
    "    trait_with_options = F\"- {trait}: {trait_options}\"\n",
    "    prompt = create_prompt(text_paras, trait_with_options, question)\n",
    "\n",
    "    # # Folder Storage\n",
    "    # folder_trait = combine_words_with_capital(trait)\n",
    "    # folder_prompt_trait = F\"{folder_prompts}{folder_species}/{folder_trait}\"\n",
    "    # try:\n",
    "    #     os.makedirs(folder_prompt_trait)\n",
    "    # except FileExistsError:\n",
    "    #     # directory already exists\n",
    "    #     pass\n",
    "\n",
    "    # result = query_ChatGPT(prompt)\n",
    "    result = {'Test':\n",
    "              [\n",
    "                \"String1\", \n",
    "                \"String2\",\n",
    "              ]}\n",
    "\n",
    "    file_name = combine_words_with_capital(trait)\n",
    "    with open(F\"{folder_prompts}{folder_species}/{file_name}.json\", 'w') as fp:\n",
    "        json.dump(result, fp)"
   ]
  },
  {
   "cell_type": "code",
   "execution_count": 23,
   "metadata": {},
   "outputs": [
    {
     "name": "stdout",
     "output_type": "stream",
     "text": [
      "\n",
      "    Text:\n",
      "    Spikes of small greenish flowers are followed by fruits, which are similar in appearance to an apple, are green or greenish-yellow when ripe. The manchineel is a handsome round-crowned tree that grows up to 12 metres (40 feet) in height with a 60-cm- (2-foot-) thick trunk. It has long-stalked, lustrous, leathery, elliptic yellow-green leaves. The sweet-scented fruits are borne singly or in pairs and range in colour from yellow to reddish. The fruit contains a hard stone that encloses six to nine seeds. A flowering, evergreen, and a round-crowned tree that can reach up to 50 feet in height , the Manchineel has a reddish-grey bark and a trunk that can be around two feet in diameter. It has long-stalked, shiny, and elliptical leaves that are yellow-green in colour and about 10 centimetres in length. The leaves are simple, alternately arranged, and have serrated edges. The fruit of the Manchineel resemble apples and are green or greenish-yellow when ripe. The hard stone inside the fruit contains six to nine seeds. Hippomane mancinella grows up to 15 metres (49 feet) tall. It has reddish-grayish bark, small greenish-yellow flowers, and shiny green leaves. The leaves are simple, alternate, very finely serrated or toothed, and 5–10 centimetres (2–4 inches) long.[7] The tree is up to 15m (50 feet) tall, with lush leaves. ”1 Manchineel is usually a tall shrub, but it can reach heights of up to 50 feet. The leaves are simple, alternate, very finely serrated or toothed, and 2–4 inches long. Each leaf has a small gland where the leaf joins the stem. The bark is reddish-to-grayish brown and deeply furrowed or cracked looking. Flowers are yellow green and inconspicuous, but the spikes or leafless stems that the flowers emerge from are visible. The fruit is a bright-green pome that looks distinctly like an apple; however, it is only 1–2 inches in diameter and turns greenish yellow when ripe. General InformationMancenillier is a glabrous, deciduous or evergreen tree with spreading branches and a rounded crown[331TitleFlora of Guatemala Publication AuthorStandley P.C. & J. A. Steyermark Websitehttp://www.archive.org/ Properties Medicinal Rating Other Uses Rating HabitSemi-deciduous Tree Height12.00 m PollinatorsBees Cultivation StatusWild Cultivation DetailsA tree of lowland tropical areas. The leaves of the manicheel are small, round and green but bisected by a yellow vein. Taxonomy and Nomenclature Kingdom: Plantae Taxonomic Rank: Species Synonym(s): Common Name(s): manchineel [English] Taxonomic Status: Current Standing: accepted Data Quality Indicators: Record Credibility Rating: verified - standards met Taxonomic Hierarchy KingdomPlantae – plantes, Planta, Vegetal, plants SubkingdomViridiplantae – green plants InfrakingdomStreptophyta – land plants SuperdivisionEmbryophyta DivisionTracheophyta – vascular plants, tracheophytes SubdivisionSpermatophytina – spermatophytes, seed plants, phanérogames ClassMagnoliopsida SuperorderRosanae OrderMalpighiales FamilyEuphorbiaceae – spurge, euphorbes GenusHippomane L. SpeciesHippomane mancinella L. – manchineel The leaves of the manicheel are small, round and green but bisected by a yellow vein.\n",
      "\n",
      "    Traits with possible options:\n",
      "    - Seed colour: ['black', 'brown', 'green', 'grey', 'white', 'whitish']\n",
      "\n",
      "    Fill in the trait list, fill in 'NOT SPECIFIED' if you cannot find anything.\n",
      "    \n"
     ]
    }
   ],
   "source": [
    "print(prompt)"
   ]
  },
  {
   "cell_type": "code",
   "execution_count": null,
   "metadata": {},
   "outputs": [],
   "source": []
  },
  {
   "cell_type": "code",
   "execution_count": null,
   "metadata": {},
   "outputs": [],
   "source": []
  },
  {
   "cell_type": "code",
   "execution_count": 32,
   "metadata": {},
   "outputs": [
    {
     "data": {
      "text/plain": [
       "dict_keys(['Life form', 'Leaf position', 'Leaf composition', 'Leaf shape', 'Leaf margin', 'Leaf upper side', 'Leaf lower side', 'Leaf glands', 'Leaf rachis', 'Thorns/spines', 'Stipules', 'Inflorescence type', 'Sepals / calyx shape', 'Sepals / calyx numer', 'Petals / corolla shape', 'Petals / corolla number', 'Petals / corolla colour', 'Stamen shape', 'Stamen number', 'Fruit type', 'Fruit shape', 'Fruit colour', 'Aril colour', 'Seed colour'])"
      ]
     },
     "execution_count": 32,
     "metadata": {},
     "output_type": "execute_result"
    }
   ],
   "source": [
    "caribbean_traits_dict.keys()"
   ]
  },
  {
   "cell_type": "code",
   "execution_count": 9,
   "metadata": {},
   "outputs": [],
   "source": [
    "def extract_present_traits(species, df):\n",
    "\n",
    "    s = df.loc[species]\n",
    "    GT_traits = list(s.where(s == 1).dropna().index)\n",
    "    empty_traits = [F\"{Entity}:\" for (Entity, Value) in GT_traits]\n",
    "\n",
    "    return GT_traits, empty_traits\n",
    "\n",
    "\n",
    "\n",
    "\n",
    "def create_prompt(paragraph, trait_dict, present_traits, question):\n",
    "\n",
    "    prompt = F\"\"\"\n",
    "    Text:\n",
    "    {paragraph}\n",
    "\n",
    "    Python dictionary of plant traits with possible options:\n",
    "    {trait_dict}\n",
    "\n",
    "    Python trait list:\n",
    "    {present_traits}\n",
    "\n",
    "    {question}\n",
    "    \"\"\"\n",
    "\n",
    "    return prompt"
   ]
  },
  {
   "cell_type": "code",
   "execution_count": 15,
   "metadata": {},
   "outputs": [],
   "source": [
    "GT_traits, present_traits = extract_present_traits(species, df_Andrei)\n",
    "\n",
    "question = \"Given this Python dictionary of plant traits with possible options, can you fill in the Python trait list I provided? In case you cannot find the trait fill in 'BLANK'.\""
   ]
  },
  {
   "cell_type": "code",
   "execution_count": 23,
   "metadata": {},
   "outputs": [
    {
     "data": {
      "text/plain": [
       "'Spikes of small greenish flowers are followed by fruits, which are similar in appearance to an apple, are green or greenish-yellow when ripe.. The manchineel is a handsome round-crowned tree that grows up to 12 metres (40 feet) in height with a 60-cm- (2-foot-) thick trunk. It has long-stalked, lustrous, leathery, elliptic yellow-green leaves. The sweet-scented fruits are borne singly or in pairs and range in colour from yellow to reddish. The fruit contains a hard stone that encloses six to nine seeds.. A flowering, evergreen, and a round-crowned tree that can reach up to 50 feet in height , the Manchineel has a reddish-grey bark and a trunk that can be around two feet in diameter. It has long-stalked, shiny, and elliptical leaves that are yellow-green in colour and about 10 centimetres in length. The leaves are simple, alternately arranged, and have serrated edges. The fruit of the Manchineel resemble apples and are green or greenish-yellow when ripe. The hard stone inside the fruit contains six to nine seeds.. Hippomane mancinella grows up to 15 metres (49 feet) tall. It has reddish-grayish bark, small greenish-yellow flowers, and shiny green leaves. The leaves are simple, alternate, very finely serrated or toothed, and 5–10 centimetres (2–4 inches) long.[7]. The tree is up to 15m (50 feet) tall, with lush leaves. ”1. Manchineel is usually a tall shrub, but it can reach heights of up to 50 feet. The leaves are simple, alternate, very finely serrated or toothed, and 2–4 inches long. Each leaf has a small gland where the leaf joins the stem. The bark is reddish-to-grayish brown and deeply furrowed or cracked looking. Flowers are yellow green and inconspicuous, but the spikes or leafless stems that the flowers emerge from are visible. The fruit is a bright-green pome that looks distinctly like an apple; however, it is only 1–2 inches in diameter and turns greenish yellow when ripe.. General InformationMancenillier is a glabrous, deciduous or evergreen tree with spreading branches and a rounded crown[331TitleFlora of Guatemala Publication AuthorStandley P.C. & J. A. Steyermark Websitehttp://www.archive.org/ Properties Medicinal Rating Other Uses Rating HabitSemi-deciduous Tree Height12.00 m PollinatorsBees Cultivation StatusWild Cultivation DetailsA tree of lowland tropical areas.. The leaves of the manicheel are small, round and green but bisected by a yellow vein.. Taxonomy and Nomenclature Kingdom: Plantae Taxonomic Rank: Species Synonym(s): Common Name(s): manchineel [English] Taxonomic Status: Current Standing: accepted Data Quality Indicators: Record Credibility Rating: verified - standards met Taxonomic Hierarchy KingdomPlantae – plantes, Planta, Vegetal, plants SubkingdomViridiplantae – green plants InfrakingdomStreptophyta – land plants SuperdivisionEmbryophyta DivisionTracheophyta – vascular plants, tracheophytes SubdivisionSpermatophytina – spermatophytes, seed plants, phanérogames ClassMagnoliopsida SuperorderRosanae OrderMalpighiales FamilyEuphorbiaceae – spurge, euphorbes GenusHippomane L. SpeciesHippomane mancinella L. – manchineel. The leaves of the manicheel are small, round and green but bisected by a yellow vein.'"
      ]
     },
     "execution_count": 23,
     "metadata": {},
     "output_type": "execute_result"
    }
   ],
   "source": [
    "# paragraph = caribbean_species_test['Avicennia germinans'][0]\n",
    "# print(paragraph)\n",
    "\n",
    "# for p in caribbean_species_test['Avicennia germinans']:\n",
    "#     print(p)\n",
    "\n",
    "all_text = '. '.join(caribbean_species_test[species])\n",
    "all_text"
   ]
  },
  {
   "cell_type": "code",
   "execution_count": 15,
   "metadata": {},
   "outputs": [
    {
     "data": {
      "text/plain": [
       "643"
      ]
     },
     "execution_count": 15,
     "metadata": {},
     "output_type": "execute_result"
    }
   ],
   "source": [
    "len(all_text.split(' '))"
   ]
  },
  {
   "cell_type": "code",
   "execution_count": 33,
   "metadata": {},
   "outputs": [
    {
     "data": {
      "text/plain": [
       "{'Life form': ['liana', 'tree'],\n",
       " 'Leaf position': ['alternate',\n",
       "  'alternate, opposite',\n",
       "  'opposite',\n",
       "  'opposite, whorls of 3',\n",
       "  'opposite, whorls of 3, alternate'],\n",
       " 'Leaf composition': ['3 palmate',\n",
       "  '3-5 palmate',\n",
       "  '3-5 pinnate',\n",
       "  '3-5 pinnate, entire',\n",
       "  '5-11 pinnate',\n",
       "  '5-9 pinnate',\n",
       "  'bi-pinnate, 2 leaflets per jug',\n",
       "  'bi-pinnate, 20-40 leaflets per jug',\n",
       "  'bi-pinnate, 30-32 leaflets per jug',\n",
       "  'entire',\n",
       "  'pinnate, 4-6 leaflets',\n",
       "  'pinnate, 6-8 leaflets']}"
      ]
     },
     "execution_count": 33,
     "metadata": {},
     "output_type": "execute_result"
    }
   ],
   "source": [
    "test_dict = {\n",
    "    'Life form': \n",
    "        ['liana', 'tree'], \n",
    "    'Leaf position': \n",
    "        ['alternate', 'alternate, opposite', 'opposite', 'opposite, whorls of 3', 'opposite, whorls of 3, alternate'], \n",
    "    'Leaf composition': \n",
    "        ['3 palmate', '3-5 palmate', '3-5 pinnate', '3-5 pinnate, entire', '5-11 pinnate', '5-9 pinnate', 'bi-pinnate, 2 leaflets per jug', 'bi-pinnate, 20-40 leaflets per jug', 'bi-pinnate, 30-32 leaflets per jug', 'entire', 'pinnate, 4-6 leaflets', 'pinnate, 6-8 leaflets'], \n",
    "    # 'Leaf shape': \n",
    "    # ['elliptic', 'elliptic, elongate', 'elliptic, lanceolate', 'elliptic, obovate', 'elliptic, ovate', 'elliptic, ovate, round', 'elongate', 'elongate, elliptic, obovate', 'elongate, obovate', 'kidney-shaped, circular', 'lanceolate, elliptic', 'linear', 'linear, obovate', 'obovate', 'obovate, elliptic', 'obovate, spathulate', 'ovate', 'ovate, circular', 'ovate, elliptic', 'ovate, elliptic, elongate', 'ovate, heart-shaped', 'spathulate, obovate']\n",
    "    }\n",
    "test_dict"
   ]
  },
  {
   "cell_type": "code",
   "execution_count": 36,
   "metadata": {},
   "outputs": [
    {
     "data": {
      "text/plain": [
       "['Life form:',\n",
       " 'Leaf position:',\n",
       " 'Leaf composition:',\n",
       " 'Leaf shape:',\n",
       " 'Leaf margin:',\n",
       " 'Leaf upper side:',\n",
       " 'Leaf lower side:',\n",
       " 'Leaf glands:',\n",
       " 'Thorns/spines:',\n",
       " 'Stipules:',\n",
       " 'Inflorescence type:',\n",
       " 'Sepals / calyx shape:',\n",
       " 'Sepals / calyx numer:',\n",
       " 'Petals / corolla shape:',\n",
       " 'Petals / corolla number:',\n",
       " 'Petals / corolla colour:',\n",
       " 'Stamen shape:',\n",
       " 'Stamen number:',\n",
       " 'Fruit type:',\n",
       " 'Fruit shape:',\n",
       " 'Fruit colour:',\n",
       " 'Seed colour:']"
      ]
     },
     "execution_count": 36,
     "metadata": {},
     "output_type": "execute_result"
    }
   ],
   "source": [
    "present_traits"
   ]
  },
  {
   "cell_type": "code",
   "execution_count": 34,
   "metadata": {},
   "outputs": [],
   "source": [
    "# prompt = create_prompt(paragraph=paragraph, \n",
    "#                         trait_dict=caribbean_traits_dict, \n",
    "#                         present_traits=present_traits,\n",
    "#                         question=question)\n",
    "\n",
    "# print(prompt)"
   ]
  },
  {
   "cell_type": "code",
   "execution_count": 62,
   "metadata": {},
   "outputs": [
    {
     "name": "stderr",
     "output_type": "stream",
     "text": [
      "                                            "
     ]
    },
    {
     "name": "stdout",
     "output_type": "stream",
     "text": [
      "4\n",
      "\n",
      "    Text:\n",
      "     Pneumatophores often rise 5–10 cm from the long horizontal roots.\n",
      "Bark dark gray or brown and smooth on small trunks, becoming dark brown,\n",
      "fissured, scaly, and thick.  Leaves opposite, lanceolate or narrowly\n",
      "elliptical, 5–11 cm long, 2–4 cm wide, acute or blunt at tip, entire, thick,\n",
      "leathery.  Fine hairs giving a grayish hue to foliage; both surfaces often with\n",
      "scattered salt crystals and salty taste.  Petiole 3–15 mm long.  Spikes or\n",
      "panicles headlike, upright at and near ends of twigs.  Flowers several,\n",
      "crowded, sessile, 6 mm long, 10 mm across.  Calyx cup-shaped, deeply 5-lobed;\n",
      "corolla tubular, hairy, white but yellowish at base, with 4 slightly unequal\n",
      "spreading, rounded, or notched lobes, stamens 4, 5 mm long in notches of\n",
      "corolla tube near base; pistil with imperfectly 4-celled ovary, slender style,\n",
      "and 2-forked stigma. Capsule elliptical, flattened, 2.5–3 cm long, often\n",
      "splitting into 2 parts. Publ\n",
      "\n",
      "    Python dictionary of plant traits with possible options:\n",
      "    {'Life form': ['liana', 'tree'], 'Leaf position': ['alternate', 'alternate, opposite', 'opposite', 'opposite, whorls of 3', 'opposite, whorls of 3, alternate'], 'Leaf composition': ['3 palmate', '3-5 palmate', '3-5 pinnate', '3-5 pinnate, entire', '5-11 pinnate', '5-9 pinnate', 'bi-pinnate, 2 leaflets per jug', 'bi-pinnate, 20-40 leaflets per jug', 'bi-pinnate, 30-32 leaflets per jug', 'entire', 'pinnate, 4-6 leaflets', 'pinnate, 6-8 leaflets'], 'Leaf shape': ['elliptic', 'elliptic, elongate', 'elliptic, lanceolate', 'elliptic, obovate', 'elliptic, ovate', 'elliptic, ovate, round', 'elongate', 'elongate, elliptic, obovate', 'elongate, obovate', 'kidney-shaped, circular', 'lanceolate, elliptic', 'linear', 'linear, obovate', 'obovate', 'obovate, elliptic', 'obovate, spathulate', 'ovate', 'ovate, circular', 'ovate, elliptic', 'ovate, elliptic, elongate', 'ovate, heart-shaped', 'spathulate, obovate'], 'Leaf margin': ['crenate', 'entire', 'entire, crenate', 'entire, serrate', 'serrate'], 'Leaf upper side': ['glabrous', 'glabrous, pubescent', 'pubescent', 'pubescent, glabrous', 'salt crystals', 'scales, glabrous', 'shiny, glabrous', 'woolly, later glabrous'], 'Leaf lower side': ['glabrous', 'glabrous, pubescent', 'powdery', 'pubescent', 'scales', 'woolly, later glabrous'], 'Leaf glands': ['absent', 'gland on the end of petiole', 'glands near basis and central vein', 'glands near basis and leaf margin', 'translucent oil cells', 'translucent points and lines'], 'Leaf rachis': ['not winged', 'winged'], 'Thorns/spines': ['1-2 per leaf axil', '2 per leaf axil', 'absent', 'branch thorns', 'thorns on stem'], 'Stipules': ['absent', 'connected', 'present'], 'Inflorescence type': ['1-3 sessile', '1-5 sessile', 'dichasium', 'fascicle', 'globose', 'globose in panicle', 'panicle', 'raceme', 'solitary, fascicle', 'spike', 'umbel'], 'Sepals / calyx shape': ['connate', 'free'], 'Sepals / calyx numer': ['2-3', '3-5', '4', '4-5', '4-6', '5', '5-6', '6-8', '6-9'], 'Petals / corolla shape': ['absent', 'free', 'tepals', 'tubular'], 'Petals / corolla number': ['0', '3-5', '4', '4-5', '4-6', '5', '5, 0', '5-6', '6-8'], 'Petals / corolla colour': ['blue', 'green', 'green, red', 'green-white, yellow-white', 'greenish white', 'red', 'white', 'white, pink', 'white, pink, purple', 'white, whitish', 'white, yellow-white', 'whitish', 'yellow', 'yellow, orange', 'yellow, yellow-green', 'yellow-green', 'yellow-green, green'], 'Stamen shape': ['longer than corolla', 'much longer than corolla', 'multiple rows', 'short', 'shorter than corolla', 'shorter than corolla, connected'], 'Stamen number': ['10', '15-25', '16', '2', '20', '20-28', '4', '5', '5-6', '6-10', '6-9', '8', 'many'], 'Fruit type': ['berry', 'capsule', 'drupe', 'fleshy drupe', 'follicle', 'nutlet', 'pod'], 'Fruit shape': ['2-locular, flattened, globose', '3-5-locular, globose', 'elongate', 'elongate, constricted between seeds', 'elongate, slightly constricted between seeds', 'elongate, strongly constricted between seeds', 'flattened obovoid', 'flattened ovate', 'flattened, elongate, twisted', 'flattened, thick, elongate, strongly curved', 'globose', 'globose, 3-angulated', 'linear', 'not flattened, elongate, slightly curved', 'ovoid', 'pyriform, ovoid', 'slightly flattened, elongate, curved'], 'Fruit colour': ['black', 'brown', 'brown-black', 'green', 'green, black, whitish', 'green, orange', 'green, orange, red', 'green, red', 'green, yellow', 'greyish', 'orange', 'orange, yellow, red', 'purple, black', 'red', 'red, black', 'red, purple-brown', 'reddish purple', 'whitish green', 'yellow, orange', 'yellowish'], 'Aril colour': ['NA?', 'orange', 'red', 'white', 'yellow-geen'], 'Seed colour': ['black', 'brown', 'green', 'grey', 'white', 'whitish']}\n",
      "\n",
      "    Python trait list:\n",
      "    ['Life form:', 'Leaf position:', 'Leaf composition:', 'Leaf shape:', 'Leaf margin:', 'Leaf upper side:', 'Leaf lower side:', 'Leaf glands:', 'Thorns/spines:', 'Stipules:', 'Inflorescence type:', 'Sepals / calyx shape:', 'Sepals / calyx numer:', 'Petals / corolla shape:', 'Petals / corolla number:', 'Petals / corolla colour:', 'Stamen shape:', 'Stamen number:', 'Fruit type:', 'Fruit shape:', 'Fruit colour:', 'Seed colour:']\n",
      "\n",
      "    Given this Python dictionary of plant traits with possible options, can you fill in the Python trait list I provided? In case you cannot find the trait fill in 'BLANK'.\n",
      "    \n",
      "13\n",
      "\n",
      "    Text:\n",
      "     Pneumatophores often rise 5–10 cm from the long horizontal roots.\n",
      "Bark dark gray or brown and smooth on small trunks, becoming dark brown,\n",
      "fissured, scaly, and thick.  Leaves opposite, lanceolate or narrowly\n",
      "elliptical, 5–11 cm long, 2–4 cm wide, acute or blunt at tip, entire, thick,\n",
      "leathery.  Fine hairs giving a grayish hue to foliage; both surfaces often with\n",
      "scattered salt crystals and salty taste.  Petiole 3–15 mm long.  Spikes or\n",
      "panicles headlike, upright at and near ends of twigs.  Flowers several,\n",
      "crowded, sessile, 6 mm long, 10 mm across.  Calyx cup-shaped, deeply 5-lobed;\n",
      "corolla tubular, hairy, white but yellowish at base, with 4 slightly unequal\n",
      "spreading, rounded, or notched lobes, stamens 4, 5 mm long in notches of\n",
      "corolla tube near base; pistil with imperfectly 4-celled ovary, slender style,\n",
      "and 2-forked stigma. Capsule elliptical, flattened, 2.5–3 cm long, often\n",
      "splitting into 2 parts. Publ\n",
      "\n",
      "    Python dictionary of plant traits with possible options:\n",
      "    {'Life form': ['liana', 'tree'], 'Leaf position': ['alternate', 'alternate, opposite', 'opposite', 'opposite, whorls of 3', 'opposite, whorls of 3, alternate'], 'Leaf composition': ['3 palmate', '3-5 palmate', '3-5 pinnate', '3-5 pinnate, entire', '5-11 pinnate', '5-9 pinnate', 'bi-pinnate, 2 leaflets per jug', 'bi-pinnate, 20-40 leaflets per jug', 'bi-pinnate, 30-32 leaflets per jug', 'entire', 'pinnate, 4-6 leaflets', 'pinnate, 6-8 leaflets'], 'Leaf shape': ['elliptic', 'elliptic, elongate', 'elliptic, lanceolate', 'elliptic, obovate', 'elliptic, ovate', 'elliptic, ovate, round', 'elongate', 'elongate, elliptic, obovate', 'elongate, obovate', 'kidney-shaped, circular', 'lanceolate, elliptic', 'linear', 'linear, obovate', 'obovate', 'obovate, elliptic', 'obovate, spathulate', 'ovate', 'ovate, circular', 'ovate, elliptic', 'ovate, elliptic, elongate', 'ovate, heart-shaped', 'spathulate, obovate'], 'Leaf margin': ['crenate', 'entire', 'entire, crenate', 'entire, serrate', 'serrate'], 'Leaf upper side': ['glabrous', 'glabrous, pubescent', 'pubescent', 'pubescent, glabrous', 'salt crystals', 'scales, glabrous', 'shiny, glabrous', 'woolly, later glabrous'], 'Leaf lower side': ['glabrous', 'glabrous, pubescent', 'powdery', 'pubescent', 'scales', 'woolly, later glabrous'], 'Leaf glands': ['absent', 'gland on the end of petiole', 'glands near basis and central vein', 'glands near basis and leaf margin', 'translucent oil cells', 'translucent points and lines'], 'Leaf rachis': ['not winged', 'winged'], 'Thorns/spines': ['1-2 per leaf axil', '2 per leaf axil', 'absent', 'branch thorns', 'thorns on stem'], 'Stipules': ['absent', 'connected', 'present'], 'Inflorescence type': ['1-3 sessile', '1-5 sessile', 'dichasium', 'fascicle', 'globose', 'globose in panicle', 'panicle', 'raceme', 'solitary, fascicle', 'spike', 'umbel'], 'Sepals / calyx shape': ['connate', 'free'], 'Sepals / calyx numer': ['2-3', '3-5', '4', '4-5', '4-6', '5', '5-6', '6-8', '6-9'], 'Petals / corolla shape': ['absent', 'free', 'tepals', 'tubular'], 'Petals / corolla number': ['0', '3-5', '4', '4-5', '4-6', '5', '5, 0', '5-6', '6-8'], 'Petals / corolla colour': ['blue', 'green', 'green, red', 'green-white, yellow-white', 'greenish white', 'red', 'white', 'white, pink', 'white, pink, purple', 'white, whitish', 'white, yellow-white', 'whitish', 'yellow', 'yellow, orange', 'yellow, yellow-green', 'yellow-green', 'yellow-green, green'], 'Stamen shape': ['longer than corolla', 'much longer than corolla', 'multiple rows', 'short', 'shorter than corolla', 'shorter than corolla, connected'], 'Stamen number': ['10', '15-25', '16', '2', '20', '20-28', '4', '5', '5-6', '6-10', '6-9', '8', 'many'], 'Fruit type': ['berry', 'capsule', 'drupe', 'fleshy drupe', 'follicle', 'nutlet', 'pod'], 'Fruit shape': ['2-locular, flattened, globose', '3-5-locular, globose', 'elongate', 'elongate, constricted between seeds', 'elongate, slightly constricted between seeds', 'elongate, strongly constricted between seeds', 'flattened obovoid', 'flattened ovate', 'flattened, elongate, twisted', 'flattened, thick, elongate, strongly curved', 'globose', 'globose, 3-angulated', 'linear', 'not flattened, elongate, slightly curved', 'ovoid', 'pyriform, ovoid', 'slightly flattened, elongate, curved'], 'Fruit colour': ['black', 'brown', 'brown-black', 'green', 'green, black, whitish', 'green, orange', 'green, orange, red', 'green, red', 'green, yellow', 'greyish', 'orange', 'orange, yellow, red', 'purple, black', 'red', 'red, black', 'red, purple-brown', 'reddish purple', 'whitish green', 'yellow, orange', 'yellowish'], 'Aril colour': ['NA?', 'orange', 'red', 'white', 'yellow-geen'], 'Seed colour': ['black', 'brown', 'green', 'grey', 'white', 'whitish']}\n",
      "\n",
      "    Python trait list:\n",
      "    ['Life form:', 'Leaf position:', 'Leaf composition:', 'Leaf shape:', 'Leaf margin:', 'Leaf upper side:', 'Leaf lower side:', 'Leaf glands:', 'Thorns/spines:', 'Stipules:', 'Inflorescence type:', 'Sepals / calyx shape:', 'Sepals / calyx numer:', 'Petals / corolla shape:', 'Petals / corolla number:', 'Petals / corolla colour:', 'Stamen shape:', 'Stamen number:', 'Fruit type:', 'Fruit shape:', 'Fruit colour:', 'Seed colour:']\n",
      "\n",
      "    Given this Python dictionary of plant traits with possible options, can you fill in the Python trait list I provided? In case you cannot find the trait fill in 'BLANK'.\n",
      "    \n",
      "14\n",
      "\n",
      "    Text:\n",
      "    Avicennia germinans (Black Mangrove) is a medium-sized, evergreen shrub or tree with a rounded, densely foliated crown of spreading branches. It bears thick, elliptic, simple and opposite leaves, 2-3 in. long (5-7 cm). Smooth and leathery, they are dark green above and silver-white underneath. Blooming year-round, small white flowers with yellow centers appear in short branched spikes at the tips of the branches. The blossoms are followed by green, fleshy fruits which consist of large flattened capsules of seeds. The bark is dark gray and smooth in youth, becoming scaly on larger trunks.\n",
      "\n",
      "    Python dictionary of plant traits with possible options:\n",
      "    {'Life form': ['liana', 'tree'], 'Leaf position': ['alternate', 'alternate, opposite', 'opposite', 'opposite, whorls of 3', 'opposite, whorls of 3, alternate'], 'Leaf composition': ['3 palmate', '3-5 palmate', '3-5 pinnate', '3-5 pinnate, entire', '5-11 pinnate', '5-9 pinnate', 'bi-pinnate, 2 leaflets per jug', 'bi-pinnate, 20-40 leaflets per jug', 'bi-pinnate, 30-32 leaflets per jug', 'entire', 'pinnate, 4-6 leaflets', 'pinnate, 6-8 leaflets'], 'Leaf shape': ['elliptic', 'elliptic, elongate', 'elliptic, lanceolate', 'elliptic, obovate', 'elliptic, ovate', 'elliptic, ovate, round', 'elongate', 'elongate, elliptic, obovate', 'elongate, obovate', 'kidney-shaped, circular', 'lanceolate, elliptic', 'linear', 'linear, obovate', 'obovate', 'obovate, elliptic', 'obovate, spathulate', 'ovate', 'ovate, circular', 'ovate, elliptic', 'ovate, elliptic, elongate', 'ovate, heart-shaped', 'spathulate, obovate'], 'Leaf margin': ['crenate', 'entire', 'entire, crenate', 'entire, serrate', 'serrate'], 'Leaf upper side': ['glabrous', 'glabrous, pubescent', 'pubescent', 'pubescent, glabrous', 'salt crystals', 'scales, glabrous', 'shiny, glabrous', 'woolly, later glabrous'], 'Leaf lower side': ['glabrous', 'glabrous, pubescent', 'powdery', 'pubescent', 'scales', 'woolly, later glabrous'], 'Leaf glands': ['absent', 'gland on the end of petiole', 'glands near basis and central vein', 'glands near basis and leaf margin', 'translucent oil cells', 'translucent points and lines'], 'Leaf rachis': ['not winged', 'winged'], 'Thorns/spines': ['1-2 per leaf axil', '2 per leaf axil', 'absent', 'branch thorns', 'thorns on stem'], 'Stipules': ['absent', 'connected', 'present'], 'Inflorescence type': ['1-3 sessile', '1-5 sessile', 'dichasium', 'fascicle', 'globose', 'globose in panicle', 'panicle', 'raceme', 'solitary, fascicle', 'spike', 'umbel'], 'Sepals / calyx shape': ['connate', 'free'], 'Sepals / calyx numer': ['2-3', '3-5', '4', '4-5', '4-6', '5', '5-6', '6-8', '6-9'], 'Petals / corolla shape': ['absent', 'free', 'tepals', 'tubular'], 'Petals / corolla number': ['0', '3-5', '4', '4-5', '4-6', '5', '5, 0', '5-6', '6-8'], 'Petals / corolla colour': ['blue', 'green', 'green, red', 'green-white, yellow-white', 'greenish white', 'red', 'white', 'white, pink', 'white, pink, purple', 'white, whitish', 'white, yellow-white', 'whitish', 'yellow', 'yellow, orange', 'yellow, yellow-green', 'yellow-green', 'yellow-green, green'], 'Stamen shape': ['longer than corolla', 'much longer than corolla', 'multiple rows', 'short', 'shorter than corolla', 'shorter than corolla, connected'], 'Stamen number': ['10', '15-25', '16', '2', '20', '20-28', '4', '5', '5-6', '6-10', '6-9', '8', 'many'], 'Fruit type': ['berry', 'capsule', 'drupe', 'fleshy drupe', 'follicle', 'nutlet', 'pod'], 'Fruit shape': ['2-locular, flattened, globose', '3-5-locular, globose', 'elongate', 'elongate, constricted between seeds', 'elongate, slightly constricted between seeds', 'elongate, strongly constricted between seeds', 'flattened obovoid', 'flattened ovate', 'flattened, elongate, twisted', 'flattened, thick, elongate, strongly curved', 'globose', 'globose, 3-angulated', 'linear', 'not flattened, elongate, slightly curved', 'ovoid', 'pyriform, ovoid', 'slightly flattened, elongate, curved'], 'Fruit colour': ['black', 'brown', 'brown-black', 'green', 'green, black, whitish', 'green, orange', 'green, orange, red', 'green, red', 'green, yellow', 'greyish', 'orange', 'orange, yellow, red', 'purple, black', 'red', 'red, black', 'red, purple-brown', 'reddish purple', 'whitish green', 'yellow, orange', 'yellowish'], 'Aril colour': ['NA?', 'orange', 'red', 'white', 'yellow-geen'], 'Seed colour': ['black', 'brown', 'green', 'grey', 'white', 'whitish']}\n",
      "\n",
      "    Python trait list:\n",
      "    ['Life form:', 'Leaf position:', 'Leaf composition:', 'Leaf shape:', 'Leaf margin:', 'Leaf upper side:', 'Leaf lower side:', 'Leaf glands:', 'Thorns/spines:', 'Stipules:', 'Inflorescence type:', 'Sepals / calyx shape:', 'Sepals / calyx numer:', 'Petals / corolla shape:', 'Petals / corolla number:', 'Petals / corolla colour:', 'Stamen shape:', 'Stamen number:', 'Fruit type:', 'Fruit shape:', 'Fruit colour:', 'Seed colour:']\n",
      "\n",
      "    Given this Python dictionary of plant traits with possible options, can you fill in the Python trait list I provided? In case you cannot find the trait fill in 'BLANK'.\n",
      "    \n",
      "17\n",
      "\n",
      "    Text:\n",
      "     black mangrove Verbenaceae Avicennia\n",
      "          germinans (L.) L. \n",
      "\n",
      "\n",
      "\n",
      "\n",
      " symbol: AVGE\n",
      "Leaf: Opposite, simple, evergreen, leathery, elliptical to obovate, 2 to 5 inches long, dark green above, silvery hairy below, may have salt deposits on their upper surfaces due to salt excretion. Flower: White, 4 petaled flowers, occurring in cone-shaped clusters, 1 to 2 inches long near branch tips. Fruit: Egg-shaped capsule 1 to 2 inches long, containing one lima bean-shaped seed. Twig: Stout, slightly angled, finely hairy, and initially green but turning grayish brown. Bark: Dark gray and finely scaly. Form:  Bushy tree (50 feet tall) that forms dense thickets, trunk divides close to the ground, numerous finger like roots (pneumatophores) occur around the base of the tree.\n",
      "Looks like: buttonwood \n",
      "\n",
      " - white mangrove \n",
      "\n",
      " - red mangrove \n",
      "\n",
      " - pond apple\n",
      " \n",
      "\n",
      "\n",
      "\n",
      "\n",
      "\n",
      "\n",
      "\n",
      " \n",
      "\n",
      "\n",
      "\n",
      "\n",
      "\n",
      "\n",
      "\n",
      "    Python dictionary of plant traits with possible options:\n",
      "    {'Life form': ['liana', 'tree'], 'Leaf position': ['alternate', 'alternate, opposite', 'opposite', 'opposite, whorls of 3', 'opposite, whorls of 3, alternate'], 'Leaf composition': ['3 palmate', '3-5 palmate', '3-5 pinnate', '3-5 pinnate, entire', '5-11 pinnate', '5-9 pinnate', 'bi-pinnate, 2 leaflets per jug', 'bi-pinnate, 20-40 leaflets per jug', 'bi-pinnate, 30-32 leaflets per jug', 'entire', 'pinnate, 4-6 leaflets', 'pinnate, 6-8 leaflets'], 'Leaf shape': ['elliptic', 'elliptic, elongate', 'elliptic, lanceolate', 'elliptic, obovate', 'elliptic, ovate', 'elliptic, ovate, round', 'elongate', 'elongate, elliptic, obovate', 'elongate, obovate', 'kidney-shaped, circular', 'lanceolate, elliptic', 'linear', 'linear, obovate', 'obovate', 'obovate, elliptic', 'obovate, spathulate', 'ovate', 'ovate, circular', 'ovate, elliptic', 'ovate, elliptic, elongate', 'ovate, heart-shaped', 'spathulate, obovate'], 'Leaf margin': ['crenate', 'entire', 'entire, crenate', 'entire, serrate', 'serrate'], 'Leaf upper side': ['glabrous', 'glabrous, pubescent', 'pubescent', 'pubescent, glabrous', 'salt crystals', 'scales, glabrous', 'shiny, glabrous', 'woolly, later glabrous'], 'Leaf lower side': ['glabrous', 'glabrous, pubescent', 'powdery', 'pubescent', 'scales', 'woolly, later glabrous'], 'Leaf glands': ['absent', 'gland on the end of petiole', 'glands near basis and central vein', 'glands near basis and leaf margin', 'translucent oil cells', 'translucent points and lines'], 'Leaf rachis': ['not winged', 'winged'], 'Thorns/spines': ['1-2 per leaf axil', '2 per leaf axil', 'absent', 'branch thorns', 'thorns on stem'], 'Stipules': ['absent', 'connected', 'present'], 'Inflorescence type': ['1-3 sessile', '1-5 sessile', 'dichasium', 'fascicle', 'globose', 'globose in panicle', 'panicle', 'raceme', 'solitary, fascicle', 'spike', 'umbel'], 'Sepals / calyx shape': ['connate', 'free'], 'Sepals / calyx numer': ['2-3', '3-5', '4', '4-5', '4-6', '5', '5-6', '6-8', '6-9'], 'Petals / corolla shape': ['absent', 'free', 'tepals', 'tubular'], 'Petals / corolla number': ['0', '3-5', '4', '4-5', '4-6', '5', '5, 0', '5-6', '6-8'], 'Petals / corolla colour': ['blue', 'green', 'green, red', 'green-white, yellow-white', 'greenish white', 'red', 'white', 'white, pink', 'white, pink, purple', 'white, whitish', 'white, yellow-white', 'whitish', 'yellow', 'yellow, orange', 'yellow, yellow-green', 'yellow-green', 'yellow-green, green'], 'Stamen shape': ['longer than corolla', 'much longer than corolla', 'multiple rows', 'short', 'shorter than corolla', 'shorter than corolla, connected'], 'Stamen number': ['10', '15-25', '16', '2', '20', '20-28', '4', '5', '5-6', '6-10', '6-9', '8', 'many'], 'Fruit type': ['berry', 'capsule', 'drupe', 'fleshy drupe', 'follicle', 'nutlet', 'pod'], 'Fruit shape': ['2-locular, flattened, globose', '3-5-locular, globose', 'elongate', 'elongate, constricted between seeds', 'elongate, slightly constricted between seeds', 'elongate, strongly constricted between seeds', 'flattened obovoid', 'flattened ovate', 'flattened, elongate, twisted', 'flattened, thick, elongate, strongly curved', 'globose', 'globose, 3-angulated', 'linear', 'not flattened, elongate, slightly curved', 'ovoid', 'pyriform, ovoid', 'slightly flattened, elongate, curved'], 'Fruit colour': ['black', 'brown', 'brown-black', 'green', 'green, black, whitish', 'green, orange', 'green, orange, red', 'green, red', 'green, yellow', 'greyish', 'orange', 'orange, yellow, red', 'purple, black', 'red', 'red, black', 'red, purple-brown', 'reddish purple', 'whitish green', 'yellow, orange', 'yellowish'], 'Aril colour': ['NA?', 'orange', 'red', 'white', 'yellow-geen'], 'Seed colour': ['black', 'brown', 'green', 'grey', 'white', 'whitish']}\n",
      "\n",
      "    Python trait list:\n",
      "    ['Life form:', 'Leaf position:', 'Leaf composition:', 'Leaf shape:', 'Leaf margin:', 'Leaf upper side:', 'Leaf lower side:', 'Leaf glands:', 'Thorns/spines:', 'Stipules:', 'Inflorescence type:', 'Sepals / calyx shape:', 'Sepals / calyx numer:', 'Petals / corolla shape:', 'Petals / corolla number:', 'Petals / corolla colour:', 'Stamen shape:', 'Stamen number:', 'Fruit type:', 'Fruit shape:', 'Fruit colour:', 'Seed colour:']\n",
      "\n",
      "    Given this Python dictionary of plant traits with possible options, can you fill in the Python trait list I provided? In case you cannot find the trait fill in 'BLANK'.\n",
      "    \n"
     ]
    },
    {
     "name": "stderr",
     "output_type": "stream",
     "text": [
      "\r"
     ]
    }
   ],
   "source": [
    "# folder_prompts = \"../../../data/OpenAI/PromptsResults/\"\n",
    "\n",
    "\n",
    "# for idx, paragraph in (pbar := tqdm(enumerate(caribbean_species_test[species][0:]), leave=False, position=0)):\n",
    "#     pbar.set_description(f\"{idx} {species}\")\n",
    "\n",
    "#     if len(paragraph.strip()) < 500:\n",
    "#         continue\n",
    "#     prompt = create_prompt(paragraph=paragraph, \n",
    "#                            trait_dict=caribbean_traits_dict, \n",
    "#                            present_traits=present_traits,\n",
    "#                            question=question)\n",
    "    \n",
    "#     messages = [\n",
    "#     {\"role\": \"user\", \"content\": prompt}\n",
    "#     ]\n",
    "\n",
    "#     # Generate a response\n",
    "#     completion = openai.ChatCompletion.create(\n",
    "#         model=\"gpt-3.5-turbo\",\n",
    "#         messages=messages,\n",
    "#     )\n",
    "#     print(idx)\n",
    "#     print(prompt)\n",
    "\n",
    "#     # Create folder for prompts\n",
    "#     folder_prompts_species = F\"{folder_prompts}{species.replace(' ', '_')}\"\n",
    "#     try:\n",
    "#         os.makedirs(folder_prompts_species)\n",
    "#     except FileExistsError:\n",
    "#         # directory already exists\n",
    "#         pass\n",
    "    \n",
    "#     # Save the ChatGPT result\n",
    "#     name = F\"{idx}_paragraph\"\n",
    "#     with open(F\"{folder_prompts_species}{name}.json\", 'w') as fp:\n",
    "#         json.dump(completion, fp)\n"
   ]
  },
  {
   "cell_type": "code",
   "execution_count": 52,
   "metadata": {},
   "outputs": [
    {
     "data": {
      "text/plain": [
       "<OpenAIObject at 0x7ff4310c8770> JSON: {\n",
       "  \"completion_tokens\": 258,\n",
       "  \"prompt_tokens\": 1527,\n",
       "  \"total_tokens\": 1785\n",
       "}"
      ]
     },
     "execution_count": 52,
     "metadata": {},
     "output_type": "execute_result"
    }
   ],
   "source": [
    "completion[\"usage\"]"
   ]
  },
  {
   "cell_type": "code",
   "execution_count": 55,
   "metadata": {},
   "outputs": [
    {
     "name": "stdout",
     "output_type": "stream",
     "text": [
      "\n",
      "\n",
      "['Life form:', 'Leaf position:', 'Leaf composition:', 'Leaf shape:', 'Leaf margin:', 'Leaf upper side:', 'Leaf lower side:', 'Leaf glands:', 'Thorns/spines:', 'Stipules:', 'Inflorescence type:', 'Sepals / calyx shape:', 'Sepals / calyx numer:', 'Petals / corolla shape:', 'Petals / corolla number:', 'Petals / corolla colour:', 'Stamen shape:', 'Stamen number:', 'Fruit type:', 'Fruit shape:', 'Fruit colour:', 'Seed colour:'] \n",
      "\n",
      "['BLANK', 'BLANK', 'BLANK', 'BLANK', 'BLANK', 'BLANK', 'BLANK', 'BLANK', 'BLANK', 'BLANK', 'BLANK', 'Sepals / calyx shape:', 'Sepals / calyx numer:', 'Petals / corolla shape:', 'Petals / corolla number:', 'Petals / corolla colour:', 'Stamen shape:', 'Stamen number:', 'Fruit type:', 'Fruit shape:', 'Fruit colour:', 'Seed colour:'] \n",
      "\n",
      "The trait list has not been fully completed. We need to fill in the missing traits.\n"
     ]
    }
   ],
   "source": [
    "print(completion[\"choices\"][0][\"message\"][\"content\"])"
   ]
  },
  {
   "cell_type": "code",
   "execution_count": 54,
   "metadata": {},
   "outputs": [
    {
     "name": "stdout",
     "output_type": "stream",
     "text": [
      "\n",
      "    Text:\n",
      "    The heartwood is dark-brown to black, while the sapwood is yellow-brown.\n",
      "\n",
      "    Python dictionary of plant traits with possible options:\n",
      "    {'Life form': ['liana', 'tree'], 'Leaf position': ['alternate', 'alternate, opposite', 'opposite', 'opposite, whorls of 3', 'opposite, whorls of 3, alternate'], 'Leaf composition': ['3 palmate', '3-5 palmate', '3-5 pinnate', '3-5 pinnate, entire', '5-11 pinnate', '5-9 pinnate', 'bi-pinnate, 2 leaflets per jug', 'bi-pinnate, 20-40 leaflets per jug', 'bi-pinnate, 30-32 leaflets per jug', 'entire', 'pinnate, 4-6 leaflets', 'pinnate, 6-8 leaflets'], 'Leaf shape': ['elliptic', 'elliptic, elongate', 'elliptic, lanceolate', 'elliptic, obovate', 'elliptic, ovate', 'elliptic, ovate, round', 'elongate', 'elongate, elliptic, obovate', 'elongate, obovate', 'kidney-shaped, circular', 'lanceolate, elliptic', 'linear', 'linear, obovate', 'obovate', 'obovate, elliptic', 'obovate, spathulate', 'ovate', 'ovate, circular', 'ovate, elliptic', 'ovate, elliptic, elongate', 'ovate, heart-shaped', 'spathulate, obovate'], 'Leaf margin': ['crenate', 'entire', 'entire, crenate', 'entire, serrate', 'serrate'], 'Leaf upper side': ['glabrous', 'glabrous, pubescent', 'pubescent', 'pubescent, glabrous', 'salt crystals', 'scales, glabrous', 'shiny, glabrous', 'woolly, later glabrous'], 'Leaf lower side': ['glabrous', 'glabrous, pubescent', 'powdery', 'pubescent', 'scales', 'woolly, later glabrous'], 'Leaf glands': ['absent', 'gland on the end of petiole', 'glands near basis and central vein', 'glands near basis and leaf margin', 'translucent oil cells', 'translucent points and lines'], 'Leaf rachis': ['not winged', 'winged'], 'Thorns/spines': ['1-2 per leaf axil', '2 per leaf axil', 'absent', 'branch thorns', 'thorns on stem'], 'Stipules': ['absent', 'connected', 'present'], 'Inflorescence type': ['1-3 sessile', '1-5 sessile', 'dichasium', 'fascicle', 'globose', 'globose in panicle', 'panicle', 'raceme', 'solitary, fascicle', 'spike', 'umbel'], 'Sepals / calyx shape': ['connate', 'free'], 'Sepals / calyx numer': ['2-3', '3-5', '4', '4-5', '4-6', '5', '5-6', '6-8', '6-9'], 'Petals / corolla shape': ['absent', 'free', 'tepals', 'tubular'], 'Petals / corolla number': ['0', '3-5', '4', '4-5', '4-6', '5', '5, 0', '5-6', '6-8'], 'Petals / corolla colour': ['blue', 'green', 'green, red', 'green-white, yellow-white', 'greenish white', 'red', 'white', 'white, pink', 'white, pink, purple', 'white, whitish', 'white, yellow-white', 'whitish', 'yellow', 'yellow, orange', 'yellow, yellow-green', 'yellow-green', 'yellow-green, green'], 'Stamen shape': ['longer than corolla', 'much longer than corolla', 'multiple rows', 'short', 'shorter than corolla', 'shorter than corolla, connected'], 'Stamen number': ['10', '15-25', '16', '2', '20', '20-28', '4', '5', '5-6', '6-10', '6-9', '8', 'many'], 'Fruit type': ['berry', 'capsule', 'drupe', 'fleshy drupe', 'follicle', 'nutlet', 'pod'], 'Fruit shape': ['2-locular, flattened, globose', '3-5-locular, globose', 'elongate', 'elongate, constricted between seeds', 'elongate, slightly constricted between seeds', 'elongate, strongly constricted between seeds', 'flattened obovoid', 'flattened ovate', 'flattened, elongate, twisted', 'flattened, thick, elongate, strongly curved', 'globose', 'globose, 3-angulated', 'linear', 'not flattened, elongate, slightly curved', 'ovoid', 'pyriform, ovoid', 'slightly flattened, elongate, curved'], 'Fruit colour': ['black', 'brown', 'brown-black', 'green', 'green, black, whitish', 'green, orange', 'green, orange, red', 'green, red', 'green, yellow', 'greyish', 'orange', 'orange, yellow, red', 'purple, black', 'red', 'red, black', 'red, purple-brown', 'reddish purple', 'whitish green', 'yellow, orange', 'yellowish'], 'Aril colour': ['NA?', 'orange', 'red', 'white', 'yellow-geen'], 'Seed colour': ['black', 'brown', 'green', 'grey', 'white', 'whitish']}\n",
      "\n",
      "    Python trait list:\n",
      "    ['Life form:', 'Leaf position:', 'Leaf composition:', 'Leaf shape:', 'Leaf margin:', 'Leaf upper side:', 'Leaf lower side:', 'Leaf glands:', 'Thorns/spines:', 'Stipules:', 'Inflorescence type:', 'Sepals / calyx shape:', 'Sepals / calyx numer:', 'Petals / corolla shape:', 'Petals / corolla number:', 'Petals / corolla colour:', 'Stamen shape:', 'Stamen number:', 'Fruit type:', 'Fruit shape:', 'Fruit colour:', 'Seed colour:']\n",
      "\n",
      "    Given this Python dictionary of plant traits with possible options, can you fill in the Python trait list I provided? In case you cannot find the trait fill in 'BLANK'.\n",
      "    \n"
     ]
    }
   ],
   "source": [
    "print(prompt)"
   ]
  },
  {
   "cell_type": "code",
   "execution_count": null,
   "metadata": {},
   "outputs": [],
   "source": []
  },
  {
   "cell_type": "code",
   "execution_count": null,
   "metadata": {},
   "outputs": [],
   "source": []
  },
  {
   "cell_type": "code",
   "execution_count": null,
   "metadata": {},
   "outputs": [],
   "source": []
  },
  {
   "cell_type": "code",
   "execution_count": null,
   "metadata": {},
   "outputs": [],
   "source": []
  },
  {
   "cell_type": "code",
   "execution_count": 48,
   "metadata": {},
   "outputs": [],
   "source": [
    "df_Andrei_species = list(df_Andrei.index)"
   ]
  },
  {
   "cell_type": "code",
   "execution_count": 131,
   "metadata": {},
   "outputs": [],
   "source": [
    "def extract_present_traits(species, df):\n",
    "\n",
    "    s = df.loc[species]\n",
    "    GT_traits = list(s.where(s == 1).dropna().index)\n",
    "    empty_traits = [F\"{Entity}:\" for (Entity, Value) in GT_traits]\n",
    "\n",
    "    return GT_traits, empty_traits"
   ]
  },
  {
   "attachments": {},
   "cell_type": "markdown",
   "metadata": {},
   "source": [
    "### Paragraphs"
   ]
  },
  {
   "cell_type": "code",
   "execution_count": 149,
   "metadata": {},
   "outputs": [],
   "source": [
    "folder_traits = \"../../../data/OpenAI/Traits/\"\n",
    "\n",
    "with open(F\"{folder_traits}Andrei.json\", 'r') as f:\n",
    "  caribbean_traits_dict = json.load(f)\n",
    "\n",
    "folder_descriptions = \"../../../data/OpenAI/DescriptionSnippets/\"\n",
    "\n",
    "caribbean_description_paragraph_dict = pickle.load(open(F\"{folder_descriptions}descriptions_paragraphs_caribbean.pkl\", 'rb'))\n",
    "caribbean_description_sentence_dict = pickle.load(open(F\"{folder_descriptions}descriptions_sentences_caribbean.pkl\", 'rb'))\n"
   ]
  },
  {
   "attachments": {},
   "cell_type": "markdown",
   "metadata": {},
   "source": [
    "### Prompting"
   ]
  },
  {
   "cell_type": "code",
   "execution_count": 97,
   "metadata": {},
   "outputs": [
    {
     "data": {
      "text/plain": [
       "'Avicennia germinans, the black mangrove,[3] is a shrub or small tree growing up to 12 meters (39 feet) in the acanthus family, Acanthaceae. The leaves often appear whitish from the salt excreted at night and on cloudy days. The heartwood is dark-brown to black, while the sapwood is yellow-brown. Leaves are simple and opposite and grow from 2 to 3 inches long. The leaf is oval and pointed, and the margins are entire. The leaves appear smooth, thick, and leathery with a dark green topside and grey to white underside. When the tree is young the bark is smooth and as it matures the bark takes on a thick and fissured texture. The flowers appear at the ends of the branches and are small, white, and fragrant with yellow centers.  Pneumatophores often rise 5–10 cm from the long horizontal roots.\\r\\nBark dark gray or brown and smooth on small trunks, becoming dark brown,\\r\\nfissured, scaly, and thick.  Leaves opposite, lanceolate or narrowly\\r\\nelliptical, 5–11 cm long, 2–4 cm wide, acute or blunt at tip, entire, thick,\\r\\nleathery.  Fine hairs giving a grayish hue to foliage; both surfaces often with\\r\\nscattered salt crystals and salty taste.  Petiole 3–15 mm long.  Spikes or\\r\\npanicles headlike, upright at and near ends of twigs.  Flowers several,\\r\\ncrowded, sessile, 6 mm long, 10 mm across.  Calyx cup-shaped, deeply 5-lobed;\\r\\ncorolla tubular, hairy, white but yellowish at base, with 4 slightly unequal\\r\\nspreading, rounded, or notched lobes, stamens 4, 5 mm long in notches of\\r\\ncorolla tube near base; pistil with imperfectly 4-celled ovary, slender style,\\r\\nand 2-forked stigma. Capsule elliptical, flattened, 2.5–3 cm long, often\\r\\nsplitting into 2 parts. Publ'"
      ]
     },
     "execution_count": 97,
     "metadata": {},
     "output_type": "execute_result"
    }
   ],
   "source": [
    "paragraph_all = ' '.join(caribbean_description_paragraph_dict[df_Andrei_species[0]])\n",
    "paragraph_all"
   ]
  },
  {
   "cell_type": "code",
   "execution_count": 134,
   "metadata": {},
   "outputs": [],
   "source": [
    "GT_traits, present_traits = extract_present_traits(df_Andrei_species[0], df_Andrei)\n"
   ]
  },
  {
   "cell_type": "code",
   "execution_count": 151,
   "metadata": {},
   "outputs": [
    {
     "data": {
      "text/plain": [
       "\"Given this Python dictionary of plant traits with possible options, can you fill in the Python trait list I provided? In case you cannot find the trait fill in 'BLANK'.\""
      ]
     },
     "execution_count": 151,
     "metadata": {},
     "output_type": "execute_result"
    }
   ],
   "source": [
    "question = \"Given this Python dictionary of plant traits with possible options, can you fill in the Python trait list I provided? In case you cannot find the trait fill in 'BLANK'.\"\n",
    "question"
   ]
  },
  {
   "cell_type": "code",
   "execution_count": 152,
   "metadata": {},
   "outputs": [
    {
     "name": "stdout",
     "output_type": "stream",
     "text": [
      "\n",
      "Text: \n",
      "Avicennia germinans, the black mangrove,[3] is a shrub or small tree growing up to 12 meters (39 feet) in the acanthus family, Acanthaceae. The leaves often appear whitish from the salt excreted at night and on cloudy days. The heartwood is dark-brown to black, while the sapwood is yellow-brown. Leaves are simple and opposite and grow from 2 to 3 inches long. The leaf is oval and pointed, and the margins are entire. The leaves appear smooth, thick, and leathery with a dark green topside and grey to white underside. When the tree is young the bark is smooth and as it matures the bark takes on a thick and fissured texture. The flowers appear at the ends of the branches and are small, white, and fragrant with yellow centers.  Pneumatophores often rise 5–10 cm from the long horizontal roots.\n",
      "Bark dark gray or brown and smooth on small trunks, becoming dark brown,\n",
      "fissured, scaly, and thick.  Leaves opposite, lanceolate or narrowly\n",
      "elliptical, 5–11 cm long, 2–4 cm wide, acute or blunt at tip, entire, thick,\n",
      "leathery.  Fine hairs giving a grayish hue to foliage; both surfaces often with\n",
      "scattered salt crystals and salty taste.  Petiole 3–15 mm long.  Spikes or\n",
      "panicles headlike, upright at and near ends of twigs.  Flowers several,\n",
      "crowded, sessile, 6 mm long, 10 mm across.  Calyx cup-shaped, deeply 5-lobed;\n",
      "corolla tubular, hairy, white but yellowish at base, with 4 slightly unequal\n",
      "spreading, rounded, or notched lobes, stamens 4, 5 mm long in notches of\n",
      "corolla tube near base; pistil with imperfectly 4-celled ovary, slender style,\n",
      "and 2-forked stigma. Capsule elliptical, flattened, 2.5–3 cm long, often\n",
      "splitting into 2 parts. Publ\n",
      "\n",
      "Python dictionary of plant traits with possible options:\n",
      "{'Life form': ['liana', 'tree'], 'Leaf position': ['alternate', 'alternate, opposite', 'opposite', 'opposite, whorls of 3', 'opposite, whorls of 3, alternate'], 'Leaf composition': ['3 palmate', '3-5 palmate', '3-5 pinnate', '3-5 pinnate, entire', '5-11 pinnate', '5-9 pinnate', 'bi-pinnate, 2 leaflets per jug', 'bi-pinnate, 20-40 leaflets per jug', 'bi-pinnate, 30-32 leaflets per jug', 'entire', 'pinnate, 4-6 leaflets', 'pinnate, 6-8 leaflets'], 'Leaf shape': ['elliptic', 'elliptic, elongate', 'elliptic, lanceolate', 'elliptic, obovate', 'elliptic, ovate', 'elliptic, ovate, round', 'elongate', 'elongate, elliptic, obovate', 'elongate, obovate', 'kidney-shaped, circular', 'lanceolate, elliptic', 'linear', 'linear, obovate', 'obovate', 'obovate, elliptic', 'obovate, spathulate', 'ovate', 'ovate, circular', 'ovate, elliptic', 'ovate, elliptic, elongate', 'ovate, heart-shaped', 'spathulate, obovate'], 'Leaf margin': ['crenate', 'entire', 'entire, crenate', 'entire, serrate', 'serrate'], 'Leaf upper side': ['glabrous', 'glabrous, pubescent', 'pubescent', 'pubescent, glabrous', 'salt crystals', 'scales, glabrous', 'shiny, glabrous', 'woolly, later glabrous'], 'Leaf lower side': ['glabrous', 'glabrous, pubescent', 'powdery', 'pubescent', 'scales', 'woolly, later glabrous'], 'Leaf glands': ['absent', 'gland on the end of petiole', 'glands near basis and central vein', 'glands near basis and leaf margin', 'translucent oil cells', 'translucent points and lines'], 'Leaf rachis': ['not winged', 'winged'], 'Thorns/spines': ['1-2 per leaf axil', '2 per leaf axil', 'absent', 'branch thorns', 'thorns on stem'], 'Stipules': ['absent', 'connected', 'present'], 'Inflorescence type': ['1-3 sessile', '1-5 sessile', 'dichasium', 'fascicle', 'globose', 'globose in panicle', 'panicle', 'raceme', 'solitary, fascicle', 'spike', 'umbel'], 'Sepals / calyx shape': ['connate', 'free'], 'Sepals / calyx numer': ['2-3', '3-5', '4', '4-5', '4-6', '5', '5-6', '6-8', '6-9'], 'Petals / corolla shape': ['absent', 'free', 'tepals', 'tubular'], 'Petals / corolla number': ['0', '3-5', '4', '4-5', '4-6', '5', '5, 0', '5-6', '6-8'], 'Petals / corolla colour': ['blue', 'green', 'green, red', 'green-white, yellow-white', 'greenish white', 'red', 'white', 'white, pink', 'white, pink, purple', 'white, whitish', 'white, yellow-white', 'whitish', 'yellow', 'yellow, orange', 'yellow, yellow-green', 'yellow-green', 'yellow-green, green'], 'Stamen shape': ['longer than corolla', 'much longer than corolla', 'multiple rows', 'short', 'shorter than corolla', 'shorter than corolla, connected'], 'Stamen number': ['10', '15-25', '16', '2', '20', '20-28', '4', '5', '5-6', '6-10', '6-9', '8', 'many'], 'Fruit type': ['berry', 'capsule', 'drupe', 'fleshy drupe', 'follicle', 'nutlet', 'pod'], 'Fruit shape': ['2-locular, flattened, globose', '3-5-locular, globose', 'elongate', 'elongate, constricted between seeds', 'elongate, slightly constricted between seeds', 'elongate, strongly constricted between seeds', 'flattened obovoid', 'flattened ovate', 'flattened, elongate, twisted', 'flattened, thick, elongate, strongly curved', 'globose', 'globose, 3-angulated', 'linear', 'not flattened, elongate, slightly curved', 'ovoid', 'pyriform, ovoid', 'slightly flattened, elongate, curved'], 'Fruit colour': ['black', 'brown', 'brown-black', 'green', 'green, black, whitish', 'green, orange', 'green, orange, red', 'green, red', 'green, yellow', 'greyish', 'orange', 'orange, yellow, red', 'purple, black', 'red', 'red, black', 'red, purple-brown', 'reddish purple', 'whitish green', 'yellow, orange', 'yellowish'], 'Aril colour': ['NA?', 'orange', 'red', 'white', 'yellow-geen'], 'Seed colour': ['black', 'brown', 'green', 'grey', 'white', 'whitish']} \n",
      "\n",
      "Python trait list: \n",
      "['Life form:', 'Leaf position:', 'Leaf composition:', 'Leaf shape:', 'Leaf margin:', 'Leaf upper side:', 'Leaf lower side:', 'Leaf glands:', 'Thorns/spines:', 'Stipules:', 'Inflorescence type:', 'Sepals / calyx shape:', 'Sepals / calyx numer:', 'Petals / corolla shape:', 'Petals / corolla number:', 'Petals / corolla colour:', 'Stamen shape:', 'Stamen number:', 'Fruit type:', 'Fruit shape:', 'Fruit colour:', 'Seed colour:']\n",
      "\n",
      "Given this Python dictionary of plant traits with possible options, can you fill in the Python trait list I provided? In case you cannot find the trait fill in 'BLANK'.\n",
      "\n"
     ]
    }
   ],
   "source": [
    "prompt = F\"\"\"\n",
    "Text: \n",
    "{paragraph_all}\n",
    "\n",
    "Python dictionary of plant traits with possible options:\n",
    "{caribbean_traits_dict} \n",
    "\n",
    "Python trait list: \n",
    "{present_traits}\n",
    "\n",
    "{question}\n",
    "\"\"\"\n",
    "print(prompt)"
   ]
  },
  {
   "cell_type": "code",
   "execution_count": 153,
   "metadata": {},
   "outputs": [],
   "source": [
    "messages = [\n",
    "    {\"role\": \"user\", \"content\": prompt}\n",
    "    ]\n",
    "\n",
    "# Generate a response\n",
    "completion = openai.ChatCompletion.create(\n",
    "  model=\"gpt-3.5-turbo\",\n",
    "  messages=messages,\n",
    ")"
   ]
  },
  {
   "cell_type": "code",
   "execution_count": 154,
   "metadata": {},
   "outputs": [
    {
     "data": {
      "text/plain": [
       "<OpenAIObject at 0x7fe469726660> JSON: {\n",
       "  \"completion_tokens\": 164,\n",
       "  \"prompt_tokens\": 1960,\n",
       "  \"total_tokens\": 2124\n",
       "}"
      ]
     },
     "execution_count": 154,
     "metadata": {},
     "output_type": "execute_result"
    }
   ],
   "source": [
    "completion[\"usage\"]"
   ]
  },
  {
   "cell_type": "code",
   "execution_count": 155,
   "metadata": {},
   "outputs": [
    {
     "name": "stdout",
     "output_type": "stream",
     "text": [
      "\n",
      "\n",
      "Life form: tree\n",
      "Leaf position: opposite\n",
      "Leaf composition: BLANK\n",
      "Leaf shape: elliptic\n",
      "Leaf margin: entire\n",
      "Leaf upper side: salt crystals\n",
      "Leaf lower side: scales\n",
      "Leaf glands: absent\n",
      "Thorns/spines: absent\n",
      "Stipules: absent\n",
      "Inflorescence type: panicle\n",
      "Sepals / calyx shape: cup-shaped\n",
      "Sepals / calyx numer: 5\n",
      "Petals / corolla shape: tubular\n",
      "Petals / corolla number: 4\n",
      "Petals / corolla colour: white\n",
      "Stamen shape: in notches of corolla tube near base\n",
      "Stamen number: 4\n",
      "Fruit type: capsule\n",
      "Fruit shape: elliptical\n",
      "Fruit colour: BLANK\n",
      "Seed colour: BLANK\n"
     ]
    }
   ],
   "source": [
    "print(completion[\"choices\"][0][\"message\"][\"content\"])"
   ]
  },
  {
   "cell_type": "code",
   "execution_count": 156,
   "metadata": {},
   "outputs": [
    {
     "data": {
      "text/plain": [
       "[('Life form', 'tree'),\n",
       " ('Leaf position', 'opposite'),\n",
       " ('Leaf composition', 'entire'),\n",
       " ('Leaf shape', 'lanceolate, elliptic'),\n",
       " ('Leaf margin', 'entire'),\n",
       " ('Leaf upper side', 'salt crystals'),\n",
       " ('Leaf lower side', 'powdery'),\n",
       " ('Leaf glands', 'absent'),\n",
       " ('Thorns/spines', 'absent'),\n",
       " ('Stipules', 'absent'),\n",
       " ('Inflorescence type', 'panicle'),\n",
       " ('Sepals / calyx shape', 'free'),\n",
       " ('Sepals / calyx numer', '5'),\n",
       " ('Petals / corolla shape', 'tubular'),\n",
       " ('Petals / corolla number', '4'),\n",
       " ('Petals / corolla colour', 'white'),\n",
       " ('Stamen shape', 'longer than corolla'),\n",
       " ('Stamen number', '4'),\n",
       " ('Fruit type', 'capsule'),\n",
       " ('Fruit shape', 'flattened ovate'),\n",
       " ('Fruit colour', 'green'),\n",
       " ('Seed colour', 'green')]"
      ]
     },
     "execution_count": 156,
     "metadata": {},
     "output_type": "execute_result"
    }
   ],
   "source": [
    "GT_traits"
   ]
  },
  {
   "cell_type": "code",
   "execution_count": 164,
   "metadata": {},
   "outputs": [
    {
     "name": "stdout",
     "output_type": "stream",
     "text": [
      "GPT: Life form: tree. \n",
      "GT: tree\n",
      "GPT: Leaf position: opposite. \n",
      "GT: opposite\n",
      "GPT: Leaf composition: BLANK. \n",
      "GT: entire\n",
      "GPT: Leaf shape: elliptic. \n",
      "GT: lanceolate, elliptic\n",
      "GPT: Leaf margin: entire. \n",
      "GT: entire\n",
      "GPT: Leaf upper side: salt crystals. \n",
      "GT: salt crystals\n",
      "GPT: Leaf lower side: scales. \n",
      "GT: powdery\n",
      "GPT: Leaf glands: absent. \n",
      "GT: absent\n",
      "GPT: Thorns/spines: absent. \n",
      "GT: absent\n",
      "GPT: Stipules: absent. \n",
      "GT: absent\n",
      "GPT: Inflorescence type: panicle. \n",
      "GT: panicle\n",
      "GPT: Sepals / calyx shape: cup-shaped. \n",
      "GT: free\n",
      "GPT: Sepals / calyx numer: 5. \n",
      "GT: 5\n",
      "GPT: Petals / corolla shape: tubular. \n",
      "GT: tubular\n",
      "GPT: Petals / corolla number: 4. \n",
      "GT: 4\n",
      "GPT: Petals / corolla colour: white. \n",
      "GT: white\n",
      "GPT: Stamen shape: in notches of corolla tube near base. \n",
      "GT: longer than corolla\n",
      "GPT: Stamen number: 4. \n",
      "GT: 4\n",
      "GPT: Fruit type: capsule. \n",
      "GT: capsule\n",
      "GPT: Fruit shape: elliptical. \n",
      "GT: flattened ovate\n",
      "GPT: Fruit colour: BLANK. \n",
      "GT: green\n",
      "GPT: Seed colour: BLANK. \n",
      "GT: green\n"
     ]
    }
   ],
   "source": [
    "for gpt, GT in zip(completion[\"choices\"][0][\"message\"][\"content\"].split('\\n')[2:], GT_traits):\n",
    "\n",
    "    GT = GT[1]    \n",
    "    print(F\"GPT: {gpt}. \\nGT: {GT}\")\n",
    "\n"
   ]
  },
  {
   "cell_type": "code",
   "execution_count": null,
   "metadata": {},
   "outputs": [],
   "source": []
  },
  {
   "cell_type": "code",
   "execution_count": null,
   "metadata": {},
   "outputs": [],
   "source": []
  },
  {
   "cell_type": "code",
   "execution_count": null,
   "metadata": {},
   "outputs": [],
   "source": []
  },
  {
   "cell_type": "code",
   "execution_count": 5,
   "metadata": {},
   "outputs": [],
   "source": [
    "prompt_list = []\n",
    "\n",
    "for entity, quality_value in caribbean_traits_dict.items():\n",
    "    # print(entity, quality_value)\n",
    "\n",
    "    quality_value += [\"No ifnromation in the text\"]\n",
    "\n",
    "    prompt = F\"The plant property {entity}, with possible values: {quality_value}\"\n",
    "    prompt_list.append(prompt)"
   ]
  },
  {
   "cell_type": "code",
   "execution_count": 7,
   "metadata": {},
   "outputs": [
    {
     "data": {
      "text/plain": [
       "'Avicennia germinans, the black mangrove,[3] is a shrub or small tree growing up to 12 meters (39 feet) in the acanthus family, Acanthaceae. The leaves often appear whitish from the salt excreted at night and on cloudy days. The heartwood is dark-brown to black, while the sapwood is yellow-brown. Leaves are simple and opposite and grow from 2 to 3 inches long. The leaf is oval and pointed, and the margins are entire. The leaves appear smooth, thick, and leathery with a dark green topside and grey to white underside. When the tree is young the bark is smooth and as it matures the bark takes on a thick and fissured texture. The flowers appear at the ends of the branches and are small, white, and fragrant with yellow centers.  Pneumatophores often rise 5–10 cm from the long horizontal roots.\\r\\nBark dark gray or brown and smooth on small trunks, becoming dark brown,\\r\\nfissured, scaly, and thick.  Leaves opposite, lanceolate or narrowly\\r\\nelliptical, 5–11 cm long, 2–4 cm wide, acute or blunt at tip, entire, thick,\\r\\nleathery.  Fine hairs giving a grayish hue to foliage; both surfaces often with\\r\\nscattered salt crystals and salty taste.  Petiole 3–15 mm long.  Spikes or\\r\\npanicles headlike, upright at and near ends of twigs.  Flowers several,\\r\\ncrowded, sessile, 6 mm long, 10 mm across.  Calyx cup-shaped, deeply 5-lobed;\\r\\ncorolla tubular, hairy, white but yellowish at base, with 4 slightly unequal\\r\\nspreading, rounded, or notched lobes, stamens 4, 5 mm long in notches of\\r\\ncorolla tube near base; pistil with imperfectly 4-celled ovary, slender style,\\r\\nand 2-forked stigma. Capsule elliptical, flattened, 2.5–3 cm long, often\\r\\nsplitting into 2 parts. Publ'"
      ]
     },
     "execution_count": 7,
     "metadata": {},
     "output_type": "execute_result"
    }
   ],
   "source": [
    "prompt_text = ' '.join(caribbean_description_paragraph_dict['Avicennia germinans'])\n",
    "prompt_text"
   ]
  },
  {
   "cell_type": "code",
   "execution_count": 8,
   "metadata": {},
   "outputs": [
    {
     "data": {
      "text/plain": [
       "'Can you extract all the semantic triples from the text?'"
      ]
     },
     "execution_count": 8,
     "metadata": {},
     "output_type": "execute_result"
    }
   ],
   "source": [
    "prompt_question = \"Can you extract all the semantic triples from the text?\"\n",
    "prompt_question"
   ]
  },
  {
   "cell_type": "code",
   "execution_count": 9,
   "metadata": {},
   "outputs": [
    {
     "name": "stdout",
     "output_type": "stream",
     "text": [
      "\n",
      "\"Avicennia germinans, the black mangrove,[3] is a shrub or small tree growing up to 12 meters (39 feet) in the acanthus family, Acanthaceae. The leaves often appear whitish from the salt excreted at night and on cloudy days. The heartwood is dark-brown to black, while the sapwood is yellow-brown. Leaves are simple and opposite and grow from 2 to 3 inches long. The leaf is oval and pointed, and the margins are entire. The leaves appear smooth, thick, and leathery with a dark green topside and grey to white underside. When the tree is young the bark is smooth and as it matures the bark takes on a thick and fissured texture. The flowers appear at the ends of the branches and are small, white, and fragrant with yellow centers.  Pneumatophores often rise 5–10 cm from the long horizontal roots.\n",
      "Bark dark gray or brown and smooth on small trunks, becoming dark brown,\n",
      "fissured, scaly, and thick.  Leaves opposite, lanceolate or narrowly\n",
      "elliptical, 5–11 cm long, 2–4 cm wide, acute or blunt at tip, entire, thick,\n",
      "leathery.  Fine hairs giving a grayish hue to foliage; both surfaces often with\n",
      "scattered salt crystals and salty taste.  Petiole 3–15 mm long.  Spikes or\n",
      "panicles headlike, upright at and near ends of twigs.  Flowers several,\n",
      "crowded, sessile, 6 mm long, 10 mm across.  Calyx cup-shaped, deeply 5-lobed;\n",
      "corolla tubular, hairy, white but yellowish at base, with 4 slightly unequal\n",
      "spreading, rounded, or notched lobes, stamens 4, 5 mm long in notches of\n",
      "corolla tube near base; pistil with imperfectly 4-celled ovary, slender style,\n",
      "and 2-forked stigma. Capsule elliptical, flattened, 2.5–3 cm long, often\n",
      "splitting into 2 parts. Publ\"\n",
      "\n",
      "Can you extract all the semantic triples from the text?\n",
      "\n"
     ]
    }
   ],
   "source": [
    "prompt = F\"\"\"\n",
    "\"{prompt_text}\"\n",
    "\n",
    "{prompt_question}\n",
    "\"\"\"\n",
    "print(prompt)"
   ]
  },
  {
   "cell_type": "code",
   "execution_count": 23,
   "metadata": {},
   "outputs": [
    {
     "data": {
      "text/plain": [
       "[{'role': 'user',\n",
       "  'content': '\\n\"Avicennia germinans, the black mangrove,[3] is a shrub or small tree growing up to 12 meters (39 feet) in the acanthus family, Acanthaceae. The leaves often appear whitish from the salt excreted at night and on cloudy days. The heartwood is dark-brown to black, while the sapwood is yellow-brown. Leaves are simple and opposite and grow from 2 to 3 inches long. The leaf is oval and pointed, and the margins are entire. The leaves appear smooth, thick, and leathery with a dark green topside and grey to white underside. When the tree is young the bark is smooth and as it matures the bark takes on a thick and fissured texture. The flowers appear at the ends of the branches and are small, white, and fragrant with yellow centers.  Pneumatophores often rise 5–10 cm from the long horizontal roots.\\r\\nBark dark gray or brown and smooth on small trunks, becoming dark brown,\\r\\nfissured, scaly, and thick.  Leaves opposite, lanceolate or narrowly\\r\\nelliptical, 5–11 cm long, 2–4 cm wide, acute or blunt at tip, entire, thick,\\r\\nleathery.  Fine hairs giving a grayish hue to foliage; both surfaces often with\\r\\nscattered salt crystals and salty taste.  Petiole 3–15 mm long.  Spikes or\\r\\npanicles headlike, upright at and near ends of twigs.  Flowers several,\\r\\ncrowded, sessile, 6 mm long, 10 mm across.  Calyx cup-shaped, deeply 5-lobed;\\r\\ncorolla tubular, hairy, white but yellowish at base, with 4 slightly unequal\\r\\nspreading, rounded, or notched lobes, stamens 4, 5 mm long in notches of\\r\\ncorolla tube near base; pistil with imperfectly 4-celled ovary, slender style,\\r\\nand 2-forked stigma. Capsule elliptical, flattened, 2.5–3 cm long, often\\r\\nsplitting into 2 parts. Publ\"\\n\\nCan you extract all the semantic triples from the text?\\n'}]"
      ]
     },
     "execution_count": 23,
     "metadata": {},
     "output_type": "execute_result"
    }
   ],
   "source": [
    "messages = [\n",
    "    {\"role\": \"user\", \"content\": prompt}\n",
    "    ]\n",
    "\n",
    "messages"
   ]
  },
  {
   "cell_type": "code",
   "execution_count": 24,
   "metadata": {},
   "outputs": [],
   "source": [
    "# Generate a response\n",
    "completion = openai.ChatCompletion.create(\n",
    "  model=\"gpt-3.5-turbo\",\n",
    "  messages=messages,\n",
    ")"
   ]
  },
  {
   "cell_type": "code",
   "execution_count": 34,
   "metadata": {},
   "outputs": [
    {
     "data": {
      "text/plain": [
       "<OpenAIObject at 0x7fe479739d00> JSON: {\n",
       "  \"completion_tokens\": 287,\n",
       "  \"prompt_tokens\": 478,\n",
       "  \"total_tokens\": 765\n",
       "}"
      ]
     },
     "execution_count": 34,
     "metadata": {},
     "output_type": "execute_result"
    }
   ],
   "source": [
    "completion[\"usage\"]"
   ]
  },
  {
   "cell_type": "code",
   "execution_count": 32,
   "metadata": {},
   "outputs": [
    {
     "name": "stdout",
     "output_type": "stream",
     "text": [
      "\n",
      "\n",
      "1. Plant species: Avicennia germinans\n",
      "2. Family name: Acanthaceae\n",
      "3. Tree height: up to 12 meters\n",
      "4. Leaf characteristics: simple, opposite, oval, pointed, thick, leathery, dark green topside, grey to white underside\n",
      "5. Bark color and texture: dark gray or brown, smooth on small trunks, becoming dark brown, fissured, scaly and thick\n",
      "6. Flower characteristics: small, white, fragrant with yellow centers, several, crowded, sessile, tubular and hairy corolla, imperfectly 4-celled ovary, slender style, and 2-forked stigma\n",
      "7. Fruit characteristics: Elliptical, flattened, 2.5–3 cm long, often splitting into 2 parts\n",
      "8. Root characteristics: long horizontal roots with Pneumatophores often rising 5–10 cm\n",
      "9. Leaf margin: entire\n",
      "10. Leaf length: 2-3 inches\n",
      "11. Salt excretion: leaves often appear whitish from the salt excreted at night and on cloudy days\n",
      "12. Heartwood and sapwood color: dark-brown to black (heartwood), yellow-brown (sapwood)\n",
      "13. Other features: fine hairs give a grayish hue to foliage, both surfaces often with scattered salt crystals and salty taste.\n"
     ]
    }
   ],
   "source": [
    "print(completion[\"choices\"][0][\"message\"][\"content\"])"
   ]
  },
  {
   "cell_type": "code",
   "execution_count": 37,
   "metadata": {},
   "outputs": [
    {
     "data": {
      "text/plain": [
       "[\"The plant property Life form, with possible values: ['liana', 'tree', 'No ifnromation in the text']\",\n",
       " \"The plant property Leaf position, with possible values: ['alternate', 'alternate, opposite', 'opposite', 'opposite, whorls of 3', 'opposite, whorls of 3, alternate', 'No ifnromation in the text']\",\n",
       " \"The plant property Leaf composition, with possible values: ['3 palmate', '3-5 palmate', '3-5 pinnate', '3-5 pinnate, entire', '5-11 pinnate', '5-9 pinnate', 'bi-pinnate, 2 leaflets per jug', 'bi-pinnate, 20-40 leaflets per jug', 'bi-pinnate, 30-32 leaflets per jug', 'entire', 'pinnate, 4-6 leaflets', 'pinnate, 6-8 leaflets', 'No ifnromation in the text']\",\n",
       " \"The plant property Leaf shape, with possible values: ['elliptic', 'elliptic, elongate', 'elliptic, lanceolate', 'elliptic, obovate', 'elliptic, ovate', 'elliptic, ovate, round', 'elongate', 'elongate, elliptic, obovate', 'elongate, obovate', 'kidney-shaped, circular', 'lanceolate, elliptic', 'linear', 'linear, obovate', 'obovate', 'obovate, elliptic', 'obovate, spathulate', 'ovate', 'ovate, circular', 'ovate, elliptic', 'ovate, elliptic, elongate', 'ovate, heart-shaped', 'spathulate, obovate', 'No ifnromation in the text']\",\n",
       " \"The plant property Leaf margin, with possible values: ['crenate', 'entire', 'entire, crenate', 'entire, serrate', 'serrate', 'No ifnromation in the text']\",\n",
       " \"The plant property Leaf upper side, with possible values: ['glabrous', 'glabrous, pubescent', 'pubescent', 'pubescent, glabrous', 'salt crystals', 'scales, glabrous', 'shiny, glabrous', 'woolly, later glabrous', 'No ifnromation in the text']\",\n",
       " \"The plant property Leaf lower side, with possible values: ['glabrous', 'glabrous, pubescent', 'powdery', 'pubescent', 'scales', 'woolly, later glabrous', 'No ifnromation in the text']\",\n",
       " \"The plant property Leaf glands, with possible values: ['absent', 'gland on the end of petiole', 'glands near basis and central vein', 'glands near basis and leaf margin', 'translucent oil cells', 'translucent points and lines', 'No ifnromation in the text']\",\n",
       " \"The plant property Leaf rachis, with possible values: ['not winged', 'winged', 'No ifnromation in the text']\",\n",
       " \"The plant property Thorns/spines, with possible values: ['1-2 per leaf axil', '2 per leaf axil', 'absent', 'branch thorns', 'thorns on stem', 'No ifnromation in the text']\",\n",
       " \"The plant property Stipules, with possible values: ['absent', 'connected', 'present', 'No ifnromation in the text']\",\n",
       " \"The plant property Inflorescence type, with possible values: ['1-3 sessile', '1-5 sessile', 'dichasium', 'fascicle', 'globose', 'globose in panicle', 'panicle', 'raceme', 'solitary, fascicle', 'spike', 'umbel', 'No ifnromation in the text']\",\n",
       " \"The plant property Sepals / calyx shape, with possible values: ['connate', 'free', 'No ifnromation in the text']\",\n",
       " \"The plant property Sepals / calyx numer, with possible values: ['2-3', '3-5', '4', '4-5', '4-6', '5', '5-6', '6-8', '6-9', 'No ifnromation in the text']\",\n",
       " \"The plant property Petals / corolla shape, with possible values: ['absent', 'free', 'tepals', 'tubular', 'No ifnromation in the text']\",\n",
       " \"The plant property Petals / corolla number, with possible values: ['0', '3-5', '4', '4-5', '4-6', '5', '5, 0', '5-6', '6-8', 'No ifnromation in the text']\",\n",
       " \"The plant property Petals / corolla colour, with possible values: ['blue', 'green', 'green, red', 'green-white, yellow-white', 'greenish white', 'red', 'white', 'white, pink', 'white, pink, purple', 'white, whitish', 'white, yellow-white', 'whitish', 'yellow', 'yellow, orange', 'yellow, yellow-green', 'yellow-green', 'yellow-green, green', 'No ifnromation in the text']\",\n",
       " \"The plant property Stamen shape, with possible values: ['longer than corolla', 'much longer than corolla', 'multiple rows', 'short', 'shorter than corolla', 'shorter than corolla, connected', 'No ifnromation in the text']\",\n",
       " \"The plant property Stamen number, with possible values: ['10', '15-25', '16', '2', '20', '20-28', '4', '5', '5-6', '6-10', '6-9', '8', 'many', 'No ifnromation in the text']\",\n",
       " \"The plant property Fruit type, with possible values: ['berry', 'capsule', 'drupe', 'fleshy drupe', 'follicle', 'nutlet', 'pod', 'No ifnromation in the text']\",\n",
       " \"The plant property Fruit shape, with possible values: ['2-locular, flattened, globose', '3-5-locular, globose', 'elongate', 'elongate, constricted between seeds', 'elongate, slightly constricted between seeds', 'elongate, strongly constricted between seeds', 'flattened obovoid', 'flattened ovate', 'flattened, elongate, twisted', 'flattened, thick, elongate, strongly curved', 'globose', 'globose, 3-angulated', 'linear', 'not flattened, elongate, slightly curved', 'ovoid', 'pyriform, ovoid', 'slightly flattened, elongate, curved', 'No ifnromation in the text']\",\n",
       " \"The plant property Fruit colour, with possible values: ['black', 'brown', 'brown-black', 'green', 'green, black, whitish', 'green, orange', 'green, orange, red', 'green, red', 'green, yellow', 'greyish', 'orange', 'orange, yellow, red', 'purple, black', 'red', 'red, black', 'red, purple-brown', 'reddish purple', 'whitish green', 'yellow, orange', 'yellowish', 'No ifnromation in the text']\",\n",
       " \"The plant property Aril colour, with possible values: ['NA?', 'orange', 'red', 'white', 'yellow-geen', 'No ifnromation in the text']\",\n",
       " \"The plant property Seed colour, with possible values: ['black', 'brown', 'green', 'grey', 'white', 'whitish', 'No ifnromation in the text']\"]"
      ]
     },
     "execution_count": 37,
     "metadata": {},
     "output_type": "execute_result"
    }
   ],
   "source": [
    "prompt_list"
   ]
  }
 ],
 "metadata": {
  "kernelspec": {
   "display_name": "deeplearning",
   "language": "python",
   "name": "deeplearning"
  },
  "language_info": {
   "codemirror_mode": {
    "name": "ipython",
    "version": 3
   },
   "file_extension": ".py",
   "mimetype": "text/x-python",
   "name": "python",
   "nbconvert_exporter": "python",
   "pygments_lexer": "ipython3",
   "version": "3.10.4"
  },
  "orig_nbformat": 4,
  "vscode": {
   "interpreter": {
    "hash": "51432b8e5767c06330d9b51dfad63f9db0ea39868e37d921b9c2e277373f8d11"
   }
  }
 },
 "nbformat": 4,
 "nbformat_minor": 2
}
