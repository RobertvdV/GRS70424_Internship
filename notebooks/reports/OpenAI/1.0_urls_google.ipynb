{
 "cells": [
  {
   "cell_type": "code",
   "execution_count": null,
   "id": "67da1540",
   "metadata": {},
   "outputs": [],
   "source": [
    "import os\n",
    "from googleapiclient.discovery import build\n",
    "from dotenv import load_dotenv\n",
    "import pickle\n",
    "import random\n",
    "import collections\n",
    "from tqdm import tqdm\n",
    "\n",
    "random.seed(333)"
   ]
  },
  {
   "cell_type": "code",
   "execution_count": null,
   "id": "62218066",
   "metadata": {},
   "outputs": [],
   "source": [
    "load_dotenv()\n",
    "\n",
    "api_key = os.environ['GOOGLE_API']\n",
    "cse_id = os.environ['GOOGLE_CSE']"
   ]
  },
  {
   "cell_type": "code",
   "execution_count": null,
   "id": "06d6ca39-dc5b-4e26-a3a3-459a9318b4a9",
   "metadata": {},
   "outputs": [],
   "source": [
    "# create a search query\n",
    "def google_search(search_term, api_key, cse_id, **kwargs):\n",
    "    \n",
    "    \"\"\"\n",
    "    Creates a search link for the custom Google search.\n",
    "    \"\"\"\n",
    "    \n",
    "    service = build(\"customsearch\", \"v1\", developerKey=api_key)\n",
    "    res = service.cse().list(q=search_term, cx=cse_id, **kwargs).execute()\n",
    "    return res['items']"
   ]
  },
  {
   "cell_type": "code",
   "execution_count": null,
   "id": "e45fa5e8-8bab-4d1b-9dfe-f1e2c6413038",
   "metadata": {},
   "outputs": [],
   "source": [
    "# search_results = google_search(palm_species[0], api_key=api_key, cse_id=cse_id)"
   ]
  },
  {
   "cell_type": "code",
   "execution_count": null,
   "id": "2419e4aa",
   "metadata": {},
   "outputs": [],
   "source": [
    "queries = [\n",
    "    \"\",\n",
    "    \"description\",\n",
    "    \"diagnosis\",\n",
    "    \"attributes\"\n",
    "]"
   ]
  },
  {
   "attachments": {},
   "cell_type": "markdown",
   "id": "f51b72e9",
   "metadata": {},
   "source": [
    "## PALMS"
   ]
  },
  {
   "cell_type": "code",
   "execution_count": null,
   "id": "c7c4a968",
   "metadata": {},
   "outputs": [],
   "source": [
    "folder = \"../../../data/OpenAI/Species/\"\n",
    "\n",
    "palm_species = pickle.load(open(F\"{folder}palm_species.pkl\", 'rb'))\n",
    "# palm_species_random = random.sample(palm_species, 50)\n",
    "\n",
    "\n",
    "try:\n",
    "    folder = \"../../../data/OpenAI/Urls/\"\n",
    "    palm_species_google = pickle.load(open(F\"{folder}google_urls_palms.pkl\", 'rb'))\n",
    "    palm_species_urls = pickle.load(open(F\"{folder}urls_palms.pkl\", 'rb'))\n",
    "    palms_done = list(palm_species_urls.keys())\n",
    "except:\n",
    "    palm_species_urls = collections.defaultdict(list)\n",
    "    palm_species_google = collections.defaultdict(list)"
   ]
  },
  {
   "cell_type": "code",
   "execution_count": null,
   "id": "a57025eb",
   "metadata": {},
   "outputs": [],
   "source": [
    "palms_done"
   ]
  },
  {
   "cell_type": "code",
   "execution_count": null,
   "id": "4dc7bc7e",
   "metadata": {},
   "outputs": [],
   "source": [
    "for palm in tqdm(palm_species):\n",
    "\n",
    "    if palm in palms_done:\n",
    "        print(palm, \"done\")\n",
    "        continue\n",
    "\n",
    "    for query in queries:\n",
    "        search_query = F\"{palm} {query}\"\n",
    "\n",
    "        # print(search_query)\n",
    "\n",
    "        # Search results (10 per search)\n",
    "        search_results = google_search(search_query, api_key=api_key, cse_id=cse_id)\n",
    "        # Google Urls\n",
    "        palm_species_google[palm] = search_results\n",
    "        # Just the links\n",
    "        for result in search_results:\n",
    "            palm_species_urls[palm].append(result['link'])\n",
    "\n",
    "\n",
    "folder = \"../../../data/OpenAI/Urls/\"\n",
    "\n",
    "with open(F\"{folder}urls_palms.pkl\", 'wb') as f:\n",
    "    pickle.dump(palm_species_urls, f)\n",
    "\n",
    "with open(F\"{folder}google_urls_palms.pkl\", 'wb') as f:\n",
    "    pickle.dump(palm_species_google, f)\n"
   ]
  },
  {
   "cell_type": "code",
   "execution_count": null,
   "id": "aa406d42",
   "metadata": {},
   "outputs": [],
   "source": [
    "folder = \"../../../data/OpenAI/Urls/\"\n",
    "\n",
    "with open(F\"{folder}urls_palms.pkl\", 'wb') as f:\n",
    "    pickle.dump(palm_species_urls, f)\n",
    "\n",
    "with open(F\"{folder}google_urls_palms.pkl\", 'wb') as f:\n",
    "    pickle.dump(palm_species_google, f)\n"
   ]
  },
  {
   "attachments": {},
   "cell_type": "markdown",
   "id": "e8b83347",
   "metadata": {},
   "source": [
    "## CARIBBEAN"
   ]
  },
  {
   "cell_type": "code",
   "execution_count": null,
   "id": "bd47a182",
   "metadata": {},
   "outputs": [],
   "source": [
    "folder = \"../../../data/OpenAI/Species/\"\n",
    "\n",
    "caribbean_species = pickle.load(open(F\"{folder}caribbean_species.pkl\", 'rb'))\n",
    "\n",
    "try:\n",
    "    folder = \"../../../data/OpenAI/Urls/\"\n",
    "    caribbean_species_google = pickle.load(open(F\"{folder}google_urls_caribbean.pkl\", 'rb'))\n",
    "    caribbean_species_urls = pickle.load(open(F\"{folder}urls_caribbean.pkl\", 'rb'))\n",
    "    caribbean_done = list(caribbean_species_urls.keys())\n",
    "except:\n",
    "    caribbean_species_urls = collections.defaultdict(list)\n",
    "    caribbean_species_google = collections.defaultdict(list)\n",
    "    caribbean_done = []"
   ]
  },
  {
   "cell_type": "code",
   "execution_count": null,
   "id": "94d9c572",
   "metadata": {},
   "outputs": [],
   "source": [
    "caribbean_done"
   ]
  },
  {
   "cell_type": "code",
   "execution_count": null,
   "id": "e623a880",
   "metadata": {},
   "outputs": [],
   "source": [
    "for caribbean in tqdm(caribbean_species):\n",
    "\n",
    "    if caribbean in caribbean_done:\n",
    "        print(caribbean, \"done\")\n",
    "        continue\n",
    "\n",
    "    for query in queries:\n",
    "        search_query = F\"{caribbean} {query}\"\n",
    "\n",
    "        # print(search_query)\n",
    "\n",
    "        # Search results (10 per search)\n",
    "        search_results = google_search(search_query, api_key=api_key, cse_id=cse_id)\n",
    "        # Google Urls\n",
    "        caribbean_species_google[caribbean] = search_results\n",
    "        # Just the links\n",
    "        for result in search_results:\n",
    "            caribbean_species_urls[caribbean].append(result['link'])\n",
    "\n",
    "\n",
    "folder = \"../../../data/OpenAI/Urls/\"\n",
    "\n",
    "with open(F\"{folder}urls_caribbean.pkl\", 'wb') as f:\n",
    "    pickle.dump(caribbean_species_urls, f)\n",
    "\n",
    "with open(F\"{folder}google_urls_caribbean.pkl\", 'wb') as f:\n",
    "    pickle.dump(caribbean_species_google, f)"
   ]
  },
  {
   "cell_type": "code",
   "execution_count": null,
   "id": "3835f62c",
   "metadata": {},
   "outputs": [],
   "source": [
    "folder = \"../../../data/OpenAI/Urls/\"\n",
    "\n",
    "with open(F\"{folder}urls_caribbean.pkl\", 'wb') as f:\n",
    "    pickle.dump(caribbean_species_urls, f)\n",
    "\n",
    "with open(F\"{folder}google_urls_caribbean.pkl\", 'wb') as f:\n",
    "    pickle.dump(caribbean_species_google, f)"
   ]
  },
  {
   "attachments": {},
   "cell_type": "markdown",
   "id": "4aa35c4f",
   "metadata": {},
   "source": [
    "## PlantNet"
   ]
  },
  {
   "cell_type": "code",
   "execution_count": null,
   "id": "71375753",
   "metadata": {},
   "outputs": [],
   "source": [
    "folder = \"../../../data/OpenAI/Species/\"\n",
    "\n",
    "plantnet_species = pickle.load(open(F\"{folder}plantnet_species.pkl\", 'rb'))\n",
    "\n",
    "try:\n",
    "    folder = \"../../../data/OpenAI/Urls/\"\n",
    "    plantnet_species_google = pickle.load(open(F\"{folder}google_urls_plantnet.pkl\", 'rb'))\n",
    "    plantnet_species_urls = pickle.load(open(F\"{folder}urls_plantnet.pkl\", 'rb'))\n",
    "    plantnet_done = list(plantnet_species_urls.keys())\n",
    "except:\n",
    "    plantnet_species_urls = collections.defaultdict(list)\n",
    "    plantnet_species_google = collections.defaultdict(list)\n",
    "    plantnet_done = []"
   ]
  },
  {
   "cell_type": "code",
   "execution_count": null,
   "id": "a43f630c",
   "metadata": {},
   "outputs": [],
   "source": [
    "plantnet_done"
   ]
  },
  {
   "cell_type": "code",
   "execution_count": null,
   "id": "2317deb2",
   "metadata": {},
   "outputs": [],
   "source": [
    "for plantnet in tqdm(plantnet_species):\n",
    "\n",
    "    if plantnet in plantnet_done:\n",
    "        print(plantnet, \"done\")\n",
    "        continue\n",
    "\n",
    "    for query in queries:\n",
    "        search_query = F\"{plantnet} {query}\"\n",
    "\n",
    "        # print(search_query)\n",
    "\n",
    "        # Search results (10 per search)\n",
    "        search_results = google_search(search_query, api_key=api_key, cse_id=cse_id)\n",
    "        # Google Urls\n",
    "        plantnet_species_google[plantnet] = search_results\n",
    "        # Just the links\n",
    "        for result in search_results:\n",
    "            plantnet_species_urls[plantnet].append(result['link'])\n",
    "\n",
    "\n",
    "folder = \"../../../data/OpenAI/Urls/\"\n",
    "\n",
    "with open(F\"{folder}urls_plantnet.pkl\", 'wb') as f:\n",
    "    pickle.dump(plantnet_species_urls, f)\n",
    "\n",
    "with open(F\"{folder}google_urls_plantnet.pkl\", 'wb') as f:\n",
    "    pickle.dump(plantnet_species_google, f)"
   ]
  },
  {
   "cell_type": "code",
   "execution_count": null,
   "id": "5e85ab2e",
   "metadata": {},
   "outputs": [],
   "source": [
    "folder = \"../../../data/OpenAI/Urls/\"\n",
    "\n",
    "with open(F\"{folder}urls_plantnet.pkl\", 'wb') as f:\n",
    "    pickle.dump(plantnet_species_urls, f)\n",
    "\n",
    "with open(F\"{folder}google_urls_plantnet.pkl\", 'wb') as f:\n",
    "    pickle.dump(plantnet_species_google, f)"
   ]
  }
 ],
 "metadata": {
  "kernelspec": {
   "display_name": "venv",
   "language": "python",
   "name": "python3"
  },
  "language_info": {
   "codemirror_mode": {
    "name": "ipython",
    "version": 3
   },
   "file_extension": ".py",
   "mimetype": "text/x-python",
   "name": "python",
   "nbconvert_exporter": "python",
   "pygments_lexer": "ipython3",
   "version": "3.9.13"
  }
 },
 "nbformat": 4,
 "nbformat_minor": 5
}
