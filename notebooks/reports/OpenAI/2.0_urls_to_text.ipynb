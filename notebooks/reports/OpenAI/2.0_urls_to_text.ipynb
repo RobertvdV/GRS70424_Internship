{
 "cells": [
  {
   "cell_type": "code",
   "execution_count": 1,
   "metadata": {},
   "outputs": [],
   "source": [
    "import pandas as pd\n",
    "import json\n",
    "import pickle\n",
    "import numpy as np\n",
    "import requests\n",
    "import requests\n",
    "from requests.adapters import HTTPAdapter\n",
    "from urllib3.util.retry import Retry\n",
    "from bs4 import BeautifulSoup\n",
    "import glob\n",
    "import collections\n",
    "from tqdm import tqdm\n",
    "import re"
   ]
  },
  {
   "cell_type": "code",
   "execution_count": 2,
   "metadata": {},
   "outputs": [],
   "source": [
    "folder_url = \"../../../data/OpenAI/Urls/\"\n",
    "\n",
    "caribbean_url_dict = pickle.load(open(F\"{folder_url}urls_caribbean.pkl\", 'rb'))\n",
    "palms_url_dict = pickle.load(open(F\"{folder_url}urls_palms.pkl\", 'rb'))\n",
    "plantnet_url_dict = pickle.load(open(F\"{folder_url}urls_plantnet.pkl\", 'rb'))"
   ]
  },
  {
   "cell_type": "code",
   "execution_count": 3,
   "metadata": {},
   "outputs": [],
   "source": [
    "# Test\n",
    "\n",
    "# caribbean_url_dict = {k: caribbean_url_dict[k][0:5] for k in list(caribbean_url_dict)[:4]}\n",
    "# palms_url_dict = {k: palms_url_dict[k][0:5] for k in list(palms_url_dict)[:4]}\n",
    "# plantnet_url_dict = {k: plantnet_url_dict[k][0:5] for k in list(plantnet_url_dict)[:4]}"
   ]
  },
  {
   "cell_type": "code",
   "execution_count": 4,
   "metadata": {},
   "outputs": [],
   "source": [
    "def extract_paragraphs_from_urls(url_dict):\n",
    "\n",
    "    # Init dict\n",
    "    text_dict = collections.defaultdict(list)\n",
    "\n",
    "    # Loop over species and URLS\n",
    "    for (species, urls) in tqdm(url_dict.items(), desc=\"Species\", leave=True, position=0):\n",
    "        for url in tqdm(urls, desc=\"URL\", leave=False, position=0):\n",
    "\n",
    "            try:\n",
    "                session = requests.Session()\n",
    "                retry = Retry(total=1,\n",
    "                              connect=1, \n",
    "                              backoff_factor=0.5)\n",
    "                adapter = HTTPAdapter(max_retries=retry)\n",
    "                session.mount('http://', adapter)\n",
    "                session.mount('https://', adapter)\n",
    "                response = session.get(url, timeout=3)\n",
    "                # response = requests.get(url)\n",
    "                \n",
    "                soup = BeautifulSoup(response.text, 'html.parser')\n",
    "                paragraphs = soup.find_all('p')\n",
    "                for paragraph in paragraphs:\n",
    "                    text_dict[species].append(paragraph.text)\n",
    "\n",
    "            except:\n",
    "                text_dict[species].append(\"Invalid URL\")\n",
    "\n",
    "    return text_dict"
   ]
  },
  {
   "cell_type": "code",
   "execution_count": 5,
   "metadata": {},
   "outputs": [
    {
     "name": "stderr",
     "output_type": "stream",
     "text": [
      "URL:  70%|███████   | 28/40 [00:22<00:11,  1.03it/s]/it]/usr/local/anaconda3/envs/webscraping/lib/python3.10/site-packages/bs4/builder/__init__.py:545: XMLParsedAsHTMLWarning: It looks like you're parsing an XML document using an HTML parser. If this really is an HTML document (maybe it's XHTML?), you can ignore or filter this warning. If it's XML, you should know that using an XML parser will be more reliable. To parse this document as XML, make sure you have the lxml package installed, and pass the keyword argument `features=\"xml\"` into the BeautifulSoup constructor.\n",
      "  warnings.warn(\n",
      "Species: 100%|██████████| 42/42 [33:14<00:00, 47.50s/it]\n"
     ]
    }
   ],
   "source": [
    "caribbean_text_dict = extract_paragraphs_from_urls(caribbean_url_dict)\n",
    "# palms_text_dict = extract_paragraphs_from_urls(palms_url_dict)\n",
    "# plantnet_text_dict = extract_paragraphs_from_urls(plantnet_url_dict)"
   ]
  },
  {
   "cell_type": "code",
   "execution_count": 6,
   "metadata": {},
   "outputs": [],
   "source": [
    "folder_text = \"../../../data/OpenAI/TextSnippets/\"\n",
    "\n",
    "with open(F\"{folder_text}paragraphs_caribbean.pkl\", 'wb') as f:\n",
    "    pickle.dump(caribbean_text_dict, f)\n",
    "\n",
    "# with open(F\"{folder_text}paragraphs_palms.pkl\", 'wb') as f:\n",
    "#     pickle.dump(palms_text_dict, f)\n",
    "\n",
    "# with open(F\"{folder_text}paragraphs_plantnet.pkl\", 'wb') as f:\n",
    "#     pickle.dump(plantnet_text_dict, f)"
   ]
  },
  {
   "cell_type": "code",
   "execution_count": null,
   "metadata": {},
   "outputs": [],
   "source": []
  },
  {
   "cell_type": "markdown",
   "metadata": {},
   "source": [
    "### TESTING"
   ]
  },
  {
   "cell_type": "code",
   "execution_count": 47,
   "metadata": {},
   "outputs": [
    {
     "data": {
      "text/plain": [
       "['https://www1.usgs.gov/csas/nvcs/unitDetails/684404',\n",
       " 'https://edis.ifas.ufl.edu/publication/FR321',\n",
       " 'http://www.marinespecies.org/aphia.php?p=taxdetails&id=235037',\n",
       " 'https://explorer.natureserve.org/Taxon/ELEMENT_GLOBAL.2.838396/Avicennia_germinans_-_Laguncularia_racemosa_-_Rhizophora_mangle_Macrogroup',\n",
       " 'https://link.springer.com/chapter/10.1007/978-1-4020-6720-4_6',\n",
       " 'https://www.researchgate.net/publication/309764718_Avicennia_Acanthaceae_Avicennioideae_in_North_America_and_Mesoamerica',\n",
       " 'https://scholarworks.utrgv.edu/cgi/viewcontent.cgi?article=1114&context=bio_fac',\n",
       " 'https://academic.oup.com/plphys/article/76/2/531/6084435',\n",
       " 'https://hort.purdue.edu/newcrop/duke_energy/Avicennia_germinans.html',\n",
       " 'https://florida.plantatlas.usf.edu/plant.aspx?id=736',\n",
       " 'https://www.watershedecology.org/uploads/1/2/7/3/12731039/osland_et_al._2019-_temperature_thresholds_for_black_mangrove_freeze_damage_mortality_and_recovery.pdf',\n",
       " 'https://www.gardenia.net/plant/avicennia-germinans',\n",
       " 'https://besjournals.onlinelibrary.wiley.com/doi/abs/10.1111/1365-2745.13285',\n",
       " 'https://www.wildflower.org/plants/result.php?id_plant=AVGE',\n",
       " 'https://www.frontiersin.org/articles/10.3389/fpls.2014.00503/full',\n",
       " 'https://www.sciencedirect.com/topics/agricultural-and-biological-sciences/avicennia-germinans',\n",
       " 'https://www.ncbi.nlm.nih.gov/pmc/articles/PMC4176030/',\n",
       " 'https://link.springer.com/article/10.1007/s00248-017-1091-y',\n",
       " 'https://en.wikipedia.org/wiki/Avicennia_germinans',\n",
       " 'https://txmarspecies.tamug.edu/vegdetails.cfm?scinameID=Avicennia%20germinans',\n",
       " 'https://onlinelibrary.wiley.com/doi/abs/10.1002/fedr.202000025',\n",
       " 'https://tropical.theferns.info/viewtropical.php?id=Avicennia+germinans',\n",
       " 'http://dendro.cnre.vt.edu/DENDROLOGY/syllabus/factsheet.cfm?ID=373',\n",
       " 'https://www.itis.gov/servlet/SingleRpt/SingleRpt?search_topic=TSN&search_value=32137',\n",
       " 'https://journals.plos.org/plosone/article?id=10.1371/journal.pone.0099604',\n",
       " 'https://www.mdpi.com/1999-4907/12/8/989']"
      ]
     },
     "execution_count": 47,
     "metadata": {},
     "output_type": "execute_result"
    }
   ],
   "source": [
    "urls = list(set(caribbean_url_dict['Avicennia germinans']))\n",
    "urls"
   ]
  },
  {
   "cell_type": "code",
   "execution_count": 48,
   "metadata": {},
   "outputs": [
    {
     "data": {
      "text/plain": [
       "'https://www1.usgs.gov/csas/nvcs/unitDetails/684404'"
      ]
     },
     "execution_count": 48,
     "metadata": {},
     "output_type": "execute_result"
    }
   ],
   "source": [
    "url = urls[0]\n",
    "url"
   ]
  },
  {
   "cell_type": "code",
   "execution_count": 45,
   "metadata": {},
   "outputs": [],
   "source": [
    "session = requests.Session()\n",
    "retry = Retry(total=1,\n",
    "                connect=1, \n",
    "                backoff_factor=0.5)\n",
    "adapter = HTTPAdapter(max_retries=retry)\n",
    "session.mount('http://', adapter)\n",
    "session.mount('https://', adapter)\n",
    "response = session.get(url, timeout=3)\n",
    "# response = requests.get(url)\n",
    "\n",
    "soup = BeautifulSoup(response.text, 'html.parser')\n",
    "paragraphs = soup.find_all('p')"
   ]
  },
  {
   "cell_type": "code",
   "execution_count": 46,
   "metadata": {},
   "outputs": [
    {
     "data": {
      "text/plain": [
       "[<p class=\"e404-msg-para\">\n",
       "                         Please <a class=\"e404-msg-link\" href=\"https://service.elsevier.com/app/contact/supporthub/sciencedirect\" target=\"_blank\">contact us via our\n",
       "                             support center</a> for more information and provide the details below.\n",
       "                     </p>,\n",
       " <p>\n",
       "                             Reference Number: 7a5b2d663f18b93f\n",
       "                         </p>,\n",
       " <p>\n",
       "                             IP Address: 83.128.15.108\n",
       "                         </p>,\n",
       " <p id=\"timestamp\">Timestamp:</p>,\n",
       " <p>You do not have access to www.sciencedirect.com.</p>,\n",
       " <p>The site owner may have set restrictions that prevent you from accessing the site.</p>,\n",
       " <p class=\"u-margin-xs-bottom\">\n",
       " <a class=\"anchor u-margin-xs-right u-margin-s-right-from-sm u-margin-l-right-from-md anchor-has-inherit-color\" href=\"https://www.elsevier.com/solutions/sciencedirect\" rel=\"nofollow\" style=\"white-space:nowrap\" target=\"_blank\"><span class=\"anchor-text\">About ScienceDirect</span></a><wbr/>\n",
       " <a class=\"anchor u-margin-xs-right u-margin-s-right-from-sm u-margin-l-right-from-md anchor-has-inherit-color\" href=\"https://sd-cart.elsevier.com/?\" rel=\"nofollow\" style=\"white-space:nowrap\" target=\"_blank\"><span class=\"anchor-text\">Shopping cart</span></a><wbr/>\n",
       " <a class=\"anchor u-margin-xs-right u-margin-s-right-from-sm u-margin-l-right-from-md anchor-has-inherit-color\" href=\"https://service.elsevier.com/app/contact/supporthub/sciencedirect/\" rel=\"nofollow\" style=\"white-space:nowrap\" target=\"_blank\"><span class=\"anchor-text\">Contact and\n",
       "                                 support</span></a><wbr/><a class=\"anchor u-margin-xs-right u-margin-s-right-from-sm u-margin-l-right-from-md anchor-has-inherit-color\" href=\"https://www.elsevier.com/legal/elsevier-website-terms-and-conditions\" rel=\"nofollow\" style=\"white-space:nowrap\" target=\"_blank\"><span class=\"anchor-text\">Terms and\n",
       "                                 conditions</span></a><wbr/><a class=\"anchor u-margin-xs-right u-margin-s-right-from-sm u-margin-l-right-from-md anchor-has-inherit-color\" href=\"https://www.elsevier.com/legal/privacy-policy\" rel=\"nofollow\" style=\"white-space:nowrap\" target=\"_blank\"><span class=\"anchor-text\">Privacy policy</span></a></p>,\n",
       " <p id=\"els-footer-cookie-message\">We use cookies to help provide and enhance our service and tailor content and ads. By continuing you agree to the\n",
       "                         <a class=\"anchor u-margin-0-right\" href=\"https://www.sciencedirect.com/legal/use-of-cookies\" rel=\"nofollow\" style=\"white-space:nowrap\" target=\"_blank\"><span class=\"anchor-text\">use of\n",
       "                                 cookies</span></a>.</p>,\n",
       " <p id=\"els-footer-copyright\">Copyright ©\n",
       "                         2020\n",
       "                         Elsevier B.V. or its licensors or contributors. ScienceDirect ® is a registered trademark of Elsevier B.V.</p>]"
      ]
     },
     "execution_count": 46,
     "metadata": {},
     "output_type": "execute_result"
    }
   ],
   "source": [
    "paragraphs"
   ]
  }
 ],
 "metadata": {
  "kernelspec": {
   "display_name": "webscraping",
   "language": "python",
   "name": "webscraping"
  },
  "language_info": {
   "codemirror_mode": {
    "name": "ipython",
    "version": 3
   },
   "file_extension": ".py",
   "mimetype": "text/x-python",
   "name": "python",
   "nbconvert_exporter": "python",
   "pygments_lexer": "ipython3",
   "version": "3.10.4"
  },
  "orig_nbformat": 4,
  "vscode": {
   "interpreter": {
    "hash": "020a6b5c0ed803a704c00010560cf50a059d086f11791eecdae2eedc39704b9e"
   }
  }
 },
 "nbformat": 4,
 "nbformat_minor": 2
}
