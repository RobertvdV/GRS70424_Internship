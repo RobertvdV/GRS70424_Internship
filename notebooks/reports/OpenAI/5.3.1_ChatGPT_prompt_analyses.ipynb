{
 "cells": [
  {
   "cell_type": "code",
   "execution_count": 1,
   "metadata": {},
   "outputs": [],
   "source": [
    "import numpy as np\n",
    "import pandas as pd\n",
    "import glob\n",
    "import re\n",
    "from tqdm import tqdm\n",
    "import os.path\n",
    "import collections\n",
    "from collections import defaultdict\n",
    "from sklearn.metrics import roc_curve, auc, precision_recall_curve\n",
    "import matplotlib.pyplot as plt\n",
    "import seaborn as sns\n",
    "import plotly.graph_objs as go\n",
    "import plotly.express as px\n"
   ]
  },
  {
   "cell_type": "code",
   "execution_count": 2,
   "metadata": {},
   "outputs": [],
   "source": [
    "\n",
    "folder_prompt_ = \"../../../data/OpenAI/PromptsAnalysesData/\"\n",
    "\n",
    "file = \"caribbean_df_orig_GT.csv\"\n",
    "df_caribbean_GT = pd.read_csv(F\"{folder_prompt_}{file}\", header=[0, 1], index_col=0)\\\n",
    "    .rename_axis('Species', axis='index')\n",
    "\n",
    "file = \"caribbean_df_orig_ChatGPT.csv\"\n",
    "df_caribbean_ChatGPT = pd.read_csv(F\"{folder_prompt_}{file}\", header=[0, 1], index_col=0)\\\n",
    "    .rename_axis('Species', axis='index')"
   ]
  },
  {
   "cell_type": "code",
   "execution_count": 3,
   "metadata": {},
   "outputs": [],
   "source": [
    "# df_caribbean_GT = df_caribbean_GT.droplevel(0, axis=1) \n",
    "# df_caribbean_ChatGPT = df_caribbean_ChatGPT.droplevel(0, axis=1) \n",
    "\n",
    "# df_caribbean_GT.columns = df_caribbean_GT.columns.get_level_values(0)\n",
    "# df_caribbean_ChatGPT.columns = df_caribbean_ChatGPT.columns.get_level_values(0)\n",
    "\n",
    "# df_caribbean_GT.columns = [' '.join(col) for col in df_caribbean_GT.columns.values]\n",
    "# df_caribbean_ChatGPT.columns = [' '.join(col) for col in df_caribbean_ChatGPT.columns.values]"
   ]
  },
  {
   "cell_type": "code",
   "execution_count": 4,
   "metadata": {},
   "outputs": [],
   "source": [
    "# df_caribbean_ChatGPT.compare(df_caribbean_GT)\n",
    "# df_caribbean_ChatGPT.compare(df_caribbean_GT,\n",
    "#                         # keep_shape=True,\n",
    "#                         keep_equal=False,\n",
    "#                         )\n",
    "\n",
    "df = df_caribbean_GT.subtract(df_caribbean_ChatGPT)\n",
    "df = df.fillna(\"Fail\")\n",
    "df = df.applymap(lambda x: 'Correct' if isinstance(x, (int, float)) and x == 0 else x)\n",
    "df = df.applymap(lambda x: 'Incorrect' if isinstance(x, (int, float)) and x == -1 else x)\n",
    "df = df.applymap(lambda x: 'Incorrect' if isinstance(x, (int, float)) and x == 1 else x)"
   ]
  },
  {
   "cell_type": "code",
   "execution_count": 5,
   "metadata": {},
   "outputs": [
    {
     "data": {
      "text/html": [
       "<div>\n",
       "<style scoped>\n",
       "    .dataframe tbody tr th:only-of-type {\n",
       "        vertical-align: middle;\n",
       "    }\n",
       "\n",
       "    .dataframe tbody tr th {\n",
       "        vertical-align: top;\n",
       "    }\n",
       "\n",
       "    .dataframe thead tr th {\n",
       "        text-align: left;\n",
       "    }\n",
       "\n",
       "    .dataframe thead tr:last-of-type th {\n",
       "        text-align: right;\n",
       "    }\n",
       "</style>\n",
       "<table border=\"1\" class=\"dataframe\">\n",
       "  <thead>\n",
       "    <tr>\n",
       "      <th></th>\n",
       "      <th colspan=\"2\" halign=\"left\">Life form</th>\n",
       "      <th colspan=\"5\" halign=\"left\">Leaf position</th>\n",
       "      <th colspan=\"3\" halign=\"left\">Leaf composition</th>\n",
       "      <th>...</th>\n",
       "      <th colspan=\"4\" halign=\"left\">Aril colour</th>\n",
       "      <th colspan=\"6\" halign=\"left\">Seed colour</th>\n",
       "    </tr>\n",
       "    <tr>\n",
       "      <th></th>\n",
       "      <th>liana</th>\n",
       "      <th>tree</th>\n",
       "      <th>alternate</th>\n",
       "      <th>alternate, opposite</th>\n",
       "      <th>opposite</th>\n",
       "      <th>opposite, whorls of 3</th>\n",
       "      <th>opposite, whorls of 3, alternate</th>\n",
       "      <th>3 palmate</th>\n",
       "      <th>3-5 palmate</th>\n",
       "      <th>3-5 pinnate</th>\n",
       "      <th>...</th>\n",
       "      <th>orange</th>\n",
       "      <th>red</th>\n",
       "      <th>white</th>\n",
       "      <th>yellow-geen</th>\n",
       "      <th>black</th>\n",
       "      <th>brown</th>\n",
       "      <th>green</th>\n",
       "      <th>grey</th>\n",
       "      <th>white</th>\n",
       "      <th>whitish</th>\n",
       "    </tr>\n",
       "    <tr>\n",
       "      <th>Species</th>\n",
       "      <th></th>\n",
       "      <th></th>\n",
       "      <th></th>\n",
       "      <th></th>\n",
       "      <th></th>\n",
       "      <th></th>\n",
       "      <th></th>\n",
       "      <th></th>\n",
       "      <th></th>\n",
       "      <th></th>\n",
       "      <th></th>\n",
       "      <th></th>\n",
       "      <th></th>\n",
       "      <th></th>\n",
       "      <th></th>\n",
       "      <th></th>\n",
       "      <th></th>\n",
       "      <th></th>\n",
       "      <th></th>\n",
       "      <th></th>\n",
       "      <th></th>\n",
       "    </tr>\n",
       "  </thead>\n",
       "  <tbody>\n",
       "    <tr>\n",
       "      <th>Bursera karsteniana</th>\n",
       "      <td>Correct</td>\n",
       "      <td>Correct</td>\n",
       "      <td>Fail</td>\n",
       "      <td>Fail</td>\n",
       "      <td>Fail</td>\n",
       "      <td>Fail</td>\n",
       "      <td>Fail</td>\n",
       "      <td>Fail</td>\n",
       "      <td>Fail</td>\n",
       "      <td>Fail</td>\n",
       "      <td>...</td>\n",
       "      <td>Fail</td>\n",
       "      <td>Fail</td>\n",
       "      <td>Fail</td>\n",
       "      <td>Fail</td>\n",
       "      <td>Fail</td>\n",
       "      <td>Fail</td>\n",
       "      <td>Fail</td>\n",
       "      <td>Fail</td>\n",
       "      <td>Fail</td>\n",
       "      <td>Fail</td>\n",
       "    </tr>\n",
       "    <tr>\n",
       "      <th>Metopium brownei</th>\n",
       "      <td>Correct</td>\n",
       "      <td>Incorrect</td>\n",
       "      <td>Fail</td>\n",
       "      <td>Fail</td>\n",
       "      <td>Fail</td>\n",
       "      <td>Fail</td>\n",
       "      <td>Fail</td>\n",
       "      <td>Fail</td>\n",
       "      <td>Fail</td>\n",
       "      <td>Fail</td>\n",
       "      <td>...</td>\n",
       "      <td>Fail</td>\n",
       "      <td>Fail</td>\n",
       "      <td>Fail</td>\n",
       "      <td>Fail</td>\n",
       "      <td>Correct</td>\n",
       "      <td>Incorrect</td>\n",
       "      <td>Correct</td>\n",
       "      <td>Correct</td>\n",
       "      <td>Correct</td>\n",
       "      <td>Correct</td>\n",
       "    </tr>\n",
       "    <tr>\n",
       "      <th>Handroanthus billbergii</th>\n",
       "      <td>Correct</td>\n",
       "      <td>Correct</td>\n",
       "      <td>Fail</td>\n",
       "      <td>Fail</td>\n",
       "      <td>Fail</td>\n",
       "      <td>Fail</td>\n",
       "      <td>Fail</td>\n",
       "      <td>Correct</td>\n",
       "      <td>Correct</td>\n",
       "      <td>Incorrect</td>\n",
       "      <td>...</td>\n",
       "      <td>Fail</td>\n",
       "      <td>Fail</td>\n",
       "      <td>Fail</td>\n",
       "      <td>Fail</td>\n",
       "      <td>Fail</td>\n",
       "      <td>Fail</td>\n",
       "      <td>Fail</td>\n",
       "      <td>Fail</td>\n",
       "      <td>Fail</td>\n",
       "      <td>Fail</td>\n",
       "    </tr>\n",
       "    <tr>\n",
       "      <th>Avicennia germinans</th>\n",
       "      <td>Correct</td>\n",
       "      <td>Correct</td>\n",
       "      <td>Fail</td>\n",
       "      <td>Fail</td>\n",
       "      <td>Fail</td>\n",
       "      <td>Fail</td>\n",
       "      <td>Fail</td>\n",
       "      <td>Correct</td>\n",
       "      <td>Correct</td>\n",
       "      <td>Correct</td>\n",
       "      <td>...</td>\n",
       "      <td>Fail</td>\n",
       "      <td>Fail</td>\n",
       "      <td>Fail</td>\n",
       "      <td>Fail</td>\n",
       "      <td>Incorrect</td>\n",
       "      <td>Incorrect</td>\n",
       "      <td>Incorrect</td>\n",
       "      <td>Correct</td>\n",
       "      <td>Incorrect</td>\n",
       "      <td>Incorrect</td>\n",
       "    </tr>\n",
       "    <tr>\n",
       "      <th>Bourreria succulenta</th>\n",
       "      <td>Correct</td>\n",
       "      <td>Correct</td>\n",
       "      <td>Incorrect</td>\n",
       "      <td>Correct</td>\n",
       "      <td>Correct</td>\n",
       "      <td>Correct</td>\n",
       "      <td>Correct</td>\n",
       "      <td>Fail</td>\n",
       "      <td>Fail</td>\n",
       "      <td>Fail</td>\n",
       "      <td>...</td>\n",
       "      <td>Fail</td>\n",
       "      <td>Fail</td>\n",
       "      <td>Fail</td>\n",
       "      <td>Fail</td>\n",
       "      <td>Fail</td>\n",
       "      <td>Fail</td>\n",
       "      <td>Fail</td>\n",
       "      <td>Fail</td>\n",
       "      <td>Fail</td>\n",
       "      <td>Fail</td>\n",
       "    </tr>\n",
       "  </tbody>\n",
       "</table>\n",
       "<p>5 rows × 202 columns</p>\n",
       "</div>"
      ],
      "text/plain": [
       "                        Life form            Leaf position  \\\n",
       "                            liana       tree     alternate   \n",
       "Species                                                      \n",
       "Bursera karsteniana       Correct    Correct          Fail   \n",
       "Metopium brownei          Correct  Incorrect          Fail   \n",
       "Handroanthus billbergii   Correct    Correct          Fail   \n",
       "Avicennia germinans       Correct    Correct          Fail   \n",
       "Bourreria succulenta      Correct    Correct     Incorrect   \n",
       "\n",
       "                                                                            \\\n",
       "                        alternate, opposite opposite opposite, whorls of 3   \n",
       "Species                                                                      \n",
       "Bursera karsteniana                    Fail     Fail                  Fail   \n",
       "Metopium brownei                       Fail     Fail                  Fail   \n",
       "Handroanthus billbergii                Fail     Fail                  Fail   \n",
       "Avicennia germinans                    Fail     Fail                  Fail   \n",
       "Bourreria succulenta                Correct  Correct               Correct   \n",
       "\n",
       "                                                         Leaf composition  \\\n",
       "                        opposite, whorls of 3, alternate        3 palmate   \n",
       "Species                                                                     \n",
       "Bursera karsteniana                                 Fail             Fail   \n",
       "Metopium brownei                                    Fail             Fail   \n",
       "Handroanthus billbergii                             Fail          Correct   \n",
       "Avicennia germinans                                 Fail          Correct   \n",
       "Bourreria succulenta                             Correct             Fail   \n",
       "\n",
       "                                                 ... Aril colour              \\\n",
       "                        3-5 palmate 3-5 pinnate  ...      orange   red white   \n",
       "Species                                          ...                           \n",
       "Bursera karsteniana            Fail        Fail  ...        Fail  Fail  Fail   \n",
       "Metopium brownei               Fail        Fail  ...        Fail  Fail  Fail   \n",
       "Handroanthus billbergii     Correct   Incorrect  ...        Fail  Fail  Fail   \n",
       "Avicennia germinans         Correct     Correct  ...        Fail  Fail  Fail   \n",
       "Bourreria succulenta           Fail        Fail  ...        Fail  Fail  Fail   \n",
       "\n",
       "                                    Seed colour                        \\\n",
       "                        yellow-geen       black      brown      green   \n",
       "Species                                                                 \n",
       "Bursera karsteniana            Fail        Fail       Fail       Fail   \n",
       "Metopium brownei               Fail     Correct  Incorrect    Correct   \n",
       "Handroanthus billbergii        Fail        Fail       Fail       Fail   \n",
       "Avicennia germinans            Fail   Incorrect  Incorrect  Incorrect   \n",
       "Bourreria succulenta           Fail        Fail       Fail       Fail   \n",
       "\n",
       "                                                        \n",
       "                            grey      white    whitish  \n",
       "Species                                                 \n",
       "Bursera karsteniana         Fail       Fail       Fail  \n",
       "Metopium brownei         Correct    Correct    Correct  \n",
       "Handroanthus billbergii     Fail       Fail       Fail  \n",
       "Avicennia germinans      Correct  Incorrect  Incorrect  \n",
       "Bourreria succulenta        Fail       Fail       Fail  \n",
       "\n",
       "[5 rows x 202 columns]"
      ]
     },
     "execution_count": 5,
     "metadata": {},
     "output_type": "execute_result"
    }
   ],
   "source": [
    "df"
   ]
  },
  {
   "attachments": {},
   "cell_type": "markdown",
   "metadata": {},
   "source": [
    "### Plotting"
   ]
  },
  {
   "cell_type": "code",
   "execution_count": 6,
   "metadata": {},
   "outputs": [],
   "source": [
    "group_labels = [trait for (trait, _) in df.columns]\n",
    "sub_labels = [sublabel.capitalize() for (_, sublabel) in df.columns]\n",
    "number_labels = [number for number, (_, _) in enumerate(df.columns)]\n",
    "\n",
    "correct_lst = []\n",
    "incorrect_lst = []\n",
    "fail_lst = []\n",
    "for column in df.columns:\n",
    "\n",
    "    # Correct\n",
    "    value = df[column].str.count(\"Correct\").sum() # Cannot sum directly\n",
    "    correct_lst.append(value)\n",
    "\n",
    "        # Correct\n",
    "    value = df[column].str.count(\"Incorrect\").sum() # Cannot sum directly\n",
    "    incorrect_lst.append(value)\n",
    "\n",
    "        # Correct\n",
    "    value = df[column].str.count(\"Fail\").sum() # Cannot sum directly\n",
    "    fail_lst.append(value)\n",
    "\n",
    "total = len(df_caribbean_ChatGPT.index)\n",
    "\n",
    "correct_lst = np.array(correct_lst)\n",
    "incorrect_lst = np.array(incorrect_lst)\n",
    "fail_lst = np.array(fail_lst)\n",
    "\n",
    "correct_lst = correct_lst / total * 100\n",
    "incorrect_lst = incorrect_lst / total * 100\n",
    "fail_lst = fail_lst / total * 100\n",
    "\n"
   ]
  },
  {
   "cell_type": "code",
   "execution_count": 7,
   "metadata": {},
   "outputs": [
    {
     "data": {
      "application/vnd.plotly.v1+json": {
       "config": {
        "plotlyServerURL": "https://plot.ly"
       },
       "data": [
        {
         "constraintext": "outside",
         "hovertext": [
          "Liana",
          "Tree",
          "Alternate",
          "Alternate, opposite",
          "Opposite",
          "Opposite, whorls of 3",
          "Opposite, whorls of 3, alternate",
          "3 palmate",
          "3-5 palmate",
          "3-5 pinnate",
          "3-5 pinnate, entire",
          "5-11 pinnate",
          "5-9 pinnate",
          "Bi-pinnate, 2 leaflets per jug",
          "Bi-pinnate, 20-40 leaflets per jug",
          "Bi-pinnate, 30-32 leaflets per jug",
          "Entire",
          "Pinnate, 4-6 leaflets",
          "Pinnate, 6-8 leaflets",
          "Elliptic",
          "Elliptic, elongate",
          "Elliptic, lanceolate",
          "Elliptic, obovate",
          "Elliptic, ovate",
          "Elliptic, ovate, round",
          "Elongate",
          "Elongate, elliptic, obovate",
          "Elongate, obovate",
          "Kidney-shaped, circular",
          "Lanceolate, elliptic",
          "Linear",
          "Linear, obovate",
          "Obovate",
          "Obovate, elliptic",
          "Obovate, spathulate",
          "Ovate",
          "Ovate, circular",
          "Ovate, elliptic",
          "Ovate, elliptic, elongate",
          "Ovate, heart-shaped",
          "Spathulate, obovate",
          "Crenate",
          "Entire",
          "Entire, crenate",
          "Entire, serrate",
          "Serrate",
          "Glabrous",
          "Glabrous, pubescent",
          "Pubescent",
          "Pubescent, glabrous",
          "Salt crystals",
          "Scales, glabrous",
          "Shiny, glabrous",
          "Woolly, later glabrous",
          "Glabrous",
          "Glabrous, pubescent",
          "Powdery",
          "Pubescent",
          "Scales",
          "Woolly, later glabrous",
          "Absent",
          "Gland on the end of petiole",
          "Glands near basis and central vein",
          "Glands near basis and leaf margin",
          "Translucent oil cells",
          "Translucent points and lines",
          "Not winged",
          "Winged",
          "1-2 per leaf axil",
          "2 per leaf axil",
          "Absent",
          "Branch thorns",
          "Thorns on stem",
          "Absent",
          "Connected",
          "Present",
          "1-3 sessile",
          "1-5 sessile",
          "Dichasium",
          "Fascicle",
          "Globose",
          "Globose in panicle",
          "Panicle",
          "Raceme",
          "Solitary, fascicle",
          "Spike",
          "Umbel",
          "Connate",
          "Free",
          "2-3",
          "3-5",
          "4",
          "4-5",
          "4-6",
          "5",
          "5-6",
          "6-8",
          "6-9",
          "Absent",
          "Free",
          "Tepals",
          "Tubular",
          "0",
          "3-5",
          "4",
          "4-5",
          "4-6",
          "5",
          "5, 0",
          "5-6",
          "6-8",
          "Blue",
          "Green",
          "Green, red",
          "Green-white, yellow-white",
          "Greenish white",
          "Red",
          "White",
          "White, pink",
          "White, pink, purple",
          "White, whitish",
          "White, yellow-white",
          "Whitish",
          "Yellow",
          "Yellow, orange",
          "Yellow, yellow-green",
          "Yellow-green",
          "Yellow-green, green",
          "Longer than corolla",
          "Much longer than corolla",
          "Multiple rows",
          "Short",
          "Shorter than corolla",
          "Shorter than corolla, connected",
          "10",
          "15-25",
          "16",
          "2",
          "20",
          "20-28",
          "4",
          "5",
          "5-6",
          "6-10",
          "6-9",
          "8",
          "Many",
          "Berry",
          "Capsule",
          "Drupe",
          "Fleshy drupe",
          "Follicle",
          "Nutlet",
          "Pod",
          "2-locular, flattened, globose",
          "3-5-locular, globose",
          "Elongate",
          "Elongate, constricted between seeds",
          "Elongate, slightly constricted between seeds",
          "Elongate, strongly constricted between seeds",
          "Flattened obovoid",
          "Flattened ovate",
          "Flattened, elongate, twisted",
          "Flattened, thick, elongate, strongly curved",
          "Globose",
          "Globose, 3-angulated",
          "Linear",
          "Not flattened, elongate, slightly curved",
          "Ovoid",
          "Pyriform, ovoid",
          "Slightly flattened, elongate, curved",
          "Black",
          "Brown",
          "Brown-black",
          "Green",
          "Green, black, whitish",
          "Green, orange",
          "Green, orange, red",
          "Green, red",
          "Green, yellow",
          "Greyish",
          "Orange",
          "Orange, yellow, red",
          "Purple, black",
          "Red",
          "Red, black",
          "Red, purple-brown",
          "Reddish purple",
          "Whitish green",
          "Yellow, orange",
          "Yellowish",
          "Na?",
          "Orange",
          "Red",
          "White",
          "Yellow-geen",
          "Black",
          "Brown",
          "Green",
          "Grey",
          "White",
          "Whitish"
         ],
         "marker": {
          "color": "green"
         },
         "name": "Correct",
         "textposition": "auto",
         "type": "bar",
         "x": [
          [
           "Life form",
           "Life form",
           "Leaf position",
           "Leaf position",
           "Leaf position",
           "Leaf position",
           "Leaf position",
           "Leaf composition",
           "Leaf composition",
           "Leaf composition",
           "Leaf composition",
           "Leaf composition",
           "Leaf composition",
           "Leaf composition",
           "Leaf composition",
           "Leaf composition",
           "Leaf composition",
           "Leaf composition",
           "Leaf composition",
           "Leaf shape",
           "Leaf shape",
           "Leaf shape",
           "Leaf shape",
           "Leaf shape",
           "Leaf shape",
           "Leaf shape",
           "Leaf shape",
           "Leaf shape",
           "Leaf shape",
           "Leaf shape",
           "Leaf shape",
           "Leaf shape",
           "Leaf shape",
           "Leaf shape",
           "Leaf shape",
           "Leaf shape",
           "Leaf shape",
           "Leaf shape",
           "Leaf shape",
           "Leaf shape",
           "Leaf shape",
           "Leaf margin",
           "Leaf margin",
           "Leaf margin",
           "Leaf margin",
           "Leaf margin",
           "Leaf upper side",
           "Leaf upper side",
           "Leaf upper side",
           "Leaf upper side",
           "Leaf upper side",
           "Leaf upper side",
           "Leaf upper side",
           "Leaf upper side",
           "Leaf lower side",
           "Leaf lower side",
           "Leaf lower side",
           "Leaf lower side",
           "Leaf lower side",
           "Leaf lower side",
           "Leaf glands",
           "Leaf glands",
           "Leaf glands",
           "Leaf glands",
           "Leaf glands",
           "Leaf glands",
           "Leaf rachis",
           "Leaf rachis",
           "Thorns spines",
           "Thorns spines",
           "Thorns spines",
           "Thorns spines",
           "Thorns spines",
           "Stipules",
           "Stipules",
           "Stipules",
           "Inflorescence type",
           "Inflorescence type",
           "Inflorescence type",
           "Inflorescence type",
           "Inflorescence type",
           "Inflorescence type",
           "Inflorescence type",
           "Inflorescence type",
           "Inflorescence type",
           "Inflorescence type",
           "Inflorescence type",
           "Sepals calyx shape",
           "Sepals calyx shape",
           "Sepals calyx numer",
           "Sepals calyx numer",
           "Sepals calyx numer",
           "Sepals calyx numer",
           "Sepals calyx numer",
           "Sepals calyx numer",
           "Sepals calyx numer",
           "Sepals calyx numer",
           "Sepals calyx numer",
           "Petals corolla shape",
           "Petals corolla shape",
           "Petals corolla shape",
           "Petals corolla shape",
           "Petals corolla number",
           "Petals corolla number",
           "Petals corolla number",
           "Petals corolla number",
           "Petals corolla number",
           "Petals corolla number",
           "Petals corolla number",
           "Petals corolla number",
           "Petals corolla number",
           "Petals corolla colour",
           "Petals corolla colour",
           "Petals corolla colour",
           "Petals corolla colour",
           "Petals corolla colour",
           "Petals corolla colour",
           "Petals corolla colour",
           "Petals corolla colour",
           "Petals corolla colour",
           "Petals corolla colour",
           "Petals corolla colour",
           "Petals corolla colour",
           "Petals corolla colour",
           "Petals corolla colour",
           "Petals corolla colour",
           "Petals corolla colour",
           "Petals corolla colour",
           "Stamen shape",
           "Stamen shape",
           "Stamen shape",
           "Stamen shape",
           "Stamen shape",
           "Stamen shape",
           "Stamen number",
           "Stamen number",
           "Stamen number",
           "Stamen number",
           "Stamen number",
           "Stamen number",
           "Stamen number",
           "Stamen number",
           "Stamen number",
           "Stamen number",
           "Stamen number",
           "Stamen number",
           "Stamen number",
           "Fruit type",
           "Fruit type",
           "Fruit type",
           "Fruit type",
           "Fruit type",
           "Fruit type",
           "Fruit type",
           "Fruit shape",
           "Fruit shape",
           "Fruit shape",
           "Fruit shape",
           "Fruit shape",
           "Fruit shape",
           "Fruit shape",
           "Fruit shape",
           "Fruit shape",
           "Fruit shape",
           "Fruit shape",
           "Fruit shape",
           "Fruit shape",
           "Fruit shape",
           "Fruit shape",
           "Fruit shape",
           "Fruit shape",
           "Fruit colour",
           "Fruit colour",
           "Fruit colour",
           "Fruit colour",
           "Fruit colour",
           "Fruit colour",
           "Fruit colour",
           "Fruit colour",
           "Fruit colour",
           "Fruit colour",
           "Fruit colour",
           "Fruit colour",
           "Fruit colour",
           "Fruit colour",
           "Fruit colour",
           "Fruit colour",
           "Fruit colour",
           "Fruit colour",
           "Fruit colour",
           "Fruit colour",
           "Aril colour",
           "Aril colour",
           "Aril colour",
           "Aril colour",
           "Aril colour",
           "Seed colour",
           "Seed colour",
           "Seed colour",
           "Seed colour",
           "Seed colour",
           "Seed colour"
          ],
          [
           0,
           1,
           2,
           3,
           4,
           5,
           6,
           7,
           8,
           9,
           10,
           11,
           12,
           13,
           14,
           15,
           16,
           17,
           18,
           19,
           20,
           21,
           22,
           23,
           24,
           25,
           26,
           27,
           28,
           29,
           30,
           31,
           32,
           33,
           34,
           35,
           36,
           37,
           38,
           39,
           40,
           41,
           42,
           43,
           44,
           45,
           46,
           47,
           48,
           49,
           50,
           51,
           52,
           53,
           54,
           55,
           56,
           57,
           58,
           59,
           60,
           61,
           62,
           63,
           64,
           65,
           66,
           67,
           68,
           69,
           70,
           71,
           72,
           73,
           74,
           75,
           76,
           77,
           78,
           79,
           80,
           81,
           82,
           83,
           84,
           85,
           86,
           87,
           88,
           89,
           90,
           91,
           92,
           93,
           94,
           95,
           96,
           97,
           98,
           99,
           100,
           101,
           102,
           103,
           104,
           105,
           106,
           107,
           108,
           109,
           110,
           111,
           112,
           113,
           114,
           115,
           116,
           117,
           118,
           119,
           120,
           121,
           122,
           123,
           124,
           125,
           126,
           127,
           128,
           129,
           130,
           131,
           132,
           133,
           134,
           135,
           136,
           137,
           138,
           139,
           140,
           141,
           142,
           143,
           144,
           145,
           146,
           147,
           148,
           149,
           150,
           151,
           152,
           153,
           154,
           155,
           156,
           157,
           158,
           159,
           160,
           161,
           162,
           163,
           164,
           165,
           166,
           167,
           168,
           169,
           170,
           171,
           172,
           173,
           174,
           175,
           176,
           177,
           178,
           179,
           180,
           181,
           182,
           183,
           184,
           185,
           186,
           187,
           188,
           189,
           190,
           191,
           192,
           193,
           194,
           195,
           196,
           197,
           198,
           199,
           200,
           201
          ]
         ],
         "y": [
          100,
          80,
          0,
          20,
          20,
          20,
          20,
          40,
          40,
          20,
          40,
          40,
          20,
          40,
          40,
          40,
          20,
          40,
          40,
          20,
          20,
          20,
          20,
          20,
          40,
          20,
          20,
          20,
          40,
          40,
          20,
          20,
          20,
          0,
          20,
          20,
          20,
          20,
          20,
          40,
          40,
          40,
          40,
          40,
          40,
          40,
          20,
          0,
          20,
          20,
          20,
          20,
          20,
          20,
          20,
          20,
          20,
          20,
          20,
          20,
          20,
          20,
          0,
          20,
          20,
          20,
          20,
          20,
          20,
          20,
          20,
          20,
          20,
          20,
          20,
          20,
          40,
          40,
          40,
          40,
          40,
          40,
          20,
          20,
          40,
          40,
          40,
          20,
          20,
          60,
          40,
          60,
          60,
          60,
          20,
          60,
          60,
          60,
          40,
          20,
          40,
          40,
          60,
          60,
          20,
          60,
          60,
          60,
          60,
          60,
          60,
          60,
          60,
          60,
          60,
          60,
          60,
          60,
          40,
          60,
          60,
          60,
          60,
          40,
          60,
          60,
          60,
          60,
          20,
          20,
          20,
          20,
          20,
          20,
          0,
          0,
          0,
          0,
          0,
          0,
          0,
          0,
          0,
          0,
          0,
          0,
          0,
          60,
          60,
          60,
          60,
          60,
          60,
          60,
          0,
          20,
          20,
          20,
          20,
          20,
          20,
          0,
          20,
          20,
          0,
          20,
          20,
          20,
          0,
          0,
          20,
          40,
          40,
          40,
          20,
          40,
          20,
          20,
          20,
          40,
          40,
          0,
          0,
          40,
          0,
          20,
          40,
          40,
          20,
          20,
          40,
          0,
          0,
          0,
          0,
          0,
          20,
          0,
          20,
          40,
          20,
          20
         ]
        },
        {
         "constraintext": "outside",
         "hovertext": [
          "Liana",
          "Tree",
          "Alternate",
          "Alternate, opposite",
          "Opposite",
          "Opposite, whorls of 3",
          "Opposite, whorls of 3, alternate",
          "3 palmate",
          "3-5 palmate",
          "3-5 pinnate",
          "3-5 pinnate, entire",
          "5-11 pinnate",
          "5-9 pinnate",
          "Bi-pinnate, 2 leaflets per jug",
          "Bi-pinnate, 20-40 leaflets per jug",
          "Bi-pinnate, 30-32 leaflets per jug",
          "Entire",
          "Pinnate, 4-6 leaflets",
          "Pinnate, 6-8 leaflets",
          "Elliptic",
          "Elliptic, elongate",
          "Elliptic, lanceolate",
          "Elliptic, obovate",
          "Elliptic, ovate",
          "Elliptic, ovate, round",
          "Elongate",
          "Elongate, elliptic, obovate",
          "Elongate, obovate",
          "Kidney-shaped, circular",
          "Lanceolate, elliptic",
          "Linear",
          "Linear, obovate",
          "Obovate",
          "Obovate, elliptic",
          "Obovate, spathulate",
          "Ovate",
          "Ovate, circular",
          "Ovate, elliptic",
          "Ovate, elliptic, elongate",
          "Ovate, heart-shaped",
          "Spathulate, obovate",
          "Crenate",
          "Entire",
          "Entire, crenate",
          "Entire, serrate",
          "Serrate",
          "Glabrous",
          "Glabrous, pubescent",
          "Pubescent",
          "Pubescent, glabrous",
          "Salt crystals",
          "Scales, glabrous",
          "Shiny, glabrous",
          "Woolly, later glabrous",
          "Glabrous",
          "Glabrous, pubescent",
          "Powdery",
          "Pubescent",
          "Scales",
          "Woolly, later glabrous",
          "Absent",
          "Gland on the end of petiole",
          "Glands near basis and central vein",
          "Glands near basis and leaf margin",
          "Translucent oil cells",
          "Translucent points and lines",
          "Not winged",
          "Winged",
          "1-2 per leaf axil",
          "2 per leaf axil",
          "Absent",
          "Branch thorns",
          "Thorns on stem",
          "Absent",
          "Connected",
          "Present",
          "1-3 sessile",
          "1-5 sessile",
          "Dichasium",
          "Fascicle",
          "Globose",
          "Globose in panicle",
          "Panicle",
          "Raceme",
          "Solitary, fascicle",
          "Spike",
          "Umbel",
          "Connate",
          "Free",
          "2-3",
          "3-5",
          "4",
          "4-5",
          "4-6",
          "5",
          "5-6",
          "6-8",
          "6-9",
          "Absent",
          "Free",
          "Tepals",
          "Tubular",
          "0",
          "3-5",
          "4",
          "4-5",
          "4-6",
          "5",
          "5, 0",
          "5-6",
          "6-8",
          "Blue",
          "Green",
          "Green, red",
          "Green-white, yellow-white",
          "Greenish white",
          "Red",
          "White",
          "White, pink",
          "White, pink, purple",
          "White, whitish",
          "White, yellow-white",
          "Whitish",
          "Yellow",
          "Yellow, orange",
          "Yellow, yellow-green",
          "Yellow-green",
          "Yellow-green, green",
          "Longer than corolla",
          "Much longer than corolla",
          "Multiple rows",
          "Short",
          "Shorter than corolla",
          "Shorter than corolla, connected",
          "10",
          "15-25",
          "16",
          "2",
          "20",
          "20-28",
          "4",
          "5",
          "5-6",
          "6-10",
          "6-9",
          "8",
          "Many",
          "Berry",
          "Capsule",
          "Drupe",
          "Fleshy drupe",
          "Follicle",
          "Nutlet",
          "Pod",
          "2-locular, flattened, globose",
          "3-5-locular, globose",
          "Elongate",
          "Elongate, constricted between seeds",
          "Elongate, slightly constricted between seeds",
          "Elongate, strongly constricted between seeds",
          "Flattened obovoid",
          "Flattened ovate",
          "Flattened, elongate, twisted",
          "Flattened, thick, elongate, strongly curved",
          "Globose",
          "Globose, 3-angulated",
          "Linear",
          "Not flattened, elongate, slightly curved",
          "Ovoid",
          "Pyriform, ovoid",
          "Slightly flattened, elongate, curved",
          "Black",
          "Brown",
          "Brown-black",
          "Green",
          "Green, black, whitish",
          "Green, orange",
          "Green, orange, red",
          "Green, red",
          "Green, yellow",
          "Greyish",
          "Orange",
          "Orange, yellow, red",
          "Purple, black",
          "Red",
          "Red, black",
          "Red, purple-brown",
          "Reddish purple",
          "Whitish green",
          "Yellow, orange",
          "Yellowish",
          "Na?",
          "Orange",
          "Red",
          "White",
          "Yellow-geen",
          "Black",
          "Brown",
          "Green",
          "Grey",
          "White",
          "Whitish"
         ],
         "marker": {
          "color": "red"
         },
         "name": "Incorrect",
         "textposition": "auto",
         "type": "bar",
         "x": [
          [
           "Life form",
           "Life form",
           "Leaf position",
           "Leaf position",
           "Leaf position",
           "Leaf position",
           "Leaf position",
           "Leaf composition",
           "Leaf composition",
           "Leaf composition",
           "Leaf composition",
           "Leaf composition",
           "Leaf composition",
           "Leaf composition",
           "Leaf composition",
           "Leaf composition",
           "Leaf composition",
           "Leaf composition",
           "Leaf composition",
           "Leaf shape",
           "Leaf shape",
           "Leaf shape",
           "Leaf shape",
           "Leaf shape",
           "Leaf shape",
           "Leaf shape",
           "Leaf shape",
           "Leaf shape",
           "Leaf shape",
           "Leaf shape",
           "Leaf shape",
           "Leaf shape",
           "Leaf shape",
           "Leaf shape",
           "Leaf shape",
           "Leaf shape",
           "Leaf shape",
           "Leaf shape",
           "Leaf shape",
           "Leaf shape",
           "Leaf shape",
           "Leaf margin",
           "Leaf margin",
           "Leaf margin",
           "Leaf margin",
           "Leaf margin",
           "Leaf upper side",
           "Leaf upper side",
           "Leaf upper side",
           "Leaf upper side",
           "Leaf upper side",
           "Leaf upper side",
           "Leaf upper side",
           "Leaf upper side",
           "Leaf lower side",
           "Leaf lower side",
           "Leaf lower side",
           "Leaf lower side",
           "Leaf lower side",
           "Leaf lower side",
           "Leaf glands",
           "Leaf glands",
           "Leaf glands",
           "Leaf glands",
           "Leaf glands",
           "Leaf glands",
           "Leaf rachis",
           "Leaf rachis",
           "Thorns spines",
           "Thorns spines",
           "Thorns spines",
           "Thorns spines",
           "Thorns spines",
           "Stipules",
           "Stipules",
           "Stipules",
           "Inflorescence type",
           "Inflorescence type",
           "Inflorescence type",
           "Inflorescence type",
           "Inflorescence type",
           "Inflorescence type",
           "Inflorescence type",
           "Inflorescence type",
           "Inflorescence type",
           "Inflorescence type",
           "Inflorescence type",
           "Sepals calyx shape",
           "Sepals calyx shape",
           "Sepals calyx numer",
           "Sepals calyx numer",
           "Sepals calyx numer",
           "Sepals calyx numer",
           "Sepals calyx numer",
           "Sepals calyx numer",
           "Sepals calyx numer",
           "Sepals calyx numer",
           "Sepals calyx numer",
           "Petals corolla shape",
           "Petals corolla shape",
           "Petals corolla shape",
           "Petals corolla shape",
           "Petals corolla number",
           "Petals corolla number",
           "Petals corolla number",
           "Petals corolla number",
           "Petals corolla number",
           "Petals corolla number",
           "Petals corolla number",
           "Petals corolla number",
           "Petals corolla number",
           "Petals corolla colour",
           "Petals corolla colour",
           "Petals corolla colour",
           "Petals corolla colour",
           "Petals corolla colour",
           "Petals corolla colour",
           "Petals corolla colour",
           "Petals corolla colour",
           "Petals corolla colour",
           "Petals corolla colour",
           "Petals corolla colour",
           "Petals corolla colour",
           "Petals corolla colour",
           "Petals corolla colour",
           "Petals corolla colour",
           "Petals corolla colour",
           "Petals corolla colour",
           "Stamen shape",
           "Stamen shape",
           "Stamen shape",
           "Stamen shape",
           "Stamen shape",
           "Stamen shape",
           "Stamen number",
           "Stamen number",
           "Stamen number",
           "Stamen number",
           "Stamen number",
           "Stamen number",
           "Stamen number",
           "Stamen number",
           "Stamen number",
           "Stamen number",
           "Stamen number",
           "Stamen number",
           "Stamen number",
           "Fruit type",
           "Fruit type",
           "Fruit type",
           "Fruit type",
           "Fruit type",
           "Fruit type",
           "Fruit type",
           "Fruit shape",
           "Fruit shape",
           "Fruit shape",
           "Fruit shape",
           "Fruit shape",
           "Fruit shape",
           "Fruit shape",
           "Fruit shape",
           "Fruit shape",
           "Fruit shape",
           "Fruit shape",
           "Fruit shape",
           "Fruit shape",
           "Fruit shape",
           "Fruit shape",
           "Fruit shape",
           "Fruit shape",
           "Fruit colour",
           "Fruit colour",
           "Fruit colour",
           "Fruit colour",
           "Fruit colour",
           "Fruit colour",
           "Fruit colour",
           "Fruit colour",
           "Fruit colour",
           "Fruit colour",
           "Fruit colour",
           "Fruit colour",
           "Fruit colour",
           "Fruit colour",
           "Fruit colour",
           "Fruit colour",
           "Fruit colour",
           "Fruit colour",
           "Fruit colour",
           "Fruit colour",
           "Aril colour",
           "Aril colour",
           "Aril colour",
           "Aril colour",
           "Aril colour",
           "Seed colour",
           "Seed colour",
           "Seed colour",
           "Seed colour",
           "Seed colour",
           "Seed colour"
          ],
          [
           0,
           1,
           2,
           3,
           4,
           5,
           6,
           7,
           8,
           9,
           10,
           11,
           12,
           13,
           14,
           15,
           16,
           17,
           18,
           19,
           20,
           21,
           22,
           23,
           24,
           25,
           26,
           27,
           28,
           29,
           30,
           31,
           32,
           33,
           34,
           35,
           36,
           37,
           38,
           39,
           40,
           41,
           42,
           43,
           44,
           45,
           46,
           47,
           48,
           49,
           50,
           51,
           52,
           53,
           54,
           55,
           56,
           57,
           58,
           59,
           60,
           61,
           62,
           63,
           64,
           65,
           66,
           67,
           68,
           69,
           70,
           71,
           72,
           73,
           74,
           75,
           76,
           77,
           78,
           79,
           80,
           81,
           82,
           83,
           84,
           85,
           86,
           87,
           88,
           89,
           90,
           91,
           92,
           93,
           94,
           95,
           96,
           97,
           98,
           99,
           100,
           101,
           102,
           103,
           104,
           105,
           106,
           107,
           108,
           109,
           110,
           111,
           112,
           113,
           114,
           115,
           116,
           117,
           118,
           119,
           120,
           121,
           122,
           123,
           124,
           125,
           126,
           127,
           128,
           129,
           130,
           131,
           132,
           133,
           134,
           135,
           136,
           137,
           138,
           139,
           140,
           141,
           142,
           143,
           144,
           145,
           146,
           147,
           148,
           149,
           150,
           151,
           152,
           153,
           154,
           155,
           156,
           157,
           158,
           159,
           160,
           161,
           162,
           163,
           164,
           165,
           166,
           167,
           168,
           169,
           170,
           171,
           172,
           173,
           174,
           175,
           176,
           177,
           178,
           179,
           180,
           181,
           182,
           183,
           184,
           185,
           186,
           187,
           188,
           189,
           190,
           191,
           192,
           193,
           194,
           195,
           196,
           197,
           198,
           199,
           200,
           201
          ]
         ],
         "y": [
          0,
          20,
          20,
          0,
          0,
          0,
          0,
          0,
          0,
          20,
          0,
          0,
          20,
          0,
          0,
          0,
          20,
          0,
          0,
          20,
          20,
          20,
          20,
          20,
          0,
          20,
          20,
          20,
          0,
          0,
          20,
          20,
          20,
          40,
          20,
          20,
          20,
          20,
          20,
          0,
          0,
          0,
          0,
          0,
          0,
          0,
          0,
          20,
          0,
          0,
          0,
          0,
          0,
          0,
          0,
          0,
          0,
          0,
          0,
          0,
          0,
          0,
          20,
          0,
          0,
          0,
          0,
          0,
          0,
          0,
          0,
          0,
          0,
          0,
          0,
          0,
          0,
          0,
          0,
          0,
          0,
          0,
          20,
          20,
          0,
          0,
          0,
          20,
          20,
          0,
          20,
          0,
          0,
          0,
          40,
          0,
          0,
          0,
          0,
          20,
          0,
          0,
          0,
          0,
          40,
          0,
          0,
          0,
          0,
          0,
          0,
          0,
          0,
          0,
          0,
          0,
          0,
          0,
          20,
          0,
          0,
          0,
          0,
          20,
          0,
          0,
          0,
          0,
          0,
          0,
          0,
          0,
          0,
          0,
          0,
          0,
          0,
          0,
          0,
          0,
          0,
          0,
          0,
          0,
          0,
          0,
          0,
          0,
          0,
          0,
          0,
          0,
          0,
          0,
          20,
          0,
          0,
          0,
          0,
          0,
          0,
          20,
          0,
          0,
          20,
          0,
          0,
          0,
          20,
          20,
          0,
          0,
          0,
          0,
          20,
          0,
          20,
          20,
          20,
          0,
          0,
          40,
          40,
          0,
          40,
          20,
          0,
          0,
          20,
          20,
          0,
          0,
          0,
          0,
          0,
          0,
          20,
          40,
          20,
          0,
          20,
          20
         ]
        },
        {
         "constraintext": "outside",
         "hovertext": [
          "Liana",
          "Tree",
          "Alternate",
          "Alternate, opposite",
          "Opposite",
          "Opposite, whorls of 3",
          "Opposite, whorls of 3, alternate",
          "3 palmate",
          "3-5 palmate",
          "3-5 pinnate",
          "3-5 pinnate, entire",
          "5-11 pinnate",
          "5-9 pinnate",
          "Bi-pinnate, 2 leaflets per jug",
          "Bi-pinnate, 20-40 leaflets per jug",
          "Bi-pinnate, 30-32 leaflets per jug",
          "Entire",
          "Pinnate, 4-6 leaflets",
          "Pinnate, 6-8 leaflets",
          "Elliptic",
          "Elliptic, elongate",
          "Elliptic, lanceolate",
          "Elliptic, obovate",
          "Elliptic, ovate",
          "Elliptic, ovate, round",
          "Elongate",
          "Elongate, elliptic, obovate",
          "Elongate, obovate",
          "Kidney-shaped, circular",
          "Lanceolate, elliptic",
          "Linear",
          "Linear, obovate",
          "Obovate",
          "Obovate, elliptic",
          "Obovate, spathulate",
          "Ovate",
          "Ovate, circular",
          "Ovate, elliptic",
          "Ovate, elliptic, elongate",
          "Ovate, heart-shaped",
          "Spathulate, obovate",
          "Crenate",
          "Entire",
          "Entire, crenate",
          "Entire, serrate",
          "Serrate",
          "Glabrous",
          "Glabrous, pubescent",
          "Pubescent",
          "Pubescent, glabrous",
          "Salt crystals",
          "Scales, glabrous",
          "Shiny, glabrous",
          "Woolly, later glabrous",
          "Glabrous",
          "Glabrous, pubescent",
          "Powdery",
          "Pubescent",
          "Scales",
          "Woolly, later glabrous",
          "Absent",
          "Gland on the end of petiole",
          "Glands near basis and central vein",
          "Glands near basis and leaf margin",
          "Translucent oil cells",
          "Translucent points and lines",
          "Not winged",
          "Winged",
          "1-2 per leaf axil",
          "2 per leaf axil",
          "Absent",
          "Branch thorns",
          "Thorns on stem",
          "Absent",
          "Connected",
          "Present",
          "1-3 sessile",
          "1-5 sessile",
          "Dichasium",
          "Fascicle",
          "Globose",
          "Globose in panicle",
          "Panicle",
          "Raceme",
          "Solitary, fascicle",
          "Spike",
          "Umbel",
          "Connate",
          "Free",
          "2-3",
          "3-5",
          "4",
          "4-5",
          "4-6",
          "5",
          "5-6",
          "6-8",
          "6-9",
          "Absent",
          "Free",
          "Tepals",
          "Tubular",
          "0",
          "3-5",
          "4",
          "4-5",
          "4-6",
          "5",
          "5, 0",
          "5-6",
          "6-8",
          "Blue",
          "Green",
          "Green, red",
          "Green-white, yellow-white",
          "Greenish white",
          "Red",
          "White",
          "White, pink",
          "White, pink, purple",
          "White, whitish",
          "White, yellow-white",
          "Whitish",
          "Yellow",
          "Yellow, orange",
          "Yellow, yellow-green",
          "Yellow-green",
          "Yellow-green, green",
          "Longer than corolla",
          "Much longer than corolla",
          "Multiple rows",
          "Short",
          "Shorter than corolla",
          "Shorter than corolla, connected",
          "10",
          "15-25",
          "16",
          "2",
          "20",
          "20-28",
          "4",
          "5",
          "5-6",
          "6-10",
          "6-9",
          "8",
          "Many",
          "Berry",
          "Capsule",
          "Drupe",
          "Fleshy drupe",
          "Follicle",
          "Nutlet",
          "Pod",
          "2-locular, flattened, globose",
          "3-5-locular, globose",
          "Elongate",
          "Elongate, constricted between seeds",
          "Elongate, slightly constricted between seeds",
          "Elongate, strongly constricted between seeds",
          "Flattened obovoid",
          "Flattened ovate",
          "Flattened, elongate, twisted",
          "Flattened, thick, elongate, strongly curved",
          "Globose",
          "Globose, 3-angulated",
          "Linear",
          "Not flattened, elongate, slightly curved",
          "Ovoid",
          "Pyriform, ovoid",
          "Slightly flattened, elongate, curved",
          "Black",
          "Brown",
          "Brown-black",
          "Green",
          "Green, black, whitish",
          "Green, orange",
          "Green, orange, red",
          "Green, red",
          "Green, yellow",
          "Greyish",
          "Orange",
          "Orange, yellow, red",
          "Purple, black",
          "Red",
          "Red, black",
          "Red, purple-brown",
          "Reddish purple",
          "Whitish green",
          "Yellow, orange",
          "Yellowish",
          "Na?",
          "Orange",
          "Red",
          "White",
          "Yellow-geen",
          "Black",
          "Brown",
          "Green",
          "Grey",
          "White",
          "Whitish"
         ],
         "marker": {
          "color": "blue"
         },
         "name": "No Information Found",
         "textposition": "auto",
         "type": "bar",
         "x": [
          [
           "Life form",
           "Life form",
           "Leaf position",
           "Leaf position",
           "Leaf position",
           "Leaf position",
           "Leaf position",
           "Leaf composition",
           "Leaf composition",
           "Leaf composition",
           "Leaf composition",
           "Leaf composition",
           "Leaf composition",
           "Leaf composition",
           "Leaf composition",
           "Leaf composition",
           "Leaf composition",
           "Leaf composition",
           "Leaf composition",
           "Leaf shape",
           "Leaf shape",
           "Leaf shape",
           "Leaf shape",
           "Leaf shape",
           "Leaf shape",
           "Leaf shape",
           "Leaf shape",
           "Leaf shape",
           "Leaf shape",
           "Leaf shape",
           "Leaf shape",
           "Leaf shape",
           "Leaf shape",
           "Leaf shape",
           "Leaf shape",
           "Leaf shape",
           "Leaf shape",
           "Leaf shape",
           "Leaf shape",
           "Leaf shape",
           "Leaf shape",
           "Leaf margin",
           "Leaf margin",
           "Leaf margin",
           "Leaf margin",
           "Leaf margin",
           "Leaf upper side",
           "Leaf upper side",
           "Leaf upper side",
           "Leaf upper side",
           "Leaf upper side",
           "Leaf upper side",
           "Leaf upper side",
           "Leaf upper side",
           "Leaf lower side",
           "Leaf lower side",
           "Leaf lower side",
           "Leaf lower side",
           "Leaf lower side",
           "Leaf lower side",
           "Leaf glands",
           "Leaf glands",
           "Leaf glands",
           "Leaf glands",
           "Leaf glands",
           "Leaf glands",
           "Leaf rachis",
           "Leaf rachis",
           "Thorns spines",
           "Thorns spines",
           "Thorns spines",
           "Thorns spines",
           "Thorns spines",
           "Stipules",
           "Stipules",
           "Stipules",
           "Inflorescence type",
           "Inflorescence type",
           "Inflorescence type",
           "Inflorescence type",
           "Inflorescence type",
           "Inflorescence type",
           "Inflorescence type",
           "Inflorescence type",
           "Inflorescence type",
           "Inflorescence type",
           "Inflorescence type",
           "Sepals calyx shape",
           "Sepals calyx shape",
           "Sepals calyx numer",
           "Sepals calyx numer",
           "Sepals calyx numer",
           "Sepals calyx numer",
           "Sepals calyx numer",
           "Sepals calyx numer",
           "Sepals calyx numer",
           "Sepals calyx numer",
           "Sepals calyx numer",
           "Petals corolla shape",
           "Petals corolla shape",
           "Petals corolla shape",
           "Petals corolla shape",
           "Petals corolla number",
           "Petals corolla number",
           "Petals corolla number",
           "Petals corolla number",
           "Petals corolla number",
           "Petals corolla number",
           "Petals corolla number",
           "Petals corolla number",
           "Petals corolla number",
           "Petals corolla colour",
           "Petals corolla colour",
           "Petals corolla colour",
           "Petals corolla colour",
           "Petals corolla colour",
           "Petals corolla colour",
           "Petals corolla colour",
           "Petals corolla colour",
           "Petals corolla colour",
           "Petals corolla colour",
           "Petals corolla colour",
           "Petals corolla colour",
           "Petals corolla colour",
           "Petals corolla colour",
           "Petals corolla colour",
           "Petals corolla colour",
           "Petals corolla colour",
           "Stamen shape",
           "Stamen shape",
           "Stamen shape",
           "Stamen shape",
           "Stamen shape",
           "Stamen shape",
           "Stamen number",
           "Stamen number",
           "Stamen number",
           "Stamen number",
           "Stamen number",
           "Stamen number",
           "Stamen number",
           "Stamen number",
           "Stamen number",
           "Stamen number",
           "Stamen number",
           "Stamen number",
           "Stamen number",
           "Fruit type",
           "Fruit type",
           "Fruit type",
           "Fruit type",
           "Fruit type",
           "Fruit type",
           "Fruit type",
           "Fruit shape",
           "Fruit shape",
           "Fruit shape",
           "Fruit shape",
           "Fruit shape",
           "Fruit shape",
           "Fruit shape",
           "Fruit shape",
           "Fruit shape",
           "Fruit shape",
           "Fruit shape",
           "Fruit shape",
           "Fruit shape",
           "Fruit shape",
           "Fruit shape",
           "Fruit shape",
           "Fruit shape",
           "Fruit colour",
           "Fruit colour",
           "Fruit colour",
           "Fruit colour",
           "Fruit colour",
           "Fruit colour",
           "Fruit colour",
           "Fruit colour",
           "Fruit colour",
           "Fruit colour",
           "Fruit colour",
           "Fruit colour",
           "Fruit colour",
           "Fruit colour",
           "Fruit colour",
           "Fruit colour",
           "Fruit colour",
           "Fruit colour",
           "Fruit colour",
           "Fruit colour",
           "Aril colour",
           "Aril colour",
           "Aril colour",
           "Aril colour",
           "Aril colour",
           "Seed colour",
           "Seed colour",
           "Seed colour",
           "Seed colour",
           "Seed colour",
           "Seed colour"
          ],
          [
           0,
           1,
           2,
           3,
           4,
           5,
           6,
           7,
           8,
           9,
           10,
           11,
           12,
           13,
           14,
           15,
           16,
           17,
           18,
           19,
           20,
           21,
           22,
           23,
           24,
           25,
           26,
           27,
           28,
           29,
           30,
           31,
           32,
           33,
           34,
           35,
           36,
           37,
           38,
           39,
           40,
           41,
           42,
           43,
           44,
           45,
           46,
           47,
           48,
           49,
           50,
           51,
           52,
           53,
           54,
           55,
           56,
           57,
           58,
           59,
           60,
           61,
           62,
           63,
           64,
           65,
           66,
           67,
           68,
           69,
           70,
           71,
           72,
           73,
           74,
           75,
           76,
           77,
           78,
           79,
           80,
           81,
           82,
           83,
           84,
           85,
           86,
           87,
           88,
           89,
           90,
           91,
           92,
           93,
           94,
           95,
           96,
           97,
           98,
           99,
           100,
           101,
           102,
           103,
           104,
           105,
           106,
           107,
           108,
           109,
           110,
           111,
           112,
           113,
           114,
           115,
           116,
           117,
           118,
           119,
           120,
           121,
           122,
           123,
           124,
           125,
           126,
           127,
           128,
           129,
           130,
           131,
           132,
           133,
           134,
           135,
           136,
           137,
           138,
           139,
           140,
           141,
           142,
           143,
           144,
           145,
           146,
           147,
           148,
           149,
           150,
           151,
           152,
           153,
           154,
           155,
           156,
           157,
           158,
           159,
           160,
           161,
           162,
           163,
           164,
           165,
           166,
           167,
           168,
           169,
           170,
           171,
           172,
           173,
           174,
           175,
           176,
           177,
           178,
           179,
           180,
           181,
           182,
           183,
           184,
           185,
           186,
           187,
           188,
           189,
           190,
           191,
           192,
           193,
           194,
           195,
           196,
           197,
           198,
           199,
           200,
           201
          ]
         ],
         "y": [
          0,
          0,
          80,
          80,
          80,
          80,
          80,
          60,
          60,
          60,
          60,
          60,
          60,
          60,
          60,
          60,
          60,
          60,
          60,
          60,
          60,
          60,
          60,
          60,
          60,
          60,
          60,
          60,
          60,
          60,
          60,
          60,
          60,
          60,
          60,
          60,
          60,
          60,
          60,
          60,
          60,
          60,
          60,
          60,
          60,
          60,
          80,
          80,
          80,
          80,
          80,
          80,
          80,
          80,
          80,
          80,
          80,
          80,
          80,
          80,
          80,
          80,
          80,
          80,
          80,
          80,
          80,
          80,
          80,
          80,
          80,
          80,
          80,
          80,
          80,
          80,
          60,
          60,
          60,
          60,
          60,
          60,
          60,
          60,
          60,
          60,
          60,
          60,
          60,
          40,
          40,
          40,
          40,
          40,
          40,
          40,
          40,
          40,
          60,
          60,
          60,
          60,
          40,
          40,
          40,
          40,
          40,
          40,
          40,
          40,
          40,
          40,
          40,
          40,
          40,
          40,
          40,
          40,
          40,
          40,
          40,
          40,
          40,
          40,
          40,
          40,
          40,
          40,
          80,
          80,
          80,
          80,
          80,
          80,
          100,
          100,
          100,
          100,
          100,
          100,
          100,
          100,
          100,
          100,
          100,
          100,
          100,
          40,
          40,
          40,
          40,
          40,
          40,
          40,
          80,
          80,
          80,
          80,
          80,
          80,
          80,
          80,
          80,
          80,
          80,
          80,
          80,
          80,
          80,
          80,
          80,
          60,
          60,
          60,
          60,
          60,
          60,
          60,
          60,
          60,
          60,
          60,
          60,
          60,
          60,
          60,
          60,
          60,
          60,
          60,
          60,
          100,
          100,
          100,
          100,
          100,
          60,
          60,
          60,
          60,
          60,
          60
         ]
        }
       ],
       "layout": {
        "bargap": 0,
        "bargroupgap": 0,
        "barmode": "relative",
        "template": {
         "data": {
          "bar": [
           {
            "error_x": {
             "color": "#2a3f5f"
            },
            "error_y": {
             "color": "#2a3f5f"
            },
            "marker": {
             "line": {
              "color": "#E5ECF6",
              "width": 0.5
             },
             "pattern": {
              "fillmode": "overlay",
              "size": 10,
              "solidity": 0.2
             }
            },
            "type": "bar"
           }
          ],
          "barpolar": [
           {
            "marker": {
             "line": {
              "color": "#E5ECF6",
              "width": 0.5
             },
             "pattern": {
              "fillmode": "overlay",
              "size": 10,
              "solidity": 0.2
             }
            },
            "type": "barpolar"
           }
          ],
          "carpet": [
           {
            "aaxis": {
             "endlinecolor": "#2a3f5f",
             "gridcolor": "white",
             "linecolor": "white",
             "minorgridcolor": "white",
             "startlinecolor": "#2a3f5f"
            },
            "baxis": {
             "endlinecolor": "#2a3f5f",
             "gridcolor": "white",
             "linecolor": "white",
             "minorgridcolor": "white",
             "startlinecolor": "#2a3f5f"
            },
            "type": "carpet"
           }
          ],
          "choropleth": [
           {
            "colorbar": {
             "outlinewidth": 0,
             "ticks": ""
            },
            "type": "choropleth"
           }
          ],
          "contour": [
           {
            "colorbar": {
             "outlinewidth": 0,
             "ticks": ""
            },
            "colorscale": [
             [
              0,
              "#0d0887"
             ],
             [
              0.1111111111111111,
              "#46039f"
             ],
             [
              0.2222222222222222,
              "#7201a8"
             ],
             [
              0.3333333333333333,
              "#9c179e"
             ],
             [
              0.4444444444444444,
              "#bd3786"
             ],
             [
              0.5555555555555556,
              "#d8576b"
             ],
             [
              0.6666666666666666,
              "#ed7953"
             ],
             [
              0.7777777777777778,
              "#fb9f3a"
             ],
             [
              0.8888888888888888,
              "#fdca26"
             ],
             [
              1,
              "#f0f921"
             ]
            ],
            "type": "contour"
           }
          ],
          "contourcarpet": [
           {
            "colorbar": {
             "outlinewidth": 0,
             "ticks": ""
            },
            "type": "contourcarpet"
           }
          ],
          "heatmap": [
           {
            "colorbar": {
             "outlinewidth": 0,
             "ticks": ""
            },
            "colorscale": [
             [
              0,
              "#0d0887"
             ],
             [
              0.1111111111111111,
              "#46039f"
             ],
             [
              0.2222222222222222,
              "#7201a8"
             ],
             [
              0.3333333333333333,
              "#9c179e"
             ],
             [
              0.4444444444444444,
              "#bd3786"
             ],
             [
              0.5555555555555556,
              "#d8576b"
             ],
             [
              0.6666666666666666,
              "#ed7953"
             ],
             [
              0.7777777777777778,
              "#fb9f3a"
             ],
             [
              0.8888888888888888,
              "#fdca26"
             ],
             [
              1,
              "#f0f921"
             ]
            ],
            "type": "heatmap"
           }
          ],
          "heatmapgl": [
           {
            "colorbar": {
             "outlinewidth": 0,
             "ticks": ""
            },
            "colorscale": [
             [
              0,
              "#0d0887"
             ],
             [
              0.1111111111111111,
              "#46039f"
             ],
             [
              0.2222222222222222,
              "#7201a8"
             ],
             [
              0.3333333333333333,
              "#9c179e"
             ],
             [
              0.4444444444444444,
              "#bd3786"
             ],
             [
              0.5555555555555556,
              "#d8576b"
             ],
             [
              0.6666666666666666,
              "#ed7953"
             ],
             [
              0.7777777777777778,
              "#fb9f3a"
             ],
             [
              0.8888888888888888,
              "#fdca26"
             ],
             [
              1,
              "#f0f921"
             ]
            ],
            "type": "heatmapgl"
           }
          ],
          "histogram": [
           {
            "marker": {
             "pattern": {
              "fillmode": "overlay",
              "size": 10,
              "solidity": 0.2
             }
            },
            "type": "histogram"
           }
          ],
          "histogram2d": [
           {
            "colorbar": {
             "outlinewidth": 0,
             "ticks": ""
            },
            "colorscale": [
             [
              0,
              "#0d0887"
             ],
             [
              0.1111111111111111,
              "#46039f"
             ],
             [
              0.2222222222222222,
              "#7201a8"
             ],
             [
              0.3333333333333333,
              "#9c179e"
             ],
             [
              0.4444444444444444,
              "#bd3786"
             ],
             [
              0.5555555555555556,
              "#d8576b"
             ],
             [
              0.6666666666666666,
              "#ed7953"
             ],
             [
              0.7777777777777778,
              "#fb9f3a"
             ],
             [
              0.8888888888888888,
              "#fdca26"
             ],
             [
              1,
              "#f0f921"
             ]
            ],
            "type": "histogram2d"
           }
          ],
          "histogram2dcontour": [
           {
            "colorbar": {
             "outlinewidth": 0,
             "ticks": ""
            },
            "colorscale": [
             [
              0,
              "#0d0887"
             ],
             [
              0.1111111111111111,
              "#46039f"
             ],
             [
              0.2222222222222222,
              "#7201a8"
             ],
             [
              0.3333333333333333,
              "#9c179e"
             ],
             [
              0.4444444444444444,
              "#bd3786"
             ],
             [
              0.5555555555555556,
              "#d8576b"
             ],
             [
              0.6666666666666666,
              "#ed7953"
             ],
             [
              0.7777777777777778,
              "#fb9f3a"
             ],
             [
              0.8888888888888888,
              "#fdca26"
             ],
             [
              1,
              "#f0f921"
             ]
            ],
            "type": "histogram2dcontour"
           }
          ],
          "mesh3d": [
           {
            "colorbar": {
             "outlinewidth": 0,
             "ticks": ""
            },
            "type": "mesh3d"
           }
          ],
          "parcoords": [
           {
            "line": {
             "colorbar": {
              "outlinewidth": 0,
              "ticks": ""
             }
            },
            "type": "parcoords"
           }
          ],
          "pie": [
           {
            "automargin": true,
            "type": "pie"
           }
          ],
          "scatter": [
           {
            "fillpattern": {
             "fillmode": "overlay",
             "size": 10,
             "solidity": 0.2
            },
            "type": "scatter"
           }
          ],
          "scatter3d": [
           {
            "line": {
             "colorbar": {
              "outlinewidth": 0,
              "ticks": ""
             }
            },
            "marker": {
             "colorbar": {
              "outlinewidth": 0,
              "ticks": ""
             }
            },
            "type": "scatter3d"
           }
          ],
          "scattercarpet": [
           {
            "marker": {
             "colorbar": {
              "outlinewidth": 0,
              "ticks": ""
             }
            },
            "type": "scattercarpet"
           }
          ],
          "scattergeo": [
           {
            "marker": {
             "colorbar": {
              "outlinewidth": 0,
              "ticks": ""
             }
            },
            "type": "scattergeo"
           }
          ],
          "scattergl": [
           {
            "marker": {
             "colorbar": {
              "outlinewidth": 0,
              "ticks": ""
             }
            },
            "type": "scattergl"
           }
          ],
          "scattermapbox": [
           {
            "marker": {
             "colorbar": {
              "outlinewidth": 0,
              "ticks": ""
             }
            },
            "type": "scattermapbox"
           }
          ],
          "scatterpolar": [
           {
            "marker": {
             "colorbar": {
              "outlinewidth": 0,
              "ticks": ""
             }
            },
            "type": "scatterpolar"
           }
          ],
          "scatterpolargl": [
           {
            "marker": {
             "colorbar": {
              "outlinewidth": 0,
              "ticks": ""
             }
            },
            "type": "scatterpolargl"
           }
          ],
          "scatterternary": [
           {
            "marker": {
             "colorbar": {
              "outlinewidth": 0,
              "ticks": ""
             }
            },
            "type": "scatterternary"
           }
          ],
          "surface": [
           {
            "colorbar": {
             "outlinewidth": 0,
             "ticks": ""
            },
            "colorscale": [
             [
              0,
              "#0d0887"
             ],
             [
              0.1111111111111111,
              "#46039f"
             ],
             [
              0.2222222222222222,
              "#7201a8"
             ],
             [
              0.3333333333333333,
              "#9c179e"
             ],
             [
              0.4444444444444444,
              "#bd3786"
             ],
             [
              0.5555555555555556,
              "#d8576b"
             ],
             [
              0.6666666666666666,
              "#ed7953"
             ],
             [
              0.7777777777777778,
              "#fb9f3a"
             ],
             [
              0.8888888888888888,
              "#fdca26"
             ],
             [
              1,
              "#f0f921"
             ]
            ],
            "type": "surface"
           }
          ],
          "table": [
           {
            "cells": {
             "fill": {
              "color": "#EBF0F8"
             },
             "line": {
              "color": "white"
             }
            },
            "header": {
             "fill": {
              "color": "#C8D4E3"
             },
             "line": {
              "color": "white"
             }
            },
            "type": "table"
           }
          ]
         },
         "layout": {
          "annotationdefaults": {
           "arrowcolor": "#2a3f5f",
           "arrowhead": 0,
           "arrowwidth": 1
          },
          "autotypenumbers": "strict",
          "coloraxis": {
           "colorbar": {
            "outlinewidth": 0,
            "ticks": ""
           }
          },
          "colorscale": {
           "diverging": [
            [
             0,
             "#8e0152"
            ],
            [
             0.1,
             "#c51b7d"
            ],
            [
             0.2,
             "#de77ae"
            ],
            [
             0.3,
             "#f1b6da"
            ],
            [
             0.4,
             "#fde0ef"
            ],
            [
             0.5,
             "#f7f7f7"
            ],
            [
             0.6,
             "#e6f5d0"
            ],
            [
             0.7,
             "#b8e186"
            ],
            [
             0.8,
             "#7fbc41"
            ],
            [
             0.9,
             "#4d9221"
            ],
            [
             1,
             "#276419"
            ]
           ],
           "sequential": [
            [
             0,
             "#0d0887"
            ],
            [
             0.1111111111111111,
             "#46039f"
            ],
            [
             0.2222222222222222,
             "#7201a8"
            ],
            [
             0.3333333333333333,
             "#9c179e"
            ],
            [
             0.4444444444444444,
             "#bd3786"
            ],
            [
             0.5555555555555556,
             "#d8576b"
            ],
            [
             0.6666666666666666,
             "#ed7953"
            ],
            [
             0.7777777777777778,
             "#fb9f3a"
            ],
            [
             0.8888888888888888,
             "#fdca26"
            ],
            [
             1,
             "#f0f921"
            ]
           ],
           "sequentialminus": [
            [
             0,
             "#0d0887"
            ],
            [
             0.1111111111111111,
             "#46039f"
            ],
            [
             0.2222222222222222,
             "#7201a8"
            ],
            [
             0.3333333333333333,
             "#9c179e"
            ],
            [
             0.4444444444444444,
             "#bd3786"
            ],
            [
             0.5555555555555556,
             "#d8576b"
            ],
            [
             0.6666666666666666,
             "#ed7953"
            ],
            [
             0.7777777777777778,
             "#fb9f3a"
            ],
            [
             0.8888888888888888,
             "#fdca26"
            ],
            [
             1,
             "#f0f921"
            ]
           ]
          },
          "colorway": [
           "#636efa",
           "#EF553B",
           "#00cc96",
           "#ab63fa",
           "#FFA15A",
           "#19d3f3",
           "#FF6692",
           "#B6E880",
           "#FF97FF",
           "#FECB52"
          ],
          "font": {
           "color": "#2a3f5f"
          },
          "geo": {
           "bgcolor": "white",
           "lakecolor": "white",
           "landcolor": "#E5ECF6",
           "showlakes": true,
           "showland": true,
           "subunitcolor": "white"
          },
          "hoverlabel": {
           "align": "left"
          },
          "hovermode": "closest",
          "mapbox": {
           "style": "light"
          },
          "paper_bgcolor": "white",
          "plot_bgcolor": "#E5ECF6",
          "polar": {
           "angularaxis": {
            "gridcolor": "white",
            "linecolor": "white",
            "ticks": ""
           },
           "bgcolor": "#E5ECF6",
           "radialaxis": {
            "gridcolor": "white",
            "linecolor": "white",
            "ticks": ""
           }
          },
          "scene": {
           "xaxis": {
            "backgroundcolor": "#E5ECF6",
            "gridcolor": "white",
            "gridwidth": 2,
            "linecolor": "white",
            "showbackground": true,
            "ticks": "",
            "zerolinecolor": "white"
           },
           "yaxis": {
            "backgroundcolor": "#E5ECF6",
            "gridcolor": "white",
            "gridwidth": 2,
            "linecolor": "white",
            "showbackground": true,
            "ticks": "",
            "zerolinecolor": "white"
           },
           "zaxis": {
            "backgroundcolor": "#E5ECF6",
            "gridcolor": "white",
            "gridwidth": 2,
            "linecolor": "white",
            "showbackground": true,
            "ticks": "",
            "zerolinecolor": "white"
           }
          },
          "shapedefaults": {
           "line": {
            "color": "#2a3f5f"
           }
          },
          "ternary": {
           "aaxis": {
            "gridcolor": "white",
            "linecolor": "white",
            "ticks": ""
           },
           "baxis": {
            "gridcolor": "white",
            "linecolor": "white",
            "ticks": ""
           },
           "bgcolor": "#E5ECF6",
           "caxis": {
            "gridcolor": "white",
            "linecolor": "white",
            "ticks": ""
           }
          },
          "title": {
           "x": 0.05
          },
          "xaxis": {
           "automargin": true,
           "gridcolor": "white",
           "linecolor": "white",
           "ticks": "",
           "title": {
            "standoff": 15
           },
           "zerolinecolor": "white",
           "zerolinewidth": 2
          },
          "yaxis": {
           "automargin": true,
           "gridcolor": "white",
           "linecolor": "white",
           "ticks": "",
           "title": {
            "standoff": 15
           },
           "zerolinecolor": "white",
           "zerolinewidth": 2
          }
         }
        },
        "title": {
         "text": "ChatGPT Predictions"
        },
        "yaxis": {
         "title": {
          "font": {
           "size": 16
          },
          "text": "Percentage"
         }
        }
       }
      }
     },
     "metadata": {},
     "output_type": "display_data"
    }
   ],
   "source": [
    "fig = go.Figure()\n",
    "\n",
    "predictions = [\n",
    "    \"Correct\",\n",
    "    \"Incorrect\",\n",
    "    \"No Information Found\"\n",
    "]\n",
    "\n",
    "colors = [\n",
    "    \"green\",\n",
    "    \"red\",\n",
    "    \"blue\"\n",
    "]\n",
    "\n",
    "lsts = [\n",
    "    correct_lst,\n",
    "    incorrect_lst,\n",
    "    fail_lst\n",
    "]\n",
    "\n",
    "x = [\n",
    "    group_labels,\n",
    "    number_labels\n",
    "]\n",
    "\n",
    "for (prediction, color, lst) in zip(predictions, colors, lsts):\n",
    "    fig.add_bar(\n",
    "        name=prediction,\n",
    "        x=x,\n",
    "        y=lst,\n",
    "        marker_color=color,\n",
    "        constraintext='outside',\n",
    "        hovertext=sub_labels,\n",
    "        textposition='auto'\n",
    "        )\n",
    "    \n",
    "fig.update_layout(\n",
    "    # uniformtext_minsize=8, uniformtext_mode='hide',\n",
    "    title='ChatGPT Predictions',\n",
    "    # xaxis_tickfont_size=6,\n",
    "    yaxis=dict(\n",
    "        title='Percentage',\n",
    "        titlefont_size=16,\n",
    "        # tickfont_size=3,\n",
    "    ),\n",
    "\n",
    "    barmode='relative',\n",
    "    bargap=0.0, # gap between bars of adjacent location coordinates.\n",
    "    bargroupgap=0.00, # gap between bars of the same location coordinate.\n",
    "    \n",
    ")\n",
    "\n",
    "fig.show()\n",
    "\n",
    "\n",
    "folder_figures = \"../../../reports/figures/\"\n",
    "file_name = \"PxPlot_HTML_BarchartPredictions.html\"\n",
    "fig.write_html(F\"{folder_figures}{file_name}\")\n",
    "file_name = \"PxPlot_PDF_BarchartPredictions.pdf\"\n",
    "fig.write_image(F\"{folder_figures}{file_name}\")"
   ]
  },
  {
   "cell_type": "code",
   "execution_count": 10,
   "metadata": {},
   "outputs": [
    {
     "data": {
      "application/vnd.plotly.v1+json": {
       "config": {
        "plotlyServerURL": "https://plot.ly"
       },
       "data": [
        {
         "marker": {
          "color": "rgba(38, 24, 74, 0.8)",
          "line": {
           "color": "rgb(248, 248, 249)",
           "width": 1
          }
         },
         "orientation": "h",
         "type": "bar",
         "x": [
          21
         ],
         "y": [
          "The course was effectively<br>organized"
         ]
        },
        {
         "marker": {
          "color": "rgba(38, 24, 74, 0.8)",
          "line": {
           "color": "rgb(248, 248, 249)",
           "width": 1
          }
         },
         "orientation": "h",
         "type": "bar",
         "x": [
          24
         ],
         "y": [
          "The course developed my<br>abilities and skills for<br>the subject"
         ]
        },
        {
         "marker": {
          "color": "rgba(38, 24, 74, 0.8)",
          "line": {
           "color": "rgb(248, 248, 249)",
           "width": 1
          }
         },
         "orientation": "h",
         "type": "bar",
         "x": [
          27
         ],
         "y": [
          "The course developed my<br>ability to think critically about<br>the subject"
         ]
        },
        {
         "marker": {
          "color": "rgba(38, 24, 74, 0.8)",
          "line": {
           "color": "rgb(248, 248, 249)",
           "width": 1
          }
         },
         "orientation": "h",
         "type": "bar",
         "x": [
          29
         ],
         "y": [
          "I would recommend this<br>course to a friend"
         ]
        },
        {
         "marker": {
          "color": "rgba(71, 58, 131, 0.8)",
          "line": {
           "color": "rgb(248, 248, 249)",
           "width": 1
          }
         },
         "orientation": "h",
         "type": "bar",
         "x": [
          30
         ],
         "y": [
          "The course was effectively<br>organized"
         ]
        },
        {
         "marker": {
          "color": "rgba(71, 58, 131, 0.8)",
          "line": {
           "color": "rgb(248, 248, 249)",
           "width": 1
          }
         },
         "orientation": "h",
         "type": "bar",
         "x": [
          31
         ],
         "y": [
          "The course developed my<br>abilities and skills for<br>the subject"
         ]
        },
        {
         "marker": {
          "color": "rgba(71, 58, 131, 0.8)",
          "line": {
           "color": "rgb(248, 248, 249)",
           "width": 1
          }
         },
         "orientation": "h",
         "type": "bar",
         "x": [
          26
         ],
         "y": [
          "The course developed my<br>ability to think critically about<br>the subject"
         ]
        },
        {
         "marker": {
          "color": "rgba(71, 58, 131, 0.8)",
          "line": {
           "color": "rgb(248, 248, 249)",
           "width": 1
          }
         },
         "orientation": "h",
         "type": "bar",
         "x": [
          24
         ],
         "y": [
          "I would recommend this<br>course to a friend"
         ]
        },
        {
         "marker": {
          "color": "rgba(122, 120, 168, 0.8)",
          "line": {
           "color": "rgb(248, 248, 249)",
           "width": 1
          }
         },
         "orientation": "h",
         "type": "bar",
         "x": [
          21
         ],
         "y": [
          "The course was effectively<br>organized"
         ]
        },
        {
         "marker": {
          "color": "rgba(122, 120, 168, 0.8)",
          "line": {
           "color": "rgb(248, 248, 249)",
           "width": 1
          }
         },
         "orientation": "h",
         "type": "bar",
         "x": [
          19
         ],
         "y": [
          "The course developed my<br>abilities and skills for<br>the subject"
         ]
        },
        {
         "marker": {
          "color": "rgba(122, 120, 168, 0.8)",
          "line": {
           "color": "rgb(248, 248, 249)",
           "width": 1
          }
         },
         "orientation": "h",
         "type": "bar",
         "x": [
          23
         ],
         "y": [
          "The course developed my<br>ability to think critically about<br>the subject"
         ]
        },
        {
         "marker": {
          "color": "rgba(122, 120, 168, 0.8)",
          "line": {
           "color": "rgb(248, 248, 249)",
           "width": 1
          }
         },
         "orientation": "h",
         "type": "bar",
         "x": [
          15
         ],
         "y": [
          "I would recommend this<br>course to a friend"
         ]
        },
        {
         "marker": {
          "color": "rgba(164, 163, 204, 0.85)",
          "line": {
           "color": "rgb(248, 248, 249)",
           "width": 1
          }
         },
         "orientation": "h",
         "type": "bar",
         "x": [
          16
         ],
         "y": [
          "The course was effectively<br>organized"
         ]
        },
        {
         "marker": {
          "color": "rgba(164, 163, 204, 0.85)",
          "line": {
           "color": "rgb(248, 248, 249)",
           "width": 1
          }
         },
         "orientation": "h",
         "type": "bar",
         "x": [
          15
         ],
         "y": [
          "The course developed my<br>abilities and skills for<br>the subject"
         ]
        },
        {
         "marker": {
          "color": "rgba(164, 163, 204, 0.85)",
          "line": {
           "color": "rgb(248, 248, 249)",
           "width": 1
          }
         },
         "orientation": "h",
         "type": "bar",
         "x": [
          11
         ],
         "y": [
          "The course developed my<br>ability to think critically about<br>the subject"
         ]
        },
        {
         "marker": {
          "color": "rgba(164, 163, 204, 0.85)",
          "line": {
           "color": "rgb(248, 248, 249)",
           "width": 1
          }
         },
         "orientation": "h",
         "type": "bar",
         "x": [
          18
         ],
         "y": [
          "I would recommend this<br>course to a friend"
         ]
        },
        {
         "marker": {
          "color": "rgba(190, 192, 213, 1)",
          "line": {
           "color": "rgb(248, 248, 249)",
           "width": 1
          }
         },
         "orientation": "h",
         "type": "bar",
         "x": [
          12
         ],
         "y": [
          "The course was effectively<br>organized"
         ]
        },
        {
         "marker": {
          "color": "rgba(190, 192, 213, 1)",
          "line": {
           "color": "rgb(248, 248, 249)",
           "width": 1
          }
         },
         "orientation": "h",
         "type": "bar",
         "x": [
          11
         ],
         "y": [
          "The course developed my<br>abilities and skills for<br>the subject"
         ]
        },
        {
         "marker": {
          "color": "rgba(190, 192, 213, 1)",
          "line": {
           "color": "rgb(248, 248, 249)",
           "width": 1
          }
         },
         "orientation": "h",
         "type": "bar",
         "x": [
          13
         ],
         "y": [
          "The course developed my<br>ability to think critically about<br>the subject"
         ]
        },
        {
         "marker": {
          "color": "rgba(190, 192, 213, 1)",
          "line": {
           "color": "rgb(248, 248, 249)",
           "width": 1
          }
         },
         "orientation": "h",
         "type": "bar",
         "x": [
          14
         ],
         "y": [
          "I would recommend this<br>course to a friend"
         ]
        }
       ],
       "layout": {
        "annotations": [
         {
          "align": "right",
          "font": {
           "color": "rgb(67, 67, 67)",
           "family": "Arial",
           "size": 14
          },
          "showarrow": false,
          "text": "The course was effectively<br>organized",
          "x": 0.14,
          "xanchor": "right",
          "xref": "paper",
          "y": "The course was effectively<br>organized",
          "yref": "y"
         },
         {
          "font": {
           "color": "rgb(248, 248, 255)",
           "family": "Arial",
           "size": 14
          },
          "showarrow": false,
          "text": "21%",
          "x": 10.5,
          "xref": "x",
          "y": "The course was effectively<br>organized",
          "yref": "y"
         },
         {
          "font": {
           "color": "rgb(248, 248, 255)",
           "family": "Arial",
           "size": 14
          },
          "showarrow": false,
          "text": "30%",
          "x": 36,
          "xref": "x",
          "y": "The course was effectively<br>organized",
          "yref": "y"
         },
         {
          "font": {
           "color": "rgb(248, 248, 255)",
           "family": "Arial",
           "size": 14
          },
          "showarrow": false,
          "text": "21%",
          "x": 61.5,
          "xref": "x",
          "y": "The course was effectively<br>organized",
          "yref": "y"
         },
         {
          "font": {
           "color": "rgb(248, 248, 255)",
           "family": "Arial",
           "size": 14
          },
          "showarrow": false,
          "text": "16%",
          "x": 80,
          "xref": "x",
          "y": "The course was effectively<br>organized",
          "yref": "y"
         },
         {
          "font": {
           "color": "rgb(248, 248, 255)",
           "family": "Arial",
           "size": 14
          },
          "showarrow": false,
          "text": "12%",
          "x": 94,
          "xref": "x",
          "y": "The course was effectively<br>organized",
          "yref": "y"
         },
         {
          "align": "right",
          "font": {
           "color": "rgb(67, 67, 67)",
           "family": "Arial",
           "size": 14
          },
          "showarrow": false,
          "text": "The course developed my<br>abilities and skills for<br>the subject",
          "x": 0.14,
          "xanchor": "right",
          "xref": "paper",
          "y": "The course developed my<br>abilities and skills for<br>the subject",
          "yref": "y"
         },
         {
          "font": {
           "color": "rgb(248, 248, 255)",
           "family": "Arial",
           "size": 14
          },
          "showarrow": false,
          "text": "24%",
          "x": 12,
          "xref": "x",
          "y": "The course developed my<br>abilities and skills for<br>the subject",
          "yref": "y"
         },
         {
          "font": {
           "color": "rgb(248, 248, 255)",
           "family": "Arial",
           "size": 14
          },
          "showarrow": false,
          "text": "31%",
          "x": 39.5,
          "xref": "x",
          "y": "The course developed my<br>abilities and skills for<br>the subject",
          "yref": "y"
         },
         {
          "font": {
           "color": "rgb(248, 248, 255)",
           "family": "Arial",
           "size": 14
          },
          "showarrow": false,
          "text": "19%",
          "x": 64.5,
          "xref": "x",
          "y": "The course developed my<br>abilities and skills for<br>the subject",
          "yref": "y"
         },
         {
          "font": {
           "color": "rgb(248, 248, 255)",
           "family": "Arial",
           "size": 14
          },
          "showarrow": false,
          "text": "15%",
          "x": 81.5,
          "xref": "x",
          "y": "The course developed my<br>abilities and skills for<br>the subject",
          "yref": "y"
         },
         {
          "font": {
           "color": "rgb(248, 248, 255)",
           "family": "Arial",
           "size": 14
          },
          "showarrow": false,
          "text": "11%",
          "x": 94.5,
          "xref": "x",
          "y": "The course developed my<br>abilities and skills for<br>the subject",
          "yref": "y"
         },
         {
          "align": "right",
          "font": {
           "color": "rgb(67, 67, 67)",
           "family": "Arial",
           "size": 14
          },
          "showarrow": false,
          "text": "The course developed my<br>ability to think critically about<br>the subject",
          "x": 0.14,
          "xanchor": "right",
          "xref": "paper",
          "y": "The course developed my<br>ability to think critically about<br>the subject",
          "yref": "y"
         },
         {
          "font": {
           "color": "rgb(248, 248, 255)",
           "family": "Arial",
           "size": 14
          },
          "showarrow": false,
          "text": "27%",
          "x": 13.5,
          "xref": "x",
          "y": "The course developed my<br>ability to think critically about<br>the subject",
          "yref": "y"
         },
         {
          "font": {
           "color": "rgb(248, 248, 255)",
           "family": "Arial",
           "size": 14
          },
          "showarrow": false,
          "text": "26%",
          "x": 40,
          "xref": "x",
          "y": "The course developed my<br>ability to think critically about<br>the subject",
          "yref": "y"
         },
         {
          "font": {
           "color": "rgb(248, 248, 255)",
           "family": "Arial",
           "size": 14
          },
          "showarrow": false,
          "text": "23%",
          "x": 64.5,
          "xref": "x",
          "y": "The course developed my<br>ability to think critically about<br>the subject",
          "yref": "y"
         },
         {
          "font": {
           "color": "rgb(248, 248, 255)",
           "family": "Arial",
           "size": 14
          },
          "showarrow": false,
          "text": "11%",
          "x": 81.5,
          "xref": "x",
          "y": "The course developed my<br>ability to think critically about<br>the subject",
          "yref": "y"
         },
         {
          "font": {
           "color": "rgb(248, 248, 255)",
           "family": "Arial",
           "size": 14
          },
          "showarrow": false,
          "text": "13%",
          "x": 93.5,
          "xref": "x",
          "y": "The course developed my<br>ability to think critically about<br>the subject",
          "yref": "y"
         },
         {
          "align": "right",
          "font": {
           "color": "rgb(67, 67, 67)",
           "family": "Arial",
           "size": 14
          },
          "showarrow": false,
          "text": "I would recommend this<br>course to a friend",
          "x": 0.14,
          "xanchor": "right",
          "xref": "paper",
          "y": "I would recommend this<br>course to a friend",
          "yref": "y"
         },
         {
          "font": {
           "color": "rgb(248, 248, 255)",
           "family": "Arial",
           "size": 14
          },
          "showarrow": false,
          "text": "29%",
          "x": 14.5,
          "xref": "x",
          "y": "I would recommend this<br>course to a friend",
          "yref": "y"
         },
         {
          "font": {
           "color": "rgb(67, 67, 67)",
           "family": "Arial",
           "size": 14
          },
          "showarrow": false,
          "text": "Strongly<br>agree",
          "x": 14.5,
          "xref": "x",
          "y": 1.1,
          "yref": "paper"
         },
         {
          "font": {
           "color": "rgb(248, 248, 255)",
           "family": "Arial",
           "size": 14
          },
          "showarrow": false,
          "text": "24%",
          "x": 41,
          "xref": "x",
          "y": "I would recommend this<br>course to a friend",
          "yref": "y"
         },
         {
          "font": {
           "color": "rgb(67, 67, 67)",
           "family": "Arial",
           "size": 14
          },
          "showarrow": false,
          "text": "Agree",
          "x": 41,
          "xref": "x",
          "y": 1.1,
          "yref": "paper"
         },
         {
          "font": {
           "color": "rgb(248, 248, 255)",
           "family": "Arial",
           "size": 14
          },
          "showarrow": false,
          "text": "15%",
          "x": 60.5,
          "xref": "x",
          "y": "I would recommend this<br>course to a friend",
          "yref": "y"
         },
         {
          "font": {
           "color": "rgb(67, 67, 67)",
           "family": "Arial",
           "size": 14
          },
          "showarrow": false,
          "text": "Neutral",
          "x": 60.5,
          "xref": "x",
          "y": 1.1,
          "yref": "paper"
         },
         {
          "font": {
           "color": "rgb(248, 248, 255)",
           "family": "Arial",
           "size": 14
          },
          "showarrow": false,
          "text": "18%",
          "x": 77,
          "xref": "x",
          "y": "I would recommend this<br>course to a friend",
          "yref": "y"
         },
         {
          "font": {
           "color": "rgb(67, 67, 67)",
           "family": "Arial",
           "size": 14
          },
          "showarrow": false,
          "text": "Disagree",
          "x": 77,
          "xref": "x",
          "y": 1.1,
          "yref": "paper"
         },
         {
          "font": {
           "color": "rgb(248, 248, 255)",
           "family": "Arial",
           "size": 14
          },
          "showarrow": false,
          "text": "14%",
          "x": 93,
          "xref": "x",
          "y": "I would recommend this<br>course to a friend",
          "yref": "y"
         },
         {
          "font": {
           "color": "rgb(67, 67, 67)",
           "family": "Arial",
           "size": 14
          },
          "showarrow": false,
          "text": "Strongly<br>disagree",
          "x": 93,
          "xref": "x",
          "y": 1.1,
          "yref": "paper"
         }
        ],
        "barmode": "stack",
        "margin": {
         "b": 80,
         "l": 120,
         "r": 10,
         "t": 140
        },
        "paper_bgcolor": "rgb(248, 248, 255)",
        "plot_bgcolor": "rgb(248, 248, 255)",
        "showlegend": false,
        "template": {
         "data": {
          "bar": [
           {
            "error_x": {
             "color": "#2a3f5f"
            },
            "error_y": {
             "color": "#2a3f5f"
            },
            "marker": {
             "line": {
              "color": "#E5ECF6",
              "width": 0.5
             },
             "pattern": {
              "fillmode": "overlay",
              "size": 10,
              "solidity": 0.2
             }
            },
            "type": "bar"
           }
          ],
          "barpolar": [
           {
            "marker": {
             "line": {
              "color": "#E5ECF6",
              "width": 0.5
             },
             "pattern": {
              "fillmode": "overlay",
              "size": 10,
              "solidity": 0.2
             }
            },
            "type": "barpolar"
           }
          ],
          "carpet": [
           {
            "aaxis": {
             "endlinecolor": "#2a3f5f",
             "gridcolor": "white",
             "linecolor": "white",
             "minorgridcolor": "white",
             "startlinecolor": "#2a3f5f"
            },
            "baxis": {
             "endlinecolor": "#2a3f5f",
             "gridcolor": "white",
             "linecolor": "white",
             "minorgridcolor": "white",
             "startlinecolor": "#2a3f5f"
            },
            "type": "carpet"
           }
          ],
          "choropleth": [
           {
            "colorbar": {
             "outlinewidth": 0,
             "ticks": ""
            },
            "type": "choropleth"
           }
          ],
          "contour": [
           {
            "colorbar": {
             "outlinewidth": 0,
             "ticks": ""
            },
            "colorscale": [
             [
              0,
              "#0d0887"
             ],
             [
              0.1111111111111111,
              "#46039f"
             ],
             [
              0.2222222222222222,
              "#7201a8"
             ],
             [
              0.3333333333333333,
              "#9c179e"
             ],
             [
              0.4444444444444444,
              "#bd3786"
             ],
             [
              0.5555555555555556,
              "#d8576b"
             ],
             [
              0.6666666666666666,
              "#ed7953"
             ],
             [
              0.7777777777777778,
              "#fb9f3a"
             ],
             [
              0.8888888888888888,
              "#fdca26"
             ],
             [
              1,
              "#f0f921"
             ]
            ],
            "type": "contour"
           }
          ],
          "contourcarpet": [
           {
            "colorbar": {
             "outlinewidth": 0,
             "ticks": ""
            },
            "type": "contourcarpet"
           }
          ],
          "heatmap": [
           {
            "colorbar": {
             "outlinewidth": 0,
             "ticks": ""
            },
            "colorscale": [
             [
              0,
              "#0d0887"
             ],
             [
              0.1111111111111111,
              "#46039f"
             ],
             [
              0.2222222222222222,
              "#7201a8"
             ],
             [
              0.3333333333333333,
              "#9c179e"
             ],
             [
              0.4444444444444444,
              "#bd3786"
             ],
             [
              0.5555555555555556,
              "#d8576b"
             ],
             [
              0.6666666666666666,
              "#ed7953"
             ],
             [
              0.7777777777777778,
              "#fb9f3a"
             ],
             [
              0.8888888888888888,
              "#fdca26"
             ],
             [
              1,
              "#f0f921"
             ]
            ],
            "type": "heatmap"
           }
          ],
          "heatmapgl": [
           {
            "colorbar": {
             "outlinewidth": 0,
             "ticks": ""
            },
            "colorscale": [
             [
              0,
              "#0d0887"
             ],
             [
              0.1111111111111111,
              "#46039f"
             ],
             [
              0.2222222222222222,
              "#7201a8"
             ],
             [
              0.3333333333333333,
              "#9c179e"
             ],
             [
              0.4444444444444444,
              "#bd3786"
             ],
             [
              0.5555555555555556,
              "#d8576b"
             ],
             [
              0.6666666666666666,
              "#ed7953"
             ],
             [
              0.7777777777777778,
              "#fb9f3a"
             ],
             [
              0.8888888888888888,
              "#fdca26"
             ],
             [
              1,
              "#f0f921"
             ]
            ],
            "type": "heatmapgl"
           }
          ],
          "histogram": [
           {
            "marker": {
             "pattern": {
              "fillmode": "overlay",
              "size": 10,
              "solidity": 0.2
             }
            },
            "type": "histogram"
           }
          ],
          "histogram2d": [
           {
            "colorbar": {
             "outlinewidth": 0,
             "ticks": ""
            },
            "colorscale": [
             [
              0,
              "#0d0887"
             ],
             [
              0.1111111111111111,
              "#46039f"
             ],
             [
              0.2222222222222222,
              "#7201a8"
             ],
             [
              0.3333333333333333,
              "#9c179e"
             ],
             [
              0.4444444444444444,
              "#bd3786"
             ],
             [
              0.5555555555555556,
              "#d8576b"
             ],
             [
              0.6666666666666666,
              "#ed7953"
             ],
             [
              0.7777777777777778,
              "#fb9f3a"
             ],
             [
              0.8888888888888888,
              "#fdca26"
             ],
             [
              1,
              "#f0f921"
             ]
            ],
            "type": "histogram2d"
           }
          ],
          "histogram2dcontour": [
           {
            "colorbar": {
             "outlinewidth": 0,
             "ticks": ""
            },
            "colorscale": [
             [
              0,
              "#0d0887"
             ],
             [
              0.1111111111111111,
              "#46039f"
             ],
             [
              0.2222222222222222,
              "#7201a8"
             ],
             [
              0.3333333333333333,
              "#9c179e"
             ],
             [
              0.4444444444444444,
              "#bd3786"
             ],
             [
              0.5555555555555556,
              "#d8576b"
             ],
             [
              0.6666666666666666,
              "#ed7953"
             ],
             [
              0.7777777777777778,
              "#fb9f3a"
             ],
             [
              0.8888888888888888,
              "#fdca26"
             ],
             [
              1,
              "#f0f921"
             ]
            ],
            "type": "histogram2dcontour"
           }
          ],
          "mesh3d": [
           {
            "colorbar": {
             "outlinewidth": 0,
             "ticks": ""
            },
            "type": "mesh3d"
           }
          ],
          "parcoords": [
           {
            "line": {
             "colorbar": {
              "outlinewidth": 0,
              "ticks": ""
             }
            },
            "type": "parcoords"
           }
          ],
          "pie": [
           {
            "automargin": true,
            "type": "pie"
           }
          ],
          "scatter": [
           {
            "fillpattern": {
             "fillmode": "overlay",
             "size": 10,
             "solidity": 0.2
            },
            "type": "scatter"
           }
          ],
          "scatter3d": [
           {
            "line": {
             "colorbar": {
              "outlinewidth": 0,
              "ticks": ""
             }
            },
            "marker": {
             "colorbar": {
              "outlinewidth": 0,
              "ticks": ""
             }
            },
            "type": "scatter3d"
           }
          ],
          "scattercarpet": [
           {
            "marker": {
             "colorbar": {
              "outlinewidth": 0,
              "ticks": ""
             }
            },
            "type": "scattercarpet"
           }
          ],
          "scattergeo": [
           {
            "marker": {
             "colorbar": {
              "outlinewidth": 0,
              "ticks": ""
             }
            },
            "type": "scattergeo"
           }
          ],
          "scattergl": [
           {
            "marker": {
             "colorbar": {
              "outlinewidth": 0,
              "ticks": ""
             }
            },
            "type": "scattergl"
           }
          ],
          "scattermapbox": [
           {
            "marker": {
             "colorbar": {
              "outlinewidth": 0,
              "ticks": ""
             }
            },
            "type": "scattermapbox"
           }
          ],
          "scatterpolar": [
           {
            "marker": {
             "colorbar": {
              "outlinewidth": 0,
              "ticks": ""
             }
            },
            "type": "scatterpolar"
           }
          ],
          "scatterpolargl": [
           {
            "marker": {
             "colorbar": {
              "outlinewidth": 0,
              "ticks": ""
             }
            },
            "type": "scatterpolargl"
           }
          ],
          "scatterternary": [
           {
            "marker": {
             "colorbar": {
              "outlinewidth": 0,
              "ticks": ""
             }
            },
            "type": "scatterternary"
           }
          ],
          "surface": [
           {
            "colorbar": {
             "outlinewidth": 0,
             "ticks": ""
            },
            "colorscale": [
             [
              0,
              "#0d0887"
             ],
             [
              0.1111111111111111,
              "#46039f"
             ],
             [
              0.2222222222222222,
              "#7201a8"
             ],
             [
              0.3333333333333333,
              "#9c179e"
             ],
             [
              0.4444444444444444,
              "#bd3786"
             ],
             [
              0.5555555555555556,
              "#d8576b"
             ],
             [
              0.6666666666666666,
              "#ed7953"
             ],
             [
              0.7777777777777778,
              "#fb9f3a"
             ],
             [
              0.8888888888888888,
              "#fdca26"
             ],
             [
              1,
              "#f0f921"
             ]
            ],
            "type": "surface"
           }
          ],
          "table": [
           {
            "cells": {
             "fill": {
              "color": "#EBF0F8"
             },
             "line": {
              "color": "white"
             }
            },
            "header": {
             "fill": {
              "color": "#C8D4E3"
             },
             "line": {
              "color": "white"
             }
            },
            "type": "table"
           }
          ]
         },
         "layout": {
          "annotationdefaults": {
           "arrowcolor": "#2a3f5f",
           "arrowhead": 0,
           "arrowwidth": 1
          },
          "autotypenumbers": "strict",
          "coloraxis": {
           "colorbar": {
            "outlinewidth": 0,
            "ticks": ""
           }
          },
          "colorscale": {
           "diverging": [
            [
             0,
             "#8e0152"
            ],
            [
             0.1,
             "#c51b7d"
            ],
            [
             0.2,
             "#de77ae"
            ],
            [
             0.3,
             "#f1b6da"
            ],
            [
             0.4,
             "#fde0ef"
            ],
            [
             0.5,
             "#f7f7f7"
            ],
            [
             0.6,
             "#e6f5d0"
            ],
            [
             0.7,
             "#b8e186"
            ],
            [
             0.8,
             "#7fbc41"
            ],
            [
             0.9,
             "#4d9221"
            ],
            [
             1,
             "#276419"
            ]
           ],
           "sequential": [
            [
             0,
             "#0d0887"
            ],
            [
             0.1111111111111111,
             "#46039f"
            ],
            [
             0.2222222222222222,
             "#7201a8"
            ],
            [
             0.3333333333333333,
             "#9c179e"
            ],
            [
             0.4444444444444444,
             "#bd3786"
            ],
            [
             0.5555555555555556,
             "#d8576b"
            ],
            [
             0.6666666666666666,
             "#ed7953"
            ],
            [
             0.7777777777777778,
             "#fb9f3a"
            ],
            [
             0.8888888888888888,
             "#fdca26"
            ],
            [
             1,
             "#f0f921"
            ]
           ],
           "sequentialminus": [
            [
             0,
             "#0d0887"
            ],
            [
             0.1111111111111111,
             "#46039f"
            ],
            [
             0.2222222222222222,
             "#7201a8"
            ],
            [
             0.3333333333333333,
             "#9c179e"
            ],
            [
             0.4444444444444444,
             "#bd3786"
            ],
            [
             0.5555555555555556,
             "#d8576b"
            ],
            [
             0.6666666666666666,
             "#ed7953"
            ],
            [
             0.7777777777777778,
             "#fb9f3a"
            ],
            [
             0.8888888888888888,
             "#fdca26"
            ],
            [
             1,
             "#f0f921"
            ]
           ]
          },
          "colorway": [
           "#636efa",
           "#EF553B",
           "#00cc96",
           "#ab63fa",
           "#FFA15A",
           "#19d3f3",
           "#FF6692",
           "#B6E880",
           "#FF97FF",
           "#FECB52"
          ],
          "font": {
           "color": "#2a3f5f"
          },
          "geo": {
           "bgcolor": "white",
           "lakecolor": "white",
           "landcolor": "#E5ECF6",
           "showlakes": true,
           "showland": true,
           "subunitcolor": "white"
          },
          "hoverlabel": {
           "align": "left"
          },
          "hovermode": "closest",
          "mapbox": {
           "style": "light"
          },
          "paper_bgcolor": "white",
          "plot_bgcolor": "#E5ECF6",
          "polar": {
           "angularaxis": {
            "gridcolor": "white",
            "linecolor": "white",
            "ticks": ""
           },
           "bgcolor": "#E5ECF6",
           "radialaxis": {
            "gridcolor": "white",
            "linecolor": "white",
            "ticks": ""
           }
          },
          "scene": {
           "xaxis": {
            "backgroundcolor": "#E5ECF6",
            "gridcolor": "white",
            "gridwidth": 2,
            "linecolor": "white",
            "showbackground": true,
            "ticks": "",
            "zerolinecolor": "white"
           },
           "yaxis": {
            "backgroundcolor": "#E5ECF6",
            "gridcolor": "white",
            "gridwidth": 2,
            "linecolor": "white",
            "showbackground": true,
            "ticks": "",
            "zerolinecolor": "white"
           },
           "zaxis": {
            "backgroundcolor": "#E5ECF6",
            "gridcolor": "white",
            "gridwidth": 2,
            "linecolor": "white",
            "showbackground": true,
            "ticks": "",
            "zerolinecolor": "white"
           }
          },
          "shapedefaults": {
           "line": {
            "color": "#2a3f5f"
           }
          },
          "ternary": {
           "aaxis": {
            "gridcolor": "white",
            "linecolor": "white",
            "ticks": ""
           },
           "baxis": {
            "gridcolor": "white",
            "linecolor": "white",
            "ticks": ""
           },
           "bgcolor": "#E5ECF6",
           "caxis": {
            "gridcolor": "white",
            "linecolor": "white",
            "ticks": ""
           }
          },
          "title": {
           "x": 0.05
          },
          "xaxis": {
           "automargin": true,
           "gridcolor": "white",
           "linecolor": "white",
           "ticks": "",
           "title": {
            "standoff": 15
           },
           "zerolinecolor": "white",
           "zerolinewidth": 2
          },
          "yaxis": {
           "automargin": true,
           "gridcolor": "white",
           "linecolor": "white",
           "ticks": "",
           "title": {
            "standoff": 15
           },
           "zerolinecolor": "white",
           "zerolinewidth": 2
          }
         }
        },
        "xaxis": {
         "domain": [
          0.15,
          1
         ],
         "showgrid": false,
         "showline": false,
         "showticklabels": false,
         "zeroline": false
        },
        "yaxis": {
         "showgrid": false,
         "showline": false,
         "showticklabels": false,
         "zeroline": false
        }
       }
      }
     },
     "metadata": {},
     "output_type": "display_data"
    }
   ],
   "source": [
    "top_labels = ['Strongly<br>agree', 'Agree', 'Neutral', 'Disagree',\n",
    "              'Strongly<br>disagree']\n",
    "\n",
    "colors = ['rgba(38, 24, 74, 0.8)', 'rgba(71, 58, 131, 0.8)',\n",
    "          'rgba(122, 120, 168, 0.8)', 'rgba(164, 163, 204, 0.85)',\n",
    "          'rgba(190, 192, 213, 1)']\n",
    "\n",
    "x_data = [[21, 30, 21, 16, 12],\n",
    "          [24, 31, 19, 15, 11],\n",
    "          [27, 26, 23, 11, 13],\n",
    "          [29, 24, 15, 18, 14]]\n",
    "\n",
    "y_data = ['The course was effectively<br>organized',\n",
    "          'The course developed my<br>abilities and skills ' +\n",
    "          'for<br>the subject', 'The course developed ' +\n",
    "          'my<br>ability to think critically about<br>the subject',\n",
    "          'I would recommend this<br>course to a friend']\n",
    "\n",
    "fig = go.Figure()\n",
    "\n",
    "for i in range(0, len(x_data[0])):\n",
    "    for xd, yd in zip(x_data, y_data):\n",
    "        fig.add_trace(go.Bar(\n",
    "            x=[xd[i]], y=[yd],\n",
    "            orientation='h',\n",
    "            marker=dict(\n",
    "                color=colors[i],\n",
    "                line=dict(color='rgb(248, 248, 249)', width=1)\n",
    "            )\n",
    "        ))\n",
    "\n",
    "fig.update_layout(\n",
    "    xaxis=dict(\n",
    "        showgrid=False,\n",
    "        showline=False,\n",
    "        showticklabels=False,\n",
    "        zeroline=False,\n",
    "        domain=[0.15, 1]\n",
    "    ),\n",
    "    yaxis=dict(\n",
    "        showgrid=False,\n",
    "        showline=False,\n",
    "        showticklabels=False,\n",
    "        zeroline=False,\n",
    "    ),\n",
    "    barmode='stack',\n",
    "    paper_bgcolor='rgb(248, 248, 255)',\n",
    "    plot_bgcolor='rgb(248, 248, 255)',\n",
    "    margin=dict(l=120, r=10, t=140, b=80),\n",
    "    showlegend=False,\n",
    ")\n",
    "\n",
    "annotations = []\n",
    "\n",
    "for yd, xd in zip(y_data, x_data):\n",
    "    # labeling the y-axis\n",
    "    annotations.append(dict(xref='paper', yref='y',\n",
    "                            x=0.14, y=yd,\n",
    "                            xanchor='right',\n",
    "                            text=str(yd),\n",
    "                            font=dict(family='Arial', size=14,\n",
    "                                      color='rgb(67, 67, 67)'),\n",
    "                            showarrow=False, align='right'))\n",
    "    # labeling the first percentage of each bar (x_axis)\n",
    "    annotations.append(dict(xref='x', yref='y',\n",
    "                            x=xd[0] / 2, y=yd,\n",
    "                            text=str(xd[0]) + '%',\n",
    "                            font=dict(family='Arial', size=14,\n",
    "                                      color='rgb(248, 248, 255)'),\n",
    "                            showarrow=False))\n",
    "    # labeling the first Likert scale (on the top)\n",
    "    if yd == y_data[-1]:\n",
    "        annotations.append(dict(xref='x', yref='paper',\n",
    "                                x=xd[0] / 2, y=1.1,\n",
    "                                text=top_labels[0],\n",
    "                                font=dict(family='Arial', size=14,\n",
    "                                          color='rgb(67, 67, 67)'),\n",
    "                                showarrow=False))\n",
    "    space = xd[0]\n",
    "    for i in range(1, len(xd)):\n",
    "            # labeling the rest of percentages for each bar (x_axis)\n",
    "            annotations.append(dict(xref='x', yref='y',\n",
    "                                    x=space + (xd[i]/2), y=yd,\n",
    "                                    text=str(xd[i]) + '%',\n",
    "                                    font=dict(family='Arial', size=14,\n",
    "                                              color='rgb(248, 248, 255)'),\n",
    "                                    showarrow=False))\n",
    "            # labeling the Likert scale\n",
    "            if yd == y_data[-1]:\n",
    "                annotations.append(dict(xref='x', yref='paper',\n",
    "                                        x=space + (xd[i]/2), y=1.1,\n",
    "                                        text=top_labels[i],\n",
    "                                        font=dict(family='Arial', size=14,\n",
    "                                                  color='rgb(67, 67, 67)'),\n",
    "                                        showarrow=False))\n",
    "            space += xd[i]\n",
    "\n",
    "fig.update_layout(annotations=annotations)\n",
    "\n",
    "fig.show()"
   ]
  },
  {
   "cell_type": "code",
   "execution_count": 17,
   "metadata": {},
   "outputs": [
    {
     "data": {
      "text/html": [
       "<div>\n",
       "<style scoped>\n",
       "    .dataframe tbody tr th:only-of-type {\n",
       "        vertical-align: middle;\n",
       "    }\n",
       "\n",
       "    .dataframe tbody tr th {\n",
       "        vertical-align: top;\n",
       "    }\n",
       "\n",
       "    .dataframe thead tr th {\n",
       "        text-align: left;\n",
       "    }\n",
       "\n",
       "    .dataframe thead tr:last-of-type th {\n",
       "        text-align: right;\n",
       "    }\n",
       "</style>\n",
       "<table border=\"1\" class=\"dataframe\">\n",
       "  <thead>\n",
       "    <tr>\n",
       "      <th></th>\n",
       "      <th colspan=\"2\" halign=\"left\">Life form</th>\n",
       "      <th colspan=\"5\" halign=\"left\">Leaf position</th>\n",
       "      <th colspan=\"3\" halign=\"left\">Leaf composition</th>\n",
       "      <th>...</th>\n",
       "      <th colspan=\"4\" halign=\"left\">Aril colour</th>\n",
       "      <th colspan=\"6\" halign=\"left\">Seed colour</th>\n",
       "    </tr>\n",
       "    <tr>\n",
       "      <th></th>\n",
       "      <th>liana</th>\n",
       "      <th>tree</th>\n",
       "      <th>alternate</th>\n",
       "      <th>alternate, opposite</th>\n",
       "      <th>opposite</th>\n",
       "      <th>opposite, whorls of 3</th>\n",
       "      <th>opposite, whorls of 3, alternate</th>\n",
       "      <th>3 palmate</th>\n",
       "      <th>3-5 palmate</th>\n",
       "      <th>3-5 pinnate</th>\n",
       "      <th>...</th>\n",
       "      <th>orange</th>\n",
       "      <th>red</th>\n",
       "      <th>white</th>\n",
       "      <th>yellow-geen</th>\n",
       "      <th>black</th>\n",
       "      <th>brown</th>\n",
       "      <th>green</th>\n",
       "      <th>grey</th>\n",
       "      <th>white</th>\n",
       "      <th>whitish</th>\n",
       "    </tr>\n",
       "    <tr>\n",
       "      <th>Species</th>\n",
       "      <th></th>\n",
       "      <th></th>\n",
       "      <th></th>\n",
       "      <th></th>\n",
       "      <th></th>\n",
       "      <th></th>\n",
       "      <th></th>\n",
       "      <th></th>\n",
       "      <th></th>\n",
       "      <th></th>\n",
       "      <th></th>\n",
       "      <th></th>\n",
       "      <th></th>\n",
       "      <th></th>\n",
       "      <th></th>\n",
       "      <th></th>\n",
       "      <th></th>\n",
       "      <th></th>\n",
       "      <th></th>\n",
       "      <th></th>\n",
       "      <th></th>\n",
       "    </tr>\n",
       "  </thead>\n",
       "  <tbody>\n",
       "    <tr>\n",
       "      <th>Bursera karsteniana</th>\n",
       "      <td>Correct</td>\n",
       "      <td>Correct</td>\n",
       "      <td>Fail</td>\n",
       "      <td>Fail</td>\n",
       "      <td>Fail</td>\n",
       "      <td>Fail</td>\n",
       "      <td>Fail</td>\n",
       "      <td>Fail</td>\n",
       "      <td>Fail</td>\n",
       "      <td>Fail</td>\n",
       "      <td>...</td>\n",
       "      <td>Fail</td>\n",
       "      <td>Fail</td>\n",
       "      <td>Fail</td>\n",
       "      <td>Fail</td>\n",
       "      <td>Fail</td>\n",
       "      <td>Fail</td>\n",
       "      <td>Fail</td>\n",
       "      <td>Fail</td>\n",
       "      <td>Fail</td>\n",
       "      <td>Fail</td>\n",
       "    </tr>\n",
       "    <tr>\n",
       "      <th>Metopium brownei</th>\n",
       "      <td>Correct</td>\n",
       "      <td>Incorrect</td>\n",
       "      <td>Fail</td>\n",
       "      <td>Fail</td>\n",
       "      <td>Fail</td>\n",
       "      <td>Fail</td>\n",
       "      <td>Fail</td>\n",
       "      <td>Fail</td>\n",
       "      <td>Fail</td>\n",
       "      <td>Fail</td>\n",
       "      <td>...</td>\n",
       "      <td>Fail</td>\n",
       "      <td>Fail</td>\n",
       "      <td>Fail</td>\n",
       "      <td>Fail</td>\n",
       "      <td>Correct</td>\n",
       "      <td>Incorrect</td>\n",
       "      <td>Correct</td>\n",
       "      <td>Correct</td>\n",
       "      <td>Correct</td>\n",
       "      <td>Correct</td>\n",
       "    </tr>\n",
       "    <tr>\n",
       "      <th>Handroanthus billbergii</th>\n",
       "      <td>Correct</td>\n",
       "      <td>Correct</td>\n",
       "      <td>Fail</td>\n",
       "      <td>Fail</td>\n",
       "      <td>Fail</td>\n",
       "      <td>Fail</td>\n",
       "      <td>Fail</td>\n",
       "      <td>Correct</td>\n",
       "      <td>Correct</td>\n",
       "      <td>Incorrect</td>\n",
       "      <td>...</td>\n",
       "      <td>Fail</td>\n",
       "      <td>Fail</td>\n",
       "      <td>Fail</td>\n",
       "      <td>Fail</td>\n",
       "      <td>Fail</td>\n",
       "      <td>Fail</td>\n",
       "      <td>Fail</td>\n",
       "      <td>Fail</td>\n",
       "      <td>Fail</td>\n",
       "      <td>Fail</td>\n",
       "    </tr>\n",
       "    <tr>\n",
       "      <th>Avicennia germinans</th>\n",
       "      <td>Correct</td>\n",
       "      <td>Correct</td>\n",
       "      <td>Fail</td>\n",
       "      <td>Fail</td>\n",
       "      <td>Fail</td>\n",
       "      <td>Fail</td>\n",
       "      <td>Fail</td>\n",
       "      <td>Correct</td>\n",
       "      <td>Correct</td>\n",
       "      <td>Correct</td>\n",
       "      <td>...</td>\n",
       "      <td>Fail</td>\n",
       "      <td>Fail</td>\n",
       "      <td>Fail</td>\n",
       "      <td>Fail</td>\n",
       "      <td>Incorrect</td>\n",
       "      <td>Incorrect</td>\n",
       "      <td>Incorrect</td>\n",
       "      <td>Correct</td>\n",
       "      <td>Incorrect</td>\n",
       "      <td>Incorrect</td>\n",
       "    </tr>\n",
       "    <tr>\n",
       "      <th>Bourreria succulenta</th>\n",
       "      <td>Correct</td>\n",
       "      <td>Correct</td>\n",
       "      <td>Incorrect</td>\n",
       "      <td>Correct</td>\n",
       "      <td>Correct</td>\n",
       "      <td>Correct</td>\n",
       "      <td>Correct</td>\n",
       "      <td>Fail</td>\n",
       "      <td>Fail</td>\n",
       "      <td>Fail</td>\n",
       "      <td>...</td>\n",
       "      <td>Fail</td>\n",
       "      <td>Fail</td>\n",
       "      <td>Fail</td>\n",
       "      <td>Fail</td>\n",
       "      <td>Fail</td>\n",
       "      <td>Fail</td>\n",
       "      <td>Fail</td>\n",
       "      <td>Fail</td>\n",
       "      <td>Fail</td>\n",
       "      <td>Fail</td>\n",
       "    </tr>\n",
       "  </tbody>\n",
       "</table>\n",
       "<p>5 rows × 202 columns</p>\n",
       "</div>"
      ],
      "text/plain": [
       "                        Life form            Leaf position  \\\n",
       "                            liana       tree     alternate   \n",
       "Species                                                      \n",
       "Bursera karsteniana       Correct    Correct          Fail   \n",
       "Metopium brownei          Correct  Incorrect          Fail   \n",
       "Handroanthus billbergii   Correct    Correct          Fail   \n",
       "Avicennia germinans       Correct    Correct          Fail   \n",
       "Bourreria succulenta      Correct    Correct     Incorrect   \n",
       "\n",
       "                                                                            \\\n",
       "                        alternate, opposite opposite opposite, whorls of 3   \n",
       "Species                                                                      \n",
       "Bursera karsteniana                    Fail     Fail                  Fail   \n",
       "Metopium brownei                       Fail     Fail                  Fail   \n",
       "Handroanthus billbergii                Fail     Fail                  Fail   \n",
       "Avicennia germinans                    Fail     Fail                  Fail   \n",
       "Bourreria succulenta                Correct  Correct               Correct   \n",
       "\n",
       "                                                         Leaf composition  \\\n",
       "                        opposite, whorls of 3, alternate        3 palmate   \n",
       "Species                                                                     \n",
       "Bursera karsteniana                                 Fail             Fail   \n",
       "Metopium brownei                                    Fail             Fail   \n",
       "Handroanthus billbergii                             Fail          Correct   \n",
       "Avicennia germinans                                 Fail          Correct   \n",
       "Bourreria succulenta                             Correct             Fail   \n",
       "\n",
       "                                                 ... Aril colour              \\\n",
       "                        3-5 palmate 3-5 pinnate  ...      orange   red white   \n",
       "Species                                          ...                           \n",
       "Bursera karsteniana            Fail        Fail  ...        Fail  Fail  Fail   \n",
       "Metopium brownei               Fail        Fail  ...        Fail  Fail  Fail   \n",
       "Handroanthus billbergii     Correct   Incorrect  ...        Fail  Fail  Fail   \n",
       "Avicennia germinans         Correct     Correct  ...        Fail  Fail  Fail   \n",
       "Bourreria succulenta           Fail        Fail  ...        Fail  Fail  Fail   \n",
       "\n",
       "                                    Seed colour                        \\\n",
       "                        yellow-geen       black      brown      green   \n",
       "Species                                                                 \n",
       "Bursera karsteniana            Fail        Fail       Fail       Fail   \n",
       "Metopium brownei               Fail     Correct  Incorrect    Correct   \n",
       "Handroanthus billbergii        Fail        Fail       Fail       Fail   \n",
       "Avicennia germinans            Fail   Incorrect  Incorrect  Incorrect   \n",
       "Bourreria succulenta           Fail        Fail       Fail       Fail   \n",
       "\n",
       "                                                        \n",
       "                            grey      white    whitish  \n",
       "Species                                                 \n",
       "Bursera karsteniana         Fail       Fail       Fail  \n",
       "Metopium brownei         Correct    Correct    Correct  \n",
       "Handroanthus billbergii     Fail       Fail       Fail  \n",
       "Avicennia germinans      Correct  Incorrect  Incorrect  \n",
       "Bourreria succulenta        Fail       Fail       Fail  \n",
       "\n",
       "[5 rows x 202 columns]"
      ]
     },
     "execution_count": 17,
     "metadata": {},
     "output_type": "execute_result"
    }
   ],
   "source": [
    "df"
   ]
  },
  {
   "cell_type": "code",
   "execution_count": 58,
   "metadata": {},
   "outputs": [
    {
     "data": {
      "text/plain": [
       "Index(['Life form', 'Leaf position', 'Leaf composition', 'Leaf shape',\n",
       "       'Leaf margin', 'Leaf upper side', 'Leaf lower side', 'Leaf glands',\n",
       "       'Leaf rachis', 'Thorns spines', 'Stipules', 'Inflorescence type',\n",
       "       'Sepals calyx shape', 'Sepals calyx numer', 'Petals corolla shape',\n",
       "       'Petals corolla number', 'Petals corolla colour', 'Stamen shape',\n",
       "       'Stamen number', 'Fruit type', 'Fruit shape', 'Fruit colour',\n",
       "       'Aril colour', 'Seed colour'],\n",
       "      dtype='object')"
      ]
     },
     "execution_count": 58,
     "metadata": {},
     "output_type": "execute_result"
    }
   ],
   "source": [
    "df.columns.get_level_values(0).unique()"
   ]
  },
  {
   "cell_type": "code",
   "execution_count": 74,
   "metadata": {},
   "outputs": [],
   "source": [
    "x_data = []\n",
    "y_data = []\n",
    "for column in df.columns.get_level_values(0).unique():\n",
    "\n",
    "    values = df[column].values\n",
    "    size = df[column].values.size\n",
    "\n",
    "    correct = round((values=='Correct').sum() / size * 100, 0)\n",
    "    incorrect = round((values=='Incorrect').sum() / size * 100, 0)\n",
    "    fail = round((values=='Fail').sum() / size * 100, 0)\n",
    "\n",
    "    x_data.append([correct, incorrect, fail])\n",
    "\n",
    "    y_data.append(column)"
   ]
  },
  {
   "cell_type": "code",
   "execution_count": 88,
   "metadata": {},
   "outputs": [
    {
     "data": {
      "application/vnd.plotly.v1+json": {
       "config": {
        "plotlyServerURL": "https://plot.ly"
       },
       "data": [
        {
         "marker": {
          "color": "green",
          "line": {
           "color": "rgb(248, 248, 249)",
           "width": 1
          }
         },
         "orientation": "h",
         "type": "bar",
         "x": [
          90
         ],
         "y": [
          "Life form"
         ]
        },
        {
         "marker": {
          "color": "green",
          "line": {
           "color": "rgb(248, 248, 249)",
           "width": 1
          }
         },
         "orientation": "h",
         "type": "bar",
         "x": [
          16
         ],
         "y": [
          "Leaf position"
         ]
        },
        {
         "marker": {
          "color": "green",
          "line": {
           "color": "rgb(248, 248, 249)",
           "width": 1
          }
         },
         "orientation": "h",
         "type": "bar",
         "x": [
          35
         ],
         "y": [
          "Leaf composition"
         ]
        },
        {
         "marker": {
          "color": "green",
          "line": {
           "color": "rgb(248, 248, 249)",
           "width": 1
          }
         },
         "orientation": "h",
         "type": "bar",
         "x": [
          24
         ],
         "y": [
          "Leaf shape"
         ]
        },
        {
         "marker": {
          "color": "green",
          "line": {
           "color": "rgb(248, 248, 249)",
           "width": 1
          }
         },
         "orientation": "h",
         "type": "bar",
         "x": [
          40
         ],
         "y": [
          "Leaf margin"
         ]
        },
        {
         "marker": {
          "color": "green",
          "line": {
           "color": "rgb(248, 248, 249)",
           "width": 1
          }
         },
         "orientation": "h",
         "type": "bar",
         "x": [
          18
         ],
         "y": [
          "Leaf upper side"
         ]
        },
        {
         "marker": {
          "color": "green",
          "line": {
           "color": "rgb(248, 248, 249)",
           "width": 1
          }
         },
         "orientation": "h",
         "type": "bar",
         "x": [
          20
         ],
         "y": [
          "Leaf lower side"
         ]
        },
        {
         "marker": {
          "color": "green",
          "line": {
           "color": "rgb(248, 248, 249)",
           "width": 1
          }
         },
         "orientation": "h",
         "type": "bar",
         "x": [
          17
         ],
         "y": [
          "Leaf glands"
         ]
        },
        {
         "marker": {
          "color": "green",
          "line": {
           "color": "rgb(248, 248, 249)",
           "width": 1
          }
         },
         "orientation": "h",
         "type": "bar",
         "x": [
          20
         ],
         "y": [
          "Leaf rachis"
         ]
        },
        {
         "marker": {
          "color": "green",
          "line": {
           "color": "rgb(248, 248, 249)",
           "width": 1
          }
         },
         "orientation": "h",
         "type": "bar",
         "x": [
          20
         ],
         "y": [
          "Thorns spines"
         ]
        },
        {
         "marker": {
          "color": "green",
          "line": {
           "color": "rgb(248, 248, 249)",
           "width": 1
          }
         },
         "orientation": "h",
         "type": "bar",
         "x": [
          20
         ],
         "y": [
          "Stipules"
         ]
        },
        {
         "marker": {
          "color": "green",
          "line": {
           "color": "rgb(248, 248, 249)",
           "width": 1
          }
         },
         "orientation": "h",
         "type": "bar",
         "x": [
          36
         ],
         "y": [
          "Inflorescence type"
         ]
        },
        {
         "marker": {
          "color": "green",
          "line": {
           "color": "rgb(248, 248, 249)",
           "width": 1
          }
         },
         "orientation": "h",
         "type": "bar",
         "x": [
          20
         ],
         "y": [
          "Sepals calyx shape"
         ]
        },
        {
         "marker": {
          "color": "green",
          "line": {
           "color": "rgb(248, 248, 249)",
           "width": 1
          }
         },
         "orientation": "h",
         "type": "bar",
         "x": [
          53
         ],
         "y": [
          "Sepals calyx numer"
         ]
        },
        {
         "marker": {
          "color": "green",
          "line": {
           "color": "rgb(248, 248, 249)",
           "width": 1
          }
         },
         "orientation": "h",
         "type": "bar",
         "x": [
          35
         ],
         "y": [
          "Petals corolla shape"
         ]
        },
        {
         "marker": {
          "color": "green",
          "line": {
           "color": "rgb(248, 248, 249)",
           "width": 1
          }
         },
         "orientation": "h",
         "type": "bar",
         "x": [
          56
         ],
         "y": [
          "Petals corolla number"
         ]
        },
        {
         "marker": {
          "color": "green",
          "line": {
           "color": "rgb(248, 248, 249)",
           "width": 1
          }
         },
         "orientation": "h",
         "type": "bar",
         "x": [
          58
         ],
         "y": [
          "Petals corolla colour"
         ]
        },
        {
         "marker": {
          "color": "green",
          "line": {
           "color": "rgb(248, 248, 249)",
           "width": 1
          }
         },
         "orientation": "h",
         "type": "bar",
         "x": [
          20
         ],
         "y": [
          "Stamen shape"
         ]
        },
        {
         "marker": {
          "color": "green",
          "line": {
           "color": "rgb(248, 248, 249)",
           "width": 1
          }
         },
         "orientation": "h",
         "type": "bar",
         "x": [
          0
         ],
         "y": [
          "Stamen number"
         ]
        },
        {
         "marker": {
          "color": "green",
          "line": {
           "color": "rgb(248, 248, 249)",
           "width": 1
          }
         },
         "orientation": "h",
         "type": "bar",
         "x": [
          60
         ],
         "y": [
          "Fruit type"
         ]
        },
        {
         "marker": {
          "color": "green",
          "line": {
           "color": "rgb(248, 248, 249)",
           "width": 1
          }
         },
         "orientation": "h",
         "type": "bar",
         "x": [
          14
         ],
         "y": [
          "Fruit shape"
         ]
        },
        {
         "marker": {
          "color": "green",
          "line": {
           "color": "rgb(248, 248, 249)",
           "width": 1
          }
         },
         "orientation": "h",
         "type": "bar",
         "x": [
          27
         ],
         "y": [
          "Fruit colour"
         ]
        },
        {
         "marker": {
          "color": "green",
          "line": {
           "color": "rgb(248, 248, 249)",
           "width": 1
          }
         },
         "orientation": "h",
         "type": "bar",
         "x": [
          0
         ],
         "y": [
          "Aril colour"
         ]
        },
        {
         "marker": {
          "color": "green",
          "line": {
           "color": "rgb(248, 248, 249)",
           "width": 1
          }
         },
         "orientation": "h",
         "type": "bar",
         "x": [
          20
         ],
         "y": [
          "Seed colour"
         ]
        },
        {
         "marker": {
          "color": "red",
          "line": {
           "color": "rgb(248, 248, 249)",
           "width": 1
          }
         },
         "orientation": "h",
         "type": "bar",
         "x": [
          10
         ],
         "y": [
          "Life form"
         ]
        },
        {
         "marker": {
          "color": "red",
          "line": {
           "color": "rgb(248, 248, 249)",
           "width": 1
          }
         },
         "orientation": "h",
         "type": "bar",
         "x": [
          4
         ],
         "y": [
          "Leaf position"
         ]
        },
        {
         "marker": {
          "color": "red",
          "line": {
           "color": "rgb(248, 248, 249)",
           "width": 1
          }
         },
         "orientation": "h",
         "type": "bar",
         "x": [
          5
         ],
         "y": [
          "Leaf composition"
         ]
        },
        {
         "marker": {
          "color": "red",
          "line": {
           "color": "rgb(248, 248, 249)",
           "width": 1
          }
         },
         "orientation": "h",
         "type": "bar",
         "x": [
          16
         ],
         "y": [
          "Leaf shape"
         ]
        },
        {
         "marker": {
          "color": "red",
          "line": {
           "color": "rgb(248, 248, 249)",
           "width": 1
          }
         },
         "orientation": "h",
         "type": "bar",
         "x": [
          0
         ],
         "y": [
          "Leaf margin"
         ]
        },
        {
         "marker": {
          "color": "red",
          "line": {
           "color": "rgb(248, 248, 249)",
           "width": 1
          }
         },
         "orientation": "h",
         "type": "bar",
         "x": [
          2
         ],
         "y": [
          "Leaf upper side"
         ]
        },
        {
         "marker": {
          "color": "red",
          "line": {
           "color": "rgb(248, 248, 249)",
           "width": 1
          }
         },
         "orientation": "h",
         "type": "bar",
         "x": [
          0
         ],
         "y": [
          "Leaf lower side"
         ]
        },
        {
         "marker": {
          "color": "red",
          "line": {
           "color": "rgb(248, 248, 249)",
           "width": 1
          }
         },
         "orientation": "h",
         "type": "bar",
         "x": [
          3
         ],
         "y": [
          "Leaf glands"
         ]
        },
        {
         "marker": {
          "color": "red",
          "line": {
           "color": "rgb(248, 248, 249)",
           "width": 1
          }
         },
         "orientation": "h",
         "type": "bar",
         "x": [
          0
         ],
         "y": [
          "Leaf rachis"
         ]
        },
        {
         "marker": {
          "color": "red",
          "line": {
           "color": "rgb(248, 248, 249)",
           "width": 1
          }
         },
         "orientation": "h",
         "type": "bar",
         "x": [
          0
         ],
         "y": [
          "Thorns spines"
         ]
        },
        {
         "marker": {
          "color": "red",
          "line": {
           "color": "rgb(248, 248, 249)",
           "width": 1
          }
         },
         "orientation": "h",
         "type": "bar",
         "x": [
          0
         ],
         "y": [
          "Stipules"
         ]
        },
        {
         "marker": {
          "color": "red",
          "line": {
           "color": "rgb(248, 248, 249)",
           "width": 1
          }
         },
         "orientation": "h",
         "type": "bar",
         "x": [
          4
         ],
         "y": [
          "Inflorescence type"
         ]
        },
        {
         "marker": {
          "color": "red",
          "line": {
           "color": "rgb(248, 248, 249)",
           "width": 1
          }
         },
         "orientation": "h",
         "type": "bar",
         "x": [
          20
         ],
         "y": [
          "Sepals calyx shape"
         ]
        },
        {
         "marker": {
          "color": "red",
          "line": {
           "color": "rgb(248, 248, 249)",
           "width": 1
          }
         },
         "orientation": "h",
         "type": "bar",
         "x": [
          7
         ],
         "y": [
          "Sepals calyx numer"
         ]
        },
        {
         "marker": {
          "color": "red",
          "line": {
           "color": "rgb(248, 248, 249)",
           "width": 1
          }
         },
         "orientation": "h",
         "type": "bar",
         "x": [
          5
         ],
         "y": [
          "Petals corolla shape"
         ]
        },
        {
         "marker": {
          "color": "red",
          "line": {
           "color": "rgb(248, 248, 249)",
           "width": 1
          }
         },
         "orientation": "h",
         "type": "bar",
         "x": [
          4
         ],
         "y": [
          "Petals corolla number"
         ]
        },
        {
         "marker": {
          "color": "red",
          "line": {
           "color": "rgb(248, 248, 249)",
           "width": 1
          }
         },
         "orientation": "h",
         "type": "bar",
         "x": [
          2
         ],
         "y": [
          "Petals corolla colour"
         ]
        },
        {
         "marker": {
          "color": "red",
          "line": {
           "color": "rgb(248, 248, 249)",
           "width": 1
          }
         },
         "orientation": "h",
         "type": "bar",
         "x": [
          0
         ],
         "y": [
          "Stamen shape"
         ]
        },
        {
         "marker": {
          "color": "red",
          "line": {
           "color": "rgb(248, 248, 249)",
           "width": 1
          }
         },
         "orientation": "h",
         "type": "bar",
         "x": [
          0
         ],
         "y": [
          "Stamen number"
         ]
        },
        {
         "marker": {
          "color": "red",
          "line": {
           "color": "rgb(248, 248, 249)",
           "width": 1
          }
         },
         "orientation": "h",
         "type": "bar",
         "x": [
          0
         ],
         "y": [
          "Fruit type"
         ]
        },
        {
         "marker": {
          "color": "red",
          "line": {
           "color": "rgb(248, 248, 249)",
           "width": 1
          }
         },
         "orientation": "h",
         "type": "bar",
         "x": [
          6
         ],
         "y": [
          "Fruit shape"
         ]
        },
        {
         "marker": {
          "color": "red",
          "line": {
           "color": "rgb(248, 248, 249)",
           "width": 1
          }
         },
         "orientation": "h",
         "type": "bar",
         "x": [
          13
         ],
         "y": [
          "Fruit colour"
         ]
        },
        {
         "marker": {
          "color": "red",
          "line": {
           "color": "rgb(248, 248, 249)",
           "width": 1
          }
         },
         "orientation": "h",
         "type": "bar",
         "x": [
          0
         ],
         "y": [
          "Aril colour"
         ]
        },
        {
         "marker": {
          "color": "red",
          "line": {
           "color": "rgb(248, 248, 249)",
           "width": 1
          }
         },
         "orientation": "h",
         "type": "bar",
         "x": [
          20
         ],
         "y": [
          "Seed colour"
         ]
        },
        {
         "marker": {
          "color": "blue",
          "line": {
           "color": "rgb(248, 248, 249)",
           "width": 1
          }
         },
         "orientation": "h",
         "type": "bar",
         "x": [
          0
         ],
         "y": [
          "Life form"
         ]
        },
        {
         "marker": {
          "color": "blue",
          "line": {
           "color": "rgb(248, 248, 249)",
           "width": 1
          }
         },
         "orientation": "h",
         "type": "bar",
         "x": [
          80
         ],
         "y": [
          "Leaf position"
         ]
        },
        {
         "marker": {
          "color": "blue",
          "line": {
           "color": "rgb(248, 248, 249)",
           "width": 1
          }
         },
         "orientation": "h",
         "type": "bar",
         "x": [
          60
         ],
         "y": [
          "Leaf composition"
         ]
        },
        {
         "marker": {
          "color": "blue",
          "line": {
           "color": "rgb(248, 248, 249)",
           "width": 1
          }
         },
         "orientation": "h",
         "type": "bar",
         "x": [
          60
         ],
         "y": [
          "Leaf shape"
         ]
        },
        {
         "marker": {
          "color": "blue",
          "line": {
           "color": "rgb(248, 248, 249)",
           "width": 1
          }
         },
         "orientation": "h",
         "type": "bar",
         "x": [
          60
         ],
         "y": [
          "Leaf margin"
         ]
        },
        {
         "marker": {
          "color": "blue",
          "line": {
           "color": "rgb(248, 248, 249)",
           "width": 1
          }
         },
         "orientation": "h",
         "type": "bar",
         "x": [
          80
         ],
         "y": [
          "Leaf upper side"
         ]
        },
        {
         "marker": {
          "color": "blue",
          "line": {
           "color": "rgb(248, 248, 249)",
           "width": 1
          }
         },
         "orientation": "h",
         "type": "bar",
         "x": [
          80
         ],
         "y": [
          "Leaf lower side"
         ]
        },
        {
         "marker": {
          "color": "blue",
          "line": {
           "color": "rgb(248, 248, 249)",
           "width": 1
          }
         },
         "orientation": "h",
         "type": "bar",
         "x": [
          80
         ],
         "y": [
          "Leaf glands"
         ]
        },
        {
         "marker": {
          "color": "blue",
          "line": {
           "color": "rgb(248, 248, 249)",
           "width": 1
          }
         },
         "orientation": "h",
         "type": "bar",
         "x": [
          80
         ],
         "y": [
          "Leaf rachis"
         ]
        },
        {
         "marker": {
          "color": "blue",
          "line": {
           "color": "rgb(248, 248, 249)",
           "width": 1
          }
         },
         "orientation": "h",
         "type": "bar",
         "x": [
          80
         ],
         "y": [
          "Thorns spines"
         ]
        },
        {
         "marker": {
          "color": "blue",
          "line": {
           "color": "rgb(248, 248, 249)",
           "width": 1
          }
         },
         "orientation": "h",
         "type": "bar",
         "x": [
          80
         ],
         "y": [
          "Stipules"
         ]
        },
        {
         "marker": {
          "color": "blue",
          "line": {
           "color": "rgb(248, 248, 249)",
           "width": 1
          }
         },
         "orientation": "h",
         "type": "bar",
         "x": [
          60
         ],
         "y": [
          "Inflorescence type"
         ]
        },
        {
         "marker": {
          "color": "blue",
          "line": {
           "color": "rgb(248, 248, 249)",
           "width": 1
          }
         },
         "orientation": "h",
         "type": "bar",
         "x": [
          60
         ],
         "y": [
          "Sepals calyx shape"
         ]
        },
        {
         "marker": {
          "color": "blue",
          "line": {
           "color": "rgb(248, 248, 249)",
           "width": 1
          }
         },
         "orientation": "h",
         "type": "bar",
         "x": [
          40
         ],
         "y": [
          "Sepals calyx numer"
         ]
        },
        {
         "marker": {
          "color": "blue",
          "line": {
           "color": "rgb(248, 248, 249)",
           "width": 1
          }
         },
         "orientation": "h",
         "type": "bar",
         "x": [
          60
         ],
         "y": [
          "Petals corolla shape"
         ]
        },
        {
         "marker": {
          "color": "blue",
          "line": {
           "color": "rgb(248, 248, 249)",
           "width": 1
          }
         },
         "orientation": "h",
         "type": "bar",
         "x": [
          40
         ],
         "y": [
          "Petals corolla number"
         ]
        },
        {
         "marker": {
          "color": "blue",
          "line": {
           "color": "rgb(248, 248, 249)",
           "width": 1
          }
         },
         "orientation": "h",
         "type": "bar",
         "x": [
          40
         ],
         "y": [
          "Petals corolla colour"
         ]
        },
        {
         "marker": {
          "color": "blue",
          "line": {
           "color": "rgb(248, 248, 249)",
           "width": 1
          }
         },
         "orientation": "h",
         "type": "bar",
         "x": [
          80
         ],
         "y": [
          "Stamen shape"
         ]
        },
        {
         "marker": {
          "color": "blue",
          "line": {
           "color": "rgb(248, 248, 249)",
           "width": 1
          }
         },
         "orientation": "h",
         "type": "bar",
         "x": [
          100
         ],
         "y": [
          "Stamen number"
         ]
        },
        {
         "marker": {
          "color": "blue",
          "line": {
           "color": "rgb(248, 248, 249)",
           "width": 1
          }
         },
         "orientation": "h",
         "type": "bar",
         "x": [
          40
         ],
         "y": [
          "Fruit type"
         ]
        },
        {
         "marker": {
          "color": "blue",
          "line": {
           "color": "rgb(248, 248, 249)",
           "width": 1
          }
         },
         "orientation": "h",
         "type": "bar",
         "x": [
          80
         ],
         "y": [
          "Fruit shape"
         ]
        },
        {
         "marker": {
          "color": "blue",
          "line": {
           "color": "rgb(248, 248, 249)",
           "width": 1
          }
         },
         "orientation": "h",
         "type": "bar",
         "x": [
          60
         ],
         "y": [
          "Fruit colour"
         ]
        },
        {
         "marker": {
          "color": "blue",
          "line": {
           "color": "rgb(248, 248, 249)",
           "width": 1
          }
         },
         "orientation": "h",
         "type": "bar",
         "x": [
          100
         ],
         "y": [
          "Aril colour"
         ]
        },
        {
         "marker": {
          "color": "blue",
          "line": {
           "color": "rgb(248, 248, 249)",
           "width": 1
          }
         },
         "orientation": "h",
         "type": "bar",
         "x": [
          60
         ],
         "y": [
          "Seed colour"
         ]
        }
       ],
       "layout": {
        "annotations": [
         {
          "align": "right",
          "font": {
           "color": "rgb(67, 67, 67)",
           "family": "Arial",
           "size": 14
          },
          "showarrow": false,
          "text": "Life form",
          "x": 0.14,
          "xanchor": "right",
          "xref": "paper",
          "y": "Life form",
          "yref": "y"
         },
         {
          "font": {
           "color": "rgb(248, 248, 255)",
           "family": "Arial",
           "size": 14
          },
          "showarrow": false,
          "text": "90.0%",
          "x": 45,
          "xref": "x",
          "y": "Life form",
          "yref": "y"
         },
         {
          "font": {
           "color": "rgb(248, 248, 255)",
           "family": "Arial",
           "size": 14
          },
          "showarrow": false,
          "text": "10.0%",
          "x": 95,
          "xref": "x",
          "y": "Life form",
          "yref": "y"
         },
         {
          "font": {
           "color": "rgb(248, 248, 255)",
           "family": "Arial",
           "size": 14
          },
          "showarrow": false,
          "text": "0.0%",
          "x": 100,
          "xref": "x",
          "y": "Life form",
          "yref": "y"
         },
         {
          "align": "right",
          "font": {
           "color": "rgb(67, 67, 67)",
           "family": "Arial",
           "size": 14
          },
          "showarrow": false,
          "text": "Leaf position",
          "x": 0.14,
          "xanchor": "right",
          "xref": "paper",
          "y": "Leaf position",
          "yref": "y"
         },
         {
          "font": {
           "color": "rgb(248, 248, 255)",
           "family": "Arial",
           "size": 14
          },
          "showarrow": false,
          "text": "16.0%",
          "x": 8,
          "xref": "x",
          "y": "Leaf position",
          "yref": "y"
         },
         {
          "font": {
           "color": "rgb(248, 248, 255)",
           "family": "Arial",
           "size": 14
          },
          "showarrow": false,
          "text": "4.0%",
          "x": 18,
          "xref": "x",
          "y": "Leaf position",
          "yref": "y"
         },
         {
          "font": {
           "color": "rgb(248, 248, 255)",
           "family": "Arial",
           "size": 14
          },
          "showarrow": false,
          "text": "80.0%",
          "x": 60,
          "xref": "x",
          "y": "Leaf position",
          "yref": "y"
         },
         {
          "align": "right",
          "font": {
           "color": "rgb(67, 67, 67)",
           "family": "Arial",
           "size": 14
          },
          "showarrow": false,
          "text": "Leaf composition",
          "x": 0.14,
          "xanchor": "right",
          "xref": "paper",
          "y": "Leaf composition",
          "yref": "y"
         },
         {
          "font": {
           "color": "rgb(248, 248, 255)",
           "family": "Arial",
           "size": 14
          },
          "showarrow": false,
          "text": "35.0%",
          "x": 17.5,
          "xref": "x",
          "y": "Leaf composition",
          "yref": "y"
         },
         {
          "font": {
           "color": "rgb(248, 248, 255)",
           "family": "Arial",
           "size": 14
          },
          "showarrow": false,
          "text": "5.0%",
          "x": 37.5,
          "xref": "x",
          "y": "Leaf composition",
          "yref": "y"
         },
         {
          "font": {
           "color": "rgb(248, 248, 255)",
           "family": "Arial",
           "size": 14
          },
          "showarrow": false,
          "text": "60.0%",
          "x": 70,
          "xref": "x",
          "y": "Leaf composition",
          "yref": "y"
         },
         {
          "align": "right",
          "font": {
           "color": "rgb(67, 67, 67)",
           "family": "Arial",
           "size": 14
          },
          "showarrow": false,
          "text": "Leaf shape",
          "x": 0.14,
          "xanchor": "right",
          "xref": "paper",
          "y": "Leaf shape",
          "yref": "y"
         },
         {
          "font": {
           "color": "rgb(248, 248, 255)",
           "family": "Arial",
           "size": 14
          },
          "showarrow": false,
          "text": "24.0%",
          "x": 12,
          "xref": "x",
          "y": "Leaf shape",
          "yref": "y"
         },
         {
          "font": {
           "color": "rgb(248, 248, 255)",
           "family": "Arial",
           "size": 14
          },
          "showarrow": false,
          "text": "16.0%",
          "x": 32,
          "xref": "x",
          "y": "Leaf shape",
          "yref": "y"
         },
         {
          "font": {
           "color": "rgb(248, 248, 255)",
           "family": "Arial",
           "size": 14
          },
          "showarrow": false,
          "text": "60.0%",
          "x": 70,
          "xref": "x",
          "y": "Leaf shape",
          "yref": "y"
         },
         {
          "align": "right",
          "font": {
           "color": "rgb(67, 67, 67)",
           "family": "Arial",
           "size": 14
          },
          "showarrow": false,
          "text": "Leaf margin",
          "x": 0.14,
          "xanchor": "right",
          "xref": "paper",
          "y": "Leaf margin",
          "yref": "y"
         },
         {
          "font": {
           "color": "rgb(248, 248, 255)",
           "family": "Arial",
           "size": 14
          },
          "showarrow": false,
          "text": "40.0%",
          "x": 20,
          "xref": "x",
          "y": "Leaf margin",
          "yref": "y"
         },
         {
          "font": {
           "color": "rgb(248, 248, 255)",
           "family": "Arial",
           "size": 14
          },
          "showarrow": false,
          "text": "0.0%",
          "x": 40,
          "xref": "x",
          "y": "Leaf margin",
          "yref": "y"
         },
         {
          "font": {
           "color": "rgb(248, 248, 255)",
           "family": "Arial",
           "size": 14
          },
          "showarrow": false,
          "text": "60.0%",
          "x": 70,
          "xref": "x",
          "y": "Leaf margin",
          "yref": "y"
         },
         {
          "align": "right",
          "font": {
           "color": "rgb(67, 67, 67)",
           "family": "Arial",
           "size": 14
          },
          "showarrow": false,
          "text": "Leaf upper side",
          "x": 0.14,
          "xanchor": "right",
          "xref": "paper",
          "y": "Leaf upper side",
          "yref": "y"
         },
         {
          "font": {
           "color": "rgb(248, 248, 255)",
           "family": "Arial",
           "size": 14
          },
          "showarrow": false,
          "text": "18.0%",
          "x": 9,
          "xref": "x",
          "y": "Leaf upper side",
          "yref": "y"
         },
         {
          "font": {
           "color": "rgb(248, 248, 255)",
           "family": "Arial",
           "size": 14
          },
          "showarrow": false,
          "text": "2.0%",
          "x": 19,
          "xref": "x",
          "y": "Leaf upper side",
          "yref": "y"
         },
         {
          "font": {
           "color": "rgb(248, 248, 255)",
           "family": "Arial",
           "size": 14
          },
          "showarrow": false,
          "text": "80.0%",
          "x": 60,
          "xref": "x",
          "y": "Leaf upper side",
          "yref": "y"
         },
         {
          "align": "right",
          "font": {
           "color": "rgb(67, 67, 67)",
           "family": "Arial",
           "size": 14
          },
          "showarrow": false,
          "text": "Leaf lower side",
          "x": 0.14,
          "xanchor": "right",
          "xref": "paper",
          "y": "Leaf lower side",
          "yref": "y"
         },
         {
          "font": {
           "color": "rgb(248, 248, 255)",
           "family": "Arial",
           "size": 14
          },
          "showarrow": false,
          "text": "20.0%",
          "x": 10,
          "xref": "x",
          "y": "Leaf lower side",
          "yref": "y"
         },
         {
          "font": {
           "color": "rgb(248, 248, 255)",
           "family": "Arial",
           "size": 14
          },
          "showarrow": false,
          "text": "0.0%",
          "x": 20,
          "xref": "x",
          "y": "Leaf lower side",
          "yref": "y"
         },
         {
          "font": {
           "color": "rgb(248, 248, 255)",
           "family": "Arial",
           "size": 14
          },
          "showarrow": false,
          "text": "80.0%",
          "x": 60,
          "xref": "x",
          "y": "Leaf lower side",
          "yref": "y"
         },
         {
          "align": "right",
          "font": {
           "color": "rgb(67, 67, 67)",
           "family": "Arial",
           "size": 14
          },
          "showarrow": false,
          "text": "Leaf glands",
          "x": 0.14,
          "xanchor": "right",
          "xref": "paper",
          "y": "Leaf glands",
          "yref": "y"
         },
         {
          "font": {
           "color": "rgb(248, 248, 255)",
           "family": "Arial",
           "size": 14
          },
          "showarrow": false,
          "text": "17.0%",
          "x": 8.5,
          "xref": "x",
          "y": "Leaf glands",
          "yref": "y"
         },
         {
          "font": {
           "color": "rgb(248, 248, 255)",
           "family": "Arial",
           "size": 14
          },
          "showarrow": false,
          "text": "3.0%",
          "x": 18.5,
          "xref": "x",
          "y": "Leaf glands",
          "yref": "y"
         },
         {
          "font": {
           "color": "rgb(248, 248, 255)",
           "family": "Arial",
           "size": 14
          },
          "showarrow": false,
          "text": "80.0%",
          "x": 60,
          "xref": "x",
          "y": "Leaf glands",
          "yref": "y"
         },
         {
          "align": "right",
          "font": {
           "color": "rgb(67, 67, 67)",
           "family": "Arial",
           "size": 14
          },
          "showarrow": false,
          "text": "Leaf rachis",
          "x": 0.14,
          "xanchor": "right",
          "xref": "paper",
          "y": "Leaf rachis",
          "yref": "y"
         },
         {
          "font": {
           "color": "rgb(248, 248, 255)",
           "family": "Arial",
           "size": 14
          },
          "showarrow": false,
          "text": "20.0%",
          "x": 10,
          "xref": "x",
          "y": "Leaf rachis",
          "yref": "y"
         },
         {
          "font": {
           "color": "rgb(248, 248, 255)",
           "family": "Arial",
           "size": 14
          },
          "showarrow": false,
          "text": "0.0%",
          "x": 20,
          "xref": "x",
          "y": "Leaf rachis",
          "yref": "y"
         },
         {
          "font": {
           "color": "rgb(248, 248, 255)",
           "family": "Arial",
           "size": 14
          },
          "showarrow": false,
          "text": "80.0%",
          "x": 60,
          "xref": "x",
          "y": "Leaf rachis",
          "yref": "y"
         },
         {
          "align": "right",
          "font": {
           "color": "rgb(67, 67, 67)",
           "family": "Arial",
           "size": 14
          },
          "showarrow": false,
          "text": "Thorns spines",
          "x": 0.14,
          "xanchor": "right",
          "xref": "paper",
          "y": "Thorns spines",
          "yref": "y"
         },
         {
          "font": {
           "color": "rgb(248, 248, 255)",
           "family": "Arial",
           "size": 14
          },
          "showarrow": false,
          "text": "20.0%",
          "x": 10,
          "xref": "x",
          "y": "Thorns spines",
          "yref": "y"
         },
         {
          "font": {
           "color": "rgb(248, 248, 255)",
           "family": "Arial",
           "size": 14
          },
          "showarrow": false,
          "text": "0.0%",
          "x": 20,
          "xref": "x",
          "y": "Thorns spines",
          "yref": "y"
         },
         {
          "font": {
           "color": "rgb(248, 248, 255)",
           "family": "Arial",
           "size": 14
          },
          "showarrow": false,
          "text": "80.0%",
          "x": 60,
          "xref": "x",
          "y": "Thorns spines",
          "yref": "y"
         },
         {
          "align": "right",
          "font": {
           "color": "rgb(67, 67, 67)",
           "family": "Arial",
           "size": 14
          },
          "showarrow": false,
          "text": "Stipules",
          "x": 0.14,
          "xanchor": "right",
          "xref": "paper",
          "y": "Stipules",
          "yref": "y"
         },
         {
          "font": {
           "color": "rgb(248, 248, 255)",
           "family": "Arial",
           "size": 14
          },
          "showarrow": false,
          "text": "20.0%",
          "x": 10,
          "xref": "x",
          "y": "Stipules",
          "yref": "y"
         },
         {
          "font": {
           "color": "rgb(248, 248, 255)",
           "family": "Arial",
           "size": 14
          },
          "showarrow": false,
          "text": "0.0%",
          "x": 20,
          "xref": "x",
          "y": "Stipules",
          "yref": "y"
         },
         {
          "font": {
           "color": "rgb(248, 248, 255)",
           "family": "Arial",
           "size": 14
          },
          "showarrow": false,
          "text": "80.0%",
          "x": 60,
          "xref": "x",
          "y": "Stipules",
          "yref": "y"
         },
         {
          "align": "right",
          "font": {
           "color": "rgb(67, 67, 67)",
           "family": "Arial",
           "size": 14
          },
          "showarrow": false,
          "text": "Inflorescence type",
          "x": 0.14,
          "xanchor": "right",
          "xref": "paper",
          "y": "Inflorescence type",
          "yref": "y"
         },
         {
          "font": {
           "color": "rgb(248, 248, 255)",
           "family": "Arial",
           "size": 14
          },
          "showarrow": false,
          "text": "36.0%",
          "x": 18,
          "xref": "x",
          "y": "Inflorescence type",
          "yref": "y"
         },
         {
          "font": {
           "color": "rgb(248, 248, 255)",
           "family": "Arial",
           "size": 14
          },
          "showarrow": false,
          "text": "4.0%",
          "x": 38,
          "xref": "x",
          "y": "Inflorescence type",
          "yref": "y"
         },
         {
          "font": {
           "color": "rgb(248, 248, 255)",
           "family": "Arial",
           "size": 14
          },
          "showarrow": false,
          "text": "60.0%",
          "x": 70,
          "xref": "x",
          "y": "Inflorescence type",
          "yref": "y"
         },
         {
          "align": "right",
          "font": {
           "color": "rgb(67, 67, 67)",
           "family": "Arial",
           "size": 14
          },
          "showarrow": false,
          "text": "Sepals calyx shape",
          "x": 0.14,
          "xanchor": "right",
          "xref": "paper",
          "y": "Sepals calyx shape",
          "yref": "y"
         },
         {
          "font": {
           "color": "rgb(248, 248, 255)",
           "family": "Arial",
           "size": 14
          },
          "showarrow": false,
          "text": "20.0%",
          "x": 10,
          "xref": "x",
          "y": "Sepals calyx shape",
          "yref": "y"
         },
         {
          "font": {
           "color": "rgb(248, 248, 255)",
           "family": "Arial",
           "size": 14
          },
          "showarrow": false,
          "text": "20.0%",
          "x": 30,
          "xref": "x",
          "y": "Sepals calyx shape",
          "yref": "y"
         },
         {
          "font": {
           "color": "rgb(248, 248, 255)",
           "family": "Arial",
           "size": 14
          },
          "showarrow": false,
          "text": "60.0%",
          "x": 70,
          "xref": "x",
          "y": "Sepals calyx shape",
          "yref": "y"
         },
         {
          "align": "right",
          "font": {
           "color": "rgb(67, 67, 67)",
           "family": "Arial",
           "size": 14
          },
          "showarrow": false,
          "text": "Sepals calyx numer",
          "x": 0.14,
          "xanchor": "right",
          "xref": "paper",
          "y": "Sepals calyx numer",
          "yref": "y"
         },
         {
          "font": {
           "color": "rgb(248, 248, 255)",
           "family": "Arial",
           "size": 14
          },
          "showarrow": false,
          "text": "53.0%",
          "x": 26.5,
          "xref": "x",
          "y": "Sepals calyx numer",
          "yref": "y"
         },
         {
          "font": {
           "color": "rgb(248, 248, 255)",
           "family": "Arial",
           "size": 14
          },
          "showarrow": false,
          "text": "7.0%",
          "x": 56.5,
          "xref": "x",
          "y": "Sepals calyx numer",
          "yref": "y"
         },
         {
          "font": {
           "color": "rgb(248, 248, 255)",
           "family": "Arial",
           "size": 14
          },
          "showarrow": false,
          "text": "40.0%",
          "x": 80,
          "xref": "x",
          "y": "Sepals calyx numer",
          "yref": "y"
         },
         {
          "align": "right",
          "font": {
           "color": "rgb(67, 67, 67)",
           "family": "Arial",
           "size": 14
          },
          "showarrow": false,
          "text": "Petals corolla shape",
          "x": 0.14,
          "xanchor": "right",
          "xref": "paper",
          "y": "Petals corolla shape",
          "yref": "y"
         },
         {
          "font": {
           "color": "rgb(248, 248, 255)",
           "family": "Arial",
           "size": 14
          },
          "showarrow": false,
          "text": "35.0%",
          "x": 17.5,
          "xref": "x",
          "y": "Petals corolla shape",
          "yref": "y"
         },
         {
          "font": {
           "color": "rgb(248, 248, 255)",
           "family": "Arial",
           "size": 14
          },
          "showarrow": false,
          "text": "5.0%",
          "x": 37.5,
          "xref": "x",
          "y": "Petals corolla shape",
          "yref": "y"
         },
         {
          "font": {
           "color": "rgb(248, 248, 255)",
           "family": "Arial",
           "size": 14
          },
          "showarrow": false,
          "text": "60.0%",
          "x": 70,
          "xref": "x",
          "y": "Petals corolla shape",
          "yref": "y"
         },
         {
          "align": "right",
          "font": {
           "color": "rgb(67, 67, 67)",
           "family": "Arial",
           "size": 14
          },
          "showarrow": false,
          "text": "Petals corolla number",
          "x": 0.14,
          "xanchor": "right",
          "xref": "paper",
          "y": "Petals corolla number",
          "yref": "y"
         },
         {
          "font": {
           "color": "rgb(248, 248, 255)",
           "family": "Arial",
           "size": 14
          },
          "showarrow": false,
          "text": "56.0%",
          "x": 28,
          "xref": "x",
          "y": "Petals corolla number",
          "yref": "y"
         },
         {
          "font": {
           "color": "rgb(248, 248, 255)",
           "family": "Arial",
           "size": 14
          },
          "showarrow": false,
          "text": "4.0%",
          "x": 58,
          "xref": "x",
          "y": "Petals corolla number",
          "yref": "y"
         },
         {
          "font": {
           "color": "rgb(248, 248, 255)",
           "family": "Arial",
           "size": 14
          },
          "showarrow": false,
          "text": "40.0%",
          "x": 80,
          "xref": "x",
          "y": "Petals corolla number",
          "yref": "y"
         },
         {
          "align": "right",
          "font": {
           "color": "rgb(67, 67, 67)",
           "family": "Arial",
           "size": 14
          },
          "showarrow": false,
          "text": "Petals corolla colour",
          "x": 0.14,
          "xanchor": "right",
          "xref": "paper",
          "y": "Petals corolla colour",
          "yref": "y"
         },
         {
          "font": {
           "color": "rgb(248, 248, 255)",
           "family": "Arial",
           "size": 14
          },
          "showarrow": false,
          "text": "58.0%",
          "x": 29,
          "xref": "x",
          "y": "Petals corolla colour",
          "yref": "y"
         },
         {
          "font": {
           "color": "rgb(248, 248, 255)",
           "family": "Arial",
           "size": 14
          },
          "showarrow": false,
          "text": "2.0%",
          "x": 59,
          "xref": "x",
          "y": "Petals corolla colour",
          "yref": "y"
         },
         {
          "font": {
           "color": "rgb(248, 248, 255)",
           "family": "Arial",
           "size": 14
          },
          "showarrow": false,
          "text": "40.0%",
          "x": 80,
          "xref": "x",
          "y": "Petals corolla colour",
          "yref": "y"
         },
         {
          "align": "right",
          "font": {
           "color": "rgb(67, 67, 67)",
           "family": "Arial",
           "size": 14
          },
          "showarrow": false,
          "text": "Stamen shape",
          "x": 0.14,
          "xanchor": "right",
          "xref": "paper",
          "y": "Stamen shape",
          "yref": "y"
         },
         {
          "font": {
           "color": "rgb(248, 248, 255)",
           "family": "Arial",
           "size": 14
          },
          "showarrow": false,
          "text": "20.0%",
          "x": 10,
          "xref": "x",
          "y": "Stamen shape",
          "yref": "y"
         },
         {
          "font": {
           "color": "rgb(248, 248, 255)",
           "family": "Arial",
           "size": 14
          },
          "showarrow": false,
          "text": "0.0%",
          "x": 20,
          "xref": "x",
          "y": "Stamen shape",
          "yref": "y"
         },
         {
          "font": {
           "color": "rgb(248, 248, 255)",
           "family": "Arial",
           "size": 14
          },
          "showarrow": false,
          "text": "80.0%",
          "x": 60,
          "xref": "x",
          "y": "Stamen shape",
          "yref": "y"
         },
         {
          "align": "right",
          "font": {
           "color": "rgb(67, 67, 67)",
           "family": "Arial",
           "size": 14
          },
          "showarrow": false,
          "text": "Stamen number",
          "x": 0.14,
          "xanchor": "right",
          "xref": "paper",
          "y": "Stamen number",
          "yref": "y"
         },
         {
          "font": {
           "color": "rgb(248, 248, 255)",
           "family": "Arial",
           "size": 14
          },
          "showarrow": false,
          "text": "0.0%",
          "x": 0,
          "xref": "x",
          "y": "Stamen number",
          "yref": "y"
         },
         {
          "font": {
           "color": "rgb(248, 248, 255)",
           "family": "Arial",
           "size": 14
          },
          "showarrow": false,
          "text": "0.0%",
          "x": 0,
          "xref": "x",
          "y": "Stamen number",
          "yref": "y"
         },
         {
          "font": {
           "color": "rgb(248, 248, 255)",
           "family": "Arial",
           "size": 14
          },
          "showarrow": false,
          "text": "100.0%",
          "x": 50,
          "xref": "x",
          "y": "Stamen number",
          "yref": "y"
         },
         {
          "align": "right",
          "font": {
           "color": "rgb(67, 67, 67)",
           "family": "Arial",
           "size": 14
          },
          "showarrow": false,
          "text": "Fruit type",
          "x": 0.14,
          "xanchor": "right",
          "xref": "paper",
          "y": "Fruit type",
          "yref": "y"
         },
         {
          "font": {
           "color": "rgb(248, 248, 255)",
           "family": "Arial",
           "size": 14
          },
          "showarrow": false,
          "text": "60.0%",
          "x": 30,
          "xref": "x",
          "y": "Fruit type",
          "yref": "y"
         },
         {
          "font": {
           "color": "rgb(248, 248, 255)",
           "family": "Arial",
           "size": 14
          },
          "showarrow": false,
          "text": "0.0%",
          "x": 60,
          "xref": "x",
          "y": "Fruit type",
          "yref": "y"
         },
         {
          "font": {
           "color": "rgb(248, 248, 255)",
           "family": "Arial",
           "size": 14
          },
          "showarrow": false,
          "text": "40.0%",
          "x": 80,
          "xref": "x",
          "y": "Fruit type",
          "yref": "y"
         },
         {
          "align": "right",
          "font": {
           "color": "rgb(67, 67, 67)",
           "family": "Arial",
           "size": 14
          },
          "showarrow": false,
          "text": "Fruit shape",
          "x": 0.14,
          "xanchor": "right",
          "xref": "paper",
          "y": "Fruit shape",
          "yref": "y"
         },
         {
          "font": {
           "color": "rgb(248, 248, 255)",
           "family": "Arial",
           "size": 14
          },
          "showarrow": false,
          "text": "14.0%",
          "x": 7,
          "xref": "x",
          "y": "Fruit shape",
          "yref": "y"
         },
         {
          "font": {
           "color": "rgb(248, 248, 255)",
           "family": "Arial",
           "size": 14
          },
          "showarrow": false,
          "text": "6.0%",
          "x": 17,
          "xref": "x",
          "y": "Fruit shape",
          "yref": "y"
         },
         {
          "font": {
           "color": "rgb(248, 248, 255)",
           "family": "Arial",
           "size": 14
          },
          "showarrow": false,
          "text": "80.0%",
          "x": 60,
          "xref": "x",
          "y": "Fruit shape",
          "yref": "y"
         },
         {
          "align": "right",
          "font": {
           "color": "rgb(67, 67, 67)",
           "family": "Arial",
           "size": 14
          },
          "showarrow": false,
          "text": "Fruit colour",
          "x": 0.14,
          "xanchor": "right",
          "xref": "paper",
          "y": "Fruit colour",
          "yref": "y"
         },
         {
          "font": {
           "color": "rgb(248, 248, 255)",
           "family": "Arial",
           "size": 14
          },
          "showarrow": false,
          "text": "27.0%",
          "x": 13.5,
          "xref": "x",
          "y": "Fruit colour",
          "yref": "y"
         },
         {
          "font": {
           "color": "rgb(248, 248, 255)",
           "family": "Arial",
           "size": 14
          },
          "showarrow": false,
          "text": "13.0%",
          "x": 33.5,
          "xref": "x",
          "y": "Fruit colour",
          "yref": "y"
         },
         {
          "font": {
           "color": "rgb(248, 248, 255)",
           "family": "Arial",
           "size": 14
          },
          "showarrow": false,
          "text": "60.0%",
          "x": 70,
          "xref": "x",
          "y": "Fruit colour",
          "yref": "y"
         },
         {
          "align": "right",
          "font": {
           "color": "rgb(67, 67, 67)",
           "family": "Arial",
           "size": 14
          },
          "showarrow": false,
          "text": "Aril colour",
          "x": 0.14,
          "xanchor": "right",
          "xref": "paper",
          "y": "Aril colour",
          "yref": "y"
         },
         {
          "font": {
           "color": "rgb(248, 248, 255)",
           "family": "Arial",
           "size": 14
          },
          "showarrow": false,
          "text": "0.0%",
          "x": 0,
          "xref": "x",
          "y": "Aril colour",
          "yref": "y"
         },
         {
          "font": {
           "color": "rgb(248, 248, 255)",
           "family": "Arial",
           "size": 14
          },
          "showarrow": false,
          "text": "0.0%",
          "x": 0,
          "xref": "x",
          "y": "Aril colour",
          "yref": "y"
         },
         {
          "font": {
           "color": "rgb(248, 248, 255)",
           "family": "Arial",
           "size": 14
          },
          "showarrow": false,
          "text": "100.0%",
          "x": 50,
          "xref": "x",
          "y": "Aril colour",
          "yref": "y"
         },
         {
          "align": "right",
          "font": {
           "color": "rgb(67, 67, 67)",
           "family": "Arial",
           "size": 14
          },
          "showarrow": false,
          "text": "Seed colour",
          "x": 0.14,
          "xanchor": "right",
          "xref": "paper",
          "y": "Seed colour",
          "yref": "y"
         },
         {
          "font": {
           "color": "rgb(248, 248, 255)",
           "family": "Arial",
           "size": 14
          },
          "showarrow": false,
          "text": "20.0%",
          "x": 10,
          "xref": "x",
          "y": "Seed colour",
          "yref": "y"
         },
         {
          "font": {
           "color": "rgb(67, 67, 67)",
           "family": "Arial",
           "size": 14
          },
          "showarrow": false,
          "text": "Correct",
          "x": 10,
          "xref": "x",
          "y": 1.1,
          "yref": "paper"
         },
         {
          "font": {
           "color": "rgb(248, 248, 255)",
           "family": "Arial",
           "size": 14
          },
          "showarrow": false,
          "text": "20.0%",
          "x": 30,
          "xref": "x",
          "y": "Seed colour",
          "yref": "y"
         },
         {
          "font": {
           "color": "rgb(67, 67, 67)",
           "family": "Arial",
           "size": 14
          },
          "showarrow": false,
          "text": "Incorrect",
          "x": 30,
          "xref": "x",
          "y": 1.1,
          "yref": "paper"
         },
         {
          "font": {
           "color": "rgb(248, 248, 255)",
           "family": "Arial",
           "size": 14
          },
          "showarrow": false,
          "text": "60.0%",
          "x": 70,
          "xref": "x",
          "y": "Seed colour",
          "yref": "y"
         },
         {
          "font": {
           "color": "rgb(67, 67, 67)",
           "family": "Arial",
           "size": 14
          },
          "showarrow": false,
          "text": "No Information",
          "x": 70,
          "xref": "x",
          "y": 1.1,
          "yref": "paper"
         }
        ],
        "barmode": "stack",
        "height": 800,
        "margin": {
         "b": 80,
         "l": 120,
         "r": 10,
         "t": 140
        },
        "paper_bgcolor": "rgb(248, 248, 255)",
        "plot_bgcolor": "rgb(248, 248, 255)",
        "showlegend": false,
        "template": {
         "data": {
          "bar": [
           {
            "error_x": {
             "color": "#2a3f5f"
            },
            "error_y": {
             "color": "#2a3f5f"
            },
            "marker": {
             "line": {
              "color": "#E5ECF6",
              "width": 0.5
             },
             "pattern": {
              "fillmode": "overlay",
              "size": 10,
              "solidity": 0.2
             }
            },
            "type": "bar"
           }
          ],
          "barpolar": [
           {
            "marker": {
             "line": {
              "color": "#E5ECF6",
              "width": 0.5
             },
             "pattern": {
              "fillmode": "overlay",
              "size": 10,
              "solidity": 0.2
             }
            },
            "type": "barpolar"
           }
          ],
          "carpet": [
           {
            "aaxis": {
             "endlinecolor": "#2a3f5f",
             "gridcolor": "white",
             "linecolor": "white",
             "minorgridcolor": "white",
             "startlinecolor": "#2a3f5f"
            },
            "baxis": {
             "endlinecolor": "#2a3f5f",
             "gridcolor": "white",
             "linecolor": "white",
             "minorgridcolor": "white",
             "startlinecolor": "#2a3f5f"
            },
            "type": "carpet"
           }
          ],
          "choropleth": [
           {
            "colorbar": {
             "outlinewidth": 0,
             "ticks": ""
            },
            "type": "choropleth"
           }
          ],
          "contour": [
           {
            "colorbar": {
             "outlinewidth": 0,
             "ticks": ""
            },
            "colorscale": [
             [
              0,
              "#0d0887"
             ],
             [
              0.1111111111111111,
              "#46039f"
             ],
             [
              0.2222222222222222,
              "#7201a8"
             ],
             [
              0.3333333333333333,
              "#9c179e"
             ],
             [
              0.4444444444444444,
              "#bd3786"
             ],
             [
              0.5555555555555556,
              "#d8576b"
             ],
             [
              0.6666666666666666,
              "#ed7953"
             ],
             [
              0.7777777777777778,
              "#fb9f3a"
             ],
             [
              0.8888888888888888,
              "#fdca26"
             ],
             [
              1,
              "#f0f921"
             ]
            ],
            "type": "contour"
           }
          ],
          "contourcarpet": [
           {
            "colorbar": {
             "outlinewidth": 0,
             "ticks": ""
            },
            "type": "contourcarpet"
           }
          ],
          "heatmap": [
           {
            "colorbar": {
             "outlinewidth": 0,
             "ticks": ""
            },
            "colorscale": [
             [
              0,
              "#0d0887"
             ],
             [
              0.1111111111111111,
              "#46039f"
             ],
             [
              0.2222222222222222,
              "#7201a8"
             ],
             [
              0.3333333333333333,
              "#9c179e"
             ],
             [
              0.4444444444444444,
              "#bd3786"
             ],
             [
              0.5555555555555556,
              "#d8576b"
             ],
             [
              0.6666666666666666,
              "#ed7953"
             ],
             [
              0.7777777777777778,
              "#fb9f3a"
             ],
             [
              0.8888888888888888,
              "#fdca26"
             ],
             [
              1,
              "#f0f921"
             ]
            ],
            "type": "heatmap"
           }
          ],
          "heatmapgl": [
           {
            "colorbar": {
             "outlinewidth": 0,
             "ticks": ""
            },
            "colorscale": [
             [
              0,
              "#0d0887"
             ],
             [
              0.1111111111111111,
              "#46039f"
             ],
             [
              0.2222222222222222,
              "#7201a8"
             ],
             [
              0.3333333333333333,
              "#9c179e"
             ],
             [
              0.4444444444444444,
              "#bd3786"
             ],
             [
              0.5555555555555556,
              "#d8576b"
             ],
             [
              0.6666666666666666,
              "#ed7953"
             ],
             [
              0.7777777777777778,
              "#fb9f3a"
             ],
             [
              0.8888888888888888,
              "#fdca26"
             ],
             [
              1,
              "#f0f921"
             ]
            ],
            "type": "heatmapgl"
           }
          ],
          "histogram": [
           {
            "marker": {
             "pattern": {
              "fillmode": "overlay",
              "size": 10,
              "solidity": 0.2
             }
            },
            "type": "histogram"
           }
          ],
          "histogram2d": [
           {
            "colorbar": {
             "outlinewidth": 0,
             "ticks": ""
            },
            "colorscale": [
             [
              0,
              "#0d0887"
             ],
             [
              0.1111111111111111,
              "#46039f"
             ],
             [
              0.2222222222222222,
              "#7201a8"
             ],
             [
              0.3333333333333333,
              "#9c179e"
             ],
             [
              0.4444444444444444,
              "#bd3786"
             ],
             [
              0.5555555555555556,
              "#d8576b"
             ],
             [
              0.6666666666666666,
              "#ed7953"
             ],
             [
              0.7777777777777778,
              "#fb9f3a"
             ],
             [
              0.8888888888888888,
              "#fdca26"
             ],
             [
              1,
              "#f0f921"
             ]
            ],
            "type": "histogram2d"
           }
          ],
          "histogram2dcontour": [
           {
            "colorbar": {
             "outlinewidth": 0,
             "ticks": ""
            },
            "colorscale": [
             [
              0,
              "#0d0887"
             ],
             [
              0.1111111111111111,
              "#46039f"
             ],
             [
              0.2222222222222222,
              "#7201a8"
             ],
             [
              0.3333333333333333,
              "#9c179e"
             ],
             [
              0.4444444444444444,
              "#bd3786"
             ],
             [
              0.5555555555555556,
              "#d8576b"
             ],
             [
              0.6666666666666666,
              "#ed7953"
             ],
             [
              0.7777777777777778,
              "#fb9f3a"
             ],
             [
              0.8888888888888888,
              "#fdca26"
             ],
             [
              1,
              "#f0f921"
             ]
            ],
            "type": "histogram2dcontour"
           }
          ],
          "mesh3d": [
           {
            "colorbar": {
             "outlinewidth": 0,
             "ticks": ""
            },
            "type": "mesh3d"
           }
          ],
          "parcoords": [
           {
            "line": {
             "colorbar": {
              "outlinewidth": 0,
              "ticks": ""
             }
            },
            "type": "parcoords"
           }
          ],
          "pie": [
           {
            "automargin": true,
            "type": "pie"
           }
          ],
          "scatter": [
           {
            "fillpattern": {
             "fillmode": "overlay",
             "size": 10,
             "solidity": 0.2
            },
            "type": "scatter"
           }
          ],
          "scatter3d": [
           {
            "line": {
             "colorbar": {
              "outlinewidth": 0,
              "ticks": ""
             }
            },
            "marker": {
             "colorbar": {
              "outlinewidth": 0,
              "ticks": ""
             }
            },
            "type": "scatter3d"
           }
          ],
          "scattercarpet": [
           {
            "marker": {
             "colorbar": {
              "outlinewidth": 0,
              "ticks": ""
             }
            },
            "type": "scattercarpet"
           }
          ],
          "scattergeo": [
           {
            "marker": {
             "colorbar": {
              "outlinewidth": 0,
              "ticks": ""
             }
            },
            "type": "scattergeo"
           }
          ],
          "scattergl": [
           {
            "marker": {
             "colorbar": {
              "outlinewidth": 0,
              "ticks": ""
             }
            },
            "type": "scattergl"
           }
          ],
          "scattermapbox": [
           {
            "marker": {
             "colorbar": {
              "outlinewidth": 0,
              "ticks": ""
             }
            },
            "type": "scattermapbox"
           }
          ],
          "scatterpolar": [
           {
            "marker": {
             "colorbar": {
              "outlinewidth": 0,
              "ticks": ""
             }
            },
            "type": "scatterpolar"
           }
          ],
          "scatterpolargl": [
           {
            "marker": {
             "colorbar": {
              "outlinewidth": 0,
              "ticks": ""
             }
            },
            "type": "scatterpolargl"
           }
          ],
          "scatterternary": [
           {
            "marker": {
             "colorbar": {
              "outlinewidth": 0,
              "ticks": ""
             }
            },
            "type": "scatterternary"
           }
          ],
          "surface": [
           {
            "colorbar": {
             "outlinewidth": 0,
             "ticks": ""
            },
            "colorscale": [
             [
              0,
              "#0d0887"
             ],
             [
              0.1111111111111111,
              "#46039f"
             ],
             [
              0.2222222222222222,
              "#7201a8"
             ],
             [
              0.3333333333333333,
              "#9c179e"
             ],
             [
              0.4444444444444444,
              "#bd3786"
             ],
             [
              0.5555555555555556,
              "#d8576b"
             ],
             [
              0.6666666666666666,
              "#ed7953"
             ],
             [
              0.7777777777777778,
              "#fb9f3a"
             ],
             [
              0.8888888888888888,
              "#fdca26"
             ],
             [
              1,
              "#f0f921"
             ]
            ],
            "type": "surface"
           }
          ],
          "table": [
           {
            "cells": {
             "fill": {
              "color": "#EBF0F8"
             },
             "line": {
              "color": "white"
             }
            },
            "header": {
             "fill": {
              "color": "#C8D4E3"
             },
             "line": {
              "color": "white"
             }
            },
            "type": "table"
           }
          ]
         },
         "layout": {
          "annotationdefaults": {
           "arrowcolor": "#2a3f5f",
           "arrowhead": 0,
           "arrowwidth": 1
          },
          "autotypenumbers": "strict",
          "coloraxis": {
           "colorbar": {
            "outlinewidth": 0,
            "ticks": ""
           }
          },
          "colorscale": {
           "diverging": [
            [
             0,
             "#8e0152"
            ],
            [
             0.1,
             "#c51b7d"
            ],
            [
             0.2,
             "#de77ae"
            ],
            [
             0.3,
             "#f1b6da"
            ],
            [
             0.4,
             "#fde0ef"
            ],
            [
             0.5,
             "#f7f7f7"
            ],
            [
             0.6,
             "#e6f5d0"
            ],
            [
             0.7,
             "#b8e186"
            ],
            [
             0.8,
             "#7fbc41"
            ],
            [
             0.9,
             "#4d9221"
            ],
            [
             1,
             "#276419"
            ]
           ],
           "sequential": [
            [
             0,
             "#0d0887"
            ],
            [
             0.1111111111111111,
             "#46039f"
            ],
            [
             0.2222222222222222,
             "#7201a8"
            ],
            [
             0.3333333333333333,
             "#9c179e"
            ],
            [
             0.4444444444444444,
             "#bd3786"
            ],
            [
             0.5555555555555556,
             "#d8576b"
            ],
            [
             0.6666666666666666,
             "#ed7953"
            ],
            [
             0.7777777777777778,
             "#fb9f3a"
            ],
            [
             0.8888888888888888,
             "#fdca26"
            ],
            [
             1,
             "#f0f921"
            ]
           ],
           "sequentialminus": [
            [
             0,
             "#0d0887"
            ],
            [
             0.1111111111111111,
             "#46039f"
            ],
            [
             0.2222222222222222,
             "#7201a8"
            ],
            [
             0.3333333333333333,
             "#9c179e"
            ],
            [
             0.4444444444444444,
             "#bd3786"
            ],
            [
             0.5555555555555556,
             "#d8576b"
            ],
            [
             0.6666666666666666,
             "#ed7953"
            ],
            [
             0.7777777777777778,
             "#fb9f3a"
            ],
            [
             0.8888888888888888,
             "#fdca26"
            ],
            [
             1,
             "#f0f921"
            ]
           ]
          },
          "colorway": [
           "#636efa",
           "#EF553B",
           "#00cc96",
           "#ab63fa",
           "#FFA15A",
           "#19d3f3",
           "#FF6692",
           "#B6E880",
           "#FF97FF",
           "#FECB52"
          ],
          "font": {
           "color": "#2a3f5f"
          },
          "geo": {
           "bgcolor": "white",
           "lakecolor": "white",
           "landcolor": "#E5ECF6",
           "showlakes": true,
           "showland": true,
           "subunitcolor": "white"
          },
          "hoverlabel": {
           "align": "left"
          },
          "hovermode": "closest",
          "mapbox": {
           "style": "light"
          },
          "paper_bgcolor": "white",
          "plot_bgcolor": "#E5ECF6",
          "polar": {
           "angularaxis": {
            "gridcolor": "white",
            "linecolor": "white",
            "ticks": ""
           },
           "bgcolor": "#E5ECF6",
           "radialaxis": {
            "gridcolor": "white",
            "linecolor": "white",
            "ticks": ""
           }
          },
          "scene": {
           "xaxis": {
            "backgroundcolor": "#E5ECF6",
            "gridcolor": "white",
            "gridwidth": 2,
            "linecolor": "white",
            "showbackground": true,
            "ticks": "",
            "zerolinecolor": "white"
           },
           "yaxis": {
            "backgroundcolor": "#E5ECF6",
            "gridcolor": "white",
            "gridwidth": 2,
            "linecolor": "white",
            "showbackground": true,
            "ticks": "",
            "zerolinecolor": "white"
           },
           "zaxis": {
            "backgroundcolor": "#E5ECF6",
            "gridcolor": "white",
            "gridwidth": 2,
            "linecolor": "white",
            "showbackground": true,
            "ticks": "",
            "zerolinecolor": "white"
           }
          },
          "shapedefaults": {
           "line": {
            "color": "#2a3f5f"
           }
          },
          "ternary": {
           "aaxis": {
            "gridcolor": "white",
            "linecolor": "white",
            "ticks": ""
           },
           "baxis": {
            "gridcolor": "white",
            "linecolor": "white",
            "ticks": ""
           },
           "bgcolor": "#E5ECF6",
           "caxis": {
            "gridcolor": "white",
            "linecolor": "white",
            "ticks": ""
           }
          },
          "title": {
           "x": 0.05
          },
          "xaxis": {
           "automargin": true,
           "gridcolor": "white",
           "linecolor": "white",
           "ticks": "",
           "title": {
            "standoff": 15
           },
           "zerolinecolor": "white",
           "zerolinewidth": 2
          },
          "yaxis": {
           "automargin": true,
           "gridcolor": "white",
           "linecolor": "white",
           "ticks": "",
           "title": {
            "standoff": 15
           },
           "zerolinecolor": "white",
           "zerolinewidth": 2
          }
         }
        },
        "width": 1300,
        "xaxis": {
         "domain": [
          0.15,
          1
         ],
         "showgrid": false,
         "showline": false,
         "showticklabels": false,
         "zeroline": false
        },
        "yaxis": {
         "automargin": true,
         "showgrid": false,
         "showline": false,
         "showticklabels": false,
         "zeroline": false
        }
       }
      }
     },
     "metadata": {},
     "output_type": "display_data"
    }
   ],
   "source": [
    "top_labels = [\n",
    "     'Correct', \n",
    "     'Incorrect', \n",
    "     'No Information']\n",
    "\n",
    "colors = [\n",
    "     'green', \n",
    "     'red', \n",
    "     'blue']\n",
    "\n",
    "\n",
    "\n",
    "fig = go.Figure()\n",
    "\n",
    "for i in range(0, len(x_data[0])):\n",
    "    for xd, yd in zip(x_data, y_data):\n",
    "        fig.add_trace(go.Bar(\n",
    "            x=[xd[i]], y=[yd],\n",
    "            orientation='h',\n",
    "            marker=dict(\n",
    "                color=colors[i],\n",
    "                line=dict(color='rgb(248, 248, 249)', width=1)\n",
    "            )\n",
    "        ))\n",
    "\n",
    "fig.update_layout(\n",
    "    xaxis=dict(\n",
    "        showgrid=False,\n",
    "        showline=False,\n",
    "        showticklabels=False,\n",
    "        zeroline=False,\n",
    "        domain=[0.15, 1]\n",
    "    ),\n",
    "    yaxis=dict(\n",
    "        showgrid=False,\n",
    "        showline=False,\n",
    "        showticklabels=False,\n",
    "        zeroline=False,\n",
    "    ),\n",
    "    barmode='stack',\n",
    "    paper_bgcolor='rgb(248, 248, 255)',\n",
    "    plot_bgcolor='rgb(248, 248, 255)',\n",
    "    margin=dict(l=120, r=10, t=140, b=80),\n",
    "    showlegend=False,\n",
    ")\n",
    "\n",
    "annotations = []\n",
    "\n",
    "for yd, xd in zip(y_data, x_data):\n",
    "    \n",
    "    # labeling the y-axis\n",
    "    annotations.append(dict(xref='paper', yref='y',\n",
    "                            x=0.14, y=yd,\n",
    "                            xanchor='right',\n",
    "                            text=str(yd),\n",
    "                            font=dict(family='Arial', size=14,\n",
    "                                      color='rgb(67, 67, 67)'),\n",
    "                            showarrow=False, align='right'))\n",
    "    \n",
    "    # labeling the first percentage of each bar (x_axis)\n",
    "    annotations.append(dict(xref='x', yref='y',\n",
    "                            x=xd[0] / 2, y=yd,\n",
    "                            text=str(xd[0]) + '%',\n",
    "                            font=dict(family='Arial', size=14,\n",
    "                                      color='rgb(248, 248, 255)'),\n",
    "                            showarrow=False))\n",
    "   \n",
    "    # labeling the first Likert scale (on the top)\n",
    "    if yd == y_data[-1]:\n",
    "        annotations.append(dict(xref='x', yref='paper',\n",
    "                                x=xd[0] / 2, y=1.1,\n",
    "                                text=top_labels[0],\n",
    "                                font=dict(family='Arial', size=14,\n",
    "                                          color='rgb(67, 67, 67)'),\n",
    "                                showarrow=False))\n",
    "    space = xd[0]\n",
    "    for i in range(1, len(xd)):\n",
    "            # labeling the rest of percentages for each bar (x_axis)\n",
    "            annotations.append(dict(xref='x', yref='y',\n",
    "                                    x=space + (xd[i]/2), y=yd,\n",
    "                                    text=str(xd[i]) + '%',\n",
    "                                    font=dict(family='Arial', size=14,\n",
    "                                              color='rgb(248, 248, 255)'),\n",
    "                                    showarrow=False))\n",
    "            \n",
    "            # labeling the Likert scale\n",
    "            if yd == y_data[-1]:\n",
    "                annotations.append(dict(xref='x', yref='paper',\n",
    "                                        x=space + (xd[i]/2), y=1.1,\n",
    "                                        text=top_labels[i],\n",
    "                                        font=dict(family='Arial', size=14,\n",
    "                                                  color='rgb(67, 67, 67)'),\n",
    "                                        showarrow=False))\n",
    "            space += xd[i]\n",
    "\n",
    "fig.update_layout(annotations=annotations, width=1300, height=800)\n",
    "fig.update_yaxes(automargin=True)\n",
    "\n",
    "fig.show()"
   ]
  }
 ],
 "metadata": {
  "kernelspec": {
   "display_name": "deeplearning",
   "language": "python",
   "name": "deeplearning"
  },
  "language_info": {
   "codemirror_mode": {
    "name": "ipython",
    "version": 3
   },
   "file_extension": ".py",
   "mimetype": "text/x-python",
   "name": "python",
   "nbconvert_exporter": "python",
   "pygments_lexer": "ipython3",
   "version": "3.10.4"
  },
  "orig_nbformat": 4
 },
 "nbformat": 4,
 "nbformat_minor": 2
}
