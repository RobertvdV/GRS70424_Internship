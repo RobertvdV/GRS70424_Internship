{
 "cells": [
  {
   "cell_type": "code",
   "execution_count": 1,
   "metadata": {},
   "outputs": [],
   "source": [
    "import numpy as np\n",
    "import pandas as pd\n",
    "import glob\n",
    "import re\n",
    "from tqdm import tqdm\n",
    "import os.path\n",
    "import collections\n",
    "from collections import defaultdict\n",
    "from sklearn.metrics import roc_curve, auc, precision_recall_curve\n",
    "import matplotlib.pyplot as plt\n",
    "import seaborn as sns\n",
    "import plotly.graph_objs as go\n",
    "import plotly.express as px\n"
   ]
  },
  {
   "cell_type": "code",
   "execution_count": 2,
   "metadata": {},
   "outputs": [],
   "source": [
    "\n",
    "folder_prompt_ = \"../../../data/OpenAI/PromptsAnalysesData/\"\n",
    "\n",
    "file = \"caribbean_df_orig_GT.csv\"\n",
    "df_caribbean_GT = pd.read_csv(F\"{folder_prompt_}{file}\", header=[0, 1], index_col=0)\\\n",
    "    .rename_axis('Species', axis='index')\n",
    "\n",
    "file = \"caribbean_df_orig_ChatGPT.csv\"\n",
    "df_caribbean_ChatGPT = pd.read_csv(F\"{folder_prompt_}{file}\", header=[0, 1], index_col=0)\\\n",
    "    .rename_axis('Species', axis='index')"
   ]
  },
  {
   "cell_type": "code",
   "execution_count": 3,
   "metadata": {},
   "outputs": [],
   "source": [
    "# df_caribbean_GT = df_caribbean_GT.droplevel(0, axis=1) \n",
    "# df_caribbean_ChatGPT = df_caribbean_ChatGPT.droplevel(0, axis=1) \n",
    "\n",
    "# df_caribbean_GT.columns = df_caribbean_GT.columns.get_level_values(0)\n",
    "# df_caribbean_ChatGPT.columns = df_caribbean_ChatGPT.columns.get_level_values(0)\n",
    "\n",
    "# df_caribbean_GT.columns = [' '.join(col) for col in df_caribbean_GT.columns.values]\n",
    "# df_caribbean_ChatGPT.columns = [' '.join(col) for col in df_caribbean_ChatGPT.columns.values]"
   ]
  },
  {
   "cell_type": "code",
   "execution_count": 4,
   "metadata": {},
   "outputs": [],
   "source": [
    "# df_caribbean_ChatGPT.compare(df_caribbean_GT)\n",
    "# df_caribbean_ChatGPT.compare(df_caribbean_GT,\n",
    "#                         # keep_shape=True,\n",
    "#                         keep_equal=False,\n",
    "#                         )\n",
    "\n",
    "df = df_caribbean_GT.subtract(df_caribbean_ChatGPT)\n",
    "df = df.fillna(\"Fail\")\n",
    "df = df.applymap(lambda x: 'Correct' if isinstance(x, (int, float)) and x == 0 else x)\n",
    "df = df.applymap(lambda x: 'Incorrect' if isinstance(x, (int, float)) and x == -1 else x)\n",
    "df = df.applymap(lambda x: 'Incorrect' if isinstance(x, (int, float)) and x == 1 else x)"
   ]
  },
  {
   "cell_type": "code",
   "execution_count": 5,
   "metadata": {},
   "outputs": [
    {
     "data": {
      "text/html": [
       "<div>\n",
       "<style scoped>\n",
       "    .dataframe tbody tr th:only-of-type {\n",
       "        vertical-align: middle;\n",
       "    }\n",
       "\n",
       "    .dataframe tbody tr th {\n",
       "        vertical-align: top;\n",
       "    }\n",
       "\n",
       "    .dataframe thead tr th {\n",
       "        text-align: left;\n",
       "    }\n",
       "\n",
       "    .dataframe thead tr:last-of-type th {\n",
       "        text-align: right;\n",
       "    }\n",
       "</style>\n",
       "<table border=\"1\" class=\"dataframe\">\n",
       "  <thead>\n",
       "    <tr>\n",
       "      <th></th>\n",
       "      <th colspan=\"2\" halign=\"left\">Life form</th>\n",
       "      <th colspan=\"5\" halign=\"left\">Leaf position</th>\n",
       "      <th colspan=\"3\" halign=\"left\">Leaf composition</th>\n",
       "      <th>...</th>\n",
       "      <th colspan=\"4\" halign=\"left\">Aril colour</th>\n",
       "      <th colspan=\"6\" halign=\"left\">Seed colour</th>\n",
       "    </tr>\n",
       "    <tr>\n",
       "      <th></th>\n",
       "      <th>liana</th>\n",
       "      <th>tree</th>\n",
       "      <th>alternate</th>\n",
       "      <th>alternate, opposite</th>\n",
       "      <th>opposite</th>\n",
       "      <th>opposite, whorls of 3</th>\n",
       "      <th>opposite, whorls of 3, alternate</th>\n",
       "      <th>3 palmate</th>\n",
       "      <th>3-5 palmate</th>\n",
       "      <th>3-5 pinnate</th>\n",
       "      <th>...</th>\n",
       "      <th>orange</th>\n",
       "      <th>red</th>\n",
       "      <th>white</th>\n",
       "      <th>yellow-geen</th>\n",
       "      <th>black</th>\n",
       "      <th>brown</th>\n",
       "      <th>green</th>\n",
       "      <th>grey</th>\n",
       "      <th>white</th>\n",
       "      <th>whitish</th>\n",
       "    </tr>\n",
       "    <tr>\n",
       "      <th>Species</th>\n",
       "      <th></th>\n",
       "      <th></th>\n",
       "      <th></th>\n",
       "      <th></th>\n",
       "      <th></th>\n",
       "      <th></th>\n",
       "      <th></th>\n",
       "      <th></th>\n",
       "      <th></th>\n",
       "      <th></th>\n",
       "      <th></th>\n",
       "      <th></th>\n",
       "      <th></th>\n",
       "      <th></th>\n",
       "      <th></th>\n",
       "      <th></th>\n",
       "      <th></th>\n",
       "      <th></th>\n",
       "      <th></th>\n",
       "      <th></th>\n",
       "      <th></th>\n",
       "    </tr>\n",
       "  </thead>\n",
       "  <tbody>\n",
       "    <tr>\n",
       "      <th>Laguncularia racemosa</th>\n",
       "      <td>Correct</td>\n",
       "      <td>Correct</td>\n",
       "      <td>Correct</td>\n",
       "      <td>Correct</td>\n",
       "      <td>Correct</td>\n",
       "      <td>Correct</td>\n",
       "      <td>Correct</td>\n",
       "      <td>Fail</td>\n",
       "      <td>Fail</td>\n",
       "      <td>Fail</td>\n",
       "      <td>...</td>\n",
       "      <td>Fail</td>\n",
       "      <td>Fail</td>\n",
       "      <td>Fail</td>\n",
       "      <td>Fail</td>\n",
       "      <td>Correct</td>\n",
       "      <td>Incorrect</td>\n",
       "      <td>Incorrect</td>\n",
       "      <td>Correct</td>\n",
       "      <td>Correct</td>\n",
       "      <td>Incorrect</td>\n",
       "    </tr>\n",
       "    <tr>\n",
       "      <th>Conocarpus erectus</th>\n",
       "      <td>Correct</td>\n",
       "      <td>Correct</td>\n",
       "      <td>Correct</td>\n",
       "      <td>Correct</td>\n",
       "      <td>Correct</td>\n",
       "      <td>Correct</td>\n",
       "      <td>Correct</td>\n",
       "      <td>Correct</td>\n",
       "      <td>Correct</td>\n",
       "      <td>Correct</td>\n",
       "      <td>...</td>\n",
       "      <td>Fail</td>\n",
       "      <td>Fail</td>\n",
       "      <td>Fail</td>\n",
       "      <td>Fail</td>\n",
       "      <td>Correct</td>\n",
       "      <td>Incorrect</td>\n",
       "      <td>Correct</td>\n",
       "      <td>Incorrect</td>\n",
       "      <td>Correct</td>\n",
       "      <td>Correct</td>\n",
       "    </tr>\n",
       "    <tr>\n",
       "      <th>Bursera karsteniana</th>\n",
       "      <td>Correct</td>\n",
       "      <td>Correct</td>\n",
       "      <td>Fail</td>\n",
       "      <td>Fail</td>\n",
       "      <td>Fail</td>\n",
       "      <td>Fail</td>\n",
       "      <td>Fail</td>\n",
       "      <td>Fail</td>\n",
       "      <td>Fail</td>\n",
       "      <td>Fail</td>\n",
       "      <td>...</td>\n",
       "      <td>Fail</td>\n",
       "      <td>Fail</td>\n",
       "      <td>Fail</td>\n",
       "      <td>Fail</td>\n",
       "      <td>Fail</td>\n",
       "      <td>Fail</td>\n",
       "      <td>Fail</td>\n",
       "      <td>Fail</td>\n",
       "      <td>Fail</td>\n",
       "      <td>Fail</td>\n",
       "    </tr>\n",
       "    <tr>\n",
       "      <th>Metopium brownei</th>\n",
       "      <td>Correct</td>\n",
       "      <td>Incorrect</td>\n",
       "      <td>Fail</td>\n",
       "      <td>Fail</td>\n",
       "      <td>Fail</td>\n",
       "      <td>Fail</td>\n",
       "      <td>Fail</td>\n",
       "      <td>Fail</td>\n",
       "      <td>Fail</td>\n",
       "      <td>Fail</td>\n",
       "      <td>...</td>\n",
       "      <td>Fail</td>\n",
       "      <td>Fail</td>\n",
       "      <td>Fail</td>\n",
       "      <td>Fail</td>\n",
       "      <td>Correct</td>\n",
       "      <td>Incorrect</td>\n",
       "      <td>Correct</td>\n",
       "      <td>Correct</td>\n",
       "      <td>Correct</td>\n",
       "      <td>Correct</td>\n",
       "    </tr>\n",
       "    <tr>\n",
       "      <th>Clusia rosea</th>\n",
       "      <td>Correct</td>\n",
       "      <td>Incorrect</td>\n",
       "      <td>Fail</td>\n",
       "      <td>Fail</td>\n",
       "      <td>Fail</td>\n",
       "      <td>Fail</td>\n",
       "      <td>Fail</td>\n",
       "      <td>Correct</td>\n",
       "      <td>Correct</td>\n",
       "      <td>Correct</td>\n",
       "      <td>...</td>\n",
       "      <td>Fail</td>\n",
       "      <td>Fail</td>\n",
       "      <td>Fail</td>\n",
       "      <td>Fail</td>\n",
       "      <td>Incorrect</td>\n",
       "      <td>Correct</td>\n",
       "      <td>Incorrect</td>\n",
       "      <td>Correct</td>\n",
       "      <td>Incorrect</td>\n",
       "      <td>Correct</td>\n",
       "    </tr>\n",
       "    <tr>\n",
       "      <th>Quadrella odoratissima</th>\n",
       "      <td>Correct</td>\n",
       "      <td>Correct</td>\n",
       "      <td>Correct</td>\n",
       "      <td>Correct</td>\n",
       "      <td>Correct</td>\n",
       "      <td>Correct</td>\n",
       "      <td>Correct</td>\n",
       "      <td>Fail</td>\n",
       "      <td>Fail</td>\n",
       "      <td>Fail</td>\n",
       "      <td>...</td>\n",
       "      <td>Fail</td>\n",
       "      <td>Fail</td>\n",
       "      <td>Fail</td>\n",
       "      <td>Fail</td>\n",
       "      <td>Fail</td>\n",
       "      <td>Fail</td>\n",
       "      <td>Fail</td>\n",
       "      <td>Fail</td>\n",
       "      <td>Fail</td>\n",
       "      <td>Fail</td>\n",
       "    </tr>\n",
       "    <tr>\n",
       "      <th>Handroanthus billbergii</th>\n",
       "      <td>Correct</td>\n",
       "      <td>Correct</td>\n",
       "      <td>Fail</td>\n",
       "      <td>Fail</td>\n",
       "      <td>Fail</td>\n",
       "      <td>Fail</td>\n",
       "      <td>Fail</td>\n",
       "      <td>Correct</td>\n",
       "      <td>Correct</td>\n",
       "      <td>Incorrect</td>\n",
       "      <td>...</td>\n",
       "      <td>Fail</td>\n",
       "      <td>Fail</td>\n",
       "      <td>Fail</td>\n",
       "      <td>Fail</td>\n",
       "      <td>Fail</td>\n",
       "      <td>Fail</td>\n",
       "      <td>Fail</td>\n",
       "      <td>Fail</td>\n",
       "      <td>Fail</td>\n",
       "      <td>Fail</td>\n",
       "    </tr>\n",
       "    <tr>\n",
       "      <th>Avicennia germinans</th>\n",
       "      <td>Correct</td>\n",
       "      <td>Correct</td>\n",
       "      <td>Fail</td>\n",
       "      <td>Fail</td>\n",
       "      <td>Fail</td>\n",
       "      <td>Fail</td>\n",
       "      <td>Fail</td>\n",
       "      <td>Correct</td>\n",
       "      <td>Correct</td>\n",
       "      <td>Correct</td>\n",
       "      <td>...</td>\n",
       "      <td>Fail</td>\n",
       "      <td>Fail</td>\n",
       "      <td>Fail</td>\n",
       "      <td>Fail</td>\n",
       "      <td>Incorrect</td>\n",
       "      <td>Incorrect</td>\n",
       "      <td>Incorrect</td>\n",
       "      <td>Correct</td>\n",
       "      <td>Incorrect</td>\n",
       "      <td>Incorrect</td>\n",
       "    </tr>\n",
       "    <tr>\n",
       "      <th>Maytenus versluysii</th>\n",
       "      <td>Incorrect</td>\n",
       "      <td>Incorrect</td>\n",
       "      <td>Incorrect</td>\n",
       "      <td>Correct</td>\n",
       "      <td>Incorrect</td>\n",
       "      <td>Correct</td>\n",
       "      <td>Correct</td>\n",
       "      <td>Correct</td>\n",
       "      <td>Correct</td>\n",
       "      <td>Correct</td>\n",
       "      <td>...</td>\n",
       "      <td>Fail</td>\n",
       "      <td>Fail</td>\n",
       "      <td>Fail</td>\n",
       "      <td>Fail</td>\n",
       "      <td>Incorrect</td>\n",
       "      <td>Correct</td>\n",
       "      <td>Incorrect</td>\n",
       "      <td>Correct</td>\n",
       "      <td>Correct</td>\n",
       "      <td>Correct</td>\n",
       "    </tr>\n",
       "    <tr>\n",
       "      <th>Cynophalla flexuosa</th>\n",
       "      <td>Correct</td>\n",
       "      <td>Incorrect</td>\n",
       "      <td>Correct</td>\n",
       "      <td>Correct</td>\n",
       "      <td>Correct</td>\n",
       "      <td>Correct</td>\n",
       "      <td>Correct</td>\n",
       "      <td>Fail</td>\n",
       "      <td>Fail</td>\n",
       "      <td>Fail</td>\n",
       "      <td>...</td>\n",
       "      <td>Fail</td>\n",
       "      <td>Fail</td>\n",
       "      <td>Fail</td>\n",
       "      <td>Fail</td>\n",
       "      <td>Fail</td>\n",
       "      <td>Fail</td>\n",
       "      <td>Fail</td>\n",
       "      <td>Fail</td>\n",
       "      <td>Fail</td>\n",
       "      <td>Fail</td>\n",
       "    </tr>\n",
       "    <tr>\n",
       "      <th>Bursera tomentosa</th>\n",
       "      <td>Correct</td>\n",
       "      <td>Correct</td>\n",
       "      <td>Fail</td>\n",
       "      <td>Fail</td>\n",
       "      <td>Fail</td>\n",
       "      <td>Fail</td>\n",
       "      <td>Fail</td>\n",
       "      <td>Correct</td>\n",
       "      <td>Correct</td>\n",
       "      <td>Correct</td>\n",
       "      <td>...</td>\n",
       "      <td>Fail</td>\n",
       "      <td>Fail</td>\n",
       "      <td>Fail</td>\n",
       "      <td>Fail</td>\n",
       "      <td>Incorrect</td>\n",
       "      <td>Correct</td>\n",
       "      <td>Incorrect</td>\n",
       "      <td>Correct</td>\n",
       "      <td>Incorrect</td>\n",
       "      <td>Incorrect</td>\n",
       "    </tr>\n",
       "    <tr>\n",
       "      <th>Cynophalla hastata</th>\n",
       "      <td>Incorrect</td>\n",
       "      <td>Incorrect</td>\n",
       "      <td>Incorrect</td>\n",
       "      <td>Correct</td>\n",
       "      <td>Incorrect</td>\n",
       "      <td>Correct</td>\n",
       "      <td>Correct</td>\n",
       "      <td>Fail</td>\n",
       "      <td>Fail</td>\n",
       "      <td>Fail</td>\n",
       "      <td>...</td>\n",
       "      <td>Fail</td>\n",
       "      <td>Fail</td>\n",
       "      <td>Fail</td>\n",
       "      <td>Fail</td>\n",
       "      <td>Incorrect</td>\n",
       "      <td>Correct</td>\n",
       "      <td>Correct</td>\n",
       "      <td>Correct</td>\n",
       "      <td>Correct</td>\n",
       "      <td>Correct</td>\n",
       "    </tr>\n",
       "    <tr>\n",
       "      <th>Bursera simaruba</th>\n",
       "      <td>Correct</td>\n",
       "      <td>Incorrect</td>\n",
       "      <td>Correct</td>\n",
       "      <td>Correct</td>\n",
       "      <td>Correct</td>\n",
       "      <td>Correct</td>\n",
       "      <td>Correct</td>\n",
       "      <td>Correct</td>\n",
       "      <td>Correct</td>\n",
       "      <td>Correct</td>\n",
       "      <td>...</td>\n",
       "      <td>Fail</td>\n",
       "      <td>Fail</td>\n",
       "      <td>Fail</td>\n",
       "      <td>Fail</td>\n",
       "      <td>Fail</td>\n",
       "      <td>Fail</td>\n",
       "      <td>Fail</td>\n",
       "      <td>Fail</td>\n",
       "      <td>Fail</td>\n",
       "      <td>Fail</td>\n",
       "    </tr>\n",
       "    <tr>\n",
       "      <th>Bourreria succulenta</th>\n",
       "      <td>Correct</td>\n",
       "      <td>Correct</td>\n",
       "      <td>Incorrect</td>\n",
       "      <td>Correct</td>\n",
       "      <td>Correct</td>\n",
       "      <td>Correct</td>\n",
       "      <td>Correct</td>\n",
       "      <td>Fail</td>\n",
       "      <td>Fail</td>\n",
       "      <td>Fail</td>\n",
       "      <td>...</td>\n",
       "      <td>Fail</td>\n",
       "      <td>Fail</td>\n",
       "      <td>Fail</td>\n",
       "      <td>Fail</td>\n",
       "      <td>Fail</td>\n",
       "      <td>Fail</td>\n",
       "      <td>Fail</td>\n",
       "      <td>Fail</td>\n",
       "      <td>Fail</td>\n",
       "      <td>Fail</td>\n",
       "    </tr>\n",
       "    <tr>\n",
       "      <th>Crossopetalum rhacoma</th>\n",
       "      <td>Correct</td>\n",
       "      <td>Correct</td>\n",
       "      <td>Incorrect</td>\n",
       "      <td>Correct</td>\n",
       "      <td>Incorrect</td>\n",
       "      <td>Incorrect</td>\n",
       "      <td>Incorrect</td>\n",
       "      <td>Correct</td>\n",
       "      <td>Correct</td>\n",
       "      <td>Correct</td>\n",
       "      <td>...</td>\n",
       "      <td>Fail</td>\n",
       "      <td>Fail</td>\n",
       "      <td>Fail</td>\n",
       "      <td>Fail</td>\n",
       "      <td>Fail</td>\n",
       "      <td>Fail</td>\n",
       "      <td>Fail</td>\n",
       "      <td>Fail</td>\n",
       "      <td>Fail</td>\n",
       "      <td>Fail</td>\n",
       "    </tr>\n",
       "  </tbody>\n",
       "</table>\n",
       "<p>15 rows × 202 columns</p>\n",
       "</div>"
      ],
      "text/plain": [
       "                         Life form            Leaf position  \\\n",
       "                             liana       tree     alternate   \n",
       "Species                                                       \n",
       "Laguncularia racemosa      Correct    Correct       Correct   \n",
       "Conocarpus erectus         Correct    Correct       Correct   \n",
       "Bursera karsteniana        Correct    Correct          Fail   \n",
       "Metopium brownei           Correct  Incorrect          Fail   \n",
       "Clusia rosea               Correct  Incorrect          Fail   \n",
       "Quadrella odoratissima     Correct    Correct       Correct   \n",
       "Handroanthus billbergii    Correct    Correct          Fail   \n",
       "Avicennia germinans        Correct    Correct          Fail   \n",
       "Maytenus versluysii      Incorrect  Incorrect     Incorrect   \n",
       "Cynophalla flexuosa        Correct  Incorrect       Correct   \n",
       "Bursera tomentosa          Correct    Correct          Fail   \n",
       "Cynophalla hastata       Incorrect  Incorrect     Incorrect   \n",
       "Bursera simaruba           Correct  Incorrect       Correct   \n",
       "Bourreria succulenta       Correct    Correct     Incorrect   \n",
       "Crossopetalum rhacoma      Correct    Correct     Incorrect   \n",
       "\n",
       "                                                                              \\\n",
       "                        alternate, opposite   opposite opposite, whorls of 3   \n",
       "Species                                                                        \n",
       "Laguncularia racemosa               Correct    Correct               Correct   \n",
       "Conocarpus erectus                  Correct    Correct               Correct   \n",
       "Bursera karsteniana                    Fail       Fail                  Fail   \n",
       "Metopium brownei                       Fail       Fail                  Fail   \n",
       "Clusia rosea                           Fail       Fail                  Fail   \n",
       "Quadrella odoratissima              Correct    Correct               Correct   \n",
       "Handroanthus billbergii                Fail       Fail                  Fail   \n",
       "Avicennia germinans                    Fail       Fail                  Fail   \n",
       "Maytenus versluysii                 Correct  Incorrect               Correct   \n",
       "Cynophalla flexuosa                 Correct    Correct               Correct   \n",
       "Bursera tomentosa                      Fail       Fail                  Fail   \n",
       "Cynophalla hastata                  Correct  Incorrect               Correct   \n",
       "Bursera simaruba                    Correct    Correct               Correct   \n",
       "Bourreria succulenta                Correct    Correct               Correct   \n",
       "Crossopetalum rhacoma               Correct  Incorrect             Incorrect   \n",
       "\n",
       "                                                         Leaf composition  \\\n",
       "                        opposite, whorls of 3, alternate        3 palmate   \n",
       "Species                                                                     \n",
       "Laguncularia racemosa                            Correct             Fail   \n",
       "Conocarpus erectus                               Correct          Correct   \n",
       "Bursera karsteniana                                 Fail             Fail   \n",
       "Metopium brownei                                    Fail             Fail   \n",
       "Clusia rosea                                        Fail          Correct   \n",
       "Quadrella odoratissima                           Correct             Fail   \n",
       "Handroanthus billbergii                             Fail          Correct   \n",
       "Avicennia germinans                                 Fail          Correct   \n",
       "Maytenus versluysii                              Correct          Correct   \n",
       "Cynophalla flexuosa                              Correct             Fail   \n",
       "Bursera tomentosa                                   Fail          Correct   \n",
       "Cynophalla hastata                               Correct             Fail   \n",
       "Bursera simaruba                                 Correct          Correct   \n",
       "Bourreria succulenta                             Correct             Fail   \n",
       "Crossopetalum rhacoma                          Incorrect          Correct   \n",
       "\n",
       "                                                 ... Aril colour              \\\n",
       "                        3-5 palmate 3-5 pinnate  ...      orange   red white   \n",
       "Species                                          ...                           \n",
       "Laguncularia racemosa          Fail        Fail  ...        Fail  Fail  Fail   \n",
       "Conocarpus erectus          Correct     Correct  ...        Fail  Fail  Fail   \n",
       "Bursera karsteniana            Fail        Fail  ...        Fail  Fail  Fail   \n",
       "Metopium brownei               Fail        Fail  ...        Fail  Fail  Fail   \n",
       "Clusia rosea                Correct     Correct  ...        Fail  Fail  Fail   \n",
       "Quadrella odoratissima         Fail        Fail  ...        Fail  Fail  Fail   \n",
       "Handroanthus billbergii     Correct   Incorrect  ...        Fail  Fail  Fail   \n",
       "Avicennia germinans         Correct     Correct  ...        Fail  Fail  Fail   \n",
       "Maytenus versluysii         Correct     Correct  ...        Fail  Fail  Fail   \n",
       "Cynophalla flexuosa            Fail        Fail  ...        Fail  Fail  Fail   \n",
       "Bursera tomentosa           Correct     Correct  ...        Fail  Fail  Fail   \n",
       "Cynophalla hastata             Fail        Fail  ...        Fail  Fail  Fail   \n",
       "Bursera simaruba            Correct     Correct  ...        Fail  Fail  Fail   \n",
       "Bourreria succulenta           Fail        Fail  ...        Fail  Fail  Fail   \n",
       "Crossopetalum rhacoma       Correct     Correct  ...        Fail  Fail  Fail   \n",
       "\n",
       "                                    Seed colour                        \\\n",
       "                        yellow-geen       black      brown      green   \n",
       "Species                                                                 \n",
       "Laguncularia racemosa          Fail     Correct  Incorrect  Incorrect   \n",
       "Conocarpus erectus             Fail     Correct  Incorrect    Correct   \n",
       "Bursera karsteniana            Fail        Fail       Fail       Fail   \n",
       "Metopium brownei               Fail     Correct  Incorrect    Correct   \n",
       "Clusia rosea                   Fail   Incorrect    Correct  Incorrect   \n",
       "Quadrella odoratissima         Fail        Fail       Fail       Fail   \n",
       "Handroanthus billbergii        Fail        Fail       Fail       Fail   \n",
       "Avicennia germinans            Fail   Incorrect  Incorrect  Incorrect   \n",
       "Maytenus versluysii            Fail   Incorrect    Correct  Incorrect   \n",
       "Cynophalla flexuosa            Fail        Fail       Fail       Fail   \n",
       "Bursera tomentosa              Fail   Incorrect    Correct  Incorrect   \n",
       "Cynophalla hastata             Fail   Incorrect    Correct    Correct   \n",
       "Bursera simaruba               Fail        Fail       Fail       Fail   \n",
       "Bourreria succulenta           Fail        Fail       Fail       Fail   \n",
       "Crossopetalum rhacoma          Fail        Fail       Fail       Fail   \n",
       "\n",
       "                                                          \n",
       "                              grey      white    whitish  \n",
       "Species                                                   \n",
       "Laguncularia racemosa      Correct    Correct  Incorrect  \n",
       "Conocarpus erectus       Incorrect    Correct    Correct  \n",
       "Bursera karsteniana           Fail       Fail       Fail  \n",
       "Metopium brownei           Correct    Correct    Correct  \n",
       "Clusia rosea               Correct  Incorrect    Correct  \n",
       "Quadrella odoratissima        Fail       Fail       Fail  \n",
       "Handroanthus billbergii       Fail       Fail       Fail  \n",
       "Avicennia germinans        Correct  Incorrect  Incorrect  \n",
       "Maytenus versluysii        Correct    Correct    Correct  \n",
       "Cynophalla flexuosa           Fail       Fail       Fail  \n",
       "Bursera tomentosa          Correct  Incorrect  Incorrect  \n",
       "Cynophalla hastata         Correct    Correct    Correct  \n",
       "Bursera simaruba              Fail       Fail       Fail  \n",
       "Bourreria succulenta          Fail       Fail       Fail  \n",
       "Crossopetalum rhacoma         Fail       Fail       Fail  \n",
       "\n",
       "[15 rows x 202 columns]"
      ]
     },
     "execution_count": 5,
     "metadata": {},
     "output_type": "execute_result"
    }
   ],
   "source": [
    "df"
   ]
  },
  {
   "attachments": {},
   "cell_type": "markdown",
   "metadata": {},
   "source": [
    "### Plotting"
   ]
  },
  {
   "attachments": {},
   "cell_type": "markdown",
   "metadata": {},
   "source": [
    "##### Old"
   ]
  },
  {
   "cell_type": "code",
   "execution_count": 14,
   "metadata": {},
   "outputs": [],
   "source": [
    "# group_labels = [trait for (trait, _) in df.columns]\n",
    "# sub_labels = [sublabel.capitalize() for (_, sublabel) in df.columns]\n",
    "# number_labels = [number for number, (_, _) in enumerate(df.columns)]\n",
    "\n",
    "# correct_lst = []\n",
    "# incorrect_lst = []\n",
    "# fail_lst = []\n",
    "# for column in df.columns:\n",
    "\n",
    "#     # Correct\n",
    "#     value = df[column].str.count(\"Correct\").sum() # Cannot sum directly\n",
    "#     correct_lst.append(value)\n",
    "\n",
    "#         # Correct\n",
    "#     value = df[column].str.count(\"Incorrect\").sum() # Cannot sum directly\n",
    "#     incorrect_lst.append(value)\n",
    "\n",
    "#         # Correct\n",
    "#     value = df[column].str.count(\"Fail\").sum() # Cannot sum directly\n",
    "#     fail_lst.append(value)\n",
    "\n",
    "# total = len(df_caribbean_ChatGPT.index)\n",
    "\n",
    "# correct_lst = np.array(correct_lst)\n",
    "# incorrect_lst = np.array(incorrect_lst)\n",
    "# fail_lst = np.array(fail_lst)\n",
    "\n",
    "# correct_lst = correct_lst / total * 100\n",
    "# incorrect_lst = incorrect_lst / total * 100\n",
    "# fail_lst = fail_lst / total * 100\n",
    "\n",
    "# fig = go.Figure()\n",
    "\n",
    "# predictions = [\n",
    "#     \"Correct\",\n",
    "#     \"Incorrect\",\n",
    "#     \"No Information Found\"\n",
    "# ]\n",
    "\n",
    "# colors = [\n",
    "#     \"green\",\n",
    "#     \"red\",\n",
    "#     \"blue\"\n",
    "# ]\n",
    "\n",
    "# lsts = [\n",
    "#     correct_lst,\n",
    "#     incorrect_lst,\n",
    "#     fail_lst\n",
    "# ]\n",
    "\n",
    "# x = [\n",
    "#     group_labels,\n",
    "#     number_labels\n",
    "# ]\n",
    "\n",
    "# for (prediction, color, lst) in zip(predictions, colors, lsts):\n",
    "#     fig.add_bar(\n",
    "#         name=prediction,\n",
    "#         x=x,\n",
    "#         y=lst,\n",
    "#         marker_color=color,\n",
    "#         constraintext='outside',\n",
    "#         hovertext=sub_labels,\n",
    "#         textposition='auto'\n",
    "#         )\n",
    "    \n",
    "# fig.update_layout(\n",
    "#     # uniformtext_minsize=8, uniformtext_mode='hide',\n",
    "#     title='ChatGPT Predictions',\n",
    "#     # xaxis_tickfont_size=6,\n",
    "#     yaxis=dict(\n",
    "#         title='Percentage',\n",
    "#         titlefont_size=16,\n",
    "#         # tickfont_size=3,\n",
    "#     ),\n",
    "\n",
    "#     barmode='relative',\n",
    "#     bargap=0.0, # gap between bars of adjacent location coordinates.\n",
    "#     bargroupgap=0.00, # gap between bars of the same location coordinate.\n",
    "    \n",
    "# )\n",
    "\n",
    "# fig.show()\n",
    "\n",
    "\n",
    "# folder_figures = \"../../../reports/figures/\"\n",
    "# file_name = \"PxPlot_HTML_BarchartPredictions.html\"\n",
    "# fig.write_html(F\"{folder_figures}{file_name}\")\n",
    "# file_name = \"PxPlot_PDF_BarchartPredictions.pdf\"\n",
    "# fig.write_image(F\"{folder_figures}{file_name}\")"
   ]
  },
  {
   "attachments": {},
   "cell_type": "markdown",
   "metadata": {},
   "source": [
    "##### New"
   ]
  },
  {
   "cell_type": "code",
   "execution_count": 19,
   "metadata": {},
   "outputs": [],
   "source": [
    "x_data = []\n",
    "y_data = []\n",
    "for column in df.columns.get_level_values(0).unique():\n",
    "\n",
    "    values = df[column].values\n",
    "    size = df[column].values.size\n",
    "\n",
    "    correct = round((values=='Correct').sum() / size * 100, 2)\n",
    "    incorrect = round((values=='Incorrect').sum() / size * 100, 2)\n",
    "    fail = round((values=='Fail').sum() / size * 100, 2)\n",
    "\n",
    "    x_data.append([correct, incorrect, fail])\n",
    "\n",
    "    y_data.append(column)"
   ]
  },
  {
   "cell_type": "code",
   "execution_count": 49,
   "metadata": {},
   "outputs": [
    {
     "data": {
      "application/vnd.plotly.v1+json": {
       "config": {
        "plotlyServerURL": "https://plot.ly"
       },
       "data": [
        {
         "marker": {
          "color": "green",
          "line": {
           "color": "rgb(248, 248, 249)",
           "width": 1
          }
         },
         "orientation": "h",
         "type": "bar",
         "x": [
          73.33
         ],
         "y": [
          "Life form"
         ]
        },
        {
         "marker": {
          "color": "green",
          "line": {
           "color": "rgb(248, 248, 249)",
           "width": 1
          }
         },
         "orientation": "h",
         "type": "bar",
         "x": [
          48
         ],
         "y": [
          "Leaf position"
         ]
        },
        {
         "marker": {
          "color": "green",
          "line": {
           "color": "rgb(248, 248, 249)",
           "width": 1
          }
         },
         "orientation": "h",
         "type": "bar",
         "x": [
          48.89
         ],
         "y": [
          "Leaf composition"
         ]
        },
        {
         "marker": {
          "color": "green",
          "line": {
           "color": "rgb(248, 248, 249)",
           "width": 1
          }
         },
         "orientation": "h",
         "type": "bar",
         "x": [
          41.82
         ],
         "y": [
          "Leaf shape"
         ]
        },
        {
         "marker": {
          "color": "green",
          "line": {
           "color": "rgb(248, 248, 249)",
           "width": 1
          }
         },
         "orientation": "h",
         "type": "bar",
         "x": [
          53.33
         ],
         "y": [
          "Leaf margin"
         ]
        },
        {
         "marker": {
          "color": "green",
          "line": {
           "color": "rgb(248, 248, 249)",
           "width": 1
          }
         },
         "orientation": "h",
         "type": "bar",
         "x": [
          23.33
         ],
         "y": [
          "Leaf upper side"
         ]
        },
        {
         "marker": {
          "color": "green",
          "line": {
           "color": "rgb(248, 248, 249)",
           "width": 1
          }
         },
         "orientation": "h",
         "type": "bar",
         "x": [
          18.89
         ],
         "y": [
          "Leaf lower side"
         ]
        },
        {
         "marker": {
          "color": "green",
          "line": {
           "color": "rgb(248, 248, 249)",
           "width": 1
          }
         },
         "orientation": "h",
         "type": "bar",
         "x": [
          28.89
         ],
         "y": [
          "Leaf glands"
         ]
        },
        {
         "marker": {
          "color": "green",
          "line": {
           "color": "rgb(248, 248, 249)",
           "width": 1
          }
         },
         "orientation": "h",
         "type": "bar",
         "x": [
          30
         ],
         "y": [
          "Leaf rachis"
         ]
        },
        {
         "marker": {
          "color": "green",
          "line": {
           "color": "rgb(248, 248, 249)",
           "width": 1
          }
         },
         "orientation": "h",
         "type": "bar",
         "x": [
          38.67
         ],
         "y": [
          "Thorns spines"
         ]
        },
        {
         "marker": {
          "color": "green",
          "line": {
           "color": "rgb(248, 248, 249)",
           "width": 1
          }
         },
         "orientation": "h",
         "type": "bar",
         "x": [
          15.56
         ],
         "y": [
          "Stipules"
         ]
        },
        {
         "marker": {
          "color": "green",
          "line": {
           "color": "rgb(248, 248, 249)",
           "width": 1
          }
         },
         "orientation": "h",
         "type": "bar",
         "x": [
          46.67
         ],
         "y": [
          "Inflorescence type"
         ]
        },
        {
         "marker": {
          "color": "green",
          "line": {
           "color": "rgb(248, 248, 249)",
           "width": 1
          }
         },
         "orientation": "h",
         "type": "bar",
         "x": [
          13.33
         ],
         "y": [
          "Sepals calyx shape"
         ]
        },
        {
         "marker": {
          "color": "green",
          "line": {
           "color": "rgb(248, 248, 249)",
           "width": 1
          }
         },
         "orientation": "h",
         "type": "bar",
         "x": [
          47.41
         ],
         "y": [
          "Sepals calyx numer"
         ]
        },
        {
         "marker": {
          "color": "green",
          "line": {
           "color": "rgb(248, 248, 249)",
           "width": 1
          }
         },
         "orientation": "h",
         "type": "bar",
         "x": [
          30
         ],
         "y": [
          "Petals corolla shape"
         ]
        },
        {
         "marker": {
          "color": "green",
          "line": {
           "color": "rgb(248, 248, 249)",
           "width": 1
          }
         },
         "orientation": "h",
         "type": "bar",
         "x": [
          64.44
         ],
         "y": [
          "Petals corolla number"
         ]
        },
        {
         "marker": {
          "color": "green",
          "line": {
           "color": "rgb(248, 248, 249)",
           "width": 1
          }
         },
         "orientation": "h",
         "type": "bar",
         "x": [
          57.65
         ],
         "y": [
          "Petals corolla colour"
         ]
        },
        {
         "marker": {
          "color": "green",
          "line": {
           "color": "rgb(248, 248, 249)",
           "width": 1
          }
         },
         "orientation": "h",
         "type": "bar",
         "x": [
          17.78
         ],
         "y": [
          "Stamen shape"
         ]
        },
        {
         "marker": {
          "color": "green",
          "line": {
           "color": "rgb(248, 248, 249)",
           "width": 1
          }
         },
         "orientation": "h",
         "type": "bar",
         "x": [
          31.28
         ],
         "y": [
          "Stamen number"
         ]
        },
        {
         "marker": {
          "color": "green",
          "line": {
           "color": "rgb(248, 248, 249)",
           "width": 1
          }
         },
         "orientation": "h",
         "type": "bar",
         "x": [
          68.57
         ],
         "y": [
          "Fruit type"
         ]
        },
        {
         "marker": {
          "color": "green",
          "line": {
           "color": "rgb(248, 248, 249)",
           "width": 1
          }
         },
         "orientation": "h",
         "type": "bar",
         "x": [
          41.96
         ],
         "y": [
          "Fruit shape"
         ]
        },
        {
         "marker": {
          "color": "green",
          "line": {
           "color": "rgb(248, 248, 249)",
           "width": 1
          }
         },
         "orientation": "h",
         "type": "bar",
         "x": [
          36.33
         ],
         "y": [
          "Fruit colour"
         ]
        },
        {
         "marker": {
          "color": "green",
          "line": {
           "color": "rgb(248, 248, 249)",
           "width": 1
          }
         },
         "orientation": "h",
         "type": "bar",
         "x": [
          0
         ],
         "y": [
          "Aril colour"
         ]
        },
        {
         "marker": {
          "color": "green",
          "line": {
           "color": "rgb(248, 248, 249)",
           "width": 1
          }
         },
         "orientation": "h",
         "type": "bar",
         "x": [
          30
         ],
         "y": [
          "Seed colour"
         ]
        },
        {
         "marker": {
          "color": "red",
          "line": {
           "color": "rgb(248, 248, 249)",
           "width": 1
          }
         },
         "orientation": "h",
         "type": "bar",
         "x": [
          26.67
         ],
         "y": [
          "Life form"
         ]
        },
        {
         "marker": {
          "color": "red",
          "line": {
           "color": "rgb(248, 248, 249)",
           "width": 1
          }
         },
         "orientation": "h",
         "type": "bar",
         "x": [
          12
         ],
         "y": [
          "Leaf position"
         ]
        },
        {
         "marker": {
          "color": "red",
          "line": {
           "color": "rgb(248, 248, 249)",
           "width": 1
          }
         },
         "orientation": "h",
         "type": "bar",
         "x": [
          4.44
         ],
         "y": [
          "Leaf composition"
         ]
        },
        {
         "marker": {
          "color": "red",
          "line": {
           "color": "rgb(248, 248, 249)",
           "width": 1
          }
         },
         "orientation": "h",
         "type": "bar",
         "x": [
          11.52
         ],
         "y": [
          "Leaf shape"
         ]
        },
        {
         "marker": {
          "color": "red",
          "line": {
           "color": "rgb(248, 248, 249)",
           "width": 1
          }
         },
         "orientation": "h",
         "type": "bar",
         "x": [
          6.67
         ],
         "y": [
          "Leaf margin"
         ]
        },
        {
         "marker": {
          "color": "red",
          "line": {
           "color": "rgb(248, 248, 249)",
           "width": 1
          }
         },
         "orientation": "h",
         "type": "bar",
         "x": [
          3.33
         ],
         "y": [
          "Leaf upper side"
         ]
        },
        {
         "marker": {
          "color": "red",
          "line": {
           "color": "rgb(248, 248, 249)",
           "width": 1
          }
         },
         "orientation": "h",
         "type": "bar",
         "x": [
          1.11
         ],
         "y": [
          "Leaf lower side"
         ]
        },
        {
         "marker": {
          "color": "red",
          "line": {
           "color": "rgb(248, 248, 249)",
           "width": 1
          }
         },
         "orientation": "h",
         "type": "bar",
         "x": [
          4.44
         ],
         "y": [
          "Leaf glands"
         ]
        },
        {
         "marker": {
          "color": "red",
          "line": {
           "color": "rgb(248, 248, 249)",
           "width": 1
          }
         },
         "orientation": "h",
         "type": "bar",
         "x": [
          10
         ],
         "y": [
          "Leaf rachis"
         ]
        },
        {
         "marker": {
          "color": "red",
          "line": {
           "color": "rgb(248, 248, 249)",
           "width": 1
          }
         },
         "orientation": "h",
         "type": "bar",
         "x": [
          1.33
         ],
         "y": [
          "Thorns spines"
         ]
        },
        {
         "marker": {
          "color": "red",
          "line": {
           "color": "rgb(248, 248, 249)",
           "width": 1
          }
         },
         "orientation": "h",
         "type": "bar",
         "x": [
          4.44
         ],
         "y": [
          "Stipules"
         ]
        },
        {
         "marker": {
          "color": "red",
          "line": {
           "color": "rgb(248, 248, 249)",
           "width": 1
          }
         },
         "orientation": "h",
         "type": "bar",
         "x": [
          6.67
         ],
         "y": [
          "Inflorescence type"
         ]
        },
        {
         "marker": {
          "color": "red",
          "line": {
           "color": "rgb(248, 248, 249)",
           "width": 1
          }
         },
         "orientation": "h",
         "type": "bar",
         "x": [
          40
         ],
         "y": [
          "Sepals calyx shape"
         ]
        },
        {
         "marker": {
          "color": "red",
          "line": {
           "color": "rgb(248, 248, 249)",
           "width": 1
          }
         },
         "orientation": "h",
         "type": "bar",
         "x": [
          5.93
         ],
         "y": [
          "Sepals calyx numer"
         ]
        },
        {
         "marker": {
          "color": "red",
          "line": {
           "color": "rgb(248, 248, 249)",
           "width": 1
          }
         },
         "orientation": "h",
         "type": "bar",
         "x": [
          3.33
         ],
         "y": [
          "Petals corolla shape"
         ]
        },
        {
         "marker": {
          "color": "red",
          "line": {
           "color": "rgb(248, 248, 249)",
           "width": 1
          }
         },
         "orientation": "h",
         "type": "bar",
         "x": [
          15.56
         ],
         "y": [
          "Petals corolla number"
         ]
        },
        {
         "marker": {
          "color": "red",
          "line": {
           "color": "rgb(248, 248, 249)",
           "width": 1
          }
         },
         "orientation": "h",
         "type": "bar",
         "x": [
          9.02
         ],
         "y": [
          "Petals corolla colour"
         ]
        },
        {
         "marker": {
          "color": "red",
          "line": {
           "color": "rgb(248, 248, 249)",
           "width": 1
          }
         },
         "orientation": "h",
         "type": "bar",
         "x": [
          2.22
         ],
         "y": [
          "Stamen shape"
         ]
        },
        {
         "marker": {
          "color": "red",
          "line": {
           "color": "rgb(248, 248, 249)",
           "width": 1
          }
         },
         "orientation": "h",
         "type": "bar",
         "x": [
          2.05
         ],
         "y": [
          "Stamen number"
         ]
        },
        {
         "marker": {
          "color": "red",
          "line": {
           "color": "rgb(248, 248, 249)",
           "width": 1
          }
         },
         "orientation": "h",
         "type": "bar",
         "x": [
          11.43
         ],
         "y": [
          "Fruit type"
         ]
        },
        {
         "marker": {
          "color": "red",
          "line": {
           "color": "rgb(248, 248, 249)",
           "width": 1
          }
         },
         "orientation": "h",
         "type": "bar",
         "x": [
          4.71
         ],
         "y": [
          "Fruit shape"
         ]
        },
        {
         "marker": {
          "color": "red",
          "line": {
           "color": "rgb(248, 248, 249)",
           "width": 1
          }
         },
         "orientation": "h",
         "type": "bar",
         "x": [
          10.33
         ],
         "y": [
          "Fruit colour"
         ]
        },
        {
         "marker": {
          "color": "red",
          "line": {
           "color": "rgb(248, 248, 249)",
           "width": 1
          }
         },
         "orientation": "h",
         "type": "bar",
         "x": [
          0
         ],
         "y": [
          "Aril colour"
         ]
        },
        {
         "marker": {
          "color": "red",
          "line": {
           "color": "rgb(248, 248, 249)",
           "width": 1
          }
         },
         "orientation": "h",
         "type": "bar",
         "x": [
          23.33
         ],
         "y": [
          "Seed colour"
         ]
        },
        {
         "marker": {
          "color": "blue",
          "line": {
           "color": "rgb(248, 248, 249)",
           "width": 1
          }
         },
         "orientation": "h",
         "type": "bar",
         "x": [
          0
         ],
         "y": [
          "Life form"
         ]
        },
        {
         "marker": {
          "color": "blue",
          "line": {
           "color": "rgb(248, 248, 249)",
           "width": 1
          }
         },
         "orientation": "h",
         "type": "bar",
         "x": [
          40
         ],
         "y": [
          "Leaf position"
         ]
        },
        {
         "marker": {
          "color": "blue",
          "line": {
           "color": "rgb(248, 248, 249)",
           "width": 1
          }
         },
         "orientation": "h",
         "type": "bar",
         "x": [
          46.67
         ],
         "y": [
          "Leaf composition"
         ]
        },
        {
         "marker": {
          "color": "blue",
          "line": {
           "color": "rgb(248, 248, 249)",
           "width": 1
          }
         },
         "orientation": "h",
         "type": "bar",
         "x": [
          46.67
         ],
         "y": [
          "Leaf shape"
         ]
        },
        {
         "marker": {
          "color": "blue",
          "line": {
           "color": "rgb(248, 248, 249)",
           "width": 1
          }
         },
         "orientation": "h",
         "type": "bar",
         "x": [
          40
         ],
         "y": [
          "Leaf margin"
         ]
        },
        {
         "marker": {
          "color": "blue",
          "line": {
           "color": "rgb(248, 248, 249)",
           "width": 1
          }
         },
         "orientation": "h",
         "type": "bar",
         "x": [
          73.33
         ],
         "y": [
          "Leaf upper side"
         ]
        },
        {
         "marker": {
          "color": "blue",
          "line": {
           "color": "rgb(248, 248, 249)",
           "width": 1
          }
         },
         "orientation": "h",
         "type": "bar",
         "x": [
          80
         ],
         "y": [
          "Leaf lower side"
         ]
        },
        {
         "marker": {
          "color": "blue",
          "line": {
           "color": "rgb(248, 248, 249)",
           "width": 1
          }
         },
         "orientation": "h",
         "type": "bar",
         "x": [
          66.67
         ],
         "y": [
          "Leaf glands"
         ]
        },
        {
         "marker": {
          "color": "blue",
          "line": {
           "color": "rgb(248, 248, 249)",
           "width": 1
          }
         },
         "orientation": "h",
         "type": "bar",
         "x": [
          60
         ],
         "y": [
          "Leaf rachis"
         ]
        },
        {
         "marker": {
          "color": "blue",
          "line": {
           "color": "rgb(248, 248, 249)",
           "width": 1
          }
         },
         "orientation": "h",
         "type": "bar",
         "x": [
          60
         ],
         "y": [
          "Thorns spines"
         ]
        },
        {
         "marker": {
          "color": "blue",
          "line": {
           "color": "rgb(248, 248, 249)",
           "width": 1
          }
         },
         "orientation": "h",
         "type": "bar",
         "x": [
          80
         ],
         "y": [
          "Stipules"
         ]
        },
        {
         "marker": {
          "color": "blue",
          "line": {
           "color": "rgb(248, 248, 249)",
           "width": 1
          }
         },
         "orientation": "h",
         "type": "bar",
         "x": [
          46.67
         ],
         "y": [
          "Inflorescence type"
         ]
        },
        {
         "marker": {
          "color": "blue",
          "line": {
           "color": "rgb(248, 248, 249)",
           "width": 1
          }
         },
         "orientation": "h",
         "type": "bar",
         "x": [
          46.67
         ],
         "y": [
          "Sepals calyx shape"
         ]
        },
        {
         "marker": {
          "color": "blue",
          "line": {
           "color": "rgb(248, 248, 249)",
           "width": 1
          }
         },
         "orientation": "h",
         "type": "bar",
         "x": [
          46.67
         ],
         "y": [
          "Sepals calyx numer"
         ]
        },
        {
         "marker": {
          "color": "blue",
          "line": {
           "color": "rgb(248, 248, 249)",
           "width": 1
          }
         },
         "orientation": "h",
         "type": "bar",
         "x": [
          66.67
         ],
         "y": [
          "Petals corolla shape"
         ]
        },
        {
         "marker": {
          "color": "blue",
          "line": {
           "color": "rgb(248, 248, 249)",
           "width": 1
          }
         },
         "orientation": "h",
         "type": "bar",
         "x": [
          20
         ],
         "y": [
          "Petals corolla number"
         ]
        },
        {
         "marker": {
          "color": "blue",
          "line": {
           "color": "rgb(248, 248, 249)",
           "width": 1
          }
         },
         "orientation": "h",
         "type": "bar",
         "x": [
          33.33
         ],
         "y": [
          "Petals corolla colour"
         ]
        },
        {
         "marker": {
          "color": "blue",
          "line": {
           "color": "rgb(248, 248, 249)",
           "width": 1
          }
         },
         "orientation": "h",
         "type": "bar",
         "x": [
          80
         ],
         "y": [
          "Stamen shape"
         ]
        },
        {
         "marker": {
          "color": "blue",
          "line": {
           "color": "rgb(248, 248, 249)",
           "width": 1
          }
         },
         "orientation": "h",
         "type": "bar",
         "x": [
          66.67
         ],
         "y": [
          "Stamen number"
         ]
        },
        {
         "marker": {
          "color": "blue",
          "line": {
           "color": "rgb(248, 248, 249)",
           "width": 1
          }
         },
         "orientation": "h",
         "type": "bar",
         "x": [
          20
         ],
         "y": [
          "Fruit type"
         ]
        },
        {
         "marker": {
          "color": "blue",
          "line": {
           "color": "rgb(248, 248, 249)",
           "width": 1
          }
         },
         "orientation": "h",
         "type": "bar",
         "x": [
          53.33
         ],
         "y": [
          "Fruit shape"
         ]
        },
        {
         "marker": {
          "color": "blue",
          "line": {
           "color": "rgb(248, 248, 249)",
           "width": 1
          }
         },
         "orientation": "h",
         "type": "bar",
         "x": [
          53.33
         ],
         "y": [
          "Fruit colour"
         ]
        },
        {
         "marker": {
          "color": "blue",
          "line": {
           "color": "rgb(248, 248, 249)",
           "width": 1
          }
         },
         "orientation": "h",
         "type": "bar",
         "x": [
          100
         ],
         "y": [
          "Aril colour"
         ]
        },
        {
         "marker": {
          "color": "blue",
          "line": {
           "color": "rgb(248, 248, 249)",
           "width": 1
          }
         },
         "orientation": "h",
         "type": "bar",
         "x": [
          46.67
         ],
         "y": [
          "Seed colour"
         ]
        }
       ],
       "layout": {
        "annotations": [
         {
          "align": "right",
          "font": {
           "color": "rgb(67, 67, 67)",
           "family": "Arial",
           "size": 14
          },
          "showarrow": false,
          "text": "Life form",
          "x": 0.14,
          "xanchor": "right",
          "xref": "paper",
          "y": "Life form",
          "yref": "y"
         },
         {
          "font": {
           "color": "rgb(248, 248, 255)",
           "family": "Arial",
           "size": 14
          },
          "showarrow": false,
          "text": "73.33%",
          "x": 36.665,
          "xref": "x",
          "y": "Life form",
          "yref": "y"
         },
         {
          "font": {
           "color": "rgb(248, 248, 255)",
           "family": "Arial",
           "size": 14
          },
          "showarrow": false,
          "text": "26.67%",
          "x": 86.66499999999999,
          "xref": "x",
          "y": "Life form",
          "yref": "y"
         },
         {
          "font": {
           "color": "rgb(248, 248, 255)",
           "family": "Arial",
           "size": 14
          },
          "showarrow": false,
          "text": "",
          "x": 100,
          "xref": "x",
          "y": "Life form",
          "yref": "y"
         },
         {
          "align": "right",
          "font": {
           "color": "rgb(67, 67, 67)",
           "family": "Arial",
           "size": 14
          },
          "showarrow": false,
          "text": "Leaf position",
          "x": 0.14,
          "xanchor": "right",
          "xref": "paper",
          "y": "Leaf position",
          "yref": "y"
         },
         {
          "font": {
           "color": "rgb(248, 248, 255)",
           "family": "Arial",
           "size": 14
          },
          "showarrow": false,
          "text": "48.0%",
          "x": 24,
          "xref": "x",
          "y": "Leaf position",
          "yref": "y"
         },
         {
          "font": {
           "color": "rgb(248, 248, 255)",
           "family": "Arial",
           "size": 14
          },
          "showarrow": false,
          "text": "12.0%",
          "x": 54,
          "xref": "x",
          "y": "Leaf position",
          "yref": "y"
         },
         {
          "font": {
           "color": "rgb(248, 248, 255)",
           "family": "Arial",
           "size": 14
          },
          "showarrow": false,
          "text": "40.0%",
          "x": 80,
          "xref": "x",
          "y": "Leaf position",
          "yref": "y"
         },
         {
          "align": "right",
          "font": {
           "color": "rgb(67, 67, 67)",
           "family": "Arial",
           "size": 14
          },
          "showarrow": false,
          "text": "Leaf composition",
          "x": 0.14,
          "xanchor": "right",
          "xref": "paper",
          "y": "Leaf composition",
          "yref": "y"
         },
         {
          "font": {
           "color": "rgb(248, 248, 255)",
           "family": "Arial",
           "size": 14
          },
          "showarrow": false,
          "text": "48.89%",
          "x": 24.445,
          "xref": "x",
          "y": "Leaf composition",
          "yref": "y"
         },
         {
          "font": {
           "color": "rgb(248, 248, 255)",
           "family": "Arial",
           "size": 14
          },
          "showarrow": false,
          "text": "",
          "x": 51.11,
          "xref": "x",
          "y": "Leaf composition",
          "yref": "y"
         },
         {
          "font": {
           "color": "rgb(248, 248, 255)",
           "family": "Arial",
           "size": 14
          },
          "showarrow": false,
          "text": "46.67%",
          "x": 76.66499999999999,
          "xref": "x",
          "y": "Leaf composition",
          "yref": "y"
         },
         {
          "align": "right",
          "font": {
           "color": "rgb(67, 67, 67)",
           "family": "Arial",
           "size": 14
          },
          "showarrow": false,
          "text": "Leaf shape",
          "x": 0.14,
          "xanchor": "right",
          "xref": "paper",
          "y": "Leaf shape",
          "yref": "y"
         },
         {
          "font": {
           "color": "rgb(248, 248, 255)",
           "family": "Arial",
           "size": 14
          },
          "showarrow": false,
          "text": "41.82%",
          "x": 20.91,
          "xref": "x",
          "y": "Leaf shape",
          "yref": "y"
         },
         {
          "font": {
           "color": "rgb(248, 248, 255)",
           "family": "Arial",
           "size": 14
          },
          "showarrow": false,
          "text": "11.52%",
          "x": 47.58,
          "xref": "x",
          "y": "Leaf shape",
          "yref": "y"
         },
         {
          "font": {
           "color": "rgb(248, 248, 255)",
           "family": "Arial",
           "size": 14
          },
          "showarrow": false,
          "text": "46.67%",
          "x": 76.67500000000001,
          "xref": "x",
          "y": "Leaf shape",
          "yref": "y"
         },
         {
          "align": "right",
          "font": {
           "color": "rgb(67, 67, 67)",
           "family": "Arial",
           "size": 14
          },
          "showarrow": false,
          "text": "Leaf margin",
          "x": 0.14,
          "xanchor": "right",
          "xref": "paper",
          "y": "Leaf margin",
          "yref": "y"
         },
         {
          "font": {
           "color": "rgb(248, 248, 255)",
           "family": "Arial",
           "size": 14
          },
          "showarrow": false,
          "text": "53.33%",
          "x": 26.665,
          "xref": "x",
          "y": "Leaf margin",
          "yref": "y"
         },
         {
          "font": {
           "color": "rgb(248, 248, 255)",
           "family": "Arial",
           "size": 14
          },
          "showarrow": false,
          "text": "6.67%",
          "x": 56.665,
          "xref": "x",
          "y": "Leaf margin",
          "yref": "y"
         },
         {
          "font": {
           "color": "rgb(248, 248, 255)",
           "family": "Arial",
           "size": 14
          },
          "showarrow": false,
          "text": "40.0%",
          "x": 80,
          "xref": "x",
          "y": "Leaf margin",
          "yref": "y"
         },
         {
          "align": "right",
          "font": {
           "color": "rgb(67, 67, 67)",
           "family": "Arial",
           "size": 14
          },
          "showarrow": false,
          "text": "Leaf upper side",
          "x": 0.14,
          "xanchor": "right",
          "xref": "paper",
          "y": "Leaf upper side",
          "yref": "y"
         },
         {
          "font": {
           "color": "rgb(248, 248, 255)",
           "family": "Arial",
           "size": 14
          },
          "showarrow": false,
          "text": "23.33%",
          "x": 11.665,
          "xref": "x",
          "y": "Leaf upper side",
          "yref": "y"
         },
         {
          "font": {
           "color": "rgb(248, 248, 255)",
           "family": "Arial",
           "size": 14
          },
          "showarrow": false,
          "text": "",
          "x": 24.994999999999997,
          "xref": "x",
          "y": "Leaf upper side",
          "yref": "y"
         },
         {
          "font": {
           "color": "rgb(248, 248, 255)",
           "family": "Arial",
           "size": 14
          },
          "showarrow": false,
          "text": "73.33%",
          "x": 63.324999999999996,
          "xref": "x",
          "y": "Leaf upper side",
          "yref": "y"
         },
         {
          "align": "right",
          "font": {
           "color": "rgb(67, 67, 67)",
           "family": "Arial",
           "size": 14
          },
          "showarrow": false,
          "text": "Leaf lower side",
          "x": 0.14,
          "xanchor": "right",
          "xref": "paper",
          "y": "Leaf lower side",
          "yref": "y"
         },
         {
          "font": {
           "color": "rgb(248, 248, 255)",
           "family": "Arial",
           "size": 14
          },
          "showarrow": false,
          "text": "18.89%",
          "x": 9.445,
          "xref": "x",
          "y": "Leaf lower side",
          "yref": "y"
         },
         {
          "font": {
           "color": "rgb(248, 248, 255)",
           "family": "Arial",
           "size": 14
          },
          "showarrow": false,
          "text": "",
          "x": 19.445,
          "xref": "x",
          "y": "Leaf lower side",
          "yref": "y"
         },
         {
          "font": {
           "color": "rgb(248, 248, 255)",
           "family": "Arial",
           "size": 14
          },
          "showarrow": false,
          "text": "80.0%",
          "x": 60,
          "xref": "x",
          "y": "Leaf lower side",
          "yref": "y"
         },
         {
          "align": "right",
          "font": {
           "color": "rgb(67, 67, 67)",
           "family": "Arial",
           "size": 14
          },
          "showarrow": false,
          "text": "Leaf glands",
          "x": 0.14,
          "xanchor": "right",
          "xref": "paper",
          "y": "Leaf glands",
          "yref": "y"
         },
         {
          "font": {
           "color": "rgb(248, 248, 255)",
           "family": "Arial",
           "size": 14
          },
          "showarrow": false,
          "text": "28.89%",
          "x": 14.445,
          "xref": "x",
          "y": "Leaf glands",
          "yref": "y"
         },
         {
          "font": {
           "color": "rgb(248, 248, 255)",
           "family": "Arial",
           "size": 14
          },
          "showarrow": false,
          "text": "",
          "x": 31.11,
          "xref": "x",
          "y": "Leaf glands",
          "yref": "y"
         },
         {
          "font": {
           "color": "rgb(248, 248, 255)",
           "family": "Arial",
           "size": 14
          },
          "showarrow": false,
          "text": "66.67%",
          "x": 66.66499999999999,
          "xref": "x",
          "y": "Leaf glands",
          "yref": "y"
         },
         {
          "align": "right",
          "font": {
           "color": "rgb(67, 67, 67)",
           "family": "Arial",
           "size": 14
          },
          "showarrow": false,
          "text": "Leaf rachis",
          "x": 0.14,
          "xanchor": "right",
          "xref": "paper",
          "y": "Leaf rachis",
          "yref": "y"
         },
         {
          "font": {
           "color": "rgb(248, 248, 255)",
           "family": "Arial",
           "size": 14
          },
          "showarrow": false,
          "text": "30.0%",
          "x": 15,
          "xref": "x",
          "y": "Leaf rachis",
          "yref": "y"
         },
         {
          "font": {
           "color": "rgb(248, 248, 255)",
           "family": "Arial",
           "size": 14
          },
          "showarrow": false,
          "text": "10.0%",
          "x": 35,
          "xref": "x",
          "y": "Leaf rachis",
          "yref": "y"
         },
         {
          "font": {
           "color": "rgb(248, 248, 255)",
           "family": "Arial",
           "size": 14
          },
          "showarrow": false,
          "text": "60.0%",
          "x": 70,
          "xref": "x",
          "y": "Leaf rachis",
          "yref": "y"
         },
         {
          "align": "right",
          "font": {
           "color": "rgb(67, 67, 67)",
           "family": "Arial",
           "size": 14
          },
          "showarrow": false,
          "text": "Thorns spines",
          "x": 0.14,
          "xanchor": "right",
          "xref": "paper",
          "y": "Thorns spines",
          "yref": "y"
         },
         {
          "font": {
           "color": "rgb(248, 248, 255)",
           "family": "Arial",
           "size": 14
          },
          "showarrow": false,
          "text": "38.67%",
          "x": 19.335,
          "xref": "x",
          "y": "Thorns spines",
          "yref": "y"
         },
         {
          "font": {
           "color": "rgb(248, 248, 255)",
           "family": "Arial",
           "size": 14
          },
          "showarrow": false,
          "text": "",
          "x": 39.335,
          "xref": "x",
          "y": "Thorns spines",
          "yref": "y"
         },
         {
          "font": {
           "color": "rgb(248, 248, 255)",
           "family": "Arial",
           "size": 14
          },
          "showarrow": false,
          "text": "60.0%",
          "x": 70,
          "xref": "x",
          "y": "Thorns spines",
          "yref": "y"
         },
         {
          "align": "right",
          "font": {
           "color": "rgb(67, 67, 67)",
           "family": "Arial",
           "size": 14
          },
          "showarrow": false,
          "text": "Stipules",
          "x": 0.14,
          "xanchor": "right",
          "xref": "paper",
          "y": "Stipules",
          "yref": "y"
         },
         {
          "font": {
           "color": "rgb(248, 248, 255)",
           "family": "Arial",
           "size": 14
          },
          "showarrow": false,
          "text": "15.56%",
          "x": 7.78,
          "xref": "x",
          "y": "Stipules",
          "yref": "y"
         },
         {
          "font": {
           "color": "rgb(248, 248, 255)",
           "family": "Arial",
           "size": 14
          },
          "showarrow": false,
          "text": "",
          "x": 17.78,
          "xref": "x",
          "y": "Stipules",
          "yref": "y"
         },
         {
          "font": {
           "color": "rgb(248, 248, 255)",
           "family": "Arial",
           "size": 14
          },
          "showarrow": false,
          "text": "80.0%",
          "x": 60,
          "xref": "x",
          "y": "Stipules",
          "yref": "y"
         },
         {
          "align": "right",
          "font": {
           "color": "rgb(67, 67, 67)",
           "family": "Arial",
           "size": 14
          },
          "showarrow": false,
          "text": "Inflorescence type",
          "x": 0.14,
          "xanchor": "right",
          "xref": "paper",
          "y": "Inflorescence type",
          "yref": "y"
         },
         {
          "font": {
           "color": "rgb(248, 248, 255)",
           "family": "Arial",
           "size": 14
          },
          "showarrow": false,
          "text": "46.67%",
          "x": 23.335,
          "xref": "x",
          "y": "Inflorescence type",
          "yref": "y"
         },
         {
          "font": {
           "color": "rgb(248, 248, 255)",
           "family": "Arial",
           "size": 14
          },
          "showarrow": false,
          "text": "6.67%",
          "x": 50.005,
          "xref": "x",
          "y": "Inflorescence type",
          "yref": "y"
         },
         {
          "font": {
           "color": "rgb(248, 248, 255)",
           "family": "Arial",
           "size": 14
          },
          "showarrow": false,
          "text": "46.67%",
          "x": 76.67500000000001,
          "xref": "x",
          "y": "Inflorescence type",
          "yref": "y"
         },
         {
          "align": "right",
          "font": {
           "color": "rgb(67, 67, 67)",
           "family": "Arial",
           "size": 14
          },
          "showarrow": false,
          "text": "Sepals calyx shape",
          "x": 0.14,
          "xanchor": "right",
          "xref": "paper",
          "y": "Sepals calyx shape",
          "yref": "y"
         },
         {
          "font": {
           "color": "rgb(248, 248, 255)",
           "family": "Arial",
           "size": 14
          },
          "showarrow": false,
          "text": "13.33%",
          "x": 6.665,
          "xref": "x",
          "y": "Sepals calyx shape",
          "yref": "y"
         },
         {
          "font": {
           "color": "rgb(248, 248, 255)",
           "family": "Arial",
           "size": 14
          },
          "showarrow": false,
          "text": "40.0%",
          "x": 33.33,
          "xref": "x",
          "y": "Sepals calyx shape",
          "yref": "y"
         },
         {
          "font": {
           "color": "rgb(248, 248, 255)",
           "family": "Arial",
           "size": 14
          },
          "showarrow": false,
          "text": "46.67%",
          "x": 76.66499999999999,
          "xref": "x",
          "y": "Sepals calyx shape",
          "yref": "y"
         },
         {
          "align": "right",
          "font": {
           "color": "rgb(67, 67, 67)",
           "family": "Arial",
           "size": 14
          },
          "showarrow": false,
          "text": "Sepals calyx numer",
          "x": 0.14,
          "xanchor": "right",
          "xref": "paper",
          "y": "Sepals calyx numer",
          "yref": "y"
         },
         {
          "font": {
           "color": "rgb(248, 248, 255)",
           "family": "Arial",
           "size": 14
          },
          "showarrow": false,
          "text": "47.41%",
          "x": 23.705,
          "xref": "x",
          "y": "Sepals calyx numer",
          "yref": "y"
         },
         {
          "font": {
           "color": "rgb(248, 248, 255)",
           "family": "Arial",
           "size": 14
          },
          "showarrow": false,
          "text": "5.93%",
          "x": 50.375,
          "xref": "x",
          "y": "Sepals calyx numer",
          "yref": "y"
         },
         {
          "font": {
           "color": "rgb(248, 248, 255)",
           "family": "Arial",
           "size": 14
          },
          "showarrow": false,
          "text": "46.67%",
          "x": 76.675,
          "xref": "x",
          "y": "Sepals calyx numer",
          "yref": "y"
         },
         {
          "align": "right",
          "font": {
           "color": "rgb(67, 67, 67)",
           "family": "Arial",
           "size": 14
          },
          "showarrow": false,
          "text": "Petals corolla shape",
          "x": 0.14,
          "xanchor": "right",
          "xref": "paper",
          "y": "Petals corolla shape",
          "yref": "y"
         },
         {
          "font": {
           "color": "rgb(248, 248, 255)",
           "family": "Arial",
           "size": 14
          },
          "showarrow": false,
          "text": "30.0%",
          "x": 15,
          "xref": "x",
          "y": "Petals corolla shape",
          "yref": "y"
         },
         {
          "font": {
           "color": "rgb(248, 248, 255)",
           "family": "Arial",
           "size": 14
          },
          "showarrow": false,
          "text": "",
          "x": 31.665,
          "xref": "x",
          "y": "Petals corolla shape",
          "yref": "y"
         },
         {
          "font": {
           "color": "rgb(248, 248, 255)",
           "family": "Arial",
           "size": 14
          },
          "showarrow": false,
          "text": "66.67%",
          "x": 66.66499999999999,
          "xref": "x",
          "y": "Petals corolla shape",
          "yref": "y"
         },
         {
          "align": "right",
          "font": {
           "color": "rgb(67, 67, 67)",
           "family": "Arial",
           "size": 14
          },
          "showarrow": false,
          "text": "Petals corolla number",
          "x": 0.14,
          "xanchor": "right",
          "xref": "paper",
          "y": "Petals corolla number",
          "yref": "y"
         },
         {
          "font": {
           "color": "rgb(248, 248, 255)",
           "family": "Arial",
           "size": 14
          },
          "showarrow": false,
          "text": "64.44%",
          "x": 32.22,
          "xref": "x",
          "y": "Petals corolla number",
          "yref": "y"
         },
         {
          "font": {
           "color": "rgb(248, 248, 255)",
           "family": "Arial",
           "size": 14
          },
          "showarrow": false,
          "text": "15.56%",
          "x": 72.22,
          "xref": "x",
          "y": "Petals corolla number",
          "yref": "y"
         },
         {
          "font": {
           "color": "rgb(248, 248, 255)",
           "family": "Arial",
           "size": 14
          },
          "showarrow": false,
          "text": "20.0%",
          "x": 90,
          "xref": "x",
          "y": "Petals corolla number",
          "yref": "y"
         },
         {
          "align": "right",
          "font": {
           "color": "rgb(67, 67, 67)",
           "family": "Arial",
           "size": 14
          },
          "showarrow": false,
          "text": "Petals corolla colour",
          "x": 0.14,
          "xanchor": "right",
          "xref": "paper",
          "y": "Petals corolla colour",
          "yref": "y"
         },
         {
          "font": {
           "color": "rgb(248, 248, 255)",
           "family": "Arial",
           "size": 14
          },
          "showarrow": false,
          "text": "57.65%",
          "x": 28.825,
          "xref": "x",
          "y": "Petals corolla colour",
          "yref": "y"
         },
         {
          "font": {
           "color": "rgb(248, 248, 255)",
           "family": "Arial",
           "size": 14
          },
          "showarrow": false,
          "text": "9.02%",
          "x": 62.16,
          "xref": "x",
          "y": "Petals corolla colour",
          "yref": "y"
         },
         {
          "font": {
           "color": "rgb(248, 248, 255)",
           "family": "Arial",
           "size": 14
          },
          "showarrow": false,
          "text": "33.33%",
          "x": 83.33500000000001,
          "xref": "x",
          "y": "Petals corolla colour",
          "yref": "y"
         },
         {
          "align": "right",
          "font": {
           "color": "rgb(67, 67, 67)",
           "family": "Arial",
           "size": 14
          },
          "showarrow": false,
          "text": "Stamen shape",
          "x": 0.14,
          "xanchor": "right",
          "xref": "paper",
          "y": "Stamen shape",
          "yref": "y"
         },
         {
          "font": {
           "color": "rgb(248, 248, 255)",
           "family": "Arial",
           "size": 14
          },
          "showarrow": false,
          "text": "17.78%",
          "x": 8.89,
          "xref": "x",
          "y": "Stamen shape",
          "yref": "y"
         },
         {
          "font": {
           "color": "rgb(248, 248, 255)",
           "family": "Arial",
           "size": 14
          },
          "showarrow": false,
          "text": "",
          "x": 18.89,
          "xref": "x",
          "y": "Stamen shape",
          "yref": "y"
         },
         {
          "font": {
           "color": "rgb(248, 248, 255)",
           "family": "Arial",
           "size": 14
          },
          "showarrow": false,
          "text": "80.0%",
          "x": 60,
          "xref": "x",
          "y": "Stamen shape",
          "yref": "y"
         },
         {
          "align": "right",
          "font": {
           "color": "rgb(67, 67, 67)",
           "family": "Arial",
           "size": 14
          },
          "showarrow": false,
          "text": "Stamen number",
          "x": 0.14,
          "xanchor": "right",
          "xref": "paper",
          "y": "Stamen number",
          "yref": "y"
         },
         {
          "font": {
           "color": "rgb(248, 248, 255)",
           "family": "Arial",
           "size": 14
          },
          "showarrow": false,
          "text": "31.28%",
          "x": 15.64,
          "xref": "x",
          "y": "Stamen number",
          "yref": "y"
         },
         {
          "font": {
           "color": "rgb(248, 248, 255)",
           "family": "Arial",
           "size": 14
          },
          "showarrow": false,
          "text": "",
          "x": 32.305,
          "xref": "x",
          "y": "Stamen number",
          "yref": "y"
         },
         {
          "font": {
           "color": "rgb(248, 248, 255)",
           "family": "Arial",
           "size": 14
          },
          "showarrow": false,
          "text": "66.67%",
          "x": 66.66499999999999,
          "xref": "x",
          "y": "Stamen number",
          "yref": "y"
         },
         {
          "align": "right",
          "font": {
           "color": "rgb(67, 67, 67)",
           "family": "Arial",
           "size": 14
          },
          "showarrow": false,
          "text": "Fruit type",
          "x": 0.14,
          "xanchor": "right",
          "xref": "paper",
          "y": "Fruit type",
          "yref": "y"
         },
         {
          "font": {
           "color": "rgb(248, 248, 255)",
           "family": "Arial",
           "size": 14
          },
          "showarrow": false,
          "text": "68.57%",
          "x": 34.285,
          "xref": "x",
          "y": "Fruit type",
          "yref": "y"
         },
         {
          "font": {
           "color": "rgb(248, 248, 255)",
           "family": "Arial",
           "size": 14
          },
          "showarrow": false,
          "text": "11.43%",
          "x": 74.285,
          "xref": "x",
          "y": "Fruit type",
          "yref": "y"
         },
         {
          "font": {
           "color": "rgb(248, 248, 255)",
           "family": "Arial",
           "size": 14
          },
          "showarrow": false,
          "text": "20.0%",
          "x": 90,
          "xref": "x",
          "y": "Fruit type",
          "yref": "y"
         },
         {
          "align": "right",
          "font": {
           "color": "rgb(67, 67, 67)",
           "family": "Arial",
           "size": 14
          },
          "showarrow": false,
          "text": "Fruit shape",
          "x": 0.14,
          "xanchor": "right",
          "xref": "paper",
          "y": "Fruit shape",
          "yref": "y"
         },
         {
          "font": {
           "color": "rgb(248, 248, 255)",
           "family": "Arial",
           "size": 14
          },
          "showarrow": false,
          "text": "41.96%",
          "x": 20.98,
          "xref": "x",
          "y": "Fruit shape",
          "yref": "y"
         },
         {
          "font": {
           "color": "rgb(248, 248, 255)",
           "family": "Arial",
           "size": 14
          },
          "showarrow": false,
          "text": "",
          "x": 44.315,
          "xref": "x",
          "y": "Fruit shape",
          "yref": "y"
         },
         {
          "font": {
           "color": "rgb(248, 248, 255)",
           "family": "Arial",
           "size": 14
          },
          "showarrow": false,
          "text": "53.33%",
          "x": 73.33500000000001,
          "xref": "x",
          "y": "Fruit shape",
          "yref": "y"
         },
         {
          "align": "right",
          "font": {
           "color": "rgb(67, 67, 67)",
           "family": "Arial",
           "size": 14
          },
          "showarrow": false,
          "text": "Fruit colour",
          "x": 0.14,
          "xanchor": "right",
          "xref": "paper",
          "y": "Fruit colour",
          "yref": "y"
         },
         {
          "font": {
           "color": "rgb(248, 248, 255)",
           "family": "Arial",
           "size": 14
          },
          "showarrow": false,
          "text": "36.33%",
          "x": 18.165,
          "xref": "x",
          "y": "Fruit colour",
          "yref": "y"
         },
         {
          "font": {
           "color": "rgb(248, 248, 255)",
           "family": "Arial",
           "size": 14
          },
          "showarrow": false,
          "text": "10.33%",
          "x": 41.495,
          "xref": "x",
          "y": "Fruit colour",
          "yref": "y"
         },
         {
          "font": {
           "color": "rgb(248, 248, 255)",
           "family": "Arial",
           "size": 14
          },
          "showarrow": false,
          "text": "53.33%",
          "x": 73.32499999999999,
          "xref": "x",
          "y": "Fruit colour",
          "yref": "y"
         },
         {
          "align": "right",
          "font": {
           "color": "rgb(67, 67, 67)",
           "family": "Arial",
           "size": 14
          },
          "showarrow": false,
          "text": "Aril colour",
          "x": 0.14,
          "xanchor": "right",
          "xref": "paper",
          "y": "Aril colour",
          "yref": "y"
         },
         {
          "font": {
           "color": "rgb(248, 248, 255)",
           "family": "Arial",
           "size": 14
          },
          "showarrow": false,
          "text": "",
          "x": 0,
          "xref": "x",
          "y": "Aril colour",
          "yref": "y"
         },
         {
          "font": {
           "color": "rgb(248, 248, 255)",
           "family": "Arial",
           "size": 14
          },
          "showarrow": false,
          "text": "",
          "x": 0,
          "xref": "x",
          "y": "Aril colour",
          "yref": "y"
         },
         {
          "font": {
           "color": "rgb(248, 248, 255)",
           "family": "Arial",
           "size": 14
          },
          "showarrow": false,
          "text": "100.0%",
          "x": 50,
          "xref": "x",
          "y": "Aril colour",
          "yref": "y"
         },
         {
          "align": "right",
          "font": {
           "color": "rgb(67, 67, 67)",
           "family": "Arial",
           "size": 14
          },
          "showarrow": false,
          "text": "Seed colour",
          "x": 0.14,
          "xanchor": "right",
          "xref": "paper",
          "y": "Seed colour",
          "yref": "y"
         },
         {
          "font": {
           "color": "rgb(248, 248, 255)",
           "family": "Arial",
           "size": 14
          },
          "showarrow": false,
          "text": "30.0%",
          "x": 15,
          "xref": "x",
          "y": "Seed colour",
          "yref": "y"
         },
         {
          "font": {
           "color": "rgb(67, 67, 67)",
           "family": "Arial",
           "size": 14
          },
          "showarrow": false,
          "text": "Correct",
          "x": 15,
          "xref": "x",
          "y": 1.1,
          "yref": "paper"
         },
         {
          "font": {
           "color": "rgb(248, 248, 255)",
           "family": "Arial",
           "size": 14
          },
          "showarrow": false,
          "text": "23.33%",
          "x": 41.665,
          "xref": "x",
          "y": "Seed colour",
          "yref": "y"
         },
         {
          "font": {
           "color": "rgb(67, 67, 67)",
           "family": "Arial",
           "size": 14
          },
          "showarrow": false,
          "text": "Incorrect",
          "x": 41.665,
          "xref": "x",
          "y": 1.1,
          "yref": "paper"
         },
         {
          "font": {
           "color": "rgb(248, 248, 255)",
           "family": "Arial",
           "size": 14
          },
          "showarrow": false,
          "text": "46.67%",
          "x": 76.66499999999999,
          "xref": "x",
          "y": "Seed colour",
          "yref": "y"
         },
         {
          "font": {
           "color": "rgb(67, 67, 67)",
           "family": "Arial",
           "size": 14
          },
          "showarrow": false,
          "text": "No Information",
          "x": 76.66499999999999,
          "xref": "x",
          "y": 1.1,
          "yref": "paper"
         }
        ],
        "barmode": "stack",
        "height": 800,
        "margin": {
         "b": 80,
         "l": 120,
         "r": 10,
         "t": 140
        },
        "paper_bgcolor": "rgb(248, 248, 255)",
        "plot_bgcolor": "rgb(248, 248, 255)",
        "showlegend": false,
        "template": {
         "data": {
          "bar": [
           {
            "error_x": {
             "color": "#2a3f5f"
            },
            "error_y": {
             "color": "#2a3f5f"
            },
            "marker": {
             "line": {
              "color": "#E5ECF6",
              "width": 0.5
             },
             "pattern": {
              "fillmode": "overlay",
              "size": 10,
              "solidity": 0.2
             }
            },
            "type": "bar"
           }
          ],
          "barpolar": [
           {
            "marker": {
             "line": {
              "color": "#E5ECF6",
              "width": 0.5
             },
             "pattern": {
              "fillmode": "overlay",
              "size": 10,
              "solidity": 0.2
             }
            },
            "type": "barpolar"
           }
          ],
          "carpet": [
           {
            "aaxis": {
             "endlinecolor": "#2a3f5f",
             "gridcolor": "white",
             "linecolor": "white",
             "minorgridcolor": "white",
             "startlinecolor": "#2a3f5f"
            },
            "baxis": {
             "endlinecolor": "#2a3f5f",
             "gridcolor": "white",
             "linecolor": "white",
             "minorgridcolor": "white",
             "startlinecolor": "#2a3f5f"
            },
            "type": "carpet"
           }
          ],
          "choropleth": [
           {
            "colorbar": {
             "outlinewidth": 0,
             "ticks": ""
            },
            "type": "choropleth"
           }
          ],
          "contour": [
           {
            "colorbar": {
             "outlinewidth": 0,
             "ticks": ""
            },
            "colorscale": [
             [
              0,
              "#0d0887"
             ],
             [
              0.1111111111111111,
              "#46039f"
             ],
             [
              0.2222222222222222,
              "#7201a8"
             ],
             [
              0.3333333333333333,
              "#9c179e"
             ],
             [
              0.4444444444444444,
              "#bd3786"
             ],
             [
              0.5555555555555556,
              "#d8576b"
             ],
             [
              0.6666666666666666,
              "#ed7953"
             ],
             [
              0.7777777777777778,
              "#fb9f3a"
             ],
             [
              0.8888888888888888,
              "#fdca26"
             ],
             [
              1,
              "#f0f921"
             ]
            ],
            "type": "contour"
           }
          ],
          "contourcarpet": [
           {
            "colorbar": {
             "outlinewidth": 0,
             "ticks": ""
            },
            "type": "contourcarpet"
           }
          ],
          "heatmap": [
           {
            "colorbar": {
             "outlinewidth": 0,
             "ticks": ""
            },
            "colorscale": [
             [
              0,
              "#0d0887"
             ],
             [
              0.1111111111111111,
              "#46039f"
             ],
             [
              0.2222222222222222,
              "#7201a8"
             ],
             [
              0.3333333333333333,
              "#9c179e"
             ],
             [
              0.4444444444444444,
              "#bd3786"
             ],
             [
              0.5555555555555556,
              "#d8576b"
             ],
             [
              0.6666666666666666,
              "#ed7953"
             ],
             [
              0.7777777777777778,
              "#fb9f3a"
             ],
             [
              0.8888888888888888,
              "#fdca26"
             ],
             [
              1,
              "#f0f921"
             ]
            ],
            "type": "heatmap"
           }
          ],
          "heatmapgl": [
           {
            "colorbar": {
             "outlinewidth": 0,
             "ticks": ""
            },
            "colorscale": [
             [
              0,
              "#0d0887"
             ],
             [
              0.1111111111111111,
              "#46039f"
             ],
             [
              0.2222222222222222,
              "#7201a8"
             ],
             [
              0.3333333333333333,
              "#9c179e"
             ],
             [
              0.4444444444444444,
              "#bd3786"
             ],
             [
              0.5555555555555556,
              "#d8576b"
             ],
             [
              0.6666666666666666,
              "#ed7953"
             ],
             [
              0.7777777777777778,
              "#fb9f3a"
             ],
             [
              0.8888888888888888,
              "#fdca26"
             ],
             [
              1,
              "#f0f921"
             ]
            ],
            "type": "heatmapgl"
           }
          ],
          "histogram": [
           {
            "marker": {
             "pattern": {
              "fillmode": "overlay",
              "size": 10,
              "solidity": 0.2
             }
            },
            "type": "histogram"
           }
          ],
          "histogram2d": [
           {
            "colorbar": {
             "outlinewidth": 0,
             "ticks": ""
            },
            "colorscale": [
             [
              0,
              "#0d0887"
             ],
             [
              0.1111111111111111,
              "#46039f"
             ],
             [
              0.2222222222222222,
              "#7201a8"
             ],
             [
              0.3333333333333333,
              "#9c179e"
             ],
             [
              0.4444444444444444,
              "#bd3786"
             ],
             [
              0.5555555555555556,
              "#d8576b"
             ],
             [
              0.6666666666666666,
              "#ed7953"
             ],
             [
              0.7777777777777778,
              "#fb9f3a"
             ],
             [
              0.8888888888888888,
              "#fdca26"
             ],
             [
              1,
              "#f0f921"
             ]
            ],
            "type": "histogram2d"
           }
          ],
          "histogram2dcontour": [
           {
            "colorbar": {
             "outlinewidth": 0,
             "ticks": ""
            },
            "colorscale": [
             [
              0,
              "#0d0887"
             ],
             [
              0.1111111111111111,
              "#46039f"
             ],
             [
              0.2222222222222222,
              "#7201a8"
             ],
             [
              0.3333333333333333,
              "#9c179e"
             ],
             [
              0.4444444444444444,
              "#bd3786"
             ],
             [
              0.5555555555555556,
              "#d8576b"
             ],
             [
              0.6666666666666666,
              "#ed7953"
             ],
             [
              0.7777777777777778,
              "#fb9f3a"
             ],
             [
              0.8888888888888888,
              "#fdca26"
             ],
             [
              1,
              "#f0f921"
             ]
            ],
            "type": "histogram2dcontour"
           }
          ],
          "mesh3d": [
           {
            "colorbar": {
             "outlinewidth": 0,
             "ticks": ""
            },
            "type": "mesh3d"
           }
          ],
          "parcoords": [
           {
            "line": {
             "colorbar": {
              "outlinewidth": 0,
              "ticks": ""
             }
            },
            "type": "parcoords"
           }
          ],
          "pie": [
           {
            "automargin": true,
            "type": "pie"
           }
          ],
          "scatter": [
           {
            "fillpattern": {
             "fillmode": "overlay",
             "size": 10,
             "solidity": 0.2
            },
            "type": "scatter"
           }
          ],
          "scatter3d": [
           {
            "line": {
             "colorbar": {
              "outlinewidth": 0,
              "ticks": ""
             }
            },
            "marker": {
             "colorbar": {
              "outlinewidth": 0,
              "ticks": ""
             }
            },
            "type": "scatter3d"
           }
          ],
          "scattercarpet": [
           {
            "marker": {
             "colorbar": {
              "outlinewidth": 0,
              "ticks": ""
             }
            },
            "type": "scattercarpet"
           }
          ],
          "scattergeo": [
           {
            "marker": {
             "colorbar": {
              "outlinewidth": 0,
              "ticks": ""
             }
            },
            "type": "scattergeo"
           }
          ],
          "scattergl": [
           {
            "marker": {
             "colorbar": {
              "outlinewidth": 0,
              "ticks": ""
             }
            },
            "type": "scattergl"
           }
          ],
          "scattermapbox": [
           {
            "marker": {
             "colorbar": {
              "outlinewidth": 0,
              "ticks": ""
             }
            },
            "type": "scattermapbox"
           }
          ],
          "scatterpolar": [
           {
            "marker": {
             "colorbar": {
              "outlinewidth": 0,
              "ticks": ""
             }
            },
            "type": "scatterpolar"
           }
          ],
          "scatterpolargl": [
           {
            "marker": {
             "colorbar": {
              "outlinewidth": 0,
              "ticks": ""
             }
            },
            "type": "scatterpolargl"
           }
          ],
          "scatterternary": [
           {
            "marker": {
             "colorbar": {
              "outlinewidth": 0,
              "ticks": ""
             }
            },
            "type": "scatterternary"
           }
          ],
          "surface": [
           {
            "colorbar": {
             "outlinewidth": 0,
             "ticks": ""
            },
            "colorscale": [
             [
              0,
              "#0d0887"
             ],
             [
              0.1111111111111111,
              "#46039f"
             ],
             [
              0.2222222222222222,
              "#7201a8"
             ],
             [
              0.3333333333333333,
              "#9c179e"
             ],
             [
              0.4444444444444444,
              "#bd3786"
             ],
             [
              0.5555555555555556,
              "#d8576b"
             ],
             [
              0.6666666666666666,
              "#ed7953"
             ],
             [
              0.7777777777777778,
              "#fb9f3a"
             ],
             [
              0.8888888888888888,
              "#fdca26"
             ],
             [
              1,
              "#f0f921"
             ]
            ],
            "type": "surface"
           }
          ],
          "table": [
           {
            "cells": {
             "fill": {
              "color": "#EBF0F8"
             },
             "line": {
              "color": "white"
             }
            },
            "header": {
             "fill": {
              "color": "#C8D4E3"
             },
             "line": {
              "color": "white"
             }
            },
            "type": "table"
           }
          ]
         },
         "layout": {
          "annotationdefaults": {
           "arrowcolor": "#2a3f5f",
           "arrowhead": 0,
           "arrowwidth": 1
          },
          "autotypenumbers": "strict",
          "coloraxis": {
           "colorbar": {
            "outlinewidth": 0,
            "ticks": ""
           }
          },
          "colorscale": {
           "diverging": [
            [
             0,
             "#8e0152"
            ],
            [
             0.1,
             "#c51b7d"
            ],
            [
             0.2,
             "#de77ae"
            ],
            [
             0.3,
             "#f1b6da"
            ],
            [
             0.4,
             "#fde0ef"
            ],
            [
             0.5,
             "#f7f7f7"
            ],
            [
             0.6,
             "#e6f5d0"
            ],
            [
             0.7,
             "#b8e186"
            ],
            [
             0.8,
             "#7fbc41"
            ],
            [
             0.9,
             "#4d9221"
            ],
            [
             1,
             "#276419"
            ]
           ],
           "sequential": [
            [
             0,
             "#0d0887"
            ],
            [
             0.1111111111111111,
             "#46039f"
            ],
            [
             0.2222222222222222,
             "#7201a8"
            ],
            [
             0.3333333333333333,
             "#9c179e"
            ],
            [
             0.4444444444444444,
             "#bd3786"
            ],
            [
             0.5555555555555556,
             "#d8576b"
            ],
            [
             0.6666666666666666,
             "#ed7953"
            ],
            [
             0.7777777777777778,
             "#fb9f3a"
            ],
            [
             0.8888888888888888,
             "#fdca26"
            ],
            [
             1,
             "#f0f921"
            ]
           ],
           "sequentialminus": [
            [
             0,
             "#0d0887"
            ],
            [
             0.1111111111111111,
             "#46039f"
            ],
            [
             0.2222222222222222,
             "#7201a8"
            ],
            [
             0.3333333333333333,
             "#9c179e"
            ],
            [
             0.4444444444444444,
             "#bd3786"
            ],
            [
             0.5555555555555556,
             "#d8576b"
            ],
            [
             0.6666666666666666,
             "#ed7953"
            ],
            [
             0.7777777777777778,
             "#fb9f3a"
            ],
            [
             0.8888888888888888,
             "#fdca26"
            ],
            [
             1,
             "#f0f921"
            ]
           ]
          },
          "colorway": [
           "#636efa",
           "#EF553B",
           "#00cc96",
           "#ab63fa",
           "#FFA15A",
           "#19d3f3",
           "#FF6692",
           "#B6E880",
           "#FF97FF",
           "#FECB52"
          ],
          "font": {
           "color": "#2a3f5f"
          },
          "geo": {
           "bgcolor": "white",
           "lakecolor": "white",
           "landcolor": "#E5ECF6",
           "showlakes": true,
           "showland": true,
           "subunitcolor": "white"
          },
          "hoverlabel": {
           "align": "left"
          },
          "hovermode": "closest",
          "mapbox": {
           "style": "light"
          },
          "paper_bgcolor": "white",
          "plot_bgcolor": "#E5ECF6",
          "polar": {
           "angularaxis": {
            "gridcolor": "white",
            "linecolor": "white",
            "ticks": ""
           },
           "bgcolor": "#E5ECF6",
           "radialaxis": {
            "gridcolor": "white",
            "linecolor": "white",
            "ticks": ""
           }
          },
          "scene": {
           "xaxis": {
            "backgroundcolor": "#E5ECF6",
            "gridcolor": "white",
            "gridwidth": 2,
            "linecolor": "white",
            "showbackground": true,
            "ticks": "",
            "zerolinecolor": "white"
           },
           "yaxis": {
            "backgroundcolor": "#E5ECF6",
            "gridcolor": "white",
            "gridwidth": 2,
            "linecolor": "white",
            "showbackground": true,
            "ticks": "",
            "zerolinecolor": "white"
           },
           "zaxis": {
            "backgroundcolor": "#E5ECF6",
            "gridcolor": "white",
            "gridwidth": 2,
            "linecolor": "white",
            "showbackground": true,
            "ticks": "",
            "zerolinecolor": "white"
           }
          },
          "shapedefaults": {
           "line": {
            "color": "#2a3f5f"
           }
          },
          "ternary": {
           "aaxis": {
            "gridcolor": "white",
            "linecolor": "white",
            "ticks": ""
           },
           "baxis": {
            "gridcolor": "white",
            "linecolor": "white",
            "ticks": ""
           },
           "bgcolor": "#E5ECF6",
           "caxis": {
            "gridcolor": "white",
            "linecolor": "white",
            "ticks": ""
           }
          },
          "title": {
           "x": 0.05
          },
          "xaxis": {
           "automargin": true,
           "gridcolor": "white",
           "linecolor": "white",
           "ticks": "",
           "title": {
            "standoff": 15
           },
           "zerolinecolor": "white",
           "zerolinewidth": 2
          },
          "yaxis": {
           "automargin": true,
           "gridcolor": "white",
           "linecolor": "white",
           "ticks": "",
           "title": {
            "standoff": 15
           },
           "zerolinecolor": "white",
           "zerolinewidth": 2
          }
         }
        },
        "width": 1300,
        "xaxis": {
         "domain": [
          0.15,
          1
         ],
         "showgrid": false,
         "showline": false,
         "showticklabels": false,
         "zeroline": false
        },
        "yaxis": {
         "automargin": true,
         "showgrid": false,
         "showline": false,
         "showticklabels": false,
         "zeroline": false
        }
       }
      }
     },
     "metadata": {},
     "output_type": "display_data"
    }
   ],
   "source": [
    "top_labels = [\n",
    "     'Correct', \n",
    "     'Incorrect', \n",
    "     'No Information']\n",
    "\n",
    "colors = [\n",
    "     'green', \n",
    "     'red', \n",
    "     'blue']\n",
    "\n",
    "\n",
    "\n",
    "fig = go.Figure()\n",
    "\n",
    "for i in range(0, len(x_data[0])):\n",
    "    for xd, yd in zip(x_data, y_data):\n",
    "        fig.add_trace(go.Bar(\n",
    "            x=[xd[i]], y=[yd],\n",
    "            orientation='h',\n",
    "            marker=dict(\n",
    "                color=colors[i],\n",
    "                line=dict(color='rgb(248, 248, 249)', width=1)\n",
    "            )\n",
    "        ))\n",
    "\n",
    "fig.update_layout(\n",
    "    xaxis=dict(\n",
    "        showgrid=False,\n",
    "        showline=False,\n",
    "        showticklabels=False,\n",
    "        zeroline=False,\n",
    "        domain=[0.15, 1]\n",
    "    ),\n",
    "    yaxis=dict(\n",
    "        showgrid=False,\n",
    "        showline=False,\n",
    "        showticklabels=False,\n",
    "        zeroline=False,\n",
    "    ),\n",
    "    barmode='stack',\n",
    "    paper_bgcolor='rgb(248, 248, 255)',\n",
    "    plot_bgcolor='rgb(248, 248, 255)',\n",
    "    margin=dict(l=120, r=10, t=140, b=80),\n",
    "    showlegend=False,\n",
    ")\n",
    "\n",
    "annotations = []\n",
    "\n",
    "for yd, xd in zip(y_data, x_data):\n",
    "    \n",
    "    # labeling the y-axis\n",
    "    annotations.append(dict(xref='paper', yref='y',\n",
    "                            x=0.14, y=yd,\n",
    "                            xanchor='right',\n",
    "                            text=str(yd),\n",
    "                            font=dict(family='Arial', size=14,\n",
    "                                      color='rgb(67, 67, 67)'),\n",
    "                            showarrow=False, align='right'))\n",
    "    \n",
    "    # labeling the first percentage of each bar (x_axis)\n",
    "    annotations.append(dict(xref='x', yref='y',\n",
    "                            x=xd[0] / 2, y=yd,\n",
    "                            text=str(xd[0]) + '%',\n",
    "                            font=dict(family='Arial', size=14,\n",
    "                                      color='rgb(248, 248, 255)'),\n",
    "                            showarrow=False))\n",
    "   \n",
    "    # labeling the first Likert scale (on the top)\n",
    "    if yd == y_data[-1]:\n",
    "        annotations.append(dict(xref='x', yref='paper',\n",
    "                                x=xd[0] / 2, y=1.1,\n",
    "                                text=top_labels[0],\n",
    "                                font=dict(family='Arial', size=14,\n",
    "                                          color='rgb(67, 67, 67)'),\n",
    "                                showarrow=False))\n",
    "    space = xd[0]\n",
    "    for i in range(1, len(xd)):\n",
    "            # labeling the rest of percentages for each bar (x_axis)\n",
    "            annotations.append(dict(xref='x', yref='y',\n",
    "                                    x=space + (xd[i]/2), y=yd,\n",
    "                                    text=str(xd[i]) + '%',\n",
    "                                    font=dict(family='Arial', size=14,\n",
    "                                              color='rgb(248, 248, 255)'),\n",
    "                                    showarrow=False))\n",
    "            \n",
    "            # labeling the Likert scale\n",
    "            if yd == y_data[-1]:\n",
    "                annotations.append(dict(xref='x', yref='paper',\n",
    "                                        x=space + (xd[i]/2), y=1.1,\n",
    "                                        text=top_labels[i],\n",
    "                                        font=dict(family='Arial', size=14,\n",
    "                                                  color='rgb(67, 67, 67)'),\n",
    "                                        showarrow=False))\n",
    "            space += xd[i]\n",
    "\n",
    "# Remove low values\n",
    "for idx, annotation in enumerate(annotations):\n",
    "    value = annotation['text'][0:-1]\n",
    "    try:\n",
    "        value = float(value)\n",
    "        if value < 5:\n",
    "            annotations[idx]['text'] = \"\"\n",
    "    except:\n",
    "        continue\n",
    "\n",
    "fig.update_layout(annotations=annotations, width=1300, height=800)\n",
    "fig.update_yaxes(automargin=True)\n",
    "\n",
    "fig.show()\n",
    "\n",
    "# folder_figures = \"../../../reports/figures/\"\n",
    "# file_name = \"PxPlot_HTML_BarchartPredictions.html\"\n",
    "# fig.write_html(F\"{folder_figures}{file_name}\")\n",
    "# file_name = \"PxPlot_PDF_BarchartPredictions.pdf\"\n",
    "# fig.write_image(F\"{folder_figures}{file_name}\")"
   ]
  }
 ],
 "metadata": {
  "kernelspec": {
   "display_name": "deeplearning",
   "language": "python",
   "name": "deeplearning"
  },
  "language_info": {
   "codemirror_mode": {
    "name": "ipython",
    "version": 3
   },
   "file_extension": ".py",
   "mimetype": "text/x-python",
   "name": "python",
   "nbconvert_exporter": "python",
   "pygments_lexer": "ipython3",
   "version": "3.10.4"
  },
  "orig_nbformat": 4
 },
 "nbformat": 4,
 "nbformat_minor": 2
}
