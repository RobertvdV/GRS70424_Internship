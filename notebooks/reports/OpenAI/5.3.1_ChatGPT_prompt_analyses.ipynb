{
 "cells": [
  {
   "cell_type": "code",
   "execution_count": 1,
   "metadata": {},
   "outputs": [],
   "source": [
    "import numpy as np\n",
    "import pandas as pd\n",
    "import glob\n",
    "import re\n",
    "from tqdm import tqdm\n",
    "import os.path\n",
    "import collections\n",
    "from collections import defaultdict\n",
    "from sklearn.metrics import roc_curve, auc, precision_recall_curve\n",
    "import matplotlib.pyplot as plt\n",
    "import seaborn as sns\n",
    "import plotly.graph_objs as go\n",
    "import plotly.express as px\n"
   ]
  },
  {
   "cell_type": "code",
   "execution_count": 5,
   "metadata": {},
   "outputs": [],
   "source": [
    "\n",
    "folder_prompt_ = \"../../../data/OpenAI/PromptsAnalysesData/\"\n",
    "\n",
    "file = \"caribbean_df_orig_GT.csv\"\n",
    "df_caribbean_GT = pd.read_csv(F\"{folder_prompt_}{file}\", header=[0, 1], index_col=0)\\\n",
    "    .rename_axis('Species', axis='index')\n",
    "\n",
    "file = \"caribbean_df_orig_ChatGPT.csv\"\n",
    "df_caribbean_ChatGPT = pd.read_csv(F\"{folder_prompt_}{file}\", header=[0, 1], index_col=0)\\\n",
    "    .rename_axis('Species', axis='index')"
   ]
  },
  {
   "cell_type": "code",
   "execution_count": 3,
   "metadata": {},
   "outputs": [],
   "source": [
    "# df_caribbean_GT = df_caribbean_GT.droplevel(0, axis=1) \n",
    "# df_caribbean_ChatGPT = df_caribbean_ChatGPT.droplevel(0, axis=1) \n",
    "\n",
    "# df_caribbean_GT.columns = df_caribbean_GT.columns.get_level_values(0)\n",
    "# df_caribbean_ChatGPT.columns = df_caribbean_ChatGPT.columns.get_level_values(0)\n",
    "\n",
    "# df_caribbean_GT.columns = [' '.join(col) for col in df_caribbean_GT.columns.values]\n",
    "# df_caribbean_ChatGPT.columns = [' '.join(col) for col in df_caribbean_ChatGPT.columns.values]"
   ]
  },
  {
   "cell_type": "code",
   "execution_count": 7,
   "metadata": {},
   "outputs": [],
   "source": [
    "# df_caribbean_ChatGPT.compare(df_caribbean_GT)\n",
    "# df_caribbean_ChatGPT.compare(df_caribbean_GT,\n",
    "#                         # keep_shape=True,\n",
    "#                         keep_equal=False,\n",
    "#                         )\n",
    "\n",
    "df = df_caribbean_GT.subtract(df_caribbean_ChatGPT)\n",
    "df = df.fillna(\"Fail\")\n",
    "df = df.applymap(lambda x: 'Correct' if isinstance(x, (int, float)) and x == 0 else x)\n",
    "df = df.applymap(lambda x: 'Incorrect' if isinstance(x, (int, float)) and x == -1 else x)\n",
    "df = df.applymap(lambda x: 'Incorrect' if isinstance(x, (int, float)) and x == 1 else x)"
   ]
  },
  {
   "cell_type": "code",
   "execution_count": 8,
   "metadata": {},
   "outputs": [
    {
     "data": {
      "text/html": [
       "<div>\n",
       "<style scoped>\n",
       "    .dataframe tbody tr th:only-of-type {\n",
       "        vertical-align: middle;\n",
       "    }\n",
       "\n",
       "    .dataframe tbody tr th {\n",
       "        vertical-align: top;\n",
       "    }\n",
       "\n",
       "    .dataframe thead tr th {\n",
       "        text-align: left;\n",
       "    }\n",
       "\n",
       "    .dataframe thead tr:last-of-type th {\n",
       "        text-align: right;\n",
       "    }\n",
       "</style>\n",
       "<table border=\"1\" class=\"dataframe\">\n",
       "  <thead>\n",
       "    <tr>\n",
       "      <th></th>\n",
       "      <th colspan=\"2\" halign=\"left\">Life form</th>\n",
       "      <th colspan=\"5\" halign=\"left\">Leaf position</th>\n",
       "      <th colspan=\"3\" halign=\"left\">Leaf composition</th>\n",
       "      <th>...</th>\n",
       "      <th colspan=\"4\" halign=\"left\">Aril colour</th>\n",
       "      <th colspan=\"6\" halign=\"left\">Seed colour</th>\n",
       "    </tr>\n",
       "    <tr>\n",
       "      <th></th>\n",
       "      <th>liana</th>\n",
       "      <th>tree</th>\n",
       "      <th>alternate</th>\n",
       "      <th>alternate, opposite</th>\n",
       "      <th>opposite</th>\n",
       "      <th>opposite, whorls of 3</th>\n",
       "      <th>opposite, whorls of 3, alternate</th>\n",
       "      <th>3 palmate</th>\n",
       "      <th>3-5 palmate</th>\n",
       "      <th>3-5 pinnate</th>\n",
       "      <th>...</th>\n",
       "      <th>orange</th>\n",
       "      <th>red</th>\n",
       "      <th>white</th>\n",
       "      <th>yellow-geen</th>\n",
       "      <th>black</th>\n",
       "      <th>brown</th>\n",
       "      <th>green</th>\n",
       "      <th>grey</th>\n",
       "      <th>white</th>\n",
       "      <th>whitish</th>\n",
       "    </tr>\n",
       "    <tr>\n",
       "      <th>Species</th>\n",
       "      <th></th>\n",
       "      <th></th>\n",
       "      <th></th>\n",
       "      <th></th>\n",
       "      <th></th>\n",
       "      <th></th>\n",
       "      <th></th>\n",
       "      <th></th>\n",
       "      <th></th>\n",
       "      <th></th>\n",
       "      <th></th>\n",
       "      <th></th>\n",
       "      <th></th>\n",
       "      <th></th>\n",
       "      <th></th>\n",
       "      <th></th>\n",
       "      <th></th>\n",
       "      <th></th>\n",
       "      <th></th>\n",
       "      <th></th>\n",
       "      <th></th>\n",
       "    </tr>\n",
       "  </thead>\n",
       "  <tbody>\n",
       "    <tr>\n",
       "      <th>Vitex compressa</th>\n",
       "      <td>Correct</td>\n",
       "      <td>Correct</td>\n",
       "      <td>Fail</td>\n",
       "      <td>Fail</td>\n",
       "      <td>Fail</td>\n",
       "      <td>Fail</td>\n",
       "      <td>Fail</td>\n",
       "      <td>Correct</td>\n",
       "      <td>Incorrect</td>\n",
       "      <td>Correct</td>\n",
       "      <td>...</td>\n",
       "      <td>Fail</td>\n",
       "      <td>Fail</td>\n",
       "      <td>Fail</td>\n",
       "      <td>Fail</td>\n",
       "      <td>Fail</td>\n",
       "      <td>Fail</td>\n",
       "      <td>Fail</td>\n",
       "      <td>Fail</td>\n",
       "      <td>Fail</td>\n",
       "      <td>Fail</td>\n",
       "    </tr>\n",
       "    <tr>\n",
       "      <th>Casearia tremula</th>\n",
       "      <td>Correct</td>\n",
       "      <td>Correct</td>\n",
       "      <td>Fail</td>\n",
       "      <td>Fail</td>\n",
       "      <td>Fail</td>\n",
       "      <td>Fail</td>\n",
       "      <td>Fail</td>\n",
       "      <td>Fail</td>\n",
       "      <td>Fail</td>\n",
       "      <td>Fail</td>\n",
       "      <td>...</td>\n",
       "      <td>Fail</td>\n",
       "      <td>Fail</td>\n",
       "      <td>Fail</td>\n",
       "      <td>Fail</td>\n",
       "      <td>Correct</td>\n",
       "      <td>Correct</td>\n",
       "      <td>Correct</td>\n",
       "      <td>Correct</td>\n",
       "      <td>Correct</td>\n",
       "      <td>Correct</td>\n",
       "    </tr>\n",
       "    <tr>\n",
       "      <th>Vachellia tortuosa</th>\n",
       "      <td>Correct</td>\n",
       "      <td>Correct</td>\n",
       "      <td>Fail</td>\n",
       "      <td>Fail</td>\n",
       "      <td>Fail</td>\n",
       "      <td>Fail</td>\n",
       "      <td>Fail</td>\n",
       "      <td>Correct</td>\n",
       "      <td>Correct</td>\n",
       "      <td>Correct</td>\n",
       "      <td>...</td>\n",
       "      <td>Fail</td>\n",
       "      <td>Fail</td>\n",
       "      <td>Fail</td>\n",
       "      <td>Fail</td>\n",
       "      <td>Fail</td>\n",
       "      <td>Fail</td>\n",
       "      <td>Fail</td>\n",
       "      <td>Fail</td>\n",
       "      <td>Fail</td>\n",
       "      <td>Fail</td>\n",
       "    </tr>\n",
       "    <tr>\n",
       "      <th>Guaiacum sanctum</th>\n",
       "      <td>Correct</td>\n",
       "      <td>Correct</td>\n",
       "      <td>Correct</td>\n",
       "      <td>Correct</td>\n",
       "      <td>Correct</td>\n",
       "      <td>Correct</td>\n",
       "      <td>Correct</td>\n",
       "      <td>Correct</td>\n",
       "      <td>Correct</td>\n",
       "      <td>Correct</td>\n",
       "      <td>...</td>\n",
       "      <td>Fail</td>\n",
       "      <td>Fail</td>\n",
       "      <td>Fail</td>\n",
       "      <td>Fail</td>\n",
       "      <td>Incorrect</td>\n",
       "      <td>Correct</td>\n",
       "      <td>Correct</td>\n",
       "      <td>Correct</td>\n",
       "      <td>Correct</td>\n",
       "      <td>Correct</td>\n",
       "    </tr>\n",
       "    <tr>\n",
       "      <th>Prosopis juliflora</th>\n",
       "      <td>Correct</td>\n",
       "      <td>Correct</td>\n",
       "      <td>Correct</td>\n",
       "      <td>Correct</td>\n",
       "      <td>Correct</td>\n",
       "      <td>Correct</td>\n",
       "      <td>Correct</td>\n",
       "      <td>Correct</td>\n",
       "      <td>Correct</td>\n",
       "      <td>Correct</td>\n",
       "      <td>...</td>\n",
       "      <td>Fail</td>\n",
       "      <td>Fail</td>\n",
       "      <td>Fail</td>\n",
       "      <td>Fail</td>\n",
       "      <td>Incorrect</td>\n",
       "      <td>Correct</td>\n",
       "      <td>Correct</td>\n",
       "      <td>Correct</td>\n",
       "      <td>Incorrect</td>\n",
       "      <td>Incorrect</td>\n",
       "    </tr>\n",
       "    <tr>\n",
       "      <th>Coccoloba uvifera</th>\n",
       "      <td>Correct</td>\n",
       "      <td>Correct</td>\n",
       "      <td>Incorrect</td>\n",
       "      <td>Correct</td>\n",
       "      <td>Correct</td>\n",
       "      <td>Correct</td>\n",
       "      <td>Correct</td>\n",
       "      <td>Correct</td>\n",
       "      <td>Correct</td>\n",
       "      <td>Correct</td>\n",
       "      <td>...</td>\n",
       "      <td>Fail</td>\n",
       "      <td>Fail</td>\n",
       "      <td>Fail</td>\n",
       "      <td>Fail</td>\n",
       "      <td>Fail</td>\n",
       "      <td>Fail</td>\n",
       "      <td>Fail</td>\n",
       "      <td>Fail</td>\n",
       "      <td>Fail</td>\n",
       "      <td>Fail</td>\n",
       "    </tr>\n",
       "    <tr>\n",
       "      <th>Laguncularia racemosa</th>\n",
       "      <td>Correct</td>\n",
       "      <td>Correct</td>\n",
       "      <td>Correct</td>\n",
       "      <td>Correct</td>\n",
       "      <td>Correct</td>\n",
       "      <td>Correct</td>\n",
       "      <td>Correct</td>\n",
       "      <td>Fail</td>\n",
       "      <td>Fail</td>\n",
       "      <td>Fail</td>\n",
       "      <td>...</td>\n",
       "      <td>Fail</td>\n",
       "      <td>Fail</td>\n",
       "      <td>Fail</td>\n",
       "      <td>Fail</td>\n",
       "      <td>Correct</td>\n",
       "      <td>Incorrect</td>\n",
       "      <td>Incorrect</td>\n",
       "      <td>Correct</td>\n",
       "      <td>Correct</td>\n",
       "      <td>Incorrect</td>\n",
       "    </tr>\n",
       "    <tr>\n",
       "      <th>Amyris ignea</th>\n",
       "      <td>Fail</td>\n",
       "      <td>Fail</td>\n",
       "      <td>Incorrect</td>\n",
       "      <td>Correct</td>\n",
       "      <td>Incorrect</td>\n",
       "      <td>Correct</td>\n",
       "      <td>Correct</td>\n",
       "      <td>Fail</td>\n",
       "      <td>Fail</td>\n",
       "      <td>Fail</td>\n",
       "      <td>...</td>\n",
       "      <td>Fail</td>\n",
       "      <td>Fail</td>\n",
       "      <td>Fail</td>\n",
       "      <td>Fail</td>\n",
       "      <td>Incorrect</td>\n",
       "      <td>Incorrect</td>\n",
       "      <td>Correct</td>\n",
       "      <td>Correct</td>\n",
       "      <td>Correct</td>\n",
       "      <td>Correct</td>\n",
       "    </tr>\n",
       "    <tr>\n",
       "      <th>Jacquinia arborea</th>\n",
       "      <td>Correct</td>\n",
       "      <td>Correct</td>\n",
       "      <td>Fail</td>\n",
       "      <td>Fail</td>\n",
       "      <td>Fail</td>\n",
       "      <td>Fail</td>\n",
       "      <td>Fail</td>\n",
       "      <td>Correct</td>\n",
       "      <td>Correct</td>\n",
       "      <td>Correct</td>\n",
       "      <td>...</td>\n",
       "      <td>Fail</td>\n",
       "      <td>Fail</td>\n",
       "      <td>Fail</td>\n",
       "      <td>Fail</td>\n",
       "      <td>Incorrect</td>\n",
       "      <td>Correct</td>\n",
       "      <td>Correct</td>\n",
       "      <td>Correct</td>\n",
       "      <td>Incorrect</td>\n",
       "      <td>Correct</td>\n",
       "    </tr>\n",
       "    <tr>\n",
       "      <th>Conocarpus erectus</th>\n",
       "      <td>Correct</td>\n",
       "      <td>Correct</td>\n",
       "      <td>Correct</td>\n",
       "      <td>Correct</td>\n",
       "      <td>Correct</td>\n",
       "      <td>Correct</td>\n",
       "      <td>Correct</td>\n",
       "      <td>Correct</td>\n",
       "      <td>Correct</td>\n",
       "      <td>Correct</td>\n",
       "      <td>...</td>\n",
       "      <td>Fail</td>\n",
       "      <td>Fail</td>\n",
       "      <td>Fail</td>\n",
       "      <td>Fail</td>\n",
       "      <td>Correct</td>\n",
       "      <td>Incorrect</td>\n",
       "      <td>Correct</td>\n",
       "      <td>Incorrect</td>\n",
       "      <td>Correct</td>\n",
       "      <td>Correct</td>\n",
       "    </tr>\n",
       "    <tr>\n",
       "      <th>Krugiodendron ferreum</th>\n",
       "      <td>Correct</td>\n",
       "      <td>Correct</td>\n",
       "      <td>Correct</td>\n",
       "      <td>Incorrect</td>\n",
       "      <td>Incorrect</td>\n",
       "      <td>Correct</td>\n",
       "      <td>Correct</td>\n",
       "      <td>Correct</td>\n",
       "      <td>Correct</td>\n",
       "      <td>Correct</td>\n",
       "      <td>...</td>\n",
       "      <td>Fail</td>\n",
       "      <td>Fail</td>\n",
       "      <td>Fail</td>\n",
       "      <td>Fail</td>\n",
       "      <td>Fail</td>\n",
       "      <td>Fail</td>\n",
       "      <td>Fail</td>\n",
       "      <td>Fail</td>\n",
       "      <td>Fail</td>\n",
       "      <td>Fail</td>\n",
       "    </tr>\n",
       "    <tr>\n",
       "      <th>Pithecellobium unguis-cati</th>\n",
       "      <td>Correct</td>\n",
       "      <td>Correct</td>\n",
       "      <td>Incorrect</td>\n",
       "      <td>Correct</td>\n",
       "      <td>Correct</td>\n",
       "      <td>Correct</td>\n",
       "      <td>Correct</td>\n",
       "      <td>Correct</td>\n",
       "      <td>Correct</td>\n",
       "      <td>Correct</td>\n",
       "      <td>...</td>\n",
       "      <td>Fail</td>\n",
       "      <td>Fail</td>\n",
       "      <td>Fail</td>\n",
       "      <td>Fail</td>\n",
       "      <td>Correct</td>\n",
       "      <td>Correct</td>\n",
       "      <td>Correct</td>\n",
       "      <td>Correct</td>\n",
       "      <td>Correct</td>\n",
       "      <td>Incorrect</td>\n",
       "    </tr>\n",
       "    <tr>\n",
       "      <th>Bursera karsteniana</th>\n",
       "      <td>Correct</td>\n",
       "      <td>Correct</td>\n",
       "      <td>Fail</td>\n",
       "      <td>Fail</td>\n",
       "      <td>Fail</td>\n",
       "      <td>Fail</td>\n",
       "      <td>Fail</td>\n",
       "      <td>Fail</td>\n",
       "      <td>Fail</td>\n",
       "      <td>Fail</td>\n",
       "      <td>...</td>\n",
       "      <td>Fail</td>\n",
       "      <td>Fail</td>\n",
       "      <td>Fail</td>\n",
       "      <td>Fail</td>\n",
       "      <td>Fail</td>\n",
       "      <td>Fail</td>\n",
       "      <td>Fail</td>\n",
       "      <td>Fail</td>\n",
       "      <td>Fail</td>\n",
       "      <td>Fail</td>\n",
       "    </tr>\n",
       "    <tr>\n",
       "      <th>Guettarda roupalifolia</th>\n",
       "      <td>Correct</td>\n",
       "      <td>Correct</td>\n",
       "      <td>Fail</td>\n",
       "      <td>Fail</td>\n",
       "      <td>Fail</td>\n",
       "      <td>Fail</td>\n",
       "      <td>Fail</td>\n",
       "      <td>Correct</td>\n",
       "      <td>Incorrect</td>\n",
       "      <td>Correct</td>\n",
       "      <td>...</td>\n",
       "      <td>Fail</td>\n",
       "      <td>Fail</td>\n",
       "      <td>Fail</td>\n",
       "      <td>Fail</td>\n",
       "      <td>Incorrect</td>\n",
       "      <td>Correct</td>\n",
       "      <td>Correct</td>\n",
       "      <td>Correct</td>\n",
       "      <td>Correct</td>\n",
       "      <td>Correct</td>\n",
       "    </tr>\n",
       "    <tr>\n",
       "      <th>Metopium brownei</th>\n",
       "      <td>Correct</td>\n",
       "      <td>Incorrect</td>\n",
       "      <td>Fail</td>\n",
       "      <td>Fail</td>\n",
       "      <td>Fail</td>\n",
       "      <td>Fail</td>\n",
       "      <td>Fail</td>\n",
       "      <td>Fail</td>\n",
       "      <td>Fail</td>\n",
       "      <td>Fail</td>\n",
       "      <td>...</td>\n",
       "      <td>Fail</td>\n",
       "      <td>Fail</td>\n",
       "      <td>Fail</td>\n",
       "      <td>Fail</td>\n",
       "      <td>Correct</td>\n",
       "      <td>Incorrect</td>\n",
       "      <td>Correct</td>\n",
       "      <td>Correct</td>\n",
       "      <td>Correct</td>\n",
       "      <td>Correct</td>\n",
       "    </tr>\n",
       "    <tr>\n",
       "      <th>Guaiacum officinale</th>\n",
       "      <td>Correct</td>\n",
       "      <td>Correct</td>\n",
       "      <td>Correct</td>\n",
       "      <td>Correct</td>\n",
       "      <td>Incorrect</td>\n",
       "      <td>Correct</td>\n",
       "      <td>Correct</td>\n",
       "      <td>Correct</td>\n",
       "      <td>Correct</td>\n",
       "      <td>Correct</td>\n",
       "      <td>...</td>\n",
       "      <td>Fail</td>\n",
       "      <td>Fail</td>\n",
       "      <td>Fail</td>\n",
       "      <td>Fail</td>\n",
       "      <td>Correct</td>\n",
       "      <td>Incorrect</td>\n",
       "      <td>Correct</td>\n",
       "      <td>Correct</td>\n",
       "      <td>Correct</td>\n",
       "      <td>Correct</td>\n",
       "    </tr>\n",
       "    <tr>\n",
       "      <th>Eugenia procera</th>\n",
       "      <td>Correct</td>\n",
       "      <td>Correct</td>\n",
       "      <td>Correct</td>\n",
       "      <td>Correct</td>\n",
       "      <td>Correct</td>\n",
       "      <td>Correct</td>\n",
       "      <td>Correct</td>\n",
       "      <td>Correct</td>\n",
       "      <td>Correct</td>\n",
       "      <td>Correct</td>\n",
       "      <td>...</td>\n",
       "      <td>Fail</td>\n",
       "      <td>Fail</td>\n",
       "      <td>Fail</td>\n",
       "      <td>Fail</td>\n",
       "      <td>Fail</td>\n",
       "      <td>Fail</td>\n",
       "      <td>Fail</td>\n",
       "      <td>Fail</td>\n",
       "      <td>Fail</td>\n",
       "      <td>Fail</td>\n",
       "    </tr>\n",
       "    <tr>\n",
       "      <th>Clusia rosea</th>\n",
       "      <td>Correct</td>\n",
       "      <td>Incorrect</td>\n",
       "      <td>Fail</td>\n",
       "      <td>Fail</td>\n",
       "      <td>Fail</td>\n",
       "      <td>Fail</td>\n",
       "      <td>Fail</td>\n",
       "      <td>Correct</td>\n",
       "      <td>Correct</td>\n",
       "      <td>Correct</td>\n",
       "      <td>...</td>\n",
       "      <td>Fail</td>\n",
       "      <td>Fail</td>\n",
       "      <td>Fail</td>\n",
       "      <td>Fail</td>\n",
       "      <td>Incorrect</td>\n",
       "      <td>Correct</td>\n",
       "      <td>Incorrect</td>\n",
       "      <td>Correct</td>\n",
       "      <td>Incorrect</td>\n",
       "      <td>Correct</td>\n",
       "    </tr>\n",
       "    <tr>\n",
       "      <th>Hippomane mancinella</th>\n",
       "      <td>Correct</td>\n",
       "      <td>Correct</td>\n",
       "      <td>Correct</td>\n",
       "      <td>Correct</td>\n",
       "      <td>Incorrect</td>\n",
       "      <td>Correct</td>\n",
       "      <td>Correct</td>\n",
       "      <td>Fail</td>\n",
       "      <td>Fail</td>\n",
       "      <td>Fail</td>\n",
       "      <td>...</td>\n",
       "      <td>Fail</td>\n",
       "      <td>Fail</td>\n",
       "      <td>Fail</td>\n",
       "      <td>Fail</td>\n",
       "      <td>Correct</td>\n",
       "      <td>Correct</td>\n",
       "      <td>Correct</td>\n",
       "      <td>Incorrect</td>\n",
       "      <td>Correct</td>\n",
       "      <td>Correct</td>\n",
       "    </tr>\n",
       "    <tr>\n",
       "      <th>Quadrella odoratissima</th>\n",
       "      <td>Correct</td>\n",
       "      <td>Correct</td>\n",
       "      <td>Correct</td>\n",
       "      <td>Correct</td>\n",
       "      <td>Correct</td>\n",
       "      <td>Correct</td>\n",
       "      <td>Correct</td>\n",
       "      <td>Fail</td>\n",
       "      <td>Fail</td>\n",
       "      <td>Fail</td>\n",
       "      <td>...</td>\n",
       "      <td>Fail</td>\n",
       "      <td>Fail</td>\n",
       "      <td>Fail</td>\n",
       "      <td>Fail</td>\n",
       "      <td>Fail</td>\n",
       "      <td>Fail</td>\n",
       "      <td>Fail</td>\n",
       "      <td>Fail</td>\n",
       "      <td>Fail</td>\n",
       "      <td>Fail</td>\n",
       "    </tr>\n",
       "    <tr>\n",
       "      <th>Coccoloba swartzii</th>\n",
       "      <td>Correct</td>\n",
       "      <td>Correct</td>\n",
       "      <td>Correct</td>\n",
       "      <td>Correct</td>\n",
       "      <td>Incorrect</td>\n",
       "      <td>Correct</td>\n",
       "      <td>Correct</td>\n",
       "      <td>Fail</td>\n",
       "      <td>Fail</td>\n",
       "      <td>Fail</td>\n",
       "      <td>...</td>\n",
       "      <td>Fail</td>\n",
       "      <td>Fail</td>\n",
       "      <td>Fail</td>\n",
       "      <td>Fail</td>\n",
       "      <td>Correct</td>\n",
       "      <td>Correct</td>\n",
       "      <td>Correct</td>\n",
       "      <td>Correct</td>\n",
       "      <td>Correct</td>\n",
       "      <td>Correct</td>\n",
       "    </tr>\n",
       "    <tr>\n",
       "      <th>Handroanthus billbergii</th>\n",
       "      <td>Correct</td>\n",
       "      <td>Correct</td>\n",
       "      <td>Fail</td>\n",
       "      <td>Fail</td>\n",
       "      <td>Fail</td>\n",
       "      <td>Fail</td>\n",
       "      <td>Fail</td>\n",
       "      <td>Correct</td>\n",
       "      <td>Correct</td>\n",
       "      <td>Incorrect</td>\n",
       "      <td>...</td>\n",
       "      <td>Fail</td>\n",
       "      <td>Fail</td>\n",
       "      <td>Fail</td>\n",
       "      <td>Fail</td>\n",
       "      <td>Fail</td>\n",
       "      <td>Fail</td>\n",
       "      <td>Fail</td>\n",
       "      <td>Fail</td>\n",
       "      <td>Fail</td>\n",
       "      <td>Fail</td>\n",
       "    </tr>\n",
       "    <tr>\n",
       "      <th>Avicennia germinans</th>\n",
       "      <td>Correct</td>\n",
       "      <td>Correct</td>\n",
       "      <td>Fail</td>\n",
       "      <td>Fail</td>\n",
       "      <td>Fail</td>\n",
       "      <td>Fail</td>\n",
       "      <td>Fail</td>\n",
       "      <td>Correct</td>\n",
       "      <td>Correct</td>\n",
       "      <td>Correct</td>\n",
       "      <td>...</td>\n",
       "      <td>Fail</td>\n",
       "      <td>Fail</td>\n",
       "      <td>Fail</td>\n",
       "      <td>Fail</td>\n",
       "      <td>Incorrect</td>\n",
       "      <td>Incorrect</td>\n",
       "      <td>Incorrect</td>\n",
       "      <td>Correct</td>\n",
       "      <td>Incorrect</td>\n",
       "      <td>Incorrect</td>\n",
       "    </tr>\n",
       "    <tr>\n",
       "      <th>Croton niveus</th>\n",
       "      <td>Correct</td>\n",
       "      <td>Correct</td>\n",
       "      <td>Fail</td>\n",
       "      <td>Fail</td>\n",
       "      <td>Fail</td>\n",
       "      <td>Fail</td>\n",
       "      <td>Fail</td>\n",
       "      <td>Fail</td>\n",
       "      <td>Fail</td>\n",
       "      <td>Fail</td>\n",
       "      <td>...</td>\n",
       "      <td>Fail</td>\n",
       "      <td>Fail</td>\n",
       "      <td>Fail</td>\n",
       "      <td>Fail</td>\n",
       "      <td>Correct</td>\n",
       "      <td>Incorrect</td>\n",
       "      <td>Correct</td>\n",
       "      <td>Correct</td>\n",
       "      <td>Correct</td>\n",
       "      <td>Correct</td>\n",
       "    </tr>\n",
       "    <tr>\n",
       "      <th>Libidibia coriaria</th>\n",
       "      <td>Correct</td>\n",
       "      <td>Correct</td>\n",
       "      <td>Fail</td>\n",
       "      <td>Fail</td>\n",
       "      <td>Fail</td>\n",
       "      <td>Fail</td>\n",
       "      <td>Fail</td>\n",
       "      <td>Correct</td>\n",
       "      <td>Correct</td>\n",
       "      <td>Correct</td>\n",
       "      <td>...</td>\n",
       "      <td>Fail</td>\n",
       "      <td>Fail</td>\n",
       "      <td>Fail</td>\n",
       "      <td>Fail</td>\n",
       "      <td>Fail</td>\n",
       "      <td>Fail</td>\n",
       "      <td>Fail</td>\n",
       "      <td>Fail</td>\n",
       "      <td>Fail</td>\n",
       "      <td>Fail</td>\n",
       "    </tr>\n",
       "    <tr>\n",
       "      <th>Vitex cymosa</th>\n",
       "      <td>Correct</td>\n",
       "      <td>Correct</td>\n",
       "      <td>Incorrect</td>\n",
       "      <td>Correct</td>\n",
       "      <td>Correct</td>\n",
       "      <td>Correct</td>\n",
       "      <td>Correct</td>\n",
       "      <td>Correct</td>\n",
       "      <td>Incorrect</td>\n",
       "      <td>Correct</td>\n",
       "      <td>...</td>\n",
       "      <td>Fail</td>\n",
       "      <td>Fail</td>\n",
       "      <td>Fail</td>\n",
       "      <td>Fail</td>\n",
       "      <td>Incorrect</td>\n",
       "      <td>Incorrect</td>\n",
       "      <td>Correct</td>\n",
       "      <td>Correct</td>\n",
       "      <td>Correct</td>\n",
       "      <td>Correct</td>\n",
       "    </tr>\n",
       "    <tr>\n",
       "      <th>Maytenus versluysii</th>\n",
       "      <td>Incorrect</td>\n",
       "      <td>Incorrect</td>\n",
       "      <td>Incorrect</td>\n",
       "      <td>Correct</td>\n",
       "      <td>Incorrect</td>\n",
       "      <td>Correct</td>\n",
       "      <td>Correct</td>\n",
       "      <td>Correct</td>\n",
       "      <td>Correct</td>\n",
       "      <td>Correct</td>\n",
       "      <td>...</td>\n",
       "      <td>Fail</td>\n",
       "      <td>Fail</td>\n",
       "      <td>Fail</td>\n",
       "      <td>Fail</td>\n",
       "      <td>Incorrect</td>\n",
       "      <td>Correct</td>\n",
       "      <td>Incorrect</td>\n",
       "      <td>Correct</td>\n",
       "      <td>Correct</td>\n",
       "      <td>Correct</td>\n",
       "    </tr>\n",
       "    <tr>\n",
       "      <th>Cynophalla flexuosa</th>\n",
       "      <td>Correct</td>\n",
       "      <td>Incorrect</td>\n",
       "      <td>Correct</td>\n",
       "      <td>Correct</td>\n",
       "      <td>Correct</td>\n",
       "      <td>Correct</td>\n",
       "      <td>Correct</td>\n",
       "      <td>Fail</td>\n",
       "      <td>Fail</td>\n",
       "      <td>Fail</td>\n",
       "      <td>...</td>\n",
       "      <td>Fail</td>\n",
       "      <td>Fail</td>\n",
       "      <td>Fail</td>\n",
       "      <td>Fail</td>\n",
       "      <td>Fail</td>\n",
       "      <td>Fail</td>\n",
       "      <td>Fail</td>\n",
       "      <td>Fail</td>\n",
       "      <td>Fail</td>\n",
       "      <td>Fail</td>\n",
       "    </tr>\n",
       "    <tr>\n",
       "      <th>Randia aculeata</th>\n",
       "      <td>Correct</td>\n",
       "      <td>Correct</td>\n",
       "      <td>Correct</td>\n",
       "      <td>Correct</td>\n",
       "      <td>Incorrect</td>\n",
       "      <td>Incorrect</td>\n",
       "      <td>Correct</td>\n",
       "      <td>Correct</td>\n",
       "      <td>Correct</td>\n",
       "      <td>Correct</td>\n",
       "      <td>...</td>\n",
       "      <td>Fail</td>\n",
       "      <td>Fail</td>\n",
       "      <td>Fail</td>\n",
       "      <td>Fail</td>\n",
       "      <td>Correct</td>\n",
       "      <td>Correct</td>\n",
       "      <td>Correct</td>\n",
       "      <td>Correct</td>\n",
       "      <td>Incorrect</td>\n",
       "      <td>Correct</td>\n",
       "    </tr>\n",
       "    <tr>\n",
       "      <th>Schoepfia schreberi</th>\n",
       "      <td>Correct</td>\n",
       "      <td>Correct</td>\n",
       "      <td>Incorrect</td>\n",
       "      <td>Correct</td>\n",
       "      <td>Correct</td>\n",
       "      <td>Correct</td>\n",
       "      <td>Correct</td>\n",
       "      <td>Correct</td>\n",
       "      <td>Correct</td>\n",
       "      <td>Correct</td>\n",
       "      <td>...</td>\n",
       "      <td>Fail</td>\n",
       "      <td>Fail</td>\n",
       "      <td>Fail</td>\n",
       "      <td>Fail</td>\n",
       "      <td>Fail</td>\n",
       "      <td>Fail</td>\n",
       "      <td>Fail</td>\n",
       "      <td>Fail</td>\n",
       "      <td>Fail</td>\n",
       "      <td>Fail</td>\n",
       "    </tr>\n",
       "    <tr>\n",
       "      <th>Bursera tomentosa</th>\n",
       "      <td>Correct</td>\n",
       "      <td>Correct</td>\n",
       "      <td>Fail</td>\n",
       "      <td>Fail</td>\n",
       "      <td>Fail</td>\n",
       "      <td>Fail</td>\n",
       "      <td>Fail</td>\n",
       "      <td>Correct</td>\n",
       "      <td>Correct</td>\n",
       "      <td>Correct</td>\n",
       "      <td>...</td>\n",
       "      <td>Fail</td>\n",
       "      <td>Fail</td>\n",
       "      <td>Fail</td>\n",
       "      <td>Fail</td>\n",
       "      <td>Incorrect</td>\n",
       "      <td>Correct</td>\n",
       "      <td>Incorrect</td>\n",
       "      <td>Correct</td>\n",
       "      <td>Incorrect</td>\n",
       "      <td>Incorrect</td>\n",
       "    </tr>\n",
       "    <tr>\n",
       "      <th>Guapira pacurero</th>\n",
       "      <td>Correct</td>\n",
       "      <td>Correct</td>\n",
       "      <td>Incorrect</td>\n",
       "      <td>Correct</td>\n",
       "      <td>Incorrect</td>\n",
       "      <td>Correct</td>\n",
       "      <td>Correct</td>\n",
       "      <td>Correct</td>\n",
       "      <td>Correct</td>\n",
       "      <td>Correct</td>\n",
       "      <td>...</td>\n",
       "      <td>Fail</td>\n",
       "      <td>Fail</td>\n",
       "      <td>Fail</td>\n",
       "      <td>Fail</td>\n",
       "      <td>Incorrect</td>\n",
       "      <td>Incorrect</td>\n",
       "      <td>Correct</td>\n",
       "      <td>Correct</td>\n",
       "      <td>Correct</td>\n",
       "      <td>Correct</td>\n",
       "    </tr>\n",
       "    <tr>\n",
       "      <th>Cynophalla hastata</th>\n",
       "      <td>Incorrect</td>\n",
       "      <td>Incorrect</td>\n",
       "      <td>Incorrect</td>\n",
       "      <td>Correct</td>\n",
       "      <td>Incorrect</td>\n",
       "      <td>Correct</td>\n",
       "      <td>Correct</td>\n",
       "      <td>Fail</td>\n",
       "      <td>Fail</td>\n",
       "      <td>Fail</td>\n",
       "      <td>...</td>\n",
       "      <td>Fail</td>\n",
       "      <td>Fail</td>\n",
       "      <td>Fail</td>\n",
       "      <td>Fail</td>\n",
       "      <td>Incorrect</td>\n",
       "      <td>Correct</td>\n",
       "      <td>Correct</td>\n",
       "      <td>Correct</td>\n",
       "      <td>Correct</td>\n",
       "      <td>Correct</td>\n",
       "    </tr>\n",
       "    <tr>\n",
       "      <th>Erythroxylum havanense</th>\n",
       "      <td>Correct</td>\n",
       "      <td>Correct</td>\n",
       "      <td>Incorrect</td>\n",
       "      <td>Correct</td>\n",
       "      <td>Incorrect</td>\n",
       "      <td>Correct</td>\n",
       "      <td>Correct</td>\n",
       "      <td>Correct</td>\n",
       "      <td>Correct</td>\n",
       "      <td>Correct</td>\n",
       "      <td>...</td>\n",
       "      <td>Fail</td>\n",
       "      <td>Fail</td>\n",
       "      <td>Fail</td>\n",
       "      <td>Fail</td>\n",
       "      <td>Fail</td>\n",
       "      <td>Fail</td>\n",
       "      <td>Fail</td>\n",
       "      <td>Fail</td>\n",
       "      <td>Fail</td>\n",
       "      <td>Fail</td>\n",
       "    </tr>\n",
       "    <tr>\n",
       "      <th>Rhizophora mangle</th>\n",
       "      <td>Correct</td>\n",
       "      <td>Incorrect</td>\n",
       "      <td>Fail</td>\n",
       "      <td>Fail</td>\n",
       "      <td>Fail</td>\n",
       "      <td>Fail</td>\n",
       "      <td>Fail</td>\n",
       "      <td>Correct</td>\n",
       "      <td>Correct</td>\n",
       "      <td>Correct</td>\n",
       "      <td>...</td>\n",
       "      <td>Fail</td>\n",
       "      <td>Fail</td>\n",
       "      <td>Fail</td>\n",
       "      <td>Fail</td>\n",
       "      <td>Correct</td>\n",
       "      <td>Incorrect</td>\n",
       "      <td>Incorrect</td>\n",
       "      <td>Incorrect</td>\n",
       "      <td>Incorrect</td>\n",
       "      <td>Correct</td>\n",
       "    </tr>\n",
       "    <tr>\n",
       "      <th>Trichilia trifolia</th>\n",
       "      <td>Correct</td>\n",
       "      <td>Correct</td>\n",
       "      <td>Fail</td>\n",
       "      <td>Fail</td>\n",
       "      <td>Fail</td>\n",
       "      <td>Fail</td>\n",
       "      <td>Fail</td>\n",
       "      <td>Incorrect</td>\n",
       "      <td>Correct</td>\n",
       "      <td>Correct</td>\n",
       "      <td>...</td>\n",
       "      <td>Fail</td>\n",
       "      <td>Fail</td>\n",
       "      <td>Fail</td>\n",
       "      <td>Fail</td>\n",
       "      <td>Correct</td>\n",
       "      <td>Incorrect</td>\n",
       "      <td>Correct</td>\n",
       "      <td>Correct</td>\n",
       "      <td>Correct</td>\n",
       "      <td>Correct</td>\n",
       "    </tr>\n",
       "    <tr>\n",
       "      <th>Bursera simaruba</th>\n",
       "      <td>Correct</td>\n",
       "      <td>Incorrect</td>\n",
       "      <td>Correct</td>\n",
       "      <td>Correct</td>\n",
       "      <td>Correct</td>\n",
       "      <td>Correct</td>\n",
       "      <td>Correct</td>\n",
       "      <td>Correct</td>\n",
       "      <td>Correct</td>\n",
       "      <td>Correct</td>\n",
       "      <td>...</td>\n",
       "      <td>Fail</td>\n",
       "      <td>Fail</td>\n",
       "      <td>Fail</td>\n",
       "      <td>Fail</td>\n",
       "      <td>Fail</td>\n",
       "      <td>Fail</td>\n",
       "      <td>Fail</td>\n",
       "      <td>Fail</td>\n",
       "      <td>Fail</td>\n",
       "      <td>Fail</td>\n",
       "    </tr>\n",
       "    <tr>\n",
       "      <th>Bourreria succulenta</th>\n",
       "      <td>Correct</td>\n",
       "      <td>Correct</td>\n",
       "      <td>Incorrect</td>\n",
       "      <td>Correct</td>\n",
       "      <td>Correct</td>\n",
       "      <td>Correct</td>\n",
       "      <td>Correct</td>\n",
       "      <td>Fail</td>\n",
       "      <td>Fail</td>\n",
       "      <td>Fail</td>\n",
       "      <td>...</td>\n",
       "      <td>Fail</td>\n",
       "      <td>Fail</td>\n",
       "      <td>Fail</td>\n",
       "      <td>Fail</td>\n",
       "      <td>Fail</td>\n",
       "      <td>Fail</td>\n",
       "      <td>Fail</td>\n",
       "      <td>Fail</td>\n",
       "      <td>Fail</td>\n",
       "      <td>Fail</td>\n",
       "    </tr>\n",
       "    <tr>\n",
       "      <th>Crossopetalum rhacoma</th>\n",
       "      <td>Correct</td>\n",
       "      <td>Correct</td>\n",
       "      <td>Incorrect</td>\n",
       "      <td>Correct</td>\n",
       "      <td>Incorrect</td>\n",
       "      <td>Incorrect</td>\n",
       "      <td>Incorrect</td>\n",
       "      <td>Correct</td>\n",
       "      <td>Correct</td>\n",
       "      <td>Correct</td>\n",
       "      <td>...</td>\n",
       "      <td>Fail</td>\n",
       "      <td>Fail</td>\n",
       "      <td>Fail</td>\n",
       "      <td>Fail</td>\n",
       "      <td>Fail</td>\n",
       "      <td>Fail</td>\n",
       "      <td>Fail</td>\n",
       "      <td>Fail</td>\n",
       "      <td>Fail</td>\n",
       "      <td>Fail</td>\n",
       "    </tr>\n",
       "    <tr>\n",
       "      <th>Zanthoxylum monophyllum</th>\n",
       "      <td>Correct</td>\n",
       "      <td>Correct</td>\n",
       "      <td>Correct</td>\n",
       "      <td>Correct</td>\n",
       "      <td>Correct</td>\n",
       "      <td>Correct</td>\n",
       "      <td>Correct</td>\n",
       "      <td>Correct</td>\n",
       "      <td>Correct</td>\n",
       "      <td>Correct</td>\n",
       "      <td>...</td>\n",
       "      <td>Fail</td>\n",
       "      <td>Fail</td>\n",
       "      <td>Fail</td>\n",
       "      <td>Fail</td>\n",
       "      <td>Incorrect</td>\n",
       "      <td>Incorrect</td>\n",
       "      <td>Correct</td>\n",
       "      <td>Correct</td>\n",
       "      <td>Correct</td>\n",
       "      <td>Correct</td>\n",
       "    </tr>\n",
       "  </tbody>\n",
       "</table>\n",
       "<p>40 rows × 202 columns</p>\n",
       "</div>"
      ],
      "text/plain": [
       "                            Life form            Leaf position  \\\n",
       "                                liana       tree     alternate   \n",
       "Species                                                          \n",
       "Vitex compressa               Correct    Correct          Fail   \n",
       "Casearia tremula              Correct    Correct          Fail   \n",
       "Vachellia tortuosa            Correct    Correct          Fail   \n",
       "Guaiacum sanctum              Correct    Correct       Correct   \n",
       "Prosopis juliflora            Correct    Correct       Correct   \n",
       "Coccoloba uvifera             Correct    Correct     Incorrect   \n",
       "Laguncularia racemosa         Correct    Correct       Correct   \n",
       "Amyris ignea                     Fail       Fail     Incorrect   \n",
       "Jacquinia arborea             Correct    Correct          Fail   \n",
       "Conocarpus erectus            Correct    Correct       Correct   \n",
       "Krugiodendron ferreum         Correct    Correct       Correct   \n",
       "Pithecellobium unguis-cati    Correct    Correct     Incorrect   \n",
       "Bursera karsteniana           Correct    Correct          Fail   \n",
       "Guettarda roupalifolia        Correct    Correct          Fail   \n",
       "Metopium brownei              Correct  Incorrect          Fail   \n",
       "Guaiacum officinale           Correct    Correct       Correct   \n",
       "Eugenia procera               Correct    Correct       Correct   \n",
       "Clusia rosea                  Correct  Incorrect          Fail   \n",
       "Hippomane mancinella          Correct    Correct       Correct   \n",
       "Quadrella odoratissima        Correct    Correct       Correct   \n",
       "Coccoloba swartzii            Correct    Correct       Correct   \n",
       "Handroanthus billbergii       Correct    Correct          Fail   \n",
       "Avicennia germinans           Correct    Correct          Fail   \n",
       "Croton niveus                 Correct    Correct          Fail   \n",
       "Libidibia coriaria            Correct    Correct          Fail   \n",
       "Vitex cymosa                  Correct    Correct     Incorrect   \n",
       "Maytenus versluysii         Incorrect  Incorrect     Incorrect   \n",
       "Cynophalla flexuosa           Correct  Incorrect       Correct   \n",
       "Randia aculeata               Correct    Correct       Correct   \n",
       "Schoepfia schreberi           Correct    Correct     Incorrect   \n",
       "Bursera tomentosa             Correct    Correct          Fail   \n",
       "Guapira pacurero              Correct    Correct     Incorrect   \n",
       "Cynophalla hastata          Incorrect  Incorrect     Incorrect   \n",
       "Erythroxylum havanense        Correct    Correct     Incorrect   \n",
       "Rhizophora mangle             Correct  Incorrect          Fail   \n",
       "Trichilia trifolia            Correct    Correct          Fail   \n",
       "Bursera simaruba              Correct  Incorrect       Correct   \n",
       "Bourreria succulenta          Correct    Correct     Incorrect   \n",
       "Crossopetalum rhacoma         Correct    Correct     Incorrect   \n",
       "Zanthoxylum monophyllum       Correct    Correct       Correct   \n",
       "\n",
       "                                                           \\\n",
       "                           alternate, opposite   opposite   \n",
       "Species                                                     \n",
       "Vitex compressa                           Fail       Fail   \n",
       "Casearia tremula                          Fail       Fail   \n",
       "Vachellia tortuosa                        Fail       Fail   \n",
       "Guaiacum sanctum                       Correct    Correct   \n",
       "Prosopis juliflora                     Correct    Correct   \n",
       "Coccoloba uvifera                      Correct    Correct   \n",
       "Laguncularia racemosa                  Correct    Correct   \n",
       "Amyris ignea                           Correct  Incorrect   \n",
       "Jacquinia arborea                         Fail       Fail   \n",
       "Conocarpus erectus                     Correct    Correct   \n",
       "Krugiodendron ferreum                Incorrect  Incorrect   \n",
       "Pithecellobium unguis-cati             Correct    Correct   \n",
       "Bursera karsteniana                       Fail       Fail   \n",
       "Guettarda roupalifolia                    Fail       Fail   \n",
       "Metopium brownei                          Fail       Fail   \n",
       "Guaiacum officinale                    Correct  Incorrect   \n",
       "Eugenia procera                        Correct    Correct   \n",
       "Clusia rosea                              Fail       Fail   \n",
       "Hippomane mancinella                   Correct  Incorrect   \n",
       "Quadrella odoratissima                 Correct    Correct   \n",
       "Coccoloba swartzii                     Correct  Incorrect   \n",
       "Handroanthus billbergii                   Fail       Fail   \n",
       "Avicennia germinans                       Fail       Fail   \n",
       "Croton niveus                             Fail       Fail   \n",
       "Libidibia coriaria                        Fail       Fail   \n",
       "Vitex cymosa                           Correct    Correct   \n",
       "Maytenus versluysii                    Correct  Incorrect   \n",
       "Cynophalla flexuosa                    Correct    Correct   \n",
       "Randia aculeata                        Correct  Incorrect   \n",
       "Schoepfia schreberi                    Correct    Correct   \n",
       "Bursera tomentosa                         Fail       Fail   \n",
       "Guapira pacurero                       Correct  Incorrect   \n",
       "Cynophalla hastata                     Correct  Incorrect   \n",
       "Erythroxylum havanense                 Correct  Incorrect   \n",
       "Rhizophora mangle                         Fail       Fail   \n",
       "Trichilia trifolia                        Fail       Fail   \n",
       "Bursera simaruba                       Correct    Correct   \n",
       "Bourreria succulenta                   Correct    Correct   \n",
       "Crossopetalum rhacoma                  Correct  Incorrect   \n",
       "Zanthoxylum monophyllum                Correct    Correct   \n",
       "\n",
       "                                                  \\\n",
       "                           opposite, whorls of 3   \n",
       "Species                                            \n",
       "Vitex compressa                             Fail   \n",
       "Casearia tremula                            Fail   \n",
       "Vachellia tortuosa                          Fail   \n",
       "Guaiacum sanctum                         Correct   \n",
       "Prosopis juliflora                       Correct   \n",
       "Coccoloba uvifera                        Correct   \n",
       "Laguncularia racemosa                    Correct   \n",
       "Amyris ignea                             Correct   \n",
       "Jacquinia arborea                           Fail   \n",
       "Conocarpus erectus                       Correct   \n",
       "Krugiodendron ferreum                    Correct   \n",
       "Pithecellobium unguis-cati               Correct   \n",
       "Bursera karsteniana                         Fail   \n",
       "Guettarda roupalifolia                      Fail   \n",
       "Metopium brownei                            Fail   \n",
       "Guaiacum officinale                      Correct   \n",
       "Eugenia procera                          Correct   \n",
       "Clusia rosea                                Fail   \n",
       "Hippomane mancinella                     Correct   \n",
       "Quadrella odoratissima                   Correct   \n",
       "Coccoloba swartzii                       Correct   \n",
       "Handroanthus billbergii                     Fail   \n",
       "Avicennia germinans                         Fail   \n",
       "Croton niveus                               Fail   \n",
       "Libidibia coriaria                          Fail   \n",
       "Vitex cymosa                             Correct   \n",
       "Maytenus versluysii                      Correct   \n",
       "Cynophalla flexuosa                      Correct   \n",
       "Randia aculeata                        Incorrect   \n",
       "Schoepfia schreberi                      Correct   \n",
       "Bursera tomentosa                           Fail   \n",
       "Guapira pacurero                         Correct   \n",
       "Cynophalla hastata                       Correct   \n",
       "Erythroxylum havanense                   Correct   \n",
       "Rhizophora mangle                           Fail   \n",
       "Trichilia trifolia                          Fail   \n",
       "Bursera simaruba                         Correct   \n",
       "Bourreria succulenta                     Correct   \n",
       "Crossopetalum rhacoma                  Incorrect   \n",
       "Zanthoxylum monophyllum                  Correct   \n",
       "\n",
       "                                                            Leaf composition  \\\n",
       "                           opposite, whorls of 3, alternate        3 palmate   \n",
       "Species                                                                        \n",
       "Vitex compressa                                        Fail          Correct   \n",
       "Casearia tremula                                       Fail             Fail   \n",
       "Vachellia tortuosa                                     Fail          Correct   \n",
       "Guaiacum sanctum                                    Correct          Correct   \n",
       "Prosopis juliflora                                  Correct          Correct   \n",
       "Coccoloba uvifera                                   Correct          Correct   \n",
       "Laguncularia racemosa                               Correct             Fail   \n",
       "Amyris ignea                                        Correct             Fail   \n",
       "Jacquinia arborea                                      Fail          Correct   \n",
       "Conocarpus erectus                                  Correct          Correct   \n",
       "Krugiodendron ferreum                               Correct          Correct   \n",
       "Pithecellobium unguis-cati                          Correct          Correct   \n",
       "Bursera karsteniana                                    Fail             Fail   \n",
       "Guettarda roupalifolia                                 Fail          Correct   \n",
       "Metopium brownei                                       Fail             Fail   \n",
       "Guaiacum officinale                                 Correct          Correct   \n",
       "Eugenia procera                                     Correct          Correct   \n",
       "Clusia rosea                                           Fail          Correct   \n",
       "Hippomane mancinella                                Correct             Fail   \n",
       "Quadrella odoratissima                              Correct             Fail   \n",
       "Coccoloba swartzii                                  Correct             Fail   \n",
       "Handroanthus billbergii                                Fail          Correct   \n",
       "Avicennia germinans                                    Fail          Correct   \n",
       "Croton niveus                                          Fail             Fail   \n",
       "Libidibia coriaria                                     Fail          Correct   \n",
       "Vitex cymosa                                        Correct          Correct   \n",
       "Maytenus versluysii                                 Correct          Correct   \n",
       "Cynophalla flexuosa                                 Correct             Fail   \n",
       "Randia aculeata                                     Correct          Correct   \n",
       "Schoepfia schreberi                                 Correct          Correct   \n",
       "Bursera tomentosa                                      Fail          Correct   \n",
       "Guapira pacurero                                    Correct          Correct   \n",
       "Cynophalla hastata                                  Correct             Fail   \n",
       "Erythroxylum havanense                              Correct          Correct   \n",
       "Rhizophora mangle                                      Fail          Correct   \n",
       "Trichilia trifolia                                     Fail        Incorrect   \n",
       "Bursera simaruba                                    Correct          Correct   \n",
       "Bourreria succulenta                                Correct             Fail   \n",
       "Crossopetalum rhacoma                             Incorrect          Correct   \n",
       "Zanthoxylum monophyllum                             Correct          Correct   \n",
       "\n",
       "                                                    ... Aril colour        \\\n",
       "                           3-5 palmate 3-5 pinnate  ...      orange   red   \n",
       "Species                                             ...                     \n",
       "Vitex compressa              Incorrect     Correct  ...        Fail  Fail   \n",
       "Casearia tremula                  Fail        Fail  ...        Fail  Fail   \n",
       "Vachellia tortuosa             Correct     Correct  ...        Fail  Fail   \n",
       "Guaiacum sanctum               Correct     Correct  ...        Fail  Fail   \n",
       "Prosopis juliflora             Correct     Correct  ...        Fail  Fail   \n",
       "Coccoloba uvifera              Correct     Correct  ...        Fail  Fail   \n",
       "Laguncularia racemosa             Fail        Fail  ...        Fail  Fail   \n",
       "Amyris ignea                      Fail        Fail  ...        Fail  Fail   \n",
       "Jacquinia arborea              Correct     Correct  ...        Fail  Fail   \n",
       "Conocarpus erectus             Correct     Correct  ...        Fail  Fail   \n",
       "Krugiodendron ferreum          Correct     Correct  ...        Fail  Fail   \n",
       "Pithecellobium unguis-cati     Correct     Correct  ...        Fail  Fail   \n",
       "Bursera karsteniana               Fail        Fail  ...        Fail  Fail   \n",
       "Guettarda roupalifolia       Incorrect     Correct  ...        Fail  Fail   \n",
       "Metopium brownei                  Fail        Fail  ...        Fail  Fail   \n",
       "Guaiacum officinale            Correct     Correct  ...        Fail  Fail   \n",
       "Eugenia procera                Correct     Correct  ...        Fail  Fail   \n",
       "Clusia rosea                   Correct     Correct  ...        Fail  Fail   \n",
       "Hippomane mancinella              Fail        Fail  ...        Fail  Fail   \n",
       "Quadrella odoratissima            Fail        Fail  ...        Fail  Fail   \n",
       "Coccoloba swartzii                Fail        Fail  ...        Fail  Fail   \n",
       "Handroanthus billbergii        Correct   Incorrect  ...        Fail  Fail   \n",
       "Avicennia germinans            Correct     Correct  ...        Fail  Fail   \n",
       "Croton niveus                     Fail        Fail  ...        Fail  Fail   \n",
       "Libidibia coriaria             Correct     Correct  ...        Fail  Fail   \n",
       "Vitex cymosa                 Incorrect     Correct  ...        Fail  Fail   \n",
       "Maytenus versluysii            Correct     Correct  ...        Fail  Fail   \n",
       "Cynophalla flexuosa               Fail        Fail  ...        Fail  Fail   \n",
       "Randia aculeata                Correct     Correct  ...        Fail  Fail   \n",
       "Schoepfia schreberi            Correct     Correct  ...        Fail  Fail   \n",
       "Bursera tomentosa              Correct     Correct  ...        Fail  Fail   \n",
       "Guapira pacurero               Correct     Correct  ...        Fail  Fail   \n",
       "Cynophalla hastata                Fail        Fail  ...        Fail  Fail   \n",
       "Erythroxylum havanense         Correct     Correct  ...        Fail  Fail   \n",
       "Rhizophora mangle              Correct     Correct  ...        Fail  Fail   \n",
       "Trichilia trifolia             Correct     Correct  ...        Fail  Fail   \n",
       "Bursera simaruba               Correct     Correct  ...        Fail  Fail   \n",
       "Bourreria succulenta              Fail        Fail  ...        Fail  Fail   \n",
       "Crossopetalum rhacoma          Correct     Correct  ...        Fail  Fail   \n",
       "Zanthoxylum monophyllum        Correct     Correct  ...        Fail  Fail   \n",
       "\n",
       "                                             Seed colour             \\\n",
       "                           white yellow-geen       black      brown   \n",
       "Species                                                               \n",
       "Vitex compressa             Fail        Fail        Fail       Fail   \n",
       "Casearia tremula            Fail        Fail     Correct    Correct   \n",
       "Vachellia tortuosa          Fail        Fail        Fail       Fail   \n",
       "Guaiacum sanctum            Fail        Fail   Incorrect    Correct   \n",
       "Prosopis juliflora          Fail        Fail   Incorrect    Correct   \n",
       "Coccoloba uvifera           Fail        Fail        Fail       Fail   \n",
       "Laguncularia racemosa       Fail        Fail     Correct  Incorrect   \n",
       "Amyris ignea                Fail        Fail   Incorrect  Incorrect   \n",
       "Jacquinia arborea           Fail        Fail   Incorrect    Correct   \n",
       "Conocarpus erectus          Fail        Fail     Correct  Incorrect   \n",
       "Krugiodendron ferreum       Fail        Fail        Fail       Fail   \n",
       "Pithecellobium unguis-cati  Fail        Fail     Correct    Correct   \n",
       "Bursera karsteniana         Fail        Fail        Fail       Fail   \n",
       "Guettarda roupalifolia      Fail        Fail   Incorrect    Correct   \n",
       "Metopium brownei            Fail        Fail     Correct  Incorrect   \n",
       "Guaiacum officinale         Fail        Fail     Correct  Incorrect   \n",
       "Eugenia procera             Fail        Fail        Fail       Fail   \n",
       "Clusia rosea                Fail        Fail   Incorrect    Correct   \n",
       "Hippomane mancinella        Fail        Fail     Correct    Correct   \n",
       "Quadrella odoratissima      Fail        Fail        Fail       Fail   \n",
       "Coccoloba swartzii          Fail        Fail     Correct    Correct   \n",
       "Handroanthus billbergii     Fail        Fail        Fail       Fail   \n",
       "Avicennia germinans         Fail        Fail   Incorrect  Incorrect   \n",
       "Croton niveus               Fail        Fail     Correct  Incorrect   \n",
       "Libidibia coriaria          Fail        Fail        Fail       Fail   \n",
       "Vitex cymosa                Fail        Fail   Incorrect  Incorrect   \n",
       "Maytenus versluysii         Fail        Fail   Incorrect    Correct   \n",
       "Cynophalla flexuosa         Fail        Fail        Fail       Fail   \n",
       "Randia aculeata             Fail        Fail     Correct    Correct   \n",
       "Schoepfia schreberi         Fail        Fail        Fail       Fail   \n",
       "Bursera tomentosa           Fail        Fail   Incorrect    Correct   \n",
       "Guapira pacurero            Fail        Fail   Incorrect  Incorrect   \n",
       "Cynophalla hastata          Fail        Fail   Incorrect    Correct   \n",
       "Erythroxylum havanense      Fail        Fail        Fail       Fail   \n",
       "Rhizophora mangle           Fail        Fail     Correct  Incorrect   \n",
       "Trichilia trifolia          Fail        Fail     Correct  Incorrect   \n",
       "Bursera simaruba            Fail        Fail        Fail       Fail   \n",
       "Bourreria succulenta        Fail        Fail        Fail       Fail   \n",
       "Crossopetalum rhacoma       Fail        Fail        Fail       Fail   \n",
       "Zanthoxylum monophyllum     Fail        Fail   Incorrect  Incorrect   \n",
       "\n",
       "                                                                        \n",
       "                                green       grey      white    whitish  \n",
       "Species                                                                 \n",
       "Vitex compressa                  Fail       Fail       Fail       Fail  \n",
       "Casearia tremula              Correct    Correct    Correct    Correct  \n",
       "Vachellia tortuosa               Fail       Fail       Fail       Fail  \n",
       "Guaiacum sanctum              Correct    Correct    Correct    Correct  \n",
       "Prosopis juliflora            Correct    Correct  Incorrect  Incorrect  \n",
       "Coccoloba uvifera                Fail       Fail       Fail       Fail  \n",
       "Laguncularia racemosa       Incorrect    Correct    Correct  Incorrect  \n",
       "Amyris ignea                  Correct    Correct    Correct    Correct  \n",
       "Jacquinia arborea             Correct    Correct  Incorrect    Correct  \n",
       "Conocarpus erectus            Correct  Incorrect    Correct    Correct  \n",
       "Krugiodendron ferreum            Fail       Fail       Fail       Fail  \n",
       "Pithecellobium unguis-cati    Correct    Correct    Correct  Incorrect  \n",
       "Bursera karsteniana              Fail       Fail       Fail       Fail  \n",
       "Guettarda roupalifolia        Correct    Correct    Correct    Correct  \n",
       "Metopium brownei              Correct    Correct    Correct    Correct  \n",
       "Guaiacum officinale           Correct    Correct    Correct    Correct  \n",
       "Eugenia procera                  Fail       Fail       Fail       Fail  \n",
       "Clusia rosea                Incorrect    Correct  Incorrect    Correct  \n",
       "Hippomane mancinella          Correct  Incorrect    Correct    Correct  \n",
       "Quadrella odoratissima           Fail       Fail       Fail       Fail  \n",
       "Coccoloba swartzii            Correct    Correct    Correct    Correct  \n",
       "Handroanthus billbergii          Fail       Fail       Fail       Fail  \n",
       "Avicennia germinans         Incorrect    Correct  Incorrect  Incorrect  \n",
       "Croton niveus                 Correct    Correct    Correct    Correct  \n",
       "Libidibia coriaria               Fail       Fail       Fail       Fail  \n",
       "Vitex cymosa                  Correct    Correct    Correct    Correct  \n",
       "Maytenus versluysii         Incorrect    Correct    Correct    Correct  \n",
       "Cynophalla flexuosa              Fail       Fail       Fail       Fail  \n",
       "Randia aculeata               Correct    Correct  Incorrect    Correct  \n",
       "Schoepfia schreberi              Fail       Fail       Fail       Fail  \n",
       "Bursera tomentosa           Incorrect    Correct  Incorrect  Incorrect  \n",
       "Guapira pacurero              Correct    Correct    Correct    Correct  \n",
       "Cynophalla hastata            Correct    Correct    Correct    Correct  \n",
       "Erythroxylum havanense           Fail       Fail       Fail       Fail  \n",
       "Rhizophora mangle           Incorrect  Incorrect  Incorrect    Correct  \n",
       "Trichilia trifolia            Correct    Correct    Correct    Correct  \n",
       "Bursera simaruba                 Fail       Fail       Fail       Fail  \n",
       "Bourreria succulenta             Fail       Fail       Fail       Fail  \n",
       "Crossopetalum rhacoma            Fail       Fail       Fail       Fail  \n",
       "Zanthoxylum monophyllum       Correct    Correct    Correct    Correct  \n",
       "\n",
       "[40 rows x 202 columns]"
      ]
     },
     "execution_count": 8,
     "metadata": {},
     "output_type": "execute_result"
    }
   ],
   "source": [
    "df"
   ]
  },
  {
   "attachments": {},
   "cell_type": "markdown",
   "metadata": {},
   "source": [
    "### Plotting"
   ]
  },
  {
   "attachments": {},
   "cell_type": "markdown",
   "metadata": {},
   "source": [
    "##### Old"
   ]
  },
  {
   "cell_type": "code",
   "execution_count": 6,
   "metadata": {},
   "outputs": [],
   "source": [
    "# group_labels = [trait for (trait, _) in df.columns]\n",
    "# sub_labels = [sublabel.capitalize() for (_, sublabel) in df.columns]\n",
    "# number_labels = [number for number, (_, _) in enumerate(df.columns)]\n",
    "\n",
    "# correct_lst = []\n",
    "# incorrect_lst = []\n",
    "# fail_lst = []\n",
    "# for column in df.columns:\n",
    "\n",
    "#     # Correct\n",
    "#     value = df[column].str.count(\"Correct\").sum() # Cannot sum directly\n",
    "#     correct_lst.append(value)\n",
    "\n",
    "#         # Correct\n",
    "#     value = df[column].str.count(\"Incorrect\").sum() # Cannot sum directly\n",
    "#     incorrect_lst.append(value)\n",
    "\n",
    "#         # Correct\n",
    "#     value = df[column].str.count(\"Fail\").sum() # Cannot sum directly\n",
    "#     fail_lst.append(value)\n",
    "\n",
    "# total = len(df_caribbean_ChatGPT.index)\n",
    "\n",
    "# correct_lst = np.array(correct_lst)\n",
    "# incorrect_lst = np.array(incorrect_lst)\n",
    "# fail_lst = np.array(fail_lst)\n",
    "\n",
    "# correct_lst = correct_lst / total * 100\n",
    "# incorrect_lst = incorrect_lst / total * 100\n",
    "# fail_lst = fail_lst / total * 100\n",
    "\n",
    "# fig = go.Figure()\n",
    "\n",
    "# predictions = [\n",
    "#     \"Correct\",\n",
    "#     \"Incorrect\",\n",
    "#     \"No Information Found\"\n",
    "# ]\n",
    "\n",
    "# colors = [\n",
    "#     \"green\",\n",
    "#     \"red\",\n",
    "#     \"blue\"\n",
    "# ]\n",
    "\n",
    "# lsts = [\n",
    "#     correct_lst,\n",
    "#     incorrect_lst,\n",
    "#     fail_lst\n",
    "# ]\n",
    "\n",
    "# x = [\n",
    "#     group_labels,\n",
    "#     number_labels\n",
    "# ]\n",
    "\n",
    "# for (prediction, color, lst) in zip(predictions, colors, lsts):\n",
    "#     fig.add_bar(\n",
    "#         name=prediction,\n",
    "#         x=x,\n",
    "#         y=lst,\n",
    "#         marker_color=color,\n",
    "#         constraintext='outside',\n",
    "#         hovertext=sub_labels,\n",
    "#         textposition='auto'\n",
    "#         )\n",
    "    \n",
    "# fig.update_layout(\n",
    "#     # uniformtext_minsize=8, uniformtext_mode='hide',\n",
    "#     title='ChatGPT Predictions',\n",
    "#     # xaxis_tickfont_size=6,\n",
    "#     yaxis=dict(\n",
    "#         title='Percentage',\n",
    "#         titlefont_size=16,\n",
    "#         # tickfont_size=3,\n",
    "#     ),\n",
    "\n",
    "#     barmode='relative',\n",
    "#     bargap=0.0, # gap between bars of adjacent location coordinates.\n",
    "#     bargroupgap=0.00, # gap between bars of the same location coordinate.\n",
    "    \n",
    "# )\n",
    "\n",
    "# fig.show()\n",
    "\n",
    "\n",
    "# folder_figures = \"../../../reports/figures/\"\n",
    "# file_name = \"PxPlot_HTML_BarchartPredictions.html\"\n",
    "# fig.write_html(F\"{folder_figures}{file_name}\")\n",
    "# file_name = \"PxPlot_PDF_BarchartPredictions.pdf\"\n",
    "# fig.write_image(F\"{folder_figures}{file_name}\")"
   ]
  },
  {
   "attachments": {},
   "cell_type": "markdown",
   "metadata": {},
   "source": [
    "##### New"
   ]
  },
  {
   "cell_type": "code",
   "execution_count": 9,
   "metadata": {},
   "outputs": [],
   "source": [
    "x_data = []\n",
    "y_data = []\n",
    "for column in df.columns.get_level_values(0).unique():\n",
    "\n",
    "    values = df[column].values\n",
    "    size = df[column].values.size\n",
    "\n",
    "    correct = round((values=='Correct').sum() / size * 100, 2)\n",
    "    incorrect = round((values=='Incorrect').sum() / size * 100, 2)\n",
    "    fail = round((values=='Fail').sum() / size * 100, 2)\n",
    "\n",
    "    x_data.append([correct, incorrect, fail])\n",
    "\n",
    "    y_data.append(column)\n",
    "\n",
    "x_data = np.array(x_data)\n",
    "y_data = np.array(y_data)\n",
    "\n",
    "sorted_indices = np.argsort(x_data[:, 0])\n",
    "\n",
    "x_data = x_data[sorted_indices]\n",
    "y_data = y_data[sorted_indices]"
   ]
  },
  {
   "cell_type": "code",
   "execution_count": 18,
   "metadata": {},
   "outputs": [
    {
     "data": {
      "application/vnd.plotly.v1+json": {
       "config": {
        "plotlyServerURL": "https://plot.ly"
       },
       "data": [
        {
         "marker": {
          "color": "#2ca02c",
          "line": {
           "color": "rgb(248, 248, 249)",
           "width": 1
          }
         },
         "orientation": "h",
         "type": "bar",
         "x": [
          0
         ],
         "y": [
          "Aril colour"
         ]
        },
        {
         "marker": {
          "color": "#2ca02c",
          "line": {
           "color": "rgb(248, 248, 249)",
           "width": 1
          }
         },
         "orientation": "h",
         "type": "bar",
         "x": [
          16.56
         ],
         "y": [
          "Leaf upper side"
         ]
        },
        {
         "marker": {
          "color": "#2ca02c",
          "line": {
           "color": "rgb(248, 248, 249)",
           "width": 1
          }
         },
         "orientation": "h",
         "type": "bar",
         "x": [
          20
         ],
         "y": [
          "Sepals calyx shape"
         ]
        },
        {
         "marker": {
          "color": "#2ca02c",
          "line": {
           "color": "rgb(248, 248, 249)",
           "width": 1
          }
         },
         "orientation": "h",
         "type": "bar",
         "x": [
          23.75
         ],
         "y": [
          "Leaf lower side"
         ]
        },
        {
         "marker": {
          "color": "#2ca02c",
          "line": {
           "color": "rgb(248, 248, 249)",
           "width": 1
          }
         },
         "orientation": "h",
         "type": "bar",
         "x": [
          30
         ],
         "y": [
          "Stipules"
         ]
        },
        {
         "marker": {
          "color": "#2ca02c",
          "line": {
           "color": "rgb(248, 248, 249)",
           "width": 1
          }
         },
         "orientation": "h",
         "type": "bar",
         "x": [
          33.33
         ],
         "y": [
          "Stamen shape"
         ]
        },
        {
         "marker": {
          "color": "#2ca02c",
          "line": {
           "color": "rgb(248, 248, 249)",
           "width": 1
          }
         },
         "orientation": "h",
         "type": "bar",
         "x": [
          34.17
         ],
         "y": [
          "Leaf glands"
         ]
        },
        {
         "marker": {
          "color": "#2ca02c",
          "line": {
           "color": "rgb(248, 248, 249)",
           "width": 1
          }
         },
         "orientation": "h",
         "type": "bar",
         "x": [
          34.88
         ],
         "y": [
          "Fruit colour"
         ]
        },
        {
         "marker": {
          "color": "#2ca02c",
          "line": {
           "color": "rgb(248, 248, 249)",
           "width": 1
          }
         },
         "orientation": "h",
         "type": "bar",
         "x": [
          38
         ],
         "y": [
          "Thorns spines"
         ]
        },
        {
         "marker": {
          "color": "#2ca02c",
          "line": {
           "color": "rgb(248, 248, 249)",
           "width": 1
          }
         },
         "orientation": "h",
         "type": "bar",
         "x": [
          40.15
         ],
         "y": [
          "Fruit shape"
         ]
        },
        {
         "marker": {
          "color": "#2ca02c",
          "line": {
           "color": "rgb(248, 248, 249)",
           "width": 1
          }
         },
         "orientation": "h",
         "type": "bar",
         "x": [
          41.25
         ],
         "y": [
          "Leaf rachis"
         ]
        },
        {
         "marker": {
          "color": "#2ca02c",
          "line": {
           "color": "rgb(248, 248, 249)",
           "width": 1
          }
         },
         "orientation": "h",
         "type": "bar",
         "x": [
          43.27
         ],
         "y": [
          "Stamen number"
         ]
        },
        {
         "marker": {
          "color": "#2ca02c",
          "line": {
           "color": "rgb(248, 248, 249)",
           "width": 1
          }
         },
         "orientation": "h",
         "type": "bar",
         "x": [
          43.33
         ],
         "y": [
          "Seed colour"
         ]
        },
        {
         "marker": {
          "color": "#2ca02c",
          "line": {
           "color": "rgb(248, 248, 249)",
           "width": 1
          }
         },
         "orientation": "h",
         "type": "bar",
         "x": [
          48.86
         ],
         "y": [
          "Inflorescence type"
         ]
        },
        {
         "marker": {
          "color": "#2ca02c",
          "line": {
           "color": "rgb(248, 248, 249)",
           "width": 1
          }
         },
         "orientation": "h",
         "type": "bar",
         "x": [
          49.5
         ],
         "y": [
          "Leaf position"
         ]
        },
        {
         "marker": {
          "color": "#2ca02c",
          "line": {
           "color": "rgb(248, 248, 249)",
           "width": 1
          }
         },
         "orientation": "h",
         "type": "bar",
         "x": [
          51.14
         ],
         "y": [
          "Leaf shape"
         ]
        },
        {
         "marker": {
          "color": "#2ca02c",
          "line": {
           "color": "rgb(248, 248, 249)",
           "width": 1
          }
         },
         "orientation": "h",
         "type": "bar",
         "x": [
          52.5
         ],
         "y": [
          "Petals corolla shape"
         ]
        },
        {
         "marker": {
          "color": "#2ca02c",
          "line": {
           "color": "rgb(248, 248, 249)",
           "width": 1
          }
         },
         "orientation": "h",
         "type": "bar",
         "x": [
          54.71
         ],
         "y": [
          "Petals corolla colour"
         ]
        },
        {
         "marker": {
          "color": "#2ca02c",
          "line": {
           "color": "rgb(248, 248, 249)",
           "width": 1
          }
         },
         "orientation": "h",
         "type": "bar",
         "x": [
          55.28
         ],
         "y": [
          "Sepals calyx numer"
         ]
        },
        {
         "marker": {
          "color": "#2ca02c",
          "line": {
           "color": "rgb(248, 248, 249)",
           "width": 1
          }
         },
         "orientation": "h",
         "type": "bar",
         "x": [
          57
         ],
         "y": [
          "Leaf margin"
         ]
        },
        {
         "marker": {
          "color": "#2ca02c",
          "line": {
           "color": "rgb(248, 248, 249)",
           "width": 1
          }
         },
         "orientation": "h",
         "type": "bar",
         "x": [
          60.28
         ],
         "y": [
          "Petals corolla number"
         ]
        },
        {
         "marker": {
          "color": "#2ca02c",
          "line": {
           "color": "rgb(248, 248, 249)",
           "width": 1
          }
         },
         "orientation": "h",
         "type": "bar",
         "x": [
          63.75
         ],
         "y": [
          "Leaf composition"
         ]
        },
        {
         "marker": {
          "color": "#2ca02c",
          "line": {
           "color": "rgb(248, 248, 249)",
           "width": 1
          }
         },
         "orientation": "h",
         "type": "bar",
         "x": [
          67.86
         ],
         "y": [
          "Fruit type"
         ]
        },
        {
         "marker": {
          "color": "#2ca02c",
          "line": {
           "color": "rgb(248, 248, 249)",
           "width": 1
          }
         },
         "orientation": "h",
         "type": "bar",
         "x": [
          86.25
         ],
         "y": [
          "Life form"
         ]
        },
        {
         "marker": {
          "color": "#d62728",
          "line": {
           "color": "rgb(248, 248, 249)",
           "width": 1
          }
         },
         "orientation": "h",
         "type": "bar",
         "x": [
          0
         ],
         "y": [
          "Aril colour"
         ]
        },
        {
         "marker": {
          "color": "#d62728",
          "line": {
           "color": "rgb(248, 248, 249)",
           "width": 1
          }
         },
         "orientation": "h",
         "type": "bar",
         "x": [
          3.44
         ],
         "y": [
          "Leaf upper side"
         ]
        },
        {
         "marker": {
          "color": "#d62728",
          "line": {
           "color": "rgb(248, 248, 249)",
           "width": 1
          }
         },
         "orientation": "h",
         "type": "bar",
         "x": [
          42.5
         ],
         "y": [
          "Sepals calyx shape"
         ]
        },
        {
         "marker": {
          "color": "#d62728",
          "line": {
           "color": "rgb(248, 248, 249)",
           "width": 1
          }
         },
         "orientation": "h",
         "type": "bar",
         "x": [
          6.25
         ],
         "y": [
          "Leaf lower side"
         ]
        },
        {
         "marker": {
          "color": "#d62728",
          "line": {
           "color": "rgb(248, 248, 249)",
           "width": 1
          }
         },
         "orientation": "h",
         "type": "bar",
         "x": [
          7.5
         ],
         "y": [
          "Stipules"
         ]
        },
        {
         "marker": {
          "color": "#d62728",
          "line": {
           "color": "rgb(248, 248, 249)",
           "width": 1
          }
         },
         "orientation": "h",
         "type": "bar",
         "x": [
          6.67
         ],
         "y": [
          "Stamen shape"
         ]
        },
        {
         "marker": {
          "color": "#d62728",
          "line": {
           "color": "rgb(248, 248, 249)",
           "width": 1
          }
         },
         "orientation": "h",
         "type": "bar",
         "x": [
          8.33
         ],
         "y": [
          "Leaf glands"
         ]
        },
        {
         "marker": {
          "color": "#d62728",
          "line": {
           "color": "rgb(248, 248, 249)",
           "width": 1
          }
         },
         "orientation": "h",
         "type": "bar",
         "x": [
          15.12
         ],
         "y": [
          "Fruit colour"
         ]
        },
        {
         "marker": {
          "color": "#d62728",
          "line": {
           "color": "rgb(248, 248, 249)",
           "width": 1
          }
         },
         "orientation": "h",
         "type": "bar",
         "x": [
          4.5
         ],
         "y": [
          "Thorns spines"
         ]
        },
        {
         "marker": {
          "color": "#d62728",
          "line": {
           "color": "rgb(248, 248, 249)",
           "width": 1
          }
         },
         "orientation": "h",
         "type": "bar",
         "x": [
          4.85
         ],
         "y": [
          "Fruit shape"
         ]
        },
        {
         "marker": {
          "color": "#d62728",
          "line": {
           "color": "rgb(248, 248, 249)",
           "width": 1
          }
         },
         "orientation": "h",
         "type": "bar",
         "x": [
          16.25
         ],
         "y": [
          "Leaf rachis"
         ]
        },
        {
         "marker": {
          "color": "#d62728",
          "line": {
           "color": "rgb(248, 248, 249)",
           "width": 1
          }
         },
         "orientation": "h",
         "type": "bar",
         "x": [
          4.23
         ],
         "y": [
          "Stamen number"
         ]
        },
        {
         "marker": {
          "color": "#d62728",
          "line": {
           "color": "rgb(248, 248, 249)",
           "width": 1
          }
         },
         "orientation": "h",
         "type": "bar",
         "x": [
          19.17
         ],
         "y": [
          "Seed colour"
         ]
        },
        {
         "marker": {
          "color": "#d62728",
          "line": {
           "color": "rgb(248, 248, 249)",
           "width": 1
          }
         },
         "orientation": "h",
         "type": "bar",
         "x": [
          8.64
         ],
         "y": [
          "Inflorescence type"
         ]
        },
        {
         "marker": {
          "color": "#d62728",
          "line": {
           "color": "rgb(248, 248, 249)",
           "width": 1
          }
         },
         "orientation": "h",
         "type": "bar",
         "x": [
          13
         ],
         "y": [
          "Leaf position"
         ]
        },
        {
         "marker": {
          "color": "#d62728",
          "line": {
           "color": "rgb(248, 248, 249)",
           "width": 1
          }
         },
         "orientation": "h",
         "type": "bar",
         "x": [
          8.86
         ],
         "y": [
          "Leaf shape"
         ]
        },
        {
         "marker": {
          "color": "#d62728",
          "line": {
           "color": "rgb(248, 248, 249)",
           "width": 1
          }
         },
         "orientation": "h",
         "type": "bar",
         "x": [
          12.5
         ],
         "y": [
          "Petals corolla shape"
         ]
        },
        {
         "marker": {
          "color": "#d62728",
          "line": {
           "color": "rgb(248, 248, 249)",
           "width": 1
          }
         },
         "orientation": "h",
         "type": "bar",
         "x": [
          15.29
         ],
         "y": [
          "Petals corolla colour"
         ]
        },
        {
         "marker": {
          "color": "#d62728",
          "line": {
           "color": "rgb(248, 248, 249)",
           "width": 1
          }
         },
         "orientation": "h",
         "type": "bar",
         "x": [
          7.22
         ],
         "y": [
          "Sepals calyx numer"
         ]
        },
        {
         "marker": {
          "color": "#d62728",
          "line": {
           "color": "rgb(248, 248, 249)",
           "width": 1
          }
         },
         "orientation": "h",
         "type": "bar",
         "x": [
          8
         ],
         "y": [
          "Leaf margin"
         ]
        },
        {
         "marker": {
          "color": "#d62728",
          "line": {
           "color": "rgb(248, 248, 249)",
           "width": 1
          }
         },
         "orientation": "h",
         "type": "bar",
         "x": [
          17.22
         ],
         "y": [
          "Petals corolla number"
         ]
        },
        {
         "marker": {
          "color": "#d62728",
          "line": {
           "color": "rgb(248, 248, 249)",
           "width": 1
          }
         },
         "orientation": "h",
         "type": "bar",
         "x": [
          6.25
         ],
         "y": [
          "Leaf composition"
         ]
        },
        {
         "marker": {
          "color": "#d62728",
          "line": {
           "color": "rgb(248, 248, 249)",
           "width": 1
          }
         },
         "orientation": "h",
         "type": "bar",
         "x": [
          9.64
         ],
         "y": [
          "Fruit type"
         ]
        },
        {
         "marker": {
          "color": "#d62728",
          "line": {
           "color": "rgb(248, 248, 249)",
           "width": 1
          }
         },
         "orientation": "h",
         "type": "bar",
         "x": [
          11.25
         ],
         "y": [
          "Life form"
         ]
        },
        {
         "marker": {
          "color": "#1f77b4",
          "line": {
           "color": "rgb(248, 248, 249)",
           "width": 1
          }
         },
         "orientation": "h",
         "type": "bar",
         "x": [
          100
         ],
         "y": [
          "Aril colour"
         ]
        },
        {
         "marker": {
          "color": "#1f77b4",
          "line": {
           "color": "rgb(248, 248, 249)",
           "width": 1
          }
         },
         "orientation": "h",
         "type": "bar",
         "x": [
          80
         ],
         "y": [
          "Leaf upper side"
         ]
        },
        {
         "marker": {
          "color": "#1f77b4",
          "line": {
           "color": "rgb(248, 248, 249)",
           "width": 1
          }
         },
         "orientation": "h",
         "type": "bar",
         "x": [
          37.5
         ],
         "y": [
          "Sepals calyx shape"
         ]
        },
        {
         "marker": {
          "color": "#1f77b4",
          "line": {
           "color": "rgb(248, 248, 249)",
           "width": 1
          }
         },
         "orientation": "h",
         "type": "bar",
         "x": [
          70
         ],
         "y": [
          "Leaf lower side"
         ]
        },
        {
         "marker": {
          "color": "#1f77b4",
          "line": {
           "color": "rgb(248, 248, 249)",
           "width": 1
          }
         },
         "orientation": "h",
         "type": "bar",
         "x": [
          62.5
         ],
         "y": [
          "Stipules"
         ]
        },
        {
         "marker": {
          "color": "#1f77b4",
          "line": {
           "color": "rgb(248, 248, 249)",
           "width": 1
          }
         },
         "orientation": "h",
         "type": "bar",
         "x": [
          60
         ],
         "y": [
          "Stamen shape"
         ]
        },
        {
         "marker": {
          "color": "#1f77b4",
          "line": {
           "color": "rgb(248, 248, 249)",
           "width": 1
          }
         },
         "orientation": "h",
         "type": "bar",
         "x": [
          57.5
         ],
         "y": [
          "Leaf glands"
         ]
        },
        {
         "marker": {
          "color": "#1f77b4",
          "line": {
           "color": "rgb(248, 248, 249)",
           "width": 1
          }
         },
         "orientation": "h",
         "type": "bar",
         "x": [
          50
         ],
         "y": [
          "Fruit colour"
         ]
        },
        {
         "marker": {
          "color": "#1f77b4",
          "line": {
           "color": "rgb(248, 248, 249)",
           "width": 1
          }
         },
         "orientation": "h",
         "type": "bar",
         "x": [
          57.5
         ],
         "y": [
          "Thorns spines"
         ]
        },
        {
         "marker": {
          "color": "#1f77b4",
          "line": {
           "color": "rgb(248, 248, 249)",
           "width": 1
          }
         },
         "orientation": "h",
         "type": "bar",
         "x": [
          55
         ],
         "y": [
          "Fruit shape"
         ]
        },
        {
         "marker": {
          "color": "#1f77b4",
          "line": {
           "color": "rgb(248, 248, 249)",
           "width": 1
          }
         },
         "orientation": "h",
         "type": "bar",
         "x": [
          42.5
         ],
         "y": [
          "Leaf rachis"
         ]
        },
        {
         "marker": {
          "color": "#1f77b4",
          "line": {
           "color": "rgb(248, 248, 249)",
           "width": 1
          }
         },
         "orientation": "h",
         "type": "bar",
         "x": [
          52.5
         ],
         "y": [
          "Stamen number"
         ]
        },
        {
         "marker": {
          "color": "#1f77b4",
          "line": {
           "color": "rgb(248, 248, 249)",
           "width": 1
          }
         },
         "orientation": "h",
         "type": "bar",
         "x": [
          37.5
         ],
         "y": [
          "Seed colour"
         ]
        },
        {
         "marker": {
          "color": "#1f77b4",
          "line": {
           "color": "rgb(248, 248, 249)",
           "width": 1
          }
         },
         "orientation": "h",
         "type": "bar",
         "x": [
          42.5
         ],
         "y": [
          "Inflorescence type"
         ]
        },
        {
         "marker": {
          "color": "#1f77b4",
          "line": {
           "color": "rgb(248, 248, 249)",
           "width": 1
          }
         },
         "orientation": "h",
         "type": "bar",
         "x": [
          37.5
         ],
         "y": [
          "Leaf position"
         ]
        },
        {
         "marker": {
          "color": "#1f77b4",
          "line": {
           "color": "rgb(248, 248, 249)",
           "width": 1
          }
         },
         "orientation": "h",
         "type": "bar",
         "x": [
          40
         ],
         "y": [
          "Leaf shape"
         ]
        },
        {
         "marker": {
          "color": "#1f77b4",
          "line": {
           "color": "rgb(248, 248, 249)",
           "width": 1
          }
         },
         "orientation": "h",
         "type": "bar",
         "x": [
          35
         ],
         "y": [
          "Petals corolla shape"
         ]
        },
        {
         "marker": {
          "color": "#1f77b4",
          "line": {
           "color": "rgb(248, 248, 249)",
           "width": 1
          }
         },
         "orientation": "h",
         "type": "bar",
         "x": [
          30
         ],
         "y": [
          "Petals corolla colour"
         ]
        },
        {
         "marker": {
          "color": "#1f77b4",
          "line": {
           "color": "rgb(248, 248, 249)",
           "width": 1
          }
         },
         "orientation": "h",
         "type": "bar",
         "x": [
          37.5
         ],
         "y": [
          "Sepals calyx numer"
         ]
        },
        {
         "marker": {
          "color": "#1f77b4",
          "line": {
           "color": "rgb(248, 248, 249)",
           "width": 1
          }
         },
         "orientation": "h",
         "type": "bar",
         "x": [
          35
         ],
         "y": [
          "Leaf margin"
         ]
        },
        {
         "marker": {
          "color": "#1f77b4",
          "line": {
           "color": "rgb(248, 248, 249)",
           "width": 1
          }
         },
         "orientation": "h",
         "type": "bar",
         "x": [
          22.5
         ],
         "y": [
          "Petals corolla number"
         ]
        },
        {
         "marker": {
          "color": "#1f77b4",
          "line": {
           "color": "rgb(248, 248, 249)",
           "width": 1
          }
         },
         "orientation": "h",
         "type": "bar",
         "x": [
          30
         ],
         "y": [
          "Leaf composition"
         ]
        },
        {
         "marker": {
          "color": "#1f77b4",
          "line": {
           "color": "rgb(248, 248, 249)",
           "width": 1
          }
         },
         "orientation": "h",
         "type": "bar",
         "x": [
          22.5
         ],
         "y": [
          "Fruit type"
         ]
        },
        {
         "marker": {
          "color": "#1f77b4",
          "line": {
           "color": "rgb(248, 248, 249)",
           "width": 1
          }
         },
         "orientation": "h",
         "type": "bar",
         "x": [
          2.5
         ],
         "y": [
          "Life form"
         ]
        }
       ],
       "layout": {
        "annotations": [
         {
          "align": "right",
          "font": {
           "color": "rgb(67, 67, 67)",
           "family": "Arial",
           "size": 14
          },
          "showarrow": false,
          "text": "Aril colour",
          "x": 0.14,
          "xanchor": "right",
          "xref": "paper",
          "y": "Aril colour",
          "yref": "y"
         },
         {
          "font": {
           "color": "rgb(248, 248, 255)",
           "family": "Arial",
           "size": 14
          },
          "showarrow": false,
          "text": "",
          "x": 0,
          "xref": "x",
          "y": "Aril colour",
          "yref": "y"
         },
         {
          "font": {
           "color": "rgb(248, 248, 255)",
           "family": "Arial",
           "size": 14
          },
          "showarrow": false,
          "text": "",
          "x": 0,
          "xref": "x",
          "y": "Aril colour",
          "yref": "y"
         },
         {
          "font": {
           "color": "rgb(248, 248, 255)",
           "family": "Arial",
           "size": 14
          },
          "showarrow": false,
          "text": "100.0%",
          "x": 50,
          "xref": "x",
          "y": "Aril colour",
          "yref": "y"
         },
         {
          "align": "right",
          "font": {
           "color": "rgb(67, 67, 67)",
           "family": "Arial",
           "size": 14
          },
          "showarrow": false,
          "text": "Leaf upper side",
          "x": 0.14,
          "xanchor": "right",
          "xref": "paper",
          "y": "Leaf upper side",
          "yref": "y"
         },
         {
          "font": {
           "color": "rgb(248, 248, 255)",
           "family": "Arial",
           "size": 14
          },
          "showarrow": false,
          "text": "16.56%",
          "x": 8.28,
          "xref": "x",
          "y": "Leaf upper side",
          "yref": "y"
         },
         {
          "font": {
           "color": "rgb(248, 248, 255)",
           "family": "Arial",
           "size": 14
          },
          "showarrow": false,
          "text": "",
          "x": 18.279999999999998,
          "xref": "x",
          "y": "Leaf upper side",
          "yref": "y"
         },
         {
          "font": {
           "color": "rgb(248, 248, 255)",
           "family": "Arial",
           "size": 14
          },
          "showarrow": false,
          "text": "80.0%",
          "x": 60,
          "xref": "x",
          "y": "Leaf upper side",
          "yref": "y"
         },
         {
          "align": "right",
          "font": {
           "color": "rgb(67, 67, 67)",
           "family": "Arial",
           "size": 14
          },
          "showarrow": false,
          "text": "Sepals calyx shape",
          "x": 0.14,
          "xanchor": "right",
          "xref": "paper",
          "y": "Sepals calyx shape",
          "yref": "y"
         },
         {
          "font": {
           "color": "rgb(248, 248, 255)",
           "family": "Arial",
           "size": 14
          },
          "showarrow": false,
          "text": "20.0%",
          "x": 10,
          "xref": "x",
          "y": "Sepals calyx shape",
          "yref": "y"
         },
         {
          "font": {
           "color": "rgb(248, 248, 255)",
           "family": "Arial",
           "size": 14
          },
          "showarrow": false,
          "text": "42.5%",
          "x": 41.25,
          "xref": "x",
          "y": "Sepals calyx shape",
          "yref": "y"
         },
         {
          "font": {
           "color": "rgb(248, 248, 255)",
           "family": "Arial",
           "size": 14
          },
          "showarrow": false,
          "text": "37.5%",
          "x": 81.25,
          "xref": "x",
          "y": "Sepals calyx shape",
          "yref": "y"
         },
         {
          "align": "right",
          "font": {
           "color": "rgb(67, 67, 67)",
           "family": "Arial",
           "size": 14
          },
          "showarrow": false,
          "text": "Leaf lower side",
          "x": 0.14,
          "xanchor": "right",
          "xref": "paper",
          "y": "Leaf lower side",
          "yref": "y"
         },
         {
          "font": {
           "color": "rgb(248, 248, 255)",
           "family": "Arial",
           "size": 14
          },
          "showarrow": false,
          "text": "23.75%",
          "x": 11.875,
          "xref": "x",
          "y": "Leaf lower side",
          "yref": "y"
         },
         {
          "font": {
           "color": "rgb(248, 248, 255)",
           "family": "Arial",
           "size": 14
          },
          "showarrow": false,
          "text": "6.25%",
          "x": 26.875,
          "xref": "x",
          "y": "Leaf lower side",
          "yref": "y"
         },
         {
          "font": {
           "color": "rgb(248, 248, 255)",
           "family": "Arial",
           "size": 14
          },
          "showarrow": false,
          "text": "70.0%",
          "x": 65,
          "xref": "x",
          "y": "Leaf lower side",
          "yref": "y"
         },
         {
          "align": "right",
          "font": {
           "color": "rgb(67, 67, 67)",
           "family": "Arial",
           "size": 14
          },
          "showarrow": false,
          "text": "Stipules",
          "x": 0.14,
          "xanchor": "right",
          "xref": "paper",
          "y": "Stipules",
          "yref": "y"
         },
         {
          "font": {
           "color": "rgb(248, 248, 255)",
           "family": "Arial",
           "size": 14
          },
          "showarrow": false,
          "text": "30.0%",
          "x": 15,
          "xref": "x",
          "y": "Stipules",
          "yref": "y"
         },
         {
          "font": {
           "color": "rgb(248, 248, 255)",
           "family": "Arial",
           "size": 14
          },
          "showarrow": false,
          "text": "7.5%",
          "x": 33.75,
          "xref": "x",
          "y": "Stipules",
          "yref": "y"
         },
         {
          "font": {
           "color": "rgb(248, 248, 255)",
           "family": "Arial",
           "size": 14
          },
          "showarrow": false,
          "text": "62.5%",
          "x": 68.75,
          "xref": "x",
          "y": "Stipules",
          "yref": "y"
         },
         {
          "align": "right",
          "font": {
           "color": "rgb(67, 67, 67)",
           "family": "Arial",
           "size": 14
          },
          "showarrow": false,
          "text": "Stamen shape",
          "x": 0.14,
          "xanchor": "right",
          "xref": "paper",
          "y": "Stamen shape",
          "yref": "y"
         },
         {
          "font": {
           "color": "rgb(248, 248, 255)",
           "family": "Arial",
           "size": 14
          },
          "showarrow": false,
          "text": "33.33%",
          "x": 16.665,
          "xref": "x",
          "y": "Stamen shape",
          "yref": "y"
         },
         {
          "font": {
           "color": "rgb(248, 248, 255)",
           "family": "Arial",
           "size": 14
          },
          "showarrow": false,
          "text": "6.67%",
          "x": 36.665,
          "xref": "x",
          "y": "Stamen shape",
          "yref": "y"
         },
         {
          "font": {
           "color": "rgb(248, 248, 255)",
           "family": "Arial",
           "size": 14
          },
          "showarrow": false,
          "text": "60.0%",
          "x": 70,
          "xref": "x",
          "y": "Stamen shape",
          "yref": "y"
         },
         {
          "align": "right",
          "font": {
           "color": "rgb(67, 67, 67)",
           "family": "Arial",
           "size": 14
          },
          "showarrow": false,
          "text": "Leaf glands",
          "x": 0.14,
          "xanchor": "right",
          "xref": "paper",
          "y": "Leaf glands",
          "yref": "y"
         },
         {
          "font": {
           "color": "rgb(248, 248, 255)",
           "family": "Arial",
           "size": 14
          },
          "showarrow": false,
          "text": "34.17%",
          "x": 17.085,
          "xref": "x",
          "y": "Leaf glands",
          "yref": "y"
         },
         {
          "font": {
           "color": "rgb(248, 248, 255)",
           "family": "Arial",
           "size": 14
          },
          "showarrow": false,
          "text": "8.33%",
          "x": 38.335,
          "xref": "x",
          "y": "Leaf glands",
          "yref": "y"
         },
         {
          "font": {
           "color": "rgb(248, 248, 255)",
           "family": "Arial",
           "size": 14
          },
          "showarrow": false,
          "text": "57.5%",
          "x": 71.25,
          "xref": "x",
          "y": "Leaf glands",
          "yref": "y"
         },
         {
          "align": "right",
          "font": {
           "color": "rgb(67, 67, 67)",
           "family": "Arial",
           "size": 14
          },
          "showarrow": false,
          "text": "Fruit colour",
          "x": 0.14,
          "xanchor": "right",
          "xref": "paper",
          "y": "Fruit colour",
          "yref": "y"
         },
         {
          "font": {
           "color": "rgb(248, 248, 255)",
           "family": "Arial",
           "size": 14
          },
          "showarrow": false,
          "text": "34.88%",
          "x": 17.44,
          "xref": "x",
          "y": "Fruit colour",
          "yref": "y"
         },
         {
          "font": {
           "color": "rgb(248, 248, 255)",
           "family": "Arial",
           "size": 14
          },
          "showarrow": false,
          "text": "15.12%",
          "x": 42.440000000000005,
          "xref": "x",
          "y": "Fruit colour",
          "yref": "y"
         },
         {
          "font": {
           "color": "rgb(248, 248, 255)",
           "family": "Arial",
           "size": 14
          },
          "showarrow": false,
          "text": "50.0%",
          "x": 75,
          "xref": "x",
          "y": "Fruit colour",
          "yref": "y"
         },
         {
          "align": "right",
          "font": {
           "color": "rgb(67, 67, 67)",
           "family": "Arial",
           "size": 14
          },
          "showarrow": false,
          "text": "Thorns spines",
          "x": 0.14,
          "xanchor": "right",
          "xref": "paper",
          "y": "Thorns spines",
          "yref": "y"
         },
         {
          "font": {
           "color": "rgb(248, 248, 255)",
           "family": "Arial",
           "size": 14
          },
          "showarrow": false,
          "text": "38.0%",
          "x": 19,
          "xref": "x",
          "y": "Thorns spines",
          "yref": "y"
         },
         {
          "font": {
           "color": "rgb(248, 248, 255)",
           "family": "Arial",
           "size": 14
          },
          "showarrow": false,
          "text": "",
          "x": 40.25,
          "xref": "x",
          "y": "Thorns spines",
          "yref": "y"
         },
         {
          "font": {
           "color": "rgb(248, 248, 255)",
           "family": "Arial",
           "size": 14
          },
          "showarrow": false,
          "text": "57.5%",
          "x": 71.25,
          "xref": "x",
          "y": "Thorns spines",
          "yref": "y"
         },
         {
          "align": "right",
          "font": {
           "color": "rgb(67, 67, 67)",
           "family": "Arial",
           "size": 14
          },
          "showarrow": false,
          "text": "Fruit shape",
          "x": 0.14,
          "xanchor": "right",
          "xref": "paper",
          "y": "Fruit shape",
          "yref": "y"
         },
         {
          "font": {
           "color": "rgb(248, 248, 255)",
           "family": "Arial",
           "size": 14
          },
          "showarrow": false,
          "text": "40.15%",
          "x": 20.075,
          "xref": "x",
          "y": "Fruit shape",
          "yref": "y"
         },
         {
          "font": {
           "color": "rgb(248, 248, 255)",
           "family": "Arial",
           "size": 14
          },
          "showarrow": false,
          "text": "",
          "x": 42.574999999999996,
          "xref": "x",
          "y": "Fruit shape",
          "yref": "y"
         },
         {
          "font": {
           "color": "rgb(248, 248, 255)",
           "family": "Arial",
           "size": 14
          },
          "showarrow": false,
          "text": "55.0%",
          "x": 72.5,
          "xref": "x",
          "y": "Fruit shape",
          "yref": "y"
         },
         {
          "align": "right",
          "font": {
           "color": "rgb(67, 67, 67)",
           "family": "Arial",
           "size": 14
          },
          "showarrow": false,
          "text": "Leaf rachis",
          "x": 0.14,
          "xanchor": "right",
          "xref": "paper",
          "y": "Leaf rachis",
          "yref": "y"
         },
         {
          "font": {
           "color": "rgb(248, 248, 255)",
           "family": "Arial",
           "size": 14
          },
          "showarrow": false,
          "text": "41.25%",
          "x": 20.625,
          "xref": "x",
          "y": "Leaf rachis",
          "yref": "y"
         },
         {
          "font": {
           "color": "rgb(248, 248, 255)",
           "family": "Arial",
           "size": 14
          },
          "showarrow": false,
          "text": "16.25%",
          "x": 49.375,
          "xref": "x",
          "y": "Leaf rachis",
          "yref": "y"
         },
         {
          "font": {
           "color": "rgb(248, 248, 255)",
           "family": "Arial",
           "size": 14
          },
          "showarrow": false,
          "text": "42.5%",
          "x": 78.75,
          "xref": "x",
          "y": "Leaf rachis",
          "yref": "y"
         },
         {
          "align": "right",
          "font": {
           "color": "rgb(67, 67, 67)",
           "family": "Arial",
           "size": 14
          },
          "showarrow": false,
          "text": "Stamen number",
          "x": 0.14,
          "xanchor": "right",
          "xref": "paper",
          "y": "Stamen number",
          "yref": "y"
         },
         {
          "font": {
           "color": "rgb(248, 248, 255)",
           "family": "Arial",
           "size": 14
          },
          "showarrow": false,
          "text": "43.27%",
          "x": 21.635,
          "xref": "x",
          "y": "Stamen number",
          "yref": "y"
         },
         {
          "font": {
           "color": "rgb(248, 248, 255)",
           "family": "Arial",
           "size": 14
          },
          "showarrow": false,
          "text": "",
          "x": 45.385000000000005,
          "xref": "x",
          "y": "Stamen number",
          "yref": "y"
         },
         {
          "font": {
           "color": "rgb(248, 248, 255)",
           "family": "Arial",
           "size": 14
          },
          "showarrow": false,
          "text": "52.5%",
          "x": 73.75,
          "xref": "x",
          "y": "Stamen number",
          "yref": "y"
         },
         {
          "align": "right",
          "font": {
           "color": "rgb(67, 67, 67)",
           "family": "Arial",
           "size": 14
          },
          "showarrow": false,
          "text": "Seed colour",
          "x": 0.14,
          "xanchor": "right",
          "xref": "paper",
          "y": "Seed colour",
          "yref": "y"
         },
         {
          "font": {
           "color": "rgb(248, 248, 255)",
           "family": "Arial",
           "size": 14
          },
          "showarrow": false,
          "text": "43.33%",
          "x": 21.665,
          "xref": "x",
          "y": "Seed colour",
          "yref": "y"
         },
         {
          "font": {
           "color": "rgb(248, 248, 255)",
           "family": "Arial",
           "size": 14
          },
          "showarrow": false,
          "text": "19.17%",
          "x": 52.915,
          "xref": "x",
          "y": "Seed colour",
          "yref": "y"
         },
         {
          "font": {
           "color": "rgb(248, 248, 255)",
           "family": "Arial",
           "size": 14
          },
          "showarrow": false,
          "text": "37.5%",
          "x": 81.25,
          "xref": "x",
          "y": "Seed colour",
          "yref": "y"
         },
         {
          "align": "right",
          "font": {
           "color": "rgb(67, 67, 67)",
           "family": "Arial",
           "size": 14
          },
          "showarrow": false,
          "text": "Inflorescence type",
          "x": 0.14,
          "xanchor": "right",
          "xref": "paper",
          "y": "Inflorescence type",
          "yref": "y"
         },
         {
          "font": {
           "color": "rgb(248, 248, 255)",
           "family": "Arial",
           "size": 14
          },
          "showarrow": false,
          "text": "48.86%",
          "x": 24.43,
          "xref": "x",
          "y": "Inflorescence type",
          "yref": "y"
         },
         {
          "font": {
           "color": "rgb(248, 248, 255)",
           "family": "Arial",
           "size": 14
          },
          "showarrow": false,
          "text": "8.64%",
          "x": 53.18,
          "xref": "x",
          "y": "Inflorescence type",
          "yref": "y"
         },
         {
          "font": {
           "color": "rgb(248, 248, 255)",
           "family": "Arial",
           "size": 14
          },
          "showarrow": false,
          "text": "42.5%",
          "x": 78.75,
          "xref": "x",
          "y": "Inflorescence type",
          "yref": "y"
         },
         {
          "align": "right",
          "font": {
           "color": "rgb(67, 67, 67)",
           "family": "Arial",
           "size": 14
          },
          "showarrow": false,
          "text": "Leaf position",
          "x": 0.14,
          "xanchor": "right",
          "xref": "paper",
          "y": "Leaf position",
          "yref": "y"
         },
         {
          "font": {
           "color": "rgb(248, 248, 255)",
           "family": "Arial",
           "size": 14
          },
          "showarrow": false,
          "text": "49.5%",
          "x": 24.75,
          "xref": "x",
          "y": "Leaf position",
          "yref": "y"
         },
         {
          "font": {
           "color": "rgb(248, 248, 255)",
           "family": "Arial",
           "size": 14
          },
          "showarrow": false,
          "text": "13.0%",
          "x": 56,
          "xref": "x",
          "y": "Leaf position",
          "yref": "y"
         },
         {
          "font": {
           "color": "rgb(248, 248, 255)",
           "family": "Arial",
           "size": 14
          },
          "showarrow": false,
          "text": "37.5%",
          "x": 81.25,
          "xref": "x",
          "y": "Leaf position",
          "yref": "y"
         },
         {
          "align": "right",
          "font": {
           "color": "rgb(67, 67, 67)",
           "family": "Arial",
           "size": 14
          },
          "showarrow": false,
          "text": "Leaf shape",
          "x": 0.14,
          "xanchor": "right",
          "xref": "paper",
          "y": "Leaf shape",
          "yref": "y"
         },
         {
          "font": {
           "color": "rgb(248, 248, 255)",
           "family": "Arial",
           "size": 14
          },
          "showarrow": false,
          "text": "51.14%",
          "x": 25.57,
          "xref": "x",
          "y": "Leaf shape",
          "yref": "y"
         },
         {
          "font": {
           "color": "rgb(248, 248, 255)",
           "family": "Arial",
           "size": 14
          },
          "showarrow": false,
          "text": "8.86%",
          "x": 55.57,
          "xref": "x",
          "y": "Leaf shape",
          "yref": "y"
         },
         {
          "font": {
           "color": "rgb(248, 248, 255)",
           "family": "Arial",
           "size": 14
          },
          "showarrow": false,
          "text": "40.0%",
          "x": 80,
          "xref": "x",
          "y": "Leaf shape",
          "yref": "y"
         },
         {
          "align": "right",
          "font": {
           "color": "rgb(67, 67, 67)",
           "family": "Arial",
           "size": 14
          },
          "showarrow": false,
          "text": "Petals corolla shape",
          "x": 0.14,
          "xanchor": "right",
          "xref": "paper",
          "y": "Petals corolla shape",
          "yref": "y"
         },
         {
          "font": {
           "color": "rgb(248, 248, 255)",
           "family": "Arial",
           "size": 14
          },
          "showarrow": false,
          "text": "52.5%",
          "x": 26.25,
          "xref": "x",
          "y": "Petals corolla shape",
          "yref": "y"
         },
         {
          "font": {
           "color": "rgb(248, 248, 255)",
           "family": "Arial",
           "size": 14
          },
          "showarrow": false,
          "text": "12.5%",
          "x": 58.75,
          "xref": "x",
          "y": "Petals corolla shape",
          "yref": "y"
         },
         {
          "font": {
           "color": "rgb(248, 248, 255)",
           "family": "Arial",
           "size": 14
          },
          "showarrow": false,
          "text": "35.0%",
          "x": 82.5,
          "xref": "x",
          "y": "Petals corolla shape",
          "yref": "y"
         },
         {
          "align": "right",
          "font": {
           "color": "rgb(67, 67, 67)",
           "family": "Arial",
           "size": 14
          },
          "showarrow": false,
          "text": "Petals corolla colour",
          "x": 0.14,
          "xanchor": "right",
          "xref": "paper",
          "y": "Petals corolla colour",
          "yref": "y"
         },
         {
          "font": {
           "color": "rgb(248, 248, 255)",
           "family": "Arial",
           "size": 14
          },
          "showarrow": false,
          "text": "54.71%",
          "x": 27.355,
          "xref": "x",
          "y": "Petals corolla colour",
          "yref": "y"
         },
         {
          "font": {
           "color": "rgb(248, 248, 255)",
           "family": "Arial",
           "size": 14
          },
          "showarrow": false,
          "text": "15.29%",
          "x": 62.355000000000004,
          "xref": "x",
          "y": "Petals corolla colour",
          "yref": "y"
         },
         {
          "font": {
           "color": "rgb(248, 248, 255)",
           "family": "Arial",
           "size": 14
          },
          "showarrow": false,
          "text": "30.0%",
          "x": 85,
          "xref": "x",
          "y": "Petals corolla colour",
          "yref": "y"
         },
         {
          "align": "right",
          "font": {
           "color": "rgb(67, 67, 67)",
           "family": "Arial",
           "size": 14
          },
          "showarrow": false,
          "text": "Sepals calyx numer",
          "x": 0.14,
          "xanchor": "right",
          "xref": "paper",
          "y": "Sepals calyx numer",
          "yref": "y"
         },
         {
          "font": {
           "color": "rgb(248, 248, 255)",
           "family": "Arial",
           "size": 14
          },
          "showarrow": false,
          "text": "55.28%",
          "x": 27.64,
          "xref": "x",
          "y": "Sepals calyx numer",
          "yref": "y"
         },
         {
          "font": {
           "color": "rgb(248, 248, 255)",
           "family": "Arial",
           "size": 14
          },
          "showarrow": false,
          "text": "7.22%",
          "x": 58.89,
          "xref": "x",
          "y": "Sepals calyx numer",
          "yref": "y"
         },
         {
          "font": {
           "color": "rgb(248, 248, 255)",
           "family": "Arial",
           "size": 14
          },
          "showarrow": false,
          "text": "37.5%",
          "x": 81.25,
          "xref": "x",
          "y": "Sepals calyx numer",
          "yref": "y"
         },
         {
          "align": "right",
          "font": {
           "color": "rgb(67, 67, 67)",
           "family": "Arial",
           "size": 14
          },
          "showarrow": false,
          "text": "Leaf margin",
          "x": 0.14,
          "xanchor": "right",
          "xref": "paper",
          "y": "Leaf margin",
          "yref": "y"
         },
         {
          "font": {
           "color": "rgb(248, 248, 255)",
           "family": "Arial",
           "size": 14
          },
          "showarrow": false,
          "text": "57.0%",
          "x": 28.5,
          "xref": "x",
          "y": "Leaf margin",
          "yref": "y"
         },
         {
          "font": {
           "color": "rgb(248, 248, 255)",
           "family": "Arial",
           "size": 14
          },
          "showarrow": false,
          "text": "8.0%",
          "x": 61,
          "xref": "x",
          "y": "Leaf margin",
          "yref": "y"
         },
         {
          "font": {
           "color": "rgb(248, 248, 255)",
           "family": "Arial",
           "size": 14
          },
          "showarrow": false,
          "text": "35.0%",
          "x": 82.5,
          "xref": "x",
          "y": "Leaf margin",
          "yref": "y"
         },
         {
          "align": "right",
          "font": {
           "color": "rgb(67, 67, 67)",
           "family": "Arial",
           "size": 14
          },
          "showarrow": false,
          "text": "Petals corolla number",
          "x": 0.14,
          "xanchor": "right",
          "xref": "paper",
          "y": "Petals corolla number",
          "yref": "y"
         },
         {
          "font": {
           "color": "rgb(248, 248, 255)",
           "family": "Arial",
           "size": 14
          },
          "showarrow": false,
          "text": "60.28%",
          "x": 30.14,
          "xref": "x",
          "y": "Petals corolla number",
          "yref": "y"
         },
         {
          "font": {
           "color": "rgb(248, 248, 255)",
           "family": "Arial",
           "size": 14
          },
          "showarrow": false,
          "text": "17.22%",
          "x": 68.89,
          "xref": "x",
          "y": "Petals corolla number",
          "yref": "y"
         },
         {
          "font": {
           "color": "rgb(248, 248, 255)",
           "family": "Arial",
           "size": 14
          },
          "showarrow": false,
          "text": "22.5%",
          "x": 88.75,
          "xref": "x",
          "y": "Petals corolla number",
          "yref": "y"
         },
         {
          "align": "right",
          "font": {
           "color": "rgb(67, 67, 67)",
           "family": "Arial",
           "size": 14
          },
          "showarrow": false,
          "text": "Leaf composition",
          "x": 0.14,
          "xanchor": "right",
          "xref": "paper",
          "y": "Leaf composition",
          "yref": "y"
         },
         {
          "font": {
           "color": "rgb(248, 248, 255)",
           "family": "Arial",
           "size": 14
          },
          "showarrow": false,
          "text": "63.75%",
          "x": 31.875,
          "xref": "x",
          "y": "Leaf composition",
          "yref": "y"
         },
         {
          "font": {
           "color": "rgb(248, 248, 255)",
           "family": "Arial",
           "size": 14
          },
          "showarrow": false,
          "text": "6.25%",
          "x": 66.875,
          "xref": "x",
          "y": "Leaf composition",
          "yref": "y"
         },
         {
          "font": {
           "color": "rgb(248, 248, 255)",
           "family": "Arial",
           "size": 14
          },
          "showarrow": false,
          "text": "30.0%",
          "x": 85,
          "xref": "x",
          "y": "Leaf composition",
          "yref": "y"
         },
         {
          "align": "right",
          "font": {
           "color": "rgb(67, 67, 67)",
           "family": "Arial",
           "size": 14
          },
          "showarrow": false,
          "text": "Fruit type",
          "x": 0.14,
          "xanchor": "right",
          "xref": "paper",
          "y": "Fruit type",
          "yref": "y"
         },
         {
          "font": {
           "color": "rgb(248, 248, 255)",
           "family": "Arial",
           "size": 14
          },
          "showarrow": false,
          "text": "67.86%",
          "x": 33.93,
          "xref": "x",
          "y": "Fruit type",
          "yref": "y"
         },
         {
          "font": {
           "color": "rgb(248, 248, 255)",
           "family": "Arial",
           "size": 14
          },
          "showarrow": false,
          "text": "9.64%",
          "x": 72.68,
          "xref": "x",
          "y": "Fruit type",
          "yref": "y"
         },
         {
          "font": {
           "color": "rgb(248, 248, 255)",
           "family": "Arial",
           "size": 14
          },
          "showarrow": false,
          "text": "22.5%",
          "x": 88.75,
          "xref": "x",
          "y": "Fruit type",
          "yref": "y"
         },
         {
          "align": "right",
          "font": {
           "color": "rgb(67, 67, 67)",
           "family": "Arial",
           "size": 14
          },
          "showarrow": false,
          "text": "Life form",
          "x": 0.14,
          "xanchor": "right",
          "xref": "paper",
          "y": "Life form",
          "yref": "y"
         },
         {
          "font": {
           "color": "rgb(248, 248, 255)",
           "family": "Arial",
           "size": 14
          },
          "showarrow": false,
          "text": "86.25%",
          "x": 43.125,
          "xref": "x",
          "y": "Life form",
          "yref": "y"
         },
         {
          "font": {
           "color": "rgb(248, 248, 255)",
           "family": "Arial",
           "size": 14
          },
          "showarrow": false,
          "text": "11.25%",
          "x": 91.875,
          "xref": "x",
          "y": "Life form",
          "yref": "y"
         },
         {
          "font": {
           "color": "rgb(248, 248, 255)",
           "family": "Arial",
           "size": 14
          },
          "showarrow": false,
          "text": "",
          "x": 98.75,
          "xref": "x",
          "y": "Life form",
          "yref": "y"
         },
         {
          "font": {
           "color": "#2ca02c",
           "family": "Arial",
           "size": 18
          },
          "showarrow": false,
          "text": "<b>Correct<b>",
          "x": 0.225,
          "xref": "paper",
          "y": 1.081,
          "yref": "paper"
         },
         {
          "font": {
           "color": "#d62728",
           "family": "Arial",
           "size": 18
          },
          "showarrow": false,
          "text": "<b>Incorrect<b>",
          "x": 0.5583333333333333,
          "xref": "paper",
          "y": 1.081,
          "yref": "paper"
         },
         {
          "font": {
           "color": "#1f77b4",
           "family": "Arial",
           "size": 18
          },
          "showarrow": false,
          "text": "<b>No Information<b>",
          "x": 0.8916666666666666,
          "xref": "paper",
          "y": 1.081,
          "yref": "paper"
         }
        ],
        "bargap": 0.1,
        "barmode": "stack",
        "height": 800,
        "margin": {
         "b": 80,
         "l": 120,
         "r": 10,
         "t": 140
        },
        "paper_bgcolor": "rgb(248, 248, 255)",
        "plot_bgcolor": "rgb(248, 248, 255)",
        "showlegend": false,
        "template": {
         "data": {
          "bar": [
           {
            "error_x": {
             "color": "#2a3f5f"
            },
            "error_y": {
             "color": "#2a3f5f"
            },
            "marker": {
             "line": {
              "color": "#E5ECF6",
              "width": 0.5
             },
             "pattern": {
              "fillmode": "overlay",
              "size": 10,
              "solidity": 0.2
             }
            },
            "type": "bar"
           }
          ],
          "barpolar": [
           {
            "marker": {
             "line": {
              "color": "#E5ECF6",
              "width": 0.5
             },
             "pattern": {
              "fillmode": "overlay",
              "size": 10,
              "solidity": 0.2
             }
            },
            "type": "barpolar"
           }
          ],
          "carpet": [
           {
            "aaxis": {
             "endlinecolor": "#2a3f5f",
             "gridcolor": "white",
             "linecolor": "white",
             "minorgridcolor": "white",
             "startlinecolor": "#2a3f5f"
            },
            "baxis": {
             "endlinecolor": "#2a3f5f",
             "gridcolor": "white",
             "linecolor": "white",
             "minorgridcolor": "white",
             "startlinecolor": "#2a3f5f"
            },
            "type": "carpet"
           }
          ],
          "choropleth": [
           {
            "colorbar": {
             "outlinewidth": 0,
             "ticks": ""
            },
            "type": "choropleth"
           }
          ],
          "contour": [
           {
            "colorbar": {
             "outlinewidth": 0,
             "ticks": ""
            },
            "colorscale": [
             [
              0,
              "#0d0887"
             ],
             [
              0.1111111111111111,
              "#46039f"
             ],
             [
              0.2222222222222222,
              "#7201a8"
             ],
             [
              0.3333333333333333,
              "#9c179e"
             ],
             [
              0.4444444444444444,
              "#bd3786"
             ],
             [
              0.5555555555555556,
              "#d8576b"
             ],
             [
              0.6666666666666666,
              "#ed7953"
             ],
             [
              0.7777777777777778,
              "#fb9f3a"
             ],
             [
              0.8888888888888888,
              "#fdca26"
             ],
             [
              1,
              "#f0f921"
             ]
            ],
            "type": "contour"
           }
          ],
          "contourcarpet": [
           {
            "colorbar": {
             "outlinewidth": 0,
             "ticks": ""
            },
            "type": "contourcarpet"
           }
          ],
          "heatmap": [
           {
            "colorbar": {
             "outlinewidth": 0,
             "ticks": ""
            },
            "colorscale": [
             [
              0,
              "#0d0887"
             ],
             [
              0.1111111111111111,
              "#46039f"
             ],
             [
              0.2222222222222222,
              "#7201a8"
             ],
             [
              0.3333333333333333,
              "#9c179e"
             ],
             [
              0.4444444444444444,
              "#bd3786"
             ],
             [
              0.5555555555555556,
              "#d8576b"
             ],
             [
              0.6666666666666666,
              "#ed7953"
             ],
             [
              0.7777777777777778,
              "#fb9f3a"
             ],
             [
              0.8888888888888888,
              "#fdca26"
             ],
             [
              1,
              "#f0f921"
             ]
            ],
            "type": "heatmap"
           }
          ],
          "heatmapgl": [
           {
            "colorbar": {
             "outlinewidth": 0,
             "ticks": ""
            },
            "colorscale": [
             [
              0,
              "#0d0887"
             ],
             [
              0.1111111111111111,
              "#46039f"
             ],
             [
              0.2222222222222222,
              "#7201a8"
             ],
             [
              0.3333333333333333,
              "#9c179e"
             ],
             [
              0.4444444444444444,
              "#bd3786"
             ],
             [
              0.5555555555555556,
              "#d8576b"
             ],
             [
              0.6666666666666666,
              "#ed7953"
             ],
             [
              0.7777777777777778,
              "#fb9f3a"
             ],
             [
              0.8888888888888888,
              "#fdca26"
             ],
             [
              1,
              "#f0f921"
             ]
            ],
            "type": "heatmapgl"
           }
          ],
          "histogram": [
           {
            "marker": {
             "pattern": {
              "fillmode": "overlay",
              "size": 10,
              "solidity": 0.2
             }
            },
            "type": "histogram"
           }
          ],
          "histogram2d": [
           {
            "colorbar": {
             "outlinewidth": 0,
             "ticks": ""
            },
            "colorscale": [
             [
              0,
              "#0d0887"
             ],
             [
              0.1111111111111111,
              "#46039f"
             ],
             [
              0.2222222222222222,
              "#7201a8"
             ],
             [
              0.3333333333333333,
              "#9c179e"
             ],
             [
              0.4444444444444444,
              "#bd3786"
             ],
             [
              0.5555555555555556,
              "#d8576b"
             ],
             [
              0.6666666666666666,
              "#ed7953"
             ],
             [
              0.7777777777777778,
              "#fb9f3a"
             ],
             [
              0.8888888888888888,
              "#fdca26"
             ],
             [
              1,
              "#f0f921"
             ]
            ],
            "type": "histogram2d"
           }
          ],
          "histogram2dcontour": [
           {
            "colorbar": {
             "outlinewidth": 0,
             "ticks": ""
            },
            "colorscale": [
             [
              0,
              "#0d0887"
             ],
             [
              0.1111111111111111,
              "#46039f"
             ],
             [
              0.2222222222222222,
              "#7201a8"
             ],
             [
              0.3333333333333333,
              "#9c179e"
             ],
             [
              0.4444444444444444,
              "#bd3786"
             ],
             [
              0.5555555555555556,
              "#d8576b"
             ],
             [
              0.6666666666666666,
              "#ed7953"
             ],
             [
              0.7777777777777778,
              "#fb9f3a"
             ],
             [
              0.8888888888888888,
              "#fdca26"
             ],
             [
              1,
              "#f0f921"
             ]
            ],
            "type": "histogram2dcontour"
           }
          ],
          "mesh3d": [
           {
            "colorbar": {
             "outlinewidth": 0,
             "ticks": ""
            },
            "type": "mesh3d"
           }
          ],
          "parcoords": [
           {
            "line": {
             "colorbar": {
              "outlinewidth": 0,
              "ticks": ""
             }
            },
            "type": "parcoords"
           }
          ],
          "pie": [
           {
            "automargin": true,
            "type": "pie"
           }
          ],
          "scatter": [
           {
            "fillpattern": {
             "fillmode": "overlay",
             "size": 10,
             "solidity": 0.2
            },
            "type": "scatter"
           }
          ],
          "scatter3d": [
           {
            "line": {
             "colorbar": {
              "outlinewidth": 0,
              "ticks": ""
             }
            },
            "marker": {
             "colorbar": {
              "outlinewidth": 0,
              "ticks": ""
             }
            },
            "type": "scatter3d"
           }
          ],
          "scattercarpet": [
           {
            "marker": {
             "colorbar": {
              "outlinewidth": 0,
              "ticks": ""
             }
            },
            "type": "scattercarpet"
           }
          ],
          "scattergeo": [
           {
            "marker": {
             "colorbar": {
              "outlinewidth": 0,
              "ticks": ""
             }
            },
            "type": "scattergeo"
           }
          ],
          "scattergl": [
           {
            "marker": {
             "colorbar": {
              "outlinewidth": 0,
              "ticks": ""
             }
            },
            "type": "scattergl"
           }
          ],
          "scattermapbox": [
           {
            "marker": {
             "colorbar": {
              "outlinewidth": 0,
              "ticks": ""
             }
            },
            "type": "scattermapbox"
           }
          ],
          "scatterpolar": [
           {
            "marker": {
             "colorbar": {
              "outlinewidth": 0,
              "ticks": ""
             }
            },
            "type": "scatterpolar"
           }
          ],
          "scatterpolargl": [
           {
            "marker": {
             "colorbar": {
              "outlinewidth": 0,
              "ticks": ""
             }
            },
            "type": "scatterpolargl"
           }
          ],
          "scatterternary": [
           {
            "marker": {
             "colorbar": {
              "outlinewidth": 0,
              "ticks": ""
             }
            },
            "type": "scatterternary"
           }
          ],
          "surface": [
           {
            "colorbar": {
             "outlinewidth": 0,
             "ticks": ""
            },
            "colorscale": [
             [
              0,
              "#0d0887"
             ],
             [
              0.1111111111111111,
              "#46039f"
             ],
             [
              0.2222222222222222,
              "#7201a8"
             ],
             [
              0.3333333333333333,
              "#9c179e"
             ],
             [
              0.4444444444444444,
              "#bd3786"
             ],
             [
              0.5555555555555556,
              "#d8576b"
             ],
             [
              0.6666666666666666,
              "#ed7953"
             ],
             [
              0.7777777777777778,
              "#fb9f3a"
             ],
             [
              0.8888888888888888,
              "#fdca26"
             ],
             [
              1,
              "#f0f921"
             ]
            ],
            "type": "surface"
           }
          ],
          "table": [
           {
            "cells": {
             "fill": {
              "color": "#EBF0F8"
             },
             "line": {
              "color": "white"
             }
            },
            "header": {
             "fill": {
              "color": "#C8D4E3"
             },
             "line": {
              "color": "white"
             }
            },
            "type": "table"
           }
          ]
         },
         "layout": {
          "annotationdefaults": {
           "arrowcolor": "#2a3f5f",
           "arrowhead": 0,
           "arrowwidth": 1
          },
          "autotypenumbers": "strict",
          "coloraxis": {
           "colorbar": {
            "outlinewidth": 0,
            "ticks": ""
           }
          },
          "colorscale": {
           "diverging": [
            [
             0,
             "#8e0152"
            ],
            [
             0.1,
             "#c51b7d"
            ],
            [
             0.2,
             "#de77ae"
            ],
            [
             0.3,
             "#f1b6da"
            ],
            [
             0.4,
             "#fde0ef"
            ],
            [
             0.5,
             "#f7f7f7"
            ],
            [
             0.6,
             "#e6f5d0"
            ],
            [
             0.7,
             "#b8e186"
            ],
            [
             0.8,
             "#7fbc41"
            ],
            [
             0.9,
             "#4d9221"
            ],
            [
             1,
             "#276419"
            ]
           ],
           "sequential": [
            [
             0,
             "#0d0887"
            ],
            [
             0.1111111111111111,
             "#46039f"
            ],
            [
             0.2222222222222222,
             "#7201a8"
            ],
            [
             0.3333333333333333,
             "#9c179e"
            ],
            [
             0.4444444444444444,
             "#bd3786"
            ],
            [
             0.5555555555555556,
             "#d8576b"
            ],
            [
             0.6666666666666666,
             "#ed7953"
            ],
            [
             0.7777777777777778,
             "#fb9f3a"
            ],
            [
             0.8888888888888888,
             "#fdca26"
            ],
            [
             1,
             "#f0f921"
            ]
           ],
           "sequentialminus": [
            [
             0,
             "#0d0887"
            ],
            [
             0.1111111111111111,
             "#46039f"
            ],
            [
             0.2222222222222222,
             "#7201a8"
            ],
            [
             0.3333333333333333,
             "#9c179e"
            ],
            [
             0.4444444444444444,
             "#bd3786"
            ],
            [
             0.5555555555555556,
             "#d8576b"
            ],
            [
             0.6666666666666666,
             "#ed7953"
            ],
            [
             0.7777777777777778,
             "#fb9f3a"
            ],
            [
             0.8888888888888888,
             "#fdca26"
            ],
            [
             1,
             "#f0f921"
            ]
           ]
          },
          "colorway": [
           "#636efa",
           "#EF553B",
           "#00cc96",
           "#ab63fa",
           "#FFA15A",
           "#19d3f3",
           "#FF6692",
           "#B6E880",
           "#FF97FF",
           "#FECB52"
          ],
          "font": {
           "color": "#2a3f5f"
          },
          "geo": {
           "bgcolor": "white",
           "lakecolor": "white",
           "landcolor": "#E5ECF6",
           "showlakes": true,
           "showland": true,
           "subunitcolor": "white"
          },
          "hoverlabel": {
           "align": "left"
          },
          "hovermode": "closest",
          "mapbox": {
           "style": "light"
          },
          "paper_bgcolor": "white",
          "plot_bgcolor": "#E5ECF6",
          "polar": {
           "angularaxis": {
            "gridcolor": "white",
            "linecolor": "white",
            "ticks": ""
           },
           "bgcolor": "#E5ECF6",
           "radialaxis": {
            "gridcolor": "white",
            "linecolor": "white",
            "ticks": ""
           }
          },
          "scene": {
           "xaxis": {
            "backgroundcolor": "#E5ECF6",
            "gridcolor": "white",
            "gridwidth": 2,
            "linecolor": "white",
            "showbackground": true,
            "ticks": "",
            "zerolinecolor": "white"
           },
           "yaxis": {
            "backgroundcolor": "#E5ECF6",
            "gridcolor": "white",
            "gridwidth": 2,
            "linecolor": "white",
            "showbackground": true,
            "ticks": "",
            "zerolinecolor": "white"
           },
           "zaxis": {
            "backgroundcolor": "#E5ECF6",
            "gridcolor": "white",
            "gridwidth": 2,
            "linecolor": "white",
            "showbackground": true,
            "ticks": "",
            "zerolinecolor": "white"
           }
          },
          "shapedefaults": {
           "line": {
            "color": "#2a3f5f"
           }
          },
          "ternary": {
           "aaxis": {
            "gridcolor": "white",
            "linecolor": "white",
            "ticks": ""
           },
           "baxis": {
            "gridcolor": "white",
            "linecolor": "white",
            "ticks": ""
           },
           "bgcolor": "#E5ECF6",
           "caxis": {
            "gridcolor": "white",
            "linecolor": "white",
            "ticks": ""
           }
          },
          "title": {
           "x": 0.05
          },
          "xaxis": {
           "automargin": true,
           "gridcolor": "white",
           "linecolor": "white",
           "ticks": "",
           "title": {
            "standoff": 15
           },
           "zerolinecolor": "white",
           "zerolinewidth": 2
          },
          "yaxis": {
           "automargin": true,
           "gridcolor": "white",
           "linecolor": "white",
           "ticks": "",
           "title": {
            "standoff": 15
           },
           "zerolinecolor": "white",
           "zerolinewidth": 2
          }
         }
        },
        "title": {
         "text": "<b>ChatGPT Prediction Caribbean Dataset<b>",
         "x": 0.6,
         "y": 0.95
        },
        "width": 1100,
        "xaxis": {
         "domain": [
          0.15,
          1
         ],
         "showgrid": false,
         "showline": false,
         "showticklabels": false,
         "zeroline": false
        },
        "yaxis": {
         "showgrid": false,
         "showline": false,
         "showticklabels": false,
         "zeroline": false
        }
       }
      }
     },
     "metadata": {},
     "output_type": "display_data"
    }
   ],
   "source": [
    "top_labels = [\n",
    "     'Correct', \n",
    "     'Incorrect', \n",
    "     'No Information']\n",
    "\n",
    "colors = [\n",
    "     '#2ca02c', \n",
    "     '#d62728', \n",
    "     '#1f77b4']\n",
    "\n",
    "\n",
    "\n",
    "fig = go.Figure()\n",
    "\n",
    "for i in range(0, len(x_data[0])):\n",
    "    for xd, yd in zip(x_data, y_data):\n",
    "        fig.add_trace(go.Bar(\n",
    "            x=[xd[i]], y=[yd],\n",
    "            orientation='h',\n",
    "            marker=dict(\n",
    "                color=colors[i],\n",
    "                line=dict(color='rgb(248, 248, 249)', width=1)\n",
    "            )\n",
    "        ))\n",
    "\n",
    "fig.update_layout(\n",
    "    xaxis=dict(\n",
    "        showgrid=False,\n",
    "        showline=False,\n",
    "        showticklabels=False,\n",
    "        zeroline=False,\n",
    "        domain=[0.15, 1]\n",
    "    ),\n",
    "    yaxis=dict(\n",
    "        showgrid=False,\n",
    "        showline=False,\n",
    "        showticklabels=False,\n",
    "        zeroline=False,\n",
    "    ),\n",
    "    barmode='stack',\n",
    "    paper_bgcolor='rgb(248, 248, 255)',\n",
    "    plot_bgcolor='rgb(248, 248, 255)',\n",
    "    margin=dict(l=120, r=10, t=140, b=80),\n",
    "    showlegend=False,\n",
    ")\n",
    "\n",
    "annotations = []\n",
    "\n",
    "for yd, xd in zip(y_data, x_data):\n",
    "    \n",
    "    # labeling the y-axis\n",
    "    annotations.append(dict(xref='paper', yref='y',\n",
    "                            x=0.14, y=yd,\n",
    "                            xanchor='right',\n",
    "                            text=str(yd),\n",
    "                            font=dict(family='Arial', size=14,\n",
    "                                      color='rgb(67, 67, 67)'),\n",
    "                            showarrow=False, align='right'))\n",
    "    \n",
    "    # labeling the first percentage of each bar (x_axis)\n",
    "    annotations.append(dict(xref='x', yref='y',\n",
    "                            x=xd[0] / 2, y=yd,\n",
    "                            text=str(xd[0]) + '%',\n",
    "                            font=dict(family='Arial', size=14,\n",
    "                                      color='rgb(248, 248, 255)'),\n",
    "                            showarrow=False))\n",
    "\n",
    "    space = xd[0]\n",
    "    for i in range(1, len(xd)):\n",
    "            # labeling the rest of percentages for each bar (x_axis)\n",
    "            annotations.append(dict(xref='x', yref='y',\n",
    "                                    x=space + (xd[i]/2),                                     \n",
    "                                    y=yd,\n",
    "                                    text=str(xd[i]) + '%',\n",
    "                                    font=dict(family='Arial', size=14,\n",
    "                                              color='rgb(248, 248, 255)'),\n",
    "                                    showarrow=False))\n",
    "            space += xd[i]\n",
    "\n",
    "# Labeling top axis\n",
    "for idx, label in enumerate(top_labels):\n",
    "    annotations.append(dict(xref='paper', yref='paper',\n",
    "                            x=idx/3 + 0.225, y=1.081,\n",
    "                            text=F\"<b>{label}<b>\",\n",
    "                            font=dict(family='Arial', size=18,\n",
    "                                        color=colors[idx]),\n",
    "                            showarrow=False))\n",
    "\n",
    "\n",
    "# Remove low values\n",
    "for idx, annotation in enumerate(annotations):\n",
    "    value = annotation['text'][0:-1]\n",
    "    try:\n",
    "        value = float(value)\n",
    "        if value < 5:\n",
    "            annotations[idx]['text'] = \"\"\n",
    "    except:\n",
    "        continue\n",
    "    \n",
    "fig.update_layout(annotations=annotations, \n",
    "                  width=1100, height=800,\n",
    "                  bargap=0.1,\n",
    "                  title_text='<b>ChatGPT Prediction Caribbean Dataset<b>',title_x=0.6, title_y=0.95, )\n",
    "\n",
    "\n",
    "# fig.update_yaxes(automargin=True)\n",
    "\n",
    "fig.show()\n",
    "\n",
    "folder_figures = \"../../../reports/figures/\"\n",
    "file_name = \"PxPlot_HTML_BarchartPredictions.html\"\n",
    "fig.write_html(F\"{folder_figures}{file_name}\")\n",
    "file_name = \"PxPlot_PDF_BarchartPredictions.pdf\"\n",
    "fig.write_image(F\"{folder_figures}{file_name}\")"
   ]
  },
  {
   "cell_type": "code",
   "execution_count": null,
   "metadata": {},
   "outputs": [],
   "source": [
    "# Create custom legend using annotations\n",
    "# legend_items = [\n",
    "#     {'name': 'Correct', 'color': '#2ca02c', 'ypos': 1.09},\n",
    "#     {'name': 'Incorrect', 'color': '#d62728', 'ypos': 1.06},\n",
    "#     {'name': 'No Information', 'color': '#1f77b4', 'ypos': 1.03},\n",
    "# ]\n",
    "\n",
    "# for item in legend_items:\n",
    "#     fig.add_shape(\n",
    "#         type='rect',\n",
    "#         xref='paper', x0=0.05, x1=0.1,\n",
    "#         yref='paper', y0=item['ypos'], y1=item['ypos'] + 0.02,\n",
    "#         fillcolor=item['color'],\n",
    "#         line=dict(color=item['color'], width=1)\n",
    "#     )\n",
    "#     fig.add_annotation(\n",
    "#         xref='paper', x=0.11, yref='paper', y=item['ypos'] + 0.02,\n",
    "#         text=item['name'],\n",
    "#         showarrow=False,\n",
    "#         font=dict(size=10)\n",
    "#     )"
   ]
  }
 ],
 "metadata": {
  "kernelspec": {
   "display_name": "deeplearning",
   "language": "python",
   "name": "deeplearning"
  },
  "language_info": {
   "codemirror_mode": {
    "name": "ipython",
    "version": 3
   },
   "file_extension": ".py",
   "mimetype": "text/x-python",
   "name": "python",
   "nbconvert_exporter": "python",
   "pygments_lexer": "ipython3",
   "version": "3.10.4"
  },
  "orig_nbformat": 4
 },
 "nbformat": 4,
 "nbformat_minor": 2
}
