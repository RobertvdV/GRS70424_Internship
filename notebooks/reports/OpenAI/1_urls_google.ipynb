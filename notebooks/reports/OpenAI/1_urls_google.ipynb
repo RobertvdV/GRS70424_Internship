{
 "cells": [
  {
   "cell_type": "code",
   "execution_count": 1,
   "id": "67da1540",
   "metadata": {},
   "outputs": [],
   "source": [
    "import os\n",
    "from googleapiclient.discovery import build\n",
    "from dotenv import load_dotenv\n",
    "import pickle\n",
    "import random\n",
    "import collections\n",
    "from tqdm import tqdm\n",
    "\n",
    "random.seed(333)"
   ]
  },
  {
   "cell_type": "code",
   "execution_count": 2,
   "id": "62218066",
   "metadata": {},
   "outputs": [],
   "source": [
    "load_dotenv()\n",
    "\n",
    "api_key = os.environ['GOOGLE_API']\n",
    "cse_id = os.environ['GOOGLE_CSE']"
   ]
  },
  {
   "cell_type": "code",
   "execution_count": 3,
   "id": "06d6ca39-dc5b-4e26-a3a3-459a9318b4a9",
   "metadata": {},
   "outputs": [],
   "source": [
    "# create a search query\n",
    "def google_search(search_term, api_key, cse_id, **kwargs):\n",
    "    \n",
    "    \"\"\"\n",
    "    Creates a search link for the custom Google search.\n",
    "    \"\"\"\n",
    "    \n",
    "    service = build(\"customsearch\", \"v1\", developerKey=api_key)\n",
    "    res = service.cse().list(q=search_term, cx=cse_id, **kwargs).execute()\n",
    "    return res['items']"
   ]
  },
  {
   "cell_type": "code",
   "execution_count": 4,
   "id": "e45fa5e8-8bab-4d1b-9dfe-f1e2c6413038",
   "metadata": {},
   "outputs": [],
   "source": [
    "# search_results = google_search(palm_species[0], api_key=api_key, cse_id=cse_id)"
   ]
  },
  {
   "cell_type": "code",
   "execution_count": 5,
   "id": "4dc7bc7e",
   "metadata": {},
   "outputs": [
    {
     "name": "stderr",
     "output_type": "stream",
     "text": [
      "100%|██████████| 40/40 [00:18<00:00,  2.14it/s]\n"
     ]
    }
   ],
   "source": [
    "folder = \"../../../data/OpenAI/Species/\"\n",
    "\n",
    "palm_species = pickle.load(open(F\"{folder}palm_species.pkl\", 'rb'))\n",
    "palm_species_random_50 = random.sample(palm_species, 40)\n",
    "\n",
    "palm_species_urls = collections.defaultdict(list)\n",
    "palm_species_google = collections.defaultdict(list)\n",
    "\n",
    "for palm in tqdm(palm_species_random_50):\n",
    "    # Search results (10 per search)\n",
    "    search_results = google_search(palm, api_key=api_key, cse_id=cse_id)\n",
    "    # Google Urls\n",
    "    palm_species_google[palm] = search_results\n",
    "    # Just the links\n",
    "    for result in search_results:\n",
    "        palm_species_urls[palm].append(result['link'])\n"
   ]
  },
  {
   "cell_type": "code",
   "execution_count": 6,
   "id": "aa406d42",
   "metadata": {},
   "outputs": [],
   "source": [
    "folder = \"../../../data/OpenAI/Urls/\"\n",
    "\n",
    "with open(F\"{folder}urls_palms.pkl\", 'wb') as f:\n",
    "    pickle.dump(palm_species_urls, f)\n",
    "\n",
    "with open(F\"{folder}google_urls_palms.pkl\", 'wb') as f:\n",
    "    pickle.dump(palm_species_google, f)"
   ]
  },
  {
   "cell_type": "code",
   "execution_count": 7,
   "id": "47b9d768",
   "metadata": {},
   "outputs": [],
   "source": [
    "test_google = pickle.load(open(F\"{folder}google_urls_palms.pkl\", 'rb'))\n",
    "test_urls = pickle.load(open(F\"{folder}urls_palms.pkl\", 'rb'))"
   ]
  },
  {
   "cell_type": "code",
   "execution_count": 9,
   "id": "249c4d15",
   "metadata": {},
   "outputs": [
    {
     "data": {
      "text/plain": [
       "['https://www.palmpedia.net/wiki/Copernicia_cowellii',\n",
       " 'https://www.rarepalmseeds.com/copernicia-cowellii',\n",
       " 'https://www.palmtalk.org/forum/topic/25219-copernicia-cowellii/',\n",
       " 'https://www.facebook.com/1235550999909816/posts/copernicia-cowellii-is-the-smallest-of-all-the-copernicias-reaching-maturity-at-/1347914132006835/',\n",
       " 'https://www.monaconatureencyclopedia.com/copernicia-cowellii/?lang=en',\n",
       " 'https://en.wikipedia.org/wiki/Copernicia_cowellii',\n",
       " 'https://tropicationplants.com/products/copernicia-cowellii',\n",
       " 'http://www.pacsoa.org.au/wiki/Copernicia_cowellii',\n",
       " 'https://tropical.theferns.info/viewtropical.php?id=Copernicia+cowellii',\n",
       " 'https://www1.biologie.uni-hamburg.de/b-online/library/palms/copernicia_cowellii.htm']"
      ]
     },
     "execution_count": 9,
     "metadata": {},
     "output_type": "execute_result"
    }
   ],
   "source": [
    "test_urls['Copernicia cowellii']"
   ]
  },
  {
   "cell_type": "code",
   "execution_count": null,
   "id": "a4e1774e",
   "metadata": {},
   "outputs": [],
   "source": []
  }
 ],
 "metadata": {
  "kernelspec": {
   "display_name": "venv",
   "language": "python",
   "name": "python3"
  },
  "language_info": {
   "codemirror_mode": {
    "name": "ipython",
    "version": 3
   },
   "file_extension": ".py",
   "mimetype": "text/x-python",
   "name": "python",
   "nbconvert_exporter": "python",
   "pygments_lexer": "ipython3",
   "version": "3.9.13"
  },
  "vscode": {
   "interpreter": {
    "hash": "020a6b5c0ed803a704c00010560cf50a059d086f11791eecdae2eedc39704b9e"
   }
  }
 },
 "nbformat": 4,
 "nbformat_minor": 5
}
