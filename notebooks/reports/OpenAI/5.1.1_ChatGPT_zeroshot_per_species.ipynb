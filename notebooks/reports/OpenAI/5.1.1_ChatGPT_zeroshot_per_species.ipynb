{
 "cells": [
  {
   "cell_type": "code",
   "execution_count": 1,
   "metadata": {},
   "outputs": [],
   "source": [
    "import torch\n",
    "import re\n",
    "import os\n",
    "import json\n",
    "import pickle\n",
    "import openai\n",
    "import pandas as pd\n",
    "import numpy as np\n",
    "import glob\n",
    "from tqdm import tqdm\n",
    "from dotenv import load_dotenv"
   ]
  },
  {
   "cell_type": "code",
   "execution_count": 2,
   "metadata": {},
   "outputs": [],
   "source": [
    "load_dotenv()\n",
    "openai.api_key = os.environ['OPENAI_API']"
   ]
  },
  {
   "attachments": {},
   "cell_type": "markdown",
   "metadata": {},
   "source": [
    "### Trait Dicts"
   ]
  },
  {
   "cell_type": "code",
   "execution_count": 3,
   "metadata": {},
   "outputs": [],
   "source": [
    "folder_traits = \"../../../data/OpenAI/Traits/\"\n",
    "\n",
    "with open(F\"{folder_traits}Andrei.json\", 'r') as f:\n",
    "  caribbean_traits_dict = json.load(f)\n",
    "\n",
    "with open(F\"{folder_traits}Andrei.json\", 'r') as f:\n",
    "  caribbean_traits_dict = json.load(f)\n",
    "\n",
    "with open(F\"{folder_traits}Andrei.json\", 'r') as f:\n",
    "  caribbean_traits_dict = json.load(f)"
   ]
  },
  {
   "attachments": {},
   "cell_type": "markdown",
   "metadata": {},
   "source": [
    "### DataFrames"
   ]
  },
  {
   "cell_type": "code",
   "execution_count": 4,
   "metadata": {},
   "outputs": [],
   "source": [
    "root = \"../../../data/OpenAI/DataFrames/\"\n",
    "\n",
    "file = \"DF_Andrei.csv\"\n",
    "df_Andrei = pd.read_csv(F\"{root}{file}\", header=[0, 1], index_col=0)\\\n",
    "    .rename_axis('Species', axis='index')\n",
    "df_Andrei_species = list(df_Andrei.index)\n",
    "\n",
    "\n",
    "file = \"DF_Daniel.csv\"\n",
    "df_Daniel = pd.read_csv(F\"{root}{file}\", header=[0, 1], index_col=0)\\\n",
    "    .rename_axis('Species', axis='index')\\\n",
    "    .dropna()\n",
    "df_Daniel_species = list(df_Daniel.index)\n",
    "\n",
    "file = \"DF_Pierre.csv\"\n",
    "df_Pierre = pd.read_csv(F\"{root}{file}\", header=[0, 1], index_col=0)\\\n",
    "    .rename_axis('Species', axis='index')\n",
    "df_Pierre_species = list(df_Pierre.index)"
   ]
  },
  {
   "cell_type": "code",
   "execution_count": 13,
   "metadata": {},
   "outputs": [
    {
     "data": {
      "text/plain": [
       "'Avicennia germinans'"
      ]
     },
     "execution_count": 13,
     "metadata": {},
     "output_type": "execute_result"
    }
   ],
   "source": [
    "species = df_Andrei.index[0]\n",
    "species"
   ]
  },
  {
   "cell_type": "code",
   "execution_count": 12,
   "metadata": {},
   "outputs": [
    {
     "data": {
      "text/plain": [
       "['Life form',\n",
       " 'Leaf position',\n",
       " 'Leaf composition',\n",
       " 'Leaf shape',\n",
       " 'Leaf margin',\n",
       " 'Leaf upper side',\n",
       " 'Leaf lower side',\n",
       " 'Leaf glands',\n",
       " 'Leaf rachis',\n",
       " 'Thorns/spines',\n",
       " 'Stipules',\n",
       " 'Inflorescence type',\n",
       " 'Sepals / calyx shape',\n",
       " 'Sepals / calyx numer',\n",
       " 'Petals / corolla shape',\n",
       " 'Petals / corolla number',\n",
       " 'Petals / corolla colour',\n",
       " 'Stamen shape',\n",
       " 'Stamen number',\n",
       " 'Fruit type',\n",
       " 'Fruit shape',\n",
       " 'Fruit colour',\n",
       " 'Aril colour',\n",
       " 'Seed colour']"
      ]
     },
     "execution_count": 12,
     "metadata": {},
     "output_type": "execute_result"
    }
   ],
   "source": [
    "for trait in caribbean_traits_dict.keys():\n",
    "    trait\n",
    "    # print(trait)\n",
    "\n",
    "traits = list(caribbean_traits_dict.keys())\n",
    "traits"
   ]
  },
  {
   "cell_type": "code",
   "execution_count": 15,
   "metadata": {},
   "outputs": [
    {
     "name": "stdout",
     "output_type": "stream",
     "text": [
      "Can you create semantic triples for the following traits ['Life form', 'Leaf position', 'Leaf composition', 'Leaf shape', 'Leaf margin', 'Leaf upper side', 'Leaf lower side', 'Leaf glands', 'Leaf rachis', 'Thorns/spines', 'Stipules', 'Inflorescence type', 'Sepals / calyx shape', 'Sepals / calyx numer', 'Petals / corolla shape', 'Petals / corolla number', 'Petals / corolla colour', 'Stamen shape', 'Stamen number', 'Fruit type', 'Fruit shape', 'Fruit colour', 'Aril colour', 'Seed colour'] for the species 'Avicennia germinans\n"
     ]
    }
   ],
   "source": [
    "question = F\"Can you create semantic triples for the following traits {traits}, for the species '{species}?\"\n",
    "print(question)"
   ]
  },
  {
   "cell_type": "code",
   "execution_count": 16,
   "metadata": {},
   "outputs": [],
   "source": [
    "messages = [\n",
    "    # {\"role\": \"assistant\", \"content\": text},\n",
    "    {\"role\": \"user\", \"content\": question}\n",
    "    ]\n",
    "# Call the ChatGPT API to generate a completion for the prompt\n",
    "completion = openai.ChatCompletion.create(\n",
    "    model = \"gpt-3.5-turbo\",\n",
    "    messages = messages,\n",
    ")"
   ]
  },
  {
   "cell_type": "code",
   "execution_count": 21,
   "metadata": {},
   "outputs": [
    {
     "name": "stdout",
     "output_type": "stream",
     "text": [
      "\n",
      "\n",
      "1. Avicennia germinans is a life form of plant.\n",
      "2. 'Leaf position' of Avicennia germinans is opposite.\n",
      "3. 'Leaf composition' of Avicennia germinans is simple.\n",
      "4. 'Leaf shape' of Avicennia germinans is ovate.\n",
      "5. 'Leaf margin' of Avicennia germinans is entire.\n",
      "6. 'Leaf upper side' of Avicennia germinans is glossy.\n",
      "7. 'Leaf lower side' of Avicennia germinans is pale.\n",
      "8. 'Leaf glands' of Avicennia germinans are present.\n",
      "9. 'Leaf rachis' of Avicennia germinans is glabrous.\n",
      "10. 'Thorns/spines' are absent in Avicennia germinans.\n",
      "11. Avicennia germinans has stipules of size less than 1 cm.\n",
      "12. The inflorescence type of Avicennia germinans is a panicle.\n",
      "13. 'Sepals / calyx shape' of Avicennia germinans is ovate.\n",
      "14. 'Sepals / calyx number' of Avicennia germinans is 4–5.\n",
      "15. 'Petals / corolla shape' of Avicennia germinans is absent.\n",
      "16. 'Petals / corolla number' of Avicennia germinans is absent.\n",
      "17. 'Petals / corolla color' of Avicennia germinans is absent.\n",
      "18. The shape of the stamen of Avicennia germinans is thread-like.\n",
      "19. Avicennia germinans has a stamen number of 8–10.\n",
      "20. The fruit type of Avicennia germinans is a capsule.\n",
      "21. 'Fruit shape' of Avicennia germinans is ovoid.\n",
      "22. 'Fruit color' of Avicennia germinans is black.\n",
      "23. 'Aril color' of Avicennia germinans is absent or pale.\n",
      "24. 'Seed color' of Avicennia germinans is brown.\n"
     ]
    }
   ],
   "source": [
    "res = completion['choices'][0]['message']['content']\n",
    "print(res)"
   ]
  },
  {
   "cell_type": "code",
   "execution_count": null,
   "metadata": {},
   "outputs": [],
   "source": [
    "# # Define the path to the directory where the prompts and results will be saved\n",
    "# folder_prompts = \"../../../data/OpenAI/PromptsResults/\"\n",
    "\n",
    "# # Loop over each JSON file in the list caribbean_jsons_paras\n",
    "# for json_file in caribbean_jsons_paras[1:2]:\n",
    "\n",
    "#     try:\n",
    "#         # Try to read in the JSON file\n",
    "#         with open(json_file, 'r') as f:\n",
    "#             caribbean_species_paragraph = json.load(f)\n",
    "        \n",
    "#         # Get the name of the species from the keys of the dictionary in the JSON file\n",
    "#         species = list(caribbean_species_paragraph.keys())[0]\n",
    "#     except:\n",
    "#         # If the JSON file cannot be read in, get the name of the species from the file name\n",
    "#         species = json_file[62:-29].replace('_', ' ')\n",
    "#         continue\n",
    "    \n",
    "#     # Join the paragraphs for the species into a single text string\n",
    "#     text = \" \".join(caribbean_species_paragraph[species])\n",
    "\n",
    "#     # Replace spaces in the species name with underscores\n",
    "#     folder_species = species.replace(' ', '_')\n",
    "\n",
    "#     # Try to create a directory for the prompts for the species\n",
    "#     try:\n",
    "#         os.makedirs(F\"{folder_prompts}{folder_species}\")\n",
    "#     except FileExistsError:\n",
    "#         pass\n",
    "\n",
    "#     # Loop over each trait and trait options in the caribbean_traits_dict dictionary\n",
    "#     for trait, trait_options in (pbar := tqdm(caribbean_traits_dict.items(), leave=False, position=0)):\n",
    "#         pbar.set_description(f\"{species}\")\n",
    "\n",
    "#         # Create the question and options for the ChatGPT prompt\n",
    "#         # question = F\"Which of the following values correctly describe(s) the '{trait}' trait mentioned in the text? Please select all that apply.\"\n",
    "#         # options = trait_options + [\"None of the above\", \"Someting else (please specify)\"]\n",
    "#         # user_content = F\"Question: {question}  \\n\\nValues: {options}\"\n",
    "\n",
    "#         question = F\"Which of the following values correctly describe(s) the '{trait}' trait mentioned in the text? If none of the following values apply, please select 'None of the above'. Please select all that apply:\" \n",
    "#         options = trait_options + [\"Other: description of trait not mentioned in the list.\"]\n",
    "#         options = F\"{options}.\"\n",
    "#         user_content = F\"{question} {options}\"\n",
    "\n",
    "#         # print(user_content)\n",
    "\n",
    "#         # Create the messages to send to the ChatGPT API\n",
    "#         messages = [\n",
    "#             {\"role\": \"assistant\", \"content\": text},\n",
    "#             {\"role\": \"user\", \"content\": user_content}\n",
    "#             ]\n",
    "#         # Call the ChatGPT API to generate a completion for the prompt\n",
    "#         completion = openai.ChatCompletion.create(\n",
    "#             model = \"gpt-3.5-turbo\",\n",
    "#             messages = messages,\n",
    "#         )\n",
    "\n",
    "#         # Combine the words in the trait name with capital letters and use this as the file name\n",
    "#         file_name = combine_words_with_capital(trait)\n",
    "#         # Save the completion to a JSON file with the file name in the species directory\n",
    "#         with open(F\"{folder_prompts}{folder_species}/{file_name}.json\", 'w') as fp:\n",
    "#             json.dump(completion, fp)\n",
    "            \n"
   ]
  }
 ],
 "metadata": {
  "kernelspec": {
   "display_name": "deeplearning",
   "language": "python",
   "name": "deeplearning"
  },
  "language_info": {
   "codemirror_mode": {
    "name": "ipython",
    "version": 3
   },
   "file_extension": ".py",
   "mimetype": "text/x-python",
   "name": "python",
   "nbconvert_exporter": "python",
   "pygments_lexer": "ipython3",
   "version": "3.10.4"
  },
  "orig_nbformat": 4
 },
 "nbformat": 4,
 "nbformat_minor": 2
}
