{
 "cells": [
  {
   "cell_type": "code",
   "execution_count": 12,
   "metadata": {},
   "outputs": [],
   "source": [
    "import pandas as pd\n",
    "import json\n",
    "import pickle\n",
    "import numpy as np\n",
    "import requests\n",
    "from bs4 import BeautifulSoup\n",
    "import glob\n",
    "import collections\n",
    "from tqdm import tqdm"
   ]
  },
  {
   "cell_type": "code",
   "execution_count": 13,
   "metadata": {},
   "outputs": [],
   "source": [
    "folder_url = \"../../../data/OpenAI/Urls/\"\n",
    "\n",
    "caribbean_url_dict = pickle.load(open(F\"{folder_url}urls_caribbean.pkl\", 'rb'))\n",
    "# palms_url_dict = pickle.load(open(F\"{folder_url}urls_palms.pkl\", 'rb'))\n",
    "# plantnet_url_dict = pickle.load(open(F\"{folder_url}urls_plantnet.pkl\", 'rb'))"
   ]
  },
  {
   "cell_type": "code",
   "execution_count": 14,
   "metadata": {},
   "outputs": [],
   "source": [
    "# Test\n",
    "caribbean_url_dict = {k: caribbean_url_dict[k][0:3] for k in list(caribbean_url_dict)[:2]}"
   ]
  },
  {
   "cell_type": "code",
   "execution_count": 15,
   "metadata": {},
   "outputs": [],
   "source": [
    "def extract_paragraphs_from_urls(url_dict):\n",
    "\n",
    "    # Init dict\n",
    "    text_dict = collections.defaultdict(list)\n",
    "\n",
    "    # Loop over species and URLS\n",
    "    for (species, urls) in tqdm(url_dict.items(), desc=\"Species\", leave=True):\n",
    "        for url in tqdm(urls, desc=\"URL\", leave=False):\n",
    "            response = requests.get(url)\n",
    "            soup = BeautifulSoup(response.text, 'html.parser')\n",
    "            paragraphs = soup.find_all('p')\n",
    "            for paragraph in paragraphs:\n",
    "                text_dict[species].append(paragraph.text)\n",
    "\n",
    "    return text_dict\n"
   ]
  },
  {
   "cell_type": "code",
   "execution_count": 16,
   "metadata": {},
   "outputs": [
    {
     "name": "stderr",
     "output_type": "stream",
     "text": [
      "Species: 100%|██████████| 2/2 [00:01<00:00,  1.32it/s]\n"
     ]
    }
   ],
   "source": [
    "caribbean_text_dict = extract_paragraphs_from_urls(caribbean_url_dict)\n",
    "# palms_text_dict = extract_paragraphs_from_urls(palms_url_dict)\n",
    "# plantnet_text_dict = extract_paragraphs_from_urls(plantnet_url_dict)"
   ]
  },
  {
   "cell_type": "code",
   "execution_count": 6,
   "metadata": {},
   "outputs": [],
   "source": [
    "folder_text = \"../../../data/OpenAI/TextSnippets/\"\n",
    "\n",
    "with open(F\"{folder_text}paragraphs_caribbean.pkl\", 'wb') as f:\n",
    "    pickle.dump(caribbean_text_dict, f)\n",
    "\n",
    "# with open(F\"{folder_text}paragraphs_caribbean.pkl\", 'wb') as f:\n",
    "#     pickle.dump(palms_text_dict, f)\n",
    "\n",
    "# with open(F\"{folder_text}paragraphs_caribbean.pkl\", 'wb') as f:\n",
    "#     pickle.dump(plantnet_text_dict, f)"
   ]
  }
 ],
 "metadata": {
  "kernelspec": {
   "display_name": "webscraping",
   "language": "python",
   "name": "webscraping"
  },
  "language_info": {
   "codemirror_mode": {
    "name": "ipython",
    "version": 3
   },
   "file_extension": ".py",
   "mimetype": "text/x-python",
   "name": "python",
   "nbconvert_exporter": "python",
   "pygments_lexer": "ipython3",
   "version": "3.10.4"
  },
  "orig_nbformat": 4,
  "vscode": {
   "interpreter": {
    "hash": "020a6b5c0ed803a704c00010560cf50a059d086f11791eecdae2eedc39704b9e"
   }
  }
 },
 "nbformat": 4,
 "nbformat_minor": 2
}
