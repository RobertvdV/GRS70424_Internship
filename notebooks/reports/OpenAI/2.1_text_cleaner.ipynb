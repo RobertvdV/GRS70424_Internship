{
 "cells": [
  {
   "cell_type": "code",
   "execution_count": 8,
   "metadata": {},
   "outputs": [],
   "source": [
    "import json\n",
    "import re\n",
    "import glob\n",
    "import collections\n",
    "from tqdm import tqdm \n",
    "import pickle\n",
    "import numpy as np\n",
    "import pandas as pd\n",
    "import matplotlib.pyplot as plt"
   ]
  },
  {
   "cell_type": "code",
   "execution_count": 3,
   "metadata": {},
   "outputs": [],
   "source": [
    "folder_text = \"../../../data/OpenAI/TextSnippets/\"\n",
    "\n",
    "caribbean_text_dict = pickle.load(open(F\"{folder_text}paragraphs_caribbean.pkl\", 'rb'))\n",
    "palms_text_dict = pickle.load(open(F\"{folder_text}paragraphs_palms.pkl\", 'rb'))\n",
    "plantnet_text_dict = pickle.load(open(F\"{folder_text}paragraphs_plantnet.pkl\", 'rb'))"
   ]
  },
  {
   "cell_type": "code",
   "execution_count": 4,
   "metadata": {},
   "outputs": [
    {
     "data": {
      "text/plain": [
       "dict_keys(['Avicennia germinans', 'Metopium brownei', 'Handroanthus billbergii', 'Bourreria succulenta', 'Bursera karsteniana', 'Bursera simaruba', 'Bursera tomentosa', 'Cynophalla flexuosa', 'Cynophalla hastata', 'Quadrella indica', 'Quadrella odoratissima', 'Crossopetalum rhacoma', 'Maytenus tetragona', 'Maytenus versluysii', 'Clusia rosea', 'Conocarpus erectus', 'Laguncularia racemosa', 'Erythroxylum havanense', 'Croton niveus', 'Hippomane mancinella', 'Libidibia coriaria', 'Pithecellobium unguis-cati', 'Prosopis juliflora', 'Vachellia tortuosa', 'Vitex compressa', 'Vitex cymosa', 'Trichilia trifolia', 'Eugenia procera', 'Guapira pacurero', 'Coccoloba swartzii', 'Coccoloba uvifera', 'Krugiodendron ferreum', 'Rhizophora mangle', 'Guettarda roupalifolia', 'Randia aculeata', 'Amyris ignea', 'Zanthoxylum monophyllum', 'Casearia tremula', 'Schoepfia schreberi', 'Jacquinia arborea', 'Guaiacum officinale', 'Guaiacum sanctum'])"
      ]
     },
     "execution_count": 4,
     "metadata": {},
     "output_type": "execute_result"
    }
   ],
   "source": [
    "caribbean_text_dict.keys()"
   ]
  },
  {
   "cell_type": "code",
   "execution_count": 17,
   "metadata": {},
   "outputs": [],
   "source": [
    "text_unicode = []\n",
    "for text in caribbean_text_dict['Quadrella odoratissima']:\n",
    "\n",
    "    if len(text) > 50:\n",
    "\n",
    "        text = text.encode(\"ascii\", \"ignore\")\n",
    "        text = text.decode()\n",
    "        text_unicode.append(text)"
   ]
  },
  {
   "cell_type": "code",
   "execution_count": 9,
   "metadata": {},
   "outputs": [],
   "source": [
    "text_len = []\n",
    "\n",
    "for text in caribbean_text_dict['Avicennia germinans']:\n",
    "\n",
    "    \n",
    "    # print(len(text))\n",
    "    text_len.append(len(text))"
   ]
  },
  {
   "cell_type": "code",
   "execution_count": 51,
   "metadata": {},
   "outputs": [],
   "source": [
    "def regex_cleaner(string):\n",
    "    \n",
    "    cleaners = [\n",
    "        (\"\\s+\", \" \"),\n",
    "    ]\n",
    "\n",
    "    for (cleaner, replacement) in cleaners:\n",
    "        string = re.sub(cleaner, replacement, string)\n",
    "\n",
    "    return string\n",
    "\n",
    "\n",
    "def json_para_cleaner(json_para_file):\n",
    "\n",
    "    with open(json_para_file, 'r') as f:\n",
    "        json_para_file_unclean = json.load(f)\n",
    "\n",
    "    paragraphs_cleaned = []\n",
    "    json_para_cleaned = {}\n",
    "\n",
    "    for species, paragraphs in json_para_file_unclean.items():\n",
    "\n",
    "        for paragraph in paragraphs:\n",
    "\n",
    "            # Keep only larger text\n",
    "            if len(paragraph) > 50:\n",
    "\n",
    "                paragraph = regex_cleaner(paragraph)\n",
    "                paragraphs_cleaned.append(paragraph)\n",
    "\n",
    "                # Drop duplicates\n",
    "                paragraphs_cleaned = list(set(paragraphs_cleaned))\n",
    "        \n",
    "        json_para_cleaned[species] = paragraphs_cleaned\n",
    "\n",
    "    return json_para_cleaned           \n",
    "    "
   ]
  }
 ],
 "metadata": {
  "kernelspec": {
   "display_name": "venv",
   "language": "python",
   "name": "python3"
  },
  "language_info": {
   "codemirror_mode": {
    "name": "ipython",
    "version": 3
   },
   "file_extension": ".py",
   "mimetype": "text/x-python",
   "name": "python",
   "nbconvert_exporter": "python",
   "pygments_lexer": "ipython3",
   "version": "3.9.13"
  },
  "orig_nbformat": 4
 },
 "nbformat": 4,
 "nbformat_minor": 2
}
