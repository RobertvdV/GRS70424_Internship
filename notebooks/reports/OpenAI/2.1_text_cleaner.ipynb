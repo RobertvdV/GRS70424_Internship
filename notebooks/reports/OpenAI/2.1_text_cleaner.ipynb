{
 "cells": [
  {
   "cell_type": "code",
   "execution_count": 1,
   "metadata": {},
   "outputs": [],
   "source": [
    "import json\n",
    "import re\n",
    "import glob\n",
    "import collections\n",
    "from tqdm import tqdm \n",
    "import pickle\n",
    "import numpy as np\n",
    "import pandas as pd\n",
    "import matplotlib.pyplot as plt"
   ]
  },
  {
   "cell_type": "code",
   "execution_count": 19,
   "metadata": {},
   "outputs": [],
   "source": [
    "folder_text = \"../../../data/OpenAI/TextSnippets/\"\n",
    "\n",
    "caribbean_text_dict = pickle.load(open(F\"{folder_text}paragraphs_caribbean.pkl\", 'rb'))\n",
    "palms_text_dict = pickle.load(open(F\"{folder_text}paragraphs_palms.pkl\", 'rb'))\n",
    "plantnet_text_dict = pickle.load(open(F\"{folder_text}paragraphs_plantnet.pkl\", 'rb'))"
   ]
  },
  {
   "cell_type": "code",
   "execution_count": 3,
   "metadata": {},
   "outputs": [
    {
     "data": {
      "text/plain": [
       "dict_keys(['Avicennia germinans', 'Metopium brownei', 'Handroanthus billbergii', 'Bourreria succulenta', 'Bursera karsteniana', 'Bursera simaruba', 'Bursera tomentosa', 'Cynophalla flexuosa', 'Cynophalla hastata', 'Quadrella indica', 'Quadrella odoratissima', 'Crossopetalum rhacoma', 'Maytenus tetragona', 'Maytenus versluysii', 'Clusia rosea', 'Conocarpus erectus', 'Laguncularia racemosa', 'Erythroxylum havanense', 'Croton niveus', 'Hippomane mancinella', 'Libidibia coriaria', 'Pithecellobium unguis-cati', 'Prosopis juliflora', 'Vachellia tortuosa', 'Vitex compressa', 'Vitex cymosa', 'Trichilia trifolia', 'Eugenia procera', 'Guapira pacurero', 'Coccoloba swartzii', 'Coccoloba uvifera', 'Krugiodendron ferreum', 'Rhizophora mangle', 'Guettarda roupalifolia', 'Randia aculeata', 'Amyris ignea', 'Zanthoxylum monophyllum', 'Casearia tremula', 'Schoepfia schreberi', 'Jacquinia arborea', 'Guaiacum officinale', 'Guaiacum sanctum'])"
      ]
     },
     "execution_count": 3,
     "metadata": {},
     "output_type": "execute_result"
    }
   ],
   "source": [
    "caribbean_text_dict.keys()"
   ]
  },
  {
   "cell_type": "code",
   "execution_count": null,
   "metadata": {},
   "outputs": [],
   "source": [
    "def is_valid_text(text):\n",
    "    # Define a regular expression pattern that matches valid text\n",
    "    pattern = r'^[a-zA-Z0-9 ,.\\'-]+$'\n",
    "    # Use the re.match() function to test if the text matches the pattern\n",
    "    match = re.match(pattern, text)\n",
    "    # Return True if the text matches the pattern, False otherwise\n",
    "    return bool(match)"
   ]
  },
  {
   "cell_type": "code",
   "execution_count": null,
   "metadata": {},
   "outputs": [],
   "source": [
    "valid_species_dict = {}\n",
    "\n",
    "for species, descriptions in caribbean_text_dict.items():\n",
    "    valid_descriptions = [d for d in descriptions if is_valid_text(d)]\n",
    "    valid_species_dict[species] = valid_descriptions"
   ]
  },
  {
   "cell_type": "code",
   "execution_count": null,
   "metadata": {},
   "outputs": [],
   "source": []
  },
  {
   "cell_type": "code",
   "execution_count": null,
   "metadata": {},
   "outputs": [],
   "source": []
  },
  {
   "cell_type": "code",
   "execution_count": null,
   "metadata": {},
   "outputs": [],
   "source": []
  },
  {
   "cell_type": "code",
   "execution_count": 17,
   "metadata": {},
   "outputs": [],
   "source": [
    "def regex_cleaner(string):\n",
    "    \n",
    "    cleaners = [\n",
    "        (\"\\s+\", \" \"),\n",
    "    ]\n",
    "\n",
    "    for (cleaner, replacement) in cleaners:\n",
    "        string = re.sub(cleaner, replacement, string)\n",
    "\n",
    "    return string\n",
    "\n",
    "def is_valid_text(text):\n",
    "    # Define a regular expression pattern that matches valid text\n",
    "    pattern = r'^[a-zA-Z0-9 ,.\\'-]+$'\n",
    "    # Use the re.match() function to test if the text matches the pattern\n",
    "    match = re.match(pattern, text)\n",
    "    # Return True if the text matches the pattern, False otherwise\n",
    "    return bool(match)"
   ]
  },
  {
   "cell_type": "code",
   "execution_count": 9,
   "metadata": {},
   "outputs": [],
   "source": [
    "text_unicode = []\n",
    "for text in caribbean_text_dict['Quadrella odoratissima']:\n",
    "\n",
    "    if len(text) > 50:\n",
    "        \n",
    "\n",
    "        text = text.encode(\"ascii\", \"ignore\")\n",
    "        text = text.decode()\n",
    "\n",
    "        text = regex_cleaner(text)\n",
    "        \n",
    "        text_unicode.append(text)"
   ]
  },
  {
   "cell_type": "code",
   "execution_count": 18,
   "metadata": {},
   "outputs": [],
   "source": [
    "valid_species_dict = {}\n",
    "\n",
    "for species, descriptions in caribbean_text_dict.items():\n",
    "    valid_descriptions = [d for d in descriptions if is_valid_text(d)]\n",
    "    valid_species_dict[species] = valid_descriptions"
   ]
  },
  {
   "cell_type": "code",
   "execution_count": null,
   "metadata": {},
   "outputs": [],
   "source": []
  },
  {
   "cell_type": "code",
   "execution_count": 11,
   "metadata": {},
   "outputs": [],
   "source": [
    "# for idx, t in enumerate(text_unicode):\n",
    "#     print(idx)\n",
    "#     print(t[0:20])"
   ]
  },
  {
   "cell_type": "code",
   "execution_count": 14,
   "metadata": {},
   "outputs": [
    {
     "data": {
      "text/plain": [
       "'Quadrella odoratissima is a species of tree in the family Capparaceae. They have a self-supporting growth form. They have simple, broad leaves.'"
      ]
     },
     "execution_count": 14,
     "metadata": {},
     "output_type": "execute_result"
    }
   ],
   "source": [
    "text_unicode[0]"
   ]
  },
  {
   "cell_type": "code",
   "execution_count": 15,
   "metadata": {},
   "outputs": [
    {
     "data": {
      "text/plain": [
       "'_\\x7fJl o\\x04j Vdqwc E9\\x07\\x01*G\\'?=I\\x7fJ\\x05E(\\x13p\\x03YVs^\\x07?O:\\x015~ !\\x19|eH[%u5sZV\\x19\\x0f\\x19*TyLFOo/9P6Q\\x07nNS)5S\\x0f kw q$RR@c]&*\\x1aGohD\"Q'"
      ]
     },
     "execution_count": 15,
     "metadata": {},
     "output_type": "execute_result"
    }
   ],
   "source": [
    "text_unicode[42][0:100]"
   ]
  },
  {
   "cell_type": "code",
   "execution_count": 13,
   "metadata": {},
   "outputs": [
    {
     "data": {
      "text/plain": [
       "5513374"
      ]
     },
     "execution_count": 13,
     "metadata": {},
     "output_type": "execute_result"
    }
   ],
   "source": [
    "len(text_unicode[42])"
   ]
  },
  {
   "cell_type": "code",
   "execution_count": 16,
   "metadata": {},
   "outputs": [
    {
     "name": "stdout",
     "output_type": "stream",
     "text": [
      "{'Quadrella odoratissima': ['Quadrella odoratissima is a species of tree in the family Capparaceae. They have a self-supporting growth form. They have simple, broad leaves.']}\n"
     ]
    }
   ],
   "source": [
    "def is_valid_text(text):\n",
    "    # Define a regular expression pattern that matches valid text\n",
    "    pattern = r'^[a-zA-Z0-9 ,.\\'-]+$'\n",
    "    # Use the re.match() function to test if the text matches the pattern\n",
    "    match = re.match(pattern, text)\n",
    "    # Return True if the text matches the pattern, False otherwise\n",
    "    return bool(match)\n",
    "\n",
    "# Example usage\n",
    "species_dict = {\n",
    "    'Quadrella odoratissima': [\n",
    "        'Quadrella odoratissima is a species of tree in the family Capparaceae. They have a self-supporting growth form. They have simple, broad leaves.',\n",
    "        '_\\x7fJl o\\x04j Vdqwc E9\\x07\\x01*G\\'?=I\\x7fJ\\x05E(\\x13p\\x03YVs^\\x07?O:\\x015~ !\\x19|eH[%u5sZV\\x19\\x0f\\x19*TyLFOo/9P6Q\\x07nNS)5S\\x0f kw q$RR@c]&*\\x1aGohD\"Q'\n",
    "    ]\n",
    "}\n",
    "\n",
    "valid_species_dict = {}\n",
    "\n",
    "for species, descriptions in species_dict.items():\n",
    "    valid_descriptions = [d for d in descriptions if is_valid_text(d)]\n",
    "    valid_species_dict[species] = valid_descriptions\n",
    "\n",
    "print(valid_species_dict)"
   ]
  },
  {
   "cell_type": "code",
   "execution_count": 9,
   "metadata": {},
   "outputs": [],
   "source": [
    "text_len = []\n",
    "\n",
    "for text in caribbean_text_dict['Avicennia germinans']:\n",
    "\n",
    "    \n",
    "    # print(len(text))\n",
    "    text_len.append(len(text))"
   ]
  },
  {
   "cell_type": "code",
   "execution_count": 51,
   "metadata": {},
   "outputs": [],
   "source": [
    "def regex_cleaner(string):\n",
    "    \n",
    "    cleaners = [\n",
    "        (\"\\s+\", \" \"),\n",
    "    ]\n",
    "\n",
    "    for (cleaner, replacement) in cleaners:\n",
    "        string = re.sub(cleaner, replacement, string)\n",
    "\n",
    "    return string\n",
    "\n",
    "\n",
    "def json_para_cleaner(json_para_file):\n",
    "\n",
    "    with open(json_para_file, 'r') as f:\n",
    "        json_para_file_unclean = json.load(f)\n",
    "\n",
    "    paragraphs_cleaned = []\n",
    "    json_para_cleaned = {}\n",
    "\n",
    "    for species, paragraphs in json_para_file_unclean.items():\n",
    "\n",
    "        for paragraph in paragraphs:\n",
    "\n",
    "            # Keep only larger text\n",
    "            if len(paragraph) > 50:\n",
    "\n",
    "                paragraph = regex_cleaner(paragraph)\n",
    "                paragraphs_cleaned.append(paragraph)\n",
    "\n",
    "                # Drop duplicates\n",
    "                paragraphs_cleaned = list(set(paragraphs_cleaned))\n",
    "        \n",
    "        json_para_cleaned[species] = paragraphs_cleaned\n",
    "\n",
    "    return json_para_cleaned           \n",
    "    "
   ]
  }
 ],
 "metadata": {
  "kernelspec": {
   "display_name": "deeplearning",
   "language": "python",
   "name": "deeplearning"
  },
  "language_info": {
   "codemirror_mode": {
    "name": "ipython",
    "version": 3
   },
   "file_extension": ".py",
   "mimetype": "text/x-python",
   "name": "python",
   "nbconvert_exporter": "python",
   "pygments_lexer": "ipython3",
   "version": "3.10.4"
  },
  "orig_nbformat": 4
 },
 "nbformat": 4,
 "nbformat_minor": 2
}
