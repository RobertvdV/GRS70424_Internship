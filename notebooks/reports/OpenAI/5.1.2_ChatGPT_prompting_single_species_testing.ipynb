{
 "cells": [
  {
   "cell_type": "code",
   "execution_count": 11,
   "metadata": {},
   "outputs": [],
   "source": [
    "import torch\n",
    "import re\n",
    "import os\n",
    "import json\n",
    "import pickle\n",
    "import openai\n",
    "import pandas as pd\n",
    "import numpy as np\n",
    "import glob\n",
    "from tqdm import tqdm\n",
    "from dotenv import load_dotenv"
   ]
  },
  {
   "attachments": {},
   "cell_type": "markdown",
   "metadata": {},
   "source": [
    "### Dotenv"
   ]
  },
  {
   "cell_type": "code",
   "execution_count": 12,
   "metadata": {},
   "outputs": [],
   "source": [
    "load_dotenv()\n",
    "openai.api_key = os.environ['OPENAI_API']"
   ]
  },
  {
   "attachments": {},
   "cell_type": "markdown",
   "metadata": {},
   "source": [
    "### DataFrames"
   ]
  },
  {
   "cell_type": "code",
   "execution_count": 13,
   "metadata": {},
   "outputs": [],
   "source": [
    "root = \"../../../data/OpenAI/DataFrames/\"\n",
    "\n",
    "file = \"DF_Andrei.csv\"\n",
    "df_Andrei = pd.read_csv(F\"{root}{file}\", header=[0, 1], index_col=0)\\\n",
    "    .rename_axis('Species', axis='index')\n",
    "df_Andrei_species = list(df_Andrei.index)\n",
    "\n",
    "\n",
    "file = \"DF_Daniel.csv\"\n",
    "df_Daniel = pd.read_csv(F\"{root}{file}\", header=[0, 1], index_col=0)\\\n",
    "    .rename_axis('Species', axis='index')\\\n",
    "    .dropna()\n",
    "df_Daniel_species = list(df_Daniel.index)\n",
    "\n",
    "file = \"DF_Pierre.csv\"\n",
    "df_Pierre = pd.read_csv(F\"{root}{file}\", header=[0, 1], index_col=0)\\\n",
    "    .rename_axis('Species', axis='index')\n",
    "df_Pierre_species = list(df_Pierre.index)"
   ]
  },
  {
   "attachments": {},
   "cell_type": "markdown",
   "metadata": {},
   "source": [
    "### Trait Dicts"
   ]
  },
  {
   "cell_type": "code",
   "execution_count": 14,
   "metadata": {},
   "outputs": [],
   "source": [
    "folder_traits = \"../../../data/OpenAI/Traits/\"\n",
    "\n",
    "with open(F\"{folder_traits}Andrei.json\", 'r') as f:\n",
    "  caribbean_traits_dict = json.load(f)"
   ]
  },
  {
   "attachments": {},
   "cell_type": "markdown",
   "metadata": {},
   "source": [
    "### Text Data"
   ]
  },
  {
   "cell_type": "code",
   "execution_count": 15,
   "metadata": {},
   "outputs": [],
   "source": [
    "paragraph_folder = \"../../../data/OpenAI/DescriptionSnippets/Paragraphs/\"\n",
    "sentence_folder = \"../../../data/OpenAI/DescriptionSnippets/Sentences/\"\n",
    "\n",
    "caribbean_jsons_paras = glob.glob(F\"{paragraph_folder}c*\")\n",
    "caribbean_jsons_sents = glob.glob(F\"{sentence_folder}c*\")\n",
    "\n",
    "caribbean_jsons_paras.sort()\n",
    "caribbean_jsons_sents.sort()"
   ]
  },
  {
   "attachments": {},
   "cell_type": "markdown",
   "metadata": {},
   "source": [
    "### Single Species Testing"
   ]
  },
  {
   "cell_type": "code",
   "execution_count": 16,
   "metadata": {},
   "outputs": [],
   "source": [
    "with open(caribbean_jsons_paras[22], 'r') as f:\n",
    "  caribbean_species_para_test = json.load(f)\n",
    "\n",
    "with open(caribbean_jsons_sents[22], 'r') as f:\n",
    "  caribbean_species_sent_test = json.load(f)"
   ]
  },
  {
   "cell_type": "code",
   "execution_count": 17,
   "metadata": {},
   "outputs": [
    {
     "name": "stdout",
     "output_type": "stream",
     "text": [
      "Hippomane mancinella\n"
     ]
    }
   ],
   "source": [
    "species = list(caribbean_species_sent_test.keys())[0]\n",
    "print(species)"
   ]
  },
  {
   "cell_type": "code",
   "execution_count": 18,
   "metadata": {},
   "outputs": [
    {
     "data": {
      "text/plain": [
       "True"
      ]
     },
     "execution_count": 18,
     "metadata": {},
     "output_type": "execute_result"
    }
   ],
   "source": [
    "text_sent = ' '.join(caribbean_species_sent_test[species])\n",
    "text_paras = ' '.join(caribbean_species_para_test[species])\n",
    "\n",
    "text_paras == text_sent"
   ]
  },
  {
   "attachments": {},
   "cell_type": "markdown",
   "metadata": {},
   "source": [
    "### Prompting per Trait"
   ]
  },
  {
   "cell_type": "code",
   "execution_count": 19,
   "metadata": {},
   "outputs": [],
   "source": [
    "def create_prompt(paragraph, traits, question):\n",
    "\n",
    "    prompt = F\"\"\"\n",
    "    Text:\n",
    "    {paragraph}\n",
    "\n",
    "    Trait with possible options:\n",
    "    {traits}\n",
    "\n",
    "    {question}\n",
    "    \"\"\"\n",
    "\n",
    "    return prompt\n",
    "\n",
    "def combine_words_with_capital(string):\n",
    "    # remove non-alphanumeric characters\n",
    "    string = re.sub(r'[^\\w\\s]', '', string)  \n",
    "    # combine words with capitalization\n",
    "    string = ''.join(word.capitalize() for word in string.split())  \n",
    "    return string\n",
    "\n",
    "\n",
    "def query_ChatGPT(prompt):\n",
    "    messages = [\n",
    "    {\"role\": \"user\", \"content\": prompt}\n",
    "    ]\n",
    "\n",
    "    # Generate a response\n",
    "    completion = openai.ChatCompletion.create(\n",
    "        model=\"gpt-3.5-turbo\",\n",
    "        messages=messages,\n",
    "    )\n",
    "\n",
    "    return completion"
   ]
  },
  {
   "cell_type": "code",
   "execution_count": 20,
   "metadata": {},
   "outputs": [
    {
     "data": {
      "text/plain": [
       "{'Life form': ['liana', 'tree'],\n",
       " 'Leaf position': ['alternate',\n",
       "  'alternate, opposite',\n",
       "  'opposite',\n",
       "  'opposite, whorls of 3',\n",
       "  'opposite, whorls of 3, alternate'],\n",
       " 'Leaf composition': ['3 palmate',\n",
       "  '3-5 palmate',\n",
       "  '3-5 pinnate',\n",
       "  '3-5 pinnate, entire',\n",
       "  '5-11 pinnate',\n",
       "  '5-9 pinnate',\n",
       "  'bi-pinnate, 2 leaflets per jug',\n",
       "  'bi-pinnate, 20-40 leaflets per jug',\n",
       "  'bi-pinnate, 30-32 leaflets per jug',\n",
       "  'entire',\n",
       "  'pinnate, 4-6 leaflets',\n",
       "  'pinnate, 6-8 leaflets']}"
      ]
     },
     "execution_count": 20,
     "metadata": {},
     "output_type": "execute_result"
    }
   ],
   "source": [
    "caribbean_traits_dict = {k: caribbean_traits_dict[k][0:] for k in list(caribbean_traits_dict)[:3]}\n",
    "caribbean_traits_dict"
   ]
  },
  {
   "cell_type": "code",
   "execution_count": 70,
   "metadata": {},
   "outputs": [
    {
     "name": "stderr",
     "output_type": "stream",
     "text": [
      "100%|██████████| 3/3 [00:03<00:00,  1.29s/it]\n"
     ]
    }
   ],
   "source": [
    "folder_prompts = \"../../../data/OpenAI/PromptsResults/\"\n",
    "folder_species = species.replace(' ', '_')\n",
    "\n",
    "\n",
    "# For spss in species:\n",
    "\n",
    "try:\n",
    "    os.makedirs(F\"{folder_prompts}{folder_species}\")\n",
    "except FileExistsError:\n",
    "    # directory already exists\n",
    "    pass\n",
    "\n",
    "for trait, trait_options in tqdm(caribbean_traits_dict.items()):\n",
    "\n",
    "    ### PROMPT ###\n",
    "    \n",
    "    # Question\n",
    "    question = F\"\"\"Can you select the correct value(s) for the '{trait}' trait from the text?\n",
    "    Only return the correct value(s) or select 'Something else:' and fill in your finding(s).\"\"\"\n",
    "    \n",
    "    # List Options\n",
    "    # options = \"\\n\".join([F\"\\t- {s}\" for s in trait_options])\n",
    "    # options += \"\\n\\t- Nothing mentioned\\n\\t- Something else: \"\n",
    "    options = trait_options + [\"Nothing mentiond in the next\", \"Someting else\"]\n",
    "\n",
    "    # Text\n",
    "    text = text_paras\n",
    "\n",
    "    question = F\"\"\"\n",
    "    Question: \n",
    "    {question}\n",
    "    \n",
    "    Values: \n",
    "    {options}\n",
    "    \"\"\"\n",
    "    ### PROMPT ###\n",
    "\n",
    "    # messages = [\n",
    "    #     {\"role\": \"assistant\", \"content\": text},\n",
    "    #     {\"role\": \"user\", \"content\": question}\n",
    "    # ]\n",
    "\n",
    "    # # Generate a response\n",
    "    # completion = openai.ChatCompletion.create(\n",
    "    #     model = \"gpt-3.5-turbo\",\n",
    "    #     messages = messages,\n",
    "    # )\n",
    "\n",
    "    # file_name = combine_words_with_capital(trait)\n",
    "    # with open(F\"{folder_prompts}{folder_species}/{file_name}.json\", 'w') as fp:\n",
    "    #     json.dump(completion, fp)"
   ]
  },
  {
   "cell_type": "code",
   "execution_count": null,
   "metadata": {},
   "outputs": [],
   "source": []
  }
 ],
 "metadata": {
  "kernelspec": {
   "display_name": "deeplearning",
   "language": "python",
   "name": "deeplearning"
  },
  "language_info": {
   "codemirror_mode": {
    "name": "ipython",
    "version": 3
   },
   "file_extension": ".py",
   "mimetype": "text/x-python",
   "name": "python",
   "nbconvert_exporter": "python",
   "pygments_lexer": "ipython3",
   "version": "3.10.4"
  },
  "orig_nbformat": 4,
  "vscode": {
   "interpreter": {
    "hash": "51432b8e5767c06330d9b51dfad63f9db0ea39868e37d921b9c2e277373f8d11"
   }
  }
 },
 "nbformat": 4,
 "nbformat_minor": 2
}
