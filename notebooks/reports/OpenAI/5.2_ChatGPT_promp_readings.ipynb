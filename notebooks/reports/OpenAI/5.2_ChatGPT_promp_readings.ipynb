{
 "cells": [
  {
   "cell_type": "code",
   "execution_count": 30,
   "metadata": {},
   "outputs": [],
   "source": [
    "import json\n",
    "import numpy as np\n",
    "import pandas as pd\n",
    "import glob\n",
    "import re\n"
   ]
  },
  {
   "cell_type": "code",
   "execution_count": 6,
   "metadata": {},
   "outputs": [
    {
     "data": {
      "text/plain": [
       "['../../../data/OpenAI/PromptsResults/Amyris_ignea',\n",
       " '../../../data/OpenAI/PromptsResults/Avicennia_germinans',\n",
       " '../../../data/OpenAI/PromptsResults/Bursera_simaruba',\n",
       " '../../../data/OpenAI/PromptsResults/Bourreria_succulenta']"
      ]
     },
     "execution_count": 6,
     "metadata": {},
     "output_type": "execute_result"
    }
   ],
   "source": [
    "folder_prompts = \"../../../data/OpenAI/PromptsResults/\"\n",
    "\n",
    "species_folders = glob.glob(F\"{folder_prompts}*\")\n",
    "species_folders"
   ]
  },
  {
   "cell_type": "code",
   "execution_count": 63,
   "metadata": {},
   "outputs": [
    {
     "data": {
      "text/plain": [
       "['../../../data/OpenAI/PromptsResults/Bursera_simaruba/PetalsCorollaShape.json',\n",
       " '../../../data/OpenAI/PromptsResults/Bursera_simaruba/PetalsCorollaColour.json',\n",
       " '../../../data/OpenAI/PromptsResults/Bursera_simaruba/SepalsCalyxShape.json',\n",
       " '../../../data/OpenAI/PromptsResults/Bursera_simaruba/LeafPosition.json']"
      ]
     },
     "execution_count": 63,
     "metadata": {},
     "output_type": "execute_result"
    }
   ],
   "source": [
    "avicennia_json_list = glob.glob(F\"{species_folders[2]}/*\")\n",
    "avicennia_json_list[0:4]"
   ]
  },
  {
   "cell_type": "code",
   "execution_count": 64,
   "metadata": {},
   "outputs": [],
   "source": [
    "prompt_results_dict = {}\n",
    "\n",
    "for json_file in avicennia_json_list:\n",
    "\n",
    "    # Trait name\n",
    "    trait = json_file[56:-5]\n",
    "\n",
    "    # Try to read in the JSON file\n",
    "    with open(json_file, 'r') as f:\n",
    "        prompt_result = json.load(f)\n",
    "\n",
    "    prompt_results_dict[trait] = prompt_result['choices'][0]['message']['content']"
   ]
  },
  {
   "cell_type": "code",
   "execution_count": 57,
   "metadata": {},
   "outputs": [],
   "source": [
    "def string_to_list(input_dict):\n",
    "    \"\"\"\n",
    "    Converts values in a dictionary from string or list of string format to list format.\n",
    "    If the value is a string, it will check if it matches the pattern \"Value: <value>\" or \"Values: [<value1>, <value2>, ...]\".\n",
    "    If it matches, it will convert the value to a list with one or more items.\n",
    "    If it does not match, it will leave the value as a list with one item.\n",
    "\n",
    "    Args:\n",
    "        input_dict (dict): The input dictionary.\n",
    "\n",
    "    Returns:\n",
    "        dict: A new dictionary with values in list format.\n",
    "    \"\"\"\n",
    "    # Compile regular expression pattern to match \"Value: <value>\" or \"Values: [<value1>, <value2>, ...]\" patterns\n",
    "    pattern = re.compile(r\"^Value:\\s*(.*)|^Values:\\s*\\[(.*)\\]\")\n",
    "\n",
    "    # Create an empty dictionary to store the converted values\n",
    "    output_dict = {}\n",
    "\n",
    "    # Loop through the input dictionary\n",
    "    for key, value in input_dict.items():\n",
    "\n",
    "        # Use the regular expression pattern to search for a match in the value\n",
    "        match = pattern.search(value)\n",
    "\n",
    "        # If the value matches the pattern\n",
    "        if match:\n",
    "            # Get the matched groups (i.e. the values within the parentheses in the regular expression)\n",
    "            groups = match.groups()\n",
    "\n",
    "            # If the first group (i.e. the value in \"Value: <value>\") is not None\n",
    "            if groups[0]:\n",
    "                # Convert the value to a list with one item\n",
    "                output_dict[key] = [groups[0]]\n",
    "\n",
    "            # If the second group (i.e. the values in \"Values: [<value1>, <value2>, ...]\") is not None\n",
    "            elif groups[1]:\n",
    "                # Split the values by commas and remove any leading or trailing whitespace\n",
    "                values = [x.strip() for x in groups[1].split(\",\")]\n",
    "                # Convert the values to a list\n",
    "                output_dict[key] = values\n",
    "\n",
    "        # If the value does not match the pattern\n",
    "        else:\n",
    "            # Convert the value to a list with one item\n",
    "            output_dict[key] = [value]\n",
    "\n",
    "    # Return the converted dictionary\n",
    "    return output_dict\n",
    "\n"
   ]
  },
  {
   "cell_type": "code",
   "execution_count": 65,
   "metadata": {},
   "outputs": [
    {
     "data": {
      "text/plain": [
       "{'alsCorollaShape': 'None of the above.',\n",
       " 'alsCorollaColour': 'None of the above.',\n",
       " 'alsCalyxShape': \"None of the above. The text does not mention the trait 'Leaf composition'.\",\n",
       " 'fPosition': \"The text does not mention any of the values given for the 'Leaf composition' trait. Therefore, the correct answer is 'None of the above'.\",\n",
       " 'fMargin': \"None of the above. The text does not provide any specific value for the 'Leaf composition' trait.\",\n",
       " 'lorescenceType': \"None of the above. The text does not provide any of these values as a description of the 'Leaf composition' trait.\",\n",
       " 'dColour': \"The text does not mention any of the values listed for the 'Leaf composition' trait. Therefore, the correct answer is 'None of the above'.\",\n",
       " 'fGlands': \"The text does not mention any of the values listed for the 'Leaf composition' trait. Therefore, the correct answer is 'None of the above'.\",\n",
       " 'pules': \"The information provided in the text does not mention any values for the 'Leaf composition' trait, therefore the correct answer is: 'None of the above'.\",\n",
       " 'alsCalyxNumer': \"Values: ['3-9', 'odd-pinnately compound']\",\n",
       " 'itColour': \"Values: ['green', 'green, black, whitish', 'green, orange', 'green, orange, red', 'green, red', 'green, yellow', 'greyish', 'whitish green', 'yellow, orange', 'yellowish']\",\n",
       " 'fUpperSide': 'None of the above.',\n",
       " 'rnsspines': \"None of the above. The text does not provide any of the mentioned values to describe the 'Leaf composition' trait.\",\n",
       " 'eForm': 'None of the above.',\n",
       " 'fRachis': 'None of the above.',\n",
       " 'fShape': \"Values: ['elliptic', 'elliptic, elongate', 'elliptic, lanceolate', 'elliptic, obovate', 'elliptic, ovate', 'elliptic, ovate, round', 'elongate', 'elongate, elliptic, obovate', 'elongate, obovate', 'kidney-shaped, circular', 'lanceolate, elliptic', 'linear', 'linear, obovate', 'obovate', 'obovate, elliptic', 'obovate, spathulate', 'ovate', 'ovate, circular', 'ovate, elliptic', 'ovate, elliptic, elongate', 'ovate, heart-shaped', 'spathulate, obovate']\",\n",
       " 'itShape': \"None of the above. The text does not provide a specific value for the 'Leaf composition' trait.\",\n",
       " 'menShape': 'None of the above.',\n",
       " 'alsCorollaNumber': 'None of the above.',\n",
       " 'menNumber': \"Values: ['odd-pinnately compound', 'made up of 3-9 leaflets']\",\n",
       " 'fLowerSide': 'None of the above.',\n",
       " 'itType': \"None of the above. The text does not mention any of these values as describing the 'Leaf composition' trait.\",\n",
       " 'lColour': 'None of the above.',\n",
       " 'fComposition': 'None of the above. There is no mention of the specific leaf composition trait in the given text.'}"
      ]
     },
     "execution_count": 65,
     "metadata": {},
     "output_type": "execute_result"
    }
   ],
   "source": [
    "prompt_results_dict"
   ]
  },
  {
   "cell_type": "code",
   "execution_count": 59,
   "metadata": {},
   "outputs": [
    {
     "data": {
      "text/plain": [
       "{'PetalsCorollaShape': ['None of the above.'],\n",
       " 'PetalsCorollaColour': [\"'dark green above\",\n",
       "  'silvery hairy below',\n",
       "  \"may have salt deposits on their upper surfaces due to salt excretion'\"],\n",
       " 'SepalsCalyxShape': ['None of the above.'],\n",
       " 'LeafPosition': [\"The correct value for the 'Leaf composition' trait mentioned in the text is 'opposite'.\"],\n",
       " 'LeafMargin': [\"The values that correctly describe the 'Leaf composition' trait mentioned in the text are: 'entire'.\"],\n",
       " 'InflorescenceType': [\"None of the above. The text does not provide any of the mentioned values as descriptions of the 'Leaf composition' trait.\"],\n",
       " 'SeedColour': [\"'dark green above'\",\n",
       "  \"'silver-white underneath'\",\n",
       "  \"'whitish from salt excreted at night and on cloudy days'\"],\n",
       " 'LeafGlands': [\"'glands near basis and leaf margin'\"],\n",
       " 'Stipules': ['present'],\n",
       " 'SepalsCalyxNumer': [\"'2-3'\"],\n",
       " 'FruitColour': [\"'dark green above\",\n",
       "  'silvery hairy below',\n",
       "  \"may have salt deposits on their upper surfaces due to salt excretion.'\"],\n",
       " 'LeafUpperSide': [\"'salt crystals'\"],\n",
       " 'Thornsspines': ['The given options do not accurately describe the Leaf composition trait mentioned in the text. No information about the number of leaves per axil or the presence of thorns is provided in the text. Therefore, the correct answer is \"None of the above.\"'],\n",
       " 'LifeForm': [\"'tree'\"],\n",
       " 'LeafRachis': ['None of the above.'],\n",
       " 'LeafShape': [\"'elliptic'\",\n",
       "  \"'elliptic\",\n",
       "  \"lanceolate'\",\n",
       "  \"'obovate'\",\n",
       "  \"'ovate'\",\n",
       "  \"'spathulate\",\n",
       "  \"obovate'\"],\n",
       " 'FruitShape': [\"['elongate']\"],\n",
       " 'StamenShape': [\"['short'] correctly describes the 'Leaf composition' trait mentioned in the text.\"],\n",
       " 'PetalsCorollaNumber': [\"'3-5'\",\n",
       "  \"'dark green above\",\n",
       "  \"silvery hairy below'\",\n",
       "  \"'may have salt deposits on their upper surfaces due to salt excretion'\"],\n",
       " 'StamenNumber': [\"'2'\", \"'5-6'\"],\n",
       " 'LeafLowerSide': [\"'pubescent'\", \"'silvery hairy'\"],\n",
       " 'FruitType': [\"['None of the above']\"],\n",
       " 'ArilColour': [\"'dark green above'\", \"'grey to white underside'\"],\n",
       " 'LeafComposition': [\"'entire'\"]}"
      ]
     },
     "execution_count": 59,
     "metadata": {},
     "output_type": "execute_result"
    }
   ],
   "source": [
    "newer_dict = string_to_list(prompt_results_dict)\n",
    "newer_dict"
   ]
  }
 ],
 "metadata": {
  "kernelspec": {
   "display_name": "venv",
   "language": "python",
   "name": "python3"
  },
  "language_info": {
   "codemirror_mode": {
    "name": "ipython",
    "version": 3
   },
   "file_extension": ".py",
   "mimetype": "text/x-python",
   "name": "python",
   "nbconvert_exporter": "python",
   "pygments_lexer": "ipython3",
   "version": "3.9.13"
  },
  "orig_nbformat": 4
 },
 "nbformat": 4,
 "nbformat_minor": 2
}
