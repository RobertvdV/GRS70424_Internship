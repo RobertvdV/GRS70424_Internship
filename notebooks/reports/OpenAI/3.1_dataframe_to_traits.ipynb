{
 "cells": [
  {
   "cell_type": "code",
   "execution_count": 1,
   "metadata": {},
   "outputs": [],
   "source": [
    "import pandas as pd\n",
    "import json\n"
   ]
  },
  {
   "attachments": {},
   "cell_type": "markdown",
   "metadata": {},
   "source": [
    "### Dataframes"
   ]
  },
  {
   "cell_type": "code",
   "execution_count": 2,
   "metadata": {},
   "outputs": [],
   "source": [
    "root = \"../../../data/OpenAI/DataFrames/\"\n",
    "\n",
    "file = \"DF_Andrei.csv\"\n",
    "df_Andrei = pd.read_csv(F\"{root}{file}\", header=[0, 1], index_col=0)\\\n",
    "    .rename_axis('Species', axis='index')\n",
    "\n",
    "file = \"DF_Daniel.csv\"\n",
    "df_Daniel = pd.read_csv(F\"{root}{file}\", header=[0, 1], index_col=0)\\\n",
    "    .rename_axis('Species', axis='index')\n",
    "\n",
    "file = \"DF_Pierre.csv\"\n",
    "df_Pierre = pd.read_csv(F\"{root}{file}\", header=[0, 1], index_col=0)\\\n",
    "    .rename_axis('Species', axis='index')\n"
   ]
  },
  {
   "cell_type": "code",
   "execution_count": 4,
   "metadata": {},
   "outputs": [
    {
     "data": {
      "text/plain": [
       "Index(['liana', 'tree', 'alternate', 'alternate, opposite', 'opposite',\n",
       "       'opposite, whorls of 3', 'opposite, whorls of 3, alternate',\n",
       "       '3 palmate', '3-5 palmate', '3-5 pinnate',\n",
       "       ...\n",
       "       'orange, yellow, red', 'purple, black', 'red, black',\n",
       "       'red, purple-brown', 'reddish purple', 'whitish green', 'yellowish',\n",
       "       'NA?', 'yellow-geen', 'grey'],\n",
       "      dtype='object', length=167)"
      ]
     },
     "execution_count": 4,
     "metadata": {},
     "output_type": "execute_result"
    }
   ],
   "source": [
    "df_Andrei.columns.get_level_values(1).unique()"
   ]
  },
  {
   "cell_type": "code",
   "execution_count": 5,
   "metadata": {},
   "outputs": [],
   "source": [
    "def create_trait_dict(multi_index):\n",
    "    # Create an empty dictionary\n",
    "    result_dict = {}\n",
    "\n",
    "    # Iterate through the MultiIndex object\n",
    "    for idx in multi_index:\n",
    "        key = idx[0]\n",
    "        value = idx[1]\n",
    "        if key not in result_dict:\n",
    "            result_dict[key] = []\n",
    "        # Error from Andre\n",
    "        if 'NA' in value:\n",
    "            continue\n",
    "        result_dict[key].append(value)\n",
    "    \n",
    "    return result_dict\n",
    "\n",
    "root = \"../../../data/OpenAI/Traits/\"\n",
    "\n",
    "for (name, df) in zip(\n",
    "            [\"Andrei\", \"Daniel\", \"Pierre\"], \n",
    "            [df_Andrei, df_Daniel, df_Pierre]\n",
    "            ):\n",
    "    res = create_trait_dict(df.columns)\n",
    "\n",
    "    with open(F\"{root}{name}.json\", 'w') as fp:\n",
    "        json.dump(res, fp)"
   ]
  },
  {
   "cell_type": "code",
   "execution_count": 5,
   "metadata": {},
   "outputs": [
    {
     "data": {
      "text/plain": [
       "{'plant type': ['Tree',\n",
       "  'Shrub',\n",
       "  'Bush',\n",
       "  'Ficus strangler',\n",
       "  'Liana',\n",
       "  'Parasitic',\n",
       "  'Palm tree',\n",
       "  'Herbaceous'],\n",
       " 'phyllotaxis': ['Phyllotaxis alternate',\n",
       "  'Opposite phyllotaxis',\n",
       "  'Phyllotaxis whorled'],\n",
       " 'trunk and root': ['Base of trunk straight',\n",
       "  'Base of trunk flared',\n",
       "  'Foothills',\n",
       "  'Stilt roots',\n",
       "  'Aerial roots'],\n",
       " 'latex': ['No exudate',\n",
       "  'Clear latex',\n",
       "  'Clear gum or resin',\n",
       "  'White latex',\n",
       "  'Yellow latex',\n",
       "  'Dark gum or resin'],\n",
       " 'crown': ['Regular density of the crown',\n",
       "  'Leaves grouped at the top of the axes',\n",
       "  'Horizontally spreading crowns',\n",
       "  'drooping axles',\n",
       "  'Stepped crown',\n",
       "  'Candelabra-shaped crown'],\n",
       " 'stem shape': ['Circular stem section', 'Square stem section'],\n",
       " 'bark': ['Smooth bark',\n",
       "  'Finely fissured bark',\n",
       "  'Presence of spines or prickles on the trunk',\n",
       "  'Papyrus bark',\n",
       "  'Bark peeling in patches',\n",
       "  'Cracked bark'],\n",
       " 'bark color': ['Slice in light bark',\n",
       "  'Slice through pink bark',\n",
       "  'Slice through red bark',\n",
       "  'Slice through brown bark',\n",
       "  'Slice through orange bark with green rhytidome',\n",
       "  'Slice through yellow bark with green rhytidome',\n",
       "  'Slice through light bark with red mottling',\n",
       "  'Slice through yellow bark with brown mottling'],\n",
       " 'leaf shape': ['Simple leaf',\n",
       "  'Bifoliate leaf',\n",
       "  'Trifoliate leaf',\n",
       "  'Digitized leaf',\n",
       "  'Leaves transformed into scales',\n",
       "  'Paripinnate leaf',\n",
       "  'Unipinnate leaf with opposite leaflets',\n",
       "  'Imperipinnate leaf with alternate leaflets',\n",
       "  'Bipinnate leaf',\n",
       "  'Three-pinnate leaf'],\n",
       " 'petiole': ['Sessile leaf',\n",
       "  'Petiolated leaf',\n",
       "  'Petiole canaliculate',\n",
       "  'Petiole with glands',\n",
       "  'Winged petiole',\n",
       "  'Petiole with glandular hairs'],\n",
       " 'leaf blade': ['Linear leaf blade',\n",
       "  'lanceolate blade',\n",
       "  'elliptical blade',\n",
       "  'obovate blade',\n",
       "  'obtriangular blade',\n",
       "  'asymmetrical blade',\n",
       "  'orbicular blade',\n",
       "  'bilobed blade',\n",
       "  'lobed blade',\n",
       "  'leaf with deep lobes'],\n",
       " 'leaf margin': ['Smooth leaf margin',\n",
       "  'Margin of the wavy leaf',\n",
       "  'Margin of crenate leaf',\n",
       "  'Margin of toothed leaf'],\n",
       " 'leaf base': ['Leaf base attenuated',\n",
       "  'Rounded leaf base',\n",
       "  'Leaf base cordate',\n",
       "  'Leaf base with glands'],\n",
       " 'leaf apex': ['Leaf apex sharp corner',\n",
       "  'Leaf apex with wide corners',\n",
       "  'Leaf apex acuminate',\n",
       "  'Leaf apex apiculate',\n",
       "  'Leaf apex mucronate',\n",
       "  'Rounded leaf apex',\n",
       "  'Leaf apex emarginated'],\n",
       " 'vein': ['Only the main vein is visible',\n",
       "  'Pinnate venation with secondary veins intersecting the edge of the leaf blade',\n",
       "  'Pinnate venation with secondary veins connecting near the margin of the blade',\n",
       "  'Blade trinervate at base',\n",
       "  'Palmate venation with at least 5 main veins'],\n",
       " 'tendril': ['Plant without tendrils',\n",
       "  'Plant with tendrils, or one that rolls up on a support'],\n",
       " 'spine': ['Plant without spines',\n",
       "  '2 straight prickles at the base of the petiole',\n",
       "  '1 straight and 1 hooked spine at base of petiole',\n",
       "  '2 hooked spines at base of petiole',\n",
       "  'Hooked spines randomly distributed on the axes',\n",
       "  'Spines resulting from transformation of a shoot or petiole',\n",
       "  '3 prickles at base of petiole, 2 pointing upwards',\n",
       "  '3 spines at base of petiole, pointing downwards'],\n",
       " 'blade color': ['Uniformly coloured blade', 'Leaf blade discoloured'],\n",
       " 'fruit': ['Drupe, or drupe-like fruit',\n",
       "  'Berry, or berry-like fruit',\n",
       "  'Capsule',\n",
       "  'Pod',\n",
       "  'Follicle',\n",
       "  'Achene',\n",
       "  'Winged fruit'],\n",
       " 'inflorescences': ['Flower isolated or in groups of 2 or 3',\n",
       "  'Spike of flowers or inflorescences',\n",
       "  'Rootlet or cluster of flowers or inflorescences',\n",
       "  'Corymb of flowers or inflorescences',\n",
       "  'Umbel of flowers or inflorescences',\n",
       "  'Fascicle of flowers or inflorescences',\n",
       "  'Glomerule of flowers or inflorescences',\n",
       "  'Cyme of flowers or inflorescences',\n",
       "  'Flower head',\n",
       "  'Panicle of flowers or inflorescences'],\n",
       " 'sexuality': ['Axillary sexuality', 'Terminal sexuality'],\n",
       " 'flower color': ['White flower',\n",
       "  'Pink coloured flower',\n",
       "  'Red coloured flower',\n",
       "  'Yellow coloured flower',\n",
       "  'Green coloured flower'],\n",
       " 'flower shape': ['Single-petalled flower',\n",
       "  'Three-petalled flower',\n",
       "  'Four-petalled flower',\n",
       "  'Five-petalled flower',\n",
       "  'Flower with 6 or more petals',\n",
       "  'Tubular flower',\n",
       "  'Butterfly-shaped flower',\n",
       "  'Apetal flower']}"
      ]
     },
     "execution_count": 5,
     "metadata": {},
     "output_type": "execute_result"
    }
   ],
   "source": [
    "res"
   ]
  }
 ],
 "metadata": {
  "kernelspec": {
   "display_name": "deeplearning",
   "language": "python",
   "name": "python3"
  },
  "language_info": {
   "codemirror_mode": {
    "name": "ipython",
    "version": 3
   },
   "file_extension": ".py",
   "mimetype": "text/x-python",
   "name": "python",
   "nbconvert_exporter": "python",
   "pygments_lexer": "ipython3",
   "version": "3.9.16"
  },
  "orig_nbformat": 4,
  "vscode": {
   "interpreter": {
    "hash": "51432b8e5767c06330d9b51dfad63f9db0ea39868e37d921b9c2e277373f8d11"
   }
  }
 },
 "nbformat": 4,
 "nbformat_minor": 2
}
