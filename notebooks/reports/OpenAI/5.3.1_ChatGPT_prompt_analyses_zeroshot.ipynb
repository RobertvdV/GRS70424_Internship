{
 "cells": [
  {
   "cell_type": "code",
   "execution_count": 1,
   "metadata": {},
   "outputs": [],
   "source": [
    "import numpy as np\n",
    "import pandas as pd\n",
    "import glob\n",
    "import re\n",
    "from tqdm import tqdm\n",
    "import os.path\n",
    "import collections\n",
    "from collections import defaultdict\n",
    "from sklearn.metrics import roc_curve, auc, precision_recall_curve\n",
    "import matplotlib.pyplot as plt\n",
    "import seaborn as sns\n",
    "import plotly.graph_objs as go\n",
    "import plotly.express as px\n"
   ]
  },
  {
   "cell_type": "code",
   "execution_count": 2,
   "metadata": {},
   "outputs": [],
   "source": [
    "\n",
    "folder_prompt_ = \"../../../data/OpenAI/PromptsAnalysesData/ZeroShot/\"\n",
    "\n",
    "file = \"caribbean_df_GT.csv\"\n",
    "df_caribbean_GT = pd.read_csv(F\"{folder_prompt_}{file}\", header=[0, 1], index_col=0)\\\n",
    "    .rename_axis('Species', axis='index')\n",
    "\n",
    "file = \"caribbean_df_ChatGPT.csv\"\n",
    "df_caribbean_ChatGPT = pd.read_csv(F\"{folder_prompt_}{file}\", header=[0, 1], index_col=0)\\\n",
    "    .rename_axis('Species', axis='index')"
   ]
  },
  {
   "cell_type": "code",
   "execution_count": 3,
   "metadata": {},
   "outputs": [],
   "source": [
    "# df_caribbean_GT = df_caribbean_GT.droplevel(0, axis=1) \n",
    "# df_caribbean_ChatGPT = df_caribbean_ChatGPT.droplevel(0, axis=1) \n",
    "\n",
    "# df_caribbean_GT.columns = df_caribbean_GT.columns.get_level_values(0)\n",
    "# df_caribbean_ChatGPT.columns = df_caribbean_ChatGPT.columns.get_level_values(0)\n",
    "\n",
    "# df_caribbean_GT.columns = [' '.join(col) for col in df_caribbean_GT.columns.values]\n",
    "# df_caribbean_ChatGPT.columns = [' '.join(col) for col in df_caribbean_ChatGPT.columns.values]"
   ]
  },
  {
   "cell_type": "code",
   "execution_count": 4,
   "metadata": {},
   "outputs": [],
   "source": [
    "# df_caribbean_ChatGPT.compare(df_caribbean_GT)\n",
    "# df_caribbean_ChatGPT.compare(df_caribbean_GT,\n",
    "#                         # keep_shape=True,\n",
    "#                         keep_equal=False,\n",
    "#                         )\n",
    "\n",
    "df = df_caribbean_GT.subtract(df_caribbean_ChatGPT)\n",
    "df = df.fillna(\"Fail\")\n",
    "df = df.applymap(lambda x: 'Correct' if isinstance(x, (int, float)) and x == 0 else x)\n",
    "df = df.applymap(lambda x: 'Incorrect' if isinstance(x, (int, float)) and x == -1 else x)\n",
    "df = df.applymap(lambda x: 'Incorrect' if isinstance(x, (int, float)) and x == 1 else x)"
   ]
  },
  {
   "attachments": {},
   "cell_type": "markdown",
   "metadata": {},
   "source": [
    "### Plotting"
   ]
  },
  {
   "attachments": {},
   "cell_type": "markdown",
   "metadata": {},
   "source": [
    "##### Old"
   ]
  },
  {
   "cell_type": "code",
   "execution_count": 5,
   "metadata": {},
   "outputs": [],
   "source": [
    "# group_labels = [trait for (trait, _) in df.columns]\n",
    "# sub_labels = [sublabel.capitalize() for (_, sublabel) in df.columns]\n",
    "# number_labels = [number for number, (_, _) in enumerate(df.columns)]\n",
    "\n",
    "# correct_lst = []\n",
    "# incorrect_lst = []\n",
    "# fail_lst = []\n",
    "# for column in df.columns:\n",
    "\n",
    "#     # Correct\n",
    "#     value = df[column].str.count(\"Correct\").sum() # Cannot sum directly\n",
    "#     correct_lst.append(value)\n",
    "\n",
    "#         # Correct\n",
    "#     value = df[column].str.count(\"Incorrect\").sum() # Cannot sum directly\n",
    "#     incorrect_lst.append(value)\n",
    "\n",
    "#         # Correct\n",
    "#     value = df[column].str.count(\"Fail\").sum() # Cannot sum directly\n",
    "#     fail_lst.append(value)\n",
    "\n",
    "# total = len(df_caribbean_ChatGPT.index)\n",
    "\n",
    "# correct_lst = np.array(correct_lst)\n",
    "# incorrect_lst = np.array(incorrect_lst)\n",
    "# fail_lst = np.array(fail_lst)\n",
    "\n",
    "# correct_lst = correct_lst / total * 100\n",
    "# incorrect_lst = incorrect_lst / total * 100\n",
    "# fail_lst = fail_lst / total * 100\n",
    "\n",
    "# fig = go.Figure()\n",
    "\n",
    "# predictions = [\n",
    "#     \"Correct\",\n",
    "#     \"Incorrect\",\n",
    "#     \"No Information Found\"\n",
    "# ]\n",
    "\n",
    "# colors = [\n",
    "#     \"green\",\n",
    "#     \"red\",\n",
    "#     \"blue\"\n",
    "# ]\n",
    "\n",
    "# lsts = [\n",
    "#     correct_lst,\n",
    "#     incorrect_lst,\n",
    "#     fail_lst\n",
    "# ]\n",
    "\n",
    "# x = [\n",
    "#     group_labels,\n",
    "#     number_labels\n",
    "# ]\n",
    "\n",
    "# for (prediction, color, lst) in zip(predictions, colors, lsts):\n",
    "#     fig.add_bar(\n",
    "#         name=prediction,\n",
    "#         x=x,\n",
    "#         y=lst,\n",
    "#         marker_color=color,\n",
    "#         constraintext='outside',\n",
    "#         hovertext=sub_labels,\n",
    "#         textposition='auto'\n",
    "#         )\n",
    "    \n",
    "# fig.update_layout(\n",
    "#     # uniformtext_minsize=8, uniformtext_mode='hide',\n",
    "#     title='ChatGPT Predictions',\n",
    "#     # xaxis_tickfont_size=6,\n",
    "#     yaxis=dict(\n",
    "#         title='Percentage',\n",
    "#         titlefont_size=16,\n",
    "#         # tickfont_size=3,\n",
    "#     ),\n",
    "\n",
    "#     barmode='relative',\n",
    "#     bargap=0.0, # gap between bars of adjacent location coordinates.\n",
    "#     bargroupgap=0.00, # gap between bars of the same location coordinate.\n",
    "    \n",
    "# )\n",
    "\n",
    "# fig.show()\n",
    "\n",
    "\n",
    "# folder_figures = \"../../../reports/figures/\"\n",
    "# file_name = \"PxPlot_HTML_BarchartPredictions.html\"\n",
    "# fig.write_html(F\"{folder_figures}{file_name}\")\n",
    "# file_name = \"PxPlot_PDF_BarchartPredictions.pdf\"\n",
    "# fig.write_image(F\"{folder_figures}{file_name}\")"
   ]
  },
  {
   "attachments": {},
   "cell_type": "markdown",
   "metadata": {},
   "source": [
    "##### New"
   ]
  },
  {
   "cell_type": "code",
   "execution_count": 6,
   "metadata": {},
   "outputs": [],
   "source": [
    "x_data = []\n",
    "y_data = []\n",
    "for column in df.columns.get_level_values(0).unique():\n",
    "\n",
    "    values = df[column].values\n",
    "    size = df[column].values.size\n",
    "\n",
    "    correct = round((values=='Correct').sum() / size * 100, 2)\n",
    "    incorrect = round((values=='Incorrect').sum() / size * 100, 2)\n",
    "    fail = round((values=='Fail').sum() / size * 100, 2)\n",
    "\n",
    "    x_data.append([correct, incorrect, fail])\n",
    "\n",
    "    y_data.append(column)\n",
    "\n",
    "x_data = np.array(x_data)\n",
    "y_data = np.array(y_data)\n",
    "\n",
    "sorted_indices = np.argsort(x_data[:, 0])\n",
    "\n",
    "x_data = x_data[sorted_indices]\n",
    "y_data = y_data[sorted_indices]"
   ]
  },
  {
   "cell_type": "code",
   "execution_count": 9,
   "metadata": {},
   "outputs": [
    {
     "data": {
      "application/vnd.plotly.v1+json": {
       "config": {
        "plotlyServerURL": "https://plot.ly"
       },
       "data": [
        {
         "marker": {
          "color": "#2ca02c",
          "line": {
           "color": "rgb(248, 248, 249)",
           "width": 1
          }
         },
         "orientation": "h",
         "type": "bar",
         "x": [
          26.67
         ],
         "y": [
          "Aril colour"
         ]
        },
        {
         "marker": {
          "color": "#2ca02c",
          "line": {
           "color": "rgb(248, 248, 249)",
           "width": 1
          }
         },
         "orientation": "h",
         "type": "bar",
         "x": [
          45.24
         ],
         "y": [
          "Leaf rachis"
         ]
        },
        {
         "marker": {
          "color": "#2ca02c",
          "line": {
           "color": "rgb(248, 248, 249)",
           "width": 1
          }
         },
         "orientation": "h",
         "type": "bar",
         "x": [
          51.19
         ],
         "y": [
          "Sepals calyx shape"
         ]
        },
        {
         "marker": {
          "color": "#2ca02c",
          "line": {
           "color": "rgb(248, 248, 249)",
           "width": 1
          }
         },
         "orientation": "h",
         "type": "bar",
         "x": [
          55.56
         ],
         "y": [
          "Stipules"
         ]
        },
        {
         "marker": {
          "color": "#2ca02c",
          "line": {
           "color": "rgb(248, 248, 249)",
           "width": 1
          }
         },
         "orientation": "h",
         "type": "bar",
         "x": [
          57.74
         ],
         "y": [
          "Petals corolla shape"
         ]
        },
        {
         "marker": {
          "color": "#2ca02c",
          "line": {
           "color": "rgb(248, 248, 249)",
           "width": 1
          }
         },
         "orientation": "h",
         "type": "bar",
         "x": [
          62.3
         ],
         "y": [
          "Seed colour"
         ]
        },
        {
         "marker": {
          "color": "#2ca02c",
          "line": {
           "color": "rgb(248, 248, 249)",
           "width": 1
          }
         },
         "orientation": "h",
         "type": "bar",
         "x": [
          73.41
         ],
         "y": [
          "Leaf glands"
         ]
        },
        {
         "marker": {
          "color": "#2ca02c",
          "line": {
           "color": "rgb(248, 248, 249)",
           "width": 1
          }
         },
         "orientation": "h",
         "type": "bar",
         "x": [
          75
         ],
         "y": [
          "Leaf lower side"
         ]
        },
        {
         "marker": {
          "color": "#2ca02c",
          "line": {
           "color": "rgb(248, 248, 249)",
           "width": 1
          }
         },
         "orientation": "h",
         "type": "bar",
         "x": [
          78.57
         ],
         "y": [
          "Leaf upper side"
         ]
        },
        {
         "marker": {
          "color": "#2ca02c",
          "line": {
           "color": "rgb(248, 248, 249)",
           "width": 1
          }
         },
         "orientation": "h",
         "type": "bar",
         "x": [
          82.86
         ],
         "y": [
          "Leaf margin"
         ]
        },
        {
         "marker": {
          "color": "#2ca02c",
          "line": {
           "color": "rgb(248, 248, 249)",
           "width": 1
          }
         },
         "orientation": "h",
         "type": "bar",
         "x": [
          83.33
         ],
         "y": [
          "Stamen shape"
         ]
        },
        {
         "marker": {
          "color": "#2ca02c",
          "line": {
           "color": "rgb(248, 248, 249)",
           "width": 1
          }
         },
         "orientation": "h",
         "type": "bar",
         "x": [
          84.66
         ],
         "y": [
          "Sepals calyx numer"
         ]
        },
        {
         "marker": {
          "color": "#2ca02c",
          "line": {
           "color": "rgb(248, 248, 249)",
           "width": 1
          }
         },
         "orientation": "h",
         "type": "bar",
         "x": [
          85.71
         ],
         "y": [
          "Petals corolla number"
         ]
        },
        {
         "marker": {
          "color": "#2ca02c",
          "line": {
           "color": "rgb(248, 248, 249)",
           "width": 1
          }
         },
         "orientation": "h",
         "type": "bar",
         "x": [
          86.73
         ],
         "y": [
          "Fruit type"
         ]
        },
        {
         "marker": {
          "color": "#2ca02c",
          "line": {
           "color": "rgb(248, 248, 249)",
           "width": 1
          }
         },
         "orientation": "h",
         "type": "bar",
         "x": [
          86.8
         ],
         "y": [
          "Inflorescence type"
         ]
        },
        {
         "marker": {
          "color": "#2ca02c",
          "line": {
           "color": "rgb(248, 248, 249)",
           "width": 1
          }
         },
         "orientation": "h",
         "type": "bar",
         "x": [
          86.81
         ],
         "y": [
          "Stamen number"
         ]
        },
        {
         "marker": {
          "color": "#2ca02c",
          "line": {
           "color": "rgb(248, 248, 249)",
           "width": 1
          }
         },
         "orientation": "h",
         "type": "bar",
         "x": [
          87.62
         ],
         "y": [
          "Thorns spines"
         ]
        },
        {
         "marker": {
          "color": "#2ca02c",
          "line": {
           "color": "rgb(248, 248, 249)",
           "width": 1
          }
         },
         "orientation": "h",
         "type": "bar",
         "x": [
          89.52
         ],
         "y": [
          "Leaf position"
         ]
        },
        {
         "marker": {
          "color": "#2ca02c",
          "line": {
           "color": "rgb(248, 248, 249)",
           "width": 1
          }
         },
         "orientation": "h",
         "type": "bar",
         "x": [
          89.88
         ],
         "y": [
          "Leaf composition"
         ]
        },
        {
         "marker": {
          "color": "#2ca02c",
          "line": {
           "color": "rgb(248, 248, 249)",
           "width": 1
          }
         },
         "orientation": "h",
         "type": "bar",
         "x": [
          89.94
         ],
         "y": [
          "Leaf shape"
         ]
        },
        {
         "marker": {
          "color": "#2ca02c",
          "line": {
           "color": "rgb(248, 248, 249)",
           "width": 1
          }
         },
         "orientation": "h",
         "type": "bar",
         "x": [
          90
         ],
         "y": [
          "Fruit colour"
         ]
        },
        {
         "marker": {
          "color": "#2ca02c",
          "line": {
           "color": "rgb(248, 248, 249)",
           "width": 1
          }
         },
         "orientation": "h",
         "type": "bar",
         "x": [
          90.48
         ],
         "y": [
          "Life form"
         ]
        },
        {
         "marker": {
          "color": "#2ca02c",
          "line": {
           "color": "rgb(248, 248, 249)",
           "width": 1
          }
         },
         "orientation": "h",
         "type": "bar",
         "x": [
          91.46
         ],
         "y": [
          "Fruit shape"
         ]
        },
        {
         "marker": {
          "color": "#2ca02c",
          "line": {
           "color": "rgb(248, 248, 249)",
           "width": 1
          }
         },
         "orientation": "h",
         "type": "bar",
         "x": [
          91.6
         ],
         "y": [
          "Petals corolla colour"
         ]
        },
        {
         "marker": {
          "color": "#d62728",
          "line": {
           "color": "rgb(248, 248, 249)",
           "width": 1
          }
         },
         "orientation": "h",
         "type": "bar",
         "x": [
          73.33
         ],
         "y": [
          "Aril colour"
         ]
        },
        {
         "marker": {
          "color": "#d62728",
          "line": {
           "color": "rgb(248, 248, 249)",
           "width": 1
          }
         },
         "orientation": "h",
         "type": "bar",
         "x": [
          54.76
         ],
         "y": [
          "Leaf rachis"
         ]
        },
        {
         "marker": {
          "color": "#d62728",
          "line": {
           "color": "rgb(248, 248, 249)",
           "width": 1
          }
         },
         "orientation": "h",
         "type": "bar",
         "x": [
          48.81
         ],
         "y": [
          "Sepals calyx shape"
         ]
        },
        {
         "marker": {
          "color": "#d62728",
          "line": {
           "color": "rgb(248, 248, 249)",
           "width": 1
          }
         },
         "orientation": "h",
         "type": "bar",
         "x": [
          44.44
         ],
         "y": [
          "Stipules"
         ]
        },
        {
         "marker": {
          "color": "#d62728",
          "line": {
           "color": "rgb(248, 248, 249)",
           "width": 1
          }
         },
         "orientation": "h",
         "type": "bar",
         "x": [
          42.26
         ],
         "y": [
          "Petals corolla shape"
         ]
        },
        {
         "marker": {
          "color": "#d62728",
          "line": {
           "color": "rgb(248, 248, 249)",
           "width": 1
          }
         },
         "orientation": "h",
         "type": "bar",
         "x": [
          37.7
         ],
         "y": [
          "Seed colour"
         ]
        },
        {
         "marker": {
          "color": "#d62728",
          "line": {
           "color": "rgb(248, 248, 249)",
           "width": 1
          }
         },
         "orientation": "h",
         "type": "bar",
         "x": [
          26.59
         ],
         "y": [
          "Leaf glands"
         ]
        },
        {
         "marker": {
          "color": "#d62728",
          "line": {
           "color": "rgb(248, 248, 249)",
           "width": 1
          }
         },
         "orientation": "h",
         "type": "bar",
         "x": [
          25
         ],
         "y": [
          "Leaf lower side"
         ]
        },
        {
         "marker": {
          "color": "#d62728",
          "line": {
           "color": "rgb(248, 248, 249)",
           "width": 1
          }
         },
         "orientation": "h",
         "type": "bar",
         "x": [
          21.43
         ],
         "y": [
          "Leaf upper side"
         ]
        },
        {
         "marker": {
          "color": "#d62728",
          "line": {
           "color": "rgb(248, 248, 249)",
           "width": 1
          }
         },
         "orientation": "h",
         "type": "bar",
         "x": [
          17.14
         ],
         "y": [
          "Leaf margin"
         ]
        },
        {
         "marker": {
          "color": "#d62728",
          "line": {
           "color": "rgb(248, 248, 249)",
           "width": 1
          }
         },
         "orientation": "h",
         "type": "bar",
         "x": [
          16.67
         ],
         "y": [
          "Stamen shape"
         ]
        },
        {
         "marker": {
          "color": "#d62728",
          "line": {
           "color": "rgb(248, 248, 249)",
           "width": 1
          }
         },
         "orientation": "h",
         "type": "bar",
         "x": [
          15.34
         ],
         "y": [
          "Sepals calyx numer"
         ]
        },
        {
         "marker": {
          "color": "#d62728",
          "line": {
           "color": "rgb(248, 248, 249)",
           "width": 1
          }
         },
         "orientation": "h",
         "type": "bar",
         "x": [
          14.29
         ],
         "y": [
          "Petals corolla number"
         ]
        },
        {
         "marker": {
          "color": "#d62728",
          "line": {
           "color": "rgb(248, 248, 249)",
           "width": 1
          }
         },
         "orientation": "h",
         "type": "bar",
         "x": [
          13.27
         ],
         "y": [
          "Fruit type"
         ]
        },
        {
         "marker": {
          "color": "#d62728",
          "line": {
           "color": "rgb(248, 248, 249)",
           "width": 1
          }
         },
         "orientation": "h",
         "type": "bar",
         "x": [
          13.2
         ],
         "y": [
          "Inflorescence type"
         ]
        },
        {
         "marker": {
          "color": "#d62728",
          "line": {
           "color": "rgb(248, 248, 249)",
           "width": 1
          }
         },
         "orientation": "h",
         "type": "bar",
         "x": [
          13.19
         ],
         "y": [
          "Stamen number"
         ]
        },
        {
         "marker": {
          "color": "#d62728",
          "line": {
           "color": "rgb(248, 248, 249)",
           "width": 1
          }
         },
         "orientation": "h",
         "type": "bar",
         "x": [
          12.38
         ],
         "y": [
          "Thorns spines"
         ]
        },
        {
         "marker": {
          "color": "#d62728",
          "line": {
           "color": "rgb(248, 248, 249)",
           "width": 1
          }
         },
         "orientation": "h",
         "type": "bar",
         "x": [
          10.48
         ],
         "y": [
          "Leaf position"
         ]
        },
        {
         "marker": {
          "color": "#d62728",
          "line": {
           "color": "rgb(248, 248, 249)",
           "width": 1
          }
         },
         "orientation": "h",
         "type": "bar",
         "x": [
          10.12
         ],
         "y": [
          "Leaf composition"
         ]
        },
        {
         "marker": {
          "color": "#d62728",
          "line": {
           "color": "rgb(248, 248, 249)",
           "width": 1
          }
         },
         "orientation": "h",
         "type": "bar",
         "x": [
          10.06
         ],
         "y": [
          "Leaf shape"
         ]
        },
        {
         "marker": {
          "color": "#d62728",
          "line": {
           "color": "rgb(248, 248, 249)",
           "width": 1
          }
         },
         "orientation": "h",
         "type": "bar",
         "x": [
          10
         ],
         "y": [
          "Fruit colour"
         ]
        },
        {
         "marker": {
          "color": "#d62728",
          "line": {
           "color": "rgb(248, 248, 249)",
           "width": 1
          }
         },
         "orientation": "h",
         "type": "bar",
         "x": [
          9.52
         ],
         "y": [
          "Life form"
         ]
        },
        {
         "marker": {
          "color": "#d62728",
          "line": {
           "color": "rgb(248, 248, 249)",
           "width": 1
          }
         },
         "orientation": "h",
         "type": "bar",
         "x": [
          8.54
         ],
         "y": [
          "Fruit shape"
         ]
        },
        {
         "marker": {
          "color": "#d62728",
          "line": {
           "color": "rgb(248, 248, 249)",
           "width": 1
          }
         },
         "orientation": "h",
         "type": "bar",
         "x": [
          8.4
         ],
         "y": [
          "Petals corolla colour"
         ]
        },
        {
         "marker": {
          "color": "#1f77b4",
          "line": {
           "color": "rgb(248, 248, 249)",
           "width": 1
          }
         },
         "orientation": "h",
         "type": "bar",
         "x": [
          0
         ],
         "y": [
          "Aril colour"
         ]
        },
        {
         "marker": {
          "color": "#1f77b4",
          "line": {
           "color": "rgb(248, 248, 249)",
           "width": 1
          }
         },
         "orientation": "h",
         "type": "bar",
         "x": [
          0
         ],
         "y": [
          "Leaf rachis"
         ]
        },
        {
         "marker": {
          "color": "#1f77b4",
          "line": {
           "color": "rgb(248, 248, 249)",
           "width": 1
          }
         },
         "orientation": "h",
         "type": "bar",
         "x": [
          0
         ],
         "y": [
          "Sepals calyx shape"
         ]
        },
        {
         "marker": {
          "color": "#1f77b4",
          "line": {
           "color": "rgb(248, 248, 249)",
           "width": 1
          }
         },
         "orientation": "h",
         "type": "bar",
         "x": [
          0
         ],
         "y": [
          "Stipules"
         ]
        },
        {
         "marker": {
          "color": "#1f77b4",
          "line": {
           "color": "rgb(248, 248, 249)",
           "width": 1
          }
         },
         "orientation": "h",
         "type": "bar",
         "x": [
          0
         ],
         "y": [
          "Petals corolla shape"
         ]
        },
        {
         "marker": {
          "color": "#1f77b4",
          "line": {
           "color": "rgb(248, 248, 249)",
           "width": 1
          }
         },
         "orientation": "h",
         "type": "bar",
         "x": [
          0
         ],
         "y": [
          "Seed colour"
         ]
        },
        {
         "marker": {
          "color": "#1f77b4",
          "line": {
           "color": "rgb(248, 248, 249)",
           "width": 1
          }
         },
         "orientation": "h",
         "type": "bar",
         "x": [
          0
         ],
         "y": [
          "Leaf glands"
         ]
        },
        {
         "marker": {
          "color": "#1f77b4",
          "line": {
           "color": "rgb(248, 248, 249)",
           "width": 1
          }
         },
         "orientation": "h",
         "type": "bar",
         "x": [
          0
         ],
         "y": [
          "Leaf lower side"
         ]
        },
        {
         "marker": {
          "color": "#1f77b4",
          "line": {
           "color": "rgb(248, 248, 249)",
           "width": 1
          }
         },
         "orientation": "h",
         "type": "bar",
         "x": [
          0
         ],
         "y": [
          "Leaf upper side"
         ]
        },
        {
         "marker": {
          "color": "#1f77b4",
          "line": {
           "color": "rgb(248, 248, 249)",
           "width": 1
          }
         },
         "orientation": "h",
         "type": "bar",
         "x": [
          0
         ],
         "y": [
          "Leaf margin"
         ]
        },
        {
         "marker": {
          "color": "#1f77b4",
          "line": {
           "color": "rgb(248, 248, 249)",
           "width": 1
          }
         },
         "orientation": "h",
         "type": "bar",
         "x": [
          0
         ],
         "y": [
          "Stamen shape"
         ]
        },
        {
         "marker": {
          "color": "#1f77b4",
          "line": {
           "color": "rgb(248, 248, 249)",
           "width": 1
          }
         },
         "orientation": "h",
         "type": "bar",
         "x": [
          0
         ],
         "y": [
          "Sepals calyx numer"
         ]
        },
        {
         "marker": {
          "color": "#1f77b4",
          "line": {
           "color": "rgb(248, 248, 249)",
           "width": 1
          }
         },
         "orientation": "h",
         "type": "bar",
         "x": [
          0
         ],
         "y": [
          "Petals corolla number"
         ]
        },
        {
         "marker": {
          "color": "#1f77b4",
          "line": {
           "color": "rgb(248, 248, 249)",
           "width": 1
          }
         },
         "orientation": "h",
         "type": "bar",
         "x": [
          0
         ],
         "y": [
          "Fruit type"
         ]
        },
        {
         "marker": {
          "color": "#1f77b4",
          "line": {
           "color": "rgb(248, 248, 249)",
           "width": 1
          }
         },
         "orientation": "h",
         "type": "bar",
         "x": [
          0
         ],
         "y": [
          "Inflorescence type"
         ]
        },
        {
         "marker": {
          "color": "#1f77b4",
          "line": {
           "color": "rgb(248, 248, 249)",
           "width": 1
          }
         },
         "orientation": "h",
         "type": "bar",
         "x": [
          0
         ],
         "y": [
          "Stamen number"
         ]
        },
        {
         "marker": {
          "color": "#1f77b4",
          "line": {
           "color": "rgb(248, 248, 249)",
           "width": 1
          }
         },
         "orientation": "h",
         "type": "bar",
         "x": [
          0
         ],
         "y": [
          "Thorns spines"
         ]
        },
        {
         "marker": {
          "color": "#1f77b4",
          "line": {
           "color": "rgb(248, 248, 249)",
           "width": 1
          }
         },
         "orientation": "h",
         "type": "bar",
         "x": [
          0
         ],
         "y": [
          "Leaf position"
         ]
        },
        {
         "marker": {
          "color": "#1f77b4",
          "line": {
           "color": "rgb(248, 248, 249)",
           "width": 1
          }
         },
         "orientation": "h",
         "type": "bar",
         "x": [
          0
         ],
         "y": [
          "Leaf composition"
         ]
        },
        {
         "marker": {
          "color": "#1f77b4",
          "line": {
           "color": "rgb(248, 248, 249)",
           "width": 1
          }
         },
         "orientation": "h",
         "type": "bar",
         "x": [
          0
         ],
         "y": [
          "Leaf shape"
         ]
        },
        {
         "marker": {
          "color": "#1f77b4",
          "line": {
           "color": "rgb(248, 248, 249)",
           "width": 1
          }
         },
         "orientation": "h",
         "type": "bar",
         "x": [
          0
         ],
         "y": [
          "Fruit colour"
         ]
        },
        {
         "marker": {
          "color": "#1f77b4",
          "line": {
           "color": "rgb(248, 248, 249)",
           "width": 1
          }
         },
         "orientation": "h",
         "type": "bar",
         "x": [
          0
         ],
         "y": [
          "Life form"
         ]
        },
        {
         "marker": {
          "color": "#1f77b4",
          "line": {
           "color": "rgb(248, 248, 249)",
           "width": 1
          }
         },
         "orientation": "h",
         "type": "bar",
         "x": [
          0
         ],
         "y": [
          "Fruit shape"
         ]
        },
        {
         "marker": {
          "color": "#1f77b4",
          "line": {
           "color": "rgb(248, 248, 249)",
           "width": 1
          }
         },
         "orientation": "h",
         "type": "bar",
         "x": [
          0
         ],
         "y": [
          "Petals corolla colour"
         ]
        }
       ],
       "layout": {
        "annotations": [
         {
          "align": "right",
          "font": {
           "color": "rgb(67, 67, 67)",
           "family": "Arial",
           "size": 14
          },
          "showarrow": false,
          "text": "Aril colour",
          "x": 0.14,
          "xanchor": "right",
          "xref": "paper",
          "y": "Aril colour",
          "yref": "y"
         },
         {
          "font": {
           "color": "rgb(248, 248, 255)",
           "family": "Arial",
           "size": 14
          },
          "showarrow": false,
          "text": "26.67%",
          "x": 13.335,
          "xref": "x",
          "y": "Aril colour",
          "yref": "y"
         },
         {
          "font": {
           "color": "rgb(248, 248, 255)",
           "family": "Arial",
           "size": 14
          },
          "showarrow": false,
          "text": "73.33%",
          "x": 63.335,
          "xref": "x",
          "y": "Aril colour",
          "yref": "y"
         },
         {
          "font": {
           "color": "rgb(248, 248, 255)",
           "family": "Arial",
           "size": 14
          },
          "showarrow": false,
          "text": "",
          "x": 100,
          "xref": "x",
          "y": "Aril colour",
          "yref": "y"
         },
         {
          "align": "right",
          "font": {
           "color": "rgb(67, 67, 67)",
           "family": "Arial",
           "size": 14
          },
          "showarrow": false,
          "text": "Leaf rachis",
          "x": 0.14,
          "xanchor": "right",
          "xref": "paper",
          "y": "Leaf rachis",
          "yref": "y"
         },
         {
          "font": {
           "color": "rgb(248, 248, 255)",
           "family": "Arial",
           "size": 14
          },
          "showarrow": false,
          "text": "45.24%",
          "x": 22.62,
          "xref": "x",
          "y": "Leaf rachis",
          "yref": "y"
         },
         {
          "font": {
           "color": "rgb(248, 248, 255)",
           "family": "Arial",
           "size": 14
          },
          "showarrow": false,
          "text": "54.76%",
          "x": 72.62,
          "xref": "x",
          "y": "Leaf rachis",
          "yref": "y"
         },
         {
          "font": {
           "color": "rgb(248, 248, 255)",
           "family": "Arial",
           "size": 14
          },
          "showarrow": false,
          "text": "",
          "x": 100,
          "xref": "x",
          "y": "Leaf rachis",
          "yref": "y"
         },
         {
          "align": "right",
          "font": {
           "color": "rgb(67, 67, 67)",
           "family": "Arial",
           "size": 14
          },
          "showarrow": false,
          "text": "Sepals calyx shape",
          "x": 0.14,
          "xanchor": "right",
          "xref": "paper",
          "y": "Sepals calyx shape",
          "yref": "y"
         },
         {
          "font": {
           "color": "rgb(248, 248, 255)",
           "family": "Arial",
           "size": 14
          },
          "showarrow": false,
          "text": "51.19%",
          "x": 25.595,
          "xref": "x",
          "y": "Sepals calyx shape",
          "yref": "y"
         },
         {
          "font": {
           "color": "rgb(248, 248, 255)",
           "family": "Arial",
           "size": 14
          },
          "showarrow": false,
          "text": "48.81%",
          "x": 75.595,
          "xref": "x",
          "y": "Sepals calyx shape",
          "yref": "y"
         },
         {
          "font": {
           "color": "rgb(248, 248, 255)",
           "family": "Arial",
           "size": 14
          },
          "showarrow": false,
          "text": "",
          "x": 100,
          "xref": "x",
          "y": "Sepals calyx shape",
          "yref": "y"
         },
         {
          "align": "right",
          "font": {
           "color": "rgb(67, 67, 67)",
           "family": "Arial",
           "size": 14
          },
          "showarrow": false,
          "text": "Stipules",
          "x": 0.14,
          "xanchor": "right",
          "xref": "paper",
          "y": "Stipules",
          "yref": "y"
         },
         {
          "font": {
           "color": "rgb(248, 248, 255)",
           "family": "Arial",
           "size": 14
          },
          "showarrow": false,
          "text": "55.56%",
          "x": 27.78,
          "xref": "x",
          "y": "Stipules",
          "yref": "y"
         },
         {
          "font": {
           "color": "rgb(248, 248, 255)",
           "family": "Arial",
           "size": 14
          },
          "showarrow": false,
          "text": "44.44%",
          "x": 77.78,
          "xref": "x",
          "y": "Stipules",
          "yref": "y"
         },
         {
          "font": {
           "color": "rgb(248, 248, 255)",
           "family": "Arial",
           "size": 14
          },
          "showarrow": false,
          "text": "",
          "x": 100,
          "xref": "x",
          "y": "Stipules",
          "yref": "y"
         },
         {
          "align": "right",
          "font": {
           "color": "rgb(67, 67, 67)",
           "family": "Arial",
           "size": 14
          },
          "showarrow": false,
          "text": "Petals corolla shape",
          "x": 0.14,
          "xanchor": "right",
          "xref": "paper",
          "y": "Petals corolla shape",
          "yref": "y"
         },
         {
          "font": {
           "color": "rgb(248, 248, 255)",
           "family": "Arial",
           "size": 14
          },
          "showarrow": false,
          "text": "57.74%",
          "x": 28.87,
          "xref": "x",
          "y": "Petals corolla shape",
          "yref": "y"
         },
         {
          "font": {
           "color": "rgb(248, 248, 255)",
           "family": "Arial",
           "size": 14
          },
          "showarrow": false,
          "text": "42.26%",
          "x": 78.87,
          "xref": "x",
          "y": "Petals corolla shape",
          "yref": "y"
         },
         {
          "font": {
           "color": "rgb(248, 248, 255)",
           "family": "Arial",
           "size": 14
          },
          "showarrow": false,
          "text": "",
          "x": 100,
          "xref": "x",
          "y": "Petals corolla shape",
          "yref": "y"
         },
         {
          "align": "right",
          "font": {
           "color": "rgb(67, 67, 67)",
           "family": "Arial",
           "size": 14
          },
          "showarrow": false,
          "text": "Seed colour",
          "x": 0.14,
          "xanchor": "right",
          "xref": "paper",
          "y": "Seed colour",
          "yref": "y"
         },
         {
          "font": {
           "color": "rgb(248, 248, 255)",
           "family": "Arial",
           "size": 14
          },
          "showarrow": false,
          "text": "62.3%",
          "x": 31.15,
          "xref": "x",
          "y": "Seed colour",
          "yref": "y"
         },
         {
          "font": {
           "color": "rgb(248, 248, 255)",
           "family": "Arial",
           "size": 14
          },
          "showarrow": false,
          "text": "37.7%",
          "x": 81.15,
          "xref": "x",
          "y": "Seed colour",
          "yref": "y"
         },
         {
          "font": {
           "color": "rgb(248, 248, 255)",
           "family": "Arial",
           "size": 14
          },
          "showarrow": false,
          "text": "",
          "x": 100,
          "xref": "x",
          "y": "Seed colour",
          "yref": "y"
         },
         {
          "align": "right",
          "font": {
           "color": "rgb(67, 67, 67)",
           "family": "Arial",
           "size": 14
          },
          "showarrow": false,
          "text": "Leaf glands",
          "x": 0.14,
          "xanchor": "right",
          "xref": "paper",
          "y": "Leaf glands",
          "yref": "y"
         },
         {
          "font": {
           "color": "rgb(248, 248, 255)",
           "family": "Arial",
           "size": 14
          },
          "showarrow": false,
          "text": "73.41%",
          "x": 36.705,
          "xref": "x",
          "y": "Leaf glands",
          "yref": "y"
         },
         {
          "font": {
           "color": "rgb(248, 248, 255)",
           "family": "Arial",
           "size": 14
          },
          "showarrow": false,
          "text": "26.59%",
          "x": 86.705,
          "xref": "x",
          "y": "Leaf glands",
          "yref": "y"
         },
         {
          "font": {
           "color": "rgb(248, 248, 255)",
           "family": "Arial",
           "size": 14
          },
          "showarrow": false,
          "text": "",
          "x": 100,
          "xref": "x",
          "y": "Leaf glands",
          "yref": "y"
         },
         {
          "align": "right",
          "font": {
           "color": "rgb(67, 67, 67)",
           "family": "Arial",
           "size": 14
          },
          "showarrow": false,
          "text": "Leaf lower side",
          "x": 0.14,
          "xanchor": "right",
          "xref": "paper",
          "y": "Leaf lower side",
          "yref": "y"
         },
         {
          "font": {
           "color": "rgb(248, 248, 255)",
           "family": "Arial",
           "size": 14
          },
          "showarrow": false,
          "text": "75.0%",
          "x": 37.5,
          "xref": "x",
          "y": "Leaf lower side",
          "yref": "y"
         },
         {
          "font": {
           "color": "rgb(248, 248, 255)",
           "family": "Arial",
           "size": 14
          },
          "showarrow": false,
          "text": "25.0%",
          "x": 87.5,
          "xref": "x",
          "y": "Leaf lower side",
          "yref": "y"
         },
         {
          "font": {
           "color": "rgb(248, 248, 255)",
           "family": "Arial",
           "size": 14
          },
          "showarrow": false,
          "text": "",
          "x": 100,
          "xref": "x",
          "y": "Leaf lower side",
          "yref": "y"
         },
         {
          "align": "right",
          "font": {
           "color": "rgb(67, 67, 67)",
           "family": "Arial",
           "size": 14
          },
          "showarrow": false,
          "text": "Leaf upper side",
          "x": 0.14,
          "xanchor": "right",
          "xref": "paper",
          "y": "Leaf upper side",
          "yref": "y"
         },
         {
          "font": {
           "color": "rgb(248, 248, 255)",
           "family": "Arial",
           "size": 14
          },
          "showarrow": false,
          "text": "78.57%",
          "x": 39.285,
          "xref": "x",
          "y": "Leaf upper side",
          "yref": "y"
         },
         {
          "font": {
           "color": "rgb(248, 248, 255)",
           "family": "Arial",
           "size": 14
          },
          "showarrow": false,
          "text": "21.43%",
          "x": 89.285,
          "xref": "x",
          "y": "Leaf upper side",
          "yref": "y"
         },
         {
          "font": {
           "color": "rgb(248, 248, 255)",
           "family": "Arial",
           "size": 14
          },
          "showarrow": false,
          "text": "",
          "x": 100,
          "xref": "x",
          "y": "Leaf upper side",
          "yref": "y"
         },
         {
          "align": "right",
          "font": {
           "color": "rgb(67, 67, 67)",
           "family": "Arial",
           "size": 14
          },
          "showarrow": false,
          "text": "Leaf margin",
          "x": 0.14,
          "xanchor": "right",
          "xref": "paper",
          "y": "Leaf margin",
          "yref": "y"
         },
         {
          "font": {
           "color": "rgb(248, 248, 255)",
           "family": "Arial",
           "size": 14
          },
          "showarrow": false,
          "text": "82.86%",
          "x": 41.43,
          "xref": "x",
          "y": "Leaf margin",
          "yref": "y"
         },
         {
          "font": {
           "color": "rgb(248, 248, 255)",
           "family": "Arial",
           "size": 14
          },
          "showarrow": false,
          "text": "17.14%",
          "x": 91.43,
          "xref": "x",
          "y": "Leaf margin",
          "yref": "y"
         },
         {
          "font": {
           "color": "rgb(248, 248, 255)",
           "family": "Arial",
           "size": 14
          },
          "showarrow": false,
          "text": "",
          "x": 100,
          "xref": "x",
          "y": "Leaf margin",
          "yref": "y"
         },
         {
          "align": "right",
          "font": {
           "color": "rgb(67, 67, 67)",
           "family": "Arial",
           "size": 14
          },
          "showarrow": false,
          "text": "Stamen shape",
          "x": 0.14,
          "xanchor": "right",
          "xref": "paper",
          "y": "Stamen shape",
          "yref": "y"
         },
         {
          "font": {
           "color": "rgb(248, 248, 255)",
           "family": "Arial",
           "size": 14
          },
          "showarrow": false,
          "text": "83.33%",
          "x": 41.665,
          "xref": "x",
          "y": "Stamen shape",
          "yref": "y"
         },
         {
          "font": {
           "color": "rgb(248, 248, 255)",
           "family": "Arial",
           "size": 14
          },
          "showarrow": false,
          "text": "16.67%",
          "x": 91.66499999999999,
          "xref": "x",
          "y": "Stamen shape",
          "yref": "y"
         },
         {
          "font": {
           "color": "rgb(248, 248, 255)",
           "family": "Arial",
           "size": 14
          },
          "showarrow": false,
          "text": "",
          "x": 100,
          "xref": "x",
          "y": "Stamen shape",
          "yref": "y"
         },
         {
          "align": "right",
          "font": {
           "color": "rgb(67, 67, 67)",
           "family": "Arial",
           "size": 14
          },
          "showarrow": false,
          "text": "Sepals calyx numer",
          "x": 0.14,
          "xanchor": "right",
          "xref": "paper",
          "y": "Sepals calyx numer",
          "yref": "y"
         },
         {
          "font": {
           "color": "rgb(248, 248, 255)",
           "family": "Arial",
           "size": 14
          },
          "showarrow": false,
          "text": "84.66%",
          "x": 42.33,
          "xref": "x",
          "y": "Sepals calyx numer",
          "yref": "y"
         },
         {
          "font": {
           "color": "rgb(248, 248, 255)",
           "family": "Arial",
           "size": 14
          },
          "showarrow": false,
          "text": "15.34%",
          "x": 92.33,
          "xref": "x",
          "y": "Sepals calyx numer",
          "yref": "y"
         },
         {
          "font": {
           "color": "rgb(248, 248, 255)",
           "family": "Arial",
           "size": 14
          },
          "showarrow": false,
          "text": "",
          "x": 100,
          "xref": "x",
          "y": "Sepals calyx numer",
          "yref": "y"
         },
         {
          "align": "right",
          "font": {
           "color": "rgb(67, 67, 67)",
           "family": "Arial",
           "size": 14
          },
          "showarrow": false,
          "text": "Petals corolla number",
          "x": 0.14,
          "xanchor": "right",
          "xref": "paper",
          "y": "Petals corolla number",
          "yref": "y"
         },
         {
          "font": {
           "color": "rgb(248, 248, 255)",
           "family": "Arial",
           "size": 14
          },
          "showarrow": false,
          "text": "85.71%",
          "x": 42.855,
          "xref": "x",
          "y": "Petals corolla number",
          "yref": "y"
         },
         {
          "font": {
           "color": "rgb(248, 248, 255)",
           "family": "Arial",
           "size": 14
          },
          "showarrow": false,
          "text": "14.29%",
          "x": 92.85499999999999,
          "xref": "x",
          "y": "Petals corolla number",
          "yref": "y"
         },
         {
          "font": {
           "color": "rgb(248, 248, 255)",
           "family": "Arial",
           "size": 14
          },
          "showarrow": false,
          "text": "",
          "x": 100,
          "xref": "x",
          "y": "Petals corolla number",
          "yref": "y"
         },
         {
          "align": "right",
          "font": {
           "color": "rgb(67, 67, 67)",
           "family": "Arial",
           "size": 14
          },
          "showarrow": false,
          "text": "Fruit type",
          "x": 0.14,
          "xanchor": "right",
          "xref": "paper",
          "y": "Fruit type",
          "yref": "y"
         },
         {
          "font": {
           "color": "rgb(248, 248, 255)",
           "family": "Arial",
           "size": 14
          },
          "showarrow": false,
          "text": "86.73%",
          "x": 43.365,
          "xref": "x",
          "y": "Fruit type",
          "yref": "y"
         },
         {
          "font": {
           "color": "rgb(248, 248, 255)",
           "family": "Arial",
           "size": 14
          },
          "showarrow": false,
          "text": "13.27%",
          "x": 93.36500000000001,
          "xref": "x",
          "y": "Fruit type",
          "yref": "y"
         },
         {
          "font": {
           "color": "rgb(248, 248, 255)",
           "family": "Arial",
           "size": 14
          },
          "showarrow": false,
          "text": "",
          "x": 100,
          "xref": "x",
          "y": "Fruit type",
          "yref": "y"
         },
         {
          "align": "right",
          "font": {
           "color": "rgb(67, 67, 67)",
           "family": "Arial",
           "size": 14
          },
          "showarrow": false,
          "text": "Inflorescence type",
          "x": 0.14,
          "xanchor": "right",
          "xref": "paper",
          "y": "Inflorescence type",
          "yref": "y"
         },
         {
          "font": {
           "color": "rgb(248, 248, 255)",
           "family": "Arial",
           "size": 14
          },
          "showarrow": false,
          "text": "86.8%",
          "x": 43.4,
          "xref": "x",
          "y": "Inflorescence type",
          "yref": "y"
         },
         {
          "font": {
           "color": "rgb(248, 248, 255)",
           "family": "Arial",
           "size": 14
          },
          "showarrow": false,
          "text": "13.2%",
          "x": 93.39999999999999,
          "xref": "x",
          "y": "Inflorescence type",
          "yref": "y"
         },
         {
          "font": {
           "color": "rgb(248, 248, 255)",
           "family": "Arial",
           "size": 14
          },
          "showarrow": false,
          "text": "",
          "x": 100,
          "xref": "x",
          "y": "Inflorescence type",
          "yref": "y"
         },
         {
          "align": "right",
          "font": {
           "color": "rgb(67, 67, 67)",
           "family": "Arial",
           "size": 14
          },
          "showarrow": false,
          "text": "Stamen number",
          "x": 0.14,
          "xanchor": "right",
          "xref": "paper",
          "y": "Stamen number",
          "yref": "y"
         },
         {
          "font": {
           "color": "rgb(248, 248, 255)",
           "family": "Arial",
           "size": 14
          },
          "showarrow": false,
          "text": "86.81%",
          "x": 43.405,
          "xref": "x",
          "y": "Stamen number",
          "yref": "y"
         },
         {
          "font": {
           "color": "rgb(248, 248, 255)",
           "family": "Arial",
           "size": 14
          },
          "showarrow": false,
          "text": "13.19%",
          "x": 93.405,
          "xref": "x",
          "y": "Stamen number",
          "yref": "y"
         },
         {
          "font": {
           "color": "rgb(248, 248, 255)",
           "family": "Arial",
           "size": 14
          },
          "showarrow": false,
          "text": "",
          "x": 100,
          "xref": "x",
          "y": "Stamen number",
          "yref": "y"
         },
         {
          "align": "right",
          "font": {
           "color": "rgb(67, 67, 67)",
           "family": "Arial",
           "size": 14
          },
          "showarrow": false,
          "text": "Thorns spines",
          "x": 0.14,
          "xanchor": "right",
          "xref": "paper",
          "y": "Thorns spines",
          "yref": "y"
         },
         {
          "font": {
           "color": "rgb(248, 248, 255)",
           "family": "Arial",
           "size": 14
          },
          "showarrow": false,
          "text": "87.62%",
          "x": 43.81,
          "xref": "x",
          "y": "Thorns spines",
          "yref": "y"
         },
         {
          "font": {
           "color": "rgb(248, 248, 255)",
           "family": "Arial",
           "size": 14
          },
          "showarrow": false,
          "text": "12.38%",
          "x": 93.81,
          "xref": "x",
          "y": "Thorns spines",
          "yref": "y"
         },
         {
          "font": {
           "color": "rgb(248, 248, 255)",
           "family": "Arial",
           "size": 14
          },
          "showarrow": false,
          "text": "",
          "x": 100,
          "xref": "x",
          "y": "Thorns spines",
          "yref": "y"
         },
         {
          "align": "right",
          "font": {
           "color": "rgb(67, 67, 67)",
           "family": "Arial",
           "size": 14
          },
          "showarrow": false,
          "text": "Leaf position",
          "x": 0.14,
          "xanchor": "right",
          "xref": "paper",
          "y": "Leaf position",
          "yref": "y"
         },
         {
          "font": {
           "color": "rgb(248, 248, 255)",
           "family": "Arial",
           "size": 14
          },
          "showarrow": false,
          "text": "89.52%",
          "x": 44.76,
          "xref": "x",
          "y": "Leaf position",
          "yref": "y"
         },
         {
          "font": {
           "color": "rgb(248, 248, 255)",
           "family": "Arial",
           "size": 14
          },
          "showarrow": false,
          "text": "10.48%",
          "x": 94.75999999999999,
          "xref": "x",
          "y": "Leaf position",
          "yref": "y"
         },
         {
          "font": {
           "color": "rgb(248, 248, 255)",
           "family": "Arial",
           "size": 14
          },
          "showarrow": false,
          "text": "",
          "x": 100,
          "xref": "x",
          "y": "Leaf position",
          "yref": "y"
         },
         {
          "align": "right",
          "font": {
           "color": "rgb(67, 67, 67)",
           "family": "Arial",
           "size": 14
          },
          "showarrow": false,
          "text": "Leaf composition",
          "x": 0.14,
          "xanchor": "right",
          "xref": "paper",
          "y": "Leaf composition",
          "yref": "y"
         },
         {
          "font": {
           "color": "rgb(248, 248, 255)",
           "family": "Arial",
           "size": 14
          },
          "showarrow": false,
          "text": "89.88%",
          "x": 44.94,
          "xref": "x",
          "y": "Leaf composition",
          "yref": "y"
         },
         {
          "font": {
           "color": "rgb(248, 248, 255)",
           "family": "Arial",
           "size": 14
          },
          "showarrow": false,
          "text": "10.12%",
          "x": 94.94,
          "xref": "x",
          "y": "Leaf composition",
          "yref": "y"
         },
         {
          "font": {
           "color": "rgb(248, 248, 255)",
           "family": "Arial",
           "size": 14
          },
          "showarrow": false,
          "text": "",
          "x": 100,
          "xref": "x",
          "y": "Leaf composition",
          "yref": "y"
         },
         {
          "align": "right",
          "font": {
           "color": "rgb(67, 67, 67)",
           "family": "Arial",
           "size": 14
          },
          "showarrow": false,
          "text": "Leaf shape",
          "x": 0.14,
          "xanchor": "right",
          "xref": "paper",
          "y": "Leaf shape",
          "yref": "y"
         },
         {
          "font": {
           "color": "rgb(248, 248, 255)",
           "family": "Arial",
           "size": 14
          },
          "showarrow": false,
          "text": "89.94%",
          "x": 44.97,
          "xref": "x",
          "y": "Leaf shape",
          "yref": "y"
         },
         {
          "font": {
           "color": "rgb(248, 248, 255)",
           "family": "Arial",
           "size": 14
          },
          "showarrow": false,
          "text": "10.06%",
          "x": 94.97,
          "xref": "x",
          "y": "Leaf shape",
          "yref": "y"
         },
         {
          "font": {
           "color": "rgb(248, 248, 255)",
           "family": "Arial",
           "size": 14
          },
          "showarrow": false,
          "text": "",
          "x": 100,
          "xref": "x",
          "y": "Leaf shape",
          "yref": "y"
         },
         {
          "align": "right",
          "font": {
           "color": "rgb(67, 67, 67)",
           "family": "Arial",
           "size": 14
          },
          "showarrow": false,
          "text": "Fruit colour",
          "x": 0.14,
          "xanchor": "right",
          "xref": "paper",
          "y": "Fruit colour",
          "yref": "y"
         },
         {
          "font": {
           "color": "rgb(248, 248, 255)",
           "family": "Arial",
           "size": 14
          },
          "showarrow": false,
          "text": "90.0%",
          "x": 45,
          "xref": "x",
          "y": "Fruit colour",
          "yref": "y"
         },
         {
          "font": {
           "color": "rgb(248, 248, 255)",
           "family": "Arial",
           "size": 14
          },
          "showarrow": false,
          "text": "10.0%",
          "x": 95,
          "xref": "x",
          "y": "Fruit colour",
          "yref": "y"
         },
         {
          "font": {
           "color": "rgb(248, 248, 255)",
           "family": "Arial",
           "size": 14
          },
          "showarrow": false,
          "text": "",
          "x": 100,
          "xref": "x",
          "y": "Fruit colour",
          "yref": "y"
         },
         {
          "align": "right",
          "font": {
           "color": "rgb(67, 67, 67)",
           "family": "Arial",
           "size": 14
          },
          "showarrow": false,
          "text": "Life form",
          "x": 0.14,
          "xanchor": "right",
          "xref": "paper",
          "y": "Life form",
          "yref": "y"
         },
         {
          "font": {
           "color": "rgb(248, 248, 255)",
           "family": "Arial",
           "size": 14
          },
          "showarrow": false,
          "text": "90.48%",
          "x": 45.24,
          "xref": "x",
          "y": "Life form",
          "yref": "y"
         },
         {
          "font": {
           "color": "rgb(248, 248, 255)",
           "family": "Arial",
           "size": 14
          },
          "showarrow": false,
          "text": "9.52%",
          "x": 95.24000000000001,
          "xref": "x",
          "y": "Life form",
          "yref": "y"
         },
         {
          "font": {
           "color": "rgb(248, 248, 255)",
           "family": "Arial",
           "size": 14
          },
          "showarrow": false,
          "text": "",
          "x": 100,
          "xref": "x",
          "y": "Life form",
          "yref": "y"
         },
         {
          "align": "right",
          "font": {
           "color": "rgb(67, 67, 67)",
           "family": "Arial",
           "size": 14
          },
          "showarrow": false,
          "text": "Fruit shape",
          "x": 0.14,
          "xanchor": "right",
          "xref": "paper",
          "y": "Fruit shape",
          "yref": "y"
         },
         {
          "font": {
           "color": "rgb(248, 248, 255)",
           "family": "Arial",
           "size": 14
          },
          "showarrow": false,
          "text": "91.46%",
          "x": 45.73,
          "xref": "x",
          "y": "Fruit shape",
          "yref": "y"
         },
         {
          "font": {
           "color": "rgb(248, 248, 255)",
           "family": "Arial",
           "size": 14
          },
          "showarrow": false,
          "text": "8.54%",
          "x": 95.72999999999999,
          "xref": "x",
          "y": "Fruit shape",
          "yref": "y"
         },
         {
          "font": {
           "color": "rgb(248, 248, 255)",
           "family": "Arial",
           "size": 14
          },
          "showarrow": false,
          "text": "",
          "x": 100,
          "xref": "x",
          "y": "Fruit shape",
          "yref": "y"
         },
         {
          "align": "right",
          "font": {
           "color": "rgb(67, 67, 67)",
           "family": "Arial",
           "size": 14
          },
          "showarrow": false,
          "text": "Petals corolla colour",
          "x": 0.14,
          "xanchor": "right",
          "xref": "paper",
          "y": "Petals corolla colour",
          "yref": "y"
         },
         {
          "font": {
           "color": "rgb(248, 248, 255)",
           "family": "Arial",
           "size": 14
          },
          "showarrow": false,
          "text": "91.6%",
          "x": 45.8,
          "xref": "x",
          "y": "Petals corolla colour",
          "yref": "y"
         },
         {
          "font": {
           "color": "rgb(248, 248, 255)",
           "family": "Arial",
           "size": 14
          },
          "showarrow": false,
          "text": "8.4%",
          "x": 95.8,
          "xref": "x",
          "y": "Petals corolla colour",
          "yref": "y"
         },
         {
          "font": {
           "color": "rgb(248, 248, 255)",
           "family": "Arial",
           "size": 14
          },
          "showarrow": false,
          "text": "",
          "x": 100,
          "xref": "x",
          "y": "Petals corolla colour",
          "yref": "y"
         },
         {
          "font": {
           "color": "#2ca02c",
           "family": "Arial",
           "size": 18
          },
          "showarrow": false,
          "text": "<b>Correct<b>",
          "x": 0.225,
          "xref": "paper",
          "y": 1.081,
          "yref": "paper"
         },
         {
          "font": {
           "color": "#d62728",
           "family": "Arial",
           "size": 18
          },
          "showarrow": false,
          "text": "<b>Incorrect<b>",
          "x": 0.5583333333333333,
          "xref": "paper",
          "y": 1.081,
          "yref": "paper"
         },
         {
          "font": {
           "color": "#1f77b4",
           "family": "Arial",
           "size": 18
          },
          "showarrow": false,
          "text": "<b>No Information<b>",
          "x": 0.8916666666666666,
          "xref": "paper",
          "y": 1.081,
          "yref": "paper"
         }
        ],
        "bargap": 0.1,
        "barmode": "stack",
        "height": 800,
        "margin": {
         "b": 80,
         "l": 120,
         "r": 10,
         "t": 140
        },
        "paper_bgcolor": "rgb(248, 248, 255)",
        "plot_bgcolor": "rgb(248, 248, 255)",
        "showlegend": false,
        "template": {
         "data": {
          "bar": [
           {
            "error_x": {
             "color": "#2a3f5f"
            },
            "error_y": {
             "color": "#2a3f5f"
            },
            "marker": {
             "line": {
              "color": "#E5ECF6",
              "width": 0.5
             },
             "pattern": {
              "fillmode": "overlay",
              "size": 10,
              "solidity": 0.2
             }
            },
            "type": "bar"
           }
          ],
          "barpolar": [
           {
            "marker": {
             "line": {
              "color": "#E5ECF6",
              "width": 0.5
             },
             "pattern": {
              "fillmode": "overlay",
              "size": 10,
              "solidity": 0.2
             }
            },
            "type": "barpolar"
           }
          ],
          "carpet": [
           {
            "aaxis": {
             "endlinecolor": "#2a3f5f",
             "gridcolor": "white",
             "linecolor": "white",
             "minorgridcolor": "white",
             "startlinecolor": "#2a3f5f"
            },
            "baxis": {
             "endlinecolor": "#2a3f5f",
             "gridcolor": "white",
             "linecolor": "white",
             "minorgridcolor": "white",
             "startlinecolor": "#2a3f5f"
            },
            "type": "carpet"
           }
          ],
          "choropleth": [
           {
            "colorbar": {
             "outlinewidth": 0,
             "ticks": ""
            },
            "type": "choropleth"
           }
          ],
          "contour": [
           {
            "colorbar": {
             "outlinewidth": 0,
             "ticks": ""
            },
            "colorscale": [
             [
              0,
              "#0d0887"
             ],
             [
              0.1111111111111111,
              "#46039f"
             ],
             [
              0.2222222222222222,
              "#7201a8"
             ],
             [
              0.3333333333333333,
              "#9c179e"
             ],
             [
              0.4444444444444444,
              "#bd3786"
             ],
             [
              0.5555555555555556,
              "#d8576b"
             ],
             [
              0.6666666666666666,
              "#ed7953"
             ],
             [
              0.7777777777777778,
              "#fb9f3a"
             ],
             [
              0.8888888888888888,
              "#fdca26"
             ],
             [
              1,
              "#f0f921"
             ]
            ],
            "type": "contour"
           }
          ],
          "contourcarpet": [
           {
            "colorbar": {
             "outlinewidth": 0,
             "ticks": ""
            },
            "type": "contourcarpet"
           }
          ],
          "heatmap": [
           {
            "colorbar": {
             "outlinewidth": 0,
             "ticks": ""
            },
            "colorscale": [
             [
              0,
              "#0d0887"
             ],
             [
              0.1111111111111111,
              "#46039f"
             ],
             [
              0.2222222222222222,
              "#7201a8"
             ],
             [
              0.3333333333333333,
              "#9c179e"
             ],
             [
              0.4444444444444444,
              "#bd3786"
             ],
             [
              0.5555555555555556,
              "#d8576b"
             ],
             [
              0.6666666666666666,
              "#ed7953"
             ],
             [
              0.7777777777777778,
              "#fb9f3a"
             ],
             [
              0.8888888888888888,
              "#fdca26"
             ],
             [
              1,
              "#f0f921"
             ]
            ],
            "type": "heatmap"
           }
          ],
          "heatmapgl": [
           {
            "colorbar": {
             "outlinewidth": 0,
             "ticks": ""
            },
            "colorscale": [
             [
              0,
              "#0d0887"
             ],
             [
              0.1111111111111111,
              "#46039f"
             ],
             [
              0.2222222222222222,
              "#7201a8"
             ],
             [
              0.3333333333333333,
              "#9c179e"
             ],
             [
              0.4444444444444444,
              "#bd3786"
             ],
             [
              0.5555555555555556,
              "#d8576b"
             ],
             [
              0.6666666666666666,
              "#ed7953"
             ],
             [
              0.7777777777777778,
              "#fb9f3a"
             ],
             [
              0.8888888888888888,
              "#fdca26"
             ],
             [
              1,
              "#f0f921"
             ]
            ],
            "type": "heatmapgl"
           }
          ],
          "histogram": [
           {
            "marker": {
             "pattern": {
              "fillmode": "overlay",
              "size": 10,
              "solidity": 0.2
             }
            },
            "type": "histogram"
           }
          ],
          "histogram2d": [
           {
            "colorbar": {
             "outlinewidth": 0,
             "ticks": ""
            },
            "colorscale": [
             [
              0,
              "#0d0887"
             ],
             [
              0.1111111111111111,
              "#46039f"
             ],
             [
              0.2222222222222222,
              "#7201a8"
             ],
             [
              0.3333333333333333,
              "#9c179e"
             ],
             [
              0.4444444444444444,
              "#bd3786"
             ],
             [
              0.5555555555555556,
              "#d8576b"
             ],
             [
              0.6666666666666666,
              "#ed7953"
             ],
             [
              0.7777777777777778,
              "#fb9f3a"
             ],
             [
              0.8888888888888888,
              "#fdca26"
             ],
             [
              1,
              "#f0f921"
             ]
            ],
            "type": "histogram2d"
           }
          ],
          "histogram2dcontour": [
           {
            "colorbar": {
             "outlinewidth": 0,
             "ticks": ""
            },
            "colorscale": [
             [
              0,
              "#0d0887"
             ],
             [
              0.1111111111111111,
              "#46039f"
             ],
             [
              0.2222222222222222,
              "#7201a8"
             ],
             [
              0.3333333333333333,
              "#9c179e"
             ],
             [
              0.4444444444444444,
              "#bd3786"
             ],
             [
              0.5555555555555556,
              "#d8576b"
             ],
             [
              0.6666666666666666,
              "#ed7953"
             ],
             [
              0.7777777777777778,
              "#fb9f3a"
             ],
             [
              0.8888888888888888,
              "#fdca26"
             ],
             [
              1,
              "#f0f921"
             ]
            ],
            "type": "histogram2dcontour"
           }
          ],
          "mesh3d": [
           {
            "colorbar": {
             "outlinewidth": 0,
             "ticks": ""
            },
            "type": "mesh3d"
           }
          ],
          "parcoords": [
           {
            "line": {
             "colorbar": {
              "outlinewidth": 0,
              "ticks": ""
             }
            },
            "type": "parcoords"
           }
          ],
          "pie": [
           {
            "automargin": true,
            "type": "pie"
           }
          ],
          "scatter": [
           {
            "fillpattern": {
             "fillmode": "overlay",
             "size": 10,
             "solidity": 0.2
            },
            "type": "scatter"
           }
          ],
          "scatter3d": [
           {
            "line": {
             "colorbar": {
              "outlinewidth": 0,
              "ticks": ""
             }
            },
            "marker": {
             "colorbar": {
              "outlinewidth": 0,
              "ticks": ""
             }
            },
            "type": "scatter3d"
           }
          ],
          "scattercarpet": [
           {
            "marker": {
             "colorbar": {
              "outlinewidth": 0,
              "ticks": ""
             }
            },
            "type": "scattercarpet"
           }
          ],
          "scattergeo": [
           {
            "marker": {
             "colorbar": {
              "outlinewidth": 0,
              "ticks": ""
             }
            },
            "type": "scattergeo"
           }
          ],
          "scattergl": [
           {
            "marker": {
             "colorbar": {
              "outlinewidth": 0,
              "ticks": ""
             }
            },
            "type": "scattergl"
           }
          ],
          "scattermapbox": [
           {
            "marker": {
             "colorbar": {
              "outlinewidth": 0,
              "ticks": ""
             }
            },
            "type": "scattermapbox"
           }
          ],
          "scatterpolar": [
           {
            "marker": {
             "colorbar": {
              "outlinewidth": 0,
              "ticks": ""
             }
            },
            "type": "scatterpolar"
           }
          ],
          "scatterpolargl": [
           {
            "marker": {
             "colorbar": {
              "outlinewidth": 0,
              "ticks": ""
             }
            },
            "type": "scatterpolargl"
           }
          ],
          "scatterternary": [
           {
            "marker": {
             "colorbar": {
              "outlinewidth": 0,
              "ticks": ""
             }
            },
            "type": "scatterternary"
           }
          ],
          "surface": [
           {
            "colorbar": {
             "outlinewidth": 0,
             "ticks": ""
            },
            "colorscale": [
             [
              0,
              "#0d0887"
             ],
             [
              0.1111111111111111,
              "#46039f"
             ],
             [
              0.2222222222222222,
              "#7201a8"
             ],
             [
              0.3333333333333333,
              "#9c179e"
             ],
             [
              0.4444444444444444,
              "#bd3786"
             ],
             [
              0.5555555555555556,
              "#d8576b"
             ],
             [
              0.6666666666666666,
              "#ed7953"
             ],
             [
              0.7777777777777778,
              "#fb9f3a"
             ],
             [
              0.8888888888888888,
              "#fdca26"
             ],
             [
              1,
              "#f0f921"
             ]
            ],
            "type": "surface"
           }
          ],
          "table": [
           {
            "cells": {
             "fill": {
              "color": "#EBF0F8"
             },
             "line": {
              "color": "white"
             }
            },
            "header": {
             "fill": {
              "color": "#C8D4E3"
             },
             "line": {
              "color": "white"
             }
            },
            "type": "table"
           }
          ]
         },
         "layout": {
          "annotationdefaults": {
           "arrowcolor": "#2a3f5f",
           "arrowhead": 0,
           "arrowwidth": 1
          },
          "autotypenumbers": "strict",
          "coloraxis": {
           "colorbar": {
            "outlinewidth": 0,
            "ticks": ""
           }
          },
          "colorscale": {
           "diverging": [
            [
             0,
             "#8e0152"
            ],
            [
             0.1,
             "#c51b7d"
            ],
            [
             0.2,
             "#de77ae"
            ],
            [
             0.3,
             "#f1b6da"
            ],
            [
             0.4,
             "#fde0ef"
            ],
            [
             0.5,
             "#f7f7f7"
            ],
            [
             0.6,
             "#e6f5d0"
            ],
            [
             0.7,
             "#b8e186"
            ],
            [
             0.8,
             "#7fbc41"
            ],
            [
             0.9,
             "#4d9221"
            ],
            [
             1,
             "#276419"
            ]
           ],
           "sequential": [
            [
             0,
             "#0d0887"
            ],
            [
             0.1111111111111111,
             "#46039f"
            ],
            [
             0.2222222222222222,
             "#7201a8"
            ],
            [
             0.3333333333333333,
             "#9c179e"
            ],
            [
             0.4444444444444444,
             "#bd3786"
            ],
            [
             0.5555555555555556,
             "#d8576b"
            ],
            [
             0.6666666666666666,
             "#ed7953"
            ],
            [
             0.7777777777777778,
             "#fb9f3a"
            ],
            [
             0.8888888888888888,
             "#fdca26"
            ],
            [
             1,
             "#f0f921"
            ]
           ],
           "sequentialminus": [
            [
             0,
             "#0d0887"
            ],
            [
             0.1111111111111111,
             "#46039f"
            ],
            [
             0.2222222222222222,
             "#7201a8"
            ],
            [
             0.3333333333333333,
             "#9c179e"
            ],
            [
             0.4444444444444444,
             "#bd3786"
            ],
            [
             0.5555555555555556,
             "#d8576b"
            ],
            [
             0.6666666666666666,
             "#ed7953"
            ],
            [
             0.7777777777777778,
             "#fb9f3a"
            ],
            [
             0.8888888888888888,
             "#fdca26"
            ],
            [
             1,
             "#f0f921"
            ]
           ]
          },
          "colorway": [
           "#636efa",
           "#EF553B",
           "#00cc96",
           "#ab63fa",
           "#FFA15A",
           "#19d3f3",
           "#FF6692",
           "#B6E880",
           "#FF97FF",
           "#FECB52"
          ],
          "font": {
           "color": "#2a3f5f"
          },
          "geo": {
           "bgcolor": "white",
           "lakecolor": "white",
           "landcolor": "#E5ECF6",
           "showlakes": true,
           "showland": true,
           "subunitcolor": "white"
          },
          "hoverlabel": {
           "align": "left"
          },
          "hovermode": "closest",
          "mapbox": {
           "style": "light"
          },
          "paper_bgcolor": "white",
          "plot_bgcolor": "#E5ECF6",
          "polar": {
           "angularaxis": {
            "gridcolor": "white",
            "linecolor": "white",
            "ticks": ""
           },
           "bgcolor": "#E5ECF6",
           "radialaxis": {
            "gridcolor": "white",
            "linecolor": "white",
            "ticks": ""
           }
          },
          "scene": {
           "xaxis": {
            "backgroundcolor": "#E5ECF6",
            "gridcolor": "white",
            "gridwidth": 2,
            "linecolor": "white",
            "showbackground": true,
            "ticks": "",
            "zerolinecolor": "white"
           },
           "yaxis": {
            "backgroundcolor": "#E5ECF6",
            "gridcolor": "white",
            "gridwidth": 2,
            "linecolor": "white",
            "showbackground": true,
            "ticks": "",
            "zerolinecolor": "white"
           },
           "zaxis": {
            "backgroundcolor": "#E5ECF6",
            "gridcolor": "white",
            "gridwidth": 2,
            "linecolor": "white",
            "showbackground": true,
            "ticks": "",
            "zerolinecolor": "white"
           }
          },
          "shapedefaults": {
           "line": {
            "color": "#2a3f5f"
           }
          },
          "ternary": {
           "aaxis": {
            "gridcolor": "white",
            "linecolor": "white",
            "ticks": ""
           },
           "baxis": {
            "gridcolor": "white",
            "linecolor": "white",
            "ticks": ""
           },
           "bgcolor": "#E5ECF6",
           "caxis": {
            "gridcolor": "white",
            "linecolor": "white",
            "ticks": ""
           }
          },
          "title": {
           "x": 0.05
          },
          "xaxis": {
           "automargin": true,
           "gridcolor": "white",
           "linecolor": "white",
           "ticks": "",
           "title": {
            "standoff": 15
           },
           "zerolinecolor": "white",
           "zerolinewidth": 2
          },
          "yaxis": {
           "automargin": true,
           "gridcolor": "white",
           "linecolor": "white",
           "ticks": "",
           "title": {
            "standoff": 15
           },
           "zerolinecolor": "white",
           "zerolinewidth": 2
          }
         }
        },
        "title": {
         "text": "<b>ChatGPT Prediction Caribbean Dataset<b><br>Zeroshot",
         "x": 0.6,
         "y": 0.95
        },
        "width": 1100,
        "xaxis": {
         "domain": [
          0.15,
          1
         ],
         "showgrid": false,
         "showline": false,
         "showticklabels": false,
         "zeroline": false
        },
        "yaxis": {
         "showgrid": false,
         "showline": false,
         "showticklabels": false,
         "zeroline": false
        }
       }
      }
     },
     "metadata": {},
     "output_type": "display_data"
    }
   ],
   "source": [
    "top_labels = [\n",
    "     'Correct', \n",
    "     'Incorrect', \n",
    "     'No Information']\n",
    "\n",
    "colors = [\n",
    "     '#2ca02c', \n",
    "     '#d62728', \n",
    "     '#1f77b4']\n",
    "\n",
    "\n",
    "\n",
    "fig = go.Figure()\n",
    "\n",
    "for i in range(0, len(x_data[0])):\n",
    "    for xd, yd in zip(x_data, y_data):\n",
    "        fig.add_trace(go.Bar(\n",
    "            x=[xd[i]], y=[yd],\n",
    "            orientation='h',\n",
    "            marker=dict(\n",
    "                color=colors[i],\n",
    "                line=dict(color='rgb(248, 248, 249)', width=1)\n",
    "            )\n",
    "        ))\n",
    "\n",
    "fig.update_layout(\n",
    "    xaxis=dict(\n",
    "        showgrid=False,\n",
    "        showline=False,\n",
    "        showticklabels=False,\n",
    "        zeroline=False,\n",
    "        domain=[0.15, 1]\n",
    "    ),\n",
    "    yaxis=dict(\n",
    "        showgrid=False,\n",
    "        showline=False,\n",
    "        showticklabels=False,\n",
    "        zeroline=False,\n",
    "    ),\n",
    "    barmode='stack',\n",
    "    paper_bgcolor='rgb(248, 248, 255)',\n",
    "    plot_bgcolor='rgb(248, 248, 255)',\n",
    "    margin=dict(l=120, r=10, t=140, b=80),\n",
    "    showlegend=False,\n",
    ")\n",
    "\n",
    "annotations = []\n",
    "\n",
    "for yd, xd in zip(y_data, x_data):\n",
    "    \n",
    "    # labeling the y-axis\n",
    "    annotations.append(dict(xref='paper', yref='y',\n",
    "                            x=0.14, y=yd,\n",
    "                            xanchor='right',\n",
    "                            text=str(yd),\n",
    "                            font=dict(family='Arial', size=14,\n",
    "                                      color='rgb(67, 67, 67)'),\n",
    "                            showarrow=False, align='right'))\n",
    "    \n",
    "    # labeling the first percentage of each bar (x_axis)\n",
    "    annotations.append(dict(xref='x', yref='y',\n",
    "                            x=xd[0] / 2, y=yd,\n",
    "                            text=str(xd[0]) + '%',\n",
    "                            font=dict(family='Arial', size=14,\n",
    "                                      color='rgb(248, 248, 255)'),\n",
    "                            showarrow=False))\n",
    "\n",
    "    space = xd[0]\n",
    "    for i in range(1, len(xd)):\n",
    "            # labeling the rest of percentages for each bar (x_axis)\n",
    "            annotations.append(dict(xref='x', yref='y',\n",
    "                                    x=space + (xd[i]/2),                                     \n",
    "                                    y=yd,\n",
    "                                    text=str(xd[i]) + '%',\n",
    "                                    font=dict(family='Arial', size=14,\n",
    "                                              color='rgb(248, 248, 255)'),\n",
    "                                    showarrow=False))\n",
    "            space += xd[i]\n",
    "\n",
    "# Labeling top axis\n",
    "for idx, label in enumerate(top_labels):\n",
    "    annotations.append(dict(xref='paper', yref='paper',\n",
    "                            x=idx/3 + 0.225, y=1.081,\n",
    "                            text=F\"<b>{label}<b>\",\n",
    "                            font=dict(family='Arial', size=18,\n",
    "                                        color=colors[idx]),\n",
    "                            showarrow=False))\n",
    "\n",
    "\n",
    "# Remove low values\n",
    "for idx, annotation in enumerate(annotations):\n",
    "    value = annotation['text'][0:-1]\n",
    "    try:\n",
    "        value = float(value)\n",
    "        if value < 5:\n",
    "            annotations[idx]['text'] = \"\"\n",
    "    except:\n",
    "        continue\n",
    "    \n",
    "fig.update_layout(annotations=annotations, \n",
    "                  width=1100, height=800,\n",
    "                  bargap=0.1,\n",
    "                  title_text='<b>ChatGPT Prediction Caribbean Dataset<b><br>Zeroshot',title_x=0.6, title_y=0.95, )\n",
    "\n",
    "\n",
    "# fig.update_yaxes(automargin=True)\n",
    "\n",
    "fig.show()\n",
    "\n",
    "# folder_figures = \"../../../reports/figures/\"\n",
    "# file_name = \"PxPlot_HTML_BarchartPredictions_ZeroShot.html\"\n",
    "# fig.write_html(F\"{folder_figures}{file_name}\")\n",
    "# file_name = \"PxPlot_PDF_BarchartPredictions_ZeroShot.pdf\"\n",
    "# fig.write_image(F\"{folder_figures}{file_name}\")"
   ]
  },
  {
   "cell_type": "code",
   "execution_count": 8,
   "metadata": {},
   "outputs": [],
   "source": [
    "# Create custom legend using annotations\n",
    "# legend_items = [\n",
    "#     {'name': 'Correct', 'color': '#2ca02c', 'ypos': 1.09},\n",
    "#     {'name': 'Incorrect', 'color': '#d62728', 'ypos': 1.06},\n",
    "#     {'name': 'No Information', 'color': '#1f77b4', 'ypos': 1.03},\n",
    "# ]\n",
    "\n",
    "# for item in legend_items:\n",
    "#     fig.add_shape(\n",
    "#         type='rect',\n",
    "#         xref='paper', x0=0.05, x1=0.1,\n",
    "#         yref='paper', y0=item['ypos'], y1=item['ypos'] + 0.02,\n",
    "#         fillcolor=item['color'],\n",
    "#         line=dict(color=item['color'], width=1)\n",
    "#     )\n",
    "#     fig.add_annotation(\n",
    "#         xref='paper', x=0.11, yref='paper', y=item['ypos'] + 0.02,\n",
    "#         text=item['name'],\n",
    "#         showarrow=False,\n",
    "#         font=dict(size=10)\n",
    "#     )"
   ]
  }
 ],
 "metadata": {
  "kernelspec": {
   "display_name": "deeplearning",
   "language": "python",
   "name": "deeplearning"
  },
  "language_info": {
   "codemirror_mode": {
    "name": "ipython",
    "version": 3
   },
   "file_extension": ".py",
   "mimetype": "text/x-python",
   "name": "python",
   "nbconvert_exporter": "python",
   "pygments_lexer": "ipython3",
   "version": "3.10.4"
  },
  "orig_nbformat": 4
 },
 "nbformat": 4,
 "nbformat_minor": 2
}
