{
 "cells": [
  {
   "cell_type": "code",
   "execution_count": 1,
   "metadata": {},
   "outputs": [],
   "source": [
    "import torch\n",
    "import re\n",
    "import os\n",
    "import openai\n",
    "from dotenv import load_dotenv"
   ]
  },
  {
   "cell_type": "code",
   "execution_count": 2,
   "metadata": {},
   "outputs": [],
   "source": [
    "load_dotenv()\n",
    "openai.api_key = os.environ['OPENAI_API']"
   ]
  },
  {
   "cell_type": "code",
   "execution_count": 7,
   "metadata": {},
   "outputs": [],
   "source": [
    "# Set up the model and prompt\n",
    "model_engine = \"text-davinci-003\"\n",
    "\n",
    "prompt_text = \"\"\"\n",
    "Sea grape is an evergreen shrub, or sometimes a tree, varying in height and habit according to its environment. In more exposed conditions it can be a spreading shrub just 1 metres tall, it usually flowers with blue or orange flowers.\n",
    "\"\"\"\n",
    "\n",
    "prompt_traits = \"\"\"\n",
    "List of traits: Flower Colour Orange, Flower Colour Blue, None of the above, No information in the text\n",
    "\"\"\"\n",
    "\n",
    "prompt_question = \"\"\"\n",
    "Which of this traits fits best with the species in this text description?\n",
    "\"\"\"\n",
    "\n",
    "prompt = F\"\"\"\n",
    "{prompt_traits}\n",
    "{prompt_question}\n",
    "{prompt_text}\n",
    "\"\"\""
   ]
  },
  {
   "cell_type": "code",
   "execution_count": 8,
   "metadata": {},
   "outputs": [
    {
     "name": "stdout",
     "output_type": "stream",
     "text": [
      "\n",
      "\n",
      "List of traits: Flower Colour Orange, Flower Colour Blue, None of the above, No information in the text\n",
      "\n",
      "\n",
      "Which of this traits fits best with the species in this text description?\n",
      "\n",
      "\n",
      "Sea grape is an evergreen shrub, or sometimes a tree, varying in height and habit according to its environment. In more exposed conditions it can be a spreading shrub just 1 metres tall, it usually flowers with blue or orange flowers.\n",
      "\n",
      "\n"
     ]
    }
   ],
   "source": [
    "print(prompt)"
   ]
  },
  {
   "cell_type": "code",
   "execution_count": 9,
   "metadata": {},
   "outputs": [],
   "source": [
    "# Generate a response\n",
    "completion = openai.Completion.create(\n",
    "    engine=model_engine,\n",
    "    prompt=prompt,\n",
    "    max_tokens=1024,\n",
    "    n=1,\n",
    "    stop=None,\n",
    "    temperature=0.5,\n",
    ")"
   ]
  },
  {
   "cell_type": "code",
   "execution_count": 10,
   "metadata": {},
   "outputs": [
    {
     "name": "stdout",
     "output_type": "stream",
     "text": [
      "Flower Colour Orange\n",
      "Flower Colour Blue\n"
     ]
    }
   ],
   "source": [
    "res = completion.choices[0].text\n",
    "print(res)"
   ]
  },
  {
   "cell_type": "code",
   "execution_count": 13,
   "metadata": {},
   "outputs": [
    {
     "data": {
      "text/plain": [
       "['Flower Colour Orange', 'Flower Colour Blue']"
      ]
     },
     "execution_count": 13,
     "metadata": {},
     "output_type": "execute_result"
    }
   ],
   "source": [
    "res.split('\\n')"
   ]
  },
  {
   "cell_type": "code",
   "execution_count": null,
   "metadata": {},
   "outputs": [],
   "source": []
  }
 ],
 "metadata": {
  "kernelspec": {
   "display_name": "deeplearning",
   "language": "python",
   "name": "python3"
  },
  "language_info": {
   "codemirror_mode": {
    "name": "ipython",
    "version": 3
   },
   "file_extension": ".py",
   "mimetype": "text/x-python",
   "name": "python",
   "nbconvert_exporter": "python",
   "pygments_lexer": "ipython3",
   "version": "3.10.4"
  },
  "orig_nbformat": 4,
  "vscode": {
   "interpreter": {
    "hash": "51432b8e5767c06330d9b51dfad63f9db0ea39868e37d921b9c2e277373f8d11"
   }
  }
 },
 "nbformat": 4,
 "nbformat_minor": 2
}
