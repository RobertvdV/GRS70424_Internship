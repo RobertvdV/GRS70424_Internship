{
 "cells": [
  {
   "cell_type": "code",
   "execution_count": 1,
   "metadata": {},
   "outputs": [
    {
     "name": "stderr",
     "output_type": "stream",
     "text": [
      "* Owlready2 * Warning: optimized Cython parser module 'owlready2_optimized' is not available, defaulting to slower Python implementation\n"
     ]
    }
   ],
   "source": [
    "import pickle\n",
    "import pandas as pd\n",
    "import numpy as np\n",
    "from tqdm import tqdm\n",
    "import json\n",
    "from owlready2 import *\n"
   ]
  },
  {
   "cell_type": "code",
   "execution_count": 2,
   "metadata": {},
   "outputs": [],
   "source": [
    "folder = \"../../data/ontologies/\"\n",
    "file = \"flopo.owl\"\n",
    "\n",
    "onto = get_ontology(F\"{folder}{file}\").load()"
   ]
  },
  {
   "cell_type": "code",
   "execution_count": 3,
   "metadata": {},
   "outputs": [],
   "source": [
    "class_lst = list(onto.classes())"
   ]
  },
  {
   "cell_type": "code",
   "execution_count": 4,
   "metadata": {},
   "outputs": [
    {
     "data": {
      "text/plain": [
       "mappingproxy({'namespace': get_ontology(\"http://purl.obolibrary.org/obo/flopo.owl#\").get_namespace(\"http://purl.obolibrary.org/obo/\"),\n",
       "              'storid': 7140,\n",
       "              '_name': 'FLOPO_0006283',\n",
       "              'is_a': [owl.Thing],\n",
       "              '_equivalent_to': None,\n",
       "              '__module__': 'owlready2.entity',\n",
       "              '__doc__': None})"
      ]
     },
     "execution_count": 4,
     "metadata": {},
     "output_type": "execute_result"
    }
   ],
   "source": [
    "class_lst[6283].__dict__"
   ]
  },
  {
   "cell_type": "code",
   "execution_count": 6,
   "metadata": {},
   "outputs": [
    {
     "data": {
      "text/plain": [
       "{obo.FLOPO_0006283, owl.Thing}"
      ]
     },
     "execution_count": 6,
     "metadata": {},
     "output_type": "execute_result"
    }
   ],
   "source": [
    "class_lst[6283].ancestors()"
   ]
  },
  {
   "cell_type": "code",
   "execution_count": 7,
   "metadata": {},
   "outputs": [
    {
     "name": "stdout",
     "output_type": "stream",
     "text": [
      "['leaf']\n",
      "obo.PO_0025034\n"
     ]
    }
   ],
   "source": [
    "print(class_lst[6283]._equivalent_to[0].value._Classes[0].label)\n",
    "print(class_lst[6283]._equivalent_to[0].value._Classes[0])"
   ]
  },
  {
   "cell_type": "code",
   "execution_count": 12,
   "metadata": {},
   "outputs": [
    {
     "name": "stdout",
     "output_type": "stream",
     "text": [
      "['yellow green']\n",
      "obo.PATO_0001941\n"
     ]
    }
   ],
   "source": [
    "print(class_lst[6283]._equivalent_to[0].value._Classes[1].value.label)\n",
    "print(class_lst[6283]._equivalent_to[0].value._Classes[1].value)"
   ]
  },
  {
   "cell_type": "code",
   "execution_count": 13,
   "metadata": {},
   "outputs": [
    {
     "name": "stdout",
     "output_type": "stream",
     "text": [
      "['color']\n"
     ]
    }
   ],
   "source": [
    "print(class_lst[6283]._equivalent_to[0].value._Classes[1].value.is_a[0].is_a[0].label)"
   ]
  },
  {
   "cell_type": "code",
   "execution_count": 14,
   "metadata": {},
   "outputs": [
    {
     "name": "stdout",
     "output_type": "stream",
     "text": [
      "['has part', 'has part', 'has_part', 'has_part', 'has part']\n",
      "obo.BFO_0000051\n"
     ]
    }
   ],
   "source": [
    "print(class_lst[6283]._equivalent_to[0].property.label)\n",
    "print(class_lst[6283]._equivalent_to[0].property)"
   ]
  },
  {
   "cell_type": "code",
   "execution_count": 15,
   "metadata": {},
   "outputs": [
    {
     "name": "stdout",
     "output_type": "stream",
     "text": [
      "['has quality', 'bearer of', 'has characteristic', 'has characteristic']\n",
      "obo.RO_0000053\n"
     ]
    }
   ],
   "source": [
    "print(class_lst[6283]._equivalent_to[0].value._Classes[1].property.label)\n",
    "print(class_lst[6283]._equivalent_to[0].value._Classes[1].property)"
   ]
  },
  {
   "cell_type": "code",
   "execution_count": null,
   "metadata": {},
   "outputs": [],
   "source": [
    "leaf_strings[336:342]"
   ]
  },
  {
   "cell_type": "code",
   "execution_count": 48,
   "metadata": {},
   "outputs": [],
   "source": [
    "onto_leaf = get_ontology(\"http://purl.obolibrary.org/obo/PO_0025034\")\n",
    "\n",
    "onto_leaf.load()\n",
    "\n",
    "leaf_lst = list(onto_leaf.classes())"
   ]
  },
  {
   "cell_type": "code",
   "execution_count": 36,
   "metadata": {},
   "outputs": [
    {
     "name": "stdout",
     "output_type": "stream",
     "text": [
      "['unifacial vascular leaf']\n",
      "['leaf tendril']\n",
      "['palmate leaf']\n",
      "['cigar leaf']\n",
      "['transition vascular leaf']\n",
      "['pinnate leaf']\n",
      "['juvenile vascular leaf']\n",
      "['flag leaf']\n",
      "['ensiform vascular leaf']\n",
      "['cauline leaf']\n",
      "['plant embryo cotyledon']\n",
      "['cotyledon']\n",
      "['spine leaf']\n",
      "['non-vascular leaf']\n",
      "['vascular leaf']\n",
      "['leaf']\n",
      "['compound leaf']\n",
      "['terete vascular leaf']\n",
      "['adult vascular leaf']\n",
      "['transition phyllode leaf']\n",
      "['embryo leaf']\n",
      "['phyllode leaf']\n",
      "['rosette leaf']\n",
      "['seedling cotyledon']\n",
      "['simple leaf']\n"
     ]
    }
   ],
   "source": [
    "for child in leaf_lst[0].descendants():\n",
    "    print(child.label)\n",
    "\n",
    "    if child.label[0] == 'pinnate leaf':\n",
    "        item = child\n"
   ]
  },
  {
   "cell_type": "code",
   "execution_count": 54,
   "metadata": {},
   "outputs": [],
   "source": [
    "go = get_ontology(\"http://purl.obolibrary.org/obo/go.owl\").load()"
   ]
  },
  {
   "cell_type": "code",
   "execution_count": 60,
   "metadata": {},
   "outputs": [],
   "source": [
    "po = get_ontology(F\"{folder}{file}\").load()"
   ]
  },
  {
   "cell_type": "code",
   "execution_count": 77,
   "metadata": {},
   "outputs": [
    {
     "ename": "ValueError",
     "evalue": "No existing entity for IRI 'http://www.w3.org/1999/02/22-rdf-syntax-ns#Description'! (use error_on_undefined_entities=False to accept unknown entities in SPARQL queries)",
     "output_type": "error",
     "traceback": [
      "\u001b[0;31m---------------------------------------------------------------------------\u001b[0m",
      "\u001b[0;31mValueError\u001b[0m                                Traceback (most recent call last)",
      "Cell \u001b[0;32mIn[77], line 1\u001b[0m\n\u001b[0;32m----> 1\u001b[0m \u001b[39mlist\u001b[39m(po\u001b[39m.\u001b[39;49mworld\u001b[39m.\u001b[39;49msparql(\n\u001b[1;32m      2\u001b[0m \u001b[39m       \u001b[39;49m\u001b[39m\"\"\"\u001b[39;49;00m\n\u001b[1;32m      3\u001b[0m \u001b[39m           SELECT ?x\u001b[39;49;00m\n\u001b[1;32m      4\u001b[0m \u001b[39m           { ?x rdf:Description \"http://purl.obolibrary.org/obo/PO_0025034\" . }\u001b[39;49;00m\n\u001b[1;32m      5\u001b[0m \u001b[39m           LIMIT 50\u001b[39;49;00m\n\u001b[1;32m      6\u001b[0m \u001b[39m       \"\"\"\u001b[39;49;00m))\n",
      "File \u001b[0;32m~/Documents/Wageningen University/Period 0 - GRS 70424 Internship/venv/lib/python3.9/site-packages/owlready2/namespace.py:527\u001b[0m, in \u001b[0;36mWorld.sparql\u001b[0;34m(self, sparql, params, error_on_undefined_entities)\u001b[0m\n\u001b[1;32m    525\u001b[0m \u001b[39mdef\u001b[39;00m \u001b[39msparql\u001b[39m(\u001b[39mself\u001b[39m, sparql, params \u001b[39m=\u001b[39m (), error_on_undefined_entities \u001b[39m=\u001b[39m \u001b[39mTrue\u001b[39;00m):\n\u001b[1;32m    526\u001b[0m   \u001b[39mimport\u001b[39;00m \u001b[39mowlready2\u001b[39;00m\u001b[39m.\u001b[39;00m\u001b[39msparql\u001b[39;00m\u001b[39m.\u001b[39;00m\u001b[39mmain\u001b[39;00m\n\u001b[0;32m--> 527\u001b[0m   query \u001b[39m=\u001b[39m \u001b[39mself\u001b[39;49m\u001b[39m.\u001b[39;49m_prepare_sparql(sparql, error_on_undefined_entities)\n\u001b[1;32m    528\u001b[0m   \u001b[39mreturn\u001b[39;00m query\u001b[39m.\u001b[39mexecute(params)\n",
      "File \u001b[0;32m~/Documents/Wageningen University/Period 0 - GRS 70424 Internship/venv/lib/python3.9/site-packages/owlready2/namespace.py:533\u001b[0m, in \u001b[0;36mWorld._prepare_sparql\u001b[0;34m(self, sparql, error_on_undefined_entities)\u001b[0m\n\u001b[1;32m    530\u001b[0m \u001b[39m@lru_cache\u001b[39m(maxsize \u001b[39m=\u001b[39m \u001b[39m1024\u001b[39m)\n\u001b[1;32m    531\u001b[0m \u001b[39mdef\u001b[39;00m \u001b[39m_prepare_sparql\u001b[39m(\u001b[39mself\u001b[39m, sparql, error_on_undefined_entities):\n\u001b[1;32m    532\u001b[0m   \u001b[39mimport\u001b[39;00m \u001b[39mowlready2\u001b[39;00m\u001b[39m.\u001b[39;00m\u001b[39msparql\u001b[39;00m\u001b[39m.\u001b[39;00m\u001b[39mmain\u001b[39;00m\n\u001b[0;32m--> 533\u001b[0m   \u001b[39mreturn\u001b[39;00m owlready2\u001b[39m.\u001b[39;49msparql\u001b[39m.\u001b[39;49mmain\u001b[39m.\u001b[39;49mTranslator(\u001b[39mself\u001b[39;49m, error_on_undefined_entities)\u001b[39m.\u001b[39;49mparse(sparql)\n",
      "File \u001b[0;32m~/Documents/Wageningen University/Period 0 - GRS 70424 Internship/venv/lib/python3.9/site-packages/owlready2/sparql/main.py:61\u001b[0m, in \u001b[0;36mTranslator.parse\u001b[0;34m(self, sparql)\u001b[0m\n\u001b[1;32m     59\u001b[0m   \u001b[39mself\u001b[39m\u001b[39m.\u001b[39mescape_mark \u001b[39m+\u001b[39m\u001b[39m=\u001b[39m \u001b[39m\"\u001b[39m\u001b[39mç\u001b[39m\u001b[39m\"\u001b[39m\n\u001b[1;32m     60\u001b[0m CURRENT_TRANSLATOR\u001b[39m.\u001b[39mset(\u001b[39mself\u001b[39m)\n\u001b[0;32m---> 61\u001b[0m \u001b[39mself\u001b[39m\u001b[39m.\u001b[39mmain_query \u001b[39m=\u001b[39m PARSER\u001b[39m.\u001b[39;49mparse(LEXER\u001b[39m.\u001b[39;49mlex(sparql))\n\u001b[1;32m     62\u001b[0m \u001b[39mreturn\u001b[39;00m \u001b[39mself\u001b[39m\u001b[39m.\u001b[39mfinalize()\n",
      "File \u001b[0;32m~/Documents/Wageningen University/Period 0 - GRS 70424 Internship/venv/lib/python3.9/site-packages/owlready2/rply.py:416\u001b[0m, in \u001b[0;36mLRParser.parse\u001b[0;34m(self, tokenizer, state)\u001b[0m\n\u001b[1;32m    414\u001b[0m \u001b[39mif\u001b[39;00m \u001b[39mself\u001b[39m\u001b[39m.\u001b[39mlr_table\u001b[39m.\u001b[39mdefault_reductions[current_state]:\n\u001b[1;32m    415\u001b[0m   t \u001b[39m=\u001b[39m \u001b[39mself\u001b[39m\u001b[39m.\u001b[39mlr_table\u001b[39m.\u001b[39mdefault_reductions[current_state]\n\u001b[0;32m--> 416\u001b[0m   current_state \u001b[39m=\u001b[39m \u001b[39mself\u001b[39;49m\u001b[39m.\u001b[39;49m_reduce_production(\n\u001b[1;32m    417\u001b[0m     t, symstack, statestack, state\n\u001b[1;32m    418\u001b[0m   )\n\u001b[1;32m    419\u001b[0m   \u001b[39mcontinue\u001b[39;00m\n\u001b[1;32m    421\u001b[0m \u001b[39mif\u001b[39;00m lookahead \u001b[39mis\u001b[39;00m \u001b[39mNone\u001b[39;00m:\n",
      "File \u001b[0;32m~/Documents/Wageningen University/Period 0 - GRS 70424 Internship/venv/lib/python3.9/site-packages/owlready2/rply.py:465\u001b[0m, in \u001b[0;36mLRParser._reduce_production\u001b[0;34m(self, t, symstack, statestack, state)\u001b[0m\n\u001b[1;32m    463\u001b[0m \u001b[39mdel\u001b[39;00m symstack[start:]\n\u001b[1;32m    464\u001b[0m \u001b[39mdel\u001b[39;00m statestack[start:]\n\u001b[0;32m--> 465\u001b[0m \u001b[39mif\u001b[39;00m state \u001b[39mis\u001b[39;00m \u001b[39mNone\u001b[39;00m: value \u001b[39m=\u001b[39m p\u001b[39m.\u001b[39;49mfunc(targ)\n\u001b[1;32m    466\u001b[0m \u001b[39melse\u001b[39;00m:             value \u001b[39m=\u001b[39m p\u001b[39m.\u001b[39mfunc(state, targ)\n\u001b[1;32m    467\u001b[0m symstack\u001b[39m.\u001b[39mappend(value)\n",
      "File \u001b[0;32m~/Documents/Wageningen University/Period 0 - GRS 70424 Internship/venv/lib/python3.9/site-packages/owlready2/sparql/parser.py:1015\u001b[0m, in \u001b[0;36mf\u001b[0;34m(p)\u001b[0m\n\u001b[1;32m   1013\u001b[0m p\u001b[39m.\u001b[39mname   \u001b[39m=\u001b[39m \u001b[39m\"\u001b[39m\u001b[39mIRI\u001b[39m\u001b[39m\"\u001b[39m\n\u001b[1;32m   1014\u001b[0m p\u001b[39m.\u001b[39mvalue  \u001b[39m=\u001b[39m \u001b[39m\"\u001b[39m\u001b[39m%s\u001b[39;00m\u001b[39m%s\u001b[39;00m\u001b[39m\"\u001b[39m \u001b[39m%\u001b[39m (translator\u001b[39m.\u001b[39mexpand_prefix(\u001b[39m\"\u001b[39m\u001b[39m%s\u001b[39;00m\u001b[39m:\u001b[39m\u001b[39m\"\u001b[39m \u001b[39m%\u001b[39m prefix), name)\n\u001b[0;32m-> 1015\u001b[0m p\u001b[39m.\u001b[39mstorid \u001b[39m=\u001b[39m p\u001b[39m.\u001b[39msql \u001b[39m=\u001b[39m translator\u001b[39m.\u001b[39;49mabbreviate(p\u001b[39m.\u001b[39;49mvalue)\n\u001b[1;32m   1016\u001b[0m \u001b[39mreturn\u001b[39;00m p\n",
      "File \u001b[0;32m~/Documents/Wageningen University/Period 0 - GRS 70424 Internship/venv/lib/python3.9/site-packages/owlready2/sparql/main.py:293\u001b[0m, in \u001b[0;36mTranslator.abbreviate\u001b[0;34m(self, entity)\u001b[0m\n\u001b[1;32m    291\u001b[0m \u001b[39mif\u001b[39;00m \u001b[39mself\u001b[39m\u001b[39m.\u001b[39merror_on_undefined_entities:\n\u001b[1;32m    292\u001b[0m   r \u001b[39m=\u001b[39m \u001b[39mself\u001b[39m\u001b[39m.\u001b[39mworld\u001b[39m.\u001b[39m_abbreviate(entity, \u001b[39mFalse\u001b[39;00m)\n\u001b[0;32m--> 293\u001b[0m   \u001b[39mif\u001b[39;00m r \u001b[39mis\u001b[39;00m \u001b[39mNone\u001b[39;00m: \u001b[39mraise\u001b[39;00m \u001b[39mValueError\u001b[39;00m(\u001b[39m\"\u001b[39m\u001b[39mNo existing entity for IRI \u001b[39m\u001b[39m'\u001b[39m\u001b[39m%s\u001b[39;00m\u001b[39m'\u001b[39m\u001b[39m! (use error_on_undefined_entities=False to accept unknown entities in SPARQL queries)\u001b[39m\u001b[39m\"\u001b[39m \u001b[39m%\u001b[39m entity)\n\u001b[1;32m    294\u001b[0m   \u001b[39mreturn\u001b[39;00m r\n\u001b[1;32m    295\u001b[0m \u001b[39melse\u001b[39;00m:\n",
      "\u001b[0;31mValueError\u001b[0m: No existing entity for IRI 'http://www.w3.org/1999/02/22-rdf-syntax-ns#Description'! (use error_on_undefined_entities=False to accept unknown entities in SPARQL queries)"
     ]
    }
   ],
   "source": [
    "list(po.world.sparql(\n",
    "       \"\"\"\n",
    "           SELECT ?x\n",
    "           { ?x rdfs:label \"leaf\" . }\n",
    "           LIMIT 50\n",
    "       \"\"\"))"
   ]
  },
  {
   "cell_type": "code",
   "execution_count": 71,
   "metadata": {},
   "outputs": [
    {
     "data": {
      "text/plain": [
       "<owlready2.namespace.World at 0x104cab5b0>"
      ]
     },
     "execution_count": 71,
     "metadata": {},
     "output_type": "execute_result"
    }
   ],
   "source": [
    "po.world"
   ]
  }
 ],
 "metadata": {
  "kernelspec": {
   "display_name": "venv",
   "language": "python",
   "name": "python3"
  },
  "language_info": {
   "codemirror_mode": {
    "name": "ipython",
    "version": 3
   },
   "file_extension": ".py",
   "mimetype": "text/x-python",
   "name": "python",
   "nbconvert_exporter": "python",
   "pygments_lexer": "ipython3",
   "version": "3.9.13"
  },
  "orig_nbformat": 4,
  "vscode": {
   "interpreter": {
    "hash": "020a6b5c0ed803a704c00010560cf50a059d086f11791eecdae2eedc39704b9e"
   }
  }
 },
 "nbformat": 4,
 "nbformat_minor": 2
}
