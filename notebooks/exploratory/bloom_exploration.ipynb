{
 "cells": [
  {
   "cell_type": "code",
   "execution_count": 1,
   "metadata": {},
   "outputs": [],
   "source": [
    "import torch\n",
    "from transformers import AutoTokenizer, AutoModel\n",
    "import transformers\n",
    "from transformers import BloomForCausalLM\n",
    "from transformers import BloomTokenizerFast\n",
    "import re\n"
   ]
  },
  {
   "cell_type": "code",
   "execution_count": 2,
   "metadata": {},
   "outputs": [],
   "source": [
    "# tokenizer = AutoTokenizer.from_pretrained(\"bigscience/bloom-560m\")\n",
    "# model = AutoModel.from_pretrained(\"bigscience/bloom-560m\")\n",
    "\n",
    "model = BloomForCausalLM.from_pretrained(\"bigscience/bloom-1b7\")\n",
    "tokenizer = BloomTokenizerFast.from_pretrained(\"bigscience/bloom-1b7\")\n",
    "\n",
    "# tokenizer = AutoTokenizer.from_pretrained(\"bigscience/bloom-1b7\")\n",
    "# model = AutoModel.from_pretrained(\"bigscience/bloom-1b7\")"
   ]
  },
  {
   "cell_type": "code",
   "execution_count": 3,
   "metadata": {},
   "outputs": [],
   "source": [
    "text = \"The tree has yellow flowers and green leaves\"\n",
    "question = \"What parts does the tree have?\"\n",
    "\n",
    "# result_length calibrates the size of the response (in tokens) we get for the prompt from the model\n",
    "result_length = 50\n",
    "\n",
    "prompt = {\n",
    "    'Text': text,\n",
    "    'Question': question\n",
    "    }\n",
    "\n",
    "prompt = \"\"\"\n",
    "Text: The tree has yellow flowers and green leaves\n",
    "Question: What parts does the tree have?\n",
    "Answer:\n",
    "\"\"\"\n",
    "\n",
    "inputs = tokenizer(prompt, return_tensors=\"pt\")"
   ]
  },
  {
   "cell_type": "code",
   "execution_count": 4,
   "metadata": {},
   "outputs": [
    {
     "name": "stdout",
     "output_type": "stream",
     "text": [
      "\n",
      "Text: The tree has yellow flowers and green leaves\n",
      "Question: What parts does the tree have?\n",
      "Answer:\n",
      "The tree has yellow flowers and green leaves\n",
      "The tree has yellow flowers and green leaves\n",
      "The tree has yellow flowers and green leaves\n",
      "The\n"
     ]
    }
   ],
   "source": [
    "# Greedy Search\n",
    "print(tokenizer.decode(model.generate(inputs[\"input_ids\"], \n",
    "                       max_length=result_length\n",
    "                      )[0]))"
   ]
  },
  {
   "cell_type": "code",
   "execution_count": 5,
   "metadata": {},
   "outputs": [
    {
     "name": "stdout",
     "output_type": "stream",
     "text": [
      "\n",
      "Text: The tree has yellow flowers and green leaves\n",
      "Question: What parts does the tree have?\n",
      "Answer:\n",
      "1. Yellow flowers\n",
      "2. Green leaves\n",
      "\n",
      "A:\n",
      "\n",
      "The answer to the question is\n",
      "\n",
      " The leaves are green and the flowers are yellow\n"
     ]
    }
   ],
   "source": [
    "# Beam Search\n",
    "print(tokenizer.decode(model.generate(inputs[\"input_ids\"],\n",
    "                       max_length=result_length, \n",
    "                       num_beams=2, \n",
    "                       no_repeat_ngram_size=2,\n",
    "                       early_stopping=True\n",
    "                      )[0]))"
   ]
  },
  {
   "cell_type": "code",
   "execution_count": 39,
   "metadata": {},
   "outputs": [
    {
     "name": "stdout",
     "output_type": "stream",
     "text": [
      "\n",
      "Text: The tree has yellow flowers and green leaves\n",
      "Question: What parts does the tree have?\n",
      "Answer:\n",
      "The tree has yellow flowers and green leaves\n",
      "Answer:\n",
      "The tree has yellow flowers and green leaves\n",
      "Answer:\n",
      "The tree has yellow\n"
     ]
    }
   ],
   "source": [
    "# Sampling Top-k + Top-p\n",
    "print(tokenizer.decode(model.generate(inputs[\"input_ids\"],\n",
    "                       max_length=result_length, \n",
    "                       do_sample=True, \n",
    "                       top_k=50, \n",
    "                       top_p=0.9\n",
    "                      )[0]))"
   ]
  },
  {
   "attachments": {},
   "cell_type": "markdown",
   "metadata": {},
   "source": [
    "### Beam Search"
   ]
  },
  {
   "cell_type": "code",
   "execution_count": 12,
   "metadata": {},
   "outputs": [],
   "source": [
    "prompt = \"\"\"\n",
    "Text: The tree has yellow flowers, green leaves and brown bark.\n",
    "Question: What parts does the tree have?\n",
    "Answer:\n",
    "\"\"\"\n",
    "\n",
    "inputs = tokenizer(prompt, return_tensors=\"pt\")\n",
    "\n",
    "# Beam Search\n",
    "output = tokenizer.decode(model.generate(inputs[\"input_ids\"],\n",
    "                          max_length=70, \n",
    "                          num_beams=2, \n",
    "                          no_repeat_ngram_size=2,\n",
    "                          early_stopping=True\n",
    "                          )[0])"
   ]
  },
  {
   "cell_type": "code",
   "execution_count": 13,
   "metadata": {},
   "outputs": [
    {
     "name": "stdout",
     "output_type": "stream",
     "text": [
      "\n",
      "Text: The tree has yellow flowers, green leaves and brown bark.\n",
      "Question: What parts does the tree have?\n",
      "Answer:\n",
      "1. Yellow flowers\n",
      "2. Green leaves\n",
      "3. Brown bark\n",
      "\n",
      "A:\n",
      "\n",
      "The answer is\n",
      "\n",
      " The leaves are green and the bark is brown.\n",
      "\n",
      "The leaves have yellow petals and green stamens. The bark\n"
     ]
    }
   ],
   "source": [
    "print(output)"
   ]
  },
  {
   "cell_type": "code",
   "execution_count": 54,
   "metadata": {},
   "outputs": [
    {
     "name": "stdout",
     "output_type": "stream",
     "text": [
      "\n",
      "Text: Fagus sylvatica is a large tree, capable of reaching heights of up to 50 metres (160 feet) tall[3] and 3 m (10 ft) trunk diameter, though more typically 25–35 m (82–115 ft) tall and up to 1.5 m (5 ft) trunk diameter. A 10-year-old sapling will stand about 4 m (13 ft) tall. It has a typical lifespan of 150–200 years, though sometimes up to 300 years. In cultivated forest stands trees are normally harvested at 80–120 years of age.[4] 30 years are needed to attain full maturity (as compared to 40 for American beech). Like most trees, its form depends on the location: in forest areas, F. sylvatica grows to over 30 m (100 ft), with branches being high up on the trunk. In open locations, it will become much shorter (typically 15–24 m or 50–80 ft) and more massive.\n",
      "The leaves are alternate, simple, and entire or with a slightly crenate margin, 5–10 centimetres (2–4 inches) long and 3–7 cm broad, with 6–7 veins on each side of the leaf (as opposed to 7–10 veins in F. orientalis). When crenate, there is one point at each vein tip, never any points between the veins. The buds are long and slender, 15–30 millimetres (5⁄8–1+1⁄8 in) long and 2–3 mm (3⁄32–1⁄8 in) thick, but thicker (to 4–5 mm) where the buds include flower buds.\n",
      "Question: What parts does the tree have?\n",
      "Answer:\n",
      "The tree has the following parts:\n",
      "1. Leaves\n",
      "2. Trunk\n",
      "3. Buds\n",
      "4. Flowers\n",
      "5. Fruit\n",
      "6. Seed\n",
      "7. Bark\n",
      "8. Stems\n",
      "9. Roots\n",
      "10. Trees\n",
      "11. Wood\n",
      "12. Shrubs\n",
      "13. Plants\n",
      "14. Fungi\n",
      "15. Insects\n",
      "16. Birds\n",
      "17. Mammals\n",
      "18. Reptiles\n",
      "19. Amphibians\n",
      "20. Vertebrates\n",
      "21. Arthropods\n",
      "22. Microbes\n",
      "23. Bacteria\n",
      "24. Protozoa\n",
      "25. Archaea\n",
      "26. Eukaryotes\n",
      "27. Protists\n",
      "28. Virus\n"
     ]
    }
   ],
   "source": [
    "prompt = \"\"\"\n",
    "Text: Fagus sylvatica is a large tree, capable of reaching heights of up to 50 metres (160 feet) tall[3] and 3 m (10 ft) trunk diameter, though more typically 25–35 m (82–115 ft) tall and up to 1.5 m (5 ft) trunk diameter. A 10-year-old sapling will stand about 4 m (13 ft) tall. It has a typical lifespan of 150–200 years, though sometimes up to 300 years. In cultivated forest stands trees are normally harvested at 80–120 years of age.[4] 30 years are needed to attain full maturity (as compared to 40 for American beech). Like most trees, its form depends on the location: in forest areas, F. sylvatica grows to over 30 m (100 ft), with branches being high up on the trunk. In open locations, it will become much shorter (typically 15–24 m or 50–80 ft) and more massive.\n",
    "The leaves are alternate, simple, and entire or with a slightly crenate margin, 5–10 centimetres (2–4 inches) long and 3–7 cm broad, with 6–7 veins on each side of the leaf (as opposed to 7–10 veins in F. orientalis). When crenate, there is one point at each vein tip, never any points between the veins. The buds are long and slender, 15–30 millimetres (5⁄8–1+1⁄8 in) long and 2–3 mm (3⁄32–1⁄8 in) thick, but thicker (to 4–5 mm) where the buds include flower buds.\n",
    "Question: What parts does the tree have?\n",
    "Answer:\n",
    "\"\"\"\n",
    "\n",
    "result_length = 353\n",
    "\n",
    "inputs = tokenizer(prompt, return_tensors=\"pt\")\n",
    "\n",
    "# Beam Search\n",
    "output = tokenizer.decode(model.generate(inputs[\"input_ids\"],\n",
    "                          max_length=500, \n",
    "                          num_beams=4, \n",
    "                          no_repeat_ngram_size=2,\n",
    "                          early_stopping=True\n",
    "                          )[0])\n",
    "\n",
    "print(output)"
   ]
  },
  {
   "cell_type": "code",
   "execution_count": null,
   "metadata": {},
   "outputs": [],
   "source": []
  }
 ],
 "metadata": {
  "kernelspec": {
   "display_name": "deeplearning",
   "language": "python",
   "name": "deeplearning"
  },
  "language_info": {
   "codemirror_mode": {
    "name": "ipython",
    "version": 3
   },
   "file_extension": ".py",
   "mimetype": "text/x-python",
   "name": "python",
   "nbconvert_exporter": "python",
   "pygments_lexer": "ipython3",
   "version": "3.10.4"
  },
  "orig_nbformat": 4,
  "vscode": {
   "interpreter": {
    "hash": "aee8b7b246df8f9039afb4144a1f6fd8d2ca17a180786b69acc140d282b71a49"
   }
  }
 },
 "nbformat": 4,
 "nbformat_minor": 2
}
