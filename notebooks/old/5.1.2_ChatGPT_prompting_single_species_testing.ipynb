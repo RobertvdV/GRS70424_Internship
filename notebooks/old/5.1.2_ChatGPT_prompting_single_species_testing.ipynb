{
 "cells": [
  {
   "cell_type": "code",
   "execution_count": 1,
   "metadata": {},
   "outputs": [],
   "source": [
    "import torch\n",
    "import re\n",
    "import os\n",
    "import json\n",
    "import pickle\n",
    "import openai\n",
    "import pandas as pd\n",
    "import numpy as np\n",
    "import glob\n",
    "from tqdm import tqdm\n",
    "from dotenv import load_dotenv"
   ]
  },
  {
   "attachments": {},
   "cell_type": "markdown",
   "metadata": {},
   "source": [
    "### Dotenv"
   ]
  },
  {
   "cell_type": "code",
   "execution_count": 2,
   "metadata": {},
   "outputs": [],
   "source": [
    "load_dotenv()\n",
    "openai.api_key = os.environ['OPENAI_API']"
   ]
  },
  {
   "attachments": {},
   "cell_type": "markdown",
   "metadata": {},
   "source": [
    "### DataFrames"
   ]
  },
  {
   "cell_type": "code",
   "execution_count": 3,
   "metadata": {},
   "outputs": [],
   "source": [
    "root = \"../../../data/OpenAI/DataFrames/\"\n",
    "\n",
    "file = \"DF_Andrei.csv\"\n",
    "df_Andrei = pd.read_csv(F\"{root}{file}\", header=[0, 1], index_col=0)\\\n",
    "    .rename_axis('Species', axis='index')\n",
    "df_Andrei_species = list(df_Andrei.index)\n",
    "\n",
    "\n",
    "file = \"DF_Daniel.csv\"\n",
    "df_Daniel = pd.read_csv(F\"{root}{file}\", header=[0, 1], index_col=0)\\\n",
    "    .rename_axis('Species', axis='index')\\\n",
    "    .dropna()\n",
    "df_Daniel_species = list(df_Daniel.index)\n",
    "\n",
    "file = \"DF_Pierre.csv\"\n",
    "df_Pierre = pd.read_csv(F\"{root}{file}\", header=[0, 1], index_col=0)\\\n",
    "    .rename_axis('Species', axis='index')\n",
    "df_Pierre_species = list(df_Pierre.index)"
   ]
  },
  {
   "attachments": {},
   "cell_type": "markdown",
   "metadata": {},
   "source": [
    "### Trait Dicts"
   ]
  },
  {
   "cell_type": "code",
   "execution_count": 4,
   "metadata": {},
   "outputs": [],
   "source": [
    "folder_traits = \"../../../data/OpenAI/Traits/\"\n",
    "\n",
    "with open(F\"{folder_traits}Andrei.json\", 'r') as f:\n",
    "  caribbean_traits_dict = json.load(f)"
   ]
  },
  {
   "attachments": {},
   "cell_type": "markdown",
   "metadata": {},
   "source": [
    "### Text Data"
   ]
  },
  {
   "cell_type": "code",
   "execution_count": 5,
   "metadata": {},
   "outputs": [],
   "source": [
    "paragraph_folder = \"../../../data/OpenAI/DescriptionSnippets/Paragraphs/\"\n",
    "sentence_folder = \"../../../data/OpenAI/DescriptionSnippets/Sentences/\"\n",
    "\n",
    "caribbean_jsons_paras = glob.glob(F\"{paragraph_folder}c*\")\n",
    "caribbean_jsons_sents = glob.glob(F\"{sentence_folder}c*\")\n",
    "\n",
    "caribbean_jsons_paras.sort()\n",
    "caribbean_jsons_sents.sort()"
   ]
  },
  {
   "attachments": {},
   "cell_type": "markdown",
   "metadata": {},
   "source": [
    "### Single Species Testing"
   ]
  },
  {
   "cell_type": "code",
   "execution_count": 6,
   "metadata": {},
   "outputs": [],
   "source": [
    "with open(caribbean_jsons_paras[22], 'r') as f:\n",
    "  caribbean_species_para_test = json.load(f)\n",
    "\n",
    "with open(caribbean_jsons_sents[22], 'r') as f:\n",
    "  caribbean_species_sent_test = json.load(f)"
   ]
  },
  {
   "cell_type": "code",
   "execution_count": 7,
   "metadata": {},
   "outputs": [
    {
     "name": "stdout",
     "output_type": "stream",
     "text": [
      "Hippomane mancinella\n"
     ]
    }
   ],
   "source": [
    "species = list(caribbean_species_sent_test.keys())[0]\n",
    "print(species)"
   ]
  },
  {
   "cell_type": "code",
   "execution_count": 8,
   "metadata": {},
   "outputs": [
    {
     "data": {
      "text/plain": [
       "True"
      ]
     },
     "execution_count": 8,
     "metadata": {},
     "output_type": "execute_result"
    }
   ],
   "source": [
    "text_sent = ' '.join(caribbean_species_sent_test[species])\n",
    "text_paras = ' '.join(caribbean_species_para_test[species])\n",
    "\n",
    "text_paras == text_sent"
   ]
  },
  {
   "attachments": {},
   "cell_type": "markdown",
   "metadata": {},
   "source": [
    "### Prompting per Trait"
   ]
  },
  {
   "cell_type": "code",
   "execution_count": 9,
   "metadata": {},
   "outputs": [],
   "source": [
    "def create_prompt(paragraph, traits, question):\n",
    "\n",
    "    prompt = F\"\"\"\n",
    "    Text:\n",
    "    {paragraph}\n",
    "\n",
    "    Trait with possible options:\n",
    "    {traits}\n",
    "\n",
    "    {question}\n",
    "    \"\"\"\n",
    "\n",
    "    return prompt\n",
    "\n",
    "def combine_words_with_capital(string):\n",
    "    # remove non-alphanumeric characters\n",
    "    string = re.sub(r'[^\\w\\s]', '', string)  \n",
    "    # combine words with capitalization\n",
    "    string = ''.join(word.capitalize() for word in string.split())  \n",
    "    return string\n",
    "\n",
    "\n",
    "def query_ChatGPT(prompt):\n",
    "    messages = [\n",
    "    {\"role\": \"user\", \"content\": prompt}\n",
    "    ]\n",
    "\n",
    "    # Generate a response\n",
    "    completion = openai.ChatCompletion.create(\n",
    "        model=\"gpt-3.5-turbo\",\n",
    "        messages=messages,\n",
    "    )\n",
    "\n",
    "    return completion"
   ]
  },
  {
   "cell_type": "code",
   "execution_count": 10,
   "metadata": {},
   "outputs": [
    {
     "data": {
      "text/plain": [
       "{'Life form': ['liana', 'tree'],\n",
       " 'Leaf position': ['alternate',\n",
       "  'alternate, opposite',\n",
       "  'opposite',\n",
       "  'opposite, whorls of 3',\n",
       "  'opposite, whorls of 3, alternate'],\n",
       " 'Leaf composition': ['3 palmate',\n",
       "  '3-5 palmate',\n",
       "  '3-5 pinnate',\n",
       "  '3-5 pinnate, entire',\n",
       "  '5-11 pinnate',\n",
       "  '5-9 pinnate',\n",
       "  'bi-pinnate, 2 leaflets per jug',\n",
       "  'bi-pinnate, 20-40 leaflets per jug',\n",
       "  'bi-pinnate, 30-32 leaflets per jug',\n",
       "  'entire',\n",
       "  'pinnate, 4-6 leaflets',\n",
       "  'pinnate, 6-8 leaflets']}"
      ]
     },
     "execution_count": 10,
     "metadata": {},
     "output_type": "execute_result"
    }
   ],
   "source": [
    "caribbean_traits_dict = {k: caribbean_traits_dict[k][0:] for k in list(caribbean_traits_dict)[:3]}\n",
    "caribbean_traits_dict"
   ]
  },
  {
   "cell_type": "code",
   "execution_count": 39,
   "metadata": {},
   "outputs": [
    {
     "name": "stderr",
     "output_type": "stream",
     "text": [
      "100%|██████████| 3/3 [00:08<00:00,  2.86s/it]\n"
     ]
    }
   ],
   "source": [
    "folder_prompts = \"../../../data/OpenAI/PromptsResults/\"\n",
    "folder_species = species.replace(' ', '_')\n",
    "\n",
    "\n",
    "# For spss in species:\n",
    "\n",
    "try:\n",
    "    os.makedirs(F\"{folder_prompts}{folder_species}\")\n",
    "except FileExistsError:\n",
    "    # directory already exists\n",
    "    pass\n",
    "\n",
    "for trait, trait_options in tqdm(caribbean_traits_dict.items()):\n",
    "\n",
    "    ### PROMPT ###\n",
    "    \n",
    "    # Question\n",
    "    question = F\"Which of the following values correctly describe(s) the 'Leaf composition' trait mentioned in the text? Please select all that apply.\"\n",
    "    \n",
    "    # List Options\n",
    "    # options = \"\\n\".join([F\"\\t- {s}\" for s in trait_options])\n",
    "    # options += \"\\n\\t- Nothing mentioned\\n\\t- Something else: \"\n",
    "    options = trait_options + [\"None of the above\", \"Someting else (please specify)\"]\n",
    "\n",
    "    # Text\n",
    "    text = text_paras\n",
    "\n",
    "    question = F\"Question: {question}  \\n\\nValues: {options}\"\n",
    "    ### PROMPT ###\n",
    "\n",
    "    messages = [\n",
    "        {\"role\": \"assistant\", \"content\": text},\n",
    "        {\"role\": \"user\", \"content\": question}\n",
    "    ]\n",
    "\n",
    "    # Generate a response\n",
    "    completion = openai.ChatCompletion.create(\n",
    "        model = \"gpt-3.5-turbo\",\n",
    "        messages = messages,\n",
    "    )\n",
    "\n",
    "    file_name = combine_words_with_capital(trait)\n",
    "    with open(F\"{folder_prompts}{folder_species}/{file_name}.json\", 'w') as fp:\n",
    "        json.dump(completion, fp)"
   ]
  },
  {
   "cell_type": "code",
   "execution_count": 38,
   "metadata": {},
   "outputs": [
    {
     "name": "stdout",
     "output_type": "stream",
     "text": [
      "Spikes of small greenish flowers are followed by fruits, which are similar in appearance to an apple, are green or greenish-yellow when ripe. The manchineel is a handsome round-crowned tree that grows up to 12 metres (40 feet) in height with a 60-cm- (2-foot-) thick trunk. It has long-stalked, lustrous, leathery, elliptic yellow-green leaves. The sweet-scented fruits are borne singly or in pairs and range in colour from yellow to reddish. The fruit contains a hard stone that encloses six to nine seeds. A flowering, evergreen, and a round-crowned tree that can reach up to 50 feet in height , the Manchineel has a reddish-grey bark and a trunk that can be around two feet in diameter. It has long-stalked, shiny, and elliptical leaves that are yellow-green in colour and about 10 centimetres in length. The leaves are simple, alternately arranged, and have serrated edges. The fruit of the Manchineel resemble apples and are green or greenish-yellow when ripe. The hard stone inside the fruit contains six to nine seeds. Hippomane mancinella grows up to 15 metres (49 feet) tall. It has reddish-grayish bark, small greenish-yellow flowers, and shiny green leaves. The leaves are simple, alternate, very finely serrated or toothed, and 5–10 centimetres (2–4 inches) long.[7] The tree is up to 15m (50 feet) tall, with lush leaves. ”1 Manchineel is usually a tall shrub, but it can reach heights of up to 50 feet. The leaves are simple, alternate, very finely serrated or toothed, and 2–4 inches long. Each leaf has a small gland where the leaf joins the stem. The bark is reddish-to-grayish brown and deeply furrowed or cracked looking. Flowers are yellow green and inconspicuous, but the spikes or leafless stems that the flowers emerge from are visible. The fruit is a bright-green pome that looks distinctly like an apple; however, it is only 1–2 inches in diameter and turns greenish yellow when ripe. General InformationMancenillier is a glabrous, deciduous or evergreen tree with spreading branches and a rounded crown[331TitleFlora of Guatemala Publication AuthorStandley P.C. & J. A. Steyermark Websitehttp://www.archive.org/ Properties Medicinal Rating Other Uses Rating HabitSemi-deciduous Tree Height12.00 m PollinatorsBees Cultivation StatusWild Cultivation DetailsA tree of lowland tropical areas. The leaves of the manicheel are small, round and green but bisected by a yellow vein. Taxonomy and Nomenclature Kingdom: Plantae Taxonomic Rank: Species Synonym(s): Common Name(s): manchineel [English] Taxonomic Status: Current Standing: accepted Data Quality Indicators: Record Credibility Rating: verified - standards met Taxonomic Hierarchy KingdomPlantae – plantes, Planta, Vegetal, plants SubkingdomViridiplantae – green plants InfrakingdomStreptophyta – land plants SuperdivisionEmbryophyta DivisionTracheophyta – vascular plants, tracheophytes SubdivisionSpermatophytina – spermatophytes, seed plants, phanérogames ClassMagnoliopsida SuperorderRosanae OrderMalpighiales FamilyEuphorbiaceae – spurge, euphorbes GenusHippomane L. SpeciesHippomane mancinella L. – manchineel The leaves of the manicheel are small, round and green but bisected by a yellow vein. \n",
      " Question: Which of the following values correctly describe(s) the 'Leaf composition' trait mentioned in the text? Please select all that apply.  \n",
      "\n",
      "Values: ['3 palmate', '3-5 palmate', '3-5 pinnate', '3-5 pinnate, entire', '5-11 pinnate', '5-9 pinnate', 'bi-pinnate, 2 leaflets per jug', 'bi-pinnate, 20-40 leaflets per jug', 'bi-pinnate, 30-32 leaflets per jug', 'entire', 'pinnate, 4-6 leaflets', 'pinnate, 6-8 leaflets', 'None of the above', 'Someting else (please specify)']\n"
     ]
    }
   ],
   "source": [
    "print(text, '\\n', question)"
   ]
  },
  {
   "cell_type": "code",
   "execution_count": null,
   "metadata": {},
   "outputs": [],
   "source": []
  }
 ],
 "metadata": {
  "kernelspec": {
   "display_name": "deeplearning",
   "language": "python",
   "name": "deeplearning"
  },
  "language_info": {
   "codemirror_mode": {
    "name": "ipython",
    "version": 3
   },
   "file_extension": ".py",
   "mimetype": "text/x-python",
   "name": "python",
   "nbconvert_exporter": "python",
   "pygments_lexer": "ipython3",
   "version": "3.10.4"
  },
  "orig_nbformat": 4,
  "vscode": {
   "interpreter": {
    "hash": "51432b8e5767c06330d9b51dfad63f9db0ea39868e37d921b9c2e277373f8d11"
   }
  }
 },
 "nbformat": 4,
 "nbformat_minor": 2
}
