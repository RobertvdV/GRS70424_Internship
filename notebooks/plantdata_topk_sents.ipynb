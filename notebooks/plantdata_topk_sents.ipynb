{
 "cells": [
  {
   "cell_type": "code",
   "execution_count": 1,
   "metadata": {},
   "outputs": [
    {
     "name": "stderr",
     "output_type": "stream",
     "text": [
      "[nltk_data] Downloading package stopwords to\n",
      "[nltk_data]     /Users/robertvandevlasakker/nltk_data...\n",
      "[nltk_data]   Unzipping corpora/stopwords.zip.\n"
     ]
    }
   ],
   "source": [
    "import numpy as np\n",
    "import pandas as pd\n",
    "from sklearn import preprocessing\n",
    "import matplotlib.pyplot as plt\n",
    "import seaborn as sns\n",
    "from tqdm import tqdm\n",
    "from matplotlib import pyplot as plt\n",
    "from sklearn import metrics\n",
    "import json\n",
    "import nltk\n",
    "from nltk.stem.porter import PorterStemmer\n",
    "nltk.download('stopwords')\n",
    "from nltk.corpus import stopwords\n",
    "import collections\n",
    "import pickle\n",
    "import re"
   ]
  },
  {
   "attachments": {},
   "cell_type": "markdown",
   "metadata": {},
   "source": [
    "### Load the Data"
   ]
  },
  {
   "cell_type": "code",
   "execution_count": 4,
   "metadata": {},
   "outputs": [],
   "source": [
    "root = \"../data/external/\"\n",
    "\n",
    "# Data Pierre\n",
    "file_name = root + 'Dataset_Pierre.csv'\n",
    "df_Pierre = pd.read_csv(file_name, header=[0, 1]) \n",
    "df_Pierre = df_Pierre.iloc[: , 1:]\n",
    "\n",
    "# Data Andrei\n",
    "file_name = root + 'Dataset_Andrei.csv'\n",
    "df_Andrei = pd.read_csv(file_name)\n",
    "\n",
    "# Data Palms\n",
    "file_name = root + 'Dataset_Kissling.txt'\n",
    "df_Daniel = pd.read_csv(file_name,\n",
    "                 sep='\\t', encoding='Latin-1')\n",
    "palm_species = df_Daniel[~df_Daniel.isnull().any(axis=1)]['SpecName'].values\n",
    "df_Daniel.set_index('SpecName', inplace=True)\n",
    "\n",
    "# # Values Pierre\n",
    "# print('Pierre')\n",
    "# print(df_Pierre.columns.get_level_values(0).unique())\n",
    "\n",
    "# # Values df_Andrei\n",
    "# print('Andrei')\n",
    "# print(df_Andrei.columns.unique())\n",
    "\n",
    "# # Values df_Andrei\n",
    "# print('Daniel')\n",
    "# print(df_Daniel.columns.unique())"
   ]
  },
  {
   "attachments": {},
   "cell_type": "markdown",
   "metadata": {},
   "source": [
    "### Part of Pierre"
   ]
  },
  {
   "cell_type": "code",
   "execution_count": null,
   "metadata": {},
   "outputs": [],
   "source": []
  }
 ],
 "metadata": {
  "kernelspec": {
   "display_name": "deeplearning",
   "language": "python",
   "name": "deeplearning"
  },
  "language_info": {
   "codemirror_mode": {
    "name": "ipython",
    "version": 3
   },
   "file_extension": ".py",
   "mimetype": "text/x-python",
   "name": "python",
   "nbconvert_exporter": "python",
   "pygments_lexer": "ipython3",
   "version": "3.10.4"
  },
  "orig_nbformat": 4,
  "vscode": {
   "interpreter": {
    "hash": "aee8b7b246df8f9039afb4144a1f6fd8d2ca17a180786b69acc140d282b71a49"
   }
  }
 },
 "nbformat": 4,
 "nbformat_minor": 2
}
